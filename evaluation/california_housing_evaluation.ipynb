{
 "cells": [
  {
   "cell_type": "markdown",
   "metadata": {},
   "source": [
    "## 回归任务"
   ]
  },
  {
   "cell_type": "code",
   "execution_count": 6,
   "metadata": {},
   "outputs": [
    {
     "name": "stdout",
     "output_type": "stream",
     "text": [
      "   MedInc  HouseAge  AveRooms  AveBedrms  Population  AveOccup  Latitude  \\\n",
      "0  5.0677      17.0  6.600000   1.000000      2516.0  2.888889     38.01   \n",
      "1  3.4286      37.0  4.754902   0.926471      1894.0  5.423585     34.03   \n",
      "2  2.9952      37.0  4.638298   1.000000       945.0  3.555556     37.68   \n",
      "3  6.3767      15.0  5.791789   0.983051      1226.0  2.634154     38.66   \n",
      "4  5.3922      34.0  6.326802   1.009317      1768.0  3.067227     34.18   \n",
      "\n",
      "   Longitude  MedHouseVal  \n",
      "0    -122.05        2.242  \n",
      "1    -117.99        1.000  \n",
      "2    -122.08        1.673  \n",
      "3    -121.32        2.152  \n",
      "4    -118.53        2.294  \n",
      "Linear Regression Mean Squared Error: 0.44341700605230205\n",
      "Decision Tree Regressor Mean Squared Error: 0.41105640279768574\n",
      "Random Forest Regressor Mean Squared Error: 0.3155822233855113\n"
     ]
    }
   ],
   "source": [
    "import pandas as pd\n",
    "from sklearn.model_selection import train_test_split\n",
    "from sklearn.preprocessing import LabelEncoder\n",
    "from sklearn.linear_model import LinearRegression\n",
    "from sklearn.tree import DecisionTreeRegressor\n",
    "from sklearn.ensemble import RandomForestRegressor\n",
    "from sklearn.metrics import mean_squared_error\n",
    "from sklearn import datasets\n",
    "from sklearn.model_selection import cross_val_score\n",
    "\n",
    "# Assuming the data is provided in the format given in the prompt\n",
    "data = pd.read_csv('C:/Users/Windows 11/Desktop/Dissertation/Codes/sample_data/california_samples.csv')\n",
    "\n",
    "# data = datasets.fetch_california_housing(as_frame=True).frame\n",
    "# Display the first few rows of the dataset to understand its structure\n",
    "print(data.head())\n",
    "\n",
    "# Separate features and target\n",
    "X = data.drop('MedHouseVal', axis=1)\n",
    "y = data['MedHouseVal']\n",
    "\n",
    "X_train, X_test, y_train, y_test = train_test_split(X, y, test_size=0.2, random_state=42)\n",
    "\n",
    "# Linear Regression\n",
    "lr_model = LinearRegression()\n",
    "lr_model.fit(X_train, y_train)\n",
    "lr_predictions = lr_model.predict(X_test)\n",
    "lr_mse = mean_squared_error(y_test, lr_predictions)\n",
    "print(f'Linear Regression Mean Squared Error: {lr_mse}')\n",
    "\n",
    "# Decision Tree Regressor\n",
    "dt_model = DecisionTreeRegressor(max_depth=10)\n",
    "dt_model.fit(X_train, y_train)\n",
    "dt_predictions = dt_model.predict(X_test)\n",
    "dt_mse = mean_squared_error(y_test, dt_predictions)\n",
    "print(f'Decision Tree Regressor Mean Squared Error: {dt_mse}')\n",
    "\n",
    "# Random Forest Regressor\n",
    "rf_model = RandomForestRegressor(max_depth=12, n_estimators=85)\n",
    "rf_model.fit(X_train, y_train)\n",
    "rf_predictions = rf_model.predict(X_test)\n",
    "rf_mse = mean_squared_error(y_test, rf_predictions)\n",
    "print(f'Random Forest Regressor Mean Squared Error: {rf_mse}')\n"
   ]
  },
  {
   "cell_type": "code",
   "execution_count": 9,
   "metadata": {},
   "outputs": [
    {
     "name": "stdout",
     "output_type": "stream",
     "text": [
      "   MedInc  HouseAge  AveRooms  AveBedrms  Population  AveOccup  Latitude  \\\n",
      "0  5.0677      17.0  6.600000   1.000000      2516.0  2.888889     38.01   \n",
      "1  3.4286      37.0  4.754902   0.926471      1894.0  5.423585     34.03   \n",
      "2  2.9952      37.0  4.638298   1.000000       945.0  3.555556     37.68   \n",
      "3  6.3767      15.0  5.791789   0.983051      1226.0  2.634154     38.66   \n",
      "4  5.3922      34.0  6.326802   1.009317      1768.0  3.067227     34.18   \n",
      "\n",
      "   Longitude  MedHouseVal  \n",
      "0    -122.05        2.242  \n",
      "1    -117.99        1.000  \n",
      "2    -122.08        1.673  \n",
      "3    -121.32        2.152  \n",
      "4    -118.53        2.294  \n",
      "Random Forest Regressor Cross-Validated Mean Squared Error: 0.4389376605832971\n",
      "Random Forest Regressor Cross-Validated Mean Squared Error: 0.42009549376914024\n",
      "Random Forest Regressor Cross-Validated Mean Squared Error: 0.309141698608414\n"
     ]
    }
   ],
   "source": [
    "import pandas as pd\n",
    "from sklearn.model_selection import train_test_split\n",
    "from sklearn.preprocessing import LabelEncoder\n",
    "from sklearn.linear_model import LinearRegression\n",
    "from sklearn.tree import DecisionTreeRegressor\n",
    "from sklearn.ensemble import RandomForestRegressor\n",
    "from sklearn.metrics import mean_squared_error\n",
    "from sklearn import datasets\n",
    "from sklearn.model_selection import cross_val_score\n",
    "\n",
    "# Assuming the data is provided in the format given in the prompt\n",
    "data = pd.read_csv('C:/Users/Windows 11/Desktop/Dissertation/Codes/sample_data/california_samples.csv')\n",
    "\n",
    "# data = datasets.fetch_california_housing(as_frame=True).frame\n",
    "# Display the first few rows of the dataset to understand its structure\n",
    "print(data.head())\n",
    "\n",
    "# Separate features and target\n",
    "X = data.drop('MedHouseVal', axis=1)\n",
    "y = data['MedHouseVal']\n",
    "\n",
    "X_train, X_test, y_train, y_test = train_test_split(X, y, test_size=0.2, random_state=42)\n",
    "\n",
    "# Linear Regression\n",
    "lr_model = LinearRegression()\n",
    "# lr_model.fit(X_train, y_train)\n",
    "# lr_predictions = lr_model.predict(X_test)\n",
    "# lr_mse = mean_squared_error(y_test, lr_predictions)\n",
    "# print(f'Linear Regression Mean Squared Error: {lr_mse}')\n",
    "cross_val_scores = cross_val_score(lr_model, X, y, cv=5, scoring='neg_mean_squared_error')\n",
    "print(f'Random Forest Regressor Cross-Validated Mean Squared Error: {-cross_val_scores.mean()}')\n",
    "\n",
    "# Decision Tree Regressor\n",
    "dt_model = DecisionTreeRegressor(max_depth=10)\n",
    "# dt_model.fit(X_train, y_train)\n",
    "# dt_predictions = dt_model.predict(X_test)\n",
    "# dt_mse = mean_squared_error(y_test, dt_predictions)\n",
    "# print(f'Decision Tree Regressor Mean Squared Error: {dt_mse}')\n",
    "cross_val_scores = cross_val_score(dt_model, X, y, cv=5, scoring='neg_mean_squared_error')\n",
    "print(f'Random Forest Regressor Cross-Validated Mean Squared Error: {-cross_val_scores.mean()}')\n",
    "# Random Forest Regressor\n",
    "rf_model = RandomForestRegressor(max_depth=12, n_estimators=85)\n",
    "# rf_model.fit(X_train, y_train)\n",
    "# rf_predictions = rf_model.predict(X_test)\n",
    "# rf_mse = mean_squared_error(y_test, rf_predictions)\n",
    "# print(f'Random Forest Regressor Mean Squared Error: {rf_mse}')\n",
    "cross_val_scores = cross_val_score(rf_model, X, y, cv=5, scoring='neg_mean_squared_error')\n",
    "print(f'Random Forest Regressor Cross-Validated Mean Squared Error: {-cross_val_scores.mean()}')\n"
   ]
  }
 ],
 "metadata": {
  "kernelspec": {
   "display_name": "Python 3 (ipykernel)",
   "language": "python",
   "name": "python3"
  },
  "language_info": {
   "codemirror_mode": {
    "name": "ipython",
    "version": 3
   },
   "file_extension": ".py",
   "mimetype": "text/x-python",
   "name": "python",
   "nbconvert_exporter": "python",
   "pygments_lexer": "ipython3",
   "version": "3.11.7"
  }
 },
 "nbformat": 4,
 "nbformat_minor": 4
}
