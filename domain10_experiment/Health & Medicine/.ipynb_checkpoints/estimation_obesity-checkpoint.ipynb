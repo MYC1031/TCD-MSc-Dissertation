{
 "cells": [
  {
   "cell_type": "markdown",
   "id": "245418c1",
   "metadata": {},
   "source": [
    "## GReaT Example with Iris Dataset"
   ]
  },
  {
   "cell_type": "code",
   "execution_count": 1,
   "id": "ab1f4da7-4b93-4055-8d56-6030c7498999",
   "metadata": {},
   "outputs": [],
   "source": [
    "# Execute only once!\n",
    "import os\n",
    "import sys\n",
    "sys.path.append(\"..\")\n",
    "os.chdir(\"..\")\n",
    "\n",
    "os.environ[\"CUDA_VISIBLE_DEVICES\"]=\"0\""
   ]
  },
  {
   "cell_type": "code",
   "execution_count": 2,
   "id": "b5009b62",
   "metadata": {},
   "outputs": [],
   "source": [
    "import numpy as np\n",
    "import pandas as pd\n",
    "import logging"
   ]
  },
  {
   "cell_type": "code",
   "execution_count": 3,
   "id": "71836c07-2530-44af-9b4b-cf72aff34426",
   "metadata": {},
   "outputs": [
    {
     "name": "stderr",
     "output_type": "stream",
     "text": [
      "/data/guoquanjiang/envs/begreat/lib/python3.9/site-packages/tqdm/auto.py:21: TqdmWarning: IProgress not found. Please update jupyter and ipywidgets. See https://ipywidgets.readthedocs.io/en/stable/user_install.html\n",
      "  from .autonotebook import tqdm as notebook_tqdm\n"
     ]
    }
   ],
   "source": [
    "from examples.utils import set_logging_level\n",
    "from be_great import GReaT"
   ]
  },
  {
   "cell_type": "code",
   "execution_count": 4,
   "id": "00695066",
   "metadata": {},
   "outputs": [],
   "source": [
    "import matplotlib.pyplot as plt"
   ]
  },
  {
   "cell_type": "code",
   "execution_count": 5,
   "id": "39088828",
   "metadata": {},
   "outputs": [
    {
     "data": {
      "text/html": [
       "<div>\n",
       "<style scoped>\n",
       "    .dataframe tbody tr th:only-of-type {\n",
       "        vertical-align: middle;\n",
       "    }\n",
       "\n",
       "    .dataframe tbody tr th {\n",
       "        vertical-align: top;\n",
       "    }\n",
       "\n",
       "    .dataframe thead th {\n",
       "        text-align: right;\n",
       "    }\n",
       "</style>\n",
       "<table border=\"1\" class=\"dataframe\">\n",
       "  <thead>\n",
       "    <tr style=\"text-align: right;\">\n",
       "      <th></th>\n",
       "      <th>Gender</th>\n",
       "      <th>Age</th>\n",
       "      <th>Height</th>\n",
       "      <th>Weight</th>\n",
       "      <th>family_history_with_overweight</th>\n",
       "      <th>FAVC</th>\n",
       "      <th>FCVC</th>\n",
       "      <th>NCP</th>\n",
       "      <th>CAEC</th>\n",
       "      <th>SMOKE</th>\n",
       "      <th>CH2O</th>\n",
       "      <th>SCC</th>\n",
       "      <th>FAF</th>\n",
       "      <th>TUE</th>\n",
       "      <th>CALC</th>\n",
       "      <th>MTRANS</th>\n",
       "      <th>NObeyesdad</th>\n",
       "    </tr>\n",
       "  </thead>\n",
       "  <tbody>\n",
       "    <tr>\n",
       "      <th>318</th>\n",
       "      <td>Female</td>\n",
       "      <td>25.000000</td>\n",
       "      <td>1.560000</td>\n",
       "      <td>45.000000</td>\n",
       "      <td>no</td>\n",
       "      <td>yes</td>\n",
       "      <td>2.000000</td>\n",
       "      <td>3.000000</td>\n",
       "      <td>Sometimes</td>\n",
       "      <td>no</td>\n",
       "      <td>1.000000</td>\n",
       "      <td>no</td>\n",
       "      <td>0.000000</td>\n",
       "      <td>0.000000</td>\n",
       "      <td>Sometimes</td>\n",
       "      <td>Public_Transportation</td>\n",
       "      <td>Normal_Weight</td>\n",
       "    </tr>\n",
       "    <tr>\n",
       "      <th>1680</th>\n",
       "      <td>Male</td>\n",
       "      <td>30.976932</td>\n",
       "      <td>1.755333</td>\n",
       "      <td>118.237782</td>\n",
       "      <td>yes</td>\n",
       "      <td>yes</td>\n",
       "      <td>2.938616</td>\n",
       "      <td>3.000000</td>\n",
       "      <td>Sometimes</td>\n",
       "      <td>no</td>\n",
       "      <td>2.060390</td>\n",
       "      <td>no</td>\n",
       "      <td>0.371508</td>\n",
       "      <td>1.333559</td>\n",
       "      <td>Sometimes</td>\n",
       "      <td>Automobile</td>\n",
       "      <td>Obesity_Type_II</td>\n",
       "    </tr>\n",
       "    <tr>\n",
       "      <th>503</th>\n",
       "      <td>Female</td>\n",
       "      <td>18.306615</td>\n",
       "      <td>1.745600</td>\n",
       "      <td>133.034410</td>\n",
       "      <td>yes</td>\n",
       "      <td>yes</td>\n",
       "      <td>3.000000</td>\n",
       "      <td>3.000000</td>\n",
       "      <td>Sometimes</td>\n",
       "      <td>no</td>\n",
       "      <td>2.984323</td>\n",
       "      <td>no</td>\n",
       "      <td>1.586525</td>\n",
       "      <td>0.625350</td>\n",
       "      <td>Sometimes</td>\n",
       "      <td>Public_Transportation</td>\n",
       "      <td>Obesity_Type_III</td>\n",
       "    </tr>\n",
       "    <tr>\n",
       "      <th>585</th>\n",
       "      <td>Female</td>\n",
       "      <td>17.402028</td>\n",
       "      <td>1.710756</td>\n",
       "      <td>50.000000</td>\n",
       "      <td>no</td>\n",
       "      <td>yes</td>\n",
       "      <td>2.015258</td>\n",
       "      <td>3.300666</td>\n",
       "      <td>Sometimes</td>\n",
       "      <td>no</td>\n",
       "      <td>1.315608</td>\n",
       "      <td>no</td>\n",
       "      <td>0.069802</td>\n",
       "      <td>1.000000</td>\n",
       "      <td>Sometimes</td>\n",
       "      <td>Public_Transportation</td>\n",
       "      <td>Insufficient_Weight</td>\n",
       "    </tr>\n",
       "    <tr>\n",
       "      <th>339</th>\n",
       "      <td>Female</td>\n",
       "      <td>19.000000</td>\n",
       "      <td>1.530000</td>\n",
       "      <td>42.000000</td>\n",
       "      <td>no</td>\n",
       "      <td>no</td>\n",
       "      <td>2.000000</td>\n",
       "      <td>3.000000</td>\n",
       "      <td>Sometimes</td>\n",
       "      <td>no</td>\n",
       "      <td>1.000000</td>\n",
       "      <td>yes</td>\n",
       "      <td>2.000000</td>\n",
       "      <td>0.000000</td>\n",
       "      <td>Frequently</td>\n",
       "      <td>Public_Transportation</td>\n",
       "      <td>Insufficient_Weight</td>\n",
       "    </tr>\n",
       "  </tbody>\n",
       "</table>\n",
       "</div>"
      ],
      "text/plain": [
       "      Gender        Age    Height      Weight family_history_with_overweight  \\\n",
       "318   Female  25.000000  1.560000   45.000000                             no   \n",
       "1680    Male  30.976932  1.755333  118.237782                            yes   \n",
       "503   Female  18.306615  1.745600  133.034410                            yes   \n",
       "585   Female  17.402028  1.710756   50.000000                             no   \n",
       "339   Female  19.000000  1.530000   42.000000                             no   \n",
       "\n",
       "     FAVC      FCVC       NCP       CAEC SMOKE      CH2O  SCC       FAF  \\\n",
       "318   yes  2.000000  3.000000  Sometimes    no  1.000000   no  0.000000   \n",
       "1680  yes  2.938616  3.000000  Sometimes    no  2.060390   no  0.371508   \n",
       "503   yes  3.000000  3.000000  Sometimes    no  2.984323   no  1.586525   \n",
       "585   yes  2.015258  3.300666  Sometimes    no  1.315608   no  0.069802   \n",
       "339    no  2.000000  3.000000  Sometimes    no  1.000000  yes  2.000000   \n",
       "\n",
       "           TUE        CALC                 MTRANS           NObeyesdad  \n",
       "318   0.000000   Sometimes  Public_Transportation        Normal_Weight  \n",
       "1680  1.333559   Sometimes             Automobile      Obesity_Type_II  \n",
       "503   0.625350   Sometimes  Public_Transportation     Obesity_Type_III  \n",
       "585   1.000000   Sometimes  Public_Transportation  Insufficient_Weight  \n",
       "339   0.000000  Frequently  Public_Transportation  Insufficient_Weight  "
      ]
     },
     "execution_count": 5,
     "metadata": {},
     "output_type": "execute_result"
    }
   ],
   "source": [
    "logger = set_logging_level(logging.INFO)\n",
    "data = pd.read_csv('C:/Users/Windows 11/Desktop/Dissertation/Codes/Data/Health & Medicine/Estimation of Obesity Levels Based On Eating Habits and Physical Condition.csv')\n",
    "data=data.sample(n=1000)\n",
    "data.head()"
   ]
  },
  {
   "cell_type": "markdown",
   "id": "5911b9b1",
   "metadata": {},
   "source": [
    "### Create GReaT Model"
   ]
  },
  {
   "cell_type": "code",
   "execution_count": 6,
   "id": "1a316696",
   "metadata": {},
   "outputs": [],
   "source": [
    "# great = GReaT(\"/data/guoquanjiang/llm_ner/llama3-8b/LLM-Research/Meta-Llama-3-8B\",                  # Name of the large language model used (see HuggingFace for more options)\n",
    "#               epochs=10,                   # Number of epochs to train\n",
    "#               save_steps=2000,               # Save model weights every x steps\n",
    "#               logging_steps=500,             # Log the loss and learning rate every x steps\n",
    "#               experiment_dir=\"trainer_travel\", # Name of the directory where all intermediate steps are saved\n",
    "#               batch_size=16,                 # Batch Size\n",
    "#               #lr_scheduler_type=\"constant\", # Specify the learning rate scheduler \n",
    "#               #learning_rate=5e-5            # Set the inital learning rate\n",
    "#               efficient_finetuning=\"lora\"\n",
    "#              )\n",
    "great = GReaT(\"C:/Users/Windows 11/Desktop/Dissertation/Codes/models/iiBcai/gpt2\",                  # Name of the large language model used (see HuggingFace for more options)\n",
    "              epochs=10,                   # Number of epochs to train\n",
    "              save_steps=2000,               # Save model weights every x steps\n",
    "              logging_steps=100,             # Log the loss and learning rate every x steps\n",
    "              experiment_dir=\"trainer_obesity\", # Name of the directory where all intermediate steps are saved\n",
    "              batch_size=16                # Batch Size\n",
    "              #lr_scheduler_type=\"constant\", # Specify the learning rate scheduler \n",
    "              #learning_rate=5e-5            # Set the inital learning rate\n",
    "            #   efficient_finetuning=\"lora\"\n",
    "             )"
   ]
  },
  {
   "cell_type": "markdown",
   "id": "3c7b173f",
   "metadata": {},
   "source": [
    "### Start Training"
   ]
  },
  {
   "cell_type": "code",
   "execution_count": 7,
   "id": "200e000c",
   "metadata": {
    "scrolled": true
   },
   "outputs": [
    {
     "name": "stderr",
     "output_type": "stream",
     "text": [
      "\u001b[39;20m2024-06-30 14:15:52,734 - INFO - Convert data into HuggingFace dataset object... (great.py:167)\u001b[0m\n",
      "\u001b[39;20m2024-06-30 14:15:52,754 - INFO - Create GReaT Trainer... (great.py:172)\u001b[0m\n",
      "\u001b[39;20m2024-06-30 14:15:53,356 - INFO - Start training... (great.py:188)\u001b[0m\n",
      "You're using a GPT2TokenizerFast tokenizer. Please note that with a fast tokenizer, using the `__call__` method is faster than using a method to encode the text followed by a call to the `pad` method to get a padded encoding.\n"
     ]
    },
    {
     "data": {
      "text/html": [
       "\n",
       "    <div>\n",
       "      \n",
       "      <progress value='630' max='630' style='width:300px; height:20px; vertical-align: middle;'></progress>\n",
       "      [630/630 03:14, Epoch 10/10]\n",
       "    </div>\n",
       "    <table border=\"1\" class=\"dataframe\">\n",
       "  <thead>\n",
       " <tr style=\"text-align: left;\">\n",
       "      <th>Step</th>\n",
       "      <th>Training Loss</th>\n",
       "    </tr>\n",
       "  </thead>\n",
       "  <tbody>\n",
       "    <tr>\n",
       "      <td>100</td>\n",
       "      <td>1.378800</td>\n",
       "    </tr>\n",
       "    <tr>\n",
       "      <td>200</td>\n",
       "      <td>1.017100</td>\n",
       "    </tr>\n",
       "    <tr>\n",
       "      <td>300</td>\n",
       "      <td>0.973800</td>\n",
       "    </tr>\n",
       "    <tr>\n",
       "      <td>400</td>\n",
       "      <td>0.956800</td>\n",
       "    </tr>\n",
       "    <tr>\n",
       "      <td>500</td>\n",
       "      <td>0.945400</td>\n",
       "    </tr>\n",
       "    <tr>\n",
       "      <td>600</td>\n",
       "      <td>0.934100</td>\n",
       "    </tr>\n",
       "  </tbody>\n",
       "</table><p>"
      ],
      "text/plain": [
       "<IPython.core.display.HTML object>"
      ]
     },
     "metadata": {},
     "output_type": "display_data"
    }
   ],
   "source": [
    "trainer = great.fit(data)"
   ]
  },
  {
   "cell_type": "code",
   "execution_count": 8,
   "id": "cfe8184d",
   "metadata": {},
   "outputs": [
    {
     "data": {
      "text/plain": [
       "{'train_runtime': 195.6278,\n",
       " 'train_samples_per_second': 51.117,\n",
       " 'train_steps_per_second': 3.22,\n",
       " 'total_flos': 706880683008000.0,\n",
       " 'train_loss': 1.0295079488602896,\n",
       " 'epoch': 10.0,\n",
       " 'step': 630}"
      ]
     },
     "execution_count": 8,
     "metadata": {},
     "output_type": "execute_result"
    }
   ],
   "source": [
    "loss_hist = trainer.state.log_history.copy()\n",
    "loss_hist.pop()"
   ]
  },
  {
   "cell_type": "code",
   "execution_count": 9,
   "id": "76deeb9e",
   "metadata": {},
   "outputs": [],
   "source": [
    "loss = [x[\"loss\"] for x in loss_hist]\n",
    "epochs = [x[\"epoch\"] for x in loss_hist]"
   ]
  },
  {
   "cell_type": "code",
   "execution_count": 10,
   "id": "bcd7fc6f",
   "metadata": {},
   "outputs": [
    {
     "data": {
      "text/plain": [
       "[<matplotlib.lines.Line2D at 0x7f76428e16a0>]"
      ]
     },
     "execution_count": 10,
     "metadata": {},
     "output_type": "execute_result"
    },
    {
     "data": {
      "image/png": "[encoded data removed]",
      "text/plain": [
       "<Figure size 640x480 with 1 Axes>"
      ]
     },
     "metadata": {},
     "output_type": "display_data"
    }
   ],
   "source": [
    "plt.plot(epochs, loss)"
   ]
  },
  {
   "cell_type": "markdown",
   "id": "fdb05fe0",
   "metadata": {},
   "source": [
    "### Generate Samples"
   ]
  },
  {
   "cell_type": "code",
   "execution_count": 11,
   "id": "4bb298ac",
   "metadata": {},
   "outputs": [],
   "source": [
    "n_samples = 1000"
   ]
  },
  {
   "cell_type": "code",
   "execution_count": 12,
   "id": "2106b9f2",
   "metadata": {},
   "outputs": [
    {
     "name": "stderr",
     "output_type": "stream",
     "text": [
      "  0%|          | 0/1000 [00:00<?, ?it/s]"
     ]
    },
    {
     "name": "stdout",
     "output_type": "stream",
     "text": [
      "['NObeyesdad is Obesity_Type_II,', 'NObeyesdad is Overweight_Level_I,', 'NObeyesdad is Obesity_Type_II,', 'NObeyesdad is Overweight_Level_I,', 'NObeyesdad is Obesity_Type_II,', 'NObeyesdad is Overweight_Level_I,', 'NObeyesdad is Obesity_Type_I,', 'NObeyesdad is Normal_Weight,', 'NObeyesdad is Normal_Weight,', 'NObeyesdad is Obesity_Type_I,', 'NObeyesdad is Obesity_Type_III,', 'NObeyesdad is Obesity_Type_III,', 'NObeyesdad is Insufficient_Weight,', 'NObeyesdad is Obesity_Type_I,', 'NObeyesdad is Normal_Weight,', 'NObeyesdad is Overweight_Level_II,', 'NObeyesdad is Obesity_Type_III,', 'NObeyesdad is Obesity_Type_I,', 'NObeyesdad is Overweight_Level_II,', 'NObeyesdad is Overweight_Level_II,', 'NObeyesdad is Overweight_Level_II,', 'NObeyesdad is Obesity_Type_III,', 'NObeyesdad is Normal_Weight,', 'NObeyesdad is Obesity_Type_III,', 'NObeyesdad is Obesity_Type_II,', 'NObeyesdad is Insufficient_Weight,', 'NObeyesdad is Overweight_Level_I,', 'NObeyesdad is Insufficient_Weight,', 'NObeyesdad is Obesity_Type_I,', 'NObeyesdad is Obesity_Type_II,', 'NObeyesdad is Obesity_Type_II,', 'NObeyesdad is Overweight_Level_I,', 'NObeyesdad is Obesity_Type_I,', 'NObeyesdad is Insufficient_Weight,', 'NObeyesdad is Obesity_Type_II,', 'NObeyesdad is Overweight_Level_II,', 'NObeyesdad is Obesity_Type_III,', 'NObeyesdad is Obesity_Type_II,', 'NObeyesdad is Obesity_Type_II,', 'NObeyesdad is Normal_Weight,', 'NObeyesdad is Normal_Weight,', 'NObeyesdad is Obesity_Type_I,', 'NObeyesdad is Obesity_Type_III,', 'NObeyesdad is Obesity_Type_II,', 'NObeyesdad is Obesity_Type_III,', 'NObeyesdad is Obesity_Type_III,', 'NObeyesdad is Obesity_Type_III,', 'NObeyesdad is Insufficient_Weight,', 'NObeyesdad is Obesity_Type_II,', 'NObeyesdad is Obesity_Type_III,']\n"
     ]
    },
    {
     "name": "stderr",
     "output_type": "stream",
     "text": [
      "  2%|▎         | 25/1000 [00:02<01:27, 11.16it/s]"
     ]
    },
    {
     "name": "stdout",
     "output_type": "stream",
     "text": [
      "['NObeyesdad is Overweight_Level_II,', 'NObeyesdad is Insufficient_Weight,', 'NObeyesdad is Overweight_Level_I,', 'NObeyesdad is Normal_Weight,', 'NObeyesdad is Obesity_Type_III,', 'NObeyesdad is Obesity_Type_II,', 'NObeyesdad is Overweight_Level_II,', 'NObeyesdad is Overweight_Level_II,', 'NObeyesdad is Overweight_Level_I,', 'NObeyesdad is Overweight_Level_II,', 'NObeyesdad is Overweight_Level_I,', 'NObeyesdad is Obesity_Type_III,', 'NObeyesdad is Overweight_Level_II,', 'NObeyesdad is Obesity_Type_III,', 'NObeyesdad is Normal_Weight,', 'NObeyesdad is Normal_Weight,', 'NObeyesdad is Obesity_Type_II,', 'NObeyesdad is Overweight_Level_I,', 'NObeyesdad is Obesity_Type_II,', 'NObeyesdad is Overweight_Level_I,', 'NObeyesdad is Normal_Weight,', 'NObeyesdad is Obesity_Type_III,', 'NObeyesdad is Obesity_Type_I,', 'NObeyesdad is Insufficient_Weight,', 'NObeyesdad is Obesity_Type_III,', 'NObeyesdad is Overweight_Level_II,', 'NObeyesdad is Obesity_Type_I,', 'NObeyesdad is Overweight_Level_I,', 'NObeyesdad is Overweight_Level_I,', 'NObeyesdad is Insufficient_Weight,', 'NObeyesdad is Overweight_Level_II,', 'NObeyesdad is Normal_Weight,', 'NObeyesdad is Obesity_Type_III,', 'NObeyesdad is Overweight_Level_I,', 'NObeyesdad is Obesity_Type_I,', 'NObeyesdad is Insufficient_Weight,', 'NObeyesdad is Normal_Weight,', 'NObeyesdad is Normal_Weight,', 'NObeyesdad is Normal_Weight,', 'NObeyesdad is Obesity_Type_III,', 'NObeyesdad is Obesity_Type_I,', 'NObeyesdad is Obesity_Type_I,', 'NObeyesdad is Obesity_Type_I,', 'NObeyesdad is Obesity_Type_I,', 'NObeyesdad is Obesity_Type_III,', 'NObeyesdad is Obesity_Type_II,', 'NObeyesdad is Normal_Weight,', 'NObeyesdad is Normal_Weight,', 'NObeyesdad is Obesity_Type_III,', 'NObeyesdad is Obesity_Type_III,']\n"
     ]
    },
    {
     "name": "stderr",
     "output_type": "stream",
     "text": [
      "  5%|▍         | 48/1000 [00:04<01:26, 11.04it/s]"
     ]
    },
    {
     "name": "stdout",
     "output_type": "stream",
     "text": [
      "['NObeyesdad is Overweight_Level_I,', 'NObeyesdad is Obesity_Type_III,', 'NObeyesdad is Obesity_Type_II,', 'NObeyesdad is Overweight_Level_II,', 'NObeyesdad is Normal_Weight,', 'NObeyesdad is Insufficient_Weight,', 'NObeyesdad is Obesity_Type_II,', 'NObeyesdad is Obesity_Type_III,', 'NObeyesdad is Obesity_Type_II,', 'NObeyesdad is Obesity_Type_II,', 'NObeyesdad is Obesity_Type_III,', 'NObeyesdad is Insufficient_Weight,', 'NObeyesdad is Obesity_Type_I,', 'NObeyesdad is Insufficient_Weight,', 'NObeyesdad is Obesity_Type_III,', 'NObeyesdad is Insufficient_Weight,', 'NObeyesdad is Overweight_Level_II,', 'NObeyesdad is Obesity_Type_III,', 'NObeyesdad is Obesity_Type_III,', 'NObeyesdad is Overweight_Level_I,', 'NObeyesdad is Obesity_Type_III,', 'NObeyesdad is Normal_Weight,', 'NObeyesdad is Obesity_Type_II,', 'NObeyesdad is Obesity_Type_I,', 'NObeyesdad is Insufficient_Weight,', 'NObeyesdad is Overweight_Level_II,', 'NObeyesdad is Obesity_Type_III,', 'NObeyesdad is Overweight_Level_II,', 'NObeyesdad is Obesity_Type_II,', 'NObeyesdad is Insufficient_Weight,', 'NObeyesdad is Overweight_Level_II,', 'NObeyesdad is Obesity_Type_III,', 'NObeyesdad is Overweight_Level_I,', 'NObeyesdad is Overweight_Level_I,', 'NObeyesdad is Overweight_Level_I,', 'NObeyesdad is Obesity_Type_III,', 'NObeyesdad is Obesity_Type_I,', 'NObeyesdad is Obesity_Type_I,', 'NObeyesdad is Insufficient_Weight,', 'NObeyesdad is Obesity_Type_I,', 'NObeyesdad is Obesity_Type_II,', 'NObeyesdad is Overweight_Level_II,', 'NObeyesdad is Obesity_Type_II,', 'NObeyesdad is Insufficient_Weight,', 'NObeyesdad is Obesity_Type_II,', 'NObeyesdad is Normal_Weight,', 'NObeyesdad is Overweight_Level_II,', 'NObeyesdad is Obesity_Type_II,', 'NObeyesdad is Normal_Weight,', 'NObeyesdad is Obesity_Type_II,']\n"
     ]
    },
    {
     "name": "stderr",
     "output_type": "stream",
     "text": [
      "  7%|▋         | 69/1000 [00:06<01:24, 11.03it/s]"
     ]
    },
    {
     "name": "stdout",
     "output_type": "stream",
     "text": [
      "['NObeyesdad is Obesity_Type_II,', 'NObeyesdad is Normal_Weight,', 'NObeyesdad is Overweight_Level_I,', 'NObeyesdad is Insufficient_Weight,', 'NObeyesdad is Obesity_Type_II,', 'NObeyesdad is Obesity_Type_I,', 'NObeyesdad is Overweight_Level_II,', 'NObeyesdad is Obesity_Type_II,', 'NObeyesdad is Obesity_Type_I,', 'NObeyesdad is Normal_Weight,', 'NObeyesdad is Obesity_Type_I,', 'NObeyesdad is Overweight_Level_I,', 'NObeyesdad is Insufficient_Weight,', 'NObeyesdad is Overweight_Level_II,', 'NObeyesdad is Obesity_Type_I,', 'NObeyesdad is Overweight_Level_II,', 'NObeyesdad is Overweight_Level_I,', 'NObeyesdad is Obesity_Type_I,', 'NObeyesdad is Obesity_Type_II,', 'NObeyesdad is Obesity_Type_III,', 'NObeyesdad is Normal_Weight,', 'NObeyesdad is Insufficient_Weight,', 'NObeyesdad is Obesity_Type_III,', 'NObeyesdad is Obesity_Type_I,', 'NObeyesdad is Obesity_Type_II,', 'NObeyesdad is Obesity_Type_I,', 'NObeyesdad is Overweight_Level_II,', 'NObeyesdad is Obesity_Type_III,', 'NObeyesdad is Obesity_Type_II,', 'NObeyesdad is Overweight_Level_I,', 'NObeyesdad is Obesity_Type_III,', 'NObeyesdad is Overweight_Level_II,', 'NObeyesdad is Overweight_Level_II,', 'NObeyesdad is Normal_Weight,', 'NObeyesdad is Obesity_Type_I,', 'NObeyesdad is Insufficient_Weight,', 'NObeyesdad is Insufficient_Weight,', 'NObeyesdad is Insufficient_Weight,', 'NObeyesdad is Insufficient_Weight,', 'NObeyesdad is Overweight_Level_I,', 'NObeyesdad is Obesity_Type_III,', 'NObeyesdad is Normal_Weight,', 'NObeyesdad is Obesity_Type_III,', 'NObeyesdad is Obesity_Type_I,', 'NObeyesdad is Overweight_Level_I,', 'NObeyesdad is Overweight_Level_I,', 'NObeyesdad is Insufficient_Weight,', 'NObeyesdad is Obesity_Type_I,', 'NObeyesdad is Overweight_Level_I,', 'NObeyesdad is Obesity_Type_I,']\n"
     ]
    },
    {
     "name": "stderr",
     "output_type": "stream",
     "text": [
      "  9%|▉         | 94/1000 [00:08<01:19, 11.41it/s]"
     ]
    },
    {
     "name": "stdout",
     "output_type": "stream",
     "text": [
      "['NObeyesdad is Overweight_Level_II,', 'NObeyesdad is Overweight_Level_II,', 'NObeyesdad is Overweight_Level_II,', 'NObeyesdad is Normal_Weight,', 'NObeyesdad is Insufficient_Weight,', 'NObeyesdad is Obesity_Type_III,', 'NObeyesdad is Obesity_Type_I,', 'NObeyesdad is Obesity_Type_I,', 'NObeyesdad is Obesity_Type_III,', 'NObeyesdad is Overweight_Level_II,', 'NObeyesdad is Overweight_Level_I,', 'NObeyesdad is Obesity_Type_II,', 'NObeyesdad is Insufficient_Weight,', 'NObeyesdad is Insufficient_Weight,', 'NObeyesdad is Insufficient_Weight,', 'NObeyesdad is Obesity_Type_III,', 'NObeyesdad is Obesity_Type_I,', 'NObeyesdad is Obesity_Type_I,', 'NObeyesdad is Obesity_Type_II,', 'NObeyesdad is Obesity_Type_I,', 'NObeyesdad is Obesity_Type_I,', 'NObeyesdad is Obesity_Type_III,', 'NObeyesdad is Insufficient_Weight,', 'NObeyesdad is Obesity_Type_III,', 'NObeyesdad is Overweight_Level_I,', 'NObeyesdad is Obesity_Type_I,', 'NObeyesdad is Obesity_Type_I,', 'NObeyesdad is Obesity_Type_I,', 'NObeyesdad is Normal_Weight,', 'NObeyesdad is Overweight_Level_II,', 'NObeyesdad is Overweight_Level_I,', 'NObeyesdad is Normal_Weight,', 'NObeyesdad is Obesity_Type_II,', 'NObeyesdad is Insufficient_Weight,', 'NObeyesdad is Overweight_Level_I,', 'NObeyesdad is Obesity_Type_I,', 'NObeyesdad is Overweight_Level_II,', 'NObeyesdad is Insufficient_Weight,', 'NObeyesdad is Obesity_Type_II,', 'NObeyesdad is Obesity_Type_I,', 'NObeyesdad is Obesity_Type_III,', 'NObeyesdad is Overweight_Level_I,', 'NObeyesdad is Obesity_Type_III,', 'NObeyesdad is Overweight_Level_I,', 'NObeyesdad is Obesity_Type_I,', 'NObeyesdad is Obesity_Type_III,', 'NObeyesdad is Overweight_Level_II,', 'NObeyesdad is Overweight_Level_I,', 'NObeyesdad is Obesity_Type_I,', 'NObeyesdad is Insufficient_Weight,']\n"
     ]
    },
    {
     "name": "stderr",
     "output_type": "stream",
     "text": [
      " 12%|█▏        | 118/1000 [00:10<01:16, 11.50it/s]"
     ]
    },
    {
     "name": "stdout",
     "output_type": "stream",
     "text": [
      "['NObeyesdad is Obesity_Type_I,', 'NObeyesdad is Obesity_Type_I,', 'NObeyesdad is Overweight_Level_II,', 'NObeyesdad is Overweight_Level_II,', 'NObeyesdad is Obesity_Type_I,', 'NObeyesdad is Normal_Weight,', 'NObeyesdad is Overweight_Level_II,', 'NObeyesdad is Normal_Weight,', 'NObeyesdad is Overweight_Level_I,', 'NObeyesdad is Overweight_Level_I,', 'NObeyesdad is Obesity_Type_II,', 'NObeyesdad is Overweight_Level_II,', 'NObeyesdad is Obesity_Type_II,', 'NObeyesdad is Obesity_Type_III,', 'NObeyesdad is Normal_Weight,', 'NObeyesdad is Overweight_Level_II,', 'NObeyesdad is Obesity_Type_III,', 'NObeyesdad is Obesity_Type_III,', 'NObeyesdad is Obesity_Type_II,', 'NObeyesdad is Obesity_Type_III,', 'NObeyesdad is Overweight_Level_II,', 'NObeyesdad is Obesity_Type_I,', 'NObeyesdad is Obesity_Type_I,', 'NObeyesdad is Obesity_Type_III,', 'NObeyesdad is Normal_Weight,', 'NObeyesdad is Overweight_Level_II,', 'NObeyesdad is Overweight_Level_II,', 'NObeyesdad is Overweight_Level_I,', 'NObeyesdad is Obesity_Type_II,', 'NObeyesdad is Obesity_Type_III,', 'NObeyesdad is Obesity_Type_III,', 'NObeyesdad is Obesity_Type_III,', 'NObeyesdad is Insufficient_Weight,', 'NObeyesdad is Obesity_Type_I,', 'NObeyesdad is Obesity_Type_II,', 'NObeyesdad is Obesity_Type_I,', 'NObeyesdad is Normal_Weight,', 'NObeyesdad is Obesity_Type_III,', 'NObeyesdad is Normal_Weight,', 'NObeyesdad is Overweight_Level_II,', 'NObeyesdad is Overweight_Level_II,', 'NObeyesdad is Overweight_Level_I,', 'NObeyesdad is Overweight_Level_II,', 'NObeyesdad is Overweight_Level_I,', 'NObeyesdad is Insufficient_Weight,', 'NObeyesdad is Obesity_Type_III,', 'NObeyesdad is Insufficient_Weight,', 'NObeyesdad is Overweight_Level_II,', 'NObeyesdad is Normal_Weight,', 'NObeyesdad is Overweight_Level_II,']\n"
     ]
    },
    {
     "name": "stderr",
     "output_type": "stream",
     "text": [
      " 14%|█▍        | 145/1000 [00:12<01:11, 11.98it/s]"
     ]
    },
    {
     "name": "stdout",
     "output_type": "stream",
     "text": [
      "['NObeyesdad is Insufficient_Weight,', 'NObeyesdad is Overweight_Level_I,', 'NObeyesdad is Insufficient_Weight,', 'NObeyesdad is Overweight_Level_I,', 'NObeyesdad is Normal_Weight,', 'NObeyesdad is Obesity_Type_III,', 'NObeyesdad is Normal_Weight,', 'NObeyesdad is Obesity_Type_III,', 'NObeyesdad is Normal_Weight,', 'NObeyesdad is Normal_Weight,', 'NObeyesdad is Overweight_Level_I,', 'NObeyesdad is Obesity_Type_III,', 'NObeyesdad is Overweight_Level_I,', 'NObeyesdad is Normal_Weight,', 'NObeyesdad is Normal_Weight,', 'NObeyesdad is Insufficient_Weight,', 'NObeyesdad is Overweight_Level_I,', 'NObeyesdad is Obesity_Type_III,', 'NObeyesdad is Obesity_Type_II,', 'NObeyesdad is Overweight_Level_I,', 'NObeyesdad is Overweight_Level_II,', 'NObeyesdad is Obesity_Type_I,', 'NObeyesdad is Obesity_Type_III,', 'NObeyesdad is Obesity_Type_I,', 'NObeyesdad is Obesity_Type_I,', 'NObeyesdad is Obesity_Type_II,', 'NObeyesdad is Normal_Weight,', 'NObeyesdad is Obesity_Type_II,', 'NObeyesdad is Overweight_Level_I,', 'NObeyesdad is Obesity_Type_I,', 'NObeyesdad is Obesity_Type_III,', 'NObeyesdad is Overweight_Level_II,', 'NObeyesdad is Obesity_Type_II,', 'NObeyesdad is Overweight_Level_I,', 'NObeyesdad is Overweight_Level_II,', 'NObeyesdad is Normal_Weight,', 'NObeyesdad is Normal_Weight,', 'NObeyesdad is Insufficient_Weight,', 'NObeyesdad is Obesity_Type_III,', 'NObeyesdad is Normal_Weight,', 'NObeyesdad is Normal_Weight,', 'NObeyesdad is Normal_Weight,', 'NObeyesdad is Obesity_Type_III,', 'NObeyesdad is Normal_Weight,', 'NObeyesdad is Overweight_Level_II,', 'NObeyesdad is Obesity_Type_I,', 'NObeyesdad is Obesity_Type_III,', 'NObeyesdad is Overweight_Level_II,', 'NObeyesdad is Obesity_Type_III,', 'NObeyesdad is Obesity_Type_I,']\n"
     ]
    },
    {
     "name": "stderr",
     "output_type": "stream",
     "text": [
      " 17%|█▋        | 169/1000 [00:14<01:10, 11.76it/s]"
     ]
    },
    {
     "name": "stdout",
     "output_type": "stream",
     "text": [
      "['NObeyesdad is Overweight_Level_I,', 'NObeyesdad is Obesity_Type_I,', 'NObeyesdad is Obesity_Type_II,', 'NObeyesdad is Insufficient_Weight,', 'NObeyesdad is Obesity_Type_II,', 'NObeyesdad is Obesity_Type_III,', 'NObeyesdad is Obesity_Type_II,', 'NObeyesdad is Overweight_Level_I,', 'NObeyesdad is Insufficient_Weight,', 'NObeyesdad is Overweight_Level_I,', 'NObeyesdad is Overweight_Level_II,', 'NObeyesdad is Obesity_Type_III,', 'NObeyesdad is Obesity_Type_II,', 'NObeyesdad is Insufficient_Weight,', 'NObeyesdad is Obesity_Type_I,', 'NObeyesdad is Normal_Weight,', 'NObeyesdad is Normal_Weight,', 'NObeyesdad is Overweight_Level_I,', 'NObeyesdad is Insufficient_Weight,', 'NObeyesdad is Normal_Weight,', 'NObeyesdad is Obesity_Type_II,', 'NObeyesdad is Normal_Weight,', 'NObeyesdad is Obesity_Type_III,', 'NObeyesdad is Overweight_Level_II,', 'NObeyesdad is Obesity_Type_I,', 'NObeyesdad is Insufficient_Weight,', 'NObeyesdad is Normal_Weight,', 'NObeyesdad is Obesity_Type_III,', 'NObeyesdad is Insufficient_Weight,', 'NObeyesdad is Overweight_Level_I,', 'NObeyesdad is Overweight_Level_II,', 'NObeyesdad is Obesity_Type_III,', 'NObeyesdad is Obesity_Type_II,', 'NObeyesdad is Obesity_Type_III,', 'NObeyesdad is Overweight_Level_II,', 'NObeyesdad is Overweight_Level_I,', 'NObeyesdad is Overweight_Level_II,', 'NObeyesdad is Insufficient_Weight,', 'NObeyesdad is Obesity_Type_III,', 'NObeyesdad is Normal_Weight,', 'NObeyesdad is Overweight_Level_II,', 'NObeyesdad is Obesity_Type_III,', 'NObeyesdad is Obesity_Type_II,', 'NObeyesdad is Normal_Weight,', 'NObeyesdad is Obesity_Type_I,', 'NObeyesdad is Normal_Weight,', 'NObeyesdad is Insufficient_Weight,', 'NObeyesdad is Obesity_Type_II,', 'NObeyesdad is Obesity_Type_III,', 'NObeyesdad is Insufficient_Weight,']\n"
     ]
    },
    {
     "name": "stderr",
     "output_type": "stream",
     "text": [
      " 19%|█▉        | 191/1000 [00:16<01:10, 11.45it/s]"
     ]
    },
    {
     "name": "stdout",
     "output_type": "stream",
     "text": [
      "['NObeyesdad is Obesity_Type_I,', 'NObeyesdad is Insufficient_Weight,', 'NObeyesdad is Overweight_Level_II,', 'NObeyesdad is Normal_Weight,', 'NObeyesdad is Obesity_Type_I,', 'NObeyesdad is Obesity_Type_III,', 'NObeyesdad is Normal_Weight,', 'NObeyesdad is Obesity_Type_III,', 'NObeyesdad is Insufficient_Weight,', 'NObeyesdad is Overweight_Level_II,', 'NObeyesdad is Normal_Weight,', 'NObeyesdad is Normal_Weight,', 'NObeyesdad is Normal_Weight,', 'NObeyesdad is Overweight_Level_II,', 'NObeyesdad is Overweight_Level_II,', 'NObeyesdad is Obesity_Type_II,', 'NObeyesdad is Overweight_Level_II,', 'NObeyesdad is Overweight_Level_I,', 'NObeyesdad is Obesity_Type_II,', 'NObeyesdad is Obesity_Type_I,', 'NObeyesdad is Insufficient_Weight,', 'NObeyesdad is Obesity_Type_II,', 'NObeyesdad is Obesity_Type_I,', 'NObeyesdad is Normal_Weight,', 'NObeyesdad is Overweight_Level_I,', 'NObeyesdad is Overweight_Level_II,', 'NObeyesdad is Normal_Weight,', 'NObeyesdad is Obesity_Type_III,', 'NObeyesdad is Obesity_Type_III,', 'NObeyesdad is Obesity_Type_I,', 'NObeyesdad is Overweight_Level_II,', 'NObeyesdad is Insufficient_Weight,', 'NObeyesdad is Obesity_Type_II,', 'NObeyesdad is Obesity_Type_I,', 'NObeyesdad is Overweight_Level_I,', 'NObeyesdad is Obesity_Type_I,', 'NObeyesdad is Obesity_Type_III,', 'NObeyesdad is Overweight_Level_I,', 'NObeyesdad is Obesity_Type_I,', 'NObeyesdad is Normal_Weight,', 'NObeyesdad is Normal_Weight,', 'NObeyesdad is Obesity_Type_I,', 'NObeyesdad is Obesity_Type_I,', 'NObeyesdad is Insufficient_Weight,', 'NObeyesdad is Overweight_Level_II,', 'NObeyesdad is Insufficient_Weight,', 'NObeyesdad is Normal_Weight,', 'NObeyesdad is Normal_Weight,', 'NObeyesdad is Obesity_Type_II,', 'NObeyesdad is Overweight_Level_I,']\n"
     ]
    },
    {
     "name": "stderr",
     "output_type": "stream",
     "text": [
      " 21%|██▏       | 214/1000 [00:18<01:09, 11.25it/s]"
     ]
    },
    {
     "name": "stdout",
     "output_type": "stream",
     "text": [
      "['NObeyesdad is Obesity_Type_II,', 'NObeyesdad is Obesity_Type_II,', 'NObeyesdad is Obesity_Type_III,', 'NObeyesdad is Obesity_Type_II,', 'NObeyesdad is Obesity_Type_I,', 'NObeyesdad is Normal_Weight,', 'NObeyesdad is Overweight_Level_II,', 'NObeyesdad is Normal_Weight,', 'NObeyesdad is Overweight_Level_I,', 'NObeyesdad is Insufficient_Weight,', 'NObeyesdad is Insufficient_Weight,', 'NObeyesdad is Normal_Weight,', 'NObeyesdad is Insufficient_Weight,', 'NObeyesdad is Overweight_Level_I,', 'NObeyesdad is Obesity_Type_I,', 'NObeyesdad is Overweight_Level_I,', 'NObeyesdad is Overweight_Level_II,', 'NObeyesdad is Overweight_Level_I,', 'NObeyesdad is Overweight_Level_II,', 'NObeyesdad is Normal_Weight,', 'NObeyesdad is Overweight_Level_II,', 'NObeyesdad is Overweight_Level_II,', 'NObeyesdad is Obesity_Type_II,', 'NObeyesdad is Overweight_Level_II,', 'NObeyesdad is Obesity_Type_II,', 'NObeyesdad is Obesity_Type_III,', 'NObeyesdad is Normal_Weight,', 'NObeyesdad is Overweight_Level_II,', 'NObeyesdad is Insufficient_Weight,', 'NObeyesdad is Insufficient_Weight,', 'NObeyesdad is Obesity_Type_III,', 'NObeyesdad is Obesity_Type_II,', 'NObeyesdad is Obesity_Type_III,', 'NObeyesdad is Normal_Weight,', 'NObeyesdad is Overweight_Level_II,', 'NObeyesdad is Obesity_Type_II,', 'NObeyesdad is Obesity_Type_II,', 'NObeyesdad is Normal_Weight,', 'NObeyesdad is Overweight_Level_II,', 'NObeyesdad is Obesity_Type_III,', 'NObeyesdad is Obesity_Type_I,', 'NObeyesdad is Obesity_Type_III,', 'NObeyesdad is Obesity_Type_II,', 'NObeyesdad is Obesity_Type_II,', 'NObeyesdad is Obesity_Type_III,', 'NObeyesdad is Overweight_Level_II,', 'NObeyesdad is Obesity_Type_III,', 'NObeyesdad is Obesity_Type_I,', 'NObeyesdad is Obesity_Type_I,', 'NObeyesdad is Overweight_Level_II,']\n"
     ]
    },
    {
     "name": "stderr",
     "output_type": "stream",
     "text": [
      " 24%|██▍       | 240/1000 [00:20<01:05, 11.57it/s]"
     ]
    },
    {
     "name": "stdout",
     "output_type": "stream",
     "text": [
      "['NObeyesdad is Obesity_Type_III,', 'NObeyesdad is Obesity_Type_II,', 'NObeyesdad is Obesity_Type_III,', 'NObeyesdad is Overweight_Level_II,', 'NObeyesdad is Overweight_Level_I,', 'NObeyesdad is Overweight_Level_I,', 'NObeyesdad is Obesity_Type_II,', 'NObeyesdad is Overweight_Level_II,', 'NObeyesdad is Obesity_Type_I,', 'NObeyesdad is Overweight_Level_I,', 'NObeyesdad is Obesity_Type_I,', 'NObeyesdad is Obesity_Type_I,', 'NObeyesdad is Insufficient_Weight,', 'NObeyesdad is Obesity_Type_III,', 'NObeyesdad is Overweight_Level_II,', 'NObeyesdad is Normal_Weight,', 'NObeyesdad is Normal_Weight,', 'NObeyesdad is Overweight_Level_II,', 'NObeyesdad is Insufficient_Weight,', 'NObeyesdad is Insufficient_Weight,', 'NObeyesdad is Obesity_Type_III,', 'NObeyesdad is Obesity_Type_II,', 'NObeyesdad is Insufficient_Weight,', 'NObeyesdad is Obesity_Type_III,', 'NObeyesdad is Normal_Weight,', 'NObeyesdad is Overweight_Level_I,', 'NObeyesdad is Insufficient_Weight,', 'NObeyesdad is Normal_Weight,', 'NObeyesdad is Overweight_Level_II,', 'NObeyesdad is Normal_Weight,', 'NObeyesdad is Obesity_Type_III,', 'NObeyesdad is Overweight_Level_II,', 'NObeyesdad is Overweight_Level_II,', 'NObeyesdad is Normal_Weight,', 'NObeyesdad is Obesity_Type_I,', 'NObeyesdad is Overweight_Level_II,', 'NObeyesdad is Insufficient_Weight,', 'NObeyesdad is Obesity_Type_II,', 'NObeyesdad is Normal_Weight,', 'NObeyesdad is Overweight_Level_I,', 'NObeyesdad is Normal_Weight,', 'NObeyesdad is Obesity_Type_II,', 'NObeyesdad is Obesity_Type_I,', 'NObeyesdad is Obesity_Type_II,', 'NObeyesdad is Overweight_Level_II,', 'NObeyesdad is Overweight_Level_I,', 'NObeyesdad is Obesity_Type_II,', 'NObeyesdad is Insufficient_Weight,', 'NObeyesdad is Normal_Weight,', 'NObeyesdad is Overweight_Level_II,']\n"
     ]
    },
    {
     "name": "stderr",
     "output_type": "stream",
     "text": [
      " 26%|██▋       | 263/1000 [00:22<01:04, 11.51it/s]"
     ]
    },
    {
     "name": "stdout",
     "output_type": "stream",
     "text": [
      "['NObeyesdad is Obesity_Type_II,', 'NObeyesdad is Normal_Weight,', 'NObeyesdad is Obesity_Type_I,', 'NObeyesdad is Overweight_Level_I,', 'NObeyesdad is Obesity_Type_II,', 'NObeyesdad is Obesity_Type_III,', 'NObeyesdad is Obesity_Type_I,', 'NObeyesdad is Insufficient_Weight,', 'NObeyesdad is Insufficient_Weight,', 'NObeyesdad is Obesity_Type_I,', 'NObeyesdad is Insufficient_Weight,', 'NObeyesdad is Obesity_Type_II,', 'NObeyesdad is Obesity_Type_I,', 'NObeyesdad is Obesity_Type_III,', 'NObeyesdad is Overweight_Level_I,', 'NObeyesdad is Normal_Weight,', 'NObeyesdad is Obesity_Type_III,', 'NObeyesdad is Insufficient_Weight,', 'NObeyesdad is Overweight_Level_II,', 'NObeyesdad is Obesity_Type_I,', 'NObeyesdad is Obesity_Type_I,', 'NObeyesdad is Obesity_Type_III,', 'NObeyesdad is Overweight_Level_II,', 'NObeyesdad is Obesity_Type_III,', 'NObeyesdad is Insufficient_Weight,', 'NObeyesdad is Overweight_Level_I,', 'NObeyesdad is Overweight_Level_I,', 'NObeyesdad is Overweight_Level_I,', 'NObeyesdad is Overweight_Level_II,', 'NObeyesdad is Overweight_Level_I,', 'NObeyesdad is Obesity_Type_II,', 'NObeyesdad is Overweight_Level_II,', 'NObeyesdad is Obesity_Type_I,', 'NObeyesdad is Obesity_Type_III,', 'NObeyesdad is Obesity_Type_II,', 'NObeyesdad is Obesity_Type_I,', 'NObeyesdad is Insufficient_Weight,', 'NObeyesdad is Insufficient_Weight,', 'NObeyesdad is Normal_Weight,', 'NObeyesdad is Overweight_Level_I,', 'NObeyesdad is Overweight_Level_I,', 'NObeyesdad is Overweight_Level_II,', 'NObeyesdad is Overweight_Level_II,', 'NObeyesdad is Obesity_Type_II,', 'NObeyesdad is Obesity_Type_I,', 'NObeyesdad is Obesity_Type_I,', 'NObeyesdad is Normal_Weight,', 'NObeyesdad is Normal_Weight,', 'NObeyesdad is Obesity_Type_III,', 'NObeyesdad is Obesity_Type_II,']\n"
     ]
    },
    {
     "name": "stderr",
     "output_type": "stream",
     "text": [
      " 28%|██▊       | 282/1000 [00:24<01:06, 10.79it/s]"
     ]
    },
    {
     "name": "stdout",
     "output_type": "stream",
     "text": [
      "['NObeyesdad is Obesity_Type_I,', 'NObeyesdad is Obesity_Type_II,', 'NObeyesdad is Obesity_Type_II,', 'NObeyesdad is Obesity_Type_II,', 'NObeyesdad is Obesity_Type_III,', 'NObeyesdad is Obesity_Type_III,', 'NObeyesdad is Normal_Weight,', 'NObeyesdad is Overweight_Level_II,', 'NObeyesdad is Obesity_Type_I,', 'NObeyesdad is Normal_Weight,', 'NObeyesdad is Obesity_Type_II,', 'NObeyesdad is Overweight_Level_II,', 'NObeyesdad is Overweight_Level_II,', 'NObeyesdad is Insufficient_Weight,', 'NObeyesdad is Overweight_Level_II,', 'NObeyesdad is Overweight_Level_II,', 'NObeyesdad is Obesity_Type_I,', 'NObeyesdad is Overweight_Level_II,', 'NObeyesdad is Overweight_Level_I,', 'NObeyesdad is Obesity_Type_II,', 'NObeyesdad is Obesity_Type_I,', 'NObeyesdad is Obesity_Type_II,', 'NObeyesdad is Overweight_Level_I,', 'NObeyesdad is Insufficient_Weight,', 'NObeyesdad is Obesity_Type_II,', 'NObeyesdad is Obesity_Type_I,', 'NObeyesdad is Obesity_Type_III,', 'NObeyesdad is Obesity_Type_III,', 'NObeyesdad is Insufficient_Weight,', 'NObeyesdad is Insufficient_Weight,', 'NObeyesdad is Normal_Weight,', 'NObeyesdad is Overweight_Level_II,', 'NObeyesdad is Overweight_Level_II,', 'NObeyesdad is Obesity_Type_I,', 'NObeyesdad is Insufficient_Weight,', 'NObeyesdad is Obesity_Type_II,', 'NObeyesdad is Obesity_Type_I,', 'NObeyesdad is Insufficient_Weight,', 'NObeyesdad is Obesity_Type_II,', 'NObeyesdad is Obesity_Type_III,', 'NObeyesdad is Overweight_Level_II,', 'NObeyesdad is Obesity_Type_II,', 'NObeyesdad is Obesity_Type_II,', 'NObeyesdad is Obesity_Type_I,', 'NObeyesdad is Normal_Weight,', 'NObeyesdad is Overweight_Level_II,', 'NObeyesdad is Insufficient_Weight,', 'NObeyesdad is Obesity_Type_II,', 'NObeyesdad is Overweight_Level_I,', 'NObeyesdad is Obesity_Type_III,']\n"
     ]
    },
    {
     "name": "stderr",
     "output_type": "stream",
     "text": [
      " 30%|███       | 302/1000 [00:27<01:06, 10.50it/s]"
     ]
    },
    {
     "name": "stdout",
     "output_type": "stream",
     "text": [
      "['NObeyesdad is Normal_Weight,', 'NObeyesdad is Insufficient_Weight,', 'NObeyesdad is Insufficient_Weight,', 'NObeyesdad is Insufficient_Weight,', 'NObeyesdad is Obesity_Type_III,', 'NObeyesdad is Obesity_Type_II,', 'NObeyesdad is Insufficient_Weight,', 'NObeyesdad is Obesity_Type_III,', 'NObeyesdad is Overweight_Level_I,', 'NObeyesdad is Insufficient_Weight,', 'NObeyesdad is Obesity_Type_I,', 'NObeyesdad is Obesity_Type_II,', 'NObeyesdad is Obesity_Type_III,', 'NObeyesdad is Normal_Weight,', 'NObeyesdad is Overweight_Level_II,', 'NObeyesdad is Obesity_Type_II,', 'NObeyesdad is Obesity_Type_I,', 'NObeyesdad is Obesity_Type_III,', 'NObeyesdad is Insufficient_Weight,', 'NObeyesdad is Obesity_Type_I,', 'NObeyesdad is Normal_Weight,', 'NObeyesdad is Overweight_Level_II,', 'NObeyesdad is Overweight_Level_II,', 'NObeyesdad is Normal_Weight,', 'NObeyesdad is Obesity_Type_II,', 'NObeyesdad is Insufficient_Weight,', 'NObeyesdad is Obesity_Type_II,', 'NObeyesdad is Obesity_Type_III,', 'NObeyesdad is Obesity_Type_I,', 'NObeyesdad is Obesity_Type_I,', 'NObeyesdad is Obesity_Type_III,', 'NObeyesdad is Normal_Weight,', 'NObeyesdad is Obesity_Type_III,', 'NObeyesdad is Overweight_Level_I,', 'NObeyesdad is Obesity_Type_I,', 'NObeyesdad is Obesity_Type_II,', 'NObeyesdad is Obesity_Type_III,', 'NObeyesdad is Overweight_Level_I,', 'NObeyesdad is Normal_Weight,', 'NObeyesdad is Obesity_Type_I,', 'NObeyesdad is Obesity_Type_III,', 'NObeyesdad is Overweight_Level_II,', 'NObeyesdad is Obesity_Type_I,', 'NObeyesdad is Obesity_Type_I,', 'NObeyesdad is Overweight_Level_I,', 'NObeyesdad is Overweight_Level_I,', 'NObeyesdad is Obesity_Type_II,', 'NObeyesdad is Normal_Weight,', 'NObeyesdad is Obesity_Type_III,', 'NObeyesdad is Obesity_Type_I,']\n"
     ]
    },
    {
     "name": "stderr",
     "output_type": "stream",
     "text": [
      " 32%|███▏      | 324/1000 [00:29<01:03, 10.62it/s]"
     ]
    },
    {
     "name": "stdout",
     "output_type": "stream",
     "text": [
      "['NObeyesdad is Obesity_Type_II,', 'NObeyesdad is Obesity_Type_I,', 'NObeyesdad is Normal_Weight,', 'NObeyesdad is Normal_Weight,', 'NObeyesdad is Normal_Weight,', 'NObeyesdad is Obesity_Type_II,', 'NObeyesdad is Overweight_Level_I,', 'NObeyesdad is Insufficient_Weight,', 'NObeyesdad is Insufficient_Weight,', 'NObeyesdad is Obesity_Type_III,', 'NObeyesdad is Obesity_Type_II,', 'NObeyesdad is Obesity_Type_II,', 'NObeyesdad is Obesity_Type_I,', 'NObeyesdad is Obesity_Type_III,', 'NObeyesdad is Obesity_Type_III,', 'NObeyesdad is Obesity_Type_III,', 'NObeyesdad is Overweight_Level_I,', 'NObeyesdad is Overweight_Level_II,', 'NObeyesdad is Insufficient_Weight,', 'NObeyesdad is Overweight_Level_II,', 'NObeyesdad is Overweight_Level_II,', 'NObeyesdad is Obesity_Type_II,', 'NObeyesdad is Overweight_Level_II,', 'NObeyesdad is Obesity_Type_I,', 'NObeyesdad is Obesity_Type_II,', 'NObeyesdad is Overweight_Level_I,', 'NObeyesdad is Normal_Weight,', 'NObeyesdad is Insufficient_Weight,', 'NObeyesdad is Obesity_Type_III,', 'NObeyesdad is Obesity_Type_II,', 'NObeyesdad is Normal_Weight,', 'NObeyesdad is Overweight_Level_I,', 'NObeyesdad is Overweight_Level_II,', 'NObeyesdad is Insufficient_Weight,', 'NObeyesdad is Insufficient_Weight,', 'NObeyesdad is Normal_Weight,', 'NObeyesdad is Normal_Weight,', 'NObeyesdad is Overweight_Level_II,', 'NObeyesdad is Obesity_Type_II,', 'NObeyesdad is Normal_Weight,', 'NObeyesdad is Insufficient_Weight,', 'NObeyesdad is Normal_Weight,', 'NObeyesdad is Overweight_Level_I,', 'NObeyesdad is Overweight_Level_I,', 'NObeyesdad is Insufficient_Weight,', 'NObeyesdad is Obesity_Type_II,', 'NObeyesdad is Obesity_Type_III,', 'NObeyesdad is Insufficient_Weight,', 'NObeyesdad is Obesity_Type_I,', 'NObeyesdad is Obesity_Type_I,']\n"
     ]
    },
    {
     "name": "stderr",
     "output_type": "stream",
     "text": [
      " 34%|███▍      | 343/1000 [00:31<01:04, 10.15it/s]"
     ]
    },
    {
     "name": "stdout",
     "output_type": "stream",
     "text": [
      "['NObeyesdad is Insufficient_Weight,', 'NObeyesdad is Insufficient_Weight,', 'NObeyesdad is Overweight_Level_II,', 'NObeyesdad is Normal_Weight,', 'NObeyesdad is Obesity_Type_III,', 'NObeyesdad is Insufficient_Weight,', 'NObeyesdad is Normal_Weight,', 'NObeyesdad is Normal_Weight,', 'NObeyesdad is Insufficient_Weight,', 'NObeyesdad is Obesity_Type_III,', 'NObeyesdad is Insufficient_Weight,', 'NObeyesdad is Obesity_Type_III,', 'NObeyesdad is Obesity_Type_I,', 'NObeyesdad is Overweight_Level_I,', 'NObeyesdad is Obesity_Type_II,', 'NObeyesdad is Normal_Weight,', 'NObeyesdad is Obesity_Type_I,', 'NObeyesdad is Overweight_Level_II,', 'NObeyesdad is Obesity_Type_I,', 'NObeyesdad is Insufficient_Weight,', 'NObeyesdad is Obesity_Type_I,', 'NObeyesdad is Normal_Weight,', 'NObeyesdad is Normal_Weight,', 'NObeyesdad is Obesity_Type_I,', 'NObeyesdad is Obesity_Type_I,', 'NObeyesdad is Normal_Weight,', 'NObeyesdad is Obesity_Type_I,', 'NObeyesdad is Overweight_Level_I,', 'NObeyesdad is Obesity_Type_II,', 'NObeyesdad is Obesity_Type_I,', 'NObeyesdad is Overweight_Level_II,', 'NObeyesdad is Insufficient_Weight,', 'NObeyesdad is Normal_Weight,', 'NObeyesdad is Obesity_Type_II,', 'NObeyesdad is Overweight_Level_II,', 'NObeyesdad is Overweight_Level_I,', 'NObeyesdad is Obesity_Type_III,', 'NObeyesdad is Insufficient_Weight,', 'NObeyesdad is Normal_Weight,', 'NObeyesdad is Obesity_Type_II,', 'NObeyesdad is Obesity_Type_II,', 'NObeyesdad is Normal_Weight,', 'NObeyesdad is Obesity_Type_I,', 'NObeyesdad is Overweight_Level_II,', 'NObeyesdad is Obesity_Type_I,', 'NObeyesdad is Normal_Weight,', 'NObeyesdad is Normal_Weight,', 'NObeyesdad is Normal_Weight,', 'NObeyesdad is Normal_Weight,', 'NObeyesdad is Obesity_Type_II,']\n"
     ]
    },
    {
     "name": "stderr",
     "output_type": "stream",
     "text": [
      " 37%|███▋      | 371/1000 [00:33<00:55, 11.28it/s]"
     ]
    },
    {
     "name": "stdout",
     "output_type": "stream",
     "text": [
      "['NObeyesdad is Obesity_Type_I,', 'NObeyesdad is Obesity_Type_II,', 'NObeyesdad is Obesity_Type_II,', 'NObeyesdad is Obesity_Type_I,', 'NObeyesdad is Overweight_Level_II,', 'NObeyesdad is Overweight_Level_II,', 'NObeyesdad is Obesity_Type_II,', 'NObeyesdad is Obesity_Type_I,', 'NObeyesdad is Overweight_Level_I,', 'NObeyesdad is Insufficient_Weight,', 'NObeyesdad is Overweight_Level_II,', 'NObeyesdad is Obesity_Type_II,', 'NObeyesdad is Obesity_Type_I,', 'NObeyesdad is Obesity_Type_II,', 'NObeyesdad is Overweight_Level_II,', 'NObeyesdad is Normal_Weight,', 'NObeyesdad is Obesity_Type_I,', 'NObeyesdad is Obesity_Type_III,', 'NObeyesdad is Obesity_Type_I,', 'NObeyesdad is Obesity_Type_III,', 'NObeyesdad is Obesity_Type_III,', 'NObeyesdad is Obesity_Type_II,', 'NObeyesdad is Normal_Weight,', 'NObeyesdad is Overweight_Level_I,', 'NObeyesdad is Insufficient_Weight,', 'NObeyesdad is Obesity_Type_II,', 'NObeyesdad is Insufficient_Weight,', 'NObeyesdad is Normal_Weight,', 'NObeyesdad is Overweight_Level_I,', 'NObeyesdad is Obesity_Type_I,', 'NObeyesdad is Overweight_Level_I,', 'NObeyesdad is Overweight_Level_II,', 'NObeyesdad is Overweight_Level_II,', 'NObeyesdad is Overweight_Level_II,', 'NObeyesdad is Insufficient_Weight,', 'NObeyesdad is Normal_Weight,', 'NObeyesdad is Insufficient_Weight,', 'NObeyesdad is Overweight_Level_I,', 'NObeyesdad is Normal_Weight,', 'NObeyesdad is Obesity_Type_III,', 'NObeyesdad is Obesity_Type_III,', 'NObeyesdad is Obesity_Type_I,', 'NObeyesdad is Insufficient_Weight,', 'NObeyesdad is Obesity_Type_I,', 'NObeyesdad is Overweight_Level_I,', 'NObeyesdad is Obesity_Type_III,', 'NObeyesdad is Insufficient_Weight,', 'NObeyesdad is Obesity_Type_I,', 'NObeyesdad is Overweight_Level_I,', 'NObeyesdad is Obesity_Type_II,']\n"
     ]
    },
    {
     "name": "stderr",
     "output_type": "stream",
     "text": [
      " 39%|███▉      | 390/1000 [00:35<00:57, 10.55it/s]"
     ]
    },
    {
     "name": "stdout",
     "output_type": "stream",
     "text": [
      "['NObeyesdad is Obesity_Type_III,', 'NObeyesdad is Overweight_Level_I,', 'NObeyesdad is Normal_Weight,', 'NObeyesdad is Insufficient_Weight,', 'NObeyesdad is Obesity_Type_II,', 'NObeyesdad is Overweight_Level_II,', 'NObeyesdad is Obesity_Type_II,', 'NObeyesdad is Obesity_Type_II,', 'NObeyesdad is Obesity_Type_I,', 'NObeyesdad is Normal_Weight,', 'NObeyesdad is Obesity_Type_II,', 'NObeyesdad is Obesity_Type_I,', 'NObeyesdad is Overweight_Level_II,', 'NObeyesdad is Obesity_Type_I,', 'NObeyesdad is Obesity_Type_I,', 'NObeyesdad is Obesity_Type_III,', 'NObeyesdad is Insufficient_Weight,', 'NObeyesdad is Obesity_Type_II,', 'NObeyesdad is Overweight_Level_II,', 'NObeyesdad is Overweight_Level_I,', 'NObeyesdad is Overweight_Level_I,', 'NObeyesdad is Overweight_Level_I,', 'NObeyesdad is Overweight_Level_I,', 'NObeyesdad is Obesity_Type_III,', 'NObeyesdad is Obesity_Type_II,', 'NObeyesdad is Overweight_Level_I,', 'NObeyesdad is Overweight_Level_II,', 'NObeyesdad is Insufficient_Weight,', 'NObeyesdad is Obesity_Type_II,', 'NObeyesdad is Overweight_Level_II,', 'NObeyesdad is Obesity_Type_II,', 'NObeyesdad is Obesity_Type_III,', 'NObeyesdad is Overweight_Level_I,', 'NObeyesdad is Overweight_Level_II,', 'NObeyesdad is Normal_Weight,', 'NObeyesdad is Insufficient_Weight,', 'NObeyesdad is Obesity_Type_III,', 'NObeyesdad is Overweight_Level_II,', 'NObeyesdad is Obesity_Type_I,', 'NObeyesdad is Obesity_Type_I,', 'NObeyesdad is Insufficient_Weight,', 'NObeyesdad is Normal_Weight,', 'NObeyesdad is Overweight_Level_I,', 'NObeyesdad is Overweight_Level_II,', 'NObeyesdad is Overweight_Level_II,', 'NObeyesdad is Obesity_Type_I,', 'NObeyesdad is Overweight_Level_II,', 'NObeyesdad is Obesity_Type_III,', 'NObeyesdad is Insufficient_Weight,', 'NObeyesdad is Overweight_Level_I,']\n"
     ]
    },
    {
     "name": "stderr",
     "output_type": "stream",
     "text": [
      " 42%|████▏     | 418/1000 [00:37<00:51, 11.34it/s]"
     ]
    },
    {
     "name": "stdout",
     "output_type": "stream",
     "text": [
      "['NObeyesdad is Overweight_Level_I,', 'NObeyesdad is Obesity_Type_II,', 'NObeyesdad is Obesity_Type_II,', 'NObeyesdad is Obesity_Type_I,', 'NObeyesdad is Obesity_Type_III,', 'NObeyesdad is Obesity_Type_III,', 'NObeyesdad is Obesity_Type_I,', 'NObeyesdad is Obesity_Type_II,', 'NObeyesdad is Insufficient_Weight,', 'NObeyesdad is Overweight_Level_II,', 'NObeyesdad is Overweight_Level_I,', 'NObeyesdad is Obesity_Type_II,', 'NObeyesdad is Obesity_Type_II,', 'NObeyesdad is Obesity_Type_I,', 'NObeyesdad is Obesity_Type_III,', 'NObeyesdad is Obesity_Type_II,', 'NObeyesdad is Overweight_Level_I,', 'NObeyesdad is Insufficient_Weight,', 'NObeyesdad is Overweight_Level_II,', 'NObeyesdad is Overweight_Level_II,', 'NObeyesdad is Normal_Weight,', 'NObeyesdad is Overweight_Level_II,', 'NObeyesdad is Insufficient_Weight,', 'NObeyesdad is Obesity_Type_II,', 'NObeyesdad is Insufficient_Weight,', 'NObeyesdad is Obesity_Type_II,', 'NObeyesdad is Overweight_Level_II,', 'NObeyesdad is Insufficient_Weight,', 'NObeyesdad is Overweight_Level_I,', 'NObeyesdad is Overweight_Level_I,', 'NObeyesdad is Overweight_Level_II,', 'NObeyesdad is Obesity_Type_II,', 'NObeyesdad is Overweight_Level_II,', 'NObeyesdad is Normal_Weight,', 'NObeyesdad is Overweight_Level_II,', 'NObeyesdad is Overweight_Level_I,', 'NObeyesdad is Insufficient_Weight,', 'NObeyesdad is Overweight_Level_II,', 'NObeyesdad is Overweight_Level_I,', 'NObeyesdad is Insufficient_Weight,', 'NObeyesdad is Overweight_Level_II,', 'NObeyesdad is Obesity_Type_II,', 'NObeyesdad is Insufficient_Weight,', 'NObeyesdad is Obesity_Type_I,', 'NObeyesdad is Normal_Weight,', 'NObeyesdad is Overweight_Level_I,', 'NObeyesdad is Overweight_Level_II,', 'NObeyesdad is Obesity_Type_II,', 'NObeyesdad is Overweight_Level_II,', 'NObeyesdad is Overweight_Level_II,']\n"
     ]
    },
    {
     "name": "stderr",
     "output_type": "stream",
     "text": [
      " 44%|████▍     | 439/1000 [00:39<00:50, 11.13it/s]"
     ]
    },
    {
     "name": "stdout",
     "output_type": "stream",
     "text": [
      "['NObeyesdad is Insufficient_Weight,', 'NObeyesdad is Obesity_Type_II,', 'NObeyesdad is Obesity_Type_III,', 'NObeyesdad is Insufficient_Weight,', 'NObeyesdad is Insufficient_Weight,', 'NObeyesdad is Overweight_Level_II,', 'NObeyesdad is Obesity_Type_I,', 'NObeyesdad is Normal_Weight,', 'NObeyesdad is Overweight_Level_I,', 'NObeyesdad is Normal_Weight,', 'NObeyesdad is Obesity_Type_III,', 'NObeyesdad is Normal_Weight,', 'NObeyesdad is Insufficient_Weight,', 'NObeyesdad is Obesity_Type_II,', 'NObeyesdad is Obesity_Type_III,', 'NObeyesdad is Overweight_Level_II,', 'NObeyesdad is Overweight_Level_II,', 'NObeyesdad is Obesity_Type_II,', 'NObeyesdad is Insufficient_Weight,', 'NObeyesdad is Obesity_Type_I,', 'NObeyesdad is Obesity_Type_II,', 'NObeyesdad is Obesity_Type_II,', 'NObeyesdad is Normal_Weight,', 'NObeyesdad is Overweight_Level_I,', 'NObeyesdad is Obesity_Type_II,', 'NObeyesdad is Overweight_Level_II,', 'NObeyesdad is Overweight_Level_II,', 'NObeyesdad is Obesity_Type_II,', 'NObeyesdad is Overweight_Level_II,', 'NObeyesdad is Obesity_Type_II,', 'NObeyesdad is Obesity_Type_I,', 'NObeyesdad is Obesity_Type_III,', 'NObeyesdad is Obesity_Type_II,', 'NObeyesdad is Overweight_Level_I,', 'NObeyesdad is Obesity_Type_I,', 'NObeyesdad is Obesity_Type_I,', 'NObeyesdad is Insufficient_Weight,', 'NObeyesdad is Obesity_Type_III,', 'NObeyesdad is Normal_Weight,', 'NObeyesdad is Normal_Weight,', 'NObeyesdad is Obesity_Type_III,', 'NObeyesdad is Overweight_Level_II,', 'NObeyesdad is Obesity_Type_II,', 'NObeyesdad is Overweight_Level_II,', 'NObeyesdad is Obesity_Type_II,', 'NObeyesdad is Obesity_Type_II,', 'NObeyesdad is Normal_Weight,', 'NObeyesdad is Normal_Weight,', 'NObeyesdad is Insufficient_Weight,', 'NObeyesdad is Normal_Weight,']\n"
     ]
    },
    {
     "name": "stderr",
     "output_type": "stream",
     "text": [
      " 47%|████▋     | 468/1000 [00:41<00:44, 11.91it/s]"
     ]
    },
    {
     "name": "stdout",
     "output_type": "stream",
     "text": [
      "['NObeyesdad is Overweight_Level_I,', 'NObeyesdad is Obesity_Type_I,', 'NObeyesdad is Overweight_Level_II,', 'NObeyesdad is Obesity_Type_III,', 'NObeyesdad is Obesity_Type_I,', 'NObeyesdad is Obesity_Type_II,', 'NObeyesdad is Overweight_Level_II,', 'NObeyesdad is Obesity_Type_I,', 'NObeyesdad is Obesity_Type_I,', 'NObeyesdad is Obesity_Type_II,', 'NObeyesdad is Obesity_Type_II,', 'NObeyesdad is Overweight_Level_II,', 'NObeyesdad is Overweight_Level_II,', 'NObeyesdad is Overweight_Level_II,', 'NObeyesdad is Obesity_Type_I,', 'NObeyesdad is Overweight_Level_II,', 'NObeyesdad is Obesity_Type_I,', 'NObeyesdad is Obesity_Type_II,', 'NObeyesdad is Obesity_Type_I,', 'NObeyesdad is Insufficient_Weight,', 'NObeyesdad is Insufficient_Weight,', 'NObeyesdad is Normal_Weight,', 'NObeyesdad is Obesity_Type_III,', 'NObeyesdad is Insufficient_Weight,', 'NObeyesdad is Obesity_Type_III,', 'NObeyesdad is Obesity_Type_II,', 'NObeyesdad is Obesity_Type_III,', 'NObeyesdad is Obesity_Type_I,', 'NObeyesdad is Normal_Weight,', 'NObeyesdad is Obesity_Type_III,', 'NObeyesdad is Insufficient_Weight,', 'NObeyesdad is Obesity_Type_I,', 'NObeyesdad is Obesity_Type_III,', 'NObeyesdad is Obesity_Type_II,', 'NObeyesdad is Obesity_Type_I,', 'NObeyesdad is Overweight_Level_II,', 'NObeyesdad is Obesity_Type_II,', 'NObeyesdad is Obesity_Type_II,', 'NObeyesdad is Obesity_Type_I,', 'NObeyesdad is Obesity_Type_I,', 'NObeyesdad is Normal_Weight,', 'NObeyesdad is Overweight_Level_II,', 'NObeyesdad is Obesity_Type_III,', 'NObeyesdad is Overweight_Level_I,', 'NObeyesdad is Obesity_Type_III,', 'NObeyesdad is Obesity_Type_I,', 'NObeyesdad is Overweight_Level_I,', 'NObeyesdad is Obesity_Type_II,', 'NObeyesdad is Insufficient_Weight,', 'NObeyesdad is Obesity_Type_II,']\n"
     ]
    },
    {
     "name": "stderr",
     "output_type": "stream",
     "text": [
      " 49%|████▉     | 492/1000 [00:43<00:43, 11.76it/s]"
     ]
    },
    {
     "name": "stdout",
     "output_type": "stream",
     "text": [
      "['NObeyesdad is Obesity_Type_II,', 'NObeyesdad is Normal_Weight,', 'NObeyesdad is Insufficient_Weight,', 'NObeyesdad is Overweight_Level_I,', 'NObeyesdad is Insufficient_Weight,', 'NObeyesdad is Overweight_Level_I,', 'NObeyesdad is Overweight_Level_I,', 'NObeyesdad is Insufficient_Weight,', 'NObeyesdad is Overweight_Level_II,', 'NObeyesdad is Obesity_Type_III,', 'NObeyesdad is Insufficient_Weight,', 'NObeyesdad is Overweight_Level_I,', 'NObeyesdad is Overweight_Level_I,', 'NObeyesdad is Obesity_Type_III,', 'NObeyesdad is Overweight_Level_II,', 'NObeyesdad is Insufficient_Weight,', 'NObeyesdad is Obesity_Type_III,', 'NObeyesdad is Obesity_Type_II,', 'NObeyesdad is Obesity_Type_I,', 'NObeyesdad is Obesity_Type_III,', 'NObeyesdad is Obesity_Type_II,', 'NObeyesdad is Obesity_Type_III,', 'NObeyesdad is Overweight_Level_II,', 'NObeyesdad is Overweight_Level_II,', 'NObeyesdad is Obesity_Type_II,', 'NObeyesdad is Overweight_Level_II,', 'NObeyesdad is Normal_Weight,', 'NObeyesdad is Obesity_Type_II,', 'NObeyesdad is Obesity_Type_I,', 'NObeyesdad is Insufficient_Weight,', 'NObeyesdad is Insufficient_Weight,', 'NObeyesdad is Obesity_Type_II,', 'NObeyesdad is Obesity_Type_I,', 'NObeyesdad is Obesity_Type_II,', 'NObeyesdad is Overweight_Level_I,', 'NObeyesdad is Normal_Weight,', 'NObeyesdad is Normal_Weight,', 'NObeyesdad is Obesity_Type_III,', 'NObeyesdad is Obesity_Type_III,', 'NObeyesdad is Obesity_Type_II,', 'NObeyesdad is Overweight_Level_I,', 'NObeyesdad is Obesity_Type_II,', 'NObeyesdad is Obesity_Type_III,', 'NObeyesdad is Overweight_Level_II,', 'NObeyesdad is Obesity_Type_III,', 'NObeyesdad is Obesity_Type_I,', 'NObeyesdad is Overweight_Level_I,', 'NObeyesdad is Obesity_Type_I,', 'NObeyesdad is Overweight_Level_I,', 'NObeyesdad is Obesity_Type_I,']\n"
     ]
    },
    {
     "name": "stderr",
     "output_type": "stream",
     "text": [
      " 52%|█████▏    | 518/1000 [00:45<00:40, 11.96it/s]"
     ]
    },
    {
     "name": "stdout",
     "output_type": "stream",
     "text": [
      "['NObeyesdad is Obesity_Type_I,', 'NObeyesdad is Overweight_Level_II,', 'NObeyesdad is Overweight_Level_II,', 'NObeyesdad is Insufficient_Weight,', 'NObeyesdad is Obesity_Type_I,', 'NObeyesdad is Normal_Weight,', 'NObeyesdad is Insufficient_Weight,', 'NObeyesdad is Normal_Weight,', 'NObeyesdad is Insufficient_Weight,', 'NObeyesdad is Obesity_Type_I,', 'NObeyesdad is Obesity_Type_I,', 'NObeyesdad is Normal_Weight,', 'NObeyesdad is Obesity_Type_II,', 'NObeyesdad is Obesity_Type_III,', 'NObeyesdad is Overweight_Level_II,', 'NObeyesdad is Obesity_Type_I,', 'NObeyesdad is Overweight_Level_I,', 'NObeyesdad is Obesity_Type_I,', 'NObeyesdad is Overweight_Level_II,', 'NObeyesdad is Obesity_Type_I,', 'NObeyesdad is Obesity_Type_II,', 'NObeyesdad is Normal_Weight,', 'NObeyesdad is Overweight_Level_I,', 'NObeyesdad is Obesity_Type_III,', 'NObeyesdad is Obesity_Type_III,', 'NObeyesdad is Overweight_Level_I,', 'NObeyesdad is Insufficient_Weight,', 'NObeyesdad is Insufficient_Weight,', 'NObeyesdad is Overweight_Level_I,', 'NObeyesdad is Insufficient_Weight,', 'NObeyesdad is Overweight_Level_I,', 'NObeyesdad is Overweight_Level_I,', 'NObeyesdad is Obesity_Type_II,', 'NObeyesdad is Obesity_Type_III,', 'NObeyesdad is Normal_Weight,', 'NObeyesdad is Overweight_Level_I,', 'NObeyesdad is Normal_Weight,', 'NObeyesdad is Obesity_Type_III,', 'NObeyesdad is Obesity_Type_II,', 'NObeyesdad is Obesity_Type_III,', 'NObeyesdad is Obesity_Type_I,', 'NObeyesdad is Obesity_Type_II,', 'NObeyesdad is Insufficient_Weight,', 'NObeyesdad is Overweight_Level_I,', 'NObeyesdad is Overweight_Level_I,', 'NObeyesdad is Normal_Weight,', 'NObeyesdad is Obesity_Type_I,', 'NObeyesdad is Obesity_Type_I,', 'NObeyesdad is Normal_Weight,', 'NObeyesdad is Obesity_Type_I,']\n"
     ]
    },
    {
     "name": "stderr",
     "output_type": "stream",
     "text": [
      " 54%|█████▍    | 539/1000 [00:47<00:40, 11.41it/s]"
     ]
    },
    {
     "name": "stdout",
     "output_type": "stream",
     "text": [
      "['NObeyesdad is Obesity_Type_II,', 'NObeyesdad is Overweight_Level_II,', 'NObeyesdad is Obesity_Type_III,', 'NObeyesdad is Normal_Weight,', 'NObeyesdad is Obesity_Type_III,', 'NObeyesdad is Overweight_Level_II,', 'NObeyesdad is Normal_Weight,', 'NObeyesdad is Overweight_Level_I,', 'NObeyesdad is Insufficient_Weight,', 'NObeyesdad is Overweight_Level_I,', 'NObeyesdad is Overweight_Level_II,', 'NObeyesdad is Obesity_Type_III,', 'NObeyesdad is Overweight_Level_II,', 'NObeyesdad is Obesity_Type_II,', 'NObeyesdad is Normal_Weight,', 'NObeyesdad is Insufficient_Weight,', 'NObeyesdad is Overweight_Level_II,', 'NObeyesdad is Obesity_Type_II,', 'NObeyesdad is Obesity_Type_II,', 'NObeyesdad is Obesity_Type_II,', 'NObeyesdad is Overweight_Level_II,', 'NObeyesdad is Obesity_Type_I,', 'NObeyesdad is Obesity_Type_II,', 'NObeyesdad is Normal_Weight,', 'NObeyesdad is Normal_Weight,', 'NObeyesdad is Obesity_Type_II,', 'NObeyesdad is Overweight_Level_I,', 'NObeyesdad is Obesity_Type_I,', 'NObeyesdad is Overweight_Level_I,', 'NObeyesdad is Insufficient_Weight,', 'NObeyesdad is Obesity_Type_II,', 'NObeyesdad is Insufficient_Weight,', 'NObeyesdad is Obesity_Type_III,', 'NObeyesdad is Overweight_Level_II,', 'NObeyesdad is Obesity_Type_I,', 'NObeyesdad is Overweight_Level_II,', 'NObeyesdad is Overweight_Level_II,', 'NObeyesdad is Normal_Weight,', 'NObeyesdad is Insufficient_Weight,', 'NObeyesdad is Obesity_Type_I,', 'NObeyesdad is Obesity_Type_II,', 'NObeyesdad is Obesity_Type_II,', 'NObeyesdad is Overweight_Level_I,', 'NObeyesdad is Overweight_Level_I,', 'NObeyesdad is Obesity_Type_II,', 'NObeyesdad is Obesity_Type_II,', 'NObeyesdad is Obesity_Type_II,', 'NObeyesdad is Normal_Weight,', 'NObeyesdad is Normal_Weight,', 'NObeyesdad is Obesity_Type_I,']\n"
     ]
    },
    {
     "name": "stderr",
     "output_type": "stream",
     "text": [
      " 56%|█████▋    | 565/1000 [00:49<00:36, 11.79it/s]"
     ]
    },
    {
     "name": "stdout",
     "output_type": "stream",
     "text": [
      "['NObeyesdad is Obesity_Type_II,', 'NObeyesdad is Obesity_Type_II,', 'NObeyesdad is Obesity_Type_I,', 'NObeyesdad is Overweight_Level_I,', 'NObeyesdad is Obesity_Type_III,', 'NObeyesdad is Obesity_Type_II,', 'NObeyesdad is Insufficient_Weight,', 'NObeyesdad is Obesity_Type_I,', 'NObeyesdad is Insufficient_Weight,', 'NObeyesdad is Insufficient_Weight,', 'NObeyesdad is Obesity_Type_II,', 'NObeyesdad is Normal_Weight,', 'NObeyesdad is Overweight_Level_I,', 'NObeyesdad is Obesity_Type_II,', 'NObeyesdad is Normal_Weight,', 'NObeyesdad is Obesity_Type_II,', 'NObeyesdad is Obesity_Type_II,', 'NObeyesdad is Insufficient_Weight,', 'NObeyesdad is Obesity_Type_II,', 'NObeyesdad is Insufficient_Weight,', 'NObeyesdad is Insufficient_Weight,', 'NObeyesdad is Overweight_Level_I,', 'NObeyesdad is Obesity_Type_III,', 'NObeyesdad is Normal_Weight,', 'NObeyesdad is Normal_Weight,', 'NObeyesdad is Obesity_Type_III,', 'NObeyesdad is Obesity_Type_III,', 'NObeyesdad is Obesity_Type_II,', 'NObeyesdad is Overweight_Level_II,', 'NObeyesdad is Overweight_Level_I,', 'NObeyesdad is Obesity_Type_II,', 'NObeyesdad is Obesity_Type_II,', 'NObeyesdad is Obesity_Type_II,', 'NObeyesdad is Insufficient_Weight,', 'NObeyesdad is Overweight_Level_I,', 'NObeyesdad is Overweight_Level_I,', 'NObeyesdad is Overweight_Level_II,', 'NObeyesdad is Obesity_Type_III,', 'NObeyesdad is Obesity_Type_III,', 'NObeyesdad is Obesity_Type_II,', 'NObeyesdad is Obesity_Type_III,', 'NObeyesdad is Obesity_Type_II,', 'NObeyesdad is Normal_Weight,', 'NObeyesdad is Obesity_Type_II,', 'NObeyesdad is Obesity_Type_III,', 'NObeyesdad is Insufficient_Weight,', 'NObeyesdad is Normal_Weight,', 'NObeyesdad is Obesity_Type_II,', 'NObeyesdad is Insufficient_Weight,', 'NObeyesdad is Obesity_Type_III,']\n"
     ]
    },
    {
     "name": "stderr",
     "output_type": "stream",
     "text": [
      " 58%|█████▊    | 584/1000 [00:51<00:37, 11.22it/s]"
     ]
    },
    {
     "name": "stdout",
     "output_type": "stream",
     "text": [
      "['NObeyesdad is Overweight_Level_II,', 'NObeyesdad is Overweight_Level_II,', 'NObeyesdad is Overweight_Level_I,', 'NObeyesdad is Insufficient_Weight,', 'NObeyesdad is Insufficient_Weight,', 'NObeyesdad is Obesity_Type_I,', 'NObeyesdad is Obesity_Type_III,', 'NObeyesdad is Obesity_Type_III,', 'NObeyesdad is Obesity_Type_I,', 'NObeyesdad is Insufficient_Weight,', 'NObeyesdad is Overweight_Level_II,', 'NObeyesdad is Overweight_Level_II,', 'NObeyesdad is Normal_Weight,', 'NObeyesdad is Obesity_Type_III,', 'NObeyesdad is Obesity_Type_II,', 'NObeyesdad is Obesity_Type_II,', 'NObeyesdad is Insufficient_Weight,', 'NObeyesdad is Overweight_Level_II,', 'NObeyesdad is Overweight_Level_I,', 'NObeyesdad is Insufficient_Weight,', 'NObeyesdad is Overweight_Level_I,', 'NObeyesdad is Obesity_Type_III,', 'NObeyesdad is Obesity_Type_I,', 'NObeyesdad is Normal_Weight,', 'NObeyesdad is Insufficient_Weight,', 'NObeyesdad is Overweight_Level_II,', 'NObeyesdad is Normal_Weight,', 'NObeyesdad is Normal_Weight,', 'NObeyesdad is Obesity_Type_III,', 'NObeyesdad is Normal_Weight,', 'NObeyesdad is Insufficient_Weight,', 'NObeyesdad is Normal_Weight,', 'NObeyesdad is Overweight_Level_I,', 'NObeyesdad is Insufficient_Weight,', 'NObeyesdad is Obesity_Type_II,', 'NObeyesdad is Normal_Weight,', 'NObeyesdad is Obesity_Type_II,', 'NObeyesdad is Obesity_Type_III,', 'NObeyesdad is Obesity_Type_II,', 'NObeyesdad is Overweight_Level_I,', 'NObeyesdad is Obesity_Type_II,', 'NObeyesdad is Obesity_Type_II,', 'NObeyesdad is Obesity_Type_II,', 'NObeyesdad is Overweight_Level_II,', 'NObeyesdad is Obesity_Type_I,', 'NObeyesdad is Overweight_Level_II,', 'NObeyesdad is Obesity_Type_II,', 'NObeyesdad is Obesity_Type_I,', 'NObeyesdad is Obesity_Type_III,', 'NObeyesdad is Insufficient_Weight,']\n"
     ]
    },
    {
     "name": "stderr",
     "output_type": "stream",
     "text": [
      " 61%|██████    | 607/1000 [00:53<00:35, 11.05it/s]"
     ]
    },
    {
     "name": "stdout",
     "output_type": "stream",
     "text": [
      "['NObeyesdad is Overweight_Level_II,', 'NObeyesdad is Overweight_Level_II,', 'NObeyesdad is Overweight_Level_I,', 'NObeyesdad is Overweight_Level_II,', 'NObeyesdad is Obesity_Type_II,', 'NObeyesdad is Obesity_Type_I,', 'NObeyesdad is Overweight_Level_I,', 'NObeyesdad is Obesity_Type_II,', 'NObeyesdad is Obesity_Type_I,', 'NObeyesdad is Obesity_Type_II,', 'NObeyesdad is Obesity_Type_III,', 'NObeyesdad is Normal_Weight,', 'NObeyesdad is Insufficient_Weight,', 'NObeyesdad is Normal_Weight,', 'NObeyesdad is Normal_Weight,', 'NObeyesdad is Overweight_Level_I,', 'NObeyesdad is Obesity_Type_II,', 'NObeyesdad is Overweight_Level_I,', 'NObeyesdad is Normal_Weight,', 'NObeyesdad is Obesity_Type_I,', 'NObeyesdad is Overweight_Level_II,', 'NObeyesdad is Normal_Weight,', 'NObeyesdad is Obesity_Type_II,', 'NObeyesdad is Normal_Weight,', 'NObeyesdad is Obesity_Type_III,', 'NObeyesdad is Obesity_Type_III,', 'NObeyesdad is Overweight_Level_I,', 'NObeyesdad is Insufficient_Weight,', 'NObeyesdad is Obesity_Type_II,', 'NObeyesdad is Overweight_Level_I,', 'NObeyesdad is Overweight_Level_I,', 'NObeyesdad is Overweight_Level_I,', 'NObeyesdad is Overweight_Level_I,', 'NObeyesdad is Obesity_Type_III,', 'NObeyesdad is Obesity_Type_III,', 'NObeyesdad is Obesity_Type_III,', 'NObeyesdad is Insufficient_Weight,', 'NObeyesdad is Overweight_Level_I,', 'NObeyesdad is Overweight_Level_II,', 'NObeyesdad is Overweight_Level_I,', 'NObeyesdad is Obesity_Type_III,', 'NObeyesdad is Insufficient_Weight,', 'NObeyesdad is Overweight_Level_I,', 'NObeyesdad is Obesity_Type_I,', 'NObeyesdad is Obesity_Type_III,', 'NObeyesdad is Obesity_Type_II,', 'NObeyesdad is Obesity_Type_II,', 'NObeyesdad is Obesity_Type_III,', 'NObeyesdad is Normal_Weight,', 'NObeyesdad is Obesity_Type_II,']\n"
     ]
    },
    {
     "name": "stderr",
     "output_type": "stream",
     "text": [
      " 63%|██████▎   | 628/1000 [00:55<00:34, 10.77it/s]"
     ]
    },
    {
     "name": "stdout",
     "output_type": "stream",
     "text": [
      "['NObeyesdad is Overweight_Level_I,', 'NObeyesdad is Normal_Weight,', 'NObeyesdad is Obesity_Type_I,', 'NObeyesdad is Overweight_Level_II,', 'NObeyesdad is Normal_Weight,', 'NObeyesdad is Obesity_Type_III,', 'NObeyesdad is Obesity_Type_III,', 'NObeyesdad is Obesity_Type_III,', 'NObeyesdad is Insufficient_Weight,', 'NObeyesdad is Normal_Weight,', 'NObeyesdad is Normal_Weight,', 'NObeyesdad is Normal_Weight,', 'NObeyesdad is Obesity_Type_III,', 'NObeyesdad is Insufficient_Weight,', 'NObeyesdad is Obesity_Type_I,', 'NObeyesdad is Overweight_Level_II,', 'NObeyesdad is Obesity_Type_I,', 'NObeyesdad is Obesity_Type_II,', 'NObeyesdad is Obesity_Type_I,', 'NObeyesdad is Obesity_Type_I,', 'NObeyesdad is Obesity_Type_I,', 'NObeyesdad is Overweight_Level_II,', 'NObeyesdad is Overweight_Level_II,', 'NObeyesdad is Normal_Weight,', 'NObeyesdad is Obesity_Type_I,', 'NObeyesdad is Obesity_Type_I,', 'NObeyesdad is Obesity_Type_II,', 'NObeyesdad is Insufficient_Weight,', 'NObeyesdad is Obesity_Type_I,', 'NObeyesdad is Obesity_Type_III,', 'NObeyesdad is Obesity_Type_III,', 'NObeyesdad is Obesity_Type_I,', 'NObeyesdad is Obesity_Type_I,', 'NObeyesdad is Obesity_Type_III,', 'NObeyesdad is Overweight_Level_II,', 'NObeyesdad is Obesity_Type_II,', 'NObeyesdad is Obesity_Type_III,', 'NObeyesdad is Insufficient_Weight,', 'NObeyesdad is Overweight_Level_II,', 'NObeyesdad is Obesity_Type_I,', 'NObeyesdad is Overweight_Level_II,', 'NObeyesdad is Overweight_Level_II,', 'NObeyesdad is Overweight_Level_I,', 'NObeyesdad is Insufficient_Weight,', 'NObeyesdad is Obesity_Type_II,', 'NObeyesdad is Overweight_Level_II,', 'NObeyesdad is Obesity_Type_II,', 'NObeyesdad is Obesity_Type_I,', 'NObeyesdad is Insufficient_Weight,', 'NObeyesdad is Obesity_Type_I,']\n"
     ]
    },
    {
     "name": "stderr",
     "output_type": "stream",
     "text": [
      " 65%|██████▌   | 654/1000 [00:57<00:30, 11.42it/s]"
     ]
    },
    {
     "name": "stdout",
     "output_type": "stream",
     "text": [
      "['NObeyesdad is Overweight_Level_II,', 'NObeyesdad is Obesity_Type_I,', 'NObeyesdad is Overweight_Level_II,', 'NObeyesdad is Overweight_Level_I,', 'NObeyesdad is Obesity_Type_I,', 'NObeyesdad is Obesity_Type_II,', 'NObeyesdad is Obesity_Type_II,', 'NObeyesdad is Obesity_Type_II,', 'NObeyesdad is Normal_Weight,', 'NObeyesdad is Normal_Weight,', 'NObeyesdad is Obesity_Type_II,', 'NObeyesdad is Obesity_Type_I,', 'NObeyesdad is Normal_Weight,', 'NObeyesdad is Insufficient_Weight,', 'NObeyesdad is Obesity_Type_III,', 'NObeyesdad is Insufficient_Weight,', 'NObeyesdad is Overweight_Level_I,', 'NObeyesdad is Obesity_Type_II,', 'NObeyesdad is Normal_Weight,', 'NObeyesdad is Normal_Weight,', 'NObeyesdad is Obesity_Type_II,', 'NObeyesdad is Overweight_Level_I,', 'NObeyesdad is Obesity_Type_III,', 'NObeyesdad is Overweight_Level_II,', 'NObeyesdad is Obesity_Type_I,', 'NObeyesdad is Insufficient_Weight,', 'NObeyesdad is Normal_Weight,', 'NObeyesdad is Normal_Weight,', 'NObeyesdad is Normal_Weight,', 'NObeyesdad is Overweight_Level_I,', 'NObeyesdad is Obesity_Type_III,', 'NObeyesdad is Insufficient_Weight,', 'NObeyesdad is Insufficient_Weight,', 'NObeyesdad is Obesity_Type_II,', 'NObeyesdad is Obesity_Type_II,', 'NObeyesdad is Obesity_Type_III,', 'NObeyesdad is Obesity_Type_III,', 'NObeyesdad is Insufficient_Weight,', 'NObeyesdad is Insufficient_Weight,', 'NObeyesdad is Obesity_Type_II,', 'NObeyesdad is Obesity_Type_I,', 'NObeyesdad is Obesity_Type_II,', 'NObeyesdad is Obesity_Type_III,', 'NObeyesdad is Obesity_Type_II,', 'NObeyesdad is Insufficient_Weight,', 'NObeyesdad is Overweight_Level_I,', 'NObeyesdad is Normal_Weight,', 'NObeyesdad is Overweight_Level_II,', 'NObeyesdad is Insufficient_Weight,', 'NObeyesdad is Obesity_Type_III,']\n"
     ]
    },
    {
     "name": "stderr",
     "output_type": "stream",
     "text": [
      " 67%|██████▋   | 673/1000 [01:00<00:30, 10.73it/s]"
     ]
    },
    {
     "name": "stdout",
     "output_type": "stream",
     "text": [
      "['NObeyesdad is Obesity_Type_I,', 'NObeyesdad is Overweight_Level_I,', 'NObeyesdad is Normal_Weight,', 'NObeyesdad is Obesity_Type_I,', 'NObeyesdad is Overweight_Level_II,', 'NObeyesdad is Normal_Weight,', 'NObeyesdad is Obesity_Type_III,', 'NObeyesdad is Insufficient_Weight,', 'NObeyesdad is Normal_Weight,', 'NObeyesdad is Overweight_Level_I,', 'NObeyesdad is Obesity_Type_III,', 'NObeyesdad is Obesity_Type_III,', 'NObeyesdad is Obesity_Type_III,', 'NObeyesdad is Overweight_Level_I,', 'NObeyesdad is Obesity_Type_III,', 'NObeyesdad is Overweight_Level_I,', 'NObeyesdad is Obesity_Type_III,', 'NObeyesdad is Obesity_Type_I,', 'NObeyesdad is Obesity_Type_II,', 'NObeyesdad is Obesity_Type_I,', 'NObeyesdad is Overweight_Level_II,', 'NObeyesdad is Overweight_Level_II,', 'NObeyesdad is Overweight_Level_I,', 'NObeyesdad is Obesity_Type_I,', 'NObeyesdad is Insufficient_Weight,', 'NObeyesdad is Insufficient_Weight,', 'NObeyesdad is Obesity_Type_II,', 'NObeyesdad is Obesity_Type_III,', 'NObeyesdad is Overweight_Level_I,', 'NObeyesdad is Insufficient_Weight,', 'NObeyesdad is Normal_Weight,', 'NObeyesdad is Obesity_Type_II,', 'NObeyesdad is Obesity_Type_II,', 'NObeyesdad is Obesity_Type_II,', 'NObeyesdad is Obesity_Type_II,', 'NObeyesdad is Obesity_Type_I,', 'NObeyesdad is Obesity_Type_III,', 'NObeyesdad is Normal_Weight,', 'NObeyesdad is Overweight_Level_II,', 'NObeyesdad is Obesity_Type_III,', 'NObeyesdad is Obesity_Type_II,', 'NObeyesdad is Insufficient_Weight,', 'NObeyesdad is Insufficient_Weight,', 'NObeyesdad is Insufficient_Weight,', 'NObeyesdad is Overweight_Level_I,', 'NObeyesdad is Obesity_Type_II,', 'NObeyesdad is Obesity_Type_III,', 'NObeyesdad is Obesity_Type_II,', 'NObeyesdad is Normal_Weight,', 'NObeyesdad is Overweight_Level_II,']\n"
     ]
    },
    {
     "name": "stderr",
     "output_type": "stream",
     "text": [
      " 69%|██████▉   | 691/1000 [01:02<00:30, 10.12it/s]"
     ]
    },
    {
     "name": "stdout",
     "output_type": "stream",
     "text": [
      "['NObeyesdad is Obesity_Type_I,', 'NObeyesdad is Obesity_Type_III,', 'NObeyesdad is Obesity_Type_III,', 'NObeyesdad is Obesity_Type_III,', 'NObeyesdad is Overweight_Level_I,', 'NObeyesdad is Normal_Weight,', 'NObeyesdad is Overweight_Level_II,', 'NObeyesdad is Overweight_Level_I,', 'NObeyesdad is Insufficient_Weight,', 'NObeyesdad is Obesity_Type_I,', 'NObeyesdad is Overweight_Level_II,', 'NObeyesdad is Overweight_Level_I,', 'NObeyesdad is Overweight_Level_II,', 'NObeyesdad is Obesity_Type_III,', 'NObeyesdad is Overweight_Level_I,', 'NObeyesdad is Obesity_Type_I,', 'NObeyesdad is Overweight_Level_II,', 'NObeyesdad is Overweight_Level_I,', 'NObeyesdad is Insufficient_Weight,', 'NObeyesdad is Obesity_Type_III,', 'NObeyesdad is Overweight_Level_II,', 'NObeyesdad is Obesity_Type_II,', 'NObeyesdad is Obesity_Type_II,', 'NObeyesdad is Insufficient_Weight,', 'NObeyesdad is Normal_Weight,', 'NObeyesdad is Overweight_Level_I,', 'NObeyesdad is Obesity_Type_II,', 'NObeyesdad is Overweight_Level_I,', 'NObeyesdad is Overweight_Level_I,', 'NObeyesdad is Obesity_Type_I,', 'NObeyesdad is Overweight_Level_II,', 'NObeyesdad is Obesity_Type_II,', 'NObeyesdad is Obesity_Type_III,', 'NObeyesdad is Overweight_Level_II,', 'NObeyesdad is Overweight_Level_I,', 'NObeyesdad is Insufficient_Weight,', 'NObeyesdad is Obesity_Type_II,', 'NObeyesdad is Overweight_Level_II,', 'NObeyesdad is Obesity_Type_II,', 'NObeyesdad is Obesity_Type_III,', 'NObeyesdad is Obesity_Type_III,', 'NObeyesdad is Overweight_Level_II,', 'NObeyesdad is Overweight_Level_I,', 'NObeyesdad is Overweight_Level_I,', 'NObeyesdad is Overweight_Level_I,', 'NObeyesdad is Obesity_Type_II,', 'NObeyesdad is Overweight_Level_II,', 'NObeyesdad is Overweight_Level_I,', 'NObeyesdad is Insufficient_Weight,', 'NObeyesdad is Normal_Weight,']\n"
     ]
    },
    {
     "name": "stderr",
     "output_type": "stream",
     "text": [
      " 72%|███████▏  | 716/1000 [01:04<00:26, 10.70it/s]"
     ]
    },
    {
     "name": "stdout",
     "output_type": "stream",
     "text": [
      "['NObeyesdad is Insufficient_Weight,', 'NObeyesdad is Obesity_Type_II,', 'NObeyesdad is Obesity_Type_I,', 'NObeyesdad is Overweight_Level_I,', 'NObeyesdad is Overweight_Level_II,', 'NObeyesdad is Obesity_Type_I,', 'NObeyesdad is Overweight_Level_I,', 'NObeyesdad is Overweight_Level_II,', 'NObeyesdad is Obesity_Type_I,', 'NObeyesdad is Obesity_Type_II,', 'NObeyesdad is Obesity_Type_I,', 'NObeyesdad is Overweight_Level_II,', 'NObeyesdad is Overweight_Level_I,', 'NObeyesdad is Overweight_Level_I,', 'NObeyesdad is Overweight_Level_I,', 'NObeyesdad is Obesity_Type_I,', 'NObeyesdad is Normal_Weight,', 'NObeyesdad is Obesity_Type_III,', 'NObeyesdad is Obesity_Type_II,', 'NObeyesdad is Obesity_Type_III,', 'NObeyesdad is Overweight_Level_I,', 'NObeyesdad is Normal_Weight,', 'NObeyesdad is Obesity_Type_I,', 'NObeyesdad is Overweight_Level_II,', 'NObeyesdad is Insufficient_Weight,', 'NObeyesdad is Insufficient_Weight,', 'NObeyesdad is Overweight_Level_II,', 'NObeyesdad is Obesity_Type_II,', 'NObeyesdad is Obesity_Type_III,', 'NObeyesdad is Obesity_Type_II,', 'NObeyesdad is Normal_Weight,', 'NObeyesdad is Obesity_Type_II,', 'NObeyesdad is Overweight_Level_II,', 'NObeyesdad is Obesity_Type_II,', 'NObeyesdad is Obesity_Type_II,', 'NObeyesdad is Normal_Weight,', 'NObeyesdad is Overweight_Level_I,', 'NObeyesdad is Obesity_Type_II,', 'NObeyesdad is Normal_Weight,', 'NObeyesdad is Obesity_Type_II,', 'NObeyesdad is Obesity_Type_I,', 'NObeyesdad is Overweight_Level_II,', 'NObeyesdad is Obesity_Type_I,', 'NObeyesdad is Obesity_Type_II,', 'NObeyesdad is Obesity_Type_III,', 'NObeyesdad is Overweight_Level_I,', 'NObeyesdad is Obesity_Type_II,', 'NObeyesdad is Overweight_Level_I,', 'NObeyesdad is Insufficient_Weight,', 'NObeyesdad is Insufficient_Weight,']\n"
     ]
    },
    {
     "name": "stderr",
     "output_type": "stream",
     "text": [
      " 74%|███████▎  | 736/1000 [01:06<00:25, 10.35it/s]"
     ]
    },
    {
     "name": "stdout",
     "output_type": "stream",
     "text": [
      "['NObeyesdad is Overweight_Level_II,', 'NObeyesdad is Obesity_Type_II,', 'NObeyesdad is Obesity_Type_I,', 'NObeyesdad is Insufficient_Weight,', 'NObeyesdad is Obesity_Type_I,', 'NObeyesdad is Obesity_Type_II,', 'NObeyesdad is Overweight_Level_II,', 'NObeyesdad is Overweight_Level_I,', 'NObeyesdad is Obesity_Type_III,', 'NObeyesdad is Overweight_Level_II,', 'NObeyesdad is Normal_Weight,', 'NObeyesdad is Normal_Weight,', 'NObeyesdad is Obesity_Type_III,', 'NObeyesdad is Obesity_Type_I,', 'NObeyesdad is Obesity_Type_II,', 'NObeyesdad is Normal_Weight,', 'NObeyesdad is Obesity_Type_III,', 'NObeyesdad is Overweight_Level_II,', 'NObeyesdad is Obesity_Type_III,', 'NObeyesdad is Insufficient_Weight,', 'NObeyesdad is Obesity_Type_III,', 'NObeyesdad is Insufficient_Weight,', 'NObeyesdad is Obesity_Type_II,', 'NObeyesdad is Normal_Weight,', 'NObeyesdad is Obesity_Type_III,', 'NObeyesdad is Obesity_Type_I,', 'NObeyesdad is Normal_Weight,', 'NObeyesdad is Overweight_Level_II,', 'NObeyesdad is Insufficient_Weight,', 'NObeyesdad is Obesity_Type_III,', 'NObeyesdad is Obesity_Type_II,', 'NObeyesdad is Obesity_Type_II,', 'NObeyesdad is Obesity_Type_I,', 'NObeyesdad is Insufficient_Weight,', 'NObeyesdad is Insufficient_Weight,', 'NObeyesdad is Obesity_Type_III,', 'NObeyesdad is Obesity_Type_I,', 'NObeyesdad is Insufficient_Weight,', 'NObeyesdad is Obesity_Type_I,', 'NObeyesdad is Overweight_Level_I,', 'NObeyesdad is Obesity_Type_I,', 'NObeyesdad is Normal_Weight,', 'NObeyesdad is Overweight_Level_I,', 'NObeyesdad is Obesity_Type_I,', 'NObeyesdad is Obesity_Type_I,', 'NObeyesdad is Obesity_Type_II,', 'NObeyesdad is Insufficient_Weight,', 'NObeyesdad is Obesity_Type_II,', 'NObeyesdad is Normal_Weight,', 'NObeyesdad is Overweight_Level_I,']\n"
     ]
    },
    {
     "name": "stderr",
     "output_type": "stream",
     "text": [
      " 76%|███████▌  | 757/1000 [01:08<00:23, 10.40it/s]"
     ]
    },
    {
     "name": "stdout",
     "output_type": "stream",
     "text": [
      "['NObeyesdad is Normal_Weight,', 'NObeyesdad is Insufficient_Weight,', 'NObeyesdad is Overweight_Level_I,', 'NObeyesdad is Obesity_Type_III,', 'NObeyesdad is Obesity_Type_I,', 'NObeyesdad is Obesity_Type_II,', 'NObeyesdad is Overweight_Level_II,', 'NObeyesdad is Overweight_Level_II,', 'NObeyesdad is Normal_Weight,', 'NObeyesdad is Normal_Weight,', 'NObeyesdad is Overweight_Level_II,', 'NObeyesdad is Obesity_Type_I,', 'NObeyesdad is Overweight_Level_II,', 'NObeyesdad is Obesity_Type_I,', 'NObeyesdad is Overweight_Level_II,', 'NObeyesdad is Obesity_Type_II,', 'NObeyesdad is Normal_Weight,', 'NObeyesdad is Overweight_Level_I,', 'NObeyesdad is Obesity_Type_II,', 'NObeyesdad is Overweight_Level_II,', 'NObeyesdad is Obesity_Type_I,', 'NObeyesdad is Obesity_Type_I,', 'NObeyesdad is Normal_Weight,', 'NObeyesdad is Obesity_Type_II,', 'NObeyesdad is Overweight_Level_I,', 'NObeyesdad is Obesity_Type_III,', 'NObeyesdad is Obesity_Type_I,', 'NObeyesdad is Normal_Weight,', 'NObeyesdad is Insufficient_Weight,', 'NObeyesdad is Obesity_Type_I,', 'NObeyesdad is Obesity_Type_I,', 'NObeyesdad is Obesity_Type_I,', 'NObeyesdad is Overweight_Level_I,', 'NObeyesdad is Obesity_Type_I,', 'NObeyesdad is Overweight_Level_I,', 'NObeyesdad is Overweight_Level_I,', 'NObeyesdad is Overweight_Level_II,', 'NObeyesdad is Overweight_Level_I,', 'NObeyesdad is Obesity_Type_II,', 'NObeyesdad is Obesity_Type_III,', 'NObeyesdad is Obesity_Type_II,', 'NObeyesdad is Obesity_Type_II,', 'NObeyesdad is Overweight_Level_II,', 'NObeyesdad is Overweight_Level_I,', 'NObeyesdad is Obesity_Type_II,', 'NObeyesdad is Normal_Weight,', 'NObeyesdad is Obesity_Type_III,', 'NObeyesdad is Overweight_Level_I,', 'NObeyesdad is Insufficient_Weight,', 'NObeyesdad is Obesity_Type_II,']\n"
     ]
    },
    {
     "name": "stderr",
     "output_type": "stream",
     "text": [
      " 78%|███████▊  | 776/1000 [01:10<00:22,  9.92it/s]"
     ]
    },
    {
     "name": "stdout",
     "output_type": "stream",
     "text": [
      "['NObeyesdad is Obesity_Type_I,', 'NObeyesdad is Normal_Weight,', 'NObeyesdad is Obesity_Type_I,', 'NObeyesdad is Obesity_Type_I,', 'NObeyesdad is Obesity_Type_I,', 'NObeyesdad is Normal_Weight,', 'NObeyesdad is Overweight_Level_I,', 'NObeyesdad is Normal_Weight,', 'NObeyesdad is Normal_Weight,', 'NObeyesdad is Obesity_Type_I,', 'NObeyesdad is Overweight_Level_II,', 'NObeyesdad is Overweight_Level_II,', 'NObeyesdad is Obesity_Type_III,', 'NObeyesdad is Insufficient_Weight,', 'NObeyesdad is Overweight_Level_I,', 'NObeyesdad is Overweight_Level_I,', 'NObeyesdad is Insufficient_Weight,', 'NObeyesdad is Overweight_Level_II,', 'NObeyesdad is Obesity_Type_II,', 'NObeyesdad is Obesity_Type_I,', 'NObeyesdad is Obesity_Type_I,', 'NObeyesdad is Obesity_Type_II,', 'NObeyesdad is Overweight_Level_I,', 'NObeyesdad is Obesity_Type_I,', 'NObeyesdad is Obesity_Type_I,', 'NObeyesdad is Insufficient_Weight,', 'NObeyesdad is Obesity_Type_I,', 'NObeyesdad is Overweight_Level_II,', 'NObeyesdad is Normal_Weight,', 'NObeyesdad is Insufficient_Weight,', 'NObeyesdad is Normal_Weight,', 'NObeyesdad is Obesity_Type_III,', 'NObeyesdad is Overweight_Level_I,', 'NObeyesdad is Obesity_Type_I,', 'NObeyesdad is Overweight_Level_I,', 'NObeyesdad is Normal_Weight,', 'NObeyesdad is Obesity_Type_II,', 'NObeyesdad is Obesity_Type_II,', 'NObeyesdad is Overweight_Level_I,', 'NObeyesdad is Normal_Weight,', 'NObeyesdad is Insufficient_Weight,', 'NObeyesdad is Obesity_Type_I,', 'NObeyesdad is Overweight_Level_I,', 'NObeyesdad is Overweight_Level_II,', 'NObeyesdad is Overweight_Level_I,', 'NObeyesdad is Overweight_Level_I,', 'NObeyesdad is Overweight_Level_II,', 'NObeyesdad is Obesity_Type_II,', 'NObeyesdad is Normal_Weight,', 'NObeyesdad is Insufficient_Weight,']\n"
     ]
    },
    {
     "name": "stderr",
     "output_type": "stream",
     "text": [
      " 80%|███████▉  | 796/1000 [01:12<00:20,  9.81it/s]"
     ]
    },
    {
     "name": "stdout",
     "output_type": "stream",
     "text": [
      "['NObeyesdad is Overweight_Level_I,', 'NObeyesdad is Overweight_Level_I,', 'NObeyesdad is Obesity_Type_III,', 'NObeyesdad is Insufficient_Weight,', 'NObeyesdad is Insufficient_Weight,', 'NObeyesdad is Obesity_Type_III,', 'NObeyesdad is Overweight_Level_I,', 'NObeyesdad is Overweight_Level_I,', 'NObeyesdad is Obesity_Type_II,', 'NObeyesdad is Obesity_Type_III,', 'NObeyesdad is Obesity_Type_I,', 'NObeyesdad is Obesity_Type_I,', 'NObeyesdad is Normal_Weight,', 'NObeyesdad is Overweight_Level_I,', 'NObeyesdad is Obesity_Type_III,', 'NObeyesdad is Overweight_Level_I,', 'NObeyesdad is Insufficient_Weight,', 'NObeyesdad is Overweight_Level_II,', 'NObeyesdad is Obesity_Type_II,', 'NObeyesdad is Overweight_Level_II,', 'NObeyesdad is Overweight_Level_I,', 'NObeyesdad is Overweight_Level_II,', 'NObeyesdad is Normal_Weight,', 'NObeyesdad is Overweight_Level_I,', 'NObeyesdad is Obesity_Type_II,', 'NObeyesdad is Normal_Weight,', 'NObeyesdad is Obesity_Type_I,', 'NObeyesdad is Overweight_Level_II,', 'NObeyesdad is Obesity_Type_I,', 'NObeyesdad is Overweight_Level_I,', 'NObeyesdad is Obesity_Type_II,', 'NObeyesdad is Obesity_Type_III,', 'NObeyesdad is Obesity_Type_II,', 'NObeyesdad is Overweight_Level_I,', 'NObeyesdad is Obesity_Type_I,', 'NObeyesdad is Normal_Weight,', 'NObeyesdad is Insufficient_Weight,', 'NObeyesdad is Overweight_Level_I,', 'NObeyesdad is Obesity_Type_II,', 'NObeyesdad is Obesity_Type_I,', 'NObeyesdad is Obesity_Type_II,', 'NObeyesdad is Insufficient_Weight,', 'NObeyesdad is Insufficient_Weight,', 'NObeyesdad is Obesity_Type_I,', 'NObeyesdad is Normal_Weight,', 'NObeyesdad is Insufficient_Weight,', 'NObeyesdad is Overweight_Level_II,', 'NObeyesdad is Overweight_Level_II,', 'NObeyesdad is Obesity_Type_I,', 'NObeyesdad is Obesity_Type_III,']\n"
     ]
    },
    {
     "name": "stderr",
     "output_type": "stream",
     "text": [
      " 82%|████████▏ | 820/1000 [01:14<00:17, 10.41it/s]"
     ]
    },
    {
     "name": "stdout",
     "output_type": "stream",
     "text": [
      "['NObeyesdad is Overweight_Level_I,', 'NObeyesdad is Overweight_Level_II,', 'NObeyesdad is Normal_Weight,', 'NObeyesdad is Overweight_Level_I,', 'NObeyesdad is Overweight_Level_II,', 'NObeyesdad is Normal_Weight,', 'NObeyesdad is Obesity_Type_I,', 'NObeyesdad is Overweight_Level_I,', 'NObeyesdad is Insufficient_Weight,', 'NObeyesdad is Overweight_Level_II,', 'NObeyesdad is Normal_Weight,', 'NObeyesdad is Obesity_Type_II,', 'NObeyesdad is Obesity_Type_III,', 'NObeyesdad is Obesity_Type_III,', 'NObeyesdad is Insufficient_Weight,', 'NObeyesdad is Normal_Weight,', 'NObeyesdad is Overweight_Level_II,', 'NObeyesdad is Overweight_Level_I,', 'NObeyesdad is Normal_Weight,', 'NObeyesdad is Insufficient_Weight,', 'NObeyesdad is Insufficient_Weight,', 'NObeyesdad is Obesity_Type_II,', 'NObeyesdad is Overweight_Level_I,', 'NObeyesdad is Overweight_Level_II,', 'NObeyesdad is Obesity_Type_III,', 'NObeyesdad is Overweight_Level_II,', 'NObeyesdad is Obesity_Type_II,', 'NObeyesdad is Obesity_Type_III,', 'NObeyesdad is Obesity_Type_I,', 'NObeyesdad is Overweight_Level_II,', 'NObeyesdad is Insufficient_Weight,', 'NObeyesdad is Normal_Weight,', 'NObeyesdad is Overweight_Level_II,', 'NObeyesdad is Overweight_Level_II,', 'NObeyesdad is Insufficient_Weight,', 'NObeyesdad is Overweight_Level_II,', 'NObeyesdad is Normal_Weight,', 'NObeyesdad is Obesity_Type_III,', 'NObeyesdad is Insufficient_Weight,', 'NObeyesdad is Obesity_Type_II,', 'NObeyesdad is Insufficient_Weight,', 'NObeyesdad is Overweight_Level_I,', 'NObeyesdad is Obesity_Type_III,', 'NObeyesdad is Normal_Weight,', 'NObeyesdad is Overweight_Level_I,', 'NObeyesdad is Obesity_Type_III,', 'NObeyesdad is Obesity_Type_I,', 'NObeyesdad is Normal_Weight,', 'NObeyesdad is Obesity_Type_II,', 'NObeyesdad is Obesity_Type_III,']\n"
     ]
    },
    {
     "name": "stderr",
     "output_type": "stream",
     "text": [
      " 83%|████████▎ | 831/1000 [01:16<00:19,  8.82it/s]"
     ]
    },
    {
     "name": "stdout",
     "output_type": "stream",
     "text": [
      "['NObeyesdad is Normal_Weight,', 'NObeyesdad is Obesity_Type_II,', 'NObeyesdad is Normal_Weight,', 'NObeyesdad is Obesity_Type_I,', 'NObeyesdad is Obesity_Type_II,', 'NObeyesdad is Obesity_Type_II,', 'NObeyesdad is Obesity_Type_I,', 'NObeyesdad is Obesity_Type_II,', 'NObeyesdad is Overweight_Level_I,', 'NObeyesdad is Insufficient_Weight,', 'NObeyesdad is Obesity_Type_III,', 'NObeyesdad is Obesity_Type_III,', 'NObeyesdad is Obesity_Type_II,', 'NObeyesdad is Obesity_Type_I,', 'NObeyesdad is Overweight_Level_II,', 'NObeyesdad is Obesity_Type_I,', 'NObeyesdad is Overweight_Level_II,', 'NObeyesdad is Overweight_Level_II,', 'NObeyesdad is Obesity_Type_II,', 'NObeyesdad is Insufficient_Weight,', 'NObeyesdad is Obesity_Type_II,', 'NObeyesdad is Insufficient_Weight,', 'NObeyesdad is Overweight_Level_I,', 'NObeyesdad is Overweight_Level_II,', 'NObeyesdad is Obesity_Type_III,', 'NObeyesdad is Normal_Weight,', 'NObeyesdad is Obesity_Type_I,', 'NObeyesdad is Normal_Weight,', 'NObeyesdad is Obesity_Type_II,', 'NObeyesdad is Overweight_Level_II,', 'NObeyesdad is Obesity_Type_II,', 'NObeyesdad is Obesity_Type_II,', 'NObeyesdad is Overweight_Level_I,', 'NObeyesdad is Obesity_Type_I,', 'NObeyesdad is Obesity_Type_I,', 'NObeyesdad is Overweight_Level_II,', 'NObeyesdad is Overweight_Level_I,', 'NObeyesdad is Obesity_Type_III,', 'NObeyesdad is Overweight_Level_I,', 'NObeyesdad is Insufficient_Weight,', 'NObeyesdad is Normal_Weight,', 'NObeyesdad is Overweight_Level_II,', 'NObeyesdad is Obesity_Type_III,', 'NObeyesdad is Obesity_Type_II,', 'NObeyesdad is Overweight_Level_I,', 'NObeyesdad is Obesity_Type_II,', 'NObeyesdad is Overweight_Level_I,', 'NObeyesdad is Obesity_Type_I,', 'NObeyesdad is Obesity_Type_III,', 'NObeyesdad is Obesity_Type_III,']\n"
     ]
    },
    {
     "name": "stderr",
     "output_type": "stream",
     "text": [
      " 85%|████████▌ | 852/1000 [01:18<00:16,  9.19it/s]"
     ]
    },
    {
     "name": "stdout",
     "output_type": "stream",
     "text": [
      "['NObeyesdad is Normal_Weight,', 'NObeyesdad is Overweight_Level_I,', 'NObeyesdad is Obesity_Type_II,', 'NObeyesdad is Obesity_Type_III,', 'NObeyesdad is Obesity_Type_I,', 'NObeyesdad is Obesity_Type_II,', 'NObeyesdad is Insufficient_Weight,', 'NObeyesdad is Normal_Weight,', 'NObeyesdad is Insufficient_Weight,', 'NObeyesdad is Obesity_Type_III,', 'NObeyesdad is Obesity_Type_III,', 'NObeyesdad is Overweight_Level_II,', 'NObeyesdad is Obesity_Type_II,', 'NObeyesdad is Overweight_Level_II,', 'NObeyesdad is Obesity_Type_II,', 'NObeyesdad is Obesity_Type_III,', 'NObeyesdad is Obesity_Type_I,', 'NObeyesdad is Overweight_Level_I,', 'NObeyesdad is Obesity_Type_I,', 'NObeyesdad is Overweight_Level_I,', 'NObeyesdad is Obesity_Type_I,', 'NObeyesdad is Overweight_Level_I,', 'NObeyesdad is Obesity_Type_III,', 'NObeyesdad is Overweight_Level_I,', 'NObeyesdad is Normal_Weight,', 'NObeyesdad is Normal_Weight,', 'NObeyesdad is Insufficient_Weight,', 'NObeyesdad is Obesity_Type_III,', 'NObeyesdad is Insufficient_Weight,', 'NObeyesdad is Overweight_Level_I,', 'NObeyesdad is Obesity_Type_III,', 'NObeyesdad is Obesity_Type_I,', 'NObeyesdad is Overweight_Level_I,', 'NObeyesdad is Obesity_Type_III,', 'NObeyesdad is Obesity_Type_III,', 'NObeyesdad is Overweight_Level_II,', 'NObeyesdad is Overweight_Level_I,', 'NObeyesdad is Obesity_Type_II,', 'NObeyesdad is Obesity_Type_I,', 'NObeyesdad is Obesity_Type_III,', 'NObeyesdad is Obesity_Type_I,', 'NObeyesdad is Overweight_Level_I,', 'NObeyesdad is Obesity_Type_III,', 'NObeyesdad is Insufficient_Weight,', 'NObeyesdad is Overweight_Level_II,', 'NObeyesdad is Obesity_Type_III,', 'NObeyesdad is Overweight_Level_II,', 'NObeyesdad is Obesity_Type_II,', 'NObeyesdad is Overweight_Level_II,', 'NObeyesdad is Overweight_Level_I,']\n"
     ]
    },
    {
     "name": "stderr",
     "output_type": "stream",
     "text": [
      " 87%|████████▋ | 872/1000 [01:20<00:13,  9.40it/s]"
     ]
    },
    {
     "name": "stdout",
     "output_type": "stream",
     "text": [
      "['NObeyesdad is Obesity_Type_I,', 'NObeyesdad is Obesity_Type_III,', 'NObeyesdad is Obesity_Type_I,', 'NObeyesdad is Overweight_Level_I,', 'NObeyesdad is Insufficient_Weight,', 'NObeyesdad is Obesity_Type_III,', 'NObeyesdad is Obesity_Type_II,', 'NObeyesdad is Normal_Weight,', 'NObeyesdad is Insufficient_Weight,', 'NObeyesdad is Obesity_Type_II,', 'NObeyesdad is Obesity_Type_III,', 'NObeyesdad is Obesity_Type_I,', 'NObeyesdad is Insufficient_Weight,', 'NObeyesdad is Obesity_Type_II,', 'NObeyesdad is Overweight_Level_I,', 'NObeyesdad is Obesity_Type_III,', 'NObeyesdad is Obesity_Type_II,', 'NObeyesdad is Insufficient_Weight,', 'NObeyesdad is Insufficient_Weight,', 'NObeyesdad is Overweight_Level_II,', 'NObeyesdad is Normal_Weight,', 'NObeyesdad is Overweight_Level_II,', 'NObeyesdad is Obesity_Type_II,', 'NObeyesdad is Obesity_Type_III,', 'NObeyesdad is Normal_Weight,', 'NObeyesdad is Obesity_Type_III,', 'NObeyesdad is Obesity_Type_II,', 'NObeyesdad is Normal_Weight,', 'NObeyesdad is Overweight_Level_II,', 'NObeyesdad is Overweight_Level_I,', 'NObeyesdad is Obesity_Type_II,', 'NObeyesdad is Obesity_Type_II,', 'NObeyesdad is Overweight_Level_II,', 'NObeyesdad is Obesity_Type_II,', 'NObeyesdad is Obesity_Type_II,', 'NObeyesdad is Obesity_Type_II,', 'NObeyesdad is Obesity_Type_III,', 'NObeyesdad is Obesity_Type_II,', 'NObeyesdad is Normal_Weight,', 'NObeyesdad is Overweight_Level_II,', 'NObeyesdad is Obesity_Type_I,', 'NObeyesdad is Overweight_Level_I,', 'NObeyesdad is Obesity_Type_II,', 'NObeyesdad is Insufficient_Weight,', 'NObeyesdad is Insufficient_Weight,', 'NObeyesdad is Insufficient_Weight,', 'NObeyesdad is Overweight_Level_I,', 'NObeyesdad is Normal_Weight,', 'NObeyesdad is Insufficient_Weight,', 'NObeyesdad is Obesity_Type_III,']\n"
     ]
    },
    {
     "name": "stderr",
     "output_type": "stream",
     "text": [
      " 89%|████████▉ | 891/1000 [01:23<00:11,  9.15it/s]"
     ]
    },
    {
     "name": "stdout",
     "output_type": "stream",
     "text": [
      "['NObeyesdad is Normal_Weight,', 'NObeyesdad is Overweight_Level_II,', 'NObeyesdad is Normal_Weight,', 'NObeyesdad is Overweight_Level_I,', 'NObeyesdad is Obesity_Type_III,', 'NObeyesdad is Insufficient_Weight,', 'NObeyesdad is Obesity_Type_I,', 'NObeyesdad is Obesity_Type_III,', 'NObeyesdad is Obesity_Type_III,', 'NObeyesdad is Obesity_Type_I,', 'NObeyesdad is Insufficient_Weight,', 'NObeyesdad is Insufficient_Weight,', 'NObeyesdad is Normal_Weight,', 'NObeyesdad is Obesity_Type_III,', 'NObeyesdad is Obesity_Type_II,', 'NObeyesdad is Normal_Weight,', 'NObeyesdad is Obesity_Type_III,', 'NObeyesdad is Insufficient_Weight,', 'NObeyesdad is Obesity_Type_III,', 'NObeyesdad is Obesity_Type_II,', 'NObeyesdad is Obesity_Type_III,', 'NObeyesdad is Normal_Weight,', 'NObeyesdad is Overweight_Level_II,', 'NObeyesdad is Normal_Weight,', 'NObeyesdad is Obesity_Type_I,', 'NObeyesdad is Obesity_Type_III,', 'NObeyesdad is Overweight_Level_II,', 'NObeyesdad is Overweight_Level_II,', 'NObeyesdad is Overweight_Level_I,', 'NObeyesdad is Overweight_Level_I,', 'NObeyesdad is Insufficient_Weight,', 'NObeyesdad is Obesity_Type_III,', 'NObeyesdad is Insufficient_Weight,', 'NObeyesdad is Obesity_Type_I,', 'NObeyesdad is Obesity_Type_I,', 'NObeyesdad is Insufficient_Weight,', 'NObeyesdad is Insufficient_Weight,', 'NObeyesdad is Obesity_Type_III,', 'NObeyesdad is Overweight_Level_II,', 'NObeyesdad is Overweight_Level_II,', 'NObeyesdad is Obesity_Type_II,', 'NObeyesdad is Obesity_Type_I,', 'NObeyesdad is Obesity_Type_II,', 'NObeyesdad is Obesity_Type_II,', 'NObeyesdad is Obesity_Type_I,', 'NObeyesdad is Insufficient_Weight,', 'NObeyesdad is Insufficient_Weight,', 'NObeyesdad is Insufficient_Weight,', 'NObeyesdad is Obesity_Type_I,', 'NObeyesdad is Obesity_Type_III,']\n"
     ]
    },
    {
     "name": "stderr",
     "output_type": "stream",
     "text": [
      " 91%|█████████ | 911/1000 [01:25<00:09,  9.17it/s]"
     ]
    },
    {
     "name": "stdout",
     "output_type": "stream",
     "text": [
      "['NObeyesdad is Obesity_Type_III,', 'NObeyesdad is Obesity_Type_III,', 'NObeyesdad is Insufficient_Weight,', 'NObeyesdad is Overweight_Level_II,', 'NObeyesdad is Normal_Weight,', 'NObeyesdad is Normal_Weight,', 'NObeyesdad is Normal_Weight,', 'NObeyesdad is Obesity_Type_III,', 'NObeyesdad is Obesity_Type_I,', 'NObeyesdad is Insufficient_Weight,', 'NObeyesdad is Overweight_Level_II,', 'NObeyesdad is Overweight_Level_II,', 'NObeyesdad is Insufficient_Weight,', 'NObeyesdad is Overweight_Level_II,', 'NObeyesdad is Obesity_Type_III,', 'NObeyesdad is Obesity_Type_II,', 'NObeyesdad is Normal_Weight,', 'NObeyesdad is Obesity_Type_II,', 'NObeyesdad is Overweight_Level_II,', 'NObeyesdad is Normal_Weight,', 'NObeyesdad is Normal_Weight,', 'NObeyesdad is Obesity_Type_II,', 'NObeyesdad is Obesity_Type_I,', 'NObeyesdad is Obesity_Type_II,', 'NObeyesdad is Obesity_Type_III,', 'NObeyesdad is Obesity_Type_I,', 'NObeyesdad is Insufficient_Weight,', 'NObeyesdad is Obesity_Type_II,', 'NObeyesdad is Overweight_Level_I,', 'NObeyesdad is Obesity_Type_II,', 'NObeyesdad is Obesity_Type_I,', 'NObeyesdad is Obesity_Type_III,', 'NObeyesdad is Obesity_Type_I,', 'NObeyesdad is Overweight_Level_I,', 'NObeyesdad is Obesity_Type_I,', 'NObeyesdad is Overweight_Level_I,', 'NObeyesdad is Obesity_Type_I,', 'NObeyesdad is Obesity_Type_II,', 'NObeyesdad is Insufficient_Weight,', 'NObeyesdad is Normal_Weight,', 'NObeyesdad is Obesity_Type_II,', 'NObeyesdad is Obesity_Type_I,', 'NObeyesdad is Obesity_Type_II,', 'NObeyesdad is Normal_Weight,', 'NObeyesdad is Obesity_Type_III,', 'NObeyesdad is Normal_Weight,', 'NObeyesdad is Obesity_Type_III,', 'NObeyesdad is Obesity_Type_III,', 'NObeyesdad is Obesity_Type_III,', 'NObeyesdad is Overweight_Level_II,']\n"
     ]
    },
    {
     "name": "stderr",
     "output_type": "stream",
     "text": [
      " 93%|█████████▎| 934/1000 [01:27<00:06,  9.53it/s]"
     ]
    },
    {
     "name": "stdout",
     "output_type": "stream",
     "text": [
      "['NObeyesdad is Overweight_Level_II,', 'NObeyesdad is Overweight_Level_II,', 'NObeyesdad is Obesity_Type_III,', 'NObeyesdad is Overweight_Level_II,', 'NObeyesdad is Obesity_Type_I,', 'NObeyesdad is Obesity_Type_I,', 'NObeyesdad is Normal_Weight,', 'NObeyesdad is Obesity_Type_II,', 'NObeyesdad is Obesity_Type_III,', 'NObeyesdad is Insufficient_Weight,', 'NObeyesdad is Obesity_Type_III,', 'NObeyesdad is Obesity_Type_II,', 'NObeyesdad is Overweight_Level_I,', 'NObeyesdad is Normal_Weight,', 'NObeyesdad is Obesity_Type_III,', 'NObeyesdad is Insufficient_Weight,', 'NObeyesdad is Overweight_Level_II,', 'NObeyesdad is Normal_Weight,', 'NObeyesdad is Obesity_Type_II,', 'NObeyesdad is Normal_Weight,', 'NObeyesdad is Obesity_Type_I,', 'NObeyesdad is Obesity_Type_III,', 'NObeyesdad is Obesity_Type_III,', 'NObeyesdad is Obesity_Type_I,', 'NObeyesdad is Overweight_Level_I,', 'NObeyesdad is Insufficient_Weight,', 'NObeyesdad is Overweight_Level_I,', 'NObeyesdad is Obesity_Type_I,', 'NObeyesdad is Insufficient_Weight,', 'NObeyesdad is Overweight_Level_I,', 'NObeyesdad is Obesity_Type_III,', 'NObeyesdad is Normal_Weight,', 'NObeyesdad is Normal_Weight,', 'NObeyesdad is Obesity_Type_III,', 'NObeyesdad is Overweight_Level_II,', 'NObeyesdad is Overweight_Level_II,', 'NObeyesdad is Overweight_Level_II,', 'NObeyesdad is Obesity_Type_I,', 'NObeyesdad is Obesity_Type_I,', 'NObeyesdad is Overweight_Level_I,', 'NObeyesdad is Obesity_Type_I,', 'NObeyesdad is Obesity_Type_II,', 'NObeyesdad is Obesity_Type_II,', 'NObeyesdad is Insufficient_Weight,', 'NObeyesdad is Normal_Weight,', 'NObeyesdad is Normal_Weight,', 'NObeyesdad is Obesity_Type_III,', 'NObeyesdad is Obesity_Type_I,', 'NObeyesdad is Overweight_Level_II,', 'NObeyesdad is Obesity_Type_III,']\n"
     ]
    },
    {
     "name": "stderr",
     "output_type": "stream",
     "text": [
      " 96%|█████████▌| 955/1000 [01:29<00:04,  9.67it/s]"
     ]
    },
    {
     "name": "stdout",
     "output_type": "stream",
     "text": [
      "['NObeyesdad is Obesity_Type_II,', 'NObeyesdad is Overweight_Level_I,', 'NObeyesdad is Insufficient_Weight,', 'NObeyesdad is Obesity_Type_I,', 'NObeyesdad is Overweight_Level_I,', 'NObeyesdad is Insufficient_Weight,', 'NObeyesdad is Obesity_Type_II,', 'NObeyesdad is Insufficient_Weight,', 'NObeyesdad is Obesity_Type_I,', 'NObeyesdad is Obesity_Type_II,', 'NObeyesdad is Overweight_Level_II,', 'NObeyesdad is Insufficient_Weight,', 'NObeyesdad is Obesity_Type_I,', 'NObeyesdad is Overweight_Level_II,', 'NObeyesdad is Obesity_Type_I,', 'NObeyesdad is Normal_Weight,', 'NObeyesdad is Obesity_Type_I,', 'NObeyesdad is Obesity_Type_I,', 'NObeyesdad is Obesity_Type_I,', 'NObeyesdad is Obesity_Type_III,', 'NObeyesdad is Obesity_Type_II,', 'NObeyesdad is Obesity_Type_I,', 'NObeyesdad is Obesity_Type_II,', 'NObeyesdad is Overweight_Level_II,', 'NObeyesdad is Obesity_Type_II,', 'NObeyesdad is Overweight_Level_I,', 'NObeyesdad is Insufficient_Weight,', 'NObeyesdad is Obesity_Type_I,', 'NObeyesdad is Obesity_Type_II,', 'NObeyesdad is Overweight_Level_I,', 'NObeyesdad is Obesity_Type_III,', 'NObeyesdad is Overweight_Level_II,', 'NObeyesdad is Obesity_Type_II,', 'NObeyesdad is Obesity_Type_II,', 'NObeyesdad is Obesity_Type_I,', 'NObeyesdad is Obesity_Type_III,', 'NObeyesdad is Overweight_Level_II,', 'NObeyesdad is Obesity_Type_I,', 'NObeyesdad is Normal_Weight,', 'NObeyesdad is Overweight_Level_II,', 'NObeyesdad is Normal_Weight,', 'NObeyesdad is Insufficient_Weight,', 'NObeyesdad is Insufficient_Weight,', 'NObeyesdad is Overweight_Level_I,', 'NObeyesdad is Overweight_Level_II,', 'NObeyesdad is Normal_Weight,', 'NObeyesdad is Overweight_Level_I,', 'NObeyesdad is Overweight_Level_I,', 'NObeyesdad is Obesity_Type_I,', 'NObeyesdad is Overweight_Level_II,']\n"
     ]
    },
    {
     "name": "stderr",
     "output_type": "stream",
     "text": [
      " 98%|█████████▊| 979/1000 [01:31<00:02, 10.28it/s]"
     ]
    },
    {
     "name": "stdout",
     "output_type": "stream",
     "text": [
      "['NObeyesdad is Insufficient_Weight,', 'NObeyesdad is Obesity_Type_II,', 'NObeyesdad is Obesity_Type_II,', 'NObeyesdad is Overweight_Level_II,', 'NObeyesdad is Overweight_Level_II,', 'NObeyesdad is Insufficient_Weight,', 'NObeyesdad is Overweight_Level_II,', 'NObeyesdad is Obesity_Type_II,', 'NObeyesdad is Obesity_Type_III,', 'NObeyesdad is Normal_Weight,', 'NObeyesdad is Insufficient_Weight,', 'NObeyesdad is Insufficient_Weight,', 'NObeyesdad is Obesity_Type_I,', 'NObeyesdad is Obesity_Type_III,', 'NObeyesdad is Obesity_Type_III,', 'NObeyesdad is Obesity_Type_II,', 'NObeyesdad is Obesity_Type_III,', 'NObeyesdad is Obesity_Type_I,', 'NObeyesdad is Normal_Weight,', 'NObeyesdad is Obesity_Type_II,', 'NObeyesdad is Overweight_Level_I,', 'NObeyesdad is Normal_Weight,', 'NObeyesdad is Insufficient_Weight,', 'NObeyesdad is Obesity_Type_I,', 'NObeyesdad is Overweight_Level_I,', 'NObeyesdad is Obesity_Type_I,', 'NObeyesdad is Obesity_Type_III,', 'NObeyesdad is Obesity_Type_III,', 'NObeyesdad is Obesity_Type_I,', 'NObeyesdad is Obesity_Type_II,', 'NObeyesdad is Obesity_Type_I,', 'NObeyesdad is Overweight_Level_I,', 'NObeyesdad is Overweight_Level_I,', 'NObeyesdad is Overweight_Level_I,', 'NObeyesdad is Overweight_Level_II,', 'NObeyesdad is Insufficient_Weight,', 'NObeyesdad is Insufficient_Weight,', 'NObeyesdad is Obesity_Type_I,', 'NObeyesdad is Overweight_Level_II,', 'NObeyesdad is Obesity_Type_I,', 'NObeyesdad is Insufficient_Weight,', 'NObeyesdad is Obesity_Type_I,', 'NObeyesdad is Obesity_Type_II,', 'NObeyesdad is Insufficient_Weight,', 'NObeyesdad is Obesity_Type_II,', 'NObeyesdad is Overweight_Level_II,', 'NObeyesdad is Obesity_Type_II,', 'NObeyesdad is Overweight_Level_II,', 'NObeyesdad is Insufficient_Weight,', 'NObeyesdad is Normal_Weight,']\n"
     ]
    },
    {
     "name": "stderr",
     "output_type": "stream",
     "text": [
      "100%|█████████▉| 999/1000 [01:33<00:00, 10.20it/s]"
     ]
    },
    {
     "name": "stdout",
     "output_type": "stream",
     "text": [
      "['NObeyesdad is Normal_Weight,', 'NObeyesdad is Insufficient_Weight,', 'NObeyesdad is Obesity_Type_II,', 'NObeyesdad is Overweight_Level_II,', 'NObeyesdad is Obesity_Type_II,', 'NObeyesdad is Obesity_Type_II,', 'NObeyesdad is Obesity_Type_II,', 'NObeyesdad is Insufficient_Weight,', 'NObeyesdad is Insufficient_Weight,', 'NObeyesdad is Obesity_Type_I,', 'NObeyesdad is Obesity_Type_III,', 'NObeyesdad is Overweight_Level_II,', 'NObeyesdad is Overweight_Level_II,', 'NObeyesdad is Normal_Weight,', 'NObeyesdad is Obesity_Type_II,', 'NObeyesdad is Obesity_Type_I,', 'NObeyesdad is Insufficient_Weight,', 'NObeyesdad is Overweight_Level_I,', 'NObeyesdad is Overweight_Level_I,', 'NObeyesdad is Obesity_Type_III,', 'NObeyesdad is Obesity_Type_III,', 'NObeyesdad is Overweight_Level_II,', 'NObeyesdad is Insufficient_Weight,', 'NObeyesdad is Normal_Weight,', 'NObeyesdad is Overweight_Level_I,', 'NObeyesdad is Normal_Weight,', 'NObeyesdad is Overweight_Level_I,', 'NObeyesdad is Insufficient_Weight,', 'NObeyesdad is Insufficient_Weight,', 'NObeyesdad is Obesity_Type_II,', 'NObeyesdad is Obesity_Type_II,', 'NObeyesdad is Overweight_Level_II,', 'NObeyesdad is Obesity_Type_I,', 'NObeyesdad is Obesity_Type_III,', 'NObeyesdad is Obesity_Type_I,', 'NObeyesdad is Obesity_Type_III,', 'NObeyesdad is Overweight_Level_II,', 'NObeyesdad is Normal_Weight,', 'NObeyesdad is Overweight_Level_I,', 'NObeyesdad is Insufficient_Weight,', 'NObeyesdad is Obesity_Type_I,', 'NObeyesdad is Insufficient_Weight,', 'NObeyesdad is Obesity_Type_II,', 'NObeyesdad is Normal_Weight,', 'NObeyesdad is Overweight_Level_I,', 'NObeyesdad is Insufficient_Weight,', 'NObeyesdad is Insufficient_Weight,', 'NObeyesdad is Insufficient_Weight,', 'NObeyesdad is Obesity_Type_III,', 'NObeyesdad is Overweight_Level_II,']\n"
     ]
    },
    {
     "name": "stderr",
     "output_type": "stream",
     "text": [
      "1017it [01:35, 10.63it/s]                         \n"
     ]
    }
   ],
   "source": [
    "samples = great.sample(n_samples, k=50, max_length=200)"
   ]
  },
  {
   "cell_type": "code",
   "execution_count": 13,
   "id": "105aa225",
   "metadata": {},
   "outputs": [
    {
     "data": {
      "text/html": [
       "<div>\n",
       "<style scoped>\n",
       "    .dataframe tbody tr th:only-of-type {\n",
       "        vertical-align: middle;\n",
       "    }\n",
       "\n",
       "    .dataframe tbody tr th {\n",
       "        vertical-align: top;\n",
       "    }\n",
       "\n",
       "    .dataframe thead th {\n",
       "        text-align: right;\n",
       "    }\n",
       "</style>\n",
       "<table border=\"1\" class=\"dataframe\">\n",
       "  <thead>\n",
       "    <tr style=\"text-align: right;\">\n",
       "      <th></th>\n",
       "      <th>Gender</th>\n",
       "      <th>Age</th>\n",
       "      <th>Height</th>\n",
       "      <th>Weight</th>\n",
       "      <th>family_history_with_overweight</th>\n",
       "      <th>FAVC</th>\n",
       "      <th>FCVC</th>\n",
       "      <th>NCP</th>\n",
       "      <th>CAEC</th>\n",
       "      <th>SMOKE</th>\n",
       "      <th>CH2O</th>\n",
       "      <th>SCC</th>\n",
       "      <th>FAF</th>\n",
       "      <th>TUE</th>\n",
       "      <th>CALC</th>\n",
       "      <th>MTRANS</th>\n",
       "      <th>NObeyesdad</th>\n",
       "    </tr>\n",
       "  </thead>\n",
       "  <tbody>\n",
       "    <tr>\n",
       "      <th>0</th>\n",
       "      <td>Female</td>\n",
       "      <td>19.0</td>\n",
       "      <td>1.680000</td>\n",
       "      <td>80.000000</td>\n",
       "      <td>yes</td>\n",
       "      <td>yes</td>\n",
       "      <td>2.000000</td>\n",
       "      <td>3.000000</td>\n",
       "      <td>Sometimes</td>\n",
       "      <td>no</td>\n",
       "      <td>2.0</td>\n",
       "      <td>no</td>\n",
       "      <td>0.0</td>\n",
       "      <td>0.000000</td>\n",
       "      <td>Frequently</td>\n",
       "      <td>Public_Transportation</td>\n",
       "      <td>Overweight_Level_I</td>\n",
       "    </tr>\n",
       "    <tr>\n",
       "      <th>1</th>\n",
       "      <td>Male</td>\n",
       "      <td>23.0</td>\n",
       "      <td>1.893732</td>\n",
       "      <td>129.754763</td>\n",
       "      <td>yes</td>\n",
       "      <td>yes</td>\n",
       "      <td>2.336486</td>\n",
       "      <td>1.848168</td>\n",
       "      <td>Sometimes</td>\n",
       "      <td>no</td>\n",
       "      <td>2.0</td>\n",
       "      <td>no</td>\n",
       "      <td>0.0</td>\n",
       "      <td>1.880194</td>\n",
       "      <td>no</td>\n",
       "      <td>Public_Transportation</td>\n",
       "      <td>Obesity_Type_II</td>\n",
       "    </tr>\n",
       "    <tr>\n",
       "      <th>2</th>\n",
       "      <td>Female</td>\n",
       "      <td>25.0</td>\n",
       "      <td>1.870000</td>\n",
       "      <td>75.000000</td>\n",
       "      <td>yes</td>\n",
       "      <td>yes</td>\n",
       "      <td>2.000000</td>\n",
       "      <td>3.000000</td>\n",
       "      <td>Sometimes</td>\n",
       "      <td>no</td>\n",
       "      <td>2.0</td>\n",
       "      <td>no</td>\n",
       "      <td>1.0</td>\n",
       "      <td>1.000000</td>\n",
       "      <td>Sometimes</td>\n",
       "      <td>Public_Transportation</td>\n",
       "      <td>Overweight_Level_I</td>\n",
       "    </tr>\n",
       "    <tr>\n",
       "      <th>3</th>\n",
       "      <td>Female</td>\n",
       "      <td>32.0</td>\n",
       "      <td>1.600000</td>\n",
       "      <td>133.000000</td>\n",
       "      <td>yes</td>\n",
       "      <td>yes</td>\n",
       "      <td>2.000000</td>\n",
       "      <td>3.000000</td>\n",
       "      <td>Sometimes</td>\n",
       "      <td>no</td>\n",
       "      <td>2.0</td>\n",
       "      <td>no</td>\n",
       "      <td>0.0</td>\n",
       "      <td>0.000000</td>\n",
       "      <td>Sometimes</td>\n",
       "      <td>Public_Transportation</td>\n",
       "      <td>Obesity_Type_II</td>\n",
       "    </tr>\n",
       "    <tr>\n",
       "      <th>4</th>\n",
       "      <td>Female</td>\n",
       "      <td>21.0</td>\n",
       "      <td>1.600000</td>\n",
       "      <td>58.000000</td>\n",
       "      <td>yes</td>\n",
       "      <td>yes</td>\n",
       "      <td>2.000000</td>\n",
       "      <td>2.000000</td>\n",
       "      <td>Sometimes</td>\n",
       "      <td>yes</td>\n",
       "      <td>3.0</td>\n",
       "      <td>no</td>\n",
       "      <td>1.0</td>\n",
       "      <td>0.000000</td>\n",
       "      <td>Frequently</td>\n",
       "      <td>Public_Transportation</td>\n",
       "      <td>Normal_Weight</td>\n",
       "    </tr>\n",
       "  </tbody>\n",
       "</table>\n",
       "</div>"
      ],
      "text/plain": [
       "   Gender   Age    Height      Weight family_history_with_overweight FAVC  \\\n",
       "0  Female  19.0  1.680000   80.000000                            yes  yes   \n",
       "1    Male  23.0  1.893732  129.754763                            yes  yes   \n",
       "2  Female  25.0  1.870000   75.000000                            yes  yes   \n",
       "3  Female  32.0  1.600000  133.000000                            yes  yes   \n",
       "4  Female  21.0  1.600000   58.000000                            yes  yes   \n",
       "\n",
       "       FCVC       NCP       CAEC SMOKE  CH2O SCC  FAF       TUE        CALC  \\\n",
       "0  2.000000  3.000000  Sometimes    no   2.0  no  0.0  0.000000  Frequently   \n",
       "1  2.336486  1.848168  Sometimes    no   2.0  no  0.0  1.880194          no   \n",
       "2  2.000000  3.000000  Sometimes    no   2.0  no  1.0  1.000000   Sometimes   \n",
       "3  2.000000  3.000000  Sometimes    no   2.0  no  0.0  0.000000   Sometimes   \n",
       "4  2.000000  2.000000  Sometimes   yes   3.0  no  1.0  0.000000  Frequently   \n",
       "\n",
       "                  MTRANS          NObeyesdad  \n",
       "0  Public_Transportation  Overweight_Level_I  \n",
       "1  Public_Transportation     Obesity_Type_II  \n",
       "2  Public_Transportation  Overweight_Level_I  \n",
       "3  Public_Transportation     Obesity_Type_II  \n",
       "4  Public_Transportation       Normal_Weight  "
      ]
     },
     "execution_count": 13,
     "metadata": {},
     "output_type": "execute_result"
    }
   ],
   "source": [
    "samples.head()"
   ]
  },
  {
   "cell_type": "code",
   "execution_count": 14,
   "id": "c6f534d4",
   "metadata": {},
   "outputs": [],
   "source": [
    "samples.to_csv(\"C:/Users/Windows 11/Desktop/Dissertation/Codes/sample_data/Health & Medicine/obesity_samples.csv\",index=False)"
   ]
  },
  {
   "cell_type": "markdown",
   "id": "70545fac",
   "metadata": {},
   "source": [
    "## Plot Data"
   ]
  },
  {
   "cell_type": "code",
   "execution_count": 25,
   "id": "ec9e0767",
   "metadata": {},
   "outputs": [
    {
     "data": {
      "text/html": [
       "<div>\n",
       "<style scoped>\n",
       "    .dataframe tbody tr th:only-of-type {\n",
       "        vertical-align: middle;\n",
       "    }\n",
       "\n",
       "    .dataframe tbody tr th {\n",
       "        vertical-align: top;\n",
       "    }\n",
       "\n",
       "    .dataframe thead th {\n",
       "        text-align: right;\n",
       "    }\n",
       "</style>\n",
       "<table border=\"1\" class=\"dataframe\">\n",
       "  <thead>\n",
       "    <tr style=\"text-align: right;\">\n",
       "      <th></th>\n",
       "      <th>Age</th>\n",
       "      <th>FrequentFlyer</th>\n",
       "      <th>AnnualIncomeClass</th>\n",
       "      <th>ServicesOpted</th>\n",
       "      <th>AccountSyncedToSocialMedia</th>\n",
       "      <th>BookedHotelOrNot</th>\n",
       "      <th>Target</th>\n",
       "    </tr>\n",
       "  </thead>\n",
       "  <tbody>\n",
       "    <tr>\n",
       "      <th>670</th>\n",
       "      <td>30</td>\n",
       "      <td>No</td>\n",
       "      <td>Low Income</td>\n",
       "      <td>1</td>\n",
       "      <td>No</td>\n",
       "      <td>Yes</td>\n",
       "      <td>0</td>\n",
       "    </tr>\n",
       "    <tr>\n",
       "      <th>211</th>\n",
       "      <td>29</td>\n",
       "      <td>No</td>\n",
       "      <td>Low Income</td>\n",
       "      <td>2</td>\n",
       "      <td>No</td>\n",
       "      <td>No</td>\n",
       "      <td>0</td>\n",
       "    </tr>\n",
       "    <tr>\n",
       "      <th>821</th>\n",
       "      <td>37</td>\n",
       "      <td>Yes</td>\n",
       "      <td>High Income</td>\n",
       "      <td>1</td>\n",
       "      <td>No</td>\n",
       "      <td>No</td>\n",
       "      <td>0</td>\n",
       "    </tr>\n",
       "    <tr>\n",
       "      <th>410</th>\n",
       "      <td>30</td>\n",
       "      <td>No</td>\n",
       "      <td>Middle Income</td>\n",
       "      <td>3</td>\n",
       "      <td>No</td>\n",
       "      <td>Yes</td>\n",
       "      <td>0</td>\n",
       "    </tr>\n",
       "    <tr>\n",
       "      <th>255</th>\n",
       "      <td>37</td>\n",
       "      <td>No</td>\n",
       "      <td>Middle Income</td>\n",
       "      <td>6</td>\n",
       "      <td>No</td>\n",
       "      <td>Yes</td>\n",
       "      <td>0</td>\n",
       "    </tr>\n",
       "  </tbody>\n",
       "</table>\n",
       "</div>"
      ],
      "text/plain": [
       "     Age FrequentFlyer AnnualIncomeClass  ServicesOpted  \\\n",
       "670   30            No        Low Income              1   \n",
       "211   29            No        Low Income              2   \n",
       "821   37           Yes       High Income              1   \n",
       "410   30            No     Middle Income              3   \n",
       "255   37            No     Middle Income              6   \n",
       "\n",
       "    AccountSyncedToSocialMedia BookedHotelOrNot  Target  \n",
       "670                         No              Yes       0  \n",
       "211                         No               No       0  \n",
       "821                         No               No       0  \n",
       "410                         No              Yes       0  \n",
       "255                         No              Yes       0  "
      ]
     },
     "execution_count": 25,
     "metadata": {},
     "output_type": "execute_result"
    },
    {
     "data": {
      "image/png": "[encoded data removed]",
      "text/plain": [
       "<Figure size 1200x400 with 2 Axes>"
      ]
     },
     "metadata": {},
     "output_type": "display_data"
    }
   ],
   "source": [
    "fig, ax = plt.subplots(1, 2, figsize=(12, 4))\n",
    "true_samples = data.sample(n = 100)\n",
    "true_samples.head()"
   ]
  },
  {
   "cell_type": "markdown",
   "id": "e3e051cc",
   "metadata": {},
   "source": [
    "Original Data"
   ]
  },
  {
   "cell_type": "code",
   "execution_count": 27,
   "id": "e70c4dfd",
   "metadata": {},
   "outputs": [
    {
     "data": {
      "text/plain": [
       "<matplotlib.collections.PathCollection at 0x7f4176431b50>"
      ]
     },
     "execution_count": 27,
     "metadata": {},
     "output_type": "execute_result"
    },
    {
     "data": {
      "image/png": "[encoded data removed]",
      "text/plain": [
       "<Figure size 1200x400 with 2 Axes>"
      ]
     },
     "metadata": {},
     "output_type": "display_data"
    }
   ],
   "source": [
    "fig, ax = plt.subplots(1, 2, figsize=(12, 4))\n",
    "true_samples = data.sample(n = 200)\n",
    "ax[0].scatter(true_samples[\"Age\"], true_samples[\"FrequentFlyer\"], c=true_samples[\"Target\"])\n",
    "ax[1].scatter(true_samples[\"AnnualIncomeClass\"], true_samples[\"ServicesOpted\"], c=true_samples[\"Target\"])"
   ]
  },
  {
   "cell_type": "markdown",
   "id": "f56b0e03",
   "metadata": {},
   "source": [
    "Generated samples"
   ]
  },
  {
   "cell_type": "code",
   "execution_count": 28,
   "id": "66d7efcc",
   "metadata": {},
   "outputs": [],
   "source": [
    "samples = pd.read_csv(\"C:/Users/Windows 11/Desktop/Dissertation/Codes/sample_data/travel_samples.csv\")"
   ]
  },
  {
   "cell_type": "code",
   "execution_count": 29,
   "id": "96d782e2",
   "metadata": {},
   "outputs": [
    {
     "data": {
      "text/plain": [
       "<matplotlib.collections.PathCollection at 0x7f4176371af0>"
      ]
     },
     "execution_count": 29,
     "metadata": {},
     "output_type": "execute_result"
    },
    {
     "data": {
      "image/png": "[encoded data removed]",
      "text/plain": [
       "<Figure size 1200x400 with 2 Axes>"
      ]
     },
     "metadata": {},
     "output_type": "display_data"
    }
   ],
   "source": [
    "fig, ax = plt.subplots(1, 2, figsize=(12, 4))\n",
    "\n",
    "ax[0].scatter(samples[\"Age\"], samples[\"FrequentFlyer\"], c=samples[\"Target\"])\n",
    "ax[0].set_ylim(1.8, 4.5)\n",
    "ax[1].scatter(samples[\"AnnualIncomeClass\"], samples[\"ServicesOpted\"], c=samples[\"Target\"].astype(\"int\"))\n"
   ]
  },
  {
   "cell_type": "code",
   "execution_count": null,
   "id": "69639c1e",
   "metadata": {},
   "outputs": [],
   "source": []
  },
  {
   "cell_type": "code",
   "execution_count": null,
   "id": "20708e2c",
   "metadata": {},
   "outputs": [],
   "source": []
  }
 ],
 "metadata": {
  "kernelspec": {
   "display_name": "Python 3 (ipykernel)",
   "language": "python",
   "name": "python3"
  },
  "language_info": {
   "codemirror_mode": {
    "name": "ipython",
    "version": 3
   },
   "file_extension": ".py",
   "mimetype": "text/x-python",
   "name": "python",
   "nbconvert_exporter": "python",
   "pygments_lexer": "ipython3",
   "version": "3.11.7"
  }
 },
 "nbformat": 4,
 "nbformat_minor": 5
}
