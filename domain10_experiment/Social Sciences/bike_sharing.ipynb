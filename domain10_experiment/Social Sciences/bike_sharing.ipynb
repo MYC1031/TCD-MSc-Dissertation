{
 "cells": [
  {
   "cell_type": "markdown",
   "id": "245418c1",
   "metadata": {},
   "source": [
    "## GReaT Example with Iris Dataset"
   ]
  },
  {
   "cell_type": "code",
   "execution_count": 1,
   "id": "ab1f4da7-4b93-4055-8d56-6030c7498999",
   "metadata": {},
   "outputs": [],
   "source": [
    "# Execute only once!\n",
    "import os\n",
    "import sys\n",
    "sys.path.append(\"..\")\n",
    "os.chdir(\"..\")\n",
    "\n",
    "os.environ[\"CUDA_VISIBLE_DEVICES\"]=\"0\""
   ]
  },
  {
   "cell_type": "code",
   "execution_count": 2,
   "id": "b5009b62",
   "metadata": {},
   "outputs": [],
   "source": [
    "import numpy as np\n",
    "import pandas as pd\n",
    "import logging"
   ]
  },
  {
   "cell_type": "code",
   "execution_count": 3,
   "id": "71836c07-2530-44af-9b4b-cf72aff34426",
   "metadata": {},
   "outputs": [
    {
     "name": "stderr",
     "output_type": "stream",
     "text": [
      "/data/guoquanjiang/envs/begreat/lib/python3.9/site-packages/tqdm/auto.py:21: TqdmWarning: IProgress not found. Please update jupyter and ipywidgets. See https://ipywidgets.readthedocs.io/en/stable/user_install.html\n",
      "  from .autonotebook import tqdm as notebook_tqdm\n"
     ]
    }
   ],
   "source": [
    "from examples.utils import set_logging_level\n",
    "from be_great import GReaT"
   ]
  },
  {
   "cell_type": "code",
   "execution_count": 4,
   "id": "00695066",
   "metadata": {},
   "outputs": [],
   "source": [
    "import matplotlib.pyplot as plt"
   ]
  },
  {
   "cell_type": "code",
   "execution_count": 5,
   "id": "39088828",
   "metadata": {},
   "outputs": [
    {
     "data": {
      "text/html": [
       "<div>\n",
       "<style scoped>\n",
       "    .dataframe tbody tr th:only-of-type {\n",
       "        vertical-align: middle;\n",
       "    }\n",
       "\n",
       "    .dataframe tbody tr th {\n",
       "        vertical-align: top;\n",
       "    }\n",
       "\n",
       "    .dataframe thead th {\n",
       "        text-align: right;\n",
       "    }\n",
       "</style>\n",
       "<table border=\"1\" class=\"dataframe\">\n",
       "  <thead>\n",
       "    <tr style=\"text-align: right;\">\n",
       "      <th></th>\n",
       "      <th>index</th>\n",
       "      <th>Date</th>\n",
       "      <th>season</th>\n",
       "      <th>year</th>\n",
       "      <th>month</th>\n",
       "      <th>holiday</th>\n",
       "      <th>weekday</th>\n",
       "      <th>workingday</th>\n",
       "      <th>weathersit</th>\n",
       "      <th>temperature</th>\n",
       "      <th>feeling temperature</th>\n",
       "      <th>humidity</th>\n",
       "      <th>windspeed</th>\n",
       "      <th>casual users</th>\n",
       "      <th>registered users</th>\n",
       "      <th>total rental bikes</th>\n",
       "    </tr>\n",
       "  </thead>\n",
       "  <tbody>\n",
       "    <tr>\n",
       "      <th>0</th>\n",
       "      <td>1</td>\n",
       "      <td>1/1/11</td>\n",
       "      <td>winter</td>\n",
       "      <td>0</td>\n",
       "      <td>1</td>\n",
       "      <td>no</td>\n",
       "      <td>6</td>\n",
       "      <td>0</td>\n",
       "      <td>few clouds</td>\n",
       "      <td>0.344167</td>\n",
       "      <td>0.363625</td>\n",
       "      <td>0.805833</td>\n",
       "      <td>0.160446</td>\n",
       "      <td>331</td>\n",
       "      <td>654</td>\n",
       "      <td>985</td>\n",
       "    </tr>\n",
       "    <tr>\n",
       "      <th>1</th>\n",
       "      <td>2</td>\n",
       "      <td>2/1/11</td>\n",
       "      <td>winter</td>\n",
       "      <td>0</td>\n",
       "      <td>1</td>\n",
       "      <td>no</td>\n",
       "      <td>0</td>\n",
       "      <td>0</td>\n",
       "      <td>few clouds</td>\n",
       "      <td>0.363478</td>\n",
       "      <td>0.353739</td>\n",
       "      <td>0.696087</td>\n",
       "      <td>0.248539</td>\n",
       "      <td>131</td>\n",
       "      <td>670</td>\n",
       "      <td>801</td>\n",
       "    </tr>\n",
       "    <tr>\n",
       "      <th>2</th>\n",
       "      <td>3</td>\n",
       "      <td>3/1/11</td>\n",
       "      <td>winter</td>\n",
       "      <td>0</td>\n",
       "      <td>1</td>\n",
       "      <td>no</td>\n",
       "      <td>1</td>\n",
       "      <td>1</td>\n",
       "      <td>clear</td>\n",
       "      <td>0.196364</td>\n",
       "      <td>0.189405</td>\n",
       "      <td>0.437273</td>\n",
       "      <td>0.248309</td>\n",
       "      <td>120</td>\n",
       "      <td>1229</td>\n",
       "      <td>1349</td>\n",
       "    </tr>\n",
       "    <tr>\n",
       "      <th>3</th>\n",
       "      <td>4</td>\n",
       "      <td>4/1/11</td>\n",
       "      <td>winter</td>\n",
       "      <td>0</td>\n",
       "      <td>1</td>\n",
       "      <td>no</td>\n",
       "      <td>2</td>\n",
       "      <td>1</td>\n",
       "      <td>clear</td>\n",
       "      <td>0.200000</td>\n",
       "      <td>0.212122</td>\n",
       "      <td>0.590435</td>\n",
       "      <td>0.160296</td>\n",
       "      <td>108</td>\n",
       "      <td>1454</td>\n",
       "      <td>1562</td>\n",
       "    </tr>\n",
       "    <tr>\n",
       "      <th>4</th>\n",
       "      <td>5</td>\n",
       "      <td>5/1/11</td>\n",
       "      <td>winter</td>\n",
       "      <td>0</td>\n",
       "      <td>1</td>\n",
       "      <td>no</td>\n",
       "      <td>3</td>\n",
       "      <td>1</td>\n",
       "      <td>clear</td>\n",
       "      <td>0.226957</td>\n",
       "      <td>0.229270</td>\n",
       "      <td>0.436957</td>\n",
       "      <td>0.186900</td>\n",
       "      <td>82</td>\n",
       "      <td>1518</td>\n",
       "      <td>1600</td>\n",
       "    </tr>\n",
       "  </tbody>\n",
       "</table>\n",
       "</div>"
      ],
      "text/plain": [
       "   index    Date  season  year  month holiday  weekday  workingday  \\\n",
       "0      1  1/1/11  winter     0      1      no        6           0   \n",
       "1      2  2/1/11  winter     0      1      no        0           0   \n",
       "2      3  3/1/11  winter     0      1      no        1           1   \n",
       "3      4  4/1/11  winter     0      1      no        2           1   \n",
       "4      5  5/1/11  winter     0      1      no        3           1   \n",
       "\n",
       "   weathersit  temperature  feeling temperature  humidity  windspeed  \\\n",
       "0  few clouds     0.344167             0.363625  0.805833   0.160446   \n",
       "1  few clouds     0.363478             0.353739  0.696087   0.248539   \n",
       "2       clear     0.196364             0.189405  0.437273   0.248309   \n",
       "3       clear     0.200000             0.212122  0.590435   0.160296   \n",
       "4       clear     0.226957             0.229270  0.436957   0.186900   \n",
       "\n",
       "   casual users  registered users  total rental bikes  \n",
       "0           331               654                 985  \n",
       "1           131               670                 801  \n",
       "2           120              1229                1349  \n",
       "3           108              1454                1562  \n",
       "4            82              1518                1600  "
      ]
     },
     "execution_count": 5,
     "metadata": {},
     "output_type": "execute_result"
    }
   ],
   "source": [
    "logger = set_logging_level(logging.INFO)\n",
    "data = pd.read_csv('C:/Users/Windows 11/Desktop/Dissertation/Codes/Data/Social Sciences/bike sharing dataset.csv')\n",
    "data.head()"
   ]
  },
  {
   "cell_type": "markdown",
   "id": "5911b9b1",
   "metadata": {},
   "source": [
    "### Create GReaT Model"
   ]
  },
  {
   "cell_type": "code",
   "execution_count": 6,
   "id": "1a316696",
   "metadata": {},
   "outputs": [],
   "source": [
    "# great = GReaT(\"/data/guoquanjiang/llm_ner/llama3-8b/LLM-Research/Meta-Llama-3-8B\",                  # Name of the large language model used (see HuggingFace for more options)\n",
    "#               epochs=10,                   # Number of epochs to train\n",
    "#               save_steps=2000,               # Save model weights every x steps\n",
    "#               logging_steps=500,             # Log the loss and learning rate every x steps\n",
    "#               experiment_dir=\"trainer_travel\", # Name of the directory where all intermediate steps are saved\n",
    "#               batch_size=16,                 # Batch Size\n",
    "#               #lr_scheduler_type=\"constant\", # Specify the learning rate scheduler \n",
    "#               #learning_rate=5e-5            # Set the inital learning rate\n",
    "#               efficient_finetuning=\"lora\"\n",
    "#              )\n",
    "great = GReaT(\"C:/Users/Windows 11/Desktop/Dissertation/Codes/models/iiBcai/gpt2\",                  # Name of the large language model used (see HuggingFace for more options)\n",
    "              epochs=10,                   # Number of epochs to train\n",
    "              save_steps=2000,               # Save model weights every x steps\n",
    "              logging_steps=100,             # Log the loss and learning rate every x steps\n",
    "              experiment_dir=\"trainer_bike\", # Name of the directory where all intermediate steps are saved\n",
    "              batch_size=32                # Batch Size\n",
    "              #lr_scheduler_type=\"constant\", # Specify the learning rate scheduler \n",
    "              #learning_rate=5e-5            # Set the inital learning rate\n",
    "            #   efficient_finetuning=\"lora\"\n",
    "             )"
   ]
  },
  {
   "cell_type": "markdown",
   "id": "3c7b173f",
   "metadata": {},
   "source": [
    "### Start Training"
   ]
  },
  {
   "cell_type": "code",
   "execution_count": 7,
   "id": "200e000c",
   "metadata": {
    "scrolled": true
   },
   "outputs": [
    {
     "name": "stderr",
     "output_type": "stream",
     "text": [
      "\u001b[39;20m2024-06-30 17:38:26,066 - INFO - Convert data into HuggingFace dataset object... (great.py:190)\u001b[0m\n",
      "\u001b[39;20m2024-06-30 17:38:26,083 - INFO - Create GReaT Trainer... (great.py:195)\u001b[0m\n",
      "\u001b[39;20m2024-06-30 17:38:26,735 - INFO - Start training... (great.py:211)\u001b[0m\n",
      "You're using a GPT2TokenizerFast tokenizer. Please note that with a fast tokenizer, using the `__call__` method is faster than using a method to encode the text followed by a call to the `pad` method to get a padded encoding.\n"
     ]
    },
    {
     "data": {
      "text/html": [
       "\n",
       "    <div>\n",
       "      \n",
       "      <progress value='230' max='230' style='width:300px; height:20px; vertical-align: middle;'></progress>\n",
       "      [230/230 01:31, Epoch 10/10]\n",
       "    </div>\n",
       "    <table border=\"1\" class=\"dataframe\">\n",
       "  <thead>\n",
       " <tr style=\"text-align: left;\">\n",
       "      <th>Step</th>\n",
       "      <th>Training Loss</th>\n",
       "    </tr>\n",
       "  </thead>\n",
       "  <tbody>\n",
       "    <tr>\n",
       "      <td>100</td>\n",
       "      <td>1.687800</td>\n",
       "    </tr>\n",
       "    <tr>\n",
       "      <td>200</td>\n",
       "      <td>1.322800</td>\n",
       "    </tr>\n",
       "  </tbody>\n",
       "</table><p>"
      ],
      "text/plain": [
       "<IPython.core.display.HTML object>"
      ]
     },
     "metadata": {},
     "output_type": "display_data"
    }
   ],
   "source": [
    "trainer = great.fit(data)"
   ]
  },
  {
   "cell_type": "code",
   "execution_count": 8,
   "id": "cfe8184d",
   "metadata": {},
   "outputs": [
    {
     "data": {
      "text/plain": [
       "{'train_runtime': 92.8127,\n",
       " 'train_samples_per_second': 78.761,\n",
       " 'train_steps_per_second': 2.478,\n",
       " 'total_flos': 356504398848000.0,\n",
       " 'train_loss': 1.4776142783786939,\n",
       " 'epoch': 10.0,\n",
       " 'step': 230}"
      ]
     },
     "execution_count": 8,
     "metadata": {},
     "output_type": "execute_result"
    }
   ],
   "source": [
    "loss_hist = trainer.state.log_history.copy()\n",
    "loss_hist.pop()"
   ]
  },
  {
   "cell_type": "code",
   "execution_count": 9,
   "id": "76deeb9e",
   "metadata": {},
   "outputs": [],
   "source": [
    "loss = [x[\"loss\"] for x in loss_hist]\n",
    "epochs = [x[\"epoch\"] for x in loss_hist]"
   ]
  },
  {
   "cell_type": "code",
   "execution_count": 10,
   "id": "bcd7fc6f",
   "metadata": {},
   "outputs": [
    {
     "data": {
      "text/plain": [
       "[<matplotlib.lines.Line2D at 0x7f353a843220>]"
      ]
     },
     "execution_count": 10,
     "metadata": {},
     "output_type": "execute_result"
    },
    {
     "data": {
      "image/png": "[encoded data removed]",
      "text/plain": [
       "<Figure size 640x480 with 1 Axes>"
      ]
     },
     "metadata": {},
     "output_type": "display_data"
    }
   ],
   "source": [
    "plt.plot(epochs, loss)"
   ]
  },
  {
   "cell_type": "markdown",
   "id": "fdb05fe0",
   "metadata": {},
   "source": [
    "### Generate Samples"
   ]
  },
  {
   "cell_type": "code",
   "execution_count": 11,
   "id": "4bb298ac",
   "metadata": {},
   "outputs": [],
   "source": [
    "n_samples = 1000"
   ]
  },
  {
   "cell_type": "code",
   "execution_count": 12,
   "id": "2106b9f2",
   "metadata": {},
   "outputs": [
    {
     "name": "stderr",
     "output_type": "stream",
     "text": [
      "  0%|          | 0/1000 [00:00<?, ?it/s]"
     ]
    },
    {
     "name": "stdout",
     "output_type": "stream",
     "text": [
      "['total rental bikes is 6904,', 'total rental bikes is 7907,', 'total rental bikes is 5611,', 'total rental bikes is 4595,', 'total rental bikes is 4484,', 'total rental bikes is 5362,', 'total rental bikes is 2659,', 'total rental bikes is 5459,', 'total rental bikes is 3649,', 'total rental bikes is 5260,', 'total rental bikes is 5786,', 'total rental bikes is 5225,', 'total rental bikes is 6273,', 'total rental bikes is 5531,', 'total rental bikes is 4326,', 'total rental bikes is 5992,', 'total rental bikes is 7538,', 'total rental bikes is 4991,', 'total rental bikes is 5315,', 'total rental bikes is 7639,', 'total rental bikes is 3786,', 'total rental bikes is 4098,', 'total rental bikes is 7436,', 'total rental bikes is 4035,', 'total rental bikes is 7461,', 'total rental bikes is 2192,', 'total rental bikes is 5713,', 'total rental bikes is 4656,', 'total rental bikes is 5810,', 'total rental bikes is 3574,', 'total rental bikes is 6778,', 'total rental bikes is 6043,', 'total rental bikes is 4046,', 'total rental bikes is 5923,', 'total rental bikes is 985,', 'total rental bikes is 4359,', 'total rental bikes is 4066,', 'total rental bikes is 7410,', 'total rental bikes is 4539,', 'total rental bikes is 7499,', 'total rental bikes is 1951,', 'total rental bikes is 4649,', 'total rental bikes is 4182,', 'total rental bikes is 2210,', 'total rental bikes is 4154,', 'total rental bikes is 4844,', 'total rental bikes is 3292,', 'total rental bikes is 3425,', 'total rental bikes is 2431,', 'total rental bikes is 7580,']\n"
     ]
    },
    {
     "name": "stderr",
     "output_type": "stream",
     "text": [
      "  0%|          | 2/1000 [00:01<14:11,  1.17it/s]"
     ]
    },
    {
     "name": "stdout",
     "output_type": "stream",
     "text": [
      "['total rental bikes is 4595,', 'total rental bikes is 3614,', 'total rental bikes is 7261,', 'total rental bikes is 3614,', 'total rental bikes is 2424,', 'total rental bikes is 6312,', 'total rental bikes is 5557,', 'total rental bikes is 6457,', 'total rental bikes is 6857,', 'total rental bikes is 7733,', 'total rental bikes is 3214,', 'total rental bikes is 4780,', 'total rental bikes is 6869,', 'total rental bikes is 5729,', 'total rental bikes is 6530,', 'total rental bikes is 3922,', 'total rental bikes is 4127,', 'total rental bikes is 1746,', 'total rental bikes is 1996,', 'total rental bikes is 4906,', 'total rental bikes is 5918,', 'total rental bikes is 4456,', 'total rental bikes is 6825,', 'total rental bikes is 4154,', 'total rental bikes is 7499,', 'total rental bikes is 5298,', 'total rental bikes is 7058,', 'total rental bikes is 3784,', 'total rental bikes is 5087,', 'total rental bikes is 1162,', 'total rental bikes is 7105,', 'total rental bikes is 6207,', 'total rental bikes is 4966,', 'total rental bikes is 4270,', 'total rental bikes is 5099,', 'total rental bikes is 3831,', 'total rental bikes is 4717,', 'total rental bikes is 6530,', 'total rental bikes is 7509,', 'total rental bikes is 4401,', 'total rental bikes is 2933,', 'total rental bikes is 7494,', 'total rental bikes is 6864,', 'total rental bikes is 2395,', 'total rental bikes is 1248,', 'total rental bikes is 2056,', 'total rental bikes is 4390,', 'total rental bikes is 5170,', 'total rental bikes is 7112,', 'total rental bikes is 22,']\n"
     ]
    },
    {
     "name": "stderr",
     "output_type": "stream",
     "text": [
      "  1%|          | 6/1000 [00:03<08:18,  1.99it/s]"
     ]
    },
    {
     "name": "stdout",
     "output_type": "stream",
     "text": [
      "['total rental bikes is 6779,', 'total rental bikes is 4639,', 'total rental bikes is 6304,', 'total rental bikes is 2209,', 'total rental bikes is 4911,', 'total rental bikes is 3348,', 'total rental bikes is 6978,', 'total rental bikes is 5531,', 'total rental bikes is 5008,', 'total rental bikes is 5117,', 'total rental bikes is 2368,', 'total rental bikes is 7534,', 'total rental bikes is 7498,', 'total rental bikes is 1530,', 'total rental bikes is 3068,', 'total rental bikes is 7328,', 'total rental bikes is 2294,', 'total rental bikes is 4338,', 'total rental bikes is 2115,', 'total rental bikes is 5464,', 'total rental bikes is 4460,', 'total rental bikes is 4649,', 'total rental bikes is 7290,', 'total rental bikes is 3068,', 'total rental bikes is 5202,', 'total rental bikes is 1495,', 'total rental bikes is 3956,', 'total rental bikes is 4456,', 'total rental bikes is 4401,', 'total rental bikes is 4375,', 'total rental bikes is 5847,', 'total rental bikes is 822,', 'total rental bikes is 7765,', 'total rental bikes is 6569,', 'total rental bikes is 6359,', 'total rental bikes is 1607,', 'total rental bikes is 7175,', 'total rental bikes is 7570,', 'total rental bikes is 6034,', 'total rental bikes is 2034,', 'total rental bikes is 7499,', 'total rental bikes is 2132,', 'total rental bikes is 3392,', 'total rental bikes is 4748,', 'total rental bikes is 6118,', 'total rental bikes is 2999,', 'total rental bikes is 4563,', 'total rental bikes is 1600,', 'total rental bikes is 801,', 'total rental bikes is 4773,']\n"
     ]
    },
    {
     "name": "stderr",
     "output_type": "stream",
     "text": [
      "  1%|          | 9/1000 [00:04<08:18,  1.99it/s]"
     ]
    },
    {
     "name": "stdout",
     "output_type": "stream",
     "text": [
      "['total rental bikes is 4648,', 'total rental bikes is 1562,', 'total rental bikes is 6784,', 'total rental bikes is 5499,', 'total rental bikes is 5875,', 'total rental bikes is 2832,', 'total rental bikes is 4073,', 'total rental bikes is 4509,', 'total rental bikes is 4765,', 'total rental bikes is 7148,', 'total rental bikes is 822,', 'total rental bikes is 5499,', 'total rental bikes is 627,', 'total rental bikes is 6591,', 'total rental bikes is 2302,', 'total rental bikes is 5259,', 'total rental bikes is 2134,', 'total rental bikes is 3574,', 'total rental bikes is 3659,', 'total rental bikes is 5217,', 'total rental bikes is 2423,', 'total rental bikes is 1749,', 'total rental bikes is 4274,', 'total rental bikes is 4274,', 'total rental bikes is 3910,', 'total rental bikes is 2689,', 'total rental bikes is 4592,', 'total rental bikes is 2424,', 'total rental bikes is 8090,', 'total rental bikes is 2134,', 'total rental bikes is 6691,', 'total rental bikes is 3267,', 'total rental bikes is 7350,', 'total rental bikes is 2710,', 'total rental bikes is 4608,', 'total rental bikes is 4694,', 'total rental bikes is 2114,', 'total rental bikes is 1913,', 'total rental bikes is 7525,', 'total rental bikes is 2802,', 'total rental bikes is 6998,', 'total rental bikes is 822,', 'total rental bikes is 1693,', 'total rental bikes is 1162,', 'total rental bikes is 6457,', 'total rental bikes is 7458,', 'total rental bikes is 920,', 'total rental bikes is 5633,', 'total rental bikes is 605,', 'total rental bikes is 6891,']\n"
     ]
    },
    {
     "name": "stderr",
     "output_type": "stream",
     "text": [
      "  1%|          | 12/1000 [00:06<08:19,  1.98it/s]"
     ]
    },
    {
     "name": "stdout",
     "output_type": "stream",
     "text": [
      "['total rental bikes is 3141,', 'total rental bikes is 1167,', 'total rental bikes is 2659,', 'total rental bikes is 4608,', 'total rental bikes is 2368,', 'total rental bikes is 4966,', 'total rental bikes is 1248,', 'total rental bikes is 6370,', 'total rental bikes is 8009,', 'total rental bikes is 3272,', 'total rental bikes is 1600,', 'total rental bikes is 2177,', 'total rental bikes is 5823,', 'total rental bikes is 7030,', 'total rental bikes is 5810,', 'total rental bikes is 4304,', 'total rental bikes is 4118,', 'total rental bikes is 5117,', 'total rental bikes is 5501,', 'total rental bikes is 3285,', 'total rental bikes is 2999,', 'total rental bikes is 6227,', 'total rental bikes is 3544,', 'total rental bikes is 7691,', 'total rental bikes is 1530,', 'total rental bikes is 4570,', 'total rental bikes is 4308,', 'total rental bikes is 4352,', 'total rental bikes is 7282,', 'total rental bikes is 1917,', 'total rental bikes is 2659,', 'total rental bikes is 5895,', 'total rental bikes is 7639,', 'total rental bikes is 2914,', 'total rental bikes is 6857,', 'total rental bikes is 3392,', 'total rental bikes is 7570,', 'total rental bikes is 5986,', 'total rental bikes is 3095,', 'total rental bikes is 4378,', 'total rental bikes is 2455,', 'total rental bikes is 3944,', 'total rental bikes is 4539,', 'total rental bikes is 4592,', 'total rental bikes is 1606,', 'total rental bikes is 7006,', 'total rental bikes is 5687,', 'total rental bikes is 8294,', 'total rental bikes is 4864,', 'total rental bikes is 3523,']\n"
     ]
    },
    {
     "name": "stderr",
     "output_type": "stream",
     "text": [
      "  2%|▏         | 16/1000 [00:07<07:24,  2.21it/s]"
     ]
    },
    {
     "name": "stdout",
     "output_type": "stream",
     "text": [
      "['total rental bikes is 8120,', 'total rental bikes is 7030,', 'total rental bikes is 4758,', 'total rental bikes is 4153,', 'total rental bikes is 7736,', 'total rental bikes is 7466,', 'total rental bikes is 7570,', 'total rental bikes is 5905,', 'total rental bikes is 4911,', 'total rental bikes is 1526,', 'total rental bikes is 3214,', 'total rental bikes is 3322,', 'total rental bikes is 7494,', 'total rental bikes is 4451,', 'total rental bikes is 2192,', 'total rental bikes is 7148,', 'total rental bikes is 7865,', 'total rental bikes is 1204,', 'total rental bikes is 4985,', 'total rental bikes is 5409,', 'total rental bikes is 6536,', 'total rental bikes is 5170,', 'total rental bikes is 3740,', 'total rental bikes is 2277,', 'total rental bikes is 4788,', 'total rental bikes is 2177,', 'total rental bikes is 5202,', 'total rental bikes is 4990,', 'total rental bikes is 5336,', 'total rental bikes is 6606,', 'total rental bikes is 7538,', 'total rental bikes is 754,', 'total rental bikes is 6664,', 'total rental bikes is 4866,', 'total rental bikes is 3272,', 'total rental bikes is 6852,', 'total rental bikes is 1600,', 'total rental bikes is 2455,', 'total rental bikes is 4456,', 'total rental bikes is 5047,', 'total rental bikes is 3163,', 'total rental bikes is 4154,', 'total rental bikes is 6133,', 'total rental bikes is 2455,', 'total rental bikes is 6685,', 'total rental bikes is 6196,', 'total rental bikes is 4507,', 'total rental bikes is 4639,', 'total rental bikes is 1421,', 'total rental bikes is 5336,']\n"
     ]
    },
    {
     "name": "stderr",
     "output_type": "stream",
     "text": [
      "  2%|▏         | 21/1000 [00:09<06:22,  2.56it/s]"
     ]
    },
    {
     "name": "stdout",
     "output_type": "stream",
     "text": [
      "['total rental bikes is 5740,', 'total rental bikes is 3786,', 'total rental bikes is 3873,', 'total rental bikes is 1349,', 'total rental bikes is 4375,', 'total rental bikes is 5010,', 'total rental bikes is 3956,', 'total rental bikes is 8173,', 'total rental bikes is 4788,', 'total rental bikes is 7461,', 'total rental bikes is 1501,', 'total rental bikes is 7006,', 'total rental bikes is 6241,', 'total rental bikes is 4097,', 'total rental bikes is 4661,', 'total rental bikes is 2252,', 'total rental bikes is 6770,', 'total rental bikes is 2496,', 'total rental bikes is 7592,', 'total rental bikes is 3974,', 'total rental bikes is 4258,', 'total rental bikes is 3005,', 'total rental bikes is 2417,', 'total rental bikes is 441,', 'total rental bikes is 3310,', 'total rental bikes is 754,', 'total rental bikes is 1589,', 'total rental bikes is 4991,', 'total rental bikes is 7591,', 'total rental bikes is 5375,', 'total rental bikes is 2496,', 'total rental bikes is 2424,', 'total rental bikes is 4862,', 'total rental bikes is 3285,', 'total rental bikes is 5084,', 'total rental bikes is 5115,', 'total rental bikes is 4294,', 'total rental bikes is 4940,', 'total rental bikes is 7013,', 'total rental bikes is 7424,', 'total rental bikes is 7375,', 'total rental bikes is 3423,', 'total rental bikes is 1842,', 'total rental bikes is 4459,', 'total rental bikes is 7538,', 'total rental bikes is 2703,', 'total rental bikes is 1796,', 'total rental bikes is 3940,', 'total rental bikes is 1501,', 'total rental bikes is 1985,']\n"
     ]
    },
    {
     "name": "stderr",
     "output_type": "stream",
     "text": [
      "  2%|▎         | 25/1000 [00:10<06:20,  2.57it/s]"
     ]
    },
    {
     "name": "stdout",
     "output_type": "stream",
     "text": [
      "['total rental bikes is 1977,', 'total rental bikes is 5870,', 'total rental bikes is 3840,', 'total rental bikes is 7639,', 'total rental bikes is 2077,', 'total rental bikes is 623,', 'total rental bikes is 4258,', 'total rental bikes is 7375,', 'total rental bikes is 2689,', 'total rental bikes is 4294,', 'total rental bikes is 2659,', 'total rental bikes is 2115,', 'total rental bikes is 5259,', 'total rental bikes is 4362,', 'total rental bikes is 1685,', 'total rental bikes is 4086,', 'total rental bikes is 2192,', 'total rental bikes is 5115,', 'total rental bikes is 3649,', 'total rental bikes is 4575,', 'total rental bikes is 6784,', 'total rental bikes is 7328,', 'total rental bikes is 2298,', 'total rental bikes is 822,', 'total rental bikes is 5260,', 'total rental bikes is 605,', 'total rental bikes is 3005,', 'total rental bikes is 4569,', 'total rental bikes is 6883,', 'total rental bikes is 2376,', 'total rental bikes is 3129,', 'total rental bikes is 7499,', 'total rental bikes is 3351,', 'total rental bikes is 3292,', 'total rental bikes is 1317,', 'total rental bikes is 2416,', 'total rental bikes is 7393,', 'total rental bikes is 6398,', 'total rental bikes is 3982,', 'total rental bikes is 4270,', 'total rental bikes is 3577,', 'total rental bikes is 4978,', 'total rental bikes is 2402,', 'total rental bikes is 5180,', 'total rental bikes is 4169,', 'total rental bikes is 6290,', 'total rental bikes is 3982,', 'total rental bikes is 5668,', 'total rental bikes is 4763,', 'total rental bikes is 7591,']\n"
     ]
    },
    {
     "name": "stderr",
     "output_type": "stream",
     "text": [
      "  3%|▎         | 28/1000 [00:12<06:46,  2.39it/s]"
     ]
    },
    {
     "name": "stdout",
     "output_type": "stream",
     "text": [
      "['total rental bikes is 5686,', 'total rental bikes is 5375,', 'total rental bikes is 7148,', 'total rental bikes is 1446,', 'total rental bikes is 3659,', 'total rental bikes is 4575,', 'total rental bikes is 2947,', 'total rental bikes is 506,', 'total rental bikes is 5445,', 'total rental bikes is 4569,', 'total rental bikes is 8227,', 'total rental bikes is 4996,', 'total rental bikes is 2115,', 'total rental bikes is 3214,', 'total rental bikes is 2425,', 'total rental bikes is 5312,', 'total rental bikes is 6857,', 'total rental bikes is 4375,', 'total rental bikes is 2594,', 'total rental bikes is 3285,', 'total rental bikes is 5847,', 'total rental bikes is 2425,', 'total rental bikes is 2134,', 'total rental bikes is 4991,', 'total rental bikes is 8362,', 'total rental bikes is 7865,', 'total rental bikes is 3510,', 'total rental bikes is 5459,', 'total rental bikes is 6536,', 'total rental bikes is 5847,', 'total rental bikes is 7363,', 'total rental bikes is 4154,', 'total rental bikes is 4459,', 'total rental bikes is 1917,', 'total rental bikes is 6639,', 'total rental bikes is 2729,', 'total rental bikes is 7605,', 'total rental bikes is 4066,', 'total rental bikes is 4509,', 'total rental bikes is 2046,', 'total rental bikes is 6093,', 'total rental bikes is 5362,', 'total rental bikes is 2744,', 'total rental bikes is 1472,', 'total rental bikes is 8156,', 'total rental bikes is 4563,', 'total rental bikes is 3310,', 'total rental bikes is 5119,', 'total rental bikes is 4153,', 'total rental bikes is 6227,']\n"
     ]
    },
    {
     "name": "stderr",
     "output_type": "stream",
     "text": [
      "  3%|▎         | 31/1000 [00:13<07:06,  2.27it/s]"
     ]
    },
    {
     "name": "stdout",
     "output_type": "stream",
     "text": [
      "['total rental bikes is 5010,', 'total rental bikes is 7282,', 'total rental bikes is 2802,', 'total rental bikes is 7693,', 'total rental bikes is 5102,', 'total rental bikes is 3544,', 'total rental bikes is 6233,', 'total rental bikes is 4694,', 'total rental bikes is 2935,', 'total rental bikes is 5847,', 'total rental bikes is 4486,', 'total rental bikes is 1693,', 'total rental bikes is 2914,', 'total rental bikes is 5087,', 'total rental bikes is 2802,', 'total rental bikes is 5532,', 'total rental bikes is 4881,', 'total rental bikes is 2594,', 'total rental bikes is 6234,', 'total rental bikes is 431,', 'total rental bikes is 4195,', 'total rental bikes is 4182,', 'total rental bikes is 2417,', 'total rental bikes is 4333,', 'total rental bikes is 4634,', 'total rental bikes is 7965,', 'total rental bikes is 4592,', 'total rental bikes is 3520,', 'total rental bikes is 4575,', 'total rental bikes is 5629,', 'total rental bikes is 4191,', 'total rental bikes is 1685,', 'total rental bikes is 1538,', 'total rental bikes is 5713,', 'total rental bikes is 5936,', 'total rental bikes is 5312,', 'total rental bikes is 7286,', 'total rental bikes is 7148,', 'total rental bikes is 7466,', 'total rental bikes is 6211,', 'total rental bikes is 2485,', 'total rental bikes is 4058,', 'total rental bikes is 3982,', 'total rental bikes is 3830,', 'total rental bikes is 3095,', 'total rental bikes is 1446,', 'total rental bikes is 4073,', 'total rental bikes is 5298,', 'total rental bikes is 5698,', 'total rental bikes is 5687,']\n"
     ]
    },
    {
     "name": "stderr",
     "output_type": "stream",
     "text": [
      "  4%|▎         | 35/1000 [00:15<06:45,  2.38it/s]"
     ]
    },
    {
     "name": "stdout",
     "output_type": "stream",
     "text": [
      "['total rental bikes is 2792,', 'total rental bikes is 5992,', 'total rental bikes is 3403,', 'total rental bikes is 6230,', 'total rental bikes is 4182,', 'total rental bikes is 3190,', 'total rental bikes is 3126,', 'total rental bikes is 2425,', 'total rental bikes is 6269,', 'total rental bikes is 7112,', 'total rental bikes is 4586,', 'total rental bikes is 7444,', 'total rental bikes is 7870,', 'total rental bikes is 4127,', 'total rental bikes is 5217,', 'total rental bikes is 2895,', 'total rental bikes is 5698,', 'total rental bikes is 1529,', 'total rental bikes is 7282,', 'total rental bikes is 4881,', 'total rental bikes is 1005,', 'total rental bikes is 7216,', 'total rental bikes is 3641,', 'total rental bikes is 6207,', 'total rental bikes is 4677,', 'total rental bikes is 5191,', 'total rental bikes is 4679,', 'total rental bikes is 1851,', 'total rental bikes is 5342,', 'total rental bikes is 3598,', 'total rental bikes is 4835,', 'total rental bikes is 8156,', 'total rental bikes is 5305,', 'total rental bikes is 1650,', 'total rental bikes is 2425,', 'total rental bikes is 4765,', 'total rental bikes is 2431,', 'total rental bikes is 4151,', 'total rental bikes is 7804,', 'total rental bikes is 6234,', 'total rental bikes is 4451,', 'total rental bikes is 4182,', 'total rental bikes is 4521,', 'total rental bikes is 4864,', 'total rental bikes is 2192,', 'total rental bikes is 4744,', 'total rental bikes is 4339,', 'total rental bikes is 4400,', 'total rental bikes is 5459,', 'total rental bikes is 6824,']\n"
     ]
    },
    {
     "name": "stderr",
     "output_type": "stream",
     "text": [
      "  4%|▍         | 43/1000 [00:16<04:53,  3.26it/s]"
     ]
    },
    {
     "name": "stdout",
     "output_type": "stream",
     "text": [
      "['total rental bikes is 5115,', 'total rental bikes is 7403,', 'total rental bikes is 2294,', 'total rental bikes is 6234,', 'total rental bikes is 1098,', 'total rental bikes is 4835,', 'total rental bikes is 4826,', 'total rental bikes is 1605,', 'total rental bikes is 7055,', 'total rental bikes is 1951,', 'total rental bikes is 6235,', 'total rental bikes is 6691,', 'total rental bikes is 795,', 'total rental bikes is 6624,', 'total rental bikes is 4679,', 'total rental bikes is 1538,', 'total rental bikes is 7338,', 'total rental bikes is 2376,', 'total rental bikes is 3126,', 'total rental bikes is 6624,', 'total rental bikes is 3376,', 'total rental bikes is 2368,', 'total rental bikes is 2395,', 'total rental bikes is 22,', 'total rental bikes is 2475,', 'total rental bikes is 6192,', 'total rental bikes is 3982,', 'total rental bikes is 6591,', 'total rental bikes is 5532,', 'total rental bikes is 1349,', 'total rental bikes is 3542,', 'total rental bikes is 3485,', 'total rental bikes is 5698,', 'total rental bikes is 7040,', 'total rental bikes is 5026,', 'total rental bikes is 4905,', 'total rental bikes is 3190,', 'total rental bikes is 3163,', 'total rental bikes is 2475,', 'total rental bikes is 7691,', 'total rental bikes is 3368,', 'total rental bikes is 6536,', 'total rental bikes is 5558,', 'total rental bikes is 2703,', 'total rental bikes is 7713,', 'total rental bikes is 6398,', 'total rental bikes is 605,', 'total rental bikes is 2729,', 'total rental bikes is 4773,', 'total rental bikes is 5008,']\n"
     ]
    },
    {
     "name": "stderr",
     "output_type": "stream",
     "text": [
      "  5%|▌         | 52/1000 [00:18<03:52,  4.07it/s]"
     ]
    },
    {
     "name": "stdout",
     "output_type": "stream",
     "text": [
      "['total rental bikes is 8714,', 'total rental bikes is 4634,', 'total rental bikes is 6392,', 'total rental bikes is 4792,', 'total rental bikes is 4839,', 'total rental bikes is 4205,', 'total rental bikes is 5992,', 'total rental bikes is 4917,', 'total rental bikes is 959,', 'total rental bikes is 5020,', 'total rental bikes is 2227,', 'total rental bikes is 1510,', 'total rental bikes is 5557,', 'total rental bikes is 6153,', 'total rental bikes is 7359,', 'total rental bikes is 4669,', 'total rental bikes is 1796,', 'total rental bikes is 6883,', 'total rental bikes is 7639,', 'total rental bikes is 1360,', 'total rental bikes is 3784,', 'total rental bikes is 2227,', 'total rental bikes is 3620,', 'total rental bikes is 6572,', 'total rental bikes is 6624,', 'total rental bikes is 6685,', 'total rental bikes is 5204,', 'total rental bikes is 7605,', 'total rental bikes is 6398,', 'total rental bikes is 2493,', 'total rental bikes is 3867,', 'total rental bikes is 8227,', 'total rental bikes is 22,', 'total rental bikes is 1349,', 'total rental bikes is 4713,', 'total rental bikes is 1317,', 'total rental bikes is 3403,', 'total rental bikes is 5217,', 'total rental bikes is 7582,', 'total rental bikes is 7534,', 'total rental bikes is 6118,', 'total rental bikes is 5499,', 'total rental bikes is 4270,', 'total rental bikes is 3982,', 'total rental bikes is 3129,', 'total rental bikes is 5362,', 'total rental bikes is 5170,', 'total rental bikes is 2425,', 'total rental bikes is 3239,', 'total rental bikes is 4881,']\n"
     ]
    },
    {
     "name": "stderr",
     "output_type": "stream",
     "text": [
      "  5%|▌         | 54/1000 [00:19<04:52,  3.24it/s]"
     ]
    },
    {
     "name": "stdout",
     "output_type": "stream",
     "text": [
      "['total rental bikes is 3351,', 'total rental bikes is 6824,', 'total rental bikes is 4708,', 'total rental bikes is 2114,', 'total rental bikes is 4118,', 'total rental bikes is 3129,', 'total rental bikes is 4744,', 'total rental bikes is 1510,', 'total rental bikes is 5255,', 'total rental bikes is 6883,', 'total rental bikes is 4400,', 'total rental bikes is 3523,', 'total rental bikes is 7290,', 'total rental bikes is 5010,', 'total rental bikes is 7499,', 'total rental bikes is 6093,', 'total rental bikes is 1865,', 'total rental bikes is 6786,', 'total rental bikes is 1944,', 'total rental bikes is 7702,', 'total rental bikes is 4509,', 'total rental bikes is 6883,', 'total rental bikes is 4390,', 'total rental bikes is 4727,', 'total rental bikes is 4570,', 'total rental bikes is 4189,', 'total rental bikes is 5634,', 'total rental bikes is 7538,', 'total rental bikes is 4665,', 'total rental bikes is 1162,', 'total rental bikes is 2660,', 'total rental bikes is 6660,', 'total rental bikes is 4549,', 'total rental bikes is 4639,', 'total rental bikes is 5020,', 'total rental bikes is 6398,', 'total rental bikes is 5936,', 'total rental bikes is 3784,', 'total rental bikes is 6569,', 'total rental bikes is 2402,', 'total rental bikes is 1685,', 'total rental bikes is 7592,', 'total rental bikes is 8294,', 'total rental bikes is 3214,', 'total rental bikes is 4169,', 'total rental bikes is 7328,', 'total rental bikes is 5572,', 'total rental bikes is 6786,', 'total rental bikes is 3767,', 'total rental bikes is 5202,']\n"
     ]
    },
    {
     "name": "stderr",
     "output_type": "stream",
     "text": [
      "  6%|▌         | 55/1000 [00:21<06:33,  2.40it/s]"
     ]
    },
    {
     "name": "stdout",
     "output_type": "stream",
     "text": [
      "['total rental bikes is 3387,', 'total rental bikes is 4046,', 'total rental bikes is 7605,', 'total rental bikes is 4484,', 'total rental bikes is 4338,', 'total rental bikes is 4486,', 'total rental bikes is 2566,', 'total rental bikes is 2277,', 'total rental bikes is 2566,', 'total rental bikes is 6153,', 'total rental bikes is 2739,', 'total rental bikes is 4182,', 'total rental bikes is 5870,', 'total rental bikes is 6598,', 'total rental bikes is 1834,', 'total rental bikes is 2077,', 'total rental bikes is 6824,', 'total rental bikes is 3620,', 'total rental bikes is 6304,', 'total rental bikes is 2210,', 'total rental bikes is 6978,', 'total rental bikes is 5611,', 'total rental bikes is 3204,', 'total rental bikes is 1096,', 'total rental bikes is 1529,', 'total rental bikes is 6118,', 'total rental bikes is 2192,', 'total rental bikes is 1501,', 'total rental bikes is 6565,', 'total rental bikes is 4066,', 'total rental bikes is 7335,', 'total rental bikes is 1891,', 'total rental bikes is 2808,', 'total rental bikes is 4687,', 'total rental bikes is 5698,', 'total rental bikes is 4191,', 'total rental bikes is 3659,', 'total rental bikes is 5511,', 'total rental bikes is 6196,', 'total rental bikes is 5046,', 'total rental bikes is 6034,', 'total rental bikes is 7605,', 'total rental bikes is 4475,', 'total rental bikes is 6624,', 'total rental bikes is 6043,', 'total rental bikes is 3820,', 'total rental bikes is 6857,', 'total rental bikes is 4401,', 'total rental bikes is 6169,', 'total rental bikes is 5629,']\n"
     ]
    },
    {
     "name": "stderr",
     "output_type": "stream",
     "text": [
      "  6%|▌         | 57/1000 [00:23<07:33,  2.08it/s]"
     ]
    },
    {
     "name": "stdout",
     "output_type": "stream",
     "text": [
      "['total rental bikes is 1607,', 'total rental bikes is 8156,', 'total rental bikes is 5740,', 'total rental bikes is 3243,', 'total rental bikes is 4978,', 'total rental bikes is 7605,', 'total rental bikes is 7736,', 'total rental bikes is 1263,', 'total rental bikes is 5062,', 'total rental bikes is 5375,', 'total rental bikes is 3487,', 'total rental bikes is 4073,', 'total rental bikes is 431,', 'total rental bikes is 4833,', 'total rental bikes is 5204,', 'total rental bikes is 4608,', 'total rental bikes is 3598,', 'total rental bikes is 6359,', 'total rental bikes is 3982,', 'total rental bikes is 4073,', 'total rental bikes is 4153,', 'total rental bikes is 4187,', 'total rental bikes is 2429,', 'total rental bikes is 1708,', 'total rental bikes is 3944,', 'total rental bikes is 3115,', 'total rental bikes is 4195,', 'total rental bikes is 5035,', 'total rental bikes is 7264,', 'total rental bikes is 4150,', 'total rental bikes is 4881,', 'total rental bikes is 5010,', 'total rental bikes is 8167,', 'total rental bikes is 5323,', 'total rental bikes is 2485,', 'total rental bikes is 4010,', 'total rental bikes is 7333,', 'total rental bikes is 1341,', 'total rental bikes is 6140,', 'total rental bikes is 2134,', 'total rental bikes is 5847,', 'total rental bikes is 6073,', 'total rental bikes is 7290,', 'total rental bikes is 3784,', 'total rental bikes is 623,', 'total rental bikes is 4097,', 'total rental bikes is 506,', 'total rental bikes is 5026,', 'total rental bikes is 5629,', 'total rental bikes is 4169,']\n"
     ]
    },
    {
     "name": "stderr",
     "output_type": "stream",
     "text": [
      "  6%|▌         | 60/1000 [00:24<07:42,  2.03it/s]"
     ]
    },
    {
     "name": "stdout",
     "output_type": "stream",
     "text": [
      "['total rental bikes is 6273,', 'total rental bikes is 4891,', 'total rental bikes is 2311,', 'total rental bikes is 7446,', 'total rental bikes is 5499,', 'total rental bikes is 8009,', 'total rental bikes is 3141,', 'total rental bikes is 4118,', 'total rental bikes is 5020,', 'total rental bikes is 2895,', 'total rental bikes is 3387,', 'total rental bikes is 4068,', 'total rental bikes is 5047,', 'total rental bikes is 4338,', 'total rental bikes is 7509,', 'total rental bikes is 5169,', 'total rental bikes is 7415,', 'total rental bikes is 5572,', 'total rental bikes is 7421,', 'total rental bikes is 1851,', 'total rental bikes is 8714,', 'total rental bikes is 2121,', 'total rental bikes is 4665,', 'total rental bikes is 5117,', 'total rental bikes is 5117,', 'total rental bikes is 1746,', 'total rental bikes is 4569,', 'total rental bikes is 2402,', 'total rental bikes is 2933,', 'total rental bikes is 2792,', 'total rental bikes is 3982,', 'total rental bikes is 4790,', 'total rental bikes is 5302,', 'total rental bikes is 7403,', 'total rental bikes is 6883,', 'total rental bikes is 6861,', 'total rental bikes is 3649,', 'total rental bikes is 2471,', 'total rental bikes is 4839,', 'total rental bikes is 5847,', 'total rental bikes is 605,', 'total rental bikes is 5936,', 'total rental bikes is 4826,', 'total rental bikes is 5202,', 'total rental bikes is 3372,', 'total rental bikes is 7534,', 'total rental bikes is 4978,', 'total rental bikes is 6786,', 'total rental bikes is 4576,', 'total rental bikes is 8294,']\n"
     ]
    },
    {
     "name": "stderr",
     "output_type": "stream",
     "text": [
      "  6%|▌         | 61/1000 [00:26<09:39,  1.62it/s]"
     ]
    },
    {
     "name": "stdout",
     "output_type": "stream",
     "text": [
      "['total rental bikes is 5495,', 'total rental bikes is 4717,', 'total rental bikes is 2114,', 'total rental bikes is 3456,', 'total rental bikes is 7393,', 'total rental bikes is 6660,', 'total rental bikes is 5582,', 'total rental bikes is 3510,', 'total rental bikes is 3956,', 'total rental bikes is 3614,', 'total rental bikes is 2298,', 'total rental bikes is 5259,', 'total rental bikes is 6572,', 'total rental bikes is 3376,', 'total rental bikes is 6235,', 'total rental bikes is 4891,', 'total rental bikes is 3855,', 'total rental bikes is 4795,', 'total rental bikes is 4985,', 'total rental bikes is 920,', 'total rental bikes is 4629,', 'total rental bikes is 3194,', 'total rental bikes is 5047,', 'total rental bikes is 7363,', 'total rental bikes is 2210,', 'total rental bikes is 3855,', 'total rental bikes is 7216,', 'total rental bikes is 7384,', 'total rental bikes is 4492,', 'total rental bikes is 4916,', 'total rental bikes is 7525,', 'total rental bikes is 3614,', 'total rental bikes is 3214,', 'total rental bikes is 5305,', 'total rental bikes is 7286,', 'total rental bikes is 7290,', 'total rental bikes is 7534,', 'total rental bikes is 3523,', 'total rental bikes is 1913,', 'total rental bikes is 5225,', 'total rental bikes is 2594,', 'total rental bikes is 2765,', 'total rental bikes is 3523,', 'total rental bikes is 2368,', 'total rental bikes is 7907,', 'total rental bikes is 3403,', 'total rental bikes is 1341,', 'total rental bikes is 4785,', 'total rental bikes is 5312,', 'total rental bikes is 5323,']\n"
     ]
    },
    {
     "name": "stderr",
     "output_type": "stream",
     "text": [
      "  6%|▋         | 65/1000 [00:27<08:08,  1.91it/s]"
     ]
    },
    {
     "name": "stdout",
     "output_type": "stream",
     "text": [
      "['total rental bikes is 3750,', 'total rental bikes is 6904,', 'total rental bikes is 3129,', 'total rental bikes is 6235,', 'total rental bikes is 2703,', 'total rental bikes is 4475,', 'total rental bikes is 1851,', 'total rental bikes is 4507,', 'total rental bikes is 3606,', 'total rental bikes is 4592,', 'total rental bikes is 4332,', 'total rental bikes is 5463,', 'total rental bikes is 2659,', 'total rental bikes is 4073,', 'total rental bikes is 3940,', 'total rental bikes is 7580,', 'total rental bikes is 5191,', 'total rental bikes is 5976,', 'total rental bikes is 1985,', 'total rental bikes is 6591,', 'total rental bikes is 2028,', 'total rental bikes is 3784,', 'total rental bikes is 4826,', 'total rental bikes is 4451,', 'total rental bikes is 6536,', 'total rental bikes is 4378,', 'total rental bikes is 5698,', 'total rental bikes is 2376,', 'total rental bikes is 4381,', 'total rental bikes is 4475,', 'total rental bikes is 4401,', 'total rental bikes is 7907,', 'total rental bikes is 2843,', 'total rental bikes is 4968,', 'total rental bikes is 1349,', 'total rental bikes is 3659,', 'total rental bikes is 2732,', 'total rental bikes is 2493,', 'total rental bikes is 7393,', 'total rental bikes is 3577,', 'total rental bikes is 5305,', 'total rental bikes is 3333,', 'total rental bikes is 4459,', 'total rental bikes is 4864,', 'total rental bikes is 4968,', 'total rental bikes is 7001,', 'total rental bikes is 4075,', 'total rental bikes is 5315,', 'total rental bikes is 4608,', 'total rental bikes is 5992,']\n"
     ]
    },
    {
     "name": "stderr",
     "output_type": "stream",
     "text": [
      "  7%|▋         | 69/1000 [00:29<07:20,  2.11it/s]"
     ]
    },
    {
     "name": "stdout",
     "output_type": "stream",
     "text": [
      "['total rental bikes is 6660,', 'total rental bikes is 4040,', 'total rental bikes is 2236,', 'total rental bikes is 3974,', 'total rental bikes is 985,', 'total rental bikes is 3940,', 'total rental bikes is 5336,', 'total rental bikes is 2402,', 'total rental bikes is 6784,', 'total rental bikes is 4839,', 'total rental bikes is 5047,', 'total rental bikes is 5169,', 'total rental bikes is 3141,', 'total rental bikes is 4378,', 'total rental bikes is 7384,', 'total rental bikes is 4400,', 'total rental bikes is 4046,', 'total rental bikes is 7429,', 'total rental bikes is 1812,', 'total rental bikes is 4274,', 'total rental bikes is 3872,', 'total rental bikes is 5511,', 'total rental bikes is 2311,', 'total rental bikes is 4154,', 'total rental bikes is 5423,', 'total rental bikes is 2056,', 'total rental bikes is 6786,', 'total rental bikes is 6824,', 'total rental bikes is 3958,', 'total rental bikes is 6779,', 'total rental bikes is 2792,', 'total rental bikes is 3523,', 'total rental bikes is 5875,', 'total rental bikes is 5810,', 'total rental bikes is 1683,', 'total rental bikes is 7013,', 'total rental bikes is 4390,', 'total rental bikes is 7605,', 'total rental bikes is 5225,', 'total rental bikes is 7175,', 'total rental bikes is 7393,', 'total rental bikes is 2034,', 'total rental bikes is 4725,', 'total rental bikes is 4375,', 'total rental bikes is 1526,', 'total rental bikes is 6207,', 'total rental bikes is 6234,', 'total rental bikes is 506,', 'total rental bikes is 2432,', 'total rental bikes is 2368,']\n"
     ]
    },
    {
     "name": "stderr",
     "output_type": "stream",
     "text": [
      "  7%|▋         | 73/1000 [00:30<06:47,  2.27it/s]"
     ]
    },
    {
     "name": "stdout",
     "output_type": "stream",
     "text": [
      "['total rental bikes is 2729,', 'total rental bikes is 4322,', 'total rental bikes is 4098,', 'total rental bikes is 7693,', 'total rental bikes is 7504,', 'total rental bikes is 8167,', 'total rental bikes is 7582,', 'total rental bikes is 4608,', 'total rental bikes is 1501,', 'total rental bikes is 4780,', 'total rental bikes is 6093,', 'total rental bikes is 2424,', 'total rental bikes is 1349,', 'total rental bikes is 3285,', 'total rental bikes is 5191,', 'total rental bikes is 1098,', 'total rental bikes is 5342,', 'total rental bikes is 6227,', 'total rental bikes is 6889,', 'total rental bikes is 4274,', 'total rental bikes is 1162,', 'total rental bikes is 4833,', 'total rental bikes is 7534,', 'total rental bikes is 920,', 'total rental bikes is 3544,', 'total rental bikes is 3348,', 'total rental bikes is 7534,', 'total rental bikes is 4694,', 'total rental bikes is 2395,', 'total rental bikes is 6034,', 'total rental bikes is 2424,', 'total rental bikes is 3422,', 'total rental bikes is 4036,', 'total rental bikes is 4792,', 'total rental bikes is 3577,', 'total rental bikes is 5847,', 'total rental bikes is 4274,', 'total rental bikes is 7870,', 'total rental bikes is 6153,', 'total rental bikes is 4334,', 'total rental bikes is 5046,', 'total rental bikes is 5423,', 'total rental bikes is 6891,', 'total rental bikes is 2277,', 'total rental bikes is 7384,', 'total rental bikes is 4040,', 'total rental bikes is 2402,', 'total rental bikes is 3831,', 'total rental bikes is 3425,', 'total rental bikes is 2227,']\n"
     ]
    },
    {
     "name": "stderr",
     "output_type": "stream",
     "text": [
      "  8%|▊         | 77/1000 [00:32<06:26,  2.39it/s]"
     ]
    },
    {
     "name": "stdout",
     "output_type": "stream",
     "text": [
      "['total rental bikes is 7767,', 'total rental bikes is 1913,', 'total rental bikes is 4153,', 'total rental bikes is 5511,', 'total rental bikes is 5611,', 'total rental bikes is 7765,', 'total rental bikes is 3510,', 'total rental bikes is 4906,', 'total rental bikes is 3811,', 'total rental bikes is 6770,', 'total rental bikes is 8009,', 'total rental bikes is 6597,', 'total rental bikes is 5312,', 'total rental bikes is 3285,', 'total rental bikes is 2252,', 'total rental bikes is 1834,', 'total rental bikes is 5035,', 'total rental bikes is 4401,', 'total rental bikes is 4648,', 'total rental bikes is 5611,', 'total rental bikes is 1471,', 'total rental bikes is 1341,', 'total rental bikes is 6140,', 'total rental bikes is 7375,', 'total rental bikes is 7403,', 'total rental bikes is 5633,', 'total rental bikes is 3624,', 'total rental bikes is 7965,', 'total rental bikes is 5260,', 'total rental bikes is 1530,', 'total rental bikes is 1530,', 'total rental bikes is 4763,', 'total rental bikes is 6857,', 'total rental bikes is 1529,', 'total rental bikes is 4128,', 'total rental bikes is 5923,', 'total rental bikes is 7148,', 'total rental bikes is 5020,', 'total rental bikes is 1162,', 'total rental bikes is 2133,', 'total rental bikes is 6770,', 'total rental bikes is 5084,', 'total rental bikes is 4744,', 'total rental bikes is 6861,', 'total rental bikes is 4576,', 'total rental bikes is 8120,', 'total rental bikes is 7290,', 'total rental bikes is 7055,', 'total rental bikes is 1605,', 'total rental bikes is 5423,']\n"
     ]
    },
    {
     "name": "stderr",
     "output_type": "stream",
     "text": [
      "  8%|▊         | 79/1000 [00:33<07:30,  2.04it/s]"
     ]
    },
    {
     "name": "stdout",
     "output_type": "stream",
     "text": [
      "['total rental bikes is 4590,', 'total rental bikes is 7013,', 'total rental bikes is 7350,', 'total rental bikes is 5062,', 'total rental bikes is 5687,', 'total rental bikes is 4182,', 'total rental bikes is 4195,', 'total rental bikes is 3820,', 'total rental bikes is 7436,', 'total rental bikes is 6966,', 'total rental bikes is 4758,', 'total rental bikes is 1550,', 'total rental bikes is 5823,', 'total rental bikes is 4788,', 'total rental bikes is 5107,', 'total rental bikes is 4602,', 'total rental bikes is 5099,', 'total rental bikes is 4150,', 'total rental bikes is 3620,', 'total rental bikes is 5459,', 'total rental bikes is 2729,', 'total rental bikes is 5138,', 'total rental bikes is 5495,', 'total rental bikes is 4378,', 'total rental bikes is 2808,', 'total rental bikes is 1536,', 'total rental bikes is 5478,', 'total rental bikes is 2424,', 'total rental bikes is 8156,', 'total rental bikes is 3614,', 'total rental bikes is 7148,', 'total rental bikes is 6269,', 'total rental bikes is 4917,', 'total rental bikes is 4694,', 'total rental bikes is 2432,', 'total rental bikes is 3190,', 'total rental bikes is 4035,', 'total rental bikes is 4492,', 'total rental bikes is 7460,', 'total rental bikes is 5992,', 'total rental bikes is 4780,', 'total rental bikes is 4067,', 'total rental bikes is 4046,', 'total rental bikes is 3944,', 'total rental bikes is 4563,', 'total rental bikes is 1891,', 'total rental bikes is 4790,', 'total rental bikes is 5345,', 'total rental bikes is 4773,', 'total rental bikes is 6370,']\n"
     ]
    },
    {
     "name": "stderr",
     "output_type": "stream",
     "text": [
      "  8%|▊         | 85/1000 [00:35<05:50,  2.61it/s]"
     ]
    },
    {
     "name": "stdout",
     "output_type": "stream",
     "text": [
      "['total rental bikes is 7498,', 'total rental bikes is 4548,', 'total rental bikes is 3272,', 'total rental bikes is 5572,', 'total rental bikes is 1817,', 'total rental bikes is 6392,', 'total rental bikes is 3761,', 'total rental bikes is 1872,', 'total rental bikes is 3351,', 'total rental bikes is 6536,', 'total rental bikes is 4153,', 'total rental bikes is 5713,', 'total rental bikes is 3959,', 'total rental bikes is 5478,', 'total rental bikes is 4687,', 'total rental bikes is 3387,', 'total rental bikes is 5041,', 'total rental bikes is 6043,', 'total rental bikes is 5936,', 'total rental bikes is 7415,', 'total rental bikes is 4475,', 'total rental bikes is 4569,', 'total rental bikes is 4629,', 'total rental bikes is 2431,', 'total rental bikes is 7148,', 'total rental bikes is 822,', 'total rental bikes is 6230,', 'total rental bikes is 7436,', 'total rental bikes is 4304,', 'total rental bikes is 3403,', 'total rental bikes is 3387,', 'total rental bikes is 5169,', 'total rental bikes is 4845,', 'total rental bikes is 1461,', 'total rental bikes is 6169,', 'total rental bikes is 3523,', 'total rental bikes is 5315,', 'total rental bikes is 4401,', 'total rental bikes is 5558,', 'total rental bikes is 5698,', 'total rental bikes is 6398,', 'total rental bikes is 7641,', 'total rental bikes is 3322,', 'total rental bikes is 1795,', 'total rental bikes is 2594,', 'total rental bikes is 5315,', 'total rental bikes is 4363,', 'total rental bikes is 6211,', 'total rental bikes is 7591,', 'total rental bikes is 1623,']\n"
     ]
    },
    {
     "name": "stderr",
     "output_type": "stream",
     "text": [
      "  9%|▉         | 92/1000 [00:36<04:43,  3.20it/s]"
     ]
    },
    {
     "name": "stdout",
     "output_type": "stream",
     "text": [
      "['total rental bikes is 4844,', 'total rental bikes is 1607,', 'total rental bikes is 1529,', 'total rental bikes is 7415,', 'total rental bikes is 1107,', 'total rental bikes is 3487,', 'total rental bikes is 4661,', 'total rental bikes is 4586,', 'total rental bikes is 3204,', 'total rental bikes is 5668,', 'total rental bikes is 3423,', 'total rental bikes is 4401,', 'total rental bikes is 6398,', 'total rental bikes is 5409,', 'total rental bikes is 1510,', 'total rental bikes is 2710,', 'total rental bikes is 4068,', 'total rental bikes is 2298,', 'total rental bikes is 5035,', 'total rental bikes is 3974,', 'total rental bikes is 3982,', 'total rental bikes is 5585,', 'total rental bikes is 7410,', 'total rental bikes is 6606,', 'total rental bikes is 5345,', 'total rental bikes is 4845,', 'total rental bikes is 3068,', 'total rental bikes is 4036,', 'total rental bikes is 4073,', 'total rental bikes is 5459,', 'total rental bikes is 4332,', 'total rental bikes is 4788,', 'total rental bikes is 3422,', 'total rental bikes is 5119,', 'total rental bikes is 2056,', 'total rental bikes is 6891,', 'total rental bikes is 3331,', 'total rental bikes is 3267,', 'total rental bikes is 3249,', 'total rental bikes is 5875,', 'total rental bikes is 4763,', 'total rental bikes is 5698,', 'total rental bikes is 7013,', 'total rental bikes is 6770,', 'total rental bikes is 985,', 'total rental bikes is 7290,', 'total rental bikes is 4362,', 'total rental bikes is 2895,', 'total rental bikes is 7261,', 'total rental bikes is 7733,']\n"
     ]
    },
    {
     "name": "stderr",
     "output_type": "stream",
     "text": [
      " 10%|▉         | 96/1000 [00:38<04:59,  3.02it/s]"
     ]
    },
    {
     "name": "stdout",
     "output_type": "stream",
     "text": [
      "['total rental bikes is 4539,', 'total rental bikes is 5501,', 'total rental bikes is 6606,', 'total rental bikes is 3389,', 'total rental bikes is 6169,', 'total rental bikes is 4714,', 'total rental bikes is 2132,', 'total rental bikes is 4795,', 'total rental bikes is 7582,', 'total rental bikes is 4333,', 'total rental bikes is 22,', 'total rental bikes is 4150,', 'total rental bikes is 5087,', 'total rental bikes is 4123,', 'total rental bikes is 4338,', 'total rental bikes is 2028,', 'total rental bikes is 4780,', 'total rental bikes is 3926,', 'total rental bikes is 985,', 'total rental bikes is 4844,', 'total rental bikes is 3620,', 'total rental bikes is 6304,', 'total rental bikes is 5010,', 'total rental bikes is 7697,', 'total rental bikes is 4679,', 'total rental bikes is 2169,', 'total rental bikes is 7498,', 'total rental bikes is 7436,', 'total rental bikes is 5267,', 'total rental bikes is 1098,', 'total rental bikes is 4035,', 'total rental bikes is 1749,', 'total rental bikes is 6861,', 'total rental bikes is 3598,', 'total rental bikes is 5728,', 'total rental bikes is 5805,', 'total rental bikes is 4400,', 'total rental bikes is 5169,', 'total rental bikes is 6786,', 'total rental bikes is 2294,', 'total rental bikes is 4067,', 'total rental bikes is 4708,', 'total rental bikes is 1749,', 'total rental bikes is 4362,', 'total rental bikes is 3214,', 'total rental bikes is 4266,', 'total rental bikes is 981,', 'total rental bikes is 4195,', 'total rental bikes is 5445,', 'total rental bikes is 7109,']\n"
     ]
    },
    {
     "name": "stderr",
     "output_type": "stream",
     "text": [
      " 10%|▉         | 99/1000 [00:39<05:31,  2.72it/s]"
     ]
    },
    {
     "name": "stdout",
     "output_type": "stream",
     "text": [
      "['total rental bikes is 4585,', 'total rental bikes is 4326,', 'total rental bikes is 3068,', 'total rental bikes is 4205,', 'total rental bikes is 5686,', 'total rental bikes is 4713,', 'total rental bikes is 2311,', 'total rental bikes is 4094,', 'total rental bikes is 3959,', 'total rental bikes is 6904,', 'total rental bikes is 4475,', 'total rental bikes is 6053,', 'total rental bikes is 5424,', 'total rental bikes is 1812,', 'total rental bikes is 6772,', 'total rental bikes is 5026,', 'total rental bikes is 3243,', 'total rental bikes is 1985,', 'total rental bikes is 3926,', 'total rental bikes is 4917,', 'total rental bikes is 4563,', 'total rental bikes is 7460,', 'total rental bikes is 5423,', 'total rental bikes is 7112,', 'total rental bikes is 4195,', 'total rental bikes is 4906,', 'total rental bikes is 3348,', 'total rental bikes is 3368,', 'total rental bikes is 1096,', 'total rental bikes is 6779,', 'total rental bikes is 2077,', 'total rental bikes is 5895,', 'total rental bikes is 3423,', 'total rental bikes is 5312,', 'total rental bikes is 1787,', 'total rental bikes is 4569,', 'total rental bikes is 5146,', 'total rental bikes is 6436,', 'total rental bikes is 1944,', 'total rental bikes is 3429,', 'total rental bikes is 7765,', 'total rental bikes is 3425,', 'total rental bikes is 3267,', 'total rental bikes is 5084,', 'total rental bikes is 6624,', 'total rental bikes is 3272,', 'total rental bikes is 6864,', 'total rental bikes is 2432,', 'total rental bikes is 7534,', 'total rental bikes is 3214,']\n"
     ]
    },
    {
     "name": "stderr",
     "output_type": "stream",
     "text": [
      " 10%|█         | 101/1000 [00:41<06:31,  2.30it/s]"
     ]
    },
    {
     "name": "stdout",
     "output_type": "stream",
     "text": [
      "['total rental bikes is 7767,', 'total rental bikes is 1685,', 'total rental bikes is 7055,', 'total rental bikes is 6606,', 'total rental bikes is 2311,', 'total rental bikes is 6857,', 'total rental bikes is 4839,', 'total rental bikes is 4359,', 'total rental bikes is 6093,', 'total rental bikes is 3387,', 'total rental bikes is 1321,', 'total rental bikes is 6457,', 'total rental bikes is 1096,', 'total rental bikes is 4035,', 'total rental bikes is 4326,', 'total rental bikes is 6565,', 'total rental bikes is 4362,', 'total rental bikes is 5582,', 'total rental bikes is 4677,', 'total rental bikes is 4073,', 'total rental bikes is 7216,', 'total rental bikes is 6196,', 'total rental bikes is 5892,', 'total rental bikes is 3510,', 'total rental bikes is 5515,', 'total rental bikes is 4486,', 'total rental bikes is 6043,', 'total rental bikes is 4785,', 'total rental bikes is 3372,', 'total rental bikes is 4563,', 'total rental bikes is 6530,', 'total rental bikes is 7109,', 'total rental bikes is 6269,', 'total rental bikes is 7592,', 'total rental bikes is 3727,', 'total rental bikes is 5302,', 'total rental bikes is 2368,', 'total rental bikes is 6398,', 'total rental bikes is 5345,', 'total rental bikes is 3520,', 'total rental bikes is 4576,', 'total rental bikes is 7804,', 'total rental bikes is 4629,', 'total rental bikes is 4097,', 'total rental bikes is 4339,', 'total rental bikes is 6824,', 'total rental bikes is 2133,', 'total rental bikes is 5041,', 'total rental bikes is 3423,', 'total rental bikes is 1913,']\n"
     ]
    },
    {
     "name": "stderr",
     "output_type": "stream",
     "text": [
      " 10%|█         | 103/1000 [00:43<07:29,  1.99it/s]"
     ]
    },
    {
     "name": "stdout",
     "output_type": "stream",
     "text": [
      "['total rental bikes is 6043,', 'total rental bikes is 2192,', 'total rental bikes is 1349,', 'total rental bikes is 3644,', 'total rental bikes is 2209,', 'total rental bikes is 5633,', 'total rental bikes is 2302,', 'total rental bikes is 2732,', 'total rental bikes is 4677,', 'total rental bikes is 1605,', 'total rental bikes is 4187,', 'total rental bikes is 1796,', 'total rental bikes is 2493,', 'total rental bikes is 3204,', 'total rental bikes is 5180,', 'total rental bikes is 3068,', 'total rental bikes is 7582,', 'total rental bikes is 2056,', 'total rental bikes is 1562,', 'total rental bikes is 6034,', 'total rental bikes is 6230,', 'total rental bikes is 1683,', 'total rental bikes is 4098,', 'total rental bikes is 3777,', 'total rental bikes is 1693,', 'total rental bikes is 1746,', 'total rental bikes is 3907,', 'total rental bikes is 1749,', 'total rental bikes is 4367,', 'total rental bikes is 1607,', 'total rental bikes is 2227,', 'total rental bikes is 5315,', 'total rental bikes is 4548,', 'total rental bikes is 4367,', 'total rental bikes is 2227,', 'total rental bikes is 4672,', 'total rental bikes is 5713,', 'total rental bikes is 7040,', 'total rental bikes is 1526,', 'total rental bikes is 3613,', 'total rental bikes is 1167,', 'total rental bikes is 4302,', 'total rental bikes is 3243,', 'total rental bikes is 6591,', 'total rental bikes is 1317,', 'total rental bikes is 7109,', 'total rental bikes is 1501,', 'total rental bikes is 6530,', 'total rental bikes is 6235,', 'total rental bikes is 5936,']\n"
     ]
    },
    {
     "name": "stderr",
     "output_type": "stream",
     "text": [
      " 11%|█         | 110/1000 [00:44<05:23,  2.75it/s]"
     ]
    },
    {
     "name": "stdout",
     "output_type": "stream",
     "text": [
      "['total rental bikes is 5740,', 'total rental bikes is 6825,', 'total rental bikes is 8395,', 'total rental bikes is 6864,', 'total rental bikes is 1096,', 'total rental bikes is 4118,', 'total rental bikes is 1096,', 'total rental bikes is 7494,', 'total rental bikes is 7605,', 'total rental bikes is 4840,', 'total rental bikes is 3910,', 'total rental bikes is 4294,', 'total rental bikes is 1817,', 'total rental bikes is 7641,', 'total rental bikes is 3285,', 'total rental bikes is 6041,', 'total rental bikes is 2192,', 'total rental bikes is 5905,', 'total rental bikes is 4456,', 'total rental bikes is 6053,', 'total rental bikes is 4911,', 'total rental bikes is 6421,', 'total rental bikes is 4266,', 'total rental bikes is 3786,', 'total rental bikes is 6140,', 'total rental bikes is 4586,', 'total rental bikes is 1421,', 'total rental bikes is 4274,', 'total rental bikes is 2417,', 'total rental bikes is 1996,', 'total rental bikes is 22,', 'total rental bikes is 4541,', 'total rental bikes is 7720,', 'total rental bikes is 4401,', 'total rental bikes is 7421,', 'total rental bikes is 3613,', 'total rental bikes is 3761,', 'total rental bikes is 5345,', 'total rental bikes is 6233,', 'total rental bikes is 7335,', 'total rental bikes is 2914,', 'total rental bikes is 7013,', 'total rental bikes is 5905,', 'total rental bikes is 5255,', 'total rental bikes is 7804,', 'total rental bikes is 7641,', 'total rental bikes is 7013,', 'total rental bikes is 3095,', 'total rental bikes is 7466,', 'total rental bikes is 2659,']\n"
     ]
    },
    {
     "name": "stderr",
     "output_type": "stream",
     "text": [
      " 11%|█▏        | 114/1000 [00:46<05:19,  2.77it/s]"
     ]
    },
    {
     "name": "stdout",
     "output_type": "stream",
     "text": [
      "['total rental bikes is 4679,', 'total rental bikes is 6034,', 'total rental bikes is 7592,', 'total rental bikes is 3577,', 'total rental bikes is 2566,', 'total rental bikes is 2302,', 'total rental bikes is 1913,', 'total rental bikes is 6784,', 'total rental bikes is 7384,', 'total rental bikes is 6230,', 'total rental bikes is 8227,', 'total rental bikes is 8120,', 'total rental bikes is 3387,', 'total rental bikes is 4694,', 'total rental bikes is 7105,', 'total rental bikes is 2056,', 'total rental bikes is 6598,', 'total rental bikes is 1562,', 'total rental bikes is 6824,', 'total rental bikes is 7720,', 'total rental bikes is 4661,', 'total rental bikes is 1969,', 'total rental bikes is 2431,', 'total rental bikes is 7375,', 'total rental bikes is 3840,', 'total rental bikes is 6230,', 'total rental bikes is 5362,', 'total rental bikes is 705,', 'total rental bikes is 4694,', 'total rental bikes is 4459,', 'total rental bikes is 4917,', 'total rental bikes is 6978,', 'total rental bikes is 2115,', 'total rental bikes is 4433,', 'total rental bikes is 3214,', 'total rental bikes is 2252,', 'total rental bikes is 3194,', 'total rental bikes is 1162,', 'total rental bikes is 5445,', 'total rental bikes is 1360,', 'total rental bikes is 4553,', 'total rental bikes is 6234,', 'total rental bikes is 4991,', 'total rental bikes is 3429,', 'total rental bikes is 4990,', 'total rental bikes is 3872,', 'total rental bikes is 1708,', 'total rental bikes is 4672,', 'total rental bikes is 1550,', 'total rental bikes is 5180,']\n"
     ]
    },
    {
     "name": "stderr",
     "output_type": "stream",
     "text": [
      " 12%|█▏        | 118/1000 [00:47<05:38,  2.61it/s]"
     ]
    },
    {
     "name": "stdout",
     "output_type": "stream",
     "text": [
      "['total rental bikes is 2417,', 'total rental bikes is 2808,', 'total rental bikes is 5566,', 'total rental bikes is 3786,', 'total rental bikes is 5847,', 'total rental bikes is 2294,', 'total rental bikes is 4586,', 'total rental bikes is 3577,', 'total rental bikes is 6883,', 'total rental bikes is 4579,', 'total rental bikes is 5191,', 'total rental bikes is 3784,', 'total rental bikes is 4788,', 'total rental bikes is 4097,', 'total rental bikes is 5255,', 'total rental bikes is 7363,', 'total rental bikes is 3368,', 'total rental bikes is 3542,', 'total rental bikes is 4803,', 'total rental bikes is 5010,', 'total rental bikes is 4864,', 'total rental bikes is 8009,', 'total rental bikes is 3292,', 'total rental bikes is 3126,', 'total rental bikes is 4708,', 'total rental bikes is 1683,', 'total rental bikes is 7403,', 'total rental bikes is 5786,', 'total rental bikes is 4220,', 'total rental bikes is 3068,', 'total rental bikes is 2471,', 'total rental bikes is 7605,', 'total rental bikes is 3331,', 'total rental bikes is 6196,', 'total rental bikes is 4687,', 'total rental bikes is 2294,', 'total rental bikes is 6969,', 'total rental bikes is 4401,', 'total rental bikes is 6196,', 'total rental bikes is 4866,', 'total rental bikes is 2416,', 'total rental bikes is 3425,', 'total rental bikes is 6544,', 'total rental bikes is 2947,', 'total rental bikes is 5976,', 'total rental bikes is 4381,', 'total rental bikes is 4748,', 'total rental bikes is 7328,', 'total rental bikes is 2376,', 'total rental bikes is 4086,']\n"
     ]
    },
    {
     "name": "stderr",
     "output_type": "stream",
     "text": [
      " 12%|█▏        | 124/1000 [00:49<04:52,  3.00it/s]"
     ]
    },
    {
     "name": "stdout",
     "output_type": "stream",
     "text": [
      "['total rental bikes is 4342,', 'total rental bikes is 8714,', 'total rental bikes is 4040,', 'total rental bikes is 4911,', 'total rental bikes is 4067,', 'total rental bikes is 7415,', 'total rental bikes is 7733,', 'total rental bikes is 4451,', 'total rental bikes is 3214,', 'total rental bikes is 2115,', 'total rental bikes is 5668,', 'total rental bikes is 5847,', 'total rental bikes is 4191,', 'total rental bikes is 4266,', 'total rental bikes is 3068,', 'total rental bikes is 4400,', 'total rental bikes is 1842,', 'total rental bikes is 3777,', 'total rental bikes is 5875,', 'total rental bikes is 2252,', 'total rental bikes is 5267,', 'total rental bikes is 2169,', 'total rental bikes is 7693,', 'total rental bikes is 6093,', 'total rental bikes is 5464,', 'total rental bikes is 2999,', 'total rental bikes is 5305,', 'total rental bikes is 2416,', 'total rental bikes is 4186,', 'total rental bikes is 4154,', 'total rental bikes is 7333,', 'total rental bikes is 7494,', 'total rental bikes is 3958,', 'total rental bikes is 7446,', 'total rental bikes is 4098,', 'total rental bikes is 5259,', 'total rental bikes is 1683,', 'total rental bikes is 4881,', 'total rental bikes is 1013,', 'total rental bikes is 4390,', 'total rental bikes is 5119,', 'total rental bikes is 6825,', 'total rental bikes is 4191,', 'total rental bikes is 5319,', 'total rental bikes is 7363,', 'total rental bikes is 1446,', 'total rental bikes is 2792,', 'total rental bikes is 6544,', 'total rental bikes is 4758,', 'total rental bikes is 3574,']\n"
     ]
    },
    {
     "name": "stderr",
     "output_type": "stream",
     "text": [
      " 13%|█▎        | 128/1000 [00:50<05:00,  2.91it/s]"
     ]
    },
    {
     "name": "stdout",
     "output_type": "stream",
     "text": [
      "['total rental bikes is 4381,', 'total rental bikes is 5217,', 'total rental bikes is 3974,', 'total rental bikes is 4649,', 'total rental bikes is 6304,', 'total rental bikes is 7415,', 'total rental bikes is 4803,', 'total rental bikes is 6133,', 'total rental bikes is 1098,', 'total rental bikes is 4602,', 'total rental bikes is 1011,', 'total rental bikes is 7282,', 'total rental bikes is 5633,', 'total rental bikes is 5119,', 'total rental bikes is 8156,', 'total rental bikes is 4094,', 'total rental bikes is 7504,', 'total rental bikes is 1815,', 'total rental bikes is 7498,', 'total rental bikes is 4549,', 'total rental bikes is 7350,', 'total rental bikes is 5202,', 'total rental bikes is 5255,', 'total rental bikes is 4352,', 'total rental bikes is 3095,', 'total rental bikes is 5336,', 'total rental bikes is 1450,', 'total rental bikes is 7605,', 'total rental bikes is 2192,', 'total rental bikes is 5743,', 'total rental bikes is 6572,', 'total rental bikes is 7460,', 'total rental bikes is 2162,', 'total rental bikes is 5582,', 'total rental bikes is 5342,', 'total rental bikes is 7525,', 'total rental bikes is 6073,', 'total rental bikes is 3190,', 'total rental bikes is 5558,', 'total rental bikes is 3613,', 'total rental bikes is 6235,', 'total rental bikes is 4375,', 'total rental bikes is 5847,', 'total rental bikes is 5464,', 'total rental bikes is 3194,', 'total rental bikes is 7641,', 'total rental bikes is 4118,', 'total rental bikes is 5992,', 'total rental bikes is 2368,', 'total rental bikes is 5191,']\n"
     ]
    },
    {
     "name": "stderr",
     "output_type": "stream",
     "text": [
      " 13%|█▎        | 129/1000 [00:52<06:31,  2.23it/s]"
     ]
    },
    {
     "name": "stdout",
     "output_type": "stream",
     "text": [
      "['total rental bikes is 5382,', 'total rental bikes is 5786,', 'total rental bikes is 6041,', 'total rental bikes is 4725,', 'total rental bikes is 2566,', 'total rental bikes is 4475,', 'total rental bikes is 4792,', 'total rental bikes is 1526,', 'total rental bikes is 5170,', 'total rental bikes is 7509,', 'total rental bikes is 6624,', 'total rental bikes is 2739,', 'total rental bikes is 1349,', 'total rental bikes is 6203,', 'total rental bikes is 1005,', 'total rental bikes is 3387,', 'total rental bikes is 6530,', 'total rental bikes is 1529,', 'total rental bikes is 6685,', 'total rental bikes is 2743,', 'total rental bikes is 5046,', 'total rental bikes is 7461,', 'total rental bikes is 6734,', 'total rental bikes is 3272,', 'total rental bikes is 4333,', 'total rental bikes is 2132,', 'total rental bikes is 6966,', 'total rental bikes is 1204,', 'total rental bikes is 6235,', 'total rental bikes is 5459,', 'total rental bikes is 3915,', 'total rental bikes is 6235,', 'total rental bikes is 4333,', 'total rental bikes is 1795,', 'total rental bikes is 5729,', 'total rental bikes is 3456,', 'total rental bikes is 6203,', 'total rental bikes is 3333,', 'total rental bikes is 3974,', 'total rental bikes is 1807,', 'total rental bikes is 3922,', 'total rental bikes is 3389,', 'total rental bikes is 705,', 'total rental bikes is 985,', 'total rental bikes is 4375,', 'total rental bikes is 5041,', 'total rental bikes is 3053,', 'total rental bikes is 3570,', 'total rental bikes is 2927,', 'total rental bikes is 4744,']\n"
     ]
    },
    {
     "name": "stderr",
     "output_type": "stream",
     "text": [
      " 13%|█▎        | 131/1000 [00:53<07:28,  1.94it/s]"
     ]
    },
    {
     "name": "stdout",
     "output_type": "stream",
     "text": [
      "['total rental bikes is 5515,', 'total rental bikes is 2808,', 'total rental bikes is 4075,', 'total rental bikes is 4318,', 'total rental bikes is 1635,', 'total rental bikes is 2046,', 'total rental bikes is 6969,', 'total rental bikes is 3068,', 'total rental bikes is 4790,', 'total rental bikes is 6606,', 'total rental bikes is 7702,', 'total rental bikes is 4748,', 'total rental bikes is 2423,', 'total rental bikes is 8714,', 'total rental bikes is 5501,', 'total rental bikes is 7665,', 'total rental bikes is 3389,', 'total rental bikes is 6830,', 'total rental bikes is 6041,', 'total rental bikes is 6664,', 'total rental bikes is 3544,', 'total rental bikes is 4274,', 'total rental bikes is 431,', 'total rental bikes is 5870,', 'total rental bikes is 1341,', 'total rental bikes is 6966,', 'total rental bikes is 7105,', 'total rental bikes is 5495,', 'total rental bikes is 4342,', 'total rental bikes is 4672,', 'total rental bikes is 1450,', 'total rental bikes is 6591,', 'total rental bikes is 1461,', 'total rental bikes is 4118,', 'total rental bikes is 1685,', 'total rental bikes is 7498,', 'total rental bikes is 1536,', 'total rental bikes is 5117,', 'total rental bikes is 4586,', 'total rental bikes is 4639,', 'total rental bikes is 5810,', 'total rental bikes is 5532,', 'total rental bikes is 6233,', 'total rental bikes is 4151,', 'total rental bikes is 4333,', 'total rental bikes is 7030,', 'total rental bikes is 801,', 'total rental bikes is 4105,', 'total rental bikes is 7273,', 'total rental bikes is 4433,']\n"
     ]
    },
    {
     "name": "stderr",
     "output_type": "stream",
     "text": [
      " 14%|█▎        | 136/1000 [00:55<06:12,  2.32it/s]"
     ]
    },
    {
     "name": "stdout",
     "output_type": "stream",
     "text": [
      "['total rental bikes is 5382,', 'total rental bikes is 4492,', 'total rental bikes is 5260,', 'total rental bikes is 4362,', 'total rental bikes is 7112,', 'total rental bikes is 6530,', 'total rental bikes is 6196,', 'total rental bikes is 1301,', 'total rental bikes is 1650,', 'total rental bikes is 5698,', 'total rental bikes is 4760,', 'total rental bikes is 3663,', 'total rental bikes is 4270,', 'total rental bikes is 3095,', 'total rental bikes is 1096,', 'total rental bikes is 5180,', 'total rental bikes is 2028,', 'total rental bikes is 4833,', 'total rental bikes is 1530,', 'total rental bikes is 5102,', 'total rental bikes is 3820,', 'total rental bikes is 4844,', 'total rental bikes is 4375,', 'total rental bikes is 5629,', 'total rental bikes is 5572,', 'total rental bikes is 2416,', 'total rental bikes is 5870,', 'total rental bikes is 6203,', 'total rental bikes is 6041,', 'total rental bikes is 5538,', 'total rental bikes is 4840,', 'total rental bikes is 5698,', 'total rental bikes is 5020,', 'total rental bikes is 6857,', 'total rental bikes is 4258,', 'total rental bikes is 4367,', 'total rental bikes is 2765,', 'total rental bikes is 5191,', 'total rental bikes is 4381,', 'total rental bikes is 6598,', 'total rental bikes is 2056,', 'total rental bikes is 3372,', 'total rental bikes is 2121,', 'total rental bikes is 3249,', 'total rental bikes is 4579,', 'total rental bikes is 4035,', 'total rental bikes is 7907,', 'total rental bikes is 5445,', 'total rental bikes is 1951,', 'total rental bikes is 3974,']\n"
     ]
    },
    {
     "name": "stderr",
     "output_type": "stream",
     "text": [
      " 14%|█▍        | 141/1000 [00:57<05:32,  2.58it/s]"
     ]
    },
    {
     "name": "stdout",
     "output_type": "stream",
     "text": [
      "['total rental bikes is 4460,', 'total rental bikes is 7058,', 'total rental bikes is 5115,', 'total rental bikes is 4570,', 'total rental bikes is 6857,', 'total rental bikes is 3831,', 'total rental bikes is 795,', 'total rental bikes is 7665,', 'total rental bikes is 2431,', 'total rental bikes is 1550,', 'total rental bikes is 1712,', 'total rental bikes is 7415,', 'total rental bikes is 4010,', 'total rental bikes is 2034,', 'total rental bikes is 2832,', 'total rental bikes is 3387,', 'total rental bikes is 5062,', 'total rental bikes is 1865,', 'total rental bikes is 4840,', 'total rental bikes is 6392,', 'total rental bikes is 7641,', 'total rental bikes is 2192,', 'total rental bikes is 4590,', 'total rental bikes is 3727,', 'total rental bikes is 7328,', 'total rental bikes is 7570,', 'total rental bikes is 3574,', 'total rental bikes is 7572,', 'total rental bikes is 2210,', 'total rental bikes is 4332,', 'total rental bikes is 5026,', 'total rental bikes is 7665,', 'total rental bikes is 5342,', 'total rental bikes is 2933,', 'total rental bikes is 4990,', 'total rental bikes is 4187,', 'total rental bikes is 3228,', 'total rental bikes is 7691,', 'total rental bikes is 6392,', 'total rental bikes is 4541,', 'total rental bikes is 7040,', 'total rental bikes is 1301,', 'total rental bikes is 1749,', 'total rental bikes is 3641,', 'total rental bikes is 1650,', 'total rental bikes is 7534,', 'total rental bikes is 5633,', 'total rental bikes is 1944,', 'total rental bikes is 1162,', 'total rental bikes is 6359,']\n"
     ]
    },
    {
     "name": "stderr",
     "output_type": "stream",
     "text": [
      " 14%|█▍        | 143/1000 [00:58<06:34,  2.18it/s]"
     ]
    },
    {
     "name": "stdout",
     "output_type": "stream",
     "text": [
      "['total rental bikes is 5499,', 'total rental bikes is 3820,', 'total rental bikes is 2424,', 'total rental bikes is 4046,', 'total rental bikes is 6421,', 'total rental bikes is 5686,', 'total rental bikes is 5478,', 'total rental bikes is 7055,', 'total rental bikes is 7534,', 'total rental bikes is 3855,', 'total rental bikes is 4378,', 'total rental bikes is 6598,', 'total rental bikes is 1526,', 'total rental bikes is 6883,', 'total rental bikes is 6299,', 'total rental bikes is 2417,', 'total rental bikes is 959,', 'total rental bikes is 3071,', 'total rental bikes is 3409,', 'total rental bikes is 5312,', 'total rental bikes is 5191,', 'total rental bikes is 2236,', 'total rental bikes is 5892,', 'total rental bikes is 5463,', 'total rental bikes is 8156,', 'total rental bikes is 6312,', 'total rental bikes is 2294,', 'total rental bikes is 5847,', 'total rental bikes is 4128,', 'total rental bikes is 5146,', 'total rental bikes is 4322,', 'total rental bikes is 4035,', 'total rental bikes is 5823,', 'total rental bikes is 4590,', 'total rental bikes is 822,', 'total rental bikes is 5046,', 'total rental bikes is 2918,', 'total rental bikes is 6598,', 'total rental bikes is 4694,', 'total rental bikes is 7424,', 'total rental bikes is 7639,', 'total rental bikes is 3867,', 'total rental bikes is 5047,', 'total rental bikes is 6998,', 'total rental bikes is 2485,', 'total rental bikes is 7350,', 'total rental bikes is 5905,', 'total rental bikes is 4803,', 'total rental bikes is 4592,', 'total rental bikes is 7410,']\n"
     ]
    },
    {
     "name": "stderr",
     "output_type": "stream",
     "text": [
      " 15%|█▍        | 147/1000 [01:00<06:07,  2.32it/s]"
     ]
    },
    {
     "name": "stdout",
     "output_type": "stream",
     "text": [
      "['total rental bikes is 2402,', 'total rental bikes is 4826,', 'total rental bikes is 5511,', 'total rental bikes is 2765,', 'total rental bikes is 6852,', 'total rental bikes is 7499,', 'total rental bikes is 3659,', 'total rental bikes is 4665,', 'total rental bikes is 2209,', 'total rental bikes is 795,', 'total rental bikes is 1011,', 'total rental bikes is 3228,', 'total rental bikes is 8395,', 'total rental bikes is 4010,', 'total rental bikes is 4456,', 'total rental bikes is 4322,', 'total rental bikes is 7006,', 'total rental bikes is 1944,', 'total rental bikes is 7410,', 'total rental bikes is 1834,', 'total rental bikes is 8173,', 'total rental bikes is 7058,', 'total rental bikes is 4046,', 'total rental bikes is 5875,', 'total rental bikes is 3387,', 'total rental bikes is 7006,', 'total rental bikes is 6864,', 'total rental bikes is 7290,', 'total rental bikes is 7384,', 'total rental bikes is 4833,', 'total rental bikes is 4763,', 'total rental bikes is 1501,', 'total rental bikes is 3523,', 'total rental bikes is 6421,', 'total rental bikes is 5728,', 'total rental bikes is 7421,', 'total rental bikes is 4679,', 'total rental bikes is 1107,', 'total rental bikes is 5464,', 'total rental bikes is 6203,', 'total rental bikes is 1891,', 'total rental bikes is 2416,', 'total rental bikes is 3348,', 'total rental bikes is 3820,', 'total rental bikes is 5047,', 'total rental bikes is 1538,', 'total rental bikes is 4649,', 'total rental bikes is 2431,', 'total rental bikes is 6734,', 'total rental bikes is 7499,']\n"
     ]
    },
    {
     "name": "stderr",
     "output_type": "stream",
     "text": [
      " 15%|█▌        | 152/1000 [01:01<05:24,  2.61it/s]"
     ]
    },
    {
     "name": "stdout",
     "output_type": "stream",
     "text": [
      "['total rental bikes is 4795,', 'total rental bikes is 5302,', 'total rental bikes is 6966,', 'total rental bikes is 2475,', 'total rental bikes is 2302,', 'total rental bikes is 4548,', 'total rental bikes is 5084,', 'total rental bikes is 3376,', 'total rental bikes is 4459,', 'total rental bikes is 1817,', 'total rental bikes is 2056,', 'total rental bikes is 6169,', 'total rental bikes is 5255,', 'total rental bikes is 4765,', 'total rental bikes is 5255,', 'total rental bikes is 6536,', 'total rental bikes is 7466,', 'total rental bikes is 3577,', 'total rental bikes is 8362,', 'total rental bikes is 3831,', 'total rental bikes is 5687,', 'total rental bikes is 1712,', 'total rental bikes is 7870,', 'total rental bikes is 2493,', 'total rental bikes is 6779,', 'total rental bikes is 5936,', 'total rental bikes is 7013,', 'total rental bikes is 3944,', 'total rental bikes is 2432,', 'total rental bikes is 2425,', 'total rental bikes is 2927,', 'total rental bikes is 7665,', 'total rental bikes is 5146,', 'total rental bikes is 6235,', 'total rental bikes is 5102,', 'total rental bikes is 3423,', 'total rental bikes is 7393,', 'total rental bikes is 4459,', 'total rental bikes is 6786,', 'total rental bikes is 5459,', 'total rental bikes is 2594,', 'total rental bikes is 6969,', 'total rental bikes is 7333,', 'total rental bikes is 1472,', 'total rental bikes is 5260,', 'total rental bikes is 6778,', 'total rental bikes is 6290,', 'total rental bikes is 6770,', 'total rental bikes is 22,', 'total rental bikes is 5319,']\n"
     ]
    },
    {
     "name": "stderr",
     "output_type": "stream",
     "text": [
      " 16%|█▌        | 155/1000 [01:03<05:47,  2.43it/s]"
     ]
    },
    {
     "name": "stdout",
     "output_type": "stream",
     "text": [
      "['total rental bikes is 1406,', 'total rental bikes is 2802,', 'total rental bikes is 4590,', 'total rental bikes is 4010,', 'total rental bikes is 2566,', 'total rental bikes is 4714,', 'total rental bikes is 4010,', 'total rental bikes is 5445,', 'total rental bikes is 5634,', 'total rental bikes is 1812,', 'total rental bikes is 4362,', 'total rental bikes is 4195,', 'total rental bikes is 6861,', 'total rental bikes is 1301,', 'total rental bikes is 6591,', 'total rental bikes is 6207,', 'total rental bikes is 2918,', 'total rental bikes is 4456,', 'total rental bikes is 6273,', 'total rental bikes is 3425,', 'total rental bikes is 1969,', 'total rental bikes is 1000,', 'total rental bikes is 6871,', 'total rental bikes is 2739,', 'total rental bikes is 3425,', 'total rental bikes is 3163,', 'total rental bikes is 2843,', 'total rental bikes is 4258,', 'total rental bikes is 7132,', 'total rental bikes is 4400,', 'total rental bikes is 4484,', 'total rental bikes is 5170,', 'total rental bikes is 754,', 'total rental bikes is 5058,', 'total rental bikes is 5515,', 'total rental bikes is 4862,', 'total rental bikes is 5217,', 'total rental bikes is 5743,', 'total rental bikes is 3331,', 'total rental bikes is 6241,', 'total rental bikes is 1471,', 'total rental bikes is 4634,', 'total rental bikes is 5259,', 'total rental bikes is 1795,', 'total rental bikes is 6296,', 'total rental bikes is 4123,', 'total rental bikes is 1589,', 'total rental bikes is 7148,', 'total rental bikes is 6569,', 'total rental bikes is 4656,']\n"
     ]
    },
    {
     "name": "stderr",
     "output_type": "stream",
     "text": [
      " 16%|█▌        | 158/1000 [01:04<06:04,  2.31it/s]"
     ]
    },
    {
     "name": "stdout",
     "output_type": "stream",
     "text": [
      "['total rental bikes is 5976,', 'total rental bikes is 3574,', 'total rental bikes is 1589,', 'total rental bikes is 6904,', 'total rental bikes is 3744,', 'total rental bikes is 4763,', 'total rental bikes is 1795,', 'total rental bikes is 4570,', 'total rental bikes is 4182,', 'total rental bikes is 3785,', 'total rental bikes is 4123,', 'total rental bikes is 4665,', 'total rental bikes is 4318,', 'total rental bikes is 5169,', 'total rental bikes is 7424,', 'total rental bikes is 4338,', 'total rental bikes is 4326,', 'total rental bikes is 4844,', 'total rental bikes is 2425,', 'total rental bikes is 5538,', 'total rental bikes is 4492,', 'total rental bikes is 4098,', 'total rental bikes is 7013,', 'total rental bikes is 7494,', 'total rental bikes is 3846,', 'total rental bikes is 1985,', 'total rental bikes is 2227,', 'total rental bikes is 4629,', 'total rental bikes is 3425,', 'total rental bikes is 7592,', 'total rental bikes is 2895,', 'total rental bikes is 6572,', 'total rental bikes is 2429,', 'total rental bikes is 4098,', 'total rental bikes is 5633,', 'total rental bikes is 2423,', 'total rental bikes is 7030,', 'total rental bikes is 1951,', 'total rental bikes is 2169,', 'total rental bikes is 7058,', 'total rental bikes is 4687,', 'total rental bikes is 5312,', 'total rental bikes is 4835,', 'total rental bikes is 6196,', 'total rental bikes is 6591,', 'total rental bikes is 5875,', 'total rental bikes is 6639,', 'total rental bikes is 3068,', 'total rental bikes is 5315,', 'total rental bikes is 1851,']\n"
     ]
    },
    {
     "name": "stderr",
     "output_type": "stream",
     "text": [
      " 16%|█▌        | 160/1000 [01:06<06:58,  2.01it/s]"
     ]
    },
    {
     "name": "stdout",
     "output_type": "stream",
     "text": [
      "['total rental bikes is 3669,', 'total rental bikes is 4154,', 'total rental bikes is 6544,', 'total rental bikes is 4669,', 'total rental bikes is 4916,', 'total rental bikes is 2402,', 'total rental bikes is 6591,', 'total rental bikes is 7132,', 'total rental bikes is 1872,', 'total rental bikes is 6664,', 'total rental bikes is 1562,', 'total rental bikes is 4058,', 'total rental bikes is 4579,', 'total rental bikes is 3331,', 'total rental bikes is 4714,', 'total rental bikes is 5805,', 'total rental bikes is 4401,', 'total rental bikes is 5146,', 'total rental bikes is 7965,', 'total rental bikes is 4378,', 'total rental bikes is 6398,', 'total rental bikes is 1450,', 'total rental bikes is 3190,', 'total rental bikes is 5698,', 'total rental bikes is 7335,', 'total rental bikes is 3577,', 'total rental bikes is 3409,', 'total rental bikes is 6565,', 'total rental bikes is 5099,', 'total rental bikes is 8294,', 'total rental bikes is 4205,', 'total rental bikes is 4906,', 'total rental bikes is 5743,', 'total rental bikes is 5728,', 'total rental bikes is 7105,', 'total rental bikes is 3761,', 'total rental bikes is 1944,', 'total rental bikes is 6824,', 'total rental bikes is 2169,', 'total rental bikes is 605,', 'total rental bikes is 2162,', 'total rental bikes is 6133,', 'total rental bikes is 8294,', 'total rental bikes is 4765,', 'total rental bikes is 4708,', 'total rental bikes is 6591,', 'total rental bikes is 5986,', 'total rental bikes is 4569,', 'total rental bikes is 3649,', 'total rental bikes is 6043,']\n"
     ]
    },
    {
     "name": "stderr",
     "output_type": "stream",
     "text": [
      " 16%|█▋        | 165/1000 [01:08<07:03,  1.97it/s]"
     ]
    },
    {
     "name": "stdout",
     "output_type": "stream",
     "text": [
      "['total rental bikes is 2843,', 'total rental bikes is 7286,', 'total rental bikes is 7691,', 'total rental bikes is 5319,', 'total rental bikes is 3425,', 'total rental bikes is 4189,', 'total rental bikes is 4151,', 'total rental bikes is 1543,', 'total rental bikes is 2121,', 'total rental bikes is 7733,', 'total rental bikes is 5058,', 'total rental bikes is 4744,', 'total rental bikes is 4220,', 'total rental bikes is 4040,', 'total rental bikes is 2417,', 'total rental bikes is 1543,', 'total rental bikes is 3641,', 'total rental bikes is 4308,', 'total rental bikes is 2933,', 'total rental bikes is 5130,', 'total rental bikes is 6290,', 'total rental bikes is 5345,', 'total rental bikes is 1749,', 'total rental bikes is 5501,', 'total rental bikes is 5409,', 'total rental bikes is 4023,', 'total rental bikes is 5499,', 'total rental bikes is 7415,', 'total rental bikes is 1526,', 'total rental bikes is 3624,', 'total rental bikes is 4521,', 'total rental bikes is 3910,', 'total rental bikes is 7665,', 'total rental bikes is 3351,', 'total rental bikes is 4575,', 'total rental bikes is 1011,', 'total rental bikes is 2808,', 'total rental bikes is 5728,', 'total rental bikes is 4304,', 'total rental bikes is 3620,', 'total rental bikes is 6598,', 'total rental bikes is 5532,', 'total rental bikes is 6852,', 'total rental bikes is 2402,', 'total rental bikes is 3392,', 'total rental bikes is 5312,', 'total rental bikes is 4274,', 'total rental bikes is 2077,', 'total rental bikes is 4569,', 'total rental bikes is 8555,']\n"
     ]
    },
    {
     "name": "stderr",
     "output_type": "stream",
     "text": [
      " 17%|█▋        | 167/1000 [01:10<07:39,  1.81it/s]"
     ]
    },
    {
     "name": "stdout",
     "output_type": "stream",
     "text": [
      "['total rental bikes is 7112,', 'total rental bikes is 2395,', 'total rental bikes is 7410,', 'total rental bikes is 6398,', 'total rental bikes is 2298,', 'total rental bikes is 3389,', 'total rental bikes is 1446,', 'total rental bikes is 7665,', 'total rental bikes is 5634,', 'total rental bikes is 7498,', 'total rental bikes is 5099,', 'total rental bikes is 4608,', 'total rental bikes is 4333,', 'total rental bikes is 5302,', 'total rental bikes is 4795,', 'total rental bikes is 4362,', 'total rental bikes is 7720,', 'total rental bikes is 4539,', 'total rental bikes is 8167,', 'total rental bikes is 1865,', 'total rental bikes is 3740,', 'total rental bikes is 3422,', 'total rental bikes is 1944,', 'total rental bikes is 2933,', 'total rental bikes is 1162,', 'total rental bikes is 5217,', 'total rental bikes is 7105,', 'total rental bikes is 4322,', 'total rental bikes is 3830,', 'total rental bikes is 3982,', 'total rental bikes is 5459,', 'total rental bikes is 4765,', 'total rental bikes is 7494,', 'total rental bikes is 1162,', 'total rental bikes is 5115,', 'total rental bikes is 1683,', 'total rental bikes is 2417,', 'total rental bikes is 1607,', 'total rental bikes is 5087,', 'total rental bikes is 7458,', 'total rental bikes is 6457,', 'total rental bikes is 3867,', 'total rental bikes is 4367,', 'total rental bikes is 985,', 'total rental bikes is 4844,', 'total rental bikes is 3053,', 'total rental bikes is 3717,', 'total rental bikes is 4066,', 'total rental bikes is 7639,', 'total rental bikes is 7458,']\n"
     ]
    },
    {
     "name": "stderr",
     "output_type": "stream",
     "text": [
      " 17%|█▋        | 172/1000 [01:11<06:16,  2.20it/s]"
     ]
    },
    {
     "name": "stdout",
     "output_type": "stream",
     "text": [
      "['total rental bikes is 5918,', 'total rental bikes is 4400,', 'total rental bikes is 1685,', 'total rental bikes is 4996,', 'total rental bikes is 3351,', 'total rental bikes is 2376,', 'total rental bikes is 2395,', 'total rental bikes is 4433,', 'total rental bikes is 5870,', 'total rental bikes is 3777,', 'total rental bikes is 7055,', 'total rental bikes is 1530,', 'total rental bikes is 2417,', 'total rental bikes is 6904,', 'total rental bikes is 4097,', 'total rental bikes is 6660,', 'total rental bikes is 5115,', 'total rental bikes is 6227,', 'total rental bikes is 2918,', 'total rental bikes is 4553,', 'total rental bikes is 3830,', 'total rental bikes is 1600,', 'total rental bikes is 3351,', 'total rental bikes is 4541,', 'total rental bikes is 4866,', 'total rental bikes is 4881,', 'total rental bikes is 1096,', 'total rental bikes is 4940,', 'total rental bikes is 2739,', 'total rental bikes is 959,', 'total rental bikes is 7965,', 'total rental bikes is 4758,', 'total rental bikes is 5538,', 'total rental bikes is 2294,', 'total rental bikes is 5424,', 'total rental bikes is 627,', 'total rental bikes is 3623,', 'total rental bikes is 1623,', 'total rental bikes is 4073,', 'total rental bikes is 4123,', 'total rental bikes is 5729,', 'total rental bikes is 3214,', 'total rental bikes is 6207,', 'total rental bikes is 5495,', 'total rental bikes is 4186,', 'total rental bikes is 3649,', 'total rental bikes is 3614,', 'total rental bikes is 3523,', 'total rental bikes is 6879,', 'total rental bikes is 6230,']\n"
     ]
    },
    {
     "name": "stderr",
     "output_type": "stream",
     "text": [
      " 18%|█▊        | 178/1000 [01:13<05:11,  2.64it/s]"
     ]
    },
    {
     "name": "stdout",
     "output_type": "stream",
     "text": [
      "['total rental bikes is 4575,', 'total rental bikes is 6966,', 'total rental bikes is 5117,', 'total rental bikes is 1712,', 'total rental bikes is 3389,', 'total rental bikes is 5499,', 'total rental bikes is 5936,', 'total rental bikes is 4109,', 'total rental bikes is 981,', 'total rental bikes is 7697,', 'total rental bikes is 2115,', 'total rental bikes is 2395,', 'total rental bikes is 5918,', 'total rental bikes is 1450,', 'total rental bikes is 5312,', 'total rental bikes is 7534,', 'total rental bikes is 5728,', 'total rental bikes is 4795,', 'total rental bikes is 5698,', 'total rental bikes is 4916,', 'total rental bikes is 3750,', 'total rental bikes is 4195,', 'total rental bikes is 4302,', 'total rental bikes is 4795,', 'total rental bikes is 2743,', 'total rental bikes is 1635,', 'total rental bikes is 3805,', 'total rental bikes is 5976,', 'total rental bikes is 8120,', 'total rental bikes is 5117,', 'total rental bikes is 3784,', 'total rental bikes is 8173,', 'total rental bikes is 4058,', 'total rental bikes is 4708,', 'total rental bikes is 1605,', 'total rental bikes is 6359,', 'total rental bikes is 4066,', 'total rental bikes is 7261,', 'total rental bikes is 6034,', 'total rental bikes is 1834,', 'total rental bikes is 5146,', 'total rental bikes is 3641,', 'total rental bikes is 4191,', 'total rental bikes is 1301,', 'total rental bikes is 4058,', 'total rental bikes is 4332,', 'total rental bikes is 1562,', 'total rental bikes is 3485,', 'total rental bikes is 1406,', 'total rental bikes is 1162,']\n"
     ]
    },
    {
     "name": "stderr",
     "output_type": "stream",
     "text": [
      " 18%|█▊        | 183/1000 [01:14<04:48,  2.83it/s]"
     ]
    },
    {
     "name": "stdout",
     "output_type": "stream",
     "text": [
      "['total rental bikes is 5923,', 'total rental bikes is 5298,', 'total rental bikes is 5992,', 'total rental bikes is 1000,', 'total rental bikes is 5058,', 'total rental bikes is 3740,', 'total rental bikes is 1927,', 'total rental bikes is 5501,', 'total rental bikes is 6891,', 'total rental bikes is 5169,', 'total rental bikes is 5633,', 'total rental bikes is 4035,', 'total rental bikes is 4553,', 'total rental bikes is 4862,', 'total rental bikes is 5572,', 'total rental bikes is 4187,', 'total rental bikes is 2210,', 'total rental bikes is 4475,', 'total rental bikes is 3786,', 'total rental bikes is 3926,', 'total rental bikes is 4511,', 'total rental bikes is 8090,', 'total rental bikes is 6770,', 'total rental bikes is 3403,', 'total rental bikes is 2808,', 'total rental bikes is 3351,', 'total rental bikes is 3727,', 'total rental bikes is 5046,', 'total rental bikes is 7001,', 'total rental bikes is 4334,', 'total rental bikes is 7429,', 'total rental bikes is 5138,', 'total rental bikes is 1495,', 'total rental bikes is 3368,', 'total rental bikes is 4576,', 'total rental bikes is 6998,', 'total rental bikes is 4905,', 'total rental bikes is 3624,', 'total rental bikes is 4334,', 'total rental bikes is 3784,', 'total rental bikes is 1096,', 'total rental bikes is 2832,', 'total rental bikes is 4326,', 'total rental bikes is 4773,', 'total rental bikes is 7421,', 'total rental bikes is 2395,', 'total rental bikes is 6904,', 'total rental bikes is 5923,', 'total rental bikes is 6879,', 'total rental bikes is 3409,']\n"
     ]
    },
    {
     "name": "stderr",
     "output_type": "stream",
     "text": [
      " 18%|█▊        | 185/1000 [01:16<05:39,  2.40it/s]"
     ]
    },
    {
     "name": "stdout",
     "output_type": "stream",
     "text": [
      "['total rental bikes is 6969,', 'total rental bikes is 3614,', 'total rental bikes is 2429,', 'total rental bikes is 3613,', 'total rental bikes is 5225,', 'total rental bikes is 4333,', 'total rental bikes is 6857,', 'total rental bikes is 8294,', 'total rental bikes is 3606,', 'total rental bikes is 5260,', 'total rental bikes is 3115,', 'total rental bikes is 6207,', 'total rental bikes is 5180,', 'total rental bikes is 4839,', 'total rental bikes is 7040,', 'total rental bikes is 4322,', 'total rental bikes is 1693,', 'total rental bikes is 5319,', 'total rental bikes is 6153,', 'total rental bikes is 1461,', 'total rental bikes is 2192,', 'total rental bikes is 5119,', 'total rental bikes is 7865,', 'total rental bikes is 5323,', 'total rental bikes is 4270,', 'total rental bikes is 4917,', 'total rental bikes is 2913,', 'total rental bikes is 8395,', 'total rental bikes is 4649,', 'total rental bikes is 6530,', 'total rental bikes is 1301,', 'total rental bikes is 4602,', 'total rental bikes is 6169,', 'total rental bikes is 3115,', 'total rental bikes is 5531,', 'total rental bikes is 8173,', 'total rental bikes is 4563,', 'total rental bikes is 1098,', 'total rental bikes is 3310,', 'total rental bikes is 6830,', 'total rental bikes is 4187,', 'total rental bikes is 4451,', 'total rental bikes is 6241,', 'total rental bikes is 5010,', 'total rental bikes is 8555,', 'total rental bikes is 3784,', 'total rental bikes is 6598,', 'total rental bikes is 6597,', 'total rental bikes is 4068,', 'total rental bikes is 3613,']\n"
     ]
    },
    {
     "name": "stderr",
     "output_type": "stream",
     "text": [
      " 19%|█▉        | 189/1000 [01:17<05:30,  2.45it/s]"
     ]
    },
    {
     "name": "stdout",
     "output_type": "stream",
     "text": [
      "['total rental bikes is 6869,', 'total rental bikes is 6978,', 'total rental bikes is 1607,', 'total rental bikes is 2294,', 'total rental bikes is 6966,', 'total rental bikes is 7572,', 'total rental bikes is 4765,', 'total rental bikes is 4639,', 'total rental bikes is 3649,', 'total rental bikes is 4097,', 'total rental bikes is 1162,', 'total rental bikes is 4629,', 'total rental bikes is 5315,', 'total rental bikes is 7965,', 'total rental bikes is 5566,', 'total rental bikes is 6207,', 'total rental bikes is 4058,', 'total rental bikes is 6296,', 'total rental bikes is 7697,', 'total rental bikes is 4541,', 'total rental bikes is 4891,', 'total rental bikes is 4713,', 'total rental bikes is 3228,', 'total rental bikes is 4760,', 'total rental bikes is 3542,', 'total rental bikes is 623,', 'total rental bikes is 5225,', 'total rental bikes is 5532,', 'total rental bikes is 5478,', 'total rental bikes is 5805,', 'total rental bikes is 3126,', 'total rental bikes is 5315,', 'total rental bikes is 7105,', 'total rental bikes is 959,', 'total rental bikes is 5202,', 'total rental bikes is 4548,', 'total rental bikes is 6359,', 'total rental bikes is 4840,', 'total rental bikes is 5823,', 'total rental bikes is 1446,', 'total rental bikes is 6296,', 'total rental bikes is 1416,', 'total rental bikes is 6457,', 'total rental bikes is 5035,', 'total rental bikes is 7461,', 'total rental bikes is 3709,', 'total rental bikes is 7290,', 'total rental bikes is 6569,', 'total rental bikes is 7641,', 'total rental bikes is 3805,']\n"
     ]
    },
    {
     "name": "stderr",
     "output_type": "stream",
     "text": [
      " 19%|█▉        | 192/1000 [01:19<05:49,  2.31it/s]"
     ]
    },
    {
     "name": "stdout",
     "output_type": "stream",
     "text": [
      "['total rental bikes is 3606,', 'total rental bikes is 2918,', 'total rental bikes is 4661,', 'total rental bikes is 1683,', 'total rental bikes is 1562,', 'total rental bikes is 5115,', 'total rental bikes is 3403,', 'total rental bikes is 5204,', 'total rental bikes is 7415,', 'total rental bikes is 8294,', 'total rental bikes is 5305,', 'total rental bikes is 3940,', 'total rental bikes is 5786,', 'total rental bikes is 3310,', 'total rental bikes is 3423,', 'total rental bikes is 3974,', 'total rental bikes is 6370,', 'total rental bikes is 3285,', 'total rental bikes is 3190,', 'total rental bikes is 431,', 'total rental bikes is 3649,', 'total rental bikes is 1538,', 'total rental bikes is 5191,', 'total rental bikes is 6969,', 'total rental bikes is 3974,', 'total rental bikes is 4378,', 'total rental bikes is 3053,', 'total rental bikes is 1917,', 'total rental bikes is 5847,', 'total rental bikes is 623,', 'total rental bikes is 5375,', 'total rental bikes is 6879,', 'total rental bikes is 5202,', 'total rental bikes is 4433,', 'total rental bikes is 3644,', 'total rental bikes is 6211,', 'total rental bikes is 1360,', 'total rental bikes is 7713,', 'total rental bikes is 4318,', 'total rental bikes is 5315,', 'total rental bikes is 4840,', 'total rental bikes is 1450,', 'total rental bikes is 2209,', 'total rental bikes is 3614,', 'total rental bikes is 3831,', 'total rental bikes is 1787,', 'total rental bikes is 4717,', 'total rental bikes is 822,', 'total rental bikes is 4891,', 'total rental bikes is 7591,']\n"
     ]
    },
    {
     "name": "stderr",
     "output_type": "stream",
     "text": [
      " 20%|█▉        | 196/1000 [01:20<05:31,  2.43it/s]"
     ]
    },
    {
     "name": "stdout",
     "output_type": "stream",
     "text": [
      "['total rental bikes is 5119,', 'total rental bikes is 4570,', 'total rental bikes is 4906,', 'total rental bikes is 627,', 'total rental bikes is 6192,', 'total rental bikes is 3659,', 'total rental bikes is 3292,', 'total rental bikes is 1623,', 'total rental bikes is 4342,', 'total rental bikes is 4585,', 'total rental bikes is 4744,', 'total rental bikes is 6852,', 'total rental bikes is 2028,', 'total rental bikes is 4127,', 'total rental bikes is 6639,', 'total rental bikes is 4459,', 'total rental bikes is 1005,', 'total rental bikes is 7006,', 'total rental bikes is 6436,', 'total rental bikes is 7363,', 'total rental bikes is 5217,', 'total rental bikes is 7665,', 'total rental bikes is 3267,', 'total rental bikes is 2114,', 'total rental bikes is 6664,', 'total rental bikes is 6192,', 'total rental bikes is 3429,', 'total rental bikes is 5936,', 'total rental bikes is 4748,', 'total rental bikes is 5687,', 'total rental bikes is 5267,', 'total rental bikes is 7001,', 'total rental bikes is 5225,', 'total rental bikes is 5729,', 'total rental bikes is 6304,', 'total rental bikes is 5668,', 'total rental bikes is 5107,', 'total rental bikes is 4881,', 'total rental bikes is 2077,', 'total rental bikes is 1635,', 'total rental bikes is 7129,', 'total rental bikes is 7363,', 'total rental bikes is 5511,', 'total rental bikes is 5115,', 'total rental bikes is 4459,', 'total rental bikes is 2633,', 'total rental bikes is 7442,', 'total rental bikes is 6290,', 'total rental bikes is 4274,', 'total rental bikes is 2294,']\n"
     ]
    },
    {
     "name": "stderr",
     "output_type": "stream",
     "text": [
      " 20%|█▉        | 199/1000 [01:22<05:51,  2.28it/s]"
     ]
    },
    {
     "name": "stdout",
     "output_type": "stream",
     "text": [
      "['total rental bikes is 4073,', 'total rental bikes is 2913,', 'total rental bikes is 3163,', 'total rental bikes is 5409,', 'total rental bikes is 2077,', 'total rental bikes is 2431,', 'total rental bikes is 3389,', 'total rental bikes is 2210,', 'total rental bikes is 6824,', 'total rental bikes is 6460,', 'total rental bikes is 7286,', 'total rental bikes is 2311,', 'total rental bikes is 7733,', 'total rental bikes is 6606,', 'total rental bikes is 1817,', 'total rental bikes is 4602,', 'total rental bikes is 4484,', 'total rental bikes is 3523,', 'total rental bikes is 2425,', 'total rental bikes is 2843,', 'total rental bikes is 5062,', 'total rental bikes is 2743,', 'total rental bikes is 3761,', 'total rental bikes is 6879,', 'total rental bikes is 4803,', 'total rental bikes is 4579,', 'total rental bikes is 4433,', 'total rental bikes is 3456,', 'total rental bikes is 6544,', 'total rental bikes is 3623,', 'total rental bikes is 4509,', 'total rental bikes is 1685,', 'total rental bikes is 3523,', 'total rental bikes is 6370,', 'total rental bikes is 3310,', 'total rental bikes is 8714,', 'total rental bikes is 4991,', 'total rental bikes is 6591,', 'total rental bikes is 3767,', 'total rental bikes is 1685,', 'total rental bikes is 4046,', 'total rental bikes is 4866,', 'total rental bikes is 8120,', 'total rental bikes is 7350,', 'total rental bikes is 4509,', 'total rental bikes is 7509,', 'total rental bikes is 1746,', 'total rental bikes is 7697,', 'total rental bikes is 4484,', 'total rental bikes is 4694,']\n"
     ]
    },
    {
     "name": "stderr",
     "output_type": "stream",
     "text": [
      " 20%|██        | 202/1000 [01:24<06:04,  2.19it/s]"
     ]
    },
    {
     "name": "stdout",
     "output_type": "stream",
     "text": [
      "['total rental bikes is 4153,', 'total rental bikes is 4661,', 'total rental bikes is 4725,', 'total rental bikes is 6857,', 'total rental bikes is 6536,', 'total rental bikes is 3310,', 'total rental bikes is 3872,', 'total rental bikes is 1606,', 'total rental bikes is 5305,', 'total rental bikes is 4390,', 'total rental bikes is 7804,', 'total rental bikes is 1712,', 'total rental bikes is 4401,', 'total rental bikes is 6234,', 'total rental bikes is 5362,', 'total rental bikes is 2935,', 'total rental bikes is 5558,', 'total rental bikes is 4672,', 'total rental bikes is 1951,', 'total rental bikes is 683,', 'total rental bikes is 1013,', 'total rental bikes is 5107,', 'total rental bikes is 2792,', 'total rental bikes is 4790,', 'total rental bikes is 7534,', 'total rental bikes is 4169,', 'total rental bikes is 3376,', 'total rental bikes is 5409,', 'total rental bikes is 7504,', 'total rental bikes is 4459,', 'total rental bikes is 3425,', 'total rental bikes is 4765,', 'total rental bikes is 3194,', 'total rental bikes is 7498,', 'total rental bikes is 6879,', 'total rental bikes is 6421,', 'total rental bikes is 6825,', 'total rental bikes is 6304,', 'total rental bikes is 3570,', 'total rental bikes is 5634,', 'total rental bikes is 2395,', 'total rental bikes is 627,', 'total rental bikes is 3744,', 'total rental bikes is 5424,', 'total rental bikes is 6772,', 'total rental bikes is 4182,', 'total rental bikes is 4553,', 'total rental bikes is 6685,', 'total rental bikes is 4629,', 'total rental bikes is 3292,']\n"
     ]
    },
    {
     "name": "stderr",
     "output_type": "stream",
     "text": [
      " 20%|██        | 203/1000 [01:25<07:38,  1.74it/s]"
     ]
    },
    {
     "name": "stdout",
     "output_type": "stream",
     "text": [
      "['total rental bikes is 5119,', 'total rental bikes is 7697,', 'total rental bikes is 4839,', 'total rental bikes is 5319,', 'total rental bikes is 6565,', 'total rental bikes is 6685,', 'total rental bikes is 4123,', 'total rental bikes is 7105,', 'total rental bikes is 3598,', 'total rental bikes is 4154,', 'total rental bikes is 5729,', 'total rental bikes is 4694,', 'total rental bikes is 2918,', 'total rental bikes is 2566,', 'total rental bikes is 5713,', 'total rental bikes is 3623,', 'total rental bikes is 5041,', 'total rental bikes is 2744,', 'total rental bikes is 6606,', 'total rental bikes is 7175,', 'total rental bikes is 4758,', 'total rental bikes is 4475,', 'total rental bikes is 5204,', 'total rental bikes is 4840,', 'total rental bikes is 3574,', 'total rental bikes is 1589,', 'total rental bikes is 5202,', 'total rental bikes is 1096,', 'total rental bikes is 5786,', 'total rental bikes is 8294,', 'total rental bikes is 3053,', 'total rental bikes is 3392,', 'total rental bikes is 2732,', 'total rental bikes is 6370,', 'total rental bikes is 981,', 'total rental bikes is 2496,', 'total rental bikes is 6031,', 'total rental bikes is 5119,', 'total rental bikes is 3068,', 'total rental bikes is 1605,', 'total rental bikes is 4672,', 'total rental bikes is 4332,', 'total rental bikes is 5532,', 'total rental bikes is 1635,', 'total rental bikes is 2227,', 'total rental bikes is 981,', 'total rental bikes is 795,', 'total rental bikes is 4521,', 'total rental bikes is 6398,', 'total rental bikes is 6830,']\n"
     ]
    },
    {
     "name": "stderr",
     "output_type": "stream",
     "text": [
      " 21%|██        | 211/1000 [01:27<04:42,  2.79it/s]"
     ]
    },
    {
     "name": "stdout",
     "output_type": "stream",
     "text": [
      "['total rental bikes is 3894,', 'total rental bikes is 4458,', 'total rental bikes is 2739,', 'total rental bikes is 4906,', 'total rental bikes is 1708,', 'total rental bikes is 6073,', 'total rental bikes is 6734,', 'total rental bikes is 2455,', 'total rental bikes is 1321,', 'total rental bikes is 4570,', 'total rental bikes is 1812,', 'total rental bikes is 2659,', 'total rental bikes is 4521,', 'total rental bikes is 4840,', 'total rental bikes is 5180,', 'total rental bikes is 1996,', 'total rental bikes is 4576,', 'total rental bikes is 2659,', 'total rental bikes is 5170,', 'total rental bikes is 6852,', 'total rental bikes is 2133,', 'total rental bikes is 4758,', 'total rental bikes is 6779,', 'total rental bikes is 5495,', 'total rental bikes is 4475,', 'total rental bikes is 5319,', 'total rental bikes is 2376,', 'total rental bikes is 1787,', 'total rental bikes is 7907,', 'total rental bikes is 3068,', 'total rental bikes is 1162,', 'total rental bikes is 4785,', 'total rental bikes is 4917,', 'total rental bikes is 5892,', 'total rental bikes is 5905,', 'total rental bikes is 1606,', 'total rental bikes is 3204,', 'total rental bikes is 4916,', 'total rental bikes is 7605,', 'total rental bikes is 3644,', 'total rental bikes is 2744,', 'total rental bikes is 6169,', 'total rental bikes is 7460,', 'total rental bikes is 1550,', 'total rental bikes is 7347,', 'total rental bikes is 3376,', 'total rental bikes is 3194,', 'total rental bikes is 1461,', 'total rental bikes is 5119,', 'total rental bikes is 1650,']\n"
     ]
    },
    {
     "name": "stderr",
     "output_type": "stream",
     "text": [
      " 22%|██▏       | 216/1000 [01:28<04:29,  2.91it/s]"
     ]
    },
    {
     "name": "stdout",
     "output_type": "stream",
     "text": [
      "['total rental bikes is 5119,', 'total rental bikes is 8120,', 'total rental bikes is 2913,', 'total rental bikes is 4304,', 'total rental bikes is 7410,', 'total rental bikes is 3487,', 'total rental bikes is 5260,', 'total rental bikes is 1096,', 'total rental bikes is 6043,', 'total rental bikes is 3425,', 'total rental bikes is 4066,', 'total rental bikes is 7733,', 'total rental bikes is 4334,', 'total rental bikes is 2115,', 'total rental bikes is 4579,', 'total rental bikes is 6235,', 'total rental bikes is 4553,', 'total rental bikes is 5976,', 'total rental bikes is 795,', 'total rental bikes is 7109,', 'total rental bikes is 6233,', 'total rental bikes is 5634,', 'total rental bikes is 2133,', 'total rental bikes is 7639,', 'total rental bikes is 3785,', 'total rental bikes is 7572,', 'total rental bikes is 7359,', 'total rental bikes is 6606,', 'total rental bikes is 4189,', 'total rental bikes is 3873,', 'total rental bikes is 6871,', 'total rental bikes is 6530,', 'total rental bikes is 3292,', 'total rental bikes is 5633,', 'total rental bikes is 1891,', 'total rental bikes is 2028,', 'total rental bikes is 5169,', 'total rental bikes is 5743,', 'total rental bikes is 4585,', 'total rental bikes is 4098,', 'total rental bikes is 7109,', 'total rental bikes is 1865,', 'total rental bikes is 3598,', 'total rental bikes is 3053,', 'total rental bikes is 4154,', 'total rental bikes is 5362,', 'total rental bikes is 7591,', 'total rental bikes is 5459,', 'total rental bikes is 3310,', 'total rental bikes is 6053,']\n"
     ]
    },
    {
     "name": "stderr",
     "output_type": "stream",
     "text": [
      " 22%|██▏       | 221/1000 [01:30<04:16,  3.04it/s]"
     ]
    },
    {
     "name": "stdout",
     "output_type": "stream",
     "text": [
      "['total rental bikes is 6536,', 'total rental bikes is 8173,', 'total rental bikes is 1605,', 'total rental bikes is 5342,', 'total rental bikes is 5936,', 'total rental bikes is 7109,', 'total rental bikes is 6784,', 'total rental bikes is 7058,', 'total rental bikes is 3777,', 'total rental bikes is 4758,', 'total rental bikes is 4760,', 'total rental bikes is 2028,', 'total rental bikes is 7424,', 'total rental bikes is 4308,', 'total rental bikes is 8395,', 'total rental bikes is 683,', 'total rental bikes is 6370,', 'total rental bikes is 5115,', 'total rental bikes is 3429,', 'total rental bikes is 4363,', 'total rental bikes is 5267,', 'total rental bikes is 7641,', 'total rental bikes is 4105,', 'total rental bikes is 4763,', 'total rental bikes is 4191,', 'total rental bikes is 3425,', 'total rental bikes is 6969,', 'total rental bikes is 3926,', 'total rental bikes is 1204,', 'total rental bikes is 3598,', 'total rental bikes is 6824,', 'total rental bikes is 6786,', 'total rental bikes is 1891,', 'total rental bikes is 7836,', 'total rental bikes is 2425,', 'total rental bikes is 6153,', 'total rental bikes is 4492,', 'total rental bikes is 959,', 'total rental bikes is 6227,', 'total rental bikes is 3267,', 'total rental bikes is 4035,', 'total rental bikes is 3190,', 'total rental bikes is 5629,', 'total rental bikes is 6457,', 'total rental bikes is 7639,', 'total rental bikes is 3598,', 'total rental bikes is 3867,', 'total rental bikes is 5923,', 'total rental bikes is 2425,', 'total rental bikes is 4649,']\n"
     ]
    },
    {
     "name": "stderr",
     "output_type": "stream",
     "text": [
      " 22%|██▎       | 225/1000 [01:31<04:26,  2.91it/s]"
     ]
    },
    {
     "name": "stdout",
     "output_type": "stream",
     "text": [
      "['total rental bikes is 5499,', 'total rental bikes is 5918,', 'total rental bikes is 4401,', 'total rental bikes is 7460,', 'total rental bikes is 5464,', 'total rental bikes is 1538,', 'total rental bikes is 6041,', 'total rental bikes is 1996,', 'total rental bikes is 1685,', 'total rental bikes is 795,', 'total rental bikes is 6034,', 'total rental bikes is 3520,', 'total rental bikes is 1162,', 'total rental bikes is 4367,', 'total rental bikes is 4359,', 'total rental bikes is 2765,', 'total rental bikes is 1538,', 'total rental bikes is 4486,', 'total rental bikes is 2471,', 'total rental bikes is 2633,', 'total rental bikes is 5538,', 'total rental bikes is 5572,', 'total rental bikes is 1167,', 'total rental bikes is 7965,', 'total rental bikes is 1693,', 'total rental bikes is 4258,', 'total rental bikes is 3214,', 'total rental bikes is 4040,', 'total rental bikes is 3982,', 'total rental bikes is 4996,', 'total rental bikes is 1977,', 'total rental bikes is 2424,', 'total rental bikes is 2744,', 'total rental bikes is 7534,', 'total rental bikes is 1471,', 'total rental bikes is 2162,', 'total rental bikes is 7965,', 'total rental bikes is 1891,', 'total rental bikes is 4748,', 'total rental bikes is 3613,', 'total rental bikes is 5572,', 'total rental bikes is 6227,', 'total rental bikes is 3910,', 'total rental bikes is 1996,', 'total rental bikes is 4458,', 'total rental bikes is 3292,', 'total rental bikes is 1501,', 'total rental bikes is 3190,', 'total rental bikes is 2689,', 'total rental bikes is 6824,']\n"
     ]
    },
    {
     "name": "stderr",
     "output_type": "stream",
     "text": [
      " 23%|██▎       | 228/1000 [01:33<04:55,  2.61it/s]"
     ]
    },
    {
     "name": "stdout",
     "output_type": "stream",
     "text": [
      "['total rental bikes is 6879,', 'total rental bikes is 4073,', 'total rental bikes is 4672,', 'total rental bikes is 5047,', 'total rental bikes is 4727,', 'total rental bikes is 4656,', 'total rental bikes is 2913,', 'total rental bikes is 6978,', 'total rental bikes is 6234,', 'total rental bikes is 7264,', 'total rental bikes is 6043,', 'total rental bikes is 1977,', 'total rental bikes is 5905,', 'total rental bikes is 2056,', 'total rental bikes is 5362,', 'total rental bikes is 4575,', 'total rental bikes is 3974,', 'total rental bikes is 7580,', 'total rental bikes is 4120,', 'total rental bikes is 4714,', 'total rental bikes is 5102,', 'total rental bikes is 3767,', 'total rental bikes is 5786,', 'total rental bikes is 3709,', 'total rental bikes is 4486,', 'total rental bikes is 3372,', 'total rental bikes is 6685,', 'total rental bikes is 605,', 'total rental bikes is 4917,', 'total rental bikes is 4677,', 'total rental bikes is 3239,', 'total rental bikes is 2424,', 'total rental bikes is 3141,', 'total rental bikes is 7347,', 'total rental bikes is 5786,', 'total rental bikes is 2424,', 'total rental bikes is 6536,', 'total rental bikes is 5204,', 'total rental bikes is 5336,', 'total rental bikes is 4579,', 'total rental bikes is 4758,', 'total rental bikes is 6230,', 'total rental bikes is 4708,', 'total rental bikes is 4127,', 'total rental bikes is 6207,', 'total rental bikes is 4839,', 'total rental bikes is 2077,', 'total rental bikes is 4803,', 'total rental bikes is 2046,', 'total rental bikes is 2162,']\n"
     ]
    },
    {
     "name": "stderr",
     "output_type": "stream",
     "text": [
      " 23%|██▎       | 230/1000 [01:34<05:49,  2.20it/s]"
     ]
    },
    {
     "name": "stdout",
     "output_type": "stream",
     "text": [
      "['total rental bikes is 4788,', 'total rental bikes is 4334,', 'total rental bikes is 4507,', 'total rental bikes is 5084,', 'total rental bikes is 7534,', 'total rental bikes is 5026,', 'total rental bikes is 4639,', 'total rental bikes is 2134,', 'total rental bikes is 7359,', 'total rental bikes is 4839,', 'total rental bikes is 5629,', 'total rental bikes is 3959,', 'total rental bikes is 1167,', 'total rental bikes is 3744,', 'total rental bikes is 6565,', 'total rental bikes is 8227,', 'total rental bikes is 4318,', 'total rental bikes is 5923,', 'total rental bikes is 5895,', 'total rental bikes is 7461,', 'total rental bikes is 4118,', 'total rental bikes is 7286,', 'total rental bikes is 3767,', 'total rental bikes is 4539,', 'total rental bikes is 1471,', 'total rental bikes is 3784,', 'total rental bikes is 4549,', 'total rental bikes is 5345,', 'total rental bikes is 6691,', 'total rental bikes is 5532,', 'total rental bikes is 3249,', 'total rental bikes is 2432,', 'total rental bikes is 8714,', 'total rental bikes is 1204,', 'total rental bikes is 2077,', 'total rental bikes is 8120,', 'total rental bikes is 7429,', 'total rental bikes is 4058,', 'total rental bikes is 5202,', 'total rental bikes is 2376,', 'total rental bikes is 3310,', 'total rental bikes is 1248,', 'total rental bikes is 3267,', 'total rental bikes is 1501,', 'total rental bikes is 4866,', 'total rental bikes is 4109,', 'total rental bikes is 3239,', 'total rental bikes is 6207,', 'total rental bikes is 4266,', 'total rental bikes is 5375,']\n"
     ]
    },
    {
     "name": "stderr",
     "output_type": "stream",
     "text": [
      " 24%|██▎       | 235/1000 [01:36<05:05,  2.50it/s]"
     ]
    },
    {
     "name": "stdout",
     "output_type": "stream",
     "text": [
      "['total rental bikes is 5698,', 'total rental bikes is 1349,', 'total rental bikes is 6169,', 'total rental bikes is 4378,', 'total rental bikes is 2843,', 'total rental bikes is 4985,', 'total rental bikes is 4067,', 'total rental bikes is 2210,', 'total rental bikes is 1562,', 'total rental bikes is 1927,', 'total rental bikes is 6421,', 'total rental bikes is 6883,', 'total rental bikes is 2227,', 'total rental bikes is 7384,', 'total rental bikes is 6207,', 'total rental bikes is 5146,', 'total rental bikes is 7410,', 'total rental bikes is 3624,', 'total rental bikes is 4338,', 'total rental bikes is 6296,', 'total rental bikes is 1944,', 'total rental bikes is 5260,', 'total rental bikes is 1605,', 'total rental bikes is 5558,', 'total rental bikes is 2423,', 'total rental bikes is 1977,', 'total rental bikes is 5629,', 'total rental bikes is 7494,', 'total rental bikes is 5629,', 'total rental bikes is 4996,', 'total rental bikes is 4575,', 'total rental bikes is 4127,', 'total rental bikes is 1096,', 'total rental bikes is 5046,', 'total rental bikes is 2115,', 'total rental bikes is 1013,', 'total rental bikes is 1815,', 'total rental bikes is 1530,', 'total rental bikes is 6457,', 'total rental bikes is 2121,', 'total rental bikes is 4492,', 'total rental bikes is 7605,', 'total rental bikes is 6093,', 'total rental bikes is 6235,', 'total rental bikes is 5728,', 'total rental bikes is 5107,', 'total rental bikes is 3846,', 'total rental bikes is 4363,', 'total rental bikes is 5629,', 'total rental bikes is 2485,']\n"
     ]
    },
    {
     "name": "stderr",
     "output_type": "stream",
     "text": [
      " 24%|██▎       | 236/1000 [01:37<06:31,  1.95it/s]"
     ]
    },
    {
     "name": "stdout",
     "output_type": "stream",
     "text": [
      "['total rental bikes is 5225,', 'total rental bikes is 5870,', 'total rental bikes is 5918,', 'total rental bikes is 5478,', 'total rental bikes is 7132,', 'total rental bikes is 5633,', 'total rental bikes is 1162,', 'total rental bikes is 1096,', 'total rental bikes is 6565,', 'total rental bikes is 6230,', 'total rental bikes is 7605,', 'total rental bikes is 4665,', 'total rental bikes is 1927,', 'total rental bikes is 4342,', 'total rental bikes is 3249,', 'total rental bikes is 5992,', 'total rental bikes is 6359,', 'total rental bikes is 1749,', 'total rental bikes is 6871,', 'total rental bikes is 6591,', 'total rental bikes is 4521,', 'total rental bikes is 3926,', 'total rental bikes is 5217,', 'total rental bikes is 2918,', 'total rental bikes is 7870,', 'total rental bikes is 4153,', 'total rental bikes is 5633,', 'total rental bikes is 4714,', 'total rental bikes is 5204,', 'total rental bikes is 3944,', 'total rental bikes is 3830,', 'total rental bikes is 4521,', 'total rental bikes is 5445,', 'total rental bikes is 5611,', 'total rental bikes is 7498,', 'total rental bikes is 5323,', 'total rental bikes is 7282,', 'total rental bikes is 4401,', 'total rental bikes is 5345,', 'total rental bikes is 5298,', 'total rental bikes is 1693,', 'total rental bikes is 5191,', 'total rental bikes is 683,', 'total rental bikes is 985,', 'total rental bikes is 5499,', 'total rental bikes is 1098,', 'total rental bikes is 4748,', 'total rental bikes is 2121,', 'total rental bikes is 6966,', 'total rental bikes is 4459,']\n"
     ]
    },
    {
     "name": "stderr",
     "output_type": "stream",
     "text": [
      " 24%|██▍       | 240/1000 [01:39<05:58,  2.12it/s]"
     ]
    },
    {
     "name": "stdout",
     "output_type": "stream",
     "text": [
      "['total rental bikes is 6398,', 'total rental bikes is 6966,', 'total rental bikes is 822,', 'total rental bikes is 1812,', 'total rental bikes is 1834,', 'total rental bikes is 6392,', 'total rental bikes is 4220,', 'total rental bikes is 4105,', 'total rental bikes is 4649,', 'total rental bikes is 7907,', 'total rental bikes is 3163,', 'total rental bikes is 6233,', 'total rental bikes is 3389,', 'total rental bikes is 3620,', 'total rental bikes is 4186,', 'total rental bikes is 3624,', 'total rental bikes is 5992,', 'total rental bikes is 4258,', 'total rental bikes is 5459,', 'total rental bikes is 5255,', 'total rental bikes is 4274,', 'total rental bikes is 5342,', 'total rental bikes is 5305,', 'total rental bikes is 1550,', 'total rental bikes is 5634,', 'total rental bikes is 3784,', 'total rental bikes is 7129,', 'total rental bikes is 3974,', 'total rental bikes is 6852,', 'total rental bikes is 3095,', 'total rental bikes is 1013,', 'total rental bikes is 6359,', 'total rental bikes is 2209,', 'total rental bikes is 2429,', 'total rental bikes is 7836,', 'total rental bikes is 4608,', 'total rental bikes is 4492,', 'total rental bikes is 6296,', 'total rental bikes is 4835,', 'total rental bikes is 4840,', 'total rental bikes is 2947,', 'total rental bikes is 5169,', 'total rental bikes is 4803,', 'total rental bikes is 1543,', 'total rental bikes is 3982,', 'total rental bikes is 2947,', 'total rental bikes is 6359,', 'total rental bikes is 2425,', 'total rental bikes is 3429,', 'total rental bikes is 2659,']\n"
     ]
    },
    {
     "name": "stderr",
     "output_type": "stream",
     "text": [
      " 24%|██▍       | 242/1000 [01:41<06:43,  1.88it/s]"
     ]
    },
    {
     "name": "stdout",
     "output_type": "stream",
     "text": [
      "['total rental bikes is 3285,', 'total rental bikes is 3115,', 'total rental bikes is 1796,', 'total rental bikes is 4189,', 'total rental bikes is 7570,', 'total rental bikes is 4475,', 'total rental bikes is 3126,', 'total rental bikes is 6784,', 'total rental bikes is 7261,', 'total rental bikes is 2115,', 'total rental bikes is 3910,', 'total rental bikes is 8227,', 'total rental bikes is 7865,', 'total rental bikes is 3894,', 'total rental bikes is 6536,', 'total rental bikes is 4189,', 'total rental bikes is 7261,', 'total rental bikes is 6778,', 'total rental bikes is 4035,', 'total rental bikes is 3387,', 'total rental bikes is 3974,', 'total rental bikes is 1812,', 'total rental bikes is 3907,', 'total rental bikes is 5058,', 'total rental bikes is 4123,', 'total rental bikes is 4105,', 'total rental bikes is 623,', 'total rental bikes is 3926,', 'total rental bikes is 6241,', 'total rental bikes is 3243,', 'total rental bikes is 2927,', 'total rental bikes is 5062,', 'total rental bikes is 4400,', 'total rental bikes is 4744,', 'total rental bikes is 1510,', 'total rental bikes is 7148,', 'total rental bikes is 1263,', 'total rental bikes is 1996,', 'total rental bikes is 6235,', 'total rental bikes is 2177,', 'total rental bikes is 5084,', 'total rental bikes is 5298,', 'total rental bikes is 7870,', 'total rental bikes is 1416,', 'total rental bikes is 2210,', 'total rental bikes is 5538,', 'total rental bikes is 6786,', 'total rental bikes is 3784,', 'total rental bikes is 7058,', 'total rental bikes is 2294,']\n"
     ]
    },
    {
     "name": "stderr",
     "output_type": "stream",
     "text": [
      " 24%|██▍       | 245/1000 [01:42<06:36,  1.90it/s]"
     ]
    },
    {
     "name": "stdout",
     "output_type": "stream",
     "text": [
      "['total rental bikes is 1471,', 'total rental bikes is 4304,', 'total rental bikes is 2432,', 'total rental bikes is 441,', 'total rental bikes is 4094,', 'total rental bikes is 6269,', 'total rental bikes is 22,', 'total rental bikes is 7713,', 'total rental bikes is 6830,', 'total rental bikes is 1872,', 'total rental bikes is 2914,', 'total rental bikes is 4484,', 'total rental bikes is 5629,', 'total rental bikes is 4585,', 'total rental bikes is 3095,', 'total rental bikes is 3894,', 'total rental bikes is 6544,', 'total rental bikes is 5495,', 'total rental bikes is 2744,', 'total rental bikes is 7442,', 'total rental bikes is 3510,', 'total rental bikes is 7040,', 'total rental bikes is 1872,', 'total rental bikes is 5305,', 'total rental bikes is 1977,', 'total rental bikes is 4460,', 'total rental bikes is 4694,', 'total rental bikes is 1842,', 'total rental bikes is 4274,', 'total rental bikes is 2368,', 'total rental bikes is 4679,', 'total rental bikes is 1607,', 'total rental bikes is 3777,', 'total rental bikes is 7458,', 'total rental bikes is 5062,', 'total rental bikes is 1917,', 'total rental bikes is 2034,', 'total rental bikes is 3423,', 'total rental bikes is 2425,', 'total rental bikes is 431,', 'total rental bikes is 1815,', 'total rental bikes is 3190,', 'total rental bikes is 4677,', 'total rental bikes is 6093,', 'total rental bikes is 5312,', 'total rental bikes is 4274,', 'total rental bikes is 2808,', 'total rental bikes is 1421,', 'total rental bikes is 1891,', 'total rental bikes is 4460,']\n"
     ]
    },
    {
     "name": "stderr",
     "output_type": "stream",
     "text": [
      " 25%|██▍       | 247/1000 [01:44<07:13,  1.74it/s]"
     ]
    },
    {
     "name": "stdout",
     "output_type": "stream",
     "text": [
      "['total rental bikes is 2115,', 'total rental bikes is 6041,', 'total rental bikes is 3249,', 'total rental bikes is 4727,', 'total rental bikes is 431,', 'total rental bikes is 4456,', 'total rental bikes is 6879,', 'total rental bikes is 3830,', 'total rental bikes is 6591,', 'total rental bikes is 1944,', 'total rental bikes is 1635,', 'total rental bikes is 5918,', 'total rental bikes is 6460,', 'total rental bikes is 7591,', 'total rental bikes is 7572,', 'total rental bikes is 4150,', 'total rental bikes is 6536,', 'total rental bikes is 4127,', 'total rental bikes is 3409,', 'total rental bikes is 6784,', 'total rental bikes is 4763,', 'total rental bikes is 3767,', 'total rental bikes is 5259,', 'total rental bikes is 7393,', 'total rental bikes is 1977,', 'total rental bikes is 7338,', 'total rental bikes is 3974,', 'total rental bikes is 920,', 'total rental bikes is 4334,', 'total rental bikes is 5107,', 'total rental bikes is 3811,', 'total rental bikes is 6861,', 'total rental bikes is 7461,', 'total rental bikes is 8714,', 'total rental bikes is 4195,', 'total rental bikes is 2895,', 'total rental bikes is 2594,', 'total rental bikes is 6691,', 'total rental bikes is 4326,', 'total rental bikes is 7765,', 'total rental bikes is 3959,', 'total rental bikes is 6861,', 'total rental bikes is 4585,', 'total rental bikes is 1796,', 'total rental bikes is 1550,', 'total rental bikes is 4576,', 'total rental bikes is 4058,', 'total rental bikes is 3117,', 'total rental bikes is 1162,', 'total rental bikes is 1096,']\n"
     ]
    },
    {
     "name": "stderr",
     "output_type": "stream",
     "text": [
      " 25%|██▍       | 249/1000 [01:45<07:48,  1.60it/s]"
     ]
    },
    {
     "name": "stdout",
     "output_type": "stream",
     "text": [
      "['total rental bikes is 4342,', 'total rental bikes is 4458,', 'total rental bikes is 4266,', 'total rental bikes is 3141,', 'total rental bikes is 4549,', 'total rental bikes is 7865,', 'total rental bikes is 3570,', 'total rental bikes is 7424,', 'total rental bikes is 6598,', 'total rental bikes is 1167,', 'total rental bikes is 4586,', 'total rental bikes is 2914,', 'total rental bikes is 7697,', 'total rental bikes is 6043,', 'total rental bikes is 3425,', 'total rental bikes is 1977,', 'total rental bikes is 6871,', 'total rental bikes is 5115,', 'total rental bikes is 5260,', 'total rental bikes is 2660,', 'total rental bikes is 4509,', 'total rental bikes is 4905,', 'total rental bikes is 3727,', 'total rental bikes is 4839,', 'total rental bikes is 4687,', 'total rental bikes is 7460,', 'total rental bikes is 7264,', 'total rental bikes is 3944,', 'total rental bikes is 5191,', 'total rental bikes is 4579,', 'total rental bikes is 7460,', 'total rental bikes is 4845,', 'total rental bikes is 6398,', 'total rental bikes is 2298,', 'total rental bikes is 4381,', 'total rental bikes is 1027,', 'total rental bikes is 4381,', 'total rental bikes is 4400,', 'total rental bikes is 4795,', 'total rental bikes is 6778,', 'total rental bikes is 7112,', 'total rental bikes is 1712,', 'total rental bikes is 3126,', 'total rental bikes is 3331,', 'total rental bikes is 4713,', 'total rental bikes is 6978,', 'total rental bikes is 3846,', 'total rental bikes is 2210,', 'total rental bikes is 2689,', 'total rental bikes is 1530,']\n"
     ]
    },
    {
     "name": "stderr",
     "output_type": "stream",
     "text": [
      " 25%|██▌       | 253/1000 [01:47<06:31,  1.91it/s]"
     ]
    },
    {
     "name": "stdout",
     "output_type": "stream",
     "text": [
      "['total rental bikes is 3005,', 'total rental bikes is 6966,', 'total rental bikes is 3624,', 'total rental bikes is 1321,', 'total rental bikes is 4098,', 'total rental bikes is 3926,', 'total rental bikes is 3620,', 'total rental bikes is 4639,', 'total rental bikes is 5202,', 'total rental bikes is 2493,', 'total rental bikes is 3141,', 'total rental bikes is 985,', 'total rental bikes is 4968,', 'total rental bikes is 1872,', 'total rental bikes is 7466,', 'total rental bikes is 3727,', 'total rental bikes is 1708,', 'total rental bikes is 4795,', 'total rental bikes is 4840,', 'total rental bikes is 7804,', 'total rental bikes is 2633,', 'total rental bikes is 3740,', 'total rental bikes is 4996,', 'total rental bikes is 6133,', 'total rental bikes is 4576,', 'total rental bikes is 7338,', 'total rental bikes is 5572,', 'total rental bikes is 7148,', 'total rental bikes is 5572,', 'total rental bikes is 1834,', 'total rental bikes is 4966,', 'total rental bikes is 1746,', 'total rental bikes is 3542,', 'total rental bikes is 6273,', 'total rental bikes is 4592,', 'total rental bikes is 5008,', 'total rental bikes is 1708,', 'total rental bikes is 2703,', 'total rental bikes is 4765,', 'total rental bikes is 7461,', 'total rental bikes is 4456,', 'total rental bikes is 6606,', 'total rental bikes is 7582,', 'total rental bikes is 6855,', 'total rental bikes is 3894,', 'total rental bikes is 6207,', 'total rental bikes is 6857,', 'total rental bikes is 6778,', 'total rental bikes is 5538,', 'total rental bikes is 3744,']\n"
     ]
    },
    {
     "name": "stderr",
     "output_type": "stream",
     "text": [
      " 26%|██▌       | 258/1000 [01:48<05:22,  2.30it/s]"
     ]
    },
    {
     "name": "stdout",
     "output_type": "stream",
     "text": [
      "['total rental bikes is 4182,', 'total rental bikes is 7286,', 'total rental bikes is 5582,', 'total rental bikes is 3614,', 'total rental bikes is 7865,', 'total rental bikes is 2999,', 'total rental bikes is 6852,', 'total rental bikes is 7403,', 'total rental bikes is 981,', 'total rental bikes is 1607,', 'total rental bikes is 7736,', 'total rental bikes is 3777,', 'total rental bikes is 5847,', 'total rental bikes is 5260,', 'total rental bikes is 6530,', 'total rental bikes is 4390,', 'total rental bikes is 2935,', 'total rental bikes is 4294,', 'total rental bikes is 1317,', 'total rental bikes is 4098,', 'total rental bikes is 4541,', 'total rental bikes is 6203,', 'total rental bikes is 7347,', 'total rental bikes is 7702,', 'total rental bikes is 6591,', 'total rental bikes is 6235,', 'total rental bikes is 4725,', 'total rental bikes is 4456,', 'total rental bikes is 5743,', 'total rental bikes is 3620,', 'total rental bikes is 3761,', 'total rental bikes is 6664,', 'total rental bikes is 7105,', 'total rental bikes is 4451,', 'total rental bikes is 6784,', 'total rental bikes is 3214,', 'total rental bikes is 4182,', 'total rental bikes is 8395,', 'total rental bikes is 3053,', 'total rental bikes is 4881,', 'total rental bikes is 1685,', 'total rental bikes is 5382,', 'total rental bikes is 8090,', 'total rental bikes is 4660,', 'total rental bikes is 4758,', 'total rental bikes is 1472,', 'total rental bikes is 3820,', 'total rental bikes is 2169,', 'total rental bikes is 7591,', 'total rental bikes is 1461,']\n"
     ]
    },
    {
     "name": "stderr",
     "output_type": "stream",
     "text": [
      " 26%|██▌       | 260/1000 [01:50<06:10,  2.00it/s]"
     ]
    },
    {
     "name": "stdout",
     "output_type": "stream",
     "text": [
      "['total rental bikes is 3403,', 'total rental bikes is 7461,', 'total rental bikes is 1796,', 'total rental bikes is 4541,', 'total rental bikes is 7693,', 'total rental bikes is 5146,', 'total rental bikes is 2471,', 'total rental bikes is 1360,', 'total rental bikes is 1098,', 'total rental bikes is 1605,', 'total rental bikes is 4400,', 'total rental bikes is 1795,', 'total rental bikes is 7328,', 'total rental bikes is 7852,', 'total rental bikes is 3523,', 'total rental bikes is 1917,', 'total rental bikes is 5668,', 'total rental bikes is 3663,', 'total rental bikes is 1749,', 'total rental bikes is 3959,', 'total rental bikes is 6883,', 'total rental bikes is 4195,', 'total rental bikes is 4765,', 'total rental bikes is 3310,', 'total rental bikes is 4773,', 'total rental bikes is 2432,', 'total rental bikes is 5424,', 'total rental bikes is 1450,', 'total rental bikes is 5191,', 'total rental bikes is 4826,', 'total rental bikes is 4917,', 'total rental bikes is 1107,', 'total rental bikes is 6904,', 'total rental bikes is 4826,', 'total rental bikes is 4708,', 'total rental bikes is 5169,', 'total rental bikes is 6398,', 'total rental bikes is 3750,', 'total rental bikes is 986,', 'total rental bikes is 5115,', 'total rental bikes is 5010,', 'total rental bikes is 1301,', 'total rental bikes is 6871,', 'total rental bikes is 4375,', 'total rental bikes is 506,', 'total rental bikes is 3614,', 'total rental bikes is 5918,', 'total rental bikes is 4433,', 'total rental bikes is 5511,', 'total rental bikes is 6770,']\n"
     ]
    },
    {
     "name": "stderr",
     "output_type": "stream",
     "text": [
      " 26%|██▋       | 264/1000 [01:51<05:37,  2.18it/s]"
     ]
    },
    {
     "name": "stdout",
     "output_type": "stream",
     "text": [
      "['total rental bikes is 5255,', 'total rental bikes is 5138,', 'total rental bikes is 7105,', 'total rental bikes is 6299,', 'total rental bikes is 5875,', 'total rental bikes is 5686,', 'total rental bikes is 3331,', 'total rental bikes is 5810,', 'total rental bikes is 1416,', 'total rental bikes is 3959,', 'total rental bikes is 683,', 'total rental bikes is 3872,', 'total rental bikes is 2114,', 'total rental bikes is 3285,', 'total rental bikes is 2659,', 'total rental bikes is 2431,', 'total rental bikes is 6904,', 'total rental bikes is 5267,', 'total rental bikes is 3117,', 'total rental bikes is 7691,', 'total rental bikes is 5459,', 'total rental bikes is 5786,', 'total rental bikes is 4507,', 'total rental bikes is 7393,', 'total rental bikes is 7105,', 'total rental bikes is 5557,', 'total rental bikes is 3956,', 'total rental bikes is 6639,', 'total rental bikes is 1944,', 'total rental bikes is 8009,', 'total rental bikes is 1096,', 'total rental bikes is 7461,', 'total rental bikes is 2432,', 'total rental bikes is 1693,', 'total rental bikes is 4630,', 'total rental bikes is 4660,', 'total rental bikes is 5146,', 'total rental bikes is 5102,', 'total rental bikes is 5870,', 'total rental bikes is 3053,', 'total rental bikes is 5315,', 'total rental bikes is 4590,', 'total rental bikes is 1538,', 'total rental bikes is 4672,', 'total rental bikes is 7421,', 'total rental bikes is 2710,', 'total rental bikes is 2423,', 'total rental bikes is 985,', 'total rental bikes is 7494,', 'total rental bikes is 4128,']\n"
     ]
    },
    {
     "name": "stderr",
     "output_type": "stream",
     "text": [
      " 27%|██▋       | 269/1000 [01:53<04:53,  2.49it/s]"
     ]
    },
    {
     "name": "stdout",
     "output_type": "stream",
     "text": [
      "['total rental bikes is 4294,', 'total rental bikes is 4332,', 'total rental bikes is 2424,', 'total rental bikes is 1817,', 'total rental bikes is 1495,', 'total rental bikes is 2424,', 'total rental bikes is 1471,', 'total rental bikes is 6691,', 'total rental bikes is 1635,', 'total rental bikes is 7499,', 'total rental bikes is 4492,', 'total rental bikes is 5170,', 'total rental bikes is 4991,', 'total rental bikes is 6192,', 'total rental bikes is 4595,', 'total rental bikes is 3376,', 'total rental bikes is 7363,', 'total rental bikes is 2496,', 'total rental bikes is 1605,', 'total rental bikes is 6544,', 'total rental bikes is 7691,', 'total rental bikes is 7424,', 'total rental bikes is 1536,', 'total rental bikes is 5062,', 'total rental bikes is 4073,', 'total rental bikes is 4608,', 'total rental bikes is 4304,', 'total rental bikes is 1538,', 'total rental bikes is 3867,', 'total rental bikes is 3272,', 'total rental bikes is 4630,', 'total rental bikes is 5499,', 'total rental bikes is 5298,', 'total rental bikes is 6192,', 'total rental bikes is 5260,', 'total rental bikes is 6861,', 'total rental bikes is 4575,', 'total rental bikes is 7436,', 'total rental bikes is 4352,', 'total rental bikes is 4966,', 'total rental bikes is 2431,', 'total rental bikes is 3974,', 'total rental bikes is 5202,', 'total rental bikes is 4066,', 'total rental bikes is 4342,', 'total rental bikes is 3228,', 'total rental bikes is 1865,', 'total rental bikes is 2425,', 'total rental bikes is 7350,', 'total rental bikes is 5923,']\n"
     ]
    },
    {
     "name": "stderr",
     "output_type": "stream",
     "text": [
      " 27%|██▋       | 270/1000 [01:54<06:16,  1.94it/s]"
     ]
    },
    {
     "name": "stdout",
     "output_type": "stream",
     "text": [
      "['total rental bikes is 4334,', 'total rental bikes is 1317,', 'total rental bikes is 3873,', 'total rental bikes is 2594,', 'total rental bikes is 7436,', 'total rental bikes is 5698,', 'total rental bikes is 2808,', 'total rental bikes is 7393,', 'total rental bikes is 5728,', 'total rental bikes is 4563,', 'total rental bikes is 5629,', 'total rental bikes is 4507,', 'total rental bikes is 5260,', 'total rental bikes is 4459,', 'total rental bikes is 5315,', 'total rental bikes is 3846,', 'total rental bikes is 1005,', 'total rental bikes is 5117,', 'total rental bikes is 7460,', 'total rental bikes is 4608,', 'total rental bikes is 5538,', 'total rental bikes is 4189,', 'total rental bikes is 5035,', 'total rental bikes is 2425,', 'total rental bikes is 6290,', 'total rental bikes is 7504,', 'total rental bikes is 3487,', 'total rental bikes is 2729,', 'total rental bikes is 4359,', 'total rental bikes is 2729,', 'total rental bikes is 3915,', 'total rental bikes is 2792,', 'total rental bikes is 2402,', 'total rental bikes is 3542,', 'total rental bikes is 3907,', 'total rental bikes is 4579,', 'total rental bikes is 6034,', 'total rental bikes is 5810,', 'total rental bikes is 3163,', 'total rental bikes is 7965,', 'total rental bikes is 1317,', 'total rental bikes is 4258,', 'total rental bikes is 4342,', 'total rental bikes is 2134,', 'total rental bikes is 3071,', 'total rental bikes is 7804,', 'total rental bikes is 4075,', 'total rental bikes is 4727,', 'total rental bikes is 3228,', 'total rental bikes is 3785,']\n"
     ]
    },
    {
     "name": "stderr",
     "output_type": "stream",
     "text": [
      " 28%|██▊       | 275/1000 [01:56<05:15,  2.30it/s]"
     ]
    },
    {
     "name": "stdout",
     "output_type": "stream",
     "text": [
      "['total rental bikes is 7691,', 'total rental bikes is 6569,', 'total rental bikes is 6685,', 'total rental bikes is 5459,', 'total rental bikes is 4362,', 'total rental bikes is 981,', 'total rental bikes is 5409,', 'total rental bikes is 3243,', 'total rental bikes is 5892,', 'total rental bikes is 6073,', 'total rental bikes is 4656,', 'total rental bikes is 6869,', 'total rental bikes is 7290,', 'total rental bikes is 2743,', 'total rental bikes is 4073,', 'total rental bikes is 801,', 'total rental bikes is 7055,', 'total rental bikes is 7273,', 'total rental bikes is 6192,', 'total rental bikes is 7534,', 'total rental bikes is 1510,', 'total rental bikes is 5225,', 'total rental bikes is 7466,', 'total rental bikes is 8167,', 'total rental bikes is 2395,', 'total rental bikes is 6312,', 'total rental bikes is 6883,', 'total rental bikes is 5557,', 'total rental bikes is 5538,', 'total rental bikes is 7641,', 'total rental bikes is 4648,', 'total rental bikes is 6857,', 'total rental bikes is 6153,', 'total rental bikes is 1607,', 'total rental bikes is 3867,', 'total rental bikes is 6825,', 'total rental bikes is 623,', 'total rental bikes is 1913,', 'total rental bikes is 4451,', 'total rental bikes is 431,', 'total rental bikes is 3574,', 'total rental bikes is 4068,', 'total rental bikes is 8227,', 'total rental bikes is 5459,', 'total rental bikes is 1530,', 'total rental bikes is 3830,', 'total rental bikes is 3409,', 'total rental bikes is 1795,', 'total rental bikes is 1000,', 'total rental bikes is 7702,']\n"
     ]
    },
    {
     "name": "stderr",
     "output_type": "stream",
     "text": [
      " 28%|██▊       | 276/1000 [01:57<06:36,  1.82it/s]"
     ]
    },
    {
     "name": "stdout",
     "output_type": "stream",
     "text": [
      "['total rental bikes is 4788,', 'total rental bikes is 7605,', 'total rental bikes is 6043,', 'total rental bikes is 6664,', 'total rental bikes is 2947,', 'total rental bikes is 5729,', 'total rental bikes is 2034,', 'total rental bikes is 2132,', 'total rental bikes is 3872,', 'total rental bikes is 4866,', 'total rental bikes is 7458,', 'total rental bikes is 6917,', 'total rental bikes is 7013,', 'total rental bikes is 7765,', 'total rental bikes is 3331,', 'total rental bikes is 8009,', 'total rental bikes is 7030,', 'total rental bikes is 3376,', 'total rental bikes is 3523,', 'total rental bikes is 4151,', 'total rental bikes is 4630,', 'total rental bikes is 6235,', 'total rental bikes is 3761,', 'total rental bikes is 1471,', 'total rental bikes is 6889,', 'total rental bikes is 4326,', 'total rental bikes is 1996,', 'total rental bikes is 3915,', 'total rental bikes is 1996,', 'total rental bikes is 3322,', 'total rental bikes is 7580,', 'total rental bikes is 2999,', 'total rental bikes is 4839,', 'total rental bikes is 3292,', 'total rental bikes is 4352,', 'total rental bikes is 3190,', 'total rental bikes is 7403,', 'total rental bikes is 6691,', 'total rental bikes is 8167,', 'total rental bikes is 8395,', 'total rental bikes is 4845,', 'total rental bikes is 5495,', 'total rental bikes is 3243,', 'total rental bikes is 2423,', 'total rental bikes is 5255,', 'total rental bikes is 1796,', 'total rental bikes is 4569,', 'total rental bikes is 1708,', 'total rental bikes is 4579,', 'total rental bikes is 2566,']\n"
     ]
    },
    {
     "name": "stderr",
     "output_type": "stream",
     "text": [
      " 28%|██▊       | 280/1000 [01:59<05:51,  2.05it/s]"
     ]
    },
    {
     "name": "stdout",
     "output_type": "stream",
     "text": [
      "['total rental bikes is 7534,', 'total rental bikes is 4118,', 'total rental bikes is 3204,', 'total rental bikes is 2114,', 'total rental bikes is 4186,', 'total rental bikes is 6824,', 'total rental bikes is 7736,', 'total rental bikes is 2914,', 'total rental bikes is 1606,', 'total rental bikes is 6269,', 'total rental bikes is 3351,', 'total rental bikes is 6606,', 'total rental bikes is 1977,', 'total rental bikes is 4803,', 'total rental bikes is 1529,', 'total rental bikes is 3129,', 'total rental bikes is 3669,', 'total rental bikes is 4375,', 'total rental bikes is 2115,', 'total rental bikes is 6904,', 'total rental bikes is 3785,', 'total rental bikes is 5312,', 'total rental bikes is 8362,', 'total rental bikes is 1536,', 'total rental bikes is 6392,', 'total rental bikes is 6857,', 'total rental bikes is 5202,', 'total rental bikes is 5786,', 'total rental bikes is 6073,', 'total rental bikes is 4629,', 'total rental bikes is 6904,', 'total rental bikes is 5740,', 'total rental bikes is 7055,', 'total rental bikes is 4367,', 'total rental bikes is 4708,', 'total rental bikes is 6536,', 'total rental bikes is 506,', 'total rental bikes is 6685,', 'total rental bikes is 3974,', 'total rental bikes is 2425,', 'total rental bikes is 4294,', 'total rental bikes is 3372,', 'total rental bikes is 3644,', 'total rental bikes is 4803,', 'total rental bikes is 4182,', 'total rental bikes is 5170,', 'total rental bikes is 4844,', 'total rental bikes is 2115,', 'total rental bikes is 5267,', 'total rental bikes is 3959,']\n"
     ]
    },
    {
     "name": "stderr",
     "output_type": "stream",
     "text": [
      " 28%|██▊       | 281/1000 [02:01<07:21,  1.63it/s]"
     ]
    },
    {
     "name": "stdout",
     "output_type": "stream",
     "text": [
      "['total rental bikes is 4835,', 'total rental bikes is 2169,', 'total rental bikes is 3249,', 'total rental bikes is 5020,', 'total rental bikes is 4127,', 'total rental bikes is 5582,', 'total rental bikes is 5478,', 'total rental bikes is 6778,', 'total rental bikes is 3606,', 'total rental bikes is 2169,', 'total rental bikes is 4788,', 'total rental bikes is 1589,', 'total rental bikes is 2177,', 'total rental bikes is 3348,', 'total rental bikes is 2703,', 'total rental bikes is 5515,', 'total rental bikes is 7870,', 'total rental bikes is 3620,', 'total rental bikes is 2056,', 'total rental bikes is 6192,', 'total rental bikes is 5041,', 'total rental bikes is 7697,', 'total rental bikes is 4592,', 'total rental bikes is 1951,', 'total rental bikes is 3331,', 'total rental bikes is 3243,', 'total rental bikes is 6624,', 'total rental bikes is 3649,', 'total rental bikes is 8555,', 'total rental bikes is 4205,', 'total rental bikes is 6196,', 'total rental bikes is 3785,', 'total rental bikes is 1927,', 'total rental bikes is 705,', 'total rental bikes is 4553,', 'total rental bikes is 7466,', 'total rental bikes is 1471,', 'total rental bikes is 4058,', 'total rental bikes is 795,', 'total rental bikes is 4714,', 'total rental bikes is 2302,', 'total rental bikes is 4098,', 'total rental bikes is 3761,', 'total rental bikes is 4839,', 'total rental bikes is 4333,', 'total rental bikes is 1536,', 'total rental bikes is 3389,', 'total rental bikes is 3117,', 'total rental bikes is 7865,', 'total rental bikes is 2660,']\n"
     ]
    },
    {
     "name": "stderr",
     "output_type": "stream",
     "text": [
      " 28%|██▊       | 284/1000 [02:02<06:53,  1.73it/s]"
     ]
    },
    {
     "name": "stdout",
     "output_type": "stream",
     "text": [
      "['total rental bikes is 4648,', 'total rental bikes is 2710,', 'total rental bikes is 5336,', 'total rental bikes is 6169,', 'total rental bikes is 5217,', 'total rental bikes is 2496,', 'total rental bikes is 1635,', 'total rental bikes is 7347,', 'total rental bikes is 5267,', 'total rental bikes is 3409,', 'total rental bikes is 2743,', 'total rental bikes is 6544,', 'total rental bikes is 3894,', 'total rental bikes is 4118,', 'total rental bikes is 4521,', 'total rental bikes is 4576,', 'total rental bikes is 1815,', 'total rental bikes is 4486,', 'total rental bikes is 795,', 'total rental bikes is 1589,', 'total rental bikes is 1607,', 'total rental bikes is 3351,', 'total rental bikes is 3744,', 'total rental bikes is 6273,', 'total rental bikes is 1107,', 'total rental bikes is 3214,', 'total rental bikes is 2425,', 'total rental bikes is 3387,', 'total rental bikes is 5102,', 'total rental bikes is 5531,', 'total rental bikes is 5895,', 'total rental bikes is 6664,', 'total rental bikes is 5169,', 'total rental bikes is 5923,', 'total rental bikes is 3811,', 'total rental bikes is 4318,', 'total rental bikes is 6034,', 'total rental bikes is 5119,', 'total rental bikes is 4266,', 'total rental bikes is 8227,', 'total rental bikes is 3068,', 'total rental bikes is 2566,', 'total rental bikes is 7109,', 'total rental bikes is 2743,', 'total rental bikes is 5041,', 'total rental bikes is 6871,', 'total rental bikes is 6830,', 'total rental bikes is 627,', 'total rental bikes is 3115,', 'total rental bikes is 4788,']\n"
     ]
    },
    {
     "name": "stderr",
     "output_type": "stream",
     "text": [
      " 29%|██▉       | 289/1000 [02:04<05:27,  2.17it/s]"
     ]
    },
    {
     "name": "stdout",
     "output_type": "stream",
     "text": [
      "['total rental bikes is 7720,', 'total rental bikes is 5464,', 'total rental bikes is 1834,', 'total rental bikes is 4758,', 'total rental bikes is 4906,', 'total rental bikes is 1162,', 'total rental bikes is 7582,', 'total rental bikes is 3761,', 'total rental bikes is 2028,', 'total rental bikes is 1461,', 'total rental bikes is 6855,', 'total rental bikes is 5260,', 'total rental bikes is 2843,', 'total rental bikes is 8156,', 'total rental bikes is 6312,', 'total rental bikes is 4758,', 'total rental bikes is 3894,', 'total rental bikes is 3372,', 'total rental bikes is 4748,', 'total rental bikes is 985,', 'total rental bikes is 2729,', 'total rental bikes is 7538,', 'total rental bikes is 6871,', 'total rental bikes is 2209,', 'total rental bikes is 1263,', 'total rental bikes is 1685,', 'total rental bikes is 605,', 'total rental bikes is 8362,', 'total rental bikes is 5217,', 'total rental bikes is 8156,', 'total rental bikes is 5336,', 'total rental bikes is 2028,', 'total rental bikes is 6883,', 'total rental bikes is 7264,', 'total rental bikes is 2134,', 'total rental bikes is 4068,', 'total rental bikes is 3163,', 'total rental bikes is 5459,', 'total rental bikes is 3163,', 'total rental bikes is 4066,', 'total rental bikes is 5495,', 'total rental bikes is 506,', 'total rental bikes is 7006,', 'total rental bikes is 3423,', 'total rental bikes is 3095,', 'total rental bikes is 5923,', 'total rental bikes is 5424,', 'total rental bikes is 1341,', 'total rental bikes is 5511,', 'total rental bikes is 6825,']\n"
     ]
    },
    {
     "name": "stderr",
     "output_type": "stream",
     "text": [
      " 29%|██▉       | 293/1000 [02:05<05:11,  2.27it/s]"
     ]
    },
    {
     "name": "stdout",
     "output_type": "stream",
     "text": [
      "['total rental bikes is 1550,', 'total rental bikes is 7013,', 'total rental bikes is 4511,', 'total rental bikes is 5686,', 'total rental bikes is 4765,', 'total rental bikes is 5847,', 'total rental bikes is 5585,', 'total rental bikes is 1606,', 'total rental bikes is 7767,', 'total rental bikes is 3805,', 'total rental bikes is 3267,', 'total rental bikes is 3709,', 'total rental bikes is 3709,', 'total rental bikes is 2134,', 'total rental bikes is 8395,', 'total rental bikes is 7736,', 'total rental bikes is 683,', 'total rental bikes is 6691,', 'total rental bikes is 4660,', 'total rental bikes is 3387,', 'total rental bikes is 4322,', 'total rental bikes is 6234,', 'total rental bikes is 5986,', 'total rental bikes is 3574,', 'total rental bikes is 6857,', 'total rental bikes is 5026,', 'total rental bikes is 4342,', 'total rental bikes is 5146,', 'total rental bikes is 7865,', 'total rental bikes is 6235,', 'total rental bikes is 4679,', 'total rental bikes is 5668,', 'total rental bikes is 6196,', 'total rental bikes is 7605,', 'total rental bikes is 3239,', 'total rental bikes is 7112,', 'total rental bikes is 1550,', 'total rental bikes is 3785,', 'total rental bikes is 1510,', 'total rental bikes is 1746,', 'total rental bikes is 1812,', 'total rental bikes is 5686,', 'total rental bikes is 6998,', 'total rental bikes is 5538,', 'total rental bikes is 1536,', 'total rental bikes is 5698,', 'total rental bikes is 6233,', 'total rental bikes is 4068,', 'total rental bikes is 6825,', 'total rental bikes is 1263,']\n"
     ]
    },
    {
     "name": "stderr",
     "output_type": "stream",
     "text": [
      " 30%|██▉       | 298/1000 [02:07<04:35,  2.55it/s]"
     ]
    },
    {
     "name": "stdout",
     "output_type": "stream",
     "text": [
      "['total rental bikes is 4677,', 'total rental bikes is 7639,', 'total rental bikes is 6133,', 'total rental bikes is 6031,', 'total rental bikes is 3915,', 'total rental bikes is 6234,', 'total rental bikes is 3894,', 'total rental bikes is 2429,', 'total rental bikes is 4459,', 'total rental bikes is 1607,', 'total rental bikes is 7733,', 'total rental bikes is 5786,', 'total rental bikes is 7504,', 'total rental bikes is 5312,', 'total rental bikes is 3786,', 'total rental bikes is 2227,', 'total rental bikes is 2121,', 'total rental bikes is 7286,', 'total rental bikes is 6196,', 'total rental bikes is 3487,', 'total rental bikes is 3387,', 'total rental bikes is 4067,', 'total rental bikes is 4338,', 'total rental bikes is 6861,', 'total rental bikes is 1589,', 'total rental bikes is 5923,', 'total rental bikes is 6043,', 'total rental bikes is 4507,', 'total rental bikes is 1096,', 'total rental bikes is 7494,', 'total rental bikes is 3194,', 'total rental bikes is 3623,', 'total rental bikes is 4911,', 'total rental bikes is 3910,', 'total rental bikes is 6569,', 'total rental bikes is 6043,', 'total rental bikes is 3285,', 'total rental bikes is 4795,', 'total rental bikes is 7504,', 'total rental bikes is 6153,', 'total rental bikes is 4352,', 'total rental bikes is 4708,', 'total rental bikes is 4486,', 'total rental bikes is 6153,', 'total rental bikes is 6861,', 'total rental bikes is 4378,', 'total rental bikes is 2077,', 'total rental bikes is 7691,', 'total rental bikes is 6660,', 'total rental bikes is 7384,']\n"
     ]
    },
    {
     "name": "stderr",
     "output_type": "stream",
     "text": [
      " 30%|██▉       | 299/1000 [02:08<05:53,  1.98it/s]"
     ]
    },
    {
     "name": "stdout",
     "output_type": "stream",
     "text": [
      "['total rental bikes is 7335,', 'total rental bikes is 6770,', 'total rental bikes is 5424,', 'total rental bikes is 3915,', 'total rental bikes is 6606,', 'total rental bikes is 6572,', 'total rental bikes is 4694,', 'total rental bikes is 3243,', 'total rental bikes is 3005,', 'total rental bikes is 2302,', 'total rental bikes is 4864,', 'total rental bikes is 2947,', 'total rental bikes is 4459,', 'total rental bikes is 6370,', 'total rental bikes is 6883,', 'total rental bikes is 1787,', 'total rental bikes is 1013,', 'total rental bikes is 5260,', 'total rental bikes is 7058,', 'total rental bikes is 4067,', 'total rental bikes is 4590,', 'total rental bikes is 2121,', 'total rental bikes is 2732,', 'total rental bikes is 2277,', 'total rental bikes is 6312,', 'total rental bikes is 2703,', 'total rental bikes is 2566,', 'total rental bikes is 7286,', 'total rental bikes is 7429,', 'total rental bikes is 1605,', 'total rental bikes is 2832,', 'total rental bikes is 3982,', 'total rental bikes is 4220,', 'total rental bikes is 4098,', 'total rental bikes is 7001,', 'total rental bikes is 6269,', 'total rental bikes is 5217,', 'total rental bikes is 6093,', 'total rental bikes is 4511,', 'total rental bikes is 7525,', 'total rental bikes is 5986,', 'total rental bikes is 5629,', 'total rental bikes is 4186,', 'total rental bikes is 3944,', 'total rental bikes is 5582,', 'total rental bikes is 6227,', 'total rental bikes is 3641,', 'total rental bikes is 5146,', 'total rental bikes is 5259,', 'total rental bikes is 7461,']\n"
     ]
    },
    {
     "name": "stderr",
     "output_type": "stream",
     "text": [
      " 30%|███       | 302/1000 [02:10<05:52,  1.98it/s]"
     ]
    },
    {
     "name": "stdout",
     "output_type": "stream",
     "text": [
      "['total rental bikes is 3624,', 'total rental bikes is 4996,', 'total rental bikes is 4189,', 'total rental bikes is 3641,', 'total rental bikes is 1005,', 'total rental bikes is 1891,', 'total rental bikes is 4401,', 'total rental bikes is 5084,', 'total rental bikes is 1685,', 'total rental bikes is 7605,', 'total rental bikes is 4332,', 'total rental bikes is 7333,', 'total rental bikes is 4458,', 'total rental bikes is 1011,', 'total rental bikes is 5531,', 'total rental bikes is 1977,', 'total rental bikes is 7112,', 'total rental bikes is 3830,', 'total rental bikes is 5305,', 'total rental bikes is 2192,', 'total rental bikes is 3777,', 'total rental bikes is 3830,', 'total rental bikes is 5117,', 'total rental bikes is 2689,', 'total rental bikes is 6296,', 'total rental bikes is 3956,', 'total rental bikes is 6779,', 'total rental bikes is 1301,', 'total rental bikes is 2729,', 'total rental bikes is 2177,', 'total rental bikes is 4205,', 'total rental bikes is 6192,', 'total rental bikes is 1650,', 'total rental bikes is 7001,', 'total rental bikes is 4459,', 'total rental bikes is 1204,', 'total rental bikes is 3761,', 'total rental bikes is 7148,', 'total rental bikes is 7290,', 'total rental bikes is 4058,', 'total rental bikes is 6779,', 'total rental bikes is 1530,', 'total rental bikes is 4595,', 'total rental bikes is 5010,', 'total rental bikes is 3239,', 'total rental bikes is 6855,', 'total rental bikes is 4046,', 'total rental bikes is 5058,', 'total rental bikes is 7347,', 'total rental bikes is 3805,']\n"
     ]
    },
    {
     "name": "stderr",
     "output_type": "stream",
     "text": [
      " 31%|███       | 307/1000 [02:11<04:55,  2.35it/s]"
     ]
    },
    {
     "name": "stdout",
     "output_type": "stream",
     "text": [
      "['total rental bikes is 4687,', 'total rental bikes is 5501,', 'total rental bikes is 6824,', 'total rental bikes is 7424,', 'total rental bikes is 1865,', 'total rental bikes is 2493,', 'total rental bikes is 4274,', 'total rental bikes is 6824,', 'total rental bikes is 2114,', 'total rental bikes is 4864,', 'total rental bikes is 2298,', 'total rental bikes is 4978,', 'total rental bikes is 1865,', 'total rental bikes is 7499,', 'total rental bikes is 4677,', 'total rental bikes is 6664,', 'total rental bikes is 6203,', 'total rental bikes is 3423,', 'total rental bikes is 3614,', 'total rental bikes is 3204,', 'total rental bikes is 2633,', 'total rental bikes is 6169,', 'total rental bikes is 1913,', 'total rental bikes is 4803,', 'total rental bikes is 4433,', 'total rental bikes is 4966,', 'total rental bikes is 7591,', 'total rental bikes is 981,', 'total rental bikes is 4359,', 'total rental bikes is 5729,', 'total rental bikes is 2496,', 'total rental bikes is 2417,', 'total rental bikes is 4569,', 'total rental bikes is 6233,', 'total rental bikes is 4630,', 'total rental bikes is 5041,', 'total rental bikes is 3613,', 'total rental bikes is 4669,', 'total rental bikes is 6031,', 'total rental bikes is 5728,', 'total rental bikes is 6883,', 'total rental bikes is 3785,', 'total rental bikes is 6530,', 'total rental bikes is 7865,', 'total rental bikes is 6041,', 'total rental bikes is 2252,', 'total rental bikes is 4010,', 'total rental bikes is 5267,', 'total rental bikes is 4010,', 'total rental bikes is 5107,']\n"
     ]
    },
    {
     "name": "stderr",
     "output_type": "stream",
     "text": [
      " 31%|███       | 311/1000 [02:13<04:46,  2.41it/s]"
     ]
    },
    {
     "name": "stdout",
     "output_type": "stream",
     "text": [
      "['total rental bikes is 7691,', 'total rental bikes is 1562,', 'total rental bikes is 2475,', 'total rental bikes is 6460,', 'total rental bikes is 3831,', 'total rental bikes is 7458,', 'total rental bikes is 4881,', 'total rental bikes is 5582,', 'total rental bikes is 7359,', 'total rental bikes is 4595,', 'total rental bikes is 2832,', 'total rental bikes is 7347,', 'total rental bikes is 6273,', 'total rental bikes is 5847,', 'total rental bikes is 7359,', 'total rental bikes is 3310,', 'total rental bikes is 5870,', 'total rental bikes is 8555,', 'total rental bikes is 6966,', 'total rental bikes is 4595,', 'total rental bikes is 3831,', 'total rental bikes is 441,', 'total rental bikes is 7534,', 'total rental bikes is 3959,', 'total rental bikes is 7030,', 'total rental bikes is 1815,', 'total rental bikes is 1787,', 'total rental bikes is 7359,', 'total rental bikes is 3129,', 'total rental bikes is 3830,', 'total rental bikes is 4153,', 'total rental bikes is 4773,', 'total rental bikes is 4118,', 'total rental bikes is 3403,', 'total rental bikes is 5115,', 'total rental bikes is 6591,', 'total rental bikes is 4765,', 'total rental bikes is 6133,', 'total rental bikes is 822,', 'total rental bikes is 4669,', 'total rental bikes is 4648,', 'total rental bikes is 6133,', 'total rental bikes is 7359,', 'total rental bikes is 2765,', 'total rental bikes is 3785,', 'total rental bikes is 8167,', 'total rental bikes is 4400,', 'total rental bikes is 4068,', 'total rental bikes is 1495,', 'total rental bikes is 5217,']\n"
     ]
    },
    {
     "name": "stderr",
     "output_type": "stream",
     "text": [
      " 32%|███▏      | 315/1000 [02:15<04:37,  2.47it/s]"
     ]
    },
    {
     "name": "stdout",
     "output_type": "stream",
     "text": [
      "['total rental bikes is 6824,', 'total rental bikes is 2417,', 'total rental bikes is 4274,', 'total rental bikes is 3855,', 'total rental bikes is 7639,', 'total rental bikes is 3485,', 'total rental bikes is 1787,', 'total rental bikes is 3520,', 'total rental bikes is 6133,', 'total rental bikes is 5585,', 'total rental bikes is 5668,', 'total rental bikes is 4475,', 'total rental bikes is 6639,', 'total rental bikes is 7641,', 'total rental bikes is 7572,', 'total rental bikes is 3272,', 'total rental bikes is 6565,', 'total rental bikes is 1683,', 'total rental bikes is 1796,', 'total rental bikes is 7466,', 'total rental bikes is 7870,', 'total rental bikes is 3214,', 'total rental bikes is 6857,', 'total rental bikes is 1851,', 'total rental bikes is 4866,', 'total rental bikes is 2077,', 'total rental bikes is 6398,', 'total rental bikes is 605,', 'total rental bikes is 4679,', 'total rental bikes is 6296,', 'total rental bikes is 3351,', 'total rental bikes is 3855,', 'total rental bikes is 3351,', 'total rental bikes is 7410,', 'total rental bikes is 6233,', 'total rental bikes is 1543,', 'total rental bikes is 4451,', 'total rental bikes is 4773,', 'total rental bikes is 5532,', 'total rental bikes is 5870,', 'total rental bikes is 5495,', 'total rental bikes is 1865,', 'total rental bikes is 3872,', 'total rental bikes is 4433,', 'total rental bikes is 4154,', 'total rental bikes is 5342,', 'total rental bikes is 5087,', 'total rental bikes is 4570,', 'total rental bikes is 3767,', 'total rental bikes is 7836,']\n"
     ]
    },
    {
     "name": "stderr",
     "output_type": "stream",
     "text": [
      " 32%|███▏      | 320/1000 [02:16<04:16,  2.66it/s]"
     ]
    },
    {
     "name": "stdout",
     "output_type": "stream",
     "text": [
      "['total rental bikes is 3958,', 'total rental bikes is 7415,', 'total rental bikes is 7641,', 'total rental bikes is 6269,', 'total rental bikes is 1341,', 'total rental bikes is 4322,', 'total rental bikes is 4840,', 'total rental bikes is 506,', 'total rental bikes is 3272,', 'total rental bikes is 4795,', 'total rental bikes is 3574,', 'total rental bikes is 3520,', 'total rental bikes is 3574,', 'total rental bikes is 1606,', 'total rental bikes is 4844,', 'total rental bikes is 3785,', 'total rental bikes is 4326,', 'total rental bikes is 7804,', 'total rental bikes is 3351,', 'total rental bikes is 6824,', 'total rental bikes is 6436,', 'total rental bikes is 7458,', 'total rental bikes is 2298,', 'total rental bikes is 3333,', 'total rental bikes is 5319,', 'total rental bikes is 2133,', 'total rental bikes is 1650,', 'total rental bikes is 4150,', 'total rental bikes is 7444,', 'total rental bikes is 7109,', 'total rental bikes is 4342,', 'total rental bikes is 4548,', 'total rental bikes is 5298,', 'total rental bikes is 6969,', 'total rental bikes is 4187,', 'total rental bikes is 6734,', 'total rental bikes is 1796,', 'total rental bikes is 6891,', 'total rental bikes is 6784,', 'total rental bikes is 4694,', 'total rental bikes is 5515,', 'total rental bikes is 4460,', 'total rental bikes is 6241,', 'total rental bikes is 4151,', 'total rental bikes is 4304,', 'total rental bikes is 4891,', 'total rental bikes is 2368,', 'total rental bikes is 5170,', 'total rental bikes is 4985,', 'total rental bikes is 5305,']\n"
     ]
    },
    {
     "name": "stderr",
     "output_type": "stream",
     "text": [
      " 33%|███▎      | 326/1000 [02:18<03:43,  3.01it/s]"
     ]
    },
    {
     "name": "stdout",
     "output_type": "stream",
     "text": [
      "['total rental bikes is 2432,', 'total rental bikes is 1796,', 'total rental bikes is 3368,', 'total rental bikes is 3785,', 'total rental bikes is 1000,', 'total rental bikes is 1600,', 'total rental bikes is 1607,', 'total rental bikes is 2162,', 'total rental bikes is 6786,', 'total rental bikes is 2177,', 'total rental bikes is 6093,', 'total rental bikes is 5918,', 'total rental bikes is 441,', 'total rental bikes is 5786,', 'total rental bikes is 5336,', 'total rental bikes is 7264,', 'total rental bikes is 3163,', 'total rental bikes is 6043,', 'total rental bikes is 8156,', 'total rental bikes is 4763,', 'total rental bikes is 6869,', 'total rental bikes is 2298,', 'total rental bikes is 5115,', 'total rental bikes is 3239,', 'total rental bikes is 2416,', 'total rental bikes is 7410,', 'total rental bikes is 2594,', 'total rental bikes is 6031,', 'total rental bikes is 7216,', 'total rental bikes is 4456,', 'total rental bikes is 6227,', 'total rental bikes is 3974,', 'total rental bikes is 2432,', 'total rental bikes is 4677,', 'total rental bikes is 3204,', 'total rental bikes is 4322,', 'total rental bikes is 4484,', 'total rental bikes is 1416,', 'total rental bikes is 6043,', 'total rental bikes is 6861,', 'total rental bikes is 2935,', 'total rental bikes is 6852,', 'total rental bikes is 6569,', 'total rental bikes is 3129,', 'total rental bikes is 4579,', 'total rental bikes is 1712,', 'total rental bikes is 3740,', 'total rental bikes is 7499,', 'total rental bikes is 4010,', 'total rental bikes is 1944,']\n"
     ]
    },
    {
     "name": "stderr",
     "output_type": "stream",
     "text": [
      " 33%|███▎      | 329/1000 [02:19<04:07,  2.71it/s]"
     ]
    },
    {
     "name": "stdout",
     "output_type": "stream",
     "text": [
      "['total rental bikes is 4195,', 'total rental bikes is 5870,', 'total rental bikes is 3372,', 'total rental bikes is 7424,', 'total rental bikes is 6978,', 'total rental bikes is 4258,', 'total rental bikes is 431,', 'total rental bikes is 2192,', 'total rental bikes is 7460,', 'total rental bikes is 6883,', 'total rental bikes is 4459,', 'total rental bikes is 5255,', 'total rental bikes is 4717,', 'total rental bikes is 6591,', 'total rental bikes is 3872,', 'total rental bikes is 4864,', 'total rental bikes is 1685,', 'total rental bikes is 1917,', 'total rental bikes is 5686,', 'total rental bikes is 1550,', 'total rental bikes is 4023,', 'total rental bikes is 1543,', 'total rental bikes is 5501,', 'total rental bikes is 4694,', 'total rental bikes is 6053,', 'total rental bikes is 5501,', 'total rental bikes is 3922,', 'total rental bikes is 4906,', 'total rental bikes is 6664,', 'total rental bikes is 6041,', 'total rental bikes is 1416,', 'total rental bikes is 5810,', 'total rental bikes is 3053,', 'total rental bikes is 7767,', 'total rental bikes is 4763,', 'total rental bikes is 8173,', 'total rental bikes is 2660,', 'total rental bikes is 3422,', 'total rental bikes is 2744,', 'total rental bikes is 920,', 'total rental bikes is 2177,', 'total rental bikes is 5362,', 'total rental bikes is 5538,', 'total rental bikes is 4891,', 'total rental bikes is 4073,', 'total rental bikes is 5895,', 'total rental bikes is 4105,', 'total rental bikes is 6597,', 'total rental bikes is 4120,', 'total rental bikes is 1510,']\n"
     ]
    },
    {
     "name": "stderr",
     "output_type": "stream",
     "text": [
      " 34%|███▎      | 335/1000 [02:21<03:36,  3.07it/s]"
     ]
    },
    {
     "name": "stdout",
     "output_type": "stream",
     "text": [
      "['total rental bikes is 4460,', 'total rental bikes is 1650,', 'total rental bikes is 1917,', 'total rental bikes is 4687,', 'total rental bikes is 4401,', 'total rental bikes is 8227,', 'total rental bikes is 4046,', 'total rental bikes is 8173,', 'total rental bikes is 3744,', 'total rental bikes is 4763,', 'total rental bikes is 1000,', 'total rental bikes is 7461,', 'total rental bikes is 2895,', 'total rental bikes is 3785,', 'total rental bikes is 7338,', 'total rental bikes is 2169,', 'total rental bikes is 3944,', 'total rental bikes is 4363,', 'total rental bikes is 4258,', 'total rental bikes is 7736,', 'total rental bikes is 5260,', 'total rental bikes is 7461,', 'total rental bikes is 6290,', 'total rental bikes is 4128,', 'total rental bikes is 1162,', 'total rental bikes is 2424,', 'total rental bikes is 6591,', 'total rental bikes is 2277,', 'total rental bikes is 4195,', 'total rental bikes is 3429,', 'total rental bikes is 1013,', 'total rental bikes is 7767,', 'total rental bikes is 3784,', 'total rental bikes is 7697,', 'total rental bikes is 4363,', 'total rental bikes is 2933,', 'total rental bikes is 7442,', 'total rental bikes is 5810,', 'total rental bikes is 3422,', 'total rental bikes is 920,', 'total rental bikes is 5204,', 'total rental bikes is 6978,', 'total rental bikes is 3574,', 'total rental bikes is 6883,', 'total rental bikes is 6889,', 'total rental bikes is 2475,', 'total rental bikes is 4118,', 'total rental bikes is 3005,', 'total rental bikes is 5698,', 'total rental bikes is 4864,']\n"
     ]
    },
    {
     "name": "stderr",
     "output_type": "stream",
     "text": [
      " 34%|███▍      | 338/1000 [02:22<04:06,  2.69it/s]"
     ]
    },
    {
     "name": "stdout",
     "output_type": "stream",
     "text": [
      "['total rental bikes is 7570,', 'total rental bikes is 4191,', 'total rental bikes is 3204,', 'total rental bikes is 5062,', 'total rental bikes is 7765,', 'total rental bikes is 4576,', 'total rental bikes is 7001,', 'total rental bikes is 5424,', 'total rental bikes is 985,', 'total rental bikes is 5146,', 'total rental bikes is 1913,', 'total rental bikes is 1977,', 'total rental bikes is 5992,', 'total rental bikes is 4332,', 'total rental bikes is 7641,', 'total rental bikes is 5020,', 'total rental bikes is 4917,', 'total rental bikes is 2659,', 'total rental bikes is 4803,', 'total rental bikes is 2423,', 'total rental bikes is 2594,', 'total rental bikes is 7466,', 'total rental bikes is 4826,', 'total rental bikes is 4758,', 'total rental bikes is 5345,', 'total rental bikes is 2947,', 'total rental bikes is 3095,', 'total rental bikes is 6192,', 'total rental bikes is 4169,', 'total rental bikes is 4068,', 'total rental bikes is 3641,', 'total rental bikes is 5459,', 'total rental bikes is 5312,', 'total rental bikes is 3785,', 'total rental bikes is 4788,', 'total rental bikes is 5255,', 'total rental bikes is 7444,', 'total rental bikes is 5323,', 'total rental bikes is 1461,', 'total rental bikes is 5062,', 'total rental bikes is 3846,', 'total rental bikes is 5743,', 'total rental bikes is 1985,', 'total rental bikes is 4833,', 'total rental bikes is 4585,', 'total rental bikes is 6770,', 'total rental bikes is 5180,', 'total rental bikes is 4304,', 'total rental bikes is 3767,', 'total rental bikes is 3922,']\n"
     ]
    },
    {
     "name": "stderr",
     "output_type": "stream",
     "text": [
      " 34%|███▍      | 343/1000 [02:24<03:51,  2.84it/s]"
     ]
    },
    {
     "name": "stdout",
     "output_type": "stream",
     "text": [
      "['total rental bikes is 4094,', 'total rental bikes is 4639,', 'total rental bikes is 8167,', 'total rental bikes is 1167,', 'total rental bikes is 4906,', 'total rental bikes is 6296,', 'total rental bikes is 1204,', 'total rental bikes is 3163,', 'total rental bikes is 2425,', 'total rental bikes is 5463,', 'total rental bikes is 4996,', 'total rental bikes is 4788,', 'total rental bikes is 3805,', 'total rental bikes is 5260,', 'total rental bikes is 4073,', 'total rental bikes is 6053,', 'total rental bikes is 6241,', 'total rental bikes is 3544,', 'total rental bikes is 7216,', 'total rental bikes is 2376,', 'total rental bikes is 5130,', 'total rental bikes is 3053,', 'total rental bikes is 6879,', 'total rental bikes is 3974,', 'total rental bikes is 3068,', 'total rental bikes is 6778,', 'total rental bikes is 3570,', 'total rental bikes is 5463,', 'total rental bikes is 4097,', 'total rental bikes is 6917,', 'total rental bikes is 3784,', 'total rental bikes is 1985,', 'total rental bikes is 3243,', 'total rental bikes is 4338,', 'total rental bikes is 1600,', 'total rental bikes is 1472,', 'total rental bikes is 5786,', 'total rental bikes is 3659,', 'total rental bikes is 2133,', 'total rental bikes is 4639,', 'total rental bikes is 2210,', 'total rental bikes is 3214,', 'total rental bikes is 2429,', 'total rental bikes is 4563,', 'total rental bikes is 5102,', 'total rental bikes is 7328,', 'total rental bikes is 6864,', 'total rental bikes is 3348,', 'total rental bikes is 4679,', 'total rental bikes is 4191,']\n"
     ]
    },
    {
     "name": "stderr",
     "output_type": "stream",
     "text": [
      " 34%|███▍      | 344/1000 [02:26<04:59,  2.19it/s]"
     ]
    },
    {
     "name": "stdout",
     "output_type": "stream",
     "text": [
      "['total rental bikes is 1360,', 'total rental bikes is 4169,', 'total rental bikes is 3331,', 'total rental bikes is 4780,', 'total rental bikes is 627,', 'total rental bikes is 5423,', 'total rental bikes is 4308,', 'total rental bikes is 7384,', 'total rental bikes is 4475,', 'total rental bikes is 3623,', 'total rental bikes is 2395,', 'total rental bikes is 7865,', 'total rental bikes is 2927,', 'total rental bikes is 4660,', 'total rental bikes is 3456,', 'total rental bikes is 1600,', 'total rental bikes is 2368,', 'total rental bikes is 5633,', 'total rental bikes is 1807,', 'total rental bikes is 3423,', 'total rental bikes is 1996,', 'total rental bikes is 4189,', 'total rental bikes is 7001,', 'total rental bikes is 4744,', 'total rental bikes is 7572,', 'total rental bikes is 5786,', 'total rental bikes is 6196,', 'total rental bikes is 1005,', 'total rental bikes is 5035,', 'total rental bikes is 2475,', 'total rental bikes is 7264,', 'total rental bikes is 2566,', 'total rental bikes is 4864,', 'total rental bikes is 7693,', 'total rental bikes is 6196,', 'total rental bikes is 2236,', 'total rental bikes is 7460,', 'total rental bikes is 6770,', 'total rental bikes is 3115,', 'total rental bikes is 4978,', 'total rental bikes is 3598,', 'total rental bikes is 6852,', 'total rental bikes is 8173,', 'total rental bikes is 5668,', 'total rental bikes is 4459,', 'total rental bikes is 7282,', 'total rental bikes is 2294,', 'total rental bikes is 5204,', 'total rental bikes is 5409,', 'total rental bikes is 3709,']\n"
     ]
    },
    {
     "name": "stderr",
     "output_type": "stream",
     "text": [
      " 34%|███▍      | 345/1000 [02:27<06:19,  1.73it/s]"
     ]
    },
    {
     "name": "stdout",
     "output_type": "stream",
     "text": [
      "['total rental bikes is 4940,', 'total rental bikes is 4274,', 'total rental bikes is 6857,', 'total rental bikes is 4803,', 'total rental bikes is 8167,', 'total rental bikes is 7907,', 'total rental bikes is 4669,', 'total rental bikes is 7105,', 'total rental bikes is 1406,', 'total rental bikes is 822,', 'total rental bikes is 8167,', 'total rental bikes is 2417,', 'total rental bikes is 7767,', 'total rental bikes is 8167,', 'total rental bikes is 5495,', 'total rental bikes is 2424,', 'total rental bikes is 6233,', 'total rental bikes is 2115,', 'total rental bikes is 1530,', 'total rental bikes is 795,', 'total rental bikes is 5786,', 'total rental bikes is 4760,', 'total rental bikes is 4917,', 'total rental bikes is 6864,', 'total rental bikes is 4630,', 'total rental bikes is 5099,', 'total rental bikes is 4541,', 'total rental bikes is 3623,', 'total rental bikes is 6207,', 'total rental bikes is 1623,', 'total rental bikes is 7001,', 'total rental bikes is 3005,', 'total rental bikes is 4068,', 'total rental bikes is 4367,', 'total rental bikes is 5312,', 'total rental bikes is 8156,', 'total rental bikes is 4833,', 'total rental bikes is 4758,', 'total rental bikes is 6889,', 'total rental bikes is 2425,', 'total rental bikes is 5146,', 'total rental bikes is 7175,', 'total rental bikes is 1416,', 'total rental bikes is 1562,', 'total rental bikes is 3820,', 'total rental bikes is 5202,', 'total rental bikes is 4541,', 'total rental bikes is 6304,', 'total rental bikes is 4679,', 'total rental bikes is 7580,']\n"
     ]
    },
    {
     "name": "stderr",
     "output_type": "stream",
     "text": [
      " 35%|███▍      | 349/1000 [02:29<05:23,  2.01it/s]"
     ]
    },
    {
     "name": "stdout",
     "output_type": "stream",
     "text": [
      "['total rental bikes is 4326,', 'total rental bikes is 2294,', 'total rental bikes is 1607,', 'total rental bikes is 4509,', 'total rental bikes is 4040,', 'total rental bikes is 6861,', 'total rental bikes is 4123,', 'total rental bikes is 1406,', 'total rental bikes is 7347,', 'total rental bikes is 4035,', 'total rental bikes is 6207,', 'total rental bikes is 2121,', 'total rental bikes is 4109,', 'total rental bikes is 4579,', 'total rental bikes is 7335,', 'total rental bikes is 5375,', 'total rental bikes is 1461,', 'total rental bikes is 2914,', 'total rental bikes is 2121,', 'total rental bikes is 4067,', 'total rental bikes is 1098,', 'total rental bikes is 1795,', 'total rental bikes is 2252,', 'total rental bikes is 6591,', 'total rental bikes is 4845,', 'total rental bikes is 6118,', 'total rental bikes is 5585,', 'total rental bikes is 2633,', 'total rental bikes is 2425,', 'total rental bikes is 4036,', 'total rental bikes is 1301,', 'total rental bikes is 959,', 'total rental bikes is 6569,', 'total rental bikes is 4629,', 'total rental bikes is 4073,', 'total rental bikes is 1891,', 'total rental bikes is 4687,', 'total rental bikes is 6883,', 'total rental bikes is 4040,', 'total rental bikes is 7261,', 'total rental bikes is 7001,', 'total rental bikes is 4120,', 'total rental bikes is 6073,', 'total rental bikes is 4363,', 'total rental bikes is 1167,', 'total rental bikes is 3784,', 'total rental bikes is 5217,', 'total rental bikes is 7836,', 'total rental bikes is 4191,', 'total rental bikes is 6591,']\n"
     ]
    },
    {
     "name": "stderr",
     "output_type": "stream",
     "text": [
      " 35%|███▌      | 352/1000 [02:30<05:26,  1.98it/s]"
     ]
    },
    {
     "name": "stdout",
     "output_type": "stream",
     "text": [
      "['total rental bikes is 5463,', 'total rental bikes is 3663,', 'total rental bikes is 2227,', 'total rental bikes is 3747,', 'total rental bikes is 7363,', 'total rental bikes is 3228,', 'total rental bikes is 1543,', 'total rental bikes is 7175,', 'total rental bikes is 4844,', 'total rental bikes is 795,', 'total rental bikes is 4066,', 'total rental bikes is 4182,', 'total rental bikes is 6861,', 'total rental bikes is 5459,', 'total rental bikes is 3907,', 'total rental bikes is 6891,', 'total rental bikes is 1011,', 'total rental bikes is 4996,', 'total rental bikes is 7132,', 'total rental bikes is 7458,', 'total rental bikes is 2471,', 'total rental bikes is 1693,', 'total rental bikes is 4098,', 'total rental bikes is 6133,', 'total rental bikes is 4803,', 'total rental bikes is 2431,', 'total rental bikes is 7290,', 'total rental bikes is 6211,', 'total rental bikes is 4073,', 'total rental bikes is 4075,', 'total rental bikes is 2132,', 'total rental bikes is 4189,', 'total rental bikes is 5315,', 'total rental bikes is 5668,', 'total rental bikes is 7592,', 'total rental bikes is 7105,', 'total rental bikes is 7333,', 'total rental bikes is 2425,', 'total rental bikes is 4339,', 'total rental bikes is 5259,', 'total rental bikes is 4765,', 'total rental bikes is 1562,', 'total rental bikes is 4010,', 'total rental bikes is 3958,', 'total rental bikes is 3926,', 'total rental bikes is 4713,', 'total rental bikes is 3510,', 'total rental bikes is 6230,', 'total rental bikes is 2376,', 'total rental bikes is 4891,']\n"
     ]
    },
    {
     "name": "stderr",
     "output_type": "stream",
     "text": [
      " 35%|███▌      | 354/1000 [02:32<06:08,  1.75it/s]"
     ]
    },
    {
     "name": "stdout",
     "output_type": "stream",
     "text": [
      "['total rental bikes is 5823,', 'total rental bikes is 6779,', 'total rental bikes is 7836,', 'total rental bikes is 5986,', 'total rental bikes is 431,', 'total rental bikes is 7534,', 'total rental bikes is 2496,', 'total rental bikes is 4509,', 'total rental bikes is 3228,', 'total rental bikes is 4826,', 'total rental bikes is 6392,', 'total rental bikes is 3214,', 'total rental bikes is 7347,', 'total rental bikes is 4521,', 'total rental bikes is 1536,', 'total rental bikes is 6235,', 'total rental bikes is 2133,', 'total rental bikes is 683,', 'total rental bikes is 5305,', 'total rental bikes is 1746,', 'total rental bikes is 2402,', 'total rental bikes is 5740,', 'total rental bikes is 6639,', 'total rental bikes is 7282,', 'total rental bikes is 4629,', 'total rental bikes is 4985,', 'total rental bikes is 6392,', 'total rental bikes is 4040,', 'total rental bikes is 3727,', 'total rental bikes is 3830,', 'total rental bikes is 3867,', 'total rental bikes is 4326,', 'total rental bikes is 3663,', 'total rental bikes is 2927,', 'total rental bikes is 5260,', 'total rental bikes is 6569,', 'total rental bikes is 2496,', 'total rental bikes is 4575,', 'total rental bikes is 4665,', 'total rental bikes is 1872,', 'total rental bikes is 1683,', 'total rental bikes is 5119,', 'total rental bikes is 5478,', 'total rental bikes is 4758,', 'total rental bikes is 4549,', 'total rental bikes is 4332,', 'total rental bikes is 1341,', 'total rental bikes is 4195,', 'total rental bikes is 4507,', 'total rental bikes is 1865,']\n"
     ]
    },
    {
     "name": "stderr",
     "output_type": "stream",
     "text": [
      " 36%|███▌      | 358/1000 [02:33<05:17,  2.02it/s]"
     ]
    },
    {
     "name": "stdout",
     "output_type": "stream",
     "text": [
      "['total rental bikes is 8173,', 'total rental bikes is 4098,', 'total rental bikes is 5805,', 'total rental bikes is 3644,', 'total rental bikes is 1529,', 'total rental bikes is 1530,', 'total rental bikes is 7582,', 'total rental bikes is 4486,', 'total rental bikes is 4195,', 'total rental bikes is 3520,', 'total rental bikes is 8294,', 'total rental bikes is 3846,', 'total rental bikes is 2177,', 'total rental bikes is 6421,', 'total rental bikes is 6233,', 'total rental bikes is 3372,', 'total rental bikes is 3982,', 'total rental bikes is 2739,', 'total rental bikes is 5870,', 'total rental bikes is 6852,', 'total rental bikes is 5084,', 'total rental bikes is 3129,', 'total rental bikes is 5315,', 'total rental bikes is 6230,', 'total rental bikes is 7592,', 'total rental bikes is 4996,', 'total rental bikes is 4127,', 'total rental bikes is 4785,', 'total rental bikes is 5611,', 'total rental bikes is 4990,', 'total rental bikes is 3272,', 'total rental bikes is 7572,', 'total rental bikes is 3761,', 'total rental bikes is 3117,', 'total rental bikes is 3958,', 'total rental bikes is 3761,', 'total rental bikes is 1536,', 'total rental bikes is 4205,', 'total rental bikes is 1834,', 'total rental bikes is 5138,', 'total rental bikes is 1796,', 'total rental bikes is 4433,', 'total rental bikes is 5423,', 'total rental bikes is 1807,', 'total rental bikes is 1985,', 'total rental bikes is 7335,', 'total rental bikes is 4433,', 'total rental bikes is 6861,', 'total rental bikes is 5260,', 'total rental bikes is 2493,']\n"
     ]
    },
    {
     "name": "stderr",
     "output_type": "stream",
     "text": [
      " 36%|███▋      | 364/1000 [02:35<04:08,  2.56it/s]"
     ]
    },
    {
     "name": "stdout",
     "output_type": "stream",
     "text": [
      "['total rental bikes is 7040,', 'total rental bikes is 4748,', 'total rental bikes is 6591,', 'total rental bikes is 4833,', 'total rental bikes is 4266,', 'total rental bikes is 4576,', 'total rental bikes is 5538,', 'total rental bikes is 2566,', 'total rental bikes is 5202,', 'total rental bikes is 3351,', 'total rental bikes is 4109,', 'total rental bikes is 6421,', 'total rental bikes is 3894,', 'total rental bikes is 3214,', 'total rental bikes is 4839,', 'total rental bikes is 3570,', 'total rental bikes is 2425,', 'total rental bikes is 1360,', 'total rental bikes is 7359,', 'total rental bikes is 8090,', 'total rental bikes is 3784,', 'total rental bikes is 5501,', 'total rental bikes is 5008,', 'total rental bikes is 4972,', 'total rental bikes is 6825,', 'total rental bikes is 8167,', 'total rental bikes is 6786,', 'total rental bikes is 7273,', 'total rental bikes is 3351,', 'total rental bikes is 4105,', 'total rental bikes is 4677,', 'total rental bikes is 3542,', 'total rental bikes is 2729,', 'total rental bikes is 6421,', 'total rental bikes is 1944,', 'total rental bikes is 5532,', 'total rental bikes is 5260,', 'total rental bikes is 4332,', 'total rental bikes is 7736,', 'total rental bikes is 1495,', 'total rental bikes is 3606,', 'total rental bikes is 5087,', 'total rental bikes is 1538,', 'total rental bikes is 5557,', 'total rental bikes is 7415,', 'total rental bikes is 4968,', 'total rental bikes is 5202,', 'total rental bikes is 1635,', 'total rental bikes is 4579,', 'total rental bikes is 5729,']\n",
      "['total rental bikes is 3623,', 'total rental bikes is 5923,', 'total rental bikes is 3649,', 'total rental bikes is 4656,', 'total rental bikes is 1977,', 'total rental bikes is 5225,', 'total rental bikes is 5336,', 'total rental bikes is 5687,', 'total rental bikes is 5936,', 'total rental bikes is 5532,', 'total rental bikes is 2765,', 'total rental bikes is 4744,', 'total rental bikes is 4602,', 'total rental bikes is 5099,', 'total rental bikes is 3873,', 'total rental bikes is 2368,', 'total rental bikes is 6664,', 'total rental bikes is 3071,', 'total rental bikes is 5611,', 'total rental bikes is 1746,', 'total rental bikes is 6370,', 'total rental bikes is 4322,', 'total rental bikes is 6772,', 'total rental bikes is 5260,', 'total rental bikes is 5986,', 'total rental bikes is 6685,', 'total rental bikes is 2913,', 'total rental bikes is 6772,', 'total rental bikes is 2999,', 'total rental bikes is 3740,', 'total rental bikes is 5463,', 'total rental bikes is 3750,', 'total rental bikes is 7424,', 'total rental bikes is 4629,', 'total rental bikes is 3956,', 'total rental bikes is 2744,', 'total rental bikes is 4906,', 'total rental bikes is 1683,', 'total rental bikes is 5463,', 'total rental bikes is 5119,', 'total rental bikes is 2416,', 'total rental bikes is 4839,', 'total rental bikes is 3910,', 'total rental bikes is 7013,', 'total rental bikes is 1865,', 'total rental bikes is 22,', 'total rental bikes is 7865,', 'total rental bikes is 4308,', 'total rental bikes is 3214,', 'total rental bikes is 7697,']\n"
     ]
    },
    {
     "name": "stderr",
     "output_type": "stream",
     "text": [
      " 37%|███▋      | 366/1000 [02:38<06:15,  1.69it/s]"
     ]
    },
    {
     "name": "stdout",
     "output_type": "stream",
     "text": [
      "['total rental bikes is 6691,', 'total rental bikes is 3830,', 'total rental bikes is 5538,', 'total rental bikes is 4844,', 'total rental bikes is 3747,', 'total rental bikes is 4169,', 'total rental bikes is 6230,', 'total rental bikes is 6852,', 'total rental bikes is 1708,', 'total rental bikes is 6421,', 'total rental bikes is 4511,', 'total rental bikes is 5138,', 'total rental bikes is 7375,', 'total rental bikes is 1096,', 'total rental bikes is 3239,', 'total rental bikes is 959,', 'total rental bikes is 5538,', 'total rental bikes is 1317,', 'total rental bikes is 1167,', 'total rental bikes is 7446,', 'total rental bikes is 4066,', 'total rental bikes is 3403,', 'total rental bikes is 5323,', 'total rental bikes is 3846,', 'total rental bikes is 4717,', 'total rental bikes is 1685,', 'total rental bikes is 6883,', 'total rental bikes is 4023,', 'total rental bikes is 7572,', 'total rental bikes is 5099,', 'total rental bikes is 4917,', 'total rental bikes is 1096,', 'total rental bikes is 4150,', 'total rental bikes is 4459,', 'total rental bikes is 4669,', 'total rental bikes is 6290,', 'total rental bikes is 7498,', 'total rental bikes is 6883,', 'total rental bikes is 5805,', 'total rental bikes is 3204,', 'total rental bikes is 7697,', 'total rental bikes is 5146,', 'total rental bikes is 1530,', 'total rental bikes is 986,', 'total rental bikes is 4780,', 'total rental bikes is 1913,', 'total rental bikes is 1536,', 'total rental bikes is 4023,', 'total rental bikes is 2298,', 'total rental bikes is 2927,']\n"
     ]
    },
    {
     "name": "stderr",
     "output_type": "stream",
     "text": [
      " 37%|███▋      | 371/1000 [02:39<05:03,  2.07it/s]"
     ]
    },
    {
     "name": "stdout",
     "output_type": "stream",
     "text": [
      "['total rental bikes is 4840,', 'total rental bikes is 1096,', 'total rental bikes is 4727,', 'total rental bikes is 3387,', 'total rental bikes is 6370,', 'total rental bikes is 3709,', 'total rental bikes is 4123,', 'total rental bikes is 6460,', 'total rental bikes is 4602,', 'total rental bikes is 5532,', 'total rental bikes is 3777,', 'total rental bikes is 3292,', 'total rental bikes is 6861,', 'total rental bikes is 1807,', 'total rental bikes is 2808,', 'total rental bikes is 5786,', 'total rental bikes is 4916,', 'total rental bikes is 4058,', 'total rental bikes is 1416,', 'total rental bikes is 7907,', 'total rental bikes is 7446,', 'total rental bikes is 5572,', 'total rental bikes is 5532,', 'total rental bikes is 4169,', 'total rental bikes is 3620,', 'total rental bikes is 4098,', 'total rental bikes is 3867,', 'total rental bikes is 3830,', 'total rental bikes is 4105,', 'total rental bikes is 2455,', 'total rental bikes is 4906,', 'total rental bikes is 3649,', 'total rental bikes is 7055,', 'total rental bikes is 7415,', 'total rental bikes is 5823,', 'total rental bikes is 5345,', 'total rental bikes is 5315,', 'total rental bikes is 3750,', 'total rental bikes is 4541,', 'total rental bikes is 2431,', 'total rental bikes is 6460,', 'total rental bikes is 5041,', 'total rental bikes is 5115,', 'total rental bikes is 5668,', 'total rental bikes is 4433,', 'total rental bikes is 1842,', 'total rental bikes is 7446,', 'total rental bikes is 7494,', 'total rental bikes is 4765,', 'total rental bikes is 4401,']\n"
     ]
    },
    {
     "name": "stderr",
     "output_type": "stream",
     "text": [
      " 38%|███▊      | 376/1000 [02:41<04:27,  2.33it/s]"
     ]
    },
    {
     "name": "stdout",
     "output_type": "stream",
     "text": [
      "['total rental bikes is 4780,', 'total rental bikes is 3351,', 'total rental bikes is 2046,', 'total rental bikes is 3614,', 'total rental bikes is 3940,', 'total rental bikes is 6734,', 'total rental bikes is 4905,', 'total rental bikes is 1096,', 'total rental bikes is 6043,', 'total rental bikes is 4195,', 'total rental bikes is 2947,', 'total rental bikes is 2376,', 'total rental bikes is 4118,', 'total rental bikes is 6891,', 'total rental bikes is 4687,', 'total rental bikes is 981,', 'total rental bikes is 1872,', 'total rental bikes is 4694,', 'total rental bikes is 6685,', 'total rental bikes is 1872,', 'total rental bikes is 4590,', 'total rental bikes is 4788,', 'total rental bikes is 3907,', 'total rental bikes is 5298,', 'total rental bikes is 7444,', 'total rental bikes is 1162,', 'total rental bikes is 986,', 'total rental bikes is 3644,', 'total rental bikes is 4067,', 'total rental bikes is 7129,', 'total rental bikes is 6591,', 'total rental bikes is 6370,', 'total rental bikes is 7641,', 'total rental bikes is 2765,', 'total rental bikes is 5936,', 'total rental bikes is 6966,', 'total rental bikes is 2424,', 'total rental bikes is 5146,', 'total rental bikes is 3523,', 'total rental bikes is 6572,', 'total rental bikes is 2927,', 'total rental bikes is 4765,', 'total rental bikes is 1317,', 'total rental bikes is 6296,', 'total rental bikes is 3005,', 'total rental bikes is 5445,', 'total rental bikes is 4649,', 'total rental bikes is 4539,', 'total rental bikes is 1865,', 'total rental bikes is 4294,']\n"
     ]
    },
    {
     "name": "stderr",
     "output_type": "stream",
     "text": [
      " 38%|███▊      | 381/1000 [02:43<03:58,  2.59it/s]"
     ]
    },
    {
     "name": "stdout",
     "output_type": "stream",
     "text": [
      "['total rental bikes is 6053,', 'total rental bikes is 5633,', 'total rental bikes is 4917,', 'total rental bikes is 2425,', 'total rental bikes is 1685,', 'total rental bikes is 7494,', 'total rental bikes is 7338,', 'total rental bikes is 6824,', 'total rental bikes is 5870,', 'total rental bikes is 4332,', 'total rental bikes is 7290,', 'total rental bikes is 7363,', 'total rental bikes is 2660,', 'total rental bikes is 1605,', 'total rental bikes is 1650,', 'total rental bikes is 3956,', 'total rental bikes is 6734,', 'total rental bikes is 7058,', 'total rental bikes is 6861,', 'total rental bikes is 3214,', 'total rental bikes is 22,', 'total rental bikes is 1951,', 'total rental bikes is 6998,', 'total rental bikes is 1685,', 'total rental bikes is 3620,', 'total rental bikes is 6140,', 'total rental bikes is 7836,', 'total rental bikes is 4182,', 'total rental bikes is 6786,', 'total rental bikes is 3811,', 'total rental bikes is 1301,', 'total rental bikes is 6536,', 'total rental bikes is 5464,', 'total rental bikes is 4154,', 'total rental bikes is 3425,', 'total rental bikes is 3487,', 'total rental bikes is 6869,', 'total rental bikes is 6786,', 'total rental bikes is 5117,', 'total rental bikes is 6312,', 'total rental bikes is 5905,', 'total rental bikes is 4511,', 'total rental bikes is 5478,', 'total rental bikes is 4985,', 'total rental bikes is 4833,', 'total rental bikes is 1927,', 'total rental bikes is 6304,', 'total rental bikes is 7702,', 'total rental bikes is 3544,', 'total rental bikes is 6530,']\n"
     ]
    },
    {
     "name": "stderr",
     "output_type": "stream",
     "text": [
      " 39%|███▊      | 387/1000 [02:44<03:26,  2.97it/s]"
     ]
    },
    {
     "name": "stdout",
     "output_type": "stream",
     "text": [
      "['total rental bikes is 5062,', 'total rental bikes is 959,', 'total rental bikes is 3348,', 'total rental bikes is 5102,', 'total rental bikes is 5302,', 'total rental bikes is 2077,', 'total rental bikes is 5668,', 'total rental bikes is 4905,', 'total rental bikes is 3544,', 'total rental bikes is 6169,', 'total rental bikes is 4990,', 'total rental bikes is 4509,', 'total rental bikes is 1013,', 'total rental bikes is 7410,', 'total rental bikes is 801,', 'total rental bikes is 6664,', 'total rental bikes is 7965,', 'total rental bikes is 3644,', 'total rental bikes is 1795,', 'total rental bikes is 2416,', 'total rental bikes is 3351,', 'total rental bikes is 2947,', 'total rental bikes is 6624,', 'total rental bikes is 4792,', 'total rental bikes is 801,', 'total rental bikes is 5047,', 'total rental bikes is 985,', 'total rental bikes is 1913,', 'total rental bikes is 3351,', 'total rental bikes is 4127,', 'total rental bikes is 7767,', 'total rental bikes is 3523,', 'total rental bikes is 4826,', 'total rental bikes is 2395,', 'total rental bikes is 6034,', 'total rental bikes is 7286,', 'total rental bikes is 1746,', 'total rental bikes is 5315,', 'total rental bikes is 5298,', 'total rental bikes is 981,', 'total rental bikes is 1685,', 'total rental bikes is 4713,', 'total rental bikes is 1842,', 'total rental bikes is 3786,', 'total rental bikes is 7720,', 'total rental bikes is 7359,', 'total rental bikes is 5084,', 'total rental bikes is 2792,', 'total rental bikes is 3368,', 'total rental bikes is 7870,']\n"
     ]
    },
    {
     "name": "stderr",
     "output_type": "stream",
     "text": [
      " 39%|███▉      | 392/1000 [02:46<03:17,  3.08it/s]"
     ]
    },
    {
     "name": "stdout",
     "output_type": "stream",
     "text": [
      "['total rental bikes is 1263,', 'total rental bikes is 7965,', 'total rental bikes is 4153,', 'total rental bikes is 5936,', 'total rental bikes is 4864,', 'total rental bikes is 4511,', 'total rental bikes is 1589,', 'total rental bikes is 4826,', 'total rental bikes is 1526,', 'total rental bikes is 1096,', 'total rental bikes is 7767,', 'total rental bikes is 2115,', 'total rental bikes is 6392,', 'total rental bikes is 5170,', 'total rental bikes is 795,', 'total rental bikes is 7410,', 'total rental bikes is 5463,', 'total rental bikes is 3873,', 'total rental bikes is 5918,', 'total rental bikes is 4040,', 'total rental bikes is 3922,', 'total rental bikes is 4118,', 'total rental bikes is 1526,', 'total rental bikes is 3239,', 'total rental bikes is 3333,', 'total rental bikes is 4785,', 'total rental bikes is 7273,', 'total rental bikes is 4459,', 'total rental bikes is 7264,', 'total rental bikes is 2424,', 'total rental bikes is 5305,', 'total rental bikes is 1098,', 'total rental bikes is 3249,', 'total rental bikes is 2739,', 'total rental bikes is 1005,', 'total rental bikes is 4862,', 'total rental bikes is 5728,', 'total rental bikes is 6969,', 'total rental bikes is 6235,', 'total rental bikes is 4708,', 'total rental bikes is 1977,', 'total rental bikes is 4187,', 'total rental bikes is 1749,', 'total rental bikes is 3959,', 'total rental bikes is 4758,', 'total rental bikes is 7359,', 'total rental bikes is 5362,', 'total rental bikes is 5728,', 'total rental bikes is 4795,', 'total rental bikes is 3331,']\n"
     ]
    },
    {
     "name": "stderr",
     "output_type": "stream",
     "text": [
      " 39%|███▉      | 394/1000 [02:47<03:58,  2.54it/s]"
     ]
    },
    {
     "name": "stdout",
     "output_type": "stream",
     "text": [
      "['total rental bikes is 623,', 'total rental bikes is 6883,', 'total rental bikes is 1607,', 'total rental bikes is 1913,', 'total rental bikes is 4475,', 'total rental bikes is 4539,', 'total rental bikes is 5810,', 'total rental bikes is 3915,', 'total rental bikes is 4758,', 'total rental bikes is 7461,', 'total rental bikes is 5170,', 'total rental bikes is 5743,', 'total rental bikes is 7129,', 'total rental bikes is 986,', 'total rental bikes is 4381,', 'total rental bikes is 4068,', 'total rental bikes is 5146,', 'total rental bikes is 4985,', 'total rental bikes is 5847,', 'total rental bikes is 4097,', 'total rental bikes is 8395,', 'total rental bikes is 3982,', 'total rental bikes is 5847,', 'total rental bikes is 6852,', 'total rental bikes is 5698,', 'total rental bikes is 4760,', 'total rental bikes is 3095,', 'total rental bikes is 7582,', 'total rental bikes is 1891,', 'total rental bikes is 3368,', 'total rental bikes is 5823,', 'total rental bikes is 5478,', 'total rental bikes is 4717,', 'total rental bikes is 6825,', 'total rental bikes is 4318,', 'total rental bikes is 6664,', 'total rental bikes is 3214,', 'total rental bikes is 3292,', 'total rental bikes is 6883,', 'total rental bikes is 1685,', 'total rental bikes is 4390,', 'total rental bikes is 4687,', 'total rental bikes is 1013,', 'total rental bikes is 3659,', 'total rental bikes is 6169,', 'total rental bikes is 5362,', 'total rental bikes is 2739,', 'total rental bikes is 4649,', 'total rental bikes is 1162,', 'total rental bikes is 5501,']\n"
     ]
    },
    {
     "name": "stderr",
     "output_type": "stream",
     "text": [
      " 40%|███▉      | 395/1000 [02:49<05:03,  2.00it/s]"
     ]
    },
    {
     "name": "stdout",
     "output_type": "stream",
     "text": [
      "['total rental bikes is 2808,', 'total rental bikes is 7499,', 'total rental bikes is 5058,', 'total rental bikes is 4302,', 'total rental bikes is 1349,', 'total rental bikes is 4826,', 'total rental bikes is 1027,', 'total rental bikes is 7333,', 'total rental bikes is 4362,', 'total rental bikes is 4725,', 'total rental bikes is 3785,', 'total rental bikes is 5202,', 'total rental bikes is 6392,', 'total rental bikes is 1013,', 'total rental bikes is 2496,', 'total rental bikes is 623,', 'total rental bikes is 2594,', 'total rental bikes is 1977,', 'total rental bikes is 4342,', 'total rental bikes is 5026,', 'total rental bikes is 1985,', 'total rental bikes is 6530,', 'total rental bikes is 6572,', 'total rental bikes is 4991,', 'total rental bikes is 1162,', 'total rental bikes is 1495,', 'total rental bikes is 6093,', 'total rental bikes is 7286,', 'total rental bikes is 8714,', 'total rental bikes is 3855,', 'total rental bikes is 1985,', 'total rental bikes is 2792,', 'total rental bikes is 4150,', 'total rental bikes is 4595,', 'total rental bikes is 4191,', 'total rental bikes is 2417,', 'total rental bikes is 3577,', 'total rental bikes is 6241,', 'total rental bikes is 4911,', 'total rental bikes is 4996,', 'total rental bikes is 1607,', 'total rental bikes is 3926,', 'total rental bikes is 5084,', 'total rental bikes is 6031,', 'total rental bikes is 7580,', 'total rental bikes is 5870,', 'total rental bikes is 7460,', 'total rental bikes is 3510,', 'total rental bikes is 3429,', 'total rental bikes is 2792,']\n"
     ]
    },
    {
     "name": "stderr",
     "output_type": "stream",
     "text": [
      " 40%|███▉      | 398/1000 [02:50<05:05,  1.97it/s]"
     ]
    },
    {
     "name": "stdout",
     "output_type": "stream",
     "text": [
      "['total rental bikes is 6031,', 'total rental bikes is 4665,', 'total rental bikes is 2169,', 'total rental bikes is 2425,', 'total rental bikes is 7504,', 'total rental bikes is 6770,', 'total rental bikes is 4342,', 'total rental bikes is 2729,', 'total rental bikes is 7591,', 'total rental bikes is 4270,', 'total rental bikes is 6591,', 'total rental bikes is 6998,', 'total rental bikes is 4991,', 'total rental bikes is 8167,', 'total rental bikes is 7384,', 'total rental bikes is 5062,', 'total rental bikes is 5260,', 'total rental bikes is 5041,', 'total rental bikes is 4790,', 'total rental bikes is 5463,', 'total rental bikes is 4326,', 'total rental bikes is 6196,', 'total rental bikes is 1530,', 'total rental bikes is 7582,', 'total rental bikes is 3243,', 'total rental bikes is 5786,', 'total rental bikes is 6312,', 'total rental bikes is 1842,', 'total rental bikes is 4118,', 'total rental bikes is 3368,', 'total rental bikes is 4068,', 'total rental bikes is 3310,', 'total rental bikes is 5870,', 'total rental bikes is 6192,', 'total rental bikes is 2424,', 'total rental bikes is 7720,', 'total rental bikes is 6133,', 'total rental bikes is 4128,', 'total rental bikes is 7105,', 'total rental bikes is 2493,', 'total rental bikes is 2431,', 'total rental bikes is 6786,', 'total rental bikes is 5041,', 'total rental bikes is 3574,', 'total rental bikes is 5424,', 'total rental bikes is 4451,', 'total rental bikes is 7273,', 'total rental bikes is 3830,', 'total rental bikes is 3423,', 'total rental bikes is 5557,']\n"
     ]
    },
    {
     "name": "stderr",
     "output_type": "stream",
     "text": [
      " 40%|████      | 404/1000 [02:52<03:53,  2.55it/s]"
     ]
    },
    {
     "name": "stdout",
     "output_type": "stream",
     "text": [
      "['total rental bikes is 7384,', 'total rental bikes is 2729,', 'total rental bikes is 1834,', 'total rental bikes is 6233,', 'total rental bikes is 6879,', 'total rental bikes is 3649,', 'total rental bikes is 7055,', 'total rental bikes is 2298,', 'total rental bikes is 5302,', 'total rental bikes is 4187,', 'total rental bikes is 2947,', 'total rental bikes is 4195,', 'total rental bikes is 5936,', 'total rental bikes is 4458,', 'total rental bikes is 4195,', 'total rental bikes is 6852,', 'total rental bikes is 3974,', 'total rental bikes is 2496,', 'total rental bikes is 6235,', 'total rental bikes is 5255,', 'total rental bikes is 3570,', 'total rental bikes is 4375,', 'total rental bikes is 3520,', 'total rental bikes is 6312,', 'total rental bikes is 7282,', 'total rental bikes is 6685,', 'total rental bikes is 3423,', 'total rental bikes is 4075,', 'total rental bikes is 3510,', 'total rental bikes is 7105,', 'total rental bikes is 2732,', 'total rental bikes is 4660,', 'total rental bikes is 4195,', 'total rental bikes is 822,', 'total rental bikes is 4917,', 'total rental bikes is 2918,', 'total rental bikes is 3239,', 'total rental bikes is 3376,', 'total rental bikes is 2209,', 'total rental bikes is 4669,', 'total rental bikes is 2808,', 'total rental bikes is 4075,', 'total rental bikes is 3846,', 'total rental bikes is 6398,', 'total rental bikes is 4258,', 'total rental bikes is 2832,', 'total rental bikes is 3872,', 'total rental bikes is 5905,', 'total rental bikes is 2424,', 'total rental bikes is 4010,']\n"
     ]
    },
    {
     "name": "stderr",
     "output_type": "stream",
     "text": [
      " 40%|████      | 405/1000 [02:53<05:00,  1.98it/s]"
     ]
    },
    {
     "name": "stdout",
     "output_type": "stream",
     "text": [
      "['total rental bikes is 5585,', 'total rental bikes is 5409,', 'total rental bikes is 5047,', 'total rental bikes is 7363,', 'total rental bikes is 4220,', 'total rental bikes is 7424,', 'total rental bikes is 3141,', 'total rental bikes is 6544,', 'total rental bikes is 6591,', 'total rental bikes is 5478,', 'total rental bikes is 3425,', 'total rental bikes is 1977,', 'total rental bikes is 1865,', 'total rental bikes is 1115,', 'total rental bikes is 5180,', 'total rental bikes is 2471,', 'total rental bikes is 3606,', 'total rental bikes is 1341,', 'total rental bikes is 4672,', 'total rental bikes is 5298,', 'total rental bikes is 7534,', 'total rental bikes is 8156,', 'total rental bikes is 2947,', 'total rental bikes is 3126,', 'total rental bikes is 1815,', 'total rental bikes is 4186,', 'total rental bikes is 6421,', 'total rental bikes is 5463,', 'total rental bikes is 4195,', 'total rental bikes is 5010,', 'total rental bikes is 3285,', 'total rental bikes is 2475,', 'total rental bikes is 7458,', 'total rental bikes is 4075,', 'total rental bikes is 5992,', 'total rental bikes is 5298,', 'total rental bikes is 3425,', 'total rental bikes is 5323,', 'total rental bikes is 8395,', 'total rental bikes is 6241,', 'total rental bikes is 3623,', 'total rental bikes is 7058,', 'total rental bikes is 4661,', 'total rental bikes is 1000,', 'total rental bikes is 3190,', 'total rental bikes is 5084,', 'total rental bikes is 1834,', 'total rental bikes is 4840,', 'total rental bikes is 2162,', 'total rental bikes is 2710,']\n"
     ]
    },
    {
     "name": "stderr",
     "output_type": "stream",
     "text": [
      " 41%|████      | 407/1000 [02:55<05:47,  1.71it/s]"
     ]
    },
    {
     "name": "stdout",
     "output_type": "stream",
     "text": [
      "['total rental bikes is 6192,', 'total rental bikes is 6299,', 'total rental bikes is 5847,', 'total rental bikes is 3910,', 'total rental bikes is 4990,', 'total rental bikes is 3956,', 'total rental bikes is 4274,', 'total rental bikes is 5267,', 'total rental bikes is 1795,', 'total rental bikes is 5191,', 'total rental bikes is 6784,', 'total rental bikes is 4978,', 'total rental bikes is 7058,', 'total rental bikes is 5698,', 'total rental bikes is 7421,', 'total rental bikes is 6211,', 'total rental bikes is 4266,', 'total rental bikes is 4023,', 'total rental bikes is 4036,', 'total rental bikes is 1406,', 'total rental bikes is 6861,', 'total rental bikes is 3129,', 'total rental bikes is 7713,', 'total rental bikes is 5892,', 'total rental bikes is 2162,', 'total rental bikes is 6043,', 'total rental bikes is 5382,', 'total rental bikes is 1749,', 'total rental bikes is 4073,', 'total rental bikes is 7421,', 'total rental bikes is 1471,', 'total rental bikes is 3846,', 'total rental bikes is 6598,', 'total rental bikes is 1589,', 'total rental bikes is 1550,', 'total rental bikes is 4576,', 'total rental bikes is 1589,', 'total rental bikes is 3423,', 'total rental bikes is 1977,', 'total rental bikes is 3894,', 'total rental bikes is 5323,', 'total rental bikes is 627,', 'total rental bikes is 5532,', 'total rental bikes is 5298,', 'total rental bikes is 7639,', 'total rental bikes is 3272,', 'total rental bikes is 4128,', 'total rental bikes is 441,', 'total rental bikes is 3272,', 'total rental bikes is 4097,']\n"
     ]
    },
    {
     "name": "stderr",
     "output_type": "stream",
     "text": [
      " 41%|████▏     | 414/1000 [02:57<03:51,  2.53it/s]"
     ]
    },
    {
     "name": "stdout",
     "output_type": "stream",
     "text": [
      "['total rental bikes is 1321,', 'total rental bikes is 7697,', 'total rental bikes is 4677,', 'total rental bikes is 5260,', 'total rental bikes is 2947,', 'total rental bikes is 3620,', 'total rental bikes is 2402,', 'total rental bikes is 3423,', 'total rental bikes is 5698,', 'total rental bikes is 4891,', 'total rental bikes is 1650,', 'total rental bikes is 6041,', 'total rental bikes is 2935,', 'total rental bikes is 7335,', 'total rental bikes is 6779,', 'total rental bikes is 3351,', 'total rental bikes is 6691,', 'total rental bikes is 3239,', 'total rental bikes is 4182,', 'total rental bikes is 6883,', 'total rental bikes is 7415,', 'total rental bikes is 6770,', 'total rental bikes is 6133,', 'total rental bikes is 4075,', 'total rental bikes is 3784,', 'total rental bikes is 7691,', 'total rental bikes is 5255,', 'total rental bikes is 6824,', 'total rental bikes is 5180,', 'total rental bikes is 431,', 'total rental bikes is 1708,', 'total rental bikes is 4433,', 'total rental bikes is 6370,', 'total rental bikes is 1005,', 'total rental bikes is 2947,', 'total rental bikes is 3907,', 'total rental bikes is 7865,', 'total rental bikes is 7384,', 'total rental bikes is 7347,', 'total rental bikes is 4694,', 'total rental bikes is 4575,', 'total rental bikes is 2121,', 'total rental bikes is 7605,', 'total rental bikes is 4758,', 'total rental bikes is 5169,', 'total rental bikes is 4780,', 'total rental bikes is 7572,', 'total rental bikes is 5895,', 'total rental bikes is 2935,', 'total rental bikes is 6053,']\n"
     ]
    },
    {
     "name": "stderr",
     "output_type": "stream",
     "text": [
      " 42%|████▏     | 420/1000 [02:58<03:19,  2.90it/s]"
     ]
    },
    {
     "name": "stdout",
     "output_type": "stream",
     "text": [
      "['total rental bikes is 5847,', 'total rental bikes is 3429,', 'total rental bikes is 5698,', 'total rental bikes is 6043,', 'total rental bikes is 2162,', 'total rental bikes is 1543,', 'total rental bikes is 6606,', 'total rental bikes is 5585,', 'total rental bikes is 5875,', 'total rental bikes is 3624,', 'total rental bikes is 5463,', 'total rental bikes is 2703,', 'total rental bikes is 3542,', 'total rental bikes is 6569,', 'total rental bikes is 6772,', 'total rental bikes is 4826,', 'total rental bikes is 1301,', 'total rental bikes is 6312,', 'total rental bikes is 1607,', 'total rental bikes is 5698,', 'total rental bikes is 4186,', 'total rental bikes is 8395,', 'total rental bikes is 3544,', 'total rental bikes is 3239,', 'total rental bikes is 5875,', 'total rental bikes is 5342,', 'total rental bikes is 3606,', 'total rental bikes is 1817,', 'total rental bikes is 3840,', 'total rental bikes is 5629,', 'total rental bikes is 1204,', 'total rental bikes is 5260,', 'total rental bikes is 7129,', 'total rental bikes is 1842,', 'total rental bikes is 6772,', 'total rental bikes is 7591,', 'total rental bikes is 2077,', 'total rental bikes is 1107,', 'total rental bikes is 4475,', 'total rental bikes is 7129,', 'total rental bikes is 1693,', 'total rental bikes is 4549,', 'total rental bikes is 7055,', 'total rental bikes is 7273,', 'total rental bikes is 1098,', 'total rental bikes is 4966,', 'total rental bikes is 5302,', 'total rental bikes is 4375,', 'total rental bikes is 7461,', 'total rental bikes is 3570,']\n"
     ]
    },
    {
     "name": "stderr",
     "output_type": "stream",
     "text": [
      " 42%|████▏     | 422/1000 [03:00<03:57,  2.43it/s]"
     ]
    },
    {
     "name": "stdout",
     "output_type": "stream",
     "text": [
      "['total rental bikes is 2236,', 'total rental bikes is 6598,', 'total rental bikes is 3243,', 'total rental bikes is 5572,', 'total rental bikes is 7697,', 'total rental bikes is 5585,', 'total rental bikes is 4866,', 'total rental bikes is 4182,', 'total rental bikes is 4758,', 'total rental bikes is 6031,', 'total rental bikes is 4978,', 'total rental bikes is 4940,', 'total rental bikes is 7534,', 'total rental bikes is 4714,', 'total rental bikes is 4128,', 'total rental bikes is 4585,', 'total rental bikes is 4549,', 'total rental bikes is 3641,', 'total rental bikes is 5698,', 'total rental bikes is 7870,', 'total rental bikes is 2689,', 'total rental bikes is 1115,', 'total rental bikes is 4911,', 'total rental bikes is 7429,', 'total rental bikes is 6233,', 'total rental bikes is 5345,', 'total rental bikes is 8167,', 'total rental bikes is 4634,', 'total rental bikes is 6421,', 'total rental bikes is 7852,', 'total rental bikes is 7359,', 'total rental bikes is 5107,', 'total rental bikes is 6227,', 'total rental bikes is 4548,', 'total rental bikes is 1605,', 'total rental bikes is 4985,', 'total rental bikes is 4332,', 'total rental bikes is 5499,', 'total rental bikes is 2028,', 'total rental bikes is 4906,', 'total rental bikes is 5805,', 'total rental bikes is 5302,', 'total rental bikes is 6565,', 'total rental bikes is 3785,', 'total rental bikes is 4118,', 'total rental bikes is 1536,', 'total rental bikes is 6436,', 'total rental bikes is 1996,', 'total rental bikes is 7639,', 'total rental bikes is 4186,']\n"
     ]
    },
    {
     "name": "stderr",
     "output_type": "stream",
     "text": [
      " 42%|████▏     | 424/1000 [03:01<04:37,  2.08it/s]"
     ]
    },
    {
     "name": "stdout",
     "output_type": "stream",
     "text": [
      "['total rental bikes is 7375,', 'total rental bikes is 6457,', 'total rental bikes is 2703,', 'total rental bikes is 4679,', 'total rental bikes is 2424,', 'total rental bikes is 6889,', 'total rental bikes is 4304,', 'total rental bikes is 1162,', 'total rental bikes is 4475,', 'total rental bikes is 3333,', 'total rental bikes is 4862,', 'total rental bikes is 7006,', 'total rental bikes is 4342,', 'total rental bikes is 5062,', 'total rental bikes is 6591,', 'total rental bikes is 1248,', 'total rental bikes is 1812,', 'total rental bikes is 2368,', 'total rental bikes is 1927,', 'total rental bikes is 6241,', 'total rental bikes is 4563,', 'total rental bikes is 5107,', 'total rental bikes is 5259,', 'total rental bikes is 4127,', 'total rental bikes is 7509,', 'total rental bikes is 5558,', 'total rental bikes is 5905,', 'total rental bikes is 1538,', 'total rental bikes is 4153,', 'total rental bikes is 506,', 'total rental bikes is 4086,', 'total rental bikes is 3944,', 'total rental bikes is 4595,', 'total rental bikes is 4677,', 'total rental bikes is 3387,', 'total rental bikes is 7498,', 'total rental bikes is 1969,', 'total rental bikes is 4195,', 'total rental bikes is 2732,', 'total rental bikes is 4972,', 'total rental bikes is 7460,', 'total rental bikes is 4460,', 'total rental bikes is 5532,', 'total rental bikes is 7494,', 'total rental bikes is 5936,', 'total rental bikes is 4475,', 'total rental bikes is 2133,', 'total rental bikes is 6299,', 'total rental bikes is 5566,', 'total rental bikes is 5495,']\n"
     ]
    },
    {
     "name": "stderr",
     "output_type": "stream",
     "text": [
      " 42%|████▎     | 425/1000 [03:03<05:46,  1.66it/s]"
     ]
    },
    {
     "name": "stdout",
     "output_type": "stream",
     "text": [
      "['total rental bikes is 2132,', 'total rental bikes is 5423,', 'total rental bikes is 3163,', 'total rental bikes is 4579,', 'total rental bikes is 4649,', 'total rental bikes is 1985,', 'total rental bikes is 6296,', 'total rental bikes is 5728,', 'total rental bikes is 7384,', 'total rental bikes is 5892,', 'total rental bikes is 1635,', 'total rental bikes is 4748,', 'total rental bikes is 7055,', 'total rental bikes is 6606,', 'total rental bikes is 1005,', 'total rental bikes is 1787,', 'total rental bikes is 1530,', 'total rental bikes is 7261,', 'total rental bikes is 4758,', 'total rental bikes is 4765,', 'total rental bikes is 4195,', 'total rental bikes is 6192,', 'total rental bikes is 7444,', 'total rental bikes is 2744,', 'total rental bikes is 2947,', 'total rental bikes is 3387,', 'total rental bikes is 4608,', 'total rental bikes is 6861,', 'total rental bikes is 4094,', 'total rental bikes is 2277,', 'total rental bikes is 5495,', 'total rental bikes is 7498,', 'total rental bikes is 3785,', 'total rental bikes is 7436,', 'total rental bikes is 4708,', 'total rental bikes is 7733,', 'total rental bikes is 5035,', 'total rental bikes is 4352,', 'total rental bikes is 2294,', 'total rental bikes is 3922,', 'total rental bikes is 5058,', 'total rental bikes is 3322,', 'total rental bikes is 3620,', 'total rental bikes is 3129,', 'total rental bikes is 4575,', 'total rental bikes is 4182,', 'total rental bikes is 7570,', 'total rental bikes is 5423,', 'total rental bikes is 8009,', 'total rental bikes is 4608,']\n"
     ]
    },
    {
     "name": "stderr",
     "output_type": "stream",
     "text": [
      " 43%|████▎     | 431/1000 [03:04<04:06,  2.31it/s]"
     ]
    },
    {
     "name": "stdout",
     "output_type": "stream",
     "text": [
      "['total rental bikes is 3907,', 'total rental bikes is 3423,', 'total rental bikes is 6786,', 'total rental bikes is 3351,', 'total rental bikes is 8009,', 'total rental bikes is 4332,', 'total rental bikes is 2429,', 'total rental bikes is 7421,', 'total rental bikes is 5633,', 'total rental bikes is 1543,', 'total rental bikes is 6871,', 'total rental bikes is 4187,', 'total rental bikes is 7572,', 'total rental bikes is 3542,', 'total rental bikes is 7350,', 'total rental bikes is 7870,', 'total rental bikes is 3310,', 'total rental bikes is 4067,', 'total rental bikes is 2689,', 'total rental bikes is 2209,', 'total rental bikes is 4098,', 'total rental bikes is 4191,', 'total rental bikes is 2729,', 'total rental bikes is 5130,', 'total rental bikes is 3663,', 'total rental bikes is 5582,', 'total rental bikes is 3867,', 'total rental bikes is 4608,', 'total rental bikes is 1685,', 'total rental bikes is 4748,', 'total rental bikes is 3614,', 'total rental bikes is 7591,', 'total rental bikes is 7713,', 'total rental bikes is 3855,', 'total rental bikes is 8173,', 'total rental bikes is 8173,', 'total rental bikes is 1851,', 'total rental bikes is 1529,', 'total rental bikes is 2115,', 'total rental bikes is 4985,', 'total rental bikes is 4694,', 'total rental bikes is 3267,', 'total rental bikes is 1538,', 'total rental bikes is 6824,', 'total rental bikes is 1416,', 'total rental bikes is 6572,', 'total rental bikes is 7444,', 'total rental bikes is 5259,', 'total rental bikes is 6770,', 'total rental bikes is 7013,']\n"
     ]
    },
    {
     "name": "stderr",
     "output_type": "stream",
     "text": [
      " 43%|████▎     | 433/1000 [03:06<04:42,  2.01it/s]"
     ]
    },
    {
     "name": "stdout",
     "output_type": "stream",
     "text": [
      "['total rental bikes is 3322,', 'total rental bikes is 3348,', 'total rental bikes is 4687,', 'total rental bikes is 4507,', 'total rental bikes is 4401,', 'total rental bikes is 4195,', 'total rental bikes is 4381,', 'total rental bikes is 4727,', 'total rental bikes is 6073,', 'total rental bikes is 7415,', 'total rental bikes is 4563,', 'total rental bikes is 4322,', 'total rental bikes is 1796,', 'total rental bikes is 1842,', 'total rental bikes is 4911,', 'total rental bikes is 1005,', 'total rental bikes is 4058,', 'total rental bikes is 6421,', 'total rental bikes is 4363,', 'total rental bikes is 1749,', 'total rental bikes is 2416,', 'total rental bikes is 4118,', 'total rental bikes is 2424,', 'total rental bikes is 5345,', 'total rental bikes is 7591,', 'total rental bikes is 7347,', 'total rental bikes is 3784,', 'total rental bikes is 3624,', 'total rental bikes is 5572,', 'total rental bikes is 1605,', 'total rental bikes is 3194,', 'total rental bikes is 2947,', 'total rental bikes is 1317,', 'total rental bikes is 2424,', 'total rental bikes is 7403,', 'total rental bikes is 6830,', 'total rental bikes is 7458,', 'total rental bikes is 6192,', 'total rental bikes is 4270,', 'total rental bikes is 4459,', 'total rental bikes is 4553,', 'total rental bikes is 2210,', 'total rental bikes is 6153,', 'total rental bikes is 7429,', 'total rental bikes is 2935,', 'total rental bikes is 6536,', 'total rental bikes is 1096,', 'total rental bikes is 5538,', 'total rental bikes is 2927,', 'total rental bikes is 3974,']\n"
     ]
    },
    {
     "name": "stderr",
     "output_type": "stream",
     "text": [
      " 43%|████▎     | 434/1000 [03:07<05:50,  1.61it/s]"
     ]
    },
    {
     "name": "stdout",
     "output_type": "stream",
     "text": [
      "['total rental bikes is 2633,', 'total rental bikes is 2493,', 'total rental bikes is 4068,', 'total rental bikes is 5008,', 'total rental bikes is 4648,', 'total rental bikes is 2077,', 'total rental bikes is 4773,', 'total rental bikes is 7429,', 'total rental bikes is 4363,', 'total rental bikes is 8294,', 'total rental bikes is 705,', 'total rental bikes is 4553,', 'total rental bikes is 3487,', 'total rental bikes is 4094,', 'total rental bikes is 3456,', 'total rental bikes is 1000,', 'total rental bikes is 7665,', 'total rental bikes is 4363,', 'total rental bikes is 5010,', 'total rental bikes is 6591,', 'total rental bikes is 7347,', 'total rental bikes is 4630,', 'total rental bikes is 4326,', 'total rental bikes is 4390,', 'total rental bikes is 4035,', 'total rental bikes is 1623,', 'total rental bikes is 4182,', 'total rental bikes is 2416,', 'total rental bikes is 5424,', 'total rental bikes is 2496,', 'total rental bikes is 2918,', 'total rental bikes is 4334,', 'total rental bikes is 4972,', 'total rental bikes is 7570,', 'total rental bikes is 4595,', 'total rental bikes is 2744,', 'total rental bikes is 5119,', 'total rental bikes is 986,', 'total rental bikes is 754,', 'total rental bikes is 4120,', 'total rental bikes is 1162,', 'total rental bikes is 1536,', 'total rental bikes is 705,', 'total rental bikes is 2689,', 'total rental bikes is 6290,', 'total rental bikes is 5115,', 'total rental bikes is 7013,', 'total rental bikes is 4835,', 'total rental bikes is 4717,', 'total rental bikes is 5312,']\n"
     ]
    },
    {
     "name": "stderr",
     "output_type": "stream",
     "text": [
      " 44%|████▎     | 437/1000 [03:09<05:26,  1.73it/s]"
     ]
    },
    {
     "name": "stdout",
     "output_type": "stream",
     "text": [
      "['total rental bikes is 6241,', 'total rental bikes is 4996,', 'total rental bikes is 3663,', 'total rental bikes is 2368,', 'total rental bikes is 4835,', 'total rental bikes is 3204,', 'total rental bikes is 3487,', 'total rental bikes is 4359,', 'total rental bikes is 3053,', 'total rental bikes is 7013,', 'total rental bikes is 6392,', 'total rental bikes is 4189,', 'total rental bikes is 7461,', 'total rental bikes is 6591,', 'total rental bikes is 754,', 'total rental bikes is 3663,', 'total rental bikes is 6825,', 'total rental bikes is 4187,', 'total rental bikes is 6312,', 'total rental bikes is 2209,', 'total rental bikes is 1977,', 'total rental bikes is 3855,', 'total rental bikes is 7525,', 'total rental bikes is 3129,', 'total rental bikes is 4195,', 'total rental bikes is 3570,', 'total rental bikes is 1817,', 'total rental bikes is 4359,', 'total rental bikes is 6883,', 'total rental bikes is 7030,', 'total rental bikes is 4363,', 'total rental bikes is 4881,', 'total rental bikes is 1550,', 'total rental bikes is 1416,', 'total rental bikes is 4549,', 'total rental bikes is 7736,', 'total rental bikes is 4576,', 'total rental bikes is 2633,', 'total rental bikes is 4585,', 'total rental bikes is 1162,', 'total rental bikes is 6169,', 'total rental bikes is 5786,', 'total rental bikes is 4169,', 'total rental bikes is 6207,', 'total rental bikes is 4109,', 'total rental bikes is 6436,', 'total rental bikes is 1011,', 'total rental bikes is 4669,', 'total rental bikes is 5046,', 'total rental bikes is 6530,']\n"
     ]
    },
    {
     "name": "stderr",
     "output_type": "stream",
     "text": [
      " 44%|████▍     | 438/1000 [03:11<06:41,  1.40it/s]"
     ]
    },
    {
     "name": "stdout",
     "output_type": "stream",
     "text": [
      "['total rental bikes is 1815,', 'total rental bikes is 5611,', 'total rental bikes is 1708,', 'total rental bikes is 7375,', 'total rental bikes is 3523,', 'total rental bikes is 4708,', 'total rental bikes is 7261,', 'total rental bikes is 1096,', 'total rental bikes is 4978,', 'total rental bikes is 5047,', 'total rental bikes is 5260,', 'total rental bikes is 4036,', 'total rental bikes is 4067,', 'total rental bikes is 1815,', 'total rental bikes is 5336,', 'total rental bikes is 4763,', 'total rental bikes is 7424,', 'total rental bikes is 2913,', 'total rental bikes is 7055,', 'total rental bikes is 1795,', 'total rental bikes is 4378,', 'total rental bikes is 2843,', 'total rental bikes is 1450,', 'total rental bikes is 6034,', 'total rental bikes is 3574,', 'total rental bikes is 7460,', 'total rental bikes is 3333,', 'total rental bikes is 7641,', 'total rental bikes is 1301,', 'total rental bikes is 7129,', 'total rental bikes is 2689,', 'total rental bikes is 3267,', 'total rental bikes is 4677,', 'total rental bikes is 4881,', 'total rental bikes is 5115,', 'total rental bikes is 3784,', 'total rental bikes is 6998,', 'total rental bikes is 4451,', 'total rental bikes is 2913,', 'total rental bikes is 1851,', 'total rental bikes is 4075,', 'total rental bikes is 6857,', 'total rental bikes is 4304,', 'total rental bikes is 6597,', 'total rental bikes is 4511,', 'total rental bikes is 2935,', 'total rental bikes is 2913,', 'total rental bikes is 2417,', 'total rental bikes is 6211,', 'total rental bikes is 1917,']\n"
     ]
    },
    {
     "name": "stderr",
     "output_type": "stream",
     "text": [
      " 44%|████▍     | 443/1000 [03:12<04:44,  1.96it/s]"
     ]
    },
    {
     "name": "stdout",
     "output_type": "stream",
     "text": [
      "['total rental bikes is 1529,', 'total rental bikes is 3267,', 'total rental bikes is 3811,', 'total rental bikes is 7112,', 'total rental bikes is 6591,', 'total rental bikes is 5713,', 'total rental bikes is 4648,', 'total rental bikes is 2947,', 'total rental bikes is 3115,', 'total rental bikes is 4660,', 'total rental bikes is 3523,', 'total rental bikes is 6664,', 'total rental bikes is 7105,', 'total rental bikes is 4375,', 'total rental bikes is 4911,', 'total rental bikes is 5870,', 'total rental bikes is 1606,', 'total rental bikes is 4758,', 'total rental bikes is 6778,', 'total rental bikes is 4153,', 'total rental bikes is 7460,', 'total rental bikes is 6830,', 'total rental bikes is 4727,', 'total rental bikes is 7436,', 'total rental bikes is 6917,', 'total rental bikes is 5572,', 'total rental bikes is 4270,', 'total rental bikes is 5445,', 'total rental bikes is 3372,', 'total rental bikes is 2455,', 'total rental bikes is 6772,', 'total rental bikes is 3767,', 'total rental bikes is 5847,', 'total rental bikes is 6233,', 'total rental bikes is 7765,', 'total rental bikes is 1865,', 'total rental bikes is 5169,', 'total rental bikes is 4916,', 'total rental bikes is 3620,', 'total rental bikes is 6861,', 'total rental bikes is 2252,', 'total rental bikes is 7058,', 'total rental bikes is 4978,', 'total rental bikes is 2918,', 'total rental bikes is 3095,', 'total rental bikes is 3544,', 'total rental bikes is 2162,', 'total rental bikes is 4725,', 'total rental bikes is 1685,', 'total rental bikes is 4592,']\n"
     ]
    },
    {
     "name": "stderr",
     "output_type": "stream",
     "text": [
      " 44%|████▍     | 445/1000 [03:14<05:13,  1.77it/s]"
     ]
    },
    {
     "name": "stdout",
     "output_type": "stream",
     "text": [
      "['total rental bikes is 4911,', 'total rental bikes is 7282,', 'total rental bikes is 6572,', 'total rental bikes is 7458,', 'total rental bikes is 5572,', 'total rental bikes is 6536,', 'total rental bikes is 2710,', 'total rental bikes is 6830,', 'total rental bikes is 3249,', 'total rental bikes is 4660,', 'total rental bikes is 4036,', 'total rental bikes is 1321,', 'total rental bikes is 1746,', 'total rental bikes is 7499,', 'total rental bikes is 5409,', 'total rental bikes is 2935,', 'total rental bikes is 5582,', 'total rental bikes is 4748,', 'total rental bikes is 2935,', 'total rental bikes is 2424,', 'total rental bikes is 6235,', 'total rental bikes is 3071,', 'total rental bikes is 7691,', 'total rental bikes is 7702,', 'total rental bikes is 4785,', 'total rental bikes is 4835,', 'total rental bikes is 7865,', 'total rental bikes is 4362,', 'total rental bikes is 6660,', 'total rental bikes is 7466,', 'total rental bikes is 6392,', 'total rental bikes is 2423,', 'total rental bikes is 3053,', 'total rental bikes is 1526,', 'total rental bikes is 5918,', 'total rental bikes is 4359,', 'total rental bikes is 7333,', 'total rental bikes is 1969,', 'total rental bikes is 3644,', 'total rental bikes is 4120,', 'total rental bikes is 4714,', 'total rental bikes is 4220,', 'total rental bikes is 4151,', 'total rental bikes is 4595,', 'total rental bikes is 4073,', 'total rental bikes is 1749,', 'total rental bikes is 3422,', 'total rental bikes is 6359,', 'total rental bikes is 6436,', 'total rental bikes is 4714,']\n"
     ]
    },
    {
     "name": "stderr",
     "output_type": "stream",
     "text": [
      " 45%|████▌     | 451/1000 [03:15<03:47,  2.41it/s]"
     ]
    },
    {
     "name": "stdout",
     "output_type": "stream",
     "text": [
      "['total rental bikes is 3423,', 'total rental bikes is 3831,', 'total rental bikes is 5611,', 'total rental bikes is 3785,', 'total rental bikes is 2302,', 'total rental bikes is 7534,', 'total rental bikes is 4334,', 'total rental bikes is 3485,', 'total rental bikes is 7264,', 'total rental bikes is 1605,', 'total rental bikes is 4097,', 'total rental bikes is 3777,', 'total rental bikes is 7446,', 'total rental bikes is 4266,', 'total rental bikes is 4694,', 'total rental bikes is 4629,', 'total rental bikes is 1098,', 'total rental bikes is 2744,', 'total rental bikes is 3485,', 'total rental bikes is 4363,', 'total rental bikes is 2368,', 'total rental bikes is 1510,', 'total rental bikes is 3926,', 'total rental bikes is 3068,', 'total rental bikes is 5611,', 'total rental bikes is 5805,', 'total rental bikes is 5729,', 'total rental bikes is 1406,', 'total rental bikes is 4433,', 'total rental bikes is 627,', 'total rental bikes is 985,', 'total rental bikes is 5170,', 'total rental bikes is 6235,', 'total rental bikes is 5936,', 'total rental bikes is 1000,', 'total rental bikes is 1349,', 'total rental bikes is 7350,', 'total rental bikes is 4086,', 'total rental bikes is 4362,', 'total rental bikes is 6869,', 'total rental bikes is 5992,', 'total rental bikes is 4835,', 'total rental bikes is 5810,', 'total rental bikes is 6153,', 'total rental bikes is 2765,', 'total rental bikes is 7359,', 'total rental bikes is 4656,', 'total rental bikes is 4795,', 'total rental bikes is 4458,', 'total rental bikes is 4046,']\n"
     ]
    },
    {
     "name": "stderr",
     "output_type": "stream",
     "text": [
      " 46%|████▌     | 456/1000 [03:17<03:25,  2.65it/s]"
     ]
    },
    {
     "name": "stdout",
     "output_type": "stream",
     "text": [
      "['total rental bikes is 4595,', 'total rental bikes is 7504,', 'total rental bikes is 3767,', 'total rental bikes is 4086,', 'total rental bikes is 5336,', 'total rental bikes is 8395,', 'total rental bikes is 5847,', 'total rental bikes is 1749,', 'total rental bikes is 4035,', 'total rental bikes is 4672,', 'total rental bikes is 1600,', 'total rental bikes is 4189,', 'total rental bikes is 2471,', 'total rental bikes is 4266,', 'total rental bikes is 2729,', 'total rental bikes is 4744,', 'total rental bikes is 1650,', 'total rental bikes is 4541,', 'total rental bikes is 6304,', 'total rental bikes is 1096,', 'total rental bikes is 6598,', 'total rental bikes is 5686,', 'total rental bikes is 2376,', 'total rental bikes is 7534,', 'total rental bikes is 4390,', 'total rental bikes is 3872,', 'total rental bikes is 2210,', 'total rental bikes is 3331,', 'total rental bikes is 5336,', 'total rental bikes is 8395,', 'total rental bikes is 683,', 'total rental bikes is 3141,', 'total rental bikes is 2765,', 'total rental bikes is 5362,', 'total rental bikes is 3740,', 'total rental bikes is 3422,', 'total rental bikes is 3614,', 'total rental bikes is 6299,', 'total rental bikes is 6857,', 'total rental bikes is 3840,', 'total rental bikes is 4521,', 'total rental bikes is 4592,', 'total rental bikes is 1693,', 'total rental bikes is 4553,', 'total rental bikes is 7605,', 'total rental bikes is 5582,', 'total rental bikes is 3614,', 'total rental bikes is 6779,', 'total rental bikes is 5986,', 'total rental bikes is 3485,']\n"
     ]
    },
    {
     "name": "stderr",
     "output_type": "stream",
     "text": [
      " 46%|████▌     | 458/1000 [03:18<04:03,  2.23it/s]"
     ]
    },
    {
     "name": "stdout",
     "output_type": "stream",
     "text": [
      "['total rental bikes is 3831,', 'total rental bikes is 1406,', 'total rental bikes is 1977,', 'total rental bikes is 6421,', 'total rental bikes is 5020,', 'total rental bikes is 4717,', 'total rental bikes is 7112,', 'total rental bikes is 7216,', 'total rental bikes is 2710,', 'total rental bikes is 4186,', 'total rental bikes is 4665,', 'total rental bikes is 795,', 'total rental bikes is 7442,', 'total rental bikes is 3855,', 'total rental bikes is 2703,', 'total rental bikes is 4966,', 'total rental bikes is 4579,', 'total rental bikes is 3005,', 'total rental bikes is 5170,', 'total rental bikes is 6211,', 'total rental bikes is 7592,', 'total rental bikes is 6786,', 'total rental bikes is 5847,', 'total rental bikes is 3422,', 'total rental bikes is 2210,', 'total rental bikes is 6830,', 'total rental bikes is 1000,', 'total rental bikes is 3598,', 'total rental bikes is 2743,', 'total rental bikes is 985,', 'total rental bikes is 4833,', 'total rental bikes is 5532,', 'total rental bikes is 2808,', 'total rental bikes is 5191,', 'total rental bikes is 5010,', 'total rental bikes is 623,', 'total rental bikes is 1815,', 'total rental bikes is 5382,', 'total rental bikes is 7907,', 'total rental bikes is 4727,', 'total rental bikes is 5629,', 'total rental bikes is 6460,', 'total rental bikes is 5202,', 'total rental bikes is 4665,', 'total rental bikes is 7870,', 'total rental bikes is 5382,', 'total rental bikes is 5459,', 'total rental bikes is 3425,', 'total rental bikes is 6691,', 'total rental bikes is 4839,']\n"
     ]
    },
    {
     "name": "stderr",
     "output_type": "stream",
     "text": [
      " 46%|████▋     | 465/1000 [03:20<03:03,  2.91it/s]"
     ]
    },
    {
     "name": "stdout",
     "output_type": "stream",
     "text": [
      "['total rental bikes is 6857,', 'total rental bikes is 2743,', 'total rental bikes is 1162,', 'total rental bikes is 1562,', 'total rental bikes is 6043,', 'total rental bikes is 7538,', 'total rental bikes is 5986,', 'total rental bikes is 4661,', 'total rental bikes is 1913,', 'total rental bikes is 4773,', 'total rental bikes is 7665,', 'total rental bikes is 3873,', 'total rental bikes is 1807,', 'total rental bikes is 3669,', 'total rental bikes is 6043,', 'total rental bikes is 3129,', 'total rental bikes is 801,', 'total rental bikes is 3292,', 'total rental bikes is 1013,', 'total rental bikes is 6312,', 'total rental bikes is 1013,', 'total rental bikes is 6778,', 'total rental bikes is 3333,', 'total rental bikes is 8156,', 'total rental bikes is 5119,', 'total rental bikes is 5260,', 'total rental bikes is 7273,', 'total rental bikes is 627,', 'total rental bikes is 4541,', 'total rental bikes is 3322,', 'total rental bikes is 4308,', 'total rental bikes is 7421,', 'total rental bikes is 5312,', 'total rental bikes is 4270,', 'total rental bikes is 1471,', 'total rental bikes is 2210,', 'total rental bikes is 4713,', 'total rental bikes is 3709,', 'total rental bikes is 4205,', 'total rental bikes is 7466,', 'total rental bikes is 4507,', 'total rental bikes is 2843,', 'total rental bikes is 4569,', 'total rental bikes is 7534,', 'total rental bikes is 4660,', 'total rental bikes is 4073,', 'total rental bikes is 4334,', 'total rental bikes is 7765,', 'total rental bikes is 4687,', 'total rental bikes is 6891,']\n"
     ]
    },
    {
     "name": "stderr",
     "output_type": "stream",
     "text": [
      " 47%|████▋     | 469/1000 [03:21<03:07,  2.84it/s]"
     ]
    },
    {
     "name": "stdout",
     "output_type": "stream",
     "text": [
      "['total rental bikes is 5260,', 'total rental bikes is 4097,', 'total rental bikes is 5992,', 'total rental bikes is 506,', 'total rental bikes is 5558,', 'total rental bikes is 6639,', 'total rental bikes is 4595,', 'total rental bikes is 8009,', 'total rental bikes is 7582,', 'total rental bikes is 3368,', 'total rental bikes is 5342,', 'total rental bikes is 2121,', 'total rental bikes is 7580,', 'total rental bikes is 6869,', 'total rental bikes is 4725,', 'total rental bikes is 3409,', 'total rental bikes is 627,', 'total rental bikes is 6825,', 'total rental bikes is 2633,', 'total rental bikes is 4725,', 'total rental bikes is 4375,', 'total rental bikes is 5531,', 'total rental bikes is 1996,', 'total rental bikes is 705,', 'total rental bikes is 4040,', 'total rental bikes is 4844,', 'total rental bikes is 6118,', 'total rental bikes is 1795,', 'total rental bikes is 4451,', 'total rental bikes is 4075,', 'total rental bikes is 4195,', 'total rental bikes is 1349,', 'total rental bikes is 4717,', 'total rental bikes is 4744,', 'total rental bikes is 4154,', 'total rental bikes is 4795,', 'total rental bikes is 2927,', 'total rental bikes is 7261,', 'total rental bikes is 8395,', 'total rental bikes is 4339,', 'total rental bikes is 3141,', 'total rental bikes is 4128,', 'total rental bikes is 8009,', 'total rental bikes is 4333,', 'total rental bikes is 1683,', 'total rental bikes is 7030,', 'total rental bikes is 2034,', 'total rental bikes is 5087,', 'total rental bikes is 8362,', 'total rental bikes is 6891,']\n"
     ]
    },
    {
     "name": "stderr",
     "output_type": "stream",
     "text": [
      " 47%|████▋     | 472/1000 [03:23<03:24,  2.58it/s]"
     ]
    },
    {
     "name": "stdout",
     "output_type": "stream",
     "text": [
      "['total rental bikes is 2566,', 'total rental bikes is 5204,', 'total rental bikes is 6624,', 'total rental bikes is 5459,', 'total rental bikes is 1115,', 'total rental bikes is 5572,', 'total rental bikes is 2423,', 'total rental bikes is 7525,', 'total rental bikes is 5099,', 'total rental bikes is 5905,', 'total rental bikes is 4595,', 'total rental bikes is 6536,', 'total rental bikes is 7347,', 'total rental bikes is 822,', 'total rental bikes is 5531,', 'total rental bikes is 6917,', 'total rental bikes is 3523,', 'total rental bikes is 7720,', 'total rental bikes is 3777,', 'total rental bikes is 3855,', 'total rental bikes is 3709,', 'total rental bikes is 5255,', 'total rental bikes is 1812,', 'total rental bikes is 3649,', 'total rental bikes is 6312,', 'total rental bikes is 4258,', 'total rental bikes is 4669,', 'total rental bikes is 3243,', 'total rental bikes is 4911,', 'total rental bikes is 4677,', 'total rental bikes is 4788,', 'total rental bikes is 1872,', 'total rental bikes is 4649,', 'total rental bikes is 5459,', 'total rental bikes is 5375,', 'total rental bikes is 5713,', 'total rental bikes is 4548,', 'total rental bikes is 6565,', 'total rental bikes is 3372,', 'total rental bikes is 3071,', 'total rental bikes is 4694,', 'total rental bikes is 5905,', 'total rental bikes is 4511,', 'total rental bikes is 5729,', 'total rental bikes is 7836,', 'total rental bikes is 4763,', 'total rental bikes is 4592,', 'total rental bikes is 7641,', 'total rental bikes is 4608,', 'total rental bikes is 5423,']\n"
     ]
    },
    {
     "name": "stderr",
     "output_type": "stream",
     "text": [
      " 48%|████▊     | 477/1000 [03:24<03:11,  2.74it/s]"
     ]
    },
    {
     "name": "stdout",
     "output_type": "stream",
     "text": [
      "['total rental bikes is 5459,', 'total rental bikes is 7736,', 'total rental bikes is 1650,', 'total rental bikes is 6660,', 'total rental bikes is 7132,', 'total rental bikes is 4120,', 'total rental bikes is 7852,', 'total rental bikes is 6304,', 'total rental bikes is 3785,', 'total rental bikes is 7572,', 'total rental bikes is 7525,', 'total rental bikes is 5698,', 'total rental bikes is 5423,', 'total rental bikes is 4433,', 'total rental bikes is 2236,', 'total rental bikes is 1685,', 'total rental bikes is 3520,', 'total rental bikes is 5319,', 'total rental bikes is 4326,', 'total rental bikes is 605,', 'total rental bikes is 22,', 'total rental bikes is 7494,', 'total rental bikes is 1005,', 'total rental bikes is 4648,', 'total rental bikes is 4990,', 'total rental bikes is 3389,', 'total rental bikes is 6196,', 'total rental bikes is 4714,', 'total rental bikes is 6234,', 'total rental bikes is 3267,', 'total rental bikes is 7328,', 'total rental bikes is 4570,', 'total rental bikes is 7591,', 'total rental bikes is 5298,', 'total rental bikes is 6591,', 'total rental bikes is 5875,', 'total rental bikes is 7641,', 'total rental bikes is 4585,', 'total rental bikes is 6211,', 'total rental bikes is 7058,', 'total rental bikes is 1341,', 'total rental bikes is 5115,', 'total rental bikes is 8227,', 'total rental bikes is 4127,', 'total rental bikes is 7720,', 'total rental bikes is 7436,', 'total rental bikes is 4339,', 'total rental bikes is 5298,', 'total rental bikes is 4585,', 'total rental bikes is 5302,']\n"
     ]
    },
    {
     "name": "stderr",
     "output_type": "stream",
     "text": [
      " 48%|████▊     | 481/1000 [03:26<03:12,  2.70it/s]"
     ]
    },
    {
     "name": "stdout",
     "output_type": "stream",
     "text": [
      "['total rental bikes is 3115,', 'total rental bikes is 2132,', 'total rental bikes is 5323,', 'total rental bikes is 2424,', 'total rental bikes is 7693,', 'total rental bikes is 4669,', 'total rental bikes is 7446,', 'total rental bikes is 2177,', 'total rental bikes is 1562,', 'total rental bikes is 7261,', 'total rental bikes is 4656,', 'total rental bikes is 5499,', 'total rental bikes is 5217,', 'total rental bikes is 3485,', 'total rental bikes is 2028,', 'total rental bikes is 6203,', 'total rental bikes is 2895,', 'total rental bikes is 6196,', 'total rental bikes is 4785,', 'total rental bikes is 4708,', 'total rental bikes is 4195,', 'total rental bikes is 4378,', 'total rental bikes is 7424,', 'total rental bikes is 7865,', 'total rental bikes is 3249,', 'total rental bikes is 5026,', 'total rental bikes is 3740,', 'total rental bikes is 3727,', 'total rental bikes is 5729,', 'total rental bikes is 5342,', 'total rental bikes is 6140,', 'total rental bikes is 4390,', 'total rental bikes is 7591,', 'total rental bikes is 6969,', 'total rental bikes is 1013,', 'total rental bikes is 3831,', 'total rental bikes is 6370,', 'total rental bikes is 6685,', 'total rental bikes is 1600,', 'total rental bikes is 4433,', 'total rental bikes is 7538,', 'total rental bikes is 4996,', 'total rental bikes is 7534,', 'total rental bikes is 4521,', 'total rental bikes is 8362,', 'total rental bikes is 3228,', 'total rental bikes is 4634,', 'total rental bikes is 683,', 'total rental bikes is 2425,', 'total rental bikes is 6196,']\n"
     ]
    },
    {
     "name": "stderr",
     "output_type": "stream",
     "text": [
      " 48%|████▊     | 483/1000 [03:28<03:46,  2.28it/s]"
     ]
    },
    {
     "name": "stdout",
     "output_type": "stream",
     "text": [
      "['total rental bikes is 5629,', 'total rental bikes is 3820,', 'total rental bikes is 3613,', 'total rental bikes is 4687,', 'total rental bikes is 1421,', 'total rental bikes is 7129,', 'total rental bikes is 1685,', 'total rental bikes is 3387,', 'total rental bikes is 7058,', 'total rental bikes is 4189,', 'total rental bikes is 2935,', 'total rental bikes is 4687,', 'total rental bikes is 6233,', 'total rental bikes is 1927,', 'total rental bikes is 7338,', 'total rental bikes is 1416,', 'total rental bikes is 2918,', 'total rental bikes is 7720,', 'total rental bikes is 1693,', 'total rental bikes is 1510,', 'total rental bikes is 5585,', 'total rental bikes is 3747,', 'total rental bikes is 986,', 'total rental bikes is 3740,', 'total rental bikes is 5499,', 'total rental bikes is 4639,', 'total rental bikes is 2134,', 'total rental bikes is 6830,', 'total rental bikes is 4840,', 'total rental bikes is 4630,', 'total rental bikes is 2918,', 'total rental bikes is 2402,', 'total rental bikes is 7907,', 'total rental bikes is 3820,', 'total rental bikes is 4548,', 'total rental bikes is 2743,', 'total rental bikes is 4785,', 'total rental bikes is 2236,', 'total rental bikes is 5217,', 'total rental bikes is 5026,', 'total rental bikes is 4585,', 'total rental bikes is 3456,', 'total rental bikes is 4972,', 'total rental bikes is 4669,', 'total rental bikes is 5633,', 'total rental bikes is 3141,', 'total rental bikes is 1746,', 'total rental bikes is 6370,', 'total rental bikes is 4342,', 'total rental bikes is 4339,']\n"
     ]
    },
    {
     "name": "stderr",
     "output_type": "stream",
     "text": [
      " 49%|████▉     | 488/1000 [03:29<03:19,  2.57it/s]"
     ]
    },
    {
     "name": "stdout",
     "output_type": "stream",
     "text": [
      "['total rental bikes is 1107,', 'total rental bikes is 6691,', 'total rental bikes is 4342,', 'total rental bikes is 4966,', 'total rental bikes is 1248,', 'total rental bikes is 3190,', 'total rental bikes is 4916,', 'total rental bikes is 6883,', 'total rental bikes is 6824,', 'total rental bikes is 7055,', 'total rental bikes is 1416,', 'total rental bikes is 2703,', 'total rental bikes is 4548,', 'total rental bikes is 2056,', 'total rental bikes is 6871,', 'total rental bikes is 6041,', 'total rental bikes is 7347,', 'total rental bikes is 2947,', 'total rental bikes is 3071,', 'total rental bikes is 5345,', 'total rental bikes is 1510,', 'total rental bikes is 7580,', 'total rental bikes is 1538,', 'total rental bikes is 2933,', 'total rental bikes is 3915,', 'total rental bikes is 1815,', 'total rental bikes is 3389,', 'total rental bikes is 4763,', 'total rental bikes is 7335,', 'total rental bikes is 3577,', 'total rental bikes is 4302,', 'total rental bikes is 985,', 'total rental bikes is 3805,', 'total rental bikes is 3974,', 'total rental bikes is 1985,', 'total rental bikes is 4541,', 'total rental bikes is 3392,', 'total rental bikes is 2046,', 'total rental bikes is 6624,', 'total rental bikes is 3214,', 'total rental bikes is 1693,', 'total rental bikes is 5117,', 'total rental bikes is 4694,', 'total rental bikes is 1543,', 'total rental bikes is 5495,', 'total rental bikes is 3894,', 'total rental bikes is 1891,', 'total rental bikes is 4375,', 'total rental bikes is 3190,', 'total rental bikes is 4669,']\n"
     ]
    },
    {
     "name": "stderr",
     "output_type": "stream",
     "text": [
      " 49%|████▉     | 490/1000 [03:31<03:55,  2.17it/s]"
     ]
    },
    {
     "name": "stdout",
     "output_type": "stream",
     "text": [
      "['total rental bikes is 4862,', 'total rental bikes is 1913,', 'total rental bikes is 4458,', 'total rental bikes is 4866,', 'total rental bikes is 1977,', 'total rental bikes is 4334,', 'total rental bikes is 4363,', 'total rental bikes is 6784,', 'total rental bikes is 2134,', 'total rental bikes is 7001,', 'total rental bikes is 2376,', 'total rental bikes is 3423,', 'total rental bikes is 2633,', 'total rental bikes is 1693,', 'total rental bikes is 4826,', 'total rental bikes is 4785,', 'total rental bikes is 7359,', 'total rental bikes is 5225,', 'total rental bikes is 3641,', 'total rental bikes is 5191,', 'total rental bikes is 2424,', 'total rental bikes is 627,', 'total rental bikes is 7109,', 'total rental bikes is 1917,', 'total rental bikes is 3387,', 'total rental bikes is 1944,', 'total rental bikes is 3761,', 'total rental bikes is 1746,', 'total rental bikes is 5342,', 'total rental bikes is 3071,', 'total rental bikes is 5375,', 'total rental bikes is 7359,', 'total rental bikes is 6234,', 'total rental bikes is 2918,', 'total rental bikes is 5495,', 'total rental bikes is 3243,', 'total rental bikes is 5191,', 'total rental bikes is 3907,', 'total rental bikes is 3351,', 'total rental bikes is 3285,', 'total rental bikes is 6133,', 'total rental bikes is 4672,', 'total rental bikes is 6565,', 'total rental bikes is 1796,', 'total rental bikes is 822,', 'total rental bikes is 7591,', 'total rental bikes is 7466,', 'total rental bikes is 6233,', 'total rental bikes is 1530,', 'total rental bikes is 4205,']\n"
     ]
    },
    {
     "name": "stderr",
     "output_type": "stream",
     "text": [
      " 49%|████▉     | 491/1000 [03:32<05:02,  1.68it/s]"
     ]
    },
    {
     "name": "stdout",
     "output_type": "stream",
     "text": [
      "['total rental bikes is 5424,', 'total rental bikes is 5445,', 'total rental bikes is 4456,', 'total rental bikes is 6883,', 'total rental bikes is 4521,', 'total rental bikes is 6073,', 'total rental bikes is 7693,', 'total rental bikes is 1550,', 'total rental bikes is 1162,', 'total rental bikes is 5169,', 'total rental bikes is 4656,', 'total rental bikes is 5743,', 'total rental bikes is 8167,', 'total rental bikes is 4649,', 'total rental bikes is 5463,', 'total rental bikes is 3333,', 'total rental bikes is 6153,', 'total rental bikes is 4844,', 'total rental bikes is 5634,', 'total rental bikes is 5713,', 'total rental bikes is 4694,', 'total rental bikes is 3249,', 'total rental bikes is 4661,', 'total rental bikes is 3922,', 'total rental bikes is 4906,', 'total rental bikes is 6691,', 'total rental bikes is 3777,', 'total rental bikes is 3974,', 'total rental bikes is 985,', 'total rental bikes is 1712,', 'total rental bikes is 3958,', 'total rental bikes is 4991,', 'total rental bikes is 4094,', 'total rental bikes is 7424,', 'total rental bikes is 3249,', 'total rental bikes is 3944,', 'total rental bikes is 1951,', 'total rental bikes is 2689,', 'total rental bikes is 1341,', 'total rental bikes is 6536,', 'total rental bikes is 1834,', 'total rental bikes is 4128,', 'total rental bikes is 7421,', 'total rental bikes is 5740,', 'total rental bikes is 4553,', 'total rental bikes is 7592,', 'total rental bikes is 2471,', 'total rental bikes is 8167,', 'total rental bikes is 5629,', 'total rental bikes is 3068,']\n"
     ]
    },
    {
     "name": "stderr",
     "output_type": "stream",
     "text": [
      " 49%|████▉     | 494/1000 [03:34<04:44,  1.78it/s]"
     ]
    },
    {
     "name": "stdout",
     "output_type": "stream",
     "text": [
      "['total rental bikes is 4595,', 'total rental bikes is 2056,', 'total rental bikes is 3750,', 'total rental bikes is 7965,', 'total rental bikes is 5572,', 'total rental bikes is 1360,', 'total rental bikes is 3387,', 'total rental bikes is 3163,', 'total rental bikes is 6530,', 'total rental bikes is 6869,', 'total rental bikes is 6734,', 'total rental bikes is 8009,', 'total rental bikes is 4634,', 'total rental bikes is 3544,', 'total rental bikes is 4266,', 'total rental bikes is 3750,', 'total rental bikes is 6043,', 'total rental bikes is 2918,', 'total rental bikes is 5046,', 'total rental bikes is 7509,', 'total rental bikes is 4845,', 'total rental bikes is 1530,', 'total rental bikes is 2792,', 'total rental bikes is 7112,', 'total rental bikes is 2802,', 'total rental bikes is 5713,', 'total rental bikes is 7282,', 'total rental bikes is 5202,', 'total rental bikes is 705,', 'total rental bikes is 1107,', 'total rental bikes is 6824,', 'total rental bikes is 7129,', 'total rental bikes is 3982,', 'total rental bikes is 4375,', 'total rental bikes is 441,', 'total rental bikes is 1977,', 'total rental bikes is 4570,', 'total rental bikes is 5633,', 'total rental bikes is 7410,', 'total rental bikes is 3926,', 'total rental bikes is 4985,', 'total rental bikes is 2311,', 'total rental bikes is 6041,', 'total rental bikes is 5409,', 'total rental bikes is 2743,', 'total rental bikes is 4687,', 'total rental bikes is 4548,', 'total rental bikes is 4840,', 'total rental bikes is 1107,', 'total rental bikes is 3267,']\n"
     ]
    },
    {
     "name": "stderr",
     "output_type": "stream",
     "text": [
      " 50%|█████     | 502/1000 [03:35<02:58,  2.79it/s]"
     ]
    },
    {
     "name": "stdout",
     "output_type": "stream",
     "text": [
      "['total rental bikes is 6966,', 'total rental bikes is 2710,', 'total rental bikes is 1865,', 'total rental bikes is 5870,', 'total rental bikes is 4763,', 'total rental bikes is 6436,', 'total rental bikes is 7216,', 'total rental bikes is 4595,', 'total rental bikes is 1600,', 'total rental bikes is 3606,', 'total rental bikes is 5805,', 'total rental bikes is 3830,', 'total rental bikes is 6871,', 'total rental bikes is 5686,', 'total rental bikes is 2077,', 'total rental bikes is 4677,', 'total rental bikes is 6864,', 'total rental bikes is 7055,', 'total rental bikes is 5918,', 'total rental bikes is 4359,', 'total rental bikes is 1538,', 'total rental bikes is 3214,', 'total rental bikes is 4649,', 'total rental bikes is 3544,', 'total rental bikes is 4826,', 'total rental bikes is 4991,', 'total rental bikes is 7865,', 'total rental bikes is 4266,', 'total rental bikes is 3649,', 'total rental bikes is 2739,', 'total rental bikes is 4458,', 'total rental bikes is 3068,', 'total rental bikes is 4270,', 'total rental bikes is 5687,', 'total rental bikes is 2046,', 'total rental bikes is 2417,', 'total rental bikes is 5315,', 'total rental bikes is 1529,', 'total rental bikes is 1693,', 'total rental bikes is 2376,', 'total rental bikes is 7591,', 'total rental bikes is 4634,', 'total rental bikes is 4073,', 'total rental bikes is 3005,', 'total rental bikes is 4390,', 'total rental bikes is 5805,', 'total rental bikes is 1204,', 'total rental bikes is 3649,', 'total rental bikes is 3958,', 'total rental bikes is 4153,']\n"
     ]
    },
    {
     "name": "stderr",
     "output_type": "stream",
     "text": [
      " 50%|█████     | 504/1000 [03:37<03:33,  2.32it/s]"
     ]
    },
    {
     "name": "stdout",
     "output_type": "stream",
     "text": [
      "['total rental bikes is 1562,', 'total rental bikes is 5805,', 'total rental bikes is 4773,', 'total rental bikes is 3956,', 'total rental bikes is 1872,', 'total rental bikes is 7572,', 'total rental bikes is 7458,', 'total rental bikes is 4326,', 'total rental bikes is 1996,', 'total rental bikes is 4563,', 'total rental bikes is 6904,', 'total rental bikes is 1416,', 'total rental bikes is 2703,', 'total rental bikes is 5119,', 'total rental bikes is 2134,', 'total rental bikes is 2423,', 'total rental bikes is 6241,', 'total rental bikes is 4363,', 'total rental bikes is 6624,', 'total rental bikes is 7702,', 'total rental bikes is 6073,', 'total rental bikes is 3855,', 'total rental bikes is 6660,', 'total rental bikes is 2425,', 'total rental bikes is 3641,', 'total rental bikes is 4839,', 'total rental bikes is 3613,', 'total rental bikes is 8555,', 'total rental bikes is 3669,', 'total rental bikes is 5740,', 'total rental bikes is 5464,', 'total rental bikes is 627,', 'total rental bikes is 506,', 'total rental bikes is 5538,', 'total rental bikes is 4833,', 'total rental bikes is 3333,', 'total rental bikes is 4378,', 'total rental bikes is 3429,', 'total rental bikes is 6031,', 'total rental bikes is 2933,', 'total rental bikes is 7605,', 'total rental bikes is 2277,', 'total rental bikes is 4835,', 'total rental bikes is 7804,', 'total rental bikes is 4195,', 'total rental bikes is 4332,', 'total rental bikes is 5099,', 'total rental bikes is 5170,', 'total rental bikes is 2302,', 'total rental bikes is 4864,']\n"
     ]
    },
    {
     "name": "stderr",
     "output_type": "stream",
     "text": [
      " 51%|█████     | 506/1000 [03:38<04:03,  2.03it/s]"
     ]
    },
    {
     "name": "stdout",
     "output_type": "stream",
     "text": [
      "['total rental bikes is 6273,', 'total rental bikes is 4451,', 'total rental bikes is 6227,', 'total rental bikes is 5204,', 'total rental bikes is 5895,', 'total rental bikes is 3126,', 'total rental bikes is 985,', 'total rental bikes is 1341,', 'total rental bikes is 5138,', 'total rental bikes is 4785,', 'total rental bikes is 3649,', 'total rental bikes is 6312,', 'total rental bikes is 7328,', 'total rental bikes is 6917,', 'total rental bikes is 5008,', 'total rental bikes is 1538,', 'total rental bikes is 3577,', 'total rental bikes is 4665,', 'total rental bikes is 4128,', 'total rental bikes is 4649,', 'total rental bikes is 6031,', 'total rental bikes is 1349,', 'total rental bikes is 7006,', 'total rental bikes is 4270,', 'total rental bikes is 1815,', 'total rental bikes is 5026,', 'total rental bikes is 5409,', 'total rental bikes is 5323,', 'total rental bikes is 3243,', 'total rental bikes is 5558,', 'total rental bikes is 4169,', 'total rental bikes is 5204,', 'total rental bikes is 4717,', 'total rental bikes is 2808,', 'total rental bikes is 6685,', 'total rental bikes is 3727,', 'total rental bikes is 6824,', 'total rental bikes is 4639,', 'total rental bikes is 1550,', 'total rental bikes is 7504,', 'total rental bikes is 1550,', 'total rental bikes is 3544,', 'total rental bikes is 2162,', 'total rental bikes is 4844,', 'total rental bikes is 5382,', 'total rental bikes is 7691,', 'total rental bikes is 4579,', 'total rental bikes is 6572,', 'total rental bikes is 5895,', 'total rental bikes is 5423,']\n"
     ]
    },
    {
     "name": "stderr",
     "output_type": "stream",
     "text": [
      " 51%|█████     | 510/1000 [03:40<03:43,  2.19it/s]"
     ]
    },
    {
     "name": "stdout",
     "output_type": "stream",
     "text": [
      "['total rental bikes is 3392,', 'total rental bikes is 5119,', 'total rental bikes is 5499,', 'total rental bikes is 7720,', 'total rental bikes is 5936,', 'total rental bikes is 2913,', 'total rental bikes is 6207,', 'total rental bikes is 5026,', 'total rental bikes is 4332,', 'total rental bikes is 431,', 'total rental bikes is 4182,', 'total rental bikes is 6544,', 'total rental bikes is 4381,', 'total rental bikes is 3577,', 'total rental bikes is 4763,', 'total rental bikes is 3761,', 'total rental bikes is 3523,', 'total rental bikes is 6864,', 'total rental bikes is 4400,', 'total rental bikes is 5810,', 'total rental bikes is 5698,', 'total rental bikes is 6691,', 'total rental bikes is 3598,', 'total rental bikes is 3747,', 'total rental bikes is 2660,', 'total rental bikes is 1495,', 'total rental bikes is 1606,', 'total rental bikes is 3855,', 'total rental bikes is 1005,', 'total rental bikes is 4649,', 'total rental bikes is 4302,', 'total rental bikes is 6118,', 'total rental bikes is 3214,', 'total rental bikes is 3867,', 'total rental bikes is 1013,', 'total rental bikes is 3194,', 'total rental bikes is 6869,', 'total rental bikes is 4040,', 'total rental bikes is 4359,', 'total rental bikes is 3623,', 'total rental bikes is 627,', 'total rental bikes is 6211,', 'total rental bikes is 4486,', 'total rental bikes is 1005,', 'total rental bikes is 1708,', 'total rental bikes is 7424,', 'total rental bikes is 4590,', 'total rental bikes is 2914,', 'total rental bikes is 5342,', 'total rental bikes is 1607,']\n"
     ]
    },
    {
     "name": "stderr",
     "output_type": "stream",
     "text": [
      " 52%|█████▏    | 515/1000 [03:42<03:13,  2.50it/s]"
     ]
    },
    {
     "name": "stdout",
     "output_type": "stream",
     "text": [
      "['total rental bikes is 3659,', 'total rental bikes is 7333,', 'total rental bikes is 4342,', 'total rental bikes is 6093,', 'total rental bikes is 7359,', 'total rental bikes is 8167,', 'total rental bikes is 7592,', 'total rental bikes is 1446,', 'total rental bikes is 3487,', 'total rental bikes is 7665,', 'total rental bikes is 5020,', 'total rental bikes is 3777,', 'total rental bikes is 1712,', 'total rental bikes is 5892,', 'total rental bikes is 4339,', 'total rental bikes is 5217,', 'total rental bikes is 6784,', 'total rental bikes is 5312,', 'total rental bikes is 2732,', 'total rental bikes is 4608,', 'total rental bikes is 1807,', 'total rental bikes is 2802,', 'total rental bikes is 7836,', 'total rental bikes is 2162,', 'total rental bikes is 6370,', 'total rental bikes is 6639,', 'total rental bikes is 623,', 'total rental bikes is 5566,', 'total rental bikes is 4713,', 'total rental bikes is 2133,', 'total rental bikes is 4459,', 'total rental bikes is 4862,', 'total rental bikes is 5892,', 'total rental bikes is 6852,', 'total rental bikes is 2689,', 'total rental bikes is 4094,', 'total rental bikes is 4486,', 'total rental bikes is 4795,', 'total rental bikes is 1685,', 'total rental bikes is 5323,', 'total rental bikes is 5687,', 'total rental bikes is 3403,', 'total rental bikes is 4086,', 'total rental bikes is 3487,', 'total rental bikes is 2114,', 'total rental bikes is 5501,', 'total rental bikes is 6778,', 'total rental bikes is 4258,', 'total rental bikes is 7641,', 'total rental bikes is 7665,']\n"
     ]
    },
    {
     "name": "stderr",
     "output_type": "stream",
     "text": [
      " 52%|█████▏    | 516/1000 [03:43<04:05,  1.97it/s]"
     ]
    },
    {
     "name": "stdout",
     "output_type": "stream",
     "text": [
      "['total rental bikes is 6273,', 'total rental bikes is 6786,', 'total rental bikes is 5495,', 'total rental bikes is 6591,', 'total rental bikes is 6779,', 'total rental bikes is 4748,', 'total rental bikes is 5169,', 'total rental bikes is 7335,', 'total rental bikes is 3239,', 'total rental bikes is 3422,', 'total rental bikes is 6660,', 'total rental bikes is 6824,', 'total rental bikes is 3272,', 'total rental bikes is 4486,', 'total rental bikes is 5698,', 'total rental bikes is 3190,', 'total rental bikes is 7592,', 'total rental bikes is 1471,', 'total rental bikes is 2425,', 'total rental bikes is 5511,', 'total rental bikes is 4363,', 'total rental bikes is 4182,', 'total rental bikes is 4187,', 'total rental bikes is 1321,', 'total rental bikes is 4985,', 'total rental bikes is 5010,', 'total rental bikes is 5008,', 'total rental bikes is 1834,', 'total rental bikes is 7538,', 'total rental bikes is 4154,', 'total rental bikes is 4066,', 'total rental bikes is 3331,', 'total rental bikes is 4381,', 'total rental bikes is 4068,', 'total rental bikes is 6169,', 'total rental bikes is 5102,', 'total rental bikes is 8156,', 'total rental bikes is 627,', 'total rental bikes is 3831,', 'total rental bikes is 4067,', 'total rental bikes is 4968,', 'total rental bikes is 4630,', 'total rental bikes is 1985,', 'total rental bikes is 5202,', 'total rental bikes is 3750,', 'total rental bikes is 1969,', 'total rental bikes is 7132,', 'total rental bikes is 1796,', 'total rental bikes is 8167,', 'total rental bikes is 5255,']\n"
     ]
    },
    {
     "name": "stderr",
     "output_type": "stream",
     "text": [
      " 52%|█████▏    | 520/1000 [03:45<03:41,  2.17it/s]"
     ]
    },
    {
     "name": "stdout",
     "output_type": "stream",
     "text": [
      "['total rental bikes is 3310,', 'total rental bikes is 7273,', 'total rental bikes is 5687,', 'total rental bikes is 7129,', 'total rental bikes is 7001,', 'total rental bikes is 7605,', 'total rental bikes is 5976,', 'total rental bikes is 1851,', 'total rental bikes is 7591,', 'total rental bikes is 4266,', 'total rental bikes is 5217,', 'total rental bikes is 4073,', 'total rental bikes is 7498,', 'total rental bikes is 2703,', 'total rental bikes is 2046,', 'total rental bikes is 3194,', 'total rental bikes is 4363,', 'total rental bikes is 7375,', 'total rental bikes is 8395,', 'total rental bikes is 2077,', 'total rental bikes is 5010,', 'total rental bikes is 3744,', 'total rental bikes is 4990,', 'total rental bikes is 5058,', 'total rental bikes is 4911,', 'total rental bikes is 1865,', 'total rental bikes is 2236,', 'total rental bikes is 3194,', 'total rental bikes is 2417,', 'total rental bikes is 3944,', 'total rental bikes is 4189,', 'total rental bikes is 4586,', 'total rental bikes is 6269,', 'total rental bikes is 3761,', 'total rental bikes is 5302,', 'total rental bikes is 6734,', 'total rental bikes is 5875,', 'total rental bikes is 2496,', 'total rental bikes is 6591,', 'total rental bikes is 7442,', 'total rental bikes is 6597,', 'total rental bikes is 6597,', 'total rental bikes is 7175,', 'total rental bikes is 6421,', 'total rental bikes is 3974,', 'total rental bikes is 4338,', 'total rental bikes is 3574,', 'total rental bikes is 5698,', 'total rental bikes is 6421,', 'total rental bikes is 3285,']\n"
     ]
    },
    {
     "name": "stderr",
     "output_type": "stream",
     "text": [
      " 52%|█████▏    | 522/1000 [03:46<04:08,  1.92it/s]"
     ]
    },
    {
     "name": "stdout",
     "output_type": "stream",
     "text": [
      "['total rental bikes is 1013,', 'total rental bikes is 5810,', 'total rental bikes is 4362,', 'total rental bikes is 3747,', 'total rental bikes is 4169,', 'total rental bikes is 2743,', 'total rental bikes is 4274,', 'total rental bikes is 6296,', 'total rental bikes is 7175,', 'total rental bikes is 4585,', 'total rental bikes is 1321,', 'total rental bikes is 5035,', 'total rental bikes is 7702,', 'total rental bikes is 6536,', 'total rental bikes is 1360,', 'total rental bikes is 5805,', 'total rental bikes is 3053,', 'total rental bikes is 7429,', 'total rental bikes is 5191,', 'total rental bikes is 4590,', 'total rental bikes is 1301,', 'total rental bikes is 1248,', 'total rental bikes is 4066,', 'total rental bikes is 4687,', 'total rental bikes is 2177,', 'total rental bikes is 4553,', 'total rental bikes is 5119,', 'total rental bikes is 4073,', 'total rental bikes is 3129,', 'total rental bikes is 4456,', 'total rental bikes is 7350,', 'total rental bikes is 5501,', 'total rental bikes is 1623,', 'total rental bikes is 1341,', 'total rental bikes is 7290,', 'total rental bikes is 1446,', 'total rental bikes is 2077,', 'total rental bikes is 6140,', 'total rental bikes is 4748,', 'total rental bikes is 3747,', 'total rental bikes is 7264,', 'total rental bikes is 3958,', 'total rental bikes is 6597,', 'total rental bikes is 3614,', 'total rental bikes is 2132,', 'total rental bikes is 3389,', 'total rental bikes is 5302,', 'total rental bikes is 2660,', 'total rental bikes is 6978,', 'total rental bikes is 4521,']\n"
     ]
    },
    {
     "name": "stderr",
     "output_type": "stream",
     "text": [
      " 52%|█████▏    | 523/1000 [03:48<05:14,  1.52it/s]"
     ]
    },
    {
     "name": "stdout",
     "output_type": "stream",
     "text": [
      "['total rental bikes is 6824,', 'total rental bikes is 3115,', 'total rental bikes is 4342,', 'total rental bikes is 1685,', 'total rental bikes is 4098,', 'total rental bikes is 6370,', 'total rental bikes is 6296,', 'total rental bikes is 2703,', 'total rental bikes is 3422,', 'total rental bikes is 3740,', 'total rental bikes is 6031,', 'total rental bikes is 5686,', 'total rental bikes is 822,', 'total rental bikes is 6734,', 'total rental bikes is 7836,', 'total rental bikes is 4758,', 'total rental bikes is 6370,', 'total rental bikes is 1985,', 'total rental bikes is 2121,', 'total rental bikes is 985,', 'total rental bikes is 1536,', 'total rental bikes is 3709,', 'total rental bikes is 2689,', 'total rental bikes is 3613,', 'total rental bikes is 7525,', 'total rental bikes is 4332,', 'total rental bikes is 1421,', 'total rental bikes is 5041,', 'total rental bikes is 6073,', 'total rental bikes is 4507,', 'total rental bikes is 3805,', 'total rental bikes is 4266,', 'total rental bikes is 4401,', 'total rental bikes is 1985,', 'total rental bikes is 6312,', 'total rental bikes is 5008,', 'total rental bikes is 2210,', 'total rental bikes is 4714,', 'total rental bikes is 1712,', 'total rental bikes is 6904,', 'total rental bikes is 4073,', 'total rental bikes is 5511,', 'total rental bikes is 5923,', 'total rental bikes is 3717,', 'total rental bikes is 6034,', 'total rental bikes is 6211,', 'total rental bikes is 3663,', 'total rental bikes is 2227,', 'total rental bikes is 3542,', 'total rental bikes is 5728,']\n"
     ]
    },
    {
     "name": "stderr",
     "output_type": "stream",
     "text": [
      " 53%|█████▎    | 526/1000 [03:49<04:48,  1.64it/s]"
     ]
    },
    {
     "name": "stdout",
     "output_type": "stream",
     "text": [
      "['total rental bikes is 4390,', 'total rental bikes is 2121,', 'total rental bikes is 5119,', 'total rental bikes is 4906,', 'total rental bikes is 4036,', 'total rental bikes is 6572,', 'total rental bikes is 7965,', 'total rental bikes is 3846,', 'total rental bikes is 5409,', 'total rental bikes is 2832,', 'total rental bikes is 3577,', 'total rental bikes is 5713,', 'total rental bikes is 2132,', 'total rental bikes is 7273,', 'total rental bikes is 5084,', 'total rental bikes is 5319,', 'total rental bikes is 5047,', 'total rental bikes is 7415,', 'total rental bikes is 3389,', 'total rental bikes is 1167,', 'total rental bikes is 1787,', 'total rental bikes is 920,', 'total rental bikes is 3894,', 'total rental bikes is 4098,', 'total rental bikes is 2485,', 'total rental bikes is 5847,', 'total rental bikes is 1461,', 'total rental bikes is 7498,', 'total rental bikes is 6269,', 'total rental bikes is 4066,', 'total rental bikes is 6031,', 'total rental bikes is 4714,', 'total rental bikes is 2424,', 'total rental bikes is 4220,', 'total rental bikes is 3351,', 'total rental bikes is 3747,', 'total rental bikes is 6207,', 'total rental bikes is 1416,', 'total rental bikes is 1349,', 'total rental bikes is 981,', 'total rental bikes is 7429,', 'total rental bikes is 5986,', 'total rental bikes is 6296,', 'total rental bikes is 4694,', 'total rental bikes is 1360,', 'total rental bikes is 6784,', 'total rental bikes is 1562,', 'total rental bikes is 7460,', 'total rental bikes is 5585,', 'total rental bikes is 4058,']\n"
     ]
    },
    {
     "name": "stderr",
     "output_type": "stream",
     "text": [
      " 53%|█████▎    | 529/1000 [03:51<04:32,  1.73it/s]"
     ]
    },
    {
     "name": "stdout",
     "output_type": "stream",
     "text": [
      "['total rental bikes is 5424,', 'total rental bikes is 8555,', 'total rental bikes is 6169,', 'total rental bikes is 605,', 'total rental bikes is 7852,', 'total rental bikes is 3485,', 'total rental bikes is 8120,', 'total rental bikes is 7175,', 'total rental bikes is 5633,', 'total rental bikes is 4649,', 'total rental bikes is 4075,', 'total rental bikes is 7572,', 'total rental bikes is 2056,', 'total rental bikes is 6904,', 'total rental bikes is 7591,', 'total rental bikes is 4058,', 'total rental bikes is 4023,', 'total rental bikes is 7570,', 'total rental bikes is 5202,', 'total rental bikes is 7691,', 'total rental bikes is 7338,', 'total rental bikes is 3510,', 'total rental bikes is 7421,', 'total rental bikes is 7965,', 'total rental bikes is 1098,', 'total rental bikes is 3204,', 'total rental bikes is 5191,', 'total rental bikes is 8167,', 'total rental bikes is 4123,', 'total rental bikes is 623,', 'total rental bikes is 7446,', 'total rental bikes is 4362,', 'total rental bikes is 3740,', 'total rental bikes is 6544,', 'total rental bikes is 1685,', 'total rental bikes is 6192,', 'total rental bikes is 5875,', 'total rental bikes is 1550,', 'total rental bikes is 2416,', 'total rental bikes is 4362,', 'total rental bikes is 4127,', 'total rental bikes is 4169,', 'total rental bikes is 3623,', 'total rental bikes is 3623,', 'total rental bikes is 4968,', 'total rental bikes is 6536,', 'total rental bikes is 2162,', 'total rental bikes is 4381,', 'total rental bikes is 3624,', 'total rental bikes is 4390,']\n"
     ]
    },
    {
     "name": "stderr",
     "output_type": "stream",
     "text": [
      " 54%|█████▍    | 539/1000 [03:52<02:26,  3.15it/s]"
     ]
    },
    {
     "name": "stdout",
     "output_type": "stream",
     "text": [
      "['total rental bikes is 2792,', 'total rental bikes is 3141,', 'total rental bikes is 4097,', 'total rental bikes is 3409,', 'total rental bikes is 4460,', 'total rental bikes is 6889,', 'total rental bikes is 1749,', 'total rental bikes is 6211,', 'total rental bikes is 3163,', 'total rental bikes is 7836,', 'total rental bikes is 2895,', 'total rental bikes is 6824,', 'total rental bikes is 4590,', 'total rental bikes is 7403,', 'total rental bikes is 4972,', 'total rental bikes is 4630,', 'total rental bikes is 7605,', 'total rental bikes is 2376,', 'total rental bikes is 2210,', 'total rental bikes is 2133,', 'total rental bikes is 7736,', 'total rental bikes is 7591,', 'total rental bikes is 4790,', 'total rental bikes is 4866,', 'total rental bikes is 6998,', 'total rental bikes is 1746,', 'total rental bikes is 4687,', 'total rental bikes is 3249,', 'total rental bikes is 3095,', 'total rental bikes is 3485,', 'total rental bikes is 3784,', 'total rental bikes is 7359,', 'total rental bikes is 2294,', 'total rental bikes is 6041,', 'total rental bikes is 1977,', 'total rental bikes is 4318,', 'total rental bikes is 441,', 'total rental bikes is 7410,', 'total rental bikes is 5905,', 'total rental bikes is 3368,', 'total rental bikes is 4687,', 'total rental bikes is 2056,', 'total rental bikes is 3922,', 'total rental bikes is 4067,', 'total rental bikes is 5634,', 'total rental bikes is 3910,', 'total rental bikes is 6998,', 'total rental bikes is 7446,', 'total rental bikes is 3767,', 'total rental bikes is 4990,']\n"
     ]
    },
    {
     "name": "stderr",
     "output_type": "stream",
     "text": [
      " 54%|█████▍    | 542/1000 [03:54<02:44,  2.78it/s]"
     ]
    },
    {
     "name": "stdout",
     "output_type": "stream",
     "text": [
      "['total rental bikes is 1011,', 'total rental bikes is 5423,', 'total rental bikes is 4639,', 'total rental bikes is 5217,', 'total rental bikes is 7965,', 'total rental bikes is 2121,', 'total rental bikes is 5020,', 'total rental bikes is 3747,', 'total rental bikes is 7333,', 'total rental bikes is 2792,', 'total rental bikes is 3068,', 'total rental bikes is 7852,', 'total rental bikes is 4484,', 'total rental bikes is 4098,', 'total rental bikes is 3811,', 'total rental bikes is 4660,', 'total rental bikes is 1600,', 'total rental bikes is 1708,', 'total rental bikes is 6685,', 'total rental bikes is 7058,', 'total rental bikes is 4258,', 'total rental bikes is 5805,', 'total rental bikes is 7273,', 'total rental bikes is 4773,', 'total rental bikes is 5531,', 'total rental bikes is 3956,', 'total rental bikes is 6889,', 'total rental bikes is 1501,', 'total rental bikes is 7591,', 'total rental bikes is 4274,', 'total rental bikes is 4839,', 'total rental bikes is 7965,', 'total rental bikes is 3620,', 'total rental bikes is 1538,', 'total rental bikes is 7641,', 'total rental bikes is 5499,', 'total rental bikes is 4342,', 'total rental bikes is 7105,', 'total rental bikes is 6597,', 'total rental bikes is 6140,', 'total rental bikes is 7572,', 'total rental bikes is 5180,', 'total rental bikes is 5202,', 'total rental bikes is 6169,', 'total rental bikes is 3348,', 'total rental bikes is 3750,', 'total rental bikes is 5117,', 'total rental bikes is 6852,', 'total rental bikes is 3620,', 'total rental bikes is 4788,']\n"
     ]
    },
    {
     "name": "stderr",
     "output_type": "stream",
     "text": [
      " 55%|█████▍    | 546/1000 [03:55<02:46,  2.72it/s]"
     ]
    },
    {
     "name": "stdout",
     "output_type": "stream",
     "text": [
      "['total rental bikes is 4985,', 'total rental bikes is 4585,', 'total rental bikes is 5464,', 'total rental bikes is 5445,', 'total rental bikes is 4342,', 'total rental bikes is 4563,', 'total rental bikes is 1096,', 'total rental bikes is 7282,', 'total rental bikes is 4840,', 'total rental bikes is 4475,', 'total rental bikes is 7765,', 'total rental bikes is 4459,', 'total rental bikes is 920,', 'total rental bikes is 3831,', 'total rental bikes is 8173,', 'total rental bikes is 3333,', 'total rental bikes is 4338,', 'total rental bikes is 4991,', 'total rental bikes is 4844,', 'total rental bikes is 8156,', 'total rental bikes is 1951,', 'total rental bikes is 7415,', 'total rental bikes is 5170,', 'total rental bikes is 4940,', 'total rental bikes is 2485,', 'total rental bikes is 2077,', 'total rental bikes is 7040,', 'total rental bikes is 7836,', 'total rental bikes is 5786,', 'total rental bikes is 1341,', 'total rental bikes is 6192,', 'total rental bikes is 4456,', 'total rental bikes is 1530,', 'total rental bikes is 5260,', 'total rental bikes is 7363,', 'total rental bikes is 4294,', 'total rental bikes is 4758,', 'total rental bikes is 5686,', 'total rental bikes is 3761,', 'total rental bikes is 2395,', 'total rental bikes is 4066,', 'total rental bikes is 683,', 'total rental bikes is 3331,', 'total rental bikes is 4840,', 'total rental bikes is 3249,', 'total rental bikes is 2729,', 'total rental bikes is 5047,', 'total rental bikes is 4105,', 'total rental bikes is 6230,', 'total rental bikes is 7273,']\n"
     ]
    },
    {
     "name": "stderr",
     "output_type": "stream",
     "text": [
      " 55%|█████▌    | 552/1000 [03:57<02:24,  3.10it/s]"
     ]
    },
    {
     "name": "stdout",
     "output_type": "stream",
     "text": [
      "['total rental bikes is 1796,', 'total rental bikes is 1421,', 'total rental bikes is 3409,', 'total rental bikes is 1891,', 'total rental bikes is 6031,', 'total rental bikes is 2808,', 'total rental bikes is 4679,', 'total rental bikes is 2493,', 'total rental bikes is 7605,', 'total rental bikes is 7403,', 'total rental bikes is 7273,', 'total rental bikes is 6778,', 'total rental bikes is 1263,', 'total rental bikes is 4630,', 'total rental bikes is 6869,', 'total rental bikes is 6207,', 'total rental bikes is 5511,', 'total rental bikes is 4608,', 'total rental bikes is 7286,', 'total rental bikes is 2294,', 'total rental bikes is 3068,', 'total rental bikes is 3940,', 'total rental bikes is 3644,', 'total rental bikes is 1708,', 'total rental bikes is 6241,', 'total rental bikes is 1787,', 'total rental bikes is 4585,', 'total rental bikes is 1349,', 'total rental bikes is 4186,', 'total rental bikes is 4339,', 'total rental bikes is 4687,', 'total rental bikes is 4460,', 'total rental bikes is 7030,', 'total rental bikes is 4840,', 'total rental bikes is 3194,', 'total rental bikes is 3376,', 'total rental bikes is 2169,', 'total rental bikes is 5020,', 'total rental bikes is 4484,', 'total rental bikes is 2633,', 'total rental bikes is 3117,', 'total rental bikes is 5312,', 'total rental bikes is 4602,', 'total rental bikes is 7148,', 'total rental bikes is 4717,', 'total rental bikes is 4333,', 'total rental bikes is 1360,', 'total rental bikes is 7836,', 'total rental bikes is 7129,', 'total rental bikes is 5302,']\n"
     ]
    },
    {
     "name": "stderr",
     "output_type": "stream",
     "text": [
      " 56%|█████▌    | 559/1000 [03:58<02:04,  3.54it/s]"
     ]
    },
    {
     "name": "stdout",
     "output_type": "stream",
     "text": [
      "['total rental bikes is 3126,', 'total rental bikes is 7410,', 'total rental bikes is 6778,', 'total rental bikes is 2689,', 'total rental bikes is 1495,', 'total rental bikes is 1550,', 'total rental bikes is 1650,', 'total rental bikes is 822,', 'total rental bikes is 1000,', 'total rental bikes is 1951,', 'total rental bikes is 6118,', 'total rental bikes is 5041,', 'total rental bikes is 4592,', 'total rental bikes is 4713,', 'total rental bikes is 3333,', 'total rental bikes is 7605,', 'total rental bikes is 4630,', 'total rental bikes is 5515,', 'total rental bikes is 7865,', 'total rental bikes is 7216,', 'total rental bikes is 7458,', 'total rental bikes is 4035,', 'total rental bikes is 5046,', 'total rental bikes is 4539,', 'total rental bikes is 7429,', 'total rental bikes is 5375,', 'total rental bikes is 5687,', 'total rental bikes is 6857,', 'total rental bikes is 6969,', 'total rental bikes is 431,', 'total rental bikes is 5312,', 'total rental bikes is 2832,', 'total rental bikes is 4333,', 'total rental bikes is 2277,', 'total rental bikes is 4669,', 'total rental bikes is 1746,', 'total rental bikes is 4826,', 'total rental bikes is 3272,', 'total rental bikes is 3606,', 'total rental bikes is 2034,', 'total rental bikes is 6370,', 'total rental bikes is 4205,', 'total rental bikes is 5298,', 'total rental bikes is 4067,', 'total rental bikes is 5698,', 'total rental bikes is 6192,', 'total rental bikes is 4367,', 'total rental bikes is 7363,', 'total rental bikes is 2471,', 'total rental bikes is 5259,']\n"
     ]
    },
    {
     "name": "stderr",
     "output_type": "stream",
     "text": [
      " 56%|█████▌    | 562/1000 [04:00<02:21,  3.09it/s]"
     ]
    },
    {
     "name": "stdout",
     "output_type": "stream",
     "text": [
      "['total rental bikes is 4792,', 'total rental bikes is 2077,', 'total rental bikes is 6824,', 'total rental bikes is 754,', 'total rental bikes is 4120,', 'total rental bikes is 1472,', 'total rental bikes is 4917,', 'total rental bikes is 6457,', 'total rental bikes is 3095,', 'total rental bikes is 5558,', 'total rental bikes is 7290,', 'total rental bikes is 2368,', 'total rental bikes is 3520,', 'total rental bikes is 1550,', 'total rental bikes is 6889,', 'total rental bikes is 5312,', 'total rental bikes is 4123,', 'total rental bikes is 3333,', 'total rental bikes is 1360,', 'total rental bikes is 6778,', 'total rental bikes is 1416,', 'total rental bikes is 2114,', 'total rental bikes is 4978,', 'total rental bikes is 2914,', 'total rental bikes is 1472,', 'total rental bikes is 5255,', 'total rental bikes is 6043,', 'total rental bikes is 7290,', 'total rental bikes is 3068,', 'total rental bikes is 1162,', 'total rental bikes is 8555,', 'total rental bikes is 5202,', 'total rental bikes is 5511,', 'total rental bikes is 3267,', 'total rental bikes is 5668,', 'total rental bikes is 2933,', 'total rental bikes is 6904,', 'total rental bikes is 3510,', 'total rental bikes is 2210,', 'total rental bikes is 1996,', 'total rental bikes is 2425,', 'total rental bikes is 3333,', 'total rental bikes is 1650,', 'total rental bikes is 4073,', 'total rental bikes is 7534,', 'total rental bikes is 3750,', 'total rental bikes is 3190,', 'total rental bikes is 3873,', 'total rental bikes is 2732,', 'total rental bikes is 4792,']\n"
     ]
    },
    {
     "name": "stderr",
     "output_type": "stream",
     "text": [
      " 57%|█████▋    | 569/1000 [04:01<02:01,  3.54it/s]"
     ]
    },
    {
     "name": "stdout",
     "output_type": "stream",
     "text": [
      "['total rental bikes is 3974,', 'total rental bikes is 4906,', 'total rental bikes is 2455,', 'total rental bikes is 3786,', 'total rental bikes is 7216,', 'total rental bikes is 1605,', 'total rental bikes is 4966,', 'total rental bikes is 1543,', 'total rental bikes is 4023,', 'total rental bikes is 7393,', 'total rental bikes is 2311,', 'total rental bikes is 3761,', 'total rental bikes is 7175,', 'total rental bikes is 1301,', 'total rental bikes is 5687,', 'total rental bikes is 5572,', 'total rental bikes is 4459,', 'total rental bikes is 6998,', 'total rental bikes is 4304,', 'total rental bikes is 4917,', 'total rental bikes is 7494,', 'total rental bikes is 1501,', 'total rental bikes is 6891,', 'total rental bikes is 5495,', 'total rental bikes is 7665,', 'total rental bikes is 4586,', 'total rental bikes is 2933,', 'total rental bikes is 2913,', 'total rental bikes is 3423,', 'total rental bikes is 4058,', 'total rental bikes is 3372,', 'total rental bikes is 6169,', 'total rental bikes is 2660,', 'total rental bikes is 6133,', 'total rental bikes is 4401,', 'total rental bikes is 2429,', 'total rental bikes is 6436,', 'total rental bikes is 1416,', 'total rental bikes is 1787,', 'total rental bikes is 7058,', 'total rental bikes is 3846,', 'total rental bikes is 6312,', 'total rental bikes is 4990,', 'total rental bikes is 801,', 'total rental bikes is 1360,', 'total rental bikes is 7494,', 'total rental bikes is 5743,', 'total rental bikes is 2918,', 'total rental bikes is 4266,', 'total rental bikes is 3190,']\n"
     ]
    },
    {
     "name": "stderr",
     "output_type": "stream",
     "text": [
      " 57%|█████▋    | 573/1000 [04:03<02:10,  3.27it/s]"
     ]
    },
    {
     "name": "stdout",
     "output_type": "stream",
     "text": [
      "['total rental bikes is 1162,', 'total rental bikes is 4191,', 'total rental bikes is 5102,', 'total rental bikes is 3510,', 'total rental bikes is 7570,', 'total rental bikes is 2034,', 'total rental bikes is 6779,', 'total rental bikes is 4400,', 'total rental bikes is 4205,', 'total rental bikes is 2914,', 'total rental bikes is 5087,', 'total rental bikes is 2294,', 'total rental bikes is 5478,', 'total rental bikes is 1685,', 'total rental bikes is 6685,', 'total rental bikes is 1685,', 'total rental bikes is 1027,', 'total rental bikes is 2056,', 'total rental bikes is 1872,', 'total rental bikes is 4649,', 'total rental bikes is 6041,', 'total rental bikes is 5445,', 'total rental bikes is 4549,', 'total rental bikes is 683,', 'total rental bikes is 1248,', 'total rental bikes is 5375,', 'total rental bikes is 6043,', 'total rental bikes is 3867,', 'total rental bikes is 3214,', 'total rental bikes is 5918,', 'total rental bikes is 3403,', 'total rental bikes is 7907,', 'total rental bikes is 7582,', 'total rental bikes is 4833,', 'total rental bikes is 5810,', 'total rental bikes is 3840,', 'total rental bikes is 5146,', 'total rental bikes is 6624,', 'total rental bikes is 7436,', 'total rental bikes is 7965,', 'total rental bikes is 4996,', 'total rental bikes is 4916,', 'total rental bikes is 1712,', 'total rental bikes is 1607,', 'total rental bikes is 6312,', 'total rental bikes is 3163,', 'total rental bikes is 3403,', 'total rental bikes is 7804,', 'total rental bikes is 3214,', 'total rental bikes is 4150,']\n"
     ]
    },
    {
     "name": "stderr",
     "output_type": "stream",
     "text": [
      " 58%|█████▊    | 578/1000 [04:05<02:09,  3.26it/s]"
     ]
    },
    {
     "name": "stdout",
     "output_type": "stream",
     "text": [
      "['total rental bikes is 5115,', 'total rental bikes is 2689,', 'total rental bikes is 6660,', 'total rental bikes is 4342,', 'total rental bikes is 6569,', 'total rental bikes is 3351,', 'total rental bikes is 2566,', 'total rental bikes is 1204,', 'total rental bikes is 4400,', 'total rental bikes is 5992,', 'total rental bikes is 8120,', 'total rental bikes is 1536,', 'total rental bikes is 6392,', 'total rental bikes is 7570,', 'total rental bikes is 3333,', 'total rental bikes is 4763,', 'total rental bikes is 5146,', 'total rental bikes is 5611,', 'total rental bikes is 1749,', 'total rental bikes is 8009,', 'total rental bikes is 4966,', 'total rental bikes is 7697,', 'total rental bikes is 1529,', 'total rental bikes is 4679,', 'total rental bikes is 6230,', 'total rental bikes is 5319,', 'total rental bikes is 6685,', 'total rental bikes is 4795,', 'total rental bikes is 5847,', 'total rental bikes is 4334,', 'total rental bikes is 2832,', 'total rental bikes is 2425,', 'total rental bikes is 5298,', 'total rental bikes is 1834,', 'total rental bikes is 6312,', 'total rental bikes is 5084,', 'total rental bikes is 3376,', 'total rental bikes is 1815,', 'total rental bikes is 7460,', 'total rental bikes is 4744,', 'total rental bikes is 5342,', 'total rental bikes is 7112,', 'total rental bikes is 1606,', 'total rental bikes is 4592,', 'total rental bikes is 2659,', 'total rental bikes is 6734,', 'total rental bikes is 5810,', 'total rental bikes is 5532,', 'total rental bikes is 3910,', 'total rental bikes is 1115,']\n"
     ]
    },
    {
     "name": "stderr",
     "output_type": "stream",
     "text": [
      " 58%|█████▊    | 580/1000 [04:06<02:37,  2.67it/s]"
     ]
    },
    {
     "name": "stdout",
     "output_type": "stream",
     "text": [
      "['total rental bikes is 5976,', 'total rental bikes is 6043,', 'total rental bikes is 5259,', 'total rental bikes is 2368,', 'total rental bikes is 2294,', 'total rental bikes is 4717,', 'total rental bikes is 4966,', 'total rental bikes is 4010,', 'total rental bikes is 4118,', 'total rental bikes is 3747,', 'total rental bikes is 3910,', 'total rental bikes is 1510,', 'total rental bikes is 3214,', 'total rental bikes is 4220,', 'total rental bikes is 6233,', 'total rental bikes is 6093,', 'total rental bikes is 2689,', 'total rental bikes is 4744,', 'total rental bikes is 6864,', 'total rental bikes is 6883,', 'total rental bikes is 7421,', 'total rental bikes is 7461,', 'total rental bikes is 1746,', 'total rental bikes is 3907,', 'total rental bikes is 3740,', 'total rental bikes is 1635,', 'total rental bikes is 4266,', 'total rental bikes is 1096,', 'total rental bikes is 2792,', 'total rental bikes is 22,', 'total rental bikes is 4105,', 'total rental bikes is 1969,', 'total rental bikes is 5047,', 'total rental bikes is 2192,', 'total rental bikes is 1450,', 'total rental bikes is 7109,', 'total rental bikes is 5629,', 'total rental bikes is 2423,', 'total rental bikes is 3940,', 'total rental bikes is 4765,', 'total rental bikes is 4758,', 'total rental bikes is 4891,', 'total rental bikes is 4521,', 'total rental bikes is 2743,', 'total rental bikes is 7525,', 'total rental bikes is 2298,', 'total rental bikes is 6660,', 'total rental bikes is 7458,', 'total rental bikes is 623,', 'total rental bikes is 5463,']\n"
     ]
    },
    {
     "name": "stderr",
     "output_type": "stream",
     "text": [
      " 58%|█████▊    | 581/1000 [04:08<03:22,  2.07it/s]"
     ]
    },
    {
     "name": "stdout",
     "output_type": "stream",
     "text": [
      "['total rental bikes is 7691,', 'total rental bikes is 5558,', 'total rental bikes is 5743,', 'total rental bikes is 3717,', 'total rental bikes is 6891,', 'total rental bikes is 6966,', 'total rental bikes is 3163,', 'total rental bikes is 5805,', 'total rental bikes is 2423,', 'total rental bikes is 4687,', 'total rental bikes is 8227,', 'total rental bikes is 3403,', 'total rental bikes is 4549,', 'total rental bikes is 4548,', 'total rental bikes is 7290,', 'total rental bikes is 4795,', 'total rental bikes is 4679,', 'total rental bikes is 7460,', 'total rental bikes is 1446,', 'total rental bikes is 4035,', 'total rental bikes is 4765,', 'total rental bikes is 3376,', 'total rental bikes is 7466,', 'total rental bikes is 3777,', 'total rental bikes is 4375,', 'total rental bikes is 5267,', 'total rental bikes is 5478,', 'total rental bikes is 605,', 'total rental bikes is 4608,', 'total rental bikes is 4758,', 'total rental bikes is 3005,', 'total rental bikes is 4258,', 'total rental bikes is 4570,', 'total rental bikes is 3129,', 'total rental bikes is 4630,', 'total rental bikes is 1248,', 'total rental bikes is 4744,', 'total rental bikes is 6153,', 'total rental bikes is 1817,', 'total rental bikes is 4154,', 'total rental bikes is 1538,', 'total rental bikes is 3663,', 'total rental bikes is 5743,', 'total rental bikes is 2192,', 'total rental bikes is 2417,', 'total rental bikes is 4630,', 'total rental bikes is 4220,', 'total rental bikes is 1708,', 'total rental bikes is 4484,', 'total rental bikes is 2743,']\n"
     ]
    },
    {
     "name": "stderr",
     "output_type": "stream",
     "text": [
      " 59%|█████▊    | 586/1000 [04:09<02:51,  2.42it/s]"
     ]
    },
    {
     "name": "stdout",
     "output_type": "stream",
     "text": [
      "['total rental bikes is 7504,', 'total rental bikes is 4274,', 'total rental bikes is 8156,', 'total rental bikes is 7605,', 'total rental bikes is 6864,', 'total rental bikes is 4539,', 'total rental bikes is 4040,', 'total rental bikes is 4075,', 'total rental bikes is 4665,', 'total rental bikes is 2566,', 'total rental bikes is 2077,', 'total rental bikes is 920,', 'total rental bikes is 4649,', 'total rental bikes is 1530,', 'total rental bikes is 6883,', 'total rental bikes is 6093,', 'total rental bikes is 2471,', 'total rental bikes is 4590,', 'total rental bikes is 6034,', 'total rental bikes is 985,', 'total rental bikes is 4549,', 'total rental bikes is 3267,', 'total rental bikes is 7442,', 'total rental bikes is 4713,', 'total rental bikes is 4150,', 'total rental bikes is 1204,', 'total rental bikes is 3940,', 'total rental bikes is 3068,', 'total rental bikes is 2432,', 'total rental bikes is 4186,', 'total rental bikes is 4367,', 'total rental bikes is 2162,', 'total rental bikes is 3574,', 'total rental bikes is 4758,', 'total rental bikes is 2947,', 'total rental bikes is 3129,', 'total rental bikes is 4381,', 'total rental bikes is 5026,', 'total rental bikes is 4040,', 'total rental bikes is 7804,', 'total rental bikes is 6290,', 'total rental bikes is 4333,', 'total rental bikes is 5409,', 'total rental bikes is 3717,', 'total rental bikes is 5087,', 'total rental bikes is 4590,', 'total rental bikes is 3095,', 'total rental bikes is 7466,', 'total rental bikes is 1341,', 'total rental bikes is 8156,']\n"
     ]
    },
    {
     "name": "stderr",
     "output_type": "stream",
     "text": [
      " 59%|█████▉    | 590/1000 [04:11<02:49,  2.42it/s]"
     ]
    },
    {
     "name": "stdout",
     "output_type": "stream",
     "text": [
      "['total rental bikes is 5976,', 'total rental bikes is 2455,', 'total rental bikes is 1406,', 'total rental bikes is 4304,', 'total rental bikes is 4881,', 'total rental bikes is 2802,', 'total rental bikes is 1321,', 'total rental bikes is 7907,', 'total rental bikes is 2792,', 'total rental bikes is 4592,', 'total rental bikes is 3915,', 'total rental bikes is 6852,', 'total rental bikes is 7592,', 'total rental bikes is 3331,', 'total rental bikes is 7148,', 'total rental bikes is 5629,', 'total rental bikes is 5976,', 'total rental bikes is 1162,', 'total rental bikes is 3194,', 'total rental bikes is 3348,', 'total rental bikes is 4010,', 'total rental bikes is 1834,', 'total rental bikes is 1341,', 'total rental bikes is 2252,', 'total rental bikes is 7639,', 'total rental bikes is 3372,', 'total rental bikes is 5687,', 'total rental bikes is 1495,', 'total rental bikes is 3641,', 'total rental bikes is 3846,', 'total rental bikes is 6883,', 'total rental bikes is 8714,', 'total rental bikes is 4521,', 'total rental bikes is 3761,', 'total rental bikes is 5423,', 'total rental bikes is 3376,', 'total rental bikes is 5062,', 'total rental bikes is 6140,', 'total rental bikes is 623,', 'total rental bikes is 6857,', 'total rental bikes is 1683,', 'total rental bikes is 7013,', 'total rental bikes is 2765,', 'total rental bikes is 4189,', 'total rental bikes is 4187,', 'total rental bikes is 3777,', 'total rental bikes is 2703,', 'total rental bikes is 4258,', 'total rental bikes is 7591,', 'total rental bikes is 920,']\n"
     ]
    },
    {
     "name": "stderr",
     "output_type": "stream",
     "text": [
      " 59%|█████▉    | 591/1000 [04:12<03:36,  1.89it/s]"
     ]
    },
    {
     "name": "stdout",
     "output_type": "stream",
     "text": [
      "['total rental bikes is 3487,', 'total rental bikes is 5409,', 'total rental bikes is 7363,', 'total rental bikes is 4195,', 'total rental bikes is 5102,', 'total rental bikes is 1536,', 'total rental bikes is 3053,', 'total rental bikes is 6118,', 'total rental bikes is 3228,', 'total rental bikes is 7836,', 'total rental bikes is 2802,', 'total rental bikes is 3974,', 'total rental bikes is 5740,', 'total rental bikes is 2302,', 'total rental bikes is 4086,', 'total rental bikes is 2162,', 'total rental bikes is 3126,', 'total rental bikes is 6660,', 'total rental bikes is 1529,', 'total rental bikes is 1501,', 'total rental bikes is 1341,', 'total rental bikes is 4105,', 'total rental bikes is 3840,', 'total rental bikes is 4833,', 'total rental bikes is 3811,', 'total rental bikes is 1650,', 'total rental bikes is 3872,', 'total rental bikes is 4590,', 'total rental bikes is 4595,', 'total rental bikes is 3750,', 'total rental bikes is 6591,', 'total rental bikes is 1927,', 'total rental bikes is 4128,', 'total rental bikes is 5315,', 'total rental bikes is 4123,', 'total rental bikes is 1450,', 'total rental bikes is 8120,', 'total rental bikes is 7132,', 'total rental bikes is 5180,', 'total rental bikes is 1013,', 'total rental bikes is 3214,', 'total rental bikes is 1650,', 'total rental bikes is 7384,', 'total rental bikes is 3974,', 'total rental bikes is 4916,', 'total rental bikes is 6544,', 'total rental bikes is 1204,', 'total rental bikes is 7393,', 'total rental bikes is 4765,', 'total rental bikes is 4763,']\n"
     ]
    },
    {
     "name": "stderr",
     "output_type": "stream",
     "text": [
      " 60%|█████▉    | 595/1000 [04:14<03:12,  2.10it/s]"
     ]
    },
    {
     "name": "stdout",
     "output_type": "stream",
     "text": [
      "['total rental bikes is 1605,', 'total rental bikes is 2732,', 'total rental bikes is 2689,', 'total rental bikes is 4845,', 'total rental bikes is 3372,', 'total rental bikes is 1096,', 'total rental bikes is 986,', 'total rental bikes is 3372,', 'total rental bikes is 3624,', 'total rental bikes is 4036,', 'total rental bikes is 3717,', 'total rental bikes is 1501,', 'total rental bikes is 6192,', 'total rental bikes is 1013,', 'total rental bikes is 4266,', 'total rental bikes is 5895,', 'total rental bikes is 3830,', 'total rental bikes is 4338,', 'total rental bikes is 2933,', 'total rental bikes is 6598,', 'total rental bikes is 2368,', 'total rental bikes is 2918,', 'total rental bikes is 5130,', 'total rental bikes is 2077,', 'total rental bikes is 4150,', 'total rental bikes is 6196,', 'total rental bikes is 4634,', 'total rental bikes is 1000,', 'total rental bikes is 7538,', 'total rental bikes is 5478,', 'total rental bikes is 5130,', 'total rental bikes is 6536,', 'total rental bikes is 5740,', 'total rental bikes is 3053,', 'total rental bikes is 5729,', 'total rental bikes is 3243,', 'total rental bikes is 6978,', 'total rental bikes is 6153,', 'total rental bikes is 2429,', 'total rental bikes is 5499,', 'total rental bikes is 5459,', 'total rental bikes is 4835,', 'total rental bikes is 4765,', 'total rental bikes is 985,', 'total rental bikes is 4128,', 'total rental bikes is 1977,', 'total rental bikes is 1796,', 'total rental bikes is 8294,', 'total rental bikes is 7264,', 'total rental bikes is 5115,']\n"
     ]
    },
    {
     "name": "stderr",
     "output_type": "stream",
     "text": [
      " 60%|█████▉    | 598/1000 [04:15<03:15,  2.06it/s]"
     ]
    },
    {
     "name": "stdout",
     "output_type": "stream",
     "text": [
      "['total rental bikes is 6871,', 'total rental bikes is 7582,', 'total rental bikes is 3542,', 'total rental bikes is 3907,', 'total rental bikes is 5409,', 'total rental bikes is 6043,', 'total rental bikes is 5923,', 'total rental bikes is 5875,', 'total rental bikes is 5582,', 'total rental bikes is 6230,', 'total rental bikes is 754,', 'total rental bikes is 5875,', 'total rental bikes is 1550,', 'total rental bikes is 5905,', 'total rental bikes is 5119,', 'total rental bikes is 3544,', 'total rental bikes is 1495,', 'total rental bikes is 6591,', 'total rental bikes is 1167,', 'total rental bikes is 5191,', 'total rental bikes is 7691,', 'total rental bikes is 4040,', 'total rental bikes is 4322,', 'total rental bikes is 7591,', 'total rental bikes is 6998,', 'total rental bikes is 3784,', 'total rental bikes is 5810,', 'total rental bikes is 4507,', 'total rental bikes is 3831,', 'total rental bikes is 7498,', 'total rental bikes is 4378,', 'total rental bikes is 7384,', 'total rental bikes is 6235,', 'total rental bikes is 7580,', 'total rental bikes is 6140,', 'total rental bikes is 822,', 'total rental bikes is 3974,', 'total rental bikes is 605,', 'total rental bikes is 4649,', 'total rental bikes is 5312,', 'total rental bikes is 4665,', 'total rental bikes is 1712,', 'total rental bikes is 6778,', 'total rental bikes is 3351,', 'total rental bikes is 4833,', 'total rental bikes is 2209,', 'total rental bikes is 6041,', 'total rental bikes is 4592,', 'total rental bikes is 5409,', 'total rental bikes is 4150,']\n"
     ]
    },
    {
     "name": "stderr",
     "output_type": "stream",
     "text": [
      " 60%|██████    | 602/1000 [04:17<03:01,  2.20it/s]"
     ]
    },
    {
     "name": "stdout",
     "output_type": "stream",
     "text": [
      "['total rental bikes is 4648,', 'total rental bikes is 7570,', 'total rental bikes is 2566,', 'total rental bikes is 3974,', 'total rental bikes is 4608,', 'total rental bikes is 3867,', 'total rental bikes is 3574,', 'total rental bikes is 6569,', 'total rental bikes is 6572,', 'total rental bikes is 1543,', 'total rental bikes is 4186,', 'total rental bikes is 6864,', 'total rental bikes is 4549,', 'total rental bikes is 959,', 'total rental bikes is 7442,', 'total rental bikes is 3840,', 'total rental bikes is 3649,', 'total rental bikes is 5087,', 'total rental bikes is 683,', 'total rental bikes is 431,', 'total rental bikes is 2743,', 'total rental bikes is 1406,', 'total rental bikes is 7058,', 'total rental bikes is 3292,', 'total rental bikes is 8395,', 'total rental bikes is 4375,', 'total rental bikes is 7436,', 'total rental bikes is 5566,', 'total rental bikes is 1951,', 'total rental bikes is 6772,', 'total rental bikes is 6891,', 'total rental bikes is 7733,', 'total rental bikes is 3272,', 'total rental bikes is 4714,', 'total rental bikes is 7446,', 'total rental bikes is 8395,', 'total rental bikes is 7030,', 'total rental bikes is 4713,', 'total rental bikes is 7965,', 'total rental bikes is 4035,', 'total rental bikes is 7697,', 'total rental bikes is 4785,', 'total rental bikes is 7534,', 'total rental bikes is 4274,', 'total rental bikes is 4068,', 'total rental bikes is 4665,', 'total rental bikes is 5362,', 'total rental bikes is 4576,', 'total rental bikes is 7013,', 'total rental bikes is 5478,']\n"
     ]
    },
    {
     "name": "stderr",
     "output_type": "stream",
     "text": [
      " 60%|██████    | 604/1000 [04:19<03:24,  1.93it/s]"
     ]
    },
    {
     "name": "stdout",
     "output_type": "stream",
     "text": [
      "['total rental bikes is 4036,', 'total rental bikes is 3873,', 'total rental bikes is 5847,', 'total rental bikes is 6227,', 'total rental bikes is 5099,', 'total rental bikes is 4509,', 'total rental bikes is 4400,', 'total rental bikes is 7261,', 'total rental bikes is 7665,', 'total rental bikes is 3840,', 'total rental bikes is 2046,', 'total rental bikes is 7415,', 'total rental bikes is 7006,', 'total rental bikes is 6904,', 'total rental bikes is 6370,', 'total rental bikes is 5312,', 'total rental bikes is 5041,', 'total rental bikes is 5119,', 'total rental bikes is 3368,', 'total rental bikes is 4991,', 'total rental bikes is 6569,', 'total rental bikes is 2210,', 'total rental bikes is 7460,', 'total rental bikes is 3243,', 'total rental bikes is 4507,', 'total rental bikes is 5191,', 'total rental bikes is 5905,', 'total rental bikes is 4765,', 'total rental bikes is 2744,', 'total rental bikes is 6966,', 'total rental bikes is 2935,', 'total rental bikes is 6227,', 'total rental bikes is 3204,', 'total rental bikes is 2298,', 'total rental bikes is 1248,', 'total rental bikes is 4484,', 'total rental bikes is 1851,', 'total rental bikes is 3423,', 'total rental bikes is 3372,', 'total rental bikes is 3784,', 'total rental bikes is 3624,', 'total rental bikes is 6891,', 'total rental bikes is 3348,', 'total rental bikes is 4996,', 'total rental bikes is 4322,', 'total rental bikes is 1927,', 'total rental bikes is 2395,', 'total rental bikes is 7363,', 'total rental bikes is 3331,', 'total rental bikes is 4553,']\n"
     ]
    },
    {
     "name": "stderr",
     "output_type": "stream",
     "text": [
      " 61%|██████    | 608/1000 [04:20<03:02,  2.14it/s]"
     ]
    },
    {
     "name": "stdout",
     "output_type": "stream",
     "text": [
      "['total rental bikes is 1944,', 'total rental bikes is 2227,', 'total rental bikes is 4940,', 'total rental bikes is 2028,', 'total rental bikes is 5312,', 'total rental bikes is 4725,', 'total rental bikes is 2395,', 'total rental bikes is 5923,', 'total rental bikes is 2121,', 'total rental bikes is 4189,', 'total rental bikes is 6772,', 'total rental bikes is 5668,', 'total rental bikes is 3239,', 'total rental bikes is 1796,', 'total rental bikes is 1495,', 'total rental bikes is 7375,', 'total rental bikes is 7403,', 'total rental bikes is 3614,', 'total rental bikes is 3292,', 'total rental bikes is 3422,', 'total rental bikes is 4507,', 'total rental bikes is 1891,', 'total rental bikes is 7870,', 'total rental bikes is 6606,', 'total rental bikes is 5511,', 'total rental bikes is 3846,', 'total rental bikes is 5130,', 'total rental bikes is 5743,', 'total rental bikes is 3831,', 'total rental bikes is 3292,', 'total rental bikes is 7421,', 'total rental bikes is 7429,', 'total rental bikes is 3777,', 'total rental bikes is 5115,', 'total rental bikes is 5538,', 'total rental bikes is 3786,', 'total rental bikes is 1472,', 'total rental bikes is 5875,', 'total rental bikes is 2056,', 'total rental bikes is 5115,', 'total rental bikes is 4294,', 'total rental bikes is 2999,', 'total rental bikes is 4758,', 'total rental bikes is 3811,', 'total rental bikes is 3409,', 'total rental bikes is 5423,', 'total rental bikes is 4648,', 'total rental bikes is 4758,', 'total rental bikes is 4714,', 'total rental bikes is 1096,']\n"
     ]
    },
    {
     "name": "stderr",
     "output_type": "stream",
     "text": [
      " 61%|██████    | 610/1000 [04:22<03:24,  1.90it/s]"
     ]
    },
    {
     "name": "stdout",
     "output_type": "stream",
     "text": [
      "['total rental bikes is 4839,', 'total rental bikes is 3322,', 'total rental bikes is 3214,', 'total rental bikes is 3068,', 'total rental bikes is 3071,', 'total rental bikes is 3663,', 'total rental bikes is 2034,', 'total rental bikes is 7030,', 'total rental bikes is 4864,', 'total rental bikes is 1851,', 'total rental bikes is 3709,', 'total rental bikes is 2395,', 'total rental bikes is 5375,', 'total rental bikes is 22,', 'total rental bikes is 4098,', 'total rental bikes is 4765,', 'total rental bikes is 4105,', 'total rental bikes is 6043,', 'total rental bikes is 3623,', 'total rental bikes is 3811,', 'total rental bikes is 2914,', 'total rental bikes is 2689,', 'total rental bikes is 3285,', 'total rental bikes is 5728,', 'total rental bikes is 1167,', 'total rental bikes is 3129,', 'total rental bikes is 4460,', 'total rental bikes is 3831,', 'total rental bikes is 5478,', 'total rental bikes is 5008,', 'total rental bikes is 4634,', 'total rental bikes is 6825,', 'total rental bikes is 7767,', 'total rental bikes is 2927,', 'total rental bikes is 6041,', 'total rental bikes is 4595,', 'total rental bikes is 3228,', 'total rental bikes is 5119,', 'total rental bikes is 6904,', 'total rental bikes is 8167,', 'total rental bikes is 3614,', 'total rental bikes is 2429,', 'total rental bikes is 4169,', 'total rental bikes is 1495,', 'total rental bikes is 7965,', 'total rental bikes is 1817,', 'total rental bikes is 4308,', 'total rental bikes is 6857,', 'total rental bikes is 5146,', 'total rental bikes is 4359,']\n"
     ]
    },
    {
     "name": "stderr",
     "output_type": "stream",
     "text": [
      " 61%|██████▏   | 613/1000 [04:23<03:24,  1.89it/s]"
     ]
    },
    {
     "name": "stdout",
     "output_type": "stream",
     "text": [
      "['total rental bikes is 2402,', 'total rental bikes is 1011,', 'total rental bikes is 5740,', 'total rental bikes is 7129,', 'total rental bikes is 7393,', 'total rental bikes is 6241,', 'total rental bikes is 7393,', 'total rental bikes is 5686,', 'total rental bikes is 5117,', 'total rental bikes is 5424,', 'total rental bikes is 3570,', 'total rental bikes is 2913,', 'total rental bikes is 1807,', 'total rental bikes is 2395,', 'total rental bikes is 4484,', 'total rental bikes is 5463,', 'total rental bikes is 4906,', 'total rental bikes is 2802,', 'total rental bikes is 6043,', 'total rental bikes is 3005,', 'total rental bikes is 5115,', 'total rental bikes is 5611,', 'total rental bikes is 7461,', 'total rental bikes is 4274,', 'total rental bikes is 1115,', 'total rental bikes is 2162,', 'total rental bikes is 7870,', 'total rental bikes is 7572,', 'total rental bikes is 1985,', 'total rental bikes is 4629,', 'total rental bikes is 5698,', 'total rental bikes is 6290,', 'total rental bikes is 5611,', 'total rental bikes is 7421,', 'total rental bikes is 6565,', 'total rental bikes is 5992,', 'total rental bikes is 7713,', 'total rental bikes is 822,', 'total rental bikes is 6227,', 'total rental bikes is 5191,', 'total rental bikes is 8120,', 'total rental bikes is 5260,', 'total rental bikes is 2933,', 'total rental bikes is 4595,', 'total rental bikes is 2429,', 'total rental bikes is 7499,', 'total rental bikes is 7442,', 'total rental bikes is 5323,', 'total rental bikes is 4968,', 'total rental bikes is 3956,']\n"
     ]
    },
    {
     "name": "stderr",
     "output_type": "stream",
     "text": [
      " 62%|██████▏   | 618/1000 [04:25<02:45,  2.30it/s]"
     ]
    },
    {
     "name": "stdout",
     "output_type": "stream",
     "text": [
      "['total rental bikes is 1927,', 'total rental bikes is 4390,', 'total rental bikes is 1685,', 'total rental bikes is 3956,', 'total rental bikes is 4833,', 'total rental bikes is 5629,', 'total rental bikes is 7733,', 'total rental bikes is 5895,', 'total rental bikes is 5336,', 'total rental bikes is 5138,', 'total rental bikes is 5191,', 'total rental bikes is 2802,', 'total rental bikes is 6053,', 'total rental bikes is 4509,', 'total rental bikes is 6830,', 'total rental bikes is 7639,', 'total rental bikes is 3598,', 'total rental bikes is 2115,', 'total rental bikes is 5342,', 'total rental bikes is 7424,', 'total rental bikes is 2659,', 'total rental bikes is 3409,', 'total rental bikes is 1550,', 'total rental bikes is 6904,', 'total rental bikes is 4123,', 'total rental bikes is 7582,', 'total rental bikes is 5202,', 'total rental bikes is 2485,', 'total rental bikes is 3926,', 'total rental bikes is 3292,', 'total rental bikes is 4401,', 'total rental bikes is 7582,', 'total rental bikes is 4917,', 'total rental bikes is 795,', 'total rental bikes is 4966,', 'total rental bikes is 3520,', 'total rental bikes is 1501,', 'total rental bikes is 4586,', 'total rental bikes is 3544,', 'total rental bikes is 5976,', 'total rental bikes is 6824,', 'total rental bikes is 7702,', 'total rental bikes is 1248,', 'total rental bikes is 6734,', 'total rental bikes is 1969,', 'total rental bikes is 7697,', 'total rental bikes is 5918,', 'total rental bikes is 5312,', 'total rental bikes is 3523,', 'total rental bikes is 4381,']\n"
     ]
    },
    {
     "name": "stderr",
     "output_type": "stream",
     "text": [
      " 62%|██████▏   | 620/1000 [04:26<03:10,  2.00it/s]"
     ]
    },
    {
     "name": "stdout",
     "output_type": "stream",
     "text": [
      "['total rental bikes is 5423,', 'total rental bikes is 5058,', 'total rental bikes is 7282,', 'total rental bikes is 4539,', 'total rental bikes is 7442,', 'total rental bikes is 3423,', 'total rental bikes is 7105,', 'total rental bikes is 6869,', 'total rental bikes is 4302,', 'total rental bikes is 3669,', 'total rental bikes is 6871,', 'total rental bikes is 2177,', 'total rental bikes is 1341,', 'total rental bikes is 4758,', 'total rental bikes is 6830,', 'total rental bikes is 7006,', 'total rental bikes is 4128,', 'total rental bikes is 5084,', 'total rental bikes is 2802,', 'total rental bikes is 6241,', 'total rental bikes is 7697,', 'total rental bikes is 3485,', 'total rental bikes is 623,', 'total rental bikes is 3872,', 'total rental bikes is 4150,', 'total rental bikes is 5786,', 'total rental bikes is 4844,', 'total rental bikes is 3907,', 'total rental bikes is 5463,', 'total rental bikes is 6691,', 'total rental bikes is 3831,', 'total rental bikes is 4459,', 'total rental bikes is 4460,', 'total rental bikes is 4339,', 'total rental bikes is 4046,', 'total rental bikes is 6073,', 'total rental bikes is 5046,', 'total rental bikes is 5668,', 'total rental bikes is 2209,', 'total rental bikes is 4258,', 'total rental bikes is 6734,', 'total rental bikes is 6830,', 'total rental bikes is 5499,', 'total rental bikes is 8714,', 'total rental bikes is 2298,', 'total rental bikes is 2732,', 'total rental bikes is 7460,', 'total rental bikes is 3115,', 'total rental bikes is 4978,', 'total rental bikes is 4195,']\n"
     ]
    },
    {
     "name": "stderr",
     "output_type": "stream",
     "text": [
      " 62%|██████▏   | 623/1000 [04:28<03:11,  1.97it/s]"
     ]
    },
    {
     "name": "stdout",
     "output_type": "stream",
     "text": [
      "['total rental bikes is 7733,', 'total rental bikes is 2210,', 'total rental bikes is 5255,', 'total rental bikes is 4333,', 'total rental bikes is 4105,', 'total rental bikes is 1162,', 'total rental bikes is 6392,', 'total rental bikes is 705,', 'total rental bikes is 5464,', 'total rental bikes is 2594,', 'total rental bikes is 7261,', 'total rental bikes is 1349,', 'total rental bikes is 6234,', 'total rental bikes is 1913,', 'total rental bikes is 4098,', 'total rental bikes is 5729,', 'total rental bikes is 5743,', 'total rental bikes is 4649,', 'total rental bikes is 4123,', 'total rental bikes is 6140,', 'total rental bikes is 2744,', 'total rental bikes is 1996,', 'total rental bikes is 3348,', 'total rental bikes is 7129,', 'total rental bikes is 3071,', 'total rental bikes is 7691,', 'total rental bikes is 5923,', 'total rental bikes is 5382,', 'total rental bikes is 5499,', 'total rental bikes is 6203,', 'total rental bikes is 3811,', 'total rental bikes is 2496,', 'total rental bikes is 7006,', 'total rental bikes is 1301,', 'total rental bikes is 1204,', 'total rental bikes is 4128,', 'total rental bikes is 4294,', 'total rental bikes is 6233,', 'total rental bikes is 7639,', 'total rental bikes is 3577,', 'total rental bikes is 5847,', 'total rental bikes is 1536,', 'total rental bikes is 5146,', 'total rental bikes is 6861,', 'total rental bikes is 3249,', 'total rental bikes is 4169,', 'total rental bikes is 6312,', 'total rental bikes is 8120,', 'total rental bikes is 7415,', 'total rental bikes is 2132,']\n"
     ]
    },
    {
     "name": "stderr",
     "output_type": "stream",
     "text": [
      " 63%|██████▎   | 626/1000 [04:29<03:12,  1.95it/s]"
     ]
    },
    {
     "name": "stdout",
     "output_type": "stream",
     "text": [
      "['total rental bikes is 1606,', 'total rental bikes is 1796,', 'total rental bikes is 5260,', 'total rental bikes is 3784,', 'total rental bikes is 5611,', 'total rental bikes is 6392,', 'total rental bikes is 5629,', 'total rental bikes is 4195,', 'total rental bikes is 4127,', 'total rental bikes is 4780,', 'total rental bikes is 1985,', 'total rental bikes is 3620,', 'total rental bikes is 2114,', 'total rental bikes is 7347,', 'total rental bikes is 1301,', 'total rental bikes is 4727,', 'total rental bikes is 7605,', 'total rental bikes is 2935,', 'total rental bikes is 6685,', 'total rental bikes is 4788,', 'total rental bikes is 3709,', 'total rental bikes is 2028,', 'total rental bikes is 2294,', 'total rental bikes is 4585,', 'total rental bikes is 5217,', 'total rental bikes is 2417,', 'total rental bikes is 3095,', 'total rental bikes is 1796,', 'total rental bikes is 705,', 'total rental bikes is 6140,', 'total rental bikes is 4035,', 'total rental bikes is 5687,', 'total rental bikes is 3974,', 'total rental bikes is 7013,', 'total rental bikes is 4826,', 'total rental bikes is 7570,', 'total rental bikes is 7460,', 'total rental bikes is 5698,', 'total rental bikes is 5169,', 'total rental bikes is 1501,', 'total rental bikes is 6296,', 'total rental bikes is 2056,', 'total rental bikes is 3805,', 'total rental bikes is 4486,', 'total rental bikes is 4575,', 'total rental bikes is 3322,', 'total rental bikes is 1795,', 'total rental bikes is 6883,', 'total rental bikes is 6824,', 'total rental bikes is 5511,']\n"
     ]
    },
    {
     "name": "stderr",
     "output_type": "stream",
     "text": [
      " 63%|██████▎   | 629/1000 [04:31<03:12,  1.93it/s]"
     ]
    },
    {
     "name": "stdout",
     "output_type": "stream",
     "text": [
      "['total rental bikes is 2703,', 'total rental bikes is 3389,', 'total rental bikes is 2594,', 'total rental bikes is 6196,', 'total rental bikes is 4332,', 'total rental bikes is 1321,', 'total rental bikes is 3409,', 'total rental bikes is 6778,', 'total rental bikes is 4714,', 'total rental bikes is 4097,', 'total rental bikes is 6569,', 'total rental bikes is 4492,', 'total rental bikes is 4274,', 'total rental bikes is 1341,', 'total rental bikes is 6784,', 'total rental bikes is 1000,', 'total rental bikes is 1605,', 'total rental bikes is 2431,', 'total rental bikes is 7641,', 'total rental bikes is 4266,', 'total rental bikes is 627,', 'total rental bikes is 705,', 'total rental bikes is 3376,', 'total rental bikes is 4458,', 'total rental bikes is 7504,', 'total rental bikes is 7665,', 'total rental bikes is 3910,', 'total rental bikes is 5810,', 'total rental bikes is 6969,', 'total rental bikes is 4128,', 'total rental bikes is 3959,', 'total rental bikes is 4332,', 'total rental bikes is 6779,', 'total rental bikes is 5312,', 'total rental bikes is 5115,', 'total rental bikes is 5585,', 'total rental bikes is 1005,', 'total rental bikes is 4035,', 'total rental bikes is 3331,', 'total rental bikes is 4866,', 'total rental bikes is 8090,', 'total rental bikes is 4549,', 'total rental bikes is 8362,', 'total rental bikes is 4563,', 'total rental bikes is 4339,', 'total rental bikes is 6233,', 'total rental bikes is 3485,', 'total rental bikes is 3709,', 'total rental bikes is 3574,', 'total rental bikes is 4036,']\n"
     ]
    },
    {
     "name": "stderr",
     "output_type": "stream",
     "text": [
      " 63%|██████▎   | 630/1000 [04:33<03:58,  1.55it/s]"
     ]
    },
    {
     "name": "stdout",
     "output_type": "stream",
     "text": [
      "['total rental bikes is 7436,', 'total rental bikes is 2927,', 'total rental bikes is 4679,', 'total rental bikes is 7261,', 'total rental bikes is 1510,', 'total rental bikes is 6031,', 'total rental bikes is 7720,', 'total rental bikes is 6597,', 'total rental bikes is 4991,', 'total rental bikes is 3574,', 'total rental bikes is 6457,', 'total rental bikes is 7865,', 'total rental bikes is 4187,', 'total rental bikes is 3644,', 'total rental bikes is 5634,', 'total rental bikes is 4521,', 'total rental bikes is 4073,', 'total rental bikes is 3368,', 'total rental bikes is 7466,', 'total rental bikes is 4342,', 'total rental bikes is 7509,', 'total rental bikes is 5138,', 'total rental bikes is 1817,', 'total rental bikes is 4639,', 'total rental bikes is 4891,', 'total rental bikes is 6891,', 'total rental bikes is 683,', 'total rental bikes is 3820,', 'total rental bikes is 4539,', 'total rental bikes is 2416,', 'total rental bikes is 1115,', 'total rental bikes is 4023,', 'total rental bikes is 4521,', 'total rental bikes is 4362,', 'total rental bikes is 8009,', 'total rental bikes is 5566,', 'total rental bikes is 4576,', 'total rental bikes is 3786,', 'total rental bikes is 7129,', 'total rental bikes is 5260,', 'total rental bikes is 3163,', 'total rental bikes is 6273,', 'total rental bikes is 6784,', 'total rental bikes is 6889,', 'total rental bikes is 4773,', 'total rental bikes is 2802,', 'total rental bikes is 5499,', 'total rental bikes is 5315,', 'total rental bikes is 5532,', 'total rental bikes is 4660,']\n"
     ]
    },
    {
     "name": "stderr",
     "output_type": "stream",
     "text": [
      " 64%|██████▎   | 635/1000 [04:34<02:59,  2.04it/s]"
     ]
    },
    {
     "name": "stdout",
     "output_type": "stream",
     "text": [
      "['total rental bikes is 7580,', 'total rental bikes is 6784,', 'total rental bikes is 4086,', 'total rental bikes is 5204,', 'total rental bikes is 6565,', 'total rental bikes is 5107,', 'total rental bikes is 7691,', 'total rental bikes is 3071,', 'total rental bikes is 1589,', 'total rental bikes is 5713,', 'total rental bikes is 5463,', 'total rental bikes is 4109,', 'total rental bikes is 3786,', 'total rental bikes is 7504,', 'total rental bikes is 6211,', 'total rental bikes is 6824,', 'total rental bikes is 6969,', 'total rental bikes is 754,', 'total rental bikes is 5046,', 'total rental bikes is 2895,', 'total rental bikes is 3915,', 'total rental bikes is 4086,', 'total rental bikes is 2429,', 'total rental bikes is 4687,', 'total rental bikes is 6891,', 'total rental bikes is 959,', 'total rental bikes is 2368,', 'total rental bikes is 4694,', 'total rental bikes is 4066,', 'total rental bikes is 5668,', 'total rental bikes is 5687,', 'total rental bikes is 5557,', 'total rental bikes is 920,', 'total rental bikes is 4891,', 'total rental bikes is 5728,', 'total rental bikes is 6855,', 'total rental bikes is 2416,', 'total rental bikes is 3872,', 'total rental bikes is 5992,', 'total rental bikes is 7865,', 'total rental bikes is 1005,', 'total rental bikes is 4839,', 'total rental bikes is 3372,', 'total rental bikes is 7466,', 'total rental bikes is 7058,', 'total rental bikes is 7328,', 'total rental bikes is 2134,', 'total rental bikes is 3053,', 'total rental bikes is 1349,', 'total rental bikes is 3129,']\n"
     ]
    },
    {
     "name": "stderr",
     "output_type": "stream",
     "text": [
      " 64%|██████▍   | 638/1000 [04:36<02:59,  2.02it/s]"
     ]
    },
    {
     "name": "stdout",
     "output_type": "stream",
     "text": [
      "['total rental bikes is 4839,', 'total rental bikes is 1317,', 'total rental bikes is 5495,', 'total rental bikes is 3830,', 'total rental bikes is 7415,', 'total rental bikes is 6043,', 'total rental bikes is 2077,', 'total rental bikes is 4154,', 'total rental bikes is 1562,', 'total rental bikes is 5041,', 'total rental bikes is 3272,', 'total rental bikes is 1529,', 'total rental bikes is 4563,', 'total rental bikes is 5008,', 'total rental bikes is 6639,', 'total rental bikes is 4023,', 'total rental bikes is 1317,', 'total rental bikes is 4352,', 'total rental bikes is 7765,', 'total rental bikes is 7965,', 'total rental bikes is 1605,', 'total rental bikes is 4381,', 'total rental bikes is 4744,', 'total rental bikes is 4390,', 'total rental bikes is 5217,', 'total rental bikes is 5084,', 'total rental bikes is 4966,', 'total rental bikes is 4788,', 'total rental bikes is 1536,', 'total rental bikes is 4359,', 'total rental bikes is 6598,', 'total rental bikes is 4630,', 'total rental bikes is 4780,', 'total rental bikes is 7335,', 'total rental bikes is 4127,', 'total rental bikes is 2918,', 'total rental bikes is 5499,', 'total rental bikes is 5698,', 'total rental bikes is 4332,', 'total rental bikes is 2913,', 'total rental bikes is 5918,', 'total rental bikes is 8090,', 'total rental bikes is 5119,', 'total rental bikes is 7055,', 'total rental bikes is 8090,', 'total rental bikes is 1807,', 'total rental bikes is 2423,', 'total rental bikes is 1996,', 'total rental bikes is 4507,', 'total rental bikes is 3867,']\n"
     ]
    },
    {
     "name": "stderr",
     "output_type": "stream",
     "text": [
      " 64%|██████▍   | 644/1000 [04:37<02:18,  2.58it/s]"
     ]
    },
    {
     "name": "stdout",
     "output_type": "stream",
     "text": [
      "['total rental bikes is 3542,', 'total rental bikes is 6053,', 'total rental bikes is 3805,', 'total rental bikes is 3574,', 'total rental bikes is 3747,', 'total rental bikes is 4996,', 'total rental bikes is 3068,', 'total rental bikes is 3310,', 'total rental bikes is 4294,', 'total rental bikes is 5557,', 'total rental bikes is 4266,', 'total rental bikes is 5805,', 'total rental bikes is 3831,', 'total rental bikes is 2121,', 'total rental bikes is 4790,', 'total rental bikes is 4302,', 'total rental bikes is 6269,', 'total rental bikes is 4803,', 'total rental bikes is 3777,', 'total rental bikes is 2594,', 'total rental bikes is 3392,', 'total rental bikes is 1650,', 'total rental bikes is 5423,', 'total rental bikes is 3272,', 'total rental bikes is 5345,', 'total rental bikes is 5986,', 'total rental bikes is 1349,', 'total rental bikes is 7702,', 'total rental bikes is 6073,', 'total rental bikes is 6917,', 'total rental bikes is 4660,', 'total rental bikes is 4760,', 'total rental bikes is 6565,', 'total rental bikes is 1749,', 'total rental bikes is 2115,', 'total rental bikes is 1472,', 'total rental bikes is 4602,', 'total rental bikes is 4381,', 'total rental bikes is 2302,', 'total rental bikes is 3376,', 'total rental bikes is 2424,', 'total rental bikes is 4708,', 'total rental bikes is 2947,', 'total rental bikes is 4630,', 'total rental bikes is 1623,', 'total rental bikes is 3068,', 'total rental bikes is 3387,', 'total rental bikes is 5464,', 'total rental bikes is 1115,', 'total rental bikes is 6597,']\n"
     ]
    },
    {
     "name": "stderr",
     "output_type": "stream",
     "text": [
      " 64%|██████▍   | 645/1000 [04:39<02:56,  2.01it/s]"
     ]
    },
    {
     "name": "stdout",
     "output_type": "stream",
     "text": [
      "['total rental bikes is 3659,', 'total rental bikes is 7691,', 'total rental bikes is 7109,', 'total rental bikes is 1891,', 'total rental bikes is 1996,', 'total rental bikes is 920,', 'total rental bikes is 4595,', 'total rental bikes is 7693,', 'total rental bikes is 7458,', 'total rental bikes is 3544,', 'total rental bikes is 1450,', 'total rental bikes is 7338,', 'total rental bikes is 5409,', 'total rental bikes is 6207,', 'total rental bikes is 3544,', 'total rental bikes is 3940,', 'total rental bikes is 6153,', 'total rental bikes is 7286,', 'total rental bikes is 6597,', 'total rental bikes is 2028,', 'total rental bikes is 4067,', 'total rental bikes is 3915,', 'total rental bikes is 4507,', 'total rental bikes is 1096,', 'total rental bikes is 3777,', 'total rental bikes is 2765,', 'total rental bikes is 4990,', 'total rental bikes is 1834,', 'total rental bikes is 3292,', 'total rental bikes is 3717,', 'total rental bikes is 5115,', 'total rental bikes is 7534,', 'total rental bikes is 4991,', 'total rental bikes is 4648,', 'total rental bikes is 2832,', 'total rental bikes is 3392,', 'total rental bikes is 5686,', 'total rental bikes is 4891,', 'total rental bikes is 2927,', 'total rental bikes is 6043,', 'total rental bikes is 7582,', 'total rental bikes is 5008,', 'total rental bikes is 3570,', 'total rental bikes is 2423,', 'total rental bikes is 4220,', 'total rental bikes is 5020,', 'total rental bikes is 6392,', 'total rental bikes is 4270,', 'total rental bikes is 4274,', 'total rental bikes is 2311,']\n"
     ]
    },
    {
     "name": "stderr",
     "output_type": "stream",
     "text": [
      " 65%|██████▍   | 648/1000 [04:40<02:55,  2.01it/s]"
     ]
    },
    {
     "name": "stdout",
     "output_type": "stream",
     "text": [
      "['total rental bikes is 6207,', 'total rental bikes is 4595,', 'total rental bikes is 6770,', 'total rental bikes is 1708,', 'total rental bikes is 4475,', 'total rental bikes is 2114,', 'total rental bikes is 1872,', 'total rental bikes is 7494,', 'total rental bikes is 4687,', 'total rental bikes is 7375,', 'total rental bikes is 6572,', 'total rental bikes is 3855,', 'total rental bikes is 7697,', 'total rental bikes is 4460,', 'total rental bikes is 1795,', 'total rental bikes is 2192,', 'total rental bikes is 2744,', 'total rental bikes is 4451,', 'total rental bikes is 3310,', 'total rental bikes is 5062,', 'total rental bikes is 5686,', 'total rental bikes is 5204,', 'total rental bikes is 4966,', 'total rental bikes is 6230,', 'total rental bikes is 5382,', 'total rental bikes is 4575,', 'total rental bikes is 2895,', 'total rental bikes is 5047,', 'total rental bikes is 3292,', 'total rental bikes is 4996,', 'total rental bikes is 1685,', 'total rental bikes is 3422,', 'total rental bikes is 2210,', 'total rental bikes is 6660,', 'total rental bikes is 4451,', 'total rental bikes is 7335,', 'total rental bikes is 4258,', 'total rental bikes is 1321,', 'total rental bikes is 5423,', 'total rental bikes is 5582,', 'total rental bikes is 6233,', 'total rental bikes is 2424,', 'total rental bikes is 5041,', 'total rental bikes is 4066,', 'total rental bikes is 4916,', 'total rental bikes is 3620,', 'total rental bikes is 5382,', 'total rental bikes is 4864,', 'total rental bikes is 1589,', 'total rental bikes is 7040,']\n"
     ]
    },
    {
     "name": "stderr",
     "output_type": "stream",
     "text": [
      " 65%|██████▌   | 654/1000 [04:42<02:13,  2.59it/s]"
     ]
    },
    {
     "name": "stdout",
     "output_type": "stream",
     "text": [
      "['total rental bikes is 3285,', 'total rental bikes is 5870,', 'total rental bikes is 5687,', 'total rental bikes is 5495,', 'total rental bikes is 5698,', 'total rental bikes is 5345,', 'total rental bikes is 6133,', 'total rental bikes is 4780,', 'total rental bikes is 2914,', 'total rental bikes is 3204,', 'total rental bikes is 3095,', 'total rental bikes is 2895,', 'total rental bikes is 7335,', 'total rental bikes is 4629,', 'total rental bikes is 1011,', 'total rental bikes is 3974,', 'total rental bikes is 4266,', 'total rental bikes is 2566,', 'total rental bikes is 4258,', 'total rental bikes is 6565,', 'total rental bikes is 6852,', 'total rental bikes is 3368,', 'total rental bikes is 7132,', 'total rental bikes is 1851,', 'total rental bikes is 4608,', 'total rental bikes is 4010,', 'total rental bikes is 3376,', 'total rental bikes is 4266,', 'total rental bikes is 985,', 'total rental bikes is 5336,', 'total rental bikes is 5259,', 'total rental bikes is 1944,', 'total rental bikes is 3095,', 'total rental bikes is 6685,', 'total rental bikes is 7264,', 'total rental bikes is 4966,', 'total rental bikes is 4788,', 'total rental bikes is 7286,', 'total rental bikes is 5130,', 'total rental bikes is 1996,', 'total rental bikes is 4549,', 'total rental bikes is 2121,', 'total rental bikes is 3750,', 'total rental bikes is 4073,', 'total rental bikes is 7767,', 'total rental bikes is 4066,', 'total rental bikes is 1817,', 'total rental bikes is 5020,', 'total rental bikes is 1107,', 'total rental bikes is 6203,']\n"
     ]
    },
    {
     "name": "stderr",
     "output_type": "stream",
     "text": [
      " 66%|██████▌   | 658/1000 [04:43<02:12,  2.59it/s]"
     ]
    },
    {
     "name": "stdout",
     "output_type": "stream",
     "text": [
      "['total rental bikes is 801,', 'total rental bikes is 2236,', 'total rental bikes is 4118,', 'total rental bikes is 4714,', 'total rental bikes is 6891,', 'total rental bikes is 8009,', 'total rental bikes is 5026,', 'total rental bikes is 3456,', 'total rental bikes is 3915,', 'total rental bikes is 4342,', 'total rental bikes is 1812,', 'total rental bikes is 7410,', 'total rental bikes is 2302,', 'total rental bikes is 1562,', 'total rental bikes is 4098,', 'total rental bikes is 5501,', 'total rental bikes is 3786,', 'total rental bikes is 4694,', 'total rental bikes is 4375,', 'total rental bikes is 3820,', 'total rental bikes is 6624,', 'total rental bikes is 1529,', 'total rental bikes is 2056,', 'total rental bikes is 3974,', 'total rental bikes is 7534,', 'total rental bikes is 2660,', 'total rental bikes is 8362,', 'total rental bikes is 2302,', 'total rental bikes is 6203,', 'total rental bikes is 1167,', 'total rental bikes is 1011,', 'total rental bikes is 6133,', 'total rental bikes is 2121,', 'total rental bikes is 4672,', 'total rental bikes is 2423,', 'total rental bikes is 5895,', 'total rental bikes is 2913,', 'total rental bikes is 7446,', 'total rental bikes is 4023,', 'total rental bikes is 7865,', 'total rental bikes is 6234,', 'total rental bikes is 6536,', 'total rental bikes is 4274,', 'total rental bikes is 4205,', 'total rental bikes is 5312,', 'total rental bikes is 5495,', 'total rental bikes is 1301,', 'total rental bikes is 4570,', 'total rental bikes is 4575,', 'total rental bikes is 5041,']\n"
     ]
    },
    {
     "name": "stderr",
     "output_type": "stream",
     "text": [
      " 66%|██████▌   | 662/1000 [04:45<02:10,  2.59it/s]"
     ]
    },
    {
     "name": "stdout",
     "output_type": "stream",
     "text": [
      "['total rental bikes is 7499,', 'total rental bikes is 1406,', 'total rental bikes is 4881,', 'total rental bikes is 1248,', 'total rental bikes is 1817,', 'total rental bikes is 4456,', 'total rental bikes is 3368,', 'total rental bikes is 7534,', 'total rental bikes is 801,', 'total rental bikes is 6233,', 'total rental bikes is 2485,', 'total rental bikes is 6169,', 'total rental bikes is 3228,', 'total rental bikes is 3613,', 'total rental bikes is 3285,', 'total rental bikes is 1812,', 'total rental bikes is 5217,', 'total rental bikes is 6770,', 'total rental bikes is 3750,', 'total rental bikes is 4665,', 'total rental bikes is 7605,', 'total rental bikes is 795,', 'total rental bikes is 7415,', 'total rental bikes is 1446,', 'total rental bikes is 5686,', 'total rental bikes is 7572,', 'total rental bikes is 6917,', 'total rental bikes is 2765,', 'total rental bikes is 5298,', 'total rental bikes is 6053,', 'total rental bikes is 4833,', 'total rental bikes is 7013,', 'total rental bikes is 3577,', 'total rental bikes is 4484,', 'total rental bikes is 6460,', 'total rental bikes is 3523,', 'total rental bikes is 4996,', 'total rental bikes is 1301,', 'total rental bikes is 3811,', 'total rental bikes is 2169,', 'total rental bikes is 5099,', 'total rental bikes is 6857,', 'total rental bikes is 4186,', 'total rental bikes is 5130,', 'total rental bikes is 5058,', 'total rental bikes is 2765,', 'total rental bikes is 6536,', 'total rental bikes is 7290,', 'total rental bikes is 4189,', 'total rental bikes is 3141,']\n"
     ]
    },
    {
     "name": "stderr",
     "output_type": "stream",
     "text": [
      " 66%|██████▋   | 663/1000 [04:46<02:47,  2.01it/s]"
     ]
    },
    {
     "name": "stdout",
     "output_type": "stream",
     "text": [
      "['total rental bikes is 2689,', 'total rental bikes is 7446,', 'total rental bikes is 3915,', 'total rental bikes is 1623,', 'total rental bikes is 4586,', 'total rental bikes is 4575,', 'total rental bikes is 1872,', 'total rental bikes is 6241,', 'total rental bikes is 3641,', 'total rental bikes is 6998,', 'total rental bikes is 3614,', 'total rental bikes is 6233,', 'total rental bikes is 1526,', 'total rental bikes is 1589,', 'total rental bikes is 6460,', 'total rental bikes is 2935,', 'total rental bikes is 3115,', 'total rental bikes is 4585,', 'total rental bikes is 3292,', 'total rental bikes is 6691,', 'total rental bikes is 3456,', 'total rental bikes is 1011,', 'total rental bikes is 2927,', 'total rental bikes is 6041,', 'total rental bikes is 3620,', 'total rental bikes is 4763,', 'total rental bikes is 5895,', 'total rental bikes is 2056,', 'total rental bikes is 4639,', 'total rental bikes is 6572,', 'total rental bikes is 4332,', 'total rental bikes is 4318,', 'total rental bikes is 1712,', 'total rental bikes is 7504,', 'total rental bikes is 1635,', 'total rental bikes is 4660,', 'total rental bikes is 5058,', 'total rental bikes is 7534,', 'total rental bikes is 5743,', 'total rental bikes is 754,', 'total rental bikes is 3429,', 'total rental bikes is 5847,', 'total rental bikes is 7580,', 'total rental bikes is 4579,', 'total rental bikes is 1985,', 'total rental bikes is 4067,', 'total rental bikes is 5259,', 'total rental bikes is 5532,', 'total rental bikes is 1969,', 'total rental bikes is 4845,']\n"
     ]
    },
    {
     "name": "stderr",
     "output_type": "stream",
     "text": [
      " 67%|██████▋   | 668/1000 [04:48<02:17,  2.41it/s]"
     ]
    },
    {
     "name": "stdout",
     "output_type": "stream",
     "text": [
      "['total rental bikes is 2121,', 'total rental bikes is 5041,', 'total rental bikes is 4128,', 'total rental bikes is 6073,', 'total rental bikes is 4326,', 'total rental bikes is 4459,', 'total rental bikes is 1530,', 'total rental bikes is 4669,', 'total rental bikes is 3767,', 'total rental bikes is 3429,', 'total rental bikes is 7446,', 'total rental bikes is 7572,', 'total rental bikes is 2209,', 'total rental bikes is 5191,', 'total rental bikes is 3982,', 'total rental bikes is 4507,', 'total rental bikes is 3727,', 'total rental bikes is 3204,', 'total rental bikes is 2046,', 'total rental bikes is 2914,', 'total rental bikes is 6073,', 'total rental bikes is 6536,', 'total rental bikes is 7006,', 'total rental bikes is 7534,', 'total rental bikes is 1162,', 'total rental bikes is 6770,', 'total rental bikes is 5146,', 'total rental bikes is 5008,', 'total rental bikes is 3214,', 'total rental bikes is 6370,', 'total rental bikes is 3606,', 'total rental bikes is 7363,', 'total rental bikes is 5515,', 'total rental bikes is 5823,', 'total rental bikes is 3115,', 'total rental bikes is 1406,', 'total rental bikes is 985,', 'total rental bikes is 2429,', 'total rental bikes is 7765,', 'total rental bikes is 2566,', 'total rental bikes is 1530,', 'total rental bikes is 4475,', 'total rental bikes is 5478,', 'total rental bikes is 4672,', 'total rental bikes is 4390,', 'total rental bikes is 5713,', 'total rental bikes is 3053,', 'total rental bikes is 8362,', 'total rental bikes is 4274,', 'total rental bikes is 5107,']\n"
     ]
    },
    {
     "name": "stderr",
     "output_type": "stream",
     "text": [
      " 67%|██████▋   | 671/1000 [04:49<02:24,  2.27it/s]"
     ]
    },
    {
     "name": "stdout",
     "output_type": "stream",
     "text": [
      "['total rental bikes is 1360,', 'total rental bikes is 1589,', 'total rental bikes is 6536,', 'total rental bikes is 5847,', 'total rental bikes is 1421,', 'total rental bikes is 7013,', 'total rental bikes is 3606,', 'total rental bikes is 2808,', 'total rental bikes is 3387,', 'total rental bikes is 1927,', 'total rental bikes is 2034,', 'total rental bikes is 4068,', 'total rental bikes is 5191,', 'total rental bikes is 7429,', 'total rental bikes is 1812,', 'total rental bikes is 4153,', 'total rental bikes is 3872,', 'total rental bikes is 2424,', 'total rental bikes is 4040,', 'total rental bikes is 4459,', 'total rental bikes is 4906,', 'total rental bikes is 5217,', 'total rental bikes is 3620,', 'total rental bikes is 8555,', 'total rental bikes is 3649,', 'total rental bikes is 4916,', 'total rental bikes is 3422,', 'total rental bikes is 2703,', 'total rental bikes is 4576,', 'total rental bikes is 5345,', 'total rental bikes is 6153,', 'total rental bikes is 3115,', 'total rental bikes is 7001,', 'total rental bikes is 4916,', 'total rental bikes is 2947,', 'total rental bikes is 4322,', 'total rental bikes is 3243,', 'total rental bikes is 4629,', 'total rental bikes is 4105,', 'total rental bikes is 2475,', 'total rental bikes is 4352,', 'total rental bikes is 7570,', 'total rental bikes is 3267,', 'total rental bikes is 1842,', 'total rental bikes is 5611,', 'total rental bikes is 6855,', 'total rental bikes is 3750,', 'total rental bikes is 2566,', 'total rental bikes is 3784,', 'total rental bikes is 2744,']\n"
     ]
    },
    {
     "name": "stderr",
     "output_type": "stream",
     "text": [
      " 67%|██████▋   | 673/1000 [04:51<02:48,  1.94it/s]"
     ]
    },
    {
     "name": "stdout",
     "output_type": "stream",
     "text": [
      "['total rental bikes is 6598,', 'total rental bikes is 3523,', 'total rental bikes is 1913,', 'total rental bikes is 6153,', 'total rental bikes is 4127,', 'total rental bikes is 5041,', 'total rental bikes is 5531,', 'total rental bikes is 1606,', 'total rental bikes is 7109,', 'total rental bikes is 2802,', 'total rental bikes is 4150,', 'total rental bikes is 4067,', 'total rental bikes is 2660,', 'total rental bikes is 7058,', 'total rental bikes is 2252,', 'total rental bikes is 2311,', 'total rental bikes is 5585,', 'total rental bikes is 3239,', 'total rental bikes is 1013,', 'total rental bikes is 795,', 'total rental bikes is 5499,', 'total rental bikes is 1749,', 'total rental bikes is 1969,', 'total rental bikes is 3485,', 'total rental bikes is 2277,', 'total rental bikes is 5687,', 'total rental bikes is 2277,', 'total rental bikes is 3747,', 'total rental bikes is 801,', 'total rental bikes is 7733,', 'total rental bikes is 5115,', 'total rental bikes is 4352,', 'total rental bikes is 5566,', 'total rental bikes is 1446,', 'total rental bikes is 2423,', 'total rental bikes is 5531,', 'total rental bikes is 6192,', 'total rental bikes is 7498,', 'total rental bikes is 3570,', 'total rental bikes is 7421,', 'total rental bikes is 1891,', 'total rental bikes is 6460,', 'total rental bikes is 4569,', 'total rental bikes is 1096,', 'total rental bikes is 1605,', 'total rental bikes is 4339,', 'total rental bikes is 3310,', 'total rental bikes is 3784,', 'total rental bikes is 5099,', 'total rental bikes is 1162,']\n"
     ]
    },
    {
     "name": "stderr",
     "output_type": "stream",
     "text": [
      " 67%|██████▋   | 674/1000 [04:53<03:29,  1.56it/s]"
     ]
    },
    {
     "name": "stdout",
     "output_type": "stream",
     "text": [
      "['total rental bikes is 3574,', 'total rental bikes is 8156,', 'total rental bikes is 5191,', 'total rental bikes is 6421,', 'total rental bikes is 4660,', 'total rental bikes is 3249,', 'total rental bikes is 7384,', 'total rental bikes is 5138,', 'total rental bikes is 3649,', 'total rental bikes is 1693,', 'total rental bikes is 6234,', 'total rental bikes is 5046,', 'total rental bikes is 4649,', 'total rental bikes is 6031,', 'total rental bikes is 4326,', 'total rental bikes is 5204,', 'total rental bikes is 7458,', 'total rental bikes is 6398,', 'total rental bikes is 4748,', 'total rental bikes is 4486,', 'total rental bikes is 2633,', 'total rental bikes is 4748,', 'total rental bikes is 2302,', 'total rental bikes is 3623,', 'total rental bikes is 4677,', 'total rental bikes is 959,', 'total rental bikes is 1996,', 'total rental bikes is 5191,', 'total rental bikes is 4549,', 'total rental bikes is 5259,', 'total rental bikes is 3351,', 'total rental bikes is 431,', 'total rental bikes is 4484,', 'total rental bikes is 3894,', 'total rental bikes is 4189,', 'total rental bikes is 4105,', 'total rental bikes is 3907,', 'total rental bikes is 3456,', 'total rental bikes is 4378,', 'total rental bikes is 3126,', 'total rental bikes is 705,', 'total rental bikes is 6639,', 'total rental bikes is 2376,', 'total rental bikes is 4189,', 'total rental bikes is 7148,', 'total rental bikes is 8294,', 'total rental bikes is 2302,', 'total rental bikes is 5905,', 'total rental bikes is 6312,', 'total rental bikes is 1842,']\n"
     ]
    },
    {
     "name": "stderr",
     "output_type": "stream",
     "text": [
      " 68%|██████▊   | 675/1000 [04:54<04:12,  1.29it/s]"
     ]
    },
    {
     "name": "stdout",
     "output_type": "stream",
     "text": [
      "['total rental bikes is 3784,', 'total rental bikes is 5918,', 'total rental bikes is 6233,', 'total rental bikes is 3331,', 'total rental bikes is 7013,', 'total rental bikes is 6978,', 'total rental bikes is 4475,', 'total rental bikes is 4058,', 'total rental bikes is 7534,', 'total rental bikes is 4833,', 'total rental bikes is 4570,', 'total rental bikes is 4058,', 'total rental bikes is 3422,', 'total rental bikes is 4334,', 'total rental bikes is 3831,', 'total rental bikes is 4058,', 'total rental bikes is 4401,', 'total rental bikes is 8173,', 'total rental bikes is 5495,', 'total rental bikes is 7338,', 'total rental bikes is 3663,', 'total rental bikes is 3727,', 'total rental bikes is 5936,', 'total rental bikes is 2298,', 'total rental bikes is 2594,', 'total rental bikes is 4905,', 'total rental bikes is 4608,', 'total rental bikes is 1538,', 'total rental bikes is 5445,', 'total rental bikes is 3940,', 'total rental bikes is 4660,', 'total rental bikes is 7852,', 'total rental bikes is 2429,', 'total rental bikes is 1248,', 'total rental bikes is 5463,', 'total rental bikes is 1944,', 'total rental bikes is 7458,', 'total rental bikes is 1162,', 'total rental bikes is 5515,', 'total rental bikes is 4648,', 'total rental bikes is 5423,', 'total rental bikes is 4401,', 'total rental bikes is 4075,', 'total rental bikes is 3740,', 'total rental bikes is 4189,', 'total rental bikes is 4595,', 'total rental bikes is 3944,', 'total rental bikes is 4400,', 'total rental bikes is 4521,', 'total rental bikes is 5875,']\n",
      "['total rental bikes is 8294,', 'total rental bikes is 7393,', 'total rental bikes is 7498,', 'total rental bikes is 2192,', 'total rental bikes is 7499,', 'total rental bikes is 2792,', 'total rental bikes is 5633,', 'total rental bikes is 6998,', 'total rental bikes is 4845,', 'total rental bikes is 4186,', 'total rental bikes is 2455,', 'total rental bikes is 7466,', 'total rental bikes is 1607,', 'total rental bikes is 4040,', 'total rental bikes is 1096,', 'total rental bikes is 1096,', 'total rental bikes is 2765,', 'total rental bikes is 2302,', 'total rental bikes is 7582,', 'total rental bikes is 4150,', 'total rental bikes is 5686,', 'total rental bikes is 7736,', 'total rental bikes is 2416,', 'total rental bikes is 3831,', 'total rental bikes is 1248,', 'total rental bikes is 4127,', 'total rental bikes is 6734,', 'total rental bikes is 6359,', 'total rental bikes is 3351,', 'total rental bikes is 4672,', 'total rental bikes is 5312,', 'total rental bikes is 5572,', 'total rental bikes is 4266,', 'total rental bikes is 1872,', 'total rental bikes is 2927,', 'total rental bikes is 6778,', 'total rental bikes is 1360,', 'total rental bikes is 5115,', 'total rental bikes is 4484,', 'total rental bikes is 1623,', 'total rental bikes is 1096,', 'total rental bikes is 4308,', 'total rental bikes is 1917,', 'total rental bikes is 4046,', 'total rental bikes is 3322,', 'total rental bikes is 3129,', 'total rental bikes is 3820,', 'total rental bikes is 4274,', 'total rental bikes is 2918,', 'total rental bikes is 2475,']\n"
     ]
    },
    {
     "name": "stderr",
     "output_type": "stream",
     "text": [
      " 68%|██████▊   | 680/1000 [04:57<03:40,  1.45it/s]"
     ]
    },
    {
     "name": "stdout",
     "output_type": "stream",
     "text": [
      "['total rental bikes is 7804,', 'total rental bikes is 1749,', 'total rental bikes is 3606,', 'total rental bikes is 5740,', 'total rental bikes is 6830,', 'total rental bikes is 2132,', 'total rental bikes is 4127,', 'total rental bikes is 1842,', 'total rental bikes is 3872,', 'total rental bikes is 2732,', 'total rental bikes is 7494,', 'total rental bikes is 2455,', 'total rental bikes is 3542,', 'total rental bikes is 6917,', 'total rental bikes is 959,', 'total rental bikes is 5298,', 'total rental bikes is 5202,', 'total rental bikes is 7055,', 'total rental bikes is 6660,', 'total rental bikes is 6597,', 'total rental bikes is 1162,', 'total rental bikes is 4592,', 'total rental bikes is 3974,', 'total rental bikes is 5986,', 'total rental bikes is 6786,', 'total rental bikes is 6998,', 'total rental bikes is 4169,', 'total rental bikes is 4744,', 'total rental bikes is 6269,', 'total rental bikes is 7109,', 'total rental bikes is 4326,', 'total rental bikes is 4669,', 'total rental bikes is 7444,', 'total rental bikes is 4094,', 'total rental bikes is 2210,', 'total rental bikes is 4352,', 'total rental bikes is 6460,', 'total rental bikes is 2169,', 'total rental bikes is 2416,', 'total rental bikes is 6852,', 'total rental bikes is 5102,', 'total rental bikes is 6241,', 'total rental bikes is 1446,', 'total rental bikes is 4363,', 'total rental bikes is 6043,', 'total rental bikes is 4891,', 'total rental bikes is 7109,', 'total rental bikes is 801,', 'total rental bikes is 7290,', 'total rental bikes is 5010,']\n"
     ]
    },
    {
     "name": "stderr",
     "output_type": "stream",
     "text": [
      " 68%|██████▊   | 681/1000 [04:59<04:15,  1.25it/s]"
     ]
    },
    {
     "name": "stdout",
     "output_type": "stream",
     "text": [
      "['total rental bikes is 1421,', 'total rental bikes is 6606,', 'total rental bikes is 2927,', 'total rental bikes is 4978,', 'total rental bikes is 3649,', 'total rental bikes is 1749,', 'total rental bikes is 5633,', 'total rental bikes is 2209,', 'total rental bikes is 5611,', 'total rental bikes is 2566,', 'total rental bikes is 7359,', 'total rental bikes is 4649,', 'total rental bikes is 4940,', 'total rental bikes is 5986,', 'total rental bikes is 2703,', 'total rental bikes is 7384,', 'total rental bikes is 2743,', 'total rental bikes is 6227,', 'total rental bikes is 6234,', 'total rental bikes is 3944,', 'total rental bikes is 1650,', 'total rental bikes is 4040,', 'total rental bikes is 3429,', 'total rental bikes is 5170,', 'total rental bikes is 5459,', 'total rental bikes is 4748,', 'total rental bikes is 6299,', 'total rental bikes is 2927,', 'total rental bikes is 4803,', 'total rental bikes is 4569,', 'total rental bikes is 5805,', 'total rental bikes is 4035,', 'total rental bikes is 4492,', 'total rental bikes is 3422,', 'total rental bikes is 7442,', 'total rental bikes is 4094,', 'total rental bikes is 4866,', 'total rental bikes is 5345,', 'total rental bikes is 6227,', 'total rental bikes is 6290,', 'total rental bikes is 3867,', 'total rental bikes is 4046,', 'total rental bikes is 986,', 'total rental bikes is 4195,', 'total rental bikes is 6969,', 'total rental bikes is 6034,', 'total rental bikes is 5740,', 'total rental bikes is 2455,', 'total rental bikes is 3129,', 'total rental bikes is 3053,']\n"
     ]
    },
    {
     "name": "stderr",
     "output_type": "stream",
     "text": [
      " 68%|██████▊   | 683/1000 [05:00<04:09,  1.27it/s]"
     ]
    },
    {
     "name": "stdout",
     "output_type": "stream",
     "text": [
      "['total rental bikes is 5041,', 'total rental bikes is 7129,', 'total rental bikes is 5375,', 'total rental bikes is 5424,', 'total rental bikes is 4073,', 'total rental bikes is 6421,', 'total rental bikes is 5020,', 'total rental bikes is 5986,', 'total rental bikes is 6053,', 'total rental bikes is 1096,', 'total rental bikes is 1562,', 'total rental bikes is 6457,', 'total rental bikes is 6825,', 'total rental bikes is 4304,', 'total rental bikes is 7534,', 'total rental bikes is 5010,', 'total rental bikes is 4630,', 'total rental bikes is 5810,', 'total rental bikes is 1708,', 'total rental bikes is 5810,', 'total rental bikes is 1607,', 'total rental bikes is 7580,', 'total rental bikes is 6140,', 'total rental bikes is 5119,', 'total rental bikes is 1842,', 'total rental bikes is 5532,', 'total rental bikes is 4656,', 'total rental bikes is 1406,', 'total rental bikes is 4205,', 'total rental bikes is 4563,', 'total rental bikes is 6536,', 'total rental bikes is 3322,', 'total rental bikes is 4023,', 'total rental bikes is 5611,', 'total rental bikes is 4294,', 'total rental bikes is 6772,', 'total rental bikes is 6235,', 'total rental bikes is 3959,', 'total rental bikes is 7333,', 'total rental bikes is 4541,', 'total rental bikes is 985,', 'total rental bikes is 5180,', 'total rental bikes is 7030,', 'total rental bikes is 3846,', 'total rental bikes is 4569,', 'total rental bikes is 4665,', 'total rental bikes is 2056,', 'total rental bikes is 3351,', 'total rental bikes is 7870,', 'total rental bikes is 7665,']\n"
     ]
    },
    {
     "name": "stderr",
     "output_type": "stream",
     "text": [
      " 68%|██████▊   | 685/1000 [05:02<04:07,  1.28it/s]"
     ]
    },
    {
     "name": "stdout",
     "output_type": "stream",
     "text": [
      "['total rental bikes is 801,', 'total rental bikes is 3761,', 'total rental bikes is 6639,', 'total rental bikes is 8294,', 'total rental bikes is 5740,', 'total rental bikes is 4575,', 'total rental bikes is 3376,', 'total rental bikes is 1263,', 'total rental bikes is 2832,', 'total rental bikes is 3926,', 'total rental bikes is 1471,', 'total rental bikes is 985,', 'total rental bikes is 2252,', 'total rental bikes is 6312,', 'total rental bikes is 6966,', 'total rental bikes is 4075,', 'total rental bikes is 2732,', 'total rental bikes is 5409,', 'total rental bikes is 5634,', 'total rental bikes is 4459,', 'total rental bikes is 1683,', 'total rental bikes is 4687,', 'total rental bikes is 7702,', 'total rental bikes is 6639,', 'total rental bikes is 5046,', 'total rental bikes is 3982,', 'total rental bikes is 1807,', 'total rental bikes is 1977,', 'total rental bikes is 7865,', 'total rental bikes is 3520,', 'total rental bikes is 981,', 'total rental bikes is 4725,', 'total rental bikes is 6370,', 'total rental bikes is 4456,', 'total rental bikes is 5566,', 'total rental bikes is 3624,', 'total rental bikes is 1446,', 'total rental bikes is 2431,', 'total rental bikes is 4068,', 'total rental bikes is 3747,', 'total rental bikes is 1562,', 'total rental bikes is 8555,', 'total rental bikes is 1341,', 'total rental bikes is 5459,', 'total rental bikes is 4521,', 'total rental bikes is 4917,', 'total rental bikes is 1471,', 'total rental bikes is 5633,', 'total rental bikes is 5305,', 'total rental bikes is 6966,']\n"
     ]
    },
    {
     "name": "stderr",
     "output_type": "stream",
     "text": [
      " 69%|██████▉   | 691/1000 [05:03<02:34,  2.00it/s]"
     ]
    },
    {
     "name": "stdout",
     "output_type": "stream",
     "text": [
      "['total rental bikes is 4713,', 'total rental bikes is 986,', 'total rental bikes is 4127,', 'total rental bikes is 8120,', 'total rental bikes is 7290,', 'total rental bikes is 2298,', 'total rental bikes is 2429,', 'total rental bikes is 5026,', 'total rental bikes is 5629,', 'total rental bikes is 3831,', 'total rental bikes is 2431,', 'total rental bikes is 4639,', 'total rental bikes is 4401,', 'total rental bikes is 5986,', 'total rental bikes is 2034,', 'total rental bikes is 2429,', 'total rental bikes is 1543,', 'total rental bikes is 7055,', 'total rental bikes is 3368,', 'total rental bikes is 8294,', 'total rental bikes is 7375,', 'total rental bikes is 7335,', 'total rental bikes is 3831,', 'total rental bikes is 3351,', 'total rental bikes is 5170,', 'total rental bikes is 3267,', 'total rental bikes is 4744,', 'total rental bikes is 2376,', 'total rental bikes is 3005,', 'total rental bikes is 2913,', 'total rental bikes is 8173,', 'total rental bikes is 5566,', 'total rental bikes is 5191,', 'total rental bikes is 4763,', 'total rental bikes is 8120,', 'total rental bikes is 4940,', 'total rental bikes is 5511,', 'total rental bikes is 4833,', 'total rental bikes is 3659,', 'total rental bikes is 3239,', 'total rental bikes is 6031,', 'total rental bikes is 5668,', 'total rental bikes is 1550,', 'total rental bikes is 7693,', 'total rental bikes is 6891,', 'total rental bikes is 3322,', 'total rental bikes is 2475,', 'total rental bikes is 6830,', 'total rental bikes is 7713,', 'total rental bikes is 4367,']\n"
     ]
    },
    {
     "name": "stderr",
     "output_type": "stream",
     "text": [
      " 70%|██████▉   | 695/1000 [05:05<02:20,  2.17it/s]"
     ]
    },
    {
     "name": "stdout",
     "output_type": "stream",
     "text": [
      "['total rental bikes is 5532,', 'total rental bikes is 5336,', 'total rental bikes is 2566,', 'total rental bikes is 5557,', 'total rental bikes is 3840,', 'total rental bikes is 6883,', 'total rental bikes is 7720,', 'total rental bikes is 1027,', 'total rental bikes is 4322,', 'total rental bikes is 2703,', 'total rental bikes is 4492,', 'total rental bikes is 1248,', 'total rental bikes is 6565,', 'total rental bikes is 2425,', 'total rental bikes is 3429,', 'total rental bikes is 1605,', 'total rental bikes is 2802,', 'total rental bikes is 6786,', 'total rental bikes is 5905,', 'total rental bikes is 5582,', 'total rental bikes is 1796,', 'total rental bikes is 1005,', 'total rental bikes is 3485,', 'total rental bikes is 1996,', 'total rental bikes is 627,', 'total rental bikes is 8156,', 'total rental bikes is 4359,', 'total rental bikes is 7415,', 'total rental bikes is 4511,', 'total rental bikes is 5020,', 'total rental bikes is 3053,', 'total rental bikes is 4456,', 'total rental bikes is 1000,', 'total rental bikes is 6685,', 'total rental bikes is 1263,', 'total rental bikes is 1996,', 'total rental bikes is 6118,', 'total rental bikes is 6436,', 'total rental bikes is 4608,', 'total rental bikes is 4576,', 'total rental bikes is 4318,', 'total rental bikes is 4486,', 'total rental bikes is 5992,', 'total rental bikes is 4826,', 'total rental bikes is 4191,', 'total rental bikes is 5102,', 'total rental bikes is 6536,', 'total rental bikes is 4758,', 'total rental bikes is 1851,', 'total rental bikes is 2765,']\n"
     ]
    },
    {
     "name": "stderr",
     "output_type": "stream",
     "text": [
      " 70%|██████▉   | 697/1000 [05:06<02:37,  1.92it/s]"
     ]
    },
    {
     "name": "stdout",
     "output_type": "stream",
     "text": [
      "['total rental bikes is 1944,', 'total rental bikes is 1360,', 'total rental bikes is 1749,', 'total rental bikes is 22,', 'total rental bikes is 7907,', 'total rental bikes is 605,', 'total rental bikes is 8555,', 'total rental bikes is 3894,', 'total rental bikes is 1248,', 'total rental bikes is 5382,', 'total rental bikes is 4760,', 'total rental bikes is 5362,', 'total rental bikes is 1685,', 'total rental bikes is 8167,', 'total rental bikes is 6917,', 'total rental bikes is 7129,', 'total rental bikes is 2689,', 'total rental bikes is 6685,', 'total rental bikes is 2028,', 'total rental bikes is 5087,', 'total rental bikes is 6203,', 'total rental bikes is 1000,', 'total rental bikes is 1005,', 'total rental bikes is 1977,', 'total rental bikes is 3867,', 'total rental bikes is 5668,', 'total rental bikes is 8294,', 'total rental bikes is 8009,', 'total rental bikes is 1000,', 'total rental bikes is 6370,', 'total rental bikes is 8294,', 'total rental bikes is 4274,', 'total rental bikes is 8227,', 'total rental bikes is 3761,', 'total rental bikes is 4220,', 'total rental bikes is 4456,', 'total rental bikes is 5115,', 'total rental bikes is 6861,', 'total rental bikes is 5087,', 'total rental bikes is 3613,', 'total rental bikes is 6169,', 'total rental bikes is 7261,', 'total rental bikes is 5629,', 'total rental bikes is 7442,', 'total rental bikes is 5918,', 'total rental bikes is 6169,', 'total rental bikes is 801,', 'total rental bikes is 4630,', 'total rental bikes is 2395,', 'total rental bikes is 5698,']\n"
     ]
    },
    {
     "name": "stderr",
     "output_type": "stream",
     "text": [
      " 70%|██████▉   | 699/1000 [05:08<02:54,  1.73it/s]"
     ]
    },
    {
     "name": "stdout",
     "output_type": "stream",
     "text": [
      "['total rental bikes is 2732,', 'total rental bikes is 3387,', 'total rental bikes is 1635,', 'total rental bikes is 1891,', 'total rental bikes is 7148,', 'total rental bikes is 4363,', 'total rental bikes is 4906,', 'total rental bikes is 4585,', 'total rental bikes is 1600,', 'total rental bikes is 4334,', 'total rental bikes is 7129,', 'total rental bikes is 5204,', 'total rental bikes is 2935,', 'total rental bikes is 4367,', 'total rental bikes is 3095,', 'total rental bikes is 8555,', 'total rental bikes is 8362,', 'total rental bikes is 8156,', 'total rental bikes is 2729,', 'total rental bikes is 1865,', 'total rental bikes is 3831,', 'total rental bikes is 7055,', 'total rental bikes is 7055,', 'total rental bikes is 2895,', 'total rental bikes is 1842,', 'total rental bikes is 7424,', 'total rental bikes is 4322,', 'total rental bikes is 2028,', 'total rental bikes is 6597,', 'total rental bikes is 1406,', 'total rental bikes is 959,', 'total rental bikes is 6572,', 'total rental bikes is 6565,', 'total rental bikes is 4780,', 'total rental bikes is 4451,', 'total rental bikes is 2927,', 'total rental bikes is 801,', 'total rental bikes is 4687,', 'total rental bikes is 4569,', 'total rental bikes is 5743,', 'total rental bikes is 2424,', 'total rental bikes is 6536,', 'total rental bikes is 4866,', 'total rental bikes is 2739,', 'total rental bikes is 5138,', 'total rental bikes is 7335,', 'total rental bikes is 1349,', 'total rental bikes is 1529,', 'total rental bikes is 5515,', 'total rental bikes is 3614,']\n"
     ]
    },
    {
     "name": "stderr",
     "output_type": "stream",
     "text": [
      " 70%|███████   | 701/1000 [05:09<03:07,  1.60it/s]"
     ]
    },
    {
     "name": "stdout",
     "output_type": "stream",
     "text": [
      "['total rental bikes is 1851,', 'total rental bikes is 6230,', 'total rental bikes is 4509,', 'total rental bikes is 3292,', 'total rental bikes is 1708,', 'total rental bikes is 4362,', 'total rental bikes is 5260,', 'total rental bikes is 7580,', 'total rental bikes is 5532,', 'total rental bikes is 5117,', 'total rental bikes is 5315,', 'total rental bikes is 7498,', 'total rental bikes is 4098,', 'total rental bikes is 4968,', 'total rental bikes is 3669,', 'total rental bikes is 6192,', 'total rental bikes is 5740,', 'total rental bikes is 1807,', 'total rental bikes is 7639,', 'total rental bikes is 5687,', 'total rental bikes is 2802,', 'total rental bikes is 4553,', 'total rental bikes is 506,', 'total rental bikes is 4570,', 'total rental bikes is 5312,', 'total rental bikes is 6169,', 'total rental bikes is 4916,', 'total rental bikes is 3456,', 'total rental bikes is 3784,', 'total rental bikes is 3958,', 'total rental bikes is 6312,', 'total rental bikes is 6290,', 'total rental bikes is 4679,', 'total rental bikes is 2765,', 'total rental bikes is 4679,', 'total rental bikes is 5010,', 'total rental bikes is 3922,', 'total rental bikes is 6691,', 'total rental bikes is 6073,', 'total rental bikes is 4669,', 'total rental bikes is 3956,', 'total rental bikes is 7733,', 'total rental bikes is 5180,', 'total rental bikes is 7466,', 'total rental bikes is 4294,', 'total rental bikes is 5119,', 'total rental bikes is 3840,', 'total rental bikes is 7836,', 'total rental bikes is 7328,', 'total rental bikes is 6825,']\n"
     ]
    },
    {
     "name": "stderr",
     "output_type": "stream",
     "text": [
      " 70%|███████   | 704/1000 [05:11<02:52,  1.71it/s]"
     ]
    },
    {
     "name": "stdout",
     "output_type": "stream",
     "text": [
      "['total rental bikes is 4073,', 'total rental bikes is 4629,', 'total rental bikes is 2177,', 'total rental bikes is 4036,', 'total rental bikes is 7264,', 'total rental bikes is 4835,', 'total rental bikes is 6770,', 'total rental bikes is 3777,', 'total rental bikes is 4205,', 'total rental bikes is 7001,', 'total rental bikes is 4862,', 'total rental bikes is 7421,', 'total rental bikes is 4105,', 'total rental bikes is 4169,', 'total rental bikes is 5729,', 'total rental bikes is 5511,', 'total rental bikes is 3068,', 'total rental bikes is 4484,', 'total rental bikes is 3141,', 'total rental bikes is 4458,', 'total rental bikes is 1538,', 'total rental bikes is 1098,', 'total rental bikes is 7393,', 'total rental bikes is 6830,', 'total rental bikes is 2424,', 'total rental bikes is 6053,', 'total rental bikes is 1550,', 'total rental bikes is 4153,', 'total rental bikes is 6436,', 'total rental bikes is 5668,', 'total rental bikes is 5107,', 'total rental bikes is 7421,', 'total rental bikes is 5629,', 'total rental bikes is 3777,', 'total rental bikes is 3872,', 'total rental bikes is 6041,', 'total rental bikes is 7429,', 'total rental bikes is 6398,', 'total rental bikes is 5041,', 'total rental bikes is 2765,', 'total rental bikes is 3784,', 'total rental bikes is 6043,', 'total rental bikes is 3292,', 'total rental bikes is 2311,', 'total rental bikes is 2493,', 'total rental bikes is 5047,', 'total rental bikes is 2277,', 'total rental bikes is 4608,', 'total rental bikes is 1623,', 'total rental bikes is 4990,']\n"
     ]
    },
    {
     "name": "stderr",
     "output_type": "stream",
     "text": [
      " 71%|███████▏  | 714/1000 [05:13<01:31,  3.11it/s]"
     ]
    },
    {
     "name": "stdout",
     "output_type": "stream",
     "text": [
      "['total rental bikes is 1005,', 'total rental bikes is 1321,', 'total rental bikes is 4182,', 'total rental bikes is 605,', 'total rental bikes is 7030,', 'total rental bikes is 5936,', 'total rental bikes is 4195,', 'total rental bikes is 1550,', 'total rental bikes is 5138,', 'total rental bikes is 7693,', 'total rental bikes is 5305,', 'total rental bikes is 4186,', 'total rental bikes is 4195,', 'total rental bikes is 3784,', 'total rental bikes is 4150,', 'total rental bikes is 4665,', 'total rental bikes is 5087,', 'total rental bikes is 4318,', 'total rental bikes is 3974,', 'total rental bikes is 5020,', 'total rental bikes is 795,', 'total rental bikes is 7132,', 'total rental bikes is 3717,', 'total rental bikes is 4833,', 'total rental bikes is 4058,', 'total rental bikes is 2475,', 'total rental bikes is 1550,', 'total rental bikes is 4844,', 'total rental bikes is 4120,', 'total rental bikes is 2132,', 'total rental bikes is 8090,', 'total rental bikes is 3623,', 'total rental bikes is 5138,', 'total rental bikes is 431,', 'total rental bikes is 4708,', 'total rental bikes is 2056,', 'total rental bikes is 4744,', 'total rental bikes is 4649,', 'total rental bikes is 7058,', 'total rental bikes is 3786,', 'total rental bikes is 2177,', 'total rental bikes is 2077,', 'total rental bikes is 3644,', 'total rental bikes is 3190,', 'total rental bikes is 4996,', 'total rental bikes is 2808,', 'total rental bikes is 3944,', 'total rental bikes is 3239,', 'total rental bikes is 3740,', 'total rental bikes is 7429,']\n"
     ]
    },
    {
     "name": "stderr",
     "output_type": "stream",
     "text": [
      " 72%|███████▏  | 718/1000 [05:14<01:36,  2.93it/s]"
     ]
    },
    {
     "name": "stdout",
     "output_type": "stream",
     "text": [
      "['total rental bikes is 5936,', 'total rental bikes is 4773,', 'total rental bikes is 5629,', 'total rental bikes is 4966,', 'total rental bikes is 1027,', 'total rental bikes is 5047,', 'total rental bikes is 2566,', 'total rental bikes is 7058,', 'total rental bikes is 5686,', 'total rental bikes is 959,', 'total rental bikes is 7965,', 'total rental bikes is 3544,', 'total rental bikes is 6421,', 'total rental bikes is 2659,', 'total rental bikes is 754,', 'total rental bikes is 2177,', 'total rental bikes is 3194,', 'total rental bikes is 5409,', 'total rental bikes is 4835,', 'total rental bikes is 5611,', 'total rental bikes is 5084,', 'total rental bikes is 7006,', 'total rental bikes is 5020,', 'total rental bikes is 4010,', 'total rental bikes is 3624,', 'total rental bikes is 4763,', 'total rental bikes is 6830,', 'total rental bikes is 7055,', 'total rental bikes is 3940,', 'total rental bikes is 5191,', 'total rental bikes is 4359,', 'total rental bikes is 4694,', 'total rental bikes is 8156,', 'total rental bikes is 6234,', 'total rental bikes is 4579,', 'total rental bikes is 2077,', 'total rental bikes is 4780,', 'total rental bikes is 4151,', 'total rental bikes is 2368,', 'total rental bikes is 3641,', 'total rental bikes is 6169,', 'total rental bikes is 6855,', 'total rental bikes is 4687,', 'total rental bikes is 3740,', 'total rental bikes is 4649,', 'total rental bikes is 4521,', 'total rental bikes is 6207,', 'total rental bikes is 2633,', 'total rental bikes is 5515,', 'total rental bikes is 4459,']\n"
     ]
    },
    {
     "name": "stderr",
     "output_type": "stream",
     "text": [
      " 72%|███████▏  | 721/1000 [05:16<01:45,  2.65it/s]"
     ]
    },
    {
     "name": "stdout",
     "output_type": "stream",
     "text": [
      "['total rental bikes is 986,', 'total rental bikes is 4046,', 'total rental bikes is 4649,', 'total rental bikes is 4182,', 'total rental bikes is 4205,', 'total rental bikes is 5805,', 'total rental bikes is 4748,', 'total rental bikes is 5847,', 'total rental bikes is 7013,', 'total rental bikes is 2429,', 'total rental bikes is 5087,', 'total rental bikes is 2802,', 'total rental bikes is 6536,', 'total rental bikes is 4401,', 'total rental bikes is 7736,', 'total rental bikes is 4990,', 'total rental bikes is 5870,', 'total rental bikes is 5336,', 'total rental bikes is 7444,', 'total rental bikes is 5538,', 'total rental bikes is 2432,', 'total rental bikes is 8120,', 'total rental bikes is 1162,', 'total rental bikes is 4785,', 'total rental bikes is 4363,', 'total rental bikes is 6685,', 'total rental bikes is 3368,', 'total rental bikes is 3351,', 'total rental bikes is 4189,', 'total rental bikes is 1606,', 'total rental bikes is 8009,', 'total rental bikes is 683,', 'total rental bikes is 1501,', 'total rental bikes is 4367,', 'total rental bikes is 2311,', 'total rental bikes is 7359,', 'total rental bikes is 3117,', 'total rental bikes is 2210,', 'total rental bikes is 7765,', 'total rental bikes is 6196,', 'total rental bikes is 7216,', 'total rental bikes is 5572,', 'total rental bikes is 6234,', 'total rental bikes is 3831,', 'total rental bikes is 5204,', 'total rental bikes is 4073,', 'total rental bikes is 5035,', 'total rental bikes is 7865,', 'total rental bikes is 4195,', 'total rental bikes is 1450,']\n"
     ]
    },
    {
     "name": "stderr",
     "output_type": "stream",
     "text": [
      " 73%|███████▎  | 727/1000 [05:17<01:31,  2.99it/s]"
     ]
    },
    {
     "name": "stdout",
     "output_type": "stream",
     "text": [
      "['total rental bikes is 4363,', 'total rental bikes is 4727,', 'total rental bikes is 3740,', 'total rental bikes is 3894,', 'total rental bikes is 4169,', 'total rental bikes is 6207,', 'total rental bikes is 1501,', 'total rental bikes is 8714,', 'total rental bikes is 4274,', 'total rental bikes is 4660,', 'total rental bikes is 6421,', 'total rental bikes is 3747,', 'total rental bikes is 5260,', 'total rental bikes is 4785,', 'total rental bikes is 8555,', 'total rental bikes is 5312,', 'total rental bikes is 4507,', 'total rental bikes is 6917,', 'total rental bikes is 3117,', 'total rental bikes is 7055,', 'total rental bikes is 3095,', 'total rental bikes is 7384,', 'total rental bikes is 2277,', 'total rental bikes is 7466,', 'total rental bikes is 2485,', 'total rental bikes is 1977,', 'total rental bikes is 3423,', 'total rental bikes is 6978,', 'total rental bikes is 7570,', 'total rental bikes is 3005,', 'total rental bikes is 4191,', 'total rental bikes is 5532,', 'total rental bikes is 1817,', 'total rental bikes is 6904,', 'total rental bikes is 4326,', 'total rental bikes is 4590,', 'total rental bikes is 5463,', 'total rental bikes is 1510,', 'total rental bikes is 4304,', 'total rental bikes is 7499,', 'total rental bikes is 7865,', 'total rental bikes is 8156,', 'total rental bikes is 1562,', 'total rental bikes is 1917,', 'total rental bikes is 5298,', 'total rental bikes is 6043,', 'total rental bikes is 4940,', 'total rental bikes is 3982,', 'total rental bikes is 2765,', 'total rental bikes is 4304,']\n"
     ]
    },
    {
     "name": "stderr",
     "output_type": "stream",
     "text": [
      " 73%|███████▎  | 731/1000 [05:19<01:34,  2.85it/s]"
     ]
    },
    {
     "name": "stdout",
     "output_type": "stream",
     "text": [
      "['total rental bikes is 1650,', 'total rental bikes is 7403,', 'total rental bikes is 7347,', 'total rental bikes is 1301,', 'total rental bikes is 5895,', 'total rental bikes is 4270,', 'total rental bikes is 1204,', 'total rental bikes is 1977,', 'total rental bikes is 5202,', 'total rental bikes is 1450,', 'total rental bikes is 7460,', 'total rental bikes is 3389,', 'total rental bikes is 1977,', 'total rental bikes is 7466,', 'total rental bikes is 5115,', 'total rental bikes is 4844,', 'total rental bikes is 7582,', 'total rental bikes is 4660,', 'total rental bikes is 4128,', 'total rental bikes is 4758,', 'total rental bikes is 2496,', 'total rental bikes is 2425,', 'total rental bikes is 5102,', 'total rental bikes is 1796,', 'total rental bikes is 2121,', 'total rental bikes is 4118,', 'total rental bikes is 605,', 'total rental bikes is 4484,', 'total rental bikes is 4835,', 'total rental bikes is 4661,', 'total rental bikes is 4338,', 'total rental bikes is 4669,', 'total rental bikes is 3872,', 'total rental bikes is 6830,', 'total rental bikes is 4569,', 'total rental bikes is 8167,', 'total rental bikes is 6685,', 'total rental bikes is 4390,', 'total rental bikes is 7570,', 'total rental bikes is 6770,', 'total rental bikes is 4046,', 'total rental bikes is 1834,', 'total rental bikes is 5986,', 'total rental bikes is 4058,', 'total rental bikes is 1807,', 'total rental bikes is 8167,', 'total rental bikes is 4187,', 'total rental bikes is 7605,', 'total rental bikes is 4460,', 'total rental bikes is 7442,']\n"
     ]
    },
    {
     "name": "stderr",
     "output_type": "stream",
     "text": [
      " 73%|███████▎  | 734/1000 [05:20<01:43,  2.56it/s]"
     ]
    },
    {
     "name": "stdout",
     "output_type": "stream",
     "text": [
      "['total rental bikes is 4864,', 'total rental bikes is 3840,', 'total rental bikes is 5409,', 'total rental bikes is 6691,', 'total rental bikes is 6370,', 'total rental bikes is 6824,', 'total rental bikes is 1000,', 'total rental bikes is 6786,', 'total rental bikes is 6118,', 'total rental bikes is 2895,', 'total rental bikes is 6857,', 'total rental bikes is 1712,', 'total rental bikes is 683,', 'total rental bikes is 1495,', 'total rental bikes is 4881,', 'total rental bikes is 1969,', 'total rental bikes is 7444,', 'total rental bikes is 4744,', 'total rental bikes is 3910,', 'total rental bikes is 1927,', 'total rental bikes is 3425,', 'total rental bikes is 1600,', 'total rental bikes is 3389,', 'total rental bikes is 5046,', 'total rental bikes is 6879,', 'total rental bikes is 4972,', 'total rental bikes is 7733,', 'total rental bikes is 4274,', 'total rental bikes is 4375,', 'total rental bikes is 4679,', 'total rental bikes is 7444,', 'total rental bikes is 801,', 'total rental bikes is 7030,', 'total rental bikes is 3959,', 'total rental bikes is 6825,', 'total rental bikes is 4036,', 'total rental bikes is 4153,', 'total rental bikes is 5102,', 'total rental bikes is 3322,', 'total rental bikes is 1693,', 'total rental bikes is 6235,', 'total rental bikes is 6891,', 'total rental bikes is 4359,', 'total rental bikes is 5786,', 'total rental bikes is 1817,', 'total rental bikes is 1606,', 'total rental bikes is 5611,', 'total rental bikes is 4727,', 'total rental bikes is 4098,', 'total rental bikes is 1421,']\n"
     ]
    },
    {
     "name": "stderr",
     "output_type": "stream",
     "text": [
      " 74%|███████▎  | 736/1000 [05:22<01:59,  2.20it/s]"
     ]
    },
    {
     "name": "stdout",
     "output_type": "stream",
     "text": [
      "['total rental bikes is 4985,', 'total rental bikes is 3267,', 'total rental bikes is 3141,', 'total rental bikes is 1011,', 'total rental bikes is 4826,', 'total rental bikes is 3831,', 'total rental bikes is 5698,', 'total rental bikes is 5180,', 'total rental bikes is 4191,', 'total rental bikes is 2455,', 'total rental bikes is 1167,', 'total rental bikes is 506,', 'total rental bikes is 1635,', 'total rental bikes is 1872,', 'total rental bikes is 3285,', 'total rental bikes is 3740,', 'total rental bikes is 986,', 'total rental bikes is 4940,', 'total rental bikes is 1501,', 'total rental bikes is 1360,', 'total rental bikes is 3974,', 'total rental bikes is 6299,', 'total rental bikes is 5117,', 'total rental bikes is 1501,', 'total rental bikes is 1096,', 'total rental bikes is 5146,', 'total rental bikes is 5260,', 'total rental bikes is 6691,', 'total rental bikes is 1589,', 'total rental bikes is 3744,', 'total rental bikes is 4576,', 'total rental bikes is 1815,', 'total rental bikes is 5146,', 'total rental bikes is 4790,', 'total rental bikes is 4363,', 'total rental bikes is 6227,', 'total rental bikes is 2843,', 'total rental bikes is 1461,', 'total rental bikes is 6824,', 'total rental bikes is 7693,', 'total rental bikes is 5046,', 'total rental bikes is 6861,', 'total rental bikes is 5740,', 'total rental bikes is 4459,', 'total rental bikes is 5336,', 'total rental bikes is 822,', 'total rental bikes is 2659,', 'total rental bikes is 4367,', 'total rental bikes is 2633,', 'total rental bikes is 7261,']\n"
     ]
    },
    {
     "name": "stderr",
     "output_type": "stream",
     "text": [
      " 74%|███████▍  | 739/1000 [05:23<02:02,  2.13it/s]"
     ]
    },
    {
     "name": "stdout",
     "output_type": "stream",
     "text": [
      "['total rental bikes is 3761,', 'total rental bikes is 4602,', 'total rental bikes is 4966,', 'total rental bikes is 3376,', 'total rental bikes is 3717,', 'total rental bikes is 2376,', 'total rental bikes is 1543,', 'total rental bikes is 3520,', 'total rental bikes is 3570,', 'total rental bikes is 6536,', 'total rental bikes is 6233,', 'total rental bikes is 4839,', 'total rental bikes is 7058,', 'total rental bikes is 5687,', 'total rental bikes is 7534,', 'total rental bikes is 6569,', 'total rental bikes is 6664,', 'total rental bikes is 3115,', 'total rental bikes is 2566,', 'total rental bikes is 3831,', 'total rental bikes is 7865,', 'total rental bikes is 4191,', 'total rental bikes is 4511,', 'total rental bikes is 3915,', 'total rental bikes is 3958,', 'total rental bikes is 2132,', 'total rental bikes is 5464,', 'total rental bikes is 3409,', 'total rental bikes is 5180,', 'total rental bikes is 6296,', 'total rental bikes is 7525,', 'total rental bikes is 3372,', 'total rental bikes is 3940,', 'total rental bikes is 4338,', 'total rental bikes is 4460,', 'total rental bikes is 2423,', 'total rental bikes is 6034,', 'total rental bikes is 1589,', 'total rental bikes is 3071,', 'total rental bikes is 2121,', 'total rental bikes is 4475,', 'total rental bikes is 5191,', 'total rental bikes is 3944,', 'total rental bikes is 2732,', 'total rental bikes is 6883,', 'total rental bikes is 3873,', 'total rental bikes is 4826,', 'total rental bikes is 4352,', 'total rental bikes is 5918,', 'total rental bikes is 6734,']\n"
     ]
    },
    {
     "name": "stderr",
     "output_type": "stream",
     "text": [
      " 74%|███████▍  | 744/1000 [05:25<01:43,  2.48it/s]"
     ]
    },
    {
     "name": "stdout",
     "output_type": "stream",
     "text": [
      "['total rental bikes is 6864,', 'total rental bikes is 1027,', 'total rental bikes is 3214,', 'total rental bikes is 3669,', 'total rental bikes is 3333,', 'total rental bikes is 3624,', 'total rental bikes is 5445,', 'total rental bikes is 5786,', 'total rental bikes is 7499,', 'total rental bikes is 6133,', 'total rental bikes is 1842,', 'total rental bikes is 7965,', 'total rental bikes is 4150,', 'total rental bikes is 3926,', 'total rental bikes is 1746,', 'total rental bikes is 2236,', 'total rental bikes is 3761,', 'total rental bikes is 7534,', 'total rental bikes is 4220,', 'total rental bikes is 4788,', 'total rental bikes is 4153,', 'total rental bikes is 6598,', 'total rental bikes is 1817,', 'total rental bikes is 6861,', 'total rental bikes is 3613,', 'total rental bikes is 4109,', 'total rental bikes is 1013,', 'total rental bikes is 801,', 'total rental bikes is 4795,', 'total rental bikes is 4294,', 'total rental bikes is 4835,', 'total rental bikes is 7691,', 'total rental bikes is 4717,', 'total rental bikes is 4120,', 'total rental bikes is 5058,', 'total rental bikes is 1796,', 'total rental bikes is 6606,', 'total rental bikes is 2121,', 'total rental bikes is 5342,', 'total rental bikes is 4150,', 'total rental bikes is 1301,', 'total rental bikes is 1913,', 'total rental bikes is 7055,', 'total rental bikes is 3351,', 'total rental bikes is 2311,', 'total rental bikes is 4713,', 'total rental bikes is 4401,', 'total rental bikes is 7697,', 'total rental bikes is 3944,', 'total rental bikes is 2933,']\n"
     ]
    },
    {
     "name": "stderr",
     "output_type": "stream",
     "text": [
      " 75%|███████▍  | 748/1000 [05:26<01:39,  2.53it/s]"
     ]
    },
    {
     "name": "stdout",
     "output_type": "stream",
     "text": [
      "['total rental bikes is 4648,', 'total rental bikes is 795,', 'total rental bikes is 1607,', 'total rental bikes is 4780,', 'total rental bikes is 7504,', 'total rental bikes is 4916,', 'total rental bikes is 3239,', 'total rental bikes is 4220,', 'total rental bikes is 5255,', 'total rental bikes is 4338,', 'total rental bikes is 4906,', 'total rental bikes is 4035,', 'total rental bikes is 7804,', 'total rental bikes is 3190,', 'total rental bikes is 3747,', 'total rental bikes is 683,', 'total rental bikes is 8120,', 'total rental bikes is 8167,', 'total rental bikes is 2471,', 'total rental bikes is 5743,', 'total rental bikes is 6359,', 'total rental bikes is 3190,', 'total rental bikes is 6233,', 'total rental bikes is 1985,', 'total rental bikes is 6786,', 'total rental bikes is 2927,', 'total rental bikes is 3214,', 'total rental bikes is 6234,', 'total rental bikes is 4940,', 'total rental bikes is 7148,', 'total rental bikes is 2134,', 'total rental bikes is 4451,', 'total rental bikes is 4835,', 'total rental bikes is 1011,', 'total rental bikes is 3292,', 'total rental bikes is 5976,', 'total rental bikes is 4186,', 'total rental bikes is 6998,', 'total rental bikes is 5041,', 'total rental bikes is 7570,', 'total rental bikes is 4940,', 'total rental bikes is 4151,', 'total rental bikes is 4760,', 'total rental bikes is 6606,', 'total rental bikes is 1635,', 'total rental bikes is 3805,', 'total rental bikes is 4195,', 'total rental bikes is 986,', 'total rental bikes is 3785,', 'total rental bikes is 5323,']\n"
     ]
    },
    {
     "name": "stderr",
     "output_type": "stream",
     "text": [
      " 75%|███████▌  | 751/1000 [05:28<01:45,  2.36it/s]"
     ]
    },
    {
     "name": "stdout",
     "output_type": "stream",
     "text": [
      "['total rental bikes is 2294,', 'total rental bikes is 1538,', 'total rental bikes is 2134,', 'total rental bikes is 6824,', 'total rental bikes is 5936,', 'total rental bikes is 5375,', 'total rental bikes is 705,', 'total rental bikes is 2425,', 'total rental bikes is 4649,', 'total rental bikes is 5217,', 'total rental bikes is 5130,', 'total rental bikes is 4105,', 'total rental bikes is 6398,', 'total rental bikes is 4665,', 'total rental bikes is 1969,', 'total rental bikes is 4714,', 'total rental bikes is 5084,', 'total rental bikes is 5319,', 'total rental bikes is 1529,', 'total rental bikes is 3115,', 'total rental bikes is 4570,', 'total rental bikes is 3542,', 'total rental bikes is 3644,', 'total rental bikes is 8227,', 'total rental bikes is 3846,', 'total rental bikes is 5115,', 'total rental bikes is 4153,', 'total rental bikes is 2294,', 'total rental bikes is 2895,', 'total rental bikes is 5170,', 'total rental bikes is 5202,', 'total rental bikes is 6235,', 'total rental bikes is 4570,', 'total rental bikes is 6536,', 'total rental bikes is 431,', 'total rental bikes is 795,', 'total rental bikes is 4040,', 'total rental bikes is 4154,', 'total rental bikes is 3944,', 'total rental bikes is 7040,', 'total rental bikes is 1536,', 'total rental bikes is 5538,', 'total rental bikes is 4270,', 'total rental bikes is 5558,', 'total rental bikes is 4509,', 'total rental bikes is 6421,', 'total rental bikes is 506,', 'total rental bikes is 4189,', 'total rental bikes is 4833,', 'total rental bikes is 5170,']\n"
     ]
    },
    {
     "name": "stderr",
     "output_type": "stream",
     "text": [
      " 76%|███████▌  | 756/1000 [05:30<01:32,  2.64it/s]"
     ]
    },
    {
     "name": "stdout",
     "output_type": "stream",
     "text": [
      "['total rental bikes is 3510,', 'total rental bikes is 5478,', 'total rental bikes is 6772,', 'total rental bikes is 7538,', 'total rental bikes is 1510,', 'total rental bikes is 7691,', 'total rental bikes is 5008,', 'total rental bikes is 2192,', 'total rental bikes is 4576,', 'total rental bikes is 3649,', 'total rental bikes is 3727,', 'total rental bikes is 5020,', 'total rental bikes is 2169,', 'total rental bikes is 5062,', 'total rental bikes is 4792,', 'total rental bikes is 1526,', 'total rental bikes is 6864,', 'total rental bikes is 4040,', 'total rental bikes is 5146,', 'total rental bikes is 6978,', 'total rental bikes is 7509,', 'total rental bikes is 5986,', 'total rental bikes is 4968,', 'total rental bikes is 8362,', 'total rental bikes is 5847,', 'total rental bikes is 1550,', 'total rental bikes is 2423,', 'total rental bikes is 1349,', 'total rental bikes is 3669,', 'total rental bikes is 5298,', 'total rental bikes is 1812,', 'total rental bikes is 3376,', 'total rental bikes is 7001,', 'total rental bikes is 1589,', 'total rental bikes is 7713,', 'total rental bikes is 4788,', 'total rental bikes is 2298,', 'total rental bikes is 1472,', 'total rental bikes is 3214,', 'total rental bikes is 2424,', 'total rental bikes is 5305,', 'total rental bikes is 2999,', 'total rental bikes is 4548,', 'total rental bikes is 4067,', 'total rental bikes is 3126,', 'total rental bikes is 3267,', 'total rental bikes is 4826,', 'total rental bikes is 7363,', 'total rental bikes is 4679,', 'total rental bikes is 1746,']\n"
     ]
    },
    {
     "name": "stderr",
     "output_type": "stream",
     "text": [
      " 76%|███████▌  | 760/1000 [05:31<01:31,  2.62it/s]"
     ]
    },
    {
     "name": "stdout",
     "output_type": "stream",
     "text": [
      "['total rental bikes is 4790,', 'total rental bikes is 3204,', 'total rental bikes is 4660,', 'total rental bikes is 1530,', 'total rental bikes is 7006,', 'total rental bikes is 4010,', 'total rental bikes is 3926,', 'total rental bikes is 6824,', 'total rental bikes is 1501,', 'total rental bikes is 2034,', 'total rental bikes is 2432,', 'total rental bikes is 1027,', 'total rental bikes is 4985,', 'total rental bikes is 1162,', 'total rental bikes is 4367,', 'total rental bikes is 2423,', 'total rental bikes is 2046,', 'total rental bikes is 1650,', 'total rental bikes is 7403,', 'total rental bikes is 1204,', 'total rental bikes is 3811,', 'total rental bikes is 6241,', 'total rental bikes is 4459,', 'total rental bikes is 3243,', 'total rental bikes is 4788,', 'total rental bikes is 5923,', 'total rental bikes is 4486,', 'total rental bikes is 7907,', 'total rental bikes is 1162,', 'total rental bikes is 3867,', 'total rental bikes is 5875,', 'total rental bikes is 3574,', 'total rental bikes is 3331,', 'total rental bikes is 4509,', 'total rental bikes is 5312,', 'total rental bikes is 6235,', 'total rental bikes is 22,', 'total rental bikes is 2177,', 'total rental bikes is 6639,', 'total rental bikes is 6883,', 'total rental bikes is 754,', 'total rental bikes is 3331,', 'total rental bikes is 4270,', 'total rental bikes is 6685,', 'total rental bikes is 7509,', 'total rental bikes is 6565,', 'total rental bikes is 1977,', 'total rental bikes is 7261,', 'total rental bikes is 1526,', 'total rental bikes is 6824,']\n"
     ]
    },
    {
     "name": "stderr",
     "output_type": "stream",
     "text": [
      " 76%|███████▋  | 764/1000 [05:33<01:31,  2.57it/s]"
     ]
    },
    {
     "name": "stdout",
     "output_type": "stream",
     "text": [
      "['total rental bikes is 7410,', 'total rental bikes is 1817,', 'total rental bikes is 4563,', 'total rental bikes is 2914,', 'total rental bikes is 5298,', 'total rental bikes is 1951,', 'total rental bikes is 7030,', 'total rental bikes is 4511,', 'total rental bikes is 4694,', 'total rental bikes is 3228,', 'total rental bikes is 3944,', 'total rental bikes is 6207,', 'total rental bikes is 4714,', 'total rental bikes is 4862,', 'total rental bikes is 4294,', 'total rental bikes is 4763,', 'total rental bikes is 6864,', 'total rental bikes is 920,', 'total rental bikes is 6296,', 'total rental bikes is 2895,', 'total rental bikes is 6211,', 'total rental bikes is 4205,', 'total rental bikes is 4363,', 'total rental bikes is 3786,', 'total rental bikes is 7697,', 'total rental bikes is 7175,', 'total rental bikes is 3126,', 'total rental bikes is 5020,', 'total rental bikes is 7132,', 'total rental bikes is 7375,', 'total rental bikes is 1162,', 'total rental bikes is 981,', 'total rental bikes is 2496,', 'total rental bikes is 6312,', 'total rental bikes is 3846,', 'total rental bikes is 4073,', 'total rental bikes is 7504,', 'total rental bikes is 3204,', 'total rental bikes is 5305,', 'total rental bikes is 7363,', 'total rental bikes is 3214,', 'total rental bikes is 1321,', 'total rental bikes is 5169,', 'total rental bikes is 1416,', 'total rental bikes is 2114,', 'total rental bikes is 7767,', 'total rental bikes is 1162,', 'total rental bikes is 4758,', 'total rental bikes is 4648,', 'total rental bikes is 6392,']\n"
     ]
    },
    {
     "name": "stderr",
     "output_type": "stream",
     "text": [
      " 77%|███████▋  | 768/1000 [05:34<01:29,  2.58it/s]"
     ]
    },
    {
     "name": "stdout",
     "output_type": "stream",
     "text": [
      "['total rental bikes is 3785,', 'total rental bikes is 4127,', 'total rental bikes is 3940,', 'total rental bikes is 4968,', 'total rental bikes is 6140,', 'total rental bikes is 5169,', 'total rental bikes is 3243,', 'total rental bikes is 3053,', 'total rental bikes is 6685,', 'total rental bikes is 7702,', 'total rental bikes is 8227,', 'total rental bikes is 6169,', 'total rental bikes is 6685,', 'total rental bikes is 3422,', 'total rental bikes is 3598,', 'total rental bikes is 3709,', 'total rental bikes is 5532,', 'total rental bikes is 3376,', 'total rental bikes is 5312,', 'total rental bikes is 3117,', 'total rental bikes is 5047,', 'total rental bikes is 6891,', 'total rental bikes is 5729,', 'total rental bikes is 4195,', 'total rental bikes is 3805,', 'total rental bikes is 6398,', 'total rental bikes is 7592,', 'total rental bikes is 1749,', 'total rental bikes is 4780,', 'total rental bikes is 1985,', 'total rental bikes is 4338,', 'total rental bikes is 2169,', 'total rental bikes is 8090,', 'total rental bikes is 1865,', 'total rental bikes is 7129,', 'total rental bikes is 7001,', 'total rental bikes is 5130,', 'total rental bikes is 1005,', 'total rental bikes is 1096,', 'total rental bikes is 5255,', 'total rental bikes is 3717,', 'total rental bikes is 3956,', 'total rental bikes is 4186,', 'total rental bikes is 2034,', 'total rental bikes is 5686,', 'total rental bikes is 3487,', 'total rental bikes is 4972,', 'total rental bikes is 5336,', 'total rental bikes is 1842,', 'total rental bikes is 1834,']\n"
     ]
    },
    {
     "name": "stderr",
     "output_type": "stream",
     "text": [
      " 77%|███████▋  | 771/1000 [05:36<01:35,  2.41it/s]"
     ]
    },
    {
     "name": "stdout",
     "output_type": "stream",
     "text": [
      "['total rental bikes is 3267,', 'total rental bikes is 2311,', 'total rental bikes is 4844,', 'total rental bikes is 6235,', 'total rental bikes is 3053,', 'total rental bikes is 5875,', 'total rental bikes is 5260,', 'total rental bikes is 1301,', 'total rental bikes is 3228,', 'total rental bikes is 4576,', 'total rental bikes is 2277,', 'total rental bikes is 5409,', 'total rental bikes is 705,', 'total rental bikes is 7030,', 'total rental bikes is 4826,', 'total rental bikes is 3129,', 'total rental bikes is 4458,', 'total rental bikes is 7639,', 'total rental bikes is 4758,', 'total rental bikes is 6544,', 'total rental bikes is 4978,', 'total rental bikes is 1712,', 'total rental bikes is 2114,', 'total rental bikes is 4189,', 'total rental bikes is 6824,', 'total rental bikes is 1263,', 'total rental bikes is 4182,', 'total rental bikes is 6241,', 'total rental bikes is 4744,', 'total rental bikes is 8120,', 'total rental bikes is 5336,', 'total rental bikes is 1471,', 'total rental bikes is 1683,', 'total rental bikes is 4274,', 'total rental bikes is 3613,', 'total rental bikes is 3623,', 'total rental bikes is 1472,', 'total rental bikes is 5217,', 'total rental bikes is 2431,', 'total rental bikes is 8227,', 'total rental bikes is 2935,', 'total rental bikes is 3613,', 'total rental bikes is 4486,', 'total rental bikes is 2935,', 'total rental bikes is 3840,', 'total rental bikes is 4727,', 'total rental bikes is 5020,', 'total rental bikes is 6421,', 'total rental bikes is 7460,', 'total rental bikes is 4109,']\n"
     ]
    },
    {
     "name": "stderr",
     "output_type": "stream",
     "text": [
      " 77%|███████▋  | 774/1000 [05:37<01:39,  2.28it/s]"
     ]
    },
    {
     "name": "stdout",
     "output_type": "stream",
     "text": [
      "['total rental bikes is 1712,', 'total rental bikes is 3624,', 'total rental bikes is 3784,', 'total rental bikes is 7175,', 'total rental bikes is 1416,', 'total rental bikes is 1301,', 'total rental bikes is 1096,', 'total rental bikes is 1162,', 'total rental bikes is 2914,', 'total rental bikes is 4608,', 'total rental bikes is 3867,', 'total rental bikes is 5698,', 'total rental bikes is 5191,', 'total rental bikes is 5566,', 'total rental bikes is 3239,', 'total rental bikes is 6569,', 'total rental bikes is 1011,', 'total rental bikes is 7415,', 'total rental bikes is 2660,', 'total rental bikes is 4758,', 'total rental bikes is 5336,', 'total rental bikes is 6569,', 'total rental bikes is 3577,', 'total rental bikes is 2425,', 'total rental bikes is 1321,', 'total rental bikes is 3239,', 'total rental bikes is 6855,', 'total rental bikes is 3292,', 'total rental bikes is 6889,', 'total rental bikes is 6778,', 'total rental bikes is 4773,', 'total rental bikes is 6296,', 'total rental bikes is 3333,', 'total rental bikes is 4220,', 'total rental bikes is 5923,', 'total rental bikes is 5115,', 'total rental bikes is 5099,', 'total rental bikes is 1317,', 'total rental bikes is 1472,', 'total rental bikes is 795,', 'total rental bikes is 8156,', 'total rental bikes is 6786,', 'total rental bikes is 7347,', 'total rental bikes is 2633,', 'total rental bikes is 4086,', 'total rental bikes is 4098,', 'total rental bikes is 4649,', 'total rental bikes is 6597,', 'total rental bikes is 4401,', 'total rental bikes is 3894,']\n"
     ]
    },
    {
     "name": "stderr",
     "output_type": "stream",
     "text": [
      " 78%|███████▊  | 778/1000 [05:39<01:33,  2.38it/s]"
     ]
    },
    {
     "name": "stdout",
     "output_type": "stream",
     "text": [
      "['total rental bikes is 4318,', 'total rental bikes is 7393,', 'total rental bikes is 5499,', 'total rental bikes is 1917,', 'total rental bikes is 3376,', 'total rental bikes is 2999,', 'total rental bikes is 4036,', 'total rental bikes is 4109,', 'total rental bikes is 4826,', 'total rental bikes is 1917,', 'total rental bikes is 2765,', 'total rental bikes is 4191,', 'total rental bikes is 4826,', 'total rental bikes is 7534,', 'total rental bikes is 2918,', 'total rental bikes is 1944,', 'total rental bikes is 4803,', 'total rental bikes is 7720,', 'total rental bikes is 5225,', 'total rental bikes is 7112,', 'total rental bikes is 6978,', 'total rental bikes is 2933,', 'total rental bikes is 5424,', 'total rental bikes is 7691,', 'total rental bikes is 3214,', 'total rental bikes is 3095,', 'total rental bikes is 2843,', 'total rental bikes is 6855,', 'total rental bikes is 7261,', 'total rental bikes is 4911,', 'total rental bikes is 3194,', 'total rental bikes is 4840,', 'total rental bikes is 3717,', 'total rental bikes is 5409,', 'total rental bikes is 4694,', 'total rental bikes is 1712,', 'total rental bikes is 7736,', 'total rental bikes is 4649,', 'total rental bikes is 1712,', 'total rental bikes is 5905,', 'total rental bikes is 7870,', 'total rental bikes is 8395,', 'total rental bikes is 22,', 'total rental bikes is 623,', 'total rental bikes is 1098,', 'total rental bikes is 7290,', 'total rental bikes is 2294,', 'total rental bikes is 1167,', 'total rental bikes is 6825,', 'total rental bikes is 4097,']\n"
     ]
    },
    {
     "name": "stderr",
     "output_type": "stream",
     "text": [
      " 78%|███████▊  | 781/1000 [05:40<01:37,  2.24it/s]"
     ]
    },
    {
     "name": "stdout",
     "output_type": "stream",
     "text": [
      "['total rental bikes is 2566,', 'total rental bikes is 5058,', 'total rental bikes is 4916,', 'total rental bikes is 7965,', 'total rental bikes is 1872,', 'total rental bikes is 3071,', 'total rental bikes is 6133,', 'total rental bikes is 3574,', 'total rental bikes is 3204,', 'total rental bikes is 2134,', 'total rental bikes is 1589,', 'total rental bikes is 3387,', 'total rental bikes is 5115,', 'total rental bikes is 4322,', 'total rental bikes is 4036,', 'total rental bikes is 3785,', 'total rental bikes is 3840,', 'total rental bikes is 1005,', 'total rental bikes is 4010,', 'total rental bikes is 4073,', 'total rental bikes is 3727,', 'total rental bikes is 2311,', 'total rental bikes is 7767,', 'total rental bikes is 7641,', 'total rental bikes is 1693,', 'total rental bikes is 1096,', 'total rental bikes is 4656,', 'total rental bikes is 1011,', 'total rental bikes is 3831,', 'total rental bikes is 1471,', 'total rental bikes is 3214,', 'total rental bikes is 3784,', 'total rental bikes is 1450,', 'total rental bikes is 3239,', 'total rental bikes is 5255,', 'total rental bikes is 1787,', 'total rental bikes is 5020,', 'total rental bikes is 3663,', 'total rental bikes is 4661,', 'total rental bikes is 1472,', 'total rental bikes is 4940,', 'total rental bikes is 4940,', 'total rental bikes is 4553,', 'total rental bikes is 3613,', 'total rental bikes is 4521,', 'total rental bikes is 2765,', 'total rental bikes is 5008,', 'total rental bikes is 8173,', 'total rental bikes is 1865,', 'total rental bikes is 4187,']\n"
     ]
    },
    {
     "name": "stderr",
     "output_type": "stream",
     "text": [
      " 78%|███████▊  | 785/1000 [05:42<01:32,  2.32it/s]"
     ]
    },
    {
     "name": "stdout",
     "output_type": "stream",
     "text": [
      "['total rental bikes is 6192,', 'total rental bikes is 6778,', 'total rental bikes is 5130,', 'total rental bikes is 4708,', 'total rental bikes is 985,', 'total rental bikes is 4940,', 'total rental bikes is 3907,', 'total rental bikes is 4359,', 'total rental bikes is 1796,', 'total rental bikes is 6685,', 'total rental bikes is 1951,', 'total rental bikes is 4035,', 'total rental bikes is 3510,', 'total rental bikes is 5020,', 'total rental bikes is 4390,', 'total rental bikes is 3351,', 'total rental bikes is 6398,', 'total rental bikes is 5191,', 'total rental bikes is 3392,', 'total rental bikes is 1891,', 'total rental bikes is 3194,', 'total rental bikes is 5084,', 'total rental bikes is 1749,', 'total rental bikes is 2744,', 'total rental bikes is 5918,', 'total rental bikes is 4795,', 'total rental bikes is 3163,', 'total rental bikes is 2739,', 'total rental bikes is 4451,', 'total rental bikes is 3926,', 'total rental bikes is 2832,', 'total rental bikes is 7592,', 'total rental bikes is 3239,', 'total rental bikes is 4067,', 'total rental bikes is 2633,', 'total rental bikes is 5936,', 'total rental bikes is 5008,', 'total rental bikes is 4459,', 'total rental bikes is 4023,', 'total rental bikes is 4748,', 'total rental bikes is 4881,', 'total rental bikes is 5698,', 'total rental bikes is 4220,', 'total rental bikes is 5495,', 'total rental bikes is 2395,', 'total rental bikes is 2744,', 'total rental bikes is 3872,', 'total rental bikes is 7290,', 'total rental bikes is 1360,', 'total rental bikes is 6569,']\n"
     ]
    },
    {
     "name": "stderr",
     "output_type": "stream",
     "text": [
      " 79%|███████▉  | 788/1000 [05:43<01:35,  2.21it/s]"
     ]
    },
    {
     "name": "stdout",
     "output_type": "stream",
     "text": [
      "['total rental bikes is 4916,', 'total rental bikes is 5810,', 'total rental bikes is 7393,', 'total rental bikes is 4326,', 'total rental bikes is 605,', 'total rental bikes is 6544,', 'total rental bikes is 6304,', 'total rental bikes is 1543,', 'total rental bikes is 2765,', 'total rental bikes is 4304,', 'total rental bikes is 1685,', 'total rental bikes is 5687,', 'total rental bikes is 4182,', 'total rental bikes is 4339,', 'total rental bikes is 4661,', 'total rental bikes is 7570,', 'total rental bikes is 6436,', 'total rental bikes is 6664,', 'total rental bikes is 7713,', 'total rental bikes is 4186,', 'total rental bikes is 627,', 'total rental bikes is 5582,', 'total rental bikes is 5633,', 'total rental bikes is 6824,', 'total rental bikes is 5463,', 'total rental bikes is 5686,', 'total rental bikes is 8227,', 'total rental bikes is 1851,', 'total rental bikes is 2659,', 'total rental bikes is 7109,', 'total rental bikes is 4978,', 'total rental bikes is 7410,', 'total rental bikes is 3649,', 'total rental bikes is 5698,', 'total rental bikes is 1204,', 'total rental bikes is 5191,', 'total rental bikes is 3376,', 'total rental bikes is 5686,', 'total rental bikes is 4169,', 'total rental bikes is 2843,', 'total rental bikes is 4727,', 'total rental bikes is 3249,', 'total rental bikes is 7129,', 'total rental bikes is 1787,', 'total rental bikes is 1538,', 'total rental bikes is 5170,', 'total rental bikes is 3204,', 'total rental bikes is 5566,', 'total rental bikes is 3574,', 'total rental bikes is 7055,']\n"
     ]
    },
    {
     "name": "stderr",
     "output_type": "stream",
     "text": [
      " 79%|███████▉  | 794/1000 [05:45<01:16,  2.71it/s]"
     ]
    },
    {
     "name": "stdout",
     "output_type": "stream",
     "text": [
      "['total rental bikes is 6133,', 'total rental bikes is 4656,', 'total rental bikes is 7216,', 'total rental bikes is 7436,', 'total rental bikes is 3830,', 'total rental bikes is 6304,', 'total rental bikes is 6825,', 'total rental bikes is 4352,', 'total rental bikes is 4840,', 'total rental bikes is 7055,', 'total rental bikes is 2133,', 'total rental bikes is 5191,', 'total rental bikes is 1550,', 'total rental bikes is 3846,', 'total rental bikes is 1162,', 'total rental bikes is 5062,', 'total rental bikes is 2947,', 'total rental bikes is 7216,', 'total rental bikes is 3239,', 'total rental bikes is 2115,', 'total rental bikes is 6891,', 'total rental bikes is 4068,', 'total rental bikes is 4509,', 'total rental bikes is 5170,', 'total rental bikes is 4318,', 'total rental bikes is 1471,', 'total rental bikes is 2424,', 'total rental bikes is 2424,', 'total rental bikes is 2493,', 'total rental bikes is 5424,', 'total rental bikes is 1536,', 'total rental bikes is 7665,', 'total rental bikes is 4569,', 'total rental bikes is 6192,', 'total rental bikes is 3372,', 'total rental bikes is 5686,', 'total rental bikes is 5058,', 'total rental bikes is 3659,', 'total rental bikes is 5634,', 'total rental bikes is 5805,', 'total rental bikes is 441,', 'total rental bikes is 2744,', 'total rental bikes is 2425,', 'total rental bikes is 5010,', 'total rental bikes is 6536,', 'total rental bikes is 5538,', 'total rental bikes is 5119,', 'total rental bikes is 3740,', 'total rental bikes is 7013,', 'total rental bikes is 4563,']\n"
     ]
    },
    {
     "name": "stderr",
     "output_type": "stream",
     "text": [
      " 80%|███████▉  | 796/1000 [05:47<01:28,  2.29it/s]"
     ]
    },
    {
     "name": "stdout",
     "output_type": "stream",
     "text": [
      "['total rental bikes is 3982,', 'total rental bikes is 3190,', 'total rental bikes is 7290,', 'total rental bikes is 4795,', 'total rental bikes is 4773,', 'total rental bikes is 6118,', 'total rental bikes is 4153,', 'total rental bikes is 6457,', 'total rental bikes is 6569,', 'total rental bikes is 5047,', 'total rental bikes is 5740,', 'total rental bikes is 6153,', 'total rental bikes is 7375,', 'total rental bikes is 5130,', 'total rental bikes is 1107,', 'total rental bikes is 2475,', 'total rental bikes is 7713,', 'total rental bikes is 1543,', 'total rental bikes is 5336,', 'total rental bikes is 7580,', 'total rental bikes is 1977,', 'total rental bikes is 4978,', 'total rental bikes is 5585,', 'total rental bikes is 3761,', 'total rental bikes is 5302,', 'total rental bikes is 8362,', 'total rental bikes is 1865,', 'total rental bikes is 5875,', 'total rental bikes is 5585,', 'total rental bikes is 4459,', 'total rental bikes is 4677,', 'total rental bikes is 4342,', 'total rental bikes is 7702,', 'total rental bikes is 3292,', 'total rental bikes is 4339,', 'total rental bikes is 2227,', 'total rental bikes is 4274,', 'total rental bikes is 1872,', 'total rental bikes is 4844,', 'total rental bikes is 4332,', 'total rental bikes is 7639,', 'total rental bikes is 3239,', 'total rental bikes is 623,', 'total rental bikes is 4576,', 'total rental bikes is 5255,', 'total rental bikes is 4592,', 'total rental bikes is 7129,', 'total rental bikes is 7347,', 'total rental bikes is 3867,', 'total rental bikes is 1027,']\n"
     ]
    },
    {
     "name": "stderr",
     "output_type": "stream",
     "text": [
      " 80%|███████▉  | 799/1000 [05:48<01:31,  2.21it/s]"
     ]
    },
    {
     "name": "stdout",
     "output_type": "stream",
     "text": [
      "['total rental bikes is 4758,', 'total rental bikes is 7570,', 'total rental bikes is 6883,', 'total rental bikes is 3510,', 'total rental bikes is 4094,', 'total rental bikes is 3784,', 'total rental bikes is 7105,', 'total rental bikes is 1461,', 'total rental bikes is 5319,', 'total rental bikes is 5305,', 'total rental bikes is 2999,', 'total rental bikes is 6269,', 'total rental bikes is 5729,', 'total rental bikes is 4169,', 'total rental bikes is 6211,', 'total rental bikes is 6904,', 'total rental bikes is 6053,', 'total rental bikes is 7040,', 'total rental bikes is 3907,', 'total rental bikes is 4105,', 'total rental bikes is 3623,', 'total rental bikes is 4073,', 'total rental bikes is 3624,', 'total rental bikes is 6591,', 'total rental bikes is 6118,', 'total rental bikes is 5698,', 'total rental bikes is 3456,', 'total rental bikes is 3570,', 'total rental bikes is 2914,', 'total rental bikes is 7538,', 'total rental bikes is 1865,', 'total rental bikes is 3761,', 'total rental bikes is 5936,', 'total rental bikes is 2493,', 'total rental bikes is 8173,', 'total rental bikes is 3272,', 'total rental bikes is 2927,', 'total rental bikes is 5102,', 'total rental bikes is 5119,', 'total rental bikes is 7338,', 'total rental bikes is 3523,', 'total rental bikes is 6591,', 'total rental bikes is 8362,', 'total rental bikes is 5312,', 'total rental bikes is 5204,', 'total rental bikes is 5463,', 'total rental bikes is 1787,', 'total rental bikes is 4123,', 'total rental bikes is 5191,', 'total rental bikes is 3310,']\n"
     ]
    },
    {
     "name": "stderr",
     "output_type": "stream",
     "text": [
      " 80%|████████  | 802/1000 [05:50<01:32,  2.14it/s]"
     ]
    },
    {
     "name": "stdout",
     "output_type": "stream",
     "text": [
      "['total rental bikes is 6786,', 'total rental bikes is 623,', 'total rental bikes is 2689,', 'total rental bikes is 2209,', 'total rental bikes is 4553,', 'total rental bikes is 3786,', 'total rental bikes is 7499,', 'total rental bikes is 5087,', 'total rental bikes is 4182,', 'total rental bikes is 2496,', 'total rental bikes is 3389,', 'total rental bikes is 4521,', 'total rental bikes is 5202,', 'total rental bikes is 5743,', 'total rental bikes is 1248,', 'total rental bikes is 6664,', 'total rental bikes is 3322,', 'total rental bikes is 4940,', 'total rental bikes is 4717,', 'total rental bikes is 4714,', 'total rental bikes is 4205,', 'total rental bikes is 3907,', 'total rental bikes is 1360,', 'total rental bikes is 7965,', 'total rental bikes is 6211,', 'total rental bikes is 5905,', 'total rental bikes is 4322,', 'total rental bikes is 2933,', 'total rental bikes is 1796,', 'total rental bikes is 5180,', 'total rental bikes is 3641,', 'total rental bikes is 985,', 'total rental bikes is 7105,', 'total rental bikes is 981,', 'total rental bikes is 7693,', 'total rental bikes is 5686,', 'total rental bikes is 1685,', 'total rental bikes is 1011,', 'total rental bikes is 3310,', 'total rental bikes is 6169,', 'total rental bikes is 5119,', 'total rental bikes is 3117,', 'total rental bikes is 4339,', 'total rental bikes is 7592,', 'total rental bikes is 1204,', 'total rental bikes is 1536,', 'total rental bikes is 1096,', 'total rental bikes is 7001,', 'total rental bikes is 6883,', 'total rental bikes is 3785,']\n"
     ]
    },
    {
     "name": "stderr",
     "output_type": "stream",
     "text": [
      " 81%|████████  | 806/1000 [05:51<01:25,  2.27it/s]"
     ]
    },
    {
     "name": "stdout",
     "output_type": "stream",
     "text": [
      "['total rental bikes is 1360,', 'total rental bikes is 4075,', 'total rental bikes is 7691,', 'total rental bikes is 7333,', 'total rental bikes is 7359,', 'total rental bikes is 4713,', 'total rental bikes is 5786,', 'total rental bikes is 1606,', 'total rental bikes is 3115,', 'total rental bikes is 6227,', 'total rental bikes is 4484,', 'total rental bikes is 1746,', 'total rental bikes is 1650,', 'total rental bikes is 8227,', 'total rental bikes is 1917,', 'total rental bikes is 5464,', 'total rental bikes is 4656,', 'total rental bikes is 3214,', 'total rental bikes is 6998,', 'total rental bikes is 5566,', 'total rental bikes is 5499,', 'total rental bikes is 2134,', 'total rental bikes is 2376,', 'total rental bikes is 7804,', 'total rental bikes is 5786,', 'total rental bikes is 6530,', 'total rental bikes is 4725,', 'total rental bikes is 4010,', 'total rental bikes is 4120,', 'total rental bikes is 7691,', 'total rental bikes is 7446,', 'total rental bikes is 7639,', 'total rental bikes is 5478,', 'total rental bikes is 1985,', 'total rental bikes is 7525,', 'total rental bikes is 3351,', 'total rental bikes is 7436,', 'total rental bikes is 7852,', 'total rental bikes is 4086,', 'total rental bikes is 2169,', 'total rental bikes is 2765,', 'total rental bikes is 2475,', 'total rental bikes is 3429,', 'total rental bikes is 4634,', 'total rental bikes is 2765,', 'total rental bikes is 3117,', 'total rental bikes is 4460,', 'total rental bikes is 7410,', 'total rental bikes is 4109,', 'total rental bikes is 3926,']\n"
     ]
    },
    {
     "name": "stderr",
     "output_type": "stream",
     "text": [
      " 81%|████████▏ | 813/1000 [05:53<01:03,  2.95it/s]"
     ]
    },
    {
     "name": "stdout",
     "output_type": "stream",
     "text": [
      "['total rental bikes is 1530,', 'total rental bikes is 4109,', 'total rental bikes is 6203,', 'total rental bikes is 7013,', 'total rental bikes is 4509,', 'total rental bikes is 1013,', 'total rental bikes is 3544,', 'total rental bikes is 4066,', 'total rental bikes is 4991,', 'total rental bikes is 2743,', 'total rental bikes is 4186,', 'total rental bikes is 5810,', 'total rental bikes is 7410,', 'total rental bikes is 1536,', 'total rental bikes is 5634,', 'total rental bikes is 7286,', 'total rental bikes is 7733,', 'total rental bikes is 4097,', 'total rental bikes is 7572,', 'total rental bikes is 6392,', 'total rental bikes is 4046,', 'total rental bikes is 4318,', 'total rental bikes is 7736,', 'total rental bikes is 6536,', 'total rental bikes is 5786,', 'total rental bikes is 5010,', 'total rental bikes is 2802,', 'total rental bikes is 5557,', 'total rental bikes is 2832,', 'total rental bikes is 1951,', 'total rental bikes is 3873,', 'total rental bikes is 4521,', 'total rental bikes is 3348,', 'total rental bikes is 2455,', 'total rental bikes is 4153,', 'total rental bikes is 4694,', 'total rental bikes is 6639,', 'total rental bikes is 4694,', 'total rental bikes is 3982,', 'total rental bikes is 4758,', 'total rental bikes is 7109,', 'total rental bikes is 2034,', 'total rental bikes is 1538,', 'total rental bikes is 4758,', 'total rental bikes is 2417,', 'total rental bikes is 4154,', 'total rental bikes is 5976,', 'total rental bikes is 441,', 'total rental bikes is 3606,', 'total rental bikes is 5463,']\n"
     ]
    },
    {
     "name": "stderr",
     "output_type": "stream",
     "text": [
      " 82%|████████▏ | 819/1000 [05:54<00:55,  3.25it/s]"
     ]
    },
    {
     "name": "stdout",
     "output_type": "stream",
     "text": [
      "['total rental bikes is 3747,', 'total rental bikes is 5260,', 'total rental bikes is 6598,', 'total rental bikes is 3392,', 'total rental bikes is 3840,', 'total rental bikes is 4570,', 'total rental bikes is 5225,', 'total rental bikes is 4714,', 'total rental bikes is 6460,', 'total rental bikes is 4326,', 'total rental bikes is 3392,', 'total rental bikes is 2133,', 'total rental bikes is 5499,', 'total rental bikes is 2134,', 'total rental bikes is 4127,', 'total rental bikes is 5260,', 'total rental bikes is 7350,', 'total rental bikes is 1501,', 'total rental bikes is 4792,', 'total rental bikes is 3709,', 'total rental bikes is 5501,', 'total rental bikes is 5225,', 'total rental bikes is 4803,', 'total rental bikes is 1096,', 'total rental bikes is 4035,', 'total rental bikes is 6770,', 'total rental bikes is 4708,', 'total rental bikes is 4270,', 'total rental bikes is 2416,', 'total rental bikes is 2236,', 'total rental bikes is 5041,', 'total rental bikes is 5870,', 'total rental bikes is 441,', 'total rental bikes is 5629,', 'total rental bikes is 3194,', 'total rental bikes is 5532,', 'total rental bikes is 4189,', 'total rental bikes is 6852,', 'total rental bikes is 5041,', 'total rental bikes is 3872,', 'total rental bikes is 2056,', 'total rental bikes is 3117,', 'total rental bikes is 5923,', 'total rental bikes is 5501,', 'total rental bikes is 5117,', 'total rental bikes is 7804,', 'total rental bikes is 3644,', 'total rental bikes is 7444,', 'total rental bikes is 6772,', 'total rental bikes is 4046,']\n"
     ]
    },
    {
     "name": "stderr",
     "output_type": "stream",
     "text": [
      " 82%|████████▎ | 825/1000 [05:56<00:51,  3.42it/s]"
     ]
    },
    {
     "name": "stdout",
     "output_type": "stream",
     "text": [
      "['total rental bikes is 5633,', 'total rental bikes is 683,', 'total rental bikes is 4363,', 'total rental bikes is 7109,', 'total rental bikes is 8009,', 'total rental bikes is 3915,', 'total rental bikes is 3727,', 'total rental bikes is 6133,', 'total rental bikes is 1096,', 'total rental bikes is 2493,', 'total rental bikes is 7965,', 'total rental bikes is 4758,', 'total rental bikes is 2417,', 'total rental bikes is 4548,', 'total rental bikes is 3243,', 'total rental bikes is 3071,', 'total rental bikes is 4120,', 'total rental bikes is 7693,', 'total rental bikes is 4905,', 'total rental bikes is 5582,', 'total rental bikes is 5532,', 'total rental bikes is 5687,', 'total rental bikes is 3727,', 'total rental bikes is 5870,', 'total rental bikes is 1263,', 'total rental bikes is 2423,', 'total rental bikes is 5478,', 'total rental bikes is 5668,', 'total rental bikes is 5445,', 'total rental bikes is 7282,', 'total rental bikes is 5992,', 'total rental bikes is 4521,', 'total rental bikes is 5041,', 'total rental bikes is 1985,', 'total rental bikes is 5035,', 'total rental bikes is 1606,', 'total rental bikes is 7804,', 'total rental bikes is 5119,', 'total rental bikes is 5566,', 'total rental bikes is 4687,', 'total rental bikes is 4714,', 'total rental bikes is 8167,', 'total rental bikes is 3351,', 'total rental bikes is 3510,', 'total rental bikes is 3126,', 'total rental bikes is 2028,', 'total rental bikes is 2034,', 'total rental bikes is 6398,', 'total rental bikes is 3348,', 'total rental bikes is 4094,']\n"
     ]
    },
    {
     "name": "stderr",
     "output_type": "stream",
     "text": [
      " 83%|████████▎ | 827/1000 [05:57<01:02,  2.75it/s]"
     ]
    },
    {
     "name": "stdout",
     "output_type": "stream",
     "text": [
      "['total rental bikes is 3974,', 'total rental bikes is 2227,', 'total rental bikes is 3956,', 'total rental bikes is 6857,', 'total rental bikes is 1027,', 'total rental bikes is 4195,', 'total rental bikes is 2277,', 'total rental bikes is 4182,', 'total rental bikes is 3372,', 'total rental bikes is 801,', 'total rental bikes is 2496,', 'total rental bikes is 3429,', 'total rental bikes is 7804,', 'total rental bikes is 4905,', 'total rental bikes is 3053,', 'total rental bikes is 5169,', 'total rental bikes is 4905,', 'total rental bikes is 3368,', 'total rental bikes is 5459,', 'total rental bikes is 6140,', 'total rental bikes is 5115,', 'total rental bikes is 4826,', 'total rental bikes is 1526,', 'total rental bikes is 2765,', 'total rental bikes is 6235,', 'total rental bikes is 3570,', 'total rental bikes is 1011,', 'total rental bikes is 7442,', 'total rental bikes is 1605,', 'total rental bikes is 3606,', 'total rental bikes is 4911,', 'total rental bikes is 3510,', 'total rental bikes is 3744,', 'total rental bikes is 5823,', 'total rental bikes is 4595,', 'total rental bikes is 4639,', 'total rental bikes is 1635,', 'total rental bikes is 2133,', 'total rental bikes is 1550,', 'total rental bikes is 1167,', 'total rental bikes is 4326,', 'total rental bikes is 6685,', 'total rental bikes is 4839,', 'total rental bikes is 431,', 'total rental bikes is 5041,', 'total rental bikes is 2311,', 'total rental bikes is 4120,', 'total rental bikes is 441,', 'total rental bikes is 2368,', 'total rental bikes is 1550,']\n"
     ]
    },
    {
     "name": "stderr",
     "output_type": "stream",
     "text": [
      " 83%|████████▎ | 833/1000 [05:59<00:54,  3.07it/s]"
     ]
    },
    {
     "name": "stdout",
     "output_type": "stream",
     "text": [
      "['total rental bikes is 2633,', 'total rental bikes is 3117,', 'total rental bikes is 3644,', 'total rental bikes is 5202,', 'total rental bikes is 4390,', 'total rental bikes is 1421,', 'total rental bikes is 7105,', 'total rental bikes is 3115,', 'total rental bikes is 6536,', 'total rental bikes is 2765,', 'total rental bikes is 7006,', 'total rental bikes is 5102,', 'total rental bikes is 4634,', 'total rental bikes is 3190,', 'total rental bikes is 5892,', 'total rental bikes is 8714,', 'total rental bikes is 3194,', 'total rental bikes is 1746,', 'total rental bikes is 4585,', 'total rental bikes is 2431,', 'total rental bikes is 3606,', 'total rental bikes is 7965,', 'total rental bikes is 5445,', 'total rental bikes is 4790,', 'total rental bikes is 6734,', 'total rental bikes is 1712,', 'total rental bikes is 1872,', 'total rental bikes is 683,', 'total rental bikes is 3820,', 'total rental bikes is 3820,', 'total rental bikes is 4639,', 'total rental bikes is 3907,', 'total rental bikes is 4075,', 'total rental bikes is 6299,', 'total rental bikes is 7591,', 'total rental bikes is 2739,', 'total rental bikes is 5138,', 'total rental bikes is 1406,', 'total rental bikes is 4390,', 'total rental bikes is 5445,', 'total rental bikes is 7639,', 'total rental bikes is 4758,', 'total rental bikes is 7605,', 'total rental bikes is 5336,', 'total rental bikes is 4390,', 'total rental bikes is 7865,', 'total rental bikes is 3285,', 'total rental bikes is 2252,', 'total rental bikes is 5315,', 'total rental bikes is 7499,']\n"
     ]
    },
    {
     "name": "stderr",
     "output_type": "stream",
     "text": [
      " 84%|████████▎ | 836/1000 [06:00<00:59,  2.76it/s]"
     ]
    },
    {
     "name": "stdout",
     "output_type": "stream",
     "text": [
      "['total rental bikes is 2947,', 'total rental bikes is 6460,', 'total rental bikes is 1812,', 'total rental bikes is 7415,', 'total rental bikes is 1406,', 'total rental bikes is 1510,', 'total rental bikes is 2594,', 'total rental bikes is 1951,', 'total rental bikes is 6639,', 'total rental bikes is 7335,', 'total rental bikes is 920,', 'total rental bikes is 2895,', 'total rental bikes is 3214,', 'total rental bikes is 4844,', 'total rental bikes is 2475,', 'total rental bikes is 6227,', 'total rental bikes is 6660,', 'total rental bikes is 7570,', 'total rental bikes is 4672,', 'total rental bikes is 4990,', 'total rental bikes is 5515,', 'total rental bikes is 2114,', 'total rental bikes is 5895,', 'total rental bikes is 5119,', 'total rental bikes is 6153,', 'total rental bikes is 5312,', 'total rental bikes is 1096,', 'total rental bikes is 7538,', 'total rental bikes is 5312,', 'total rental bikes is 7852,', 'total rental bikes is 1107,', 'total rental bikes is 7665,', 'total rental bikes is 3623,', 'total rental bikes is 5191,', 'total rental bikes is 2028,', 'total rental bikes is 3129,', 'total rental bikes is 5323,', 'total rental bikes is 2689,', 'total rental bikes is 3351,', 'total rental bikes is 3786,', 'total rental bikes is 6192,', 'total rental bikes is 2485,', 'total rental bikes is 1944,', 'total rental bikes is 7216,', 'total rental bikes is 4826,', 'total rental bikes is 7534,', 'total rental bikes is 1096,', 'total rental bikes is 6824,', 'total rental bikes is 5686,', 'total rental bikes is 5633,']\n"
     ]
    },
    {
     "name": "stderr",
     "output_type": "stream",
     "text": [
      " 84%|████████▍ | 841/1000 [06:02<00:54,  2.94it/s]"
     ]
    },
    {
     "name": "stdout",
     "output_type": "stream",
     "text": [
      "['total rental bikes is 3740,', 'total rental bikes is 6770,', 'total rental bikes is 2417,', 'total rental bikes is 6685,', 'total rental bikes is 6370,', 'total rental bikes is 7804,', 'total rental bikes is 3649,', 'total rental bikes is 7129,', 'total rental bikes is 4334,', 'total rental bikes is 4677,', 'total rental bikes is 4460,', 'total rental bikes is 3542,', 'total rental bikes is 2914,', 'total rental bikes is 1538,', 'total rental bikes is 1501,', 'total rental bikes is 1317,', 'total rental bikes is 7592,', 'total rental bikes is 7109,', 'total rental bikes is 5087,', 'total rental bikes is 3392,', 'total rental bikes is 7494,', 'total rental bikes is 7436,', 'total rental bikes is 7350,', 'total rental bikes is 1708,', 'total rental bikes is 623,', 'total rental bikes is 1977,', 'total rental bikes is 5107,', 'total rental bikes is 8362,', 'total rental bikes is 2423,', 'total rental bikes is 1360,', 'total rental bikes is 4308,', 'total rental bikes is 1204,', 'total rental bikes is 7580,', 'total rental bikes is 7580,', 'total rental bikes is 4182,', 'total rental bikes is 1162,', 'total rental bikes is 6883,', 'total rental bikes is 4660,', 'total rental bikes is 6460,', 'total rental bikes is 6093,', 'total rental bikes is 3204,', 'total rental bikes is 3368,', 'total rental bikes is 6269,', 'total rental bikes is 3956,', 'total rental bikes is 5202,', 'total rental bikes is 4073,', 'total rental bikes is 8227,', 'total rental bikes is 4266,', 'total rental bikes is 1951,', 'total rental bikes is 4608,']\n"
     ]
    },
    {
     "name": "stderr",
     "output_type": "stream",
     "text": [
      " 84%|████████▍ | 844/1000 [06:03<00:58,  2.66it/s]"
     ]
    },
    {
     "name": "stdout",
     "output_type": "stream",
     "text": [
      "['total rental bikes is 4400,', 'total rental bikes is 4169,', 'total rental bikes is 5115,', 'total rental bikes is 4046,', 'total rental bikes is 4795,', 'total rental bikes is 6639,', 'total rental bikes is 6664,', 'total rental bikes is 4067,', 'total rental bikes is 1471,', 'total rental bikes is 4665,', 'total rental bikes is 7665,', 'total rental bikes is 7006,', 'total rental bikes is 7384,', 'total rental bikes is 6530,', 'total rental bikes is 6966,', 'total rental bikes is 6421,', 'total rental bikes is 7040,', 'total rental bikes is 3805,', 'total rental bikes is 3487,', 'total rental bikes is 2933,', 'total rental bikes is 4608,', 'total rental bikes is 1600,', 'total rental bikes is 2808,', 'total rental bikes is 4363,', 'total rental bikes is 1013,', 'total rental bikes is 2424,', 'total rental bikes is 5119,', 'total rental bikes is 6031,', 'total rental bikes is 4966,', 'total rental bikes is 7132,', 'total rental bikes is 1807,', 'total rental bikes is 3485,', 'total rental bikes is 5259,', 'total rental bikes is 6879,', 'total rental bikes is 6203,', 'total rental bikes is 1977,', 'total rental bikes is 5918,', 'total rental bikes is 7132,', 'total rental bikes is 4401,', 'total rental bikes is 4195,', 'total rental bikes is 6530,', 'total rental bikes is 6421,', 'total rental bikes is 4094,', 'total rental bikes is 4359,', 'total rental bikes is 2192,', 'total rental bikes is 3141,', 'total rental bikes is 5713,', 'total rental bikes is 4058,', 'total rental bikes is 6864,', 'total rental bikes is 7494,']\n"
     ]
    },
    {
     "name": "stderr",
     "output_type": "stream",
     "text": [
      " 85%|████████▍ | 848/1000 [06:05<00:57,  2.63it/s]"
     ]
    },
    {
     "name": "stdout",
     "output_type": "stream",
     "text": [
      "['total rental bikes is 4773,', 'total rental bikes is 6871,', 'total rental bikes is 7030,', 'total rental bikes is 2743,', 'total rental bikes is 6830,', 'total rental bikes is 7538,', 'total rental bikes is 4058,', 'total rental bikes is 4451,', 'total rental bikes is 7907,', 'total rental bikes is 7444,', 'total rental bikes is 4727,', 'total rental bikes is 6304,', 'total rental bikes is 3487,', 'total rental bikes is 5305,', 'total rental bikes is 5115,', 'total rental bikes is 4274,', 'total rental bikes is 5478,', 'total rental bikes is 7702,', 'total rental bikes is 6784,', 'total rental bikes is 6118,', 'total rental bikes is 4911,', 'total rental bikes is 4905,', 'total rental bikes is 1589,', 'total rental bikes is 4679,', 'total rental bikes is 5041,', 'total rental bikes is 822,', 'total rental bikes is 6227,', 'total rental bikes is 7112,', 'total rental bikes is 3910,', 'total rental bikes is 7363,', 'total rental bikes is 5375,', 'total rental bikes is 6544,', 'total rental bikes is 2192,', 'total rental bikes is 2475,', 'total rental bikes is 7333,', 'total rental bikes is 986,', 'total rental bikes is 4308,', 'total rental bikes is 5810,', 'total rental bikes is 7870,', 'total rental bikes is 4985,', 'total rental bikes is 6227,', 'total rental bikes is 6273,', 'total rental bikes is 1162,', 'total rental bikes is 5459,', 'total rental bikes is 3761,', 'total rental bikes is 683,', 'total rental bikes is 6779,', 'total rental bikes is 5119,', 'total rental bikes is 6591,', 'total rental bikes is 6053,']\n"
     ]
    },
    {
     "name": "stderr",
     "output_type": "stream",
     "text": [
      " 85%|████████▌ | 850/1000 [06:06<01:06,  2.25it/s]"
     ]
    },
    {
     "name": "stdout",
     "output_type": "stream",
     "text": [
      "['total rental bikes is 1917,', 'total rental bikes is 7436,', 'total rental bikes is 2792,', 'total rental bikes is 3487,', 'total rental bikes is 3194,', 'total rental bikes is 1746,', 'total rental bikes is 4035,', 'total rental bikes is 1683,', 'total rental bikes is 4338,', 'total rental bikes is 7132,', 'total rental bikes is 6073,', 'total rental bikes is 3624,', 'total rental bikes is 5423,', 'total rental bikes is 5204,', 'total rental bikes is 7393,', 'total rental bikes is 7713,', 'total rental bikes is 5119,', 'total rental bikes is 4694,', 'total rental bikes is 4266,', 'total rental bikes is 4790,', 'total rental bikes is 5585,', 'total rental bikes is 6861,', 'total rental bikes is 8714,', 'total rental bikes is 5170,', 'total rental bikes is 4401,', 'total rental bikes is 4333,', 'total rental bikes is 5115,', 'total rental bikes is 2209,', 'total rental bikes is 3068,', 'total rental bikes is 3846,', 'total rental bikes is 8120,', 'total rental bikes is 7347,', 'total rental bikes is 2999,', 'total rental bikes is 4189,', 'total rental bikes is 4098,', 'total rental bikes is 4541,', 'total rental bikes is 5515,', 'total rental bikes is 3368,', 'total rental bikes is 7129,', 'total rental bikes is 3403,', 'total rental bikes is 4991,', 'total rental bikes is 1530,', 'total rental bikes is 3907,', 'total rental bikes is 6784,', 'total rental bikes is 6370,', 'total rental bikes is 6296,', 'total rental bikes is 4492,', 'total rental bikes is 7509,', 'total rental bikes is 4727,', 'total rental bikes is 3322,']\n"
     ]
    },
    {
     "name": "stderr",
     "output_type": "stream",
     "text": [
      " 85%|████████▌ | 851/1000 [06:08<01:24,  1.76it/s]"
     ]
    },
    {
     "name": "stdout",
     "output_type": "stream",
     "text": [
      "['total rental bikes is 5191,', 'total rental bikes is 4570,', 'total rental bikes is 2192,', 'total rental bikes is 3663,', 'total rental bikes is 7286,', 'total rental bikes is 5409,', 'total rental bikes is 3644,', 'total rental bikes is 6196,', 'total rental bikes is 4660,', 'total rental bikes is 2121,', 'total rental bikes is 7105,', 'total rental bikes is 1162,', 'total rental bikes is 4484,', 'total rental bikes is 3872,', 'total rental bikes is 4333,', 'total rental bikes is 7639,', 'total rental bikes is 1927,', 'total rental bikes is 2802,', 'total rental bikes is 1096,', 'total rental bikes is 1927,', 'total rental bikes is 6624,', 'total rental bikes is 2689,', 'total rental bikes is 1536,', 'total rental bikes is 4040,', 'total rental bikes is 4649,', 'total rental bikes is 3867,', 'total rental bikes is 2429,', 'total rental bikes is 2177,', 'total rental bikes is 6864,', 'total rental bikes is 6196,', 'total rental bikes is 2732,', 'total rental bikes is 5686,', 'total rental bikes is 4086,', 'total rental bikes is 1606,', 'total rental bikes is 7013,', 'total rental bikes is 5976,', 'total rental bikes is 4075,', 'total rental bikes is 5119,', 'total rental bikes is 3523,', 'total rental bikes is 4660,', 'total rental bikes is 6998,', 'total rental bikes is 4576,', 'total rental bikes is 5805,', 'total rental bikes is 7421,', 'total rental bikes is 5698,', 'total rental bikes is 1115,', 'total rental bikes is 2471,', 'total rental bikes is 2493,', 'total rental bikes is 3784,', 'total rental bikes is 3831,']\n"
     ]
    },
    {
     "name": "stderr",
     "output_type": "stream",
     "text": [
      " 86%|████████▌ | 857/1000 [06:10<00:59,  2.40it/s]"
     ]
    },
    {
     "name": "stdout",
     "output_type": "stream",
     "text": [
      "['total rental bikes is 6883,', 'total rental bikes is 5180,', 'total rental bikes is 4066,', 'total rental bikes is 5847,', 'total rental bikes is 1321,', 'total rental bikes is 4758,', 'total rental bikes is 5511,', 'total rental bikes is 1406,', 'total rental bikes is 3855,', 'total rental bikes is 5499,', 'total rental bikes is 3194,', 'total rental bikes is 7693,', 'total rental bikes is 2913,', 'total rental bikes is 4433,', 'total rental bikes is 6966,', 'total rental bikes is 3831,', 'total rental bikes is 3389,', 'total rental bikes is 4098,', 'total rental bikes is 8167,', 'total rental bikes is 5138,', 'total rental bikes is 822,', 'total rental bikes is 6572,', 'total rental bikes is 985,', 'total rental bikes is 5180,', 'total rental bikes is 2765,', 'total rental bikes is 4352,', 'total rental bikes is 6779,', 'total rental bikes is 6460,', 'total rental bikes is 2455,', 'total rental bikes is 1543,', 'total rental bikes is 7498,', 'total rental bikes is 4586,', 'total rental bikes is 4758,', 'total rental bikes is 7393,', 'total rental bikes is 5010,', 'total rental bikes is 4602,', 'total rental bikes is 1263,', 'total rental bikes is 4656,', 'total rental bikes is 1248,', 'total rental bikes is 6779,', 'total rental bikes is 6904,', 'total rental bikes is 5041,', 'total rental bikes is 4094,', 'total rental bikes is 4318,', 'total rental bikes is 3372,', 'total rental bikes is 3409,', 'total rental bikes is 1623,', 'total rental bikes is 4763,', 'total rental bikes is 4401,', 'total rental bikes is 1416,']\n"
     ]
    },
    {
     "name": "stderr",
     "output_type": "stream",
     "text": [
      " 86%|████████▌ | 859/1000 [06:11<01:08,  2.07it/s]"
     ]
    },
    {
     "name": "stdout",
     "output_type": "stream",
     "text": [
      "['total rental bikes is 7058,', 'total rental bikes is 6053,', 'total rental bikes is 5170,', 'total rental bikes is 4068,', 'total rental bikes is 3331,', 'total rental bikes is 5375,', 'total rental bikes is 985,', 'total rental bikes is 5315,', 'total rental bikes is 4586,', 'total rental bikes is 4972,', 'total rental bikes is 5298,', 'total rental bikes is 5035,', 'total rental bikes is 6969,', 'total rental bikes is 7415,', 'total rental bikes is 1913,', 'total rental bikes is 4195,', 'total rental bikes is 6359,', 'total rental bikes is 1605,', 'total rental bikes is 1204,', 'total rental bikes is 4968,', 'total rental bikes is 5169,', 'total rental bikes is 1495,', 'total rental bikes is 3409,', 'total rental bikes is 1650,', 'total rental bikes is 2311,', 'total rental bikes is 2209,', 'total rental bikes is 2423,', 'total rental bikes is 7286,', 'total rental bikes is 7870,', 'total rental bikes is 5202,', 'total rental bikes is 3922,', 'total rental bikes is 6169,', 'total rental bikes is 7216,', 'total rental bikes is 4917,', 'total rental bikes is 4098,', 'total rental bikes is 1795,', 'total rental bikes is 985,', 'total rental bikes is 4187,', 'total rental bikes is 4576,', 'total rental bikes is 4862,', 'total rental bikes is 4118,', 'total rental bikes is 7333,', 'total rental bikes is 1263,', 'total rental bikes is 1526,', 'total rental bikes is 4352,', 'total rental bikes is 7112,', 'total rental bikes is 4765,', 'total rental bikes is 5687,', 'total rental bikes is 4906,', 'total rental bikes is 3982,']\n"
     ]
    },
    {
     "name": "stderr",
     "output_type": "stream",
     "text": [
      " 86%|████████▋ | 863/1000 [06:13<01:01,  2.23it/s]"
     ]
    },
    {
     "name": "stdout",
     "output_type": "stream",
     "text": [
      "['total rental bikes is 4795,', 'total rental bikes is 2485,', 'total rental bikes is 5875,', 'total rental bikes is 4098,', 'total rental bikes is 5847,', 'total rental bikes is 5566,', 'total rental bikes is 1969,', 'total rental bikes is 1321,', 'total rental bikes is 7290,', 'total rental bikes is 5312,', 'total rental bikes is 986,', 'total rental bikes is 4367,', 'total rental bikes is 6685,', 'total rental bikes is 8227,', 'total rental bikes is 4187,', 'total rental bikes is 4511,', 'total rental bikes is 6304,', 'total rental bikes is 981,', 'total rental bikes is 3285,', 'total rental bikes is 1360,', 'total rental bikes is 5119,', 'total rental bikes is 2114,', 'total rental bikes is 3141,', 'total rental bikes is 1248,', 'total rental bikes is 6864,', 'total rental bikes is 6624,', 'total rental bikes is 6241,', 'total rental bikes is 5008,', 'total rental bikes is 5375,', 'total rental bikes is 5740,', 'total rental bikes is 1969,', 'total rental bikes is 4274,', 'total rental bikes is 2177,', 'total rental bikes is 3777,', 'total rental bikes is 3777,', 'total rental bikes is 4744,', 'total rental bikes is 3487,', 'total rental bikes is 4985,', 'total rental bikes is 7264,', 'total rental bikes is 4916,', 'total rental bikes is 4456,', 'total rental bikes is 3487,', 'total rental bikes is 3974,', 'total rental bikes is 6864,', 'total rental bikes is 4649,', 'total rental bikes is 1471,', 'total rental bikes is 3840,', 'total rental bikes is 1969,', 'total rental bikes is 4058,', 'total rental bikes is 5382,']\n"
     ]
    },
    {
     "name": "stderr",
     "output_type": "stream",
     "text": [
      " 87%|████████▋ | 868/1000 [06:14<00:52,  2.53it/s]"
     ]
    },
    {
     "name": "stdout",
     "output_type": "stream",
     "text": [
      "['total rental bikes is 5010,', 'total rental bikes is 6196,', 'total rental bikes is 5511,', 'total rental bikes is 4509,', 'total rental bikes is 2808,', 'total rental bikes is 5336,', 'total rental bikes is 5905,', 'total rental bikes is 3348,', 'total rental bikes is 623,', 'total rental bikes is 4549,', 'total rental bikes is 2210,', 'total rental bikes is 2792,', 'total rental bikes is 3117,', 'total rental bikes is 2133,', 'total rental bikes is 2832,', 'total rental bikes is 1834,', 'total rental bikes is 7498,', 'total rental bikes is 4906,', 'total rental bikes is 1495,', 'total rental bikes is 959,', 'total rental bikes is 2227,', 'total rental bikes is 5532,', 'total rental bikes is 7641,', 'total rental bikes is 7691,', 'total rental bikes is 5102,', 'total rental bikes is 1787,', 'total rental bikes is 441,', 'total rental bikes is 2431,', 'total rental bikes is 441,', 'total rental bikes is 4579,', 'total rental bikes is 5976,', 'total rental bikes is 3717,', 'total rental bikes is 2252,', 'total rental bikes is 3053,', 'total rental bikes is 7112,', 'total rental bikes is 5169,', 'total rental bikes is 4991,', 'total rental bikes is 3392,', 'total rental bikes is 7442,', 'total rental bikes is 3620,', 'total rental bikes is 4075,', 'total rental bikes is 1815,', 'total rental bikes is 2918,', 'total rental bikes is 7403,', 'total rental bikes is 3820,', 'total rental bikes is 3777,', 'total rental bikes is 3333,', 'total rental bikes is 6233,', 'total rental bikes is 4036,', 'total rental bikes is 7175,']\n"
     ]
    },
    {
     "name": "stderr",
     "output_type": "stream",
     "text": [
      " 87%|████████▋ | 871/1000 [06:16<00:54,  2.37it/s]"
     ]
    },
    {
     "name": "stdout",
     "output_type": "stream",
     "text": [
      "['total rental bikes is 754,', 'total rental bikes is 3982,', 'total rental bikes is 4570,', 'total rental bikes is 4094,', 'total rental bikes is 3333,', 'total rental bikes is 4844,', 'total rental bikes is 4484,', 'total rental bikes is 6118,', 'total rental bikes is 1607,', 'total rental bikes is 6203,', 'total rental bikes is 1263,', 'total rental bikes is 2121,', 'total rental bikes is 3005,', 'total rental bikes is 5312,', 'total rental bikes is 3005,', 'total rental bikes is 6043,', 'total rental bikes is 4725,', 'total rental bikes is 6359,', 'total rental bikes is 2432,', 'total rental bikes is 6597,', 'total rental bikes is 2192,', 'total rental bikes is 4339,', 'total rental bikes is 1013,', 'total rental bikes is 3126,', 'total rental bikes is 4067,', 'total rental bikes is 2999,', 'total rental bikes is 1538,', 'total rental bikes is 6169,', 'total rental bikes is 5302,', 'total rental bikes is 4765,', 'total rental bikes is 6421,', 'total rental bikes is 6830,', 'total rental bikes is 3598,', 'total rental bikes is 3267,', 'total rental bikes is 7350,', 'total rental bikes is 3243,', 'total rental bikes is 4639,', 'total rental bikes is 5847,', 'total rental bikes is 4649,', 'total rental bikes is 3368,', 'total rental bikes is 2209,', 'total rental bikes is 6891,', 'total rental bikes is 7335,', 'total rental bikes is 5976,', 'total rental bikes is 3095,', 'total rental bikes is 4075,', 'total rental bikes is 6664,', 'total rental bikes is 3005,', 'total rental bikes is 5058,', 'total rental bikes is 1977,']\n"
     ]
    },
    {
     "name": "stderr",
     "output_type": "stream",
     "text": [
      " 88%|████████▊ | 875/1000 [06:17<00:51,  2.44it/s]"
     ]
    },
    {
     "name": "stdout",
     "output_type": "stream",
     "text": [
      "['total rental bikes is 3926,', 'total rental bikes is 1746,', 'total rental bikes is 2028,', 'total rental bikes is 2424,', 'total rental bikes is 3163,', 'total rental bikes is 4576,', 'total rental bikes is 2744,', 'total rental bikes is 4862,', 'total rental bikes is 6370,', 'total rental bikes is 5204,', 'total rental bikes is 6398,', 'total rental bikes is 3542,', 'total rental bikes is 4401,', 'total rental bikes is 5582,', 'total rental bikes is 6824,', 'total rental bikes is 3623,', 'total rental bikes is 4563,', 'total rental bikes is 4592,', 'total rental bikes is 5743,', 'total rental bikes is 4725,', 'total rental bikes is 5323,', 'total rental bikes is 6536,', 'total rental bikes is 4511,', 'total rental bikes is 2395,', 'total rental bikes is 1891,', 'total rental bikes is 7132,', 'total rental bikes is 4661,', 'total rental bikes is 6591,', 'total rental bikes is 6196,', 'total rental bikes is 2914,', 'total rental bikes is 5319,', 'total rental bikes is 3117,', 'total rental bikes is 3922,', 'total rental bikes is 5225,', 'total rental bikes is 1685,', 'total rental bikes is 5531,', 'total rental bikes is 6978,', 'total rental bikes is 4153,', 'total rental bikes is 3510,', 'total rental bikes is 1530,', 'total rental bikes is 8090,', 'total rental bikes is 5020,', 'total rental bikes is 2485,', 'total rental bikes is 2703,', 'total rental bikes is 2277,', 'total rental bikes is 3805,', 'total rental bikes is 2227,', 'total rental bikes is 5538,', 'total rental bikes is 3243,', 'total rental bikes is 3831,']\n"
     ]
    },
    {
     "name": "stderr",
     "output_type": "stream",
     "text": [
      " 88%|████████▊ | 879/1000 [06:19<00:48,  2.51it/s]"
     ]
    },
    {
     "name": "stdout",
     "output_type": "stream",
     "text": [
      "['total rental bikes is 4040,', 'total rental bikes is 5362,', 'total rental bikes is 4792,', 'total rental bikes is 3830,', 'total rental bikes is 6624,', 'total rental bikes is 4539,', 'total rental bikes is 5992,', 'total rental bikes is 4154,', 'total rental bikes is 8714,', 'total rental bikes is 6296,', 'total rental bikes is 5923,', 'total rental bikes is 2914,', 'total rental bikes is 5823,', 'total rental bikes is 5302,', 'total rental bikes is 4792,', 'total rental bikes is 4067,', 'total rental bikes is 4169,', 'total rental bikes is 4375,', 'total rental bikes is 4067,', 'total rental bikes is 3872,', 'total rental bikes is 5342,', 'total rental bikes is 6591,', 'total rental bikes is 4390,', 'total rental bikes is 4758,', 'total rental bikes is 4773,', 'total rental bikes is 4486,', 'total rental bikes is 3351,', 'total rental bikes is 2114,', 'total rental bikes is 3376,', 'total rental bikes is 5729,', 'total rental bikes is 3126,', 'total rental bikes is 4826,', 'total rental bikes is 1471,', 'total rental bikes is 4359,', 'total rental bikes is 5225,', 'total rental bikes is 6436,', 'total rental bikes is 4906,', 'total rental bikes is 1746,', 'total rental bikes is 986,', 'total rental bikes is 2633,', 'total rental bikes is 6869,', 'total rental bikes is 4186,', 'total rental bikes is 1341,', 'total rental bikes is 5847,', 'total rental bikes is 4511,', 'total rental bikes is 6691,', 'total rental bikes is 1746,', 'total rental bikes is 2743,', 'total rental bikes is 6857,', 'total rental bikes is 8120,']\n"
     ]
    },
    {
     "name": "stderr",
     "output_type": "stream",
     "text": [
      " 89%|████████▊ | 887/1000 [06:20<00:34,  3.25it/s]"
     ]
    },
    {
     "name": "stdout",
     "output_type": "stream",
     "text": [
      "['total rental bikes is 5495,', 'total rental bikes is 4972,', 'total rental bikes is 2471,', 'total rental bikes is 920,', 'total rental bikes is 6304,', 'total rental bikes is 4367,', 'total rental bikes is 3005,', 'total rental bikes is 5047,', 'total rental bikes is 6269,', 'total rental bikes is 1263,', 'total rental bikes is 6370,', 'total rental bikes is 2132,', 'total rental bikes is 3907,', 'total rental bikes is 7338,', 'total rental bikes is 5870,', 'total rental bikes is 7333,', 'total rental bikes is 1891,', 'total rental bikes is 5115,', 'total rental bikes is 5459,', 'total rental bikes is 7458,', 'total rental bikes is 4401,', 'total rental bikes is 7105,', 'total rental bikes is 5445,', 'total rental bikes is 4182,', 'total rental bikes is 6784,', 'total rental bikes is 4073,', 'total rental bikes is 7444,', 'total rental bikes is 6883,', 'total rental bikes is 2732,', 'total rental bikes is 7403,', 'total rental bikes is 7132,', 'total rental bikes is 7148,', 'total rental bikes is 3117,', 'total rental bikes is 2802,', 'total rental bikes is 1406,', 'total rental bikes is 2475,', 'total rental bikes is 5117,', 'total rental bikes is 5538,', 'total rental bikes is 4153,', 'total rental bikes is 6772,', 'total rental bikes is 2660,', 'total rental bikes is 5459,', 'total rental bikes is 2792,', 'total rental bikes is 3907,', 'total rental bikes is 2493,', 'total rental bikes is 4708,', 'total rental bikes is 4968,', 'total rental bikes is 3204,', 'total rental bikes is 2376,', 'total rental bikes is 3068,']\n"
     ]
    },
    {
     "name": "stderr",
     "output_type": "stream",
     "text": [
      " 89%|████████▉ | 890/1000 [06:22<00:38,  2.89it/s]"
     ]
    },
    {
     "name": "stdout",
     "output_type": "stream",
     "text": [
      "['total rental bikes is 2485,', 'total rental bikes is 4833,', 'total rental bikes is 2689,', 'total rental bikes is 1204,', 'total rental bikes is 4401,', 'total rental bikes is 3641,', 'total rental bikes is 1562,', 'total rental bikes is 2425,', 'total rental bikes is 7273,', 'total rental bikes is 2689,', 'total rental bikes is 1510,', 'total rental bikes is 6290,', 'total rental bikes is 4086,', 'total rental bikes is 5117,', 'total rental bikes is 5087,', 'total rental bikes is 7001,', 'total rental bikes is 1807,', 'total rental bikes is 3644,', 'total rental bikes is 5312,', 'total rental bikes is 2792,', 'total rental bikes is 5107,', 'total rental bikes is 3544,', 'total rental bikes is 5382,', 'total rental bikes is 5225,', 'total rental bikes is 4459,', 'total rental bikes is 2425,', 'total rental bikes is 5409,', 'total rental bikes is 1562,', 'total rental bikes is 4539,', 'total rental bikes is 3894,', 'total rental bikes is 4322,', 'total rental bikes is 8362,', 'total rental bikes is 4833,', 'total rental bikes is 1000,', 'total rental bikes is 1471,', 'total rental bikes is 2660,', 'total rental bikes is 1562,', 'total rental bikes is 2429,', 'total rental bikes is 4595,', 'total rental bikes is 6779,', 'total rental bikes is 3141,', 'total rental bikes is 4036,', 'total rental bikes is 6591,', 'total rental bikes is 4835,', 'total rental bikes is 7580,', 'total rental bikes is 7436,', 'total rental bikes is 1115,', 'total rental bikes is 4917,', 'total rental bikes is 5115,', 'total rental bikes is 3761,']\n"
     ]
    },
    {
     "name": "stderr",
     "output_type": "stream",
     "text": [
      " 90%|████████▉ | 898/1000 [06:23<00:28,  3.58it/s]"
     ]
    },
    {
     "name": "stdout",
     "output_type": "stream",
     "text": [
      "['total rental bikes is 4803,', 'total rental bikes is 4270,', 'total rental bikes is 7030,', 'total rental bikes is 3922,', 'total rental bikes is 8227,', 'total rental bikes is 4758,', 'total rental bikes is 3777,', 'total rental bikes is 1406,', 'total rental bikes is 7460,', 'total rental bikes is 7055,', 'total rental bikes is 1538,', 'total rental bikes is 5062,', 'total rental bikes is 3663,', 'total rental bikes is 5191,', 'total rental bikes is 4835,', 'total rental bikes is 5010,', 'total rental bikes is 1977,', 'total rental bikes is 7040,', 'total rental bikes is 3767,', 'total rental bikes is 5633,', 'total rental bikes is 1167,', 'total rental bikes is 4046,', 'total rental bikes is 7804,', 'total rental bikes is 1204,', 'total rental bikes is 4539,', 'total rental bikes is 4484,', 'total rental bikes is 1550,', 'total rental bikes is 4451,', 'total rental bikes is 2660,', 'total rental bikes is 1812,', 'total rental bikes is 3747,', 'total rental bikes is 1013,', 'total rental bikes is 4725,', 'total rental bikes is 4258,', 'total rental bikes is 5905,', 'total rental bikes is 6031,', 'total rental bikes is 4585,', 'total rental bikes is 4363,', 'total rental bikes is 6998,', 'total rental bikes is 4916,', 'total rental bikes is 6565,', 'total rental bikes is 1107,', 'total rental bikes is 6883,', 'total rental bikes is 7460,', 'total rental bikes is 2660,', 'total rental bikes is 7665,', 'total rental bikes is 1605,', 'total rental bikes is 1167,', 'total rental bikes is 2765,', 'total rental bikes is 4826,']\n"
     ]
    },
    {
     "name": "stderr",
     "output_type": "stream",
     "text": [
      " 90%|████████▉ | 899/1000 [06:25<00:37,  2.69it/s]"
     ]
    },
    {
     "name": "stdout",
     "output_type": "stream",
     "text": [
      "['total rental bikes is 4548,', 'total rental bikes is 6598,', 'total rental bikes is 3872,', 'total rental bikes is 5992,', 'total rental bikes is 5305,', 'total rental bikes is 7055,', 'total rental bikes is 5786,', 'total rental bikes is 959,', 'total rental bikes is 4563,', 'total rental bikes is 2485,', 'total rental bikes is 6296,', 'total rental bikes is 2594,', 'total rental bikes is 3915,', 'total rental bikes is 5170,', 'total rental bikes is 5138,', 'total rental bikes is 1685,', 'total rental bikes is 3956,', 'total rental bikes is 2209,', 'total rental bikes is 4570,', 'total rental bikes is 7006,', 'total rental bikes is 4717,', 'total rental bikes is 5923,', 'total rental bikes is 3709,', 'total rental bikes is 5445,', 'total rental bikes is 6857,', 'total rental bikes is 3425,', 'total rental bikes is 7572,', 'total rental bikes is 7436,', 'total rental bikes is 4656,', 'total rental bikes is 3423,', 'total rental bikes is 2689,', 'total rental bikes is 3974,', 'total rental bikes is 3243,', 'total rental bikes is 4186,', 'total rental bikes is 6779,', 'total rental bikes is 5409,', 'total rental bikes is 2210,', 'total rental bikes is 4991,', 'total rental bikes is 3855,', 'total rental bikes is 5698,', 'total rental bikes is 7273,', 'total rental bikes is 5115,', 'total rental bikes is 7466,', 'total rental bikes is 8555,', 'total rental bikes is 4585,', 'total rental bikes is 3190,', 'total rental bikes is 3387,', 'total rental bikes is 4795,', 'total rental bikes is 3190,', 'total rental bikes is 2432,']\n"
     ]
    },
    {
     "name": "stderr",
     "output_type": "stream",
     "text": [
      " 90%|█████████ | 901/1000 [06:27<00:43,  2.25it/s]"
     ]
    },
    {
     "name": "stdout",
     "output_type": "stream",
     "text": [
      "['total rental bikes is 4864,', 'total rental bikes is 7767,', 'total rental bikes is 5918,', 'total rental bikes is 5870,', 'total rental bikes is 7460,', 'total rental bikes is 2132,', 'total rental bikes is 4790,', 'total rental bikes is 3926,', 'total rental bikes is 7363,', 'total rental bikes is 4996,', 'total rental bikes is 7907,', 'total rental bikes is 6140,', 'total rental bikes is 7006,', 'total rental bikes is 1027,', 'total rental bikes is 7580,', 'total rental bikes is 1815,', 'total rental bikes is 5115,', 'total rental bikes is 1167,', 'total rental bikes is 2493,', 'total rental bikes is 3422,', 'total rental bikes is 3894,', 'total rental bikes is 6855,', 'total rental bikes is 1530,', 'total rental bikes is 4521,', 'total rental bikes is 1107,', 'total rental bikes is 7494,', 'total rental bikes is 1977,', 'total rental bikes is 3372,', 'total rental bikes is 7534,', 'total rental bikes is 6917,', 'total rental bikes is 1693,', 'total rental bikes is 1749,', 'total rental bikes is 2429,', 'total rental bikes is 2843,', 'total rental bikes is 5259,', 'total rental bikes is 4334,', 'total rental bikes is 1815,', 'total rental bikes is 2162,', 'total rental bikes is 3669,', 'total rental bikes is 627,', 'total rental bikes is 7639,', 'total rental bikes is 7713,', 'total rental bikes is 5062,', 'total rental bikes is 2115,', 'total rental bikes is 1996,', 'total rental bikes is 7691,', 'total rental bikes is 4451,', 'total rental bikes is 6233,', 'total rental bikes is 5531,', 'total rental bikes is 5138,']\n"
     ]
    },
    {
     "name": "stderr",
     "output_type": "stream",
     "text": [
      " 90%|█████████ | 904/1000 [06:28<00:44,  2.17it/s]"
     ]
    },
    {
     "name": "stdout",
     "output_type": "stream",
     "text": [
      "['total rental bikes is 5531,', 'total rental bikes is 3068,', 'total rental bikes is 3403,', 'total rental bikes is 3392,', 'total rental bikes is 5729,', 'total rental bikes is 1787,', 'total rental bikes is 5087,', 'total rental bikes is 4968,', 'total rental bikes is 3786,', 'total rental bikes is 5870,', 'total rental bikes is 3805,', 'total rental bikes is 4363,', 'total rental bikes is 4803,', 'total rental bikes is 5312,', 'total rental bikes is 2475,', 'total rental bikes is 7109,', 'total rental bikes is 4459,', 'total rental bikes is 5062,', 'total rental bikes is 3717,', 'total rental bikes is 5342,', 'total rental bikes is 7697,', 'total rental bikes is 7570,', 'total rental bikes is 2566,', 'total rental bikes is 1969,', 'total rental bikes is 5495,', 'total rental bikes is 2416,', 'total rental bikes is 1501,', 'total rental bikes is 1969,', 'total rental bikes is 6598,', 'total rental bikes is 6235,', 'total rental bikes is 3409,', 'total rental bikes is 3959,', 'total rental bikes is 3624,', 'total rental bikes is 3376,', 'total rental bikes is 6660,', 'total rental bikes is 7605,', 'total rental bikes is 1000,', 'total rental bikes is 5312,', 'total rental bikes is 1607,', 'total rental bikes is 3613,', 'total rental bikes is 4862,', 'total rental bikes is 3387,', 'total rental bikes is 4342,', 'total rental bikes is 3910,', 'total rental bikes is 6207,', 'total rental bikes is 4541,', 'total rental bikes is 1529,', 'total rental bikes is 2376,', 'total rental bikes is 2192,', 'total rental bikes is 2765,']\n"
     ]
    },
    {
     "name": "stderr",
     "output_type": "stream",
     "text": [
      " 91%|█████████ | 906/1000 [06:30<00:48,  1.93it/s]"
     ]
    },
    {
     "name": "stdout",
     "output_type": "stream",
     "text": [
      "['total rental bikes is 981,', 'total rental bikes is 4456,', 'total rental bikes is 7001,', 'total rental bikes is 3777,', 'total rental bikes is 920,', 'total rental bikes is 5633,', 'total rental bikes is 6530,', 'total rental bikes is 5312,', 'total rental bikes is 3239,', 'total rental bikes is 4086,', 'total rental bikes is 4906,', 'total rental bikes is 5035,', 'total rental bikes is 3228,', 'total rental bikes is 4067,', 'total rental bikes is 1416,', 'total rental bikes is 5923,', 'total rental bikes is 7525,', 'total rental bikes is 8009,', 'total rental bikes is 5087,', 'total rental bikes is 4714,', 'total rental bikes is 985,', 'total rental bikes is 5698,', 'total rental bikes is 2311,', 'total rental bikes is 4066,', 'total rental bikes is 5668,', 'total rental bikes is 6998,', 'total rental bikes is 5572,', 'total rental bikes is 605,', 'total rental bikes is 4342,', 'total rental bikes is 6031,', 'total rental bikes is 1162,', 'total rental bikes is 2169,', 'total rental bikes is 7424,', 'total rental bikes is 7350,', 'total rental bikes is 3669,', 'total rental bikes is 986,', 'total rental bikes is 2028,', 'total rental bikes is 3372,', 'total rental bikes is 6460,', 'total rental bikes is 7498,', 'total rental bikes is 4036,', 'total rental bikes is 1550,', 'total rental bikes is 3310,', 'total rental bikes is 2395,', 'total rental bikes is 7605,', 'total rental bikes is 1162,', 'total rental bikes is 6290,', 'total rental bikes is 3872,', 'total rental bikes is 6299,', 'total rental bikes is 683,']\n"
     ]
    },
    {
     "name": "stderr",
     "output_type": "stream",
     "text": [
      " 91%|█████████ | 912/1000 [06:31<00:35,  2.50it/s]"
     ]
    },
    {
     "name": "stdout",
     "output_type": "stream",
     "text": [
      "['total rental bikes is 1317,', 'total rental bikes is 5572,', 'total rental bikes is 4205,', 'total rental bikes is 1162,', 'total rental bikes is 4629,', 'total rental bikes is 3717,', 'total rental bikes is 7736,', 'total rental bikes is 4845,', 'total rental bikes is 6825,', 'total rental bikes is 8555,', 'total rental bikes is 5119,', 'total rental bikes is 5255,', 'total rental bikes is 3310,', 'total rental bikes is 4189,', 'total rental bikes is 2277,', 'total rental bikes is 6691,', 'total rental bikes is 2566,', 'total rental bikes is 3644,', 'total rental bikes is 3659,', 'total rental bikes is 5202,', 'total rental bikes is 3623,', 'total rental bikes is 1605,', 'total rental bikes is 5336,', 'total rental bikes is 506,', 'total rental bikes is 7109,', 'total rental bikes is 6041,', 'total rental bikes is 1683,', 'total rental bikes is 4266,', 'total rental bikes is 1162,', 'total rental bikes is 1872,', 'total rental bikes is 3740,', 'total rental bikes is 5923,', 'total rental bikes is 8120,', 'total rental bikes is 5255,', 'total rental bikes is 3777,', 'total rental bikes is 6591,', 'total rental bikes is 3840,', 'total rental bikes is 5585,', 'total rental bikes is 920,', 'total rental bikes is 7424,', 'total rental bikes is 7129,', 'total rental bikes is 4679,', 'total rental bikes is 3331,', 'total rental bikes is 431,', 'total rental bikes is 5905,', 'total rental bikes is 795,', 'total rental bikes is 6871,', 'total rental bikes is 1461,', 'total rental bikes is 1600,', 'total rental bikes is 3598,']\n"
     ]
    },
    {
     "name": "stderr",
     "output_type": "stream",
     "text": [
      " 92%|█████████▏| 917/1000 [06:33<00:30,  2.70it/s]"
     ]
    },
    {
     "name": "stdout",
     "output_type": "stream",
     "text": [
      "['total rental bikes is 623,', 'total rental bikes is 6883,', 'total rental bikes is 506,', 'total rental bikes is 4634,', 'total rental bikes is 3053,', 'total rental bikes is 7804,', 'total rental bikes is 4553,', 'total rental bikes is 6211,', 'total rental bikes is 2843,', 'total rental bikes is 1501,', 'total rental bikes is 4475,', 'total rental bikes is 8362,', 'total rental bikes is 1406,', 'total rental bikes is 4073,', 'total rental bikes is 3214,', 'total rental bikes is 5117,', 'total rental bikes is 7702,', 'total rental bikes is 3659,', 'total rental bikes is 3785,', 'total rental bikes is 3423,', 'total rental bikes is 3974,', 'total rental bikes is 1749,', 'total rental bikes is 3403,', 'total rental bikes is 2918,', 'total rental bikes is 6966,', 'total rental bikes is 1787,', 'total rental bikes is 1562,', 'total rental bikes is 6830,', 'total rental bikes is 2566,', 'total rental bikes is 7415,', 'total rental bikes is 6871,', 'total rental bikes is 3456,', 'total rental bikes is 5342,', 'total rental bikes is 3846,', 'total rental bikes is 6734,', 'total rental bikes is 5511,', 'total rental bikes is 3840,', 'total rental bikes is 5115,', 'total rental bikes is 7720,', 'total rental bikes is 4205,', 'total rental bikes is 1406,', 'total rental bikes is 4123,', 'total rental bikes is 5464,', 'total rental bikes is 6073,', 'total rental bikes is 5119,', 'total rental bikes is 5501,', 'total rental bikes is 4187,', 'total rental bikes is 5557,', 'total rental bikes is 2402,', 'total rental bikes is 4725,']\n"
     ]
    },
    {
     "name": "stderr",
     "output_type": "stream",
     "text": [
      " 92%|█████████▏| 919/1000 [06:34<00:33,  2.43it/s]"
     ]
    },
    {
     "name": "stdout",
     "output_type": "stream",
     "text": [
      "['total rental bikes is 3922,', 'total rental bikes is 6917,', 'total rental bikes is 3351,', 'total rental bikes is 705,', 'total rental bikes is 4760,', 'total rental bikes is 6591,', 'total rental bikes is 2832,', 'total rental bikes is 3784,', 'total rental bikes is 1349,', 'total rental bikes is 3641,', 'total rental bikes is 5115,', 'total rental bikes is 3958,', 'total rental bikes is 2431,', 'total rental bikes is 4679,', 'total rental bikes is 4302,', 'total rental bikes is 1341,', 'total rental bikes is 7639,', 'total rental bikes is 3429,', 'total rental bikes is 6606,', 'total rental bikes is 1526,', 'total rental bikes is 2402,', 'total rental bikes is 7444,', 'total rental bikes is 6169,', 'total rental bikes is 2210,', 'total rental bikes is 3243,', 'total rental bikes is 4075,', 'total rental bikes is 7461,', 'total rental bikes is 6299,', 'total rental bikes is 705,', 'total rental bikes is 6969,', 'total rental bikes is 5668,', 'total rental bikes is 7001,', 'total rental bikes is 6685,', 'total rental bikes is 4035,', 'total rental bikes is 5046,', 'total rental bikes is 2252,', 'total rental bikes is 5342,', 'total rental bikes is 6043,', 'total rental bikes is 3376,', 'total rental bikes is 4844,', 'total rental bikes is 3894,', 'total rental bikes is 1623,', 'total rental bikes is 4661,', 'total rental bikes is 7393,', 'total rental bikes is 801,', 'total rental bikes is 4390,', 'total rental bikes is 1815,', 'total rental bikes is 7415,', 'total rental bikes is 4773,', 'total rental bikes is 3623,']\n"
     ]
    },
    {
     "name": "stderr",
     "output_type": "stream",
     "text": [
      " 92%|█████████▏| 923/1000 [06:36<00:31,  2.47it/s]"
     ]
    },
    {
     "name": "stdout",
     "output_type": "stream",
     "text": [
      "['total rental bikes is 5740,', 'total rental bikes is 4585,', 'total rental bikes is 3577,', 'total rental bikes is 5119,', 'total rental bikes is 5217,', 'total rental bikes is 4839,', 'total rental bikes is 6041,', 'total rental bikes is 3623,', 'total rental bikes is 5382,', 'total rental bikes is 3129,', 'total rental bikes is 5409,', 'total rental bikes is 4362,', 'total rental bikes is 1248,', 'total rental bikes is 3761,', 'total rental bikes is 5810,', 'total rental bikes is 7461,', 'total rental bikes is 3053,', 'total rental bikes is 5728,', 'total rental bikes is 3982,', 'total rental bikes is 5305,', 'total rental bikes is 6606,', 'total rental bikes is 5191,', 'total rental bikes is 5409,', 'total rental bikes is 3331,', 'total rental bikes is 4010,', 'total rental bikes is 4333,', 'total rental bikes is 8294,', 'total rental bikes is 4433,', 'total rental bikes is 6904,', 'total rental bikes is 683,', 'total rental bikes is 2077,', 'total rental bikes is 6778,', 'total rental bikes is 4785,', 'total rental bikes is 6734,', 'total rental bikes is 4608,', 'total rental bikes is 7148,', 'total rental bikes is 4788,', 'total rental bikes is 1536,', 'total rental bikes is 1450,', 'total rental bikes is 1712,', 'total rental bikes is 5629,', 'total rental bikes is 4763,', 'total rental bikes is 6234,', 'total rental bikes is 6207,', 'total rental bikes is 4990,', 'total rental bikes is 2429,', 'total rental bikes is 4274,', 'total rental bikes is 2177,', 'total rental bikes is 2429,', 'total rental bikes is 6869,']\n"
     ]
    },
    {
     "name": "stderr",
     "output_type": "stream",
     "text": [
      " 93%|█████████▎| 926/1000 [06:37<00:32,  2.31it/s]"
     ]
    },
    {
     "name": "stdout",
     "output_type": "stream",
     "text": [
      "['total rental bikes is 5342,', 'total rental bikes is 3830,', 'total rental bikes is 6234,', 'total rental bikes is 5319,', 'total rental bikes is 3606,', 'total rental bikes is 1495,', 'total rental bikes is 6544,', 'total rental bikes is 1530,', 'total rental bikes is 4694,', 'total rental bikes is 5102,', 'total rental bikes is 3922,', 'total rental bikes is 2475,', 'total rental bikes is 4763,', 'total rental bikes is 1834,', 'total rental bikes is 2431,', 'total rental bikes is 7582,', 'total rental bikes is 2424,', 'total rental bikes is 7261,', 'total rental bikes is 7055,', 'total rental bikes is 3053,', 'total rental bikes is 4803,', 'total rental bikes is 1589,', 'total rental bikes is 1650,', 'total rental bikes is 1495,', 'total rental bikes is 1495,', 'total rental bikes is 1472,', 'total rental bikes is 3659,', 'total rental bikes is 3649,', 'total rental bikes is 1461,', 'total rental bikes is 3598,', 'total rental bikes is 1450,', 'total rental bikes is 4363,', 'total rental bikes is 6073,', 'total rental bikes is 2429,', 'total rental bikes is 2077,', 'total rental bikes is 1501,', 'total rental bikes is 1944,', 'total rental bikes is 4205,', 'total rental bikes is 7498,', 'total rental bikes is 3214,', 'total rental bikes is 4991,', 'total rental bikes is 2192,', 'total rental bikes is 6784,', 'total rental bikes is 4433,', 'total rental bikes is 4492,', 'total rental bikes is 4486,', 'total rental bikes is 4023,', 'total rental bikes is 2739,', 'total rental bikes is 4579,', 'total rental bikes is 2133,']\n"
     ]
    },
    {
     "name": "stderr",
     "output_type": "stream",
     "text": [
      " 93%|█████████▎| 929/1000 [06:39<00:32,  2.20it/s]"
     ]
    },
    {
     "name": "stdout",
     "output_type": "stream",
     "text": [
      "['total rental bikes is 4991,', 'total rental bikes is 1450,', 'total rental bikes is 5008,', 'total rental bikes is 7665,', 'total rental bikes is 5923,', 'total rental bikes is 4966,', 'total rental bikes is 2808,', 'total rental bikes is 4332,', 'total rental bikes is 2739,', 'total rental bikes is 4492,', 'total rental bikes is 1446,', 'total rental bikes is 5875,', 'total rental bikes is 1927,', 'total rental bikes is 6864,', 'total rental bikes is 5515,', 'total rental bikes is 5445,', 'total rental bikes is 6825,', 'total rental bikes is 4036,', 'total rental bikes is 4985,', 'total rental bikes is 8395,', 'total rental bikes is 5026,', 'total rental bikes is 1951,', 'total rental bikes is 7393,', 'total rental bikes is 7582,', 'total rental bikes is 3523,', 'total rental bikes is 4714,', 'total rental bikes is 4835,', 'total rental bikes is 6779,', 'total rental bikes is 4073,', 'total rental bikes is 986,', 'total rental bikes is 4040,', 'total rental bikes is 5582,', 'total rental bikes is 3855,', 'total rental bikes is 6784,', 'total rental bikes is 7290,', 'total rental bikes is 4575,', 'total rental bikes is 4790,', 'total rental bikes is 6770,', 'total rental bikes is 5084,', 'total rental bikes is 2913,', 'total rental bikes is 1865,', 'total rental bikes is 7424,', 'total rental bikes is 1944,', 'total rental bikes is 5572,', 'total rental bikes is 3351,', 'total rental bikes is 2423,', 'total rental bikes is 3956,', 'total rental bikes is 7538,', 'total rental bikes is 4744,', 'total rental bikes is 8555,']\n"
     ]
    },
    {
     "name": "stderr",
     "output_type": "stream",
     "text": [
      " 93%|█████████▎| 931/1000 [06:40<00:35,  1.93it/s]"
     ]
    },
    {
     "name": "stdout",
     "output_type": "stream",
     "text": [
      "['total rental bikes is 2729,', 'total rental bikes is 4656,', 'total rental bikes is 801,', 'total rental bikes is 5810,', 'total rental bikes is 7384,', 'total rental bikes is 2918,', 'total rental bikes is 8009,', 'total rental bikes is 4595,', 'total rental bikes is 4302,', 'total rental bikes is 4788,', 'total rental bikes is 4940,', 'total rental bikes is 1360,', 'total rental bikes is 6290,', 'total rental bikes is 1693,', 'total rental bikes is 2431,', 'total rental bikes is 2425,', 'total rental bikes is 4553,', 'total rental bikes is 431,', 'total rental bikes is 1301,', 'total rental bikes is 5202,', 'total rental bikes is 1495,', 'total rental bikes is 7333,', 'total rental bikes is 6299,', 'total rental bikes is 5557,', 'total rental bikes is 5107,', 'total rental bikes is 6572,', 'total rental bikes is 3115,', 'total rental bikes is 4098,', 'total rental bikes is 1623,', 'total rental bikes is 7466,', 'total rental bikes is 4569,', 'total rental bikes is 431,', 'total rental bikes is 6196,', 'total rental bikes is 7429,', 'total rental bikes is 4304,', 'total rental bikes is 4322,', 'total rental bikes is 3570,', 'total rental bikes is 7442,', 'total rental bikes is 2077,', 'total rental bikes is 6118,', 'total rental bikes is 5409,', 'total rental bikes is 1996,', 'total rental bikes is 8714,', 'total rental bikes is 1969,', 'total rental bikes is 6034,', 'total rental bikes is 3784,', 'total rental bikes is 6536,', 'total rental bikes is 4123,', 'total rental bikes is 3068,', 'total rental bikes is 4866,']\n"
     ]
    },
    {
     "name": "stderr",
     "output_type": "stream",
     "text": [
      " 93%|█████████▎| 934/1000 [06:42<00:33,  1.94it/s]"
     ]
    },
    {
     "name": "stdout",
     "output_type": "stream",
     "text": [
      "['total rental bikes is 4046,', 'total rental bikes is 5115,', 'total rental bikes is 4916,', 'total rental bikes is 4586,', 'total rental bikes is 5375,', 'total rental bikes is 1685,', 'total rental bikes is 441,', 'total rental bikes is 4451,', 'total rental bikes is 3239,', 'total rental bikes is 2227,', 'total rental bikes is 7572,', 'total rental bikes is 6290,', 'total rental bikes is 5698,', 'total rental bikes is 4575,', 'total rental bikes is 2402,', 'total rental bikes is 3717,', 'total rental bikes is 7713,', 'total rental bikes is 5298,', 'total rental bikes is 1000,', 'total rental bikes is 2633,', 'total rental bikes is 5918,', 'total rental bikes is 5204,', 'total rental bikes is 4098,', 'total rental bikes is 3310,', 'total rental bikes is 6664,', 'total rental bikes is 1501,', 'total rental bikes is 4661,', 'total rental bikes is 2133,', 'total rental bikes is 3659,', 'total rental bikes is 8167,', 'total rental bikes is 1450,', 'total rental bikes is 3368,', 'total rental bikes is 5267,', 'total rental bikes is 4154,', 'total rental bikes is 5875,', 'total rental bikes is 3422,', 'total rental bikes is 6778,', 'total rental bikes is 2302,', 'total rental bikes is 2743,', 'total rental bikes is 4191,', 'total rental bikes is 2999,', 'total rental bikes is 1471,', 'total rental bikes is 1817,', 'total rental bikes is 1712,', 'total rental bikes is 7216,', 'total rental bikes is 5062,', 'total rental bikes is 5041,', 'total rental bikes is 3204,', 'total rental bikes is 4649,', 'total rental bikes is 4040,']\n"
     ]
    },
    {
     "name": "stderr",
     "output_type": "stream",
     "text": [
      " 94%|█████████▎| 937/1000 [06:43<00:32,  1.96it/s]"
     ]
    },
    {
     "name": "stdout",
     "output_type": "stream",
     "text": [
      "['total rental bikes is 1815,', 'total rental bikes is 3376,', 'total rental bikes is 7836,', 'total rental bikes is 6685,', 'total rental bikes is 1530,', 'total rental bikes is 4459,', 'total rental bikes is 1605,', 'total rental bikes is 6234,', 'total rental bikes is 5010,', 'total rental bikes is 8156,', 'total rental bikes is 6398,', 'total rental bikes is 6825,', 'total rental bikes is 6966,', 'total rental bikes is 7429,', 'total rental bikes is 7767,', 'total rental bikes is 3855,', 'total rental bikes is 6043,', 'total rental bikes is 1096,', 'total rental bikes is 506,', 'total rental bikes is 3267,', 'total rental bikes is 6871,', 'total rental bikes is 1167,', 'total rental bikes is 4862,', 'total rental bikes is 2913,', 'total rental bikes is 3372,', 'total rental bikes is 5936,', 'total rental bikes is 5259,', 'total rental bikes is 5409,', 'total rental bikes is 3614,', 'total rental bikes is 3784,', 'total rental bikes is 5217,', 'total rental bikes is 7436,', 'total rental bikes is 3784,', 'total rental bikes is 3425,', 'total rental bikes is 506,', 'total rental bikes is 4191,', 'total rental bikes is 2918,', 'total rental bikes is 4109,', 'total rental bikes is 4308,', 'total rental bikes is 7350,', 'total rental bikes is 2162,', 'total rental bikes is 6153,', 'total rental bikes is 5180,', 'total rental bikes is 22,', 'total rental bikes is 3523,', 'total rental bikes is 4187,', 'total rental bikes is 5478,', 'total rental bikes is 4067,', 'total rental bikes is 605,', 'total rental bikes is 3744,']\n"
     ]
    },
    {
     "name": "stderr",
     "output_type": "stream",
     "text": [
      " 94%|█████████▍| 939/1000 [06:45<00:34,  1.77it/s]"
     ]
    },
    {
     "name": "stdout",
     "output_type": "stream",
     "text": [
      "['total rental bikes is 4040,', 'total rental bikes is 6227,', 'total rental bikes is 2115,', 'total rental bikes is 4451,', 'total rental bikes is 8167,', 'total rental bikes is 431,', 'total rental bikes is 6998,', 'total rental bikes is 6153,', 'total rental bikes is 5918,', 'total rental bikes is 4036,', 'total rental bikes is 4629,', 'total rental bikes is 3784,', 'total rental bikes is 4744,', 'total rental bikes is 3717,', 'total rental bikes is 7105,', 'total rental bikes is 2417,', 'total rental bikes is 2209,', 'total rental bikes is 7461,', 'total rental bikes is 4067,', 'total rental bikes is 3820,', 'total rental bikes is 6269,', 'total rental bikes is 6207,', 'total rental bikes is 7499,', 'total rental bikes is 5558,', 'total rental bikes is 5312,', 'total rental bikes is 6857,', 'total rental bikes is 4656,', 'total rental bikes is 2162,', 'total rental bikes is 4763,', 'total rental bikes is 5362,', 'total rental bikes is 2808,', 'total rental bikes is 4906,', 'total rental bikes is 4996,', 'total rental bikes is 2659,', 'total rental bikes is 5336,', 'total rental bikes is 1685,', 'total rental bikes is 8173,', 'total rental bikes is 8156,', 'total rental bikes is 7328,', 'total rental bikes is 5698,', 'total rental bikes is 7870,', 'total rental bikes is 3750,', 'total rental bikes is 2739,', 'total rental bikes is 4073,', 'total rental bikes is 4326,', 'total rental bikes is 4972,', 'total rental bikes is 3542,', 'total rental bikes is 7030,', 'total rental bikes is 1526,', 'total rental bikes is 4758,']\n"
     ]
    },
    {
     "name": "stderr",
     "output_type": "stream",
     "text": [
      " 94%|█████████▍| 943/1000 [06:46<00:28,  2.03it/s]"
     ]
    },
    {
     "name": "stdout",
     "output_type": "stream",
     "text": [
      "['total rental bikes is 7697,', 'total rental bikes is 6233,', 'total rental bikes is 4602,', 'total rental bikes is 1416,', 'total rental bikes is 5976,', 'total rental bikes is 1606,', 'total rental bikes is 4308,', 'total rental bikes is 6203,', 'total rental bikes is 4274,', 'total rental bikes is 6233,', 'total rental bikes is 5342,', 'total rental bikes is 3709,', 'total rental bikes is 4390,', 'total rental bikes is 4966,', 'total rental bikes is 4363,', 'total rental bikes is 5511,', 'total rental bikes is 6203,', 'total rental bikes is 5084,', 'total rental bikes is 3292,', 'total rental bikes is 6857,', 'total rental bikes is 1543,', 'total rental bikes is 1472,', 'total rental bikes is 1461,', 'total rental bikes is 1787,', 'total rental bikes is 6779,', 'total rental bikes is 4864,', 'total rental bikes is 4590,', 'total rental bikes is 4205,', 'total rental bikes is 3429,', 'total rental bikes is 5423,', 'total rental bikes is 4378,', 'total rental bikes is 5260,', 'total rental bikes is 7499,', 'total rental bikes is 7765,', 'total rental bikes is 4456,', 'total rental bikes is 1005,', 'total rental bikes is 4714,', 'total rental bikes is 1341,', 'total rental bikes is 3456,', 'total rental bikes is 822,', 'total rental bikes is 7058,', 'total rental bikes is 1098,', 'total rental bikes is 4592,', 'total rental bikes is 4590,', 'total rental bikes is 5585,', 'total rental bikes is 4629,', 'total rental bikes is 2210,', 'total rental bikes is 7410,', 'total rental bikes is 6359,', 'total rental bikes is 5634,']\n"
     ]
    },
    {
     "name": "stderr",
     "output_type": "stream",
     "text": [
      " 95%|█████████▍| 946/1000 [06:48<00:26,  2.00it/s]"
     ]
    },
    {
     "name": "stdout",
     "output_type": "stream",
     "text": [
      "['total rental bikes is 6917,', 'total rental bikes is 6536,', 'total rental bikes is 2566,', 'total rental bikes is 7446,', 'total rental bikes is 1635,', 'total rental bikes is 2236,', 'total rental bikes is 1985,', 'total rental bikes is 7129,', 'total rental bikes is 1650,', 'total rental bikes is 3214,', 'total rental bikes is 2493,', 'total rental bikes is 6233,', 'total rental bikes is 1416,', 'total rental bikes is 1510,', 'total rental bikes is 5260,', 'total rental bikes is 1000,', 'total rental bikes is 4274,', 'total rental bikes is 4375,', 'total rental bikes is 3544,', 'total rental bikes is 6597,', 'total rental bikes is 605,', 'total rental bikes is 5478,', 'total rental bikes is 4881,', 'total rental bikes is 5117,', 'total rental bikes is 1000,', 'total rental bikes is 5633,', 'total rental bikes is 5668,', 'total rental bikes is 4916,', 'total rental bikes is 6966,', 'total rental bikes is 5558,', 'total rental bikes is 7040,', 'total rental bikes is 5225,', 'total rental bikes is 4648,', 'total rental bikes is 4660,', 'total rental bikes is 7403,', 'total rental bikes is 4075,', 'total rental bikes is 3272,', 'total rental bikes is 4639,', 'total rental bikes is 4333,', 'total rental bikes is 5225,', 'total rental bikes is 5634,', 'total rental bikes is 1650,', 'total rental bikes is 7424,', 'total rental bikes is 3926,', 'total rental bikes is 6192,', 'total rental bikes is 4553,', 'total rental bikes is 4338,', 'total rental bikes is 4905,', 'total rental bikes is 627,', 'total rental bikes is 4773,']\n"
     ]
    },
    {
     "name": "stderr",
     "output_type": "stream",
     "text": [
      " 95%|█████████▌| 950/1000 [06:49<00:22,  2.20it/s]"
     ]
    },
    {
     "name": "stdout",
     "output_type": "stream",
     "text": [
      "['total rental bikes is 2493,', 'total rental bikes is 605,', 'total rental bikes is 6192,', 'total rental bikes is 6824,', 'total rental bikes is 2077,', 'total rental bikes is 5847,', 'total rental bikes is 4023,', 'total rental bikes is 3894,', 'total rental bikes is 1167,', 'total rental bikes is 7460,', 'total rental bikes is 7040,', 'total rental bikes is 5041,', 'total rental bikes is 5634,', 'total rental bikes is 4046,', 'total rental bikes is 4322,', 'total rental bikes is 7702,', 'total rental bikes is 5217,', 'total rental bikes is 3310,', 'total rental bikes is 5362,', 'total rental bikes is 2034,', 'total rental bikes is 4105,', 'total rental bikes is 5382,', 'total rental bikes is 6436,', 'total rental bikes is 5107,', 'total rental bikes is 7499,', 'total rental bikes is 3387,', 'total rental bikes is 4333,', 'total rental bikes is 506,', 'total rental bikes is 4563,', 'total rental bikes is 3944,', 'total rental bikes is 3577,', 'total rental bikes is 6598,', 'total rental bikes is 4792,', 'total rental bikes is 3910,', 'total rental bikes is 4835,', 'total rental bikes is 6207,', 'total rental bikes is 5582,', 'total rental bikes is 1969,', 'total rental bikes is 5046,', 'total rental bikes is 6192,', 'total rental bikes is 1685,', 'total rental bikes is 4486,', 'total rental bikes is 4150,', 'total rental bikes is 1693,', 'total rental bikes is 3487,', 'total rental bikes is 5191,', 'total rental bikes is 4575,', 'total rental bikes is 4492,', 'total rental bikes is 5668,', 'total rental bikes is 8294,']\n"
     ]
    },
    {
     "name": "stderr",
     "output_type": "stream",
     "text": [
      " 95%|█████████▌| 953/1000 [06:51<00:22,  2.11it/s]"
     ]
    },
    {
     "name": "stdout",
     "output_type": "stream",
     "text": [
      "['total rental bikes is 4576,', 'total rental bikes is 7907,', 'total rental bikes is 6572,', 'total rental bikes is 7013,', 'total rental bikes is 6778,', 'total rental bikes is 7509,', 'total rental bikes is 3068,', 'total rental bikes is 4991,', 'total rental bikes is 7006,', 'total rental bikes is 4727,', 'total rental bikes is 4862,', 'total rental bikes is 6398,', 'total rental bikes is 3053,', 'total rental bikes is 1807,', 'total rental bikes is 1301,', 'total rental bikes is 4304,', 'total rental bikes is 1795,', 'total rental bikes is 4302,', 'total rental bikes is 3744,', 'total rental bikes is 1606,', 'total rental bikes is 6639,', 'total rental bikes is 6093,', 'total rental bikes is 6230,', 'total rental bikes is 4375,', 'total rental bikes is 1913,', 'total rental bikes is 5255,', 'total rental bikes is 1204,', 'total rental bikes is 1927,', 'total rental bikes is 5409,', 'total rental bikes is 8227,', 'total rental bikes is 3194,', 'total rental bikes is 4991,', 'total rental bikes is 6093,', 'total rental bikes is 8714,', 'total rental bikes is 4036,', 'total rental bikes is 2133,', 'total rental bikes is 1115,', 'total rental bikes is 6312,', 'total rental bikes is 1749,', 'total rental bikes is 6273,', 'total rental bikes is 1098,', 'total rental bikes is 3820,', 'total rental bikes is 6230,', 'total rental bikes is 4911,', 'total rental bikes is 4094,', 'total rental bikes is 8167,', 'total rental bikes is 7907,', 'total rental bikes is 7592,', 'total rental bikes is 6779,', 'total rental bikes is 1796,']\n"
     ]
    },
    {
     "name": "stderr",
     "output_type": "stream",
     "text": [
      " 95%|█████████▌| 954/1000 [06:52<00:27,  1.68it/s]"
     ]
    },
    {
     "name": "stdout",
     "output_type": "stream",
     "text": [
      "['total rental bikes is 981,', 'total rental bikes is 4375,', 'total rental bikes is 2739,', 'total rental bikes is 3840,', 'total rental bikes is 6118,', 'total rental bikes is 1623,', 'total rental bikes is 2431,', 'total rental bikes is 6211,', 'total rental bikes is 3510,', 'total rental bikes is 4367,', 'total rental bikes is 4881,', 'total rental bikes is 506,', 'total rental bikes is 4916,', 'total rental bikes is 1529,', 'total rental bikes is 7499,', 'total rental bikes is 4521,', 'total rental bikes is 1589,', 'total rental bikes is 5260,', 'total rental bikes is 5008,', 'total rental bikes is 2121,', 'total rental bikes is 7580,', 'total rental bikes is 4195,', 'total rental bikes is 4098,', 'total rental bikes is 4708,', 'total rental bikes is 1550,', 'total rental bikes is 4862,', 'total rental bikes is 3574,', 'total rental bikes is 4911,', 'total rental bikes is 7393,', 'total rental bikes is 4727,', 'total rental bikes is 5409,', 'total rental bikes is 1795,', 'total rental bikes is 1807,', 'total rental bikes is 2252,', 'total rental bikes is 7713,', 'total rental bikes is 7175,', 'total rental bikes is 7498,', 'total rental bikes is 3974,', 'total rental bikes is 1011,', 'total rental bikes is 2210,', 'total rental bikes is 5423,', 'total rental bikes is 5010,', 'total rental bikes is 6041,', 'total rental bikes is 2999,', 'total rental bikes is 4694,', 'total rental bikes is 3623,', 'total rental bikes is 5905,', 'total rental bikes is 4840,', 'total rental bikes is 4187,', 'total rental bikes is 1341,']\n"
     ]
    },
    {
     "name": "stderr",
     "output_type": "stream",
     "text": [
      " 96%|█████████▌| 961/1000 [06:54<00:15,  2.56it/s]"
     ]
    },
    {
     "name": "stdout",
     "output_type": "stream",
     "text": [
      "['total rental bikes is 5895,', 'total rental bikes is 2192,', 'total rental bikes is 4660,', 'total rental bikes is 1471,', 'total rental bikes is 4304,', 'total rental bikes is 7424,', 'total rental bikes is 7509,', 'total rental bikes is 1635,', 'total rental bikes is 2743,', 'total rental bikes is 4570,', 'total rental bikes is 1996,', 'total rental bikes is 1817,', 'total rental bikes is 6978,', 'total rental bikes is 5459,', 'total rental bikes is 5409,', 'total rental bikes is 4120,', 'total rental bikes is 1263,', 'total rental bikes is 7804,', 'total rental bikes is 2368,', 'total rental bikes is 7665,', 'total rental bikes is 7415,', 'total rental bikes is 7665,', 'total rental bikes is 3095,', 'total rental bikes is 1787,', 'total rental bikes is 7384,', 'total rental bikes is 6093,', 'total rental bikes is 6917,', 'total rental bikes is 6879,', 'total rental bikes is 1550,', 'total rental bikes is 5976,', 'total rental bikes is 4835,', 'total rental bikes is 1321,', 'total rental bikes is 4189,', 'total rental bikes is 5336,', 'total rental bikes is 3249,', 'total rental bikes is 4773,', 'total rental bikes is 4274,', 'total rental bikes is 2765,', 'total rental bikes is 4744,', 'total rental bikes is 1011,', 'total rental bikes is 627,', 'total rental bikes is 4182,', 'total rental bikes is 4182,', 'total rental bikes is 1817,', 'total rental bikes is 4748,', 'total rental bikes is 2423,', 'total rental bikes is 3487,', 'total rental bikes is 6296,', 'total rental bikes is 1115,', 'total rental bikes is 6917,']\n"
     ]
    },
    {
     "name": "stderr",
     "output_type": "stream",
     "text": [
      " 96%|█████████▋| 963/1000 [06:55<00:17,  2.17it/s]"
     ]
    },
    {
     "name": "stdout",
     "output_type": "stream",
     "text": [
      "['total rental bikes is 4363,', 'total rental bikes is 3767,', 'total rental bikes is 4917,', 'total rental bikes is 3422,', 'total rental bikes is 6966,', 'total rental bikes is 3873,', 'total rental bikes is 4258,', 'total rental bikes is 1977,', 'total rental bikes is 4717,', 'total rental bikes is 4332,', 'total rental bikes is 3372,', 'total rental bikes is 5046,', 'total rental bikes is 4773,', 'total rental bikes is 2192,', 'total rental bikes is 4094,', 'total rental bikes is 7055,', 'total rental bikes is 5191,', 'total rental bikes is 4840,', 'total rental bikes is 627,', 'total rental bikes is 4492,', 'total rental bikes is 1529,', 'total rental bikes is 985,', 'total rental bikes is 2765,', 'total rental bikes is 6685,', 'total rental bikes is 4338,', 'total rental bikes is 2475,', 'total rental bikes is 2236,', 'total rental bikes is 2471,', 'total rental bikes is 5099,', 'total rental bikes is 3727,', 'total rental bikes is 2302,', 'total rental bikes is 7333,', 'total rental bikes is 1204,', 'total rental bikes is 2227,', 'total rental bikes is 4195,', 'total rental bikes is 4318,', 'total rental bikes is 4608,', 'total rental bikes is 4539,', 'total rental bikes is 1623,', 'total rental bikes is 7442,', 'total rental bikes is 3709,', 'total rental bikes is 2115,', 'total rental bikes is 7273,', 'total rental bikes is 5823,', 'total rental bikes is 2743,', 'total rental bikes is 1501,', 'total rental bikes is 5501,', 'total rental bikes is 2424,', 'total rental bikes is 4586,', 'total rental bikes is 4400,']\n"
     ]
    },
    {
     "name": "stderr",
     "output_type": "stream",
     "text": [
      " 96%|█████████▋| 965/1000 [06:57<00:18,  1.92it/s]"
     ]
    },
    {
     "name": "stdout",
     "output_type": "stream",
     "text": [
      "['total rental bikes is 6824,', 'total rental bikes is 5611,', 'total rental bikes is 5611,', 'total rental bikes is 5501,', 'total rental bikes is 7055,', 'total rental bikes is 8156,', 'total rental bikes is 5634,', 'total rental bikes is 3805,', 'total rental bikes is 1461,', 'total rental bikes is 7460,', 'total rental bikes is 5260,', 'total rental bikes is 5062,', 'total rental bikes is 8156,', 'total rental bikes is 2425,', 'total rental bikes is 6273,', 'total rental bikes is 3351,', 'total rental bikes is 1472,', 'total rental bikes is 4492,', 'total rental bikes is 1606,', 'total rental bikes is 7424,', 'total rental bikes is 6857,', 'total rental bikes is 1683,', 'total rental bikes is 1944,', 'total rental bikes is 3285,', 'total rental bikes is 4023,', 'total rental bikes is 1693,', 'total rental bikes is 3574,', 'total rental bikes is 2121,', 'total rental bikes is 5117,', 'total rental bikes is 6233,', 'total rental bikes is 4128,', 'total rental bikes is 4548,', 'total rental bikes is 6770,', 'total rental bikes is 3831,', 'total rental bikes is 1683,', 'total rental bikes is 2034,', 'total rental bikes is 7458,', 'total rental bikes is 2424,', 'total rental bikes is 5035,', 'total rental bikes is 2056,', 'total rental bikes is 4978,', 'total rental bikes is 6436,', 'total rental bikes is 6664,', 'total rental bikes is 3784,', 'total rental bikes is 6883,', 'total rental bikes is 2594,', 'total rental bikes is 3872,', 'total rental bikes is 1913,', 'total rental bikes is 4864,', 'total rental bikes is 7429,']\n"
     ]
    },
    {
     "name": "stderr",
     "output_type": "stream",
     "text": [
      " 97%|█████████▋| 974/1000 [06:59<00:08,  3.07it/s]"
     ]
    },
    {
     "name": "stdout",
     "output_type": "stream",
     "text": [
      "['total rental bikes is 3663,', 'total rental bikes is 2765,', 'total rental bikes is 3663,', 'total rental bikes is 4839,', 'total rental bikes is 7509,', 'total rental bikes is 1815,', 'total rental bikes is 6169,', 'total rental bikes is 2947,', 'total rental bikes is 3544,', 'total rental bikes is 3727,', 'total rental bikes is 3520,', 'total rental bikes is 2121,', 'total rental bikes is 7338,', 'total rental bikes is 7702,', 'total rental bikes is 5729,', 'total rental bikes is 1795,', 'total rental bikes is 3915,', 'total rental bikes is 2455,', 'total rental bikes is 7720,', 'total rental bikes is 7460,', 'total rental bikes is 6234,', 'total rental bikes is 3351,', 'total rental bikes is 4788,', 'total rental bikes is 4507,', 'total rental bikes is 7347,', 'total rental bikes is 3959,', 'total rental bikes is 7058,', 'total rental bikes is 5345,', 'total rental bikes is 1996,', 'total rental bikes is 3310,', 'total rental bikes is 1600,', 'total rental bikes is 5302,', 'total rental bikes is 4023,', 'total rental bikes is 1607,', 'total rental bikes is 7148,', 'total rental bikes is 6034,', 'total rental bikes is 6830,', 'total rental bikes is 6196,', 'total rental bikes is 8090,', 'total rental bikes is 4575,', 'total rental bikes is 5115,', 'total rental bikes is 6299,', 'total rental bikes is 1985,', 'total rental bikes is 5464,', 'total rental bikes is 4304,', 'total rental bikes is 2933,', 'total rental bikes is 7504,', 'total rental bikes is 4966,', 'total rental bikes is 5115,', 'total rental bikes is 4649,']\n"
     ]
    },
    {
     "name": "stderr",
     "output_type": "stream",
     "text": [
      " 98%|█████████▊| 975/1000 [07:00<00:10,  2.35it/s]"
     ]
    },
    {
     "name": "stdout",
     "output_type": "stream",
     "text": [
      "['total rental bikes is 1550,', 'total rental bikes is 6043,', 'total rental bikes is 3974,', 'total rental bikes is 3867,', 'total rental bikes is 6591,', 'total rental bikes is 6861,', 'total rental bikes is 6889,', 'total rental bikes is 3744,', 'total rental bikes is 6034,', 'total rental bikes is 2703,', 'total rental bikes is 4363,', 'total rental bikes is 5119,', 'total rental bikes is 1872,', 'total rental bikes is 3115,', 'total rental bikes is 4788,', 'total rental bikes is 6398,', 'total rental bikes is 2056,', 'total rental bikes is 4649,', 'total rental bikes is 3574,', 'total rental bikes is 3376,', 'total rental bikes is 3974,', 'total rental bikes is 4459,', 'total rental bikes is 4153,', 'total rental bikes is 7525,', 'total rental bikes is 6917,', 'total rental bikes is 5202,', 'total rental bikes is 4097,', 'total rental bikes is 4086,', 'total rental bikes is 4035,', 'total rental bikes is 6073,', 'total rental bikes is 4205,', 'total rental bikes is 4911,', 'total rental bikes is 1027,', 'total rental bikes is 7286,', 'total rental bikes is 2927,', 'total rental bikes is 6904,', 'total rental bikes is 6591,', 'total rental bikes is 3915,', 'total rental bikes is 2914,', 'total rental bikes is 3272,', 'total rental bikes is 7865,', 'total rental bikes is 7498,', 'total rental bikes is 5115,', 'total rental bikes is 3663,', 'total rental bikes is 4864,', 'total rental bikes is 1416,', 'total rental bikes is 3744,', 'total rental bikes is 2496,', 'total rental bikes is 3831,', 'total rental bikes is 4118,']\n",
      "['total rental bikes is 4086,', 'total rental bikes is 4541,', 'total rental bikes is 1000,', 'total rental bikes is 2417,', 'total rental bikes is 3620,', 'total rental bikes is 5180,', 'total rental bikes is 1650,', 'total rental bikes is 5362,', 'total rental bikes is 3422,', 'total rental bikes is 4576,', 'total rental bikes is 5315,', 'total rental bikes is 1013,', 'total rental bikes is 6772,', 'total rental bikes is 6530,', 'total rental bikes is 6234,', 'total rental bikes is 4687,', 'total rental bikes is 1360,', 'total rental bikes is 7424,', 'total rental bikes is 2999,', 'total rental bikes is 5138,', 'total rental bikes is 1872,', 'total rental bikes is 7865,', 'total rental bikes is 5008,', 'total rental bikes is 4669,', 'total rental bikes is 4322,', 'total rental bikes is 6830,', 'total rental bikes is 1162,', 'total rental bikes is 6966,', 'total rental bikes is 4098,', 'total rental bikes is 4788,', 'total rental bikes is 4220,', 'total rental bikes is 5102,', 'total rental bikes is 7461,', 'total rental bikes is 2424,', 'total rental bikes is 7393,', 'total rental bikes is 7290,', 'total rental bikes is 2121,', 'total rental bikes is 2566,', 'total rental bikes is 3740,', 'total rental bikes is 2134,', 'total rental bikes is 5686,', 'total rental bikes is 5992,', 'total rental bikes is 4570,', 'total rental bikes is 3510,', 'total rental bikes is 5035,', 'total rental bikes is 5047,', 'total rental bikes is 5870,', 'total rental bikes is 6034,', 'total rental bikes is 6779,', 'total rental bikes is 1842,']\n"
     ]
    },
    {
     "name": "stderr",
     "output_type": "stream",
     "text": [
      " 98%|█████████▊| 978/1000 [07:03<00:12,  1.74it/s]"
     ]
    },
    {
     "name": "stdout",
     "output_type": "stream",
     "text": [
      "['total rental bikes is 4036,', 'total rental bikes is 4195,', 'total rental bikes is 2493,', 'total rental bikes is 6966,', 'total rental bikes is 2947,', 'total rental bikes is 3163,', 'total rental bikes is 4891,', 'total rental bikes is 6664,', 'total rental bikes is 2927,', 'total rental bikes is 6734,', 'total rental bikes is 1787,', 'total rental bikes is 7702,', 'total rental bikes is 6169,', 'total rental bikes is 4400,', 'total rental bikes is 2659,', 'total rental bikes is 2424,', 'total rental bikes is 3940,', 'total rental bikes is 2566,', 'total rental bikes is 2743,', 'total rental bikes is 6624,', 'total rental bikes is 6299,', 'total rental bikes is 5409,', 'total rental bikes is 6883,', 'total rental bikes is 6864,', 'total rental bikes is 5047,', 'total rental bikes is 5084,', 'total rental bikes is 2028,', 'total rental bikes is 1301,', 'total rental bikes is 6966,', 'total rental bikes is 7261,', 'total rental bikes is 5058,', 'total rental bikes is 7736,', 'total rental bikes is 7582,', 'total rental bikes is 7040,', 'total rental bikes is 7504,', 'total rental bikes is 7112,', 'total rental bikes is 6864,', 'total rental bikes is 4679,', 'total rental bikes is 6569,', 'total rental bikes is 3926,', 'total rental bikes is 981,', 'total rental bikes is 7410,', 'total rental bikes is 4694,', 'total rental bikes is 5566,', 'total rental bikes is 4270,', 'total rental bikes is 4835,', 'total rental bikes is 4576,', 'total rental bikes is 8227,', 'total rental bikes is 7393,', 'total rental bikes is 3831,']\n"
     ]
    },
    {
     "name": "stderr",
     "output_type": "stream",
     "text": [
      " 98%|█████████▊| 981/1000 [07:05<00:10,  1.79it/s]"
     ]
    },
    {
     "name": "stdout",
     "output_type": "stream",
     "text": [
      "['total rental bikes is 2732,', 'total rental bikes is 8555,', 'total rental bikes is 4326,', 'total rental bikes is 5298,', 'total rental bikes is 4182,', 'total rental bikes is 2177,', 'total rental bikes is 6421,', 'total rental bikes is 4120,', 'total rental bikes is 1013,', 'total rental bikes is 4375,', 'total rental bikes is 3915,', 'total rental bikes is 5115,', 'total rental bikes is 4833,', 'total rental bikes is 3520,', 'total rental bikes is 4579,', 'total rental bikes is 4456,', 'total rental bikes is 4996,', 'total rental bikes is 2368,', 'total rental bikes is 3422,', 'total rental bikes is 7338,', 'total rental bikes is 4492,', 'total rental bikes is 2252,', 'total rental bikes is 7458,', 'total rental bikes is 4748,', 'total rental bikes is 7013,', 'total rental bikes is 3846,', 'total rental bikes is 5423,', 'total rental bikes is 2843,', 'total rental bikes is 5698,', 'total rental bikes is 7580,', 'total rental bikes is 3429,', 'total rental bikes is 3249,', 'total rental bikes is 6169,', 'total rental bikes is 6192,', 'total rental bikes is 959,', 'total rental bikes is 7273,', 'total rental bikes is 5191,', 'total rental bikes is 4433,', 'total rental bikes is 2424,', 'total rental bikes is 6153,', 'total rental bikes is 2918,', 'total rental bikes is 6536,', 'total rental bikes is 4094,', 'total rental bikes is 5634,', 'total rental bikes is 4109,', 'total rental bikes is 7436,', 'total rental bikes is 3974,', 'total rental bikes is 5463,', 'total rental bikes is 3974,', 'total rental bikes is 4792,']\n"
     ]
    },
    {
     "name": "stderr",
     "output_type": "stream",
     "text": [
      " 98%|█████████▊| 984/1000 [07:06<00:08,  1.83it/s]"
     ]
    },
    {
     "name": "stdout",
     "output_type": "stream",
     "text": [
      "['total rental bikes is 2566,', 'total rental bikes is 1746,', 'total rental bikes is 4390,', 'total rental bikes is 5459,', 'total rental bikes is 6639,', 'total rental bikes is 4187,', 'total rental bikes is 7591,', 'total rental bikes is 2034,', 'total rental bikes is 5409,', 'total rental bikes is 4036,', 'total rental bikes is 6207,', 'total rental bikes is 1263,', 'total rental bikes is 3623,', 'total rental bikes is 5409,', 'total rental bikes is 3239,', 'total rental bikes is 6233,', 'total rental bikes is 1416,', 'total rental bikes is 3820,', 'total rental bikes is 4763,', 'total rental bikes is 8294,', 'total rental bikes is 4592,', 'total rental bikes is 1650,', 'total rental bikes is 3267,', 'total rental bikes is 7498,', 'total rental bikes is 506,', 'total rental bikes is 3974,', 'total rental bikes is 4866,', 'total rental bikes is 4128,', 'total rental bikes is 2493,', 'total rental bikes is 5342,', 'total rental bikes is 1000,', 'total rental bikes is 3285,', 'total rental bikes is 4189,', 'total rental bikes is 705,', 'total rental bikes is 7359,', 'total rental bikes is 3598,', 'total rental bikes is 4785,', 'total rental bikes is 3141,', 'total rental bikes is 6530,', 'total rental bikes is 6203,', 'total rental bikes is 3709,', 'total rental bikes is 4274,', 'total rental bikes is 3767,', 'total rental bikes is 4864,', 'total rental bikes is 5260,', 'total rental bikes is 1562,', 'total rental bikes is 3214,', 'total rental bikes is 3372,', 'total rental bikes is 7040,', 'total rental bikes is 2429,']\n"
     ]
    },
    {
     "name": "stderr",
     "output_type": "stream",
     "text": [
      " 99%|█████████▊| 987/1000 [07:08<00:07,  1.86it/s]"
     ]
    },
    {
     "name": "stdout",
     "output_type": "stream",
     "text": [
      "['total rental bikes is 3820,', 'total rental bikes is 5382,', 'total rental bikes is 1421,', 'total rental bikes is 1321,', 'total rental bikes is 5870,', 'total rental bikes is 5217,', 'total rental bikes is 7424,', 'total rental bikes is 1360,', 'total rental bikes is 7733,', 'total rental bikes is 7720,', 'total rental bikes is 5267,', 'total rental bikes is 4708,', 'total rental bikes is 6569,', 'total rental bikes is 6118,', 'total rental bikes is 1098,', 'total rental bikes is 1749,', 'total rental bikes is 7328,', 'total rental bikes is 1495,', 'total rental bikes is 1406,', 'total rental bikes is 6234,', 'total rental bikes is 4881,', 'total rental bikes is 3958,', 'total rental bikes is 4459,', 'total rental bikes is 1406,', 'total rental bikes is 4338,', 'total rental bikes is 1471,', 'total rental bikes is 7702,', 'total rental bikes is 4833,', 'total rental bikes is 3785,', 'total rental bikes is 6998,', 'total rental bikes is 7058,', 'total rental bikes is 7639,', 'total rental bikes is 4342,', 'total rental bikes is 7436,', 'total rental bikes is 5345,', 'total rental bikes is 5026,', 'total rental bikes is 6779,', 'total rental bikes is 4790,', 'total rental bikes is 6824,', 'total rental bikes is 6830,', 'total rental bikes is 6296,', 'total rental bikes is 4189,', 'total rental bikes is 7333,', 'total rental bikes is 7804,', 'total rental bikes is 5459,', 'total rental bikes is 6299,', 'total rental bikes is 920,', 'total rental bikes is 705,', 'total rental bikes is 1951,', 'total rental bikes is 7415,']\n"
     ]
    },
    {
     "name": "stderr",
     "output_type": "stream",
     "text": [
      " 99%|█████████▉| 989/1000 [07:10<00:07,  1.57it/s]"
     ]
    },
    {
     "name": "stdout",
     "output_type": "stream",
     "text": [
      "['total rental bikes is 1538,', 'total rental bikes is 1927,', 'total rental bikes is 1815,', 'total rental bikes is 7836,', 'total rental bikes is 7804,', 'total rental bikes is 7534,', 'total rental bikes is 5146,', 'total rental bikes is 3351,', 'total rental bikes is 4639,', 'total rental bikes is 7333,', 'total rental bikes is 3204,', 'total rental bikes is 985,', 'total rental bikes is 5375,', 'total rental bikes is 7013,', 'total rental bikes is 3574,', 'total rental bikes is 6606,', 'total rental bikes is 7286,', 'total rental bikes is 4363,', 'total rental bikes is 4270,', 'total rental bikes is 4575,', 'total rental bikes is 2659,', 'total rental bikes is 5062,', 'total rental bikes is 6598,', 'total rental bikes is 4569,', 'total rental bikes is 986,', 'total rental bikes is 2659,', 'total rental bikes is 8714,', 'total rental bikes is 5634,', 'total rental bikes is 5107,', 'total rental bikes is 3214,', 'total rental bikes is 2913,', 'total rental bikes is 2455,', 'total rental bikes is 3333,', 'total rental bikes is 1471,', 'total rental bikes is 7359,', 'total rental bikes is 6778,', 'total rental bikes is 3333,', 'total rental bikes is 4549,', 'total rental bikes is 6879,', 'total rental bikes is 5305,', 'total rental bikes is 5823,', 'total rental bikes is 5035,', 'total rental bikes is 2376,', 'total rental bikes is 5409,', 'total rental bikes is 4649,', 'total rental bikes is 2302,', 'total rental bikes is 4985,', 'total rental bikes is 3663,', 'total rental bikes is 7273,', 'total rental bikes is 4803,']\n"
     ]
    },
    {
     "name": "stderr",
     "output_type": "stream",
     "text": [
      " 99%|█████████▉| 994/1000 [07:11<00:02,  2.03it/s]"
     ]
    },
    {
     "name": "stdout",
     "output_type": "stream",
     "text": [
      "['total rental bikes is 3644,', 'total rental bikes is 3141,', 'total rental bikes is 7582,', 'total rental bikes is 3907,', 'total rental bikes is 7421,', 'total rental bikes is 4154,', 'total rental bikes is 6053,', 'total rental bikes is 6624,', 'total rental bikes is 6043,', 'total rental bikes is 1872,', 'total rental bikes is 3784,', 'total rental bikes is 5740,', 'total rental bikes is 4521,', 'total rental bikes is 5847,', 'total rental bikes is 3285,', 'total rental bikes is 3129,', 'total rental bikes is 2933,', 'total rental bikes is 5312,', 'total rental bikes is 8395,', 'total rental bikes is 4362,', 'total rental bikes is 2471,', 'total rental bikes is 1865,', 'total rental bikes is 7105,', 'total rental bikes is 2046,', 'total rental bikes is 6904,', 'total rental bikes is 2376,', 'total rental bikes is 7328,', 'total rental bikes is 4575,', 'total rental bikes is 5566,', 'total rental bikes is 3071,', 'total rental bikes is 6536,', 'total rental bikes is 4586,', 'total rental bikes is 4656,', 'total rental bikes is 3570,', 'total rental bikes is 4075,', 'total rental bikes is 4744,', 'total rental bikes is 3351,', 'total rental bikes is 2947,', 'total rental bikes is 5463,', 'total rental bikes is 6883,', 'total rental bikes is 7765,', 'total rental bikes is 1812,', 'total rental bikes is 6861,', 'total rental bikes is 4451,', 'total rental bikes is 7338,', 'total rental bikes is 4748,', 'total rental bikes is 3068,', 'total rental bikes is 3830,', 'total rental bikes is 1263,', 'total rental bikes is 3644,']\n"
     ]
    },
    {
     "name": "stderr",
     "output_type": "stream",
     "text": [
      "100%|█████████▉| 996/1000 [07:13<00:02,  1.82it/s]"
     ]
    },
    {
     "name": "stdout",
     "output_type": "stream",
     "text": [
      "['total rental bikes is 4433,', 'total rental bikes is 5345,', 'total rental bikes is 1098,', 'total rental bikes is 5020,', 'total rental bikes is 6192,', 'total rental bikes is 1098,', 'total rental bikes is 5362,', 'total rental bikes is 5170,', 'total rental bikes is 7013,', 'total rental bikes is 1712,', 'total rental bikes is 1317,', 'total rental bikes is 1263,', 'total rental bikes is 4086,', 'total rental bikes is 4548,', 'total rental bikes is 4205,', 'total rental bikes is 1944,', 'total rental bikes is 627,', 'total rental bikes is 3910,', 'total rental bikes is 3322,', 'total rental bikes is 3974,', 'total rental bikes is 6436,', 'total rental bikes is 7494,', 'total rental bikes is 5345,', 'total rental bikes is 7494,', 'total rental bikes is 5729,', 'total rental bikes is 4563,', 'total rental bikes is 5305,', 'total rental bikes is 4322,', 'total rental bikes is 5202,', 'total rental bikes is 7129,', 'total rental bikes is 6861,', 'total rental bikes is 5558,', 'total rental bikes is 2395,', 'total rental bikes is 4773,', 'total rental bikes is 3333,', 'total rental bikes is 1817,', 'total rental bikes is 7112,', 'total rental bikes is 3727,', 'total rental bikes is 5087,', 'total rental bikes is 6779,', 'total rental bikes is 6436,', 'total rental bikes is 1421,', 'total rental bikes is 2432,', 'total rental bikes is 4332,', 'total rental bikes is 5499,', 'total rental bikes is 2918,', 'total rental bikes is 3456,', 'total rental bikes is 4169,', 'total rental bikes is 4579,', 'total rental bikes is 4401,']\n"
     ]
    },
    {
     "name": "stderr",
     "output_type": "stream",
     "text": [
      "100%|█████████▉| 997/1000 [07:14<00:02,  1.48it/s]"
     ]
    },
    {
     "name": "stdout",
     "output_type": "stream",
     "text": [
      "['total rental bikes is 1865,', 'total rental bikes is 4748,', 'total rental bikes is 7429,', 'total rental bikes is 3649,', 'total rental bikes is 4694,', 'total rental bikes is 1623,', 'total rental bikes is 7836,', 'total rental bikes is 7001,', 'total rental bikes is 5740,', 'total rental bikes is 3767,', 'total rental bikes is 441,', 'total rental bikes is 2843,', 'total rental bikes is 3644,', 'total rental bikes is 2402,', 'total rental bikes is 3958,', 'total rental bikes is 7375,', 'total rental bikes is 1510,', 'total rental bikes is 4094,', 'total rental bikes is 4608,', 'total rental bikes is 4401,', 'total rental bikes is 3053,', 'total rental bikes is 2311,', 'total rental bikes is 2689,', 'total rental bikes is 3956,', 'total rental bikes is 6891,', 'total rental bikes is 6235,', 'total rental bikes is 2416,', 'total rental bikes is 3285,', 'total rental bikes is 6398,', 'total rental bikes is 4401,', 'total rental bikes is 3068,', 'total rental bikes is 3544,', 'total rental bikes is 2999,', 'total rental bikes is 1416,', 'total rental bikes is 7525,', 'total rental bikes is 2046,', 'total rental bikes is 6207,', 'total rental bikes is 5138,', 'total rental bikes is 6660,', 'total rental bikes is 1996,', 'total rental bikes is 4592,', 'total rental bikes is 3974,', 'total rental bikes is 2177,', 'total rental bikes is 1248,', 'total rental bikes is 4274,', 'total rental bikes is 2209,', 'total rental bikes is 7804,', 'total rental bikes is 4917,', 'total rental bikes is 3624,', 'total rental bikes is 6917,']\n"
     ]
    },
    {
     "name": "stderr",
     "output_type": "stream",
     "text": [
      "100%|█████████▉| 999/1000 [07:16<00:00,  1.44it/s]"
     ]
    },
    {
     "name": "stdout",
     "output_type": "stream",
     "text": [
      "['total rental bikes is 6879,', 'total rental bikes is 7112,', 'total rental bikes is 5319,', 'total rental bikes is 5169,', 'total rental bikes is 6606,', 'total rental bikes is 7264,', 'total rental bikes is 2739,', 'total rental bikes is 3310,', 'total rental bikes is 7109,', 'total rental bikes is 3910,', 'total rental bikes is 1977,', 'total rental bikes is 1812,', 'total rental bikes is 4549,', 'total rental bikes is 4456,', 'total rental bikes is 1526,', 'total rental bikes is 7767,', 'total rental bikes is 6855,', 'total rental bikes is 4492,', 'total rental bikes is 2277,', 'total rental bikes is 1162,', 'total rental bikes is 5119,', 'total rental bikes is 4966,', 'total rental bikes is 4458,', 'total rental bikes is 3944,', 'total rental bikes is 6871,', 'total rental bikes is 2077,', 'total rental bikes is 5336,', 'total rental bikes is 4881,', 'total rental bikes is 4648,', 'total rental bikes is 3894,', 'total rental bikes is 1917,', 'total rental bikes is 6691,', 'total rental bikes is 4086,', 'total rental bikes is 1834,', 'total rental bikes is 4866,', 'total rental bikes is 7403,', 'total rental bikes is 5020,', 'total rental bikes is 7148,', 'total rental bikes is 4569,', 'total rental bikes is 2431,', 'total rental bikes is 4748,', 'total rental bikes is 3982,', 'total rental bikes is 6299,', 'total rental bikes is 4661,', 'total rental bikes is 6598,', 'total rental bikes is 2832,', 'total rental bikes is 5459,', 'total rental bikes is 7058,', 'total rental bikes is 3785,', 'total rental bikes is 4318,']\n",
      "['total rental bikes is 7264,', 'total rental bikes is 6093,', 'total rental bikes is 7733,', 'total rental bikes is 4492,', 'total rental bikes is 3846,', 'total rental bikes is 1951,', 'total rental bikes is 7338,', 'total rental bikes is 6093,', 'total rental bikes is 4679,', 'total rental bikes is 4456,', 'total rental bikes is 5099,', 'total rental bikes is 1969,', 'total rental bikes is 3129,', 'total rental bikes is 6140,', 'total rental bikes is 3409,', 'total rental bikes is 3872,', 'total rental bikes is 7290,', 'total rental bikes is 3126,', 'total rental bikes is 1000,', 'total rental bikes is 4744,', 'total rental bikes is 5936,', 'total rental bikes is 6565,', 'total rental bikes is 4094,', 'total rental bikes is 4541,', 'total rental bikes is 2192,', 'total rental bikes is 6233,', 'total rental bikes is 5582,', 'total rental bikes is 1815,', 'total rental bikes is 6572,', 'total rental bikes is 6043,', 'total rental bikes is 4758,', 'total rental bikes is 5312,', 'total rental bikes is 5375,', 'total rental bikes is 1872,', 'total rental bikes is 1927,', 'total rental bikes is 7410,', 'total rental bikes is 6889,', 'total rental bikes is 6883,', 'total rental bikes is 1872,', 'total rental bikes is 7509,', 'total rental bikes is 2566,', 'total rental bikes is 5633,', 'total rental bikes is 2703,', 'total rental bikes is 7592,', 'total rental bikes is 7460,', 'total rental bikes is 7429,', 'total rental bikes is 2792,', 'total rental bikes is 3190,', 'total rental bikes is 3784,', 'total rental bikes is 7410,']\n"
     ]
    },
    {
     "name": "stderr",
     "output_type": "stream",
     "text": [
      "1004it [07:19,  2.28it/s]                         \n"
     ]
    }
   ],
   "source": [
    "samples = great.sample(n_samples, k=50, max_length=200)"
   ]
  },
  {
   "cell_type": "code",
   "execution_count": 13,
   "id": "105aa225",
   "metadata": {},
   "outputs": [
    {
     "data": {
      "text/html": [
       "<div>\n",
       "<style scoped>\n",
       "    .dataframe tbody tr th:only-of-type {\n",
       "        vertical-align: middle;\n",
       "    }\n",
       "\n",
       "    .dataframe tbody tr th {\n",
       "        vertical-align: top;\n",
       "    }\n",
       "\n",
       "    .dataframe thead th {\n",
       "        text-align: right;\n",
       "    }\n",
       "</style>\n",
       "<table border=\"1\" class=\"dataframe\">\n",
       "  <thead>\n",
       "    <tr style=\"text-align: right;\">\n",
       "      <th></th>\n",
       "      <th>index</th>\n",
       "      <th>Date</th>\n",
       "      <th>season</th>\n",
       "      <th>year</th>\n",
       "      <th>month</th>\n",
       "      <th>holiday</th>\n",
       "      <th>weekday</th>\n",
       "      <th>workingday</th>\n",
       "      <th>weathersit</th>\n",
       "      <th>temperature</th>\n",
       "      <th>feeling temperature</th>\n",
       "      <th>humidity</th>\n",
       "      <th>windspeed</th>\n",
       "      <th>casual users</th>\n",
       "      <th>registered users</th>\n",
       "      <th>total rental bikes</th>\n",
       "    </tr>\n",
       "  </thead>\n",
       "  <tbody>\n",
       "    <tr>\n",
       "      <th>0</th>\n",
       "      <td>513.0</td>\n",
       "      <td>10/1/12</td>\n",
       "      <td>spring</td>\n",
       "      <td>1.0</td>\n",
       "      <td>1.0</td>\n",
       "      <td>no</td>\n",
       "      <td>1.0</td>\n",
       "      <td>1.0</td>\n",
       "      <td>clear</td>\n",
       "      <td>0.476667</td>\n",
       "      <td>0.477500</td>\n",
       "      <td>0.692500</td>\n",
       "      <td>0.134417</td>\n",
       "      <td>1165.0</td>\n",
       "      <td>3275.0</td>\n",
       "      <td>4326.0</td>\n",
       "    </tr>\n",
       "    <tr>\n",
       "      <th>1</th>\n",
       "      <td>683.0</td>\n",
       "      <td>8/7/11</td>\n",
       "      <td>winter</td>\n",
       "      <td>0.0</td>\n",
       "      <td>7.0</td>\n",
       "      <td>no</td>\n",
       "      <td>1.0</td>\n",
       "      <td>1.0</td>\n",
       "      <td>few clouds</td>\n",
       "      <td>0.444500</td>\n",
       "      <td>0.455833</td>\n",
       "      <td>0.752500</td>\n",
       "      <td>0.154542</td>\n",
       "      <td>1397.0</td>\n",
       "      <td>1639.0</td>\n",
       "      <td>1951.0</td>\n",
       "    </tr>\n",
       "    <tr>\n",
       "      <th>2</th>\n",
       "      <td>6.0</td>\n",
       "      <td>27/3/11</td>\n",
       "      <td>winter</td>\n",
       "      <td>0.0</td>\n",
       "      <td>3.0</td>\n",
       "      <td>no</td>\n",
       "      <td>5.0</td>\n",
       "      <td>1.0</td>\n",
       "      <td>few clouds</td>\n",
       "      <td>0.487500</td>\n",
       "      <td>0.598033</td>\n",
       "      <td>0.657729</td>\n",
       "      <td>0.114500</td>\n",
       "      <td>922.0</td>\n",
       "      <td>3799.0</td>\n",
       "      <td>6457.0</td>\n",
       "    </tr>\n",
       "    <tr>\n",
       "      <th>3</th>\n",
       "      <td>68.0</td>\n",
       "      <td>9/1/11</td>\n",
       "      <td>summer</td>\n",
       "      <td>1.0</td>\n",
       "      <td>5.0</td>\n",
       "      <td>no</td>\n",
       "      <td>6.0</td>\n",
       "      <td>1.0</td>\n",
       "      <td>few clouds</td>\n",
       "      <td>0.417333</td>\n",
       "      <td>0.410845</td>\n",
       "      <td>0.848333</td>\n",
       "      <td>0.267083</td>\n",
       "      <td>494.0</td>\n",
       "      <td>3221.0</td>\n",
       "      <td>7733.0</td>\n",
       "    </tr>\n",
       "    <tr>\n",
       "      <th>4</th>\n",
       "      <td>74.0</td>\n",
       "      <td>2/3/12</td>\n",
       "      <td>winter</td>\n",
       "      <td>1.0</td>\n",
       "      <td>3.0</td>\n",
       "      <td>no</td>\n",
       "      <td>4.0</td>\n",
       "      <td>1.0</td>\n",
       "      <td>few clouds</td>\n",
       "      <td>0.542500</td>\n",
       "      <td>0.542500</td>\n",
       "      <td>0.583333</td>\n",
       "      <td>0.129083</td>\n",
       "      <td>1363.0</td>\n",
       "      <td>746.0</td>\n",
       "      <td>6864.0</td>\n",
       "    </tr>\n",
       "  </tbody>\n",
       "</table>\n",
       "</div>"
      ],
      "text/plain": [
       "   index     Date  season  year  month holiday  weekday  workingday  \\\n",
       "0  513.0  10/1/12  spring   1.0    1.0      no      1.0         1.0   \n",
       "1  683.0   8/7/11  winter   0.0    7.0      no      1.0         1.0   \n",
       "2    6.0  27/3/11  winter   0.0    3.0      no      5.0         1.0   \n",
       "3   68.0   9/1/11  summer   1.0    5.0      no      6.0         1.0   \n",
       "4   74.0   2/3/12  winter   1.0    3.0      no      4.0         1.0   \n",
       "\n",
       "   weathersit  temperature  feeling temperature  humidity  windspeed  \\\n",
       "0       clear     0.476667             0.477500  0.692500   0.134417   \n",
       "1  few clouds     0.444500             0.455833  0.752500   0.154542   \n",
       "2  few clouds     0.487500             0.598033  0.657729   0.114500   \n",
       "3  few clouds     0.417333             0.410845  0.848333   0.267083   \n",
       "4  few clouds     0.542500             0.542500  0.583333   0.129083   \n",
       "\n",
       "   casual users  registered users  total rental bikes  \n",
       "0        1165.0            3275.0              4326.0  \n",
       "1        1397.0            1639.0              1951.0  \n",
       "2         922.0            3799.0              6457.0  \n",
       "3         494.0            3221.0              7733.0  \n",
       "4        1363.0             746.0              6864.0  "
      ]
     },
     "execution_count": 13,
     "metadata": {},
     "output_type": "execute_result"
    }
   ],
   "source": [
    "samples.head()"
   ]
  },
  {
   "cell_type": "code",
   "execution_count": 14,
   "id": "c6f534d4",
   "metadata": {},
   "outputs": [],
   "source": [
    "samples.to_csv(\"C:/Users/Windows 11/Desktop/Dissertation/Codes/sample_data/Social Science/bike_samples.csv\",index=False)"
   ]
  },
  {
   "cell_type": "markdown",
   "id": "70545fac",
   "metadata": {},
   "source": [
    "## Plot Data"
   ]
  },
  {
   "cell_type": "code",
   "execution_count": 25,
   "id": "ec9e0767",
   "metadata": {},
   "outputs": [
    {
     "data": {
      "text/html": [
       "<div>\n",
       "<style scoped>\n",
       "    .dataframe tbody tr th:only-of-type {\n",
       "        vertical-align: middle;\n",
       "    }\n",
       "\n",
       "    .dataframe tbody tr th {\n",
       "        vertical-align: top;\n",
       "    }\n",
       "\n",
       "    .dataframe thead th {\n",
       "        text-align: right;\n",
       "    }\n",
       "</style>\n",
       "<table border=\"1\" class=\"dataframe\">\n",
       "  <thead>\n",
       "    <tr style=\"text-align: right;\">\n",
       "      <th></th>\n",
       "      <th>Age</th>\n",
       "      <th>FrequentFlyer</th>\n",
       "      <th>AnnualIncomeClass</th>\n",
       "      <th>ServicesOpted</th>\n",
       "      <th>AccountSyncedToSocialMedia</th>\n",
       "      <th>BookedHotelOrNot</th>\n",
       "      <th>Target</th>\n",
       "    </tr>\n",
       "  </thead>\n",
       "  <tbody>\n",
       "    <tr>\n",
       "      <th>670</th>\n",
       "      <td>30</td>\n",
       "      <td>No</td>\n",
       "      <td>Low Income</td>\n",
       "      <td>1</td>\n",
       "      <td>No</td>\n",
       "      <td>Yes</td>\n",
       "      <td>0</td>\n",
       "    </tr>\n",
       "    <tr>\n",
       "      <th>211</th>\n",
       "      <td>29</td>\n",
       "      <td>No</td>\n",
       "      <td>Low Income</td>\n",
       "      <td>2</td>\n",
       "      <td>No</td>\n",
       "      <td>No</td>\n",
       "      <td>0</td>\n",
       "    </tr>\n",
       "    <tr>\n",
       "      <th>821</th>\n",
       "      <td>37</td>\n",
       "      <td>Yes</td>\n",
       "      <td>High Income</td>\n",
       "      <td>1</td>\n",
       "      <td>No</td>\n",
       "      <td>No</td>\n",
       "      <td>0</td>\n",
       "    </tr>\n",
       "    <tr>\n",
       "      <th>410</th>\n",
       "      <td>30</td>\n",
       "      <td>No</td>\n",
       "      <td>Middle Income</td>\n",
       "      <td>3</td>\n",
       "      <td>No</td>\n",
       "      <td>Yes</td>\n",
       "      <td>0</td>\n",
       "    </tr>\n",
       "    <tr>\n",
       "      <th>255</th>\n",
       "      <td>37</td>\n",
       "      <td>No</td>\n",
       "      <td>Middle Income</td>\n",
       "      <td>6</td>\n",
       "      <td>No</td>\n",
       "      <td>Yes</td>\n",
       "      <td>0</td>\n",
       "    </tr>\n",
       "  </tbody>\n",
       "</table>\n",
       "</div>"
      ],
      "text/plain": [
       "     Age FrequentFlyer AnnualIncomeClass  ServicesOpted  \\\n",
       "670   30            No        Low Income              1   \n",
       "211   29            No        Low Income              2   \n",
       "821   37           Yes       High Income              1   \n",
       "410   30            No     Middle Income              3   \n",
       "255   37            No     Middle Income              6   \n",
       "\n",
       "    AccountSyncedToSocialMedia BookedHotelOrNot  Target  \n",
       "670                         No              Yes       0  \n",
       "211                         No               No       0  \n",
       "821                         No               No       0  \n",
       "410                         No              Yes       0  \n",
       "255                         No              Yes       0  "
      ]
     },
     "execution_count": 25,
     "metadata": {},
     "output_type": "execute_result"
    },
    {
     "data": {
      "image/png": "[encoded data removed]",
      "text/plain": [
       "<Figure size 1200x400 with 2 Axes>"
      ]
     },
     "metadata": {},
     "output_type": "display_data"
    }
   ],
   "source": [
    "fig, ax = plt.subplots(1, 2, figsize=(12, 4))\n",
    "true_samples = data.sample(n = 100)\n",
    "true_samples.head()"
   ]
  },
  {
   "cell_type": "markdown",
   "id": "e3e051cc",
   "metadata": {},
   "source": [
    "Original Data"
   ]
  },
  {
   "cell_type": "code",
   "execution_count": 27,
   "id": "e70c4dfd",
   "metadata": {},
   "outputs": [
    {
     "data": {
      "text/plain": [
       "<matplotlib.collections.PathCollection at 0x7f4176431b50>"
      ]
     },
     "execution_count": 27,
     "metadata": {},
     "output_type": "execute_result"
    },
    {
     "data": {
      "image/png": "[encoded data removed]",
      "text/plain": [
       "<Figure size 1200x400 with 2 Axes>"
      ]
     },
     "metadata": {},
     "output_type": "display_data"
    }
   ],
   "source": [
    "fig, ax = plt.subplots(1, 2, figsize=(12, 4))\n",
    "true_samples = data.sample(n = 200)\n",
    "ax[0].scatter(true_samples[\"Age\"], true_samples[\"FrequentFlyer\"], c=true_samples[\"Target\"])\n",
    "ax[1].scatter(true_samples[\"AnnualIncomeClass\"], true_samples[\"ServicesOpted\"], c=true_samples[\"Target\"])"
   ]
  },
  {
   "cell_type": "markdown",
   "id": "f56b0e03",
   "metadata": {},
   "source": [
    "Generated samples"
   ]
  },
  {
   "cell_type": "code",
   "execution_count": 28,
   "id": "66d7efcc",
   "metadata": {},
   "outputs": [],
   "source": [
    "samples = pd.read_csv(\"C:/Users/Windows 11/Desktop/Dissertation/Codes/sample_data/travel_samples.csv\")"
   ]
  },
  {
   "cell_type": "code",
   "execution_count": 29,
   "id": "96d782e2",
   "metadata": {},
   "outputs": [
    {
     "data": {
      "text/plain": [
       "<matplotlib.collections.PathCollection at 0x7f4176371af0>"
      ]
     },
     "execution_count": 29,
     "metadata": {},
     "output_type": "execute_result"
    },
    {
     "data": {
      "image/png": "[encoded data removed]",
      "text/plain": [
       "<Figure size 1200x400 with 2 Axes>"
      ]
     },
     "metadata": {},
     "output_type": "display_data"
    }
   ],
   "source": [
    "fig, ax = plt.subplots(1, 2, figsize=(12, 4))\n",
    "\n",
    "ax[0].scatter(samples[\"Age\"], samples[\"FrequentFlyer\"], c=samples[\"Target\"])\n",
    "ax[0].set_ylim(1.8, 4.5)\n",
    "ax[1].scatter(samples[\"AnnualIncomeClass\"], samples[\"ServicesOpted\"], c=samples[\"Target\"].astype(\"int\"))\n"
   ]
  },
  {
   "cell_type": "code",
   "execution_count": null,
   "id": "69639c1e",
   "metadata": {},
   "outputs": [],
   "source": []
  },
  {
   "cell_type": "code",
   "execution_count": null,
   "id": "20708e2c",
   "metadata": {},
   "outputs": [],
   "source": []
  }
 ],
 "metadata": {
  "kernelspec": {
   "display_name": "Python 3 (ipykernel)",
   "language": "python",
   "name": "python3"
  },
  "language_info": {
   "codemirror_mode": {
    "name": "ipython",
    "version": 3
   },
   "file_extension": ".py",
   "mimetype": "text/x-python",
   "name": "python",
   "nbconvert_exporter": "python",
   "pygments_lexer": "ipython3",
   "version": "3.11.7"
  }
 },
 "nbformat": 4,
 "nbformat_minor": 5
}
