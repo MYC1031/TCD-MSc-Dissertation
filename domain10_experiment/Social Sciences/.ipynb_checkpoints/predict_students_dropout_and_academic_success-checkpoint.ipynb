{
 "cells": [
  {
   "cell_type": "markdown",
   "id": "245418c1",
   "metadata": {},
   "source": [
    "## GReaT Example with Iris Dataset"
   ]
  },
  {
   "cell_type": "code",
   "execution_count": 1,
   "id": "ab1f4da7-4b93-4055-8d56-6030c7498999",
   "metadata": {},
   "outputs": [],
   "source": [
    "# Execute only once!\n",
    "import os\n",
    "import sys\n",
    "sys.path.append(\"..\")\n",
    "os.chdir(\"..\")\n",
    "\n",
    "os.environ[\"CUDA_VISIBLE_DEVICES\"]=\"1\""
   ]
  },
  {
   "cell_type": "code",
   "execution_count": 2,
   "id": "b5009b62",
   "metadata": {},
   "outputs": [],
   "source": [
    "import numpy as np\n",
    "import pandas as pd\n",
    "import logging"
   ]
  },
  {
   "cell_type": "code",
   "execution_count": 3,
   "id": "71836c07-2530-44af-9b4b-cf72aff34426",
   "metadata": {},
   "outputs": [
    {
     "name": "stderr",
     "output_type": "stream",
     "text": [
      "/data/guoquanjiang/envs/begreat/lib/python3.9/site-packages/tqdm/auto.py:21: TqdmWarning: IProgress not found. Please update jupyter and ipywidgets. See https://ipywidgets.readthedocs.io/en/stable/user_install.html\n",
      "  from .autonotebook import tqdm as notebook_tqdm\n"
     ]
    }
   ],
   "source": [
    "from examples.utils import set_logging_level\n",
    "from be_great import GReaT"
   ]
  },
  {
   "cell_type": "code",
   "execution_count": 4,
   "id": "00695066",
   "metadata": {},
   "outputs": [],
   "source": [
    "import matplotlib.pyplot as plt"
   ]
  },
  {
   "cell_type": "code",
   "execution_count": 5,
   "id": "39088828",
   "metadata": {},
   "outputs": [
    {
     "data": {
      "text/html": [
       "<div>\n",
       "<style scoped>\n",
       "    .dataframe tbody tr th:only-of-type {\n",
       "        vertical-align: middle;\n",
       "    }\n",
       "\n",
       "    .dataframe tbody tr th {\n",
       "        vertical-align: top;\n",
       "    }\n",
       "\n",
       "    .dataframe thead th {\n",
       "        text-align: right;\n",
       "    }\n",
       "</style>\n",
       "<table border=\"1\" class=\"dataframe\">\n",
       "  <thead>\n",
       "    <tr style=\"text-align: right;\">\n",
       "      <th></th>\n",
       "      <th>Marital status</th>\n",
       "      <th>Application mode</th>\n",
       "      <th>Application order</th>\n",
       "      <th>Course</th>\n",
       "      <th>Daytime/evening attendance\\t</th>\n",
       "      <th>Previous qualification</th>\n",
       "      <th>Previous qualification (grade)</th>\n",
       "      <th>Nacionality</th>\n",
       "      <th>Mother's qualification</th>\n",
       "      <th>Father's qualification</th>\n",
       "      <th>...</th>\n",
       "      <th>Curricular units 2nd sem (credited)</th>\n",
       "      <th>Curricular units 2nd sem (enrolled)</th>\n",
       "      <th>Curricular units 2nd sem (evaluations)</th>\n",
       "      <th>Curricular units 2nd sem (approved)</th>\n",
       "      <th>Curricular units 2nd sem (grade)</th>\n",
       "      <th>Curricular units 2nd sem (without evaluations)</th>\n",
       "      <th>Unemployment rate</th>\n",
       "      <th>Inflation rate</th>\n",
       "      <th>GDP</th>\n",
       "      <th>Target</th>\n",
       "    </tr>\n",
       "  </thead>\n",
       "  <tbody>\n",
       "    <tr>\n",
       "      <th>0</th>\n",
       "      <td>1</td>\n",
       "      <td>17</td>\n",
       "      <td>5</td>\n",
       "      <td>171</td>\n",
       "      <td>1</td>\n",
       "      <td>1</td>\n",
       "      <td>122.0</td>\n",
       "      <td>1</td>\n",
       "      <td>19</td>\n",
       "      <td>12</td>\n",
       "      <td>...</td>\n",
       "      <td>0</td>\n",
       "      <td>0</td>\n",
       "      <td>0</td>\n",
       "      <td>0</td>\n",
       "      <td>0.000000</td>\n",
       "      <td>0</td>\n",
       "      <td>10.8</td>\n",
       "      <td>1.4</td>\n",
       "      <td>1.74</td>\n",
       "      <td>Dropout</td>\n",
       "    </tr>\n",
       "    <tr>\n",
       "      <th>1</th>\n",
       "      <td>1</td>\n",
       "      <td>15</td>\n",
       "      <td>1</td>\n",
       "      <td>9254</td>\n",
       "      <td>1</td>\n",
       "      <td>1</td>\n",
       "      <td>160.0</td>\n",
       "      <td>1</td>\n",
       "      <td>1</td>\n",
       "      <td>3</td>\n",
       "      <td>...</td>\n",
       "      <td>0</td>\n",
       "      <td>6</td>\n",
       "      <td>6</td>\n",
       "      <td>6</td>\n",
       "      <td>13.666667</td>\n",
       "      <td>0</td>\n",
       "      <td>13.9</td>\n",
       "      <td>-0.3</td>\n",
       "      <td>0.79</td>\n",
       "      <td>Graduate</td>\n",
       "    </tr>\n",
       "    <tr>\n",
       "      <th>2</th>\n",
       "      <td>1</td>\n",
       "      <td>1</td>\n",
       "      <td>5</td>\n",
       "      <td>9070</td>\n",
       "      <td>1</td>\n",
       "      <td>1</td>\n",
       "      <td>122.0</td>\n",
       "      <td>1</td>\n",
       "      <td>37</td>\n",
       "      <td>37</td>\n",
       "      <td>...</td>\n",
       "      <td>0</td>\n",
       "      <td>6</td>\n",
       "      <td>0</td>\n",
       "      <td>0</td>\n",
       "      <td>0.000000</td>\n",
       "      <td>0</td>\n",
       "      <td>10.8</td>\n",
       "      <td>1.4</td>\n",
       "      <td>1.74</td>\n",
       "      <td>Dropout</td>\n",
       "    </tr>\n",
       "    <tr>\n",
       "      <th>3</th>\n",
       "      <td>1</td>\n",
       "      <td>17</td>\n",
       "      <td>2</td>\n",
       "      <td>9773</td>\n",
       "      <td>1</td>\n",
       "      <td>1</td>\n",
       "      <td>122.0</td>\n",
       "      <td>1</td>\n",
       "      <td>38</td>\n",
       "      <td>37</td>\n",
       "      <td>...</td>\n",
       "      <td>0</td>\n",
       "      <td>6</td>\n",
       "      <td>10</td>\n",
       "      <td>5</td>\n",
       "      <td>12.400000</td>\n",
       "      <td>0</td>\n",
       "      <td>9.4</td>\n",
       "      <td>-0.8</td>\n",
       "      <td>-3.12</td>\n",
       "      <td>Graduate</td>\n",
       "    </tr>\n",
       "    <tr>\n",
       "      <th>4</th>\n",
       "      <td>2</td>\n",
       "      <td>39</td>\n",
       "      <td>1</td>\n",
       "      <td>8014</td>\n",
       "      <td>0</td>\n",
       "      <td>1</td>\n",
       "      <td>100.0</td>\n",
       "      <td>1</td>\n",
       "      <td>37</td>\n",
       "      <td>38</td>\n",
       "      <td>...</td>\n",
       "      <td>0</td>\n",
       "      <td>6</td>\n",
       "      <td>6</td>\n",
       "      <td>6</td>\n",
       "      <td>13.000000</td>\n",
       "      <td>0</td>\n",
       "      <td>13.9</td>\n",
       "      <td>-0.3</td>\n",
       "      <td>0.79</td>\n",
       "      <td>Graduate</td>\n",
       "    </tr>\n",
       "  </tbody>\n",
       "</table>\n",
       "<p>5 rows × 37 columns</p>\n",
       "</div>"
      ],
      "text/plain": [
       "   Marital status  Application mode  Application order  Course  \\\n",
       "0               1                17                  5     171   \n",
       "1               1                15                  1    9254   \n",
       "2               1                 1                  5    9070   \n",
       "3               1                17                  2    9773   \n",
       "4               2                39                  1    8014   \n",
       "\n",
       "   Daytime/evening attendance\\t  Previous qualification  \\\n",
       "0                             1                       1   \n",
       "1                             1                       1   \n",
       "2                             1                       1   \n",
       "3                             1                       1   \n",
       "4                             0                       1   \n",
       "\n",
       "   Previous qualification (grade)  Nacionality  Mother's qualification  \\\n",
       "0                           122.0            1                      19   \n",
       "1                           160.0            1                       1   \n",
       "2                           122.0            1                      37   \n",
       "3                           122.0            1                      38   \n",
       "4                           100.0            1                      37   \n",
       "\n",
       "   Father's qualification  ...  Curricular units 2nd sem (credited)  \\\n",
       "0                      12  ...                                    0   \n",
       "1                       3  ...                                    0   \n",
       "2                      37  ...                                    0   \n",
       "3                      37  ...                                    0   \n",
       "4                      38  ...                                    0   \n",
       "\n",
       "   Curricular units 2nd sem (enrolled)  \\\n",
       "0                                    0   \n",
       "1                                    6   \n",
       "2                                    6   \n",
       "3                                    6   \n",
       "4                                    6   \n",
       "\n",
       "   Curricular units 2nd sem (evaluations)  \\\n",
       "0                                       0   \n",
       "1                                       6   \n",
       "2                                       0   \n",
       "3                                      10   \n",
       "4                                       6   \n",
       "\n",
       "   Curricular units 2nd sem (approved)  Curricular units 2nd sem (grade)  \\\n",
       "0                                    0                          0.000000   \n",
       "1                                    6                         13.666667   \n",
       "2                                    0                          0.000000   \n",
       "3                                    5                         12.400000   \n",
       "4                                    6                         13.000000   \n",
       "\n",
       "   Curricular units 2nd sem (without evaluations)  Unemployment rate  \\\n",
       "0                                               0               10.8   \n",
       "1                                               0               13.9   \n",
       "2                                               0               10.8   \n",
       "3                                               0                9.4   \n",
       "4                                               0               13.9   \n",
       "\n",
       "   Inflation rate   GDP    Target  \n",
       "0             1.4  1.74   Dropout  \n",
       "1            -0.3  0.79  Graduate  \n",
       "2             1.4  1.74   Dropout  \n",
       "3            -0.8 -3.12  Graduate  \n",
       "4            -0.3  0.79  Graduate  \n",
       "\n",
       "[5 rows x 37 columns]"
      ]
     },
     "execution_count": 5,
     "metadata": {},
     "output_type": "execute_result"
    }
   ],
   "source": [
    "logger = set_logging_level(logging.INFO)\n",
    "data = pd.read_csv('C:/Users/Windows 11/Desktop/Dissertation/Codes/Data/Social Sciences/predict_students_dropout_and_academic_success.csv')\n",
    "data.head()"
   ]
  },
  {
   "cell_type": "markdown",
   "id": "5911b9b1",
   "metadata": {},
   "source": [
    "### Create GReaT Model"
   ]
  },
  {
   "cell_type": "code",
   "execution_count": 6,
   "id": "1a316696",
   "metadata": {},
   "outputs": [],
   "source": [
    "# great = GReaT(\"/data/guoquanjiang/llm_ner/llama3-8b/LLM-Research/Meta-Llama-3-8B\",                  # Name of the large language model used (see HuggingFace for more options)\n",
    "#               epochs=10,                   # Number of epochs to train\n",
    "#               save_steps=2000,               # Save model weights every x steps\n",
    "#               logging_steps=500,             # Log the loss and learning rate every x steps\n",
    "#               experiment_dir=\"trainer_travel\", # Name of the directory where all intermediate steps are saved\n",
    "#               batch_size=16,                 # Batch Size\n",
    "#               #lr_scheduler_type=\"constant\", # Specify the learning rate scheduler \n",
    "#               #learning_rate=5e-5            # Set the inital learning rate\n",
    "#               efficient_finetuning=\"lora\"\n",
    "#              )\n",
    "great = GReaT(\"C:/Users/Windows 11/Desktop/Dissertation/Codes/models/iiBcai/gpt2\",                  # Name of the large language model used (see HuggingFace for more options)\n",
    "              epochs=10,                   # Number of epochs to train\n",
    "              save_steps=2000,               # Save model weights every x steps\n",
    "              logging_steps=100,             # Log the loss and learning rate every x steps\n",
    "              experiment_dir=\"trainer_students_drop\", # Name of the directory where all intermediate steps are saved\n",
    "              batch_size=32                # Batch Size\n",
    "              #lr_scheduler_type=\"constant\", # Specify the learning rate scheduler \n",
    "              #learning_rate=5e-5            # Set the inital learning rate\n",
    "            #   efficient_finetuning=\"lora\"\n",
    "             )"
   ]
  },
  {
   "cell_type": "markdown",
   "id": "3c7b173f",
   "metadata": {},
   "source": [
    "### Start Training"
   ]
  },
  {
   "cell_type": "code",
   "execution_count": 8,
   "id": "200e000c",
   "metadata": {
    "scrolled": true
   },
   "outputs": [
    {
     "name": "stderr",
     "output_type": "stream",
     "text": [
      "\u001b[39;20m2024-06-28 22:09:43,139 - INFO - Convert data into HuggingFace dataset object... (great.py:172)\u001b[0m\n",
      "\u001b[39;20m2024-06-28 22:09:43,169 - INFO - Create GReaT Trainer... (great.py:177)\u001b[0m\n",
      "huggingface/tokenizers: The current process just got forked, after parallelism has already been used. Disabling parallelism to avoid deadlocks...\n",
      "To disable this warning, you can either:\n",
      "\t- Avoid using `tokenizers` before the fork if possible\n",
      "\t- Explicitly set the environment variable TOKENIZERS_PARALLELISM=(true | false)\n",
      "\u001b[39;20m2024-06-28 22:09:43,293 - INFO - Start training... (great.py:193)\u001b[0m\n"
     ]
    },
    {
     "data": {
      "text/html": [
       "\n",
       "    <div>\n",
       "      \n",
       "      <progress value='1390' max='1390' style='width:300px; height:20px; vertical-align: middle;'></progress>\n",
       "      [1390/1390 50:16, Epoch 10/10]\n",
       "    </div>\n",
       "    <table border=\"1\" class=\"dataframe\">\n",
       "  <thead>\n",
       " <tr style=\"text-align: left;\">\n",
       "      <th>Step</th>\n",
       "      <th>Training Loss</th>\n",
       "    </tr>\n",
       "  </thead>\n",
       "  <tbody>\n",
       "    <tr>\n",
       "      <td>100</td>\n",
       "      <td>0.760900</td>\n",
       "    </tr>\n",
       "    <tr>\n",
       "      <td>200</td>\n",
       "      <td>0.584800</td>\n",
       "    </tr>\n",
       "    <tr>\n",
       "      <td>300</td>\n",
       "      <td>0.554600</td>\n",
       "    </tr>\n",
       "    <tr>\n",
       "      <td>400</td>\n",
       "      <td>0.540300</td>\n",
       "    </tr>\n",
       "    <tr>\n",
       "      <td>500</td>\n",
       "      <td>0.529600</td>\n",
       "    </tr>\n",
       "    <tr>\n",
       "      <td>600</td>\n",
       "      <td>0.521900</td>\n",
       "    </tr>\n",
       "    <tr>\n",
       "      <td>700</td>\n",
       "      <td>0.512700</td>\n",
       "    </tr>\n",
       "    <tr>\n",
       "      <td>800</td>\n",
       "      <td>0.503100</td>\n",
       "    </tr>\n",
       "    <tr>\n",
       "      <td>900</td>\n",
       "      <td>0.497000</td>\n",
       "    </tr>\n",
       "    <tr>\n",
       "      <td>1000</td>\n",
       "      <td>0.493300</td>\n",
       "    </tr>\n",
       "    <tr>\n",
       "      <td>1100</td>\n",
       "      <td>0.491000</td>\n",
       "    </tr>\n",
       "    <tr>\n",
       "      <td>1200</td>\n",
       "      <td>0.488800</td>\n",
       "    </tr>\n",
       "    <tr>\n",
       "      <td>1300</td>\n",
       "      <td>0.487200</td>\n",
       "    </tr>\n",
       "  </tbody>\n",
       "</table><p>"
      ],
      "text/plain": [
       "<IPython.core.display.HTML object>"
      ]
     },
     "metadata": {},
     "output_type": "display_data"
    }
   ],
   "source": [
    "trainer = great.fit(data)"
   ]
  },
  {
   "cell_type": "code",
   "execution_count": 9,
   "id": "cfe8184d",
   "metadata": {},
   "outputs": [
    {
     "data": {
      "text/plain": [
       "{'train_runtime': 3018.9518,\n",
       " 'train_samples_per_second': 14.654,\n",
       " 'train_steps_per_second': 0.46,\n",
       " 'total_flos': 7189736048640000.0,\n",
       " 'train_loss': 0.532597062913634,\n",
       " 'epoch': 10.0,\n",
       " 'step': 1390}"
      ]
     },
     "execution_count": 9,
     "metadata": {},
     "output_type": "execute_result"
    }
   ],
   "source": [
    "loss_hist = trainer.state.log_history.copy()\n",
    "loss_hist.pop()"
   ]
  },
  {
   "cell_type": "code",
   "execution_count": 10,
   "id": "76deeb9e",
   "metadata": {},
   "outputs": [],
   "source": [
    "loss = [x[\"loss\"] for x in loss_hist]\n",
    "epochs = [x[\"epoch\"] for x in loss_hist]"
   ]
  },
  {
   "cell_type": "code",
   "execution_count": 11,
   "id": "bcd7fc6f",
   "metadata": {},
   "outputs": [
    {
     "data": {
      "text/plain": [
       "[<matplotlib.lines.Line2D at 0x7fb7559be400>]"
      ]
     },
     "execution_count": 11,
     "metadata": {},
     "output_type": "execute_result"
    },
    {
     "data": {
      "image/png": "[encoded data removed]",
      "text/plain": [
       "<Figure size 640x480 with 1 Axes>"
      ]
     },
     "metadata": {},
     "output_type": "display_data"
    }
   ],
   "source": [
    "plt.plot(epochs, loss)"
   ]
  },
  {
   "cell_type": "markdown",
   "id": "fdb05fe0",
   "metadata": {},
   "source": [
    "### Generate Samples"
   ]
  },
  {
   "cell_type": "code",
   "execution_count": 12,
   "id": "4bb298ac",
   "metadata": {},
   "outputs": [],
   "source": [
    "n_samples = 1000"
   ]
  },
  {
   "cell_type": "code",
   "execution_count": 13,
   "id": "2106b9f2",
   "metadata": {},
   "outputs": [
    {
     "name": "stderr",
     "output_type": "stream",
     "text": [
      "  0%|          | 0/1000 [00:00<?, ?it/s]"
     ]
    },
    {
     "name": "stdout",
     "output_type": "stream",
     "text": [
      "['Target is Enrolled,', 'Target is Graduate,', 'Target is Dropout,', 'Target is Graduate,', 'Target is Graduate,', 'Target is Graduate,', 'Target is Graduate,', 'Target is Dropout,', 'Target is Graduate,', 'Target is Graduate,', 'Target is Graduate,', 'Target is Dropout,', 'Target is Enrolled,', 'Target is Graduate,', 'Target is Dropout,', 'Target is Dropout,', 'Target is Dropout,', 'Target is Graduate,', 'Target is Graduate,', 'Target is Graduate,', 'Target is Enrolled,', 'Target is Dropout,', 'Target is Enrolled,', 'Target is Graduate,', 'Target is Dropout,', 'Target is Dropout,', 'Target is Enrolled,', 'Target is Graduate,', 'Target is Graduate,', 'Target is Graduate,', 'Target is Graduate,', 'Target is Graduate,', 'Target is Graduate,', 'Target is Graduate,', 'Target is Dropout,', 'Target is Graduate,', 'Target is Enrolled,', 'Target is Dropout,', 'Target is Enrolled,', 'Target is Graduate,', 'Target is Dropout,', 'Target is Graduate,', 'Target is Graduate,', 'Target is Enrolled,', 'Target is Enrolled,', 'Target is Graduate,', 'Target is Graduate,', 'Target is Dropout,', 'Target is Enrolled,', 'Target is Dropout,']\n"
     ]
    },
    {
     "name": "stderr",
     "output_type": "stream",
     "text": [
      "  2%|▏         | 19/1000 [00:09<07:49,  2.09it/s]"
     ]
    },
    {
     "name": "stdout",
     "output_type": "stream",
     "text": [
      "['Target is Graduate,', 'Target is Graduate,', 'Target is Dropout,', 'Target is Enrolled,', 'Target is Graduate,', 'Target is Graduate,', 'Target is Graduate,', 'Target is Graduate,', 'Target is Graduate,', 'Target is Graduate,', 'Target is Dropout,', 'Target is Dropout,', 'Target is Enrolled,', 'Target is Dropout,', 'Target is Dropout,', 'Target is Graduate,', 'Target is Dropout,', 'Target is Dropout,', 'Target is Graduate,', 'Target is Enrolled,', 'Target is Dropout,', 'Target is Dropout,', 'Target is Graduate,', 'Target is Graduate,', 'Target is Dropout,', 'Target is Enrolled,', 'Target is Graduate,', 'Target is Dropout,', 'Target is Dropout,', 'Target is Enrolled,', 'Target is Dropout,', 'Target is Dropout,', 'Target is Graduate,', 'Target is Graduate,', 'Target is Graduate,', 'Target is Graduate,', 'Target is Graduate,', 'Target is Enrolled,', 'Target is Graduate,', 'Target is Enrolled,', 'Target is Graduate,', 'Target is Dropout,', 'Target is Enrolled,', 'Target is Dropout,', 'Target is Graduate,', 'Target is Graduate,', 'Target is Graduate,', 'Target is Graduate,', 'Target is Graduate,', 'Target is Enrolled,']\n"
     ]
    },
    {
     "name": "stderr",
     "output_type": "stream",
     "text": [
      "  3%|▎         | 31/1000 [00:17<09:44,  1.66it/s]"
     ]
    },
    {
     "name": "stdout",
     "output_type": "stream",
     "text": [
      "['Target is Graduate,', 'Target is Dropout,', 'Target is Enrolled,', 'Target is Dropout,', 'Target is Graduate,', 'Target is Graduate,', 'Target is Graduate,', 'Target is Enrolled,', 'Target is Graduate,', 'Target is Dropout,', 'Target is Graduate,', 'Target is Enrolled,', 'Target is Dropout,', 'Target is Graduate,', 'Target is Graduate,', 'Target is Dropout,', 'Target is Graduate,', 'Target is Graduate,', 'Target is Graduate,', 'Target is Enrolled,', 'Target is Dropout,', 'Target is Graduate,', 'Target is Enrolled,', 'Target is Enrolled,', 'Target is Graduate,', 'Target is Graduate,', 'Target is Graduate,', 'Target is Graduate,', 'Target is Graduate,', 'Target is Graduate,', 'Target is Graduate,', 'Target is Graduate,', 'Target is Enrolled,', 'Target is Graduate,', 'Target is Graduate,', 'Target is Graduate,', 'Target is Dropout,', 'Target is Dropout,', 'Target is Enrolled,', 'Target is Enrolled,', 'Target is Dropout,', 'Target is Dropout,', 'Target is Dropout,', 'Target is Dropout,', 'Target is Dropout,', 'Target is Dropout,', 'Target is Dropout,', 'Target is Graduate,', 'Target is Enrolled,', 'Target is Graduate,']\n"
     ]
    },
    {
     "name": "stderr",
     "output_type": "stream",
     "text": [
      "  5%|▌         | 52/1000 [00:26<07:58,  1.98it/s]"
     ]
    },
    {
     "name": "stdout",
     "output_type": "stream",
     "text": [
      "['Target is Dropout,', 'Target is Graduate,', 'Target is Dropout,', 'Target is Graduate,', 'Target is Graduate,', 'Target is Graduate,', 'Target is Graduate,', 'Target is Graduate,', 'Target is Enrolled,', 'Target is Dropout,', 'Target is Graduate,', 'Target is Graduate,', 'Target is Dropout,', 'Target is Dropout,', 'Target is Graduate,', 'Target is Graduate,', 'Target is Dropout,', 'Target is Graduate,', 'Target is Dropout,', 'Target is Dropout,', 'Target is Dropout,', 'Target is Dropout,', 'Target is Graduate,', 'Target is Enrolled,', 'Target is Enrolled,', 'Target is Graduate,', 'Target is Graduate,', 'Target is Graduate,', 'Target is Graduate,', 'Target is Dropout,', 'Target is Graduate,', 'Target is Graduate,', 'Target is Enrolled,', 'Target is Dropout,', 'Target is Graduate,', 'Target is Dropout,', 'Target is Dropout,', 'Target is Graduate,', 'Target is Graduate,', 'Target is Graduate,', 'Target is Dropout,', 'Target is Graduate,', 'Target is Dropout,', 'Target is Graduate,', 'Target is Dropout,', 'Target is Graduate,', 'Target is Enrolled,', 'Target is Enrolled,', 'Target is Dropout,', 'Target is Graduate,']\n"
     ]
    },
    {
     "name": "stderr",
     "output_type": "stream",
     "text": [
      "  7%|▋         | 68/1000 [00:35<08:08,  1.91it/s]"
     ]
    },
    {
     "name": "stdout",
     "output_type": "stream",
     "text": [
      "['Target is Graduate,', 'Target is Graduate,', 'Target is Graduate,', 'Target is Graduate,', 'Target is Enrolled,', 'Target is Dropout,', 'Target is Dropout,', 'Target is Graduate,', 'Target is Graduate,', 'Target is Graduate,', 'Target is Dropout,', 'Target is Enrolled,', 'Target is Graduate,', 'Target is Enrolled,', 'Target is Dropout,', 'Target is Dropout,', 'Target is Graduate,', 'Target is Dropout,', 'Target is Dropout,', 'Target is Graduate,', 'Target is Enrolled,', 'Target is Graduate,', 'Target is Dropout,', 'Target is Enrolled,', 'Target is Dropout,', 'Target is Enrolled,', 'Target is Dropout,', 'Target is Graduate,', 'Target is Enrolled,', 'Target is Graduate,', 'Target is Graduate,', 'Target is Graduate,', 'Target is Graduate,', 'Target is Dropout,', 'Target is Dropout,', 'Target is Dropout,', 'Target is Graduate,', 'Target is Graduate,', 'Target is Enrolled,', 'Target is Enrolled,', 'Target is Enrolled,', 'Target is Dropout,', 'Target is Graduate,', 'Target is Dropout,', 'Target is Graduate,', 'Target is Dropout,', 'Target is Graduate,', 'Target is Graduate,', 'Target is Dropout,', 'Target is Graduate,']\n"
     ]
    },
    {
     "name": "stderr",
     "output_type": "stream",
     "text": [
      "  9%|▉         | 90/1000 [00:44<07:11,  2.11it/s]"
     ]
    },
    {
     "name": "stdout",
     "output_type": "stream",
     "text": [
      "['Target is Graduate,', 'Target is Graduate,', 'Target is Dropout,', 'Target is Graduate,', 'Target is Enrolled,', 'Target is Dropout,', 'Target is Dropout,', 'Target is Dropout,', 'Target is Graduate,', 'Target is Graduate,', 'Target is Dropout,', 'Target is Graduate,', 'Target is Graduate,', 'Target is Dropout,', 'Target is Graduate,', 'Target is Graduate,', 'Target is Dropout,', 'Target is Dropout,', 'Target is Enrolled,', 'Target is Graduate,', 'Target is Dropout,', 'Target is Dropout,', 'Target is Graduate,', 'Target is Graduate,', 'Target is Graduate,', 'Target is Graduate,', 'Target is Graduate,', 'Target is Dropout,', 'Target is Graduate,', 'Target is Enrolled,', 'Target is Graduate,', 'Target is Dropout,', 'Target is Dropout,', 'Target is Enrolled,', 'Target is Graduate,', 'Target is Graduate,', 'Target is Graduate,', 'Target is Dropout,', 'Target is Graduate,', 'Target is Enrolled,', 'Target is Graduate,', 'Target is Graduate,', 'Target is Graduate,', 'Target is Graduate,', 'Target is Dropout,', 'Target is Graduate,', 'Target is Graduate,', 'Target is Graduate,', 'Target is Graduate,', 'Target is Dropout,']\n"
     ]
    },
    {
     "name": "stderr",
     "output_type": "stream",
     "text": [
      " 11%|█▏        | 113/1000 [00:53<06:31,  2.27it/s]"
     ]
    },
    {
     "name": "stdout",
     "output_type": "stream",
     "text": [
      "['Target is Enrolled,', 'Target is Dropout,', 'Target is Enrolled,', 'Target is Graduate,', 'Target is Graduate,', 'Target is Graduate,', 'Target is Dropout,', 'Target is Graduate,', 'Target is Graduate,', 'Target is Enrolled,', 'Target is Dropout,', 'Target is Graduate,', 'Target is Graduate,', 'Target is Graduate,', 'Target is Graduate,', 'Target is Graduate,', 'Target is Graduate,', 'Target is Graduate,', 'Target is Graduate,', 'Target is Dropout,', 'Target is Graduate,', 'Target is Graduate,', 'Target is Graduate,', 'Target is Dropout,', 'Target is Dropout,', 'Target is Enrolled,', 'Target is Graduate,', 'Target is Graduate,', 'Target is Dropout,', 'Target is Graduate,', 'Target is Dropout,', 'Target is Graduate,', 'Target is Graduate,', 'Target is Enrolled,', 'Target is Graduate,', 'Target is Graduate,', 'Target is Dropout,', 'Target is Enrolled,', 'Target is Graduate,', 'Target is Enrolled,', 'Target is Dropout,', 'Target is Graduate,', 'Target is Graduate,', 'Target is Graduate,', 'Target is Graduate,', 'Target is Graduate,', 'Target is Enrolled,', 'Target is Enrolled,', 'Target is Enrolled,', 'Target is Dropout,']\n"
     ]
    },
    {
     "name": "stderr",
     "output_type": "stream",
     "text": [
      " 13%|█▎        | 132/1000 [01:02<06:32,  2.21it/s]"
     ]
    },
    {
     "name": "stdout",
     "output_type": "stream",
     "text": [
      "['Target is Enrolled,', 'Target is Enrolled,', 'Target is Enrolled,', 'Target is Graduate,', 'Target is Dropout,', 'Target is Graduate,', 'Target is Enrolled,', 'Target is Graduate,', 'Target is Enrolled,', 'Target is Graduate,', 'Target is Graduate,', 'Target is Enrolled,', 'Target is Enrolled,', 'Target is Dropout,', 'Target is Enrolled,', 'Target is Graduate,', 'Target is Dropout,', 'Target is Graduate,', 'Target is Graduate,', 'Target is Dropout,', 'Target is Enrolled,', 'Target is Graduate,', 'Target is Dropout,', 'Target is Graduate,', 'Target is Graduate,', 'Target is Dropout,', 'Target is Dropout,', 'Target is Dropout,', 'Target is Dropout,', 'Target is Graduate,', 'Target is Graduate,', 'Target is Enrolled,', 'Target is Graduate,', 'Target is Graduate,', 'Target is Dropout,', 'Target is Dropout,', 'Target is Dropout,', 'Target is Graduate,', 'Target is Enrolled,', 'Target is Graduate,', 'Target is Graduate,', 'Target is Graduate,', 'Target is Graduate,', 'Target is Graduate,', 'Target is Enrolled,', 'Target is Enrolled,', 'Target is Enrolled,', 'Target is Graduate,', 'Target is Enrolled,', 'Target is Enrolled,']\n"
     ]
    },
    {
     "name": "stderr",
     "output_type": "stream",
     "text": [
      " 15%|█▌        | 154/1000 [01:11<06:09,  2.29it/s]"
     ]
    },
    {
     "name": "stdout",
     "output_type": "stream",
     "text": [
      "['Target is Dropout,', 'Target is Dropout,', 'Target is Enrolled,', 'Target is Enrolled,', 'Target is Graduate,', 'Target is Graduate,', 'Target is Graduate,', 'Target is Graduate,', 'Target is Graduate,', 'Target is Graduate,', 'Target is Graduate,', 'Target is Graduate,', 'Target is Dropout,', 'Target is Graduate,', 'Target is Graduate,', 'Target is Graduate,', 'Target is Graduate,', 'Target is Graduate,', 'Target is Graduate,', 'Target is Dropout,', 'Target is Dropout,', 'Target is Graduate,', 'Target is Dropout,', 'Target is Graduate,', 'Target is Dropout,', 'Target is Graduate,', 'Target is Graduate,', 'Target is Enrolled,', 'Target is Dropout,', 'Target is Dropout,', 'Target is Enrolled,', 'Target is Enrolled,', 'Target is Dropout,', 'Target is Graduate,', 'Target is Graduate,', 'Target is Dropout,', 'Target is Graduate,', 'Target is Graduate,', 'Target is Dropout,', 'Target is Graduate,', 'Target is Graduate,', 'Target is Dropout,', 'Target is Graduate,', 'Target is Graduate,', 'Target is Graduate,', 'Target is Graduate,', 'Target is Dropout,', 'Target is Graduate,', 'Target is Graduate,', 'Target is Graduate,']\n"
     ]
    },
    {
     "name": "stderr",
     "output_type": "stream",
     "text": [
      " 18%|█▊        | 177/1000 [01:20<05:45,  2.38it/s]"
     ]
    },
    {
     "name": "stdout",
     "output_type": "stream",
     "text": [
      "['Target is Enrolled,', 'Target is Enrolled,', 'Target is Graduate,', 'Target is Graduate,', 'Target is Dropout,', 'Target is Graduate,', 'Target is Dropout,', 'Target is Dropout,', 'Target is Graduate,', 'Target is Graduate,', 'Target is Graduate,', 'Target is Dropout,', 'Target is Enrolled,', 'Target is Graduate,', 'Target is Graduate,', 'Target is Graduate,', 'Target is Graduate,', 'Target is Graduate,', 'Target is Graduate,', 'Target is Enrolled,', 'Target is Dropout,', 'Target is Graduate,', 'Target is Graduate,', 'Target is Dropout,', 'Target is Dropout,', 'Target is Dropout,', 'Target is Graduate,', 'Target is Graduate,', 'Target is Dropout,', 'Target is Enrolled,', 'Target is Graduate,', 'Target is Graduate,', 'Target is Enrolled,', 'Target is Enrolled,', 'Target is Graduate,', 'Target is Graduate,', 'Target is Dropout,', 'Target is Graduate,', 'Target is Dropout,', 'Target is Graduate,', 'Target is Enrolled,', 'Target is Graduate,', 'Target is Graduate,', 'Target is Dropout,', 'Target is Dropout,', 'Target is Dropout,', 'Target is Dropout,', 'Target is Graduate,', 'Target is Graduate,', 'Target is Enrolled,']\n"
     ]
    },
    {
     "name": "stderr",
     "output_type": "stream",
     "text": [
      " 20%|█▉        | 197/1000 [01:29<05:46,  2.32it/s]"
     ]
    },
    {
     "name": "stdout",
     "output_type": "stream",
     "text": [
      "['Target is Graduate,', 'Target is Graduate,', 'Target is Enrolled,', 'Target is Enrolled,', 'Target is Graduate,', 'Target is Graduate,', 'Target is Enrolled,', 'Target is Graduate,', 'Target is Dropout,', 'Target is Graduate,', 'Target is Dropout,', 'Target is Dropout,', 'Target is Dropout,', 'Target is Graduate,', 'Target is Graduate,', 'Target is Enrolled,', 'Target is Dropout,', 'Target is Dropout,', 'Target is Graduate,', 'Target is Enrolled,', 'Target is Dropout,', 'Target is Enrolled,', 'Target is Graduate,', 'Target is Enrolled,', 'Target is Graduate,', 'Target is Enrolled,', 'Target is Graduate,', 'Target is Graduate,', 'Target is Enrolled,', 'Target is Graduate,', 'Target is Graduate,', 'Target is Graduate,', 'Target is Graduate,', 'Target is Graduate,', 'Target is Enrolled,', 'Target is Dropout,', 'Target is Graduate,', 'Target is Graduate,', 'Target is Graduate,', 'Target is Dropout,', 'Target is Graduate,', 'Target is Dropout,', 'Target is Dropout,', 'Target is Dropout,', 'Target is Graduate,', 'Target is Graduate,', 'Target is Graduate,', 'Target is Dropout,', 'Target is Dropout,', 'Target is Graduate,']\n"
     ]
    },
    {
     "name": "stderr",
     "output_type": "stream",
     "text": [
      " 21%|██        | 211/1000 [01:38<06:18,  2.09it/s]"
     ]
    },
    {
     "name": "stdout",
     "output_type": "stream",
     "text": [
      "['Target is Enrolled,', 'Target is Graduate,', 'Target is Dropout,', 'Target is Graduate,', 'Target is Graduate,', 'Target is Dropout,', 'Target is Graduate,', 'Target is Dropout,', 'Target is Graduate,', 'Target is Graduate,', 'Target is Enrolled,', 'Target is Graduate,', 'Target is Enrolled,', 'Target is Enrolled,', 'Target is Graduate,', 'Target is Graduate,', 'Target is Enrolled,', 'Target is Enrolled,', 'Target is Dropout,', 'Target is Dropout,', 'Target is Enrolled,', 'Target is Graduate,', 'Target is Graduate,', 'Target is Graduate,', 'Target is Graduate,', 'Target is Enrolled,', 'Target is Enrolled,', 'Target is Dropout,', 'Target is Graduate,', 'Target is Enrolled,', 'Target is Graduate,', 'Target is Graduate,', 'Target is Graduate,', 'Target is Graduate,', 'Target is Dropout,', 'Target is Graduate,', 'Target is Enrolled,', 'Target is Graduate,', 'Target is Enrolled,', 'Target is Graduate,', 'Target is Graduate,', 'Target is Dropout,', 'Target is Graduate,', 'Target is Dropout,', 'Target is Graduate,', 'Target is Graduate,', 'Target is Dropout,', 'Target is Graduate,', 'Target is Graduate,', 'Target is Enrolled,']\n"
     ]
    },
    {
     "name": "stderr",
     "output_type": "stream",
     "text": [
      " 23%|██▎       | 230/1000 [01:47<06:07,  2.09it/s]"
     ]
    },
    {
     "name": "stdout",
     "output_type": "stream",
     "text": [
      "['Target is Enrolled,', 'Target is Graduate,', 'Target is Graduate,', 'Target is Enrolled,', 'Target is Dropout,', 'Target is Dropout,', 'Target is Graduate,', 'Target is Enrolled,', 'Target is Graduate,', 'Target is Graduate,', 'Target is Graduate,', 'Target is Enrolled,', 'Target is Graduate,', 'Target is Graduate,', 'Target is Graduate,', 'Target is Enrolled,', 'Target is Graduate,', 'Target is Dropout,', 'Target is Enrolled,', 'Target is Graduate,', 'Target is Dropout,', 'Target is Graduate,', 'Target is Dropout,', 'Target is Enrolled,', 'Target is Graduate,', 'Target is Enrolled,', 'Target is Graduate,', 'Target is Dropout,', 'Target is Dropout,', 'Target is Graduate,', 'Target is Graduate,', 'Target is Dropout,', 'Target is Graduate,', 'Target is Enrolled,', 'Target is Graduate,', 'Target is Graduate,', 'Target is Graduate,', 'Target is Dropout,', 'Target is Graduate,', 'Target is Dropout,', 'Target is Graduate,', 'Target is Graduate,', 'Target is Graduate,', 'Target is Graduate,', 'Target is Graduate,', 'Target is Dropout,', 'Target is Graduate,', 'Target is Enrolled,', 'Target is Dropout,', 'Target is Graduate,']\n"
     ]
    },
    {
     "name": "stderr",
     "output_type": "stream",
     "text": [
      " 25%|██▍       | 247/1000 [01:56<06:10,  2.03it/s]"
     ]
    },
    {
     "name": "stdout",
     "output_type": "stream",
     "text": [
      "['Target is Graduate,', 'Target is Enrolled,', 'Target is Dropout,', 'Target is Graduate,', 'Target is Graduate,', 'Target is Graduate,', 'Target is Graduate,', 'Target is Dropout,', 'Target is Graduate,', 'Target is Enrolled,', 'Target is Graduate,', 'Target is Graduate,', 'Target is Enrolled,', 'Target is Graduate,', 'Target is Dropout,', 'Target is Enrolled,', 'Target is Graduate,', 'Target is Graduate,', 'Target is Graduate,', 'Target is Graduate,', 'Target is Enrolled,', 'Target is Graduate,', 'Target is Enrolled,', 'Target is Graduate,', 'Target is Dropout,', 'Target is Enrolled,', 'Target is Dropout,', 'Target is Graduate,', 'Target is Graduate,', 'Target is Dropout,', 'Target is Graduate,', 'Target is Dropout,', 'Target is Graduate,', 'Target is Enrolled,', 'Target is Graduate,', 'Target is Dropout,', 'Target is Graduate,', 'Target is Dropout,', 'Target is Graduate,', 'Target is Graduate,', 'Target is Dropout,', 'Target is Dropout,', 'Target is Dropout,', 'Target is Dropout,', 'Target is Dropout,', 'Target is Dropout,', 'Target is Dropout,', 'Target is Dropout,', 'Target is Dropout,', 'Target is Graduate,']\n"
     ]
    },
    {
     "name": "stderr",
     "output_type": "stream",
     "text": [
      " 26%|██▌       | 262/1000 [02:05<06:23,  1.93it/s]"
     ]
    },
    {
     "name": "stdout",
     "output_type": "stream",
     "text": [
      "['Target is Graduate,', 'Target is Dropout,', 'Target is Dropout,', 'Target is Dropout,', 'Target is Enrolled,', 'Target is Dropout,', 'Target is Dropout,', 'Target is Graduate,', 'Target is Graduate,', 'Target is Dropout,', 'Target is Enrolled,', 'Target is Enrolled,', 'Target is Dropout,', 'Target is Dropout,', 'Target is Dropout,', 'Target is Dropout,', 'Target is Enrolled,', 'Target is Dropout,', 'Target is Graduate,', 'Target is Enrolled,', 'Target is Enrolled,', 'Target is Dropout,', 'Target is Graduate,', 'Target is Graduate,', 'Target is Graduate,', 'Target is Dropout,', 'Target is Graduate,', 'Target is Dropout,', 'Target is Graduate,', 'Target is Enrolled,', 'Target is Graduate,', 'Target is Enrolled,', 'Target is Dropout,', 'Target is Dropout,', 'Target is Dropout,', 'Target is Graduate,', 'Target is Dropout,', 'Target is Graduate,', 'Target is Graduate,', 'Target is Dropout,', 'Target is Enrolled,', 'Target is Graduate,', 'Target is Dropout,', 'Target is Graduate,', 'Target is Dropout,', 'Target is Dropout,', 'Target is Graduate,', 'Target is Graduate,', 'Target is Graduate,', 'Target is Graduate,']\n"
     ]
    },
    {
     "name": "stderr",
     "output_type": "stream",
     "text": [
      " 28%|██▊       | 281/1000 [02:14<06:02,  1.99it/s]"
     ]
    },
    {
     "name": "stdout",
     "output_type": "stream",
     "text": [
      "['Target is Graduate,', 'Target is Dropout,', 'Target is Graduate,', 'Target is Graduate,', 'Target is Enrolled,', 'Target is Enrolled,', 'Target is Dropout,', 'Target is Enrolled,', 'Target is Enrolled,', 'Target is Graduate,', 'Target is Graduate,', 'Target is Graduate,', 'Target is Graduate,', 'Target is Graduate,', 'Target is Enrolled,', 'Target is Graduate,', 'Target is Enrolled,', 'Target is Graduate,', 'Target is Dropout,', 'Target is Dropout,', 'Target is Graduate,', 'Target is Graduate,', 'Target is Dropout,', 'Target is Dropout,', 'Target is Graduate,', 'Target is Enrolled,', 'Target is Dropout,', 'Target is Graduate,', 'Target is Graduate,', 'Target is Graduate,', 'Target is Dropout,', 'Target is Graduate,', 'Target is Dropout,', 'Target is Graduate,', 'Target is Graduate,', 'Target is Dropout,', 'Target is Graduate,', 'Target is Graduate,', 'Target is Dropout,', 'Target is Graduate,', 'Target is Graduate,', 'Target is Enrolled,', 'Target is Graduate,', 'Target is Graduate,', 'Target is Graduate,', 'Target is Enrolled,', 'Target is Graduate,', 'Target is Dropout,', 'Target is Graduate,', 'Target is Dropout,']\n"
     ]
    },
    {
     "name": "stderr",
     "output_type": "stream",
     "text": [
      " 30%|██▉       | 296/1000 [02:23<06:13,  1.89it/s]"
     ]
    },
    {
     "name": "stdout",
     "output_type": "stream",
     "text": [
      "['Target is Dropout,', 'Target is Dropout,', 'Target is Graduate,', 'Target is Graduate,', 'Target is Dropout,', 'Target is Enrolled,', 'Target is Graduate,', 'Target is Enrolled,', 'Target is Dropout,', 'Target is Dropout,', 'Target is Graduate,', 'Target is Graduate,', 'Target is Graduate,', 'Target is Graduate,', 'Target is Graduate,', 'Target is Dropout,', 'Target is Graduate,', 'Target is Graduate,', 'Target is Dropout,', 'Target is Graduate,', 'Target is Graduate,', 'Target is Dropout,', 'Target is Dropout,', 'Target is Graduate,', 'Target is Graduate,', 'Target is Graduate,', 'Target is Graduate,', 'Target is Graduate,', 'Target is Graduate,', 'Target is Graduate,', 'Target is Enrolled,', 'Target is Graduate,', 'Target is Dropout,', 'Target is Graduate,', 'Target is Enrolled,', 'Target is Dropout,', 'Target is Graduate,', 'Target is Dropout,', 'Target is Graduate,', 'Target is Graduate,', 'Target is Graduate,', 'Target is Graduate,', 'Target is Graduate,', 'Target is Graduate,', 'Target is Dropout,', 'Target is Graduate,', 'Target is Graduate,', 'Target is Enrolled,', 'Target is Dropout,', 'Target is Graduate,']\n"
     ]
    },
    {
     "name": "stderr",
     "output_type": "stream",
     "text": [
      " 32%|███▏      | 318/1000 [02:32<05:31,  2.06it/s]"
     ]
    },
    {
     "name": "stdout",
     "output_type": "stream",
     "text": [
      "['Target is Dropout,', 'Target is Dropout,', 'Target is Graduate,', 'Target is Graduate,', 'Target is Dropout,', 'Target is Dropout,', 'Target is Graduate,', 'Target is Dropout,', 'Target is Graduate,', 'Target is Graduate,', 'Target is Dropout,', 'Target is Enrolled,', 'Target is Enrolled,', 'Target is Graduate,', 'Target is Dropout,', 'Target is Graduate,', 'Target is Dropout,', 'Target is Enrolled,', 'Target is Graduate,', 'Target is Graduate,', 'Target is Dropout,', 'Target is Graduate,', 'Target is Graduate,', 'Target is Dropout,', 'Target is Dropout,', 'Target is Dropout,', 'Target is Graduate,', 'Target is Dropout,', 'Target is Dropout,', 'Target is Graduate,', 'Target is Dropout,', 'Target is Graduate,', 'Target is Graduate,', 'Target is Enrolled,', 'Target is Enrolled,', 'Target is Dropout,', 'Target is Dropout,', 'Target is Dropout,', 'Target is Enrolled,', 'Target is Enrolled,', 'Target is Graduate,', 'Target is Dropout,', 'Target is Enrolled,', 'Target is Graduate,', 'Target is Graduate,', 'Target is Dropout,', 'Target is Enrolled,', 'Target is Graduate,', 'Target is Enrolled,', 'Target is Graduate,']\n"
     ]
    },
    {
     "name": "stderr",
     "output_type": "stream",
     "text": [
      " 34%|███▍      | 345/1000 [02:41<04:39,  2.35it/s]"
     ]
    },
    {
     "name": "stdout",
     "output_type": "stream",
     "text": [
      "['Target is Dropout,', 'Target is Dropout,', 'Target is Enrolled,', 'Target is Graduate,', 'Target is Graduate,', 'Target is Graduate,', 'Target is Graduate,', 'Target is Graduate,', 'Target is Dropout,', 'Target is Graduate,', 'Target is Graduate,', 'Target is Dropout,', 'Target is Graduate,', 'Target is Graduate,', 'Target is Graduate,', 'Target is Dropout,', 'Target is Enrolled,', 'Target is Dropout,', 'Target is Graduate,', 'Target is Enrolled,', 'Target is Graduate,', 'Target is Enrolled,', 'Target is Dropout,', 'Target is Graduate,', 'Target is Graduate,', 'Target is Graduate,', 'Target is Dropout,', 'Target is Enrolled,', 'Target is Enrolled,', 'Target is Graduate,', 'Target is Graduate,', 'Target is Dropout,', 'Target is Dropout,', 'Target is Dropout,', 'Target is Graduate,', 'Target is Dropout,', 'Target is Dropout,', 'Target is Graduate,', 'Target is Enrolled,', 'Target is Graduate,', 'Target is Graduate,', 'Target is Dropout,', 'Target is Graduate,', 'Target is Graduate,', 'Target is Enrolled,', 'Target is Graduate,', 'Target is Dropout,', 'Target is Enrolled,', 'Target is Graduate,', 'Target is Dropout,']\n"
     ]
    },
    {
     "name": "stderr",
     "output_type": "stream",
     "text": [
      " 37%|███▋      | 367/1000 [02:50<04:26,  2.37it/s]"
     ]
    },
    {
     "name": "stdout",
     "output_type": "stream",
     "text": [
      "['Target is Enrolled,', 'Target is Graduate,', 'Target is Enrolled,', 'Target is Graduate,', 'Target is Enrolled,', 'Target is Graduate,', 'Target is Graduate,', 'Target is Graduate,', 'Target is Enrolled,', 'Target is Graduate,', 'Target is Graduate,', 'Target is Dropout,', 'Target is Graduate,', 'Target is Enrolled,', 'Target is Dropout,', 'Target is Dropout,', 'Target is Dropout,', 'Target is Dropout,', 'Target is Graduate,', 'Target is Dropout,', 'Target is Graduate,', 'Target is Graduate,', 'Target is Dropout,', 'Target is Graduate,', 'Target is Dropout,', 'Target is Enrolled,', 'Target is Enrolled,', 'Target is Dropout,', 'Target is Graduate,', 'Target is Enrolled,', 'Target is Graduate,', 'Target is Dropout,', 'Target is Graduate,', 'Target is Graduate,', 'Target is Dropout,', 'Target is Enrolled,', 'Target is Graduate,', 'Target is Enrolled,', 'Target is Enrolled,', 'Target is Dropout,', 'Target is Dropout,', 'Target is Graduate,', 'Target is Graduate,', 'Target is Dropout,', 'Target is Graduate,', 'Target is Graduate,', 'Target is Dropout,', 'Target is Graduate,', 'Target is Enrolled,', 'Target is Graduate,']\n"
     ]
    },
    {
     "name": "stderr",
     "output_type": "stream",
     "text": [
      " 39%|███▉      | 388/1000 [02:59<04:18,  2.36it/s]"
     ]
    },
    {
     "name": "stdout",
     "output_type": "stream",
     "text": [
      "['Target is Dropout,', 'Target is Enrolled,', 'Target is Dropout,', 'Target is Graduate,', 'Target is Graduate,', 'Target is Graduate,', 'Target is Enrolled,', 'Target is Graduate,', 'Target is Graduate,', 'Target is Dropout,', 'Target is Enrolled,', 'Target is Graduate,', 'Target is Graduate,', 'Target is Graduate,', 'Target is Graduate,', 'Target is Dropout,', 'Target is Graduate,', 'Target is Dropout,', 'Target is Dropout,', 'Target is Graduate,', 'Target is Graduate,', 'Target is Graduate,', 'Target is Enrolled,', 'Target is Graduate,', 'Target is Graduate,', 'Target is Graduate,', 'Target is Graduate,', 'Target is Enrolled,', 'Target is Enrolled,', 'Target is Graduate,', 'Target is Dropout,', 'Target is Dropout,', 'Target is Enrolled,', 'Target is Graduate,', 'Target is Dropout,', 'Target is Graduate,', 'Target is Enrolled,', 'Target is Dropout,', 'Target is Enrolled,', 'Target is Graduate,', 'Target is Graduate,', 'Target is Dropout,', 'Target is Graduate,', 'Target is Dropout,', 'Target is Enrolled,', 'Target is Graduate,', 'Target is Dropout,', 'Target is Dropout,', 'Target is Graduate,', 'Target is Graduate,']\n"
     ]
    },
    {
     "name": "stderr",
     "output_type": "stream",
     "text": [
      " 41%|████      | 411/1000 [03:08<04:03,  2.42it/s]"
     ]
    },
    {
     "name": "stdout",
     "output_type": "stream",
     "text": [
      "['Target is Enrolled,', 'Target is Dropout,', 'Target is Dropout,', 'Target is Graduate,', 'Target is Graduate,', 'Target is Dropout,', 'Target is Dropout,', 'Target is Graduate,', 'Target is Graduate,', 'Target is Enrolled,', 'Target is Graduate,', 'Target is Enrolled,', 'Target is Dropout,', 'Target is Graduate,', 'Target is Dropout,', 'Target is Graduate,', 'Target is Dropout,', 'Target is Enrolled,', 'Target is Enrolled,', 'Target is Graduate,', 'Target is Graduate,', 'Target is Graduate,', 'Target is Graduate,', 'Target is Dropout,', 'Target is Graduate,', 'Target is Enrolled,', 'Target is Enrolled,', 'Target is Dropout,', 'Target is Graduate,', 'Target is Dropout,', 'Target is Enrolled,', 'Target is Graduate,', 'Target is Graduate,', 'Target is Graduate,', 'Target is Graduate,', 'Target is Enrolled,', 'Target is Dropout,', 'Target is Enrolled,', 'Target is Dropout,', 'Target is Dropout,', 'Target is Enrolled,', 'Target is Dropout,', 'Target is Graduate,', 'Target is Graduate,', 'Target is Graduate,', 'Target is Enrolled,', 'Target is Graduate,', 'Target is Graduate,', 'Target is Enrolled,', 'Target is Graduate,']\n"
     ]
    },
    {
     "name": "stderr",
     "output_type": "stream",
     "text": [
      " 43%|████▎     | 427/1000 [03:17<04:20,  2.20it/s]"
     ]
    },
    {
     "name": "stdout",
     "output_type": "stream",
     "text": [
      "['Target is Graduate,', 'Target is Dropout,', 'Target is Graduate,', 'Target is Dropout,', 'Target is Enrolled,', 'Target is Dropout,', 'Target is Dropout,', 'Target is Dropout,', 'Target is Graduate,', 'Target is Graduate,', 'Target is Enrolled,', 'Target is Graduate,', 'Target is Enrolled,', 'Target is Dropout,', 'Target is Dropout,', 'Target is Dropout,', 'Target is Dropout,', 'Target is Graduate,', 'Target is Graduate,', 'Target is Graduate,', 'Target is Graduate,', 'Target is Graduate,', 'Target is Dropout,', 'Target is Dropout,', 'Target is Graduate,', 'Target is Graduate,', 'Target is Graduate,', 'Target is Graduate,', 'Target is Enrolled,', 'Target is Graduate,', 'Target is Dropout,', 'Target is Graduate,', 'Target is Enrolled,', 'Target is Graduate,', 'Target is Dropout,', 'Target is Enrolled,', 'Target is Enrolled,', 'Target is Graduate,', 'Target is Graduate,', 'Target is Dropout,', 'Target is Dropout,', 'Target is Graduate,', 'Target is Graduate,', 'Target is Enrolled,', 'Target is Graduate,', 'Target is Dropout,', 'Target is Graduate,', 'Target is Dropout,', 'Target is Graduate,', 'Target is Dropout,']\n"
     ]
    },
    {
     "name": "stderr",
     "output_type": "stream",
     "text": [
      " 45%|████▍     | 449/1000 [03:26<04:01,  2.28it/s]"
     ]
    },
    {
     "name": "stdout",
     "output_type": "stream",
     "text": [
      "['Target is Enrolled,', 'Target is Dropout,', 'Target is Graduate,', 'Target is Graduate,', 'Target is Graduate,', 'Target is Dropout,', 'Target is Dropout,', 'Target is Graduate,', 'Target is Enrolled,', 'Target is Enrolled,', 'Target is Graduate,', 'Target is Graduate,', 'Target is Graduate,', 'Target is Enrolled,', 'Target is Graduate,', 'Target is Graduate,', 'Target is Graduate,', 'Target is Enrolled,', 'Target is Graduate,', 'Target is Dropout,', 'Target is Enrolled,', 'Target is Dropout,', 'Target is Dropout,', 'Target is Enrolled,', 'Target is Graduate,', 'Target is Graduate,', 'Target is Dropout,', 'Target is Dropout,', 'Target is Graduate,', 'Target is Dropout,', 'Target is Graduate,', 'Target is Dropout,', 'Target is Graduate,', 'Target is Graduate,', 'Target is Dropout,', 'Target is Enrolled,', 'Target is Graduate,', 'Target is Dropout,', 'Target is Dropout,', 'Target is Enrolled,', 'Target is Graduate,', 'Target is Dropout,', 'Target is Enrolled,', 'Target is Graduate,', 'Target is Dropout,', 'Target is Graduate,', 'Target is Graduate,', 'Target is Graduate,', 'Target is Graduate,', 'Target is Graduate,']\n"
     ]
    },
    {
     "name": "stderr",
     "output_type": "stream",
     "text": [
      " 47%|████▋     | 472/1000 [03:35<03:43,  2.36it/s]"
     ]
    },
    {
     "name": "stdout",
     "output_type": "stream",
     "text": [
      "['Target is Graduate,', 'Target is Dropout,', 'Target is Dropout,', 'Target is Dropout,', 'Target is Dropout,', 'Target is Dropout,', 'Target is Graduate,', 'Target is Graduate,', 'Target is Graduate,', 'Target is Dropout,', 'Target is Graduate,', 'Target is Enrolled,', 'Target is Graduate,', 'Target is Graduate,', 'Target is Dropout,', 'Target is Graduate,', 'Target is Graduate,', 'Target is Graduate,', 'Target is Graduate,', 'Target is Graduate,', 'Target is Dropout,', 'Target is Dropout,', 'Target is Dropout,', 'Target is Enrolled,', 'Target is Dropout,', 'Target is Graduate,', 'Target is Dropout,', 'Target is Graduate,', 'Target is Enrolled,', 'Target is Dropout,', 'Target is Graduate,', 'Target is Dropout,', 'Target is Enrolled,', 'Target is Graduate,', 'Target is Enrolled,', 'Target is Dropout,', 'Target is Dropout,', 'Target is Dropout,', 'Target is Graduate,', 'Target is Enrolled,', 'Target is Enrolled,', 'Target is Graduate,', 'Target is Dropout,', 'Target is Graduate,', 'Target is Graduate,', 'Target is Graduate,', 'Target is Dropout,', 'Target is Dropout,', 'Target is Enrolled,', 'Target is Dropout,']\n"
     ]
    },
    {
     "name": "stderr",
     "output_type": "stream",
     "text": [
      " 48%|████▊     | 484/1000 [03:44<04:10,  2.06it/s]"
     ]
    },
    {
     "name": "stdout",
     "output_type": "stream",
     "text": [
      "['Target is Graduate,', 'Target is Dropout,', 'Target is Graduate,', 'Target is Dropout,', 'Target is Graduate,', 'Target is Graduate,', 'Target is Graduate,', 'Target is Graduate,', 'Target is Enrolled,', 'Target is Graduate,', 'Target is Graduate,', 'Target is Graduate,', 'Target is Graduate,', 'Target is Dropout,', 'Target is Enrolled,', 'Target is Dropout,', 'Target is Graduate,', 'Target is Graduate,', 'Target is Graduate,', 'Target is Graduate,', 'Target is Dropout,', 'Target is Dropout,', 'Target is Dropout,', 'Target is Graduate,', 'Target is Graduate,', 'Target is Enrolled,', 'Target is Enrolled,', 'Target is Dropout,', 'Target is Enrolled,', 'Target is Graduate,', 'Target is Dropout,', 'Target is Enrolled,', 'Target is Graduate,', 'Target is Graduate,', 'Target is Graduate,', 'Target is Graduate,', 'Target is Graduate,', 'Target is Graduate,', 'Target is Graduate,', 'Target is Enrolled,', 'Target is Enrolled,', 'Target is Dropout,', 'Target is Enrolled,', 'Target is Dropout,', 'Target is Graduate,', 'Target is Graduate,', 'Target is Graduate,', 'Target is Graduate,', 'Target is Graduate,', 'Target is Dropout,']\n"
     ]
    },
    {
     "name": "stderr",
     "output_type": "stream",
     "text": [
      " 51%|█████     | 511/1000 [03:53<03:29,  2.33it/s]"
     ]
    },
    {
     "name": "stdout",
     "output_type": "stream",
     "text": [
      "['Target is Dropout,', 'Target is Enrolled,', 'Target is Graduate,', 'Target is Graduate,', 'Target is Graduate,', 'Target is Enrolled,', 'Target is Graduate,', 'Target is Graduate,', 'Target is Dropout,', 'Target is Graduate,', 'Target is Enrolled,', 'Target is Graduate,', 'Target is Dropout,', 'Target is Graduate,', 'Target is Enrolled,', 'Target is Dropout,', 'Target is Dropout,', 'Target is Graduate,', 'Target is Graduate,', 'Target is Graduate,', 'Target is Graduate,', 'Target is Dropout,', 'Target is Graduate,', 'Target is Graduate,', 'Target is Graduate,', 'Target is Enrolled,', 'Target is Dropout,', 'Target is Dropout,', 'Target is Enrolled,', 'Target is Graduate,', 'Target is Graduate,', 'Target is Dropout,', 'Target is Graduate,', 'Target is Enrolled,', 'Target is Dropout,', 'Target is Graduate,', 'Target is Dropout,', 'Target is Dropout,', 'Target is Graduate,', 'Target is Graduate,', 'Target is Dropout,', 'Target is Graduate,', 'Target is Graduate,', 'Target is Graduate,', 'Target is Enrolled,', 'Target is Graduate,', 'Target is Graduate,', 'Target is Dropout,', 'Target is Enrolled,', 'Target is Graduate,']\n"
     ]
    },
    {
     "name": "stderr",
     "output_type": "stream",
     "text": [
      " 53%|█████▎    | 534/1000 [04:02<03:14,  2.39it/s]"
     ]
    },
    {
     "name": "stdout",
     "output_type": "stream",
     "text": [
      "['Target is Enrolled,', 'Target is Enrolled,', 'Target is Dropout,', 'Target is Graduate,', 'Target is Graduate,', 'Target is Dropout,', 'Target is Graduate,', 'Target is Graduate,', 'Target is Dropout,', 'Target is Enrolled,', 'Target is Enrolled,', 'Target is Dropout,', 'Target is Dropout,', 'Target is Dropout,', 'Target is Graduate,', 'Target is Graduate,', 'Target is Graduate,', 'Target is Dropout,', 'Target is Dropout,', 'Target is Graduate,', 'Target is Dropout,', 'Target is Enrolled,', 'Target is Dropout,', 'Target is Dropout,', 'Target is Graduate,', 'Target is Graduate,', 'Target is Dropout,', 'Target is Dropout,', 'Target is Graduate,', 'Target is Graduate,', 'Target is Enrolled,', 'Target is Graduate,', 'Target is Graduate,', 'Target is Graduate,', 'Target is Dropout,', 'Target is Graduate,', 'Target is Graduate,', 'Target is Dropout,', 'Target is Graduate,', 'Target is Graduate,', 'Target is Graduate,', 'Target is Dropout,', 'Target is Dropout,', 'Target is Graduate,', 'Target is Enrolled,', 'Target is Graduate,', 'Target is Dropout,', 'Target is Dropout,', 'Target is Graduate,', 'Target is Enrolled,']\n"
     ]
    },
    {
     "name": "stderr",
     "output_type": "stream",
     "text": [
      " 55%|█████▌    | 554/1000 [04:11<03:09,  2.35it/s]"
     ]
    },
    {
     "name": "stdout",
     "output_type": "stream",
     "text": [
      "['Target is Graduate,', 'Target is Dropout,', 'Target is Graduate,', 'Target is Dropout,', 'Target is Enrolled,', 'Target is Dropout,', 'Target is Enrolled,', 'Target is Dropout,', 'Target is Dropout,', 'Target is Graduate,', 'Target is Enrolled,', 'Target is Dropout,', 'Target is Dropout,', 'Target is Enrolled,', 'Target is Graduate,', 'Target is Graduate,', 'Target is Enrolled,', 'Target is Graduate,', 'Target is Graduate,', 'Target is Graduate,', 'Target is Enrolled,', 'Target is Dropout,', 'Target is Enrolled,', 'Target is Graduate,', 'Target is Dropout,', 'Target is Graduate,', 'Target is Graduate,', 'Target is Enrolled,', 'Target is Dropout,', 'Target is Graduate,', 'Target is Dropout,', 'Target is Graduate,', 'Target is Graduate,', 'Target is Graduate,', 'Target is Graduate,', 'Target is Dropout,', 'Target is Graduate,', 'Target is Graduate,', 'Target is Graduate,', 'Target is Dropout,', 'Target is Graduate,', 'Target is Dropout,', 'Target is Graduate,', 'Target is Enrolled,', 'Target is Graduate,', 'Target is Graduate,', 'Target is Dropout,', 'Target is Enrolled,', 'Target is Dropout,', 'Target is Graduate,']\n"
     ]
    },
    {
     "name": "stderr",
     "output_type": "stream",
     "text": [
      " 57%|█████▋    | 571/1000 [04:20<03:13,  2.21it/s]"
     ]
    },
    {
     "name": "stdout",
     "output_type": "stream",
     "text": [
      "['Target is Graduate,', 'Target is Graduate,', 'Target is Graduate,', 'Target is Enrolled,', 'Target is Dropout,', 'Target is Dropout,', 'Target is Enrolled,', 'Target is Graduate,', 'Target is Graduate,', 'Target is Graduate,', 'Target is Dropout,', 'Target is Enrolled,', 'Target is Graduate,', 'Target is Dropout,', 'Target is Graduate,', 'Target is Enrolled,', 'Target is Graduate,', 'Target is Graduate,', 'Target is Graduate,', 'Target is Graduate,', 'Target is Graduate,', 'Target is Enrolled,', 'Target is Graduate,', 'Target is Graduate,', 'Target is Graduate,', 'Target is Enrolled,', 'Target is Graduate,', 'Target is Enrolled,', 'Target is Graduate,', 'Target is Graduate,', 'Target is Graduate,', 'Target is Enrolled,', 'Target is Graduate,', 'Target is Graduate,', 'Target is Enrolled,', 'Target is Graduate,', 'Target is Enrolled,', 'Target is Dropout,', 'Target is Graduate,', 'Target is Graduate,', 'Target is Graduate,', 'Target is Dropout,', 'Target is Graduate,', 'Target is Dropout,', 'Target is Dropout,', 'Target is Graduate,', 'Target is Graduate,', 'Target is Graduate,', 'Target is Graduate,', 'Target is Graduate,']\n"
     ]
    },
    {
     "name": "stderr",
     "output_type": "stream",
     "text": [
      " 59%|█████▉    | 591/1000 [04:29<03:05,  2.21it/s]"
     ]
    },
    {
     "name": "stdout",
     "output_type": "stream",
     "text": [
      "['Target is Graduate,', 'Target is Dropout,', 'Target is Graduate,', 'Target is Dropout,', 'Target is Enrolled,', 'Target is Graduate,', 'Target is Graduate,', 'Target is Enrolled,', 'Target is Graduate,', 'Target is Graduate,', 'Target is Graduate,', 'Target is Graduate,', 'Target is Graduate,', 'Target is Dropout,', 'Target is Dropout,', 'Target is Graduate,', 'Target is Graduate,', 'Target is Graduate,', 'Target is Dropout,', 'Target is Graduate,', 'Target is Enrolled,', 'Target is Enrolled,', 'Target is Graduate,', 'Target is Enrolled,', 'Target is Enrolled,', 'Target is Graduate,', 'Target is Enrolled,', 'Target is Graduate,', 'Target is Graduate,', 'Target is Graduate,', 'Target is Dropout,', 'Target is Dropout,', 'Target is Graduate,', 'Target is Graduate,', 'Target is Graduate,', 'Target is Graduate,', 'Target is Dropout,', 'Target is Dropout,', 'Target is Graduate,', 'Target is Graduate,', 'Target is Dropout,', 'Target is Graduate,', 'Target is Graduate,', 'Target is Dropout,', 'Target is Graduate,', 'Target is Graduate,', 'Target is Enrolled,', 'Target is Graduate,', 'Target is Graduate,', 'Target is Dropout,']\n"
     ]
    },
    {
     "name": "stderr",
     "output_type": "stream",
     "text": [
      " 61%|██████▏   | 613/1000 [04:38<02:49,  2.28it/s]"
     ]
    },
    {
     "name": "stdout",
     "output_type": "stream",
     "text": [
      "['Target is Dropout,', 'Target is Dropout,', 'Target is Dropout,', 'Target is Dropout,', 'Target is Dropout,', 'Target is Dropout,', 'Target is Graduate,', 'Target is Graduate,', 'Target is Dropout,', 'Target is Graduate,', 'Target is Graduate,', 'Target is Dropout,', 'Target is Graduate,', 'Target is Dropout,', 'Target is Graduate,', 'Target is Dropout,', 'Target is Dropout,', 'Target is Graduate,', 'Target is Dropout,', 'Target is Graduate,', 'Target is Dropout,', 'Target is Graduate,', 'Target is Enrolled,', 'Target is Graduate,', 'Target is Enrolled,', 'Target is Enrolled,', 'Target is Graduate,', 'Target is Enrolled,', 'Target is Enrolled,', 'Target is Enrolled,', 'Target is Enrolled,', 'Target is Graduate,', 'Target is Graduate,', 'Target is Graduate,', 'Target is Graduate,', 'Target is Graduate,', 'Target is Graduate,', 'Target is Dropout,', 'Target is Graduate,', 'Target is Enrolled,', 'Target is Graduate,', 'Target is Dropout,', 'Target is Graduate,', 'Target is Dropout,', 'Target is Graduate,', 'Target is Enrolled,', 'Target is Graduate,', 'Target is Graduate,', 'Target is Graduate,', 'Target is Graduate,']\n"
     ]
    },
    {
     "name": "stderr",
     "output_type": "stream",
     "text": [
      " 64%|██████▎   | 635/1000 [04:47<02:35,  2.35it/s]"
     ]
    },
    {
     "name": "stdout",
     "output_type": "stream",
     "text": [
      "['Target is Dropout,', 'Target is Graduate,', 'Target is Graduate,', 'Target is Dropout,', 'Target is Enrolled,', 'Target is Graduate,', 'Target is Dropout,', 'Target is Enrolled,', 'Target is Enrolled,', 'Target is Graduate,', 'Target is Dropout,', 'Target is Graduate,', 'Target is Enrolled,', 'Target is Graduate,', 'Target is Dropout,', 'Target is Graduate,', 'Target is Dropout,', 'Target is Dropout,', 'Target is Graduate,', 'Target is Graduate,', 'Target is Enrolled,', 'Target is Enrolled,', 'Target is Graduate,', 'Target is Dropout,', 'Target is Graduate,', 'Target is Enrolled,', 'Target is Graduate,', 'Target is Graduate,', 'Target is Dropout,', 'Target is Graduate,', 'Target is Graduate,', 'Target is Graduate,', 'Target is Dropout,', 'Target is Graduate,', 'Target is Dropout,', 'Target is Enrolled,', 'Target is Dropout,', 'Target is Enrolled,', 'Target is Graduate,', 'Target is Graduate,', 'Target is Dropout,', 'Target is Enrolled,', 'Target is Enrolled,', 'Target is Dropout,', 'Target is Graduate,', 'Target is Enrolled,', 'Target is Graduate,', 'Target is Dropout,', 'Target is Dropout,', 'Target is Dropout,']\n"
     ]
    },
    {
     "name": "stderr",
     "output_type": "stream",
     "text": [
      " 66%|██████▌   | 655/1000 [04:56<02:29,  2.31it/s]"
     ]
    },
    {
     "name": "stdout",
     "output_type": "stream",
     "text": [
      "['Target is Graduate,', 'Target is Dropout,', 'Target is Graduate,', 'Target is Dropout,', 'Target is Dropout,', 'Target is Graduate,', 'Target is Graduate,', 'Target is Graduate,', 'Target is Graduate,', 'Target is Graduate,', 'Target is Graduate,', 'Target is Dropout,', 'Target is Enrolled,', 'Target is Graduate,', 'Target is Enrolled,', 'Target is Dropout,', 'Target is Graduate,', 'Target is Dropout,', 'Target is Dropout,', 'Target is Dropout,', 'Target is Dropout,', 'Target is Enrolled,', 'Target is Graduate,', 'Target is Graduate,', 'Target is Graduate,', 'Target is Graduate,', 'Target is Graduate,', 'Target is Dropout,', 'Target is Dropout,', 'Target is Dropout,', 'Target is Dropout,', 'Target is Dropout,', 'Target is Graduate,', 'Target is Graduate,', 'Target is Graduate,', 'Target is Graduate,', 'Target is Graduate,', 'Target is Enrolled,', 'Target is Enrolled,', 'Target is Enrolled,', 'Target is Graduate,', 'Target is Enrolled,', 'Target is Graduate,', 'Target is Graduate,', 'Target is Dropout,', 'Target is Dropout,', 'Target is Enrolled,', 'Target is Graduate,', 'Target is Dropout,', 'Target is Graduate,']\n"
     ]
    },
    {
     "name": "stderr",
     "output_type": "stream",
     "text": [
      " 68%|██████▊   | 675/1000 [05:05<02:22,  2.28it/s]"
     ]
    },
    {
     "name": "stdout",
     "output_type": "stream",
     "text": [
      "['Target is Graduate,', 'Target is Enrolled,', 'Target is Enrolled,', 'Target is Graduate,', 'Target is Graduate,', 'Target is Enrolled,', 'Target is Graduate,', 'Target is Graduate,', 'Target is Dropout,', 'Target is Dropout,', 'Target is Enrolled,', 'Target is Dropout,', 'Target is Dropout,', 'Target is Graduate,', 'Target is Graduate,', 'Target is Graduate,', 'Target is Graduate,', 'Target is Dropout,', 'Target is Dropout,', 'Target is Dropout,', 'Target is Graduate,', 'Target is Graduate,', 'Target is Enrolled,', 'Target is Dropout,', 'Target is Graduate,', 'Target is Enrolled,', 'Target is Dropout,', 'Target is Graduate,', 'Target is Graduate,', 'Target is Graduate,', 'Target is Enrolled,', 'Target is Graduate,', 'Target is Dropout,', 'Target is Dropout,', 'Target is Enrolled,', 'Target is Dropout,', 'Target is Enrolled,', 'Target is Dropout,', 'Target is Graduate,', 'Target is Graduate,', 'Target is Dropout,', 'Target is Dropout,', 'Target is Enrolled,', 'Target is Graduate,', 'Target is Graduate,', 'Target is Enrolled,', 'Target is Graduate,', 'Target is Enrolled,', 'Target is Dropout,', 'Target is Enrolled,']\n"
     ]
    },
    {
     "name": "stderr",
     "output_type": "stream",
     "text": [
      " 70%|██████▉   | 695/1000 [05:14<02:14,  2.26it/s]"
     ]
    },
    {
     "name": "stdout",
     "output_type": "stream",
     "text": [
      "['Target is Dropout,', 'Target is Dropout,', 'Target is Graduate,', 'Target is Enrolled,', 'Target is Graduate,', 'Target is Dropout,', 'Target is Graduate,', 'Target is Dropout,', 'Target is Enrolled,', 'Target is Dropout,', 'Target is Graduate,', 'Target is Dropout,', 'Target is Graduate,', 'Target is Graduate,', 'Target is Dropout,', 'Target is Graduate,', 'Target is Enrolled,', 'Target is Dropout,', 'Target is Enrolled,', 'Target is Dropout,', 'Target is Dropout,', 'Target is Enrolled,', 'Target is Graduate,', 'Target is Graduate,', 'Target is Graduate,', 'Target is Graduate,', 'Target is Dropout,', 'Target is Graduate,', 'Target is Enrolled,', 'Target is Graduate,', 'Target is Enrolled,', 'Target is Dropout,', 'Target is Graduate,', 'Target is Dropout,', 'Target is Graduate,', 'Target is Graduate,', 'Target is Graduate,', 'Target is Dropout,', 'Target is Enrolled,', 'Target is Graduate,', 'Target is Graduate,', 'Target is Graduate,', 'Target is Graduate,', 'Target is Graduate,', 'Target is Dropout,', 'Target is Graduate,', 'Target is Graduate,', 'Target is Graduate,', 'Target is Dropout,', 'Target is Graduate,']\n"
     ]
    },
    {
     "name": "stderr",
     "output_type": "stream",
     "text": [
      " 71%|███████   | 710/1000 [05:23<02:19,  2.09it/s]"
     ]
    },
    {
     "name": "stdout",
     "output_type": "stream",
     "text": [
      "['Target is Dropout,', 'Target is Enrolled,', 'Target is Graduate,', 'Target is Graduate,', 'Target is Enrolled,', 'Target is Dropout,', 'Target is Graduate,', 'Target is Graduate,', 'Target is Graduate,', 'Target is Graduate,', 'Target is Enrolled,', 'Target is Dropout,', 'Target is Dropout,', 'Target is Enrolled,', 'Target is Enrolled,', 'Target is Dropout,', 'Target is Graduate,', 'Target is Enrolled,', 'Target is Graduate,', 'Target is Enrolled,', 'Target is Graduate,', 'Target is Graduate,', 'Target is Dropout,', 'Target is Graduate,', 'Target is Graduate,', 'Target is Graduate,', 'Target is Graduate,', 'Target is Enrolled,', 'Target is Enrolled,', 'Target is Graduate,', 'Target is Graduate,', 'Target is Dropout,', 'Target is Graduate,', 'Target is Dropout,', 'Target is Enrolled,', 'Target is Dropout,', 'Target is Graduate,', 'Target is Graduate,', 'Target is Dropout,', 'Target is Graduate,', 'Target is Dropout,', 'Target is Dropout,', 'Target is Dropout,', 'Target is Dropout,', 'Target is Graduate,', 'Target is Graduate,', 'Target is Dropout,', 'Target is Dropout,', 'Target is Dropout,', 'Target is Dropout,']\n"
     ]
    },
    {
     "name": "stderr",
     "output_type": "stream",
     "text": [
      " 73%|███████▎  | 727/1000 [05:32<02:13,  2.04it/s]"
     ]
    },
    {
     "name": "stdout",
     "output_type": "stream",
     "text": [
      "['Target is Dropout,', 'Target is Dropout,', 'Target is Dropout,', 'Target is Enrolled,', 'Target is Graduate,', 'Target is Enrolled,', 'Target is Dropout,', 'Target is Dropout,', 'Target is Graduate,', 'Target is Dropout,', 'Target is Dropout,', 'Target is Graduate,', 'Target is Dropout,', 'Target is Enrolled,', 'Target is Enrolled,', 'Target is Dropout,', 'Target is Graduate,', 'Target is Enrolled,', 'Target is Enrolled,', 'Target is Dropout,', 'Target is Enrolled,', 'Target is Graduate,', 'Target is Enrolled,', 'Target is Graduate,', 'Target is Enrolled,', 'Target is Dropout,', 'Target is Graduate,', 'Target is Dropout,', 'Target is Graduate,', 'Target is Graduate,', 'Target is Enrolled,', 'Target is Dropout,', 'Target is Enrolled,', 'Target is Dropout,', 'Target is Graduate,', 'Target is Graduate,', 'Target is Dropout,', 'Target is Graduate,', 'Target is Dropout,', 'Target is Dropout,', 'Target is Enrolled,', 'Target is Graduate,', 'Target is Graduate,', 'Target is Graduate,', 'Target is Graduate,', 'Target is Graduate,', 'Target is Dropout,', 'Target is Graduate,', 'Target is Graduate,', 'Target is Dropout,']\n"
     ]
    },
    {
     "name": "stderr",
     "output_type": "stream",
     "text": [
      " 75%|███████▍  | 749/1000 [05:41<01:56,  2.15it/s]"
     ]
    },
    {
     "name": "stdout",
     "output_type": "stream",
     "text": [
      "['Target is Graduate,', 'Target is Graduate,', 'Target is Graduate,', 'Target is Graduate,', 'Target is Graduate,', 'Target is Dropout,', 'Target is Dropout,', 'Target is Dropout,', 'Target is Graduate,', 'Target is Dropout,', 'Target is Graduate,', 'Target is Dropout,', 'Target is Dropout,', 'Target is Dropout,', 'Target is Graduate,', 'Target is Graduate,', 'Target is Dropout,', 'Target is Dropout,', 'Target is Dropout,', 'Target is Dropout,', 'Target is Graduate,', 'Target is Graduate,', 'Target is Dropout,', 'Target is Dropout,', 'Target is Graduate,', 'Target is Graduate,', 'Target is Dropout,', 'Target is Dropout,', 'Target is Dropout,', 'Target is Graduate,', 'Target is Dropout,', 'Target is Graduate,', 'Target is Graduate,', 'Target is Dropout,', 'Target is Graduate,', 'Target is Graduate,', 'Target is Dropout,', 'Target is Dropout,', 'Target is Dropout,', 'Target is Graduate,', 'Target is Graduate,', 'Target is Graduate,', 'Target is Dropout,', 'Target is Graduate,', 'Target is Graduate,', 'Target is Graduate,', 'Target is Dropout,', 'Target is Graduate,', 'Target is Enrolled,', 'Target is Graduate,']\n"
     ]
    },
    {
     "name": "stderr",
     "output_type": "stream",
     "text": [
      " 76%|███████▌  | 762/1000 [05:50<02:03,  1.93it/s]"
     ]
    },
    {
     "name": "stdout",
     "output_type": "stream",
     "text": [
      "['Target is Dropout,', 'Target is Graduate,', 'Target is Dropout,', 'Target is Enrolled,', 'Target is Graduate,', 'Target is Dropout,', 'Target is Dropout,', 'Target is Graduate,', 'Target is Graduate,', 'Target is Graduate,', 'Target is Graduate,', 'Target is Dropout,', 'Target is Dropout,', 'Target is Graduate,', 'Target is Dropout,', 'Target is Dropout,', 'Target is Graduate,', 'Target is Graduate,', 'Target is Enrolled,', 'Target is Dropout,', 'Target is Graduate,', 'Target is Dropout,', 'Target is Enrolled,', 'Target is Graduate,', 'Target is Enrolled,', 'Target is Enrolled,', 'Target is Dropout,', 'Target is Graduate,', 'Target is Dropout,', 'Target is Graduate,', 'Target is Dropout,', 'Target is Enrolled,', 'Target is Graduate,', 'Target is Enrolled,', 'Target is Graduate,', 'Target is Graduate,', 'Target is Enrolled,', 'Target is Graduate,', 'Target is Enrolled,', 'Target is Dropout,', 'Target is Dropout,', 'Target is Enrolled,', 'Target is Graduate,', 'Target is Graduate,', 'Target is Dropout,', 'Target is Graduate,', 'Target is Graduate,', 'Target is Dropout,', 'Target is Enrolled,', 'Target is Graduate,']\n"
     ]
    },
    {
     "name": "stderr",
     "output_type": "stream",
     "text": [
      " 78%|███████▊  | 780/1000 [05:59<01:52,  1.95it/s]"
     ]
    },
    {
     "name": "stdout",
     "output_type": "stream",
     "text": [
      "['Target is Graduate,', 'Target is Graduate,', 'Target is Enrolled,', 'Target is Dropout,', 'Target is Graduate,', 'Target is Graduate,', 'Target is Dropout,', 'Target is Graduate,', 'Target is Dropout,', 'Target is Graduate,', 'Target is Graduate,', 'Target is Dropout,', 'Target is Dropout,', 'Target is Graduate,', 'Target is Dropout,', 'Target is Enrolled,', 'Target is Enrolled,', 'Target is Enrolled,', 'Target is Dropout,', 'Target is Graduate,', 'Target is Dropout,', 'Target is Dropout,', 'Target is Dropout,', 'Target is Dropout,', 'Target is Enrolled,', 'Target is Dropout,', 'Target is Graduate,', 'Target is Graduate,', 'Target is Graduate,', 'Target is Graduate,', 'Target is Graduate,', 'Target is Graduate,', 'Target is Graduate,', 'Target is Graduate,', 'Target is Graduate,', 'Target is Graduate,', 'Target is Graduate,', 'Target is Graduate,', 'Target is Dropout,', 'Target is Graduate,', 'Target is Graduate,', 'Target is Graduate,', 'Target is Graduate,', 'Target is Graduate,', 'Target is Graduate,', 'Target is Graduate,', 'Target is Dropout,', 'Target is Dropout,', 'Target is Dropout,', 'Target is Enrolled,']\n"
     ]
    },
    {
     "name": "stderr",
     "output_type": "stream",
     "text": [
      " 80%|███████▉  | 798/1000 [06:08<01:42,  1.97it/s]"
     ]
    },
    {
     "name": "stdout",
     "output_type": "stream",
     "text": [
      "['Target is Graduate,', 'Target is Graduate,', 'Target is Enrolled,', 'Target is Graduate,', 'Target is Graduate,', 'Target is Dropout,', 'Target is Graduate,', 'Target is Graduate,', 'Target is Graduate,', 'Target is Graduate,', 'Target is Graduate,', 'Target is Graduate,', 'Target is Graduate,', 'Target is Dropout,', 'Target is Dropout,', 'Target is Graduate,', 'Target is Enrolled,', 'Target is Enrolled,', 'Target is Dropout,', 'Target is Dropout,', 'Target is Enrolled,', 'Target is Graduate,', 'Target is Graduate,', 'Target is Graduate,', 'Target is Graduate,', 'Target is Graduate,', 'Target is Graduate,', 'Target is Enrolled,', 'Target is Enrolled,', 'Target is Graduate,', 'Target is Dropout,', 'Target is Graduate,', 'Target is Graduate,', 'Target is Graduate,', 'Target is Dropout,', 'Target is Dropout,', 'Target is Enrolled,', 'Target is Dropout,', 'Target is Graduate,', 'Target is Graduate,', 'Target is Graduate,', 'Target is Graduate,', 'Target is Enrolled,', 'Target is Dropout,', 'Target is Enrolled,', 'Target is Dropout,', 'Target is Dropout,', 'Target is Dropout,', 'Target is Graduate,', 'Target is Dropout,']\n"
     ]
    },
    {
     "name": "stderr",
     "output_type": "stream",
     "text": [
      " 81%|████████  | 812/1000 [06:17<01:41,  1.85it/s]"
     ]
    },
    {
     "name": "stdout",
     "output_type": "stream",
     "text": [
      "['Target is Graduate,', 'Target is Dropout,', 'Target is Dropout,', 'Target is Graduate,', 'Target is Dropout,', 'Target is Dropout,', 'Target is Dropout,', 'Target is Enrolled,', 'Target is Graduate,', 'Target is Graduate,', 'Target is Graduate,', 'Target is Dropout,', 'Target is Graduate,', 'Target is Graduate,', 'Target is Dropout,', 'Target is Graduate,', 'Target is Graduate,', 'Target is Graduate,', 'Target is Dropout,', 'Target is Graduate,', 'Target is Dropout,', 'Target is Dropout,', 'Target is Graduate,', 'Target is Graduate,', 'Target is Enrolled,', 'Target is Enrolled,', 'Target is Dropout,', 'Target is Enrolled,', 'Target is Graduate,', 'Target is Dropout,', 'Target is Graduate,', 'Target is Dropout,', 'Target is Enrolled,', 'Target is Enrolled,', 'Target is Graduate,', 'Target is Graduate,', 'Target is Dropout,', 'Target is Dropout,', 'Target is Graduate,', 'Target is Dropout,', 'Target is Dropout,', 'Target is Graduate,', 'Target is Graduate,', 'Target is Dropout,', 'Target is Graduate,', 'Target is Dropout,', 'Target is Dropout,', 'Target is Graduate,', 'Target is Graduate,', 'Target is Dropout,']\n"
     ]
    },
    {
     "name": "stderr",
     "output_type": "stream",
     "text": [
      " 84%|████████▎ | 837/1000 [06:26<01:16,  2.12it/s]"
     ]
    },
    {
     "name": "stdout",
     "output_type": "stream",
     "text": [
      "['Target is Graduate,', 'Target is Graduate,', 'Target is Graduate,', 'Target is Enrolled,', 'Target is Graduate,', 'Target is Dropout,', 'Target is Graduate,', 'Target is Enrolled,', 'Target is Graduate,', 'Target is Enrolled,', 'Target is Graduate,', 'Target is Graduate,', 'Target is Dropout,', 'Target is Dropout,', 'Target is Graduate,', 'Target is Graduate,', 'Target is Graduate,', 'Target is Graduate,', 'Target is Enrolled,', 'Target is Graduate,', 'Target is Enrolled,', 'Target is Graduate,', 'Target is Enrolled,', 'Target is Dropout,', 'Target is Enrolled,', 'Target is Graduate,', 'Target is Dropout,', 'Target is Dropout,', 'Target is Graduate,', 'Target is Graduate,', 'Target is Graduate,', 'Target is Graduate,', 'Target is Enrolled,', 'Target is Graduate,', 'Target is Graduate,', 'Target is Graduate,', 'Target is Dropout,', 'Target is Graduate,', 'Target is Graduate,', 'Target is Enrolled,', 'Target is Dropout,', 'Target is Graduate,', 'Target is Graduate,', 'Target is Dropout,', 'Target is Graduate,', 'Target is Graduate,', 'Target is Enrolled,', 'Target is Enrolled,', 'Target is Dropout,', 'Target is Graduate,']\n"
     ]
    },
    {
     "name": "stderr",
     "output_type": "stream",
     "text": [
      " 86%|████████▌ | 862/1000 [06:35<00:59,  2.30it/s]"
     ]
    },
    {
     "name": "stdout",
     "output_type": "stream",
     "text": [
      "['Target is Graduate,', 'Target is Graduate,', 'Target is Graduate,', 'Target is Dropout,', 'Target is Graduate,', 'Target is Graduate,', 'Target is Graduate,', 'Target is Graduate,', 'Target is Dropout,', 'Target is Dropout,', 'Target is Graduate,', 'Target is Graduate,', 'Target is Graduate,', 'Target is Graduate,', 'Target is Graduate,', 'Target is Enrolled,', 'Target is Dropout,', 'Target is Graduate,', 'Target is Graduate,', 'Target is Graduate,', 'Target is Graduate,', 'Target is Enrolled,', 'Target is Graduate,', 'Target is Graduate,', 'Target is Dropout,', 'Target is Graduate,', 'Target is Dropout,', 'Target is Enrolled,', 'Target is Dropout,', 'Target is Graduate,', 'Target is Graduate,', 'Target is Dropout,', 'Target is Graduate,', 'Target is Graduate,', 'Target is Graduate,', 'Target is Graduate,', 'Target is Graduate,', 'Target is Graduate,', 'Target is Dropout,', 'Target is Enrolled,', 'Target is Graduate,', 'Target is Dropout,', 'Target is Graduate,', 'Target is Graduate,', 'Target is Enrolled,', 'Target is Dropout,', 'Target is Dropout,', 'Target is Graduate,', 'Target is Graduate,', 'Target is Graduate,']\n"
     ]
    },
    {
     "name": "stderr",
     "output_type": "stream",
     "text": [
      " 89%|████████▊ | 886/1000 [06:45<00:47,  2.39it/s]"
     ]
    },
    {
     "name": "stdout",
     "output_type": "stream",
     "text": [
      "['Target is Graduate,', 'Target is Graduate,', 'Target is Dropout,', 'Target is Graduate,', 'Target is Enrolled,', 'Target is Graduate,', 'Target is Enrolled,', 'Target is Graduate,', 'Target is Graduate,', 'Target is Enrolled,', 'Target is Dropout,', 'Target is Graduate,', 'Target is Dropout,', 'Target is Graduate,', 'Target is Graduate,', 'Target is Graduate,', 'Target is Graduate,', 'Target is Enrolled,', 'Target is Dropout,', 'Target is Enrolled,', 'Target is Graduate,', 'Target is Enrolled,', 'Target is Enrolled,', 'Target is Graduate,', 'Target is Graduate,', 'Target is Enrolled,', 'Target is Graduate,', 'Target is Graduate,', 'Target is Dropout,', 'Target is Graduate,', 'Target is Dropout,', 'Target is Graduate,', 'Target is Dropout,', 'Target is Graduate,', 'Target is Graduate,', 'Target is Graduate,', 'Target is Dropout,', 'Target is Graduate,', 'Target is Enrolled,', 'Target is Dropout,', 'Target is Graduate,', 'Target is Graduate,', 'Target is Dropout,', 'Target is Dropout,', 'Target is Enrolled,', 'Target is Graduate,', 'Target is Dropout,', 'Target is Graduate,', 'Target is Enrolled,', 'Target is Dropout,']\n"
     ]
    },
    {
     "name": "stderr",
     "output_type": "stream",
     "text": [
      " 90%|█████████ | 902/1000 [06:54<00:44,  2.22it/s]"
     ]
    },
    {
     "name": "stdout",
     "output_type": "stream",
     "text": [
      "['Target is Dropout,', 'Target is Enrolled,', 'Target is Dropout,', 'Target is Dropout,', 'Target is Enrolled,', 'Target is Dropout,', 'Target is Dropout,', 'Target is Graduate,', 'Target is Graduate,', 'Target is Graduate,', 'Target is Enrolled,', 'Target is Dropout,', 'Target is Dropout,', 'Target is Graduate,', 'Target is Enrolled,', 'Target is Enrolled,', 'Target is Graduate,', 'Target is Enrolled,', 'Target is Enrolled,', 'Target is Graduate,', 'Target is Graduate,', 'Target is Enrolled,', 'Target is Graduate,', 'Target is Dropout,', 'Target is Enrolled,', 'Target is Enrolled,', 'Target is Graduate,', 'Target is Enrolled,', 'Target is Enrolled,', 'Target is Enrolled,', 'Target is Graduate,', 'Target is Dropout,', 'Target is Graduate,', 'Target is Dropout,', 'Target is Dropout,', 'Target is Dropout,', 'Target is Graduate,', 'Target is Dropout,', 'Target is Graduate,', 'Target is Graduate,', 'Target is Graduate,', 'Target is Enrolled,', 'Target is Graduate,', 'Target is Enrolled,', 'Target is Graduate,', 'Target is Dropout,', 'Target is Enrolled,', 'Target is Enrolled,', 'Target is Enrolled,', 'Target is Enrolled,']\n"
     ]
    },
    {
     "name": "stderr",
     "output_type": "stream",
     "text": [
      " 92%|█████████▏| 923/1000 [07:03<00:34,  2.25it/s]"
     ]
    },
    {
     "name": "stdout",
     "output_type": "stream",
     "text": [
      "['Target is Dropout,', 'Target is Enrolled,', 'Target is Enrolled,', 'Target is Graduate,', 'Target is Graduate,', 'Target is Graduate,', 'Target is Graduate,', 'Target is Graduate,', 'Target is Graduate,', 'Target is Dropout,', 'Target is Graduate,', 'Target is Graduate,', 'Target is Enrolled,', 'Target is Dropout,', 'Target is Graduate,', 'Target is Graduate,', 'Target is Graduate,', 'Target is Dropout,', 'Target is Dropout,', 'Target is Enrolled,', 'Target is Dropout,', 'Target is Dropout,', 'Target is Graduate,', 'Target is Enrolled,', 'Target is Graduate,', 'Target is Graduate,', 'Target is Graduate,', 'Target is Graduate,', 'Target is Dropout,', 'Target is Enrolled,', 'Target is Graduate,', 'Target is Graduate,', 'Target is Graduate,', 'Target is Graduate,', 'Target is Graduate,', 'Target is Enrolled,', 'Target is Dropout,', 'Target is Dropout,', 'Target is Graduate,', 'Target is Graduate,', 'Target is Dropout,', 'Target is Enrolled,', 'Target is Graduate,', 'Target is Graduate,', 'Target is Graduate,', 'Target is Graduate,', 'Target is Graduate,', 'Target is Dropout,', 'Target is Graduate,', 'Target is Enrolled,']\n"
     ]
    },
    {
     "name": "stderr",
     "output_type": "stream",
     "text": [
      " 94%|█████████▍| 944/1000 [07:11<00:24,  2.30it/s]"
     ]
    },
    {
     "name": "stdout",
     "output_type": "stream",
     "text": [
      "['Target is Graduate,', 'Target is Dropout,', 'Target is Graduate,', 'Target is Graduate,', 'Target is Enrolled,', 'Target is Graduate,', 'Target is Enrolled,', 'Target is Graduate,', 'Target is Enrolled,', 'Target is Graduate,', 'Target is Dropout,', 'Target is Enrolled,', 'Target is Graduate,', 'Target is Dropout,', 'Target is Dropout,', 'Target is Graduate,', 'Target is Graduate,', 'Target is Graduate,', 'Target is Dropout,', 'Target is Enrolled,', 'Target is Graduate,', 'Target is Enrolled,', 'Target is Dropout,', 'Target is Graduate,', 'Target is Graduate,', 'Target is Graduate,', 'Target is Enrolled,', 'Target is Graduate,', 'Target is Graduate,', 'Target is Graduate,', 'Target is Dropout,', 'Target is Enrolled,', 'Target is Dropout,', 'Target is Enrolled,', 'Target is Enrolled,', 'Target is Dropout,', 'Target is Graduate,', 'Target is Graduate,', 'Target is Dropout,', 'Target is Dropout,', 'Target is Graduate,', 'Target is Enrolled,', 'Target is Dropout,', 'Target is Graduate,', 'Target is Dropout,', 'Target is Enrolled,', 'Target is Dropout,', 'Target is Enrolled,', 'Target is Enrolled,', 'Target is Dropout,']\n"
     ]
    },
    {
     "name": "stderr",
     "output_type": "stream",
     "text": [
      " 97%|█████████▋| 967/1000 [07:20<00:13,  2.37it/s]"
     ]
    },
    {
     "name": "stdout",
     "output_type": "stream",
     "text": [
      "['Target is Enrolled,', 'Target is Graduate,', 'Target is Enrolled,', 'Target is Dropout,', 'Target is Graduate,', 'Target is Enrolled,', 'Target is Graduate,', 'Target is Dropout,', 'Target is Dropout,', 'Target is Graduate,', 'Target is Graduate,', 'Target is Graduate,', 'Target is Enrolled,', 'Target is Graduate,', 'Target is Graduate,', 'Target is Graduate,', 'Target is Dropout,', 'Target is Graduate,', 'Target is Dropout,', 'Target is Enrolled,', 'Target is Graduate,', 'Target is Dropout,', 'Target is Graduate,', 'Target is Graduate,', 'Target is Graduate,', 'Target is Graduate,', 'Target is Dropout,', 'Target is Graduate,', 'Target is Graduate,', 'Target is Enrolled,', 'Target is Graduate,', 'Target is Graduate,', 'Target is Dropout,', 'Target is Enrolled,', 'Target is Dropout,', 'Target is Graduate,', 'Target is Graduate,', 'Target is Dropout,', 'Target is Dropout,', 'Target is Enrolled,', 'Target is Enrolled,', 'Target is Enrolled,', 'Target is Dropout,', 'Target is Enrolled,', 'Target is Enrolled,', 'Target is Graduate,', 'Target is Dropout,', 'Target is Graduate,', 'Target is Graduate,', 'Target is Enrolled,']\n"
     ]
    },
    {
     "name": "stderr",
     "output_type": "stream",
     "text": [
      " 98%|█████████▊| 985/1000 [07:29<00:06,  2.26it/s]"
     ]
    },
    {
     "name": "stdout",
     "output_type": "stream",
     "text": [
      "['Target is Dropout,', 'Target is Graduate,', 'Target is Enrolled,', 'Target is Dropout,', 'Target is Graduate,', 'Target is Enrolled,', 'Target is Dropout,', 'Target is Enrolled,', 'Target is Graduate,', 'Target is Dropout,', 'Target is Graduate,', 'Target is Graduate,', 'Target is Dropout,', 'Target is Enrolled,', 'Target is Enrolled,', 'Target is Graduate,', 'Target is Graduate,', 'Target is Dropout,', 'Target is Graduate,', 'Target is Enrolled,', 'Target is Graduate,', 'Target is Graduate,', 'Target is Graduate,', 'Target is Graduate,', 'Target is Graduate,', 'Target is Dropout,', 'Target is Graduate,', 'Target is Graduate,', 'Target is Enrolled,', 'Target is Graduate,', 'Target is Graduate,', 'Target is Dropout,', 'Target is Enrolled,', 'Target is Graduate,', 'Target is Enrolled,', 'Target is Graduate,', 'Target is Graduate,', 'Target is Graduate,', 'Target is Enrolled,', 'Target is Dropout,', 'Target is Dropout,', 'Target is Dropout,', 'Target is Enrolled,', 'Target is Graduate,', 'Target is Graduate,', 'Target is Dropout,', 'Target is Graduate,', 'Target is Graduate,', 'Target is Dropout,', 'Target is Dropout,']\n"
     ]
    },
    {
     "name": "stderr",
     "output_type": "stream",
     "text": [
      "1004it [07:37,  2.19it/s]                         \n"
     ]
    }
   ],
   "source": [
    "samples = great.sample(n_samples, k=50, max_length=500)"
   ]
  },
  {
   "cell_type": "code",
   "execution_count": 14,
   "id": "105aa225",
   "metadata": {},
   "outputs": [
    {
     "data": {
      "text/html": [
       "<div>\n",
       "<style scoped>\n",
       "    .dataframe tbody tr th:only-of-type {\n",
       "        vertical-align: middle;\n",
       "    }\n",
       "\n",
       "    .dataframe tbody tr th {\n",
       "        vertical-align: top;\n",
       "    }\n",
       "\n",
       "    .dataframe thead th {\n",
       "        text-align: right;\n",
       "    }\n",
       "</style>\n",
       "<table border=\"1\" class=\"dataframe\">\n",
       "  <thead>\n",
       "    <tr style=\"text-align: right;\">\n",
       "      <th></th>\n",
       "      <th>Marital status</th>\n",
       "      <th>Application mode</th>\n",
       "      <th>Application order</th>\n",
       "      <th>Course</th>\n",
       "      <th>Daytime/evening attendance\\t</th>\n",
       "      <th>Previous qualification</th>\n",
       "      <th>Previous qualification (grade)</th>\n",
       "      <th>Nacionality</th>\n",
       "      <th>Mother's qualification</th>\n",
       "      <th>Father's qualification</th>\n",
       "      <th>...</th>\n",
       "      <th>Curricular units 2nd sem (credited)</th>\n",
       "      <th>Curricular units 2nd sem (enrolled)</th>\n",
       "      <th>Curricular units 2nd sem (evaluations)</th>\n",
       "      <th>Curricular units 2nd sem (approved)</th>\n",
       "      <th>Curricular units 2nd sem (grade)</th>\n",
       "      <th>Curricular units 2nd sem (without evaluations)</th>\n",
       "      <th>Unemployment rate</th>\n",
       "      <th>Inflation rate</th>\n",
       "      <th>GDP</th>\n",
       "      <th>Target</th>\n",
       "    </tr>\n",
       "  </thead>\n",
       "  <tbody>\n",
       "    <tr>\n",
       "      <th>0</th>\n",
       "      <td>1.0</td>\n",
       "      <td>1.0</td>\n",
       "      <td>2.0</td>\n",
       "      <td>8014.0</td>\n",
       "      <td>1.0</td>\n",
       "      <td>1.0</td>\n",
       "      <td>131.0</td>\n",
       "      <td>1.0</td>\n",
       "      <td>37.0</td>\n",
       "      <td>38.0</td>\n",
       "      <td>...</td>\n",
       "      <td>0.0</td>\n",
       "      <td>6.0</td>\n",
       "      <td>13.0</td>\n",
       "      <td>5.0</td>\n",
       "      <td>11.833333</td>\n",
       "      <td>0.0</td>\n",
       "      <td>11.1</td>\n",
       "      <td>1.4</td>\n",
       "      <td>2.02</td>\n",
       "      <td>Graduate</td>\n",
       "    </tr>\n",
       "    <tr>\n",
       "      <th>1</th>\n",
       "      <td>1.0</td>\n",
       "      <td>1.0</td>\n",
       "      <td>3.0</td>\n",
       "      <td>9853.0</td>\n",
       "      <td>1.0</td>\n",
       "      <td>1.0</td>\n",
       "      <td>133.1</td>\n",
       "      <td>1.0</td>\n",
       "      <td>1.0</td>\n",
       "      <td>19.0</td>\n",
       "      <td>...</td>\n",
       "      <td>0.0</td>\n",
       "      <td>6.0</td>\n",
       "      <td>7.0</td>\n",
       "      <td>5.0</td>\n",
       "      <td>13.600000</td>\n",
       "      <td>0.0</td>\n",
       "      <td>16.2</td>\n",
       "      <td>0.6</td>\n",
       "      <td>1.79</td>\n",
       "      <td>Graduate</td>\n",
       "    </tr>\n",
       "    <tr>\n",
       "      <th>2</th>\n",
       "      <td>1.0</td>\n",
       "      <td>17.0</td>\n",
       "      <td>1.0</td>\n",
       "      <td>171.0</td>\n",
       "      <td>1.0</td>\n",
       "      <td>1.0</td>\n",
       "      <td>133.1</td>\n",
       "      <td>1.0</td>\n",
       "      <td>37.0</td>\n",
       "      <td>37.0</td>\n",
       "      <td>...</td>\n",
       "      <td>0.0</td>\n",
       "      <td>5.0</td>\n",
       "      <td>7.0</td>\n",
       "      <td>5.0</td>\n",
       "      <td>10.500000</td>\n",
       "      <td>0.0</td>\n",
       "      <td>13.9</td>\n",
       "      <td>-0.3</td>\n",
       "      <td>0.79</td>\n",
       "      <td>Graduate</td>\n",
       "    </tr>\n",
       "    <tr>\n",
       "      <th>3</th>\n",
       "      <td>1.0</td>\n",
       "      <td>1.0</td>\n",
       "      <td>2.0</td>\n",
       "      <td>9991.0</td>\n",
       "      <td>1.0</td>\n",
       "      <td>1.0</td>\n",
       "      <td>141.0</td>\n",
       "      <td>1.0</td>\n",
       "      <td>38.0</td>\n",
       "      <td>19.0</td>\n",
       "      <td>...</td>\n",
       "      <td>0.0</td>\n",
       "      <td>5.0</td>\n",
       "      <td>5.0</td>\n",
       "      <td>0.0</td>\n",
       "      <td>0.000000</td>\n",
       "      <td>0.0</td>\n",
       "      <td>10.8</td>\n",
       "      <td>0.5</td>\n",
       "      <td>1.74</td>\n",
       "      <td>Dropout</td>\n",
       "    </tr>\n",
       "    <tr>\n",
       "      <th>4</th>\n",
       "      <td>1.0</td>\n",
       "      <td>1.0</td>\n",
       "      <td>1.0</td>\n",
       "      <td>9556.0</td>\n",
       "      <td>1.0</td>\n",
       "      <td>1.0</td>\n",
       "      <td>128.0</td>\n",
       "      <td>1.0</td>\n",
       "      <td>1.0</td>\n",
       "      <td>19.0</td>\n",
       "      <td>...</td>\n",
       "      <td>0.0</td>\n",
       "      <td>6.0</td>\n",
       "      <td>0.0</td>\n",
       "      <td>0.0</td>\n",
       "      <td>0.000000</td>\n",
       "      <td>0.0</td>\n",
       "      <td>11.1</td>\n",
       "      <td>0.6</td>\n",
       "      <td>2.02</td>\n",
       "      <td>Dropout</td>\n",
       "    </tr>\n",
       "  </tbody>\n",
       "</table>\n",
       "<p>5 rows × 37 columns</p>\n",
       "</div>"
      ],
      "text/plain": [
       "   Marital status  Application mode  Application order  Course  \\\n",
       "0             1.0               1.0                2.0  8014.0   \n",
       "1             1.0               1.0                3.0  9853.0   \n",
       "2             1.0              17.0                1.0   171.0   \n",
       "3             1.0               1.0                2.0  9991.0   \n",
       "4             1.0               1.0                1.0  9556.0   \n",
       "\n",
       "   Daytime/evening attendance\\t  Previous qualification  \\\n",
       "0                           1.0                     1.0   \n",
       "1                           1.0                     1.0   \n",
       "2                           1.0                     1.0   \n",
       "3                           1.0                     1.0   \n",
       "4                           1.0                     1.0   \n",
       "\n",
       "   Previous qualification (grade)  Nacionality  Mother's qualification  \\\n",
       "0                           131.0          1.0                    37.0   \n",
       "1                           133.1          1.0                     1.0   \n",
       "2                           133.1          1.0                    37.0   \n",
       "3                           141.0          1.0                    38.0   \n",
       "4                           128.0          1.0                     1.0   \n",
       "\n",
       "   Father's qualification  ...  Curricular units 2nd sem (credited)  \\\n",
       "0                    38.0  ...                                  0.0   \n",
       "1                    19.0  ...                                  0.0   \n",
       "2                    37.0  ...                                  0.0   \n",
       "3                    19.0  ...                                  0.0   \n",
       "4                    19.0  ...                                  0.0   \n",
       "\n",
       "   Curricular units 2nd sem (enrolled)  \\\n",
       "0                                  6.0   \n",
       "1                                  6.0   \n",
       "2                                  5.0   \n",
       "3                                  5.0   \n",
       "4                                  6.0   \n",
       "\n",
       "   Curricular units 2nd sem (evaluations)  \\\n",
       "0                                    13.0   \n",
       "1                                     7.0   \n",
       "2                                     7.0   \n",
       "3                                     5.0   \n",
       "4                                     0.0   \n",
       "\n",
       "   Curricular units 2nd sem (approved)  Curricular units 2nd sem (grade)  \\\n",
       "0                                  5.0                         11.833333   \n",
       "1                                  5.0                         13.600000   \n",
       "2                                  5.0                         10.500000   \n",
       "3                                  0.0                          0.000000   \n",
       "4                                  0.0                          0.000000   \n",
       "\n",
       "   Curricular units 2nd sem (without evaluations)  Unemployment rate  \\\n",
       "0                                             0.0               11.1   \n",
       "1                                             0.0               16.2   \n",
       "2                                             0.0               13.9   \n",
       "3                                             0.0               10.8   \n",
       "4                                             0.0               11.1   \n",
       "\n",
       "   Inflation rate   GDP    Target  \n",
       "0             1.4  2.02  Graduate  \n",
       "1             0.6  1.79  Graduate  \n",
       "2            -0.3  0.79  Graduate  \n",
       "3             0.5  1.74   Dropout  \n",
       "4             0.6  2.02   Dropout  \n",
       "\n",
       "[5 rows x 37 columns]"
      ]
     },
     "execution_count": 14,
     "metadata": {},
     "output_type": "execute_result"
    }
   ],
   "source": [
    "samples.head()"
   ]
  },
  {
   "cell_type": "code",
   "execution_count": 15,
   "id": "c6f534d4",
   "metadata": {},
   "outputs": [],
   "source": [
    "samples.to_csv(\"C:/Users/Windows 11/Desktop/Dissertation/Codes/sample_data/Social Science/student_dropout_samples.csv\",index=False)"
   ]
  },
  {
   "cell_type": "markdown",
   "id": "70545fac",
   "metadata": {},
   "source": [
    "## Plot Data"
   ]
  },
  {
   "cell_type": "code",
   "execution_count": 25,
   "id": "ec9e0767",
   "metadata": {},
   "outputs": [
    {
     "data": {
      "text/html": [
       "<div>\n",
       "<style scoped>\n",
       "    .dataframe tbody tr th:only-of-type {\n",
       "        vertical-align: middle;\n",
       "    }\n",
       "\n",
       "    .dataframe tbody tr th {\n",
       "        vertical-align: top;\n",
       "    }\n",
       "\n",
       "    .dataframe thead th {\n",
       "        text-align: right;\n",
       "    }\n",
       "</style>\n",
       "<table border=\"1\" class=\"dataframe\">\n",
       "  <thead>\n",
       "    <tr style=\"text-align: right;\">\n",
       "      <th></th>\n",
       "      <th>Age</th>\n",
       "      <th>FrequentFlyer</th>\n",
       "      <th>AnnualIncomeClass</th>\n",
       "      <th>ServicesOpted</th>\n",
       "      <th>AccountSyncedToSocialMedia</th>\n",
       "      <th>BookedHotelOrNot</th>\n",
       "      <th>Target</th>\n",
       "    </tr>\n",
       "  </thead>\n",
       "  <tbody>\n",
       "    <tr>\n",
       "      <th>670</th>\n",
       "      <td>30</td>\n",
       "      <td>No</td>\n",
       "      <td>Low Income</td>\n",
       "      <td>1</td>\n",
       "      <td>No</td>\n",
       "      <td>Yes</td>\n",
       "      <td>0</td>\n",
       "    </tr>\n",
       "    <tr>\n",
       "      <th>211</th>\n",
       "      <td>29</td>\n",
       "      <td>No</td>\n",
       "      <td>Low Income</td>\n",
       "      <td>2</td>\n",
       "      <td>No</td>\n",
       "      <td>No</td>\n",
       "      <td>0</td>\n",
       "    </tr>\n",
       "    <tr>\n",
       "      <th>821</th>\n",
       "      <td>37</td>\n",
       "      <td>Yes</td>\n",
       "      <td>High Income</td>\n",
       "      <td>1</td>\n",
       "      <td>No</td>\n",
       "      <td>No</td>\n",
       "      <td>0</td>\n",
       "    </tr>\n",
       "    <tr>\n",
       "      <th>410</th>\n",
       "      <td>30</td>\n",
       "      <td>No</td>\n",
       "      <td>Middle Income</td>\n",
       "      <td>3</td>\n",
       "      <td>No</td>\n",
       "      <td>Yes</td>\n",
       "      <td>0</td>\n",
       "    </tr>\n",
       "    <tr>\n",
       "      <th>255</th>\n",
       "      <td>37</td>\n",
       "      <td>No</td>\n",
       "      <td>Middle Income</td>\n",
       "      <td>6</td>\n",
       "      <td>No</td>\n",
       "      <td>Yes</td>\n",
       "      <td>0</td>\n",
       "    </tr>\n",
       "  </tbody>\n",
       "</table>\n",
       "</div>"
      ],
      "text/plain": [
       "     Age FrequentFlyer AnnualIncomeClass  ServicesOpted  \\\n",
       "670   30            No        Low Income              1   \n",
       "211   29            No        Low Income              2   \n",
       "821   37           Yes       High Income              1   \n",
       "410   30            No     Middle Income              3   \n",
       "255   37            No     Middle Income              6   \n",
       "\n",
       "    AccountSyncedToSocialMedia BookedHotelOrNot  Target  \n",
       "670                         No              Yes       0  \n",
       "211                         No               No       0  \n",
       "821                         No               No       0  \n",
       "410                         No              Yes       0  \n",
       "255                         No              Yes       0  "
      ]
     },
     "execution_count": 25,
     "metadata": {},
     "output_type": "execute_result"
    },
    {
     "data": {
      "image/png": "[encoded data removed]",
      "text/plain": [
       "<Figure size 1200x400 with 2 Axes>"
      ]
     },
     "metadata": {},
     "output_type": "display_data"
    }
   ],
   "source": [
    "fig, ax = plt.subplots(1, 2, figsize=(12, 4))\n",
    "true_samples = data.sample(n = 100)\n",
    "true_samples.head()"
   ]
  },
  {
   "cell_type": "markdown",
   "id": "e3e051cc",
   "metadata": {},
   "source": [
    "Original Data"
   ]
  },
  {
   "cell_type": "code",
   "execution_count": 27,
   "id": "e70c4dfd",
   "metadata": {},
   "outputs": [
    {
     "data": {
      "text/plain": [
       "<matplotlib.collections.PathCollection at 0x7f4176431b50>"
      ]
     },
     "execution_count": 27,
     "metadata": {},
     "output_type": "execute_result"
    },
    {
     "data": {
      "image/png": "[encoded data removed]",
      "text/plain": [
       "<Figure size 1200x400 with 2 Axes>"
      ]
     },
     "metadata": {},
     "output_type": "display_data"
    }
   ],
   "source": [
    "fig, ax = plt.subplots(1, 2, figsize=(12, 4))\n",
    "true_samples = data.sample(n = 200)\n",
    "ax[0].scatter(true_samples[\"Age\"], true_samples[\"FrequentFlyer\"], c=true_samples[\"Target\"])\n",
    "ax[1].scatter(true_samples[\"AnnualIncomeClass\"], true_samples[\"ServicesOpted\"], c=true_samples[\"Target\"])"
   ]
  },
  {
   "cell_type": "markdown",
   "id": "f56b0e03",
   "metadata": {},
   "source": [
    "Generated samples"
   ]
  },
  {
   "cell_type": "code",
   "execution_count": 28,
   "id": "66d7efcc",
   "metadata": {},
   "outputs": [],
   "source": [
    "samples = pd.read_csv(\"C:/Users/Windows 11/Desktop/Dissertation/Codes/sample_data/travel_samples.csv\")"
   ]
  },
  {
   "cell_type": "code",
   "execution_count": 29,
   "id": "96d782e2",
   "metadata": {},
   "outputs": [
    {
     "data": {
      "text/plain": [
       "<matplotlib.collections.PathCollection at 0x7f4176371af0>"
      ]
     },
     "execution_count": 29,
     "metadata": {},
     "output_type": "execute_result"
    },
    {
     "data": {
      "image/png": "[encoded data removed]",
      "text/plain": [
       "<Figure size 1200x400 with 2 Axes>"
      ]
     },
     "metadata": {},
     "output_type": "display_data"
    }
   ],
   "source": [
    "fig, ax = plt.subplots(1, 2, figsize=(12, 4))\n",
    "\n",
    "ax[0].scatter(samples[\"Age\"], samples[\"FrequentFlyer\"], c=samples[\"Target\"])\n",
    "ax[0].set_ylim(1.8, 4.5)\n",
    "ax[1].scatter(samples[\"AnnualIncomeClass\"], samples[\"ServicesOpted\"], c=samples[\"Target\"].astype(\"int\"))\n"
   ]
  },
  {
   "cell_type": "code",
   "execution_count": null,
   "id": "69639c1e",
   "metadata": {},
   "outputs": [],
   "source": []
  },
  {
   "cell_type": "code",
   "execution_count": null,
   "id": "20708e2c",
   "metadata": {},
   "outputs": [],
   "source": []
  }
 ],
 "metadata": {
  "kernelspec": {
   "display_name": "Python 3 (ipykernel)",
   "language": "python",
   "name": "python3"
  },
  "language_info": {
   "codemirror_mode": {
    "name": "ipython",
    "version": 3
   },
   "file_extension": ".py",
   "mimetype": "text/x-python",
   "name": "python",
   "nbconvert_exporter": "python",
   "pygments_lexer": "ipython3",
   "version": "3.11.7"
  }
 },
 "nbformat": 4,
 "nbformat_minor": 5
}
