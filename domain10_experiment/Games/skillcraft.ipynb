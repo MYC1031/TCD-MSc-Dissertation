{
 "cells": [
  {
   "cell_type": "markdown",
   "id": "245418c1",
   "metadata": {},
   "source": [
    "## GReaT Example with Iris Dataset"
   ]
  },
  {
   "cell_type": "code",
   "execution_count": 1,
   "id": "ab1f4da7-4b93-4055-8d56-6030c7498999",
   "metadata": {},
   "outputs": [],
   "source": [
    "# Execute only once!\n",
    "import os\n",
    "import sys\n",
    "sys.path.append(\"..\")\n",
    "os.chdir(\"..\")\n",
    "\n",
    "os.environ[\"CUDA_VISIBLE_DEVICES\"]=\"1\""
   ]
  },
  {
   "cell_type": "code",
   "execution_count": 2,
   "id": "b5009b62",
   "metadata": {},
   "outputs": [],
   "source": [
    "import numpy as np\n",
    "import pandas as pd\n",
    "import logging"
   ]
  },
  {
   "cell_type": "code",
   "execution_count": 3,
   "id": "71836c07-2530-44af-9b4b-cf72aff34426",
   "metadata": {},
   "outputs": [
    {
     "name": "stderr",
     "output_type": "stream",
     "text": [
      "/data/guoquanjiang/envs/begreat/lib/python3.9/site-packages/tqdm/auto.py:21: TqdmWarning: IProgress not found. Please update jupyter and ipywidgets. See https://ipywidgets.readthedocs.io/en/stable/user_install.html\n",
      "  from .autonotebook import tqdm as notebook_tqdm\n"
     ]
    }
   ],
   "source": [
    "from examples.utils import set_logging_level\n",
    "from be_great import GReaT"
   ]
  },
  {
   "cell_type": "code",
   "execution_count": 4,
   "id": "00695066",
   "metadata": {},
   "outputs": [],
   "source": [
    "import matplotlib.pyplot as plt"
   ]
  },
  {
   "cell_type": "code",
   "execution_count": 5,
   "id": "39088828",
   "metadata": {},
   "outputs": [
    {
     "data": {
      "text/html": [
       "<div>\n",
       "<style scoped>\n",
       "    .dataframe tbody tr th:only-of-type {\n",
       "        vertical-align: middle;\n",
       "    }\n",
       "\n",
       "    .dataframe tbody tr th {\n",
       "        vertical-align: top;\n",
       "    }\n",
       "\n",
       "    .dataframe thead th {\n",
       "        text-align: right;\n",
       "    }\n",
       "</style>\n",
       "<table border=\"1\" class=\"dataframe\">\n",
       "  <thead>\n",
       "    <tr style=\"text-align: right;\">\n",
       "      <th></th>\n",
       "      <th>GameID</th>\n",
       "      <th>LeagueIndex</th>\n",
       "      <th>Age</th>\n",
       "      <th>HoursPerWeek</th>\n",
       "      <th>TotalHours</th>\n",
       "      <th>APM</th>\n",
       "      <th>SelectByHotkeys</th>\n",
       "      <th>AssignToHotkeys</th>\n",
       "      <th>UniqueHotkeys</th>\n",
       "      <th>MinimapAttacks</th>\n",
       "      <th>MinimapRightClicks</th>\n",
       "      <th>NumberOfPACs</th>\n",
       "      <th>GapBetweenPACs</th>\n",
       "      <th>ActionLatency</th>\n",
       "      <th>ActionsInPAC</th>\n",
       "      <th>TotalMapExplored</th>\n",
       "      <th>WorkersMade</th>\n",
       "      <th>UniqueUnitsMade</th>\n",
       "      <th>ComplexUnitsMade</th>\n",
       "      <th>ComplexAbilitiesUsed</th>\n",
       "    </tr>\n",
       "  </thead>\n",
       "  <tbody>\n",
       "    <tr>\n",
       "      <th>2728</th>\n",
       "      <td>7611</td>\n",
       "      <td>5</td>\n",
       "      <td>20</td>\n",
       "      <td>8</td>\n",
       "      <td>500</td>\n",
       "      <td>185.8890</td>\n",
       "      <td>0.013836</td>\n",
       "      <td>0.000539</td>\n",
       "      <td>6</td>\n",
       "      <td>0.000012</td>\n",
       "      <td>0.000809</td>\n",
       "      <td>0.003873</td>\n",
       "      <td>29.9048</td>\n",
       "      <td>45.6203</td>\n",
       "      <td>5.4430</td>\n",
       "      <td>27</td>\n",
       "      <td>0.000931</td>\n",
       "      <td>7</td>\n",
       "      <td>0.000000</td>\n",
       "      <td>0.000221</td>\n",
       "    </tr>\n",
       "    <tr>\n",
       "      <th>637</th>\n",
       "      <td>1824</td>\n",
       "      <td>6</td>\n",
       "      <td>21</td>\n",
       "      <td>10</td>\n",
       "      <td>800</td>\n",
       "      <td>152.8692</td>\n",
       "      <td>0.009566</td>\n",
       "      <td>0.000568</td>\n",
       "      <td>5</td>\n",
       "      <td>0.000092</td>\n",
       "      <td>0.000553</td>\n",
       "      <td>0.003562</td>\n",
       "      <td>38.0779</td>\n",
       "      <td>57.1034</td>\n",
       "      <td>5.4224</td>\n",
       "      <td>15</td>\n",
       "      <td>0.000584</td>\n",
       "      <td>6</td>\n",
       "      <td>0.000000</td>\n",
       "      <td>0.000061</td>\n",
       "    </tr>\n",
       "    <tr>\n",
       "      <th>2112</th>\n",
       "      <td>5943</td>\n",
       "      <td>5</td>\n",
       "      <td>21</td>\n",
       "      <td>10</td>\n",
       "      <td>730</td>\n",
       "      <td>85.9692</td>\n",
       "      <td>0.006196</td>\n",
       "      <td>0.000135</td>\n",
       "      <td>2</td>\n",
       "      <td>0.000054</td>\n",
       "      <td>0.000391</td>\n",
       "      <td>0.003044</td>\n",
       "      <td>42.6489</td>\n",
       "      <td>88.3540</td>\n",
       "      <td>3.3097</td>\n",
       "      <td>18</td>\n",
       "      <td>0.000674</td>\n",
       "      <td>6</td>\n",
       "      <td>0.000054</td>\n",
       "      <td>0.000081</td>\n",
       "    </tr>\n",
       "    <tr>\n",
       "      <th>219</th>\n",
       "      <td>664</td>\n",
       "      <td>5</td>\n",
       "      <td>28</td>\n",
       "      <td>8</td>\n",
       "      <td>500</td>\n",
       "      <td>72.8160</td>\n",
       "      <td>0.000284</td>\n",
       "      <td>0.000124</td>\n",
       "      <td>0</td>\n",
       "      <td>0.000213</td>\n",
       "      <td>0.000036</td>\n",
       "      <td>0.003129</td>\n",
       "      <td>22.6514</td>\n",
       "      <td>63.2045</td>\n",
       "      <td>4.2955</td>\n",
       "      <td>13</td>\n",
       "      <td>0.000942</td>\n",
       "      <td>3</td>\n",
       "      <td>0.000000</td>\n",
       "      <td>0.000000</td>\n",
       "    </tr>\n",
       "    <tr>\n",
       "      <th>3058</th>\n",
       "      <td>8491</td>\n",
       "      <td>4</td>\n",
       "      <td>21</td>\n",
       "      <td>16</td>\n",
       "      <td>300</td>\n",
       "      <td>116.7840</td>\n",
       "      <td>0.002995</td>\n",
       "      <td>0.000087</td>\n",
       "      <td>5</td>\n",
       "      <td>0.000000</td>\n",
       "      <td>0.000561</td>\n",
       "      <td>0.003620</td>\n",
       "      <td>39.6149</td>\n",
       "      <td>61.4672</td>\n",
       "      <td>5.0349</td>\n",
       "      <td>23</td>\n",
       "      <td>0.000593</td>\n",
       "      <td>7</td>\n",
       "      <td>0.000166</td>\n",
       "      <td>0.000040</td>\n",
       "    </tr>\n",
       "  </tbody>\n",
       "</table>\n",
       "</div>"
      ],
      "text/plain": [
       "      GameID  LeagueIndex Age HoursPerWeek TotalHours       APM  \\\n",
       "2728    7611            5  20            8        500  185.8890   \n",
       "637     1824            6  21           10        800  152.8692   \n",
       "2112    5943            5  21           10        730   85.9692   \n",
       "219      664            5  28            8        500   72.8160   \n",
       "3058    8491            4  21           16        300  116.7840   \n",
       "\n",
       "      SelectByHotkeys  AssignToHotkeys  UniqueHotkeys  MinimapAttacks  \\\n",
       "2728         0.013836         0.000539              6        0.000012   \n",
       "637          0.009566         0.000568              5        0.000092   \n",
       "2112         0.006196         0.000135              2        0.000054   \n",
       "219          0.000284         0.000124              0        0.000213   \n",
       "3058         0.002995         0.000087              5        0.000000   \n",
       "\n",
       "      MinimapRightClicks  NumberOfPACs  GapBetweenPACs  ActionLatency  \\\n",
       "2728            0.000809      0.003873         29.9048        45.6203   \n",
       "637             0.000553      0.003562         38.0779        57.1034   \n",
       "2112            0.000391      0.003044         42.6489        88.3540   \n",
       "219             0.000036      0.003129         22.6514        63.2045   \n",
       "3058            0.000561      0.003620         39.6149        61.4672   \n",
       "\n",
       "      ActionsInPAC  TotalMapExplored  WorkersMade  UniqueUnitsMade  \\\n",
       "2728        5.4430                27     0.000931                7   \n",
       "637         5.4224                15     0.000584                6   \n",
       "2112        3.3097                18     0.000674                6   \n",
       "219         4.2955                13     0.000942                3   \n",
       "3058        5.0349                23     0.000593                7   \n",
       "\n",
       "      ComplexUnitsMade  ComplexAbilitiesUsed  \n",
       "2728          0.000000              0.000221  \n",
       "637           0.000000              0.000061  \n",
       "2112          0.000054              0.000081  \n",
       "219           0.000000              0.000000  \n",
       "3058          0.000166              0.000040  "
      ]
     },
     "execution_count": 5,
     "metadata": {},
     "output_type": "execute_result"
    }
   ],
   "source": [
    "logger = set_logging_level(logging.INFO)\n",
    "data = pd.read_csv('C:/Users/Windows 11/Desktop/Dissertation/Codes/Data/Games/SkillCraft1_Dataset.csv')\n",
    "data=data.sample(n=1000)\n",
    "data.head()"
   ]
  },
  {
   "cell_type": "markdown",
   "id": "5911b9b1",
   "metadata": {},
   "source": [
    "### Create GReaT Model"
   ]
  },
  {
   "cell_type": "code",
   "execution_count": 7,
   "id": "1a316696",
   "metadata": {},
   "outputs": [],
   "source": [
    "# great = GReaT(\"/data/guoquanjiang/llm_ner/llama3-8b/LLM-Research/Meta-Llama-3-8B\",                  # Name of the large language model used (see HuggingFace for more options)\n",
    "#               epochs=10,                   # Number of epochs to train\n",
    "#               save_steps=2000,               # Save model weights every x steps\n",
    "#               logging_steps=500,             # Log the loss and learning rate every x steps\n",
    "#               experiment_dir=\"trainer_travel\", # Name of the directory where all intermediate steps are saved\n",
    "#               batch_size=16,                 # Batch Size\n",
    "#               #lr_scheduler_type=\"constant\", # Specify the learning rate scheduler \n",
    "#               #learning_rate=5e-5            # Set the inital learning rate\n",
    "#               efficient_finetuning=\"lora\"\n",
    "#              )\n",
    "great = GReaT(\"C:/Users/Windows 11/Desktop/Dissertation/Codes/models/iiBcai/gpt2\",                  # Name of the large language model used (see HuggingFace for more options)\n",
    "              epochs=10,                   # Number of epochs to train\n",
    "              save_steps=2000,               # Save model weights every x steps\n",
    "              logging_steps=100,             # Log the loss and learning rate every x steps\n",
    "              experiment_dir=\"trainer_chess_game\", # Name of the directory where all intermediate steps are saved\n",
    "              batch_size=32                # Batch Size\n",
    "              #lr_scheduler_type=\"constant\", # Specify the learning rate scheduler \n",
    "              #learning_rate=5e-5            # Set the inital learning rate\n",
    "            #   efficient_finetuning=\"lora\"\n",
    "             )"
   ]
  },
  {
   "cell_type": "markdown",
   "id": "3c7b173f",
   "metadata": {},
   "source": [
    "### Start Training"
   ]
  },
  {
   "cell_type": "code",
   "execution_count": 8,
   "id": "200e000c",
   "metadata": {
    "scrolled": true
   },
   "outputs": [
    {
     "name": "stderr",
     "output_type": "stream",
     "text": [
      "\u001b[39;20m2024-06-29 18:24:13,574 - INFO - Convert data into HuggingFace dataset object... (great.py:172)\u001b[0m\n",
      "\u001b[39;20m2024-06-29 18:24:13,593 - INFO - Create GReaT Trainer... (great.py:177)\u001b[0m\n",
      "\u001b[39;20m2024-06-29 18:24:14,415 - INFO - Start training... (great.py:193)\u001b[0m\n",
      "You're using a GPT2TokenizerFast tokenizer. Please note that with a fast tokenizer, using the `__call__` method is faster than using a method to encode the text followed by a call to the `pad` method to get a padded encoding.\n"
     ]
    },
    {
     "data": {
      "text/html": [
       "\n",
       "    <div>\n",
       "      \n",
       "      <progress value='320' max='320' style='width:300px; height:20px; vertical-align: middle;'></progress>\n",
       "      [320/320 04:18, Epoch 10/10]\n",
       "    </div>\n",
       "    <table border=\"1\" class=\"dataframe\">\n",
       "  <thead>\n",
       " <tr style=\"text-align: left;\">\n",
       "      <th>Step</th>\n",
       "      <th>Training Loss</th>\n",
       "    </tr>\n",
       "  </thead>\n",
       "  <tbody>\n",
       "    <tr>\n",
       "      <td>100</td>\n",
       "      <td>1.694000</td>\n",
       "    </tr>\n",
       "    <tr>\n",
       "      <td>200</td>\n",
       "      <td>1.371000</td>\n",
       "    </tr>\n",
       "    <tr>\n",
       "      <td>300</td>\n",
       "      <td>1.339100</td>\n",
       "    </tr>\n",
       "  </tbody>\n",
       "</table><p>"
      ],
      "text/plain": [
       "<IPython.core.display.HTML object>"
      ]
     },
     "metadata": {},
     "output_type": "display_data"
    }
   ],
   "source": [
    "trainer = great.fit(data)"
   ]
  },
  {
   "cell_type": "code",
   "execution_count": 9,
   "id": "cfe8184d",
   "metadata": {},
   "outputs": [
    {
     "data": {
      "text/plain": [
       "{'train_runtime': 259.9306,\n",
       " 'train_samples_per_second': 38.472,\n",
       " 'train_steps_per_second': 1.231,\n",
       " 'total_flos': 1028776135680000.0,\n",
       " 'train_loss': 1.459480309486389,\n",
       " 'epoch': 10.0,\n",
       " 'step': 320}"
      ]
     },
     "execution_count": 9,
     "metadata": {},
     "output_type": "execute_result"
    }
   ],
   "source": [
    "loss_hist = trainer.state.log_history.copy()\n",
    "loss_hist.pop()"
   ]
  },
  {
   "cell_type": "code",
   "execution_count": 10,
   "id": "76deeb9e",
   "metadata": {},
   "outputs": [],
   "source": [
    "loss = [x[\"loss\"] for x in loss_hist]\n",
    "epochs = [x[\"epoch\"] for x in loss_hist]"
   ]
  },
  {
   "cell_type": "code",
   "execution_count": 11,
   "id": "bcd7fc6f",
   "metadata": {},
   "outputs": [
    {
     "data": {
      "text/plain": [
       "[<matplotlib.lines.Line2D at 0x7f750f267b20>]"
      ]
     },
     "execution_count": 11,
     "metadata": {},
     "output_type": "execute_result"
    },
    {
     "data": {
      "image/png": "[encoded data removed]",
      "text/plain": [
       "<Figure size 640x480 with 1 Axes>"
      ]
     },
     "metadata": {},
     "output_type": "display_data"
    }
   ],
   "source": [
    "plt.plot(epochs, loss)"
   ]
  },
  {
   "cell_type": "markdown",
   "id": "fdb05fe0",
   "metadata": {},
   "source": [
    "### Generate Samples"
   ]
  },
  {
   "cell_type": "code",
   "execution_count": 12,
   "id": "4bb298ac",
   "metadata": {},
   "outputs": [],
   "source": [
    "n_samples = 1000"
   ]
  },
  {
   "cell_type": "code",
   "execution_count": 13,
   "id": "2106b9f2",
   "metadata": {},
   "outputs": [
    {
     "name": "stderr",
     "output_type": "stream",
     "text": [
      "100%|██████████| 1000/1000 [15:22<00:00,  1.08it/s]\n"
     ]
    }
   ],
   "source": [
    "samples = great.sample(n_samples, k=50, max_length=200)"
   ]
  },
  {
   "cell_type": "code",
   "execution_count": 14,
   "id": "105aa225",
   "metadata": {},
   "outputs": [
    {
     "data": {
      "text/html": [
       "<div>\n",
       "<style scoped>\n",
       "    .dataframe tbody tr th:only-of-type {\n",
       "        vertical-align: middle;\n",
       "    }\n",
       "\n",
       "    .dataframe tbody tr th {\n",
       "        vertical-align: top;\n",
       "    }\n",
       "\n",
       "    .dataframe thead th {\n",
       "        text-align: right;\n",
       "    }\n",
       "</style>\n",
       "<table border=\"1\" class=\"dataframe\">\n",
       "  <thead>\n",
       "    <tr style=\"text-align: right;\">\n",
       "      <th></th>\n",
       "      <th>GameID</th>\n",
       "      <th>LeagueIndex</th>\n",
       "      <th>Age</th>\n",
       "      <th>HoursPerWeek</th>\n",
       "      <th>TotalHours</th>\n",
       "      <th>APM</th>\n",
       "      <th>SelectByHotkeys</th>\n",
       "      <th>AssignToHotkeys</th>\n",
       "      <th>UniqueHotkeys</th>\n",
       "      <th>MinimapAttacks</th>\n",
       "      <th>MinimapRightClicks</th>\n",
       "      <th>NumberOfPACs</th>\n",
       "      <th>GapBetweenPACs</th>\n",
       "      <th>ActionLatency</th>\n",
       "      <th>ActionsInPAC</th>\n",
       "      <th>TotalMapExplored</th>\n",
       "      <th>WorkersMade</th>\n",
       "      <th>UniqueUnitsMade</th>\n",
       "      <th>ComplexUnitsMade</th>\n",
       "      <th>ComplexAbilitiesUsed</th>\n",
       "    </tr>\n",
       "  </thead>\n",
       "  <tbody>\n",
       "    <tr>\n",
       "      <th>0</th>\n",
       "      <td>5458.0</td>\n",
       "      <td>5.0</td>\n",
       "      <td>18</td>\n",
       "      <td>6</td>\n",
       "      <td>500</td>\n",
       "      <td>117.0708</td>\n",
       "      <td>0.016716</td>\n",
       "      <td>0.000637</td>\n",
       "      <td>7.0</td>\n",
       "      <td>0.000155</td>\n",
       "      <td>0.000723</td>\n",
       "      <td>0.003413</td>\n",
       "      <td>38.6000</td>\n",
       "      <td>78.4236</td>\n",
       "      <td>4.9762</td>\n",
       "      <td>24.0</td>\n",
       "      <td>0.001311</td>\n",
       "      <td>7.0</td>\n",
       "      <td>0.000131</td>\n",
       "      <td>0.00009</td>\n",
       "    </tr>\n",
       "    <tr>\n",
       "      <th>1</th>\n",
       "      <td>3398.0</td>\n",
       "      <td>4.0</td>\n",
       "      <td>23</td>\n",
       "      <td>8</td>\n",
       "      <td>300</td>\n",
       "      <td>71.9080</td>\n",
       "      <td>0.004413</td>\n",
       "      <td>0.000552</td>\n",
       "      <td>4.0</td>\n",
       "      <td>0.000000</td>\n",
       "      <td>0.000303</td>\n",
       "      <td>0.002835</td>\n",
       "      <td>34.7992</td>\n",
       "      <td>71.9105</td>\n",
       "      <td>6.8293</td>\n",
       "      <td>29.0</td>\n",
       "      <td>0.000712</td>\n",
       "      <td>7.0</td>\n",
       "      <td>0.000230</td>\n",
       "      <td>0.00001</td>\n",
       "    </tr>\n",
       "    <tr>\n",
       "      <th>2</th>\n",
       "      <td>6046.0</td>\n",
       "      <td>5.0</td>\n",
       "      <td>21</td>\n",
       "      <td>24</td>\n",
       "      <td>750</td>\n",
       "      <td>74.2912</td>\n",
       "      <td>0.001498</td>\n",
       "      <td>0.001769</td>\n",
       "      <td>1.0</td>\n",
       "      <td>0.000011</td>\n",
       "      <td>0.000367</td>\n",
       "      <td>0.003668</td>\n",
       "      <td>62.7885</td>\n",
       "      <td>59.3412</td>\n",
       "      <td>4.5958</td>\n",
       "      <td>25.0</td>\n",
       "      <td>0.000678</td>\n",
       "      <td>7.0</td>\n",
       "      <td>0.000000</td>\n",
       "      <td>0.00000</td>\n",
       "    </tr>\n",
       "    <tr>\n",
       "      <th>3</th>\n",
       "      <td>2921.0</td>\n",
       "      <td>4.0</td>\n",
       "      <td>21</td>\n",
       "      <td>30</td>\n",
       "      <td>2200</td>\n",
       "      <td>147.5272</td>\n",
       "      <td>0.003636</td>\n",
       "      <td>0.000428</td>\n",
       "      <td>3.0</td>\n",
       "      <td>0.000373</td>\n",
       "      <td>0.000364</td>\n",
       "      <td>0.004975</td>\n",
       "      <td>20.7288</td>\n",
       "      <td>76.5874</td>\n",
       "      <td>4.4236</td>\n",
       "      <td>28.0</td>\n",
       "      <td>0.002389</td>\n",
       "      <td>8.0</td>\n",
       "      <td>0.000288</td>\n",
       "      <td>0.00075</td>\n",
       "    </tr>\n",
       "    <tr>\n",
       "      <th>4</th>\n",
       "      <td>7265.0</td>\n",
       "      <td>6.0</td>\n",
       "      <td>24</td>\n",
       "      <td>4</td>\n",
       "      <td>300</td>\n",
       "      <td>108.1668</td>\n",
       "      <td>0.000339</td>\n",
       "      <td>0.000586</td>\n",
       "      <td>3.0</td>\n",
       "      <td>0.000000</td>\n",
       "      <td>0.000596</td>\n",
       "      <td>0.003578</td>\n",
       "      <td>32.4846</td>\n",
       "      <td>65.2318</td>\n",
       "      <td>3.7111</td>\n",
       "      <td>8.0</td>\n",
       "      <td>0.000000</td>\n",
       "      <td>4.0</td>\n",
       "      <td>0.000154</td>\n",
       "      <td>0.00000</td>\n",
       "    </tr>\n",
       "  </tbody>\n",
       "</table>\n",
       "</div>"
      ],
      "text/plain": [
       "   GameID  LeagueIndex Age HoursPerWeek TotalHours       APM  SelectByHotkeys  \\\n",
       "0  5458.0          5.0  18            6        500  117.0708         0.016716   \n",
       "1  3398.0          4.0  23            8        300   71.9080         0.004413   \n",
       "2  6046.0          5.0  21           24        750   74.2912         0.001498   \n",
       "3  2921.0          4.0  21           30       2200  147.5272         0.003636   \n",
       "4  7265.0          6.0  24            4        300  108.1668         0.000339   \n",
       "\n",
       "   AssignToHotkeys  UniqueHotkeys  MinimapAttacks  MinimapRightClicks  \\\n",
       "0         0.000637            7.0        0.000155            0.000723   \n",
       "1         0.000552            4.0        0.000000            0.000303   \n",
       "2         0.001769            1.0        0.000011            0.000367   \n",
       "3         0.000428            3.0        0.000373            0.000364   \n",
       "4         0.000586            3.0        0.000000            0.000596   \n",
       "\n",
       "   NumberOfPACs  GapBetweenPACs  ActionLatency  ActionsInPAC  \\\n",
       "0      0.003413         38.6000        78.4236        4.9762   \n",
       "1      0.002835         34.7992        71.9105        6.8293   \n",
       "2      0.003668         62.7885        59.3412        4.5958   \n",
       "3      0.004975         20.7288        76.5874        4.4236   \n",
       "4      0.003578         32.4846        65.2318        3.7111   \n",
       "\n",
       "   TotalMapExplored  WorkersMade  UniqueUnitsMade  ComplexUnitsMade  \\\n",
       "0              24.0     0.001311              7.0          0.000131   \n",
       "1              29.0     0.000712              7.0          0.000230   \n",
       "2              25.0     0.000678              7.0          0.000000   \n",
       "3              28.0     0.002389              8.0          0.000288   \n",
       "4               8.0     0.000000              4.0          0.000154   \n",
       "\n",
       "   ComplexAbilitiesUsed  \n",
       "0               0.00009  \n",
       "1               0.00001  \n",
       "2               0.00000  \n",
       "3               0.00075  \n",
       "4               0.00000  "
      ]
     },
     "execution_count": 14,
     "metadata": {},
     "output_type": "execute_result"
    }
   ],
   "source": [
    "samples.head()"
   ]
  },
  {
   "cell_type": "code",
   "execution_count": 15,
   "id": "c6f534d4",
   "metadata": {},
   "outputs": [
    {
     "ename": "",
     "evalue": "",
     "output_type": "error",
     "traceback": [
      "\u001b[1;31m在当前单元格或上一个单元格中执行代码时 Kernel 崩溃。\n",
      "\u001b[1;31m请查看单元格中的代码，以确定故障的可能原因。\n",
      "\u001b[1;31m单击<a href='https://aka.ms/vscodeJupyterKernelCrash'>此处</a>了解详细信息。\n",
      "\u001b[1;31m有关更多详细信息，请查看 Jupyter <a href='command:jupyter.viewOutput'>log</a>。"
     ]
    }
   ],
   "source": [
    "samples.to_csv(\"C:/Users/Windows 11/Desktop/Dissertation/Codes/sample_data/Games/skillcraft_samples.csv\",index=False)"
   ]
  },
  {
   "cell_type": "markdown",
   "id": "70545fac",
   "metadata": {},
   "source": [
    "## Plot Data"
   ]
  },
  {
   "cell_type": "code",
   "execution_count": 25,
   "id": "ec9e0767",
   "metadata": {},
   "outputs": [
    {
     "data": {
      "text/html": [
       "<div>\n",
       "<style scoped>\n",
       "    .dataframe tbody tr th:only-of-type {\n",
       "        vertical-align: middle;\n",
       "    }\n",
       "\n",
       "    .dataframe tbody tr th {\n",
       "        vertical-align: top;\n",
       "    }\n",
       "\n",
       "    .dataframe thead th {\n",
       "        text-align: right;\n",
       "    }\n",
       "</style>\n",
       "<table border=\"1\" class=\"dataframe\">\n",
       "  <thead>\n",
       "    <tr style=\"text-align: right;\">\n",
       "      <th></th>\n",
       "      <th>Age</th>\n",
       "      <th>FrequentFlyer</th>\n",
       "      <th>AnnualIncomeClass</th>\n",
       "      <th>ServicesOpted</th>\n",
       "      <th>AccountSyncedToSocialMedia</th>\n",
       "      <th>BookedHotelOrNot</th>\n",
       "      <th>Target</th>\n",
       "    </tr>\n",
       "  </thead>\n",
       "  <tbody>\n",
       "    <tr>\n",
       "      <th>670</th>\n",
       "      <td>30</td>\n",
       "      <td>No</td>\n",
       "      <td>Low Income</td>\n",
       "      <td>1</td>\n",
       "      <td>No</td>\n",
       "      <td>Yes</td>\n",
       "      <td>0</td>\n",
       "    </tr>\n",
       "    <tr>\n",
       "      <th>211</th>\n",
       "      <td>29</td>\n",
       "      <td>No</td>\n",
       "      <td>Low Income</td>\n",
       "      <td>2</td>\n",
       "      <td>No</td>\n",
       "      <td>No</td>\n",
       "      <td>0</td>\n",
       "    </tr>\n",
       "    <tr>\n",
       "      <th>821</th>\n",
       "      <td>37</td>\n",
       "      <td>Yes</td>\n",
       "      <td>High Income</td>\n",
       "      <td>1</td>\n",
       "      <td>No</td>\n",
       "      <td>No</td>\n",
       "      <td>0</td>\n",
       "    </tr>\n",
       "    <tr>\n",
       "      <th>410</th>\n",
       "      <td>30</td>\n",
       "      <td>No</td>\n",
       "      <td>Middle Income</td>\n",
       "      <td>3</td>\n",
       "      <td>No</td>\n",
       "      <td>Yes</td>\n",
       "      <td>0</td>\n",
       "    </tr>\n",
       "    <tr>\n",
       "      <th>255</th>\n",
       "      <td>37</td>\n",
       "      <td>No</td>\n",
       "      <td>Middle Income</td>\n",
       "      <td>6</td>\n",
       "      <td>No</td>\n",
       "      <td>Yes</td>\n",
       "      <td>0</td>\n",
       "    </tr>\n",
       "  </tbody>\n",
       "</table>\n",
       "</div>"
      ],
      "text/plain": [
       "     Age FrequentFlyer AnnualIncomeClass  ServicesOpted  \\\n",
       "670   30            No        Low Income              1   \n",
       "211   29            No        Low Income              2   \n",
       "821   37           Yes       High Income              1   \n",
       "410   30            No     Middle Income              3   \n",
       "255   37            No     Middle Income              6   \n",
       "\n",
       "    AccountSyncedToSocialMedia BookedHotelOrNot  Target  \n",
       "670                         No              Yes       0  \n",
       "211                         No               No       0  \n",
       "821                         No               No       0  \n",
       "410                         No              Yes       0  \n",
       "255                         No              Yes       0  "
      ]
     },
     "execution_count": 25,
     "metadata": {},
     "output_type": "execute_result"
    },
    {
     "data": {
      "image/png": "[encoded data removed]",
      "text/plain": [
       "<Figure size 1200x400 with 2 Axes>"
      ]
     },
     "metadata": {},
     "output_type": "display_data"
    }
   ],
   "source": [
    "fig, ax = plt.subplots(1, 2, figsize=(12, 4))\n",
    "true_samples = data.sample(n = 100)\n",
    "true_samples.head()"
   ]
  },
  {
   "cell_type": "markdown",
   "id": "e3e051cc",
   "metadata": {},
   "source": [
    "Original Data"
   ]
  },
  {
   "cell_type": "code",
   "execution_count": 27,
   "id": "e70c4dfd",
   "metadata": {},
   "outputs": [
    {
     "data": {
      "text/plain": [
       "<matplotlib.collections.PathCollection at 0x7f4176431b50>"
      ]
     },
     "execution_count": 27,
     "metadata": {},
     "output_type": "execute_result"
    },
    {
     "data": {
      "image/png": "[encoded data removed]",
      "text/plain": [
       "<Figure size 1200x400 with 2 Axes>"
      ]
     },
     "metadata": {},
     "output_type": "display_data"
    }
   ],
   "source": [
    "fig, ax = plt.subplots(1, 2, figsize=(12, 4))\n",
    "true_samples = data.sample(n = 200)\n",
    "ax[0].scatter(true_samples[\"Age\"], true_samples[\"FrequentFlyer\"], c=true_samples[\"Target\"])\n",
    "ax[1].scatter(true_samples[\"AnnualIncomeClass\"], true_samples[\"ServicesOpted\"], c=true_samples[\"Target\"])"
   ]
  },
  {
   "cell_type": "markdown",
   "id": "f56b0e03",
   "metadata": {},
   "source": [
    "Generated samples"
   ]
  },
  {
   "cell_type": "code",
   "execution_count": 28,
   "id": "66d7efcc",
   "metadata": {},
   "outputs": [],
   "source": [
    "samples = pd.read_csv(\"C:/Users/Windows 11/Desktop/Dissertation/Codes/sample_data/travel_samples.csv\")"
   ]
  },
  {
   "cell_type": "code",
   "execution_count": 29,
   "id": "96d782e2",
   "metadata": {},
   "outputs": [
    {
     "data": {
      "text/plain": [
       "<matplotlib.collections.PathCollection at 0x7f4176371af0>"
      ]
     },
     "execution_count": 29,
     "metadata": {},
     "output_type": "execute_result"
    },
    {
     "data": {
      "image/png": "[encoded data removed]",
      "text/plain": [
       "<Figure size 1200x400 with 2 Axes>"
      ]
     },
     "metadata": {},
     "output_type": "display_data"
    }
   ],
   "source": [
    "fig, ax = plt.subplots(1, 2, figsize=(12, 4))\n",
    "\n",
    "ax[0].scatter(samples[\"Age\"], samples[\"FrequentFlyer\"], c=samples[\"Target\"])\n",
    "ax[0].set_ylim(1.8, 4.5)\n",
    "ax[1].scatter(samples[\"AnnualIncomeClass\"], samples[\"ServicesOpted\"], c=samples[\"Target\"].astype(\"int\"))\n"
   ]
  },
  {
   "cell_type": "code",
   "execution_count": null,
   "id": "69639c1e",
   "metadata": {},
   "outputs": [],
   "source": []
  },
  {
   "cell_type": "code",
   "execution_count": null,
   "id": "20708e2c",
   "metadata": {},
   "outputs": [],
   "source": []
  }
 ],
 "metadata": {
  "kernelspec": {
   "display_name": "Python 3 (ipykernel)",
   "language": "python",
   "name": "python3"
  },
  "language_info": {
   "codemirror_mode": {
    "name": "ipython",
    "version": 3
   },
   "file_extension": ".py",
   "mimetype": "text/x-python",
   "name": "python",
   "nbconvert_exporter": "python",
   "pygments_lexer": "ipython3",
   "version": "3.11.7"
  }
 },
 "nbformat": 4,
 "nbformat_minor": 5
}
