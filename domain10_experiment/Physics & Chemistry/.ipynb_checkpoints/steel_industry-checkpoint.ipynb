{
 "cells": [
  {
   "cell_type": "markdown",
   "id": "245418c1",
   "metadata": {},
   "source": [
    "## GReaT Example with Iris Dataset"
   ]
  },
  {
   "cell_type": "code",
   "execution_count": 1,
   "id": "ab1f4da7-4b93-4055-8d56-6030c7498999",
   "metadata": {},
   "outputs": [],
   "source": [
    "# Execute only once!\n",
    "import os\n",
    "import sys\n",
    "sys.path.append(\"..\")\n",
    "os.chdir(\"..\")\n",
    "\n",
    "os.environ[\"CUDA_VISIBLE_DEVICES\"]=\"0\""
   ]
  },
  {
   "cell_type": "code",
   "execution_count": 2,
   "id": "b5009b62",
   "metadata": {},
   "outputs": [],
   "source": [
    "import numpy as np\n",
    "import pandas as pd\n",
    "import logging"
   ]
  },
  {
   "cell_type": "code",
   "execution_count": 3,
   "id": "71836c07-2530-44af-9b4b-cf72aff34426",
   "metadata": {},
   "outputs": [
    {
     "name": "stderr",
     "output_type": "stream",
     "text": [
      "/data/guoquanjiang/envs/begreat/lib/python3.9/site-packages/tqdm/auto.py:21: TqdmWarning: IProgress not found. Please update jupyter and ipywidgets. See https://ipywidgets.readthedocs.io/en/stable/user_install.html\n",
      "  from .autonotebook import tqdm as notebook_tqdm\n"
     ]
    }
   ],
   "source": [
    "from examples.utils import set_logging_level\n",
    "from be_great import GReaT"
   ]
  },
  {
   "cell_type": "code",
   "execution_count": 4,
   "id": "00695066",
   "metadata": {},
   "outputs": [],
   "source": [
    "import matplotlib.pyplot as plt"
   ]
  },
  {
   "cell_type": "code",
   "execution_count": 5,
   "id": "39088828",
   "metadata": {},
   "outputs": [
    {
     "data": {
      "text/html": [
       "<div>\n",
       "<style scoped>\n",
       "    .dataframe tbody tr th:only-of-type {\n",
       "        vertical-align: middle;\n",
       "    }\n",
       "\n",
       "    .dataframe tbody tr th {\n",
       "        vertical-align: top;\n",
       "    }\n",
       "\n",
       "    .dataframe thead th {\n",
       "        text-align: right;\n",
       "    }\n",
       "</style>\n",
       "<table border=\"1\" class=\"dataframe\">\n",
       "  <thead>\n",
       "    <tr style=\"text-align: right;\">\n",
       "      <th></th>\n",
       "      <th>date</th>\n",
       "      <th>Usage_kWh</th>\n",
       "      <th>Lagging_Current_Reactive.Power_kVarh</th>\n",
       "      <th>Leading_Current_Reactive_Power_kVarh</th>\n",
       "      <th>CO2(tCO2)</th>\n",
       "      <th>Lagging_Current_Power_Factor</th>\n",
       "      <th>Leading_Current_Power_Factor</th>\n",
       "      <th>NSM</th>\n",
       "      <th>WeekStatus</th>\n",
       "      <th>Day_of_week</th>\n",
       "      <th>Load_Type</th>\n",
       "    </tr>\n",
       "  </thead>\n",
       "  <tbody>\n",
       "    <tr>\n",
       "      <th>5742</th>\n",
       "      <td>01/03/2018 19:45</td>\n",
       "      <td>5.33</td>\n",
       "      <td>0.00</td>\n",
       "      <td>27.58</td>\n",
       "      <td>0.00</td>\n",
       "      <td>100.00</td>\n",
       "      <td>18.97</td>\n",
       "      <td>71100</td>\n",
       "      <td>Weekday</td>\n",
       "      <td>Thursday</td>\n",
       "      <td>Medium_Load</td>\n",
       "    </tr>\n",
       "    <tr>\n",
       "      <th>22820</th>\n",
       "      <td>26/08/2018 17:15</td>\n",
       "      <td>4.14</td>\n",
       "      <td>0.00</td>\n",
       "      <td>15.01</td>\n",
       "      <td>0.00</td>\n",
       "      <td>100.00</td>\n",
       "      <td>26.59</td>\n",
       "      <td>62100</td>\n",
       "      <td>Weekend</td>\n",
       "      <td>Sunday</td>\n",
       "      <td>Medium_Load</td>\n",
       "    </tr>\n",
       "    <tr>\n",
       "      <th>33873</th>\n",
       "      <td>19/12/2018 20:30</td>\n",
       "      <td>5.33</td>\n",
       "      <td>0.00</td>\n",
       "      <td>22.32</td>\n",
       "      <td>0.00</td>\n",
       "      <td>100.00</td>\n",
       "      <td>23.23</td>\n",
       "      <td>73800</td>\n",
       "      <td>Weekday</td>\n",
       "      <td>Wednesday</td>\n",
       "      <td>Medium_Load</td>\n",
       "    </tr>\n",
       "    <tr>\n",
       "      <th>32299</th>\n",
       "      <td>03/12/2018 11:00</td>\n",
       "      <td>62.89</td>\n",
       "      <td>31.25</td>\n",
       "      <td>0.00</td>\n",
       "      <td>0.03</td>\n",
       "      <td>89.55</td>\n",
       "      <td>100.00</td>\n",
       "      <td>39600</td>\n",
       "      <td>Weekday</td>\n",
       "      <td>Monday</td>\n",
       "      <td>Maximum_Load</td>\n",
       "    </tr>\n",
       "    <tr>\n",
       "      <th>18041</th>\n",
       "      <td>07/07/2018 22:30</td>\n",
       "      <td>2.84</td>\n",
       "      <td>4.50</td>\n",
       "      <td>0.00</td>\n",
       "      <td>0.00</td>\n",
       "      <td>53.37</td>\n",
       "      <td>100.00</td>\n",
       "      <td>81000</td>\n",
       "      <td>Weekend</td>\n",
       "      <td>Saturday</td>\n",
       "      <td>Medium_Load</td>\n",
       "    </tr>\n",
       "  </tbody>\n",
       "</table>\n",
       "</div>"
      ],
      "text/plain": [
       "                   date  Usage_kWh  Lagging_Current_Reactive.Power_kVarh  \\\n",
       "5742   01/03/2018 19:45       5.33                                  0.00   \n",
       "22820  26/08/2018 17:15       4.14                                  0.00   \n",
       "33873  19/12/2018 20:30       5.33                                  0.00   \n",
       "32299  03/12/2018 11:00      62.89                                 31.25   \n",
       "18041  07/07/2018 22:30       2.84                                  4.50   \n",
       "\n",
       "       Leading_Current_Reactive_Power_kVarh  CO2(tCO2)  \\\n",
       "5742                                  27.58       0.00   \n",
       "22820                                 15.01       0.00   \n",
       "33873                                 22.32       0.00   \n",
       "32299                                  0.00       0.03   \n",
       "18041                                  0.00       0.00   \n",
       "\n",
       "       Lagging_Current_Power_Factor  Leading_Current_Power_Factor    NSM  \\\n",
       "5742                         100.00                         18.97  71100   \n",
       "22820                        100.00                         26.59  62100   \n",
       "33873                        100.00                         23.23  73800   \n",
       "32299                         89.55                        100.00  39600   \n",
       "18041                         53.37                        100.00  81000   \n",
       "\n",
       "      WeekStatus Day_of_week     Load_Type  \n",
       "5742     Weekday    Thursday   Medium_Load  \n",
       "22820    Weekend      Sunday   Medium_Load  \n",
       "33873    Weekday   Wednesday   Medium_Load  \n",
       "32299    Weekday      Monday  Maximum_Load  \n",
       "18041    Weekend    Saturday   Medium_Load  "
      ]
     },
     "execution_count": 5,
     "metadata": {},
     "output_type": "execute_result"
    }
   ],
   "source": [
    "logger = set_logging_level(logging.INFO)\n",
    "data = pd.read_csv('C:/Users/Windows 11/Desktop/Dissertation/Codes/Data/Physics & Chemistry/Steel_industry_data.csv')\n",
    "data=data.sample(n=1000)\n",
    "data.head()"
   ]
  },
  {
   "cell_type": "markdown",
   "id": "5911b9b1",
   "metadata": {},
   "source": [
    "### Create GReaT Model"
   ]
  },
  {
   "cell_type": "code",
   "execution_count": 6,
   "id": "1a316696",
   "metadata": {},
   "outputs": [],
   "source": [
    "# great = GReaT(\"/data/guoquanjiang/llm_ner/llama3-8b/LLM-Research/Meta-Llama-3-8B\",                  # Name of the large language model used (see HuggingFace for more options)\n",
    "#               epochs=10,                   # Number of epochs to train\n",
    "#               save_steps=2000,               # Save model weights every x steps\n",
    "#               logging_steps=500,             # Log the loss and learning rate every x steps\n",
    "#               experiment_dir=\"trainer_travel\", # Name of the directory where all intermediate steps are saved\n",
    "#               batch_size=16,                 # Batch Size\n",
    "#               #lr_scheduler_type=\"constant\", # Specify the learning rate scheduler \n",
    "#               #learning_rate=5e-5            # Set the inital learning rate\n",
    "#               efficient_finetuning=\"lora\"\n",
    "#              )\n",
    "great = GReaT(\"C:/Users/Windows 11/Desktop/Dissertation/Codes/models/iiBcai/gpt2\",                  # Name of the large language model used (see HuggingFace for more options)\n",
    "              epochs=10,                   # Number of epochs to train\n",
    "              save_steps=2000,               # Save model weights every x steps\n",
    "              logging_steps=100,             # Log the loss and learning rate every x steps\n",
    "              experiment_dir=\"trainer_steel_industry\", # Name of the directory where all intermediate steps are saved\n",
    "              batch_size=16                # Batch Size\n",
    "              #lr_scheduler_type=\"constant\", # Specify the learning rate scheduler \n",
    "              #learning_rate=5e-5            # Set the inital learning rate\n",
    "            #   efficient_finetuning=\"lora\"\n",
    "             )"
   ]
  },
  {
   "cell_type": "markdown",
   "id": "3c7b173f",
   "metadata": {},
   "source": [
    "### Start Training"
   ]
  },
  {
   "cell_type": "code",
   "execution_count": 7,
   "id": "200e000c",
   "metadata": {
    "scrolled": true
   },
   "outputs": [
    {
     "name": "stderr",
     "output_type": "stream",
     "text": [
      "\u001b[39;20m2024-06-30 15:00:03,534 - INFO - Convert data into HuggingFace dataset object... (great.py:167)\u001b[0m\n",
      "\u001b[39;20m2024-06-30 15:00:03,549 - INFO - Create GReaT Trainer... (great.py:172)\u001b[0m\n",
      "\u001b[39;20m2024-06-30 15:00:04,023 - INFO - Start training... (great.py:188)\u001b[0m\n",
      "You're using a GPT2TokenizerFast tokenizer. Please note that with a fast tokenizer, using the `__call__` method is faster than using a method to encode the text followed by a call to the `pad` method to get a padded encoding.\n"
     ]
    },
    {
     "data": {
      "text/html": [
       "\n",
       "    <div>\n",
       "      \n",
       "      <progress value='630' max='630' style='width:300px; height:20px; vertical-align: middle;'></progress>\n",
       "      [630/630 03:10, Epoch 10/10]\n",
       "    </div>\n",
       "    <table border=\"1\" class=\"dataframe\">\n",
       "  <thead>\n",
       " <tr style=\"text-align: left;\">\n",
       "      <th>Step</th>\n",
       "      <th>Training Loss</th>\n",
       "    </tr>\n",
       "  </thead>\n",
       "  <tbody>\n",
       "    <tr>\n",
       "      <td>100</td>\n",
       "      <td>0.960500</td>\n",
       "    </tr>\n",
       "    <tr>\n",
       "      <td>200</td>\n",
       "      <td>0.655200</td>\n",
       "    </tr>\n",
       "    <tr>\n",
       "      <td>300</td>\n",
       "      <td>0.625700</td>\n",
       "    </tr>\n",
       "    <tr>\n",
       "      <td>400</td>\n",
       "      <td>0.611200</td>\n",
       "    </tr>\n",
       "    <tr>\n",
       "      <td>500</td>\n",
       "      <td>0.603600</td>\n",
       "    </tr>\n",
       "    <tr>\n",
       "      <td>600</td>\n",
       "      <td>0.595900</td>\n",
       "    </tr>\n",
       "  </tbody>\n",
       "</table><p>"
      ],
      "text/plain": [
       "<IPython.core.display.HTML object>"
      ]
     },
     "metadata": {},
     "output_type": "display_data"
    }
   ],
   "source": [
    "trainer = great.fit(data)"
   ]
  },
  {
   "cell_type": "code",
   "execution_count": 8,
   "id": "cfe8184d",
   "metadata": {},
   "outputs": [
    {
     "data": {
      "text/plain": [
       "{'train_runtime': 191.9015,\n",
       " 'train_samples_per_second': 52.11,\n",
       " 'train_steps_per_second': 3.283,\n",
       " 'total_flos': 671218403328000.0,\n",
       " 'train_loss': 0.6713432312011719,\n",
       " 'epoch': 10.0,\n",
       " 'step': 630}"
      ]
     },
     "execution_count": 8,
     "metadata": {},
     "output_type": "execute_result"
    }
   ],
   "source": [
    "loss_hist = trainer.state.log_history.copy()\n",
    "loss_hist.pop()"
   ]
  },
  {
   "cell_type": "code",
   "execution_count": 9,
   "id": "76deeb9e",
   "metadata": {},
   "outputs": [],
   "source": [
    "loss = [x[\"loss\"] for x in loss_hist]\n",
    "epochs = [x[\"epoch\"] for x in loss_hist]"
   ]
  },
  {
   "cell_type": "code",
   "execution_count": 10,
   "id": "bcd7fc6f",
   "metadata": {},
   "outputs": [
    {
     "data": {
      "text/plain": [
       "[<matplotlib.lines.Line2D at 0x7f3eea2f5bb0>]"
      ]
     },
     "execution_count": 10,
     "metadata": {},
     "output_type": "execute_result"
    },
    {
     "data": {
      "image/png": "[encoded data removed]",
      "text/plain": [
       "<Figure size 640x480 with 1 Axes>"
      ]
     },
     "metadata": {},
     "output_type": "display_data"
    }
   ],
   "source": [
    "plt.plot(epochs, loss)"
   ]
  },
  {
   "cell_type": "markdown",
   "id": "fdb05fe0",
   "metadata": {},
   "source": [
    "### Generate Samples"
   ]
  },
  {
   "cell_type": "code",
   "execution_count": 11,
   "id": "4bb298ac",
   "metadata": {},
   "outputs": [],
   "source": [
    "n_samples = 1000"
   ]
  },
  {
   "cell_type": "code",
   "execution_count": 12,
   "id": "2106b9f2",
   "metadata": {},
   "outputs": [
    {
     "name": "stderr",
     "output_type": "stream",
     "text": [
      "  0%|          | 0/1000 [00:00<?, ?it/s]"
     ]
    },
    {
     "name": "stdout",
     "output_type": "stream",
     "text": [
      "['Load_Type is Light_Load,', 'Load_Type is Light_Load,', 'Load_Type is Light_Load,', 'Load_Type is Light_Load,', 'Load_Type is Medium_Load,', 'Load_Type is Medium_Load,', 'Load_Type is Medium_Load,', 'Load_Type is Light_Load,', 'Load_Type is Light_Load,', 'Load_Type is Medium_Load,', 'Load_Type is Light_Load,', 'Load_Type is Medium_Load,', 'Load_Type is Light_Load,', 'Load_Type is Medium_Load,', 'Load_Type is Light_Load,', 'Load_Type is Light_Load,', 'Load_Type is Light_Load,', 'Load_Type is Medium_Load,', 'Load_Type is Medium_Load,', 'Load_Type is Maximum_Load,', 'Load_Type is Light_Load,', 'Load_Type is Medium_Load,', 'Load_Type is Medium_Load,', 'Load_Type is Light_Load,', 'Load_Type is Maximum_Load,', 'Load_Type is Light_Load,', 'Load_Type is Maximum_Load,', 'Load_Type is Maximum_Load,', 'Load_Type is Light_Load,', 'Load_Type is Light_Load,', 'Load_Type is Light_Load,', 'Load_Type is Medium_Load,', 'Load_Type is Maximum_Load,', 'Load_Type is Light_Load,', 'Load_Type is Maximum_Load,', 'Load_Type is Light_Load,', 'Load_Type is Light_Load,', 'Load_Type is Light_Load,', 'Load_Type is Light_Load,', 'Load_Type is Light_Load,', 'Load_Type is Maximum_Load,', 'Load_Type is Medium_Load,', 'Load_Type is Maximum_Load,', 'Load_Type is Light_Load,', 'Load_Type is Maximum_Load,', 'Load_Type is Maximum_Load,', 'Load_Type is Light_Load,', 'Load_Type is Medium_Load,', 'Load_Type is Medium_Load,', 'Load_Type is Light_Load,']\n"
     ]
    },
    {
     "name": "stderr",
     "output_type": "stream",
     "text": [
      "  4%|▍         | 42/1000 [00:02<00:49, 19.16it/s]"
     ]
    },
    {
     "name": "stdout",
     "output_type": "stream",
     "text": [
      "['Load_Type is Light_Load,', 'Load_Type is Light_Load,', 'Load_Type is Light_Load,', 'Load_Type is Light_Load,', 'Load_Type is Light_Load,', 'Load_Type is Medium_Load,', 'Load_Type is Light_Load,', 'Load_Type is Medium_Load,', 'Load_Type is Maximum_Load,', 'Load_Type is Light_Load,', 'Load_Type is Light_Load,', 'Load_Type is Medium_Load,', 'Load_Type is Light_Load,', 'Load_Type is Light_Load,', 'Load_Type is Light_Load,', 'Load_Type is Light_Load,', 'Load_Type is Medium_Load,', 'Load_Type is Medium_Load,', 'Load_Type is Light_Load,', 'Load_Type is Maximum_Load,', 'Load_Type is Light_Load,', 'Load_Type is Light_Load,', 'Load_Type is Maximum_Load,', 'Load_Type is Maximum_Load,', 'Load_Type is Maximum_Load,', 'Load_Type is Maximum_Load,', 'Load_Type is Light_Load,', 'Load_Type is Medium_Load,', 'Load_Type is Medium_Load,', 'Load_Type is Light_Load,', 'Load_Type is Light_Load,', 'Load_Type is Light_Load,', 'Load_Type is Medium_Load,', 'Load_Type is Light_Load,', 'Load_Type is Medium_Load,', 'Load_Type is Medium_Load,', 'Load_Type is Light_Load,', 'Load_Type is Medium_Load,', 'Load_Type is Maximum_Load,', 'Load_Type is Medium_Load,', 'Load_Type is Light_Load,', 'Load_Type is Maximum_Load,', 'Load_Type is Light_Load,', 'Load_Type is Medium_Load,', 'Load_Type is Light_Load,', 'Load_Type is Maximum_Load,', 'Load_Type is Light_Load,', 'Load_Type is Light_Load,', 'Load_Type is Medium_Load,', 'Load_Type is Light_Load,']\n"
     ]
    },
    {
     "name": "stderr",
     "output_type": "stream",
     "text": [
      "  8%|▊         | 85/1000 [00:04<00:45, 19.93it/s]"
     ]
    },
    {
     "name": "stdout",
     "output_type": "stream",
     "text": [
      "['Load_Type is Maximum_Load,', 'Load_Type is Medium_Load,', 'Load_Type is Medium_Load,', 'Load_Type is Light_Load,', 'Load_Type is Light_Load,', 'Load_Type is Light_Load,', 'Load_Type is Light_Load,', 'Load_Type is Maximum_Load,', 'Load_Type is Maximum_Load,', 'Load_Type is Maximum_Load,', 'Load_Type is Light_Load,', 'Load_Type is Light_Load,', 'Load_Type is Medium_Load,', 'Load_Type is Light_Load,', 'Load_Type is Medium_Load,', 'Load_Type is Medium_Load,', 'Load_Type is Medium_Load,', 'Load_Type is Light_Load,', 'Load_Type is Light_Load,', 'Load_Type is Light_Load,', 'Load_Type is Light_Load,', 'Load_Type is Light_Load,', 'Load_Type is Light_Load,', 'Load_Type is Light_Load,', 'Load_Type is Light_Load,', 'Load_Type is Light_Load,', 'Load_Type is Medium_Load,', 'Load_Type is Light_Load,', 'Load_Type is Light_Load,', 'Load_Type is Maximum_Load,', 'Load_Type is Light_Load,', 'Load_Type is Medium_Load,', 'Load_Type is Medium_Load,', 'Load_Type is Light_Load,', 'Load_Type is Medium_Load,', 'Load_Type is Maximum_Load,', 'Load_Type is Light_Load,', 'Load_Type is Maximum_Load,', 'Load_Type is Light_Load,', 'Load_Type is Medium_Load,', 'Load_Type is Maximum_Load,', 'Load_Type is Medium_Load,', 'Load_Type is Maximum_Load,', 'Load_Type is Medium_Load,', 'Load_Type is Medium_Load,', 'Load_Type is Maximum_Load,', 'Load_Type is Maximum_Load,', 'Load_Type is Light_Load,', 'Load_Type is Maximum_Load,', 'Load_Type is Medium_Load,']\n"
     ]
    },
    {
     "name": "stderr",
     "output_type": "stream",
     "text": [
      " 12%|█▏        | 123/1000 [00:06<00:46, 18.91it/s]"
     ]
    },
    {
     "name": "stdout",
     "output_type": "stream",
     "text": [
      "['Load_Type is Light_Load,', 'Load_Type is Light_Load,', 'Load_Type is Medium_Load,', 'Load_Type is Medium_Load,', 'Load_Type is Light_Load,', 'Load_Type is Light_Load,', 'Load_Type is Light_Load,', 'Load_Type is Light_Load,', 'Load_Type is Medium_Load,', 'Load_Type is Medium_Load,', 'Load_Type is Maximum_Load,', 'Load_Type is Maximum_Load,', 'Load_Type is Light_Load,', 'Load_Type is Maximum_Load,', 'Load_Type is Light_Load,', 'Load_Type is Light_Load,', 'Load_Type is Medium_Load,', 'Load_Type is Light_Load,', 'Load_Type is Medium_Load,', 'Load_Type is Light_Load,', 'Load_Type is Light_Load,', 'Load_Type is Light_Load,', 'Load_Type is Light_Load,', 'Load_Type is Light_Load,', 'Load_Type is Maximum_Load,', 'Load_Type is Light_Load,', 'Load_Type is Light_Load,', 'Load_Type is Light_Load,', 'Load_Type is Maximum_Load,', 'Load_Type is Light_Load,', 'Load_Type is Maximum_Load,', 'Load_Type is Maximum_Load,', 'Load_Type is Maximum_Load,', 'Load_Type is Medium_Load,', 'Load_Type is Light_Load,', 'Load_Type is Light_Load,', 'Load_Type is Medium_Load,', 'Load_Type is Maximum_Load,', 'Load_Type is Medium_Load,', 'Load_Type is Light_Load,', 'Load_Type is Light_Load,', 'Load_Type is Medium_Load,', 'Load_Type is Maximum_Load,', 'Load_Type is Medium_Load,', 'Load_Type is Maximum_Load,', 'Load_Type is Maximum_Load,', 'Load_Type is Light_Load,', 'Load_Type is Medium_Load,', 'Load_Type is Maximum_Load,', 'Load_Type is Medium_Load,']\n"
     ]
    },
    {
     "name": "stderr",
     "output_type": "stream",
     "text": [
      " 17%|█▋        | 167/1000 [00:08<00:43, 19.30it/s]"
     ]
    },
    {
     "name": "stdout",
     "output_type": "stream",
     "text": [
      "['Load_Type is Medium_Load,', 'Load_Type is Medium_Load,', 'Load_Type is Maximum_Load,', 'Load_Type is Light_Load,', 'Load_Type is Light_Load,', 'Load_Type is Light_Load,', 'Load_Type is Maximum_Load,', 'Load_Type is Medium_Load,', 'Load_Type is Maximum_Load,', 'Load_Type is Maximum_Load,', 'Load_Type is Medium_Load,', 'Load_Type is Maximum_Load,', 'Load_Type is Light_Load,', 'Load_Type is Light_Load,', 'Load_Type is Light_Load,', 'Load_Type is Light_Load,', 'Load_Type is Medium_Load,', 'Load_Type is Maximum_Load,', 'Load_Type is Maximum_Load,', 'Load_Type is Light_Load,', 'Load_Type is Maximum_Load,', 'Load_Type is Medium_Load,', 'Load_Type is Light_Load,', 'Load_Type is Medium_Load,', 'Load_Type is Light_Load,', 'Load_Type is Medium_Load,', 'Load_Type is Medium_Load,', 'Load_Type is Light_Load,', 'Load_Type is Maximum_Load,', 'Load_Type is Light_Load,', 'Load_Type is Maximum_Load,', 'Load_Type is Maximum_Load,', 'Load_Type is Light_Load,', 'Load_Type is Medium_Load,', 'Load_Type is Light_Load,', 'Load_Type is Light_Load,', 'Load_Type is Light_Load,', 'Load_Type is Light_Load,', 'Load_Type is Light_Load,', 'Load_Type is Medium_Load,', 'Load_Type is Light_Load,', 'Load_Type is Light_Load,', 'Load_Type is Light_Load,', 'Load_Type is Maximum_Load,', 'Load_Type is Maximum_Load,', 'Load_Type is Light_Load,', 'Load_Type is Light_Load,', 'Load_Type is Light_Load,', 'Load_Type is Medium_Load,', 'Load_Type is Light_Load,']\n"
     ]
    },
    {
     "name": "stderr",
     "output_type": "stream",
     "text": [
      " 21%|██        | 207/1000 [00:10<00:41, 19.25it/s]"
     ]
    },
    {
     "name": "stdout",
     "output_type": "stream",
     "text": [
      "['Load_Type is Light_Load,', 'Load_Type is Medium_Load,', 'Load_Type is Light_Load,', 'Load_Type is Light_Load,', 'Load_Type is Medium_Load,', 'Load_Type is Maximum_Load,', 'Load_Type is Medium_Load,', 'Load_Type is Medium_Load,', 'Load_Type is Light_Load,', 'Load_Type is Light_Load,', 'Load_Type is Medium_Load,', 'Load_Type is Light_Load,', 'Load_Type is Light_Load,', 'Load_Type is Light_Load,', 'Load_Type is Light_Load,', 'Load_Type is Medium_Load,', 'Load_Type is Maximum_Load,', 'Load_Type is Medium_Load,', 'Load_Type is Light_Load,', 'Load_Type is Light_Load,', 'Load_Type is Medium_Load,', 'Load_Type is Medium_Load,', 'Load_Type is Light_Load,', 'Load_Type is Maximum_Load,', 'Load_Type is Light_Load,', 'Load_Type is Maximum_Load,', 'Load_Type is Maximum_Load,', 'Load_Type is Light_Load,', 'Load_Type is Light_Load,', 'Load_Type is Light_Load,', 'Load_Type is Maximum_Load,', 'Load_Type is Light_Load,', 'Load_Type is Maximum_Load,', 'Load_Type is Medium_Load,', 'Load_Type is Light_Load,', 'Load_Type is Light_Load,', 'Load_Type is Medium_Load,', 'Load_Type is Medium_Load,', 'Load_Type is Maximum_Load,', 'Load_Type is Medium_Load,', 'Load_Type is Medium_Load,', 'Load_Type is Medium_Load,', 'Load_Type is Light_Load,', 'Load_Type is Light_Load,', 'Load_Type is Maximum_Load,', 'Load_Type is Medium_Load,', 'Load_Type is Light_Load,', 'Load_Type is Maximum_Load,', 'Load_Type is Light_Load,', 'Load_Type is Medium_Load,']\n"
     ]
    },
    {
     "name": "stderr",
     "output_type": "stream",
     "text": [
      " 25%|██▌       | 251/1000 [00:12<00:38, 19.70it/s]"
     ]
    },
    {
     "name": "stdout",
     "output_type": "stream",
     "text": [
      "['Load_Type is Light_Load,', 'Load_Type is Light_Load,', 'Load_Type is Light_Load,', 'Load_Type is Light_Load,', 'Load_Type is Light_Load,', 'Load_Type is Light_Load,', 'Load_Type is Light_Load,', 'Load_Type is Medium_Load,', 'Load_Type is Light_Load,', 'Load_Type is Light_Load,', 'Load_Type is Light_Load,', 'Load_Type is Medium_Load,', 'Load_Type is Light_Load,', 'Load_Type is Maximum_Load,', 'Load_Type is Light_Load,', 'Load_Type is Light_Load,', 'Load_Type is Medium_Load,', 'Load_Type is Maximum_Load,', 'Load_Type is Medium_Load,', 'Load_Type is Light_Load,', 'Load_Type is Maximum_Load,', 'Load_Type is Light_Load,', 'Load_Type is Medium_Load,', 'Load_Type is Light_Load,', 'Load_Type is Light_Load,', 'Load_Type is Light_Load,', 'Load_Type is Light_Load,', 'Load_Type is Medium_Load,', 'Load_Type is Light_Load,', 'Load_Type is Medium_Load,', 'Load_Type is Light_Load,', 'Load_Type is Medium_Load,', 'Load_Type is Light_Load,', 'Load_Type is Medium_Load,', 'Load_Type is Light_Load,', 'Load_Type is Medium_Load,', 'Load_Type is Light_Load,', 'Load_Type is Medium_Load,', 'Load_Type is Maximum_Load,', 'Load_Type is Medium_Load,', 'Load_Type is Medium_Load,', 'Load_Type is Medium_Load,', 'Load_Type is Light_Load,', 'Load_Type is Light_Load,', 'Load_Type is Light_Load,', 'Load_Type is Medium_Load,', 'Load_Type is Maximum_Load,', 'Load_Type is Light_Load,', 'Load_Type is Maximum_Load,', 'Load_Type is Light_Load,']\n"
     ]
    },
    {
     "name": "stderr",
     "output_type": "stream",
     "text": [
      " 30%|██▉       | 297/1000 [00:15<00:34, 20.14it/s]"
     ]
    },
    {
     "name": "stdout",
     "output_type": "stream",
     "text": [
      "['Load_Type is Light_Load,', 'Load_Type is Light_Load,', 'Load_Type is Light_Load,', 'Load_Type is Light_Load,', 'Load_Type is Medium_Load,', 'Load_Type is Medium_Load,', 'Load_Type is Maximum_Load,', 'Load_Type is Light_Load,', 'Load_Type is Light_Load,', 'Load_Type is Medium_Load,', 'Load_Type is Light_Load,', 'Load_Type is Medium_Load,', 'Load_Type is Medium_Load,', 'Load_Type is Medium_Load,', 'Load_Type is Maximum_Load,', 'Load_Type is Medium_Load,', 'Load_Type is Light_Load,', 'Load_Type is Light_Load,', 'Load_Type is Maximum_Load,', 'Load_Type is Medium_Load,', 'Load_Type is Medium_Load,', 'Load_Type is Maximum_Load,', 'Load_Type is Light_Load,', 'Load_Type is Medium_Load,', 'Load_Type is Light_Load,', 'Load_Type is Light_Load,', 'Load_Type is Light_Load,', 'Load_Type is Medium_Load,', 'Load_Type is Light_Load,', 'Load_Type is Light_Load,', 'Load_Type is Medium_Load,', 'Load_Type is Light_Load,', 'Load_Type is Light_Load,', 'Load_Type is Light_Load,', 'Load_Type is Light_Load,', 'Load_Type is Light_Load,', 'Load_Type is Maximum_Load,', 'Load_Type is Maximum_Load,', 'Load_Type is Medium_Load,', 'Load_Type is Light_Load,', 'Load_Type is Maximum_Load,', 'Load_Type is Medium_Load,', 'Load_Type is Light_Load,', 'Load_Type is Light_Load,', 'Load_Type is Medium_Load,', 'Load_Type is Light_Load,', 'Load_Type is Light_Load,', 'Load_Type is Light_Load,', 'Load_Type is Light_Load,', 'Load_Type is Light_Load,']\n"
     ]
    },
    {
     "name": "stderr",
     "output_type": "stream",
     "text": [
      " 34%|███▍      | 342/1000 [00:17<00:32, 20.34it/s]"
     ]
    },
    {
     "name": "stdout",
     "output_type": "stream",
     "text": [
      "['Load_Type is Light_Load,', 'Load_Type is Light_Load,', 'Load_Type is Medium_Load,', 'Load_Type is Medium_Load,', 'Load_Type is Maximum_Load,', 'Load_Type is Light_Load,', 'Load_Type is Maximum_Load,', 'Load_Type is Light_Load,', 'Load_Type is Light_Load,', 'Load_Type is Light_Load,', 'Load_Type is Medium_Load,', 'Load_Type is Maximum_Load,', 'Load_Type is Light_Load,', 'Load_Type is Light_Load,', 'Load_Type is Light_Load,', 'Load_Type is Maximum_Load,', 'Load_Type is Light_Load,', 'Load_Type is Light_Load,', 'Load_Type is Maximum_Load,', 'Load_Type is Light_Load,', 'Load_Type is Maximum_Load,', 'Load_Type is Medium_Load,', 'Load_Type is Light_Load,', 'Load_Type is Medium_Load,', 'Load_Type is Light_Load,', 'Load_Type is Light_Load,', 'Load_Type is Maximum_Load,', 'Load_Type is Light_Load,', 'Load_Type is Medium_Load,', 'Load_Type is Medium_Load,', 'Load_Type is Light_Load,', 'Load_Type is Light_Load,', 'Load_Type is Maximum_Load,', 'Load_Type is Medium_Load,', 'Load_Type is Light_Load,', 'Load_Type is Light_Load,', 'Load_Type is Maximum_Load,', 'Load_Type is Light_Load,', 'Load_Type is Light_Load,', 'Load_Type is Light_Load,', 'Load_Type is Maximum_Load,', 'Load_Type is Light_Load,', 'Load_Type is Maximum_Load,', 'Load_Type is Medium_Load,', 'Load_Type is Medium_Load,', 'Load_Type is Medium_Load,', 'Load_Type is Medium_Load,', 'Load_Type is Medium_Load,', 'Load_Type is Maximum_Load,', 'Load_Type is Light_Load,']\n"
     ]
    },
    {
     "name": "stderr",
     "output_type": "stream",
     "text": [
      " 38%|███▊      | 383/1000 [00:19<00:30, 19.92it/s]"
     ]
    },
    {
     "name": "stdout",
     "output_type": "stream",
     "text": [
      "['Load_Type is Light_Load,', 'Load_Type is Light_Load,', 'Load_Type is Light_Load,', 'Load_Type is Light_Load,', 'Load_Type is Light_Load,', 'Load_Type is Light_Load,', 'Load_Type is Light_Load,', 'Load_Type is Medium_Load,', 'Load_Type is Maximum_Load,', 'Load_Type is Light_Load,', 'Load_Type is Medium_Load,', 'Load_Type is Maximum_Load,', 'Load_Type is Maximum_Load,', 'Load_Type is Light_Load,', 'Load_Type is Light_Load,', 'Load_Type is Maximum_Load,', 'Load_Type is Light_Load,', 'Load_Type is Medium_Load,', 'Load_Type is Medium_Load,', 'Load_Type is Maximum_Load,', 'Load_Type is Medium_Load,', 'Load_Type is Light_Load,', 'Load_Type is Medium_Load,', 'Load_Type is Light_Load,', 'Load_Type is Light_Load,', 'Load_Type is Maximum_Load,', 'Load_Type is Light_Load,', 'Load_Type is Maximum_Load,', 'Load_Type is Maximum_Load,', 'Load_Type is Light_Load,', 'Load_Type is Medium_Load,', 'Load_Type is Light_Load,', 'Load_Type is Medium_Load,', 'Load_Type is Maximum_Load,', 'Load_Type is Light_Load,', 'Load_Type is Medium_Load,', 'Load_Type is Maximum_Load,', 'Load_Type is Medium_Load,', 'Load_Type is Medium_Load,', 'Load_Type is Light_Load,', 'Load_Type is Medium_Load,', 'Load_Type is Medium_Load,', 'Load_Type is Light_Load,', 'Load_Type is Light_Load,', 'Load_Type is Maximum_Load,', 'Load_Type is Light_Load,', 'Load_Type is Maximum_Load,', 'Load_Type is Light_Load,', 'Load_Type is Light_Load,', 'Load_Type is Light_Load,']\n"
     ]
    },
    {
     "name": "stderr",
     "output_type": "stream",
     "text": [
      " 43%|████▎     | 429/1000 [00:21<00:27, 20.67it/s]"
     ]
    },
    {
     "name": "stdout",
     "output_type": "stream",
     "text": [
      "['Load_Type is Light_Load,', 'Load_Type is Medium_Load,', 'Load_Type is Light_Load,', 'Load_Type is Maximum_Load,', 'Load_Type is Light_Load,', 'Load_Type is Light_Load,', 'Load_Type is Light_Load,', 'Load_Type is Maximum_Load,', 'Load_Type is Medium_Load,', 'Load_Type is Light_Load,', 'Load_Type is Maximum_Load,', 'Load_Type is Light_Load,', 'Load_Type is Light_Load,', 'Load_Type is Light_Load,', 'Load_Type is Light_Load,', 'Load_Type is Maximum_Load,', 'Load_Type is Light_Load,', 'Load_Type is Light_Load,', 'Load_Type is Maximum_Load,', 'Load_Type is Light_Load,', 'Load_Type is Medium_Load,', 'Load_Type is Maximum_Load,', 'Load_Type is Light_Load,', 'Load_Type is Light_Load,', 'Load_Type is Light_Load,', 'Load_Type is Light_Load,', 'Load_Type is Medium_Load,', 'Load_Type is Medium_Load,', 'Load_Type is Light_Load,', 'Load_Type is Maximum_Load,', 'Load_Type is Medium_Load,', 'Load_Type is Maximum_Load,', 'Load_Type is Medium_Load,', 'Load_Type is Maximum_Load,', 'Load_Type is Light_Load,', 'Load_Type is Light_Load,', 'Load_Type is Light_Load,', 'Load_Type is Light_Load,', 'Load_Type is Medium_Load,', 'Load_Type is Maximum_Load,', 'Load_Type is Light_Load,', 'Load_Type is Light_Load,', 'Load_Type is Maximum_Load,', 'Load_Type is Maximum_Load,', 'Load_Type is Light_Load,', 'Load_Type is Medium_Load,', 'Load_Type is Light_Load,', 'Load_Type is Medium_Load,', 'Load_Type is Light_Load,', 'Load_Type is Maximum_Load,']\n"
     ]
    },
    {
     "name": "stderr",
     "output_type": "stream",
     "text": [
      " 47%|████▋     | 471/1000 [00:23<00:26, 20.09it/s]"
     ]
    },
    {
     "name": "stdout",
     "output_type": "stream",
     "text": [
      "['Load_Type is Light_Load,', 'Load_Type is Medium_Load,', 'Load_Type is Maximum_Load,', 'Load_Type is Light_Load,', 'Load_Type is Medium_Load,', 'Load_Type is Light_Load,', 'Load_Type is Medium_Load,', 'Load_Type is Maximum_Load,', 'Load_Type is Medium_Load,', 'Load_Type is Maximum_Load,', 'Load_Type is Medium_Load,', 'Load_Type is Light_Load,', 'Load_Type is Light_Load,', 'Load_Type is Light_Load,', 'Load_Type is Medium_Load,', 'Load_Type is Light_Load,', 'Load_Type is Maximum_Load,', 'Load_Type is Light_Load,', 'Load_Type is Maximum_Load,', 'Load_Type is Medium_Load,', 'Load_Type is Medium_Load,', 'Load_Type is Light_Load,', 'Load_Type is Light_Load,', 'Load_Type is Light_Load,', 'Load_Type is Light_Load,', 'Load_Type is Light_Load,', 'Load_Type is Light_Load,', 'Load_Type is Medium_Load,', 'Load_Type is Maximum_Load,', 'Load_Type is Light_Load,', 'Load_Type is Light_Load,', 'Load_Type is Medium_Load,', 'Load_Type is Light_Load,', 'Load_Type is Light_Load,', 'Load_Type is Maximum_Load,', 'Load_Type is Medium_Load,', 'Load_Type is Light_Load,', 'Load_Type is Light_Load,', 'Load_Type is Light_Load,', 'Load_Type is Light_Load,', 'Load_Type is Medium_Load,', 'Load_Type is Medium_Load,', 'Load_Type is Light_Load,', 'Load_Type is Medium_Load,', 'Load_Type is Light_Load,', 'Load_Type is Maximum_Load,', 'Load_Type is Maximum_Load,', 'Load_Type is Medium_Load,', 'Load_Type is Light_Load,', 'Load_Type is Medium_Load,']\n"
     ]
    },
    {
     "name": "stderr",
     "output_type": "stream",
     "text": [
      " 51%|█████▏    | 514/1000 [00:25<00:24, 20.10it/s]"
     ]
    },
    {
     "name": "stdout",
     "output_type": "stream",
     "text": [
      "['Load_Type is Maximum_Load,', 'Load_Type is Maximum_Load,', 'Load_Type is Light_Load,', 'Load_Type is Maximum_Load,', 'Load_Type is Light_Load,', 'Load_Type is Medium_Load,', 'Load_Type is Medium_Load,', 'Load_Type is Light_Load,', 'Load_Type is Light_Load,', 'Load_Type is Maximum_Load,', 'Load_Type is Light_Load,', 'Load_Type is Medium_Load,', 'Load_Type is Light_Load,', 'Load_Type is Light_Load,', 'Load_Type is Light_Load,', 'Load_Type is Maximum_Load,', 'Load_Type is Light_Load,', 'Load_Type is Light_Load,', 'Load_Type is Medium_Load,', 'Load_Type is Maximum_Load,', 'Load_Type is Light_Load,', 'Load_Type is Maximum_Load,', 'Load_Type is Maximum_Load,', 'Load_Type is Light_Load,', 'Load_Type is Light_Load,', 'Load_Type is Maximum_Load,', 'Load_Type is Maximum_Load,', 'Load_Type is Light_Load,', 'Load_Type is Medium_Load,', 'Load_Type is Light_Load,', 'Load_Type is Maximum_Load,', 'Load_Type is Maximum_Load,', 'Load_Type is Light_Load,', 'Load_Type is Light_Load,', 'Load_Type is Maximum_Load,', 'Load_Type is Medium_Load,', 'Load_Type is Light_Load,', 'Load_Type is Light_Load,', 'Load_Type is Light_Load,', 'Load_Type is Light_Load,', 'Load_Type is Light_Load,', 'Load_Type is Maximum_Load,', 'Load_Type is Light_Load,', 'Load_Type is Medium_Load,', 'Load_Type is Light_Load,', 'Load_Type is Light_Load,', 'Load_Type is Light_Load,', 'Load_Type is Light_Load,', 'Load_Type is Medium_Load,', 'Load_Type is Medium_Load,']\n"
     ]
    },
    {
     "name": "stderr",
     "output_type": "stream",
     "text": [
      " 56%|█████▌    | 556/1000 [00:27<00:22, 19.81it/s]"
     ]
    },
    {
     "name": "stdout",
     "output_type": "stream",
     "text": [
      "['Load_Type is Maximum_Load,', 'Load_Type is Maximum_Load,', 'Load_Type is Light_Load,', 'Load_Type is Light_Load,', 'Load_Type is Light_Load,', 'Load_Type is Light_Load,', 'Load_Type is Light_Load,', 'Load_Type is Medium_Load,', 'Load_Type is Light_Load,', 'Load_Type is Light_Load,', 'Load_Type is Light_Load,', 'Load_Type is Light_Load,', 'Load_Type is Light_Load,', 'Load_Type is Medium_Load,', 'Load_Type is Light_Load,', 'Load_Type is Medium_Load,', 'Load_Type is Medium_Load,', 'Load_Type is Light_Load,', 'Load_Type is Light_Load,', 'Load_Type is Medium_Load,', 'Load_Type is Light_Load,', 'Load_Type is Maximum_Load,', 'Load_Type is Maximum_Load,', 'Load_Type is Light_Load,', 'Load_Type is Light_Load,', 'Load_Type is Light_Load,', 'Load_Type is Maximum_Load,', 'Load_Type is Medium_Load,', 'Load_Type is Light_Load,', 'Load_Type is Medium_Load,', 'Load_Type is Maximum_Load,', 'Load_Type is Light_Load,', 'Load_Type is Medium_Load,', 'Load_Type is Medium_Load,', 'Load_Type is Light_Load,', 'Load_Type is Medium_Load,', 'Load_Type is Light_Load,', 'Load_Type is Medium_Load,', 'Load_Type is Light_Load,', 'Load_Type is Maximum_Load,', 'Load_Type is Medium_Load,', 'Load_Type is Light_Load,', 'Load_Type is Maximum_Load,', 'Load_Type is Light_Load,', 'Load_Type is Maximum_Load,', 'Load_Type is Maximum_Load,', 'Load_Type is Light_Load,', 'Load_Type is Medium_Load,', 'Load_Type is Light_Load,', 'Load_Type is Medium_Load,']\n"
     ]
    },
    {
     "name": "stderr",
     "output_type": "stream",
     "text": [
      " 60%|██████    | 600/1000 [00:30<00:20, 19.68it/s]"
     ]
    },
    {
     "name": "stdout",
     "output_type": "stream",
     "text": [
      "['Load_Type is Light_Load,', 'Load_Type is Light_Load,', 'Load_Type is Maximum_Load,', 'Load_Type is Maximum_Load,', 'Load_Type is Light_Load,', 'Load_Type is Medium_Load,', 'Load_Type is Light_Load,', 'Load_Type is Light_Load,', 'Load_Type is Light_Load,', 'Load_Type is Light_Load,', 'Load_Type is Medium_Load,', 'Load_Type is Maximum_Load,', 'Load_Type is Light_Load,', 'Load_Type is Light_Load,', 'Load_Type is Light_Load,', 'Load_Type is Light_Load,', 'Load_Type is Maximum_Load,', 'Load_Type is Maximum_Load,', 'Load_Type is Light_Load,', 'Load_Type is Light_Load,', 'Load_Type is Medium_Load,', 'Load_Type is Light_Load,', 'Load_Type is Light_Load,', 'Load_Type is Light_Load,', 'Load_Type is Light_Load,', 'Load_Type is Maximum_Load,', 'Load_Type is Light_Load,', 'Load_Type is Medium_Load,', 'Load_Type is Maximum_Load,', 'Load_Type is Light_Load,', 'Load_Type is Light_Load,', 'Load_Type is Light_Load,', 'Load_Type is Light_Load,', 'Load_Type is Light_Load,', 'Load_Type is Light_Load,', 'Load_Type is Maximum_Load,', 'Load_Type is Light_Load,', 'Load_Type is Maximum_Load,', 'Load_Type is Light_Load,', 'Load_Type is Maximum_Load,', 'Load_Type is Light_Load,', 'Load_Type is Light_Load,', 'Load_Type is Maximum_Load,', 'Load_Type is Medium_Load,', 'Load_Type is Light_Load,', 'Load_Type is Maximum_Load,', 'Load_Type is Medium_Load,', 'Load_Type is Light_Load,', 'Load_Type is Medium_Load,', 'Load_Type is Light_Load,']\n"
     ]
    },
    {
     "name": "stderr",
     "output_type": "stream",
     "text": [
      " 64%|██████▍   | 642/1000 [00:32<00:18, 19.68it/s]"
     ]
    },
    {
     "name": "stdout",
     "output_type": "stream",
     "text": [
      "['Load_Type is Light_Load,', 'Load_Type is Light_Load,', 'Load_Type is Light_Load,', 'Load_Type is Light_Load,', 'Load_Type is Light_Load,', 'Load_Type is Light_Load,', 'Load_Type is Maximum_Load,', 'Load_Type is Light_Load,', 'Load_Type is Light_Load,', 'Load_Type is Medium_Load,', 'Load_Type is Maximum_Load,', 'Load_Type is Medium_Load,', 'Load_Type is Maximum_Load,', 'Load_Type is Maximum_Load,', 'Load_Type is Medium_Load,', 'Load_Type is Light_Load,', 'Load_Type is Maximum_Load,', 'Load_Type is Light_Load,', 'Load_Type is Light_Load,', 'Load_Type is Medium_Load,', 'Load_Type is Medium_Load,', 'Load_Type is Maximum_Load,', 'Load_Type is Light_Load,', 'Load_Type is Light_Load,', 'Load_Type is Medium_Load,', 'Load_Type is Light_Load,', 'Load_Type is Light_Load,', 'Load_Type is Light_Load,', 'Load_Type is Light_Load,', 'Load_Type is Light_Load,', 'Load_Type is Light_Load,', 'Load_Type is Maximum_Load,', 'Load_Type is Light_Load,', 'Load_Type is Light_Load,', 'Load_Type is Light_Load,', 'Load_Type is Light_Load,', 'Load_Type is Light_Load,', 'Load_Type is Maximum_Load,', 'Load_Type is Light_Load,', 'Load_Type is Light_Load,', 'Load_Type is Maximum_Load,', 'Load_Type is Light_Load,', 'Load_Type is Light_Load,', 'Load_Type is Light_Load,', 'Load_Type is Maximum_Load,', 'Load_Type is Medium_Load,', 'Load_Type is Light_Load,', 'Load_Type is Light_Load,', 'Load_Type is Light_Load,', 'Load_Type is Light_Load,']\n"
     ]
    },
    {
     "name": "stderr",
     "output_type": "stream",
     "text": [
      " 69%|██████▊   | 686/1000 [00:34<00:15, 19.81it/s]"
     ]
    },
    {
     "name": "stdout",
     "output_type": "stream",
     "text": [
      "['Load_Type is Maximum_Load,', 'Load_Type is Medium_Load,', 'Load_Type is Light_Load,', 'Load_Type is Light_Load,', 'Load_Type is Light_Load,', 'Load_Type is Medium_Load,', 'Load_Type is Light_Load,', 'Load_Type is Medium_Load,', 'Load_Type is Medium_Load,', 'Load_Type is Maximum_Load,', 'Load_Type is Medium_Load,', 'Load_Type is Medium_Load,', 'Load_Type is Maximum_Load,', 'Load_Type is Light_Load,', 'Load_Type is Medium_Load,', 'Load_Type is Light_Load,', 'Load_Type is Light_Load,', 'Load_Type is Medium_Load,', 'Load_Type is Medium_Load,', 'Load_Type is Light_Load,', 'Load_Type is Light_Load,', 'Load_Type is Maximum_Load,', 'Load_Type is Light_Load,', 'Load_Type is Light_Load,', 'Load_Type is Maximum_Load,', 'Load_Type is Light_Load,', 'Load_Type is Light_Load,', 'Load_Type is Maximum_Load,', 'Load_Type is Maximum_Load,', 'Load_Type is Light_Load,', 'Load_Type is Maximum_Load,', 'Load_Type is Light_Load,', 'Load_Type is Light_Load,', 'Load_Type is Maximum_Load,', 'Load_Type is Maximum_Load,', 'Load_Type is Medium_Load,', 'Load_Type is Light_Load,', 'Load_Type is Medium_Load,', 'Load_Type is Medium_Load,', 'Load_Type is Light_Load,', 'Load_Type is Maximum_Load,', 'Load_Type is Maximum_Load,', 'Load_Type is Light_Load,', 'Load_Type is Light_Load,', 'Load_Type is Light_Load,', 'Load_Type is Light_Load,', 'Load_Type is Maximum_Load,', 'Load_Type is Medium_Load,', 'Load_Type is Medium_Load,', 'Load_Type is Light_Load,']\n"
     ]
    },
    {
     "name": "stderr",
     "output_type": "stream",
     "text": [
      " 73%|███████▎  | 731/1000 [00:36<00:13, 20.40it/s]"
     ]
    },
    {
     "name": "stdout",
     "output_type": "stream",
     "text": [
      "['Load_Type is Medium_Load,', 'Load_Type is Light_Load,', 'Load_Type is Light_Load,', 'Load_Type is Medium_Load,', 'Load_Type is Maximum_Load,', 'Load_Type is Medium_Load,', 'Load_Type is Light_Load,', 'Load_Type is Maximum_Load,', 'Load_Type is Light_Load,', 'Load_Type is Medium_Load,', 'Load_Type is Medium_Load,', 'Load_Type is Light_Load,', 'Load_Type is Maximum_Load,', 'Load_Type is Light_Load,', 'Load_Type is Maximum_Load,', 'Load_Type is Maximum_Load,', 'Load_Type is Medium_Load,', 'Load_Type is Light_Load,', 'Load_Type is Light_Load,', 'Load_Type is Light_Load,', 'Load_Type is Medium_Load,', 'Load_Type is Maximum_Load,', 'Load_Type is Light_Load,', 'Load_Type is Medium_Load,', 'Load_Type is Light_Load,', 'Load_Type is Medium_Load,', 'Load_Type is Maximum_Load,', 'Load_Type is Medium_Load,', 'Load_Type is Maximum_Load,', 'Load_Type is Light_Load,', 'Load_Type is Light_Load,', 'Load_Type is Light_Load,', 'Load_Type is Medium_Load,', 'Load_Type is Medium_Load,', 'Load_Type is Maximum_Load,', 'Load_Type is Medium_Load,', 'Load_Type is Medium_Load,', 'Load_Type is Light_Load,', 'Load_Type is Light_Load,', 'Load_Type is Light_Load,', 'Load_Type is Light_Load,', 'Load_Type is Medium_Load,', 'Load_Type is Light_Load,', 'Load_Type is Maximum_Load,', 'Load_Type is Medium_Load,', 'Load_Type is Light_Load,', 'Load_Type is Medium_Load,', 'Load_Type is Medium_Load,', 'Load_Type is Light_Load,', 'Load_Type is Maximum_Load,']\n"
     ]
    },
    {
     "name": "stderr",
     "output_type": "stream",
     "text": [
      " 77%|███████▋  | 772/1000 [00:38<00:11, 20.07it/s]"
     ]
    },
    {
     "name": "stdout",
     "output_type": "stream",
     "text": [
      "['Load_Type is Light_Load,', 'Load_Type is Maximum_Load,', 'Load_Type is Maximum_Load,', 'Load_Type is Medium_Load,', 'Load_Type is Light_Load,', 'Load_Type is Medium_Load,', 'Load_Type is Light_Load,', 'Load_Type is Maximum_Load,', 'Load_Type is Light_Load,', 'Load_Type is Light_Load,', 'Load_Type is Light_Load,', 'Load_Type is Light_Load,', 'Load_Type is Light_Load,', 'Load_Type is Medium_Load,', 'Load_Type is Light_Load,', 'Load_Type is Light_Load,', 'Load_Type is Light_Load,', 'Load_Type is Medium_Load,', 'Load_Type is Light_Load,', 'Load_Type is Maximum_Load,', 'Load_Type is Light_Load,', 'Load_Type is Medium_Load,', 'Load_Type is Maximum_Load,', 'Load_Type is Maximum_Load,', 'Load_Type is Light_Load,', 'Load_Type is Light_Load,', 'Load_Type is Maximum_Load,', 'Load_Type is Light_Load,', 'Load_Type is Medium_Load,', 'Load_Type is Light_Load,', 'Load_Type is Maximum_Load,', 'Load_Type is Medium_Load,', 'Load_Type is Maximum_Load,', 'Load_Type is Maximum_Load,', 'Load_Type is Light_Load,', 'Load_Type is Maximum_Load,', 'Load_Type is Light_Load,', 'Load_Type is Maximum_Load,', 'Load_Type is Medium_Load,', 'Load_Type is Light_Load,', 'Load_Type is Medium_Load,', 'Load_Type is Medium_Load,', 'Load_Type is Light_Load,', 'Load_Type is Medium_Load,', 'Load_Type is Light_Load,', 'Load_Type is Light_Load,', 'Load_Type is Light_Load,', 'Load_Type is Light_Load,', 'Load_Type is Medium_Load,', 'Load_Type is Medium_Load,']\n"
     ]
    },
    {
     "name": "stderr",
     "output_type": "stream",
     "text": [
      " 82%|████████▏ | 815/1000 [00:40<00:09, 19.96it/s]"
     ]
    },
    {
     "name": "stdout",
     "output_type": "stream",
     "text": [
      "['Load_Type is Medium_Load,', 'Load_Type is Medium_Load,', 'Load_Type is Maximum_Load,', 'Load_Type is Maximum_Load,', 'Load_Type is Light_Load,', 'Load_Type is Medium_Load,', 'Load_Type is Light_Load,', 'Load_Type is Medium_Load,', 'Load_Type is Medium_Load,', 'Load_Type is Medium_Load,', 'Load_Type is Light_Load,', 'Load_Type is Light_Load,', 'Load_Type is Maximum_Load,', 'Load_Type is Light_Load,', 'Load_Type is Light_Load,', 'Load_Type is Light_Load,', 'Load_Type is Maximum_Load,', 'Load_Type is Medium_Load,', 'Load_Type is Medium_Load,', 'Load_Type is Maximum_Load,', 'Load_Type is Maximum_Load,', 'Load_Type is Maximum_Load,', 'Load_Type is Light_Load,', 'Load_Type is Medium_Load,', 'Load_Type is Light_Load,', 'Load_Type is Light_Load,', 'Load_Type is Light_Load,', 'Load_Type is Maximum_Load,', 'Load_Type is Light_Load,', 'Load_Type is Medium_Load,', 'Load_Type is Light_Load,', 'Load_Type is Medium_Load,', 'Load_Type is Light_Load,', 'Load_Type is Medium_Load,', 'Load_Type is Light_Load,', 'Load_Type is Medium_Load,', 'Load_Type is Light_Load,', 'Load_Type is Light_Load,', 'Load_Type is Medium_Load,', 'Load_Type is Light_Load,', 'Load_Type is Medium_Load,', 'Load_Type is Light_Load,', 'Load_Type is Maximum_Load,', 'Load_Type is Maximum_Load,', 'Load_Type is Medium_Load,', 'Load_Type is Light_Load,', 'Load_Type is Maximum_Load,', 'Load_Type is Light_Load,', 'Load_Type is Light_Load,', 'Load_Type is Light_Load,']\n"
     ]
    },
    {
     "name": "stderr",
     "output_type": "stream",
     "text": [
      " 86%|████████▌ | 856/1000 [00:43<00:07, 19.79it/s]"
     ]
    },
    {
     "name": "stdout",
     "output_type": "stream",
     "text": [
      "['Load_Type is Medium_Load,', 'Load_Type is Light_Load,', 'Load_Type is Light_Load,', 'Load_Type is Light_Load,', 'Load_Type is Light_Load,', 'Load_Type is Light_Load,', 'Load_Type is Medium_Load,', 'Load_Type is Light_Load,', 'Load_Type is Maximum_Load,', 'Load_Type is Light_Load,', 'Load_Type is Light_Load,', 'Load_Type is Medium_Load,', 'Load_Type is Light_Load,', 'Load_Type is Light_Load,', 'Load_Type is Maximum_Load,', 'Load_Type is Light_Load,', 'Load_Type is Maximum_Load,', 'Load_Type is Medium_Load,', 'Load_Type is Medium_Load,', 'Load_Type is Light_Load,', 'Load_Type is Light_Load,', 'Load_Type is Light_Load,', 'Load_Type is Medium_Load,', 'Load_Type is Light_Load,', 'Load_Type is Light_Load,', 'Load_Type is Maximum_Load,', 'Load_Type is Light_Load,', 'Load_Type is Light_Load,', 'Load_Type is Medium_Load,', 'Load_Type is Light_Load,', 'Load_Type is Light_Load,', 'Load_Type is Light_Load,', 'Load_Type is Medium_Load,', 'Load_Type is Medium_Load,', 'Load_Type is Light_Load,', 'Load_Type is Light_Load,', 'Load_Type is Light_Load,', 'Load_Type is Maximum_Load,', 'Load_Type is Light_Load,', 'Load_Type is Light_Load,', 'Load_Type is Light_Load,', 'Load_Type is Medium_Load,', 'Load_Type is Light_Load,', 'Load_Type is Light_Load,', 'Load_Type is Light_Load,', 'Load_Type is Medium_Load,', 'Load_Type is Medium_Load,', 'Load_Type is Light_Load,', 'Load_Type is Medium_Load,', 'Load_Type is Medium_Load,']\n"
     ]
    },
    {
     "name": "stderr",
     "output_type": "stream",
     "text": [
      " 90%|█████████ | 901/1000 [00:45<00:04, 20.27it/s]"
     ]
    },
    {
     "name": "stdout",
     "output_type": "stream",
     "text": [
      "['Load_Type is Medium_Load,', 'Load_Type is Light_Load,', 'Load_Type is Light_Load,', 'Load_Type is Light_Load,', 'Load_Type is Maximum_Load,', 'Load_Type is Light_Load,', 'Load_Type is Maximum_Load,', 'Load_Type is Maximum_Load,', 'Load_Type is Maximum_Load,', 'Load_Type is Medium_Load,', 'Load_Type is Light_Load,', 'Load_Type is Light_Load,', 'Load_Type is Medium_Load,', 'Load_Type is Maximum_Load,', 'Load_Type is Light_Load,', 'Load_Type is Light_Load,', 'Load_Type is Light_Load,', 'Load_Type is Maximum_Load,', 'Load_Type is Light_Load,', 'Load_Type is Maximum_Load,', 'Load_Type is Maximum_Load,', 'Load_Type is Medium_Load,', 'Load_Type is Light_Load,', 'Load_Type is Light_Load,', 'Load_Type is Maximum_Load,', 'Load_Type is Medium_Load,', 'Load_Type is Medium_Load,', 'Load_Type is Light_Load,', 'Load_Type is Light_Load,', 'Load_Type is Light_Load,', 'Load_Type is Medium_Load,', 'Load_Type is Medium_Load,', 'Load_Type is Light_Load,', 'Load_Type is Light_Load,', 'Load_Type is Light_Load,', 'Load_Type is Light_Load,', 'Load_Type is Light_Load,', 'Load_Type is Light_Load,', 'Load_Type is Light_Load,', 'Load_Type is Maximum_Load,', 'Load_Type is Light_Load,', 'Load_Type is Maximum_Load,', 'Load_Type is Maximum_Load,', 'Load_Type is Light_Load,', 'Load_Type is Maximum_Load,', 'Load_Type is Light_Load,', 'Load_Type is Maximum_Load,', 'Load_Type is Medium_Load,', 'Load_Type is Medium_Load,', 'Load_Type is Light_Load,']\n"
     ]
    },
    {
     "name": "stderr",
     "output_type": "stream",
     "text": [
      " 95%|█████████▍| 947/1000 [00:47<00:02, 20.55it/s]"
     ]
    },
    {
     "name": "stdout",
     "output_type": "stream",
     "text": [
      "['Load_Type is Light_Load,', 'Load_Type is Light_Load,', 'Load_Type is Light_Load,', 'Load_Type is Maximum_Load,', 'Load_Type is Medium_Load,', 'Load_Type is Medium_Load,', 'Load_Type is Maximum_Load,', 'Load_Type is Light_Load,', 'Load_Type is Light_Load,', 'Load_Type is Medium_Load,', 'Load_Type is Light_Load,', 'Load_Type is Light_Load,', 'Load_Type is Medium_Load,', 'Load_Type is Medium_Load,', 'Load_Type is Medium_Load,', 'Load_Type is Medium_Load,', 'Load_Type is Light_Load,', 'Load_Type is Light_Load,', 'Load_Type is Medium_Load,', 'Load_Type is Maximum_Load,', 'Load_Type is Light_Load,', 'Load_Type is Medium_Load,', 'Load_Type is Maximum_Load,', 'Load_Type is Maximum_Load,', 'Load_Type is Light_Load,', 'Load_Type is Maximum_Load,', 'Load_Type is Maximum_Load,', 'Load_Type is Maximum_Load,', 'Load_Type is Light_Load,', 'Load_Type is Light_Load,', 'Load_Type is Medium_Load,', 'Load_Type is Light_Load,', 'Load_Type is Medium_Load,', 'Load_Type is Light_Load,', 'Load_Type is Light_Load,', 'Load_Type is Light_Load,', 'Load_Type is Medium_Load,', 'Load_Type is Light_Load,', 'Load_Type is Maximum_Load,', 'Load_Type is Maximum_Load,', 'Load_Type is Maximum_Load,', 'Load_Type is Light_Load,', 'Load_Type is Light_Load,', 'Load_Type is Light_Load,', 'Load_Type is Medium_Load,', 'Load_Type is Maximum_Load,', 'Load_Type is Light_Load,', 'Load_Type is Light_Load,', 'Load_Type is Light_Load,', 'Load_Type is Light_Load,']\n"
     ]
    },
    {
     "name": "stderr",
     "output_type": "stream",
     "text": [
      " 99%|█████████▉| 990/1000 [00:49<00:00, 20.59it/s]"
     ]
    },
    {
     "name": "stdout",
     "output_type": "stream",
     "text": [
      "['Load_Type is Light_Load,', 'Load_Type is Maximum_Load,', 'Load_Type is Medium_Load,', 'Load_Type is Light_Load,', 'Load_Type is Light_Load,', 'Load_Type is Maximum_Load,', 'Load_Type is Light_Load,', 'Load_Type is Maximum_Load,', 'Load_Type is Light_Load,', 'Load_Type is Medium_Load,', 'Load_Type is Maximum_Load,', 'Load_Type is Maximum_Load,', 'Load_Type is Light_Load,', 'Load_Type is Medium_Load,', 'Load_Type is Light_Load,', 'Load_Type is Maximum_Load,', 'Load_Type is Light_Load,', 'Load_Type is Medium_Load,', 'Load_Type is Light_Load,', 'Load_Type is Light_Load,', 'Load_Type is Medium_Load,', 'Load_Type is Medium_Load,', 'Load_Type is Medium_Load,', 'Load_Type is Medium_Load,', 'Load_Type is Light_Load,', 'Load_Type is Light_Load,', 'Load_Type is Light_Load,', 'Load_Type is Light_Load,', 'Load_Type is Light_Load,', 'Load_Type is Medium_Load,', 'Load_Type is Maximum_Load,', 'Load_Type is Maximum_Load,', 'Load_Type is Light_Load,', 'Load_Type is Maximum_Load,', 'Load_Type is Light_Load,', 'Load_Type is Light_Load,', 'Load_Type is Maximum_Load,', 'Load_Type is Medium_Load,', 'Load_Type is Light_Load,', 'Load_Type is Light_Load,', 'Load_Type is Light_Load,', 'Load_Type is Light_Load,', 'Load_Type is Medium_Load,', 'Load_Type is Medium_Load,', 'Load_Type is Light_Load,', 'Load_Type is Light_Load,', 'Load_Type is Maximum_Load,', 'Load_Type is Light_Load,', 'Load_Type is Light_Load,', 'Load_Type is Light_Load,']\n"
     ]
    },
    {
     "name": "stderr",
     "output_type": "stream",
     "text": [
      "1036it [00:51, 20.09it/s]                         \n"
     ]
    }
   ],
   "source": [
    "samples = great.sample(n_samples, k=50, max_length=200)"
   ]
  },
  {
   "cell_type": "code",
   "execution_count": 13,
   "id": "105aa225",
   "metadata": {},
   "outputs": [
    {
     "data": {
      "text/html": [
       "<div>\n",
       "<style scoped>\n",
       "    .dataframe tbody tr th:only-of-type {\n",
       "        vertical-align: middle;\n",
       "    }\n",
       "\n",
       "    .dataframe tbody tr th {\n",
       "        vertical-align: top;\n",
       "    }\n",
       "\n",
       "    .dataframe thead th {\n",
       "        text-align: right;\n",
       "    }\n",
       "</style>\n",
       "<table border=\"1\" class=\"dataframe\">\n",
       "  <thead>\n",
       "    <tr style=\"text-align: right;\">\n",
       "      <th></th>\n",
       "      <th>date</th>\n",
       "      <th>Usage_kWh</th>\n",
       "      <th>Lagging_Current_Reactive.Power_kVarh</th>\n",
       "      <th>Leading_Current_Reactive_Power_kVarh</th>\n",
       "      <th>CO2(tCO2)</th>\n",
       "      <th>Lagging_Current_Power_Factor</th>\n",
       "      <th>Leading_Current_Power_Factor</th>\n",
       "      <th>NSM</th>\n",
       "      <th>WeekStatus</th>\n",
       "      <th>Day_of_week</th>\n",
       "      <th>Load_Type</th>\n",
       "    </tr>\n",
       "  </thead>\n",
       "  <tbody>\n",
       "    <tr>\n",
       "      <th>0</th>\n",
       "      <td>05/06/2018 02:30</td>\n",
       "      <td>62.77</td>\n",
       "      <td>69.72</td>\n",
       "      <td>0.00</td>\n",
       "      <td>0.00</td>\n",
       "      <td>99.79</td>\n",
       "      <td>99.96</td>\n",
       "      <td>15300.0</td>\n",
       "      <td>Weekend</td>\n",
       "      <td>Sunday</td>\n",
       "      <td>Light_Load</td>\n",
       "    </tr>\n",
       "    <tr>\n",
       "      <th>1</th>\n",
       "      <td>29/04/2018 09:00</td>\n",
       "      <td>2.46</td>\n",
       "      <td>5.16</td>\n",
       "      <td>0.00</td>\n",
       "      <td>0.00</td>\n",
       "      <td>54.01</td>\n",
       "      <td>100.00</td>\n",
       "      <td>33300.0</td>\n",
       "      <td>Weekday</td>\n",
       "      <td>Thursday</td>\n",
       "      <td>Light_Load</td>\n",
       "    </tr>\n",
       "    <tr>\n",
       "      <th>2</th>\n",
       "      <td>07/06/2018 00:00</td>\n",
       "      <td>3.95</td>\n",
       "      <td>44.81</td>\n",
       "      <td>0.00</td>\n",
       "      <td>0.00</td>\n",
       "      <td>100.00</td>\n",
       "      <td>100.00</td>\n",
       "      <td>81900.0</td>\n",
       "      <td>Weekday</td>\n",
       "      <td>Thursday</td>\n",
       "      <td>Light_Load</td>\n",
       "    </tr>\n",
       "    <tr>\n",
       "      <th>3</th>\n",
       "      <td>04/10/2018 12:30</td>\n",
       "      <td>46.30</td>\n",
       "      <td>0.00</td>\n",
       "      <td>18.02</td>\n",
       "      <td>0.02</td>\n",
       "      <td>88.18</td>\n",
       "      <td>100.00</td>\n",
       "      <td>52200.0</td>\n",
       "      <td>Weekend</td>\n",
       "      <td>Sunday</td>\n",
       "      <td>Medium_Load</td>\n",
       "    </tr>\n",
       "    <tr>\n",
       "      <th>4</th>\n",
       "      <td>13/11/2018 19:00</td>\n",
       "      <td>3.77</td>\n",
       "      <td>4.82</td>\n",
       "      <td>0.00</td>\n",
       "      <td>0.03</td>\n",
       "      <td>100.00</td>\n",
       "      <td>30.29</td>\n",
       "      <td>53700.0</td>\n",
       "      <td>Weekday</td>\n",
       "      <td>Thursday</td>\n",
       "      <td>Medium_Load</td>\n",
       "    </tr>\n",
       "  </tbody>\n",
       "</table>\n",
       "</div>"
      ],
      "text/plain": [
       "               date  Usage_kWh  Lagging_Current_Reactive.Power_kVarh  \\\n",
       "0  05/06/2018 02:30      62.77                                 69.72   \n",
       "1  29/04/2018 09:00       2.46                                  5.16   \n",
       "2  07/06/2018 00:00       3.95                                 44.81   \n",
       "3  04/10/2018 12:30      46.30                                  0.00   \n",
       "4  13/11/2018 19:00       3.77                                  4.82   \n",
       "\n",
       "   Leading_Current_Reactive_Power_kVarh  CO2(tCO2)  \\\n",
       "0                                  0.00       0.00   \n",
       "1                                  0.00       0.00   \n",
       "2                                  0.00       0.00   \n",
       "3                                 18.02       0.02   \n",
       "4                                  0.00       0.03   \n",
       "\n",
       "   Lagging_Current_Power_Factor  Leading_Current_Power_Factor      NSM  \\\n",
       "0                         99.79                         99.96  15300.0   \n",
       "1                         54.01                        100.00  33300.0   \n",
       "2                        100.00                        100.00  81900.0   \n",
       "3                         88.18                        100.00  52200.0   \n",
       "4                        100.00                         30.29  53700.0   \n",
       "\n",
       "  WeekStatus Day_of_week    Load_Type  \n",
       "0    Weekend      Sunday   Light_Load  \n",
       "1    Weekday    Thursday   Light_Load  \n",
       "2    Weekday    Thursday   Light_Load  \n",
       "3    Weekend      Sunday  Medium_Load  \n",
       "4    Weekday    Thursday  Medium_Load  "
      ]
     },
     "execution_count": 13,
     "metadata": {},
     "output_type": "execute_result"
    }
   ],
   "source": [
    "samples.head()"
   ]
  },
  {
   "cell_type": "code",
   "execution_count": 14,
   "id": "c6f534d4",
   "metadata": {},
   "outputs": [],
   "source": [
    "samples.to_csv(\"C:/Users/Windows 11/Desktop/Dissertation/Codes/sample_data/Physics & Chemistry/steel_industry_samples.csv\",index=False)"
   ]
  },
  {
   "cell_type": "markdown",
   "id": "70545fac",
   "metadata": {},
   "source": [
    "## Plot Data"
   ]
  },
  {
   "cell_type": "code",
   "execution_count": 25,
   "id": "ec9e0767",
   "metadata": {},
   "outputs": [
    {
     "data": {
      "text/html": [
       "<div>\n",
       "<style scoped>\n",
       "    .dataframe tbody tr th:only-of-type {\n",
       "        vertical-align: middle;\n",
       "    }\n",
       "\n",
       "    .dataframe tbody tr th {\n",
       "        vertical-align: top;\n",
       "    }\n",
       "\n",
       "    .dataframe thead th {\n",
       "        text-align: right;\n",
       "    }\n",
       "</style>\n",
       "<table border=\"1\" class=\"dataframe\">\n",
       "  <thead>\n",
       "    <tr style=\"text-align: right;\">\n",
       "      <th></th>\n",
       "      <th>Age</th>\n",
       "      <th>FrequentFlyer</th>\n",
       "      <th>AnnualIncomeClass</th>\n",
       "      <th>ServicesOpted</th>\n",
       "      <th>AccountSyncedToSocialMedia</th>\n",
       "      <th>BookedHotelOrNot</th>\n",
       "      <th>Target</th>\n",
       "    </tr>\n",
       "  </thead>\n",
       "  <tbody>\n",
       "    <tr>\n",
       "      <th>670</th>\n",
       "      <td>30</td>\n",
       "      <td>No</td>\n",
       "      <td>Low Income</td>\n",
       "      <td>1</td>\n",
       "      <td>No</td>\n",
       "      <td>Yes</td>\n",
       "      <td>0</td>\n",
       "    </tr>\n",
       "    <tr>\n",
       "      <th>211</th>\n",
       "      <td>29</td>\n",
       "      <td>No</td>\n",
       "      <td>Low Income</td>\n",
       "      <td>2</td>\n",
       "      <td>No</td>\n",
       "      <td>No</td>\n",
       "      <td>0</td>\n",
       "    </tr>\n",
       "    <tr>\n",
       "      <th>821</th>\n",
       "      <td>37</td>\n",
       "      <td>Yes</td>\n",
       "      <td>High Income</td>\n",
       "      <td>1</td>\n",
       "      <td>No</td>\n",
       "      <td>No</td>\n",
       "      <td>0</td>\n",
       "    </tr>\n",
       "    <tr>\n",
       "      <th>410</th>\n",
       "      <td>30</td>\n",
       "      <td>No</td>\n",
       "      <td>Middle Income</td>\n",
       "      <td>3</td>\n",
       "      <td>No</td>\n",
       "      <td>Yes</td>\n",
       "      <td>0</td>\n",
       "    </tr>\n",
       "    <tr>\n",
       "      <th>255</th>\n",
       "      <td>37</td>\n",
       "      <td>No</td>\n",
       "      <td>Middle Income</td>\n",
       "      <td>6</td>\n",
       "      <td>No</td>\n",
       "      <td>Yes</td>\n",
       "      <td>0</td>\n",
       "    </tr>\n",
       "  </tbody>\n",
       "</table>\n",
       "</div>"
      ],
      "text/plain": [
       "     Age FrequentFlyer AnnualIncomeClass  ServicesOpted  \\\n",
       "670   30            No        Low Income              1   \n",
       "211   29            No        Low Income              2   \n",
       "821   37           Yes       High Income              1   \n",
       "410   30            No     Middle Income              3   \n",
       "255   37            No     Middle Income              6   \n",
       "\n",
       "    AccountSyncedToSocialMedia BookedHotelOrNot  Target  \n",
       "670                         No              Yes       0  \n",
       "211                         No               No       0  \n",
       "821                         No               No       0  \n",
       "410                         No              Yes       0  \n",
       "255                         No              Yes       0  "
      ]
     },
     "execution_count": 25,
     "metadata": {},
     "output_type": "execute_result"
    },
    {
     "data": {
      "image/png": "[encoded data removed]",
      "text/plain": [
       "<Figure size 1200x400 with 2 Axes>"
      ]
     },
     "metadata": {},
     "output_type": "display_data"
    }
   ],
   "source": [
    "fig, ax = plt.subplots(1, 2, figsize=(12, 4))\n",
    "true_samples = data.sample(n = 100)\n",
    "true_samples.head()"
   ]
  },
  {
   "cell_type": "markdown",
   "id": "e3e051cc",
   "metadata": {},
   "source": [
    "Original Data"
   ]
  },
  {
   "cell_type": "code",
   "execution_count": 27,
   "id": "e70c4dfd",
   "metadata": {},
   "outputs": [
    {
     "data": {
      "text/plain": [
       "<matplotlib.collections.PathCollection at 0x7f4176431b50>"
      ]
     },
     "execution_count": 27,
     "metadata": {},
     "output_type": "execute_result"
    },
    {
     "data": {
      "image/png": "[encoded data removed]",
      "text/plain": [
       "<Figure size 1200x400 with 2 Axes>"
      ]
     },
     "metadata": {},
     "output_type": "display_data"
    }
   ],
   "source": [
    "fig, ax = plt.subplots(1, 2, figsize=(12, 4))\n",
    "true_samples = data.sample(n = 200)\n",
    "ax[0].scatter(true_samples[\"Age\"], true_samples[\"FrequentFlyer\"], c=true_samples[\"Target\"])\n",
    "ax[1].scatter(true_samples[\"AnnualIncomeClass\"], true_samples[\"ServicesOpted\"], c=true_samples[\"Target\"])"
   ]
  },
  {
   "cell_type": "markdown",
   "id": "f56b0e03",
   "metadata": {},
   "source": [
    "Generated samples"
   ]
  },
  {
   "cell_type": "code",
   "execution_count": 28,
   "id": "66d7efcc",
   "metadata": {},
   "outputs": [],
   "source": [
    "samples = pd.read_csv(\"C:/Users/Windows 11/Desktop/Dissertation/Codes/sample_data/travel_samples.csv\")"
   ]
  },
  {
   "cell_type": "code",
   "execution_count": 29,
   "id": "96d782e2",
   "metadata": {},
   "outputs": [
    {
     "data": {
      "text/plain": [
       "<matplotlib.collections.PathCollection at 0x7f4176371af0>"
      ]
     },
     "execution_count": 29,
     "metadata": {},
     "output_type": "execute_result"
    },
    {
     "data": {
      "image/png": "[encoded data removed]",
      "text/plain": [
       "<Figure size 1200x400 with 2 Axes>"
      ]
     },
     "metadata": {},
     "output_type": "display_data"
    }
   ],
   "source": [
    "fig, ax = plt.subplots(1, 2, figsize=(12, 4))\n",
    "\n",
    "ax[0].scatter(samples[\"Age\"], samples[\"FrequentFlyer\"], c=samples[\"Target\"])\n",
    "ax[0].set_ylim(1.8, 4.5)\n",
    "ax[1].scatter(samples[\"AnnualIncomeClass\"], samples[\"ServicesOpted\"], c=samples[\"Target\"].astype(\"int\"))\n"
   ]
  },
  {
   "cell_type": "code",
   "execution_count": null,
   "id": "69639c1e",
   "metadata": {},
   "outputs": [],
   "source": []
  },
  {
   "cell_type": "code",
   "execution_count": null,
   "id": "20708e2c",
   "metadata": {},
   "outputs": [],
   "source": []
  }
 ],
 "metadata": {
  "kernelspec": {
   "display_name": "Python 3 (ipykernel)",
   "language": "python",
   "name": "python3"
  },
  "language_info": {
   "codemirror_mode": {
    "name": "ipython",
    "version": 3
   },
   "file_extension": ".py",
   "mimetype": "text/x-python",
   "name": "python",
   "nbconvert_exporter": "python",
   "pygments_lexer": "ipython3",
   "version": "3.11.7"
  }
 },
 "nbformat": 4,
 "nbformat_minor": 5
}
