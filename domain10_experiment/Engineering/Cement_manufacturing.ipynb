{
 "cells": [
  {
   "cell_type": "markdown",
   "id": "245418c1",
   "metadata": {},
   "source": [
    "## GReaT Example with Iris Dataset"
   ]
  },
  {
   "cell_type": "code",
   "execution_count": 1,
   "id": "ab1f4da7-4b93-4055-8d56-6030c7498999",
   "metadata": {},
   "outputs": [],
   "source": [
    "# Execute only once!\n",
    "import os\n",
    "import sys\n",
    "sys.path.append(\"..\")\n",
    "os.chdir(\"..\")\n",
    "\n",
    "os.environ[\"CUDA_VISIBLE_DEVICES\"]=\"0\""
   ]
  },
  {
   "cell_type": "code",
   "execution_count": 2,
   "id": "b5009b62",
   "metadata": {},
   "outputs": [],
   "source": [
    "import numpy as np\n",
    "import pandas as pd\n",
    "import logging"
   ]
  },
  {
   "cell_type": "code",
   "execution_count": 3,
   "id": "71836c07-2530-44af-9b4b-cf72aff34426",
   "metadata": {},
   "outputs": [
    {
     "name": "stderr",
     "output_type": "stream",
     "text": [
      "/data/guoquanjiang/envs/begreat/lib/python3.9/site-packages/tqdm/auto.py:21: TqdmWarning: IProgress not found. Please update jupyter and ipywidgets. See https://ipywidgets.readthedocs.io/en/stable/user_install.html\n",
      "  from .autonotebook import tqdm as notebook_tqdm\n"
     ]
    }
   ],
   "source": [
    "from examples.utils import set_logging_level\n",
    "from be_great import GReaT"
   ]
  },
  {
   "cell_type": "code",
   "execution_count": 4,
   "id": "00695066",
   "metadata": {},
   "outputs": [],
   "source": [
    "import matplotlib.pyplot as plt"
   ]
  },
  {
   "cell_type": "code",
   "execution_count": 5,
   "id": "39088828",
   "metadata": {},
   "outputs": [
    {
     "data": {
      "text/html": [
       "<div>\n",
       "<style scoped>\n",
       "    .dataframe tbody tr th:only-of-type {\n",
       "        vertical-align: middle;\n",
       "    }\n",
       "\n",
       "    .dataframe tbody tr th {\n",
       "        vertical-align: top;\n",
       "    }\n",
       "\n",
       "    .dataframe thead th {\n",
       "        text-align: right;\n",
       "    }\n",
       "</style>\n",
       "<table border=\"1\" class=\"dataframe\">\n",
       "  <thead>\n",
       "    <tr style=\"text-align: right;\">\n",
       "      <th></th>\n",
       "      <th>cement</th>\n",
       "      <th>slag</th>\n",
       "      <th>ash</th>\n",
       "      <th>water</th>\n",
       "      <th>superplastic</th>\n",
       "      <th>coarseagg</th>\n",
       "      <th>fineagg</th>\n",
       "      <th>age</th>\n",
       "      <th>strength</th>\n",
       "    </tr>\n",
       "  </thead>\n",
       "  <tbody>\n",
       "    <tr>\n",
       "      <th>226</th>\n",
       "      <td>167.4</td>\n",
       "      <td>129.9</td>\n",
       "      <td>128.6</td>\n",
       "      <td>175.5</td>\n",
       "      <td>7.8</td>\n",
       "      <td>1006.3</td>\n",
       "      <td>746.6</td>\n",
       "      <td>56</td>\n",
       "      <td>51.72</td>\n",
       "    </tr>\n",
       "    <tr>\n",
       "      <th>473</th>\n",
       "      <td>359.0</td>\n",
       "      <td>19.0</td>\n",
       "      <td>141.0</td>\n",
       "      <td>154.0</td>\n",
       "      <td>10.9</td>\n",
       "      <td>942.0</td>\n",
       "      <td>801.0</td>\n",
       "      <td>56</td>\n",
       "      <td>66.78</td>\n",
       "    </tr>\n",
       "    <tr>\n",
       "      <th>558</th>\n",
       "      <td>212.6</td>\n",
       "      <td>0.0</td>\n",
       "      <td>100.4</td>\n",
       "      <td>159.4</td>\n",
       "      <td>10.4</td>\n",
       "      <td>1003.8</td>\n",
       "      <td>903.8</td>\n",
       "      <td>3</td>\n",
       "      <td>13.33</td>\n",
       "    </tr>\n",
       "    <tr>\n",
       "      <th>173</th>\n",
       "      <td>276.0</td>\n",
       "      <td>116.0</td>\n",
       "      <td>90.0</td>\n",
       "      <td>180.0</td>\n",
       "      <td>9.0</td>\n",
       "      <td>870.0</td>\n",
       "      <td>768.0</td>\n",
       "      <td>28</td>\n",
       "      <td>44.28</td>\n",
       "    </tr>\n",
       "    <tr>\n",
       "      <th>655</th>\n",
       "      <td>307.0</td>\n",
       "      <td>0.0</td>\n",
       "      <td>0.0</td>\n",
       "      <td>193.0</td>\n",
       "      <td>0.0</td>\n",
       "      <td>968.0</td>\n",
       "      <td>812.0</td>\n",
       "      <td>3</td>\n",
       "      <td>12.54</td>\n",
       "    </tr>\n",
       "  </tbody>\n",
       "</table>\n",
       "</div>"
      ],
      "text/plain": [
       "     cement   slag    ash  water  superplastic  coarseagg  fineagg  age  \\\n",
       "226   167.4  129.9  128.6  175.5           7.8     1006.3    746.6   56   \n",
       "473   359.0   19.0  141.0  154.0          10.9      942.0    801.0   56   \n",
       "558   212.6    0.0  100.4  159.4          10.4     1003.8    903.8    3   \n",
       "173   276.0  116.0   90.0  180.0           9.0      870.0    768.0   28   \n",
       "655   307.0    0.0    0.0  193.0           0.0      968.0    812.0    3   \n",
       "\n",
       "     strength  \n",
       "226     51.72  \n",
       "473     66.78  \n",
       "558     13.33  \n",
       "173     44.28  \n",
       "655     12.54  "
      ]
     },
     "execution_count": 5,
     "metadata": {},
     "output_type": "execute_result"
    }
   ],
   "source": [
    "logger = set_logging_level(logging.INFO)\n",
    "data = pd.read_csv('C:/Users/Windows 11/Desktop/Dissertation/Codes/Data/Engineering/Cement Manufacturing Dataset.csv')\n",
    "data=data.sample(n=1000)\n",
    "data.head()"
   ]
  },
  {
   "cell_type": "markdown",
   "id": "5911b9b1",
   "metadata": {},
   "source": [
    "### Create GReaT Model"
   ]
  },
  {
   "cell_type": "code",
   "execution_count": 6,
   "id": "1a316696",
   "metadata": {},
   "outputs": [],
   "source": [
    "# great = GReaT(\"/data/guoquanjiang/llm_ner/llama3-8b/LLM-Research/Meta-Llama-3-8B\",                  # Name of the large language model used (see HuggingFace for more options)\n",
    "#               epochs=10,                   # Number of epochs to train\n",
    "#               save_steps=2000,               # Save model weights every x steps\n",
    "#               logging_steps=500,             # Log the loss and learning rate every x steps\n",
    "#               experiment_dir=\"trainer_travel\", # Name of the directory where all intermediate steps are saved\n",
    "#               batch_size=16,                 # Batch Size\n",
    "#               #lr_scheduler_type=\"constant\", # Specify the learning rate scheduler \n",
    "#               #learning_rate=5e-5            # Set the inital learning rate\n",
    "#               efficient_finetuning=\"lora\"\n",
    "#              )\n",
    "great = GReaT(\"C:/Users/Windows 11/Desktop/Dissertation/Codes/models/iiBcai/gpt2\",                  # Name of the large language model used (see HuggingFace for more options)\n",
    "              epochs=10,                   # Number of epochs to train\n",
    "              save_steps=2000,               # Save model weights every x steps\n",
    "              logging_steps=100,             # Log the loss and learning rate every x steps\n",
    "              experiment_dir=\"trainer_cement\", # Name of the directory where all intermediate steps are saved\n",
    "              batch_size=16                # Batch Size\n",
    "              #lr_scheduler_type=\"constant\", # Specify the learning rate scheduler \n",
    "              #learning_rate=5e-5            # Set the inital learning rate\n",
    "            #   efficient_finetuning=\"lora\"\n",
    "             )"
   ]
  },
  {
   "cell_type": "markdown",
   "id": "3c7b173f",
   "metadata": {},
   "source": [
    "### Start Training"
   ]
  },
  {
   "cell_type": "code",
   "execution_count": 7,
   "id": "200e000c",
   "metadata": {
    "scrolled": true
   },
   "outputs": [
    {
     "name": "stderr",
     "output_type": "stream",
     "text": [
      "\u001b[39;20m2024-06-30 14:33:52,836 - INFO - Convert data into HuggingFace dataset object... (great.py:167)\u001b[0m\n",
      "\u001b[39;20m2024-06-30 14:33:52,856 - INFO - Create GReaT Trainer... (great.py:172)\u001b[0m\n",
      "\u001b[39;20m2024-06-30 14:33:53,530 - INFO - Start training... (great.py:188)\u001b[0m\n",
      "You're using a GPT2TokenizerFast tokenizer. Please note that with a fast tokenizer, using the `__call__` method is faster than using a method to encode the text followed by a call to the `pad` method to get a padded encoding.\n"
     ]
    },
    {
     "data": {
      "text/html": [
       "\n",
       "    <div>\n",
       "      \n",
       "      <progress value='630' max='630' style='width:300px; height:20px; vertical-align: middle;'></progress>\n",
       "      [630/630 01:46, Epoch 10/10]\n",
       "    </div>\n",
       "    <table border=\"1\" class=\"dataframe\">\n",
       "  <thead>\n",
       " <tr style=\"text-align: left;\">\n",
       "      <th>Step</th>\n",
       "      <th>Training Loss</th>\n",
       "    </tr>\n",
       "  </thead>\n",
       "  <tbody>\n",
       "    <tr>\n",
       "      <td>100</td>\n",
       "      <td>1.410900</td>\n",
       "    </tr>\n",
       "    <tr>\n",
       "      <td>200</td>\n",
       "      <td>1.097000</td>\n",
       "    </tr>\n",
       "    <tr>\n",
       "      <td>300</td>\n",
       "      <td>1.048900</td>\n",
       "    </tr>\n",
       "    <tr>\n",
       "      <td>400</td>\n",
       "      <td>1.025900</td>\n",
       "    </tr>\n",
       "    <tr>\n",
       "      <td>500</td>\n",
       "      <td>1.013900</td>\n",
       "    </tr>\n",
       "    <tr>\n",
       "      <td>600</td>\n",
       "      <td>1.003300</td>\n",
       "    </tr>\n",
       "  </tbody>\n",
       "</table><p>"
      ],
      "text/plain": [
       "<IPython.core.display.HTML object>"
      ]
     },
     "metadata": {},
     "output_type": "display_data"
    }
   ],
   "source": [
    "trainer = great.fit(data)"
   ]
  },
  {
   "cell_type": "code",
   "execution_count": 8,
   "id": "cfe8184d",
   "metadata": {},
   "outputs": [
    {
     "data": {
      "text/plain": [
       "{'train_runtime': 107.1814,\n",
       " 'train_samples_per_second': 93.3,\n",
       " 'train_steps_per_second': 5.878,\n",
       " 'total_flos': 357198455808000.0,\n",
       " 'train_loss': 1.095102752201141,\n",
       " 'epoch': 10.0,\n",
       " 'step': 630}"
      ]
     },
     "execution_count": 8,
     "metadata": {},
     "output_type": "execute_result"
    }
   ],
   "source": [
    "loss_hist = trainer.state.log_history.copy()\n",
    "loss_hist.pop()"
   ]
  },
  {
   "cell_type": "code",
   "execution_count": 9,
   "id": "76deeb9e",
   "metadata": {},
   "outputs": [],
   "source": [
    "loss = [x[\"loss\"] for x in loss_hist]\n",
    "epochs = [x[\"epoch\"] for x in loss_hist]"
   ]
  },
  {
   "cell_type": "code",
   "execution_count": 10,
   "id": "bcd7fc6f",
   "metadata": {},
   "outputs": [
    {
     "data": {
      "text/plain": [
       "[<matplotlib.lines.Line2D at 0x7f3295a84880>]"
      ]
     },
     "execution_count": 10,
     "metadata": {},
     "output_type": "execute_result"
    },
    {
     "data": {
      "image/png": "[encoded data removed]",
      "text/plain": [
       "<Figure size 640x480 with 1 Axes>"
      ]
     },
     "metadata": {},
     "output_type": "display_data"
    }
   ],
   "source": [
    "plt.plot(epochs, loss)"
   ]
  },
  {
   "cell_type": "markdown",
   "id": "fdb05fe0",
   "metadata": {},
   "source": [
    "### Generate Samples"
   ]
  },
  {
   "cell_type": "code",
   "execution_count": 11,
   "id": "4bb298ac",
   "metadata": {},
   "outputs": [],
   "source": [
    "n_samples = 1000"
   ]
  },
  {
   "cell_type": "code",
   "execution_count": 12,
   "id": "2106b9f2",
   "metadata": {},
   "outputs": [
    {
     "name": "stderr",
     "output_type": "stream",
     "text": [
      "1001it [00:26, 38.48it/s]                         \n"
     ]
    }
   ],
   "source": [
    "samples = great.sample(n_samples, k=50, max_length=200)"
   ]
  },
  {
   "cell_type": "code",
   "execution_count": 13,
   "id": "105aa225",
   "metadata": {},
   "outputs": [
    {
     "data": {
      "text/html": [
       "<div>\n",
       "<style scoped>\n",
       "    .dataframe tbody tr th:only-of-type {\n",
       "        vertical-align: middle;\n",
       "    }\n",
       "\n",
       "    .dataframe tbody tr th {\n",
       "        vertical-align: top;\n",
       "    }\n",
       "\n",
       "    .dataframe thead th {\n",
       "        text-align: right;\n",
       "    }\n",
       "</style>\n",
       "<table border=\"1\" class=\"dataframe\">\n",
       "  <thead>\n",
       "    <tr style=\"text-align: right;\">\n",
       "      <th></th>\n",
       "      <th>cement</th>\n",
       "      <th>slag</th>\n",
       "      <th>ash</th>\n",
       "      <th>water</th>\n",
       "      <th>superplastic</th>\n",
       "      <th>coarseagg</th>\n",
       "      <th>fineagg</th>\n",
       "      <th>age</th>\n",
       "      <th>strength</th>\n",
       "    </tr>\n",
       "  </thead>\n",
       "  <tbody>\n",
       "    <tr>\n",
       "      <th>0</th>\n",
       "      <td>153.0</td>\n",
       "      <td>0.0</td>\n",
       "      <td>0.0</td>\n",
       "      <td>178.0</td>\n",
       "      <td>0.0</td>\n",
       "      <td>932.0</td>\n",
       "      <td>755.0</td>\n",
       "      <td>28.0</td>\n",
       "      <td>31.42</td>\n",
       "    </tr>\n",
       "    <tr>\n",
       "      <th>1</th>\n",
       "      <td>475.0</td>\n",
       "      <td>0.0</td>\n",
       "      <td>0.0</td>\n",
       "      <td>159.4</td>\n",
       "      <td>0.0</td>\n",
       "      <td>932.0</td>\n",
       "      <td>746.4</td>\n",
       "      <td>28.0</td>\n",
       "      <td>46.23</td>\n",
       "    </tr>\n",
       "    <tr>\n",
       "      <th>2</th>\n",
       "      <td>446.0</td>\n",
       "      <td>0.0</td>\n",
       "      <td>0.0</td>\n",
       "      <td>182.0</td>\n",
       "      <td>0.0</td>\n",
       "      <td>942.0</td>\n",
       "      <td>879.0</td>\n",
       "      <td>28.0</td>\n",
       "      <td>25.46</td>\n",
       "    </tr>\n",
       "    <tr>\n",
       "      <th>3</th>\n",
       "      <td>331.0</td>\n",
       "      <td>0.0</td>\n",
       "      <td>0.0</td>\n",
       "      <td>186.0</td>\n",
       "      <td>6.0</td>\n",
       "      <td>932.0</td>\n",
       "      <td>789.0</td>\n",
       "      <td>28.0</td>\n",
       "      <td>18.02</td>\n",
       "    </tr>\n",
       "    <tr>\n",
       "      <th>4</th>\n",
       "      <td>305.0</td>\n",
       "      <td>0.0</td>\n",
       "      <td>0.0</td>\n",
       "      <td>228.0</td>\n",
       "      <td>0.0</td>\n",
       "      <td>1007.0</td>\n",
       "      <td>749.0</td>\n",
       "      <td>3.0</td>\n",
       "      <td>22.32</td>\n",
       "    </tr>\n",
       "  </tbody>\n",
       "</table>\n",
       "</div>"
      ],
      "text/plain": [
       "   cement  slag  ash  water  superplastic  coarseagg  fineagg   age  strength\n",
       "0   153.0   0.0  0.0  178.0           0.0      932.0    755.0  28.0     31.42\n",
       "1   475.0   0.0  0.0  159.4           0.0      932.0    746.4  28.0     46.23\n",
       "2   446.0   0.0  0.0  182.0           0.0      942.0    879.0  28.0     25.46\n",
       "3   331.0   0.0  0.0  186.0           6.0      932.0    789.0  28.0     18.02\n",
       "4   305.0   0.0  0.0  228.0           0.0     1007.0    749.0   3.0     22.32"
      ]
     },
     "execution_count": 13,
     "metadata": {},
     "output_type": "execute_result"
    }
   ],
   "source": [
    "samples.head()"
   ]
  },
  {
   "cell_type": "code",
   "execution_count": 14,
   "id": "c6f534d4",
   "metadata": {},
   "outputs": [],
   "source": [
    "samples.to_csv(\"C:/Users/Windows 11/Desktop/Dissertation/Codes/sample_data/Engineering/cement_samples.csv\",index=False)"
   ]
  },
  {
   "cell_type": "markdown",
   "id": "70545fac",
   "metadata": {},
   "source": [
    "## Plot Data"
   ]
  },
  {
   "cell_type": "code",
   "execution_count": 25,
   "id": "ec9e0767",
   "metadata": {},
   "outputs": [
    {
     "data": {
      "text/html": [
       "<div>\n",
       "<style scoped>\n",
       "    .dataframe tbody tr th:only-of-type {\n",
       "        vertical-align: middle;\n",
       "    }\n",
       "\n",
       "    .dataframe tbody tr th {\n",
       "        vertical-align: top;\n",
       "    }\n",
       "\n",
       "    .dataframe thead th {\n",
       "        text-align: right;\n",
       "    }\n",
       "</style>\n",
       "<table border=\"1\" class=\"dataframe\">\n",
       "  <thead>\n",
       "    <tr style=\"text-align: right;\">\n",
       "      <th></th>\n",
       "      <th>Age</th>\n",
       "      <th>FrequentFlyer</th>\n",
       "      <th>AnnualIncomeClass</th>\n",
       "      <th>ServicesOpted</th>\n",
       "      <th>AccountSyncedToSocialMedia</th>\n",
       "      <th>BookedHotelOrNot</th>\n",
       "      <th>Target</th>\n",
       "    </tr>\n",
       "  </thead>\n",
       "  <tbody>\n",
       "    <tr>\n",
       "      <th>670</th>\n",
       "      <td>30</td>\n",
       "      <td>No</td>\n",
       "      <td>Low Income</td>\n",
       "      <td>1</td>\n",
       "      <td>No</td>\n",
       "      <td>Yes</td>\n",
       "      <td>0</td>\n",
       "    </tr>\n",
       "    <tr>\n",
       "      <th>211</th>\n",
       "      <td>29</td>\n",
       "      <td>No</td>\n",
       "      <td>Low Income</td>\n",
       "      <td>2</td>\n",
       "      <td>No</td>\n",
       "      <td>No</td>\n",
       "      <td>0</td>\n",
       "    </tr>\n",
       "    <tr>\n",
       "      <th>821</th>\n",
       "      <td>37</td>\n",
       "      <td>Yes</td>\n",
       "      <td>High Income</td>\n",
       "      <td>1</td>\n",
       "      <td>No</td>\n",
       "      <td>No</td>\n",
       "      <td>0</td>\n",
       "    </tr>\n",
       "    <tr>\n",
       "      <th>410</th>\n",
       "      <td>30</td>\n",
       "      <td>No</td>\n",
       "      <td>Middle Income</td>\n",
       "      <td>3</td>\n",
       "      <td>No</td>\n",
       "      <td>Yes</td>\n",
       "      <td>0</td>\n",
       "    </tr>\n",
       "    <tr>\n",
       "      <th>255</th>\n",
       "      <td>37</td>\n",
       "      <td>No</td>\n",
       "      <td>Middle Income</td>\n",
       "      <td>6</td>\n",
       "      <td>No</td>\n",
       "      <td>Yes</td>\n",
       "      <td>0</td>\n",
       "    </tr>\n",
       "  </tbody>\n",
       "</table>\n",
       "</div>"
      ],
      "text/plain": [
       "     Age FrequentFlyer AnnualIncomeClass  ServicesOpted  \\\n",
       "670   30            No        Low Income              1   \n",
       "211   29            No        Low Income              2   \n",
       "821   37           Yes       High Income              1   \n",
       "410   30            No     Middle Income              3   \n",
       "255   37            No     Middle Income              6   \n",
       "\n",
       "    AccountSyncedToSocialMedia BookedHotelOrNot  Target  \n",
       "670                         No              Yes       0  \n",
       "211                         No               No       0  \n",
       "821                         No               No       0  \n",
       "410                         No              Yes       0  \n",
       "255                         No              Yes       0  "
      ]
     },
     "execution_count": 25,
     "metadata": {},
     "output_type": "execute_result"
    },
    {
     "data": {
      "image/png": "[encoded data removed]",
      "text/plain": [
       "<Figure size 1200x400 with 2 Axes>"
      ]
     },
     "metadata": {},
     "output_type": "display_data"
    }
   ],
   "source": [
    "fig, ax = plt.subplots(1, 2, figsize=(12, 4))\n",
    "true_samples = data.sample(n = 100)\n",
    "true_samples.head()"
   ]
  },
  {
   "cell_type": "markdown",
   "id": "e3e051cc",
   "metadata": {},
   "source": [
    "Original Data"
   ]
  },
  {
   "cell_type": "code",
   "execution_count": 27,
   "id": "e70c4dfd",
   "metadata": {},
   "outputs": [
    {
     "data": {
      "text/plain": [
       "<matplotlib.collections.PathCollection at 0x7f4176431b50>"
      ]
     },
     "execution_count": 27,
     "metadata": {},
     "output_type": "execute_result"
    },
    {
     "data": {
      "image/png": "[encoded data removed]",
      "text/plain": [
       "<Figure size 1200x400 with 2 Axes>"
      ]
     },
     "metadata": {},
     "output_type": "display_data"
    }
   ],
   "source": [
    "fig, ax = plt.subplots(1, 2, figsize=(12, 4))\n",
    "true_samples = data.sample(n = 200)\n",
    "ax[0].scatter(true_samples[\"Age\"], true_samples[\"FrequentFlyer\"], c=true_samples[\"Target\"])\n",
    "ax[1].scatter(true_samples[\"AnnualIncomeClass\"], true_samples[\"ServicesOpted\"], c=true_samples[\"Target\"])"
   ]
  },
  {
   "cell_type": "markdown",
   "id": "f56b0e03",
   "metadata": {},
   "source": [
    "Generated samples"
   ]
  },
  {
   "cell_type": "code",
   "execution_count": 28,
   "id": "66d7efcc",
   "metadata": {},
   "outputs": [],
   "source": [
    "samples = pd.read_csv(\"C:/Users/Windows 11/Desktop/Dissertation/Codes/sample_data/travel_samples.csv\")"
   ]
  },
  {
   "cell_type": "code",
   "execution_count": 29,
   "id": "96d782e2",
   "metadata": {},
   "outputs": [
    {
     "data": {
      "text/plain": [
       "<matplotlib.collections.PathCollection at 0x7f4176371af0>"
      ]
     },
     "execution_count": 29,
     "metadata": {},
     "output_type": "execute_result"
    },
    {
     "data": {
      "image/png": "[encoded data removed]",
      "text/plain": [
       "<Figure size 1200x400 with 2 Axes>"
      ]
     },
     "metadata": {},
     "output_type": "display_data"
    }
   ],
   "source": [
    "fig, ax = plt.subplots(1, 2, figsize=(12, 4))\n",
    "\n",
    "ax[0].scatter(samples[\"Age\"], samples[\"FrequentFlyer\"], c=samples[\"Target\"])\n",
    "ax[0].set_ylim(1.8, 4.5)\n",
    "ax[1].scatter(samples[\"AnnualIncomeClass\"], samples[\"ServicesOpted\"], c=samples[\"Target\"].astype(\"int\"))\n"
   ]
  },
  {
   "cell_type": "code",
   "execution_count": null,
   "id": "69639c1e",
   "metadata": {},
   "outputs": [],
   "source": []
  },
  {
   "cell_type": "code",
   "execution_count": null,
   "id": "20708e2c",
   "metadata": {},
   "outputs": [],
   "source": []
  }
 ],
 "metadata": {
  "kernelspec": {
   "display_name": "Python 3 (ipykernel)",
   "language": "python",
   "name": "python3"
  },
  "language_info": {
   "codemirror_mode": {
    "name": "ipython",
    "version": 3
   },
   "file_extension": ".py",
   "mimetype": "text/x-python",
   "name": "python",
   "nbconvert_exporter": "python",
   "pygments_lexer": "ipython3",
   "version": "3.11.7"
  }
 },
 "nbformat": 4,
 "nbformat_minor": 5
}
