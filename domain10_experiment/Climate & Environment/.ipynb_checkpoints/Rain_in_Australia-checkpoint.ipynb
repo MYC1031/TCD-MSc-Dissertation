{
 "cells": [
  {
   "cell_type": "markdown",
   "id": "245418c1",
   "metadata": {},
   "source": [
    "## GReaT Example with Iris Dataset"
   ]
  },
  {
   "cell_type": "code",
   "execution_count": 1,
   "id": "ab1f4da7-4b93-4055-8d56-6030c7498999",
   "metadata": {},
   "outputs": [],
   "source": [
    "# Execute only once!\n",
    "import os\n",
    "import sys\n",
    "sys.path.append(\"..\")\n",
    "os.chdir(\"..\")\n",
    "\n",
    "os.environ[\"CUDA_VISIBLE_DEVICES\"]=\"0\""
   ]
  },
  {
   "cell_type": "code",
   "execution_count": 2,
   "id": "b5009b62",
   "metadata": {},
   "outputs": [],
   "source": [
    "import numpy as np\n",
    "import pandas as pd\n",
    "import logging"
   ]
  },
  {
   "cell_type": "code",
   "execution_count": 3,
   "id": "71836c07-2530-44af-9b4b-cf72aff34426",
   "metadata": {},
   "outputs": [
    {
     "name": "stderr",
     "output_type": "stream",
     "text": [
      "/data/guoquanjiang/envs/begreat/lib/python3.9/site-packages/tqdm/auto.py:21: TqdmWarning: IProgress not found. Please update jupyter and ipywidgets. See https://ipywidgets.readthedocs.io/en/stable/user_install.html\n",
      "  from .autonotebook import tqdm as notebook_tqdm\n"
     ]
    }
   ],
   "source": [
    "from examples.utils import set_logging_level\n",
    "from be_great import GReaT"
   ]
  },
  {
   "cell_type": "code",
   "execution_count": 4,
   "id": "00695066",
   "metadata": {},
   "outputs": [],
   "source": [
    "import matplotlib.pyplot as plt"
   ]
  },
  {
   "cell_type": "code",
   "execution_count": 5,
   "id": "39088828",
   "metadata": {},
   "outputs": [
    {
     "data": {
      "text/html": [
       "<div>\n",
       "<style scoped>\n",
       "    .dataframe tbody tr th:only-of-type {\n",
       "        vertical-align: middle;\n",
       "    }\n",
       "\n",
       "    .dataframe tbody tr th {\n",
       "        vertical-align: top;\n",
       "    }\n",
       "\n",
       "    .dataframe thead th {\n",
       "        text-align: right;\n",
       "    }\n",
       "</style>\n",
       "<table border=\"1\" class=\"dataframe\">\n",
       "  <thead>\n",
       "    <tr style=\"text-align: right;\">\n",
       "      <th></th>\n",
       "      <th>Date</th>\n",
       "      <th>Location</th>\n",
       "      <th>MinTemp</th>\n",
       "      <th>MaxTemp</th>\n",
       "      <th>Rainfall</th>\n",
       "      <th>Evaporation</th>\n",
       "      <th>Sunshine</th>\n",
       "      <th>WindGustDir</th>\n",
       "      <th>WindGustSpeed</th>\n",
       "      <th>WindDir9am</th>\n",
       "      <th>...</th>\n",
       "      <th>Humidity9am</th>\n",
       "      <th>Humidity3pm</th>\n",
       "      <th>Pressure9am</th>\n",
       "      <th>Pressure3pm</th>\n",
       "      <th>Cloud9am</th>\n",
       "      <th>Cloud3pm</th>\n",
       "      <th>Temp9am</th>\n",
       "      <th>Temp3pm</th>\n",
       "      <th>RainToday</th>\n",
       "      <th>RainTomorrow</th>\n",
       "    </tr>\n",
       "  </thead>\n",
       "  <tbody>\n",
       "    <tr>\n",
       "      <th>105886</th>\n",
       "      <td>2009-11-21</td>\n",
       "      <td>Woomera</td>\n",
       "      <td>19.0</td>\n",
       "      <td>21.1</td>\n",
       "      <td>16.4</td>\n",
       "      <td>10.6</td>\n",
       "      <td>0.2</td>\n",
       "      <td>W</td>\n",
       "      <td>89.0</td>\n",
       "      <td>E</td>\n",
       "      <td>...</td>\n",
       "      <td>96.0</td>\n",
       "      <td>95.0</td>\n",
       "      <td>1008.4</td>\n",
       "      <td>1004.8</td>\n",
       "      <td>8.0</td>\n",
       "      <td>8.0</td>\n",
       "      <td>20.3</td>\n",
       "      <td>20.4</td>\n",
       "      <td>Yes</td>\n",
       "      <td>Yes</td>\n",
       "    </tr>\n",
       "    <tr>\n",
       "      <th>25332</th>\n",
       "      <td>2012-04-19</td>\n",
       "      <td>Penrith</td>\n",
       "      <td>17.6</td>\n",
       "      <td>25.6</td>\n",
       "      <td>43.8</td>\n",
       "      <td>NaN</td>\n",
       "      <td>NaN</td>\n",
       "      <td>ESE</td>\n",
       "      <td>28.0</td>\n",
       "      <td>SSE</td>\n",
       "      <td>...</td>\n",
       "      <td>100.0</td>\n",
       "      <td>62.0</td>\n",
       "      <td>NaN</td>\n",
       "      <td>NaN</td>\n",
       "      <td>NaN</td>\n",
       "      <td>NaN</td>\n",
       "      <td>19.3</td>\n",
       "      <td>25.0</td>\n",
       "      <td>Yes</td>\n",
       "      <td>Yes</td>\n",
       "    </tr>\n",
       "    <tr>\n",
       "      <th>105421</th>\n",
       "      <td>2017-02-05</td>\n",
       "      <td>Nuriootpa</td>\n",
       "      <td>19.9</td>\n",
       "      <td>23.9</td>\n",
       "      <td>1.6</td>\n",
       "      <td>4.4</td>\n",
       "      <td>0.0</td>\n",
       "      <td>WNW</td>\n",
       "      <td>43.0</td>\n",
       "      <td>NW</td>\n",
       "      <td>...</td>\n",
       "      <td>69.0</td>\n",
       "      <td>91.0</td>\n",
       "      <td>1008.9</td>\n",
       "      <td>1008.4</td>\n",
       "      <td>8.0</td>\n",
       "      <td>NaN</td>\n",
       "      <td>23.9</td>\n",
       "      <td>22.1</td>\n",
       "      <td>Yes</td>\n",
       "      <td>Yes</td>\n",
       "    </tr>\n",
       "    <tr>\n",
       "      <th>54393</th>\n",
       "      <td>2015-07-18</td>\n",
       "      <td>MountGinini</td>\n",
       "      <td>-5.1</td>\n",
       "      <td>-0.1</td>\n",
       "      <td>0.0</td>\n",
       "      <td>NaN</td>\n",
       "      <td>NaN</td>\n",
       "      <td>S</td>\n",
       "      <td>43.0</td>\n",
       "      <td>ESE</td>\n",
       "      <td>...</td>\n",
       "      <td>98.0</td>\n",
       "      <td>96.0</td>\n",
       "      <td>NaN</td>\n",
       "      <td>NaN</td>\n",
       "      <td>NaN</td>\n",
       "      <td>NaN</td>\n",
       "      <td>-3.3</td>\n",
       "      <td>-1.3</td>\n",
       "      <td>No</td>\n",
       "      <td>No</td>\n",
       "    </tr>\n",
       "    <tr>\n",
       "      <th>65562</th>\n",
       "      <td>2012-11-02</td>\n",
       "      <td>MelbourneAirport</td>\n",
       "      <td>8.4</td>\n",
       "      <td>15.0</td>\n",
       "      <td>0.6</td>\n",
       "      <td>4.6</td>\n",
       "      <td>1.6</td>\n",
       "      <td>SSW</td>\n",
       "      <td>35.0</td>\n",
       "      <td>S</td>\n",
       "      <td>...</td>\n",
       "      <td>79.0</td>\n",
       "      <td>60.0</td>\n",
       "      <td>1019.0</td>\n",
       "      <td>1019.1</td>\n",
       "      <td>7.0</td>\n",
       "      <td>7.0</td>\n",
       "      <td>10.8</td>\n",
       "      <td>14.5</td>\n",
       "      <td>No</td>\n",
       "      <td>No</td>\n",
       "    </tr>\n",
       "  </tbody>\n",
       "</table>\n",
       "<p>5 rows × 23 columns</p>\n",
       "</div>"
      ],
      "text/plain": [
       "              Date          Location  MinTemp  MaxTemp  Rainfall  Evaporation  \\\n",
       "105886  2009-11-21           Woomera     19.0     21.1      16.4         10.6   \n",
       "25332   2012-04-19           Penrith     17.6     25.6      43.8          NaN   \n",
       "105421  2017-02-05         Nuriootpa     19.9     23.9       1.6          4.4   \n",
       "54393   2015-07-18       MountGinini     -5.1     -0.1       0.0          NaN   \n",
       "65562   2012-11-02  MelbourneAirport      8.4     15.0       0.6          4.6   \n",
       "\n",
       "        Sunshine WindGustDir  WindGustSpeed WindDir9am  ... Humidity9am  \\\n",
       "105886       0.2           W           89.0          E  ...        96.0   \n",
       "25332        NaN         ESE           28.0        SSE  ...       100.0   \n",
       "105421       0.0         WNW           43.0         NW  ...        69.0   \n",
       "54393        NaN           S           43.0        ESE  ...        98.0   \n",
       "65562        1.6         SSW           35.0          S  ...        79.0   \n",
       "\n",
       "        Humidity3pm  Pressure9am  Pressure3pm  Cloud9am  Cloud3pm  Temp9am  \\\n",
       "105886         95.0       1008.4       1004.8       8.0       8.0     20.3   \n",
       "25332          62.0          NaN          NaN       NaN       NaN     19.3   \n",
       "105421         91.0       1008.9       1008.4       8.0       NaN     23.9   \n",
       "54393          96.0          NaN          NaN       NaN       NaN     -3.3   \n",
       "65562          60.0       1019.0       1019.1       7.0       7.0     10.8   \n",
       "\n",
       "        Temp3pm  RainToday  RainTomorrow  \n",
       "105886     20.4        Yes           Yes  \n",
       "25332      25.0        Yes           Yes  \n",
       "105421     22.1        Yes           Yes  \n",
       "54393      -1.3         No            No  \n",
       "65562      14.5         No            No  \n",
       "\n",
       "[5 rows x 23 columns]"
      ]
     },
     "execution_count": 5,
     "metadata": {},
     "output_type": "execute_result"
    }
   ],
   "source": [
    "logger = set_logging_level(logging.INFO)\n",
    "data = pd.read_csv('C:/Users/Windows 11/Desktop/Dissertation/Codes/Data/Climate & Environment/Rain in Australia.csv')\n",
    "data=data.sample(n=1000)\n",
    "data.head()"
   ]
  },
  {
   "cell_type": "markdown",
   "id": "5911b9b1",
   "metadata": {},
   "source": [
    "### Create GReaT Model"
   ]
  },
  {
   "cell_type": "code",
   "execution_count": 6,
   "id": "1a316696",
   "metadata": {},
   "outputs": [],
   "source": [
    "# great = GReaT(\"/data/guoquanjiang/llm_ner/llama3-8b/LLM-Research/Meta-Llama-3-8B\",                  # Name of the large language model used (see HuggingFace for more options)\n",
    "#               epochs=10,                   # Number of epochs to train\n",
    "#               save_steps=2000,               # Save model weights every x steps\n",
    "#               logging_steps=500,             # Log the loss and learning rate every x steps\n",
    "#               experiment_dir=\"trainer_travel\", # Name of the directory where all intermediate steps are saved\n",
    "#               batch_size=16,                 # Batch Size\n",
    "#               #lr_scheduler_type=\"constant\", # Specify the learning rate scheduler \n",
    "#               #learning_rate=5e-5            # Set the inital learning rate\n",
    "#               efficient_finetuning=\"lora\"\n",
    "#              )\n",
    "great = GReaT(\"C:/Users/Windows 11/Desktop/Dissertation/Codes/models/iiBcai/gpt2\",                  # Name of the large language model used (see HuggingFace for more options)\n",
    "              epochs=10,                   # Number of epochs to train\n",
    "              save_steps=2000,               # Save model weights every x steps\n",
    "              logging_steps=100,             # Log the loss and learning rate every x steps\n",
    "              experiment_dir=\"trainer_rainaustralia\", # Name of the directory where all intermediate steps are saved\n",
    "              batch_size=32                # Batch Size\n",
    "              #lr_scheduler_type=\"constant\", # Specify the learning rate scheduler \n",
    "              #learning_rate=5e-5            # Set the inital learning rate\n",
    "            #   efficient_finetuning=\"lora\"\n",
    "             )"
   ]
  },
  {
   "cell_type": "markdown",
   "id": "3c7b173f",
   "metadata": {},
   "source": [
    "### Start Training"
   ]
  },
  {
   "cell_type": "code",
   "execution_count": 7,
   "id": "200e000c",
   "metadata": {
    "scrolled": true
   },
   "outputs": [
    {
     "name": "stderr",
     "output_type": "stream",
     "text": [
      "\u001b[39;20m2024-06-30 20:06:24,452 - INFO - Convert data into HuggingFace dataset object... (great.py:190)\u001b[0m\n",
      "\u001b[39;20m2024-06-30 20:06:24,475 - INFO - Create GReaT Trainer... (great.py:195)\u001b[0m\n",
      "\u001b[39;20m2024-06-30 20:06:24,833 - INFO - Start training... (great.py:211)\u001b[0m\n",
      "You're using a GPT2TokenizerFast tokenizer. Please note that with a fast tokenizer, using the `__call__` method is faster than using a method to encode the text followed by a call to the `pad` method to get a padded encoding.\n"
     ]
    },
    {
     "data": {
      "text/html": [
       "\n",
       "    <div>\n",
       "      \n",
       "      <progress value='320' max='320' style='width:300px; height:20px; vertical-align: middle;'></progress>\n",
       "      [320/320 02:55, Epoch 10/10]\n",
       "    </div>\n",
       "    <table border=\"1\" class=\"dataframe\">\n",
       "  <thead>\n",
       " <tr style=\"text-align: left;\">\n",
       "      <th>Step</th>\n",
       "      <th>Training Loss</th>\n",
       "    </tr>\n",
       "  </thead>\n",
       "  <tbody>\n",
       "    <tr>\n",
       "      <td>100</td>\n",
       "      <td>1.150000</td>\n",
       "    </tr>\n",
       "    <tr>\n",
       "      <td>200</td>\n",
       "      <td>0.869200</td>\n",
       "    </tr>\n",
       "    <tr>\n",
       "      <td>300</td>\n",
       "      <td>0.841400</td>\n",
       "    </tr>\n",
       "  </tbody>\n",
       "</table><p>"
      ],
      "text/plain": [
       "<IPython.core.display.HTML object>"
      ]
     },
     "metadata": {},
     "output_type": "display_data"
    }
   ],
   "source": [
    "trainer = great.fit(data)"
   ]
  },
  {
   "cell_type": "code",
   "execution_count": 8,
   "id": "cfe8184d",
   "metadata": {},
   "outputs": [
    {
     "data": {
      "text/plain": [
       "{'train_runtime': 176.2553,\n",
       " 'train_samples_per_second': 56.736,\n",
       " 'train_steps_per_second': 1.816,\n",
       " 'total_flos': 962114006016000.0,\n",
       " 'train_loss': 0.9460446000099182,\n",
       " 'epoch': 10.0,\n",
       " 'step': 320}"
      ]
     },
     "execution_count": 8,
     "metadata": {},
     "output_type": "execute_result"
    }
   ],
   "source": [
    "loss_hist = trainer.state.log_history.copy()\n",
    "loss_hist.pop()"
   ]
  },
  {
   "cell_type": "code",
   "execution_count": 9,
   "id": "76deeb9e",
   "metadata": {},
   "outputs": [],
   "source": [
    "loss = [x[\"loss\"] for x in loss_hist]\n",
    "epochs = [x[\"epoch\"] for x in loss_hist]"
   ]
  },
  {
   "cell_type": "code",
   "execution_count": 10,
   "id": "bcd7fc6f",
   "metadata": {},
   "outputs": [
    {
     "data": {
      "text/plain": [
       "[<matplotlib.lines.Line2D at 0x7fb910878f70>]"
      ]
     },
     "execution_count": 10,
     "metadata": {},
     "output_type": "execute_result"
    },
    {
     "data": {
      "image/png": "[encoded data removed]",
      "text/plain": [
       "<Figure size 640x480 with 1 Axes>"
      ]
     },
     "metadata": {},
     "output_type": "display_data"
    }
   ],
   "source": [
    "plt.plot(epochs, loss)"
   ]
  },
  {
   "cell_type": "markdown",
   "id": "fdb05fe0",
   "metadata": {},
   "source": [
    "### Generate Samples"
   ]
  },
  {
   "cell_type": "code",
   "execution_count": 11,
   "id": "4bb298ac",
   "metadata": {},
   "outputs": [],
   "source": [
    "n_samples = 1000"
   ]
  },
  {
   "cell_type": "code",
   "execution_count": 12,
   "id": "2106b9f2",
   "metadata": {},
   "outputs": [
    {
     "name": "stderr",
     "output_type": "stream",
     "text": [
      "  0%|          | 0/1000 [00:00<?, ?it/s]"
     ]
    },
    {
     "name": "stdout",
     "output_type": "stream",
     "text": [
      "['RainTomorrow is Yes,', 'RainTomorrow is No,', 'RainTomorrow is No,', 'RainTomorrow is No,', 'RainTomorrow is No,', 'RainTomorrow is No,', 'RainTomorrow is No,', 'RainTomorrow is Yes,', 'RainTomorrow is No,', 'RainTomorrow is No,', 'RainTomorrow is No,', 'RainTomorrow is No,', 'RainTomorrow is No,', 'RainTomorrow is No,', 'RainTomorrow is No,', 'RainTomorrow is No,', 'RainTomorrow is Yes,', 'RainTomorrow is No,', 'RainTomorrow is Yes,', 'RainTomorrow is No,', 'RainTomorrow is No,', 'RainTomorrow is No,', 'RainTomorrow is No,', 'RainTomorrow is No,', 'RainTomorrow is Yes,', 'RainTomorrow is No,', 'RainTomorrow is No,', 'RainTomorrow is No,', 'RainTomorrow is No,', 'RainTomorrow is No,', 'RainTomorrow is No,', 'RainTomorrow is No,', 'RainTomorrow is Yes,', 'RainTomorrow is No,', 'RainTomorrow is No,', 'RainTomorrow is No,', 'RainTomorrow is Yes,', 'RainTomorrow is No,', 'RainTomorrow is No,', 'RainTomorrow is No,', 'RainTomorrow is No,', 'RainTomorrow is No,', 'RainTomorrow is No,', 'RainTomorrow is No,', 'RainTomorrow is No,', 'RainTomorrow is No,', 'RainTomorrow is No,', 'RainTomorrow is Yes,', 'RainTomorrow is No,', 'RainTomorrow is No,']\n"
     ]
    },
    {
     "name": "stderr",
     "output_type": "stream",
     "text": [
      "  0%|          | 4/1000 [00:03<12:37,  1.31it/s]"
     ]
    },
    {
     "name": "stdout",
     "output_type": "stream",
     "text": [
      "['RainTomorrow is No,', 'RainTomorrow is No,', 'RainTomorrow is Yes,', 'RainTomorrow is No,', 'RainTomorrow is No,', 'RainTomorrow is Yes,', 'RainTomorrow is Yes,', 'RainTomorrow is No,', 'RainTomorrow is No,', 'RainTomorrow is Yes,', 'RainTomorrow is No,', 'RainTomorrow is No,', 'RainTomorrow is Yes,', 'RainTomorrow is No,', 'RainTomorrow is No,', 'RainTomorrow is No,', 'RainTomorrow is No,', 'RainTomorrow is No,', 'RainTomorrow is No,', 'RainTomorrow is No,', 'RainTomorrow is No,', 'RainTomorrow is No,', 'RainTomorrow is No,', 'RainTomorrow is No,', 'RainTomorrow is Yes,', 'RainTomorrow is Yes,', 'RainTomorrow is No,', 'RainTomorrow is No,', 'RainTomorrow is No,', 'RainTomorrow is No,', 'RainTomorrow is No,', 'RainTomorrow is Yes,', 'RainTomorrow is No,', 'RainTomorrow is No,', 'RainTomorrow is No,', 'RainTomorrow is No,', 'RainTomorrow is No,', 'RainTomorrow is No,', 'RainTomorrow is Yes,', 'RainTomorrow is Yes,', 'RainTomorrow is No,', 'RainTomorrow is No,', 'RainTomorrow is Yes,', 'RainTomorrow is No,', 'RainTomorrow is No,', 'RainTomorrow is No,', 'RainTomorrow is Yes,', 'RainTomorrow is Yes,', 'RainTomorrow is No,', 'RainTomorrow is No,']\n"
     ]
    },
    {
     "name": "stderr",
     "output_type": "stream",
     "text": [
      "  1%|          | 11/1000 [00:05<08:25,  1.96it/s]"
     ]
    },
    {
     "name": "stdout",
     "output_type": "stream",
     "text": [
      "['RainTomorrow is No,', 'RainTomorrow is No,', 'RainTomorrow is No,', 'RainTomorrow is No,', 'RainTomorrow is Yes,', 'RainTomorrow is No,', 'RainTomorrow is No,', 'RainTomorrow is No,', 'RainTomorrow is No,', 'RainTomorrow is No,', 'RainTomorrow is No,', 'RainTomorrow is No,', 'RainTomorrow is Yes,', 'RainTomorrow is No,', 'RainTomorrow is No,', 'RainTomorrow is No,', 'RainTomorrow is Yes,', 'RainTomorrow is No,', 'RainTomorrow is Yes,', 'RainTomorrow is No,', 'RainTomorrow is No,', 'RainTomorrow is No,', 'RainTomorrow is No,', 'RainTomorrow is No,', 'RainTomorrow is No,', 'RainTomorrow is No,', 'RainTomorrow is Yes,', 'RainTomorrow is Yes,', 'RainTomorrow is Yes,', 'RainTomorrow is No,', 'RainTomorrow is No,', 'RainTomorrow is No,', 'RainTomorrow is No,', 'RainTomorrow is No,', 'RainTomorrow is No,', 'RainTomorrow is No,', 'RainTomorrow is No,', 'RainTomorrow is No,', 'RainTomorrow is No,', 'RainTomorrow is No,', 'RainTomorrow is No,', 'RainTomorrow is Yes,', 'RainTomorrow is No,', 'RainTomorrow is No,', 'RainTomorrow is No,', 'RainTomorrow is No,', 'RainTomorrow is No,', 'RainTomorrow is Yes,', 'RainTomorrow is No,', 'RainTomorrow is Yes,']\n"
     ]
    },
    {
     "name": "stderr",
     "output_type": "stream",
     "text": [
      "  1%|▏         | 14/1000 [00:08<10:45,  1.53it/s]"
     ]
    },
    {
     "name": "stdout",
     "output_type": "stream",
     "text": [
      "['RainTomorrow is No,', 'RainTomorrow is No,', 'RainTomorrow is No,', 'RainTomorrow is Yes,', 'RainTomorrow is Yes,', 'RainTomorrow is No,', 'RainTomorrow is No,', 'RainTomorrow is No,', 'RainTomorrow is No,', 'RainTomorrow is No,', 'RainTomorrow is No,', 'RainTomorrow is No,', 'RainTomorrow is Yes,', 'RainTomorrow is No,', 'RainTomorrow is No,', 'RainTomorrow is No,', 'RainTomorrow is No,', 'RainTomorrow is No,', 'RainTomorrow is Yes,', 'RainTomorrow is No,', 'RainTomorrow is No,', 'RainTomorrow is No,', 'RainTomorrow is No,', 'RainTomorrow is Yes,', 'RainTomorrow is No,', 'RainTomorrow is No,', 'RainTomorrow is No,', 'RainTomorrow is No,', 'RainTomorrow is No,', 'RainTomorrow is No,', 'RainTomorrow is No,', 'RainTomorrow is Yes,', 'RainTomorrow is No,', 'RainTomorrow is Yes,', 'RainTomorrow is No,', 'RainTomorrow is No,', 'RainTomorrow is Yes,', 'RainTomorrow is No,', 'RainTomorrow is Yes,', 'RainTomorrow is Yes,', 'RainTomorrow is Yes,', 'RainTomorrow is No,', 'RainTomorrow is No,', 'RainTomorrow is No,', 'RainTomorrow is No,', 'RainTomorrow is No,', 'RainTomorrow is Yes,', 'RainTomorrow is No,', 'RainTomorrow is No,', 'RainTomorrow is No,']\n"
     ]
    },
    {
     "name": "stderr",
     "output_type": "stream",
     "text": [
      "  2%|▏         | 17/1000 [00:11<12:20,  1.33it/s]"
     ]
    },
    {
     "name": "stdout",
     "output_type": "stream",
     "text": [
      "['RainTomorrow is No,', 'RainTomorrow is No,', 'RainTomorrow is Yes,', 'RainTomorrow is No,', 'RainTomorrow is No,', 'RainTomorrow is Yes,', 'RainTomorrow is No,', 'RainTomorrow is Yes,', 'RainTomorrow is Yes,', 'RainTomorrow is Yes,', 'RainTomorrow is No,', 'RainTomorrow is No,', 'RainTomorrow is No,', 'RainTomorrow is No,', 'RainTomorrow is No,', 'RainTomorrow is No,', 'RainTomorrow is Yes,', 'RainTomorrow is Yes,', 'RainTomorrow is No,', 'RainTomorrow is No,', 'RainTomorrow is No,', 'RainTomorrow is No,', 'RainTomorrow is No,', 'RainTomorrow is No,', 'RainTomorrow is No,', 'RainTomorrow is No,', 'RainTomorrow is No,', 'RainTomorrow is No,', 'RainTomorrow is No,', 'RainTomorrow is No,', 'RainTomorrow is No,', 'RainTomorrow is No,', 'RainTomorrow is No,', 'RainTomorrow is No,', 'RainTomorrow is No,', 'RainTomorrow is No,', 'RainTomorrow is No,', 'RainTomorrow is No,', 'RainTomorrow is No,', 'RainTomorrow is No,', 'RainTomorrow is No,', 'RainTomorrow is No,', 'RainTomorrow is Yes,', 'RainTomorrow is No,', 'RainTomorrow is No,', 'RainTomorrow is No,', 'RainTomorrow is No,', 'RainTomorrow is No,', 'RainTomorrow is Yes,', 'RainTomorrow is No,']\n"
     ]
    },
    {
     "name": "stderr",
     "output_type": "stream",
     "text": [
      "  2%|▏         | 21/1000 [00:14<12:09,  1.34it/s]"
     ]
    },
    {
     "name": "stdout",
     "output_type": "stream",
     "text": [
      "['RainTomorrow is No,', 'RainTomorrow is Yes,', 'RainTomorrow is No,', 'RainTomorrow is No,', 'RainTomorrow is Yes,', 'RainTomorrow is No,', 'RainTomorrow is No,', 'RainTomorrow is No,', 'RainTomorrow is No,', 'RainTomorrow is No,', 'RainTomorrow is No,', 'RainTomorrow is No,', 'RainTomorrow is No,', 'RainTomorrow is No,', 'RainTomorrow is No,', 'RainTomorrow is No,', 'RainTomorrow is No,', 'RainTomorrow is No,', 'RainTomorrow is No,', 'RainTomorrow is No,', 'RainTomorrow is No,', 'RainTomorrow is No,', 'RainTomorrow is No,', 'RainTomorrow is No,', 'RainTomorrow is No,', 'RainTomorrow is No,', 'RainTomorrow is No,', 'RainTomorrow is No,', 'RainTomorrow is No,', 'RainTomorrow is No,', 'RainTomorrow is No,', 'RainTomorrow is No,', 'RainTomorrow is No,', 'RainTomorrow is No,', 'RainTomorrow is No,', 'RainTomorrow is Yes,', 'RainTomorrow is No,', 'RainTomorrow is No,', 'RainTomorrow is No,', 'RainTomorrow is No,', 'RainTomorrow is No,', 'RainTomorrow is Yes,', 'RainTomorrow is No,', 'RainTomorrow is No,', 'RainTomorrow is No,', 'RainTomorrow is No,', 'RainTomorrow is No,', 'RainTomorrow is No,', 'RainTomorrow is No,', 'RainTomorrow is No,']\n"
     ]
    },
    {
     "name": "stderr",
     "output_type": "stream",
     "text": [
      "  2%|▏         | 23/1000 [00:17<14:19,  1.14it/s]"
     ]
    },
    {
     "name": "stdout",
     "output_type": "stream",
     "text": [
      "['RainTomorrow is No,', 'RainTomorrow is No,', 'RainTomorrow is No,', 'RainTomorrow is No,', 'RainTomorrow is No,', 'RainTomorrow is No,', 'RainTomorrow is No,', 'RainTomorrow is Yes,', 'RainTomorrow is No,', 'RainTomorrow is No,', 'RainTomorrow is No,', 'RainTomorrow is Yes,', 'RainTomorrow is No,', 'RainTomorrow is No,', 'RainTomorrow is No,', 'RainTomorrow is Yes,', 'RainTomorrow is Yes,', 'RainTomorrow is No,', 'RainTomorrow is Yes,', 'RainTomorrow is Yes,', 'RainTomorrow is No,', 'RainTomorrow is No,', 'RainTomorrow is No,', 'RainTomorrow is No,', 'RainTomorrow is No,', 'RainTomorrow is No,', 'RainTomorrow is No,', 'RainTomorrow is Yes,', 'RainTomorrow is No,', 'RainTomorrow is No,', 'RainTomorrow is No,', 'RainTomorrow is Yes,', 'RainTomorrow is No,', 'RainTomorrow is No,', 'RainTomorrow is No,', 'RainTomorrow is Yes,', 'RainTomorrow is No,', 'RainTomorrow is No,', 'RainTomorrow is No,', 'RainTomorrow is No,', 'RainTomorrow is No,', 'RainTomorrow is No,', 'RainTomorrow is No,', 'RainTomorrow is No,', 'RainTomorrow is No,', 'RainTomorrow is Yes,', 'RainTomorrow is No,', 'RainTomorrow is No,', 'RainTomorrow is Yes,', 'RainTomorrow is Yes,']\n"
     ]
    },
    {
     "name": "stderr",
     "output_type": "stream",
     "text": [
      "  3%|▎         | 27/1000 [00:20<13:31,  1.20it/s]"
     ]
    },
    {
     "name": "stdout",
     "output_type": "stream",
     "text": [
      "['RainTomorrow is No,', 'RainTomorrow is Yes,', 'RainTomorrow is No,', 'RainTomorrow is Yes,', 'RainTomorrow is No,', 'RainTomorrow is No,', 'RainTomorrow is No,', 'RainTomorrow is No,', 'RainTomorrow is No,', 'RainTomorrow is Yes,', 'RainTomorrow is No,', 'RainTomorrow is Yes,', 'RainTomorrow is Yes,', 'RainTomorrow is No,', 'RainTomorrow is Yes,', 'RainTomorrow is No,', 'RainTomorrow is Yes,', 'RainTomorrow is No,', 'RainTomorrow is Yes,', 'RainTomorrow is No,', 'RainTomorrow is Yes,', 'RainTomorrow is No,', 'RainTomorrow is No,', 'RainTomorrow is No,', 'RainTomorrow is Yes,', 'RainTomorrow is No,', 'RainTomorrow is No,', 'RainTomorrow is No,', 'RainTomorrow is No,', 'RainTomorrow is No,', 'RainTomorrow is No,', 'RainTomorrow is Yes,', 'RainTomorrow is No,', 'RainTomorrow is No,', 'RainTomorrow is No,', 'RainTomorrow is No,', 'RainTomorrow is No,', 'RainTomorrow is No,', 'RainTomorrow is No,', 'RainTomorrow is No,', 'RainTomorrow is Yes,', 'RainTomorrow is No,', 'RainTomorrow is No,', 'RainTomorrow is No,', 'RainTomorrow is No,', 'RainTomorrow is Yes,', 'RainTomorrow is No,', 'RainTomorrow is No,', 'RainTomorrow is Yes,', 'RainTomorrow is No,']\n"
     ]
    },
    {
     "name": "stderr",
     "output_type": "stream",
     "text": [
      "  3%|▎         | 32/1000 [00:23<12:00,  1.34it/s]"
     ]
    },
    {
     "name": "stdout",
     "output_type": "stream",
     "text": [
      "['RainTomorrow is Yes,', 'RainTomorrow is No,', 'RainTomorrow is No,', 'RainTomorrow is No,', 'RainTomorrow is Yes,', 'RainTomorrow is No,', 'RainTomorrow is No,', 'RainTomorrow is Yes,', 'RainTomorrow is No,', 'RainTomorrow is No,', 'RainTomorrow is No,', 'RainTomorrow is Yes,', 'RainTomorrow is No,', 'RainTomorrow is No,', 'RainTomorrow is No,', 'RainTomorrow is No,', 'RainTomorrow is Yes,', 'RainTomorrow is No,', 'RainTomorrow is Yes,', 'RainTomorrow is No,', 'RainTomorrow is No,', 'RainTomorrow is No,', 'RainTomorrow is No,', 'RainTomorrow is No,', 'RainTomorrow is No,', 'RainTomorrow is No,', 'RainTomorrow is No,', 'RainTomorrow is No,', 'RainTomorrow is No,', 'RainTomorrow is No,', 'RainTomorrow is No,', 'RainTomorrow is No,', 'RainTomorrow is Yes,', 'RainTomorrow is No,', 'RainTomorrow is No,', 'RainTomorrow is No,', 'RainTomorrow is No,', 'RainTomorrow is No,', 'RainTomorrow is No,', 'RainTomorrow is No,', 'RainTomorrow is No,', 'RainTomorrow is No,', 'RainTomorrow is No,', 'RainTomorrow is Yes,', 'RainTomorrow is Yes,', 'RainTomorrow is No,', 'RainTomorrow is No,', 'RainTomorrow is No,', 'RainTomorrow is No,', 'RainTomorrow is No,']\n"
     ]
    },
    {
     "name": "stderr",
     "output_type": "stream",
     "text": [
      "  4%|▎         | 37/1000 [00:26<10:58,  1.46it/s]"
     ]
    },
    {
     "name": "stdout",
     "output_type": "stream",
     "text": [
      "['RainTomorrow is Yes,', 'RainTomorrow is No,', 'RainTomorrow is No,', 'RainTomorrow is No,', 'RainTomorrow is No,', 'RainTomorrow is No,', 'RainTomorrow is No,', 'RainTomorrow is Yes,', 'RainTomorrow is No,', 'RainTomorrow is No,', 'RainTomorrow is No,', 'RainTomorrow is No,', 'RainTomorrow is Yes,', 'RainTomorrow is No,', 'RainTomorrow is Yes,', 'RainTomorrow is No,', 'RainTomorrow is No,', 'RainTomorrow is No,', 'RainTomorrow is No,', 'RainTomorrow is No,', 'RainTomorrow is No,', 'RainTomorrow is No,', 'RainTomorrow is No,', 'RainTomorrow is No,', 'RainTomorrow is Yes,', 'RainTomorrow is No,', 'RainTomorrow is No,', 'RainTomorrow is No,', 'RainTomorrow is No,', 'RainTomorrow is Yes,', 'RainTomorrow is No,', 'RainTomorrow is No,', 'RainTomorrow is Yes,', 'RainTomorrow is No,', 'RainTomorrow is Yes,', 'RainTomorrow is No,', 'RainTomorrow is No,', 'RainTomorrow is Yes,', 'RainTomorrow is Yes,', 'RainTomorrow is Yes,', 'RainTomorrow is No,', 'RainTomorrow is No,', 'RainTomorrow is No,', 'RainTomorrow is No,', 'RainTomorrow is No,', 'RainTomorrow is No,', 'RainTomorrow is No,', 'RainTomorrow is Yes,', 'RainTomorrow is No,', 'RainTomorrow is No,']\n"
     ]
    },
    {
     "name": "stderr",
     "output_type": "stream",
     "text": [
      "  4%|▍         | 44/1000 [00:29<09:05,  1.75it/s]"
     ]
    },
    {
     "name": "stdout",
     "output_type": "stream",
     "text": [
      "['RainTomorrow is Yes,', 'RainTomorrow is Yes,', 'RainTomorrow is No,', 'RainTomorrow is No,', 'RainTomorrow is No,', 'RainTomorrow is No,', 'RainTomorrow is No,', 'RainTomorrow is No,', 'RainTomorrow is No,', 'RainTomorrow is No,', 'RainTomorrow is No,', 'RainTomorrow is No,', 'RainTomorrow is No,', 'RainTomorrow is No,', 'RainTomorrow is Yes,', 'RainTomorrow is No,', 'RainTomorrow is No,', 'RainTomorrow is No,', 'RainTomorrow is No,', 'RainTomorrow is No,', 'RainTomorrow is Yes,', 'RainTomorrow is Yes,', 'RainTomorrow is No,', 'RainTomorrow is No,', 'RainTomorrow is No,', 'RainTomorrow is No,', 'RainTomorrow is No,', 'RainTomorrow is No,', 'RainTomorrow is Yes,', 'RainTomorrow is No,', 'RainTomorrow is No,', 'RainTomorrow is Yes,', 'RainTomorrow is No,', 'RainTomorrow is No,', 'RainTomorrow is No,', 'RainTomorrow is No,', 'RainTomorrow is No,', 'RainTomorrow is No,', 'RainTomorrow is No,', 'RainTomorrow is No,', 'RainTomorrow is No,', 'RainTomorrow is No,', 'RainTomorrow is Yes,', 'RainTomorrow is No,', 'RainTomorrow is No,', 'RainTomorrow is No,', 'RainTomorrow is No,', 'RainTomorrow is No,', 'RainTomorrow is Yes,', 'RainTomorrow is Yes,']\n"
     ]
    },
    {
     "name": "stderr",
     "output_type": "stream",
     "text": [
      "  5%|▌         | 51/1000 [00:32<08:04,  1.96it/s]"
     ]
    },
    {
     "name": "stdout",
     "output_type": "stream",
     "text": [
      "['RainTomorrow is No,', 'RainTomorrow is No,', 'RainTomorrow is No,', 'RainTomorrow is No,', 'RainTomorrow is No,', 'RainTomorrow is No,', 'RainTomorrow is No,', 'RainTomorrow is No,', 'RainTomorrow is No,', 'RainTomorrow is No,', 'RainTomorrow is Yes,', 'RainTomorrow is No,', 'RainTomorrow is No,', 'RainTomorrow is No,', 'RainTomorrow is Yes,', 'RainTomorrow is No,', 'RainTomorrow is No,', 'RainTomorrow is No,', 'RainTomorrow is No,', 'RainTomorrow is No,', 'RainTomorrow is No,', 'RainTomorrow is No,', 'RainTomorrow is No,', 'RainTomorrow is No,', 'RainTomorrow is No,', 'RainTomorrow is No,', 'RainTomorrow is No,', 'RainTomorrow is No,', 'RainTomorrow is No,', 'RainTomorrow is No,', 'RainTomorrow is No,', 'RainTomorrow is No,', 'RainTomorrow is No,', 'RainTomorrow is No,', 'RainTomorrow is Yes,', 'RainTomorrow is No,', 'RainTomorrow is Yes,', 'RainTomorrow is Yes,', 'RainTomorrow is No,', 'RainTomorrow is No,', 'RainTomorrow is No,', 'RainTomorrow is No,', 'RainTomorrow is No,', 'RainTomorrow is No,', 'RainTomorrow is Yes,', 'RainTomorrow is Yes,', 'RainTomorrow is No,', 'RainTomorrow is No,', 'RainTomorrow is No,', 'RainTomorrow is No,']\n"
     ]
    },
    {
     "name": "stderr",
     "output_type": "stream",
     "text": [
      "  6%|▌         | 59/1000 [00:35<07:06,  2.21it/s]"
     ]
    },
    {
     "name": "stdout",
     "output_type": "stream",
     "text": [
      "['RainTomorrow is Yes,', 'RainTomorrow is No,', 'RainTomorrow is No,', 'RainTomorrow is No,', 'RainTomorrow is Yes,', 'RainTomorrow is No,', 'RainTomorrow is Yes,', 'RainTomorrow is Yes,', 'RainTomorrow is No,', 'RainTomorrow is No,', 'RainTomorrow is No,', 'RainTomorrow is No,', 'RainTomorrow is No,', 'RainTomorrow is Yes,', 'RainTomorrow is No,', 'RainTomorrow is No,', 'RainTomorrow is No,', 'RainTomorrow is No,', 'RainTomorrow is Yes,', 'RainTomorrow is No,', 'RainTomorrow is No,', 'RainTomorrow is No,', 'RainTomorrow is No,', 'RainTomorrow is Yes,', 'RainTomorrow is Yes,', 'RainTomorrow is No,', 'RainTomorrow is No,', 'RainTomorrow is No,', 'RainTomorrow is No,', 'RainTomorrow is No,', 'RainTomorrow is No,', 'RainTomorrow is Yes,', 'RainTomorrow is No,', 'RainTomorrow is No,', 'RainTomorrow is No,', 'RainTomorrow is No,', 'RainTomorrow is No,', 'RainTomorrow is No,', 'RainTomorrow is No,', 'RainTomorrow is No,', 'RainTomorrow is No,', 'RainTomorrow is No,', 'RainTomorrow is Yes,', 'RainTomorrow is No,', 'RainTomorrow is No,', 'RainTomorrow is No,', 'RainTomorrow is Yes,', 'RainTomorrow is No,', 'RainTomorrow is No,', 'RainTomorrow is Yes,']\n"
     ]
    },
    {
     "name": "stderr",
     "output_type": "stream",
     "text": [
      "  6%|▋         | 65/1000 [00:38<07:10,  2.17it/s]"
     ]
    },
    {
     "name": "stdout",
     "output_type": "stream",
     "text": [
      "['RainTomorrow is No,', 'RainTomorrow is Yes,', 'RainTomorrow is No,', 'RainTomorrow is Yes,', 'RainTomorrow is No,', 'RainTomorrow is No,', 'RainTomorrow is Yes,', 'RainTomorrow is No,', 'RainTomorrow is No,', 'RainTomorrow is No,', 'RainTomorrow is Yes,', 'RainTomorrow is Yes,', 'RainTomorrow is No,', 'RainTomorrow is Yes,', 'RainTomorrow is No,', 'RainTomorrow is No,', 'RainTomorrow is No,', 'RainTomorrow is Yes,', 'RainTomorrow is Yes,', 'RainTomorrow is No,', 'RainTomorrow is Yes,', 'RainTomorrow is No,', 'RainTomorrow is No,', 'RainTomorrow is No,', 'RainTomorrow is No,', 'RainTomorrow is No,', 'RainTomorrow is No,', 'RainTomorrow is No,', 'RainTomorrow is No,', 'RainTomorrow is No,', 'RainTomorrow is No,', 'RainTomorrow is No,', 'RainTomorrow is No,', 'RainTomorrow is Yes,', 'RainTomorrow is No,', 'RainTomorrow is No,', 'RainTomorrow is Yes,', 'RainTomorrow is No,', 'RainTomorrow is No,', 'RainTomorrow is No,', 'RainTomorrow is Yes,', 'RainTomorrow is No,', 'RainTomorrow is No,', 'RainTomorrow is Yes,', 'RainTomorrow is No,', 'RainTomorrow is No,', 'RainTomorrow is No,', 'RainTomorrow is No,', 'RainTomorrow is No,', 'RainTomorrow is No,']\n"
     ]
    },
    {
     "name": "stderr",
     "output_type": "stream",
     "text": [
      "  7%|▋         | 70/1000 [00:41<07:42,  2.01it/s]"
     ]
    },
    {
     "name": "stdout",
     "output_type": "stream",
     "text": [
      "['RainTomorrow is Yes,', 'RainTomorrow is No,', 'RainTomorrow is Yes,', 'RainTomorrow is Yes,', 'RainTomorrow is No,', 'RainTomorrow is No,', 'RainTomorrow is No,', 'RainTomorrow is Yes,', 'RainTomorrow is No,', 'RainTomorrow is No,', 'RainTomorrow is No,', 'RainTomorrow is Yes,', 'RainTomorrow is Yes,', 'RainTomorrow is No,', 'RainTomorrow is No,', 'RainTomorrow is Yes,', 'RainTomorrow is No,', 'RainTomorrow is No,', 'RainTomorrow is No,', 'RainTomorrow is Yes,', 'RainTomorrow is No,', 'RainTomorrow is No,', 'RainTomorrow is No,', 'RainTomorrow is No,', 'RainTomorrow is No,', 'RainTomorrow is Yes,', 'RainTomorrow is Yes,', 'RainTomorrow is No,', 'RainTomorrow is No,', 'RainTomorrow is No,', 'RainTomorrow is No,', 'RainTomorrow is Yes,', 'RainTomorrow is No,', 'RainTomorrow is No,', 'RainTomorrow is No,', 'RainTomorrow is No,', 'RainTomorrow is No,', 'RainTomorrow is No,', 'RainTomorrow is No,', 'RainTomorrow is Yes,', 'RainTomorrow is No,', 'RainTomorrow is No,', 'RainTomorrow is Yes,', 'RainTomorrow is No,', 'RainTomorrow is No,', 'RainTomorrow is Yes,', 'RainTomorrow is Yes,', 'RainTomorrow is No,', 'RainTomorrow is Yes,', 'RainTomorrow is No,']\n"
     ]
    },
    {
     "name": "stderr",
     "output_type": "stream",
     "text": [
      "  7%|▋         | 73/1000 [00:43<08:56,  1.73it/s]"
     ]
    },
    {
     "name": "stdout",
     "output_type": "stream",
     "text": [
      "['RainTomorrow is No,', 'RainTomorrow is No,', 'RainTomorrow is No,', 'RainTomorrow is No,', 'RainTomorrow is Yes,', 'RainTomorrow is No,', 'RainTomorrow is No,', 'RainTomorrow is No,', 'RainTomorrow is No,', 'RainTomorrow is No,', 'RainTomorrow is No,', 'RainTomorrow is No,', 'RainTomorrow is No,', 'RainTomorrow is No,', 'RainTomorrow is No,', 'RainTomorrow is Yes,', 'RainTomorrow is Yes,', 'RainTomorrow is No,', 'RainTomorrow is No,', 'RainTomorrow is No,', 'RainTomorrow is No,', 'RainTomorrow is No,', 'RainTomorrow is No,', 'RainTomorrow is No,', 'RainTomorrow is No,', 'RainTomorrow is No,', 'RainTomorrow is Yes,', 'RainTomorrow is No,', 'RainTomorrow is No,', 'RainTomorrow is No,', 'RainTomorrow is Yes,', 'RainTomorrow is No,', 'RainTomorrow is No,', 'RainTomorrow is No,', 'RainTomorrow is No,', 'RainTomorrow is No,', 'RainTomorrow is No,', 'RainTomorrow is No,', 'RainTomorrow is No,', 'RainTomorrow is No,', 'RainTomorrow is No,', 'RainTomorrow is Yes,', 'RainTomorrow is No,', 'RainTomorrow is Yes,', 'RainTomorrow is No,', 'RainTomorrow is Yes,', 'RainTomorrow is No,', 'RainTomorrow is No,', 'RainTomorrow is No,', 'RainTomorrow is No,']\n"
     ]
    },
    {
     "name": "stderr",
     "output_type": "stream",
     "text": [
      "  8%|▊         | 78/1000 [00:46<08:53,  1.73it/s]"
     ]
    },
    {
     "name": "stdout",
     "output_type": "stream",
     "text": [
      "['RainTomorrow is No,', 'RainTomorrow is No,', 'RainTomorrow is No,', 'RainTomorrow is No,', 'RainTomorrow is Yes,', 'RainTomorrow is Yes,', 'RainTomorrow is No,', 'RainTomorrow is Yes,', 'RainTomorrow is No,', 'RainTomorrow is No,', 'RainTomorrow is No,', 'RainTomorrow is No,', 'RainTomorrow is No,', 'RainTomorrow is Yes,', 'RainTomorrow is No,', 'RainTomorrow is No,', 'RainTomorrow is Yes,', 'RainTomorrow is No,', 'RainTomorrow is Yes,', 'RainTomorrow is No,', 'RainTomorrow is Yes,', 'RainTomorrow is Yes,', 'RainTomorrow is No,', 'RainTomorrow is No,', 'RainTomorrow is No,', 'RainTomorrow is No,', 'RainTomorrow is No,', 'RainTomorrow is No,', 'RainTomorrow is No,', 'RainTomorrow is Yes,', 'RainTomorrow is No,', 'RainTomorrow is No,', 'RainTomorrow is No,', 'RainTomorrow is No,', 'RainTomorrow is No,', 'RainTomorrow is Yes,', 'RainTomorrow is No,', 'RainTomorrow is No,', 'RainTomorrow is No,', 'RainTomorrow is No,', 'RainTomorrow is No,', 'RainTomorrow is Yes,', 'RainTomorrow is Yes,', 'RainTomorrow is No,', 'RainTomorrow is No,', 'RainTomorrow is No,', 'RainTomorrow is No,', 'RainTomorrow is No,', 'RainTomorrow is No,', 'RainTomorrow is No,']\n"
     ]
    },
    {
     "name": "stderr",
     "output_type": "stream",
     "text": [
      "  8%|▊         | 84/1000 [00:49<08:17,  1.84it/s]"
     ]
    },
    {
     "name": "stdout",
     "output_type": "stream",
     "text": [
      "['RainTomorrow is Yes,', 'RainTomorrow is No,', 'RainTomorrow is No,', 'RainTomorrow is No,', 'RainTomorrow is No,', 'RainTomorrow is No,', 'RainTomorrow is Yes,', 'RainTomorrow is Yes,', 'RainTomorrow is No,', 'RainTomorrow is No,', 'RainTomorrow is No,', 'RainTomorrow is Yes,', 'RainTomorrow is No,', 'RainTomorrow is No,', 'RainTomorrow is Yes,', 'RainTomorrow is No,', 'RainTomorrow is No,', 'RainTomorrow is No,', 'RainTomorrow is No,', 'RainTomorrow is Yes,', 'RainTomorrow is No,', 'RainTomorrow is No,', 'RainTomorrow is No,', 'RainTomorrow is No,', 'RainTomorrow is Yes,', 'RainTomorrow is Yes,', 'RainTomorrow is No,', 'RainTomorrow is No,', 'RainTomorrow is No,', 'RainTomorrow is Yes,', 'RainTomorrow is No,', 'RainTomorrow is No,', 'RainTomorrow is No,', 'RainTomorrow is Yes,', 'RainTomorrow is No,', 'RainTomorrow is No,', 'RainTomorrow is No,', 'RainTomorrow is No,', 'RainTomorrow is No,', 'RainTomorrow is No,', 'RainTomorrow is No,', 'RainTomorrow is No,', 'RainTomorrow is Yes,', 'RainTomorrow is Yes,', 'RainTomorrow is Yes,', 'RainTomorrow is No,', 'RainTomorrow is No,', 'RainTomorrow is Yes,', 'RainTomorrow is No,', 'RainTomorrow is No,']\n"
     ]
    },
    {
     "name": "stderr",
     "output_type": "stream",
     "text": [
      "  9%|▉         | 89/1000 [00:52<08:20,  1.82it/s]"
     ]
    },
    {
     "name": "stdout",
     "output_type": "stream",
     "text": [
      "['RainTomorrow is Yes,', 'RainTomorrow is Yes,', 'RainTomorrow is No,', 'RainTomorrow is No,', 'RainTomorrow is No,', 'RainTomorrow is No,', 'RainTomorrow is Yes,', 'RainTomorrow is No,', 'RainTomorrow is No,', 'RainTomorrow is No,', 'RainTomorrow is No,', 'RainTomorrow is No,', 'RainTomorrow is Yes,', 'RainTomorrow is Yes,', 'RainTomorrow is Yes,', 'RainTomorrow is Yes,', 'RainTomorrow is No,', 'RainTomorrow is No,', 'RainTomorrow is No,', 'RainTomorrow is No,', 'RainTomorrow is No,', 'RainTomorrow is Yes,', 'RainTomorrow is No,', 'RainTomorrow is No,', 'RainTomorrow is Yes,', 'RainTomorrow is No,', 'RainTomorrow is No,', 'RainTomorrow is No,', 'RainTomorrow is No,', 'RainTomorrow is Yes,', 'RainTomorrow is No,', 'RainTomorrow is No,', 'RainTomorrow is No,', 'RainTomorrow is No,', 'RainTomorrow is No,', 'RainTomorrow is No,', 'RainTomorrow is No,', 'RainTomorrow is No,', 'RainTomorrow is No,', 'RainTomorrow is No,', 'RainTomorrow is No,', 'RainTomorrow is No,', 'RainTomorrow is No,', 'RainTomorrow is Yes,', 'RainTomorrow is No,', 'RainTomorrow is Yes,', 'RainTomorrow is Yes,', 'RainTomorrow is Yes,', 'RainTomorrow is No,', 'RainTomorrow is No,']\n"
     ]
    },
    {
     "name": "stderr",
     "output_type": "stream",
     "text": [
      "  9%|▉         | 94/1000 [00:55<08:29,  1.78it/s]"
     ]
    },
    {
     "name": "stdout",
     "output_type": "stream",
     "text": [
      "['RainTomorrow is Yes,', 'RainTomorrow is No,', 'RainTomorrow is No,', 'RainTomorrow is No,', 'RainTomorrow is No,', 'RainTomorrow is Yes,', 'RainTomorrow is No,', 'RainTomorrow is No,', 'RainTomorrow is No,', 'RainTomorrow is Yes,', 'RainTomorrow is No,', 'RainTomorrow is No,', 'RainTomorrow is No,', 'RainTomorrow is Yes,', 'RainTomorrow is No,', 'RainTomorrow is No,', 'RainTomorrow is Yes,', 'RainTomorrow is Yes,', 'RainTomorrow is No,', 'RainTomorrow is Yes,', 'RainTomorrow is No,', 'RainTomorrow is Yes,', 'RainTomorrow is No,', 'RainTomorrow is Yes,', 'RainTomorrow is No,', 'RainTomorrow is No,', 'RainTomorrow is No,', 'RainTomorrow is No,', 'RainTomorrow is No,', 'RainTomorrow is No,', 'RainTomorrow is No,', 'RainTomorrow is Yes,', 'RainTomorrow is Yes,', 'RainTomorrow is No,', 'RainTomorrow is No,', 'RainTomorrow is No,', 'RainTomorrow is No,', 'RainTomorrow is No,', 'RainTomorrow is Yes,', 'RainTomorrow is No,', 'RainTomorrow is No,', 'RainTomorrow is No,', 'RainTomorrow is No,', 'RainTomorrow is No,', 'RainTomorrow is No,', 'RainTomorrow is No,', 'RainTomorrow is Yes,', 'RainTomorrow is No,', 'RainTomorrow is Yes,', 'RainTomorrow is Yes,']\n"
     ]
    },
    {
     "name": "stderr",
     "output_type": "stream",
     "text": [
      " 10%|█         | 105/1000 [00:58<06:17,  2.37it/s]"
     ]
    },
    {
     "name": "stdout",
     "output_type": "stream",
     "text": [
      "['RainTomorrow is No,', 'RainTomorrow is No,', 'RainTomorrow is No,', 'RainTomorrow is Yes,', 'RainTomorrow is No,', 'RainTomorrow is No,', 'RainTomorrow is No,', 'RainTomorrow is No,', 'RainTomorrow is No,', 'RainTomorrow is No,', 'RainTomorrow is No,', 'RainTomorrow is No,', 'RainTomorrow is No,', 'RainTomorrow is No,', 'RainTomorrow is Yes,', 'RainTomorrow is No,', 'RainTomorrow is No,', 'RainTomorrow is No,', 'RainTomorrow is Yes,', 'RainTomorrow is No,', 'RainTomorrow is No,', 'RainTomorrow is Yes,', 'RainTomorrow is No,', 'RainTomorrow is No,', 'RainTomorrow is Yes,', 'RainTomorrow is No,', 'RainTomorrow is Yes,', 'RainTomorrow is No,', 'RainTomorrow is No,', 'RainTomorrow is No,', 'RainTomorrow is No,', 'RainTomorrow is No,', 'RainTomorrow is No,', 'RainTomorrow is No,', 'RainTomorrow is No,', 'RainTomorrow is No,', 'RainTomorrow is No,', 'RainTomorrow is No,', 'RainTomorrow is No,', 'RainTomorrow is Yes,', 'RainTomorrow is No,', 'RainTomorrow is No,', 'RainTomorrow is No,', 'RainTomorrow is No,', 'RainTomorrow is Yes,', 'RainTomorrow is No,', 'RainTomorrow is Yes,', 'RainTomorrow is No,', 'RainTomorrow is Yes,', 'RainTomorrow is Yes,']\n"
     ]
    },
    {
     "name": "stderr",
     "output_type": "stream",
     "text": [
      " 11%|█         | 111/1000 [01:01<06:23,  2.32it/s]"
     ]
    },
    {
     "name": "stdout",
     "output_type": "stream",
     "text": [
      "['RainTomorrow is No,', 'RainTomorrow is No,', 'RainTomorrow is No,', 'RainTomorrow is Yes,', 'RainTomorrow is No,', 'RainTomorrow is No,', 'RainTomorrow is Yes,', 'RainTomorrow is No,', 'RainTomorrow is No,', 'RainTomorrow is No,', 'RainTomorrow is Yes,', 'RainTomorrow is No,', 'RainTomorrow is No,', 'RainTomorrow is No,', 'RainTomorrow is Yes,', 'RainTomorrow is No,', 'RainTomorrow is Yes,', 'RainTomorrow is No,', 'RainTomorrow is No,', 'RainTomorrow is Yes,', 'RainTomorrow is No,', 'RainTomorrow is No,', 'RainTomorrow is No,', 'RainTomorrow is Yes,', 'RainTomorrow is No,', 'RainTomorrow is No,', 'RainTomorrow is Yes,', 'RainTomorrow is Yes,', 'RainTomorrow is No,', 'RainTomorrow is No,', 'RainTomorrow is No,', 'RainTomorrow is No,', 'RainTomorrow is Yes,', 'RainTomorrow is No,', 'RainTomorrow is No,', 'RainTomorrow is No,', 'RainTomorrow is No,', 'RainTomorrow is No,', 'RainTomorrow is No,', 'RainTomorrow is No,', 'RainTomorrow is No,', 'RainTomorrow is No,', 'RainTomorrow is No,', 'RainTomorrow is No,', 'RainTomorrow is No,', 'RainTomorrow is No,', 'RainTomorrow is No,', 'RainTomorrow is No,', 'RainTomorrow is Yes,', 'RainTomorrow is No,']\n"
     ]
    },
    {
     "name": "stderr",
     "output_type": "stream",
     "text": [
      " 12%|█▏        | 121/1000 [01:03<05:29,  2.66it/s]"
     ]
    },
    {
     "name": "stdout",
     "output_type": "stream",
     "text": [
      "['RainTomorrow is No,', 'RainTomorrow is Yes,', 'RainTomorrow is No,', 'RainTomorrow is No,', 'RainTomorrow is No,', 'RainTomorrow is No,', 'RainTomorrow is No,', 'RainTomorrow is No,', 'RainTomorrow is No,', 'RainTomorrow is No,', 'RainTomorrow is No,', 'RainTomorrow is No,', 'RainTomorrow is No,', 'RainTomorrow is No,', 'RainTomorrow is No,', 'RainTomorrow is No,', 'RainTomorrow is No,', 'RainTomorrow is No,', 'RainTomorrow is No,', 'RainTomorrow is No,', 'RainTomorrow is No,', 'RainTomorrow is No,', 'RainTomorrow is No,', 'RainTomorrow is No,', 'RainTomorrow is No,', 'RainTomorrow is Yes,', 'RainTomorrow is No,', 'RainTomorrow is Yes,', 'RainTomorrow is No,', 'RainTomorrow is No,', 'RainTomorrow is No,', 'RainTomorrow is No,', 'RainTomorrow is No,', 'RainTomorrow is No,', 'RainTomorrow is Yes,', 'RainTomorrow is No,', 'RainTomorrow is No,', 'RainTomorrow is No,', 'RainTomorrow is No,', 'RainTomorrow is Yes,', 'RainTomorrow is No,', 'RainTomorrow is Yes,', 'RainTomorrow is Yes,', 'RainTomorrow is No,', 'RainTomorrow is No,', 'RainTomorrow is No,', 'RainTomorrow is No,', 'RainTomorrow is No,', 'RainTomorrow is No,', 'RainTomorrow is No,']\n"
     ]
    },
    {
     "name": "stderr",
     "output_type": "stream",
     "text": [
      " 12%|█▏        | 123/1000 [01:06<07:02,  2.08it/s]"
     ]
    },
    {
     "name": "stdout",
     "output_type": "stream",
     "text": [
      "['RainTomorrow is Yes,', 'RainTomorrow is Yes,', 'RainTomorrow is No,', 'RainTomorrow is No,', 'RainTomorrow is No,', 'RainTomorrow is Yes,', 'RainTomorrow is No,', 'RainTomorrow is No,', 'RainTomorrow is No,', 'RainTomorrow is No,', 'RainTomorrow is No,', 'RainTomorrow is Yes,', 'RainTomorrow is No,', 'RainTomorrow is Yes,', 'RainTomorrow is Yes,', 'RainTomorrow is Yes,', 'RainTomorrow is No,', 'RainTomorrow is Yes,', 'RainTomorrow is Yes,', 'RainTomorrow is Yes,', 'RainTomorrow is No,', 'RainTomorrow is No,', 'RainTomorrow is No,', 'RainTomorrow is No,', 'RainTomorrow is No,', 'RainTomorrow is No,', 'RainTomorrow is No,', 'RainTomorrow is No,', 'RainTomorrow is No,', 'RainTomorrow is No,', 'RainTomorrow is No,', 'RainTomorrow is Yes,', 'RainTomorrow is Yes,', 'RainTomorrow is No,', 'RainTomorrow is No,', 'RainTomorrow is No,', 'RainTomorrow is No,', 'RainTomorrow is No,', 'RainTomorrow is No,', 'RainTomorrow is No,', 'RainTomorrow is No,', 'RainTomorrow is No,', 'RainTomorrow is No,', 'RainTomorrow is No,', 'RainTomorrow is No,', 'RainTomorrow is No,', 'RainTomorrow is Yes,', 'RainTomorrow is No,', 'RainTomorrow is Yes,', 'RainTomorrow is No,']\n"
     ]
    },
    {
     "name": "stderr",
     "output_type": "stream",
     "text": [
      " 13%|█▎        | 132/1000 [01:09<06:00,  2.41it/s]"
     ]
    },
    {
     "name": "stdout",
     "output_type": "stream",
     "text": [
      "['RainTomorrow is No,', 'RainTomorrow is Yes,', 'RainTomorrow is No,', 'RainTomorrow is No,', 'RainTomorrow is Yes,', 'RainTomorrow is No,', 'RainTomorrow is Yes,', 'RainTomorrow is Yes,', 'RainTomorrow is No,', 'RainTomorrow is No,', 'RainTomorrow is No,', 'RainTomorrow is No,', 'RainTomorrow is No,', 'RainTomorrow is No,', 'RainTomorrow is No,', 'RainTomorrow is Yes,', 'RainTomorrow is No,', 'RainTomorrow is No,', 'RainTomorrow is No,', 'RainTomorrow is Yes,', 'RainTomorrow is No,', 'RainTomorrow is Yes,', 'RainTomorrow is Yes,', 'RainTomorrow is No,', 'RainTomorrow is No,', 'RainTomorrow is No,', 'RainTomorrow is No,', 'RainTomorrow is Yes,', 'RainTomorrow is No,', 'RainTomorrow is No,', 'RainTomorrow is No,', 'RainTomorrow is Yes,', 'RainTomorrow is No,', 'RainTomorrow is No,', 'RainTomorrow is Yes,', 'RainTomorrow is Yes,', 'RainTomorrow is No,', 'RainTomorrow is No,', 'RainTomorrow is Yes,', 'RainTomorrow is Yes,', 'RainTomorrow is No,', 'RainTomorrow is No,', 'RainTomorrow is No,', 'RainTomorrow is No,', 'RainTomorrow is No,', 'RainTomorrow is No,', 'RainTomorrow is No,', 'RainTomorrow is No,', 'RainTomorrow is No,', 'RainTomorrow is No,']\n"
     ]
    },
    {
     "name": "stderr",
     "output_type": "stream",
     "text": [
      " 14%|█▍        | 142/1000 [01:12<05:15,  2.72it/s]"
     ]
    },
    {
     "name": "stdout",
     "output_type": "stream",
     "text": [
      "['RainTomorrow is No,', 'RainTomorrow is Yes,', 'RainTomorrow is No,', 'RainTomorrow is No,', 'RainTomorrow is No,', 'RainTomorrow is No,', 'RainTomorrow is No,', 'RainTomorrow is No,', 'RainTomorrow is No,', 'RainTomorrow is No,', 'RainTomorrow is No,', 'RainTomorrow is No,', 'RainTomorrow is No,', 'RainTomorrow is No,', 'RainTomorrow is Yes,', 'RainTomorrow is Yes,', 'RainTomorrow is No,', 'RainTomorrow is No,', 'RainTomorrow is No,', 'RainTomorrow is No,', 'RainTomorrow is No,', 'RainTomorrow is No,', 'RainTomorrow is Yes,', 'RainTomorrow is No,', 'RainTomorrow is No,', 'RainTomorrow is No,', 'RainTomorrow is No,', 'RainTomorrow is Yes,', 'RainTomorrow is Yes,', 'RainTomorrow is No,', 'RainTomorrow is No,', 'RainTomorrow is Yes,', 'RainTomorrow is No,', 'RainTomorrow is Yes,', 'RainTomorrow is No,', 'RainTomorrow is Yes,', 'RainTomorrow is No,', 'RainTomorrow is No,', 'RainTomorrow is No,', 'RainTomorrow is No,', 'RainTomorrow is Yes,', 'RainTomorrow is No,', 'RainTomorrow is Yes,', 'RainTomorrow is Yes,', 'RainTomorrow is No,', 'RainTomorrow is No,', 'RainTomorrow is Yes,', 'RainTomorrow is No,', 'RainTomorrow is No,', 'RainTomorrow is No,']\n"
     ]
    },
    {
     "name": "stderr",
     "output_type": "stream",
     "text": [
      " 15%|█▍        | 148/1000 [01:15<05:36,  2.53it/s]"
     ]
    },
    {
     "name": "stdout",
     "output_type": "stream",
     "text": [
      "['RainTomorrow is No,', 'RainTomorrow is No,', 'RainTomorrow is No,', 'RainTomorrow is No,', 'RainTomorrow is No,', 'RainTomorrow is No,', 'RainTomorrow is Yes,', 'RainTomorrow is No,', 'RainTomorrow is No,', 'RainTomorrow is No,', 'RainTomorrow is Yes,', 'RainTomorrow is Yes,', 'RainTomorrow is No,', 'RainTomorrow is No,', 'RainTomorrow is No,', 'RainTomorrow is No,', 'RainTomorrow is No,', 'RainTomorrow is No,', 'RainTomorrow is Yes,', 'RainTomorrow is No,', 'RainTomorrow is No,', 'RainTomorrow is No,', 'RainTomorrow is No,', 'RainTomorrow is No,', 'RainTomorrow is No,', 'RainTomorrow is No,', 'RainTomorrow is No,', 'RainTomorrow is Yes,', 'RainTomorrow is Yes,', 'RainTomorrow is No,', 'RainTomorrow is No,', 'RainTomorrow is Yes,', 'RainTomorrow is No,', 'RainTomorrow is No,', 'RainTomorrow is No,', 'RainTomorrow is No,', 'RainTomorrow is Yes,', 'RainTomorrow is No,', 'RainTomorrow is No,', 'RainTomorrow is No,', 'RainTomorrow is No,', 'RainTomorrow is Yes,', 'RainTomorrow is No,', 'RainTomorrow is Yes,', 'RainTomorrow is No,', 'RainTomorrow is No,', 'RainTomorrow is No,', 'RainTomorrow is No,', 'RainTomorrow is No,', 'RainTomorrow is Yes,']\n"
     ]
    },
    {
     "name": "stderr",
     "output_type": "stream",
     "text": [
      " 16%|█▌        | 155/1000 [01:18<05:40,  2.48it/s]"
     ]
    },
    {
     "name": "stdout",
     "output_type": "stream",
     "text": [
      "['RainTomorrow is No,', 'RainTomorrow is No,', 'RainTomorrow is Yes,', 'RainTomorrow is Yes,', 'RainTomorrow is No,', 'RainTomorrow is Yes,', 'RainTomorrow is No,', 'RainTomorrow is No,', 'RainTomorrow is No,', 'RainTomorrow is No,', 'RainTomorrow is Yes,', 'RainTomorrow is No,', 'RainTomorrow is No,', 'RainTomorrow is No,', 'RainTomorrow is No,', 'RainTomorrow is No,', 'RainTomorrow is Yes,', 'RainTomorrow is No,', 'RainTomorrow is No,', 'RainTomorrow is No,', 'RainTomorrow is No,', 'RainTomorrow is No,', 'RainTomorrow is No,', 'RainTomorrow is No,', 'RainTomorrow is No,', 'RainTomorrow is No,', 'RainTomorrow is No,', 'RainTomorrow is No,', 'RainTomorrow is Yes,', 'RainTomorrow is No,', 'RainTomorrow is Yes,', 'RainTomorrow is No,', 'RainTomorrow is No,', 'RainTomorrow is No,', 'RainTomorrow is No,', 'RainTomorrow is No,', 'RainTomorrow is No,', 'RainTomorrow is No,', 'RainTomorrow is No,', 'RainTomorrow is No,', 'RainTomorrow is Yes,', 'RainTomorrow is No,', 'RainTomorrow is No,', 'RainTomorrow is Yes,', 'RainTomorrow is Yes,', 'RainTomorrow is No,', 'RainTomorrow is Yes,', 'RainTomorrow is No,', 'RainTomorrow is No,', 'RainTomorrow is No,']\n"
     ]
    },
    {
     "name": "stderr",
     "output_type": "stream",
     "text": [
      " 16%|█▌        | 162/1000 [01:21<05:42,  2.45it/s]"
     ]
    },
    {
     "name": "stdout",
     "output_type": "stream",
     "text": [
      "['RainTomorrow is No,', 'RainTomorrow is No,', 'RainTomorrow is No,', 'RainTomorrow is No,', 'RainTomorrow is No,', 'RainTomorrow is No,', 'RainTomorrow is Yes,', 'RainTomorrow is No,', 'RainTomorrow is Yes,', 'RainTomorrow is Yes,', 'RainTomorrow is Yes,', 'RainTomorrow is No,', 'RainTomorrow is No,', 'RainTomorrow is No,', 'RainTomorrow is No,', 'RainTomorrow is No,', 'RainTomorrow is No,', 'RainTomorrow is No,', 'RainTomorrow is No,', 'RainTomorrow is No,', 'RainTomorrow is Yes,', 'RainTomorrow is No,', 'RainTomorrow is No,', 'RainTomorrow is No,', 'RainTomorrow is No,', 'RainTomorrow is No,', 'RainTomorrow is No,', 'RainTomorrow is No,', 'RainTomorrow is No,', 'RainTomorrow is No,', 'RainTomorrow is No,', 'RainTomorrow is No,', 'RainTomorrow is No,', 'RainTomorrow is No,', 'RainTomorrow is No,', 'RainTomorrow is No,', 'RainTomorrow is No,', 'RainTomorrow is No,', 'RainTomorrow is No,', 'RainTomorrow is No,', 'RainTomorrow is No,', 'RainTomorrow is No,', 'RainTomorrow is No,', 'RainTomorrow is Yes,', 'RainTomorrow is Yes,', 'RainTomorrow is No,', 'RainTomorrow is Yes,', 'RainTomorrow is No,', 'RainTomorrow is No,', 'RainTomorrow is Yes,']\n"
     ]
    },
    {
     "name": "stderr",
     "output_type": "stream",
     "text": [
      " 17%|█▋        | 168/1000 [01:24<05:57,  2.33it/s]"
     ]
    },
    {
     "name": "stdout",
     "output_type": "stream",
     "text": [
      "['RainTomorrow is No,', 'RainTomorrow is No,', 'RainTomorrow is Yes,', 'RainTomorrow is No,', 'RainTomorrow is No,', 'RainTomorrow is No,', 'RainTomorrow is No,', 'RainTomorrow is No,', 'RainTomorrow is No,', 'RainTomorrow is No,', 'RainTomorrow is No,', 'RainTomorrow is No,', 'RainTomorrow is No,', 'RainTomorrow is Yes,', 'RainTomorrow is No,', 'RainTomorrow is No,', 'RainTomorrow is No,', 'RainTomorrow is No,', 'RainTomorrow is No,', 'RainTomorrow is No,', 'RainTomorrow is No,', 'RainTomorrow is No,', 'RainTomorrow is Yes,', 'RainTomorrow is No,', 'RainTomorrow is Yes,', 'RainTomorrow is No,', 'RainTomorrow is No,', 'RainTomorrow is Yes,', 'RainTomorrow is No,', 'RainTomorrow is Yes,', 'RainTomorrow is Yes,', 'RainTomorrow is No,', 'RainTomorrow is Yes,', 'RainTomorrow is No,', 'RainTomorrow is No,', 'RainTomorrow is No,', 'RainTomorrow is No,', 'RainTomorrow is Yes,', 'RainTomorrow is Yes,', 'RainTomorrow is No,', 'RainTomorrow is No,', 'RainTomorrow is No,', 'RainTomorrow is No,', 'RainTomorrow is No,', 'RainTomorrow is No,', 'RainTomorrow is No,', 'RainTomorrow is Yes,', 'RainTomorrow is Yes,', 'RainTomorrow is Yes,', 'RainTomorrow is Yes,']\n"
     ]
    },
    {
     "name": "stderr",
     "output_type": "stream",
     "text": [
      " 17%|█▋        | 174/1000 [01:27<06:02,  2.28it/s]"
     ]
    },
    {
     "name": "stdout",
     "output_type": "stream",
     "text": [
      "['RainTomorrow is Yes,', 'RainTomorrow is No,', 'RainTomorrow is No,', 'RainTomorrow is Yes,', 'RainTomorrow is No,', 'RainTomorrow is No,', 'RainTomorrow is No,', 'RainTomorrow is Yes,', 'RainTomorrow is Yes,', 'RainTomorrow is Yes,', 'RainTomorrow is Yes,', 'RainTomorrow is Yes,', 'RainTomorrow is No,', 'RainTomorrow is Yes,', 'RainTomorrow is No,', 'RainTomorrow is No,', 'RainTomorrow is Yes,', 'RainTomorrow is No,', 'RainTomorrow is No,', 'RainTomorrow is No,', 'RainTomorrow is No,', 'RainTomorrow is No,', 'RainTomorrow is No,', 'RainTomorrow is Yes,', 'RainTomorrow is No,', 'RainTomorrow is No,', 'RainTomorrow is No,', 'RainTomorrow is No,', 'RainTomorrow is No,', 'RainTomorrow is No,', 'RainTomorrow is No,', 'RainTomorrow is No,', 'RainTomorrow is Yes,', 'RainTomorrow is No,', 'RainTomorrow is Yes,', 'RainTomorrow is Yes,', 'RainTomorrow is Yes,', 'RainTomorrow is No,', 'RainTomorrow is No,', 'RainTomorrow is Yes,', 'RainTomorrow is Yes,', 'RainTomorrow is No,', 'RainTomorrow is No,', 'RainTomorrow is No,', 'RainTomorrow is No,', 'RainTomorrow is No,', 'RainTomorrow is No,', 'RainTomorrow is No,', 'RainTomorrow is No,', 'RainTomorrow is No,']\n"
     ]
    },
    {
     "name": "stderr",
     "output_type": "stream",
     "text": [
      " 18%|█▊        | 179/1000 [01:30<06:30,  2.10it/s]"
     ]
    },
    {
     "name": "stdout",
     "output_type": "stream",
     "text": [
      "['RainTomorrow is Yes,', 'RainTomorrow is No,', 'RainTomorrow is No,', 'RainTomorrow is No,', 'RainTomorrow is No,', 'RainTomorrow is Yes,', 'RainTomorrow is Yes,', 'RainTomorrow is Yes,', 'RainTomorrow is Yes,', 'RainTomorrow is Yes,', 'RainTomorrow is Yes,', 'RainTomorrow is Yes,', 'RainTomorrow is No,', 'RainTomorrow is No,', 'RainTomorrow is Yes,', 'RainTomorrow is No,', 'RainTomorrow is Yes,', 'RainTomorrow is Yes,', 'RainTomorrow is No,', 'RainTomorrow is No,', 'RainTomorrow is No,', 'RainTomorrow is No,', 'RainTomorrow is Yes,', 'RainTomorrow is No,', 'RainTomorrow is No,', 'RainTomorrow is Yes,', 'RainTomorrow is No,', 'RainTomorrow is Yes,', 'RainTomorrow is No,', 'RainTomorrow is No,', 'RainTomorrow is No,', 'RainTomorrow is Yes,', 'RainTomorrow is No,', 'RainTomorrow is No,', 'RainTomorrow is No,', 'RainTomorrow is Yes,', 'RainTomorrow is No,', 'RainTomorrow is No,', 'RainTomorrow is No,', 'RainTomorrow is No,', 'RainTomorrow is No,', 'RainTomorrow is No,', 'RainTomorrow is Yes,', 'RainTomorrow is No,', 'RainTomorrow is No,', 'RainTomorrow is No,', 'RainTomorrow is No,', 'RainTomorrow is Yes,', 'RainTomorrow is No,', 'RainTomorrow is Yes,']\n"
     ]
    },
    {
     "name": "stderr",
     "output_type": "stream",
     "text": [
      " 18%|█▊        | 184/1000 [01:32<06:52,  1.98it/s]"
     ]
    },
    {
     "name": "stdout",
     "output_type": "stream",
     "text": [
      "['RainTomorrow is Yes,', 'RainTomorrow is Yes,', 'RainTomorrow is No,', 'RainTomorrow is No,', 'RainTomorrow is No,', 'RainTomorrow is No,', 'RainTomorrow is No,', 'RainTomorrow is Yes,', 'RainTomorrow is No,', 'RainTomorrow is No,', 'RainTomorrow is No,', 'RainTomorrow is No,', 'RainTomorrow is No,', 'RainTomorrow is Yes,', 'RainTomorrow is No,', 'RainTomorrow is No,', 'RainTomorrow is No,', 'RainTomorrow is Yes,', 'RainTomorrow is Yes,', 'RainTomorrow is No,', 'RainTomorrow is No,', 'RainTomorrow is Yes,', 'RainTomorrow is No,', 'RainTomorrow is No,', 'RainTomorrow is No,', 'RainTomorrow is Yes,', 'RainTomorrow is No,', 'RainTomorrow is Yes,', 'RainTomorrow is Yes,', 'RainTomorrow is No,', 'RainTomorrow is No,', 'RainTomorrow is No,', 'RainTomorrow is Yes,', 'RainTomorrow is Yes,', 'RainTomorrow is No,', 'RainTomorrow is No,', 'RainTomorrow is Yes,', 'RainTomorrow is No,', 'RainTomorrow is Yes,', 'RainTomorrow is No,', 'RainTomorrow is No,', 'RainTomorrow is Yes,', 'RainTomorrow is Yes,', 'RainTomorrow is No,', 'RainTomorrow is No,', 'RainTomorrow is No,', 'RainTomorrow is No,', 'RainTomorrow is No,', 'RainTomorrow is No,', 'RainTomorrow is No,']\n"
     ]
    },
    {
     "name": "stderr",
     "output_type": "stream",
     "text": [
      " 19%|█▉        | 194/1000 [01:35<05:31,  2.43it/s]"
     ]
    },
    {
     "name": "stdout",
     "output_type": "stream",
     "text": [
      "['RainTomorrow is No,', 'RainTomorrow is No,', 'RainTomorrow is Yes,', 'RainTomorrow is Yes,', 'RainTomorrow is No,', 'RainTomorrow is No,', 'RainTomorrow is No,', 'RainTomorrow is No,', 'RainTomorrow is No,', 'RainTomorrow is No,', 'RainTomorrow is No,', 'RainTomorrow is No,', 'RainTomorrow is No,', 'RainTomorrow is No,', 'RainTomorrow is No,', 'RainTomorrow is No,', 'RainTomorrow is No,', 'RainTomorrow is No,', 'RainTomorrow is No,', 'RainTomorrow is No,', 'RainTomorrow is No,', 'RainTomorrow is No,', 'RainTomorrow is No,', 'RainTomorrow is No,', 'RainTomorrow is No,', 'RainTomorrow is No,', 'RainTomorrow is No,', 'RainTomorrow is No,', 'RainTomorrow is No,', 'RainTomorrow is No,', 'RainTomorrow is No,', 'RainTomorrow is Yes,', 'RainTomorrow is No,', 'RainTomorrow is Yes,', 'RainTomorrow is Yes,', 'RainTomorrow is No,', 'RainTomorrow is No,', 'RainTomorrow is No,', 'RainTomorrow is Yes,', 'RainTomorrow is No,', 'RainTomorrow is No,', 'RainTomorrow is No,', 'RainTomorrow is No,', 'RainTomorrow is No,', 'RainTomorrow is No,', 'RainTomorrow is No,', 'RainTomorrow is No,', 'RainTomorrow is No,', 'RainTomorrow is Yes,', 'RainTomorrow is No,']\n"
     ]
    },
    {
     "name": "stderr",
     "output_type": "stream",
     "text": [
      " 20%|█▉        | 199/1000 [01:38<06:03,  2.20it/s]"
     ]
    },
    {
     "name": "stdout",
     "output_type": "stream",
     "text": [
      "['RainTomorrow is No,', 'RainTomorrow is No,', 'RainTomorrow is No,', 'RainTomorrow is Yes,', 'RainTomorrow is No,', 'RainTomorrow is Yes,', 'RainTomorrow is Yes,', 'RainTomorrow is No,', 'RainTomorrow is No,', 'RainTomorrow is Yes,', 'RainTomorrow is No,', 'RainTomorrow is No,', 'RainTomorrow is No,', 'RainTomorrow is Yes,', 'RainTomorrow is No,', 'RainTomorrow is Yes,', 'RainTomorrow is No,', 'RainTomorrow is Yes,', 'RainTomorrow is Yes,', 'RainTomorrow is No,', 'RainTomorrow is Yes,', 'RainTomorrow is No,', 'RainTomorrow is No,', 'RainTomorrow is No,', 'RainTomorrow is No,', 'RainTomorrow is No,', 'RainTomorrow is No,', 'RainTomorrow is No,', 'RainTomorrow is No,', 'RainTomorrow is No,', 'RainTomorrow is No,', 'RainTomorrow is No,', 'RainTomorrow is No,', 'RainTomorrow is No,', 'RainTomorrow is Yes,', 'RainTomorrow is No,', 'RainTomorrow is No,', 'RainTomorrow is Yes,', 'RainTomorrow is Yes,', 'RainTomorrow is No,', 'RainTomorrow is Yes,', 'RainTomorrow is Yes,', 'RainTomorrow is No,', 'RainTomorrow is No,', 'RainTomorrow is Yes,', 'RainTomorrow is Yes,', 'RainTomorrow is Yes,', 'RainTomorrow is No,', 'RainTomorrow is No,', 'RainTomorrow is No,']\n"
     ]
    },
    {
     "name": "stderr",
     "output_type": "stream",
     "text": [
      " 20%|██        | 204/1000 [01:41<06:27,  2.06it/s]"
     ]
    },
    {
     "name": "stdout",
     "output_type": "stream",
     "text": [
      "['RainTomorrow is Yes,', 'RainTomorrow is No,', 'RainTomorrow is No,', 'RainTomorrow is Yes,', 'RainTomorrow is No,', 'RainTomorrow is No,', 'RainTomorrow is No,', 'RainTomorrow is No,', 'RainTomorrow is No,', 'RainTomorrow is No,', 'RainTomorrow is No,', 'RainTomorrow is No,', 'RainTomorrow is No,', 'RainTomorrow is No,', 'RainTomorrow is No,', 'RainTomorrow is No,', 'RainTomorrow is No,', 'RainTomorrow is No,', 'RainTomorrow is Yes,', 'RainTomorrow is No,', 'RainTomorrow is No,', 'RainTomorrow is Yes,', 'RainTomorrow is No,', 'RainTomorrow is Yes,', 'RainTomorrow is No,', 'RainTomorrow is No,', 'RainTomorrow is Yes,', 'RainTomorrow is No,', 'RainTomorrow is Yes,', 'RainTomorrow is No,', 'RainTomorrow is No,', 'RainTomorrow is Yes,', 'RainTomorrow is No,', 'RainTomorrow is No,', 'RainTomorrow is No,', 'RainTomorrow is No,', 'RainTomorrow is No,', 'RainTomorrow is Yes,', 'RainTomorrow is No,', 'RainTomorrow is No,', 'RainTomorrow is No,', 'RainTomorrow is No,', 'RainTomorrow is Yes,', 'RainTomorrow is No,', 'RainTomorrow is No,', 'RainTomorrow is No,', 'RainTomorrow is No,', 'RainTomorrow is No,', 'RainTomorrow is Yes,', 'RainTomorrow is No,']\n"
     ]
    },
    {
     "name": "stderr",
     "output_type": "stream",
     "text": [
      " 21%|██        | 211/1000 [01:44<06:01,  2.18it/s]"
     ]
    },
    {
     "name": "stdout",
     "output_type": "stream",
     "text": [
      "['RainTomorrow is No,', 'RainTomorrow is No,', 'RainTomorrow is No,', 'RainTomorrow is No,', 'RainTomorrow is No,', 'RainTomorrow is Yes,', 'RainTomorrow is No,', 'RainTomorrow is Yes,', 'RainTomorrow is No,', 'RainTomorrow is Yes,', 'RainTomorrow is No,', 'RainTomorrow is Yes,', 'RainTomorrow is No,', 'RainTomorrow is No,', 'RainTomorrow is No,', 'RainTomorrow is No,', 'RainTomorrow is No,', 'RainTomorrow is No,', 'RainTomorrow is No,', 'RainTomorrow is No,', 'RainTomorrow is No,', 'RainTomorrow is Yes,', 'RainTomorrow is No,', 'RainTomorrow is No,', 'RainTomorrow is No,', 'RainTomorrow is Yes,', 'RainTomorrow is No,', 'RainTomorrow is No,', 'RainTomorrow is Yes,', 'RainTomorrow is No,', 'RainTomorrow is No,', 'RainTomorrow is No,', 'RainTomorrow is No,', 'RainTomorrow is No,', 'RainTomorrow is No,', 'RainTomorrow is No,', 'RainTomorrow is Yes,', 'RainTomorrow is Yes,', 'RainTomorrow is Yes,', 'RainTomorrow is No,', 'RainTomorrow is No,', 'RainTomorrow is No,', 'RainTomorrow is No,', 'RainTomorrow is No,', 'RainTomorrow is No,', 'RainTomorrow is No,', 'RainTomorrow is Yes,', 'RainTomorrow is No,', 'RainTomorrow is No,', 'RainTomorrow is No,']\n"
     ]
    },
    {
     "name": "stderr",
     "output_type": "stream",
     "text": [
      " 21%|██▏       | 214/1000 [01:47<07:06,  1.84it/s]"
     ]
    },
    {
     "name": "stdout",
     "output_type": "stream",
     "text": [
      "['RainTomorrow is Yes,', 'RainTomorrow is No,', 'RainTomorrow is Yes,', 'RainTomorrow is No,', 'RainTomorrow is Yes,', 'RainTomorrow is Yes,', 'RainTomorrow is No,', 'RainTomorrow is No,', 'RainTomorrow is No,', 'RainTomorrow is No,', 'RainTomorrow is No,', 'RainTomorrow is Yes,', 'RainTomorrow is Yes,', 'RainTomorrow is No,', 'RainTomorrow is No,', 'RainTomorrow is Yes,', 'RainTomorrow is No,', 'RainTomorrow is Yes,', 'RainTomorrow is No,', 'RainTomorrow is No,', 'RainTomorrow is No,', 'RainTomorrow is No,', 'RainTomorrow is No,', 'RainTomorrow is No,', 'RainTomorrow is No,', 'RainTomorrow is No,', 'RainTomorrow is No,', 'RainTomorrow is No,', 'RainTomorrow is No,', 'RainTomorrow is No,', 'RainTomorrow is No,', 'RainTomorrow is No,', 'RainTomorrow is Yes,', 'RainTomorrow is No,', 'RainTomorrow is No,', 'RainTomorrow is Yes,', 'RainTomorrow is No,', 'RainTomorrow is Yes,', 'RainTomorrow is No,', 'RainTomorrow is No,', 'RainTomorrow is Yes,', 'RainTomorrow is No,', 'RainTomorrow is Yes,', 'RainTomorrow is No,', 'RainTomorrow is No,', 'RainTomorrow is No,', 'RainTomorrow is No,', 'RainTomorrow is No,', 'RainTomorrow is No,', 'RainTomorrow is No,']\n"
     ]
    },
    {
     "name": "stderr",
     "output_type": "stream",
     "text": [
      " 22%|██▏       | 220/1000 [01:50<06:48,  1.91it/s]"
     ]
    },
    {
     "name": "stdout",
     "output_type": "stream",
     "text": [
      "['RainTomorrow is Yes,', 'RainTomorrow is No,', 'RainTomorrow is Yes,', 'RainTomorrow is No,', 'RainTomorrow is No,', 'RainTomorrow is No,', 'RainTomorrow is Yes,', 'RainTomorrow is Yes,', 'RainTomorrow is No,', 'RainTomorrow is No,', 'RainTomorrow is Yes,', 'RainTomorrow is Yes,', 'RainTomorrow is No,', 'RainTomorrow is No,', 'RainTomorrow is No,', 'RainTomorrow is No,', 'RainTomorrow is No,', 'RainTomorrow is No,', 'RainTomorrow is Yes,', 'RainTomorrow is Yes,', 'RainTomorrow is Yes,', 'RainTomorrow is Yes,', 'RainTomorrow is No,', 'RainTomorrow is No,', 'RainTomorrow is No,', 'RainTomorrow is No,', 'RainTomorrow is No,', 'RainTomorrow is No,', 'RainTomorrow is No,', 'RainTomorrow is Yes,', 'RainTomorrow is No,', 'RainTomorrow is No,', 'RainTomorrow is No,', 'RainTomorrow is No,', 'RainTomorrow is No,', 'RainTomorrow is No,', 'RainTomorrow is No,', 'RainTomorrow is Yes,', 'RainTomorrow is No,', 'RainTomorrow is Yes,', 'RainTomorrow is Yes,', 'RainTomorrow is No,', 'RainTomorrow is No,', 'RainTomorrow is No,', 'RainTomorrow is Yes,', 'RainTomorrow is No,', 'RainTomorrow is Yes,', 'RainTomorrow is Yes,', 'RainTomorrow is No,', 'RainTomorrow is No,']\n"
     ]
    },
    {
     "name": "stderr",
     "output_type": "stream",
     "text": [
      " 23%|██▎       | 229/1000 [01:53<05:40,  2.27it/s]"
     ]
    },
    {
     "name": "stdout",
     "output_type": "stream",
     "text": [
      "['RainTomorrow is Yes,', 'RainTomorrow is No,', 'RainTomorrow is No,', 'RainTomorrow is No,', 'RainTomorrow is No,', 'RainTomorrow is No,', 'RainTomorrow is No,', 'RainTomorrow is No,', 'RainTomorrow is No,', 'RainTomorrow is No,', 'RainTomorrow is Yes,', 'RainTomorrow is No,', 'RainTomorrow is Yes,', 'RainTomorrow is No,', 'RainTomorrow is No,', 'RainTomorrow is No,', 'RainTomorrow is No,', 'RainTomorrow is Yes,', 'RainTomorrow is No,', 'RainTomorrow is Yes,', 'RainTomorrow is No,', 'RainTomorrow is No,', 'RainTomorrow is No,', 'RainTomorrow is No,', 'RainTomorrow is Yes,', 'RainTomorrow is No,', 'RainTomorrow is Yes,', 'RainTomorrow is No,', 'RainTomorrow is No,', 'RainTomorrow is No,', 'RainTomorrow is No,', 'RainTomorrow is No,', 'RainTomorrow is Yes,', 'RainTomorrow is No,', 'RainTomorrow is No,', 'RainTomorrow is No,', 'RainTomorrow is No,', 'RainTomorrow is No,', 'RainTomorrow is No,', 'RainTomorrow is No,', 'RainTomorrow is No,', 'RainTomorrow is No,', 'RainTomorrow is Yes,', 'RainTomorrow is No,', 'RainTomorrow is No,', 'RainTomorrow is Yes,', 'RainTomorrow is No,', 'RainTomorrow is No,', 'RainTomorrow is No,', 'RainTomorrow is No,']\n"
     ]
    },
    {
     "name": "stderr",
     "output_type": "stream",
     "text": [
      " 24%|██▎       | 236/1000 [01:56<05:32,  2.30it/s]"
     ]
    },
    {
     "name": "stdout",
     "output_type": "stream",
     "text": [
      "['RainTomorrow is Yes,', 'RainTomorrow is No,', 'RainTomorrow is No,', 'RainTomorrow is Yes,', 'RainTomorrow is No,', 'RainTomorrow is Yes,', 'RainTomorrow is No,', 'RainTomorrow is No,', 'RainTomorrow is No,', 'RainTomorrow is No,', 'RainTomorrow is No,', 'RainTomorrow is No,', 'RainTomorrow is No,', 'RainTomorrow is No,', 'RainTomorrow is No,', 'RainTomorrow is No,', 'RainTomorrow is Yes,', 'RainTomorrow is No,', 'RainTomorrow is No,', 'RainTomorrow is No,', 'RainTomorrow is No,', 'RainTomorrow is No,', 'RainTomorrow is Yes,', 'RainTomorrow is No,', 'RainTomorrow is No,', 'RainTomorrow is No,', 'RainTomorrow is No,', 'RainTomorrow is Yes,', 'RainTomorrow is No,', 'RainTomorrow is No,', 'RainTomorrow is No,', 'RainTomorrow is No,', 'RainTomorrow is No,', 'RainTomorrow is No,', 'RainTomorrow is No,', 'RainTomorrow is Yes,', 'RainTomorrow is No,', 'RainTomorrow is No,', 'RainTomorrow is Yes,', 'RainTomorrow is No,', 'RainTomorrow is No,', 'RainTomorrow is No,', 'RainTomorrow is Yes,', 'RainTomorrow is No,', 'RainTomorrow is Yes,', 'RainTomorrow is No,', 'RainTomorrow is Yes,', 'RainTomorrow is No,', 'RainTomorrow is No,', 'RainTomorrow is No,']\n"
     ]
    },
    {
     "name": "stderr",
     "output_type": "stream",
     "text": [
      " 24%|██▍       | 244/1000 [01:59<05:10,  2.43it/s]"
     ]
    },
    {
     "name": "stdout",
     "output_type": "stream",
     "text": [
      "['RainTomorrow is No,', 'RainTomorrow is Yes,', 'RainTomorrow is No,', 'RainTomorrow is No,', 'RainTomorrow is No,', 'RainTomorrow is No,', 'RainTomorrow is No,', 'RainTomorrow is No,', 'RainTomorrow is No,', 'RainTomorrow is No,', 'RainTomorrow is No,', 'RainTomorrow is No,', 'RainTomorrow is No,', 'RainTomorrow is No,', 'RainTomorrow is Yes,', 'RainTomorrow is Yes,', 'RainTomorrow is No,', 'RainTomorrow is No,', 'RainTomorrow is No,', 'RainTomorrow is No,', 'RainTomorrow is No,', 'RainTomorrow is No,', 'RainTomorrow is No,', 'RainTomorrow is Yes,', 'RainTomorrow is No,', 'RainTomorrow is Yes,', 'RainTomorrow is No,', 'RainTomorrow is No,', 'RainTomorrow is No,', 'RainTomorrow is No,', 'RainTomorrow is Yes,', 'RainTomorrow is No,', 'RainTomorrow is No,', 'RainTomorrow is No,', 'RainTomorrow is Yes,', 'RainTomorrow is Yes,', 'RainTomorrow is No,', 'RainTomorrow is Yes,', 'RainTomorrow is No,', 'RainTomorrow is No,', 'RainTomorrow is No,', 'RainTomorrow is No,', 'RainTomorrow is No,', 'RainTomorrow is Yes,', 'RainTomorrow is No,', 'RainTomorrow is No,', 'RainTomorrow is Yes,', 'RainTomorrow is No,', 'RainTomorrow is No,', 'RainTomorrow is No,']\n"
     ]
    },
    {
     "name": "stderr",
     "output_type": "stream",
     "text": [
      " 25%|██▌       | 252/1000 [02:02<04:57,  2.52it/s]"
     ]
    },
    {
     "name": "stdout",
     "output_type": "stream",
     "text": [
      "['RainTomorrow is No,', 'RainTomorrow is No,', 'RainTomorrow is Yes,', 'RainTomorrow is Yes,', 'RainTomorrow is No,', 'RainTomorrow is No,', 'RainTomorrow is No,', 'RainTomorrow is No,', 'RainTomorrow is No,', 'RainTomorrow is No,', 'RainTomorrow is Yes,', 'RainTomorrow is No,', 'RainTomorrow is No,', 'RainTomorrow is No,', 'RainTomorrow is Yes,', 'RainTomorrow is No,', 'RainTomorrow is No,', 'RainTomorrow is No,', 'RainTomorrow is No,', 'RainTomorrow is No,', 'RainTomorrow is No,', 'RainTomorrow is No,', 'RainTomorrow is Yes,', 'RainTomorrow is No,', 'RainTomorrow is Yes,', 'RainTomorrow is No,', 'RainTomorrow is No,', 'RainTomorrow is No,', 'RainTomorrow is No,', 'RainTomorrow is No,', 'RainTomorrow is Yes,', 'RainTomorrow is Yes,', 'RainTomorrow is No,', 'RainTomorrow is Yes,', 'RainTomorrow is No,', 'RainTomorrow is No,', 'RainTomorrow is Yes,', 'RainTomorrow is No,', 'RainTomorrow is Yes,', 'RainTomorrow is Yes,', 'RainTomorrow is No,', 'RainTomorrow is No,', 'RainTomorrow is No,', 'RainTomorrow is No,', 'RainTomorrow is No,', 'RainTomorrow is No,', 'RainTomorrow is No,', 'RainTomorrow is Yes,', 'RainTomorrow is No,', 'RainTomorrow is No,']\n"
     ]
    },
    {
     "name": "stderr",
     "output_type": "stream",
     "text": [
      " 26%|██▌       | 258/1000 [02:04<05:09,  2.40it/s]"
     ]
    },
    {
     "name": "stdout",
     "output_type": "stream",
     "text": [
      "['RainTomorrow is No,', 'RainTomorrow is Yes,', 'RainTomorrow is No,', 'RainTomorrow is No,', 'RainTomorrow is Yes,', 'RainTomorrow is No,', 'RainTomorrow is No,', 'RainTomorrow is No,', 'RainTomorrow is Yes,', 'RainTomorrow is No,', 'RainTomorrow is Yes,', 'RainTomorrow is No,', 'RainTomorrow is Yes,', 'RainTomorrow is Yes,', 'RainTomorrow is No,', 'RainTomorrow is No,', 'RainTomorrow is No,', 'RainTomorrow is Yes,', 'RainTomorrow is No,', 'RainTomorrow is No,', 'RainTomorrow is No,', 'RainTomorrow is No,', 'RainTomorrow is No,', 'RainTomorrow is No,', 'RainTomorrow is No,', 'RainTomorrow is No,', 'RainTomorrow is Yes,', 'RainTomorrow is No,', 'RainTomorrow is Yes,', 'RainTomorrow is Yes,', 'RainTomorrow is Yes,', 'RainTomorrow is Yes,', 'RainTomorrow is No,', 'RainTomorrow is Yes,', 'RainTomorrow is No,', 'RainTomorrow is No,', 'RainTomorrow is No,', 'RainTomorrow is Yes,', 'RainTomorrow is Yes,', 'RainTomorrow is Yes,', 'RainTomorrow is No,', 'RainTomorrow is No,', 'RainTomorrow is No,', 'RainTomorrow is Yes,', 'RainTomorrow is No,', 'RainTomorrow is No,', 'RainTomorrow is No,', 'RainTomorrow is No,', 'RainTomorrow is No,', 'RainTomorrow is No,']\n"
     ]
    },
    {
     "name": "stderr",
     "output_type": "stream",
     "text": [
      " 26%|██▋       | 264/1000 [02:07<05:24,  2.26it/s]"
     ]
    },
    {
     "name": "stdout",
     "output_type": "stream",
     "text": [
      "['RainTomorrow is No,', 'RainTomorrow is Yes,', 'RainTomorrow is No,', 'RainTomorrow is No,', 'RainTomorrow is No,', 'RainTomorrow is No,', 'RainTomorrow is Yes,', 'RainTomorrow is No,', 'RainTomorrow is No,', 'RainTomorrow is No,', 'RainTomorrow is Yes,', 'RainTomorrow is Yes,', 'RainTomorrow is No,', 'RainTomorrow is No,', 'RainTomorrow is No,', 'RainTomorrow is Yes,', 'RainTomorrow is Yes,', 'RainTomorrow is No,', 'RainTomorrow is Yes,', 'RainTomorrow is No,', 'RainTomorrow is No,', 'RainTomorrow is No,', 'RainTomorrow is No,', 'RainTomorrow is No,', 'RainTomorrow is No,', 'RainTomorrow is No,', 'RainTomorrow is No,', 'RainTomorrow is No,', 'RainTomorrow is No,', 'RainTomorrow is No,', 'RainTomorrow is No,', 'RainTomorrow is No,', 'RainTomorrow is No,', 'RainTomorrow is No,', 'RainTomorrow is No,', 'RainTomorrow is Yes,', 'RainTomorrow is Yes,', 'RainTomorrow is No,', 'RainTomorrow is No,', 'RainTomorrow is No,', 'RainTomorrow is Yes,', 'RainTomorrow is Yes,', 'RainTomorrow is No,', 'RainTomorrow is Yes,', 'RainTomorrow is No,', 'RainTomorrow is No,', 'RainTomorrow is No,', 'RainTomorrow is Yes,', 'RainTomorrow is Yes,', 'RainTomorrow is No,']\n"
     ]
    },
    {
     "name": "stderr",
     "output_type": "stream",
     "text": [
      " 27%|██▋       | 270/1000 [02:10<05:31,  2.20it/s]"
     ]
    },
    {
     "name": "stdout",
     "output_type": "stream",
     "text": [
      "['RainTomorrow is No,', 'RainTomorrow is Yes,', 'RainTomorrow is No,', 'RainTomorrow is Yes,', 'RainTomorrow is No,', 'RainTomorrow is No,', 'RainTomorrow is Yes,', 'RainTomorrow is No,', 'RainTomorrow is No,', 'RainTomorrow is No,', 'RainTomorrow is No,', 'RainTomorrow is No,', 'RainTomorrow is Yes,', 'RainTomorrow is No,', 'RainTomorrow is No,', 'RainTomorrow is No,', 'RainTomorrow is No,', 'RainTomorrow is Yes,', 'RainTomorrow is No,', 'RainTomorrow is Yes,', 'RainTomorrow is Yes,', 'RainTomorrow is No,', 'RainTomorrow is No,', 'RainTomorrow is No,', 'RainTomorrow is No,', 'RainTomorrow is No,', 'RainTomorrow is Yes,', 'RainTomorrow is Yes,', 'RainTomorrow is No,', 'RainTomorrow is No,', 'RainTomorrow is No,', 'RainTomorrow is No,', 'RainTomorrow is No,', 'RainTomorrow is No,', 'RainTomorrow is No,', 'RainTomorrow is Yes,', 'RainTomorrow is No,', 'RainTomorrow is No,', 'RainTomorrow is Yes,', 'RainTomorrow is No,', 'RainTomorrow is No,', 'RainTomorrow is No,', 'RainTomorrow is No,', 'RainTomorrow is No,', 'RainTomorrow is No,', 'RainTomorrow is No,', 'RainTomorrow is No,', 'RainTomorrow is No,', 'RainTomorrow is No,', 'RainTomorrow is No,']\n"
     ]
    },
    {
     "name": "stderr",
     "output_type": "stream",
     "text": [
      " 28%|██▊       | 276/1000 [02:13<05:32,  2.18it/s]"
     ]
    },
    {
     "name": "stdout",
     "output_type": "stream",
     "text": [
      "['RainTomorrow is No,', 'RainTomorrow is Yes,', 'RainTomorrow is No,', 'RainTomorrow is Yes,', 'RainTomorrow is No,', 'RainTomorrow is No,', 'RainTomorrow is No,', 'RainTomorrow is No,', 'RainTomorrow is No,', 'RainTomorrow is No,', 'RainTomorrow is No,', 'RainTomorrow is No,', 'RainTomorrow is No,', 'RainTomorrow is No,', 'RainTomorrow is Yes,', 'RainTomorrow is No,', 'RainTomorrow is No,', 'RainTomorrow is No,', 'RainTomorrow is Yes,', 'RainTomorrow is No,', 'RainTomorrow is No,', 'RainTomorrow is No,', 'RainTomorrow is No,', 'RainTomorrow is No,', 'RainTomorrow is No,', 'RainTomorrow is Yes,', 'RainTomorrow is No,', 'RainTomorrow is No,', 'RainTomorrow is No,', 'RainTomorrow is No,', 'RainTomorrow is No,', 'RainTomorrow is No,', 'RainTomorrow is No,', 'RainTomorrow is No,', 'RainTomorrow is No,', 'RainTomorrow is No,', 'RainTomorrow is No,', 'RainTomorrow is No,', 'RainTomorrow is Yes,', 'RainTomorrow is No,', 'RainTomorrow is No,', 'RainTomorrow is No,', 'RainTomorrow is No,', 'RainTomorrow is No,', 'RainTomorrow is No,', 'RainTomorrow is No,', 'RainTomorrow is No,', 'RainTomorrow is No,', 'RainTomorrow is No,', 'RainTomorrow is No,']\n"
     ]
    },
    {
     "name": "stderr",
     "output_type": "stream",
     "text": [
      " 28%|██▊       | 278/1000 [02:16<07:00,  1.72it/s]"
     ]
    },
    {
     "name": "stdout",
     "output_type": "stream",
     "text": [
      "['RainTomorrow is No,', 'RainTomorrow is No,', 'RainTomorrow is Yes,', 'RainTomorrow is No,', 'RainTomorrow is No,', 'RainTomorrow is No,', 'RainTomorrow is No,', 'RainTomorrow is Yes,', 'RainTomorrow is No,', 'RainTomorrow is No,', 'RainTomorrow is No,', 'RainTomorrow is No,', 'RainTomorrow is No,', 'RainTomorrow is No,', 'RainTomorrow is Yes,', 'RainTomorrow is Yes,', 'RainTomorrow is No,', 'RainTomorrow is No,', 'RainTomorrow is Yes,', 'RainTomorrow is No,', 'RainTomorrow is Yes,', 'RainTomorrow is No,', 'RainTomorrow is No,', 'RainTomorrow is No,', 'RainTomorrow is No,', 'RainTomorrow is Yes,', 'RainTomorrow is No,', 'RainTomorrow is Yes,', 'RainTomorrow is No,', 'RainTomorrow is No,', 'RainTomorrow is No,', 'RainTomorrow is No,', 'RainTomorrow is No,', 'RainTomorrow is Yes,', 'RainTomorrow is No,', 'RainTomorrow is Yes,', 'RainTomorrow is No,', 'RainTomorrow is No,', 'RainTomorrow is No,', 'RainTomorrow is No,', 'RainTomorrow is No,', 'RainTomorrow is No,', 'RainTomorrow is No,', 'RainTomorrow is No,', 'RainTomorrow is No,', 'RainTomorrow is Yes,', 'RainTomorrow is No,', 'RainTomorrow is No,', 'RainTomorrow is No,', 'RainTomorrow is No,']\n"
     ]
    },
    {
     "name": "stderr",
     "output_type": "stream",
     "text": [
      " 29%|██▉       | 288/1000 [02:19<05:16,  2.25it/s]"
     ]
    },
    {
     "name": "stdout",
     "output_type": "stream",
     "text": [
      "['RainTomorrow is No,', 'RainTomorrow is No,', 'RainTomorrow is No,', 'RainTomorrow is No,', 'RainTomorrow is No,', 'RainTomorrow is No,', 'RainTomorrow is No,', 'RainTomorrow is No,', 'RainTomorrow is No,', 'RainTomorrow is No,', 'RainTomorrow is No,', 'RainTomorrow is Yes,', 'RainTomorrow is No,', 'RainTomorrow is No,', 'RainTomorrow is No,', 'RainTomorrow is No,', 'RainTomorrow is No,', 'RainTomorrow is No,', 'RainTomorrow is Yes,', 'RainTomorrow is Yes,', 'RainTomorrow is No,', 'RainTomorrow is No,', 'RainTomorrow is No,', 'RainTomorrow is No,', 'RainTomorrow is No,', 'RainTomorrow is No,', 'RainTomorrow is Yes,', 'RainTomorrow is No,', 'RainTomorrow is No,', 'RainTomorrow is No,', 'RainTomorrow is No,', 'RainTomorrow is Yes,', 'RainTomorrow is No,', 'RainTomorrow is No,', 'RainTomorrow is Yes,', 'RainTomorrow is No,', 'RainTomorrow is No,', 'RainTomorrow is No,', 'RainTomorrow is No,', 'RainTomorrow is No,', 'RainTomorrow is No,', 'RainTomorrow is No,', 'RainTomorrow is No,', 'RainTomorrow is No,', 'RainTomorrow is No,', 'RainTomorrow is Yes,', 'RainTomorrow is Yes,', 'RainTomorrow is Yes,', 'RainTomorrow is No,', 'RainTomorrow is No,']\n"
     ]
    },
    {
     "name": "stderr",
     "output_type": "stream",
     "text": [
      " 30%|██▉       | 296/1000 [02:22<04:50,  2.42it/s]"
     ]
    },
    {
     "name": "stdout",
     "output_type": "stream",
     "text": [
      "['RainTomorrow is No,', 'RainTomorrow is No,', 'RainTomorrow is No,', 'RainTomorrow is No,', 'RainTomorrow is No,', 'RainTomorrow is No,', 'RainTomorrow is No,', 'RainTomorrow is Yes,', 'RainTomorrow is No,', 'RainTomorrow is No,', 'RainTomorrow is Yes,', 'RainTomorrow is Yes,', 'RainTomorrow is Yes,', 'RainTomorrow is No,', 'RainTomorrow is No,', 'RainTomorrow is No,', 'RainTomorrow is No,', 'RainTomorrow is No,', 'RainTomorrow is No,', 'RainTomorrow is No,', 'RainTomorrow is Yes,', 'RainTomorrow is Yes,', 'RainTomorrow is Yes,', 'RainTomorrow is No,', 'RainTomorrow is No,', 'RainTomorrow is No,', 'RainTomorrow is Yes,', 'RainTomorrow is No,', 'RainTomorrow is No,', 'RainTomorrow is No,', 'RainTomorrow is No,', 'RainTomorrow is No,', 'RainTomorrow is No,', 'RainTomorrow is No,', 'RainTomorrow is No,', 'RainTomorrow is Yes,', 'RainTomorrow is No,', 'RainTomorrow is No,', 'RainTomorrow is No,', 'RainTomorrow is Yes,', 'RainTomorrow is No,', 'RainTomorrow is No,', 'RainTomorrow is No,', 'RainTomorrow is No,', 'RainTomorrow is Yes,', 'RainTomorrow is Yes,', 'RainTomorrow is No,', 'RainTomorrow is Yes,', 'RainTomorrow is No,', 'RainTomorrow is No,']\n"
     ]
    },
    {
     "name": "stderr",
     "output_type": "stream",
     "text": [
      " 30%|███       | 302/1000 [02:25<05:03,  2.30it/s]"
     ]
    },
    {
     "name": "stdout",
     "output_type": "stream",
     "text": [
      "['RainTomorrow is No,', 'RainTomorrow is Yes,', 'RainTomorrow is No,', 'RainTomorrow is No,', 'RainTomorrow is Yes,', 'RainTomorrow is No,', 'RainTomorrow is No,', 'RainTomorrow is No,', 'RainTomorrow is No,', 'RainTomorrow is Yes,', 'RainTomorrow is No,', 'RainTomorrow is No,', 'RainTomorrow is No,', 'RainTomorrow is No,', 'RainTomorrow is No,', 'RainTomorrow is Yes,', 'RainTomorrow is Yes,', 'RainTomorrow is Yes,', 'RainTomorrow is No,', 'RainTomorrow is No,', 'RainTomorrow is No,', 'RainTomorrow is No,', 'RainTomorrow is Yes,', 'RainTomorrow is No,', 'RainTomorrow is No,', 'RainTomorrow is Yes,', 'RainTomorrow is Yes,', 'RainTomorrow is No,', 'RainTomorrow is Yes,', 'RainTomorrow is No,', 'RainTomorrow is No,', 'RainTomorrow is No,', 'RainTomorrow is Yes,', 'RainTomorrow is No,', 'RainTomorrow is Yes,', 'RainTomorrow is No,', 'RainTomorrow is Yes,', 'RainTomorrow is No,', 'RainTomorrow is No,', 'RainTomorrow is No,', 'RainTomorrow is No,', 'RainTomorrow is No,', 'RainTomorrow is No,', 'RainTomorrow is No,', 'RainTomorrow is No,', 'RainTomorrow is No,', 'RainTomorrow is No,', 'RainTomorrow is No,', 'RainTomorrow is No,', 'RainTomorrow is Yes,']\n"
     ]
    },
    {
     "name": "stderr",
     "output_type": "stream",
     "text": [
      " 31%|███       | 309/1000 [02:28<04:53,  2.35it/s]"
     ]
    },
    {
     "name": "stdout",
     "output_type": "stream",
     "text": [
      "['RainTomorrow is No,', 'RainTomorrow is Yes,', 'RainTomorrow is Yes,', 'RainTomorrow is Yes,', 'RainTomorrow is No,', 'RainTomorrow is No,', 'RainTomorrow is No,', 'RainTomorrow is No,', 'RainTomorrow is Yes,', 'RainTomorrow is No,', 'RainTomorrow is No,', 'RainTomorrow is No,', 'RainTomorrow is Yes,', 'RainTomorrow is No,', 'RainTomorrow is No,', 'RainTomorrow is No,', 'RainTomorrow is No,', 'RainTomorrow is No,', 'RainTomorrow is Yes,', 'RainTomorrow is No,', 'RainTomorrow is No,', 'RainTomorrow is No,', 'RainTomorrow is No,', 'RainTomorrow is No,', 'RainTomorrow is No,', 'RainTomorrow is No,', 'RainTomorrow is No,', 'RainTomorrow is No,', 'RainTomorrow is No,', 'RainTomorrow is Yes,', 'RainTomorrow is No,', 'RainTomorrow is Yes,', 'RainTomorrow is Yes,', 'RainTomorrow is No,', 'RainTomorrow is Yes,', 'RainTomorrow is Yes,', 'RainTomorrow is No,', 'RainTomorrow is No,', 'RainTomorrow is No,', 'RainTomorrow is No,', 'RainTomorrow is No,', 'RainTomorrow is No,', 'RainTomorrow is No,', 'RainTomorrow is No,', 'RainTomorrow is No,', 'RainTomorrow is No,', 'RainTomorrow is No,', 'RainTomorrow is Yes,', 'RainTomorrow is No,', 'RainTomorrow is No,']\n"
     ]
    },
    {
     "name": "stderr",
     "output_type": "stream",
     "text": [
      " 31%|███▏      | 314/1000 [02:30<05:12,  2.20it/s]"
     ]
    },
    {
     "name": "stdout",
     "output_type": "stream",
     "text": [
      "['RainTomorrow is No,', 'RainTomorrow is Yes,', 'RainTomorrow is No,', 'RainTomorrow is No,', 'RainTomorrow is No,', 'RainTomorrow is No,', 'RainTomorrow is No,', 'RainTomorrow is No,', 'RainTomorrow is No,', 'RainTomorrow is No,', 'RainTomorrow is No,', 'RainTomorrow is No,', 'RainTomorrow is No,', 'RainTomorrow is No,', 'RainTomorrow is No,', 'RainTomorrow is No,', 'RainTomorrow is No,', 'RainTomorrow is No,', 'RainTomorrow is Yes,', 'RainTomorrow is Yes,', 'RainTomorrow is Yes,', 'RainTomorrow is No,', 'RainTomorrow is No,', 'RainTomorrow is No,', 'RainTomorrow is No,', 'RainTomorrow is No,', 'RainTomorrow is No,', 'RainTomorrow is Yes,', 'RainTomorrow is Yes,', 'RainTomorrow is No,', 'RainTomorrow is Yes,', 'RainTomorrow is No,', 'RainTomorrow is No,', 'RainTomorrow is No,', 'RainTomorrow is No,', 'RainTomorrow is No,', 'RainTomorrow is No,', 'RainTomorrow is No,', 'RainTomorrow is No,', 'RainTomorrow is No,', 'RainTomorrow is Yes,', 'RainTomorrow is No,', 'RainTomorrow is No,', 'RainTomorrow is Yes,', 'RainTomorrow is No,', 'RainTomorrow is No,', 'RainTomorrow is No,', 'RainTomorrow is No,', 'RainTomorrow is No,', 'RainTomorrow is No,']\n"
     ]
    },
    {
     "name": "stderr",
     "output_type": "stream",
     "text": [
      " 32%|███▏      | 320/1000 [02:33<05:17,  2.14it/s]"
     ]
    },
    {
     "name": "stdout",
     "output_type": "stream",
     "text": [
      "['RainTomorrow is No,', 'RainTomorrow is No,', 'RainTomorrow is No,', 'RainTomorrow is Yes,', 'RainTomorrow is No,', 'RainTomorrow is No,', 'RainTomorrow is No,', 'RainTomorrow is No,', 'RainTomorrow is No,', 'RainTomorrow is No,', 'RainTomorrow is No,', 'RainTomorrow is No,', 'RainTomorrow is No,', 'RainTomorrow is No,', 'RainTomorrow is No,', 'RainTomorrow is No,', 'RainTomorrow is Yes,', 'RainTomorrow is No,', 'RainTomorrow is No,', 'RainTomorrow is No,', 'RainTomorrow is Yes,', 'RainTomorrow is No,', 'RainTomorrow is No,', 'RainTomorrow is No,', 'RainTomorrow is No,', 'RainTomorrow is No,', 'RainTomorrow is Yes,', 'RainTomorrow is No,', 'RainTomorrow is No,', 'RainTomorrow is Yes,', 'RainTomorrow is No,', 'RainTomorrow is No,', 'RainTomorrow is No,', 'RainTomorrow is Yes,', 'RainTomorrow is Yes,', 'RainTomorrow is No,', 'RainTomorrow is No,', 'RainTomorrow is No,', 'RainTomorrow is Yes,', 'RainTomorrow is No,', 'RainTomorrow is No,', 'RainTomorrow is Yes,', 'RainTomorrow is No,', 'RainTomorrow is No,', 'RainTomorrow is No,', 'RainTomorrow is No,', 'RainTomorrow is No,', 'RainTomorrow is No,', 'RainTomorrow is No,', 'RainTomorrow is No,']\n"
     ]
    },
    {
     "name": "stderr",
     "output_type": "stream",
     "text": [
      " 33%|███▎      | 326/1000 [02:36<05:16,  2.13it/s]"
     ]
    },
    {
     "name": "stdout",
     "output_type": "stream",
     "text": [
      "['RainTomorrow is No,', 'RainTomorrow is No,', 'RainTomorrow is No,', 'RainTomorrow is No,', 'RainTomorrow is Yes,', 'RainTomorrow is Yes,', 'RainTomorrow is Yes,', 'RainTomorrow is No,', 'RainTomorrow is No,', 'RainTomorrow is No,', 'RainTomorrow is No,', 'RainTomorrow is No,', 'RainTomorrow is No,', 'RainTomorrow is No,', 'RainTomorrow is Yes,', 'RainTomorrow is No,', 'RainTomorrow is Yes,', 'RainTomorrow is No,', 'RainTomorrow is No,', 'RainTomorrow is Yes,', 'RainTomorrow is Yes,', 'RainTomorrow is No,', 'RainTomorrow is Yes,', 'RainTomorrow is Yes,', 'RainTomorrow is No,', 'RainTomorrow is Yes,', 'RainTomorrow is No,', 'RainTomorrow is Yes,', 'RainTomorrow is Yes,', 'RainTomorrow is No,', 'RainTomorrow is No,', 'RainTomorrow is No,', 'RainTomorrow is No,', 'RainTomorrow is No,', 'RainTomorrow is No,', 'RainTomorrow is No,', 'RainTomorrow is Yes,', 'RainTomorrow is No,', 'RainTomorrow is No,', 'RainTomorrow is Yes,', 'RainTomorrow is No,', 'RainTomorrow is Yes,', 'RainTomorrow is No,', 'RainTomorrow is No,', 'RainTomorrow is No,', 'RainTomorrow is No,', 'RainTomorrow is No,', 'RainTomorrow is No,', 'RainTomorrow is No,', 'RainTomorrow is No,']\n"
     ]
    },
    {
     "name": "stderr",
     "output_type": "stream",
     "text": [
      " 34%|███▎      | 336/1000 [02:39<04:19,  2.56it/s]"
     ]
    },
    {
     "name": "stdout",
     "output_type": "stream",
     "text": [
      "['RainTomorrow is No,', 'RainTomorrow is No,', 'RainTomorrow is No,', 'RainTomorrow is Yes,', 'RainTomorrow is No,', 'RainTomorrow is No,', 'RainTomorrow is No,', 'RainTomorrow is Yes,', 'RainTomorrow is No,', 'RainTomorrow is Yes,', 'RainTomorrow is No,', 'RainTomorrow is No,', 'RainTomorrow is No,', 'RainTomorrow is No,', 'RainTomorrow is Yes,', 'RainTomorrow is No,', 'RainTomorrow is No,', 'RainTomorrow is No,', 'RainTomorrow is No,', 'RainTomorrow is No,', 'RainTomorrow is No,', 'RainTomorrow is No,', 'RainTomorrow is No,', 'RainTomorrow is No,', 'RainTomorrow is No,', 'RainTomorrow is Yes,', 'RainTomorrow is No,', 'RainTomorrow is Yes,', 'RainTomorrow is No,', 'RainTomorrow is Yes,', 'RainTomorrow is No,', 'RainTomorrow is Yes,', 'RainTomorrow is No,', 'RainTomorrow is Yes,', 'RainTomorrow is Yes,', 'RainTomorrow is No,', 'RainTomorrow is Yes,', 'RainTomorrow is No,', 'RainTomorrow is No,', 'RainTomorrow is No,', 'RainTomorrow is Yes,', 'RainTomorrow is Yes,', 'RainTomorrow is No,', 'RainTomorrow is No,', 'RainTomorrow is Yes,', 'RainTomorrow is No,', 'RainTomorrow is No,', 'RainTomorrow is No,', 'RainTomorrow is Yes,', 'RainTomorrow is No,']\n"
     ]
    },
    {
     "name": "stderr",
     "output_type": "stream",
     "text": [
      " 34%|███▍      | 339/1000 [02:42<05:15,  2.09it/s]"
     ]
    },
    {
     "name": "stdout",
     "output_type": "stream",
     "text": [
      "['RainTomorrow is No,', 'RainTomorrow is No,', 'RainTomorrow is No,', 'RainTomorrow is No,', 'RainTomorrow is No,', 'RainTomorrow is No,', 'RainTomorrow is No,', 'RainTomorrow is No,', 'RainTomorrow is No,', 'RainTomorrow is No,', 'RainTomorrow is No,', 'RainTomorrow is No,', 'RainTomorrow is Yes,', 'RainTomorrow is No,', 'RainTomorrow is No,', 'RainTomorrow is No,', 'RainTomorrow is No,', 'RainTomorrow is No,', 'RainTomorrow is No,', 'RainTomorrow is No,', 'RainTomorrow is No,', 'RainTomorrow is No,', 'RainTomorrow is No,', 'RainTomorrow is No,', 'RainTomorrow is No,', 'RainTomorrow is No,', 'RainTomorrow is Yes,', 'RainTomorrow is Yes,', 'RainTomorrow is No,', 'RainTomorrow is No,', 'RainTomorrow is Yes,', 'RainTomorrow is No,', 'RainTomorrow is No,', 'RainTomorrow is No,', 'RainTomorrow is No,', 'RainTomorrow is No,', 'RainTomorrow is No,', 'RainTomorrow is Yes,', 'RainTomorrow is No,', 'RainTomorrow is No,', 'RainTomorrow is No,', 'RainTomorrow is No,', 'RainTomorrow is No,', 'RainTomorrow is No,', 'RainTomorrow is No,', 'RainTomorrow is No,', 'RainTomorrow is No,', 'RainTomorrow is No,', 'RainTomorrow is No,', 'RainTomorrow is No,']\n"
     ]
    },
    {
     "name": "stderr",
     "output_type": "stream",
     "text": [
      " 35%|███▍      | 346/1000 [02:45<05:04,  2.15it/s]"
     ]
    },
    {
     "name": "stdout",
     "output_type": "stream",
     "text": [
      "['RainTomorrow is No,', 'RainTomorrow is Yes,', 'RainTomorrow is No,', 'RainTomorrow is No,', 'RainTomorrow is No,', 'RainTomorrow is No,', 'RainTomorrow is No,', 'RainTomorrow is Yes,', 'RainTomorrow is No,', 'RainTomorrow is No,', 'RainTomorrow is Yes,', 'RainTomorrow is Yes,', 'RainTomorrow is No,', 'RainTomorrow is Yes,', 'RainTomorrow is No,', 'RainTomorrow is No,', 'RainTomorrow is No,', 'RainTomorrow is No,', 'RainTomorrow is Yes,', 'RainTomorrow is No,', 'RainTomorrow is Yes,', 'RainTomorrow is No,', 'RainTomorrow is No,', 'RainTomorrow is No,', 'RainTomorrow is No,', 'RainTomorrow is No,', 'RainTomorrow is No,', 'RainTomorrow is Yes,', 'RainTomorrow is No,', 'RainTomorrow is No,', 'RainTomorrow is No,', 'RainTomorrow is Yes,', 'RainTomorrow is No,', 'RainTomorrow is Yes,', 'RainTomorrow is No,', 'RainTomorrow is No,', 'RainTomorrow is No,', 'RainTomorrow is No,', 'RainTomorrow is Yes,', 'RainTomorrow is No,', 'RainTomorrow is No,', 'RainTomorrow is No,', 'RainTomorrow is No,', 'RainTomorrow is No,', 'RainTomorrow is No,', 'RainTomorrow is No,', 'RainTomorrow is Yes,', 'RainTomorrow is No,', 'RainTomorrow is No,', 'RainTomorrow is No,']\n"
     ]
    },
    {
     "name": "stderr",
     "output_type": "stream",
     "text": [
      " 35%|███▌      | 350/1000 [02:48<05:37,  1.93it/s]"
     ]
    },
    {
     "name": "stdout",
     "output_type": "stream",
     "text": [
      "['RainTomorrow is No,', 'RainTomorrow is No,', 'RainTomorrow is No,', 'RainTomorrow is Yes,', 'RainTomorrow is No,', 'RainTomorrow is No,', 'RainTomorrow is No,', 'RainTomorrow is No,', 'RainTomorrow is No,', 'RainTomorrow is Yes,', 'RainTomorrow is No,', 'RainTomorrow is No,', 'RainTomorrow is Yes,', 'RainTomorrow is No,', 'RainTomorrow is No,', 'RainTomorrow is Yes,', 'RainTomorrow is No,', 'RainTomorrow is Yes,', 'RainTomorrow is No,', 'RainTomorrow is No,', 'RainTomorrow is No,', 'RainTomorrow is Yes,', 'RainTomorrow is Yes,', 'RainTomorrow is No,', 'RainTomorrow is No,', 'RainTomorrow is Yes,', 'RainTomorrow is Yes,', 'RainTomorrow is No,', 'RainTomorrow is No,', 'RainTomorrow is No,', 'RainTomorrow is Yes,', 'RainTomorrow is No,', 'RainTomorrow is Yes,', 'RainTomorrow is No,', 'RainTomorrow is No,', 'RainTomorrow is No,', 'RainTomorrow is No,', 'RainTomorrow is No,', 'RainTomorrow is No,', 'RainTomorrow is Yes,', 'RainTomorrow is Yes,', 'RainTomorrow is Yes,', 'RainTomorrow is Yes,', 'RainTomorrow is Yes,', 'RainTomorrow is No,', 'RainTomorrow is No,', 'RainTomorrow is Yes,', 'RainTomorrow is No,', 'RainTomorrow is No,', 'RainTomorrow is No,']\n"
     ]
    },
    {
     "name": "stderr",
     "output_type": "stream",
     "text": [
      " 36%|███▌      | 356/1000 [02:51<05:30,  1.95it/s]"
     ]
    },
    {
     "name": "stdout",
     "output_type": "stream",
     "text": [
      "['RainTomorrow is No,', 'RainTomorrow is No,', 'RainTomorrow is No,', 'RainTomorrow is No,', 'RainTomorrow is No,', 'RainTomorrow is No,', 'RainTomorrow is No,', 'RainTomorrow is No,', 'RainTomorrow is No,', 'RainTomorrow is Yes,', 'RainTomorrow is No,', 'RainTomorrow is No,', 'RainTomorrow is Yes,', 'RainTomorrow is Yes,', 'RainTomorrow is No,', 'RainTomorrow is No,', 'RainTomorrow is Yes,', 'RainTomorrow is Yes,', 'RainTomorrow is No,', 'RainTomorrow is No,', 'RainTomorrow is No,', 'RainTomorrow is No,', 'RainTomorrow is No,', 'RainTomorrow is No,', 'RainTomorrow is No,', 'RainTomorrow is Yes,', 'RainTomorrow is Yes,', 'RainTomorrow is No,', 'RainTomorrow is No,', 'RainTomorrow is No,', 'RainTomorrow is No,', 'RainTomorrow is No,', 'RainTomorrow is No,', 'RainTomorrow is Yes,', 'RainTomorrow is No,', 'RainTomorrow is No,', 'RainTomorrow is No,', 'RainTomorrow is No,', 'RainTomorrow is No,', 'RainTomorrow is No,', 'RainTomorrow is No,', 'RainTomorrow is No,', 'RainTomorrow is No,', 'RainTomorrow is No,', 'RainTomorrow is No,', 'RainTomorrow is No,', 'RainTomorrow is No,', 'RainTomorrow is No,', 'RainTomorrow is Yes,', 'RainTomorrow is No,']\n"
     ]
    },
    {
     "name": "stderr",
     "output_type": "stream",
     "text": [
      " 36%|███▌      | 362/1000 [02:54<05:21,  1.98it/s]"
     ]
    },
    {
     "name": "stdout",
     "output_type": "stream",
     "text": [
      "['RainTomorrow is Yes,', 'RainTomorrow is Yes,', 'RainTomorrow is No,', 'RainTomorrow is No,', 'RainTomorrow is No,', 'RainTomorrow is No,', 'RainTomorrow is No,', 'RainTomorrow is No,', 'RainTomorrow is Yes,', 'RainTomorrow is No,', 'RainTomorrow is Yes,', 'RainTomorrow is Yes,', 'RainTomorrow is No,', 'RainTomorrow is No,', 'RainTomorrow is No,', 'RainTomorrow is No,', 'RainTomorrow is No,', 'RainTomorrow is Yes,', 'RainTomorrow is Yes,', 'RainTomorrow is No,', 'RainTomorrow is Yes,', 'RainTomorrow is No,', 'RainTomorrow is No,', 'RainTomorrow is Yes,', 'RainTomorrow is No,', 'RainTomorrow is No,', 'RainTomorrow is No,', 'RainTomorrow is Yes,', 'RainTomorrow is No,', 'RainTomorrow is No,', 'RainTomorrow is No,', 'RainTomorrow is Yes,', 'RainTomorrow is No,', 'RainTomorrow is No,', 'RainTomorrow is No,', 'RainTomorrow is Yes,', 'RainTomorrow is No,', 'RainTomorrow is Yes,', 'RainTomorrow is No,', 'RainTomorrow is No,', 'RainTomorrow is No,', 'RainTomorrow is No,', 'RainTomorrow is No,', 'RainTomorrow is No,', 'RainTomorrow is No,', 'RainTomorrow is No,', 'RainTomorrow is Yes,', 'RainTomorrow is Yes,', 'RainTomorrow is No,', 'RainTomorrow is Yes,']\n"
     ]
    },
    {
     "name": "stderr",
     "output_type": "stream",
     "text": [
      " 37%|███▋      | 369/1000 [02:56<04:53,  2.15it/s]"
     ]
    },
    {
     "name": "stdout",
     "output_type": "stream",
     "text": [
      "['RainTomorrow is No,', 'RainTomorrow is No,', 'RainTomorrow is Yes,', 'RainTomorrow is Yes,', 'RainTomorrow is Yes,', 'RainTomorrow is Yes,', 'RainTomorrow is No,', 'RainTomorrow is No,', 'RainTomorrow is No,', 'RainTomorrow is No,', 'RainTomorrow is Yes,', 'RainTomorrow is No,', 'RainTomorrow is No,', 'RainTomorrow is No,', 'RainTomorrow is No,', 'RainTomorrow is No,', 'RainTomorrow is No,', 'RainTomorrow is Yes,', 'RainTomorrow is No,', 'RainTomorrow is No,', 'RainTomorrow is No,', 'RainTomorrow is No,', 'RainTomorrow is No,', 'RainTomorrow is Yes,', 'RainTomorrow is Yes,', 'RainTomorrow is No,', 'RainTomorrow is No,', 'RainTomorrow is No,', 'RainTomorrow is No,', 'RainTomorrow is Yes,', 'RainTomorrow is No,', 'RainTomorrow is Yes,', 'RainTomorrow is Yes,', 'RainTomorrow is Yes,', 'RainTomorrow is No,', 'RainTomorrow is No,', 'RainTomorrow is No,', 'RainTomorrow is Yes,', 'RainTomorrow is No,', 'RainTomorrow is No,', 'RainTomorrow is No,', 'RainTomorrow is No,', 'RainTomorrow is No,', 'RainTomorrow is Yes,', 'RainTomorrow is Yes,', 'RainTomorrow is Yes,', 'RainTomorrow is Yes,', 'RainTomorrow is Yes,', 'RainTomorrow is No,', 'RainTomorrow is Yes,']\n"
     ]
    },
    {
     "name": "stderr",
     "output_type": "stream",
     "text": [
      " 38%|███▊      | 375/1000 [02:59<04:58,  2.10it/s]"
     ]
    },
    {
     "name": "stdout",
     "output_type": "stream",
     "text": [
      "['RainTomorrow is No,', 'RainTomorrow is No,', 'RainTomorrow is No,', 'RainTomorrow is No,', 'RainTomorrow is Yes,', 'RainTomorrow is No,', 'RainTomorrow is No,', 'RainTomorrow is No,', 'RainTomorrow is No,', 'RainTomorrow is No,', 'RainTomorrow is Yes,', 'RainTomorrow is No,', 'RainTomorrow is No,', 'RainTomorrow is No,', 'RainTomorrow is No,', 'RainTomorrow is No,', 'RainTomorrow is No,', 'RainTomorrow is No,', 'RainTomorrow is No,', 'RainTomorrow is No,', 'RainTomorrow is Yes,', 'RainTomorrow is No,', 'RainTomorrow is No,', 'RainTomorrow is No,', 'RainTomorrow is No,', 'RainTomorrow is Yes,', 'RainTomorrow is No,', 'RainTomorrow is Yes,', 'RainTomorrow is No,', 'RainTomorrow is No,', 'RainTomorrow is Yes,', 'RainTomorrow is No,', 'RainTomorrow is No,', 'RainTomorrow is No,', 'RainTomorrow is No,', 'RainTomorrow is No,', 'RainTomorrow is No,', 'RainTomorrow is Yes,', 'RainTomorrow is No,', 'RainTomorrow is Yes,', 'RainTomorrow is No,', 'RainTomorrow is No,', 'RainTomorrow is No,', 'RainTomorrow is No,', 'RainTomorrow is Yes,', 'RainTomorrow is No,', 'RainTomorrow is No,', 'RainTomorrow is No,', 'RainTomorrow is No,', 'RainTomorrow is No,']\n"
     ]
    },
    {
     "name": "stderr",
     "output_type": "stream",
     "text": [
      " 38%|███▊      | 382/1000 [03:02<04:39,  2.21it/s]"
     ]
    },
    {
     "name": "stdout",
     "output_type": "stream",
     "text": [
      "['RainTomorrow is No,', 'RainTomorrow is No,', 'RainTomorrow is No,', 'RainTomorrow is Yes,', 'RainTomorrow is No,', 'RainTomorrow is Yes,', 'RainTomorrow is No,', 'RainTomorrow is No,', 'RainTomorrow is No,', 'RainTomorrow is No,', 'RainTomorrow is No,', 'RainTomorrow is No,', 'RainTomorrow is Yes,', 'RainTomorrow is Yes,', 'RainTomorrow is No,', 'RainTomorrow is Yes,', 'RainTomorrow is Yes,', 'RainTomorrow is Yes,', 'RainTomorrow is No,', 'RainTomorrow is No,', 'RainTomorrow is Yes,', 'RainTomorrow is No,', 'RainTomorrow is No,', 'RainTomorrow is Yes,', 'RainTomorrow is Yes,', 'RainTomorrow is No,', 'RainTomorrow is Yes,', 'RainTomorrow is No,', 'RainTomorrow is No,', 'RainTomorrow is No,', 'RainTomorrow is No,', 'RainTomorrow is No,', 'RainTomorrow is No,', 'RainTomorrow is No,', 'RainTomorrow is No,', 'RainTomorrow is No,', 'RainTomorrow is No,', 'RainTomorrow is Yes,', 'RainTomorrow is No,', 'RainTomorrow is No,', 'RainTomorrow is No,', 'RainTomorrow is No,', 'RainTomorrow is No,', 'RainTomorrow is No,', 'RainTomorrow is No,', 'RainTomorrow is Yes,', 'RainTomorrow is No,', 'RainTomorrow is No,', 'RainTomorrow is No,', 'RainTomorrow is No,']\n"
     ]
    },
    {
     "name": "stderr",
     "output_type": "stream",
     "text": [
      " 39%|███▊      | 386/1000 [03:05<05:10,  1.98it/s]"
     ]
    },
    {
     "name": "stdout",
     "output_type": "stream",
     "text": [
      "['RainTomorrow is No,', 'RainTomorrow is No,', 'RainTomorrow is Yes,', 'RainTomorrow is Yes,', 'RainTomorrow is No,', 'RainTomorrow is No,', 'RainTomorrow is No,', 'RainTomorrow is No,', 'RainTomorrow is No,', 'RainTomorrow is Yes,', 'RainTomorrow is No,', 'RainTomorrow is No,', 'RainTomorrow is Yes,', 'RainTomorrow is No,', 'RainTomorrow is Yes,', 'RainTomorrow is No,', 'RainTomorrow is No,', 'RainTomorrow is No,', 'RainTomorrow is No,', 'RainTomorrow is Yes,', 'RainTomorrow is No,', 'RainTomorrow is No,', 'RainTomorrow is No,', 'RainTomorrow is No,', 'RainTomorrow is No,', 'RainTomorrow is No,', 'RainTomorrow is No,', 'RainTomorrow is No,', 'RainTomorrow is No,', 'RainTomorrow is No,', 'RainTomorrow is No,', 'RainTomorrow is No,', 'RainTomorrow is No,', 'RainTomorrow is No,', 'RainTomorrow is No,', 'RainTomorrow is No,', 'RainTomorrow is No,', 'RainTomorrow is No,', 'RainTomorrow is No,', 'RainTomorrow is No,', 'RainTomorrow is No,', 'RainTomorrow is Yes,', 'RainTomorrow is Yes,', 'RainTomorrow is No,', 'RainTomorrow is No,', 'RainTomorrow is No,', 'RainTomorrow is Yes,', 'RainTomorrow is Yes,', 'RainTomorrow is No,', 'RainTomorrow is No,']\n"
     ]
    },
    {
     "name": "stderr",
     "output_type": "stream",
     "text": [
      " 39%|███▉      | 389/1000 [03:08<06:02,  1.69it/s]"
     ]
    },
    {
     "name": "stdout",
     "output_type": "stream",
     "text": [
      "['RainTomorrow is No,', 'RainTomorrow is No,', 'RainTomorrow is No,', 'RainTomorrow is No,', 'RainTomorrow is Yes,', 'RainTomorrow is No,', 'RainTomorrow is No,', 'RainTomorrow is Yes,', 'RainTomorrow is No,', 'RainTomorrow is No,', 'RainTomorrow is No,', 'RainTomorrow is Yes,', 'RainTomorrow is No,', 'RainTomorrow is No,', 'RainTomorrow is No,', 'RainTomorrow is No,', 'RainTomorrow is No,', 'RainTomorrow is No,', 'RainTomorrow is No,', 'RainTomorrow is No,', 'RainTomorrow is Yes,', 'RainTomorrow is No,', 'RainTomorrow is No,', 'RainTomorrow is No,', 'RainTomorrow is No,', 'RainTomorrow is Yes,', 'RainTomorrow is No,', 'RainTomorrow is Yes,', 'RainTomorrow is No,', 'RainTomorrow is No,', 'RainTomorrow is No,', 'RainTomorrow is No,', 'RainTomorrow is Yes,', 'RainTomorrow is Yes,', 'RainTomorrow is No,', 'RainTomorrow is No,', 'RainTomorrow is No,', 'RainTomorrow is Yes,', 'RainTomorrow is Yes,', 'RainTomorrow is No,', 'RainTomorrow is No,', 'RainTomorrow is Yes,', 'RainTomorrow is No,', 'RainTomorrow is No,', 'RainTomorrow is No,', 'RainTomorrow is No,', 'RainTomorrow is No,', 'RainTomorrow is No,', 'RainTomorrow is Yes,', 'RainTomorrow is No,']\n"
     ]
    },
    {
     "name": "stderr",
     "output_type": "stream",
     "text": [
      " 40%|███▉      | 397/1000 [03:11<04:57,  2.03it/s]"
     ]
    },
    {
     "name": "stdout",
     "output_type": "stream",
     "text": [
      "['RainTomorrow is Yes,', 'RainTomorrow is Yes,', 'RainTomorrow is No,', 'RainTomorrow is Yes,', 'RainTomorrow is No,', 'RainTomorrow is Yes,', 'RainTomorrow is Yes,', 'RainTomorrow is No,', 'RainTomorrow is Yes,', 'RainTomorrow is No,', 'RainTomorrow is Yes,', 'RainTomorrow is No,', 'RainTomorrow is No,', 'RainTomorrow is No,', 'RainTomorrow is Yes,', 'RainTomorrow is No,', 'RainTomorrow is No,', 'RainTomorrow is No,', 'RainTomorrow is No,', 'RainTomorrow is No,', 'RainTomorrow is No,', 'RainTomorrow is No,', 'RainTomorrow is No,', 'RainTomorrow is Yes,', 'RainTomorrow is No,', 'RainTomorrow is No,', 'RainTomorrow is No,', 'RainTomorrow is No,', 'RainTomorrow is No,', 'RainTomorrow is No,', 'RainTomorrow is No,', 'RainTomorrow is No,', 'RainTomorrow is No,', 'RainTomorrow is No,', 'RainTomorrow is No,', 'RainTomorrow is No,', 'RainTomorrow is No,', 'RainTomorrow is No,', 'RainTomorrow is No,', 'RainTomorrow is No,', 'RainTomorrow is No,', 'RainTomorrow is No,', 'RainTomorrow is No,', 'RainTomorrow is No,', 'RainTomorrow is Yes,', 'RainTomorrow is No,', 'RainTomorrow is No,', 'RainTomorrow is No,', 'RainTomorrow is No,', 'RainTomorrow is No,']\n"
     ]
    },
    {
     "name": "stderr",
     "output_type": "stream",
     "text": [
      " 40%|████      | 401/1000 [03:14<05:28,  1.83it/s]"
     ]
    },
    {
     "name": "stdout",
     "output_type": "stream",
     "text": [
      "['RainTomorrow is No,', 'RainTomorrow is No,', 'RainTomorrow is No,', 'RainTomorrow is No,', 'RainTomorrow is No,', 'RainTomorrow is No,', 'RainTomorrow is No,', 'RainTomorrow is Yes,', 'RainTomorrow is Yes,', 'RainTomorrow is No,', 'RainTomorrow is No,', 'RainTomorrow is No,', 'RainTomorrow is No,', 'RainTomorrow is Yes,', 'RainTomorrow is No,', 'RainTomorrow is No,', 'RainTomorrow is No,', 'RainTomorrow is Yes,', 'RainTomorrow is Yes,', 'RainTomorrow is No,', 'RainTomorrow is Yes,', 'RainTomorrow is Yes,', 'RainTomorrow is Yes,', 'RainTomorrow is Yes,', 'RainTomorrow is No,', 'RainTomorrow is No,', 'RainTomorrow is Yes,', 'RainTomorrow is No,', 'RainTomorrow is No,', 'RainTomorrow is No,', 'RainTomorrow is No,', 'RainTomorrow is Yes,', 'RainTomorrow is No,', 'RainTomorrow is Yes,', 'RainTomorrow is No,', 'RainTomorrow is No,', 'RainTomorrow is No,', 'RainTomorrow is No,', 'RainTomorrow is No,', 'RainTomorrow is No,', 'RainTomorrow is No,', 'RainTomorrow is No,', 'RainTomorrow is No,', 'RainTomorrow is No,', 'RainTomorrow is No,', 'RainTomorrow is No,', 'RainTomorrow is No,', 'RainTomorrow is No,', 'RainTomorrow is No,', 'RainTomorrow is No,']\n"
     ]
    },
    {
     "name": "stderr",
     "output_type": "stream",
     "text": [
      " 41%|████      | 410/1000 [03:17<04:29,  2.19it/s]"
     ]
    },
    {
     "name": "stdout",
     "output_type": "stream",
     "text": [
      "['RainTomorrow is No,', 'RainTomorrow is No,', 'RainTomorrow is Yes,', 'RainTomorrow is No,', 'RainTomorrow is No,', 'RainTomorrow is Yes,', 'RainTomorrow is No,', 'RainTomorrow is No,', 'RainTomorrow is No,', 'RainTomorrow is Yes,', 'RainTomorrow is Yes,', 'RainTomorrow is Yes,', 'RainTomorrow is No,', 'RainTomorrow is No,', 'RainTomorrow is Yes,', 'RainTomorrow is Yes,', 'RainTomorrow is No,', 'RainTomorrow is No,', 'RainTomorrow is Yes,', 'RainTomorrow is No,', 'RainTomorrow is Yes,', 'RainTomorrow is No,', 'RainTomorrow is No,', 'RainTomorrow is Yes,', 'RainTomorrow is No,', 'RainTomorrow is No,', 'RainTomorrow is No,', 'RainTomorrow is Yes,', 'RainTomorrow is No,', 'RainTomorrow is Yes,', 'RainTomorrow is No,', 'RainTomorrow is No,', 'RainTomorrow is No,', 'RainTomorrow is No,', 'RainTomorrow is No,', 'RainTomorrow is No,', 'RainTomorrow is No,', 'RainTomorrow is Yes,', 'RainTomorrow is Yes,', 'RainTomorrow is No,', 'RainTomorrow is No,', 'RainTomorrow is Yes,', 'RainTomorrow is No,', 'RainTomorrow is No,', 'RainTomorrow is No,', 'RainTomorrow is No,', 'RainTomorrow is No,', 'RainTomorrow is No,', 'RainTomorrow is No,', 'RainTomorrow is No,']\n"
     ]
    },
    {
     "name": "stderr",
     "output_type": "stream",
     "text": [
      " 42%|████▏     | 415/1000 [03:20<04:44,  2.06it/s]"
     ]
    },
    {
     "name": "stdout",
     "output_type": "stream",
     "text": [
      "['RainTomorrow is No,', 'RainTomorrow is No,', 'RainTomorrow is No,', 'RainTomorrow is No,', 'RainTomorrow is Yes,', 'RainTomorrow is Yes,', 'RainTomorrow is Yes,', 'RainTomorrow is Yes,', 'RainTomorrow is No,', 'RainTomorrow is No,', 'RainTomorrow is No,', 'RainTomorrow is No,', 'RainTomorrow is Yes,', 'RainTomorrow is No,', 'RainTomorrow is Yes,', 'RainTomorrow is No,', 'RainTomorrow is Yes,', 'RainTomorrow is No,', 'RainTomorrow is Yes,', 'RainTomorrow is No,', 'RainTomorrow is No,', 'RainTomorrow is No,', 'RainTomorrow is No,', 'RainTomorrow is No,', 'RainTomorrow is No,', 'RainTomorrow is No,', 'RainTomorrow is No,', 'RainTomorrow is No,', 'RainTomorrow is No,', 'RainTomorrow is Yes,', 'RainTomorrow is No,', 'RainTomorrow is No,', 'RainTomorrow is No,', 'RainTomorrow is No,', 'RainTomorrow is Yes,', 'RainTomorrow is Yes,', 'RainTomorrow is Yes,', 'RainTomorrow is No,', 'RainTomorrow is Yes,', 'RainTomorrow is Yes,', 'RainTomorrow is Yes,', 'RainTomorrow is Yes,', 'RainTomorrow is No,', 'RainTomorrow is No,', 'RainTomorrow is No,', 'RainTomorrow is No,', 'RainTomorrow is No,', 'RainTomorrow is No,', 'RainTomorrow is No,', 'RainTomorrow is No,']\n"
     ]
    },
    {
     "name": "stderr",
     "output_type": "stream",
     "text": [
      " 42%|████▏     | 420/1000 [03:22<04:51,  1.99it/s]"
     ]
    },
    {
     "name": "stdout",
     "output_type": "stream",
     "text": [
      "['RainTomorrow is No,', 'RainTomorrow is Yes,', 'RainTomorrow is No,', 'RainTomorrow is No,', 'RainTomorrow is Yes,', 'RainTomorrow is Yes,', 'RainTomorrow is Yes,', 'RainTomorrow is No,', 'RainTomorrow is No,', 'RainTomorrow is Yes,', 'RainTomorrow is No,', 'RainTomorrow is Yes,', 'RainTomorrow is No,', 'RainTomorrow is No,', 'RainTomorrow is Yes,', 'RainTomorrow is No,', 'RainTomorrow is No,', 'RainTomorrow is Yes,', 'RainTomorrow is No,', 'RainTomorrow is No,', 'RainTomorrow is Yes,', 'RainTomorrow is Yes,', 'RainTomorrow is No,', 'RainTomorrow is No,', 'RainTomorrow is No,', 'RainTomorrow is No,', 'RainTomorrow is No,', 'RainTomorrow is Yes,', 'RainTomorrow is No,', 'RainTomorrow is No,', 'RainTomorrow is No,', 'RainTomorrow is Yes,', 'RainTomorrow is No,', 'RainTomorrow is No,', 'RainTomorrow is No,', 'RainTomorrow is No,', 'RainTomorrow is No,', 'RainTomorrow is No,', 'RainTomorrow is No,', 'RainTomorrow is No,', 'RainTomorrow is Yes,', 'RainTomorrow is No,', 'RainTomorrow is No,', 'RainTomorrow is No,', 'RainTomorrow is No,', 'RainTomorrow is Yes,', 'RainTomorrow is No,', 'RainTomorrow is No,', 'RainTomorrow is No,', 'RainTomorrow is No,']\n"
     ]
    },
    {
     "name": "stderr",
     "output_type": "stream",
     "text": [
      " 42%|████▏     | 424/1000 [03:25<05:20,  1.80it/s]"
     ]
    },
    {
     "name": "stdout",
     "output_type": "stream",
     "text": [
      "['RainTomorrow is Yes,', 'RainTomorrow is No,', 'RainTomorrow is No,', 'RainTomorrow is No,', 'RainTomorrow is No,', 'RainTomorrow is No,', 'RainTomorrow is No,', 'RainTomorrow is No,', 'RainTomorrow is No,', 'RainTomorrow is No,', 'RainTomorrow is No,', 'RainTomorrow is No,', 'RainTomorrow is No,', 'RainTomorrow is No,', 'RainTomorrow is No,', 'RainTomorrow is Yes,', 'RainTomorrow is No,', 'RainTomorrow is No,', 'RainTomorrow is Yes,', 'RainTomorrow is No,', 'RainTomorrow is No,', 'RainTomorrow is No,', 'RainTomorrow is Yes,', 'RainTomorrow is Yes,', 'RainTomorrow is No,', 'RainTomorrow is No,', 'RainTomorrow is No,', 'RainTomorrow is No,', 'RainTomorrow is Yes,', 'RainTomorrow is No,', 'RainTomorrow is No,', 'RainTomorrow is Yes,', 'RainTomorrow is No,', 'RainTomorrow is No,', 'RainTomorrow is No,', 'RainTomorrow is No,', 'RainTomorrow is No,', 'RainTomorrow is No,', 'RainTomorrow is No,', 'RainTomorrow is No,', 'RainTomorrow is No,', 'RainTomorrow is Yes,', 'RainTomorrow is Yes,', 'RainTomorrow is No,', 'RainTomorrow is No,', 'RainTomorrow is Yes,', 'RainTomorrow is Yes,', 'RainTomorrow is No,', 'RainTomorrow is Yes,', 'RainTomorrow is No,']\n"
     ]
    },
    {
     "name": "stderr",
     "output_type": "stream",
     "text": [
      " 43%|████▎     | 431/1000 [03:28<04:46,  1.99it/s]"
     ]
    },
    {
     "name": "stdout",
     "output_type": "stream",
     "text": [
      "['RainTomorrow is Yes,', 'RainTomorrow is No,', 'RainTomorrow is No,', 'RainTomorrow is No,', 'RainTomorrow is Yes,', 'RainTomorrow is No,', 'RainTomorrow is No,', 'RainTomorrow is No,', 'RainTomorrow is No,', 'RainTomorrow is No,', 'RainTomorrow is Yes,', 'RainTomorrow is Yes,', 'RainTomorrow is No,', 'RainTomorrow is No,', 'RainTomorrow is No,', 'RainTomorrow is Yes,', 'RainTomorrow is No,', 'RainTomorrow is No,', 'RainTomorrow is Yes,', 'RainTomorrow is No,', 'RainTomorrow is Yes,', 'RainTomorrow is No,', 'RainTomorrow is No,', 'RainTomorrow is No,', 'RainTomorrow is Yes,', 'RainTomorrow is No,', 'RainTomorrow is No,', 'RainTomorrow is No,', 'RainTomorrow is No,', 'RainTomorrow is No,', 'RainTomorrow is No,', 'RainTomorrow is Yes,', 'RainTomorrow is No,', 'RainTomorrow is No,', 'RainTomorrow is Yes,', 'RainTomorrow is No,', 'RainTomorrow is No,', 'RainTomorrow is No,', 'RainTomorrow is Yes,', 'RainTomorrow is No,', 'RainTomorrow is Yes,', 'RainTomorrow is Yes,', 'RainTomorrow is No,', 'RainTomorrow is No,', 'RainTomorrow is No,', 'RainTomorrow is No,', 'RainTomorrow is No,', 'RainTomorrow is No,', 'RainTomorrow is No,', 'RainTomorrow is No,']\n"
     ]
    },
    {
     "name": "stderr",
     "output_type": "stream",
     "text": [
      " 44%|████▍     | 439/1000 [03:31<04:08,  2.25it/s]"
     ]
    },
    {
     "name": "stdout",
     "output_type": "stream",
     "text": [
      "['RainTomorrow is No,', 'RainTomorrow is No,', 'RainTomorrow is No,', 'RainTomorrow is No,', 'RainTomorrow is No,', 'RainTomorrow is No,', 'RainTomorrow is Yes,', 'RainTomorrow is No,', 'RainTomorrow is No,', 'RainTomorrow is No,', 'RainTomorrow is Yes,', 'RainTomorrow is No,', 'RainTomorrow is No,', 'RainTomorrow is No,', 'RainTomorrow is No,', 'RainTomorrow is No,', 'RainTomorrow is No,', 'RainTomorrow is No,', 'RainTomorrow is Yes,', 'RainTomorrow is Yes,', 'RainTomorrow is Yes,', 'RainTomorrow is No,', 'RainTomorrow is No,', 'RainTomorrow is No,', 'RainTomorrow is No,', 'RainTomorrow is Yes,', 'RainTomorrow is No,', 'RainTomorrow is No,', 'RainTomorrow is Yes,', 'RainTomorrow is No,', 'RainTomorrow is No,', 'RainTomorrow is No,', 'RainTomorrow is No,', 'RainTomorrow is No,', 'RainTomorrow is No,', 'RainTomorrow is Yes,', 'RainTomorrow is No,', 'RainTomorrow is No,', 'RainTomorrow is No,', 'RainTomorrow is Yes,', 'RainTomorrow is No,', 'RainTomorrow is No,', 'RainTomorrow is No,', 'RainTomorrow is No,', 'RainTomorrow is Yes,', 'RainTomorrow is No,', 'RainTomorrow is No,', 'RainTomorrow is No,', 'RainTomorrow is No,', 'RainTomorrow is No,']\n"
     ]
    },
    {
     "name": "stderr",
     "output_type": "stream",
     "text": [
      " 45%|████▍     | 449/1000 [03:34<03:30,  2.61it/s]"
     ]
    },
    {
     "name": "stdout",
     "output_type": "stream",
     "text": [
      "['RainTomorrow is No,', 'RainTomorrow is No,', 'RainTomorrow is No,', 'RainTomorrow is No,', 'RainTomorrow is Yes,', 'RainTomorrow is No,', 'RainTomorrow is No,', 'RainTomorrow is Yes,', 'RainTomorrow is No,', 'RainTomorrow is No,', 'RainTomorrow is Yes,', 'RainTomorrow is No,', 'RainTomorrow is No,', 'RainTomorrow is No,', 'RainTomorrow is No,', 'RainTomorrow is Yes,', 'RainTomorrow is No,', 'RainTomorrow is Yes,', 'RainTomorrow is Yes,', 'RainTomorrow is Yes,', 'RainTomorrow is Yes,', 'RainTomorrow is No,', 'RainTomorrow is No,', 'RainTomorrow is No,', 'RainTomorrow is No,', 'RainTomorrow is Yes,', 'RainTomorrow is No,', 'RainTomorrow is No,', 'RainTomorrow is No,', 'RainTomorrow is Yes,', 'RainTomorrow is No,', 'RainTomorrow is Yes,', 'RainTomorrow is Yes,', 'RainTomorrow is No,', 'RainTomorrow is No,', 'RainTomorrow is Yes,', 'RainTomorrow is Yes,', 'RainTomorrow is Yes,', 'RainTomorrow is No,', 'RainTomorrow is No,', 'RainTomorrow is No,', 'RainTomorrow is No,', 'RainTomorrow is No,', 'RainTomorrow is Yes,', 'RainTomorrow is No,', 'RainTomorrow is Yes,', 'RainTomorrow is No,', 'RainTomorrow is Yes,', 'RainTomorrow is No,', 'RainTomorrow is Yes,']\n"
     ]
    },
    {
     "name": "stderr",
     "output_type": "stream",
     "text": [
      " 46%|████▌     | 456/1000 [03:37<03:34,  2.53it/s]"
     ]
    },
    {
     "name": "stdout",
     "output_type": "stream",
     "text": [
      "['RainTomorrow is No,', 'RainTomorrow is No,', 'RainTomorrow is No,', 'RainTomorrow is Yes,', 'RainTomorrow is Yes,', 'RainTomorrow is No,', 'RainTomorrow is No,', 'RainTomorrow is Yes,', 'RainTomorrow is No,', 'RainTomorrow is No,', 'RainTomorrow is No,', 'RainTomorrow is Yes,', 'RainTomorrow is No,', 'RainTomorrow is No,', 'RainTomorrow is No,', 'RainTomorrow is No,', 'RainTomorrow is No,', 'RainTomorrow is No,', 'RainTomorrow is No,', 'RainTomorrow is Yes,', 'RainTomorrow is No,', 'RainTomorrow is No,', 'RainTomorrow is No,', 'RainTomorrow is No,', 'RainTomorrow is No,', 'RainTomorrow is No,', 'RainTomorrow is No,', 'RainTomorrow is No,', 'RainTomorrow is No,', 'RainTomorrow is No,', 'RainTomorrow is No,', 'RainTomorrow is No,', 'RainTomorrow is Yes,', 'RainTomorrow is No,', 'RainTomorrow is No,', 'RainTomorrow is No,', 'RainTomorrow is No,', 'RainTomorrow is No,', 'RainTomorrow is No,', 'RainTomorrow is Yes,', 'RainTomorrow is No,', 'RainTomorrow is No,', 'RainTomorrow is Yes,', 'RainTomorrow is Yes,', 'RainTomorrow is No,', 'RainTomorrow is No,', 'RainTomorrow is Yes,', 'RainTomorrow is No,', 'RainTomorrow is No,', 'RainTomorrow is No,']\n"
     ]
    },
    {
     "name": "stderr",
     "output_type": "stream",
     "text": [
      " 46%|████▋     | 464/1000 [03:40<03:27,  2.58it/s]"
     ]
    },
    {
     "name": "stdout",
     "output_type": "stream",
     "text": [
      "['RainTomorrow is No,', 'RainTomorrow is No,', 'RainTomorrow is No,', 'RainTomorrow is Yes,', 'RainTomorrow is No,', 'RainTomorrow is No,', 'RainTomorrow is Yes,', 'RainTomorrow is Yes,', 'RainTomorrow is Yes,', 'RainTomorrow is No,', 'RainTomorrow is Yes,', 'RainTomorrow is No,', 'RainTomorrow is Yes,', 'RainTomorrow is No,', 'RainTomorrow is No,', 'RainTomorrow is No,', 'RainTomorrow is Yes,', 'RainTomorrow is No,', 'RainTomorrow is Yes,', 'RainTomorrow is No,', 'RainTomorrow is Yes,', 'RainTomorrow is Yes,', 'RainTomorrow is No,', 'RainTomorrow is Yes,', 'RainTomorrow is Yes,', 'RainTomorrow is No,', 'RainTomorrow is No,', 'RainTomorrow is No,', 'RainTomorrow is No,', 'RainTomorrow is No,', 'RainTomorrow is No,', 'RainTomorrow is No,', 'RainTomorrow is No,', 'RainTomorrow is Yes,', 'RainTomorrow is No,', 'RainTomorrow is Yes,', 'RainTomorrow is No,', 'RainTomorrow is Yes,', 'RainTomorrow is No,', 'RainTomorrow is No,', 'RainTomorrow is No,', 'RainTomorrow is Yes,', 'RainTomorrow is No,', 'RainTomorrow is No,', 'RainTomorrow is No,', 'RainTomorrow is No,', 'RainTomorrow is No,', 'RainTomorrow is No,', 'RainTomorrow is No,', 'RainTomorrow is No,']\n"
     ]
    },
    {
     "name": "stderr",
     "output_type": "stream",
     "text": [
      " 47%|████▋     | 472/1000 [03:43<03:21,  2.62it/s]"
     ]
    },
    {
     "name": "stdout",
     "output_type": "stream",
     "text": [
      "['RainTomorrow is No,', 'RainTomorrow is No,', 'RainTomorrow is No,', 'RainTomorrow is Yes,', 'RainTomorrow is No,', 'RainTomorrow is Yes,', 'RainTomorrow is No,', 'RainTomorrow is Yes,', 'RainTomorrow is No,', 'RainTomorrow is No,', 'RainTomorrow is No,', 'RainTomorrow is No,', 'RainTomorrow is Yes,', 'RainTomorrow is No,', 'RainTomorrow is No,', 'RainTomorrow is Yes,', 'RainTomorrow is Yes,', 'RainTomorrow is Yes,', 'RainTomorrow is No,', 'RainTomorrow is No,', 'RainTomorrow is No,', 'RainTomorrow is No,', 'RainTomorrow is No,', 'RainTomorrow is No,', 'RainTomorrow is No,', 'RainTomorrow is No,', 'RainTomorrow is Yes,', 'RainTomorrow is No,', 'RainTomorrow is No,', 'RainTomorrow is No,', 'RainTomorrow is No,', 'RainTomorrow is No,', 'RainTomorrow is No,', 'RainTomorrow is No,', 'RainTomorrow is No,', 'RainTomorrow is Yes,', 'RainTomorrow is No,', 'RainTomorrow is Yes,', 'RainTomorrow is No,', 'RainTomorrow is No,', 'RainTomorrow is No,', 'RainTomorrow is No,', 'RainTomorrow is No,', 'RainTomorrow is Yes,', 'RainTomorrow is No,', 'RainTomorrow is No,', 'RainTomorrow is No,', 'RainTomorrow is Yes,', 'RainTomorrow is Yes,', 'RainTomorrow is No,']\n"
     ]
    },
    {
     "name": "stderr",
     "output_type": "stream",
     "text": [
      " 48%|████▊     | 478/1000 [03:46<03:34,  2.43it/s]"
     ]
    },
    {
     "name": "stdout",
     "output_type": "stream",
     "text": [
      "['RainTomorrow is No,', 'RainTomorrow is No,', 'RainTomorrow is No,', 'RainTomorrow is Yes,', 'RainTomorrow is No,', 'RainTomorrow is Yes,', 'RainTomorrow is Yes,', 'RainTomorrow is No,', 'RainTomorrow is No,', 'RainTomorrow is No,', 'RainTomorrow is No,', 'RainTomorrow is Yes,', 'RainTomorrow is No,', 'RainTomorrow is No,', 'RainTomorrow is No,', 'RainTomorrow is No,', 'RainTomorrow is Yes,', 'RainTomorrow is No,', 'RainTomorrow is Yes,', 'RainTomorrow is No,', 'RainTomorrow is No,', 'RainTomorrow is Yes,', 'RainTomorrow is No,', 'RainTomorrow is Yes,', 'RainTomorrow is Yes,', 'RainTomorrow is No,', 'RainTomorrow is No,', 'RainTomorrow is No,', 'RainTomorrow is No,', 'RainTomorrow is No,', 'RainTomorrow is No,', 'RainTomorrow is No,', 'RainTomorrow is No,', 'RainTomorrow is No,', 'RainTomorrow is No,', 'RainTomorrow is Yes,', 'RainTomorrow is No,', 'RainTomorrow is No,', 'RainTomorrow is No,', 'RainTomorrow is No,', 'RainTomorrow is No,', 'RainTomorrow is No,', 'RainTomorrow is No,', 'RainTomorrow is No,', 'RainTomorrow is No,', 'RainTomorrow is Yes,', 'RainTomorrow is No,', 'RainTomorrow is No,', 'RainTomorrow is No,', 'RainTomorrow is No,']\n"
     ]
    },
    {
     "name": "stderr",
     "output_type": "stream",
     "text": [
      " 49%|████▊     | 487/1000 [03:49<03:16,  2.60it/s]"
     ]
    },
    {
     "name": "stdout",
     "output_type": "stream",
     "text": [
      "['RainTomorrow is No,', 'RainTomorrow is No,', 'RainTomorrow is No,', 'RainTomorrow is No,', 'RainTomorrow is No,', 'RainTomorrow is No,', 'RainTomorrow is No,', 'RainTomorrow is No,', 'RainTomorrow is Yes,', 'RainTomorrow is No,', 'RainTomorrow is Yes,', 'RainTomorrow is No,', 'RainTomorrow is No,', 'RainTomorrow is No,', 'RainTomorrow is No,', 'RainTomorrow is No,', 'RainTomorrow is No,', 'RainTomorrow is No,', 'RainTomorrow is Yes,', 'RainTomorrow is No,', 'RainTomorrow is No,', 'RainTomorrow is No,', 'RainTomorrow is No,', 'RainTomorrow is Yes,', 'RainTomorrow is Yes,', 'RainTomorrow is No,', 'RainTomorrow is No,', 'RainTomorrow is Yes,', 'RainTomorrow is No,', 'RainTomorrow is No,', 'RainTomorrow is No,', 'RainTomorrow is No,', 'RainTomorrow is Yes,', 'RainTomorrow is Yes,', 'RainTomorrow is Yes,', 'RainTomorrow is No,', 'RainTomorrow is Yes,', 'RainTomorrow is No,', 'RainTomorrow is No,', 'RainTomorrow is No,', 'RainTomorrow is No,', 'RainTomorrow is No,', 'RainTomorrow is Yes,', 'RainTomorrow is No,', 'RainTomorrow is No,', 'RainTomorrow is Yes,', 'RainTomorrow is Yes,', 'RainTomorrow is No,', 'RainTomorrow is Yes,', 'RainTomorrow is No,']\n"
     ]
    },
    {
     "name": "stderr",
     "output_type": "stream",
     "text": [
      " 50%|████▉     | 497/1000 [03:52<03:00,  2.79it/s]"
     ]
    },
    {
     "name": "stdout",
     "output_type": "stream",
     "text": [
      "['RainTomorrow is Yes,', 'RainTomorrow is No,', 'RainTomorrow is No,', 'RainTomorrow is No,', 'RainTomorrow is Yes,', 'RainTomorrow is No,', 'RainTomorrow is No,', 'RainTomorrow is Yes,', 'RainTomorrow is Yes,', 'RainTomorrow is No,', 'RainTomorrow is Yes,', 'RainTomorrow is Yes,', 'RainTomorrow is No,', 'RainTomorrow is No,', 'RainTomorrow is Yes,', 'RainTomorrow is No,', 'RainTomorrow is No,', 'RainTomorrow is No,', 'RainTomorrow is No,', 'RainTomorrow is No,', 'RainTomorrow is Yes,', 'RainTomorrow is No,', 'RainTomorrow is Yes,', 'RainTomorrow is No,', 'RainTomorrow is No,', 'RainTomorrow is No,', 'RainTomorrow is Yes,', 'RainTomorrow is No,', 'RainTomorrow is No,', 'RainTomorrow is No,', 'RainTomorrow is No,', 'RainTomorrow is No,', 'RainTomorrow is No,', 'RainTomorrow is No,', 'RainTomorrow is No,', 'RainTomorrow is No,', 'RainTomorrow is No,', 'RainTomorrow is No,', 'RainTomorrow is No,', 'RainTomorrow is No,', 'RainTomorrow is No,', 'RainTomorrow is No,', 'RainTomorrow is Yes,', 'RainTomorrow is No,', 'RainTomorrow is No,', 'RainTomorrow is No,', 'RainTomorrow is No,', 'RainTomorrow is No,', 'RainTomorrow is Yes,', 'RainTomorrow is No,']\n"
     ]
    },
    {
     "name": "stderr",
     "output_type": "stream",
     "text": [
      " 50%|█████     | 502/1000 [03:55<03:24,  2.44it/s]"
     ]
    },
    {
     "name": "stdout",
     "output_type": "stream",
     "text": [
      "['RainTomorrow is Yes,', 'RainTomorrow is Yes,', 'RainTomorrow is Yes,', 'RainTomorrow is No,', 'RainTomorrow is No,', 'RainTomorrow is Yes,', 'RainTomorrow is Yes,', 'RainTomorrow is No,', 'RainTomorrow is Yes,', 'RainTomorrow is No,', 'RainTomorrow is Yes,', 'RainTomorrow is No,', 'RainTomorrow is No,', 'RainTomorrow is No,', 'RainTomorrow is No,', 'RainTomorrow is Yes,', 'RainTomorrow is No,', 'RainTomorrow is No,', 'RainTomorrow is No,', 'RainTomorrow is Yes,', 'RainTomorrow is No,', 'RainTomorrow is Yes,', 'RainTomorrow is No,', 'RainTomorrow is No,', 'RainTomorrow is No,', 'RainTomorrow is No,', 'RainTomorrow is No,', 'RainTomorrow is No,', 'RainTomorrow is No,', 'RainTomorrow is No,', 'RainTomorrow is No,', 'RainTomorrow is No,', 'RainTomorrow is Yes,', 'RainTomorrow is No,', 'RainTomorrow is Yes,', 'RainTomorrow is No,', 'RainTomorrow is No,', 'RainTomorrow is No,', 'RainTomorrow is No,', 'RainTomorrow is No,', 'RainTomorrow is No,', 'RainTomorrow is No,', 'RainTomorrow is No,', 'RainTomorrow is No,', 'RainTomorrow is No,', 'RainTomorrow is Yes,', 'RainTomorrow is No,', 'RainTomorrow is No,', 'RainTomorrow is Yes,', 'RainTomorrow is No,']\n"
     ]
    },
    {
     "name": "stderr",
     "output_type": "stream",
     "text": [
      " 51%|█████     | 506/1000 [03:58<03:57,  2.08it/s]"
     ]
    },
    {
     "name": "stdout",
     "output_type": "stream",
     "text": [
      "['RainTomorrow is No,', 'RainTomorrow is No,', 'RainTomorrow is Yes,', 'RainTomorrow is No,', 'RainTomorrow is No,', 'RainTomorrow is Yes,', 'RainTomorrow is No,', 'RainTomorrow is No,', 'RainTomorrow is Yes,', 'RainTomorrow is Yes,', 'RainTomorrow is No,', 'RainTomorrow is No,', 'RainTomorrow is No,', 'RainTomorrow is No,', 'RainTomorrow is No,', 'RainTomorrow is Yes,', 'RainTomorrow is No,', 'RainTomorrow is No,', 'RainTomorrow is No,', 'RainTomorrow is Yes,', 'RainTomorrow is No,', 'RainTomorrow is No,', 'RainTomorrow is Yes,', 'RainTomorrow is No,', 'RainTomorrow is No,', 'RainTomorrow is No,', 'RainTomorrow is Yes,', 'RainTomorrow is No,', 'RainTomorrow is No,', 'RainTomorrow is No,', 'RainTomorrow is Yes,', 'RainTomorrow is No,', 'RainTomorrow is No,', 'RainTomorrow is Yes,', 'RainTomorrow is No,', 'RainTomorrow is No,', 'RainTomorrow is No,', 'RainTomorrow is No,', 'RainTomorrow is Yes,', 'RainTomorrow is No,', 'RainTomorrow is No,', 'RainTomorrow is No,', 'RainTomorrow is No,', 'RainTomorrow is No,', 'RainTomorrow is No,', 'RainTomorrow is Yes,', 'RainTomorrow is No,', 'RainTomorrow is No,', 'RainTomorrow is Yes,', 'RainTomorrow is No,']\n"
     ]
    },
    {
     "name": "stderr",
     "output_type": "stream",
     "text": [
      " 51%|█████     | 508/1000 [04:01<04:56,  1.66it/s]"
     ]
    },
    {
     "name": "stdout",
     "output_type": "stream",
     "text": [
      "['RainTomorrow is No,', 'RainTomorrow is No,', 'RainTomorrow is No,', 'RainTomorrow is No,', 'RainTomorrow is No,', 'RainTomorrow is No,', 'RainTomorrow is Yes,', 'RainTomorrow is No,', 'RainTomorrow is Yes,', 'RainTomorrow is Yes,', 'RainTomorrow is No,', 'RainTomorrow is No,', 'RainTomorrow is Yes,', 'RainTomorrow is No,', 'RainTomorrow is Yes,', 'RainTomorrow is No,', 'RainTomorrow is No,', 'RainTomorrow is No,', 'RainTomorrow is Yes,', 'RainTomorrow is No,', 'RainTomorrow is No,', 'RainTomorrow is No,', 'RainTomorrow is No,', 'RainTomorrow is No,', 'RainTomorrow is No,', 'RainTomorrow is No,', 'RainTomorrow is No,', 'RainTomorrow is No,', 'RainTomorrow is Yes,', 'RainTomorrow is No,', 'RainTomorrow is Yes,', 'RainTomorrow is No,', 'RainTomorrow is No,', 'RainTomorrow is No,', 'RainTomorrow is Yes,', 'RainTomorrow is No,', 'RainTomorrow is No,', 'RainTomorrow is No,', 'RainTomorrow is No,', 'RainTomorrow is No,', 'RainTomorrow is No,', 'RainTomorrow is Yes,', 'RainTomorrow is No,', 'RainTomorrow is No,', 'RainTomorrow is No,', 'RainTomorrow is Yes,', 'RainTomorrow is No,', 'RainTomorrow is No,', 'RainTomorrow is No,', 'RainTomorrow is Yes,']\n"
     ]
    },
    {
     "name": "stderr",
     "output_type": "stream",
     "text": [
      " 52%|█████▏    | 516/1000 [04:04<04:06,  1.96it/s]"
     ]
    },
    {
     "name": "stdout",
     "output_type": "stream",
     "text": [
      "['RainTomorrow is No,', 'RainTomorrow is No,', 'RainTomorrow is No,', 'RainTomorrow is No,', 'RainTomorrow is No,', 'RainTomorrow is No,', 'RainTomorrow is No,', 'RainTomorrow is No,', 'RainTomorrow is No,', 'RainTomorrow is No,', 'RainTomorrow is Yes,', 'RainTomorrow is Yes,', 'RainTomorrow is No,', 'RainTomorrow is Yes,', 'RainTomorrow is No,', 'RainTomorrow is No,', 'RainTomorrow is No,', 'RainTomorrow is Yes,', 'RainTomorrow is No,', 'RainTomorrow is No,', 'RainTomorrow is No,', 'RainTomorrow is No,', 'RainTomorrow is No,', 'RainTomorrow is No,', 'RainTomorrow is No,', 'RainTomorrow is No,', 'RainTomorrow is Yes,', 'RainTomorrow is No,', 'RainTomorrow is Yes,', 'RainTomorrow is No,', 'RainTomorrow is No,', 'RainTomorrow is No,', 'RainTomorrow is No,', 'RainTomorrow is No,', 'RainTomorrow is No,', 'RainTomorrow is No,', 'RainTomorrow is No,', 'RainTomorrow is No,', 'RainTomorrow is No,', 'RainTomorrow is No,', 'RainTomorrow is No,', 'RainTomorrow is Yes,', 'RainTomorrow is Yes,', 'RainTomorrow is No,', 'RainTomorrow is Yes,', 'RainTomorrow is No,', 'RainTomorrow is No,', 'RainTomorrow is No,', 'RainTomorrow is No,', 'RainTomorrow is No,']\n"
     ]
    },
    {
     "name": "stderr",
     "output_type": "stream",
     "text": [
      " 52%|█████▏    | 523/1000 [04:07<03:52,  2.06it/s]"
     ]
    },
    {
     "name": "stdout",
     "output_type": "stream",
     "text": [
      "['RainTomorrow is Yes,', 'RainTomorrow is No,', 'RainTomorrow is No,', 'RainTomorrow is No,', 'RainTomorrow is No,', 'RainTomorrow is No,', 'RainTomorrow is No,', 'RainTomorrow is No,', 'RainTomorrow is No,', 'RainTomorrow is No,', 'RainTomorrow is No,', 'RainTomorrow is Yes,', 'RainTomorrow is Yes,', 'RainTomorrow is Yes,', 'RainTomorrow is No,', 'RainTomorrow is No,', 'RainTomorrow is No,', 'RainTomorrow is No,', 'RainTomorrow is No,', 'RainTomorrow is No,', 'RainTomorrow is No,', 'RainTomorrow is No,', 'RainTomorrow is No,', 'RainTomorrow is No,', 'RainTomorrow is No,', 'RainTomorrow is No,', 'RainTomorrow is No,', 'RainTomorrow is No,', 'RainTomorrow is No,', 'RainTomorrow is No,', 'RainTomorrow is No,', 'RainTomorrow is No,', 'RainTomorrow is No,', 'RainTomorrow is No,', 'RainTomorrow is No,', 'RainTomorrow is Yes,', 'RainTomorrow is Yes,', 'RainTomorrow is No,', 'RainTomorrow is No,', 'RainTomorrow is No,', 'RainTomorrow is No,', 'RainTomorrow is Yes,', 'RainTomorrow is Yes,', 'RainTomorrow is No,', 'RainTomorrow is No,', 'RainTomorrow is No,', 'RainTomorrow is No,', 'RainTomorrow is No,', 'RainTomorrow is No,', 'RainTomorrow is No,']\n"
     ]
    },
    {
     "name": "stderr",
     "output_type": "stream",
     "text": [
      " 53%|█████▎    | 526/1000 [04:10<04:36,  1.72it/s]"
     ]
    },
    {
     "name": "stdout",
     "output_type": "stream",
     "text": [
      "['RainTomorrow is No,', 'RainTomorrow is No,', 'RainTomorrow is No,', 'RainTomorrow is No,', 'RainTomorrow is Yes,', 'RainTomorrow is No,', 'RainTomorrow is Yes,', 'RainTomorrow is Yes,', 'RainTomorrow is No,', 'RainTomorrow is No,', 'RainTomorrow is Yes,', 'RainTomorrow is No,', 'RainTomorrow is No,', 'RainTomorrow is No,', 'RainTomorrow is Yes,', 'RainTomorrow is Yes,', 'RainTomorrow is No,', 'RainTomorrow is Yes,', 'RainTomorrow is Yes,', 'RainTomorrow is No,', 'RainTomorrow is No,', 'RainTomorrow is No,', 'RainTomorrow is No,', 'RainTomorrow is No,', 'RainTomorrow is No,', 'RainTomorrow is No,', 'RainTomorrow is No,', 'RainTomorrow is Yes,', 'RainTomorrow is No,', 'RainTomorrow is No,', 'RainTomorrow is No,', 'RainTomorrow is No,', 'RainTomorrow is No,', 'RainTomorrow is No,', 'RainTomorrow is Yes,', 'RainTomorrow is No,', 'RainTomorrow is Yes,', 'RainTomorrow is No,', 'RainTomorrow is Yes,', 'RainTomorrow is No,', 'RainTomorrow is Yes,', 'RainTomorrow is No,', 'RainTomorrow is Yes,', 'RainTomorrow is No,', 'RainTomorrow is No,', 'RainTomorrow is No,', 'RainTomorrow is No,', 'RainTomorrow is No,', 'RainTomorrow is No,', 'RainTomorrow is No,']\n"
     ]
    },
    {
     "name": "stderr",
     "output_type": "stream",
     "text": [
      " 54%|█████▎    | 537/1000 [04:13<03:24,  2.26it/s]"
     ]
    },
    {
     "name": "stdout",
     "output_type": "stream",
     "text": [
      "['RainTomorrow is No,', 'RainTomorrow is No,', 'RainTomorrow is Yes,', 'RainTomorrow is No,', 'RainTomorrow is Yes,', 'RainTomorrow is No,', 'RainTomorrow is No,', 'RainTomorrow is No,', 'RainTomorrow is No,', 'RainTomorrow is No,', 'RainTomorrow is Yes,', 'RainTomorrow is No,', 'RainTomorrow is No,', 'RainTomorrow is No,', 'RainTomorrow is No,', 'RainTomorrow is No,', 'RainTomorrow is No,', 'RainTomorrow is No,', 'RainTomorrow is Yes,', 'RainTomorrow is No,', 'RainTomorrow is No,', 'RainTomorrow is No,', 'RainTomorrow is No,', 'RainTomorrow is No,', 'RainTomorrow is No,', 'RainTomorrow is Yes,', 'RainTomorrow is No,', 'RainTomorrow is No,', 'RainTomorrow is Yes,', 'RainTomorrow is No,', 'RainTomorrow is No,', 'RainTomorrow is No,', 'RainTomorrow is No,', 'RainTomorrow is No,', 'RainTomorrow is Yes,', 'RainTomorrow is No,', 'RainTomorrow is No,', 'RainTomorrow is Yes,', 'RainTomorrow is No,', 'RainTomorrow is No,', 'RainTomorrow is No,', 'RainTomorrow is Yes,', 'RainTomorrow is Yes,', 'RainTomorrow is No,', 'RainTomorrow is Yes,', 'RainTomorrow is No,', 'RainTomorrow is No,', 'RainTomorrow is No,', 'RainTomorrow is Yes,', 'RainTomorrow is No,']\n"
     ]
    },
    {
     "name": "stderr",
     "output_type": "stream",
     "text": [
      " 54%|█████▍    | 541/1000 [04:17<03:54,  1.96it/s]"
     ]
    },
    {
     "name": "stdout",
     "output_type": "stream",
     "text": [
      "['RainTomorrow is No,', 'RainTomorrow is No,', 'RainTomorrow is No,', 'RainTomorrow is No,', 'RainTomorrow is No,', 'RainTomorrow is No,', 'RainTomorrow is No,', 'RainTomorrow is No,', 'RainTomorrow is No,', 'RainTomorrow is Yes,', 'RainTomorrow is No,', 'RainTomorrow is Yes,', 'RainTomorrow is No,', 'RainTomorrow is No,', 'RainTomorrow is No,', 'RainTomorrow is No,', 'RainTomorrow is Yes,', 'RainTomorrow is Yes,', 'RainTomorrow is No,', 'RainTomorrow is No,', 'RainTomorrow is No,', 'RainTomorrow is No,', 'RainTomorrow is No,', 'RainTomorrow is Yes,', 'RainTomorrow is No,', 'RainTomorrow is No,', 'RainTomorrow is No,', 'RainTomorrow is No,', 'RainTomorrow is Yes,', 'RainTomorrow is No,', 'RainTomorrow is Yes,', 'RainTomorrow is No,', 'RainTomorrow is Yes,', 'RainTomorrow is No,', 'RainTomorrow is No,', 'RainTomorrow is Yes,', 'RainTomorrow is No,', 'RainTomorrow is Yes,', 'RainTomorrow is Yes,', 'RainTomorrow is No,', 'RainTomorrow is No,', 'RainTomorrow is No,', 'RainTomorrow is Yes,', 'RainTomorrow is Yes,', 'RainTomorrow is No,', 'RainTomorrow is No,', 'RainTomorrow is No,', 'RainTomorrow is Yes,', 'RainTomorrow is No,', 'RainTomorrow is No,']\n"
     ]
    },
    {
     "name": "stderr",
     "output_type": "stream",
     "text": [
      " 55%|█████▍    | 545/1000 [04:20<04:17,  1.76it/s]"
     ]
    },
    {
     "name": "stdout",
     "output_type": "stream",
     "text": [
      "['RainTomorrow is No,', 'RainTomorrow is No,', 'RainTomorrow is No,', 'RainTomorrow is No,', 'RainTomorrow is No,', 'RainTomorrow is No,', 'RainTomorrow is No,', 'RainTomorrow is No,', 'RainTomorrow is No,', 'RainTomorrow is No,', 'RainTomorrow is No,', 'RainTomorrow is No,', 'RainTomorrow is No,', 'RainTomorrow is No,', 'RainTomorrow is No,', 'RainTomorrow is No,', 'RainTomorrow is No,', 'RainTomorrow is No,', 'RainTomorrow is No,', 'RainTomorrow is No,', 'RainTomorrow is Yes,', 'RainTomorrow is No,', 'RainTomorrow is No,', 'RainTomorrow is No,', 'RainTomorrow is Yes,', 'RainTomorrow is No,', 'RainTomorrow is Yes,', 'RainTomorrow is No,', 'RainTomorrow is No,', 'RainTomorrow is Yes,', 'RainTomorrow is Yes,', 'RainTomorrow is No,', 'RainTomorrow is No,', 'RainTomorrow is No,', 'RainTomorrow is No,', 'RainTomorrow is Yes,', 'RainTomorrow is No,', 'RainTomorrow is No,', 'RainTomorrow is No,', 'RainTomorrow is No,', 'RainTomorrow is Yes,', 'RainTomorrow is No,', 'RainTomorrow is No,', 'RainTomorrow is No,', 'RainTomorrow is No,', 'RainTomorrow is No,', 'RainTomorrow is No,', 'RainTomorrow is No,', 'RainTomorrow is No,', 'RainTomorrow is No,']\n"
     ]
    },
    {
     "name": "stderr",
     "output_type": "stream",
     "text": [
      " 55%|█████▌    | 553/1000 [04:23<03:39,  2.04it/s]"
     ]
    },
    {
     "name": "stdout",
     "output_type": "stream",
     "text": [
      "['RainTomorrow is Yes,', 'RainTomorrow is No,', 'RainTomorrow is No,', 'RainTomorrow is Yes,', 'RainTomorrow is No,', 'RainTomorrow is No,', 'RainTomorrow is No,', 'RainTomorrow is Yes,', 'RainTomorrow is No,', 'RainTomorrow is No,', 'RainTomorrow is No,', 'RainTomorrow is Yes,', 'RainTomorrow is No,', 'RainTomorrow is No,', 'RainTomorrow is No,', 'RainTomorrow is No,', 'RainTomorrow is No,', 'RainTomorrow is No,', 'RainTomorrow is No,', 'RainTomorrow is No,', 'RainTomorrow is No,', 'RainTomorrow is No,', 'RainTomorrow is No,', 'RainTomorrow is No,', 'RainTomorrow is Yes,', 'RainTomorrow is Yes,', 'RainTomorrow is No,', 'RainTomorrow is Yes,', 'RainTomorrow is No,', 'RainTomorrow is No,', 'RainTomorrow is Yes,', 'RainTomorrow is No,', 'RainTomorrow is Yes,', 'RainTomorrow is Yes,', 'RainTomorrow is Yes,', 'RainTomorrow is No,', 'RainTomorrow is No,', 'RainTomorrow is Yes,', 'RainTomorrow is No,', 'RainTomorrow is No,', 'RainTomorrow is No,', 'RainTomorrow is Yes,', 'RainTomorrow is No,', 'RainTomorrow is No,', 'RainTomorrow is No,', 'RainTomorrow is Yes,', 'RainTomorrow is No,', 'RainTomorrow is No,', 'RainTomorrow is No,', 'RainTomorrow is Yes,']\n"
     ]
    },
    {
     "name": "stderr",
     "output_type": "stream",
     "text": [
      " 56%|█████▌    | 559/1000 [04:26<03:39,  2.01it/s]"
     ]
    },
    {
     "name": "stdout",
     "output_type": "stream",
     "text": [
      "['RainTomorrow is No,', 'RainTomorrow is No,', 'RainTomorrow is Yes,', 'RainTomorrow is No,', 'RainTomorrow is No,', 'RainTomorrow is No,', 'RainTomorrow is No,', 'RainTomorrow is No,', 'RainTomorrow is Yes,', 'RainTomorrow is Yes,', 'RainTomorrow is No,', 'RainTomorrow is Yes,', 'RainTomorrow is No,', 'RainTomorrow is No,', 'RainTomorrow is No,', 'RainTomorrow is No,', 'RainTomorrow is Yes,', 'RainTomorrow is No,', 'RainTomorrow is Yes,', 'RainTomorrow is No,', 'RainTomorrow is Yes,', 'RainTomorrow is No,', 'RainTomorrow is No,', 'RainTomorrow is Yes,', 'RainTomorrow is Yes,', 'RainTomorrow is No,', 'RainTomorrow is Yes,', 'RainTomorrow is Yes,', 'RainTomorrow is No,', 'RainTomorrow is No,', 'RainTomorrow is No,', 'RainTomorrow is No,', 'RainTomorrow is No,', 'RainTomorrow is No,', 'RainTomorrow is No,', 'RainTomorrow is No,', 'RainTomorrow is No,', 'RainTomorrow is No,', 'RainTomorrow is No,', 'RainTomorrow is Yes,', 'RainTomorrow is No,', 'RainTomorrow is No,', 'RainTomorrow is No,', 'RainTomorrow is No,', 'RainTomorrow is No,', 'RainTomorrow is No,', 'RainTomorrow is No,', 'RainTomorrow is No,', 'RainTomorrow is No,', 'RainTomorrow is No,']\n"
     ]
    },
    {
     "name": "stderr",
     "output_type": "stream",
     "text": [
      " 56%|█████▌    | 562/1000 [04:29<04:14,  1.72it/s]"
     ]
    },
    {
     "name": "stdout",
     "output_type": "stream",
     "text": [
      "['RainTomorrow is Yes,', 'RainTomorrow is Yes,', 'RainTomorrow is No,', 'RainTomorrow is No,', 'RainTomorrow is No,', 'RainTomorrow is No,', 'RainTomorrow is No,', 'RainTomorrow is No,', 'RainTomorrow is No,', 'RainTomorrow is No,', 'RainTomorrow is Yes,', 'RainTomorrow is No,', 'RainTomorrow is No,', 'RainTomorrow is No,', 'RainTomorrow is No,', 'RainTomorrow is No,', 'RainTomorrow is No,', 'RainTomorrow is No,', 'RainTomorrow is No,', 'RainTomorrow is No,', 'RainTomorrow is Yes,', 'RainTomorrow is No,', 'RainTomorrow is No,', 'RainTomorrow is No,', 'RainTomorrow is No,', 'RainTomorrow is No,', 'RainTomorrow is No,', 'RainTomorrow is Yes,', 'RainTomorrow is No,', 'RainTomorrow is Yes,', 'RainTomorrow is No,', 'RainTomorrow is No,', 'RainTomorrow is Yes,', 'RainTomorrow is No,', 'RainTomorrow is No,', 'RainTomorrow is No,', 'RainTomorrow is No,', 'RainTomorrow is No,', 'RainTomorrow is No,', 'RainTomorrow is No,', 'RainTomorrow is No,', 'RainTomorrow is No,', 'RainTomorrow is No,', 'RainTomorrow is No,', 'RainTomorrow is No,', 'RainTomorrow is Yes,', 'RainTomorrow is No,', 'RainTomorrow is Yes,', 'RainTomorrow is No,', 'RainTomorrow is Yes,']\n"
     ]
    },
    {
     "name": "stderr",
     "output_type": "stream",
     "text": [
      " 57%|█████▋    | 568/1000 [04:32<03:57,  1.82it/s]"
     ]
    },
    {
     "name": "stdout",
     "output_type": "stream",
     "text": [
      "['RainTomorrow is No,', 'RainTomorrow is No,', 'RainTomorrow is Yes,', 'RainTomorrow is No,', 'RainTomorrow is Yes,', 'RainTomorrow is Yes,', 'RainTomorrow is No,', 'RainTomorrow is No,', 'RainTomorrow is Yes,', 'RainTomorrow is Yes,', 'RainTomorrow is No,', 'RainTomorrow is No,', 'RainTomorrow is No,', 'RainTomorrow is Yes,', 'RainTomorrow is No,', 'RainTomorrow is Yes,', 'RainTomorrow is No,', 'RainTomorrow is No,', 'RainTomorrow is Yes,', 'RainTomorrow is Yes,', 'RainTomorrow is No,', 'RainTomorrow is No,', 'RainTomorrow is No,', 'RainTomorrow is No,', 'RainTomorrow is No,', 'RainTomorrow is No,', 'RainTomorrow is No,', 'RainTomorrow is No,', 'RainTomorrow is No,', 'RainTomorrow is No,', 'RainTomorrow is Yes,', 'RainTomorrow is No,', 'RainTomorrow is No,', 'RainTomorrow is No,', 'RainTomorrow is Yes,', 'RainTomorrow is No,', 'RainTomorrow is No,', 'RainTomorrow is No,', 'RainTomorrow is No,', 'RainTomorrow is No,', 'RainTomorrow is No,', 'RainTomorrow is Yes,', 'RainTomorrow is Yes,', 'RainTomorrow is No,', 'RainTomorrow is No,', 'RainTomorrow is No,', 'RainTomorrow is No,', 'RainTomorrow is No,', 'RainTomorrow is No,', 'RainTomorrow is No,']\n"
     ]
    },
    {
     "name": "stderr",
     "output_type": "stream",
     "text": [
      " 57%|█████▋    | 570/1000 [04:35<04:56,  1.45it/s]"
     ]
    },
    {
     "name": "stdout",
     "output_type": "stream",
     "text": [
      "['RainTomorrow is No,', 'RainTomorrow is No,', 'RainTomorrow is No,', 'RainTomorrow is No,', 'RainTomorrow is No,', 'RainTomorrow is Yes,', 'RainTomorrow is No,', 'RainTomorrow is No,', 'RainTomorrow is No,', 'RainTomorrow is Yes,', 'RainTomorrow is No,', 'RainTomorrow is No,', 'RainTomorrow is Yes,', 'RainTomorrow is No,', 'RainTomorrow is No,', 'RainTomorrow is No,', 'RainTomorrow is Yes,', 'RainTomorrow is No,', 'RainTomorrow is Yes,', 'RainTomorrow is No,', 'RainTomorrow is No,', 'RainTomorrow is No,', 'RainTomorrow is No,', 'RainTomorrow is No,', 'RainTomorrow is No,', 'RainTomorrow is No,', 'RainTomorrow is No,', 'RainTomorrow is Yes,', 'RainTomorrow is No,', 'RainTomorrow is No,', 'RainTomorrow is No,', 'RainTomorrow is No,', 'RainTomorrow is No,', 'RainTomorrow is No,', 'RainTomorrow is No,', 'RainTomorrow is No,', 'RainTomorrow is No,', 'RainTomorrow is Yes,', 'RainTomorrow is No,', 'RainTomorrow is No,', 'RainTomorrow is Yes,', 'RainTomorrow is Yes,', 'RainTomorrow is No,', 'RainTomorrow is No,', 'RainTomorrow is No,', 'RainTomorrow is No,', 'RainTomorrow is Yes,', 'RainTomorrow is Yes,', 'RainTomorrow is No,', 'RainTomorrow is No,']\n"
     ]
    },
    {
     "name": "stderr",
     "output_type": "stream",
     "text": [
      " 57%|█████▋    | 574/1000 [04:38<04:59,  1.42it/s]"
     ]
    },
    {
     "name": "stdout",
     "output_type": "stream",
     "text": [
      "['RainTomorrow is Yes,', 'RainTomorrow is No,', 'RainTomorrow is No,', 'RainTomorrow is No,', 'RainTomorrow is No,', 'RainTomorrow is No,', 'RainTomorrow is No,', 'RainTomorrow is No,', 'RainTomorrow is No,', 'RainTomorrow is No,', 'RainTomorrow is No,', 'RainTomorrow is No,', 'RainTomorrow is No,', 'RainTomorrow is No,', 'RainTomorrow is Yes,', 'RainTomorrow is Yes,', 'RainTomorrow is No,', 'RainTomorrow is Yes,', 'RainTomorrow is No,', 'RainTomorrow is No,', 'RainTomorrow is No,', 'RainTomorrow is Yes,', 'RainTomorrow is No,', 'RainTomorrow is No,', 'RainTomorrow is No,', 'RainTomorrow is No,', 'RainTomorrow is Yes,', 'RainTomorrow is No,', 'RainTomorrow is Yes,', 'RainTomorrow is Yes,', 'RainTomorrow is Yes,', 'RainTomorrow is No,', 'RainTomorrow is No,', 'RainTomorrow is No,', 'RainTomorrow is No,', 'RainTomorrow is No,', 'RainTomorrow is No,', 'RainTomorrow is Yes,', 'RainTomorrow is No,', 'RainTomorrow is Yes,', 'RainTomorrow is No,', 'RainTomorrow is No,', 'RainTomorrow is No,', 'RainTomorrow is No,', 'RainTomorrow is Yes,', 'RainTomorrow is No,', 'RainTomorrow is Yes,', 'RainTomorrow is Yes,', 'RainTomorrow is No,', 'RainTomorrow is Yes,']\n"
     ]
    },
    {
     "name": "stderr",
     "output_type": "stream",
     "text": [
      " 58%|█████▊    | 582/1000 [04:41<03:49,  1.82it/s]"
     ]
    },
    {
     "name": "stdout",
     "output_type": "stream",
     "text": [
      "['RainTomorrow is No,', 'RainTomorrow is Yes,', 'RainTomorrow is No,', 'RainTomorrow is Yes,', 'RainTomorrow is No,', 'RainTomorrow is No,', 'RainTomorrow is No,', 'RainTomorrow is No,', 'RainTomorrow is No,', 'RainTomorrow is No,', 'RainTomorrow is Yes,', 'RainTomorrow is Yes,', 'RainTomorrow is No,', 'RainTomorrow is No,', 'RainTomorrow is No,', 'RainTomorrow is No,', 'RainTomorrow is No,', 'RainTomorrow is No,', 'RainTomorrow is No,', 'RainTomorrow is No,', 'RainTomorrow is No,', 'RainTomorrow is No,', 'RainTomorrow is No,', 'RainTomorrow is Yes,', 'RainTomorrow is No,', 'RainTomorrow is No,', 'RainTomorrow is No,', 'RainTomorrow is No,', 'RainTomorrow is No,', 'RainTomorrow is No,', 'RainTomorrow is No,', 'RainTomorrow is No,', 'RainTomorrow is No,', 'RainTomorrow is Yes,', 'RainTomorrow is No,', 'RainTomorrow is Yes,', 'RainTomorrow is Yes,', 'RainTomorrow is No,', 'RainTomorrow is No,', 'RainTomorrow is No,', 'RainTomorrow is No,', 'RainTomorrow is No,', 'RainTomorrow is Yes,', 'RainTomorrow is No,', 'RainTomorrow is No,', 'RainTomorrow is No,', 'RainTomorrow is No,', 'RainTomorrow is No,', 'RainTomorrow is Yes,', 'RainTomorrow is Yes,']\n"
     ]
    },
    {
     "name": "stderr",
     "output_type": "stream",
     "text": [
      " 59%|█████▉    | 589/1000 [04:43<03:27,  1.99it/s]"
     ]
    },
    {
     "name": "stdout",
     "output_type": "stream",
     "text": [
      "['RainTomorrow is No,', 'RainTomorrow is No,', 'RainTomorrow is No,', 'RainTomorrow is Yes,', 'RainTomorrow is No,', 'RainTomorrow is No,', 'RainTomorrow is No,', 'RainTomorrow is No,', 'RainTomorrow is No,', 'RainTomorrow is No,', 'RainTomorrow is No,', 'RainTomorrow is No,', 'RainTomorrow is No,', 'RainTomorrow is No,', 'RainTomorrow is No,', 'RainTomorrow is Yes,', 'RainTomorrow is No,', 'RainTomorrow is No,', 'RainTomorrow is Yes,', 'RainTomorrow is Yes,', 'RainTomorrow is Yes,', 'RainTomorrow is No,', 'RainTomorrow is No,', 'RainTomorrow is No,', 'RainTomorrow is Yes,', 'RainTomorrow is No,', 'RainTomorrow is No,', 'RainTomorrow is Yes,', 'RainTomorrow is No,', 'RainTomorrow is No,', 'RainTomorrow is Yes,', 'RainTomorrow is No,', 'RainTomorrow is Yes,', 'RainTomorrow is Yes,', 'RainTomorrow is No,', 'RainTomorrow is No,', 'RainTomorrow is Yes,', 'RainTomorrow is No,', 'RainTomorrow is No,', 'RainTomorrow is No,', 'RainTomorrow is Yes,', 'RainTomorrow is No,', 'RainTomorrow is No,', 'RainTomorrow is Yes,', 'RainTomorrow is No,', 'RainTomorrow is No,', 'RainTomorrow is No,', 'RainTomorrow is No,', 'RainTomorrow is Yes,', 'RainTomorrow is No,']\n"
     ]
    },
    {
     "name": "stderr",
     "output_type": "stream",
     "text": [
      " 60%|█████▉    | 595/1000 [04:46<03:21,  2.01it/s]"
     ]
    },
    {
     "name": "stdout",
     "output_type": "stream",
     "text": [
      "['RainTomorrow is Yes,', 'RainTomorrow is No,', 'RainTomorrow is No,', 'RainTomorrow is Yes,', 'RainTomorrow is Yes,', 'RainTomorrow is No,', 'RainTomorrow is No,', 'RainTomorrow is No,', 'RainTomorrow is No,', 'RainTomorrow is Yes,', 'RainTomorrow is No,', 'RainTomorrow is Yes,', 'RainTomorrow is No,', 'RainTomorrow is No,', 'RainTomorrow is No,', 'RainTomorrow is Yes,', 'RainTomorrow is No,', 'RainTomorrow is No,', 'RainTomorrow is Yes,', 'RainTomorrow is No,', 'RainTomorrow is No,', 'RainTomorrow is Yes,', 'RainTomorrow is No,', 'RainTomorrow is Yes,', 'RainTomorrow is Yes,', 'RainTomorrow is No,', 'RainTomorrow is No,', 'RainTomorrow is No,', 'RainTomorrow is Yes,', 'RainTomorrow is No,', 'RainTomorrow is No,', 'RainTomorrow is No,', 'RainTomorrow is No,', 'RainTomorrow is Yes,', 'RainTomorrow is No,', 'RainTomorrow is No,', 'RainTomorrow is No,', 'RainTomorrow is No,', 'RainTomorrow is No,', 'RainTomorrow is No,', 'RainTomorrow is No,', 'RainTomorrow is No,', 'RainTomorrow is Yes,', 'RainTomorrow is Yes,', 'RainTomorrow is Yes,', 'RainTomorrow is No,', 'RainTomorrow is No,', 'RainTomorrow is No,', 'RainTomorrow is No,', 'RainTomorrow is No,']\n"
     ]
    },
    {
     "name": "stderr",
     "output_type": "stream",
     "text": [
      " 60%|██████    | 601/1000 [04:49<03:17,  2.02it/s]"
     ]
    },
    {
     "name": "stdout",
     "output_type": "stream",
     "text": [
      "['RainTomorrow is No,', 'RainTomorrow is Yes,', 'RainTomorrow is No,', 'RainTomorrow is Yes,', 'RainTomorrow is No,', 'RainTomorrow is No,', 'RainTomorrow is No,', 'RainTomorrow is No,', 'RainTomorrow is No,', 'RainTomorrow is Yes,', 'RainTomorrow is No,', 'RainTomorrow is Yes,', 'RainTomorrow is No,', 'RainTomorrow is Yes,', 'RainTomorrow is No,', 'RainTomorrow is Yes,', 'RainTomorrow is No,', 'RainTomorrow is Yes,', 'RainTomorrow is Yes,', 'RainTomorrow is No,', 'RainTomorrow is No,', 'RainTomorrow is No,', 'RainTomorrow is No,', 'RainTomorrow is No,', 'RainTomorrow is No,', 'RainTomorrow is No,', 'RainTomorrow is No,', 'RainTomorrow is No,', 'RainTomorrow is No,', 'RainTomorrow is No,', 'RainTomorrow is Yes,', 'RainTomorrow is No,', 'RainTomorrow is No,', 'RainTomorrow is No,', 'RainTomorrow is No,', 'RainTomorrow is Yes,', 'RainTomorrow is No,', 'RainTomorrow is Yes,', 'RainTomorrow is No,', 'RainTomorrow is No,', 'RainTomorrow is Yes,', 'RainTomorrow is No,', 'RainTomorrow is Yes,', 'RainTomorrow is No,', 'RainTomorrow is Yes,', 'RainTomorrow is No,', 'RainTomorrow is No,', 'RainTomorrow is No,', 'RainTomorrow is No,', 'RainTomorrow is Yes,']\n"
     ]
    },
    {
     "name": "stderr",
     "output_type": "stream",
     "text": [
      " 61%|██████    | 606/1000 [04:52<03:25,  1.92it/s]"
     ]
    },
    {
     "name": "stdout",
     "output_type": "stream",
     "text": [
      "['RainTomorrow is No,', 'RainTomorrow is No,', 'RainTomorrow is No,', 'RainTomorrow is No,', 'RainTomorrow is Yes,', 'RainTomorrow is No,', 'RainTomorrow is No,', 'RainTomorrow is No,', 'RainTomorrow is Yes,', 'RainTomorrow is No,', 'RainTomorrow is No,', 'RainTomorrow is No,', 'RainTomorrow is No,', 'RainTomorrow is Yes,', 'RainTomorrow is No,', 'RainTomorrow is No,', 'RainTomorrow is Yes,', 'RainTomorrow is No,', 'RainTomorrow is No,', 'RainTomorrow is No,', 'RainTomorrow is No,', 'RainTomorrow is No,', 'RainTomorrow is No,', 'RainTomorrow is No,', 'RainTomorrow is Yes,', 'RainTomorrow is No,', 'RainTomorrow is No,', 'RainTomorrow is Yes,', 'RainTomorrow is No,', 'RainTomorrow is No,', 'RainTomorrow is No,', 'RainTomorrow is No,', 'RainTomorrow is No,', 'RainTomorrow is Yes,', 'RainTomorrow is No,', 'RainTomorrow is No,', 'RainTomorrow is No,', 'RainTomorrow is No,', 'RainTomorrow is No,', 'RainTomorrow is Yes,', 'RainTomorrow is Yes,', 'RainTomorrow is Yes,', 'RainTomorrow is No,', 'RainTomorrow is No,', 'RainTomorrow is No,', 'RainTomorrow is No,', 'RainTomorrow is Yes,', 'RainTomorrow is No,', 'RainTomorrow is No,', 'RainTomorrow is No,']\n"
     ]
    },
    {
     "name": "stderr",
     "output_type": "stream",
     "text": [
      " 61%|██████    | 609/1000 [04:55<03:57,  1.64it/s]"
     ]
    },
    {
     "name": "stdout",
     "output_type": "stream",
     "text": [
      "['RainTomorrow is No,', 'RainTomorrow is No,', 'RainTomorrow is No,', 'RainTomorrow is Yes,', 'RainTomorrow is No,', 'RainTomorrow is No,', 'RainTomorrow is No,', 'RainTomorrow is Yes,', 'RainTomorrow is No,', 'RainTomorrow is No,', 'RainTomorrow is No,', 'RainTomorrow is No,', 'RainTomorrow is No,', 'RainTomorrow is No,', 'RainTomorrow is No,', 'RainTomorrow is No,', 'RainTomorrow is No,', 'RainTomorrow is No,', 'RainTomorrow is No,', 'RainTomorrow is No,', 'RainTomorrow is No,', 'RainTomorrow is No,', 'RainTomorrow is No,', 'RainTomorrow is Yes,', 'RainTomorrow is No,', 'RainTomorrow is No,', 'RainTomorrow is Yes,', 'RainTomorrow is Yes,', 'RainTomorrow is No,', 'RainTomorrow is No,', 'RainTomorrow is Yes,', 'RainTomorrow is No,', 'RainTomorrow is No,', 'RainTomorrow is Yes,', 'RainTomorrow is No,', 'RainTomorrow is No,', 'RainTomorrow is No,', 'RainTomorrow is No,', 'RainTomorrow is Yes,', 'RainTomorrow is No,', 'RainTomorrow is Yes,', 'RainTomorrow is Yes,', 'RainTomorrow is No,', 'RainTomorrow is Yes,', 'RainTomorrow is Yes,', 'RainTomorrow is Yes,', 'RainTomorrow is Yes,', 'RainTomorrow is No,', 'RainTomorrow is Yes,', 'RainTomorrow is No,']\n"
     ]
    },
    {
     "name": "stderr",
     "output_type": "stream",
     "text": [
      " 62%|██████▏   | 615/1000 [04:58<03:40,  1.74it/s]"
     ]
    },
    {
     "name": "stdout",
     "output_type": "stream",
     "text": [
      "['RainTomorrow is No,', 'RainTomorrow is No,', 'RainTomorrow is No,', 'RainTomorrow is Yes,', 'RainTomorrow is No,', 'RainTomorrow is Yes,', 'RainTomorrow is Yes,', 'RainTomorrow is Yes,', 'RainTomorrow is No,', 'RainTomorrow is Yes,', 'RainTomorrow is No,', 'RainTomorrow is No,', 'RainTomorrow is No,', 'RainTomorrow is Yes,', 'RainTomorrow is No,', 'RainTomorrow is No,', 'RainTomorrow is No,', 'RainTomorrow is Yes,', 'RainTomorrow is No,', 'RainTomorrow is No,', 'RainTomorrow is Yes,', 'RainTomorrow is Yes,', 'RainTomorrow is No,', 'RainTomorrow is No,', 'RainTomorrow is No,', 'RainTomorrow is No,', 'RainTomorrow is No,', 'RainTomorrow is Yes,', 'RainTomorrow is No,', 'RainTomorrow is Yes,', 'RainTomorrow is No,', 'RainTomorrow is No,', 'RainTomorrow is No,', 'RainTomorrow is No,', 'RainTomorrow is Yes,', 'RainTomorrow is No,', 'RainTomorrow is No,', 'RainTomorrow is No,', 'RainTomorrow is No,', 'RainTomorrow is No,', 'RainTomorrow is Yes,', 'RainTomorrow is No,', 'RainTomorrow is Yes,', 'RainTomorrow is No,', 'RainTomorrow is No,', 'RainTomorrow is No,', 'RainTomorrow is No,', 'RainTomorrow is No,', 'RainTomorrow is No,', 'RainTomorrow is No,']\n"
     ]
    },
    {
     "name": "stderr",
     "output_type": "stream",
     "text": [
      " 62%|██████▏   | 620/1000 [05:01<03:37,  1.75it/s]"
     ]
    },
    {
     "name": "stdout",
     "output_type": "stream",
     "text": [
      "['RainTomorrow is Yes,', 'RainTomorrow is Yes,', 'RainTomorrow is No,', 'RainTomorrow is No,', 'RainTomorrow is No,', 'RainTomorrow is No,', 'RainTomorrow is No,', 'RainTomorrow is No,', 'RainTomorrow is No,', 'RainTomorrow is No,', 'RainTomorrow is No,', 'RainTomorrow is No,', 'RainTomorrow is No,', 'RainTomorrow is No,', 'RainTomorrow is Yes,', 'RainTomorrow is No,', 'RainTomorrow is No,', 'RainTomorrow is No,', 'RainTomorrow is No,', 'RainTomorrow is No,', 'RainTomorrow is Yes,', 'RainTomorrow is Yes,', 'RainTomorrow is Yes,', 'RainTomorrow is No,', 'RainTomorrow is No,', 'RainTomorrow is No,', 'RainTomorrow is Yes,', 'RainTomorrow is No,', 'RainTomorrow is No,', 'RainTomorrow is No,', 'RainTomorrow is No,', 'RainTomorrow is No,', 'RainTomorrow is No,', 'RainTomorrow is No,', 'RainTomorrow is No,', 'RainTomorrow is No,', 'RainTomorrow is No,', 'RainTomorrow is No,', 'RainTomorrow is Yes,', 'RainTomorrow is No,', 'RainTomorrow is No,', 'RainTomorrow is No,', 'RainTomorrow is No,', 'RainTomorrow is No,', 'RainTomorrow is No,', 'RainTomorrow is No,', 'RainTomorrow is No,', 'RainTomorrow is No,', 'RainTomorrow is No,', 'RainTomorrow is Yes,']\n"
     ]
    },
    {
     "name": "stderr",
     "output_type": "stream",
     "text": [
      " 62%|██████▏   | 623/1000 [05:04<04:06,  1.53it/s]"
     ]
    },
    {
     "name": "stdout",
     "output_type": "stream",
     "text": [
      "['RainTomorrow is Yes,', 'RainTomorrow is No,', 'RainTomorrow is Yes,', 'RainTomorrow is Yes,', 'RainTomorrow is No,', 'RainTomorrow is No,', 'RainTomorrow is No,', 'RainTomorrow is No,', 'RainTomorrow is No,', 'RainTomorrow is No,', 'RainTomorrow is No,', 'RainTomorrow is No,', 'RainTomorrow is No,', 'RainTomorrow is No,', 'RainTomorrow is No,', 'RainTomorrow is No,', 'RainTomorrow is No,', 'RainTomorrow is No,', 'RainTomorrow is No,', 'RainTomorrow is No,', 'RainTomorrow is No,', 'RainTomorrow is Yes,', 'RainTomorrow is No,', 'RainTomorrow is No,', 'RainTomorrow is Yes,', 'RainTomorrow is No,', 'RainTomorrow is Yes,', 'RainTomorrow is Yes,', 'RainTomorrow is No,', 'RainTomorrow is No,', 'RainTomorrow is No,', 'RainTomorrow is No,', 'RainTomorrow is No,', 'RainTomorrow is No,', 'RainTomorrow is No,', 'RainTomorrow is No,', 'RainTomorrow is No,', 'RainTomorrow is No,', 'RainTomorrow is No,', 'RainTomorrow is No,', 'RainTomorrow is No,', 'RainTomorrow is No,', 'RainTomorrow is No,', 'RainTomorrow is No,', 'RainTomorrow is No,', 'RainTomorrow is No,', 'RainTomorrow is No,', 'RainTomorrow is No,', 'RainTomorrow is No,', 'RainTomorrow is Yes,']\n"
     ]
    },
    {
     "name": "stderr",
     "output_type": "stream",
     "text": [
      " 63%|██████▎   | 628/1000 [05:07<03:53,  1.59it/s]"
     ]
    },
    {
     "name": "stdout",
     "output_type": "stream",
     "text": [
      "['RainTomorrow is No,', 'RainTomorrow is No,', 'RainTomorrow is Yes,', 'RainTomorrow is No,', 'RainTomorrow is No,', 'RainTomorrow is Yes,', 'RainTomorrow is Yes,', 'RainTomorrow is Yes,', 'RainTomorrow is No,', 'RainTomorrow is No,', 'RainTomorrow is No,', 'RainTomorrow is No,', 'RainTomorrow is No,', 'RainTomorrow is Yes,', 'RainTomorrow is No,', 'RainTomorrow is No,', 'RainTomorrow is No,', 'RainTomorrow is No,', 'RainTomorrow is No,', 'RainTomorrow is No,', 'RainTomorrow is Yes,', 'RainTomorrow is No,', 'RainTomorrow is No,', 'RainTomorrow is No,', 'RainTomorrow is No,', 'RainTomorrow is No,', 'RainTomorrow is No,', 'RainTomorrow is Yes,', 'RainTomorrow is No,', 'RainTomorrow is No,', 'RainTomorrow is Yes,', 'RainTomorrow is No,', 'RainTomorrow is No,', 'RainTomorrow is No,', 'RainTomorrow is No,', 'RainTomorrow is Yes,', 'RainTomorrow is No,', 'RainTomorrow is No,', 'RainTomorrow is No,', 'RainTomorrow is Yes,', 'RainTomorrow is No,', 'RainTomorrow is No,', 'RainTomorrow is No,', 'RainTomorrow is No,', 'RainTomorrow is Yes,', 'RainTomorrow is No,', 'RainTomorrow is No,', 'RainTomorrow is No,', 'RainTomorrow is No,', 'RainTomorrow is No,']\n"
     ]
    },
    {
     "name": "stderr",
     "output_type": "stream",
     "text": [
      " 64%|██████▎   | 635/1000 [05:10<03:21,  1.81it/s]"
     ]
    },
    {
     "name": "stdout",
     "output_type": "stream",
     "text": [
      "['RainTomorrow is No,', 'RainTomorrow is Yes,', 'RainTomorrow is No,', 'RainTomorrow is No,', 'RainTomorrow is No,', 'RainTomorrow is No,', 'RainTomorrow is Yes,', 'RainTomorrow is No,', 'RainTomorrow is No,', 'RainTomorrow is No,', 'RainTomorrow is No,', 'RainTomorrow is No,', 'RainTomorrow is No,', 'RainTomorrow is No,', 'RainTomorrow is No,', 'RainTomorrow is Yes,', 'RainTomorrow is No,', 'RainTomorrow is Yes,', 'RainTomorrow is Yes,', 'RainTomorrow is No,', 'RainTomorrow is No,', 'RainTomorrow is No,', 'RainTomorrow is No,', 'RainTomorrow is No,', 'RainTomorrow is Yes,', 'RainTomorrow is No,', 'RainTomorrow is No,', 'RainTomorrow is No,', 'RainTomorrow is Yes,', 'RainTomorrow is No,', 'RainTomorrow is No,', 'RainTomorrow is No,', 'RainTomorrow is Yes,', 'RainTomorrow is No,', 'RainTomorrow is No,', 'RainTomorrow is No,', 'RainTomorrow is No,', 'RainTomorrow is No,', 'RainTomorrow is No,', 'RainTomorrow is No,', 'RainTomorrow is No,', 'RainTomorrow is No,', 'RainTomorrow is No,', 'RainTomorrow is No,', 'RainTomorrow is No,', 'RainTomorrow is Yes,', 'RainTomorrow is Yes,', 'RainTomorrow is No,', 'RainTomorrow is No,', 'RainTomorrow is No,']\n"
     ]
    },
    {
     "name": "stderr",
     "output_type": "stream",
     "text": [
      " 65%|██████▍   | 646/1000 [05:13<02:27,  2.39it/s]"
     ]
    },
    {
     "name": "stdout",
     "output_type": "stream",
     "text": [
      "['RainTomorrow is No,', 'RainTomorrow is No,', 'RainTomorrow is No,', 'RainTomorrow is No,', 'RainTomorrow is Yes,', 'RainTomorrow is No,', 'RainTomorrow is Yes,', 'RainTomorrow is Yes,', 'RainTomorrow is No,', 'RainTomorrow is Yes,', 'RainTomorrow is No,', 'RainTomorrow is Yes,', 'RainTomorrow is No,', 'RainTomorrow is No,', 'RainTomorrow is No,', 'RainTomorrow is No,', 'RainTomorrow is No,', 'RainTomorrow is No,', 'RainTomorrow is No,', 'RainTomorrow is No,', 'RainTomorrow is Yes,', 'RainTomorrow is Yes,', 'RainTomorrow is No,', 'RainTomorrow is No,', 'RainTomorrow is Yes,', 'RainTomorrow is No,', 'RainTomorrow is No,', 'RainTomorrow is No,', 'RainTomorrow is Yes,', 'RainTomorrow is Yes,', 'RainTomorrow is Yes,', 'RainTomorrow is No,', 'RainTomorrow is Yes,', 'RainTomorrow is Yes,', 'RainTomorrow is No,', 'RainTomorrow is Yes,', 'RainTomorrow is No,', 'RainTomorrow is No,', 'RainTomorrow is Yes,', 'RainTomorrow is No,', 'RainTomorrow is No,', 'RainTomorrow is No,', 'RainTomorrow is Yes,', 'RainTomorrow is No,', 'RainTomorrow is Yes,', 'RainTomorrow is No,', 'RainTomorrow is No,', 'RainTomorrow is No,', 'RainTomorrow is Yes,', 'RainTomorrow is No,']\n"
     ]
    },
    {
     "name": "stderr",
     "output_type": "stream",
     "text": [
      " 65%|██████▌   | 651/1000 [05:16<02:39,  2.18it/s]"
     ]
    },
    {
     "name": "stdout",
     "output_type": "stream",
     "text": [
      "['RainTomorrow is No,', 'RainTomorrow is No,', 'RainTomorrow is No,', 'RainTomorrow is Yes,', 'RainTomorrow is No,', 'RainTomorrow is No,', 'RainTomorrow is No,', 'RainTomorrow is No,', 'RainTomorrow is Yes,', 'RainTomorrow is Yes,', 'RainTomorrow is Yes,', 'RainTomorrow is No,', 'RainTomorrow is No,', 'RainTomorrow is No,', 'RainTomorrow is No,', 'RainTomorrow is Yes,', 'RainTomorrow is No,', 'RainTomorrow is No,', 'RainTomorrow is No,', 'RainTomorrow is No,', 'RainTomorrow is Yes,', 'RainTomorrow is No,', 'RainTomorrow is No,', 'RainTomorrow is Yes,', 'RainTomorrow is No,', 'RainTomorrow is Yes,', 'RainTomorrow is No,', 'RainTomorrow is Yes,', 'RainTomorrow is No,', 'RainTomorrow is Yes,', 'RainTomorrow is No,', 'RainTomorrow is Yes,', 'RainTomorrow is No,', 'RainTomorrow is No,', 'RainTomorrow is No,', 'RainTomorrow is No,', 'RainTomorrow is No,', 'RainTomorrow is No,', 'RainTomorrow is No,', 'RainTomorrow is Yes,', 'RainTomorrow is Yes,', 'RainTomorrow is Yes,', 'RainTomorrow is Yes,', 'RainTomorrow is No,', 'RainTomorrow is Yes,', 'RainTomorrow is Yes,', 'RainTomorrow is No,', 'RainTomorrow is No,', 'RainTomorrow is No,', 'RainTomorrow is No,']\n"
     ]
    },
    {
     "name": "stderr",
     "output_type": "stream",
     "text": [
      " 65%|██████▌   | 654/1000 [05:19<03:10,  1.81it/s]"
     ]
    },
    {
     "name": "stdout",
     "output_type": "stream",
     "text": [
      "['RainTomorrow is No,', 'RainTomorrow is No,', 'RainTomorrow is Yes,', 'RainTomorrow is No,', 'RainTomorrow is No,', 'RainTomorrow is No,', 'RainTomorrow is No,', 'RainTomorrow is Yes,', 'RainTomorrow is No,', 'RainTomorrow is Yes,', 'RainTomorrow is No,', 'RainTomorrow is No,', 'RainTomorrow is Yes,', 'RainTomorrow is Yes,', 'RainTomorrow is Yes,', 'RainTomorrow is No,', 'RainTomorrow is No,', 'RainTomorrow is No,', 'RainTomorrow is No,', 'RainTomorrow is No,', 'RainTomorrow is Yes,', 'RainTomorrow is No,', 'RainTomorrow is No,', 'RainTomorrow is No,', 'RainTomorrow is No,', 'RainTomorrow is No,', 'RainTomorrow is No,', 'RainTomorrow is No,', 'RainTomorrow is No,', 'RainTomorrow is No,', 'RainTomorrow is No,', 'RainTomorrow is Yes,', 'RainTomorrow is Yes,', 'RainTomorrow is Yes,', 'RainTomorrow is No,', 'RainTomorrow is No,', 'RainTomorrow is No,', 'RainTomorrow is Yes,', 'RainTomorrow is No,', 'RainTomorrow is No,', 'RainTomorrow is No,', 'RainTomorrow is Yes,', 'RainTomorrow is No,', 'RainTomorrow is No,', 'RainTomorrow is No,', 'RainTomorrow is No,', 'RainTomorrow is No,', 'RainTomorrow is No,', 'RainTomorrow is Yes,', 'RainTomorrow is No,']\n"
     ]
    },
    {
     "name": "stderr",
     "output_type": "stream",
     "text": [
      " 66%|██████▌   | 662/1000 [05:22<02:39,  2.11it/s]"
     ]
    },
    {
     "name": "stdout",
     "output_type": "stream",
     "text": [
      "['RainTomorrow is No,', 'RainTomorrow is Yes,', 'RainTomorrow is No,', 'RainTomorrow is No,', 'RainTomorrow is No,', 'RainTomorrow is No,', 'RainTomorrow is No,', 'RainTomorrow is No,', 'RainTomorrow is Yes,', 'RainTomorrow is No,', 'RainTomorrow is No,', 'RainTomorrow is No,', 'RainTomorrow is Yes,', 'RainTomorrow is Yes,', 'RainTomorrow is Yes,', 'RainTomorrow is No,', 'RainTomorrow is Yes,', 'RainTomorrow is Yes,', 'RainTomorrow is Yes,', 'RainTomorrow is No,', 'RainTomorrow is No,', 'RainTomorrow is No,', 'RainTomorrow is No,', 'RainTomorrow is No,', 'RainTomorrow is No,', 'RainTomorrow is No,', 'RainTomorrow is No,', 'RainTomorrow is Yes,', 'RainTomorrow is Yes,', 'RainTomorrow is No,', 'RainTomorrow is No,', 'RainTomorrow is Yes,', 'RainTomorrow is No,', 'RainTomorrow is Yes,', 'RainTomorrow is No,', 'RainTomorrow is No,', 'RainTomorrow is No,', 'RainTomorrow is Yes,', 'RainTomorrow is No,', 'RainTomorrow is Yes,', 'RainTomorrow is No,', 'RainTomorrow is No,', 'RainTomorrow is No,', 'RainTomorrow is No,', 'RainTomorrow is No,', 'RainTomorrow is Yes,', 'RainTomorrow is No,', 'RainTomorrow is No,', 'RainTomorrow is No,', 'RainTomorrow is Yes,']\n"
     ]
    },
    {
     "name": "stderr",
     "output_type": "stream",
     "text": [
      " 67%|██████▋   | 666/1000 [05:25<02:55,  1.90it/s]"
     ]
    },
    {
     "name": "stdout",
     "output_type": "stream",
     "text": [
      "['RainTomorrow is Yes,', 'RainTomorrow is No,', 'RainTomorrow is No,', 'RainTomorrow is No,', 'RainTomorrow is No,', 'RainTomorrow is No,', 'RainTomorrow is No,', 'RainTomorrow is Yes,', 'RainTomorrow is No,', 'RainTomorrow is Yes,', 'RainTomorrow is No,', 'RainTomorrow is Yes,', 'RainTomorrow is No,', 'RainTomorrow is Yes,', 'RainTomorrow is No,', 'RainTomorrow is Yes,', 'RainTomorrow is No,', 'RainTomorrow is Yes,', 'RainTomorrow is No,', 'RainTomorrow is No,', 'RainTomorrow is No,', 'RainTomorrow is No,', 'RainTomorrow is No,', 'RainTomorrow is No,', 'RainTomorrow is Yes,', 'RainTomorrow is No,', 'RainTomorrow is No,', 'RainTomorrow is No,', 'RainTomorrow is No,', 'RainTomorrow is No,', 'RainTomorrow is No,', 'RainTomorrow is Yes,', 'RainTomorrow is No,', 'RainTomorrow is No,', 'RainTomorrow is No,', 'RainTomorrow is No,', 'RainTomorrow is No,', 'RainTomorrow is No,', 'RainTomorrow is No,', 'RainTomorrow is No,', 'RainTomorrow is No,', 'RainTomorrow is No,', 'RainTomorrow is No,', 'RainTomorrow is No,', 'RainTomorrow is No,', 'RainTomorrow is Yes,', 'RainTomorrow is No,', 'RainTomorrow is No,', 'RainTomorrow is No,', 'RainTomorrow is No,']\n"
     ]
    },
    {
     "name": "stderr",
     "output_type": "stream",
     "text": [
      " 67%|██████▋   | 672/1000 [05:28<02:51,  1.91it/s]"
     ]
    },
    {
     "name": "stdout",
     "output_type": "stream",
     "text": [
      "['RainTomorrow is No,', 'RainTomorrow is No,', 'RainTomorrow is No,', 'RainTomorrow is No,', 'RainTomorrow is Yes,', 'RainTomorrow is No,', 'RainTomorrow is No,', 'RainTomorrow is No,', 'RainTomorrow is Yes,', 'RainTomorrow is No,', 'RainTomorrow is No,', 'RainTomorrow is No,', 'RainTomorrow is No,', 'RainTomorrow is No,', 'RainTomorrow is No,', 'RainTomorrow is No,', 'RainTomorrow is No,', 'RainTomorrow is No,', 'RainTomorrow is Yes,', 'RainTomorrow is No,', 'RainTomorrow is No,', 'RainTomorrow is Yes,', 'RainTomorrow is No,', 'RainTomorrow is No,', 'RainTomorrow is No,', 'RainTomorrow is No,', 'RainTomorrow is Yes,', 'RainTomorrow is Yes,', 'RainTomorrow is No,', 'RainTomorrow is Yes,', 'RainTomorrow is No,', 'RainTomorrow is No,', 'RainTomorrow is No,', 'RainTomorrow is No,', 'RainTomorrow is No,', 'RainTomorrow is No,', 'RainTomorrow is No,', 'RainTomorrow is No,', 'RainTomorrow is No,', 'RainTomorrow is No,', 'RainTomorrow is No,', 'RainTomorrow is No,', 'RainTomorrow is No,', 'RainTomorrow is No,', 'RainTomorrow is No,', 'RainTomorrow is No,', 'RainTomorrow is No,', 'RainTomorrow is Yes,', 'RainTomorrow is Yes,', 'RainTomorrow is No,']\n"
     ]
    },
    {
     "name": "stderr",
     "output_type": "stream",
     "text": [
      " 68%|██████▊   | 677/1000 [05:31<02:54,  1.85it/s]"
     ]
    },
    {
     "name": "stdout",
     "output_type": "stream",
     "text": [
      "['RainTomorrow is No,', 'RainTomorrow is No,', 'RainTomorrow is No,', 'RainTomorrow is No,', 'RainTomorrow is No,', 'RainTomorrow is No,', 'RainTomorrow is No,', 'RainTomorrow is Yes,', 'RainTomorrow is No,', 'RainTomorrow is No,', 'RainTomorrow is Yes,', 'RainTomorrow is No,', 'RainTomorrow is Yes,', 'RainTomorrow is No,', 'RainTomorrow is No,', 'RainTomorrow is Yes,', 'RainTomorrow is No,', 'RainTomorrow is No,', 'RainTomorrow is Yes,', 'RainTomorrow is No,', 'RainTomorrow is No,', 'RainTomorrow is No,', 'RainTomorrow is No,', 'RainTomorrow is No,', 'RainTomorrow is Yes,', 'RainTomorrow is Yes,', 'RainTomorrow is No,', 'RainTomorrow is No,', 'RainTomorrow is No,', 'RainTomorrow is No,', 'RainTomorrow is No,', 'RainTomorrow is No,', 'RainTomorrow is No,', 'RainTomorrow is Yes,', 'RainTomorrow is No,', 'RainTomorrow is No,', 'RainTomorrow is No,', 'RainTomorrow is No,', 'RainTomorrow is No,', 'RainTomorrow is No,', 'RainTomorrow is Yes,', 'RainTomorrow is No,', 'RainTomorrow is No,', 'RainTomorrow is No,', 'RainTomorrow is No,', 'RainTomorrow is No,', 'RainTomorrow is No,', 'RainTomorrow is No,', 'RainTomorrow is No,', 'RainTomorrow is No,']\n"
     ]
    },
    {
     "name": "stderr",
     "output_type": "stream",
     "text": [
      " 69%|██████▊   | 686/1000 [05:34<02:21,  2.21it/s]"
     ]
    },
    {
     "name": "stdout",
     "output_type": "stream",
     "text": [
      "['RainTomorrow is Yes,', 'RainTomorrow is Yes,', 'RainTomorrow is Yes,', 'RainTomorrow is No,', 'RainTomorrow is No,', 'RainTomorrow is No,', 'RainTomorrow is No,', 'RainTomorrow is No,', 'RainTomorrow is No,', 'RainTomorrow is No,', 'RainTomorrow is No,', 'RainTomorrow is No,', 'RainTomorrow is Yes,', 'RainTomorrow is Yes,', 'RainTomorrow is No,', 'RainTomorrow is No,', 'RainTomorrow is No,', 'RainTomorrow is No,', 'RainTomorrow is No,', 'RainTomorrow is No,', 'RainTomorrow is No,', 'RainTomorrow is Yes,', 'RainTomorrow is No,', 'RainTomorrow is No,', 'RainTomorrow is No,', 'RainTomorrow is No,', 'RainTomorrow is Yes,', 'RainTomorrow is No,', 'RainTomorrow is Yes,', 'RainTomorrow is Yes,', 'RainTomorrow is No,', 'RainTomorrow is Yes,', 'RainTomorrow is No,', 'RainTomorrow is No,', 'RainTomorrow is No,', 'RainTomorrow is No,', 'RainTomorrow is No,', 'RainTomorrow is Yes,', 'RainTomorrow is No,', 'RainTomorrow is No,', 'RainTomorrow is Yes,', 'RainTomorrow is No,', 'RainTomorrow is No,', 'RainTomorrow is No,', 'RainTomorrow is No,', 'RainTomorrow is No,', 'RainTomorrow is Yes,', 'RainTomorrow is No,', 'RainTomorrow is Yes,', 'RainTomorrow is No,']\n"
     ]
    },
    {
     "name": "stderr",
     "output_type": "stream",
     "text": [
      " 69%|██████▉   | 691/1000 [05:36<02:29,  2.07it/s]"
     ]
    },
    {
     "name": "stdout",
     "output_type": "stream",
     "text": [
      "['RainTomorrow is No,', 'RainTomorrow is No,', 'RainTomorrow is No,', 'RainTomorrow is No,', 'RainTomorrow is No,', 'RainTomorrow is Yes,', 'RainTomorrow is No,', 'RainTomorrow is Yes,', 'RainTomorrow is No,', 'RainTomorrow is No,', 'RainTomorrow is No,', 'RainTomorrow is No,', 'RainTomorrow is No,', 'RainTomorrow is No,', 'RainTomorrow is No,', 'RainTomorrow is No,', 'RainTomorrow is Yes,', 'RainTomorrow is Yes,', 'RainTomorrow is No,', 'RainTomorrow is No,', 'RainTomorrow is No,', 'RainTomorrow is Yes,', 'RainTomorrow is Yes,', 'RainTomorrow is No,', 'RainTomorrow is No,', 'RainTomorrow is No,', 'RainTomorrow is No,', 'RainTomorrow is No,', 'RainTomorrow is No,', 'RainTomorrow is Yes,', 'RainTomorrow is No,', 'RainTomorrow is No,', 'RainTomorrow is No,', 'RainTomorrow is Yes,', 'RainTomorrow is No,', 'RainTomorrow is Yes,', 'RainTomorrow is No,', 'RainTomorrow is No,', 'RainTomorrow is No,', 'RainTomorrow is No,', 'RainTomorrow is No,', 'RainTomorrow is No,', 'RainTomorrow is No,', 'RainTomorrow is No,', 'RainTomorrow is No,', 'RainTomorrow is Yes,', 'RainTomorrow is No,', 'RainTomorrow is Yes,', 'RainTomorrow is No,', 'RainTomorrow is No,']\n"
     ]
    },
    {
     "name": "stderr",
     "output_type": "stream",
     "text": [
      " 70%|██████▉   | 696/1000 [05:39<02:35,  1.96it/s]"
     ]
    },
    {
     "name": "stdout",
     "output_type": "stream",
     "text": [
      "['RainTomorrow is No,', 'RainTomorrow is Yes,', 'RainTomorrow is No,', 'RainTomorrow is No,', 'RainTomorrow is No,', 'RainTomorrow is No,', 'RainTomorrow is Yes,', 'RainTomorrow is Yes,', 'RainTomorrow is No,', 'RainTomorrow is No,', 'RainTomorrow is No,', 'RainTomorrow is No,', 'RainTomorrow is No,', 'RainTomorrow is No,', 'RainTomorrow is Yes,', 'RainTomorrow is No,', 'RainTomorrow is No,', 'RainTomorrow is No,', 'RainTomorrow is No,', 'RainTomorrow is No,', 'RainTomorrow is No,', 'RainTomorrow is No,', 'RainTomorrow is No,', 'RainTomorrow is No,', 'RainTomorrow is No,', 'RainTomorrow is No,', 'RainTomorrow is No,', 'RainTomorrow is Yes,', 'RainTomorrow is Yes,', 'RainTomorrow is Yes,', 'RainTomorrow is Yes,', 'RainTomorrow is No,', 'RainTomorrow is No,', 'RainTomorrow is No,', 'RainTomorrow is No,', 'RainTomorrow is Yes,', 'RainTomorrow is No,', 'RainTomorrow is No,', 'RainTomorrow is No,', 'RainTomorrow is No,', 'RainTomorrow is No,', 'RainTomorrow is No,', 'RainTomorrow is No,', 'RainTomorrow is No,', 'RainTomorrow is No,', 'RainTomorrow is Yes,', 'RainTomorrow is No,', 'RainTomorrow is Yes,', 'RainTomorrow is No,', 'RainTomorrow is Yes,']\n"
     ]
    },
    {
     "name": "stderr",
     "output_type": "stream",
     "text": [
      " 70%|███████   | 704/1000 [05:42<02:14,  2.20it/s]"
     ]
    },
    {
     "name": "stdout",
     "output_type": "stream",
     "text": [
      "['RainTomorrow is No,', 'RainTomorrow is Yes,', 'RainTomorrow is No,', 'RainTomorrow is Yes,', 'RainTomorrow is Yes,', 'RainTomorrow is No,', 'RainTomorrow is No,', 'RainTomorrow is Yes,', 'RainTomorrow is No,', 'RainTomorrow is Yes,', 'RainTomorrow is No,', 'RainTomorrow is No,', 'RainTomorrow is No,', 'RainTomorrow is No,', 'RainTomorrow is No,', 'RainTomorrow is No,', 'RainTomorrow is No,', 'RainTomorrow is Yes,', 'RainTomorrow is Yes,', 'RainTomorrow is No,', 'RainTomorrow is No,', 'RainTomorrow is No,', 'RainTomorrow is No,', 'RainTomorrow is No,', 'RainTomorrow is Yes,', 'RainTomorrow is No,', 'RainTomorrow is No,', 'RainTomorrow is No,', 'RainTomorrow is No,', 'RainTomorrow is No,', 'RainTomorrow is Yes,', 'RainTomorrow is No,', 'RainTomorrow is Yes,', 'RainTomorrow is No,', 'RainTomorrow is No,', 'RainTomorrow is No,', 'RainTomorrow is No,', 'RainTomorrow is No,', 'RainTomorrow is No,', 'RainTomorrow is No,', 'RainTomorrow is Yes,', 'RainTomorrow is No,', 'RainTomorrow is No,', 'RainTomorrow is Yes,', 'RainTomorrow is No,', 'RainTomorrow is Yes,', 'RainTomorrow is No,', 'RainTomorrow is No,', 'RainTomorrow is No,', 'RainTomorrow is No,']\n"
     ]
    },
    {
     "name": "stderr",
     "output_type": "stream",
     "text": [
      " 71%|███████▏  | 713/1000 [05:45<01:56,  2.47it/s]"
     ]
    },
    {
     "name": "stdout",
     "output_type": "stream",
     "text": [
      "['RainTomorrow is No,', 'RainTomorrow is Yes,', 'RainTomorrow is No,', 'RainTomorrow is Yes,', 'RainTomorrow is No,', 'RainTomorrow is No,', 'RainTomorrow is Yes,', 'RainTomorrow is No,', 'RainTomorrow is No,', 'RainTomorrow is No,', 'RainTomorrow is No,', 'RainTomorrow is Yes,', 'RainTomorrow is No,', 'RainTomorrow is No,', 'RainTomorrow is Yes,', 'RainTomorrow is Yes,', 'RainTomorrow is No,', 'RainTomorrow is Yes,', 'RainTomorrow is No,', 'RainTomorrow is No,', 'RainTomorrow is No,', 'RainTomorrow is No,', 'RainTomorrow is No,', 'RainTomorrow is Yes,', 'RainTomorrow is No,', 'RainTomorrow is Yes,', 'RainTomorrow is No,', 'RainTomorrow is Yes,', 'RainTomorrow is No,', 'RainTomorrow is No,', 'RainTomorrow is No,', 'RainTomorrow is Yes,', 'RainTomorrow is No,', 'RainTomorrow is Yes,', 'RainTomorrow is No,', 'RainTomorrow is No,', 'RainTomorrow is No,', 'RainTomorrow is No,', 'RainTomorrow is Yes,', 'RainTomorrow is No,', 'RainTomorrow is Yes,', 'RainTomorrow is No,', 'RainTomorrow is No,', 'RainTomorrow is No,', 'RainTomorrow is No,', 'RainTomorrow is No,', 'RainTomorrow is Yes,', 'RainTomorrow is No,', 'RainTomorrow is No,', 'RainTomorrow is No,']\n"
     ]
    },
    {
     "name": "stderr",
     "output_type": "stream",
     "text": [
      " 72%|███████▏  | 724/1000 [05:48<01:35,  2.89it/s]"
     ]
    },
    {
     "name": "stdout",
     "output_type": "stream",
     "text": [
      "['RainTomorrow is No,', 'RainTomorrow is No,', 'RainTomorrow is No,', 'RainTomorrow is No,', 'RainTomorrow is Yes,', 'RainTomorrow is No,', 'RainTomorrow is No,', 'RainTomorrow is Yes,', 'RainTomorrow is No,', 'RainTomorrow is No,', 'RainTomorrow is Yes,', 'RainTomorrow is No,', 'RainTomorrow is No,', 'RainTomorrow is No,', 'RainTomorrow is No,', 'RainTomorrow is No,', 'RainTomorrow is No,', 'RainTomorrow is No,', 'RainTomorrow is No,', 'RainTomorrow is No,', 'RainTomorrow is No,', 'RainTomorrow is No,', 'RainTomorrow is No,', 'RainTomorrow is No,', 'RainTomorrow is Yes,', 'RainTomorrow is No,', 'RainTomorrow is Yes,', 'RainTomorrow is No,', 'RainTomorrow is No,', 'RainTomorrow is No,', 'RainTomorrow is No,', 'RainTomorrow is No,', 'RainTomorrow is No,', 'RainTomorrow is No,', 'RainTomorrow is Yes,', 'RainTomorrow is Yes,', 'RainTomorrow is No,', 'RainTomorrow is No,', 'RainTomorrow is No,', 'RainTomorrow is No,', 'RainTomorrow is No,', 'RainTomorrow is Yes,', 'RainTomorrow is No,', 'RainTomorrow is No,', 'RainTomorrow is No,', 'RainTomorrow is Yes,', 'RainTomorrow is No,', 'RainTomorrow is Yes,', 'RainTomorrow is Yes,', 'RainTomorrow is No,']\n"
     ]
    },
    {
     "name": "stderr",
     "output_type": "stream",
     "text": [
      " 73%|███████▎  | 731/1000 [05:51<01:40,  2.67it/s]"
     ]
    },
    {
     "name": "stdout",
     "output_type": "stream",
     "text": [
      "['RainTomorrow is No,', 'RainTomorrow is No,', 'RainTomorrow is Yes,', 'RainTomorrow is No,', 'RainTomorrow is No,', 'RainTomorrow is No,', 'RainTomorrow is No,', 'RainTomorrow is No,', 'RainTomorrow is No,', 'RainTomorrow is No,', 'RainTomorrow is Yes,', 'RainTomorrow is No,', 'RainTomorrow is Yes,', 'RainTomorrow is Yes,', 'RainTomorrow is No,', 'RainTomorrow is No,', 'RainTomorrow is No,', 'RainTomorrow is No,', 'RainTomorrow is Yes,', 'RainTomorrow is No,', 'RainTomorrow is No,', 'RainTomorrow is Yes,', 'RainTomorrow is No,', 'RainTomorrow is No,', 'RainTomorrow is No,', 'RainTomorrow is No,', 'RainTomorrow is No,', 'RainTomorrow is No,', 'RainTomorrow is Yes,', 'RainTomorrow is Yes,', 'RainTomorrow is Yes,', 'RainTomorrow is No,', 'RainTomorrow is No,', 'RainTomorrow is No,', 'RainTomorrow is No,', 'RainTomorrow is No,', 'RainTomorrow is No,', 'RainTomorrow is Yes,', 'RainTomorrow is No,', 'RainTomorrow is No,', 'RainTomorrow is No,', 'RainTomorrow is No,', 'RainTomorrow is No,', 'RainTomorrow is No,', 'RainTomorrow is No,', 'RainTomorrow is No,', 'RainTomorrow is No,', 'RainTomorrow is No,', 'RainTomorrow is Yes,', 'RainTomorrow is No,']\n"
     ]
    },
    {
     "name": "stderr",
     "output_type": "stream",
     "text": [
      " 74%|███████▍  | 739/1000 [05:54<01:36,  2.70it/s]"
     ]
    },
    {
     "name": "stdout",
     "output_type": "stream",
     "text": [
      "['RainTomorrow is Yes,', 'RainTomorrow is No,', 'RainTomorrow is No,', 'RainTomorrow is Yes,', 'RainTomorrow is No,', 'RainTomorrow is No,', 'RainTomorrow is Yes,', 'RainTomorrow is Yes,', 'RainTomorrow is No,', 'RainTomorrow is No,', 'RainTomorrow is No,', 'RainTomorrow is No,', 'RainTomorrow is No,', 'RainTomorrow is No,', 'RainTomorrow is No,', 'RainTomorrow is No,', 'RainTomorrow is No,', 'RainTomorrow is No,', 'RainTomorrow is Yes,', 'RainTomorrow is No,', 'RainTomorrow is No,', 'RainTomorrow is No,', 'RainTomorrow is No,', 'RainTomorrow is No,', 'RainTomorrow is No,', 'RainTomorrow is No,', 'RainTomorrow is No,', 'RainTomorrow is Yes,', 'RainTomorrow is No,', 'RainTomorrow is No,', 'RainTomorrow is Yes,', 'RainTomorrow is No,', 'RainTomorrow is No,', 'RainTomorrow is No,', 'RainTomorrow is Yes,', 'RainTomorrow is No,', 'RainTomorrow is No,', 'RainTomorrow is No,', 'RainTomorrow is No,', 'RainTomorrow is No,', 'RainTomorrow is No,', 'RainTomorrow is No,', 'RainTomorrow is No,', 'RainTomorrow is No,', 'RainTomorrow is No,', 'RainTomorrow is Yes,', 'RainTomorrow is No,', 'RainTomorrow is No,', 'RainTomorrow is No,', 'RainTomorrow is No,']\n"
     ]
    },
    {
     "name": "stderr",
     "output_type": "stream",
     "text": [
      " 74%|███████▍  | 741/1000 [05:57<02:03,  2.10it/s]"
     ]
    },
    {
     "name": "stdout",
     "output_type": "stream",
     "text": [
      "['RainTomorrow is No,', 'RainTomorrow is No,', 'RainTomorrow is No,', 'RainTomorrow is No,', 'RainTomorrow is No,', 'RainTomorrow is No,', 'RainTomorrow is No,', 'RainTomorrow is Yes,', 'RainTomorrow is Yes,', 'RainTomorrow is No,', 'RainTomorrow is No,', 'RainTomorrow is No,', 'RainTomorrow is No,', 'RainTomorrow is No,', 'RainTomorrow is No,', 'RainTomorrow is No,', 'RainTomorrow is No,', 'RainTomorrow is No,', 'RainTomorrow is No,', 'RainTomorrow is Yes,', 'RainTomorrow is No,', 'RainTomorrow is No,', 'RainTomorrow is Yes,', 'RainTomorrow is No,', 'RainTomorrow is No,', 'RainTomorrow is No,', 'RainTomorrow is No,', 'RainTomorrow is No,', 'RainTomorrow is Yes,', 'RainTomorrow is No,', 'RainTomorrow is No,', 'RainTomorrow is No,', 'RainTomorrow is No,', 'RainTomorrow is No,', 'RainTomorrow is No,', 'RainTomorrow is No,', 'RainTomorrow is Yes,', 'RainTomorrow is No,', 'RainTomorrow is No,', 'RainTomorrow is No,', 'RainTomorrow is No,', 'RainTomorrow is No,', 'RainTomorrow is No,', 'RainTomorrow is No,', 'RainTomorrow is No,', 'RainTomorrow is No,', 'RainTomorrow is Yes,', 'RainTomorrow is No,', 'RainTomorrow is No,', 'RainTomorrow is No,']\n"
     ]
    },
    {
     "name": "stderr",
     "output_type": "stream",
     "text": [
      " 74%|███████▍  | 745/1000 [06:00<02:15,  1.88it/s]"
     ]
    },
    {
     "name": "stdout",
     "output_type": "stream",
     "text": [
      "['RainTomorrow is No,', 'RainTomorrow is No,', 'RainTomorrow is No,', 'RainTomorrow is Yes,', 'RainTomorrow is No,', 'RainTomorrow is No,', 'RainTomorrow is Yes,', 'RainTomorrow is No,', 'RainTomorrow is Yes,', 'RainTomorrow is No,', 'RainTomorrow is Yes,', 'RainTomorrow is No,', 'RainTomorrow is Yes,', 'RainTomorrow is No,', 'RainTomorrow is No,', 'RainTomorrow is Yes,', 'RainTomorrow is No,', 'RainTomorrow is Yes,', 'RainTomorrow is No,', 'RainTomorrow is No,', 'RainTomorrow is Yes,', 'RainTomorrow is No,', 'RainTomorrow is Yes,', 'RainTomorrow is No,', 'RainTomorrow is No,', 'RainTomorrow is No,', 'RainTomorrow is No,', 'RainTomorrow is No,', 'RainTomorrow is No,', 'RainTomorrow is Yes,', 'RainTomorrow is No,', 'RainTomorrow is No,', 'RainTomorrow is Yes,', 'RainTomorrow is No,', 'RainTomorrow is No,', 'RainTomorrow is Yes,', 'RainTomorrow is No,', 'RainTomorrow is No,', 'RainTomorrow is No,', 'RainTomorrow is Yes,', 'RainTomorrow is No,', 'RainTomorrow is No,', 'RainTomorrow is Yes,', 'RainTomorrow is No,', 'RainTomorrow is No,', 'RainTomorrow is No,', 'RainTomorrow is No,', 'RainTomorrow is No,', 'RainTomorrow is No,', 'RainTomorrow is No,']\n"
     ]
    },
    {
     "name": "stderr",
     "output_type": "stream",
     "text": [
      " 75%|███████▌  | 751/1000 [06:03<02:10,  1.90it/s]"
     ]
    },
    {
     "name": "stdout",
     "output_type": "stream",
     "text": [
      "['RainTomorrow is No,', 'RainTomorrow is No,', 'RainTomorrow is No,', 'RainTomorrow is Yes,', 'RainTomorrow is Yes,', 'RainTomorrow is Yes,', 'RainTomorrow is No,', 'RainTomorrow is Yes,', 'RainTomorrow is No,', 'RainTomorrow is No,', 'RainTomorrow is No,', 'RainTomorrow is No,', 'RainTomorrow is No,', 'RainTomorrow is No,', 'RainTomorrow is No,', 'RainTomorrow is No,', 'RainTomorrow is No,', 'RainTomorrow is No,', 'RainTomorrow is No,', 'RainTomorrow is No,', 'RainTomorrow is Yes,', 'RainTomorrow is No,', 'RainTomorrow is No,', 'RainTomorrow is No,', 'RainTomorrow is No,', 'RainTomorrow is No,', 'RainTomorrow is Yes,', 'RainTomorrow is Yes,', 'RainTomorrow is No,', 'RainTomorrow is No,', 'RainTomorrow is No,', 'RainTomorrow is No,', 'RainTomorrow is Yes,', 'RainTomorrow is No,', 'RainTomorrow is No,', 'RainTomorrow is No,', 'RainTomorrow is No,', 'RainTomorrow is No,', 'RainTomorrow is No,', 'RainTomorrow is Yes,', 'RainTomorrow is No,', 'RainTomorrow is No,', 'RainTomorrow is No,', 'RainTomorrow is No,', 'RainTomorrow is Yes,', 'RainTomorrow is No,', 'RainTomorrow is No,', 'RainTomorrow is No,', 'RainTomorrow is No,', 'RainTomorrow is No,']\n"
     ]
    },
    {
     "name": "stderr",
     "output_type": "stream",
     "text": [
      " 76%|███████▌  | 755/1000 [06:06<02:23,  1.71it/s]"
     ]
    },
    {
     "name": "stdout",
     "output_type": "stream",
     "text": [
      "['RainTomorrow is No,', 'RainTomorrow is No,', 'RainTomorrow is No,', 'RainTomorrow is No,', 'RainTomorrow is Yes,', 'RainTomorrow is No,', 'RainTomorrow is Yes,', 'RainTomorrow is Yes,', 'RainTomorrow is No,', 'RainTomorrow is No,', 'RainTomorrow is No,', 'RainTomorrow is No,', 'RainTomorrow is No,', 'RainTomorrow is No,', 'RainTomorrow is No,', 'RainTomorrow is Yes,', 'RainTomorrow is No,', 'RainTomorrow is No,', 'RainTomorrow is No,', 'RainTomorrow is No,', 'RainTomorrow is No,', 'RainTomorrow is No,', 'RainTomorrow is No,', 'RainTomorrow is No,', 'RainTomorrow is No,', 'RainTomorrow is No,', 'RainTomorrow is No,', 'RainTomorrow is No,', 'RainTomorrow is No,', 'RainTomorrow is Yes,', 'RainTomorrow is No,', 'RainTomorrow is No,', 'RainTomorrow is No,', 'RainTomorrow is Yes,', 'RainTomorrow is No,', 'RainTomorrow is No,', 'RainTomorrow is No,', 'RainTomorrow is No,', 'RainTomorrow is No,', 'RainTomorrow is No,', 'RainTomorrow is Yes,', 'RainTomorrow is No,', 'RainTomorrow is No,', 'RainTomorrow is Yes,', 'RainTomorrow is No,', 'RainTomorrow is No,', 'RainTomorrow is No,', 'RainTomorrow is No,', 'RainTomorrow is No,', 'RainTomorrow is No,']\n"
     ]
    },
    {
     "name": "stderr",
     "output_type": "stream",
     "text": [
      " 76%|███████▌  | 762/1000 [06:09<02:04,  1.91it/s]"
     ]
    },
    {
     "name": "stdout",
     "output_type": "stream",
     "text": [
      "['RainTomorrow is No,', 'RainTomorrow is No,', 'RainTomorrow is Yes,', 'RainTomorrow is No,', 'RainTomorrow is No,', 'RainTomorrow is No,', 'RainTomorrow is No,', 'RainTomorrow is No,', 'RainTomorrow is Yes,', 'RainTomorrow is No,', 'RainTomorrow is No,', 'RainTomorrow is No,', 'RainTomorrow is No,', 'RainTomorrow is Yes,', 'RainTomorrow is No,', 'RainTomorrow is No,', 'RainTomorrow is No,', 'RainTomorrow is No,', 'RainTomorrow is No,', 'RainTomorrow is No,', 'RainTomorrow is Yes,', 'RainTomorrow is Yes,', 'RainTomorrow is Yes,', 'RainTomorrow is Yes,', 'RainTomorrow is No,', 'RainTomorrow is Yes,', 'RainTomorrow is No,', 'RainTomorrow is No,', 'RainTomorrow is No,', 'RainTomorrow is Yes,', 'RainTomorrow is No,', 'RainTomorrow is No,', 'RainTomorrow is No,', 'RainTomorrow is No,', 'RainTomorrow is No,', 'RainTomorrow is No,', 'RainTomorrow is Yes,', 'RainTomorrow is No,', 'RainTomorrow is Yes,', 'RainTomorrow is No,', 'RainTomorrow is Yes,', 'RainTomorrow is Yes,', 'RainTomorrow is No,', 'RainTomorrow is No,', 'RainTomorrow is No,', 'RainTomorrow is No,', 'RainTomorrow is Yes,', 'RainTomorrow is No,', 'RainTomorrow is No,', 'RainTomorrow is Yes,']\n"
     ]
    },
    {
     "name": "stderr",
     "output_type": "stream",
     "text": [
      " 77%|███████▋  | 767/1000 [06:12<02:06,  1.85it/s]"
     ]
    },
    {
     "name": "stdout",
     "output_type": "stream",
     "text": [
      "['RainTomorrow is No,', 'RainTomorrow is No,', 'RainTomorrow is No,', 'RainTomorrow is Yes,', 'RainTomorrow is No,', 'RainTomorrow is No,', 'RainTomorrow is No,', 'RainTomorrow is No,', 'RainTomorrow is No,', 'RainTomorrow is Yes,', 'RainTomorrow is Yes,', 'RainTomorrow is No,', 'RainTomorrow is No,', 'RainTomorrow is No,', 'RainTomorrow is No,', 'RainTomorrow is Yes,', 'RainTomorrow is No,', 'RainTomorrow is No,', 'RainTomorrow is No,', 'RainTomorrow is No,', 'RainTomorrow is No,', 'RainTomorrow is No,', 'RainTomorrow is No,', 'RainTomorrow is No,', 'RainTomorrow is No,', 'RainTomorrow is No,', 'RainTomorrow is No,', 'RainTomorrow is No,', 'RainTomorrow is No,', 'RainTomorrow is Yes,', 'RainTomorrow is No,', 'RainTomorrow is No,', 'RainTomorrow is No,', 'RainTomorrow is Yes,', 'RainTomorrow is No,', 'RainTomorrow is No,', 'RainTomorrow is No,', 'RainTomorrow is No,', 'RainTomorrow is No,', 'RainTomorrow is No,', 'RainTomorrow is No,', 'RainTomorrow is Yes,', 'RainTomorrow is No,', 'RainTomorrow is No,', 'RainTomorrow is No,', 'RainTomorrow is No,', 'RainTomorrow is Yes,', 'RainTomorrow is Yes,', 'RainTomorrow is Yes,', 'RainTomorrow is Yes,']\n"
     ]
    },
    {
     "name": "stderr",
     "output_type": "stream",
     "text": [
      " 77%|███████▋  | 773/1000 [06:15<01:58,  1.91it/s]"
     ]
    },
    {
     "name": "stdout",
     "output_type": "stream",
     "text": [
      "['RainTomorrow is No,', 'RainTomorrow is Yes,', 'RainTomorrow is No,', 'RainTomorrow is No,', 'RainTomorrow is No,', 'RainTomorrow is No,', 'RainTomorrow is No,', 'RainTomorrow is No,', 'RainTomorrow is No,', 'RainTomorrow is No,', 'RainTomorrow is No,', 'RainTomorrow is No,', 'RainTomorrow is No,', 'RainTomorrow is No,', 'RainTomorrow is No,', 'RainTomorrow is No,', 'RainTomorrow is Yes,', 'RainTomorrow is No,', 'RainTomorrow is No,', 'RainTomorrow is No,', 'RainTomorrow is Yes,', 'RainTomorrow is Yes,', 'RainTomorrow is Yes,', 'RainTomorrow is No,', 'RainTomorrow is Yes,', 'RainTomorrow is No,', 'RainTomorrow is No,', 'RainTomorrow is No,', 'RainTomorrow is Yes,', 'RainTomorrow is No,', 'RainTomorrow is No,', 'RainTomorrow is No,', 'RainTomorrow is No,', 'RainTomorrow is No,', 'RainTomorrow is No,', 'RainTomorrow is No,', 'RainTomorrow is No,', 'RainTomorrow is No,', 'RainTomorrow is No,', 'RainTomorrow is No,', 'RainTomorrow is No,', 'RainTomorrow is No,', 'RainTomorrow is Yes,', 'RainTomorrow is No,', 'RainTomorrow is Yes,', 'RainTomorrow is No,', 'RainTomorrow is Yes,', 'RainTomorrow is No,', 'RainTomorrow is Yes,', 'RainTomorrow is No,']\n"
     ]
    },
    {
     "name": "stderr",
     "output_type": "stream",
     "text": [
      " 78%|███████▊  | 778/1000 [06:18<02:00,  1.84it/s]"
     ]
    },
    {
     "name": "stdout",
     "output_type": "stream",
     "text": [
      "['RainTomorrow is No,', 'RainTomorrow is No,', 'RainTomorrow is No,', 'RainTomorrow is No,', 'RainTomorrow is No,', 'RainTomorrow is No,', 'RainTomorrow is No,', 'RainTomorrow is Yes,', 'RainTomorrow is No,', 'RainTomorrow is No,', 'RainTomorrow is Yes,', 'RainTomorrow is No,', 'RainTomorrow is No,', 'RainTomorrow is No,', 'RainTomorrow is No,', 'RainTomorrow is No,', 'RainTomorrow is No,', 'RainTomorrow is No,', 'RainTomorrow is Yes,', 'RainTomorrow is No,', 'RainTomorrow is No,', 'RainTomorrow is No,', 'RainTomorrow is No,', 'RainTomorrow is Yes,', 'RainTomorrow is No,', 'RainTomorrow is No,', 'RainTomorrow is No,', 'RainTomorrow is No,', 'RainTomorrow is No,', 'RainTomorrow is No,', 'RainTomorrow is Yes,', 'RainTomorrow is No,', 'RainTomorrow is Yes,', 'RainTomorrow is Yes,', 'RainTomorrow is No,', 'RainTomorrow is Yes,', 'RainTomorrow is No,', 'RainTomorrow is Yes,', 'RainTomorrow is No,', 'RainTomorrow is No,', 'RainTomorrow is No,', 'RainTomorrow is No,', 'RainTomorrow is No,', 'RainTomorrow is No,', 'RainTomorrow is No,', 'RainTomorrow is No,', 'RainTomorrow is No,', 'RainTomorrow is Yes,', 'RainTomorrow is No,', 'RainTomorrow is Yes,']\n"
     ]
    },
    {
     "name": "stderr",
     "output_type": "stream",
     "text": [
      " 78%|███████▊  | 783/1000 [06:21<01:59,  1.81it/s]"
     ]
    },
    {
     "name": "stdout",
     "output_type": "stream",
     "text": [
      "['RainTomorrow is Yes,', 'RainTomorrow is No,', 'RainTomorrow is No,', 'RainTomorrow is Yes,', 'RainTomorrow is No,', 'RainTomorrow is No,', 'RainTomorrow is No,', 'RainTomorrow is No,', 'RainTomorrow is No,', 'RainTomorrow is No,', 'RainTomorrow is No,', 'RainTomorrow is No,', 'RainTomorrow is No,', 'RainTomorrow is Yes,', 'RainTomorrow is No,', 'RainTomorrow is No,', 'RainTomorrow is No,', 'RainTomorrow is No,', 'RainTomorrow is Yes,', 'RainTomorrow is No,', 'RainTomorrow is No,', 'RainTomorrow is Yes,', 'RainTomorrow is No,', 'RainTomorrow is No,', 'RainTomorrow is No,', 'RainTomorrow is No,', 'RainTomorrow is No,', 'RainTomorrow is No,', 'RainTomorrow is No,', 'RainTomorrow is No,', 'RainTomorrow is Yes,', 'RainTomorrow is No,', 'RainTomorrow is Yes,', 'RainTomorrow is Yes,', 'RainTomorrow is No,', 'RainTomorrow is No,', 'RainTomorrow is No,', 'RainTomorrow is No,', 'RainTomorrow is No,', 'RainTomorrow is No,', 'RainTomorrow is Yes,', 'RainTomorrow is No,', 'RainTomorrow is No,', 'RainTomorrow is No,', 'RainTomorrow is No,', 'RainTomorrow is No,', 'RainTomorrow is No,', 'RainTomorrow is No,', 'RainTomorrow is No,', 'RainTomorrow is Yes,']\n"
     ]
    },
    {
     "name": "stderr",
     "output_type": "stream",
     "text": [
      " 79%|███████▉  | 793/1000 [06:24<01:30,  2.27it/s]"
     ]
    },
    {
     "name": "stdout",
     "output_type": "stream",
     "text": [
      "['RainTomorrow is No,', 'RainTomorrow is Yes,', 'RainTomorrow is No,', 'RainTomorrow is Yes,', 'RainTomorrow is No,', 'RainTomorrow is No,', 'RainTomorrow is No,', 'RainTomorrow is No,', 'RainTomorrow is No,', 'RainTomorrow is No,', 'RainTomorrow is Yes,', 'RainTomorrow is No,', 'RainTomorrow is No,', 'RainTomorrow is No,', 'RainTomorrow is Yes,', 'RainTomorrow is No,', 'RainTomorrow is Yes,', 'RainTomorrow is No,', 'RainTomorrow is No,', 'RainTomorrow is No,', 'RainTomorrow is Yes,', 'RainTomorrow is No,', 'RainTomorrow is No,', 'RainTomorrow is No,', 'RainTomorrow is No,', 'RainTomorrow is Yes,', 'RainTomorrow is No,', 'RainTomorrow is No,', 'RainTomorrow is No,', 'RainTomorrow is No,', 'RainTomorrow is No,', 'RainTomorrow is No,', 'RainTomorrow is No,', 'RainTomorrow is No,', 'RainTomorrow is Yes,', 'RainTomorrow is No,', 'RainTomorrow is No,', 'RainTomorrow is Yes,', 'RainTomorrow is No,', 'RainTomorrow is Yes,', 'RainTomorrow is No,', 'RainTomorrow is No,', 'RainTomorrow is No,', 'RainTomorrow is No,', 'RainTomorrow is No,', 'RainTomorrow is No,', 'RainTomorrow is Yes,', 'RainTomorrow is No,', 'RainTomorrow is No,', 'RainTomorrow is No,']\n"
     ]
    },
    {
     "name": "stderr",
     "output_type": "stream",
     "text": [
      " 80%|███████▉  | 798/1000 [06:27<01:35,  2.11it/s]"
     ]
    },
    {
     "name": "stdout",
     "output_type": "stream",
     "text": [
      "['RainTomorrow is No,', 'RainTomorrow is No,', 'RainTomorrow is No,', 'RainTomorrow is No,', 'RainTomorrow is No,', 'RainTomorrow is No,', 'RainTomorrow is No,', 'RainTomorrow is No,', 'RainTomorrow is Yes,', 'RainTomorrow is Yes,', 'RainTomorrow is Yes,', 'RainTomorrow is No,', 'RainTomorrow is No,', 'RainTomorrow is No,', 'RainTomorrow is Yes,', 'RainTomorrow is No,', 'RainTomorrow is No,', 'RainTomorrow is No,', 'RainTomorrow is Yes,', 'RainTomorrow is No,', 'RainTomorrow is No,', 'RainTomorrow is No,', 'RainTomorrow is No,', 'RainTomorrow is No,', 'RainTomorrow is No,', 'RainTomorrow is No,', 'RainTomorrow is No,', 'RainTomorrow is No,', 'RainTomorrow is Yes,', 'RainTomorrow is No,', 'RainTomorrow is Yes,', 'RainTomorrow is No,', 'RainTomorrow is No,', 'RainTomorrow is Yes,', 'RainTomorrow is No,', 'RainTomorrow is No,', 'RainTomorrow is No,', 'RainTomorrow is No,', 'RainTomorrow is No,', 'RainTomorrow is No,', 'RainTomorrow is No,', 'RainTomorrow is Yes,', 'RainTomorrow is No,', 'RainTomorrow is No,', 'RainTomorrow is Yes,', 'RainTomorrow is No,', 'RainTomorrow is Yes,', 'RainTomorrow is No,', 'RainTomorrow is No,', 'RainTomorrow is No,']\n"
     ]
    },
    {
     "name": "stderr",
     "output_type": "stream",
     "text": [
      " 81%|████████  | 809/1000 [06:29<01:12,  2.64it/s]"
     ]
    },
    {
     "name": "stdout",
     "output_type": "stream",
     "text": [
      "['RainTomorrow is No,', 'RainTomorrow is No,', 'RainTomorrow is Yes,', 'RainTomorrow is Yes,', 'RainTomorrow is No,', 'RainTomorrow is No,', 'RainTomorrow is Yes,', 'RainTomorrow is No,', 'RainTomorrow is Yes,', 'RainTomorrow is No,', 'RainTomorrow is No,', 'RainTomorrow is Yes,', 'RainTomorrow is Yes,', 'RainTomorrow is Yes,', 'RainTomorrow is No,', 'RainTomorrow is No,', 'RainTomorrow is No,', 'RainTomorrow is Yes,', 'RainTomorrow is No,', 'RainTomorrow is Yes,', 'RainTomorrow is No,', 'RainTomorrow is No,', 'RainTomorrow is No,', 'RainTomorrow is No,', 'RainTomorrow is No,', 'RainTomorrow is No,', 'RainTomorrow is No,', 'RainTomorrow is No,', 'RainTomorrow is No,', 'RainTomorrow is No,', 'RainTomorrow is No,', 'RainTomorrow is No,', 'RainTomorrow is Yes,', 'RainTomorrow is No,', 'RainTomorrow is No,', 'RainTomorrow is No,', 'RainTomorrow is No,', 'RainTomorrow is Yes,', 'RainTomorrow is Yes,', 'RainTomorrow is No,', 'RainTomorrow is Yes,', 'RainTomorrow is No,', 'RainTomorrow is No,', 'RainTomorrow is No,', 'RainTomorrow is No,', 'RainTomorrow is No,', 'RainTomorrow is Yes,', 'RainTomorrow is No,', 'RainTomorrow is No,', 'RainTomorrow is Yes,']\n"
     ]
    },
    {
     "name": "stderr",
     "output_type": "stream",
     "text": [
      " 82%|████████▏ | 818/1000 [06:32<01:05,  2.77it/s]"
     ]
    },
    {
     "name": "stdout",
     "output_type": "stream",
     "text": [
      "['RainTomorrow is Yes,', 'RainTomorrow is No,', 'RainTomorrow is Yes,', 'RainTomorrow is Yes,', 'RainTomorrow is Yes,', 'RainTomorrow is No,', 'RainTomorrow is No,', 'RainTomorrow is Yes,', 'RainTomorrow is No,', 'RainTomorrow is No,', 'RainTomorrow is No,', 'RainTomorrow is No,', 'RainTomorrow is No,', 'RainTomorrow is No,', 'RainTomorrow is No,', 'RainTomorrow is No,', 'RainTomorrow is Yes,', 'RainTomorrow is No,', 'RainTomorrow is No,', 'RainTomorrow is Yes,', 'RainTomorrow is Yes,', 'RainTomorrow is Yes,', 'RainTomorrow is Yes,', 'RainTomorrow is No,', 'RainTomorrow is No,', 'RainTomorrow is No,', 'RainTomorrow is No,', 'RainTomorrow is No,', 'RainTomorrow is No,', 'RainTomorrow is Yes,', 'RainTomorrow is No,', 'RainTomorrow is Yes,', 'RainTomorrow is No,', 'RainTomorrow is No,', 'RainTomorrow is No,', 'RainTomorrow is No,', 'RainTomorrow is No,', 'RainTomorrow is No,', 'RainTomorrow is No,', 'RainTomorrow is No,', 'RainTomorrow is No,', 'RainTomorrow is No,', 'RainTomorrow is No,', 'RainTomorrow is No,', 'RainTomorrow is Yes,', 'RainTomorrow is Yes,', 'RainTomorrow is No,', 'RainTomorrow is Yes,', 'RainTomorrow is Yes,', 'RainTomorrow is No,']\n"
     ]
    },
    {
     "name": "stderr",
     "output_type": "stream",
     "text": [
      " 82%|████████▏ | 821/1000 [06:35<01:20,  2.24it/s]"
     ]
    },
    {
     "name": "stdout",
     "output_type": "stream",
     "text": [
      "['RainTomorrow is No,', 'RainTomorrow is No,', 'RainTomorrow is No,', 'RainTomorrow is No,', 'RainTomorrow is No,', 'RainTomorrow is Yes,', 'RainTomorrow is Yes,', 'RainTomorrow is Yes,', 'RainTomorrow is No,', 'RainTomorrow is Yes,', 'RainTomorrow is Yes,', 'RainTomorrow is No,', 'RainTomorrow is No,', 'RainTomorrow is No,', 'RainTomorrow is No,', 'RainTomorrow is No,', 'RainTomorrow is No,', 'RainTomorrow is No,', 'RainTomorrow is No,', 'RainTomorrow is No,', 'RainTomorrow is No,', 'RainTomorrow is No,', 'RainTomorrow is Yes,', 'RainTomorrow is No,', 'RainTomorrow is No,', 'RainTomorrow is No,', 'RainTomorrow is Yes,', 'RainTomorrow is No,', 'RainTomorrow is No,', 'RainTomorrow is No,', 'RainTomorrow is Yes,', 'RainTomorrow is Yes,', 'RainTomorrow is No,', 'RainTomorrow is No,', 'RainTomorrow is No,', 'RainTomorrow is Yes,', 'RainTomorrow is No,', 'RainTomorrow is No,', 'RainTomorrow is Yes,', 'RainTomorrow is No,', 'RainTomorrow is No,', 'RainTomorrow is Yes,', 'RainTomorrow is Yes,', 'RainTomorrow is No,', 'RainTomorrow is No,', 'RainTomorrow is Yes,', 'RainTomorrow is No,', 'RainTomorrow is Yes,', 'RainTomorrow is No,', 'RainTomorrow is No,']\n"
     ]
    },
    {
     "name": "stderr",
     "output_type": "stream",
     "text": [
      " 83%|████████▎ | 831/1000 [06:38<01:04,  2.63it/s]"
     ]
    },
    {
     "name": "stdout",
     "output_type": "stream",
     "text": [
      "['RainTomorrow is Yes,', 'RainTomorrow is No,', 'RainTomorrow is No,', 'RainTomorrow is No,', 'RainTomorrow is No,', 'RainTomorrow is No,', 'RainTomorrow is Yes,', 'RainTomorrow is No,', 'RainTomorrow is Yes,', 'RainTomorrow is No,', 'RainTomorrow is No,', 'RainTomorrow is Yes,', 'RainTomorrow is No,', 'RainTomorrow is No,', 'RainTomorrow is No,', 'RainTomorrow is No,', 'RainTomorrow is No,', 'RainTomorrow is No,', 'RainTomorrow is Yes,', 'RainTomorrow is No,', 'RainTomorrow is No,', 'RainTomorrow is Yes,', 'RainTomorrow is Yes,', 'RainTomorrow is No,', 'RainTomorrow is No,', 'RainTomorrow is No,', 'RainTomorrow is No,', 'RainTomorrow is No,', 'RainTomorrow is Yes,', 'RainTomorrow is No,', 'RainTomorrow is No,', 'RainTomorrow is No,', 'RainTomorrow is No,', 'RainTomorrow is No,', 'RainTomorrow is No,', 'RainTomorrow is No,', 'RainTomorrow is No,', 'RainTomorrow is Yes,', 'RainTomorrow is Yes,', 'RainTomorrow is No,', 'RainTomorrow is No,', 'RainTomorrow is Yes,', 'RainTomorrow is Yes,', 'RainTomorrow is Yes,', 'RainTomorrow is No,', 'RainTomorrow is No,', 'RainTomorrow is No,', 'RainTomorrow is No,', 'RainTomorrow is No,', 'RainTomorrow is Yes,']\n"
     ]
    },
    {
     "name": "stderr",
     "output_type": "stream",
     "text": [
      " 84%|████████▍ | 838/1000 [06:41<01:03,  2.56it/s]"
     ]
    },
    {
     "name": "stdout",
     "output_type": "stream",
     "text": [
      "['RainTomorrow is Yes,', 'RainTomorrow is No,', 'RainTomorrow is No,', 'RainTomorrow is Yes,', 'RainTomorrow is No,', 'RainTomorrow is No,', 'RainTomorrow is No,', 'RainTomorrow is No,', 'RainTomorrow is No,', 'RainTomorrow is No,', 'RainTomorrow is Yes,', 'RainTomorrow is No,', 'RainTomorrow is Yes,', 'RainTomorrow is Yes,', 'RainTomorrow is No,', 'RainTomorrow is No,', 'RainTomorrow is No,', 'RainTomorrow is No,', 'RainTomorrow is No,', 'RainTomorrow is No,', 'RainTomorrow is No,', 'RainTomorrow is No,', 'RainTomorrow is No,', 'RainTomorrow is Yes,', 'RainTomorrow is Yes,', 'RainTomorrow is No,', 'RainTomorrow is Yes,', 'RainTomorrow is Yes,', 'RainTomorrow is Yes,', 'RainTomorrow is No,', 'RainTomorrow is No,', 'RainTomorrow is No,', 'RainTomorrow is Yes,', 'RainTomorrow is Yes,', 'RainTomorrow is Yes,', 'RainTomorrow is No,', 'RainTomorrow is No,', 'RainTomorrow is No,', 'RainTomorrow is No,', 'RainTomorrow is No,', 'RainTomorrow is No,', 'RainTomorrow is No,', 'RainTomorrow is No,', 'RainTomorrow is No,', 'RainTomorrow is No,', 'RainTomorrow is No,', 'RainTomorrow is No,', 'RainTomorrow is No,', 'RainTomorrow is No,', 'RainTomorrow is No,']\n"
     ]
    },
    {
     "name": "stderr",
     "output_type": "stream",
     "text": [
      " 85%|████████▍ | 847/1000 [06:44<00:55,  2.76it/s]"
     ]
    },
    {
     "name": "stdout",
     "output_type": "stream",
     "text": [
      "['RainTomorrow is No,', 'RainTomorrow is No,', 'RainTomorrow is No,', 'RainTomorrow is Yes,', 'RainTomorrow is No,', 'RainTomorrow is No,', 'RainTomorrow is No,', 'RainTomorrow is Yes,', 'RainTomorrow is No,', 'RainTomorrow is Yes,', 'RainTomorrow is No,', 'RainTomorrow is No,', 'RainTomorrow is Yes,', 'RainTomorrow is No,', 'RainTomorrow is No,', 'RainTomorrow is No,', 'RainTomorrow is No,', 'RainTomorrow is No,', 'RainTomorrow is Yes,', 'RainTomorrow is No,', 'RainTomorrow is No,', 'RainTomorrow is No,', 'RainTomorrow is Yes,', 'RainTomorrow is Yes,', 'RainTomorrow is No,', 'RainTomorrow is No,', 'RainTomorrow is No,', 'RainTomorrow is No,', 'RainTomorrow is No,', 'RainTomorrow is No,', 'RainTomorrow is No,', 'RainTomorrow is No,', 'RainTomorrow is No,', 'RainTomorrow is Yes,', 'RainTomorrow is No,', 'RainTomorrow is No,', 'RainTomorrow is No,', 'RainTomorrow is No,', 'RainTomorrow is No,', 'RainTomorrow is No,', 'RainTomorrow is No,', 'RainTomorrow is No,', 'RainTomorrow is No,', 'RainTomorrow is No,', 'RainTomorrow is No,', 'RainTomorrow is No,', 'RainTomorrow is No,', 'RainTomorrow is Yes,', 'RainTomorrow is No,', 'RainTomorrow is No,']\n"
     ]
    },
    {
     "name": "stderr",
     "output_type": "stream",
     "text": [
      " 85%|████████▍ | 849/1000 [06:47<01:10,  2.13it/s]"
     ]
    },
    {
     "name": "stdout",
     "output_type": "stream",
     "text": [
      "['RainTomorrow is No,', 'RainTomorrow is No,', 'RainTomorrow is No,', 'RainTomorrow is No,', 'RainTomorrow is No,', 'RainTomorrow is No,', 'RainTomorrow is Yes,', 'RainTomorrow is Yes,', 'RainTomorrow is Yes,', 'RainTomorrow is No,', 'RainTomorrow is No,', 'RainTomorrow is No,', 'RainTomorrow is Yes,', 'RainTomorrow is Yes,', 'RainTomorrow is No,', 'RainTomorrow is Yes,', 'RainTomorrow is Yes,', 'RainTomorrow is Yes,', 'RainTomorrow is No,', 'RainTomorrow is No,', 'RainTomorrow is No,', 'RainTomorrow is No,', 'RainTomorrow is No,', 'RainTomorrow is No,', 'RainTomorrow is Yes,', 'RainTomorrow is No,', 'RainTomorrow is No,', 'RainTomorrow is No,', 'RainTomorrow is No,', 'RainTomorrow is No,', 'RainTomorrow is No,', 'RainTomorrow is No,', 'RainTomorrow is No,', 'RainTomorrow is No,', 'RainTomorrow is No,', 'RainTomorrow is No,', 'RainTomorrow is No,', 'RainTomorrow is No,', 'RainTomorrow is No,', 'RainTomorrow is No,', 'RainTomorrow is No,', 'RainTomorrow is No,', 'RainTomorrow is No,', 'RainTomorrow is Yes,', 'RainTomorrow is No,', 'RainTomorrow is No,', 'RainTomorrow is No,', 'RainTomorrow is No,', 'RainTomorrow is No,', 'RainTomorrow is Yes,']\n"
     ]
    },
    {
     "name": "stderr",
     "output_type": "stream",
     "text": [
      " 85%|████████▌ | 853/1000 [06:50<01:17,  1.90it/s]"
     ]
    },
    {
     "name": "stdout",
     "output_type": "stream",
     "text": [
      "['RainTomorrow is No,', 'RainTomorrow is No,', 'RainTomorrow is Yes,', 'RainTomorrow is Yes,', 'RainTomorrow is Yes,', 'RainTomorrow is No,', 'RainTomorrow is No,', 'RainTomorrow is No,', 'RainTomorrow is No,', 'RainTomorrow is No,', 'RainTomorrow is No,', 'RainTomorrow is Yes,', 'RainTomorrow is No,', 'RainTomorrow is No,', 'RainTomorrow is Yes,', 'RainTomorrow is No,', 'RainTomorrow is No,', 'RainTomorrow is No,', 'RainTomorrow is No,', 'RainTomorrow is Yes,', 'RainTomorrow is No,', 'RainTomorrow is Yes,', 'RainTomorrow is No,', 'RainTomorrow is Yes,', 'RainTomorrow is No,', 'RainTomorrow is Yes,', 'RainTomorrow is Yes,', 'RainTomorrow is No,', 'RainTomorrow is No,', 'RainTomorrow is No,', 'RainTomorrow is No,', 'RainTomorrow is No,', 'RainTomorrow is Yes,', 'RainTomorrow is Yes,', 'RainTomorrow is Yes,', 'RainTomorrow is No,', 'RainTomorrow is No,', 'RainTomorrow is No,', 'RainTomorrow is Yes,', 'RainTomorrow is No,', 'RainTomorrow is Yes,', 'RainTomorrow is Yes,', 'RainTomorrow is No,', 'RainTomorrow is No,', 'RainTomorrow is Yes,', 'RainTomorrow is No,', 'RainTomorrow is Yes,', 'RainTomorrow is Yes,', 'RainTomorrow is Yes,', 'RainTomorrow is No,']\n"
     ]
    },
    {
     "name": "stderr",
     "output_type": "stream",
     "text": [
      " 86%|████████▌ | 859/1000 [06:52<01:11,  1.98it/s]"
     ]
    },
    {
     "name": "stdout",
     "output_type": "stream",
     "text": [
      "['RainTomorrow is No,', 'RainTomorrow is No,', 'RainTomorrow is No,', 'RainTomorrow is No,', 'RainTomorrow is No,', 'RainTomorrow is Yes,', 'RainTomorrow is No,', 'RainTomorrow is Yes,', 'RainTomorrow is No,', 'RainTomorrow is No,', 'RainTomorrow is Yes,', 'RainTomorrow is No,', 'RainTomorrow is No,', 'RainTomorrow is No,', 'RainTomorrow is Yes,', 'RainTomorrow is No,', 'RainTomorrow is No,', 'RainTomorrow is No,', 'RainTomorrow is No,', 'RainTomorrow is Yes,', 'RainTomorrow is No,', 'RainTomorrow is No,', 'RainTomorrow is No,', 'RainTomorrow is No,', 'RainTomorrow is No,', 'RainTomorrow is No,', 'RainTomorrow is No,', 'RainTomorrow is No,', 'RainTomorrow is Yes,', 'RainTomorrow is No,', 'RainTomorrow is Yes,', 'RainTomorrow is No,', 'RainTomorrow is No,', 'RainTomorrow is Yes,', 'RainTomorrow is No,', 'RainTomorrow is No,', 'RainTomorrow is No,', 'RainTomorrow is Yes,', 'RainTomorrow is No,', 'RainTomorrow is No,', 'RainTomorrow is No,', 'RainTomorrow is No,', 'RainTomorrow is No,', 'RainTomorrow is No,', 'RainTomorrow is No,', 'RainTomorrow is No,', 'RainTomorrow is No,', 'RainTomorrow is No,', 'RainTomorrow is No,', 'RainTomorrow is No,']\n"
     ]
    },
    {
     "name": "stderr",
     "output_type": "stream",
     "text": [
      " 86%|████████▋ | 865/1000 [06:55<01:08,  1.96it/s]"
     ]
    },
    {
     "name": "stdout",
     "output_type": "stream",
     "text": [
      "['RainTomorrow is No,', 'RainTomorrow is No,', 'RainTomorrow is No,', 'RainTomorrow is No,', 'RainTomorrow is Yes,', 'RainTomorrow is No,', 'RainTomorrow is No,', 'RainTomorrow is No,', 'RainTomorrow is No,', 'RainTomorrow is No,', 'RainTomorrow is No,', 'RainTomorrow is No,', 'RainTomorrow is No,', 'RainTomorrow is No,', 'RainTomorrow is Yes,', 'RainTomorrow is No,', 'RainTomorrow is Yes,', 'RainTomorrow is No,', 'RainTomorrow is Yes,', 'RainTomorrow is Yes,', 'RainTomorrow is No,', 'RainTomorrow is Yes,', 'RainTomorrow is No,', 'RainTomorrow is No,', 'RainTomorrow is No,', 'RainTomorrow is No,', 'RainTomorrow is No,', 'RainTomorrow is No,', 'RainTomorrow is No,', 'RainTomorrow is No,', 'RainTomorrow is No,', 'RainTomorrow is No,', 'RainTomorrow is No,', 'RainTomorrow is No,', 'RainTomorrow is Yes,', 'RainTomorrow is Yes,', 'RainTomorrow is No,', 'RainTomorrow is No,', 'RainTomorrow is No,', 'RainTomorrow is No,', 'RainTomorrow is No,', 'RainTomorrow is No,', 'RainTomorrow is Yes,', 'RainTomorrow is No,', 'RainTomorrow is Yes,', 'RainTomorrow is No,', 'RainTomorrow is No,', 'RainTomorrow is No,', 'RainTomorrow is No,', 'RainTomorrow is No,']\n"
     ]
    },
    {
     "name": "stderr",
     "output_type": "stream",
     "text": [
      " 87%|████████▋ | 873/1000 [06:58<00:58,  2.17it/s]"
     ]
    },
    {
     "name": "stdout",
     "output_type": "stream",
     "text": [
      "['RainTomorrow is Yes,', 'RainTomorrow is No,', 'RainTomorrow is No,', 'RainTomorrow is No,', 'RainTomorrow is No,', 'RainTomorrow is No,', 'RainTomorrow is Yes,', 'RainTomorrow is No,', 'RainTomorrow is No,', 'RainTomorrow is No,', 'RainTomorrow is Yes,', 'RainTomorrow is No,', 'RainTomorrow is No,', 'RainTomorrow is Yes,', 'RainTomorrow is Yes,', 'RainTomorrow is No,', 'RainTomorrow is No,', 'RainTomorrow is No,', 'RainTomorrow is No,', 'RainTomorrow is Yes,', 'RainTomorrow is Yes,', 'RainTomorrow is Yes,', 'RainTomorrow is No,', 'RainTomorrow is No,', 'RainTomorrow is Yes,', 'RainTomorrow is Yes,', 'RainTomorrow is Yes,', 'RainTomorrow is No,', 'RainTomorrow is No,', 'RainTomorrow is No,', 'RainTomorrow is Yes,', 'RainTomorrow is Yes,', 'RainTomorrow is No,', 'RainTomorrow is No,', 'RainTomorrow is No,', 'RainTomorrow is No,', 'RainTomorrow is Yes,', 'RainTomorrow is No,', 'RainTomorrow is Yes,', 'RainTomorrow is No,', 'RainTomorrow is Yes,', 'RainTomorrow is No,', 'RainTomorrow is No,', 'RainTomorrow is No,', 'RainTomorrow is No,', 'RainTomorrow is No,', 'RainTomorrow is No,', 'RainTomorrow is No,', 'RainTomorrow is Yes,', 'RainTomorrow is No,']\n"
     ]
    },
    {
     "name": "stderr",
     "output_type": "stream",
     "text": [
      " 88%|████████▊ | 878/1000 [07:01<00:59,  2.04it/s]"
     ]
    },
    {
     "name": "stdout",
     "output_type": "stream",
     "text": [
      "['RainTomorrow is No,', 'RainTomorrow is No,', 'RainTomorrow is Yes,', 'RainTomorrow is No,', 'RainTomorrow is No,', 'RainTomorrow is No,', 'RainTomorrow is Yes,', 'RainTomorrow is No,', 'RainTomorrow is No,', 'RainTomorrow is No,', 'RainTomorrow is Yes,', 'RainTomorrow is Yes,', 'RainTomorrow is No,', 'RainTomorrow is Yes,', 'RainTomorrow is No,', 'RainTomorrow is No,', 'RainTomorrow is No,', 'RainTomorrow is No,', 'RainTomorrow is No,', 'RainTomorrow is No,', 'RainTomorrow is Yes,', 'RainTomorrow is No,', 'RainTomorrow is Yes,', 'RainTomorrow is No,', 'RainTomorrow is No,', 'RainTomorrow is Yes,', 'RainTomorrow is No,', 'RainTomorrow is No,', 'RainTomorrow is No,', 'RainTomorrow is No,', 'RainTomorrow is No,', 'RainTomorrow is No,', 'RainTomorrow is No,', 'RainTomorrow is No,', 'RainTomorrow is No,', 'RainTomorrow is Yes,', 'RainTomorrow is Yes,', 'RainTomorrow is No,', 'RainTomorrow is Yes,', 'RainTomorrow is No,', 'RainTomorrow is Yes,', 'RainTomorrow is No,', 'RainTomorrow is Yes,', 'RainTomorrow is No,', 'RainTomorrow is No,', 'RainTomorrow is No,', 'RainTomorrow is No,', 'RainTomorrow is No,', 'RainTomorrow is No,', 'RainTomorrow is Yes,']\n"
     ]
    },
    {
     "name": "stderr",
     "output_type": "stream",
     "text": [
      " 89%|████████▊ | 887/1000 [07:04<00:47,  2.38it/s]"
     ]
    },
    {
     "name": "stdout",
     "output_type": "stream",
     "text": [
      "['RainTomorrow is No,', 'RainTomorrow is No,', 'RainTomorrow is Yes,', 'RainTomorrow is No,', 'RainTomorrow is No,', 'RainTomorrow is No,', 'RainTomorrow is No,', 'RainTomorrow is No,', 'RainTomorrow is No,', 'RainTomorrow is No,', 'RainTomorrow is No,', 'RainTomorrow is No,', 'RainTomorrow is No,', 'RainTomorrow is No,', 'RainTomorrow is No,', 'RainTomorrow is No,', 'RainTomorrow is No,', 'RainTomorrow is No,', 'RainTomorrow is No,', 'RainTomorrow is Yes,', 'RainTomorrow is No,', 'RainTomorrow is Yes,', 'RainTomorrow is No,', 'RainTomorrow is No,', 'RainTomorrow is No,', 'RainTomorrow is Yes,', 'RainTomorrow is No,', 'RainTomorrow is No,', 'RainTomorrow is Yes,', 'RainTomorrow is No,', 'RainTomorrow is No,', 'RainTomorrow is No,', 'RainTomorrow is No,', 'RainTomorrow is No,', 'RainTomorrow is No,', 'RainTomorrow is No,', 'RainTomorrow is Yes,', 'RainTomorrow is Yes,', 'RainTomorrow is Yes,', 'RainTomorrow is No,', 'RainTomorrow is Yes,', 'RainTomorrow is No,', 'RainTomorrow is Yes,', 'RainTomorrow is No,', 'RainTomorrow is No,', 'RainTomorrow is No,', 'RainTomorrow is No,', 'RainTomorrow is Yes,', 'RainTomorrow is No,', 'RainTomorrow is Yes,']\n"
     ]
    },
    {
     "name": "stderr",
     "output_type": "stream",
     "text": [
      " 89%|████████▉ | 893/1000 [07:07<00:46,  2.31it/s]"
     ]
    },
    {
     "name": "stdout",
     "output_type": "stream",
     "text": [
      "['RainTomorrow is Yes,', 'RainTomorrow is No,', 'RainTomorrow is No,', 'RainTomorrow is No,', 'RainTomorrow is No,', 'RainTomorrow is No,', 'RainTomorrow is Yes,', 'RainTomorrow is No,', 'RainTomorrow is No,', 'RainTomorrow is No,', 'RainTomorrow is No,', 'RainTomorrow is No,', 'RainTomorrow is Yes,', 'RainTomorrow is No,', 'RainTomorrow is No,', 'RainTomorrow is Yes,', 'RainTomorrow is No,', 'RainTomorrow is Yes,', 'RainTomorrow is No,', 'RainTomorrow is No,', 'RainTomorrow is No,', 'RainTomorrow is No,', 'RainTomorrow is No,', 'RainTomorrow is No,', 'RainTomorrow is No,', 'RainTomorrow is No,', 'RainTomorrow is No,', 'RainTomorrow is No,', 'RainTomorrow is No,', 'RainTomorrow is Yes,', 'RainTomorrow is No,', 'RainTomorrow is Yes,', 'RainTomorrow is No,', 'RainTomorrow is No,', 'RainTomorrow is No,', 'RainTomorrow is No,', 'RainTomorrow is No,', 'RainTomorrow is Yes,', 'RainTomorrow is No,', 'RainTomorrow is No,', 'RainTomorrow is No,', 'RainTomorrow is No,', 'RainTomorrow is Yes,', 'RainTomorrow is No,', 'RainTomorrow is No,', 'RainTomorrow is No,', 'RainTomorrow is No,', 'RainTomorrow is Yes,', 'RainTomorrow is Yes,', 'RainTomorrow is No,']\n"
     ]
    },
    {
     "name": "stderr",
     "output_type": "stream",
     "text": [
      " 90%|█████████ | 900/1000 [07:10<00:43,  2.32it/s]"
     ]
    },
    {
     "name": "stdout",
     "output_type": "stream",
     "text": [
      "['RainTomorrow is No,', 'RainTomorrow is No,', 'RainTomorrow is No,', 'RainTomorrow is No,', 'RainTomorrow is Yes,', 'RainTomorrow is Yes,', 'RainTomorrow is No,', 'RainTomorrow is Yes,', 'RainTomorrow is No,', 'RainTomorrow is No,', 'RainTomorrow is No,', 'RainTomorrow is Yes,', 'RainTomorrow is No,', 'RainTomorrow is Yes,', 'RainTomorrow is No,', 'RainTomorrow is No,', 'RainTomorrow is Yes,', 'RainTomorrow is Yes,', 'RainTomorrow is Yes,', 'RainTomorrow is No,', 'RainTomorrow is Yes,', 'RainTomorrow is Yes,', 'RainTomorrow is No,', 'RainTomorrow is Yes,', 'RainTomorrow is Yes,', 'RainTomorrow is Yes,', 'RainTomorrow is No,', 'RainTomorrow is No,', 'RainTomorrow is Yes,', 'RainTomorrow is Yes,', 'RainTomorrow is Yes,', 'RainTomorrow is No,', 'RainTomorrow is No,', 'RainTomorrow is No,', 'RainTomorrow is Yes,', 'RainTomorrow is No,', 'RainTomorrow is No,', 'RainTomorrow is No,', 'RainTomorrow is Yes,', 'RainTomorrow is Yes,', 'RainTomorrow is No,', 'RainTomorrow is No,', 'RainTomorrow is Yes,', 'RainTomorrow is No,', 'RainTomorrow is No,', 'RainTomorrow is No,', 'RainTomorrow is No,', 'RainTomorrow is No,', 'RainTomorrow is No,', 'RainTomorrow is Yes,']\n"
     ]
    },
    {
     "name": "stderr",
     "output_type": "stream",
     "text": [
      " 90%|█████████ | 905/1000 [07:13<00:43,  2.17it/s]"
     ]
    },
    {
     "name": "stdout",
     "output_type": "stream",
     "text": [
      "['RainTomorrow is No,', 'RainTomorrow is Yes,', 'RainTomorrow is No,', 'RainTomorrow is No,', 'RainTomorrow is Yes,', 'RainTomorrow is No,', 'RainTomorrow is Yes,', 'RainTomorrow is No,', 'RainTomorrow is No,', 'RainTomorrow is No,', 'RainTomorrow is Yes,', 'RainTomorrow is Yes,', 'RainTomorrow is No,', 'RainTomorrow is No,', 'RainTomorrow is No,', 'RainTomorrow is No,', 'RainTomorrow is No,', 'RainTomorrow is No,', 'RainTomorrow is Yes,', 'RainTomorrow is No,', 'RainTomorrow is No,', 'RainTomorrow is Yes,', 'RainTomorrow is No,', 'RainTomorrow is No,', 'RainTomorrow is No,', 'RainTomorrow is No,', 'RainTomorrow is Yes,', 'RainTomorrow is No,', 'RainTomorrow is No,', 'RainTomorrow is No,', 'RainTomorrow is No,', 'RainTomorrow is Yes,', 'RainTomorrow is Yes,', 'RainTomorrow is No,', 'RainTomorrow is Yes,', 'RainTomorrow is No,', 'RainTomorrow is No,', 'RainTomorrow is Yes,', 'RainTomorrow is No,', 'RainTomorrow is No,', 'RainTomorrow is Yes,', 'RainTomorrow is No,', 'RainTomorrow is No,', 'RainTomorrow is Yes,', 'RainTomorrow is Yes,', 'RainTomorrow is No,', 'RainTomorrow is No,', 'RainTomorrow is Yes,', 'RainTomorrow is No,', 'RainTomorrow is Yes,']\n"
     ]
    },
    {
     "name": "stderr",
     "output_type": "stream",
     "text": [
      " 91%|█████████ | 911/1000 [07:16<00:41,  2.12it/s]"
     ]
    },
    {
     "name": "stdout",
     "output_type": "stream",
     "text": [
      "['RainTomorrow is No,', 'RainTomorrow is Yes,', 'RainTomorrow is Yes,', 'RainTomorrow is No,', 'RainTomorrow is Yes,', 'RainTomorrow is No,', 'RainTomorrow is Yes,', 'RainTomorrow is No,', 'RainTomorrow is No,', 'RainTomorrow is Yes,', 'RainTomorrow is No,', 'RainTomorrow is No,', 'RainTomorrow is No,', 'RainTomorrow is No,', 'RainTomorrow is No,', 'RainTomorrow is No,', 'RainTomorrow is No,', 'RainTomorrow is Yes,', 'RainTomorrow is No,', 'RainTomorrow is No,', 'RainTomorrow is No,', 'RainTomorrow is No,', 'RainTomorrow is Yes,', 'RainTomorrow is No,', 'RainTomorrow is No,', 'RainTomorrow is No,', 'RainTomorrow is Yes,', 'RainTomorrow is Yes,', 'RainTomorrow is Yes,', 'RainTomorrow is No,', 'RainTomorrow is No,', 'RainTomorrow is No,', 'RainTomorrow is No,', 'RainTomorrow is Yes,', 'RainTomorrow is Yes,', 'RainTomorrow is Yes,', 'RainTomorrow is Yes,', 'RainTomorrow is No,', 'RainTomorrow is No,', 'RainTomorrow is No,', 'RainTomorrow is No,', 'RainTomorrow is No,', 'RainTomorrow is No,', 'RainTomorrow is No,', 'RainTomorrow is No,', 'RainTomorrow is No,', 'RainTomorrow is No,', 'RainTomorrow is Yes,', 'RainTomorrow is No,', 'RainTomorrow is No,']\n"
     ]
    },
    {
     "name": "stderr",
     "output_type": "stream",
     "text": [
      " 92%|█████████▏| 916/1000 [07:19<00:42,  1.99it/s]"
     ]
    },
    {
     "name": "stdout",
     "output_type": "stream",
     "text": [
      "['RainTomorrow is No,', 'RainTomorrow is No,', 'RainTomorrow is Yes,', 'RainTomorrow is No,', 'RainTomorrow is No,', 'RainTomorrow is No,', 'RainTomorrow is Yes,', 'RainTomorrow is No,', 'RainTomorrow is Yes,', 'RainTomorrow is Yes,', 'RainTomorrow is No,', 'RainTomorrow is No,', 'RainTomorrow is No,', 'RainTomorrow is Yes,', 'RainTomorrow is No,', 'RainTomorrow is No,', 'RainTomorrow is No,', 'RainTomorrow is No,', 'RainTomorrow is No,', 'RainTomorrow is No,', 'RainTomorrow is Yes,', 'RainTomorrow is No,', 'RainTomorrow is Yes,', 'RainTomorrow is No,', 'RainTomorrow is No,', 'RainTomorrow is Yes,', 'RainTomorrow is No,', 'RainTomorrow is No,', 'RainTomorrow is Yes,', 'RainTomorrow is No,', 'RainTomorrow is No,', 'RainTomorrow is No,', 'RainTomorrow is No,', 'RainTomorrow is Yes,', 'RainTomorrow is No,', 'RainTomorrow is No,', 'RainTomorrow is Yes,', 'RainTomorrow is No,', 'RainTomorrow is No,', 'RainTomorrow is No,', 'RainTomorrow is No,', 'RainTomorrow is No,', 'RainTomorrow is No,', 'RainTomorrow is No,', 'RainTomorrow is No,', 'RainTomorrow is No,', 'RainTomorrow is No,', 'RainTomorrow is No,', 'RainTomorrow is No,', 'RainTomorrow is Yes,']\n"
     ]
    },
    {
     "name": "stderr",
     "output_type": "stream",
     "text": [
      " 92%|█████████▏| 919/1000 [07:21<00:47,  1.72it/s]"
     ]
    },
    {
     "name": "stdout",
     "output_type": "stream",
     "text": [
      "['RainTomorrow is No,', 'RainTomorrow is No,', 'RainTomorrow is No,', 'RainTomorrow is No,', 'RainTomorrow is No,', 'RainTomorrow is No,', 'RainTomorrow is Yes,', 'RainTomorrow is No,', 'RainTomorrow is Yes,', 'RainTomorrow is No,', 'RainTomorrow is No,', 'RainTomorrow is No,', 'RainTomorrow is No,', 'RainTomorrow is No,', 'RainTomorrow is No,', 'RainTomorrow is No,', 'RainTomorrow is Yes,', 'RainTomorrow is No,', 'RainTomorrow is No,', 'RainTomorrow is No,', 'RainTomorrow is No,', 'RainTomorrow is No,', 'RainTomorrow is No,', 'RainTomorrow is No,', 'RainTomorrow is No,', 'RainTomorrow is No,', 'RainTomorrow is No,', 'RainTomorrow is No,', 'RainTomorrow is No,', 'RainTomorrow is No,', 'RainTomorrow is No,', 'RainTomorrow is No,', 'RainTomorrow is No,', 'RainTomorrow is No,', 'RainTomorrow is No,', 'RainTomorrow is No,', 'RainTomorrow is No,', 'RainTomorrow is Yes,', 'RainTomorrow is Yes,', 'RainTomorrow is No,', 'RainTomorrow is No,', 'RainTomorrow is No,', 'RainTomorrow is No,', 'RainTomorrow is Yes,', 'RainTomorrow is No,', 'RainTomorrow is Yes,', 'RainTomorrow is Yes,', 'RainTomorrow is No,', 'RainTomorrow is No,', 'RainTomorrow is Yes,']\n"
     ]
    },
    {
     "name": "stderr",
     "output_type": "stream",
     "text": [
      " 92%|█████████▏| 923/1000 [07:24<00:47,  1.61it/s]"
     ]
    },
    {
     "name": "stdout",
     "output_type": "stream",
     "text": [
      "['RainTomorrow is No,', 'RainTomorrow is No,', 'RainTomorrow is Yes,', 'RainTomorrow is No,', 'RainTomorrow is No,', 'RainTomorrow is No,', 'RainTomorrow is Yes,', 'RainTomorrow is No,', 'RainTomorrow is No,', 'RainTomorrow is Yes,', 'RainTomorrow is No,', 'RainTomorrow is No,', 'RainTomorrow is No,', 'RainTomorrow is No,', 'RainTomorrow is Yes,', 'RainTomorrow is Yes,', 'RainTomorrow is No,', 'RainTomorrow is No,', 'RainTomorrow is Yes,', 'RainTomorrow is No,', 'RainTomorrow is No,', 'RainTomorrow is No,', 'RainTomorrow is No,', 'RainTomorrow is No,', 'RainTomorrow is No,', 'RainTomorrow is Yes,', 'RainTomorrow is No,', 'RainTomorrow is No,', 'RainTomorrow is Yes,', 'RainTomorrow is Yes,', 'RainTomorrow is No,', 'RainTomorrow is No,', 'RainTomorrow is No,', 'RainTomorrow is No,', 'RainTomorrow is No,', 'RainTomorrow is Yes,', 'RainTomorrow is Yes,', 'RainTomorrow is No,', 'RainTomorrow is Yes,', 'RainTomorrow is No,', 'RainTomorrow is Yes,', 'RainTomorrow is No,', 'RainTomorrow is No,', 'RainTomorrow is Yes,', 'RainTomorrow is No,', 'RainTomorrow is No,', 'RainTomorrow is No,', 'RainTomorrow is No,', 'RainTomorrow is No,', 'RainTomorrow is No,']\n"
     ]
    },
    {
     "name": "stderr",
     "output_type": "stream",
     "text": [
      " 93%|█████████▎| 932/1000 [07:27<00:33,  2.04it/s]"
     ]
    },
    {
     "name": "stdout",
     "output_type": "stream",
     "text": [
      "['RainTomorrow is No,', 'RainTomorrow is Yes,', 'RainTomorrow is Yes,', 'RainTomorrow is No,', 'RainTomorrow is No,', 'RainTomorrow is Yes,', 'RainTomorrow is No,', 'RainTomorrow is No,', 'RainTomorrow is No,', 'RainTomorrow is Yes,', 'RainTomorrow is No,', 'RainTomorrow is No,', 'RainTomorrow is No,', 'RainTomorrow is Yes,', 'RainTomorrow is No,', 'RainTomorrow is No,', 'RainTomorrow is No,', 'RainTomorrow is No,', 'RainTomorrow is No,', 'RainTomorrow is Yes,', 'RainTomorrow is No,', 'RainTomorrow is Yes,', 'RainTomorrow is No,', 'RainTomorrow is No,', 'RainTomorrow is No,', 'RainTomorrow is Yes,', 'RainTomorrow is No,', 'RainTomorrow is No,', 'RainTomorrow is Yes,', 'RainTomorrow is Yes,', 'RainTomorrow is No,', 'RainTomorrow is Yes,', 'RainTomorrow is No,', 'RainTomorrow is Yes,', 'RainTomorrow is No,', 'RainTomorrow is No,', 'RainTomorrow is No,', 'RainTomorrow is No,', 'RainTomorrow is No,', 'RainTomorrow is No,', 'RainTomorrow is No,', 'RainTomorrow is No,', 'RainTomorrow is No,', 'RainTomorrow is No,', 'RainTomorrow is No,', 'RainTomorrow is No,', 'RainTomorrow is No,', 'RainTomorrow is Yes,', 'RainTomorrow is No,', 'RainTomorrow is No,']\n"
     ]
    },
    {
     "name": "stderr",
     "output_type": "stream",
     "text": [
      " 94%|█████████▎| 937/1000 [07:30<00:32,  1.95it/s]"
     ]
    },
    {
     "name": "stdout",
     "output_type": "stream",
     "text": [
      "['RainTomorrow is No,', 'RainTomorrow is No,', 'RainTomorrow is Yes,', 'RainTomorrow is No,', 'RainTomorrow is No,', 'RainTomorrow is No,', 'RainTomorrow is No,', 'RainTomorrow is No,', 'RainTomorrow is No,', 'RainTomorrow is No,', 'RainTomorrow is No,', 'RainTomorrow is Yes,', 'RainTomorrow is No,', 'RainTomorrow is No,', 'RainTomorrow is No,', 'RainTomorrow is No,', 'RainTomorrow is No,', 'RainTomorrow is No,', 'RainTomorrow is No,', 'RainTomorrow is No,', 'RainTomorrow is No,', 'RainTomorrow is No,', 'RainTomorrow is No,', 'RainTomorrow is No,', 'RainTomorrow is No,', 'RainTomorrow is Yes,', 'RainTomorrow is No,', 'RainTomorrow is Yes,', 'RainTomorrow is No,', 'RainTomorrow is No,', 'RainTomorrow is No,', 'RainTomorrow is Yes,', 'RainTomorrow is No,', 'RainTomorrow is No,', 'RainTomorrow is No,', 'RainTomorrow is No,', 'RainTomorrow is No,', 'RainTomorrow is No,', 'RainTomorrow is No,', 'RainTomorrow is No,', 'RainTomorrow is No,', 'RainTomorrow is No,', 'RainTomorrow is Yes,', 'RainTomorrow is No,', 'RainTomorrow is No,', 'RainTomorrow is No,', 'RainTomorrow is No,', 'RainTomorrow is No,', 'RainTomorrow is No,', 'RainTomorrow is No,']\n"
     ]
    },
    {
     "name": "stderr",
     "output_type": "stream",
     "text": [
      " 94%|█████████▍| 943/1000 [07:33<00:28,  1.97it/s]"
     ]
    },
    {
     "name": "stdout",
     "output_type": "stream",
     "text": [
      "['RainTomorrow is Yes,', 'RainTomorrow is No,', 'RainTomorrow is No,', 'RainTomorrow is No,', 'RainTomorrow is No,', 'RainTomorrow is Yes,', 'RainTomorrow is Yes,', 'RainTomorrow is No,', 'RainTomorrow is No,', 'RainTomorrow is No,', 'RainTomorrow is No,', 'RainTomorrow is No,', 'RainTomorrow is No,', 'RainTomorrow is No,', 'RainTomorrow is Yes,', 'RainTomorrow is Yes,', 'RainTomorrow is No,', 'RainTomorrow is No,', 'RainTomorrow is No,', 'RainTomorrow is No,', 'RainTomorrow is No,', 'RainTomorrow is Yes,', 'RainTomorrow is Yes,', 'RainTomorrow is Yes,', 'RainTomorrow is No,', 'RainTomorrow is Yes,', 'RainTomorrow is No,', 'RainTomorrow is No,', 'RainTomorrow is No,', 'RainTomorrow is Yes,', 'RainTomorrow is Yes,', 'RainTomorrow is Yes,', 'RainTomorrow is No,', 'RainTomorrow is No,', 'RainTomorrow is No,', 'RainTomorrow is No,', 'RainTomorrow is No,', 'RainTomorrow is Yes,', 'RainTomorrow is No,', 'RainTomorrow is No,', 'RainTomorrow is Yes,', 'RainTomorrow is No,', 'RainTomorrow is Yes,', 'RainTomorrow is No,', 'RainTomorrow is No,', 'RainTomorrow is No,', 'RainTomorrow is No,', 'RainTomorrow is No,', 'RainTomorrow is No,', 'RainTomorrow is No,']\n"
     ]
    },
    {
     "name": "stderr",
     "output_type": "stream",
     "text": [
      " 95%|█████████▌| 950/1000 [07:36<00:23,  2.10it/s]"
     ]
    },
    {
     "name": "stdout",
     "output_type": "stream",
     "text": [
      "['RainTomorrow is Yes,', 'RainTomorrow is No,', 'RainTomorrow is No,', 'RainTomorrow is Yes,', 'RainTomorrow is No,', 'RainTomorrow is No,', 'RainTomorrow is No,', 'RainTomorrow is No,', 'RainTomorrow is Yes,', 'RainTomorrow is No,', 'RainTomorrow is Yes,', 'RainTomorrow is No,', 'RainTomorrow is No,', 'RainTomorrow is No,', 'RainTomorrow is No,', 'RainTomorrow is Yes,', 'RainTomorrow is No,', 'RainTomorrow is Yes,', 'RainTomorrow is No,', 'RainTomorrow is No,', 'RainTomorrow is No,', 'RainTomorrow is No,', 'RainTomorrow is Yes,', 'RainTomorrow is No,', 'RainTomorrow is Yes,', 'RainTomorrow is No,', 'RainTomorrow is No,', 'RainTomorrow is No,', 'RainTomorrow is No,', 'RainTomorrow is No,', 'RainTomorrow is No,', 'RainTomorrow is Yes,', 'RainTomorrow is No,', 'RainTomorrow is No,', 'RainTomorrow is Yes,', 'RainTomorrow is No,', 'RainTomorrow is Yes,', 'RainTomorrow is No,', 'RainTomorrow is No,', 'RainTomorrow is No,', 'RainTomorrow is Yes,', 'RainTomorrow is No,', 'RainTomorrow is Yes,', 'RainTomorrow is No,', 'RainTomorrow is No,', 'RainTomorrow is No,', 'RainTomorrow is No,', 'RainTomorrow is No,', 'RainTomorrow is No,', 'RainTomorrow is No,']\n"
     ]
    },
    {
     "name": "stderr",
     "output_type": "stream",
     "text": [
      " 95%|█████████▌| 953/1000 [07:39<00:26,  1.78it/s]"
     ]
    },
    {
     "name": "stdout",
     "output_type": "stream",
     "text": [
      "['RainTomorrow is No,', 'RainTomorrow is No,', 'RainTomorrow is No,', 'RainTomorrow is No,', 'RainTomorrow is No,', 'RainTomorrow is Yes,', 'RainTomorrow is No,', 'RainTomorrow is No,', 'RainTomorrow is No,', 'RainTomorrow is No,', 'RainTomorrow is No,', 'RainTomorrow is No,', 'RainTomorrow is No,', 'RainTomorrow is No,', 'RainTomorrow is Yes,', 'RainTomorrow is No,', 'RainTomorrow is No,', 'RainTomorrow is No,', 'RainTomorrow is Yes,', 'RainTomorrow is Yes,', 'RainTomorrow is No,', 'RainTomorrow is No,', 'RainTomorrow is No,', 'RainTomorrow is No,', 'RainTomorrow is No,', 'RainTomorrow is Yes,', 'RainTomorrow is No,', 'RainTomorrow is No,', 'RainTomorrow is No,', 'RainTomorrow is No,', 'RainTomorrow is No,', 'RainTomorrow is Yes,', 'RainTomorrow is Yes,', 'RainTomorrow is No,', 'RainTomorrow is No,', 'RainTomorrow is No,', 'RainTomorrow is No,', 'RainTomorrow is No,', 'RainTomorrow is Yes,', 'RainTomorrow is No,', 'RainTomorrow is No,', 'RainTomorrow is No,', 'RainTomorrow is No,', 'RainTomorrow is No,', 'RainTomorrow is No,', 'RainTomorrow is No,', 'RainTomorrow is No,', 'RainTomorrow is Yes,', 'RainTomorrow is No,', 'RainTomorrow is Yes,']\n"
     ]
    },
    {
     "name": "stderr",
     "output_type": "stream",
     "text": [
      " 96%|█████████▌| 958/1000 [07:42<00:23,  1.78it/s]"
     ]
    },
    {
     "name": "stdout",
     "output_type": "stream",
     "text": [
      "['RainTomorrow is No,', 'RainTomorrow is No,', 'RainTomorrow is Yes,', 'RainTomorrow is No,', 'RainTomorrow is Yes,', 'RainTomorrow is No,', 'RainTomorrow is No,', 'RainTomorrow is No,', 'RainTomorrow is No,', 'RainTomorrow is No,', 'RainTomorrow is Yes,', 'RainTomorrow is Yes,', 'RainTomorrow is Yes,', 'RainTomorrow is No,', 'RainTomorrow is No,', 'RainTomorrow is No,', 'RainTomorrow is Yes,', 'RainTomorrow is No,', 'RainTomorrow is No,', 'RainTomorrow is Yes,', 'RainTomorrow is No,', 'RainTomorrow is No,', 'RainTomorrow is No,', 'RainTomorrow is No,', 'RainTomorrow is No,', 'RainTomorrow is No,', 'RainTomorrow is No,', 'RainTomorrow is No,', 'RainTomorrow is Yes,', 'RainTomorrow is Yes,', 'RainTomorrow is No,', 'RainTomorrow is No,', 'RainTomorrow is No,', 'RainTomorrow is No,', 'RainTomorrow is No,', 'RainTomorrow is Yes,', 'RainTomorrow is No,', 'RainTomorrow is Yes,', 'RainTomorrow is No,', 'RainTomorrow is No,', 'RainTomorrow is No,', 'RainTomorrow is Yes,', 'RainTomorrow is No,', 'RainTomorrow is No,', 'RainTomorrow is No,', 'RainTomorrow is No,', 'RainTomorrow is No,', 'RainTomorrow is No,', 'RainTomorrow is No,', 'RainTomorrow is No,']\n"
     ]
    },
    {
     "name": "stderr",
     "output_type": "stream",
     "text": [
      " 96%|█████████▋| 964/1000 [07:45<00:19,  1.87it/s]"
     ]
    },
    {
     "name": "stdout",
     "output_type": "stream",
     "text": [
      "['RainTomorrow is No,', 'RainTomorrow is No,', 'RainTomorrow is No,', 'RainTomorrow is No,', 'RainTomorrow is No,', 'RainTomorrow is No,', 'RainTomorrow is No,', 'RainTomorrow is No,', 'RainTomorrow is Yes,', 'RainTomorrow is Yes,', 'RainTomorrow is No,', 'RainTomorrow is Yes,', 'RainTomorrow is No,', 'RainTomorrow is Yes,', 'RainTomorrow is No,', 'RainTomorrow is No,', 'RainTomorrow is No,', 'RainTomorrow is No,', 'RainTomorrow is No,', 'RainTomorrow is No,', 'RainTomorrow is No,', 'RainTomorrow is No,', 'RainTomorrow is No,', 'RainTomorrow is No,', 'RainTomorrow is No,', 'RainTomorrow is No,', 'RainTomorrow is Yes,', 'RainTomorrow is No,', 'RainTomorrow is No,', 'RainTomorrow is No,', 'RainTomorrow is Yes,', 'RainTomorrow is No,', 'RainTomorrow is No,', 'RainTomorrow is No,', 'RainTomorrow is No,', 'RainTomorrow is Yes,', 'RainTomorrow is No,', 'RainTomorrow is No,', 'RainTomorrow is No,', 'RainTomorrow is No,', 'RainTomorrow is No,', 'RainTomorrow is Yes,', 'RainTomorrow is Yes,', 'RainTomorrow is No,', 'RainTomorrow is Yes,', 'RainTomorrow is No,', 'RainTomorrow is No,', 'RainTomorrow is No,', 'RainTomorrow is No,', 'RainTomorrow is No,']\n"
     ]
    },
    {
     "name": "stderr",
     "output_type": "stream",
     "text": [
      " 97%|█████████▋| 968/1000 [07:48<00:18,  1.71it/s]"
     ]
    },
    {
     "name": "stdout",
     "output_type": "stream",
     "text": [
      "['RainTomorrow is Yes,', 'RainTomorrow is No,', 'RainTomorrow is No,', 'RainTomorrow is No,', 'RainTomorrow is No,', 'RainTomorrow is No,', 'RainTomorrow is No,', 'RainTomorrow is No,', 'RainTomorrow is Yes,', 'RainTomorrow is No,', 'RainTomorrow is No,', 'RainTomorrow is No,', 'RainTomorrow is Yes,', 'RainTomorrow is No,', 'RainTomorrow is No,', 'RainTomorrow is No,', 'RainTomorrow is No,', 'RainTomorrow is No,', 'RainTomorrow is No,', 'RainTomorrow is No,', 'RainTomorrow is No,', 'RainTomorrow is No,', 'RainTomorrow is No,', 'RainTomorrow is No,', 'RainTomorrow is No,', 'RainTomorrow is Yes,', 'RainTomorrow is No,', 'RainTomorrow is No,', 'RainTomorrow is No,', 'RainTomorrow is No,', 'RainTomorrow is No,', 'RainTomorrow is No,', 'RainTomorrow is No,', 'RainTomorrow is No,', 'RainTomorrow is Yes,', 'RainTomorrow is No,', 'RainTomorrow is No,', 'RainTomorrow is Yes,', 'RainTomorrow is No,', 'RainTomorrow is No,', 'RainTomorrow is No,', 'RainTomorrow is No,', 'RainTomorrow is No,', 'RainTomorrow is No,', 'RainTomorrow is No,', 'RainTomorrow is Yes,', 'RainTomorrow is Yes,', 'RainTomorrow is Yes,', 'RainTomorrow is Yes,', 'RainTomorrow is Yes,']\n"
     ]
    },
    {
     "name": "stderr",
     "output_type": "stream",
     "text": [
      " 98%|█████████▊| 978/1000 [07:51<00:09,  2.24it/s]"
     ]
    },
    {
     "name": "stdout",
     "output_type": "stream",
     "text": [
      "['RainTomorrow is No,', 'RainTomorrow is Yes,', 'RainTomorrow is No,', 'RainTomorrow is No,', 'RainTomorrow is Yes,', 'RainTomorrow is No,', 'RainTomorrow is Yes,', 'RainTomorrow is No,', 'RainTomorrow is No,', 'RainTomorrow is No,', 'RainTomorrow is No,', 'RainTomorrow is No,', 'RainTomorrow is No,', 'RainTomorrow is No,', 'RainTomorrow is No,', 'RainTomorrow is No,', 'RainTomorrow is No,', 'RainTomorrow is Yes,', 'RainTomorrow is No,', 'RainTomorrow is Yes,', 'RainTomorrow is No,', 'RainTomorrow is No,', 'RainTomorrow is Yes,', 'RainTomorrow is Yes,', 'RainTomorrow is Yes,', 'RainTomorrow is Yes,', 'RainTomorrow is Yes,', 'RainTomorrow is No,', 'RainTomorrow is No,', 'RainTomorrow is Yes,', 'RainTomorrow is No,', 'RainTomorrow is No,', 'RainTomorrow is No,', 'RainTomorrow is No,', 'RainTomorrow is No,', 'RainTomorrow is Yes,', 'RainTomorrow is Yes,', 'RainTomorrow is No,', 'RainTomorrow is No,', 'RainTomorrow is No,', 'RainTomorrow is Yes,', 'RainTomorrow is No,', 'RainTomorrow is No,', 'RainTomorrow is Yes,', 'RainTomorrow is No,', 'RainTomorrow is Yes,', 'RainTomorrow is No,', 'RainTomorrow is No,', 'RainTomorrow is No,', 'RainTomorrow is No,']\n"
     ]
    },
    {
     "name": "stderr",
     "output_type": "stream",
     "text": [
      " 98%|█████████▊| 985/1000 [07:54<00:06,  2.28it/s]"
     ]
    },
    {
     "name": "stdout",
     "output_type": "stream",
     "text": [
      "['RainTomorrow is No,', 'RainTomorrow is No,', 'RainTomorrow is No,', 'RainTomorrow is No,', 'RainTomorrow is No,', 'RainTomorrow is No,', 'RainTomorrow is No,', 'RainTomorrow is No,', 'RainTomorrow is No,', 'RainTomorrow is No,', 'RainTomorrow is No,', 'RainTomorrow is No,', 'RainTomorrow is Yes,', 'RainTomorrow is No,', 'RainTomorrow is Yes,', 'RainTomorrow is No,', 'RainTomorrow is No,', 'RainTomorrow is No,', 'RainTomorrow is No,', 'RainTomorrow is No,', 'RainTomorrow is No,', 'RainTomorrow is No,', 'RainTomorrow is No,', 'RainTomorrow is Yes,', 'RainTomorrow is No,', 'RainTomorrow is No,', 'RainTomorrow is Yes,', 'RainTomorrow is Yes,', 'RainTomorrow is No,', 'RainTomorrow is No,', 'RainTomorrow is Yes,', 'RainTomorrow is Yes,', 'RainTomorrow is No,', 'RainTomorrow is No,', 'RainTomorrow is Yes,', 'RainTomorrow is No,', 'RainTomorrow is No,', 'RainTomorrow is Yes,', 'RainTomorrow is No,', 'RainTomorrow is Yes,', 'RainTomorrow is No,', 'RainTomorrow is Yes,', 'RainTomorrow is No,', 'RainTomorrow is No,', 'RainTomorrow is Yes,', 'RainTomorrow is No,', 'RainTomorrow is No,', 'RainTomorrow is No,', 'RainTomorrow is Yes,', 'RainTomorrow is No,']\n"
     ]
    },
    {
     "name": "stderr",
     "output_type": "stream",
     "text": [
      " 99%|█████████▉| 991/1000 [07:56<00:03,  2.25it/s]"
     ]
    },
    {
     "name": "stdout",
     "output_type": "stream",
     "text": [
      "['RainTomorrow is No,', 'RainTomorrow is No,', 'RainTomorrow is Yes,', 'RainTomorrow is No,', 'RainTomorrow is Yes,', 'RainTomorrow is No,', 'RainTomorrow is No,', 'RainTomorrow is No,', 'RainTomorrow is No,', 'RainTomorrow is No,', 'RainTomorrow is No,', 'RainTomorrow is No,', 'RainTomorrow is Yes,', 'RainTomorrow is No,', 'RainTomorrow is No,', 'RainTomorrow is Yes,', 'RainTomorrow is No,', 'RainTomorrow is No,', 'RainTomorrow is Yes,', 'RainTomorrow is No,', 'RainTomorrow is No,', 'RainTomorrow is No,', 'RainTomorrow is No,', 'RainTomorrow is No,', 'RainTomorrow is No,', 'RainTomorrow is No,', 'RainTomorrow is No,', 'RainTomorrow is No,', 'RainTomorrow is Yes,', 'RainTomorrow is No,', 'RainTomorrow is No,', 'RainTomorrow is No,', 'RainTomorrow is Yes,', 'RainTomorrow is Yes,', 'RainTomorrow is No,', 'RainTomorrow is No,', 'RainTomorrow is No,', 'RainTomorrow is No,', 'RainTomorrow is No,', 'RainTomorrow is No,', 'RainTomorrow is No,', 'RainTomorrow is No,', 'RainTomorrow is No,', 'RainTomorrow is Yes,', 'RainTomorrow is No,', 'RainTomorrow is No,', 'RainTomorrow is No,', 'RainTomorrow is No,', 'RainTomorrow is No,', 'RainTomorrow is No,']\n"
     ]
    },
    {
     "name": "stderr",
     "output_type": "stream",
     "text": [
      " 99%|█████████▉| 993/1000 [07:59<00:03,  1.78it/s]"
     ]
    },
    {
     "name": "stdout",
     "output_type": "stream",
     "text": [
      "['RainTomorrow is No,', 'RainTomorrow is Yes,', 'RainTomorrow is No,', 'RainTomorrow is No,', 'RainTomorrow is No,', 'RainTomorrow is Yes,', 'RainTomorrow is No,', 'RainTomorrow is No,', 'RainTomorrow is No,', 'RainTomorrow is Yes,', 'RainTomorrow is No,', 'RainTomorrow is Yes,', 'RainTomorrow is No,', 'RainTomorrow is No,', 'RainTomorrow is No,', 'RainTomorrow is No,', 'RainTomorrow is No,', 'RainTomorrow is Yes,', 'RainTomorrow is No,', 'RainTomorrow is Yes,', 'RainTomorrow is No,', 'RainTomorrow is No,', 'RainTomorrow is No,', 'RainTomorrow is No,', 'RainTomorrow is No,', 'RainTomorrow is No,', 'RainTomorrow is No,', 'RainTomorrow is No,', 'RainTomorrow is Yes,', 'RainTomorrow is No,', 'RainTomorrow is No,', 'RainTomorrow is No,', 'RainTomorrow is No,', 'RainTomorrow is Yes,', 'RainTomorrow is No,', 'RainTomorrow is Yes,', 'RainTomorrow is No,', 'RainTomorrow is No,', 'RainTomorrow is No,', 'RainTomorrow is Yes,', 'RainTomorrow is No,', 'RainTomorrow is Yes,', 'RainTomorrow is Yes,', 'RainTomorrow is No,', 'RainTomorrow is No,', 'RainTomorrow is No,', 'RainTomorrow is Yes,', 'RainTomorrow is No,', 'RainTomorrow is Yes,', 'RainTomorrow is No,']\n"
     ]
    },
    {
     "name": "stderr",
     "output_type": "stream",
     "text": [
      "1001it [08:02,  2.07it/s]                         \n"
     ]
    }
   ],
   "source": [
    "samples = great.sample(n_samples, k=50, max_length=200)"
   ]
  },
  {
   "cell_type": "code",
   "execution_count": 13,
   "id": "105aa225",
   "metadata": {},
   "outputs": [
    {
     "data": {
      "text/html": [
       "<div>\n",
       "<style scoped>\n",
       "    .dataframe tbody tr th:only-of-type {\n",
       "        vertical-align: middle;\n",
       "    }\n",
       "\n",
       "    .dataframe tbody tr th {\n",
       "        vertical-align: top;\n",
       "    }\n",
       "\n",
       "    .dataframe thead th {\n",
       "        text-align: right;\n",
       "    }\n",
       "</style>\n",
       "<table border=\"1\" class=\"dataframe\">\n",
       "  <thead>\n",
       "    <tr style=\"text-align: right;\">\n",
       "      <th></th>\n",
       "      <th>Date</th>\n",
       "      <th>Location</th>\n",
       "      <th>MinTemp</th>\n",
       "      <th>MaxTemp</th>\n",
       "      <th>Rainfall</th>\n",
       "      <th>Evaporation</th>\n",
       "      <th>Sunshine</th>\n",
       "      <th>WindGustDir</th>\n",
       "      <th>WindGustSpeed</th>\n",
       "      <th>WindDir9am</th>\n",
       "      <th>...</th>\n",
       "      <th>Humidity9am</th>\n",
       "      <th>Humidity3pm</th>\n",
       "      <th>Pressure9am</th>\n",
       "      <th>Pressure3pm</th>\n",
       "      <th>Cloud9am</th>\n",
       "      <th>Cloud3pm</th>\n",
       "      <th>Temp9am</th>\n",
       "      <th>Temp3pm</th>\n",
       "      <th>RainToday</th>\n",
       "      <th>RainTomorrow</th>\n",
       "    </tr>\n",
       "  </thead>\n",
       "  <tbody>\n",
       "    <tr>\n",
       "      <th>0</th>\n",
       "      <td>2011-03-23</td>\n",
       "      <td>Woomera</td>\n",
       "      <td>21.7</td>\n",
       "      <td>32.7</td>\n",
       "      <td>0.0</td>\n",
       "      <td>1.8</td>\n",
       "      <td>3.5</td>\n",
       "      <td>W</td>\n",
       "      <td>72.0</td>\n",
       "      <td>ENE</td>\n",
       "      <td>...</td>\n",
       "      <td>70.0</td>\n",
       "      <td>60.0</td>\n",
       "      <td>1022.7</td>\n",
       "      <td>1021.9</td>\n",
       "      <td>1.0</td>\n",
       "      <td>1.0</td>\n",
       "      <td>23.1</td>\n",
       "      <td>28.3</td>\n",
       "      <td>No</td>\n",
       "      <td>No</td>\n",
       "    </tr>\n",
       "    <tr>\n",
       "      <th>1</th>\n",
       "      <td>2015-04-16</td>\n",
       "      <td>Melbourne</td>\n",
       "      <td>7.9</td>\n",
       "      <td>14.1</td>\n",
       "      <td>0.0</td>\n",
       "      <td>NaN</td>\n",
       "      <td>NaN</td>\n",
       "      <td>W</td>\n",
       "      <td>37.0</td>\n",
       "      <td>None</td>\n",
       "      <td>...</td>\n",
       "      <td>92.0</td>\n",
       "      <td>52.0</td>\n",
       "      <td>1014.6</td>\n",
       "      <td>1012.1</td>\n",
       "      <td>NaN</td>\n",
       "      <td>NaN</td>\n",
       "      <td>9.3</td>\n",
       "      <td>13.2</td>\n",
       "      <td>No</td>\n",
       "      <td>No</td>\n",
       "    </tr>\n",
       "    <tr>\n",
       "      <th>2</th>\n",
       "      <td>2009-02-16</td>\n",
       "      <td>Launceston</td>\n",
       "      <td>19.8</td>\n",
       "      <td>29.6</td>\n",
       "      <td>0.0</td>\n",
       "      <td>NaN</td>\n",
       "      <td>NaN</td>\n",
       "      <td>N</td>\n",
       "      <td>46.0</td>\n",
       "      <td>NNW</td>\n",
       "      <td>...</td>\n",
       "      <td>66.0</td>\n",
       "      <td>68.0</td>\n",
       "      <td>1011.2</td>\n",
       "      <td>1013.7</td>\n",
       "      <td>8.0</td>\n",
       "      <td>8.0</td>\n",
       "      <td>22.6</td>\n",
       "      <td>28.6</td>\n",
       "      <td>No</td>\n",
       "      <td>No</td>\n",
       "    </tr>\n",
       "    <tr>\n",
       "      <th>3</th>\n",
       "      <td>2014-11-16</td>\n",
       "      <td>Bendigo</td>\n",
       "      <td>13.2</td>\n",
       "      <td>22.6</td>\n",
       "      <td>0.0</td>\n",
       "      <td>10.6</td>\n",
       "      <td>NaN</td>\n",
       "      <td>N</td>\n",
       "      <td>46.0</td>\n",
       "      <td>N</td>\n",
       "      <td>...</td>\n",
       "      <td>50.0</td>\n",
       "      <td>42.0</td>\n",
       "      <td>1028.4</td>\n",
       "      <td>1016.9</td>\n",
       "      <td>NaN</td>\n",
       "      <td>NaN</td>\n",
       "      <td>19.9</td>\n",
       "      <td>22.9</td>\n",
       "      <td>No</td>\n",
       "      <td>No</td>\n",
       "    </tr>\n",
       "    <tr>\n",
       "      <th>4</th>\n",
       "      <td>2015-06-09</td>\n",
       "      <td>Perth</td>\n",
       "      <td>16.2</td>\n",
       "      <td>24.5</td>\n",
       "      <td>0.0</td>\n",
       "      <td>NaN</td>\n",
       "      <td>NaN</td>\n",
       "      <td>SE</td>\n",
       "      <td>44.0</td>\n",
       "      <td>SW</td>\n",
       "      <td>...</td>\n",
       "      <td>65.0</td>\n",
       "      <td>65.0</td>\n",
       "      <td>1025.7</td>\n",
       "      <td>1027.4</td>\n",
       "      <td>NaN</td>\n",
       "      <td>NaN</td>\n",
       "      <td>22.9</td>\n",
       "      <td>24.8</td>\n",
       "      <td>No</td>\n",
       "      <td>No</td>\n",
       "    </tr>\n",
       "  </tbody>\n",
       "</table>\n",
       "<p>5 rows × 23 columns</p>\n",
       "</div>"
      ],
      "text/plain": [
       "         Date    Location  MinTemp  MaxTemp  Rainfall  Evaporation  Sunshine  \\\n",
       "0  2011-03-23     Woomera     21.7     32.7       0.0          1.8       3.5   \n",
       "1  2015-04-16   Melbourne      7.9     14.1       0.0          NaN       NaN   \n",
       "2  2009-02-16  Launceston     19.8     29.6       0.0          NaN       NaN   \n",
       "3  2014-11-16     Bendigo     13.2     22.6       0.0         10.6       NaN   \n",
       "4  2015-06-09       Perth     16.2     24.5       0.0          NaN       NaN   \n",
       "\n",
       "  WindGustDir  WindGustSpeed WindDir9am  ... Humidity9am  Humidity3pm  \\\n",
       "0           W           72.0        ENE  ...        70.0         60.0   \n",
       "1           W           37.0       None  ...        92.0         52.0   \n",
       "2           N           46.0        NNW  ...        66.0         68.0   \n",
       "3           N           46.0          N  ...        50.0         42.0   \n",
       "4          SE           44.0         SW  ...        65.0         65.0   \n",
       "\n",
       "   Pressure9am  Pressure3pm  Cloud9am  Cloud3pm  Temp9am  Temp3pm  RainToday  \\\n",
       "0       1022.7       1021.9       1.0       1.0     23.1     28.3         No   \n",
       "1       1014.6       1012.1       NaN       NaN      9.3     13.2         No   \n",
       "2       1011.2       1013.7       8.0       8.0     22.6     28.6         No   \n",
       "3       1028.4       1016.9       NaN       NaN     19.9     22.9         No   \n",
       "4       1025.7       1027.4       NaN       NaN     22.9     24.8         No   \n",
       "\n",
       "   RainTomorrow  \n",
       "0            No  \n",
       "1            No  \n",
       "2            No  \n",
       "3            No  \n",
       "4            No  \n",
       "\n",
       "[5 rows x 23 columns]"
      ]
     },
     "execution_count": 13,
     "metadata": {},
     "output_type": "execute_result"
    }
   ],
   "source": [
    "samples.head()"
   ]
  },
  {
   "cell_type": "code",
   "execution_count": 14,
   "id": "c6f534d4",
   "metadata": {},
   "outputs": [],
   "source": [
    "samples.to_csv(\"C:/Users/Windows 11/Desktop/Dissertation/Codes/sample_data/Climate & Environment/australia_samples.csv\",index=False)"
   ]
  },
  {
   "cell_type": "markdown",
   "id": "70545fac",
   "metadata": {},
   "source": [
    "## Plot Data"
   ]
  },
  {
   "cell_type": "code",
   "execution_count": 25,
   "id": "ec9e0767",
   "metadata": {},
   "outputs": [
    {
     "data": {
      "text/html": [
       "<div>\n",
       "<style scoped>\n",
       "    .dataframe tbody tr th:only-of-type {\n",
       "        vertical-align: middle;\n",
       "    }\n",
       "\n",
       "    .dataframe tbody tr th {\n",
       "        vertical-align: top;\n",
       "    }\n",
       "\n",
       "    .dataframe thead th {\n",
       "        text-align: right;\n",
       "    }\n",
       "</style>\n",
       "<table border=\"1\" class=\"dataframe\">\n",
       "  <thead>\n",
       "    <tr style=\"text-align: right;\">\n",
       "      <th></th>\n",
       "      <th>Age</th>\n",
       "      <th>FrequentFlyer</th>\n",
       "      <th>AnnualIncomeClass</th>\n",
       "      <th>ServicesOpted</th>\n",
       "      <th>AccountSyncedToSocialMedia</th>\n",
       "      <th>BookedHotelOrNot</th>\n",
       "      <th>Target</th>\n",
       "    </tr>\n",
       "  </thead>\n",
       "  <tbody>\n",
       "    <tr>\n",
       "      <th>670</th>\n",
       "      <td>30</td>\n",
       "      <td>No</td>\n",
       "      <td>Low Income</td>\n",
       "      <td>1</td>\n",
       "      <td>No</td>\n",
       "      <td>Yes</td>\n",
       "      <td>0</td>\n",
       "    </tr>\n",
       "    <tr>\n",
       "      <th>211</th>\n",
       "      <td>29</td>\n",
       "      <td>No</td>\n",
       "      <td>Low Income</td>\n",
       "      <td>2</td>\n",
       "      <td>No</td>\n",
       "      <td>No</td>\n",
       "      <td>0</td>\n",
       "    </tr>\n",
       "    <tr>\n",
       "      <th>821</th>\n",
       "      <td>37</td>\n",
       "      <td>Yes</td>\n",
       "      <td>High Income</td>\n",
       "      <td>1</td>\n",
       "      <td>No</td>\n",
       "      <td>No</td>\n",
       "      <td>0</td>\n",
       "    </tr>\n",
       "    <tr>\n",
       "      <th>410</th>\n",
       "      <td>30</td>\n",
       "      <td>No</td>\n",
       "      <td>Middle Income</td>\n",
       "      <td>3</td>\n",
       "      <td>No</td>\n",
       "      <td>Yes</td>\n",
       "      <td>0</td>\n",
       "    </tr>\n",
       "    <tr>\n",
       "      <th>255</th>\n",
       "      <td>37</td>\n",
       "      <td>No</td>\n",
       "      <td>Middle Income</td>\n",
       "      <td>6</td>\n",
       "      <td>No</td>\n",
       "      <td>Yes</td>\n",
       "      <td>0</td>\n",
       "    </tr>\n",
       "  </tbody>\n",
       "</table>\n",
       "</div>"
      ],
      "text/plain": [
       "     Age FrequentFlyer AnnualIncomeClass  ServicesOpted  \\\n",
       "670   30            No        Low Income              1   \n",
       "211   29            No        Low Income              2   \n",
       "821   37           Yes       High Income              1   \n",
       "410   30            No     Middle Income              3   \n",
       "255   37            No     Middle Income              6   \n",
       "\n",
       "    AccountSyncedToSocialMedia BookedHotelOrNot  Target  \n",
       "670                         No              Yes       0  \n",
       "211                         No               No       0  \n",
       "821                         No               No       0  \n",
       "410                         No              Yes       0  \n",
       "255                         No              Yes       0  "
      ]
     },
     "execution_count": 25,
     "metadata": {},
     "output_type": "execute_result"
    },
    {
     "data": {
      "image/png": "[encoded data removed]",
      "text/plain": [
       "<Figure size 1200x400 with 2 Axes>"
      ]
     },
     "metadata": {},
     "output_type": "display_data"
    }
   ],
   "source": [
    "fig, ax = plt.subplots(1, 2, figsize=(12, 4))\n",
    "true_samples = data.sample(n = 100)\n",
    "true_samples.head()"
   ]
  },
  {
   "cell_type": "markdown",
   "id": "e3e051cc",
   "metadata": {},
   "source": [
    "Original Data"
   ]
  },
  {
   "cell_type": "code",
   "execution_count": 27,
   "id": "e70c4dfd",
   "metadata": {},
   "outputs": [
    {
     "data": {
      "text/plain": [
       "<matplotlib.collections.PathCollection at 0x7f4176431b50>"
      ]
     },
     "execution_count": 27,
     "metadata": {},
     "output_type": "execute_result"
    },
    {
     "data": {
      "image/png": "[encoded data removed]",
      "text/plain": [
       "<Figure size 1200x400 with 2 Axes>"
      ]
     },
     "metadata": {},
     "output_type": "display_data"
    }
   ],
   "source": [
    "fig, ax = plt.subplots(1, 2, figsize=(12, 4))\n",
    "true_samples = data.sample(n = 200)\n",
    "ax[0].scatter(true_samples[\"Age\"], true_samples[\"FrequentFlyer\"], c=true_samples[\"Target\"])\n",
    "ax[1].scatter(true_samples[\"AnnualIncomeClass\"], true_samples[\"ServicesOpted\"], c=true_samples[\"Target\"])"
   ]
  },
  {
   "cell_type": "markdown",
   "id": "f56b0e03",
   "metadata": {},
   "source": [
    "Generated samples"
   ]
  },
  {
   "cell_type": "code",
   "execution_count": 28,
   "id": "66d7efcc",
   "metadata": {},
   "outputs": [],
   "source": [
    "samples = pd.read_csv(\"C:/Users/Windows 11/Desktop/Dissertation/Codes/sample_data/travel_samples.csv\")"
   ]
  },
  {
   "cell_type": "code",
   "execution_count": 29,
   "id": "96d782e2",
   "metadata": {},
   "outputs": [
    {
     "data": {
      "text/plain": [
       "<matplotlib.collections.PathCollection at 0x7f4176371af0>"
      ]
     },
     "execution_count": 29,
     "metadata": {},
     "output_type": "execute_result"
    },
    {
     "data": {
      "image/png": "[encoded data removed]",
      "text/plain": [
       "<Figure size 1200x400 with 2 Axes>"
      ]
     },
     "metadata": {},
     "output_type": "display_data"
    }
   ],
   "source": [
    "fig, ax = plt.subplots(1, 2, figsize=(12, 4))\n",
    "\n",
    "ax[0].scatter(samples[\"Age\"], samples[\"FrequentFlyer\"], c=samples[\"Target\"])\n",
    "ax[0].set_ylim(1.8, 4.5)\n",
    "ax[1].scatter(samples[\"AnnualIncomeClass\"], samples[\"ServicesOpted\"], c=samples[\"Target\"].astype(\"int\"))\n"
   ]
  },
  {
   "cell_type": "code",
   "execution_count": null,
   "id": "69639c1e",
   "metadata": {},
   "outputs": [],
   "source": []
  },
  {
   "cell_type": "code",
   "execution_count": null,
   "id": "20708e2c",
   "metadata": {},
   "outputs": [],
   "source": []
  }
 ],
 "metadata": {
  "kernelspec": {
   "display_name": "Python 3 (ipykernel)",
   "language": "python",
   "name": "python3"
  },
  "language_info": {
   "codemirror_mode": {
    "name": "ipython",
    "version": 3
   },
   "file_extension": ".py",
   "mimetype": "text/x-python",
   "name": "python",
   "nbconvert_exporter": "python",
   "pygments_lexer": "ipython3",
   "version": "3.11.7"
  }
 },
 "nbformat": 4,
 "nbformat_minor": 5
}
