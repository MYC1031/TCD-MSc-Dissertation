{
 "cells": [
  {
   "cell_type": "markdown",
   "id": "245418c1",
   "metadata": {},
   "source": [
    "## GReaT Example with Iris Dataset"
   ]
  },
  {
   "cell_type": "code",
   "execution_count": 2,
   "id": "ab1f4da7-4b93-4055-8d56-6030c7498999",
   "metadata": {},
   "outputs": [],
   "source": [
    "# Execute only once!\n",
    "import os\n",
    "import sys\n",
    "sys.path.append(\"..\")\n",
    "os.chdir(\"..\")\n",
    "\n",
    "os.environ[\"CUDA_VISIBLE_DEVICES\"]=\"0\""
   ]
  },
  {
   "cell_type": "code",
   "execution_count": 3,
   "id": "b5009b62",
   "metadata": {},
   "outputs": [],
   "source": [
    "import numpy as np\n",
    "import pandas as pd\n",
    "import logging"
   ]
  },
  {
   "cell_type": "code",
   "execution_count": 4,
   "id": "71836c07-2530-44af-9b4b-cf72aff34426",
   "metadata": {},
   "outputs": [
    {
     "name": "stderr",
     "output_type": "stream",
     "text": [
      "/data/guoquanjiang/envs/begreat/lib/python3.9/site-packages/tqdm/auto.py:21: TqdmWarning: IProgress not found. Please update jupyter and ipywidgets. See https://ipywidgets.readthedocs.io/en/stable/user_install.html\n",
      "  from .autonotebook import tqdm as notebook_tqdm\n"
     ]
    }
   ],
   "source": [
    "from examples.utils import set_logging_level\n",
    "from be_great import GReaT"
   ]
  },
  {
   "cell_type": "code",
   "execution_count": 5,
   "id": "00695066",
   "metadata": {},
   "outputs": [],
   "source": [
    "import matplotlib.pyplot as plt"
   ]
  },
  {
   "cell_type": "code",
   "execution_count": 6,
   "id": "39088828",
   "metadata": {},
   "outputs": [
    {
     "data": {
      "text/html": [
       "<div>\n",
       "<style scoped>\n",
       "    .dataframe tbody tr th:only-of-type {\n",
       "        vertical-align: middle;\n",
       "    }\n",
       "\n",
       "    .dataframe tbody tr th {\n",
       "        vertical-align: top;\n",
       "    }\n",
       "\n",
       "    .dataframe thead th {\n",
       "        text-align: right;\n",
       "    }\n",
       "</style>\n",
       "<table border=\"1\" class=\"dataframe\">\n",
       "  <thead>\n",
       "    <tr style=\"text-align: right;\">\n",
       "      <th></th>\n",
       "      <th>Area</th>\n",
       "      <th>Perimeter</th>\n",
       "      <th>MajorAxisLength</th>\n",
       "      <th>MinorAxisLength</th>\n",
       "      <th>AspectRation</th>\n",
       "      <th>Eccentricity</th>\n",
       "      <th>ConvexArea</th>\n",
       "      <th>EquivDiameter</th>\n",
       "      <th>Extent</th>\n",
       "      <th>Solidity</th>\n",
       "      <th>roundness</th>\n",
       "      <th>Compactness</th>\n",
       "      <th>ShapeFactor1</th>\n",
       "      <th>ShapeFactor2</th>\n",
       "      <th>ShapeFactor3</th>\n",
       "      <th>ShapeFactor4</th>\n",
       "      <th>Class</th>\n",
       "    </tr>\n",
       "  </thead>\n",
       "  <tbody>\n",
       "    <tr>\n",
       "      <th>0</th>\n",
       "      <td>28395</td>\n",
       "      <td>610.291</td>\n",
       "      <td>208.178117</td>\n",
       "      <td>173.888747</td>\n",
       "      <td>1.197191</td>\n",
       "      <td>0.549812</td>\n",
       "      <td>28715</td>\n",
       "      <td>190.141097</td>\n",
       "      <td>0.763923</td>\n",
       "      <td>0.988856</td>\n",
       "      <td>0.958027</td>\n",
       "      <td>0.913358</td>\n",
       "      <td>0.007332</td>\n",
       "      <td>0.003147</td>\n",
       "      <td>0.834222</td>\n",
       "      <td>0.998724</td>\n",
       "      <td>SEKER</td>\n",
       "    </tr>\n",
       "    <tr>\n",
       "      <th>1</th>\n",
       "      <td>28734</td>\n",
       "      <td>638.018</td>\n",
       "      <td>200.524796</td>\n",
       "      <td>182.734419</td>\n",
       "      <td>1.097356</td>\n",
       "      <td>0.411785</td>\n",
       "      <td>29172</td>\n",
       "      <td>191.272750</td>\n",
       "      <td>0.783968</td>\n",
       "      <td>0.984986</td>\n",
       "      <td>0.887034</td>\n",
       "      <td>0.953861</td>\n",
       "      <td>0.006979</td>\n",
       "      <td>0.003564</td>\n",
       "      <td>0.909851</td>\n",
       "      <td>0.998430</td>\n",
       "      <td>SEKER</td>\n",
       "    </tr>\n",
       "    <tr>\n",
       "      <th>2</th>\n",
       "      <td>29380</td>\n",
       "      <td>624.110</td>\n",
       "      <td>212.826130</td>\n",
       "      <td>175.931143</td>\n",
       "      <td>1.209713</td>\n",
       "      <td>0.562727</td>\n",
       "      <td>29690</td>\n",
       "      <td>193.410904</td>\n",
       "      <td>0.778113</td>\n",
       "      <td>0.989559</td>\n",
       "      <td>0.947849</td>\n",
       "      <td>0.908774</td>\n",
       "      <td>0.007244</td>\n",
       "      <td>0.003048</td>\n",
       "      <td>0.825871</td>\n",
       "      <td>0.999066</td>\n",
       "      <td>SEKER</td>\n",
       "    </tr>\n",
       "    <tr>\n",
       "      <th>3</th>\n",
       "      <td>30008</td>\n",
       "      <td>645.884</td>\n",
       "      <td>210.557999</td>\n",
       "      <td>182.516516</td>\n",
       "      <td>1.153638</td>\n",
       "      <td>0.498616</td>\n",
       "      <td>30724</td>\n",
       "      <td>195.467062</td>\n",
       "      <td>0.782681</td>\n",
       "      <td>0.976696</td>\n",
       "      <td>0.903936</td>\n",
       "      <td>0.928329</td>\n",
       "      <td>0.007017</td>\n",
       "      <td>0.003215</td>\n",
       "      <td>0.861794</td>\n",
       "      <td>0.994199</td>\n",
       "      <td>SEKER</td>\n",
       "    </tr>\n",
       "    <tr>\n",
       "      <th>4</th>\n",
       "      <td>30140</td>\n",
       "      <td>620.134</td>\n",
       "      <td>201.847882</td>\n",
       "      <td>190.279279</td>\n",
       "      <td>1.060798</td>\n",
       "      <td>0.333680</td>\n",
       "      <td>30417</td>\n",
       "      <td>195.896503</td>\n",
       "      <td>0.773098</td>\n",
       "      <td>0.990893</td>\n",
       "      <td>0.984877</td>\n",
       "      <td>0.970516</td>\n",
       "      <td>0.006697</td>\n",
       "      <td>0.003665</td>\n",
       "      <td>0.941900</td>\n",
       "      <td>0.999166</td>\n",
       "      <td>SEKER</td>\n",
       "    </tr>\n",
       "  </tbody>\n",
       "</table>\n",
       "</div>"
      ],
      "text/plain": [
       "    Area  Perimeter  MajorAxisLength  MinorAxisLength  AspectRation  \\\n",
       "0  28395    610.291       208.178117       173.888747      1.197191   \n",
       "1  28734    638.018       200.524796       182.734419      1.097356   \n",
       "2  29380    624.110       212.826130       175.931143      1.209713   \n",
       "3  30008    645.884       210.557999       182.516516      1.153638   \n",
       "4  30140    620.134       201.847882       190.279279      1.060798   \n",
       "\n",
       "   Eccentricity  ConvexArea  EquivDiameter    Extent  Solidity  roundness  \\\n",
       "0      0.549812       28715     190.141097  0.763923  0.988856   0.958027   \n",
       "1      0.411785       29172     191.272750  0.783968  0.984986   0.887034   \n",
       "2      0.562727       29690     193.410904  0.778113  0.989559   0.947849   \n",
       "3      0.498616       30724     195.467062  0.782681  0.976696   0.903936   \n",
       "4      0.333680       30417     195.896503  0.773098  0.990893   0.984877   \n",
       "\n",
       "   Compactness  ShapeFactor1  ShapeFactor2  ShapeFactor3  ShapeFactor4  Class  \n",
       "0     0.913358      0.007332      0.003147      0.834222      0.998724  SEKER  \n",
       "1     0.953861      0.006979      0.003564      0.909851      0.998430  SEKER  \n",
       "2     0.908774      0.007244      0.003048      0.825871      0.999066  SEKER  \n",
       "3     0.928329      0.007017      0.003215      0.861794      0.994199  SEKER  \n",
       "4     0.970516      0.006697      0.003665      0.941900      0.999166  SEKER  "
      ]
     },
     "execution_count": 6,
     "metadata": {},
     "output_type": "execute_result"
    }
   ],
   "source": [
    "logger = set_logging_level(logging.INFO)\n",
    "data = pd.read_csv('C:/Users/Windows 11/Desktop/Dissertation/Codes/Data/Biology/Dry_Bean_Dataset.csv')\n",
    "data.head()"
   ]
  },
  {
   "cell_type": "markdown",
   "id": "5911b9b1",
   "metadata": {},
   "source": [
    "### Create GReaT Model"
   ]
  },
  {
   "cell_type": "code",
   "execution_count": 7,
   "id": "1a316696",
   "metadata": {},
   "outputs": [],
   "source": [
    "# great = GReaT(\"/data/guoquanjiang/llm_ner/llama3-8b/LLM-Research/Meta-Llama-3-8B\",                  # Name of the large language model used (see HuggingFace for more options)\n",
    "#               epochs=10,                   # Number of epochs to train\n",
    "#               save_steps=2000,               # Save model weights every x steps\n",
    "#               logging_steps=500,             # Log the loss and learning rate every x steps\n",
    "#               experiment_dir=\"trainer_travel\", # Name of the directory where all intermediate steps are saved\n",
    "#               batch_size=16,                 # Batch Size\n",
    "#               #lr_scheduler_type=\"constant\", # Specify the learning rate scheduler \n",
    "#               #learning_rate=5e-5            # Set the inital learning rate\n",
    "#               efficient_finetuning=\"lora\"\n",
    "#              )\n",
    "great = GReaT(\"/data/guoquanjiang/be_great/models/iiBcai/gpt2\",                  # Name of the large language model used (see HuggingFace for more options)\n",
    "              epochs=10,                   # Number of epochs to train\n",
    "              save_steps=2000,               # Save model weights every x steps\n",
    "              logging_steps=100,             # Log the loss and learning rate every x steps\n",
    "              experiment_dir=\"trainer_dry_bean\", # Name of the directory where all intermediate steps are saved\n",
    "              batch_size=16                # Batch Size\n",
    "              #lr_scheduler_type=\"constant\", # Specify the learning rate scheduler \n",
    "              #learning_rate=5e-5            # Set the inital learning rate\n",
    "            #   efficient_finetuning=\"lora\"\n",
    "             )"
   ]
  },
  {
   "cell_type": "markdown",
   "id": "3c7b173f",
   "metadata": {},
   "source": [
    "### Start Training"
   ]
  },
  {
   "cell_type": "code",
   "execution_count": 10,
   "id": "200e000c",
   "metadata": {
    "scrolled": true
   },
   "outputs": [
    {
     "name": "stderr",
     "output_type": "stream",
     "text": [
      "\u001b[39;20m2024-06-28 22:07:44,728 - INFO - Convert data into HuggingFace dataset object... (great.py:172)\u001b[0m\n",
      "\u001b[39;20m2024-06-28 22:07:44,749 - INFO - Create GReaT Trainer... (great.py:177)\u001b[0m\n",
      "huggingface/tokenizers: The current process just got forked, after parallelism has already been used. Disabling parallelism to avoid deadlocks...\n",
      "To disable this warning, you can either:\n",
      "\t- Avoid using `tokenizers` before the fork if possible\n",
      "\t- Explicitly set the environment variable TOKENIZERS_PARALLELISM=(true | false)\n",
      "\u001b[39;20m2024-06-28 22:07:44,890 - INFO - Start training... (great.py:193)\u001b[0m\n"
     ]
    },
    {
     "data": {
      "text/html": [
       "\n",
       "    <div>\n",
       "      \n",
       "      <progress value='8510' max='8510' style='width:300px; height:20px; vertical-align: middle;'></progress>\n",
       "      [8510/8510 1:57:02, Epoch 10/10]\n",
       "    </div>\n",
       "    <table border=\"1\" class=\"dataframe\">\n",
       "  <thead>\n",
       " <tr style=\"text-align: left;\">\n",
       "      <th>Step</th>\n",
       "      <th>Training Loss</th>\n",
       "    </tr>\n",
       "  </thead>\n",
       "  <tbody>\n",
       "    <tr>\n",
       "      <td>100</td>\n",
       "      <td>2.739400</td>\n",
       "    </tr>\n",
       "    <tr>\n",
       "      <td>200</td>\n",
       "      <td>2.641800</td>\n",
       "    </tr>\n",
       "    <tr>\n",
       "      <td>300</td>\n",
       "      <td>2.607200</td>\n",
       "    </tr>\n",
       "    <tr>\n",
       "      <td>400</td>\n",
       "      <td>2.593900</td>\n",
       "    </tr>\n",
       "    <tr>\n",
       "      <td>500</td>\n",
       "      <td>2.576300</td>\n",
       "    </tr>\n",
       "    <tr>\n",
       "      <td>600</td>\n",
       "      <td>2.566900</td>\n",
       "    </tr>\n",
       "    <tr>\n",
       "      <td>700</td>\n",
       "      <td>2.554700</td>\n",
       "    </tr>\n",
       "    <tr>\n",
       "      <td>800</td>\n",
       "      <td>2.545400</td>\n",
       "    </tr>\n",
       "    <tr>\n",
       "      <td>900</td>\n",
       "      <td>2.543200</td>\n",
       "    </tr>\n",
       "    <tr>\n",
       "      <td>1000</td>\n",
       "      <td>2.532200</td>\n",
       "    </tr>\n",
       "    <tr>\n",
       "      <td>1100</td>\n",
       "      <td>2.526000</td>\n",
       "    </tr>\n",
       "    <tr>\n",
       "      <td>1200</td>\n",
       "      <td>2.524900</td>\n",
       "    </tr>\n",
       "    <tr>\n",
       "      <td>1300</td>\n",
       "      <td>2.518100</td>\n",
       "    </tr>\n",
       "    <tr>\n",
       "      <td>1400</td>\n",
       "      <td>2.510900</td>\n",
       "    </tr>\n",
       "    <tr>\n",
       "      <td>1500</td>\n",
       "      <td>2.505800</td>\n",
       "    </tr>\n",
       "    <tr>\n",
       "      <td>1600</td>\n",
       "      <td>2.501100</td>\n",
       "    </tr>\n",
       "    <tr>\n",
       "      <td>1700</td>\n",
       "      <td>2.496000</td>\n",
       "    </tr>\n",
       "    <tr>\n",
       "      <td>1800</td>\n",
       "      <td>2.487400</td>\n",
       "    </tr>\n",
       "    <tr>\n",
       "      <td>1900</td>\n",
       "      <td>2.479000</td>\n",
       "    </tr>\n",
       "    <tr>\n",
       "      <td>2000</td>\n",
       "      <td>2.479700</td>\n",
       "    </tr>\n",
       "    <tr>\n",
       "      <td>2100</td>\n",
       "      <td>2.472500</td>\n",
       "    </tr>\n",
       "    <tr>\n",
       "      <td>2200</td>\n",
       "      <td>2.472900</td>\n",
       "    </tr>\n",
       "    <tr>\n",
       "      <td>2300</td>\n",
       "      <td>2.469100</td>\n",
       "    </tr>\n",
       "    <tr>\n",
       "      <td>2400</td>\n",
       "      <td>2.465200</td>\n",
       "    </tr>\n",
       "    <tr>\n",
       "      <td>2500</td>\n",
       "      <td>2.465500</td>\n",
       "    </tr>\n",
       "    <tr>\n",
       "      <td>2600</td>\n",
       "      <td>2.457700</td>\n",
       "    </tr>\n",
       "    <tr>\n",
       "      <td>2700</td>\n",
       "      <td>2.453100</td>\n",
       "    </tr>\n",
       "    <tr>\n",
       "      <td>2800</td>\n",
       "      <td>2.453100</td>\n",
       "    </tr>\n",
       "    <tr>\n",
       "      <td>2900</td>\n",
       "      <td>2.449800</td>\n",
       "    </tr>\n",
       "    <tr>\n",
       "      <td>3000</td>\n",
       "      <td>2.448800</td>\n",
       "    </tr>\n",
       "    <tr>\n",
       "      <td>3100</td>\n",
       "      <td>2.441000</td>\n",
       "    </tr>\n",
       "    <tr>\n",
       "      <td>3200</td>\n",
       "      <td>2.442100</td>\n",
       "    </tr>\n",
       "    <tr>\n",
       "      <td>3300</td>\n",
       "      <td>2.442300</td>\n",
       "    </tr>\n",
       "    <tr>\n",
       "      <td>3400</td>\n",
       "      <td>2.439300</td>\n",
       "    </tr>\n",
       "    <tr>\n",
       "      <td>3500</td>\n",
       "      <td>2.433500</td>\n",
       "    </tr>\n",
       "    <tr>\n",
       "      <td>3600</td>\n",
       "      <td>2.436100</td>\n",
       "    </tr>\n",
       "    <tr>\n",
       "      <td>3700</td>\n",
       "      <td>2.433500</td>\n",
       "    </tr>\n",
       "    <tr>\n",
       "      <td>3800</td>\n",
       "      <td>2.428500</td>\n",
       "    </tr>\n",
       "    <tr>\n",
       "      <td>3900</td>\n",
       "      <td>2.426900</td>\n",
       "    </tr>\n",
       "    <tr>\n",
       "      <td>4000</td>\n",
       "      <td>2.425200</td>\n",
       "    </tr>\n",
       "    <tr>\n",
       "      <td>4100</td>\n",
       "      <td>2.425500</td>\n",
       "    </tr>\n",
       "    <tr>\n",
       "      <td>4200</td>\n",
       "      <td>2.421700</td>\n",
       "    </tr>\n",
       "    <tr>\n",
       "      <td>4300</td>\n",
       "      <td>2.417700</td>\n",
       "    </tr>\n",
       "    <tr>\n",
       "      <td>4400</td>\n",
       "      <td>2.417800</td>\n",
       "    </tr>\n",
       "    <tr>\n",
       "      <td>4500</td>\n",
       "      <td>2.418800</td>\n",
       "    </tr>\n",
       "    <tr>\n",
       "      <td>4600</td>\n",
       "      <td>2.414900</td>\n",
       "    </tr>\n",
       "    <tr>\n",
       "      <td>4700</td>\n",
       "      <td>2.419200</td>\n",
       "    </tr>\n",
       "    <tr>\n",
       "      <td>4800</td>\n",
       "      <td>2.413900</td>\n",
       "    </tr>\n",
       "    <tr>\n",
       "      <td>4900</td>\n",
       "      <td>2.413300</td>\n",
       "    </tr>\n",
       "    <tr>\n",
       "      <td>5000</td>\n",
       "      <td>2.410500</td>\n",
       "    </tr>\n",
       "    <tr>\n",
       "      <td>5100</td>\n",
       "      <td>2.410300</td>\n",
       "    </tr>\n",
       "    <tr>\n",
       "      <td>5200</td>\n",
       "      <td>2.403600</td>\n",
       "    </tr>\n",
       "    <tr>\n",
       "      <td>5300</td>\n",
       "      <td>2.403400</td>\n",
       "    </tr>\n",
       "    <tr>\n",
       "      <td>5400</td>\n",
       "      <td>2.406800</td>\n",
       "    </tr>\n",
       "    <tr>\n",
       "      <td>5500</td>\n",
       "      <td>2.405300</td>\n",
       "    </tr>\n",
       "    <tr>\n",
       "      <td>5600</td>\n",
       "      <td>2.407100</td>\n",
       "    </tr>\n",
       "    <tr>\n",
       "      <td>5700</td>\n",
       "      <td>2.404900</td>\n",
       "    </tr>\n",
       "    <tr>\n",
       "      <td>5800</td>\n",
       "      <td>2.407000</td>\n",
       "    </tr>\n",
       "    <tr>\n",
       "      <td>5900</td>\n",
       "      <td>2.405000</td>\n",
       "    </tr>\n",
       "    <tr>\n",
       "      <td>6000</td>\n",
       "      <td>2.400300</td>\n",
       "    </tr>\n",
       "    <tr>\n",
       "      <td>6100</td>\n",
       "      <td>2.399600</td>\n",
       "    </tr>\n",
       "    <tr>\n",
       "      <td>6200</td>\n",
       "      <td>2.399300</td>\n",
       "    </tr>\n",
       "    <tr>\n",
       "      <td>6300</td>\n",
       "      <td>2.398700</td>\n",
       "    </tr>\n",
       "    <tr>\n",
       "      <td>6400</td>\n",
       "      <td>2.396500</td>\n",
       "    </tr>\n",
       "    <tr>\n",
       "      <td>6500</td>\n",
       "      <td>2.396100</td>\n",
       "    </tr>\n",
       "    <tr>\n",
       "      <td>6600</td>\n",
       "      <td>2.399800</td>\n",
       "    </tr>\n",
       "    <tr>\n",
       "      <td>6700</td>\n",
       "      <td>2.398100</td>\n",
       "    </tr>\n",
       "    <tr>\n",
       "      <td>6800</td>\n",
       "      <td>2.392600</td>\n",
       "    </tr>\n",
       "    <tr>\n",
       "      <td>6900</td>\n",
       "      <td>2.390800</td>\n",
       "    </tr>\n",
       "    <tr>\n",
       "      <td>7000</td>\n",
       "      <td>2.394200</td>\n",
       "    </tr>\n",
       "    <tr>\n",
       "      <td>7100</td>\n",
       "      <td>2.388900</td>\n",
       "    </tr>\n",
       "    <tr>\n",
       "      <td>7200</td>\n",
       "      <td>2.391600</td>\n",
       "    </tr>\n",
       "    <tr>\n",
       "      <td>7300</td>\n",
       "      <td>2.391600</td>\n",
       "    </tr>\n",
       "    <tr>\n",
       "      <td>7400</td>\n",
       "      <td>2.392100</td>\n",
       "    </tr>\n",
       "    <tr>\n",
       "      <td>7500</td>\n",
       "      <td>2.395000</td>\n",
       "    </tr>\n",
       "    <tr>\n",
       "      <td>7600</td>\n",
       "      <td>2.393200</td>\n",
       "    </tr>\n",
       "    <tr>\n",
       "      <td>7700</td>\n",
       "      <td>2.396100</td>\n",
       "    </tr>\n",
       "    <tr>\n",
       "      <td>7800</td>\n",
       "      <td>2.387000</td>\n",
       "    </tr>\n",
       "    <tr>\n",
       "      <td>7900</td>\n",
       "      <td>2.389800</td>\n",
       "    </tr>\n",
       "    <tr>\n",
       "      <td>8000</td>\n",
       "      <td>2.388800</td>\n",
       "    </tr>\n",
       "    <tr>\n",
       "      <td>8100</td>\n",
       "      <td>2.391700</td>\n",
       "    </tr>\n",
       "    <tr>\n",
       "      <td>8200</td>\n",
       "      <td>2.388700</td>\n",
       "    </tr>\n",
       "    <tr>\n",
       "      <td>8300</td>\n",
       "      <td>2.388200</td>\n",
       "    </tr>\n",
       "    <tr>\n",
       "      <td>8400</td>\n",
       "      <td>2.390500</td>\n",
       "    </tr>\n",
       "    <tr>\n",
       "      <td>8500</td>\n",
       "      <td>2.385100</td>\n",
       "    </tr>\n",
       "  </tbody>\n",
       "</table><p>"
      ],
      "text/plain": [
       "<IPython.core.display.HTML object>"
      ]
     },
     "metadata": {},
     "output_type": "display_data"
    }
   ],
   "source": [
    "trainer = great.fit(data)"
   ]
  },
  {
   "cell_type": "code",
   "execution_count": 11,
   "id": "cfe8184d",
   "metadata": {},
   "outputs": [
    {
     "data": {
      "text/plain": [
       "{'train_runtime': 7023.2291,\n",
       " 'train_samples_per_second': 19.38,\n",
       " 'train_steps_per_second': 1.212,\n",
       " 'total_flos': 1.4624195560704e+16,\n",
       " 'train_loss': 2.446263681091237,\n",
       " 'epoch': 10.0,\n",
       " 'step': 8510}"
      ]
     },
     "execution_count": 11,
     "metadata": {},
     "output_type": "execute_result"
    }
   ],
   "source": [
    "loss_hist = trainer.state.log_history.copy()\n",
    "loss_hist.pop()"
   ]
  },
  {
   "cell_type": "code",
   "execution_count": 12,
   "id": "76deeb9e",
   "metadata": {},
   "outputs": [],
   "source": [
    "loss = [x[\"loss\"] for x in loss_hist]\n",
    "epochs = [x[\"epoch\"] for x in loss_hist]"
   ]
  },
  {
   "cell_type": "code",
   "execution_count": 13,
   "id": "bcd7fc6f",
   "metadata": {},
   "outputs": [
    {
     "data": {
      "text/plain": [
       "[<matplotlib.lines.Line2D at 0x7fe3187a4250>]"
      ]
     },
     "execution_count": 13,
     "metadata": {},
     "output_type": "execute_result"
    },
    {
     "data": {
      "image/png": "[encoded data removed]",
      "text/plain": [
       "<Figure size 640x480 with 1 Axes>"
      ]
     },
     "metadata": {},
     "output_type": "display_data"
    }
   ],
   "source": [
    "plt.plot(epochs, loss)"
   ]
  },
  {
   "cell_type": "markdown",
   "id": "fdb05fe0",
   "metadata": {},
   "source": [
    "### Generate Samples"
   ]
  },
  {
   "cell_type": "code",
   "execution_count": 14,
   "id": "4bb298ac",
   "metadata": {},
   "outputs": [],
   "source": [
    "n_samples = 1000"
   ]
  },
  {
   "cell_type": "code",
   "execution_count": 15,
   "id": "2106b9f2",
   "metadata": {},
   "outputs": [
    {
     "name": "stderr",
     "output_type": "stream",
     "text": [
      "  0%|          | 0/1000 [00:00<?, ?it/s]"
     ]
    },
    {
     "name": "stdout",
     "output_type": "stream",
     "text": [
      "['Class is SIRA,', 'Class is SIRA,', 'Class is DERMASON,', 'Class is CALI,', 'Class is DERMASON,', 'Class is BARBUNYA,', 'Class is DERMASON,', 'Class is SEKER,', 'Class is SIRA,', 'Class is HOROZ,', 'Class is SIRA,', 'Class is BARBUNYA,', 'Class is HOROZ,', 'Class is BARBUNYA,', 'Class is SIRA,', 'Class is BOMBAY,', 'Class is SEKER,', 'Class is HOROZ,', 'Class is HOROZ,', 'Class is BARBUNYA,', 'Class is SEKER,', 'Class is SIRA,', 'Class is SIRA,', 'Class is SEKER,', 'Class is HOROZ,', 'Class is HOROZ,', 'Class is SIRA,', 'Class is DERMASON,', 'Class is DERMASON,', 'Class is CALI,', 'Class is BARBUNYA,', 'Class is SEKER,', 'Class is SEKER,', 'Class is CALI,', 'Class is DERMASON,', 'Class is DERMASON,', 'Class is CALI,', 'Class is SIRA,', 'Class is DERMASON,', 'Class is HOROZ,', 'Class is HOROZ,', 'Class is SIRA,', 'Class is SIRA,', 'Class is CALI,', 'Class is BARBUNYA,', 'Class is DERMASON,', 'Class is DERMASON,', 'Class is SIRA,', 'Class is HOROZ,', 'Class is SIRA,']\n"
     ]
    },
    {
     "name": "stderr",
     "output_type": "stream",
     "text": [
      "  4%|▍         | 44/1000 [00:07<02:40,  5.97it/s]"
     ]
    },
    {
     "name": "stdout",
     "output_type": "stream",
     "text": [
      "['Class is SEKER,', 'Class is HOROZ,', 'Class is HOROZ,', 'Class is DERMASON,', 'Class is DERMASON,', 'Class is HOROZ,', 'Class is SEKER,', 'Class is SIRA,', 'Class is BOMBAY,', 'Class is SIRA,', 'Class is SEKER,', 'Class is BOMBAY,', 'Class is SIRA,', 'Class is BARBUNYA,', 'Class is DERMASON,', 'Class is CALI,', 'Class is SIRA,', 'Class is BARBUNYA,', 'Class is DERMASON,', 'Class is DERMASON,', 'Class is SIRA,', 'Class is DERMASON,', 'Class is SIRA,', 'Class is HOROZ,', 'Class is CALI,', 'Class is DERMASON,', 'Class is DERMASON,', 'Class is SEKER,', 'Class is DERMASON,', 'Class is HOROZ,', 'Class is DERMASON,', 'Class is CALI,', 'Class is CALI,', 'Class is SIRA,', 'Class is SEKER,', 'Class is SIRA,', 'Class is SIRA,', 'Class is BARBUNYA,', 'Class is DERMASON,', 'Class is HOROZ,', 'Class is DERMASON,', 'Class is DERMASON,', 'Class is SIRA,', 'Class is DERMASON,', 'Class is DERMASON,', 'Class is BOMBAY,', 'Class is HOROZ,', 'Class is DERMASON,', 'Class is CALI,', 'Class is BOMBAY,']\n"
     ]
    },
    {
     "name": "stderr",
     "output_type": "stream",
     "text": [
      "  9%|▉         | 93/1000 [00:15<02:28,  6.11it/s]"
     ]
    },
    {
     "name": "stdout",
     "output_type": "stream",
     "text": [
      "['Class is BARBUNYA,', 'Class is DERMASON,', 'Class is SIRA,', 'Class is SIRA,', 'Class is DERMASON,', 'Class is DERMASON,', 'Class is DERMASON,', 'Class is DERMASON,', 'Class is SIRA,', 'Class is DERMASON,', 'Class is HOROZ,', 'Class is HOROZ,', 'Class is CALI,', 'Class is BARBUNYA,', 'Class is DERMASON,', 'Class is SEKER,', 'Class is DERMASON,', 'Class is HOROZ,', 'Class is SIRA,', 'Class is SEKER,', 'Class is SIRA,', 'Class is SIRA,', 'Class is HOROZ,', 'Class is SIRA,', 'Class is DERMASON,', 'Class is SIRA,', 'Class is DERMASON,', 'Class is SEKER,', 'Class is SEKER,', 'Class is BOMBAY,', 'Class is BARBUNYA,', 'Class is HOROZ,', 'Class is SEKER,', 'Class is HOROZ,', 'Class is SIRA,', 'Class is HOROZ,', 'Class is SIRA,', 'Class is BARBUNYA,', 'Class is DERMASON,', 'Class is CALI,', 'Class is BOMBAY,', 'Class is BARBUNYA,', 'Class is DERMASON,', 'Class is SEKER,', 'Class is HOROZ,', 'Class is BARBUNYA,', 'Class is CALI,', 'Class is DERMASON,', 'Class is HOROZ,', 'Class is SIRA,']\n"
     ]
    },
    {
     "name": "stderr",
     "output_type": "stream",
     "text": [
      " 14%|█▍        | 141/1000 [00:22<02:16,  6.29it/s]"
     ]
    },
    {
     "name": "stdout",
     "output_type": "stream",
     "text": [
      "['Class is DERMASON,', 'Class is SIRA,', 'Class is HOROZ,', 'Class is HOROZ,', 'Class is SEKER,', 'Class is CALI,', 'Class is DERMASON,', 'Class is SEKER,', 'Class is SEKER,', 'Class is SEKER,', 'Class is DERMASON,', 'Class is HOROZ,', 'Class is DERMASON,', 'Class is DERMASON,', 'Class is DERMASON,', 'Class is CALI,', 'Class is HOROZ,', 'Class is SEKER,', 'Class is SIRA,', 'Class is HOROZ,', 'Class is SEKER,', 'Class is HOROZ,', 'Class is SEKER,', 'Class is DERMASON,', 'Class is SIRA,', 'Class is SEKER,', 'Class is SIRA,', 'Class is CALI,', 'Class is SEKER,', 'Class is DERMASON,', 'Class is CALI,', 'Class is HOROZ,', 'Class is BOMBAY,', 'Class is DERMASON,', 'Class is CALI,', 'Class is CALI,', 'Class is DERMASON,', 'Class is SIRA,', 'Class is SIRA,', 'Class is DERMASON,', 'Class is DERMASON,', 'Class is DERMASON,', 'Class is DERMASON,', 'Class is BARBUNYA,', 'Class is DERMASON,', 'Class is SIRA,', 'Class is DERMASON,', 'Class is SIRA,', 'Class is DERMASON,', 'Class is SIRA,']\n"
     ]
    },
    {
     "name": "stderr",
     "output_type": "stream",
     "text": [
      " 19%|█▉        | 189/1000 [00:29<02:05,  6.47it/s]"
     ]
    },
    {
     "name": "stdout",
     "output_type": "stream",
     "text": [
      "['Class is DERMASON,', 'Class is HOROZ,', 'Class is HOROZ,', 'Class is HOROZ,', 'Class is DERMASON,', 'Class is DERMASON,', 'Class is SIRA,', 'Class is HOROZ,', 'Class is DERMASON,', 'Class is DERMASON,', 'Class is BARBUNYA,', 'Class is DERMASON,', 'Class is DERMASON,', 'Class is SIRA,', 'Class is DERMASON,', 'Class is BOMBAY,', 'Class is BARBUNYA,', 'Class is SIRA,', 'Class is SIRA,', 'Class is BARBUNYA,', 'Class is SEKER,', 'Class is SEKER,', 'Class is HOROZ,', 'Class is DERMASON,', 'Class is DERMASON,', 'Class is HOROZ,', 'Class is SIRA,', 'Class is HOROZ,', 'Class is HOROZ,', 'Class is SEKER,', 'Class is CALI,', 'Class is BARBUNYA,', 'Class is SEKER,', 'Class is CALI,', 'Class is SIRA,', 'Class is CALI,', 'Class is BOMBAY,', 'Class is SIRA,', 'Class is DERMASON,', 'Class is SIRA,', 'Class is BARBUNYA,', 'Class is BOMBAY,', 'Class is SEKER,', 'Class is DERMASON,', 'Class is DERMASON,', 'Class is SEKER,', 'Class is SEKER,', 'Class is SIRA,', 'Class is SEKER,', 'Class is DERMASON,']\n"
     ]
    },
    {
     "name": "stderr",
     "output_type": "stream",
     "text": [
      " 24%|██▍       | 238/1000 [00:37<01:58,  6.46it/s]"
     ]
    },
    {
     "name": "stdout",
     "output_type": "stream",
     "text": [
      "['Class is DERMASON,', 'Class is SIRA,', 'Class is SEKER,', 'Class is BARBUNYA,', 'Class is CALI,', 'Class is SIRA,', 'Class is SEKER,', 'Class is BARBUNYA,', 'Class is SEKER,', 'Class is DERMASON,', 'Class is SEKER,', 'Class is SIRA,', 'Class is DERMASON,', 'Class is SEKER,', 'Class is DERMASON,', 'Class is DERMASON,', 'Class is BOMBAY,', 'Class is SEKER,', 'Class is HOROZ,', 'Class is SIRA,', 'Class is SEKER,', 'Class is DERMASON,', 'Class is SIRA,', 'Class is BARBUNYA,', 'Class is DERMASON,', 'Class is BARBUNYA,', 'Class is DERMASON,', 'Class is SIRA,', 'Class is BOMBAY,', 'Class is HOROZ,', 'Class is SIRA,', 'Class is CALI,', 'Class is BARBUNYA,', 'Class is CALI,', 'Class is DERMASON,', 'Class is CALI,', 'Class is SEKER,', 'Class is DERMASON,', 'Class is DERMASON,', 'Class is CALI,', 'Class is SEKER,', 'Class is DERMASON,', 'Class is DERMASON,', 'Class is SEKER,', 'Class is SEKER,', 'Class is DERMASON,', 'Class is SIRA,', 'Class is SIRA,', 'Class is SEKER,', 'Class is DERMASON,']\n"
     ]
    },
    {
     "name": "stderr",
     "output_type": "stream",
     "text": [
      " 28%|██▊       | 284/1000 [00:44<01:52,  6.35it/s]"
     ]
    },
    {
     "name": "stdout",
     "output_type": "stream",
     "text": [
      "['Class is DERMASON,', 'Class is SEKER,', 'Class is DERMASON,', 'Class is HOROZ,', 'Class is SIRA,', 'Class is DERMASON,', 'Class is BARBUNYA,', 'Class is BARBUNYA,', 'Class is DERMASON,', 'Class is HOROZ,', 'Class is DERMASON,', 'Class is DERMASON,', 'Class is BARBUNYA,', 'Class is CALI,', 'Class is HOROZ,', 'Class is SEKER,', 'Class is SIRA,', 'Class is DERMASON,', 'Class is BARBUNYA,', 'Class is BARBUNYA,', 'Class is BARBUNYA,', 'Class is CALI,', 'Class is SEKER,', 'Class is HOROZ,', 'Class is HOROZ,', 'Class is DERMASON,', 'Class is BOMBAY,', 'Class is HOROZ,', 'Class is SEKER,', 'Class is CALI,', 'Class is HOROZ,', 'Class is SEKER,', 'Class is DERMASON,', 'Class is DERMASON,', 'Class is DERMASON,', 'Class is HOROZ,', 'Class is HOROZ,', 'Class is DERMASON,', 'Class is DERMASON,', 'Class is CALI,', 'Class is BOMBAY,', 'Class is DERMASON,', 'Class is SIRA,', 'Class is DERMASON,', 'Class is HOROZ,', 'Class is DERMASON,', 'Class is BOMBAY,', 'Class is CALI,', 'Class is DERMASON,', 'Class is DERMASON,']\n"
     ]
    },
    {
     "name": "stderr",
     "output_type": "stream",
     "text": [
      " 33%|███▎      | 330/1000 [00:52<01:45,  6.33it/s]"
     ]
    },
    {
     "name": "stdout",
     "output_type": "stream",
     "text": [
      "['Class is DERMASON,', 'Class is DERMASON,', 'Class is SEKER,', 'Class is CALI,', 'Class is DERMASON,', 'Class is DERMASON,', 'Class is DERMASON,', 'Class is CALI,', 'Class is CALI,', 'Class is SIRA,', 'Class is SIRA,', 'Class is SEKER,', 'Class is DERMASON,', 'Class is CALI,', 'Class is SEKER,', 'Class is BARBUNYA,', 'Class is CALI,', 'Class is DERMASON,', 'Class is SIRA,', 'Class is DERMASON,', 'Class is SEKER,', 'Class is BOMBAY,', 'Class is HOROZ,', 'Class is DERMASON,', 'Class is BOMBAY,', 'Class is DERMASON,', 'Class is HOROZ,', 'Class is HOROZ,', 'Class is DERMASON,', 'Class is BOMBAY,', 'Class is SEKER,', 'Class is SEKER,', 'Class is SIRA,', 'Class is DERMASON,', 'Class is SEKER,', 'Class is BARBUNYA,', 'Class is SEKER,', 'Class is SEKER,', 'Class is SIRA,', 'Class is SEKER,', 'Class is SIRA,', 'Class is CALI,', 'Class is HOROZ,', 'Class is HOROZ,', 'Class is SIRA,', 'Class is BARBUNYA,', 'Class is CALI,', 'Class is SEKER,', 'Class is CALI,', 'Class is CALI,']\n"
     ]
    },
    {
     "name": "stderr",
     "output_type": "stream",
     "text": [
      " 38%|███▊      | 378/1000 [00:59<01:37,  6.41it/s]"
     ]
    },
    {
     "name": "stdout",
     "output_type": "stream",
     "text": [
      "['Class is DERMASON,', 'Class is CALI,', 'Class is DERMASON,', 'Class is SIRA,', 'Class is SIRA,', 'Class is DERMASON,', 'Class is SIRA,', 'Class is SIRA,', 'Class is SIRA,', 'Class is DERMASON,', 'Class is SIRA,', 'Class is BARBUNYA,', 'Class is CALI,', 'Class is CALI,', 'Class is BOMBAY,', 'Class is SIRA,', 'Class is HOROZ,', 'Class is DERMASON,', 'Class is SEKER,', 'Class is DERMASON,', 'Class is SIRA,', 'Class is DERMASON,', 'Class is DERMASON,', 'Class is DERMASON,', 'Class is SIRA,', 'Class is HOROZ,', 'Class is DERMASON,', 'Class is SIRA,', 'Class is DERMASON,', 'Class is SEKER,', 'Class is DERMASON,', 'Class is HOROZ,', 'Class is DERMASON,', 'Class is CALI,', 'Class is SEKER,', 'Class is SIRA,', 'Class is SIRA,', 'Class is HOROZ,', 'Class is DERMASON,', 'Class is SEKER,', 'Class is SIRA,', 'Class is HOROZ,', 'Class is SEKER,', 'Class is CALI,', 'Class is SIRA,', 'Class is SIRA,', 'Class is BOMBAY,', 'Class is SEKER,', 'Class is DERMASON,', 'Class is BARBUNYA,']\n"
     ]
    },
    {
     "name": "stderr",
     "output_type": "stream",
     "text": [
      " 42%|████▏     | 424/1000 [01:07<01:32,  6.24it/s]"
     ]
    },
    {
     "name": "stdout",
     "output_type": "stream",
     "text": [
      "['Class is SIRA,', 'Class is DERMASON,', 'Class is SIRA,', 'Class is HOROZ,', 'Class is SEKER,', 'Class is BARBUNYA,', 'Class is HOROZ,', 'Class is SEKER,', 'Class is SEKER,', 'Class is CALI,', 'Class is SIRA,', 'Class is BARBUNYA,', 'Class is CALI,', 'Class is DERMASON,', 'Class is CALI,', 'Class is SEKER,', 'Class is CALI,', 'Class is SEKER,', 'Class is BOMBAY,', 'Class is BARBUNYA,', 'Class is DERMASON,', 'Class is DERMASON,', 'Class is SIRA,', 'Class is DERMASON,', 'Class is CALI,', 'Class is BARBUNYA,', 'Class is SIRA,', 'Class is DERMASON,', 'Class is BARBUNYA,', 'Class is CALI,', 'Class is CALI,', 'Class is DERMASON,', 'Class is BOMBAY,', 'Class is BARBUNYA,', 'Class is DERMASON,', 'Class is SIRA,', 'Class is DERMASON,', 'Class is BARBUNYA,', 'Class is SEKER,', 'Class is BARBUNYA,', 'Class is HOROZ,', 'Class is SIRA,', 'Class is SIRA,', 'Class is BARBUNYA,', 'Class is DERMASON,', 'Class is DERMASON,', 'Class is DERMASON,', 'Class is BARBUNYA,', 'Class is CALI,', 'Class is SIRA,']\n"
     ]
    },
    {
     "name": "stderr",
     "output_type": "stream",
     "text": [
      " 47%|████▋     | 472/1000 [01:14<01:24,  6.28it/s]"
     ]
    },
    {
     "name": "stdout",
     "output_type": "stream",
     "text": [
      "['Class is DERMASON,', 'Class is HOROZ,', 'Class is DERMASON,', 'Class is DERMASON,', 'Class is DERMASON,', 'Class is HOROZ,', 'Class is SEKER,', 'Class is SEKER,', 'Class is DERMASON,', 'Class is SEKER,', 'Class is DERMASON,', 'Class is HOROZ,', 'Class is SIRA,', 'Class is SIRA,', 'Class is CALI,', 'Class is SEKER,', 'Class is SIRA,', 'Class is SIRA,', 'Class is HOROZ,', 'Class is SEKER,', 'Class is DERMASON,', 'Class is SEKER,', 'Class is DERMASON,', 'Class is CALI,', 'Class is BARBUNYA,', 'Class is SEKER,', 'Class is CALI,', 'Class is SEKER,', 'Class is SIRA,', 'Class is HOROZ,', 'Class is BARBUNYA,', 'Class is SIRA,', 'Class is SIRA,', 'Class is DERMASON,', 'Class is DERMASON,', 'Class is DERMASON,', 'Class is CALI,', 'Class is DERMASON,', 'Class is SEKER,', 'Class is DERMASON,', 'Class is SIRA,', 'Class is DERMASON,', 'Class is SEKER,', 'Class is CALI,', 'Class is SEKER,', 'Class is SIRA,', 'Class is CALI,', 'Class is SEKER,', 'Class is DERMASON,', 'Class is CALI,']\n"
     ]
    },
    {
     "name": "stderr",
     "output_type": "stream",
     "text": [
      " 52%|█████▏    | 517/1000 [01:22<01:17,  6.25it/s]"
     ]
    },
    {
     "name": "stdout",
     "output_type": "stream",
     "text": [
      "['Class is SIRA,', 'Class is SEKER,', 'Class is DERMASON,', 'Class is SIRA,', 'Class is BARBUNYA,', 'Class is SIRA,', 'Class is SIRA,', 'Class is DERMASON,', 'Class is DERMASON,', 'Class is SIRA,', 'Class is BARBUNYA,', 'Class is DERMASON,', 'Class is HOROZ,', 'Class is DERMASON,', 'Class is CALI,', 'Class is BARBUNYA,', 'Class is SIRA,', 'Class is DERMASON,', 'Class is DERMASON,', 'Class is BARBUNYA,', 'Class is CALI,', 'Class is CALI,', 'Class is DERMASON,', 'Class is HOROZ,', 'Class is BARBUNYA,', 'Class is DERMASON,', 'Class is CALI,', 'Class is BARBUNYA,', 'Class is DERMASON,', 'Class is HOROZ,', 'Class is SIRA,', 'Class is HOROZ,', 'Class is SIRA,', 'Class is BARBUNYA,', 'Class is SIRA,', 'Class is SEKER,', 'Class is SIRA,', 'Class is BOMBAY,', 'Class is HOROZ,', 'Class is DERMASON,', 'Class is SIRA,', 'Class is HOROZ,', 'Class is CALI,', 'Class is HOROZ,', 'Class is BOMBAY,', 'Class is DERMASON,', 'Class is SIRA,', 'Class is SIRA,', 'Class is CALI,', 'Class is SIRA,']\n"
     ]
    },
    {
     "name": "stderr",
     "output_type": "stream",
     "text": [
      " 56%|█████▋    | 565/1000 [01:29<01:08,  6.38it/s]"
     ]
    },
    {
     "name": "stdout",
     "output_type": "stream",
     "text": [
      "['Class is HOROZ,', 'Class is DERMASON,', 'Class is DERMASON,', 'Class is SEKER,', 'Class is CALI,', 'Class is BARBUNYA,', 'Class is SIRA,', 'Class is HOROZ,', 'Class is DERMASON,', 'Class is SIRA,', 'Class is BOMBAY,', 'Class is DERMASON,', 'Class is BARBUNYA,', 'Class is SIRA,', 'Class is DERMASON,', 'Class is HOROZ,', 'Class is BARBUNYA,', 'Class is SEKER,', 'Class is SIRA,', 'Class is CALI,', 'Class is CALI,', 'Class is SEKER,', 'Class is DERMASON,', 'Class is DERMASON,', 'Class is BARBUNYA,', 'Class is DERMASON,', 'Class is BOMBAY,', 'Class is BOMBAY,', 'Class is SIRA,', 'Class is SIRA,', 'Class is SEKER,', 'Class is DERMASON,', 'Class is DERMASON,', 'Class is DERMASON,', 'Class is CALI,', 'Class is DERMASON,', 'Class is SIRA,', 'Class is BARBUNYA,', 'Class is SIRA,', 'Class is BARBUNYA,', 'Class is SIRA,', 'Class is SEKER,', 'Class is DERMASON,', 'Class is HOROZ,', 'Class is DERMASON,', 'Class is SIRA,', 'Class is SIRA,', 'Class is DERMASON,', 'Class is SEKER,', 'Class is SEKER,']\n"
     ]
    },
    {
     "name": "stderr",
     "output_type": "stream",
     "text": [
      " 61%|██████    | 611/1000 [01:36<01:01,  6.37it/s]"
     ]
    },
    {
     "name": "stdout",
     "output_type": "stream",
     "text": [
      "['Class is DERMASON,', 'Class is SIRA,', 'Class is CALI,', 'Class is SIRA,', 'Class is SEKER,', 'Class is SIRA,', 'Class is SIRA,', 'Class is BOMBAY,', 'Class is SEKER,', 'Class is SIRA,', 'Class is SIRA,', 'Class is SEKER,', 'Class is HOROZ,', 'Class is HOROZ,', 'Class is HOROZ,', 'Class is CALI,', 'Class is HOROZ,', 'Class is DERMASON,', 'Class is SEKER,', 'Class is DERMASON,', 'Class is SIRA,', 'Class is DERMASON,', 'Class is CALI,', 'Class is HOROZ,', 'Class is DERMASON,', 'Class is SEKER,', 'Class is BARBUNYA,', 'Class is SIRA,', 'Class is BARBUNYA,', 'Class is DERMASON,', 'Class is HOROZ,', 'Class is SIRA,', 'Class is SEKER,', 'Class is SIRA,', 'Class is DERMASON,', 'Class is DERMASON,', 'Class is SIRA,', 'Class is SIRA,', 'Class is SIRA,', 'Class is BARBUNYA,', 'Class is CALI,', 'Class is SIRA,', 'Class is DERMASON,', 'Class is DERMASON,', 'Class is CALI,', 'Class is DERMASON,', 'Class is DERMASON,', 'Class is SIRA,', 'Class is HOROZ,', 'Class is SIRA,']\n"
     ]
    },
    {
     "name": "stderr",
     "output_type": "stream",
     "text": [
      " 66%|██████▌   | 660/1000 [01:43<00:52,  6.50it/s]"
     ]
    },
    {
     "name": "stdout",
     "output_type": "stream",
     "text": [
      "['Class is SEKER,', 'Class is DERMASON,', 'Class is SIRA,', 'Class is DERMASON,', 'Class is SIRA,', 'Class is DERMASON,', 'Class is SEKER,', 'Class is SEKER,', 'Class is HOROZ,', 'Class is DERMASON,', 'Class is HOROZ,', 'Class is HOROZ,', 'Class is HOROZ,', 'Class is CALI,', 'Class is BARBUNYA,', 'Class is SEKER,', 'Class is HOROZ,', 'Class is HOROZ,', 'Class is BARBUNYA,', 'Class is CALI,', 'Class is HOROZ,', 'Class is DERMASON,', 'Class is DERMASON,', 'Class is SEKER,', 'Class is DERMASON,', 'Class is HOROZ,', 'Class is HOROZ,', 'Class is HOROZ,', 'Class is CALI,', 'Class is HOROZ,', 'Class is BOMBAY,', 'Class is SIRA,', 'Class is SIRA,', 'Class is SEKER,', 'Class is DERMASON,', 'Class is HOROZ,', 'Class is SEKER,', 'Class is CALI,', 'Class is HOROZ,', 'Class is HOROZ,', 'Class is SIRA,', 'Class is SIRA,', 'Class is DERMASON,', 'Class is SIRA,', 'Class is SEKER,', 'Class is SIRA,', 'Class is DERMASON,', 'Class is DERMASON,', 'Class is DERMASON,', 'Class is SEKER,']\n"
     ]
    },
    {
     "name": "stderr",
     "output_type": "stream",
     "text": [
      " 71%|███████   | 709/1000 [01:51<00:44,  6.54it/s]"
     ]
    },
    {
     "name": "stdout",
     "output_type": "stream",
     "text": [
      "['Class is DERMASON,', 'Class is DERMASON,', 'Class is BARBUNYA,', 'Class is SEKER,', 'Class is SIRA,', 'Class is DERMASON,', 'Class is CALI,', 'Class is SIRA,', 'Class is DERMASON,', 'Class is SIRA,', 'Class is SEKER,', 'Class is BARBUNYA,', 'Class is SEKER,', 'Class is CALI,', 'Class is HOROZ,', 'Class is SEKER,', 'Class is SIRA,', 'Class is DERMASON,', 'Class is SEKER,', 'Class is SEKER,', 'Class is SIRA,', 'Class is BARBUNYA,', 'Class is HOROZ,', 'Class is DERMASON,', 'Class is SEKER,', 'Class is HOROZ,', 'Class is BARBUNYA,', 'Class is SIRA,', 'Class is DERMASON,', 'Class is SEKER,', 'Class is HOROZ,', 'Class is SEKER,', 'Class is SIRA,', 'Class is DERMASON,', 'Class is CALI,', 'Class is DERMASON,', 'Class is SIRA,', 'Class is SIRA,', 'Class is DERMASON,', 'Class is DERMASON,', 'Class is HOROZ,', 'Class is SEKER,', 'Class is DERMASON,', 'Class is DERMASON,', 'Class is SIRA,', 'Class is SEKER,', 'Class is SIRA,', 'Class is SIRA,', 'Class is SEKER,', 'Class is SEKER,']\n"
     ]
    },
    {
     "name": "stderr",
     "output_type": "stream",
     "text": [
      " 76%|███████▌  | 756/1000 [01:58<00:37,  6.55it/s]"
     ]
    },
    {
     "name": "stdout",
     "output_type": "stream",
     "text": [
      "['Class is SEKER,', 'Class is DERMASON,', 'Class is HOROZ,', 'Class is HOROZ,', 'Class is HOROZ,', 'Class is SIRA,', 'Class is SIRA,', 'Class is SEKER,', 'Class is SIRA,', 'Class is SIRA,', 'Class is SEKER,', 'Class is SEKER,', 'Class is CALI,', 'Class is SIRA,', 'Class is DERMASON,', 'Class is HOROZ,', 'Class is SEKER,', 'Class is SEKER,', 'Class is DERMASON,', 'Class is DERMASON,', 'Class is HOROZ,', 'Class is HOROZ,', 'Class is HOROZ,', 'Class is DERMASON,', 'Class is DERMASON,', 'Class is SIRA,', 'Class is HOROZ,', 'Class is CALI,', 'Class is DERMASON,', 'Class is DERMASON,', 'Class is CALI,', 'Class is DERMASON,', 'Class is SEKER,', 'Class is DERMASON,', 'Class is SIRA,', 'Class is CALI,', 'Class is CALI,', 'Class is DERMASON,', 'Class is DERMASON,', 'Class is HOROZ,', 'Class is DERMASON,', 'Class is HOROZ,', 'Class is HOROZ,', 'Class is SEKER,', 'Class is DERMASON,', 'Class is SIRA,', 'Class is SEKER,', 'Class is BARBUNYA,', 'Class is SIRA,', 'Class is BOMBAY,']\n"
     ]
    },
    {
     "name": "stderr",
     "output_type": "stream",
     "text": [
      " 80%|████████  | 803/1000 [02:05<00:30,  6.44it/s]"
     ]
    },
    {
     "name": "stdout",
     "output_type": "stream",
     "text": [
      "['Class is SEKER,', 'Class is HOROZ,', 'Class is DERMASON,', 'Class is SEKER,', 'Class is CALI,', 'Class is HOROZ,', 'Class is BARBUNYA,', 'Class is HOROZ,', 'Class is SIRA,', 'Class is CALI,', 'Class is HOROZ,', 'Class is DERMASON,', 'Class is CALI,', 'Class is CALI,', 'Class is SIRA,', 'Class is DERMASON,', 'Class is BARBUNYA,', 'Class is DERMASON,', 'Class is CALI,', 'Class is SIRA,', 'Class is DERMASON,', 'Class is BARBUNYA,', 'Class is DERMASON,', 'Class is SEKER,', 'Class is SEKER,', 'Class is CALI,', 'Class is DERMASON,', 'Class is SEKER,', 'Class is BARBUNYA,', 'Class is BARBUNYA,', 'Class is BOMBAY,', 'Class is DERMASON,', 'Class is DERMASON,', 'Class is CALI,', 'Class is SIRA,', 'Class is SIRA,', 'Class is HOROZ,', 'Class is HOROZ,', 'Class is SIRA,', 'Class is DERMASON,', 'Class is BOMBAY,', 'Class is SEKER,', 'Class is CALI,', 'Class is SIRA,', 'Class is DERMASON,', 'Class is SEKER,', 'Class is DERMASON,', 'Class is DERMASON,', 'Class is HOROZ,', 'Class is CALI,']\n"
     ]
    },
    {
     "name": "stderr",
     "output_type": "stream",
     "text": [
      " 85%|████████▌ | 851/1000 [02:13<00:23,  6.34it/s]"
     ]
    },
    {
     "name": "stdout",
     "output_type": "stream",
     "text": [
      "['Class is DERMASON,', 'Class is SIRA,', 'Class is SIRA,', 'Class is SIRA,', 'Class is CALI,', 'Class is SIRA,', 'Class is HOROZ,', 'Class is CALI,', 'Class is SEKER,', 'Class is SEKER,', 'Class is DERMASON,', 'Class is DERMASON,', 'Class is SEKER,', 'Class is DERMASON,', 'Class is SIRA,', 'Class is BARBUNYA,', 'Class is CALI,', 'Class is DERMASON,', 'Class is SEKER,', 'Class is CALI,', 'Class is SEKER,', 'Class is BARBUNYA,', 'Class is SIRA,', 'Class is SIRA,', 'Class is SEKER,', 'Class is SEKER,', 'Class is SEKER,', 'Class is CALI,', 'Class is BARBUNYA,', 'Class is HOROZ,', 'Class is SIRA,', 'Class is HOROZ,', 'Class is DERMASON,', 'Class is HOROZ,', 'Class is DERMASON,', 'Class is BARBUNYA,', 'Class is SIRA,', 'Class is SIRA,', 'Class is SIRA,', 'Class is BOMBAY,', 'Class is SEKER,', 'Class is BARBUNYA,', 'Class is BARBUNYA,', 'Class is CALI,', 'Class is HOROZ,', 'Class is DERMASON,', 'Class is DERMASON,', 'Class is SIRA,', 'Class is HOROZ,', 'Class is DERMASON,']\n"
     ]
    },
    {
     "name": "stderr",
     "output_type": "stream",
     "text": [
      " 90%|████████▉ | 897/1000 [02:20<00:16,  6.37it/s]"
     ]
    },
    {
     "name": "stdout",
     "output_type": "stream",
     "text": [
      "['Class is DERMASON,', 'Class is HOROZ,', 'Class is DERMASON,', 'Class is CALI,', 'Class is CALI,', 'Class is SEKER,', 'Class is DERMASON,', 'Class is SIRA,', 'Class is SEKER,', 'Class is HOROZ,', 'Class is BOMBAY,', 'Class is SIRA,', 'Class is CALI,', 'Class is DERMASON,', 'Class is SEKER,', 'Class is HOROZ,', 'Class is DERMASON,', 'Class is SIRA,', 'Class is DERMASON,', 'Class is CALI,', 'Class is SIRA,', 'Class is SEKER,', 'Class is SEKER,', 'Class is BOMBAY,', 'Class is BOMBAY,', 'Class is SIRA,', 'Class is HOROZ,', 'Class is DERMASON,', 'Class is CALI,', 'Class is SEKER,', 'Class is HOROZ,', 'Class is SIRA,', 'Class is BARBUNYA,', 'Class is SIRA,', 'Class is DERMASON,', 'Class is SEKER,', 'Class is DERMASON,', 'Class is BARBUNYA,', 'Class is BARBUNYA,', 'Class is DERMASON,', 'Class is DERMASON,', 'Class is CALI,', 'Class is SIRA,', 'Class is BARBUNYA,', 'Class is SEKER,', 'Class is SEKER,', 'Class is SIRA,', 'Class is SEKER,', 'Class is DERMASON,', 'Class is SEKER,']\n"
     ]
    },
    {
     "name": "stderr",
     "output_type": "stream",
     "text": [
      " 94%|█████████▍| 945/1000 [02:28<00:08,  6.45it/s]"
     ]
    },
    {
     "name": "stdout",
     "output_type": "stream",
     "text": [
      "['Class is CALI,', 'Class is SIRA,', 'Class is HOROZ,', 'Class is SIRA,', 'Class is HOROZ,', 'Class is SIRA,', 'Class is DERMASON,', 'Class is SIRA,', 'Class is SIRA,', 'Class is BARBUNYA,', 'Class is SEKER,', 'Class is SEKER,', 'Class is CALI,', 'Class is DERMASON,', 'Class is HOROZ,', 'Class is SEKER,', 'Class is DERMASON,', 'Class is SEKER,', 'Class is BARBUNYA,', 'Class is DERMASON,', 'Class is SIRA,', 'Class is CALI,', 'Class is DERMASON,', 'Class is DERMASON,', 'Class is DERMASON,', 'Class is BARBUNYA,', 'Class is DERMASON,', 'Class is HOROZ,', 'Class is HOROZ,', 'Class is SEKER,', 'Class is BOMBAY,', 'Class is HOROZ,', 'Class is BARBUNYA,', 'Class is CALI,', 'Class is CALI,', 'Class is SIRA,', 'Class is SEKER,', 'Class is DERMASON,', 'Class is BARBUNYA,', 'Class is SEKER,', 'Class is DERMASON,', 'Class is BARBUNYA,', 'Class is HOROZ,', 'Class is SEKER,', 'Class is SEKER,', 'Class is DERMASON,', 'Class is SIRA,', 'Class is CALI,', 'Class is HOROZ,', 'Class is BARBUNYA,']\n"
     ]
    },
    {
     "name": "stderr",
     "output_type": "stream",
     "text": [
      " 99%|█████████▉| 988/1000 [02:35<00:01,  6.22it/s]"
     ]
    },
    {
     "name": "stdout",
     "output_type": "stream",
     "text": [
      "['Class is HOROZ,', 'Class is DERMASON,', 'Class is CALI,', 'Class is SIRA,', 'Class is DERMASON,', 'Class is DERMASON,', 'Class is DERMASON,', 'Class is SIRA,', 'Class is CALI,', 'Class is SEKER,', 'Class is HOROZ,', 'Class is SEKER,', 'Class is SEKER,', 'Class is SEKER,', 'Class is HOROZ,', 'Class is CALI,', 'Class is SIRA,', 'Class is HOROZ,', 'Class is HOROZ,', 'Class is CALI,', 'Class is DERMASON,', 'Class is BOMBAY,', 'Class is DERMASON,', 'Class is SIRA,', 'Class is SIRA,', 'Class is HOROZ,', 'Class is HOROZ,', 'Class is SIRA,', 'Class is SIRA,', 'Class is CALI,', 'Class is DERMASON,', 'Class is CALI,', 'Class is DERMASON,', 'Class is SEKER,', 'Class is SIRA,', 'Class is BARBUNYA,', 'Class is DERMASON,', 'Class is DERMASON,', 'Class is SEKER,', 'Class is DERMASON,', 'Class is SEKER,', 'Class is DERMASON,', 'Class is DERMASON,', 'Class is CALI,', 'Class is DERMASON,', 'Class is DERMASON,', 'Class is DERMASON,', 'Class is DERMASON,', 'Class is DERMASON,', 'Class is DERMASON,']\n"
     ]
    },
    {
     "name": "stderr",
     "output_type": "stream",
     "text": [
      "1034it [02:43,  6.33it/s]                         \n"
     ]
    }
   ],
   "source": [
    "samples = great.sample(n_samples, k=50, max_length=500)"
   ]
  },
  {
   "cell_type": "code",
   "execution_count": 16,
   "id": "105aa225",
   "metadata": {},
   "outputs": [
    {
     "data": {
      "text/html": [
       "<div>\n",
       "<style scoped>\n",
       "    .dataframe tbody tr th:only-of-type {\n",
       "        vertical-align: middle;\n",
       "    }\n",
       "\n",
       "    .dataframe tbody tr th {\n",
       "        vertical-align: top;\n",
       "    }\n",
       "\n",
       "    .dataframe thead th {\n",
       "        text-align: right;\n",
       "    }\n",
       "</style>\n",
       "<table border=\"1\" class=\"dataframe\">\n",
       "  <thead>\n",
       "    <tr style=\"text-align: right;\">\n",
       "      <th></th>\n",
       "      <th>Area</th>\n",
       "      <th>Perimeter</th>\n",
       "      <th>MajorAxisLength</th>\n",
       "      <th>MinorAxisLength</th>\n",
       "      <th>AspectRation</th>\n",
       "      <th>Eccentricity</th>\n",
       "      <th>ConvexArea</th>\n",
       "      <th>EquivDiameter</th>\n",
       "      <th>Extent</th>\n",
       "      <th>Solidity</th>\n",
       "      <th>roundness</th>\n",
       "      <th>Compactness</th>\n",
       "      <th>ShapeFactor1</th>\n",
       "      <th>ShapeFactor2</th>\n",
       "      <th>ShapeFactor3</th>\n",
       "      <th>ShapeFactor4</th>\n",
       "      <th>Class</th>\n",
       "    </tr>\n",
       "  </thead>\n",
       "  <tbody>\n",
       "    <tr>\n",
       "      <th>0</th>\n",
       "      <td>49866.0</td>\n",
       "      <td>827.088</td>\n",
       "      <td>300.948372</td>\n",
       "      <td>202.144088</td>\n",
       "      <td>1.521540</td>\n",
       "      <td>0.763870</td>\n",
       "      <td>49425.0</td>\n",
       "      <td>249.890764</td>\n",
       "      <td>0.703829</td>\n",
       "      <td>0.988984</td>\n",
       "      <td>0.901460</td>\n",
       "      <td>0.803531</td>\n",
       "      <td>0.006209</td>\n",
       "      <td>0.001628</td>\n",
       "      <td>0.646609</td>\n",
       "      <td>0.995450</td>\n",
       "      <td>SIRA</td>\n",
       "    </tr>\n",
       "    <tr>\n",
       "      <th>1</th>\n",
       "      <td>40908.0</td>\n",
       "      <td>753.904</td>\n",
       "      <td>273.543293</td>\n",
       "      <td>182.642741</td>\n",
       "      <td>1.435745</td>\n",
       "      <td>0.735140</td>\n",
       "      <td>41139.0</td>\n",
       "      <td>224.498847</td>\n",
       "      <td>0.777536</td>\n",
       "      <td>0.988041</td>\n",
       "      <td>0.912155</td>\n",
       "      <td>0.838686</td>\n",
       "      <td>0.007064</td>\n",
       "      <td>0.001757</td>\n",
       "      <td>0.673764</td>\n",
       "      <td>0.996320</td>\n",
       "      <td>SIRA</td>\n",
       "    </tr>\n",
       "    <tr>\n",
       "      <th>2</th>\n",
       "      <td>34295.0</td>\n",
       "      <td>765.634</td>\n",
       "      <td>259.957347</td>\n",
       "      <td>174.277769</td>\n",
       "      <td>1.251408</td>\n",
       "      <td>0.606524</td>\n",
       "      <td>34403.0</td>\n",
       "      <td>207.353023</td>\n",
       "      <td>0.772918</td>\n",
       "      <td>0.989139</td>\n",
       "      <td>0.935882</td>\n",
       "      <td>0.881099</td>\n",
       "      <td>0.007499</td>\n",
       "      <td>0.001714</td>\n",
       "      <td>0.793300</td>\n",
       "      <td>0.998323</td>\n",
       "      <td>DERMASON</td>\n",
       "    </tr>\n",
       "    <tr>\n",
       "      <th>3</th>\n",
       "      <td>71740.0</td>\n",
       "      <td>1088.711</td>\n",
       "      <td>393.922168</td>\n",
       "      <td>239.414876</td>\n",
       "      <td>1.633203</td>\n",
       "      <td>0.781317</td>\n",
       "      <td>72425.0</td>\n",
       "      <td>302.487565</td>\n",
       "      <td>0.795669</td>\n",
       "      <td>0.983813</td>\n",
       "      <td>0.851718</td>\n",
       "      <td>0.781611</td>\n",
       "      <td>0.005536</td>\n",
       "      <td>0.001160</td>\n",
       "      <td>0.578583</td>\n",
       "      <td>0.994575</td>\n",
       "      <td>CALI</td>\n",
       "    </tr>\n",
       "    <tr>\n",
       "      <th>4</th>\n",
       "      <td>29842.0</td>\n",
       "      <td>646.906</td>\n",
       "      <td>248.928895</td>\n",
       "      <td>165.041005</td>\n",
       "      <td>1.687737</td>\n",
       "      <td>0.802223</td>\n",
       "      <td>30450.0</td>\n",
       "      <td>200.638134</td>\n",
       "      <td>0.761107</td>\n",
       "      <td>0.986723</td>\n",
       "      <td>0.888971</td>\n",
       "      <td>0.768735</td>\n",
       "      <td>0.008592</td>\n",
       "      <td>0.001213</td>\n",
       "      <td>0.582386</td>\n",
       "      <td>0.995834</td>\n",
       "      <td>DERMASON</td>\n",
       "    </tr>\n",
       "  </tbody>\n",
       "</table>\n",
       "</div>"
      ],
      "text/plain": [
       "      Area  Perimeter  MajorAxisLength  MinorAxisLength  AspectRation  \\\n",
       "0  49866.0    827.088       300.948372       202.144088      1.521540   \n",
       "1  40908.0    753.904       273.543293       182.642741      1.435745   \n",
       "2  34295.0    765.634       259.957347       174.277769      1.251408   \n",
       "3  71740.0   1088.711       393.922168       239.414876      1.633203   \n",
       "4  29842.0    646.906       248.928895       165.041005      1.687737   \n",
       "\n",
       "   Eccentricity  ConvexArea  EquivDiameter    Extent  Solidity  roundness  \\\n",
       "0      0.763870     49425.0     249.890764  0.703829  0.988984   0.901460   \n",
       "1      0.735140     41139.0     224.498847  0.777536  0.988041   0.912155   \n",
       "2      0.606524     34403.0     207.353023  0.772918  0.989139   0.935882   \n",
       "3      0.781317     72425.0     302.487565  0.795669  0.983813   0.851718   \n",
       "4      0.802223     30450.0     200.638134  0.761107  0.986723   0.888971   \n",
       "\n",
       "   Compactness  ShapeFactor1  ShapeFactor2  ShapeFactor3  ShapeFactor4  \\\n",
       "0     0.803531      0.006209      0.001628      0.646609      0.995450   \n",
       "1     0.838686      0.007064      0.001757      0.673764      0.996320   \n",
       "2     0.881099      0.007499      0.001714      0.793300      0.998323   \n",
       "3     0.781611      0.005536      0.001160      0.578583      0.994575   \n",
       "4     0.768735      0.008592      0.001213      0.582386      0.995834   \n",
       "\n",
       "      Class  \n",
       "0      SIRA  \n",
       "1      SIRA  \n",
       "2  DERMASON  \n",
       "3      CALI  \n",
       "4  DERMASON  "
      ]
     },
     "execution_count": 16,
     "metadata": {},
     "output_type": "execute_result"
    }
   ],
   "source": [
    "samples.head()"
   ]
  },
  {
   "cell_type": "code",
   "execution_count": 17,
   "id": "c6f534d4",
   "metadata": {},
   "outputs": [],
   "source": [
    "samples.to_csv(\"C:/Users/Windows 11/Desktop/Dissertation/Codes/sample_data/Biology/Dry_Bean_samples.csv\",index=False)"
   ]
  },
  {
   "cell_type": "markdown",
   "id": "70545fac",
   "metadata": {},
   "source": [
    "## Plot Data"
   ]
  },
  {
   "cell_type": "code",
   "execution_count": 25,
   "id": "ec9e0767",
   "metadata": {},
   "outputs": [
    {
     "data": {
      "text/html": [
       "<div>\n",
       "<style scoped>\n",
       "    .dataframe tbody tr th:only-of-type {\n",
       "        vertical-align: middle;\n",
       "    }\n",
       "\n",
       "    .dataframe tbody tr th {\n",
       "        vertical-align: top;\n",
       "    }\n",
       "\n",
       "    .dataframe thead th {\n",
       "        text-align: right;\n",
       "    }\n",
       "</style>\n",
       "<table border=\"1\" class=\"dataframe\">\n",
       "  <thead>\n",
       "    <tr style=\"text-align: right;\">\n",
       "      <th></th>\n",
       "      <th>Age</th>\n",
       "      <th>FrequentFlyer</th>\n",
       "      <th>AnnualIncomeClass</th>\n",
       "      <th>ServicesOpted</th>\n",
       "      <th>AccountSyncedToSocialMedia</th>\n",
       "      <th>BookedHotelOrNot</th>\n",
       "      <th>Target</th>\n",
       "    </tr>\n",
       "  </thead>\n",
       "  <tbody>\n",
       "    <tr>\n",
       "      <th>670</th>\n",
       "      <td>30</td>\n",
       "      <td>No</td>\n",
       "      <td>Low Income</td>\n",
       "      <td>1</td>\n",
       "      <td>No</td>\n",
       "      <td>Yes</td>\n",
       "      <td>0</td>\n",
       "    </tr>\n",
       "    <tr>\n",
       "      <th>211</th>\n",
       "      <td>29</td>\n",
       "      <td>No</td>\n",
       "      <td>Low Income</td>\n",
       "      <td>2</td>\n",
       "      <td>No</td>\n",
       "      <td>No</td>\n",
       "      <td>0</td>\n",
       "    </tr>\n",
       "    <tr>\n",
       "      <th>821</th>\n",
       "      <td>37</td>\n",
       "      <td>Yes</td>\n",
       "      <td>High Income</td>\n",
       "      <td>1</td>\n",
       "      <td>No</td>\n",
       "      <td>No</td>\n",
       "      <td>0</td>\n",
       "    </tr>\n",
       "    <tr>\n",
       "      <th>410</th>\n",
       "      <td>30</td>\n",
       "      <td>No</td>\n",
       "      <td>Middle Income</td>\n",
       "      <td>3</td>\n",
       "      <td>No</td>\n",
       "      <td>Yes</td>\n",
       "      <td>0</td>\n",
       "    </tr>\n",
       "    <tr>\n",
       "      <th>255</th>\n",
       "      <td>37</td>\n",
       "      <td>No</td>\n",
       "      <td>Middle Income</td>\n",
       "      <td>6</td>\n",
       "      <td>No</td>\n",
       "      <td>Yes</td>\n",
       "      <td>0</td>\n",
       "    </tr>\n",
       "  </tbody>\n",
       "</table>\n",
       "</div>"
      ],
      "text/plain": [
       "     Age FrequentFlyer AnnualIncomeClass  ServicesOpted  \\\n",
       "670   30            No        Low Income              1   \n",
       "211   29            No        Low Income              2   \n",
       "821   37           Yes       High Income              1   \n",
       "410   30            No     Middle Income              3   \n",
       "255   37            No     Middle Income              6   \n",
       "\n",
       "    AccountSyncedToSocialMedia BookedHotelOrNot  Target  \n",
       "670                         No              Yes       0  \n",
       "211                         No               No       0  \n",
       "821                         No               No       0  \n",
       "410                         No              Yes       0  \n",
       "255                         No              Yes       0  "
      ]
     },
     "execution_count": 25,
     "metadata": {},
     "output_type": "execute_result"
    },
    {
     "data": {
      "image/png": "[encoded data removed]",
      "text/plain": [
       "<Figure size 1200x400 with 2 Axes>"
      ]
     },
     "metadata": {},
     "output_type": "display_data"
    }
   ],
   "source": [
    "fig, ax = plt.subplots(1, 2, figsize=(12, 4))\n",
    "true_samples = data.sample(n = 100)\n",
    "true_samples.head()"
   ]
  },
  {
   "cell_type": "markdown",
   "id": "e3e051cc",
   "metadata": {},
   "source": [
    "Original Data"
   ]
  },
  {
   "cell_type": "code",
   "execution_count": 27,
   "id": "e70c4dfd",
   "metadata": {},
   "outputs": [
    {
     "data": {
      "text/plain": [
       "<matplotlib.collections.PathCollection at 0x7f4176431b50>"
      ]
     },
     "execution_count": 27,
     "metadata": {},
     "output_type": "execute_result"
    },
    {
     "data": {
      "image/png": "[encoded data removed]",
      "text/plain": [
       "<Figure size 1200x400 with 2 Axes>"
      ]
     },
     "metadata": {},
     "output_type": "display_data"
    }
   ],
   "source": [
    "fig, ax = plt.subplots(1, 2, figsize=(12, 4))\n",
    "true_samples = data.sample(n = 200)\n",
    "ax[0].scatter(true_samples[\"Age\"], true_samples[\"FrequentFlyer\"], c=true_samples[\"Target\"])\n",
    "ax[1].scatter(true_samples[\"AnnualIncomeClass\"], true_samples[\"ServicesOpted\"], c=true_samples[\"Target\"])"
   ]
  },
  {
   "cell_type": "markdown",
   "id": "f56b0e03",
   "metadata": {},
   "source": [
    "Generated samples"
   ]
  },
  {
   "cell_type": "code",
   "execution_count": 28,
   "id": "66d7efcc",
   "metadata": {},
   "outputs": [],
   "source": [
    "samples = pd.read_csv(\"C:/Users/Windows 11/Desktop/Dissertation/Codes/sample_data/travel_samples.csv\")"
   ]
  },
  {
   "cell_type": "code",
   "execution_count": 29,
   "id": "96d782e2",
   "metadata": {},
   "outputs": [
    {
     "data": {
      "text/plain": [
       "<matplotlib.collections.PathCollection at 0x7f4176371af0>"
      ]
     },
     "execution_count": 29,
     "metadata": {},
     "output_type": "execute_result"
    },
    {
     "data": {
      "image/png": "[encoded data removed]",
      "text/plain": [
       "<Figure size 1200x400 with 2 Axes>"
      ]
     },
     "metadata": {},
     "output_type": "display_data"
    }
   ],
   "source": [
    "fig, ax = plt.subplots(1, 2, figsize=(12, 4))\n",
    "\n",
    "ax[0].scatter(samples[\"Age\"], samples[\"FrequentFlyer\"], c=samples[\"Target\"])\n",
    "ax[0].set_ylim(1.8, 4.5)\n",
    "ax[1].scatter(samples[\"AnnualIncomeClass\"], samples[\"ServicesOpted\"], c=samples[\"Target\"].astype(\"int\"))\n"
   ]
  },
  {
   "cell_type": "code",
   "execution_count": null,
   "id": "69639c1e",
   "metadata": {},
   "outputs": [],
   "source": []
  },
  {
   "cell_type": "code",
   "execution_count": null,
   "id": "20708e2c",
   "metadata": {},
   "outputs": [],
   "source": []
  }
 ],
 "metadata": {
  "kernelspec": {
   "display_name": "Python 3 (ipykernel)",
   "language": "python",
   "name": "python3"
  },
  "language_info": {
   "codemirror_mode": {
    "name": "ipython",
    "version": 3
   },
   "file_extension": ".py",
   "mimetype": "text/x-python",
   "name": "python",
   "nbconvert_exporter": "python",
   "pygments_lexer": "ipython3",
   "version": "3.11.7"
  }
 },
 "nbformat": 4,
 "nbformat_minor": 5
}
