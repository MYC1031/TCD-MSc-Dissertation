{
 "cells": [
  {
   "cell_type": "markdown",
   "id": "245418c1",
   "metadata": {},
   "source": [
    "## GReaT Example with Iris Dataset"
   ]
  },
  {
   "cell_type": "code",
   "execution_count": 1,
   "id": "ab1f4da7-4b93-4055-8d56-6030c7498999",
   "metadata": {},
   "outputs": [],
   "source": [
    "# Execute only once!\n",
    "import os\n",
    "import sys\n",
    "sys.path.append(\"..\")\n",
    "os.chdir(\"..\")\n",
    "\n",
    "os.environ[\"CUDA_VISIBLE_DEVICES\"]=\"0\""
   ]
  },
  {
   "cell_type": "code",
   "execution_count": 2,
   "id": "b5009b62",
   "metadata": {},
   "outputs": [],
   "source": [
    "import numpy as np\n",
    "import pandas as pd\n",
    "import logging"
   ]
  },
  {
   "cell_type": "code",
   "execution_count": 3,
   "id": "71836c07-2530-44af-9b4b-cf72aff34426",
   "metadata": {},
   "outputs": [
    {
     "name": "stderr",
     "output_type": "stream",
     "text": [
      "/data/guoquanjiang/envs/begreat/lib/python3.9/site-packages/tqdm/auto.py:21: TqdmWarning: IProgress not found. Please update jupyter and ipywidgets. See https://ipywidgets.readthedocs.io/en/stable/user_install.html\n",
      "  from .autonotebook import tqdm as notebook_tqdm\n"
     ]
    }
   ],
   "source": [
    "from examples.utils import set_logging_level\n",
    "from be_great import GReaT"
   ]
  },
  {
   "cell_type": "code",
   "execution_count": 4,
   "id": "00695066",
   "metadata": {},
   "outputs": [],
   "source": [
    "import matplotlib.pyplot as plt"
   ]
  },
  {
   "cell_type": "code",
   "execution_count": 5,
   "id": "39088828",
   "metadata": {},
   "outputs": [
    {
     "data": {
      "text/html": [
       "<div>\n",
       "<style scoped>\n",
       "    .dataframe tbody tr th:only-of-type {\n",
       "        vertical-align: middle;\n",
       "    }\n",
       "\n",
       "    .dataframe tbody tr th {\n",
       "        vertical-align: top;\n",
       "    }\n",
       "\n",
       "    .dataframe thead th {\n",
       "        text-align: right;\n",
       "    }\n",
       "</style>\n",
       "<table border=\"1\" class=\"dataframe\">\n",
       "  <thead>\n",
       "    <tr style=\"text-align: right;\">\n",
       "      <th></th>\n",
       "      <th>Area</th>\n",
       "      <th>MajorAxisLength</th>\n",
       "      <th>MinorAxisLength</th>\n",
       "      <th>Eccentricity</th>\n",
       "      <th>ConvexArea</th>\n",
       "      <th>Extent</th>\n",
       "      <th>Perimeter</th>\n",
       "      <th>Class</th>\n",
       "    </tr>\n",
       "  </thead>\n",
       "  <tbody>\n",
       "    <tr>\n",
       "      <th>0</th>\n",
       "      <td>87524</td>\n",
       "      <td>442.246011</td>\n",
       "      <td>253.291155</td>\n",
       "      <td>0.819738</td>\n",
       "      <td>90546</td>\n",
       "      <td>0.758651</td>\n",
       "      <td>1184.040</td>\n",
       "      <td>Kecimen</td>\n",
       "    </tr>\n",
       "    <tr>\n",
       "      <th>1</th>\n",
       "      <td>75166</td>\n",
       "      <td>406.690687</td>\n",
       "      <td>243.032436</td>\n",
       "      <td>0.801805</td>\n",
       "      <td>78789</td>\n",
       "      <td>0.684130</td>\n",
       "      <td>1121.786</td>\n",
       "      <td>Kecimen</td>\n",
       "    </tr>\n",
       "    <tr>\n",
       "      <th>2</th>\n",
       "      <td>90856</td>\n",
       "      <td>442.267048</td>\n",
       "      <td>266.328318</td>\n",
       "      <td>0.798354</td>\n",
       "      <td>93717</td>\n",
       "      <td>0.637613</td>\n",
       "      <td>1208.575</td>\n",
       "      <td>Kecimen</td>\n",
       "    </tr>\n",
       "    <tr>\n",
       "      <th>3</th>\n",
       "      <td>45928</td>\n",
       "      <td>286.540559</td>\n",
       "      <td>208.760042</td>\n",
       "      <td>0.684989</td>\n",
       "      <td>47336</td>\n",
       "      <td>0.699599</td>\n",
       "      <td>844.162</td>\n",
       "      <td>Kecimen</td>\n",
       "    </tr>\n",
       "    <tr>\n",
       "      <th>4</th>\n",
       "      <td>79408</td>\n",
       "      <td>352.190770</td>\n",
       "      <td>290.827533</td>\n",
       "      <td>0.564011</td>\n",
       "      <td>81463</td>\n",
       "      <td>0.792772</td>\n",
       "      <td>1073.251</td>\n",
       "      <td>Kecimen</td>\n",
       "    </tr>\n",
       "  </tbody>\n",
       "</table>\n",
       "</div>"
      ],
      "text/plain": [
       "    Area  MajorAxisLength  MinorAxisLength  Eccentricity  ConvexArea  \\\n",
       "0  87524       442.246011       253.291155      0.819738       90546   \n",
       "1  75166       406.690687       243.032436      0.801805       78789   \n",
       "2  90856       442.267048       266.328318      0.798354       93717   \n",
       "3  45928       286.540559       208.760042      0.684989       47336   \n",
       "4  79408       352.190770       290.827533      0.564011       81463   \n",
       "\n",
       "     Extent  Perimeter    Class  \n",
       "0  0.758651   1184.040  Kecimen  \n",
       "1  0.684130   1121.786  Kecimen  \n",
       "2  0.637613   1208.575  Kecimen  \n",
       "3  0.699599    844.162  Kecimen  \n",
       "4  0.792772   1073.251  Kecimen  "
      ]
     },
     "execution_count": 5,
     "metadata": {},
     "output_type": "execute_result"
    }
   ],
   "source": [
    "logger = set_logging_level(logging.INFO)\n",
    "data = pd.read_csv('C:/Users/Windows 11/Desktop/Dissertation/Codes/Data/Biology/Raisin_Dataset.csv')\n",
    "data.head()"
   ]
  },
  {
   "cell_type": "markdown",
   "id": "5911b9b1",
   "metadata": {},
   "source": [
    "### Create GReaT Model"
   ]
  },
  {
   "cell_type": "code",
   "execution_count": 6,
   "id": "1a316696",
   "metadata": {},
   "outputs": [],
   "source": [
    "# great = GReaT(\"/data/guoquanjiang/llm_ner/llama3-8b/LLM-Research/Meta-Llama-3-8B\",                  # Name of the large language model used (see HuggingFace for more options)\n",
    "#               epochs=10,                   # Number of epochs to train\n",
    "#               save_steps=2000,               # Save model weights every x steps\n",
    "#               logging_steps=500,             # Log the loss and learning rate every x steps\n",
    "#               experiment_dir=\"trainer_travel\", # Name of the directory where all intermediate steps are saved\n",
    "#               batch_size=16,                 # Batch Size\n",
    "#               #lr_scheduler_type=\"constant\", # Specify the learning rate scheduler \n",
    "#               #learning_rate=5e-5            # Set the inital learning rate\n",
    "#               efficient_finetuning=\"lora\"\n",
    "#              )\n",
    "great = GReaT(\"C:/Users/Windows 11/Desktop/Dissertation/Codes/models/iiBcai/gpt2\",                  # Name of the large language model used (see HuggingFace for more options)\n",
    "              epochs=100,                   # Number of epochs to train\n",
    "              save_steps=2000,               # Save model weights every x steps\n",
    "              logging_steps=100,             # Log the loss and learning rate every x steps\n",
    "              experiment_dir=\"trainer_raisin\", # Name of the directory where all intermediate steps are saved\n",
    "              batch_size=32                # Batch Size\n",
    "              #lr_scheduler_type=\"constant\", # Specify the learning rate scheduler \n",
    "              #learning_rate=5e-5            # Set the inital learning rate\n",
    "            #   efficient_finetuning=\"lora\"\n",
    "             )"
   ]
  },
  {
   "cell_type": "markdown",
   "id": "3c7b173f",
   "metadata": {},
   "source": [
    "### Start Training"
   ]
  },
  {
   "cell_type": "code",
   "execution_count": 7,
   "id": "200e000c",
   "metadata": {
    "scrolled": true
   },
   "outputs": [
    {
     "name": "stderr",
     "output_type": "stream",
     "text": [
      "\u001b[39;20m2024-06-26 23:14:07,023 - INFO - Convert data into HuggingFace dataset object... (great.py:172)\u001b[0m\n",
      "\u001b[39;20m2024-06-26 23:14:07,038 - INFO - Create GReaT Trainer... (great.py:177)\u001b[0m\n",
      "\u001b[39;20m2024-06-26 23:14:08,573 - INFO - Start training... (great.py:193)\u001b[0m\n",
      "You're using a GPT2TokenizerFast tokenizer. Please note that with a fast tokenizer, using the `__call__` method is faster than using a method to encode the text followed by a call to the `pad` method to get a padded encoding.\n"
     ]
    },
    {
     "data": {
      "text/html": [
       "\n",
       "    <div>\n",
       "      \n",
       "      <progress value='2900' max='2900' style='width:300px; height:20px; vertical-align: middle;'></progress>\n",
       "      [2900/2900 33:15, Epoch 100/100]\n",
       "    </div>\n",
       "    <table border=\"1\" class=\"dataframe\">\n",
       "  <thead>\n",
       " <tr style=\"text-align: left;\">\n",
       "      <th>Step</th>\n",
       "      <th>Training Loss</th>\n",
       "    </tr>\n",
       "  </thead>\n",
       "  <tbody>\n",
       "    <tr>\n",
       "      <td>100</td>\n",
       "      <td>2.129500</td>\n",
       "    </tr>\n",
       "    <tr>\n",
       "      <td>200</td>\n",
       "      <td>1.839200</td>\n",
       "    </tr>\n",
       "    <tr>\n",
       "      <td>300</td>\n",
       "      <td>1.791300</td>\n",
       "    </tr>\n",
       "    <tr>\n",
       "      <td>400</td>\n",
       "      <td>1.753200</td>\n",
       "    </tr>\n",
       "    <tr>\n",
       "      <td>500</td>\n",
       "      <td>1.721200</td>\n",
       "    </tr>\n",
       "    <tr>\n",
       "      <td>600</td>\n",
       "      <td>1.681700</td>\n",
       "    </tr>\n",
       "    <tr>\n",
       "      <td>700</td>\n",
       "      <td>1.648100</td>\n",
       "    </tr>\n",
       "    <tr>\n",
       "      <td>800</td>\n",
       "      <td>1.595100</td>\n",
       "    </tr>\n",
       "    <tr>\n",
       "      <td>900</td>\n",
       "      <td>1.545100</td>\n",
       "    </tr>\n",
       "    <tr>\n",
       "      <td>1000</td>\n",
       "      <td>1.488000</td>\n",
       "    </tr>\n",
       "    <tr>\n",
       "      <td>1100</td>\n",
       "      <td>1.435800</td>\n",
       "    </tr>\n",
       "    <tr>\n",
       "      <td>1200</td>\n",
       "      <td>1.380300</td>\n",
       "    </tr>\n",
       "    <tr>\n",
       "      <td>1300</td>\n",
       "      <td>1.327600</td>\n",
       "    </tr>\n",
       "    <tr>\n",
       "      <td>1400</td>\n",
       "      <td>1.279100</td>\n",
       "    </tr>\n",
       "    <tr>\n",
       "      <td>1500</td>\n",
       "      <td>1.236200</td>\n",
       "    </tr>\n",
       "    <tr>\n",
       "      <td>1600</td>\n",
       "      <td>1.197800</td>\n",
       "    </tr>\n",
       "    <tr>\n",
       "      <td>1700</td>\n",
       "      <td>1.166200</td>\n",
       "    </tr>\n",
       "    <tr>\n",
       "      <td>1800</td>\n",
       "      <td>1.138500</td>\n",
       "    </tr>\n",
       "    <tr>\n",
       "      <td>1900</td>\n",
       "      <td>1.113500</td>\n",
       "    </tr>\n",
       "    <tr>\n",
       "      <td>2000</td>\n",
       "      <td>1.093300</td>\n",
       "    </tr>\n",
       "    <tr>\n",
       "      <td>2100</td>\n",
       "      <td>1.074100</td>\n",
       "    </tr>\n",
       "    <tr>\n",
       "      <td>2200</td>\n",
       "      <td>1.054400</td>\n",
       "    </tr>\n",
       "    <tr>\n",
       "      <td>2300</td>\n",
       "      <td>1.045600</td>\n",
       "    </tr>\n",
       "    <tr>\n",
       "      <td>2400</td>\n",
       "      <td>1.028300</td>\n",
       "    </tr>\n",
       "    <tr>\n",
       "      <td>2500</td>\n",
       "      <td>1.019100</td>\n",
       "    </tr>\n",
       "    <tr>\n",
       "      <td>2600</td>\n",
       "      <td>1.013400</td>\n",
       "    </tr>\n",
       "    <tr>\n",
       "      <td>2700</td>\n",
       "      <td>1.007300</td>\n",
       "    </tr>\n",
       "    <tr>\n",
       "      <td>2800</td>\n",
       "      <td>1.000500</td>\n",
       "    </tr>\n",
       "    <tr>\n",
       "      <td>2900</td>\n",
       "      <td>1.000600</td>\n",
       "    </tr>\n",
       "  </tbody>\n",
       "</table><p>"
      ],
      "text/plain": [
       "<IPython.core.display.HTML object>"
      ]
     },
     "metadata": {},
     "output_type": "display_data"
    }
   ],
   "source": [
    "trainer = great.fit(data)"
   ]
  },
  {
   "cell_type": "code",
   "execution_count": 8,
   "id": "cfe8184d",
   "metadata": {},
   "outputs": [
    {
     "data": {
      "text/plain": [
       "{'train_runtime': 1997.241,\n",
       " 'train_samples_per_second': 45.062,\n",
       " 'train_steps_per_second': 1.452,\n",
       " 'total_flos': 3360374756352000.0,\n",
       " 'train_loss': 1.3380799550023572,\n",
       " 'epoch': 100.0,\n",
       " 'step': 2900}"
      ]
     },
     "execution_count": 8,
     "metadata": {},
     "output_type": "execute_result"
    }
   ],
   "source": [
    "loss_hist = trainer.state.log_history.copy()\n",
    "loss_hist.pop()"
   ]
  },
  {
   "cell_type": "code",
   "execution_count": 9,
   "id": "76deeb9e",
   "metadata": {},
   "outputs": [],
   "source": [
    "loss = [x[\"loss\"] for x in loss_hist]\n",
    "epochs = [x[\"epoch\"] for x in loss_hist]"
   ]
  },
  {
   "cell_type": "code",
   "execution_count": 10,
   "id": "bcd7fc6f",
   "metadata": {},
   "outputs": [
    {
     "data": {
      "text/plain": [
       "[<matplotlib.lines.Line2D at 0x7f9d16ae8f40>]"
      ]
     },
     "execution_count": 10,
     "metadata": {},
     "output_type": "execute_result"
    },
    {
     "data": {
      "image/png": "[encoded data removed]",
      "text/plain": [
       "<Figure size 640x480 with 1 Axes>"
      ]
     },
     "metadata": {},
     "output_type": "display_data"
    }
   ],
   "source": [
    "plt.plot(epochs, loss)"
   ]
  },
  {
   "cell_type": "markdown",
   "id": "fdb05fe0",
   "metadata": {},
   "source": [
    "### Generate Samples"
   ]
  },
  {
   "cell_type": "code",
   "execution_count": 11,
   "id": "4bb298ac",
   "metadata": {},
   "outputs": [],
   "source": [
    "n_samples = 900"
   ]
  },
  {
   "cell_type": "code",
   "execution_count": 12,
   "id": "2106b9f2",
   "metadata": {},
   "outputs": [
    {
     "name": "stderr",
     "output_type": "stream",
     "text": [
      "  0%|          | 0/900 [00:00<?, ?it/s]"
     ]
    },
    {
     "name": "stdout",
     "output_type": "stream",
     "text": [
      "['Class is Kecimen,', 'Class is Kecimen,', 'Class is Kecimen,', 'Class is Kecimen,', 'Class is Besni,', 'Class is Kecimen,', 'Class is Kecimen,', 'Class is Kecimen,', 'Class is Besni,', 'Class is Kecimen,', 'Class is Besni,', 'Class is Kecimen,', 'Class is Kecimen,', 'Class is Kecimen,', 'Class is Kecimen,', 'Class is Besni,', 'Class is Besni,', 'Class is Besni,', 'Class is Besni,', 'Class is Besni,', 'Class is Kecimen,', 'Class is Besni,', 'Class is Kecimen,', 'Class is Kecimen,', 'Class is Besni,', 'Class is Kecimen,', 'Class is Kecimen,', 'Class is Besni,', 'Class is Kecimen,', 'Class is Besni,', 'Class is Kecimen,', 'Class is Kecimen,', 'Class is Kecimen,', 'Class is Besni,', 'Class is Besni,', 'Class is Besni,', 'Class is Kecimen,', 'Class is Besni,', 'Class is Kecimen,', 'Class is Kecimen,', 'Class is Kecimen,', 'Class is Kecimen,', 'Class is Besni,', 'Class is Besni,', 'Class is Kecimen,', 'Class is Besni,', 'Class is Kecimen,', 'Class is Kecimen,', 'Class is Kecimen,', 'Class is Besni,']\n"
     ]
    },
    {
     "name": "stderr",
     "output_type": "stream",
     "text": [
      "  5%|▌         | 49/900 [00:03<00:52, 16.22it/s]"
     ]
    },
    {
     "name": "stdout",
     "output_type": "stream",
     "text": [
      "['Class is Besni,', 'Class is Besni,', 'Class is Kecimen,', 'Class is Besni,', 'Class is Kecimen,', 'Class is Besni,', 'Class is Besni,', 'Class is Kecimen,', 'Class is Kecimen,', 'Class is Besni,', 'Class is Besni,', 'Class is Kecimen,', 'Class is Besni,', 'Class is Besni,', 'Class is Kecimen,', 'Class is Kecimen,', 'Class is Besni,', 'Class is Besni,', 'Class is Kecimen,', 'Class is Besni,', 'Class is Kecimen,', 'Class is Besni,', 'Class is Kecimen,', 'Class is Besni,', 'Class is Besni,', 'Class is Besni,', 'Class is Besni,', 'Class is Besni,', 'Class is Kecimen,', 'Class is Kecimen,', 'Class is Kecimen,', 'Class is Kecimen,', 'Class is Kecimen,', 'Class is Kecimen,', 'Class is Kecimen,', 'Class is Kecimen,', 'Class is Besni,', 'Class is Besni,', 'Class is Besni,', 'Class is Besni,', 'Class is Besni,', 'Class is Besni,', 'Class is Besni,', 'Class is Besni,', 'Class is Kecimen,', 'Class is Besni,', 'Class is Kecimen,', 'Class is Kecimen,', 'Class is Kecimen,', 'Class is Besni,']\n"
     ]
    },
    {
     "name": "stderr",
     "output_type": "stream",
     "text": [
      " 11%|█         | 98/900 [00:05<00:47, 16.82it/s]"
     ]
    },
    {
     "name": "stdout",
     "output_type": "stream",
     "text": [
      "['Class is Kecimen,', 'Class is Kecimen,', 'Class is Besni,', 'Class is Besni,', 'Class is Kecimen,', 'Class is Kecimen,', 'Class is Besni,', 'Class is Kecimen,', 'Class is Kecimen,', 'Class is Besni,', 'Class is Besni,', 'Class is Kecimen,', 'Class is Besni,', 'Class is Besni,', 'Class is Besni,', 'Class is Kecimen,', 'Class is Kecimen,', 'Class is Kecimen,', 'Class is Besni,', 'Class is Kecimen,', 'Class is Besni,', 'Class is Besni,', 'Class is Kecimen,', 'Class is Kecimen,', 'Class is Kecimen,', 'Class is Besni,', 'Class is Kecimen,', 'Class is Kecimen,', 'Class is Kecimen,', 'Class is Besni,', 'Class is Besni,', 'Class is Besni,', 'Class is Kecimen,', 'Class is Besni,', 'Class is Kecimen,', 'Class is Besni,', 'Class is Besni,', 'Class is Besni,', 'Class is Besni,', 'Class is Kecimen,', 'Class is Besni,', 'Class is Kecimen,', 'Class is Kecimen,', 'Class is Besni,', 'Class is Kecimen,', 'Class is Besni,', 'Class is Kecimen,', 'Class is Kecimen,', 'Class is Kecimen,', 'Class is Kecimen,']\n"
     ]
    },
    {
     "name": "stderr",
     "output_type": "stream",
     "text": [
      " 16%|█▌        | 144/900 [00:08<00:45, 16.47it/s]"
     ]
    },
    {
     "name": "stdout",
     "output_type": "stream",
     "text": [
      "['Class is Kecimen,', 'Class is Kecimen,', 'Class is Kecimen,', 'Class is Besni,', 'Class is Besni,', 'Class is Besni,', 'Class is Kecimen,', 'Class is Kecimen,', 'Class is Kecimen,', 'Class is Besni,', 'Class is Kecimen,', 'Class is Besni,', 'Class is Kecimen,', 'Class is Besni,', 'Class is Kecimen,', 'Class is Kecimen,', 'Class is Kecimen,', 'Class is Kecimen,', 'Class is Besni,', 'Class is Besni,', 'Class is Besni,', 'Class is Besni,', 'Class is Besni,', 'Class is Besni,', 'Class is Kecimen,', 'Class is Besni,', 'Class is Besni,', 'Class is Besni,', 'Class is Besni,', 'Class is Kecimen,', 'Class is Kecimen,', 'Class is Kecimen,', 'Class is Kecimen,', 'Class is Besni,', 'Class is Kecimen,', 'Class is Kecimen,', 'Class is Kecimen,', 'Class is Besni,', 'Class is Besni,', 'Class is Kecimen,', 'Class is Kecimen,', 'Class is Besni,', 'Class is Besni,', 'Class is Besni,', 'Class is Kecimen,', 'Class is Besni,', 'Class is Besni,', 'Class is Kecimen,', 'Class is Besni,', 'Class is Besni,']\n"
     ]
    },
    {
     "name": "stderr",
     "output_type": "stream",
     "text": [
      " 22%|██▏       | 194/900 [00:11<00:41, 16.99it/s]"
     ]
    },
    {
     "name": "stdout",
     "output_type": "stream",
     "text": [
      "['Class is Kecimen,', 'Class is Kecimen,', 'Class is Besni,', 'Class is Besni,', 'Class is Kecimen,', 'Class is Kecimen,', 'Class is Besni,', 'Class is Kecimen,', 'Class is Kecimen,', 'Class is Besni,', 'Class is Besni,', 'Class is Kecimen,', 'Class is Besni,', 'Class is Besni,', 'Class is Kecimen,', 'Class is Kecimen,', 'Class is Besni,', 'Class is Kecimen,', 'Class is Besni,', 'Class is Kecimen,', 'Class is Besni,', 'Class is Kecimen,', 'Class is Kecimen,', 'Class is Kecimen,', 'Class is Kecimen,', 'Class is Kecimen,', 'Class is Kecimen,', 'Class is Besni,', 'Class is Kecimen,', 'Class is Kecimen,', 'Class is Besni,', 'Class is Besni,', 'Class is Kecimen,', 'Class is Kecimen,', 'Class is Kecimen,', 'Class is Kecimen,', 'Class is Besni,', 'Class is Besni,', 'Class is Kecimen,', 'Class is Besni,', 'Class is Kecimen,', 'Class is Kecimen,', 'Class is Kecimen,', 'Class is Besni,', 'Class is Besni,', 'Class is Kecimen,', 'Class is Besni,', 'Class is Besni,', 'Class is Besni,', 'Class is Kecimen,']\n"
     ]
    },
    {
     "name": "stderr",
     "output_type": "stream",
     "text": [
      " 27%|██▋       | 242/900 [00:14<00:39, 16.83it/s]"
     ]
    },
    {
     "name": "stdout",
     "output_type": "stream",
     "text": [
      "['Class is Kecimen,', 'Class is Besni,', 'Class is Kecimen,', 'Class is Kecimen,', 'Class is Besni,', 'Class is Besni,', 'Class is Kecimen,', 'Class is Besni,', 'Class is Kecimen,', 'Class is Besni,', 'Class is Kecimen,', 'Class is Kecimen,', 'Class is Besni,', 'Class is Besni,', 'Class is Besni,', 'Class is Besni,', 'Class is Kecimen,', 'Class is Kecimen,', 'Class is Kecimen,', 'Class is Besni,', 'Class is Kecimen,', 'Class is Besni,', 'Class is Kecimen,', 'Class is Besni,', 'Class is Kecimen,', 'Class is Besni,', 'Class is Kecimen,', 'Class is Kecimen,', 'Class is Kecimen,', 'Class is Kecimen,', 'Class is Kecimen,', 'Class is Kecimen,', 'Class is Besni,', 'Class is Kecimen,', 'Class is Besni,', 'Class is Besni,', 'Class is Besni,', 'Class is Kecimen,', 'Class is Kecimen,', 'Class is Kecimen,', 'Class is Kecimen,', 'Class is Besni,', 'Class is Besni,', 'Class is Kecimen,', 'Class is Kecimen,', 'Class is Besni,', 'Class is Besni,', 'Class is Kecimen,', 'Class is Besni,', 'Class is Besni,']\n"
     ]
    },
    {
     "name": "stderr",
     "output_type": "stream",
     "text": [
      " 32%|███▏      | 291/900 [00:17<00:35, 16.97it/s]"
     ]
    },
    {
     "name": "stdout",
     "output_type": "stream",
     "text": [
      "['Class is Kecimen,', 'Class is Kecimen,', 'Class is Besni,', 'Class is Besni,', 'Class is Besni,', 'Class is Kecimen,', 'Class is Kecimen,', 'Class is Besni,', 'Class is Besni,', 'Class is Besni,', 'Class is Besni,', 'Class is Kecimen,', 'Class is Kecimen,', 'Class is Besni,', 'Class is Besni,', 'Class is Kecimen,', 'Class is Besni,', 'Class is Besni,', 'Class is Besni,', 'Class is Kecimen,', 'Class is Kecimen,', 'Class is Kecimen,', 'Class is Besni,', 'Class is Kecimen,', 'Class is Besni,', 'Class is Besni,', 'Class is Kecimen,', 'Class is Kecimen,', 'Class is Besni,', 'Class is Kecimen,', 'Class is Besni,', 'Class is Kecimen,', 'Class is Besni,', 'Class is Kecimen,', 'Class is Besni,', 'Class is Besni,', 'Class is Kecimen,', 'Class is Besni,', 'Class is Besni,', 'Class is Kecimen,', 'Class is Kecimen,', 'Class is Kecimen,', 'Class is Besni,', 'Class is Besni,', 'Class is Kecimen,', 'Class is Kecimen,', 'Class is Besni,', 'Class is Besni,', 'Class is Kecimen,', 'Class is Besni,']\n"
     ]
    },
    {
     "name": "stderr",
     "output_type": "stream",
     "text": [
      " 38%|███▊      | 339/900 [00:20<00:32, 17.15it/s]"
     ]
    },
    {
     "name": "stdout",
     "output_type": "stream",
     "text": [
      "['Class is Kecimen,', 'Class is Kecimen,', 'Class is Besni,', 'Class is Besni,', 'Class is Kecimen,', 'Class is Kecimen,', 'Class is Kecimen,', 'Class is Besni,', 'Class is Kecimen,', 'Class is Besni,', 'Class is Besni,', 'Class is Besni,', 'Class is Kecimen,', 'Class is Besni,', 'Class is Besni,', 'Class is Besni,', 'Class is Kecimen,', 'Class is Besni,', 'Class is Kecimen,', 'Class is Besni,', 'Class is Kecimen,', 'Class is Kecimen,', 'Class is Kecimen,', 'Class is Besni,', 'Class is Besni,', 'Class is Kecimen,', 'Class is Kecimen,', 'Class is Kecimen,', 'Class is Besni,', 'Class is Besni,', 'Class is Kecimen,', 'Class is Kecimen,', 'Class is Kecimen,', 'Class is Kecimen,', 'Class is Besni,', 'Class is Kecimen,', 'Class is Kecimen,', 'Class is Kecimen,', 'Class is Kecimen,', 'Class is Besni,', 'Class is Besni,', 'Class is Kecimen,', 'Class is Besni,', 'Class is Besni,', 'Class is Kecimen,', 'Class is Kecimen,', 'Class is Kecimen,', 'Class is Kecimen,', 'Class is Besni,', 'Class is Kecimen,']\n"
     ]
    },
    {
     "name": "stderr",
     "output_type": "stream",
     "text": [
      " 43%|████▎     | 386/900 [00:22<00:30, 16.84it/s]"
     ]
    },
    {
     "name": "stdout",
     "output_type": "stream",
     "text": [
      "['Class is Kecimen,', 'Class is Kecimen,', 'Class is Kecimen,', 'Class is Kecimen,', 'Class is Kecimen,', 'Class is Kecimen,', 'Class is Besni,', 'Class is Kecimen,', 'Class is Besni,', 'Class is Kecimen,', 'Class is Besni,', 'Class is Besni,', 'Class is Besni,', 'Class is Kecimen,', 'Class is Kecimen,', 'Class is Kecimen,', 'Class is Kecimen,', 'Class is Kecimen,', 'Class is Besni,', 'Class is Besni,', 'Class is Kecimen,', 'Class is Besni,', 'Class is Besni,', 'Class is Besni,', 'Class is Kecimen,', 'Class is Kecimen,', 'Class is Kecimen,', 'Class is Kecimen,', 'Class is Besni,', 'Class is Kecimen,', 'Class is Besni,', 'Class is Kecimen,', 'Class is Besni,', 'Class is Kecimen,', 'Class is Kecimen,', 'Class is Besni,', 'Class is Besni,', 'Class is Kecimen,', 'Class is Kecimen,', 'Class is Besni,', 'Class is Besni,', 'Class is Kecimen,', 'Class is Besni,', 'Class is Besni,', 'Class is Kecimen,', 'Class is Kecimen,', 'Class is Kecimen,', 'Class is Kecimen,', 'Class is Kecimen,', 'Class is Besni,']\n"
     ]
    },
    {
     "name": "stderr",
     "output_type": "stream",
     "text": [
      " 48%|████▊     | 431/900 [00:25<00:28, 16.58it/s]"
     ]
    },
    {
     "name": "stdout",
     "output_type": "stream",
     "text": [
      "['Class is Kecimen,', 'Class is Kecimen,', 'Class is Kecimen,', 'Class is Besni,', 'Class is Besni,', 'Class is Besni,', 'Class is Kecimen,', 'Class is Besni,', 'Class is Besni,', 'Class is Kecimen,', 'Class is Besni,', 'Class is Besni,', 'Class is Kecimen,', 'Class is Kecimen,', 'Class is Kecimen,', 'Class is Besni,', 'Class is Kecimen,', 'Class is Kecimen,', 'Class is Kecimen,', 'Class is Besni,', 'Class is Kecimen,', 'Class is Kecimen,', 'Class is Besni,', 'Class is Besni,', 'Class is Besni,', 'Class is Besni,', 'Class is Kecimen,', 'Class is Besni,', 'Class is Kecimen,', 'Class is Kecimen,', 'Class is Besni,', 'Class is Kecimen,', 'Class is Besni,', 'Class is Kecimen,', 'Class is Besni,', 'Class is Kecimen,', 'Class is Besni,', 'Class is Besni,', 'Class is Besni,', 'Class is Besni,', 'Class is Besni,', 'Class is Besni,', 'Class is Kecimen,', 'Class is Besni,', 'Class is Kecimen,', 'Class is Besni,', 'Class is Besni,', 'Class is Kecimen,', 'Class is Kecimen,', 'Class is Besni,']\n"
     ]
    },
    {
     "name": "stderr",
     "output_type": "stream",
     "text": [
      " 53%|█████▎    | 478/900 [00:28<00:24, 17.07it/s]"
     ]
    },
    {
     "name": "stdout",
     "output_type": "stream",
     "text": [
      "['Class is Besni,', 'Class is Kecimen,', 'Class is Besni,', 'Class is Kecimen,', 'Class is Besni,', 'Class is Besni,', 'Class is Besni,', 'Class is Besni,', 'Class is Besni,', 'Class is Kecimen,', 'Class is Kecimen,', 'Class is Kecimen,', 'Class is Besni,', 'Class is Kecimen,', 'Class is Besni,', 'Class is Besni,', 'Class is Kecimen,', 'Class is Kecimen,', 'Class is Besni,', 'Class is Kecimen,', 'Class is Besni,', 'Class is Besni,', 'Class is Kecimen,', 'Class is Besni,', 'Class is Kecimen,', 'Class is Kecimen,', 'Class is Besni,', 'Class is Kecimen,', 'Class is Besni,', 'Class is Kecimen,', 'Class is Besni,', 'Class is Besni,', 'Class is Kecimen,', 'Class is Kecimen,', 'Class is Besni,', 'Class is Besni,', 'Class is Besni,', 'Class is Besni,', 'Class is Besni,', 'Class is Kecimen,', 'Class is Kecimen,', 'Class is Besni,', 'Class is Kecimen,', 'Class is Kecimen,', 'Class is Besni,', 'Class is Besni,', 'Class is Kecimen,', 'Class is Besni,', 'Class is Kecimen,', 'Class is Kecimen,']\n"
     ]
    },
    {
     "name": "stderr",
     "output_type": "stream",
     "text": [
      " 59%|█████▊    | 527/900 [00:31<00:22, 16.39it/s]"
     ]
    },
    {
     "name": "stdout",
     "output_type": "stream",
     "text": [
      "['Class is Kecimen,', 'Class is Kecimen,', 'Class is Besni,', 'Class is Besni,', 'Class is Besni,', 'Class is Besni,', 'Class is Besni,', 'Class is Besni,', 'Class is Kecimen,', 'Class is Kecimen,', 'Class is Kecimen,', 'Class is Kecimen,', 'Class is Besni,', 'Class is Kecimen,', 'Class is Besni,', 'Class is Kecimen,', 'Class is Kecimen,', 'Class is Besni,', 'Class is Kecimen,', 'Class is Besni,', 'Class is Kecimen,', 'Class is Besni,', 'Class is Besni,', 'Class is Besni,', 'Class is Kecimen,', 'Class is Besni,', 'Class is Besni,', 'Class is Kecimen,', 'Class is Kecimen,', 'Class is Kecimen,', 'Class is Kecimen,', 'Class is Besni,', 'Class is Besni,', 'Class is Kecimen,', 'Class is Besni,', 'Class is Kecimen,', 'Class is Besni,', 'Class is Kecimen,', 'Class is Besni,', 'Class is Kecimen,', 'Class is Kecimen,', 'Class is Kecimen,', 'Class is Besni,', 'Class is Kecimen,', 'Class is Besni,', 'Class is Kecimen,', 'Class is Kecimen,', 'Class is Kecimen,', 'Class is Besni,', 'Class is Besni,']\n"
     ]
    },
    {
     "name": "stderr",
     "output_type": "stream",
     "text": [
      " 64%|██████▎   | 573/900 [00:34<00:20, 15.66it/s]"
     ]
    },
    {
     "name": "stdout",
     "output_type": "stream",
     "text": [
      "['Class is Kecimen,', 'Class is Besni,', 'Class is Kecimen,', 'Class is Besni,', 'Class is Kecimen,', 'Class is Besni,', 'Class is Besni,', 'Class is Besni,', 'Class is Besni,', 'Class is Besni,', 'Class is Kecimen,', 'Class is Kecimen,', 'Class is Besni,', 'Class is Besni,', 'Class is Kecimen,', 'Class is Kecimen,', 'Class is Besni,', 'Class is Kecimen,', 'Class is Kecimen,', 'Class is Besni,', 'Class is Besni,', 'Class is Besni,', 'Class is Kecimen,', 'Class is Kecimen,', 'Class is Kecimen,', 'Class is Kecimen,', 'Class is Besni,', 'Class is Besni,', 'Class is Besni,', 'Class is Kecimen,', 'Class is Kecimen,', 'Class is Besni,', 'Class is Kecimen,', 'Class is Kecimen,', 'Class is Besni,', 'Class is Kecimen,', 'Class is Kecimen,', 'Class is Besni,', 'Class is Besni,', 'Class is Besni,', 'Class is Besni,', 'Class is Besni,', 'Class is Besni,', 'Class is Besni,', 'Class is Besni,', 'Class is Kecimen,', 'Class is Besni,', 'Class is Kecimen,', 'Class is Besni,', 'Class is Kecimen,']\n"
     ]
    },
    {
     "name": "stderr",
     "output_type": "stream",
     "text": [
      " 69%|██████▉   | 623/900 [00:37<00:16, 16.53it/s]"
     ]
    },
    {
     "name": "stdout",
     "output_type": "stream",
     "text": [
      "['Class is Besni,', 'Class is Kecimen,', 'Class is Kecimen,', 'Class is Kecimen,', 'Class is Kecimen,', 'Class is Besni,', 'Class is Besni,', 'Class is Besni,', 'Class is Besni,', 'Class is Besni,', 'Class is Kecimen,', 'Class is Kecimen,', 'Class is Besni,', 'Class is Kecimen,', 'Class is Besni,', 'Class is Besni,', 'Class is Besni,', 'Class is Kecimen,', 'Class is Besni,', 'Class is Kecimen,', 'Class is Besni,', 'Class is Besni,', 'Class is Kecimen,', 'Class is Besni,', 'Class is Besni,', 'Class is Besni,', 'Class is Kecimen,', 'Class is Besni,', 'Class is Besni,', 'Class is Besni,', 'Class is Besni,', 'Class is Kecimen,', 'Class is Besni,', 'Class is Besni,', 'Class is Besni,', 'Class is Besni,', 'Class is Kecimen,', 'Class is Besni,', 'Class is Besni,', 'Class is Besni,', 'Class is Besni,', 'Class is Kecimen,', 'Class is Besni,', 'Class is Kecimen,', 'Class is Besni,', 'Class is Besni,', 'Class is Besni,', 'Class is Besni,', 'Class is Kecimen,', 'Class is Kecimen,']\n"
     ]
    },
    {
     "name": "stderr",
     "output_type": "stream",
     "text": [
      " 74%|███████▍  | 668/900 [00:40<00:14, 16.30it/s]"
     ]
    },
    {
     "name": "stdout",
     "output_type": "stream",
     "text": [
      "['Class is Besni,', 'Class is Besni,', 'Class is Kecimen,', 'Class is Besni,', 'Class is Kecimen,', 'Class is Besni,', 'Class is Kecimen,', 'Class is Kecimen,', 'Class is Besni,', 'Class is Besni,', 'Class is Besni,', 'Class is Kecimen,', 'Class is Besni,', 'Class is Besni,', 'Class is Kecimen,', 'Class is Besni,', 'Class is Kecimen,', 'Class is Besni,', 'Class is Kecimen,', 'Class is Besni,', 'Class is Kecimen,', 'Class is Besni,', 'Class is Kecimen,', 'Class is Besni,', 'Class is Besni,', 'Class is Besni,', 'Class is Besni,', 'Class is Besni,', 'Class is Besni,', 'Class is Kecimen,', 'Class is Besni,', 'Class is Kecimen,', 'Class is Kecimen,', 'Class is Kecimen,', 'Class is Kecimen,', 'Class is Besni,', 'Class is Besni,', 'Class is Besni,', 'Class is Besni,', 'Class is Besni,', 'Class is Besni,', 'Class is Kecimen,', 'Class is Kecimen,', 'Class is Kecimen,', 'Class is Besni,', 'Class is Besni,', 'Class is Besni,', 'Class is Kecimen,', 'Class is Besni,', 'Class is Besni,']\n"
     ]
    },
    {
     "name": "stderr",
     "output_type": "stream",
     "text": [
      " 80%|███████▉  | 716/900 [00:43<00:11, 16.53it/s]"
     ]
    },
    {
     "name": "stdout",
     "output_type": "stream",
     "text": [
      "['Class is Besni,', 'Class is Besni,', 'Class is Besni,', 'Class is Besni,', 'Class is Kecimen,', 'Class is Kecimen,', 'Class is Besni,', 'Class is Kecimen,', 'Class is Kecimen,', 'Class is Kecimen,', 'Class is Kecimen,', 'Class is Kecimen,', 'Class is Kecimen,', 'Class is Kecimen,', 'Class is Besni,', 'Class is Kecimen,', 'Class is Kecimen,', 'Class is Besni,', 'Class is Besni,', 'Class is Besni,', 'Class is Kecimen,', 'Class is Besni,', 'Class is Besni,', 'Class is Kecimen,', 'Class is Kecimen,', 'Class is Besni,', 'Class is Kecimen,', 'Class is Besni,', 'Class is Besni,', 'Class is Kecimen,', 'Class is Besni,', 'Class is Kecimen,', 'Class is Besni,', 'Class is Kecimen,', 'Class is Kecimen,', 'Class is Kecimen,', 'Class is Besni,', 'Class is Besni,', 'Class is Besni,', 'Class is Besni,', 'Class is Besni,', 'Class is Kecimen,', 'Class is Besni,', 'Class is Besni,', 'Class is Kecimen,', 'Class is Besni,', 'Class is Kecimen,', 'Class is Kecimen,', 'Class is Kecimen,', 'Class is Besni,']\n"
     ]
    },
    {
     "name": "stderr",
     "output_type": "stream",
     "text": [
      " 85%|████████▍ | 761/900 [00:46<00:08, 16.05it/s]"
     ]
    },
    {
     "name": "stdout",
     "output_type": "stream",
     "text": [
      "['Class is Kecimen,', 'Class is Besni,', 'Class is Kecimen,', 'Class is Kecimen,', 'Class is Kecimen,', 'Class is Kecimen,', 'Class is Besni,', 'Class is Besni,', 'Class is Kecimen,', 'Class is Besni,', 'Class is Besni,', 'Class is Kecimen,', 'Class is Kecimen,', 'Class is Kecimen,', 'Class is Kecimen,', 'Class is Kecimen,', 'Class is Besni,', 'Class is Kecimen,', 'Class is Kecimen,', 'Class is Kecimen,', 'Class is Kecimen,', 'Class is Besni,', 'Class is Kecimen,', 'Class is Besni,', 'Class is Besni,', 'Class is Kecimen,', 'Class is Kecimen,', 'Class is Kecimen,', 'Class is Kecimen,', 'Class is Kecimen,', 'Class is Besni,', 'Class is Kecimen,', 'Class is Kecimen,', 'Class is Besni,', 'Class is Besni,', 'Class is Kecimen,', 'Class is Kecimen,', 'Class is Besni,', 'Class is Besni,', 'Class is Kecimen,', 'Class is Kecimen,', 'Class is Kecimen,', 'Class is Kecimen,', 'Class is Besni,', 'Class is Kecimen,', 'Class is Kecimen,', 'Class is Besni,', 'Class is Besni,', 'Class is Besni,', 'Class is Besni,']\n"
     ]
    },
    {
     "name": "stderr",
     "output_type": "stream",
     "text": [
      " 90%|████████▉ | 808/900 [00:48<00:05, 16.27it/s]"
     ]
    },
    {
     "name": "stdout",
     "output_type": "stream",
     "text": [
      "['Class is Kecimen,', 'Class is Besni,', 'Class is Besni,', 'Class is Kecimen,', 'Class is Kecimen,', 'Class is Kecimen,', 'Class is Besni,', 'Class is Kecimen,', 'Class is Besni,', 'Class is Besni,', 'Class is Kecimen,', 'Class is Besni,', 'Class is Besni,', 'Class is Besni,', 'Class is Kecimen,', 'Class is Kecimen,', 'Class is Kecimen,', 'Class is Kecimen,', 'Class is Besni,', 'Class is Kecimen,', 'Class is Besni,', 'Class is Besni,', 'Class is Kecimen,', 'Class is Besni,', 'Class is Kecimen,', 'Class is Besni,', 'Class is Kecimen,', 'Class is Besni,', 'Class is Kecimen,', 'Class is Besni,', 'Class is Besni,', 'Class is Besni,', 'Class is Kecimen,', 'Class is Besni,', 'Class is Besni,', 'Class is Besni,', 'Class is Besni,', 'Class is Kecimen,', 'Class is Besni,', 'Class is Besni,', 'Class is Besni,', 'Class is Kecimen,', 'Class is Besni,', 'Class is Kecimen,', 'Class is Besni,', 'Class is Besni,', 'Class is Kecimen,', 'Class is Kecimen,', 'Class is Besni,', 'Class is Kecimen,']\n"
     ]
    },
    {
     "name": "stderr",
     "output_type": "stream",
     "text": [
      " 95%|█████████▍| 854/900 [00:51<00:02, 16.34it/s]"
     ]
    },
    {
     "name": "stdout",
     "output_type": "stream",
     "text": [
      "['Class is Besni,', 'Class is Besni,', 'Class is Besni,', 'Class is Besni,', 'Class is Besni,', 'Class is Besni,', 'Class is Besni,', 'Class is Kecimen,', 'Class is Besni,', 'Class is Besni,', 'Class is Besni,', 'Class is Besni,', 'Class is Besni,', 'Class is Kecimen,', 'Class is Besni,', 'Class is Besni,', 'Class is Kecimen,', 'Class is Kecimen,', 'Class is Besni,', 'Class is Besni,', 'Class is Kecimen,', 'Class is Besni,', 'Class is Kecimen,', 'Class is Kecimen,', 'Class is Besni,', 'Class is Besni,', 'Class is Kecimen,', 'Class is Kecimen,', 'Class is Besni,', 'Class is Kecimen,', 'Class is Kecimen,', 'Class is Besni,', 'Class is Besni,', 'Class is Kecimen,', 'Class is Kecimen,', 'Class is Besni,', 'Class is Besni,', 'Class is Kecimen,', 'Class is Besni,', 'Class is Kecimen,', 'Class is Kecimen,', 'Class is Kecimen,', 'Class is Besni,', 'Class is Besni,', 'Class is Besni,', 'Class is Kecimen,', 'Class is Besni,', 'Class is Kecimen,', 'Class is Besni,', 'Class is Kecimen,']\n"
     ]
    },
    {
     "name": "stderr",
     "output_type": "stream",
     "text": [
      "901it [00:54, 16.54it/s]                         \n"
     ]
    }
   ],
   "source": [
    "samples = great.sample(n_samples, k=50, max_length=200)"
   ]
  },
  {
   "cell_type": "code",
   "execution_count": 13,
   "id": "105aa225",
   "metadata": {},
   "outputs": [
    {
     "data": {
      "text/html": [
       "<div>\n",
       "<style scoped>\n",
       "    .dataframe tbody tr th:only-of-type {\n",
       "        vertical-align: middle;\n",
       "    }\n",
       "\n",
       "    .dataframe tbody tr th {\n",
       "        vertical-align: top;\n",
       "    }\n",
       "\n",
       "    .dataframe thead th {\n",
       "        text-align: right;\n",
       "    }\n",
       "</style>\n",
       "<table border=\"1\" class=\"dataframe\">\n",
       "  <thead>\n",
       "    <tr style=\"text-align: right;\">\n",
       "      <th></th>\n",
       "      <th>Area</th>\n",
       "      <th>MajorAxisLength</th>\n",
       "      <th>MinorAxisLength</th>\n",
       "      <th>Eccentricity</th>\n",
       "      <th>ConvexArea</th>\n",
       "      <th>Extent</th>\n",
       "      <th>Perimeter</th>\n",
       "      <th>Class</th>\n",
       "    </tr>\n",
       "  </thead>\n",
       "  <tbody>\n",
       "    <tr>\n",
       "      <th>0</th>\n",
       "      <td>57999.0</td>\n",
       "      <td>328.282460</td>\n",
       "      <td>199.814734</td>\n",
       "      <td>0.796399</td>\n",
       "      <td>61277.0</td>\n",
       "      <td>0.692869</td>\n",
       "      <td>814.109</td>\n",
       "      <td>Kecimen</td>\n",
       "    </tr>\n",
       "    <tr>\n",
       "      <th>1</th>\n",
       "      <td>61711.0</td>\n",
       "      <td>352.011403</td>\n",
       "      <td>238.895398</td>\n",
       "      <td>0.718939</td>\n",
       "      <td>63641.0</td>\n",
       "      <td>0.728768</td>\n",
       "      <td>921.811</td>\n",
       "      <td>Kecimen</td>\n",
       "    </tr>\n",
       "    <tr>\n",
       "      <th>2</th>\n",
       "      <td>70941.0</td>\n",
       "      <td>364.190843</td>\n",
       "      <td>249.529450</td>\n",
       "      <td>0.681162</td>\n",
       "      <td>72819.0</td>\n",
       "      <td>0.759914</td>\n",
       "      <td>1085.837</td>\n",
       "      <td>Kecimen</td>\n",
       "    </tr>\n",
       "    <tr>\n",
       "      <th>3</th>\n",
       "      <td>61762.0</td>\n",
       "      <td>333.676202</td>\n",
       "      <td>226.507474</td>\n",
       "      <td>0.829402</td>\n",
       "      <td>62380.0</td>\n",
       "      <td>0.728765</td>\n",
       "      <td>983.613</td>\n",
       "      <td>Kecimen</td>\n",
       "    </tr>\n",
       "    <tr>\n",
       "      <th>4</th>\n",
       "      <td>103772.0</td>\n",
       "      <td>562.713770</td>\n",
       "      <td>250.944920</td>\n",
       "      <td>0.761198</td>\n",
       "      <td>106439.0</td>\n",
       "      <td>0.697671</td>\n",
       "      <td>1298.308</td>\n",
       "      <td>Besni</td>\n",
       "    </tr>\n",
       "  </tbody>\n",
       "</table>\n",
       "</div>"
      ],
      "text/plain": [
       "       Area  MajorAxisLength  MinorAxisLength  Eccentricity  ConvexArea  \\\n",
       "0   57999.0       328.282460       199.814734      0.796399     61277.0   \n",
       "1   61711.0       352.011403       238.895398      0.718939     63641.0   \n",
       "2   70941.0       364.190843       249.529450      0.681162     72819.0   \n",
       "3   61762.0       333.676202       226.507474      0.829402     62380.0   \n",
       "4  103772.0       562.713770       250.944920      0.761198    106439.0   \n",
       "\n",
       "     Extent  Perimeter    Class  \n",
       "0  0.692869    814.109  Kecimen  \n",
       "1  0.728768    921.811  Kecimen  \n",
       "2  0.759914   1085.837  Kecimen  \n",
       "3  0.728765    983.613  Kecimen  \n",
       "4  0.697671   1298.308    Besni  "
      ]
     },
     "execution_count": 13,
     "metadata": {},
     "output_type": "execute_result"
    }
   ],
   "source": [
    "samples.head()"
   ]
  },
  {
   "cell_type": "code",
   "execution_count": 14,
   "id": "c6f534d4",
   "metadata": {},
   "outputs": [],
   "source": [
    "samples.to_csv(\"C:/Users/Windows 11/Desktop/Dissertation/Codes/sample_data/Biology/Raisin_samples.csv\",index=False)"
   ]
  },
  {
   "cell_type": "markdown",
   "id": "70545fac",
   "metadata": {},
   "source": [
    "## Plot Data"
   ]
  },
  {
   "cell_type": "code",
   "execution_count": 25,
   "id": "ec9e0767",
   "metadata": {},
   "outputs": [
    {
     "data": {
      "text/html": [
       "<div>\n",
       "<style scoped>\n",
       "    .dataframe tbody tr th:only-of-type {\n",
       "        vertical-align: middle;\n",
       "    }\n",
       "\n",
       "    .dataframe tbody tr th {\n",
       "        vertical-align: top;\n",
       "    }\n",
       "\n",
       "    .dataframe thead th {\n",
       "        text-align: right;\n",
       "    }\n",
       "</style>\n",
       "<table border=\"1\" class=\"dataframe\">\n",
       "  <thead>\n",
       "    <tr style=\"text-align: right;\">\n",
       "      <th></th>\n",
       "      <th>Age</th>\n",
       "      <th>FrequentFlyer</th>\n",
       "      <th>AnnualIncomeClass</th>\n",
       "      <th>ServicesOpted</th>\n",
       "      <th>AccountSyncedToSocialMedia</th>\n",
       "      <th>BookedHotelOrNot</th>\n",
       "      <th>Target</th>\n",
       "    </tr>\n",
       "  </thead>\n",
       "  <tbody>\n",
       "    <tr>\n",
       "      <th>670</th>\n",
       "      <td>30</td>\n",
       "      <td>No</td>\n",
       "      <td>Low Income</td>\n",
       "      <td>1</td>\n",
       "      <td>No</td>\n",
       "      <td>Yes</td>\n",
       "      <td>0</td>\n",
       "    </tr>\n",
       "    <tr>\n",
       "      <th>211</th>\n",
       "      <td>29</td>\n",
       "      <td>No</td>\n",
       "      <td>Low Income</td>\n",
       "      <td>2</td>\n",
       "      <td>No</td>\n",
       "      <td>No</td>\n",
       "      <td>0</td>\n",
       "    </tr>\n",
       "    <tr>\n",
       "      <th>821</th>\n",
       "      <td>37</td>\n",
       "      <td>Yes</td>\n",
       "      <td>High Income</td>\n",
       "      <td>1</td>\n",
       "      <td>No</td>\n",
       "      <td>No</td>\n",
       "      <td>0</td>\n",
       "    </tr>\n",
       "    <tr>\n",
       "      <th>410</th>\n",
       "      <td>30</td>\n",
       "      <td>No</td>\n",
       "      <td>Middle Income</td>\n",
       "      <td>3</td>\n",
       "      <td>No</td>\n",
       "      <td>Yes</td>\n",
       "      <td>0</td>\n",
       "    </tr>\n",
       "    <tr>\n",
       "      <th>255</th>\n",
       "      <td>37</td>\n",
       "      <td>No</td>\n",
       "      <td>Middle Income</td>\n",
       "      <td>6</td>\n",
       "      <td>No</td>\n",
       "      <td>Yes</td>\n",
       "      <td>0</td>\n",
       "    </tr>\n",
       "  </tbody>\n",
       "</table>\n",
       "</div>"
      ],
      "text/plain": [
       "     Age FrequentFlyer AnnualIncomeClass  ServicesOpted  \\\n",
       "670   30            No        Low Income              1   \n",
       "211   29            No        Low Income              2   \n",
       "821   37           Yes       High Income              1   \n",
       "410   30            No     Middle Income              3   \n",
       "255   37            No     Middle Income              6   \n",
       "\n",
       "    AccountSyncedToSocialMedia BookedHotelOrNot  Target  \n",
       "670                         No              Yes       0  \n",
       "211                         No               No       0  \n",
       "821                         No               No       0  \n",
       "410                         No              Yes       0  \n",
       "255                         No              Yes       0  "
      ]
     },
     "execution_count": 25,
     "metadata": {},
     "output_type": "execute_result"
    },
    {
     "data": {
      "image/png": "[encoded data removed]",
      "text/plain": [
       "<Figure size 1200x400 with 2 Axes>"
      ]
     },
     "metadata": {},
     "output_type": "display_data"
    }
   ],
   "source": [
    "fig, ax = plt.subplots(1, 2, figsize=(12, 4))\n",
    "true_samples = data.sample(n = 100)\n",
    "true_samples.head()"
   ]
  },
  {
   "cell_type": "markdown",
   "id": "e3e051cc",
   "metadata": {},
   "source": [
    "Original Data"
   ]
  },
  {
   "cell_type": "code",
   "execution_count": 27,
   "id": "e70c4dfd",
   "metadata": {},
   "outputs": [
    {
     "data": {
      "text/plain": [
       "<matplotlib.collections.PathCollection at 0x7f4176431b50>"
      ]
     },
     "execution_count": 27,
     "metadata": {},
     "output_type": "execute_result"
    },
    {
     "data": {
      "image/png": "[encoded data removed]",
      "text/plain": [
       "<Figure size 1200x400 with 2 Axes>"
      ]
     },
     "metadata": {},
     "output_type": "display_data"
    }
   ],
   "source": [
    "fig, ax = plt.subplots(1, 2, figsize=(12, 4))\n",
    "true_samples = data.sample(n = 200)\n",
    "ax[0].scatter(true_samples[\"Age\"], true_samples[\"FrequentFlyer\"], c=true_samples[\"Target\"])\n",
    "ax[1].scatter(true_samples[\"AnnualIncomeClass\"], true_samples[\"ServicesOpted\"], c=true_samples[\"Target\"])"
   ]
  },
  {
   "cell_type": "markdown",
   "id": "f56b0e03",
   "metadata": {},
   "source": [
    "Generated samples"
   ]
  },
  {
   "cell_type": "code",
   "execution_count": 28,
   "id": "66d7efcc",
   "metadata": {},
   "outputs": [],
   "source": [
    "samples = pd.read_csv(\"C:/Users/Windows 11/Desktop/Dissertation/Codes/sample_data/travel_samples.csv\")"
   ]
  },
  {
   "cell_type": "code",
   "execution_count": 29,
   "id": "96d782e2",
   "metadata": {},
   "outputs": [
    {
     "data": {
      "text/plain": [
       "<matplotlib.collections.PathCollection at 0x7f4176371af0>"
      ]
     },
     "execution_count": 29,
     "metadata": {},
     "output_type": "execute_result"
    },
    {
     "data": {
      "image/png": "[encoded data removed]",
      "text/plain": [
       "<Figure size 1200x400 with 2 Axes>"
      ]
     },
     "metadata": {},
     "output_type": "display_data"
    }
   ],
   "source": [
    "fig, ax = plt.subplots(1, 2, figsize=(12, 4))\n",
    "\n",
    "ax[0].scatter(samples[\"Age\"], samples[\"FrequentFlyer\"], c=samples[\"Target\"])\n",
    "ax[0].set_ylim(1.8, 4.5)\n",
    "ax[1].scatter(samples[\"AnnualIncomeClass\"], samples[\"ServicesOpted\"], c=samples[\"Target\"].astype(\"int\"))\n"
   ]
  },
  {
   "cell_type": "code",
   "execution_count": null,
   "id": "69639c1e",
   "metadata": {},
   "outputs": [],
   "source": []
  },
  {
   "cell_type": "code",
   "execution_count": null,
   "id": "20708e2c",
   "metadata": {},
   "outputs": [],
   "source": []
  }
 ],
 "metadata": {
  "kernelspec": {
   "display_name": "Python 3 (ipykernel)",
   "language": "python",
   "name": "python3"
  },
  "language_info": {
   "codemirror_mode": {
    "name": "ipython",
    "version": 3
   },
   "file_extension": ".py",
   "mimetype": "text/x-python",
   "name": "python",
   "nbconvert_exporter": "python",
   "pygments_lexer": "ipython3",
   "version": "3.11.7"
  }
 },
 "nbformat": 4,
 "nbformat_minor": 5
}
