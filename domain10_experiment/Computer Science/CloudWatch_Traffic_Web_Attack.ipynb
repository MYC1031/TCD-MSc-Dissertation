{
 "cells": [
  {
   "cell_type": "markdown",
   "id": "245418c1",
   "metadata": {},
   "source": [
    "## GReaT Example with Iris Dataset"
   ]
  },
  {
   "cell_type": "code",
   "execution_count": 1,
   "id": "ab1f4da7-4b93-4055-8d56-6030c7498999",
   "metadata": {},
   "outputs": [],
   "source": [
    "# Execute only once!\n",
    "import os\n",
    "import sys\n",
    "sys.path.append(\"..\")\n",
    "os.chdir(\"..\")\n",
    "\n",
    "os.environ[\"CUDA_VISIBLE_DEVICES\"]=\"1\""
   ]
  },
  {
   "cell_type": "code",
   "execution_count": 2,
   "id": "b5009b62",
   "metadata": {},
   "outputs": [],
   "source": [
    "import numpy as np\n",
    "import pandas as pd\n",
    "import logging"
   ]
  },
  {
   "cell_type": "code",
   "execution_count": 3,
   "id": "71836c07-2530-44af-9b4b-cf72aff34426",
   "metadata": {},
   "outputs": [
    {
     "name": "stderr",
     "output_type": "stream",
     "text": [
      "/data/guoquanjiang/envs/begreat/lib/python3.9/site-packages/tqdm/auto.py:21: TqdmWarning: IProgress not found. Please update jupyter and ipywidgets. See https://ipywidgets.readthedocs.io/en/stable/user_install.html\n",
      "  from .autonotebook import tqdm as notebook_tqdm\n"
     ]
    }
   ],
   "source": [
    "from examples.utils import set_logging_level\n",
    "from be_great import GReaT"
   ]
  },
  {
   "cell_type": "code",
   "execution_count": 4,
   "id": "00695066",
   "metadata": {},
   "outputs": [],
   "source": [
    "import matplotlib.pyplot as plt"
   ]
  },
  {
   "cell_type": "code",
   "execution_count": 5,
   "id": "39088828",
   "metadata": {},
   "outputs": [
    {
     "data": {
      "text/html": [
       "<div>\n",
       "<style scoped>\n",
       "    .dataframe tbody tr th:only-of-type {\n",
       "        vertical-align: middle;\n",
       "    }\n",
       "\n",
       "    .dataframe tbody tr th {\n",
       "        vertical-align: top;\n",
       "    }\n",
       "\n",
       "    .dataframe thead th {\n",
       "        text-align: right;\n",
       "    }\n",
       "</style>\n",
       "<table border=\"1\" class=\"dataframe\">\n",
       "  <thead>\n",
       "    <tr style=\"text-align: right;\">\n",
       "      <th></th>\n",
       "      <th>bytes_in</th>\n",
       "      <th>bytes_out</th>\n",
       "      <th>creation_time</th>\n",
       "      <th>end_time</th>\n",
       "      <th>src_ip</th>\n",
       "      <th>src_ip_country_code</th>\n",
       "      <th>protocol</th>\n",
       "      <th>response.code</th>\n",
       "      <th>dst_port</th>\n",
       "      <th>dst_ip</th>\n",
       "      <th>rule_names</th>\n",
       "      <th>observation_name</th>\n",
       "      <th>source.meta</th>\n",
       "      <th>source.name</th>\n",
       "      <th>time</th>\n",
       "      <th>detection_types</th>\n",
       "    </tr>\n",
       "  </thead>\n",
       "  <tbody>\n",
       "    <tr>\n",
       "      <th>0</th>\n",
       "      <td>5602</td>\n",
       "      <td>12990</td>\n",
       "      <td>2024-04-25T23:00:00Z</td>\n",
       "      <td>2024-04-25T23:10:00Z</td>\n",
       "      <td>147.161.161.82</td>\n",
       "      <td>AE</td>\n",
       "      <td>HTTPS</td>\n",
       "      <td>200</td>\n",
       "      <td>443</td>\n",
       "      <td>10.138.69.97</td>\n",
       "      <td>Suspicious Web Traffic</td>\n",
       "      <td>Adversary Infrastructure Interaction</td>\n",
       "      <td>AWS_VPC_Flow</td>\n",
       "      <td>prod_webserver</td>\n",
       "      <td>2024-04-25T23:00:00Z</td>\n",
       "      <td>waf_rule</td>\n",
       "    </tr>\n",
       "    <tr>\n",
       "      <th>1</th>\n",
       "      <td>30912</td>\n",
       "      <td>18186</td>\n",
       "      <td>2024-04-25T23:00:00Z</td>\n",
       "      <td>2024-04-25T23:10:00Z</td>\n",
       "      <td>165.225.33.6</td>\n",
       "      <td>US</td>\n",
       "      <td>HTTPS</td>\n",
       "      <td>200</td>\n",
       "      <td>443</td>\n",
       "      <td>10.138.69.97</td>\n",
       "      <td>Suspicious Web Traffic</td>\n",
       "      <td>Adversary Infrastructure Interaction</td>\n",
       "      <td>AWS_VPC_Flow</td>\n",
       "      <td>prod_webserver</td>\n",
       "      <td>2024-04-25T23:00:00Z</td>\n",
       "      <td>waf_rule</td>\n",
       "    </tr>\n",
       "    <tr>\n",
       "      <th>2</th>\n",
       "      <td>28506</td>\n",
       "      <td>13468</td>\n",
       "      <td>2024-04-25T23:00:00Z</td>\n",
       "      <td>2024-04-25T23:10:00Z</td>\n",
       "      <td>165.225.212.255</td>\n",
       "      <td>CA</td>\n",
       "      <td>HTTPS</td>\n",
       "      <td>200</td>\n",
       "      <td>443</td>\n",
       "      <td>10.138.69.97</td>\n",
       "      <td>Suspicious Web Traffic</td>\n",
       "      <td>Adversary Infrastructure Interaction</td>\n",
       "      <td>AWS_VPC_Flow</td>\n",
       "      <td>prod_webserver</td>\n",
       "      <td>2024-04-25T23:00:00Z</td>\n",
       "      <td>waf_rule</td>\n",
       "    </tr>\n",
       "    <tr>\n",
       "      <th>3</th>\n",
       "      <td>30546</td>\n",
       "      <td>14278</td>\n",
       "      <td>2024-04-25T23:00:00Z</td>\n",
       "      <td>2024-04-25T23:10:00Z</td>\n",
       "      <td>136.226.64.114</td>\n",
       "      <td>US</td>\n",
       "      <td>HTTPS</td>\n",
       "      <td>200</td>\n",
       "      <td>443</td>\n",
       "      <td>10.138.69.97</td>\n",
       "      <td>Suspicious Web Traffic</td>\n",
       "      <td>Adversary Infrastructure Interaction</td>\n",
       "      <td>AWS_VPC_Flow</td>\n",
       "      <td>prod_webserver</td>\n",
       "      <td>2024-04-25T23:00:00Z</td>\n",
       "      <td>waf_rule</td>\n",
       "    </tr>\n",
       "    <tr>\n",
       "      <th>4</th>\n",
       "      <td>6526</td>\n",
       "      <td>13892</td>\n",
       "      <td>2024-04-25T23:00:00Z</td>\n",
       "      <td>2024-04-25T23:10:00Z</td>\n",
       "      <td>165.225.240.79</td>\n",
       "      <td>NL</td>\n",
       "      <td>HTTPS</td>\n",
       "      <td>200</td>\n",
       "      <td>443</td>\n",
       "      <td>10.138.69.97</td>\n",
       "      <td>Suspicious Web Traffic</td>\n",
       "      <td>Adversary Infrastructure Interaction</td>\n",
       "      <td>AWS_VPC_Flow</td>\n",
       "      <td>prod_webserver</td>\n",
       "      <td>2024-04-25T23:00:00Z</td>\n",
       "      <td>waf_rule</td>\n",
       "    </tr>\n",
       "  </tbody>\n",
       "</table>\n",
       "</div>"
      ],
      "text/plain": [
       "   bytes_in  bytes_out         creation_time              end_time  \\\n",
       "0      5602      12990  2024-04-25T23:00:00Z  2024-04-25T23:10:00Z   \n",
       "1     30912      18186  2024-04-25T23:00:00Z  2024-04-25T23:10:00Z   \n",
       "2     28506      13468  2024-04-25T23:00:00Z  2024-04-25T23:10:00Z   \n",
       "3     30546      14278  2024-04-25T23:00:00Z  2024-04-25T23:10:00Z   \n",
       "4      6526      13892  2024-04-25T23:00:00Z  2024-04-25T23:10:00Z   \n",
       "\n",
       "            src_ip src_ip_country_code protocol  response.code  dst_port  \\\n",
       "0   147.161.161.82                  AE    HTTPS            200       443   \n",
       "1     165.225.33.6                  US    HTTPS            200       443   \n",
       "2  165.225.212.255                  CA    HTTPS            200       443   \n",
       "3   136.226.64.114                  US    HTTPS            200       443   \n",
       "4   165.225.240.79                  NL    HTTPS            200       443   \n",
       "\n",
       "         dst_ip              rule_names                      observation_name  \\\n",
       "0  10.138.69.97  Suspicious Web Traffic  Adversary Infrastructure Interaction   \n",
       "1  10.138.69.97  Suspicious Web Traffic  Adversary Infrastructure Interaction   \n",
       "2  10.138.69.97  Suspicious Web Traffic  Adversary Infrastructure Interaction   \n",
       "3  10.138.69.97  Suspicious Web Traffic  Adversary Infrastructure Interaction   \n",
       "4  10.138.69.97  Suspicious Web Traffic  Adversary Infrastructure Interaction   \n",
       "\n",
       "    source.meta     source.name                  time detection_types  \n",
       "0  AWS_VPC_Flow  prod_webserver  2024-04-25T23:00:00Z        waf_rule  \n",
       "1  AWS_VPC_Flow  prod_webserver  2024-04-25T23:00:00Z        waf_rule  \n",
       "2  AWS_VPC_Flow  prod_webserver  2024-04-25T23:00:00Z        waf_rule  \n",
       "3  AWS_VPC_Flow  prod_webserver  2024-04-25T23:00:00Z        waf_rule  \n",
       "4  AWS_VPC_Flow  prod_webserver  2024-04-25T23:00:00Z        waf_rule  "
      ]
     },
     "execution_count": 5,
     "metadata": {},
     "output_type": "execute_result"
    }
   ],
   "source": [
    "logger = set_logging_level(logging.INFO)\n",
    "data = pd.read_csv('C:/Users/Windows 11/Desktop/Dissertation/Codes/Data/Computer Science/CloudWatch_Traffic_Web_Attack.csv')\n",
    "# data=data.sample(n=1000)\n",
    "data.head()"
   ]
  },
  {
   "cell_type": "markdown",
   "id": "5911b9b1",
   "metadata": {},
   "source": [
    "### Create GReaT Model"
   ]
  },
  {
   "cell_type": "code",
   "execution_count": 6,
   "id": "1a316696",
   "metadata": {},
   "outputs": [],
   "source": [
    "# great = GReaT(\"/data/guoquanjiang/llm_ner/llama3-8b/LLM-Research/Meta-Llama-3-8B\",                  # Name of the large language model used (see HuggingFace for more options)\n",
    "#               epochs=10,                   # Number of epochs to train\n",
    "#               save_steps=2000,               # Save model weights every x steps\n",
    "#               logging_steps=500,             # Log the loss and learning rate every x steps\n",
    "#               experiment_dir=\"trainer_travel\", # Name of the directory where all intermediate steps are saved\n",
    "#               batch_size=16,                 # Batch Size\n",
    "#               #lr_scheduler_type=\"constant\", # Specify the learning rate scheduler \n",
    "#               #learning_rate=5e-5            # Set the inital learning rate\n",
    "#               efficient_finetuning=\"lora\"\n",
    "#              )\n",
    "great = GReaT(\"C:/Users/Windows 11/Desktop/Dissertation/Codes/models/iiBcai/gpt2\",                  # Name of the large language model used (see HuggingFace for more options)\n",
    "              epochs=10,                   # Number of epochs to train\n",
    "              save_steps=2000,               # Save model weights every x steps\n",
    "              logging_steps=100,             # Log the loss and learning rate every x steps\n",
    "              experiment_dir=\"trainer_cloudwatch\", # Name of the directory where all intermediate steps are saved\n",
    "              batch_size=16                # Batch Size\n",
    "              #lr_scheduler_type=\"constant\", # Specify the learning rate scheduler \n",
    "              #learning_rate=5e-5            # Set the inital learning rate\n",
    "            #   efficient_finetuning=\"lora\"\n",
    "             )"
   ]
  },
  {
   "cell_type": "markdown",
   "id": "3c7b173f",
   "metadata": {},
   "source": [
    "### Start Training"
   ]
  },
  {
   "cell_type": "code",
   "execution_count": 7,
   "id": "200e000c",
   "metadata": {
    "scrolled": true
   },
   "outputs": [
    {
     "name": "stderr",
     "output_type": "stream",
     "text": [
      "\u001b[39;20m2024-06-30 17:44:04,342 - INFO - Convert data into HuggingFace dataset object... (great.py:190)\u001b[0m\n",
      "\u001b[39;20m2024-06-30 17:44:04,360 - INFO - Create GReaT Trainer... (great.py:195)\u001b[0m\n",
      "\u001b[39;20m2024-06-30 17:44:05,056 - INFO - Start training... (great.py:211)\u001b[0m\n",
      "You're using a GPT2TokenizerFast tokenizer. Please note that with a fast tokenizer, using the `__call__` method is faster than using a method to encode the text followed by a call to the `pad` method to get a padded encoding.\n"
     ]
    },
    {
     "data": {
      "text/html": [
       "\n",
       "    <div>\n",
       "      \n",
       "      <progress value='180' max='180' style='width:300px; height:20px; vertical-align: middle;'></progress>\n",
       "      [180/180 01:06, Epoch 10/10]\n",
       "    </div>\n",
       "    <table border=\"1\" class=\"dataframe\">\n",
       "  <thead>\n",
       " <tr style=\"text-align: left;\">\n",
       "      <th>Step</th>\n",
       "      <th>Training Loss</th>\n",
       "    </tr>\n",
       "  </thead>\n",
       "  <tbody>\n",
       "    <tr>\n",
       "      <td>100</td>\n",
       "      <td>0.755900</td>\n",
       "    </tr>\n",
       "  </tbody>\n",
       "</table><p>"
      ],
      "text/plain": [
       "<IPython.core.display.HTML object>"
      ]
     },
     "metadata": {},
     "output_type": "display_data"
    }
   ],
   "source": [
    "trainer = great.fit(data)"
   ]
  },
  {
   "cell_type": "code",
   "execution_count": 8,
   "id": "cfe8184d",
   "metadata": {},
   "outputs": [
    {
     "data": {
      "text/plain": [
       "{'train_runtime': 67.0031,\n",
       " 'train_samples_per_second': 42.088,\n",
       " 'train_steps_per_second': 2.686,\n",
       " 'total_flos': 237090878208000.0,\n",
       " 'train_loss': 0.61626099480523,\n",
       " 'epoch': 10.0,\n",
       " 'step': 180}"
      ]
     },
     "execution_count": 8,
     "metadata": {},
     "output_type": "execute_result"
    }
   ],
   "source": [
    "loss_hist = trainer.state.log_history.copy()\n",
    "loss_hist.pop()"
   ]
  },
  {
   "cell_type": "code",
   "execution_count": 9,
   "id": "76deeb9e",
   "metadata": {},
   "outputs": [],
   "source": [
    "loss = [x[\"loss\"] for x in loss_hist]\n",
    "epochs = [x[\"epoch\"] for x in loss_hist]"
   ]
  },
  {
   "cell_type": "code",
   "execution_count": 10,
   "id": "bcd7fc6f",
   "metadata": {},
   "outputs": [
    {
     "data": {
      "text/plain": [
       "[<matplotlib.lines.Line2D at 0x7ffb6492d100>]"
      ]
     },
     "execution_count": 10,
     "metadata": {},
     "output_type": "execute_result"
    },
    {
     "data": {
      "image/png": "[encoded data removed]",
      "text/plain": [
       "<Figure size 640x480 with 1 Axes>"
      ]
     },
     "metadata": {},
     "output_type": "display_data"
    }
   ],
   "source": [
    "plt.plot(epochs, loss)"
   ]
  },
  {
   "cell_type": "markdown",
   "id": "fdb05fe0",
   "metadata": {},
   "source": [
    "### Generate Samples"
   ]
  },
  {
   "cell_type": "code",
   "execution_count": 11,
   "id": "4bb298ac",
   "metadata": {},
   "outputs": [],
   "source": [
    "n_samples = 282"
   ]
  },
  {
   "cell_type": "code",
   "execution_count": 12,
   "id": "2106b9f2",
   "metadata": {},
   "outputs": [
    {
     "name": "stderr",
     "output_type": "stream",
     "text": [
      "  0%|          | 0/282 [00:00<?, ?it/s]"
     ]
    },
    {
     "name": "stdout",
     "output_type": "stream",
     "text": [
      "['detection_types is waf_rule,', 'detection_types is waf_rule,', 'detection_types is waf_rule,', 'detection_types is waf_rule,', 'detection_types is waf_rule,', 'detection_types is waf_rule,', 'detection_types is waf_rule,', 'detection_types is waf_rule,', 'detection_types is waf_rule,', 'detection_types is waf_rule,', 'detection_types is waf_rule,', 'detection_types is waf_rule,', 'detection_types is waf_rule,', 'detection_types is waf_rule,', 'detection_types is waf_rule,', 'detection_types is waf_rule,', 'detection_types is waf_rule,', 'detection_types is waf_rule,', 'detection_types is waf_rule,', 'detection_types is waf_rule,', 'detection_types is waf_rule,', 'detection_types is waf_rule,', 'detection_types is waf_rule,', 'detection_types is waf_rule,', 'detection_types is waf_rule,', 'detection_types is waf_rule,', 'detection_types is waf_rule,', 'detection_types is waf_rule,', 'detection_types is waf_rule,', 'detection_types is waf_rule,', 'detection_types is waf_rule,', 'detection_types is waf_rule,', 'detection_types is waf_rule,', 'detection_types is waf_rule,', 'detection_types is waf_rule,', 'detection_types is waf_rule,', 'detection_types is waf_rule,', 'detection_types is waf_rule,', 'detection_types is waf_rule,', 'detection_types is waf_rule,', 'detection_types is waf_rule,', 'detection_types is waf_rule,', 'detection_types is waf_rule,', 'detection_types is waf_rule,', 'detection_types is waf_rule,', 'detection_types is waf_rule,', 'detection_types is waf_rule,', 'detection_types is waf_rule,', 'detection_types is waf_rule,', 'detection_types is waf_rule,']\n"
     ]
    },
    {
     "name": "stderr",
     "output_type": "stream",
     "text": [
      "  0%|          | 0/282 [00:03<?, ?it/s]"
     ]
    },
    {
     "name": "stdout",
     "output_type": "stream",
     "text": [
      "['detection_types is waf_rule,', 'detection_types is waf_rule,', 'detection_types is waf_rule,', 'detection_types is waf_rule,', 'detection_types is waf_rule,', 'detection_types is waf_rule,', 'detection_types is waf_rule,', 'detection_types is waf_rule,', 'detection_types is waf_rule,', 'detection_types is waf_rule,', 'detection_types is waf_rule,', 'detection_types is waf_rule,', 'detection_types is waf_rule,', 'detection_types is waf_rule,', 'detection_types is waf_rule,', 'detection_types is waf_rule,', 'detection_types is waf_rule,', 'detection_types is waf_rule,', 'detection_types is waf_rule,', 'detection_types is waf_rule,', 'detection_types is waf_rule,', 'detection_types is waf_rule,', 'detection_types is waf_rule,', 'detection_types is waf_rule,', 'detection_types is waf_rule,', 'detection_types is waf_rule,', 'detection_types is waf_rule,', 'detection_types is waf_rule,', 'detection_types is waf_rule,', 'detection_types is waf_rule,', 'detection_types is waf_rule,', 'detection_types is waf_rule,', 'detection_types is waf_rule,', 'detection_types is waf_rule,', 'detection_types is waf_rule,', 'detection_types is waf_rule,', 'detection_types is waf_rule,', 'detection_types is waf_rule,', 'detection_types is waf_rule,', 'detection_types is waf_rule,', 'detection_types is waf_rule,', 'detection_types is waf_rule,', 'detection_types is waf_rule,', 'detection_types is waf_rule,', 'detection_types is waf_rule,', 'detection_types is waf_rule,', 'detection_types is waf_rule,', 'detection_types is waf_rule,', 'detection_types is waf_rule,', 'detection_types is waf_rule,']\n"
     ]
    },
    {
     "name": "stderr",
     "output_type": "stream",
     "text": [
      "  1%|          | 2/282 [00:05<06:37,  1.42s/it]"
     ]
    },
    {
     "name": "stdout",
     "output_type": "stream",
     "text": [
      "['detection_types is waf_rule,', 'detection_types is waf_rule,', 'detection_types is waf_rule,', 'detection_types is waf_rule,', 'detection_types is waf_rule,', 'detection_types is waf_rule,', 'detection_types is waf_rule,', 'detection_types is waf_rule,', 'detection_types is waf_rule,', 'detection_types is waf_rule,', 'detection_types is waf_rule,', 'detection_types is waf_rule,', 'detection_types is waf_rule,', 'detection_types is waf_rule,', 'detection_types is waf_rule,', 'detection_types is waf_rule,', 'detection_types is waf_rule,', 'detection_types is waf_rule,', 'detection_types is waf_rule,', 'detection_types is waf_rule,', 'detection_types is waf_rule,', 'detection_types is waf_rule,', 'detection_types is waf_rule,', 'detection_types is waf_rule,', 'detection_types is waf_rule,', 'detection_types is waf_rule,', 'detection_types is waf_rule,', 'detection_types is waf_rule,', 'detection_types is waf_rule,', 'detection_types is waf_rule,', 'detection_types is waf_rule,', 'detection_types is waf_rule,', 'detection_types is waf_rule,', 'detection_types is waf_rule,', 'detection_types is waf_rule,', 'detection_types is waf_rule,', 'detection_types is waf_rule,', 'detection_types is waf_rule,', 'detection_types is waf_rule,', 'detection_types is waf_rule,', 'detection_types is waf_rule,', 'detection_types is waf_rule,', 'detection_types is waf_rule,', 'detection_types is waf_rule,', 'detection_types is waf_rule,', 'detection_types is waf_rule,', 'detection_types is waf_rule,', 'detection_types is waf_rule,', 'detection_types is waf_rule,', 'detection_types is waf_rule,']\n"
     ]
    },
    {
     "name": "stderr",
     "output_type": "stream",
     "text": [
      "  2%|▏         | 5/282 [00:08<05:10,  1.12s/it]"
     ]
    },
    {
     "name": "stdout",
     "output_type": "stream",
     "text": [
      "['detection_types is waf_rule,', 'detection_types is waf_rule,', 'detection_types is waf_rule,', 'detection_types is waf_rule,', 'detection_types is waf_rule,', 'detection_types is waf_rule,', 'detection_types is waf_rule,', 'detection_types is waf_rule,', 'detection_types is waf_rule,', 'detection_types is waf_rule,', 'detection_types is waf_rule,', 'detection_types is waf_rule,', 'detection_types is waf_rule,', 'detection_types is waf_rule,', 'detection_types is waf_rule,', 'detection_types is waf_rule,', 'detection_types is waf_rule,', 'detection_types is waf_rule,', 'detection_types is waf_rule,', 'detection_types is waf_rule,', 'detection_types is waf_rule,', 'detection_types is waf_rule,', 'detection_types is waf_rule,', 'detection_types is waf_rule,', 'detection_types is waf_rule,', 'detection_types is waf_rule,', 'detection_types is waf_rule,', 'detection_types is waf_rule,', 'detection_types is waf_rule,', 'detection_types is waf_rule,', 'detection_types is waf_rule,', 'detection_types is waf_rule,', 'detection_types is waf_rule,', 'detection_types is waf_rule,', 'detection_types is waf_rule,', 'detection_types is waf_rule,', 'detection_types is waf_rule,', 'detection_types is waf_rule,', 'detection_types is waf_rule,', 'detection_types is waf_rule,', 'detection_types is waf_rule,', 'detection_types is waf_rule,', 'detection_types is waf_rule,', 'detection_types is waf_rule,', 'detection_types is waf_rule,', 'detection_types is waf_rule,', 'detection_types is waf_rule,', 'detection_types is waf_rule,', 'detection_types is waf_rule,', 'detection_types is waf_rule,']\n"
     ]
    },
    {
     "name": "stderr",
     "output_type": "stream",
     "text": [
      "  3%|▎         | 8/282 [00:11<04:41,  1.03s/it]"
     ]
    },
    {
     "name": "stdout",
     "output_type": "stream",
     "text": [
      "['detection_types is waf_rule,', 'detection_types is waf_rule,', 'detection_types is waf_rule,', 'detection_types is waf_rule,', 'detection_types is waf_rule,', 'detection_types is waf_rule,', 'detection_types is waf_rule,', 'detection_types is waf_rule,', 'detection_types is waf_rule,', 'detection_types is waf_rule,', 'detection_types is waf_rule,', 'detection_types is waf_rule,', 'detection_types is waf_rule,', 'detection_types is waf_rule,', 'detection_types is waf_rule,', 'detection_types is waf_rule,', 'detection_types is waf_rule,', 'detection_types is waf_rule,', 'detection_types is waf_rule,', 'detection_types is waf_rule,', 'detection_types is waf_rule,', 'detection_types is waf_rule,', 'detection_types is waf_rule,', 'detection_types is waf_rule,', 'detection_types is waf_rule,', 'detection_types is waf_rule,', 'detection_types is waf_rule,', 'detection_types is waf_rule,', 'detection_types is waf_rule,', 'detection_types is waf_rule,', 'detection_types is waf_rule,', 'detection_types is waf_rule,', 'detection_types is waf_rule,', 'detection_types is waf_rule,', 'detection_types is waf_rule,', 'detection_types is waf_rule,', 'detection_types is waf_rule,', 'detection_types is waf_rule,', 'detection_types is waf_rule,', 'detection_types is waf_rule,', 'detection_types is waf_rule,', 'detection_types is waf_rule,', 'detection_types is waf_rule,', 'detection_types is waf_rule,', 'detection_types is waf_rule,', 'detection_types is waf_rule,', 'detection_types is waf_rule,', 'detection_types is waf_rule,', 'detection_types is waf_rule,', 'detection_types is waf_rule,']\n"
     ]
    },
    {
     "name": "stderr",
     "output_type": "stream",
     "text": [
      "  3%|▎         | 9/282 [00:14<06:16,  1.38s/it]"
     ]
    },
    {
     "name": "stdout",
     "output_type": "stream",
     "text": [
      "['detection_types is waf_rule,', 'detection_types is waf_rule,', 'detection_types is waf_rule,', 'detection_types is waf_rule,', 'detection_types is waf_rule,', 'detection_types is waf_rule,', 'detection_types is waf_rule,', 'detection_types is waf_rule,', 'detection_types is waf_rule,', 'detection_types is waf_rule,', 'detection_types is waf_rule,', 'detection_types is waf_rule,', 'detection_types is waf_rule,', 'detection_types is waf_rule,', 'detection_types is waf_rule,', 'detection_types is waf_rule,', 'detection_types is waf_rule,', 'detection_types is waf_rule,', 'detection_types is waf_rule,', 'detection_types is waf_rule,', 'detection_types is waf_rule,', 'detection_types is waf_rule,', 'detection_types is waf_rule,', 'detection_types is waf_rule,', 'detection_types is waf_rule,', 'detection_types is waf_rule,', 'detection_types is waf_rule,', 'detection_types is waf_rule,', 'detection_types is waf_rule,', 'detection_types is waf_rule,', 'detection_types is waf_rule,', 'detection_types is waf_rule,', 'detection_types is waf_rule,', 'detection_types is waf_rule,', 'detection_types is waf_rule,', 'detection_types is waf_rule,', 'detection_types is waf_rule,', 'detection_types is waf_rule,', 'detection_types is waf_rule,', 'detection_types is waf_rule,', 'detection_types is waf_rule,', 'detection_types is waf_rule,', 'detection_types is waf_rule,', 'detection_types is waf_rule,', 'detection_types is waf_rule,', 'detection_types is waf_rule,', 'detection_types is waf_rule,', 'detection_types is waf_rule,', 'detection_types is waf_rule,', 'detection_types is waf_rule,']\n"
     ]
    },
    {
     "name": "stderr",
     "output_type": "stream",
     "text": [
      "  4%|▍         | 11/282 [00:17<06:17,  1.39s/it]"
     ]
    },
    {
     "name": "stdout",
     "output_type": "stream",
     "text": [
      "['detection_types is waf_rule,', 'detection_types is waf_rule,', 'detection_types is waf_rule,', 'detection_types is waf_rule,', 'detection_types is waf_rule,', 'detection_types is waf_rule,', 'detection_types is waf_rule,', 'detection_types is waf_rule,', 'detection_types is waf_rule,', 'detection_types is waf_rule,', 'detection_types is waf_rule,', 'detection_types is waf_rule,', 'detection_types is waf_rule,', 'detection_types is waf_rule,', 'detection_types is waf_rule,', 'detection_types is waf_rule,', 'detection_types is waf_rule,', 'detection_types is waf_rule,', 'detection_types is waf_rule,', 'detection_types is waf_rule,', 'detection_types is waf_rule,', 'detection_types is waf_rule,', 'detection_types is waf_rule,', 'detection_types is waf_rule,', 'detection_types is waf_rule,', 'detection_types is waf_rule,', 'detection_types is waf_rule,', 'detection_types is waf_rule,', 'detection_types is waf_rule,', 'detection_types is waf_rule,', 'detection_types is waf_rule,', 'detection_types is waf_rule,', 'detection_types is waf_rule,', 'detection_types is waf_rule,', 'detection_types is waf_rule,', 'detection_types is waf_rule,', 'detection_types is waf_rule,', 'detection_types is waf_rule,', 'detection_types is waf_rule,', 'detection_types is waf_rule,', 'detection_types is waf_rule,', 'detection_types is waf_rule,', 'detection_types is waf_rule,', 'detection_types is waf_rule,', 'detection_types is waf_rule,', 'detection_types is waf_rule,', 'detection_types is waf_rule,', 'detection_types is waf_rule,', 'detection_types is waf_rule,', 'detection_types is waf_rule,']\n"
     ]
    },
    {
     "name": "stderr",
     "output_type": "stream",
     "text": [
      "  5%|▍         | 14/282 [00:20<05:29,  1.23s/it]"
     ]
    },
    {
     "name": "stdout",
     "output_type": "stream",
     "text": [
      "['detection_types is waf_rule,', 'detection_types is waf_rule,', 'detection_types is waf_rule,', 'detection_types is waf_rule,', 'detection_types is waf_rule,', 'detection_types is waf_rule,', 'detection_types is waf_rule,', 'detection_types is waf_rule,', 'detection_types is waf_rule,', 'detection_types is waf_rule,', 'detection_types is waf_rule,', 'detection_types is waf_rule,', 'detection_types is waf_rule,', 'detection_types is waf_rule,', 'detection_types is waf_rule,', 'detection_types is waf_rule,', 'detection_types is waf_rule,', 'detection_types is waf_rule,', 'detection_types is waf_rule,', 'detection_types is waf_rule,', 'detection_types is waf_rule,', 'detection_types is waf_rule,', 'detection_types is waf_rule,', 'detection_types is waf_rule,', 'detection_types is waf_rule,', 'detection_types is waf_rule,', 'detection_types is waf_rule,', 'detection_types is waf_rule,', 'detection_types is waf_rule,', 'detection_types is waf_rule,', 'detection_types is waf_rule,', 'detection_types is waf_rule,', 'detection_types is waf_rule,', 'detection_types is waf_rule,', 'detection_types is waf_rule,', 'detection_types is waf_rule,', 'detection_types is waf_rule,', 'detection_types is waf_rule,', 'detection_types is waf_rule,', 'detection_types is waf_rule,', 'detection_types is waf_rule,', 'detection_types is waf_rule,', 'detection_types is waf_rule,', 'detection_types is waf_rule,', 'detection_types is waf_rule,', 'detection_types is waf_rule,', 'detection_types is waf_rule,', 'detection_types is waf_rule,', 'detection_types is waf_rule,', 'detection_types is waf_rule,']\n"
     ]
    },
    {
     "name": "stderr",
     "output_type": "stream",
     "text": [
      "  6%|▌         | 16/282 [00:23<05:43,  1.29s/it]"
     ]
    },
    {
     "name": "stdout",
     "output_type": "stream",
     "text": [
      "['detection_types is waf_rule,', 'detection_types is waf_rule,', 'detection_types is waf_rule,', 'detection_types is waf_rule,', 'detection_types is waf_rule,', 'detection_types is waf_rule,', 'detection_types is waf_rule,', 'detection_types is waf_rule,', 'detection_types is waf_rule,', 'detection_types is waf_rule,', 'detection_types is waf_rule,', 'detection_types is waf_rule,', 'detection_types is waf_rule,', 'detection_types is waf_rule,', 'detection_types is waf_rule,', 'detection_types is waf_rule,', 'detection_types is waf_rule,', 'detection_types is waf_rule,', 'detection_types is waf_rule,', 'detection_types is waf_rule,', 'detection_types is waf_rule,', 'detection_types is waf_rule,', 'detection_types is waf_rule,', 'detection_types is waf_rule,', 'detection_types is waf_rule,', 'detection_types is waf_rule,', 'detection_types is waf_rule,', 'detection_types is waf_rule,', 'detection_types is waf_rule,', 'detection_types is waf_rule,', 'detection_types is waf_rule,', 'detection_types is waf_rule,', 'detection_types is waf_rule,', 'detection_types is waf_rule,', 'detection_types is waf_rule,', 'detection_types is waf_rule,', 'detection_types is waf_rule,', 'detection_types is waf_rule,', 'detection_types is waf_rule,', 'detection_types is waf_rule,', 'detection_types is waf_rule,', 'detection_types is waf_rule,', 'detection_types is waf_rule,', 'detection_types is waf_rule,', 'detection_types is waf_rule,', 'detection_types is waf_rule,', 'detection_types is waf_rule,', 'detection_types is waf_rule,', 'detection_types is waf_rule,', 'detection_types is waf_rule,']\n"
     ]
    },
    {
     "name": "stderr",
     "output_type": "stream",
     "text": [
      "  6%|▌         | 17/282 [00:26<06:55,  1.57s/it]"
     ]
    },
    {
     "name": "stdout",
     "output_type": "stream",
     "text": [
      "['detection_types is waf_rule,', 'detection_types is waf_rule,', 'detection_types is waf_rule,', 'detection_types is waf_rule,', 'detection_types is waf_rule,', 'detection_types is waf_rule,', 'detection_types is waf_rule,', 'detection_types is waf_rule,', 'detection_types is waf_rule,', 'detection_types is waf_rule,', 'detection_types is waf_rule,', 'detection_types is waf_rule,', 'detection_types is waf_rule,', 'detection_types is waf_rule,', 'detection_types is waf_rule,', 'detection_types is waf_rule,', 'detection_types is waf_rule,', 'detection_types is waf_rule,', 'detection_types is waf_rule,', 'detection_types is waf_rule,', 'detection_types is waf_rule,', 'detection_types is waf_rule,', 'detection_types is waf_rule,', 'detection_types is waf_rule,', 'detection_types is waf_rule,', 'detection_types is waf_rule,', 'detection_types is waf_rule,', 'detection_types is waf_rule,', 'detection_types is waf_rule,', 'detection_types is waf_rule,', 'detection_types is waf_rule,', 'detection_types is waf_rule,', 'detection_types is waf_rule,', 'detection_types is waf_rule,', 'detection_types is waf_rule,', 'detection_types is waf_rule,', 'detection_types is waf_rule,', 'detection_types is waf_rule,', 'detection_types is waf_rule,', 'detection_types is waf_rule,', 'detection_types is waf_rule,', 'detection_types is waf_rule,', 'detection_types is waf_rule,', 'detection_types is waf_rule,', 'detection_types is waf_rule,', 'detection_types is waf_rule,', 'detection_types is waf_rule,', 'detection_types is waf_rule,', 'detection_types is waf_rule,', 'detection_types is waf_rule,']\n"
     ]
    },
    {
     "name": "stderr",
     "output_type": "stream",
     "text": [
      "  6%|▋         | 18/282 [00:29<08:10,  1.86s/it]"
     ]
    },
    {
     "name": "stdout",
     "output_type": "stream",
     "text": [
      "['detection_types is waf_rule,', 'detection_types is waf_rule,', 'detection_types is waf_rule,', 'detection_types is waf_rule,', 'detection_types is waf_rule,', 'detection_types is waf_rule,', 'detection_types is waf_rule,', 'detection_types is waf_rule,', 'detection_types is waf_rule,', 'detection_types is waf_rule,', 'detection_types is waf_rule,', 'detection_types is waf_rule,', 'detection_types is waf_rule,', 'detection_types is waf_rule,', 'detection_types is waf_rule,', 'detection_types is waf_rule,', 'detection_types is waf_rule,', 'detection_types is waf_rule,', 'detection_types is waf_rule,', 'detection_types is waf_rule,', 'detection_types is waf_rule,', 'detection_types is waf_rule,', 'detection_types is waf_rule,', 'detection_types is waf_rule,', 'detection_types is waf_rule,', 'detection_types is waf_rule,', 'detection_types is waf_rule,', 'detection_types is waf_rule,', 'detection_types is waf_rule,', 'detection_types is waf_rule,', 'detection_types is waf_rule,', 'detection_types is waf_rule,', 'detection_types is waf_rule,', 'detection_types is waf_rule,', 'detection_types is waf_rule,', 'detection_types is waf_rule,', 'detection_types is waf_rule,', 'detection_types is waf_rule,', 'detection_types is waf_rule,', 'detection_types is waf_rule,', 'detection_types is waf_rule,', 'detection_types is waf_rule,', 'detection_types is waf_rule,', 'detection_types is waf_rule,', 'detection_types is waf_rule,', 'detection_types is waf_rule,', 'detection_types is waf_rule,', 'detection_types is waf_rule,', 'detection_types is waf_rule,', 'detection_types is waf_rule,']\n"
     ]
    },
    {
     "name": "stderr",
     "output_type": "stream",
     "text": [
      "  7%|▋         | 19/282 [00:32<09:09,  2.09s/it]"
     ]
    },
    {
     "name": "stdout",
     "output_type": "stream",
     "text": [
      "['detection_types is waf_rule,', 'detection_types is waf_rule,', 'detection_types is waf_rule,', 'detection_types is waf_rule,', 'detection_types is waf_rule,', 'detection_types is waf_rule,', 'detection_types is waf_rule,', 'detection_types is waf_rule,', 'detection_types is waf_rule,', 'detection_types is waf_rule,', 'detection_types is waf_rule,', 'detection_types is waf_rule,', 'detection_types is waf_rule,', 'detection_types is waf_rule,', 'detection_types is waf_rule,', 'detection_types is waf_rule,', 'detection_types is waf_rule,', 'detection_types is waf_rule,', 'detection_types is waf_rule,', 'detection_types is waf_rule,', 'detection_types is waf_rule,', 'detection_types is waf_rule,', 'detection_types is waf_rule,', 'detection_types is waf_rule,', 'detection_types is waf_rule,', 'detection_types is waf_rule,', 'detection_types is waf_rule,', 'detection_types is waf_rule,', 'detection_types is waf_rule,', 'detection_types is waf_rule,', 'detection_types is waf_rule,', 'detection_types is waf_rule,', 'detection_types is waf_rule,', 'detection_types is waf_rule,', 'detection_types is waf_rule,', 'detection_types is waf_rule,', 'detection_types is waf_rule,', 'detection_types is waf_rule,', 'detection_types is waf_rule,', 'detection_types is waf_rule,', 'detection_types is waf_rule,', 'detection_types is waf_rule,', 'detection_types is waf_rule,', 'detection_types is waf_rule,', 'detection_types is waf_rule,', 'detection_types is waf_rule,', 'detection_types is waf_rule,', 'detection_types is waf_rule,', 'detection_types is waf_rule,', 'detection_types is waf_rule,']\n",
      "['detection_types is waf_rule,', 'detection_types is waf_rule,', 'detection_types is waf_rule,', 'detection_types is waf_rule,', 'detection_types is waf_rule,', 'detection_types is waf_rule,', 'detection_types is waf_rule,', 'detection_types is waf_rule,', 'detection_types is waf_rule,', 'detection_types is waf_rule,', 'detection_types is waf_rule,', 'detection_types is waf_rule,', 'detection_types is waf_rule,', 'detection_types is waf_rule,', 'detection_types is waf_rule,', 'detection_types is waf_rule,', 'detection_types is waf_rule,', 'detection_types is waf_rule,', 'detection_types is waf_rule,', 'detection_types is waf_rule,', 'detection_types is waf_rule,', 'detection_types is waf_rule,', 'detection_types is waf_rule,', 'detection_types is waf_rule,', 'detection_types is waf_rule,', 'detection_types is waf_rule,', 'detection_types is waf_rule,', 'detection_types is waf_rule,', 'detection_types is waf_rule,', 'detection_types is waf_rule,', 'detection_types is waf_rule,', 'detection_types is waf_rule,', 'detection_types is waf_rule,', 'detection_types is waf_rule,', 'detection_types is waf_rule,', 'detection_types is waf_rule,', 'detection_types is waf_rule,', 'detection_types is waf_rule,', 'detection_types is waf_rule,', 'detection_types is waf_rule,', 'detection_types is waf_rule,', 'detection_types is waf_rule,', 'detection_types is waf_rule,', 'detection_types is waf_rule,', 'detection_types is waf_rule,', 'detection_types is waf_rule,', 'detection_types is waf_rule,', 'detection_types is waf_rule,', 'detection_types is waf_rule,', 'detection_types is waf_rule,']\n"
     ]
    },
    {
     "name": "stderr",
     "output_type": "stream",
     "text": [
      "  8%|▊         | 23/282 [00:37<07:28,  1.73s/it]"
     ]
    },
    {
     "name": "stdout",
     "output_type": "stream",
     "text": [
      "['detection_types is waf_rule,', 'detection_types is waf_rule,', 'detection_types is waf_rule,', 'detection_types is waf_rule,', 'detection_types is waf_rule,', 'detection_types is waf_rule,', 'detection_types is waf_rule,', 'detection_types is waf_rule,', 'detection_types is waf_rule,', 'detection_types is waf_rule,', 'detection_types is waf_rule,', 'detection_types is waf_rule,', 'detection_types is waf_rule,', 'detection_types is waf_rule,', 'detection_types is waf_rule,', 'detection_types is waf_rule,', 'detection_types is waf_rule,', 'detection_types is waf_rule,', 'detection_types is waf_rule,', 'detection_types is waf_rule,', 'detection_types is waf_rule,', 'detection_types is waf_rule,', 'detection_types is waf_rule,', 'detection_types is waf_rule,', 'detection_types is waf_rule,', 'detection_types is waf_rule,', 'detection_types is waf_rule,', 'detection_types is waf_rule,', 'detection_types is waf_rule,', 'detection_types is waf_rule,', 'detection_types is waf_rule,', 'detection_types is waf_rule,', 'detection_types is waf_rule,', 'detection_types is waf_rule,', 'detection_types is waf_rule,', 'detection_types is waf_rule,', 'detection_types is waf_rule,', 'detection_types is waf_rule,', 'detection_types is waf_rule,', 'detection_types is waf_rule,', 'detection_types is waf_rule,', 'detection_types is waf_rule,', 'detection_types is waf_rule,', 'detection_types is waf_rule,', 'detection_types is waf_rule,', 'detection_types is waf_rule,', 'detection_types is waf_rule,', 'detection_types is waf_rule,', 'detection_types is waf_rule,', 'detection_types is waf_rule,']\n"
     ]
    },
    {
     "name": "stderr",
     "output_type": "stream",
     "text": [
      "  9%|▊         | 24/282 [00:40<08:13,  1.91s/it]"
     ]
    },
    {
     "name": "stdout",
     "output_type": "stream",
     "text": [
      "['detection_types is waf_rule,', 'detection_types is waf_rule,', 'detection_types is waf_rule,', 'detection_types is waf_rule,', 'detection_types is waf_rule,', 'detection_types is waf_rule,', 'detection_types is waf_rule,', 'detection_types is waf_rule,', 'detection_types is waf_rule,', 'detection_types is waf_rule,', 'detection_types is waf_rule,', 'detection_types is waf_rule,', 'detection_types is waf_rule,', 'detection_types is waf_rule,', 'detection_types is waf_rule,', 'detection_types is waf_rule,', 'detection_types is waf_rule,', 'detection_types is waf_rule,', 'detection_types is waf_rule,', 'detection_types is waf_rule,', 'detection_types is waf_rule,', 'detection_types is waf_rule,', 'detection_types is waf_rule,', 'detection_types is waf_rule,', 'detection_types is waf_rule,', 'detection_types is waf_rule,', 'detection_types is waf_rule,', 'detection_types is waf_rule,', 'detection_types is waf_rule,', 'detection_types is waf_rule,', 'detection_types is waf_rule,', 'detection_types is waf_rule,', 'detection_types is waf_rule,', 'detection_types is waf_rule,', 'detection_types is waf_rule,', 'detection_types is waf_rule,', 'detection_types is waf_rule,', 'detection_types is waf_rule,', 'detection_types is waf_rule,', 'detection_types is waf_rule,', 'detection_types is waf_rule,', 'detection_types is waf_rule,', 'detection_types is waf_rule,', 'detection_types is waf_rule,', 'detection_types is waf_rule,', 'detection_types is waf_rule,', 'detection_types is waf_rule,', 'detection_types is waf_rule,', 'detection_types is waf_rule,', 'detection_types is waf_rule,']\n"
     ]
    },
    {
     "name": "stderr",
     "output_type": "stream",
     "text": [
      " 10%|▉         | 27/282 [00:43<06:31,  1.54s/it]"
     ]
    },
    {
     "name": "stdout",
     "output_type": "stream",
     "text": [
      "['detection_types is waf_rule,', 'detection_types is waf_rule,', 'detection_types is waf_rule,', 'detection_types is waf_rule,', 'detection_types is waf_rule,', 'detection_types is waf_rule,', 'detection_types is waf_rule,', 'detection_types is waf_rule,', 'detection_types is waf_rule,', 'detection_types is waf_rule,', 'detection_types is waf_rule,', 'detection_types is waf_rule,', 'detection_types is waf_rule,', 'detection_types is waf_rule,', 'detection_types is waf_rule,', 'detection_types is waf_rule,', 'detection_types is waf_rule,', 'detection_types is waf_rule,', 'detection_types is waf_rule,', 'detection_types is waf_rule,', 'detection_types is waf_rule,', 'detection_types is waf_rule,', 'detection_types is waf_rule,', 'detection_types is waf_rule,', 'detection_types is waf_rule,', 'detection_types is waf_rule,', 'detection_types is waf_rule,', 'detection_types is waf_rule,', 'detection_types is waf_rule,', 'detection_types is waf_rule,', 'detection_types is waf_rule,', 'detection_types is waf_rule,', 'detection_types is waf_rule,', 'detection_types is waf_rule,', 'detection_types is waf_rule,', 'detection_types is waf_rule,', 'detection_types is waf_rule,', 'detection_types is waf_rule,', 'detection_types is waf_rule,', 'detection_types is waf_rule,', 'detection_types is waf_rule,', 'detection_types is waf_rule,', 'detection_types is waf_rule,', 'detection_types is waf_rule,', 'detection_types is waf_rule,', 'detection_types is waf_rule,', 'detection_types is waf_rule,', 'detection_types is waf_rule,', 'detection_types is waf_rule,', 'detection_types is waf_rule,']\n",
      "['detection_types is waf_rule,', 'detection_types is waf_rule,', 'detection_types is waf_rule,', 'detection_types is waf_rule,', 'detection_types is waf_rule,', 'detection_types is waf_rule,', 'detection_types is waf_rule,', 'detection_types is waf_rule,', 'detection_types is waf_rule,', 'detection_types is waf_rule,', 'detection_types is waf_rule,', 'detection_types is waf_rule,', 'detection_types is waf_rule,', 'detection_types is waf_rule,', 'detection_types is waf_rule,', 'detection_types is waf_rule,', 'detection_types is waf_rule,', 'detection_types is waf_rule,', 'detection_types is waf_rule,', 'detection_types is waf_rule,', 'detection_types is waf_rule,', 'detection_types is waf_rule,', 'detection_types is waf_rule,', 'detection_types is waf_rule,', 'detection_types is waf_rule,', 'detection_types is waf_rule,', 'detection_types is waf_rule,', 'detection_types is waf_rule,', 'detection_types is waf_rule,', 'detection_types is waf_rule,', 'detection_types is waf_rule,', 'detection_types is waf_rule,', 'detection_types is waf_rule,', 'detection_types is waf_rule,', 'detection_types is waf_rule,', 'detection_types is waf_rule,', 'detection_types is waf_rule,', 'detection_types is waf_rule,', 'detection_types is waf_rule,', 'detection_types is waf_rule,', 'detection_types is waf_rule,', 'detection_types is waf_rule,', 'detection_types is waf_rule,', 'detection_types is waf_rule,', 'detection_types is waf_rule,', 'detection_types is waf_rule,', 'detection_types is waf_rule,', 'detection_types is waf_rule,', 'detection_types is waf_rule,', 'detection_types is waf_rule,']\n"
     ]
    },
    {
     "name": "stderr",
     "output_type": "stream",
     "text": [
      " 10%|▉         | 28/282 [00:49<09:24,  2.22s/it]"
     ]
    },
    {
     "name": "stdout",
     "output_type": "stream",
     "text": [
      "['detection_types is waf_rule,', 'detection_types is waf_rule,', 'detection_types is waf_rule,', 'detection_types is waf_rule,', 'detection_types is waf_rule,', 'detection_types is waf_rule,', 'detection_types is waf_rule,', 'detection_types is waf_rule,', 'detection_types is waf_rule,', 'detection_types is waf_rule,', 'detection_types is waf_rule,', 'detection_types is waf_rule,', 'detection_types is waf_rule,', 'detection_types is waf_rule,', 'detection_types is waf_rule,', 'detection_types is waf_rule,', 'detection_types is waf_rule,', 'detection_types is waf_rule,', 'detection_types is waf_rule,', 'detection_types is waf_rule,', 'detection_types is waf_rule,', 'detection_types is waf_rule,', 'detection_types is waf_rule,', 'detection_types is waf_rule,', 'detection_types is waf_rule,', 'detection_types is waf_rule,', 'detection_types is waf_rule,', 'detection_types is waf_rule,', 'detection_types is waf_rule,', 'detection_types is waf_rule,', 'detection_types is waf_rule,', 'detection_types is waf_rule,', 'detection_types is waf_rule,', 'detection_types is waf_rule,', 'detection_types is waf_rule,', 'detection_types is waf_rule,', 'detection_types is waf_rule,', 'detection_types is waf_rule,', 'detection_types is waf_rule,', 'detection_types is waf_rule,', 'detection_types is waf_rule,', 'detection_types is waf_rule,', 'detection_types is waf_rule,', 'detection_types is waf_rule,', 'detection_types is waf_rule,', 'detection_types is waf_rule,', 'detection_types is waf_rule,', 'detection_types is waf_rule,', 'detection_types is waf_rule,', 'detection_types is waf_rule,']\n"
     ]
    },
    {
     "name": "stderr",
     "output_type": "stream",
     "text": [
      " 10%|█         | 29/282 [00:52<09:54,  2.35s/it]"
     ]
    },
    {
     "name": "stdout",
     "output_type": "stream",
     "text": [
      "['detection_types is waf_rule,', 'detection_types is waf_rule,', 'detection_types is waf_rule,', 'detection_types is waf_rule,', 'detection_types is waf_rule,', 'detection_types is waf_rule,', 'detection_types is waf_rule,', 'detection_types is waf_rule,', 'detection_types is waf_rule,', 'detection_types is waf_rule,', 'detection_types is waf_rule,', 'detection_types is waf_rule,', 'detection_types is waf_rule,', 'detection_types is waf_rule,', 'detection_types is waf_rule,', 'detection_types is waf_rule,', 'detection_types is waf_rule,', 'detection_types is waf_rule,', 'detection_types is waf_rule,', 'detection_types is waf_rule,', 'detection_types is waf_rule,', 'detection_types is waf_rule,', 'detection_types is waf_rule,', 'detection_types is waf_rule,', 'detection_types is waf_rule,', 'detection_types is waf_rule,', 'detection_types is waf_rule,', 'detection_types is waf_rule,', 'detection_types is waf_rule,', 'detection_types is waf_rule,', 'detection_types is waf_rule,', 'detection_types is waf_rule,', 'detection_types is waf_rule,', 'detection_types is waf_rule,', 'detection_types is waf_rule,', 'detection_types is waf_rule,', 'detection_types is waf_rule,', 'detection_types is waf_rule,', 'detection_types is waf_rule,', 'detection_types is waf_rule,', 'detection_types is waf_rule,', 'detection_types is waf_rule,', 'detection_types is waf_rule,', 'detection_types is waf_rule,', 'detection_types is waf_rule,', 'detection_types is waf_rule,', 'detection_types is waf_rule,', 'detection_types is waf_rule,', 'detection_types is waf_rule,', 'detection_types is waf_rule,']\n"
     ]
    },
    {
     "name": "stderr",
     "output_type": "stream",
     "text": [
      " 11%|█▏        | 32/282 [00:55<07:14,  1.74s/it]"
     ]
    },
    {
     "name": "stdout",
     "output_type": "stream",
     "text": [
      "['detection_types is waf_rule,', 'detection_types is waf_rule,', 'detection_types is waf_rule,', 'detection_types is waf_rule,', 'detection_types is waf_rule,', 'detection_types is waf_rule,', 'detection_types is waf_rule,', 'detection_types is waf_rule,', 'detection_types is waf_rule,', 'detection_types is waf_rule,', 'detection_types is waf_rule,', 'detection_types is waf_rule,', 'detection_types is waf_rule,', 'detection_types is waf_rule,', 'detection_types is waf_rule,', 'detection_types is waf_rule,', 'detection_types is waf_rule,', 'detection_types is waf_rule,', 'detection_types is waf_rule,', 'detection_types is waf_rule,', 'detection_types is waf_rule,', 'detection_types is waf_rule,', 'detection_types is waf_rule,', 'detection_types is waf_rule,', 'detection_types is waf_rule,', 'detection_types is waf_rule,', 'detection_types is waf_rule,', 'detection_types is waf_rule,', 'detection_types is waf_rule,', 'detection_types is waf_rule,', 'detection_types is waf_rule,', 'detection_types is waf_rule,', 'detection_types is waf_rule,', 'detection_types is waf_rule,', 'detection_types is waf_rule,', 'detection_types is waf_rule,', 'detection_types is waf_rule,', 'detection_types is waf_rule,', 'detection_types is waf_rule,', 'detection_types is waf_rule,', 'detection_types is waf_rule,', 'detection_types is waf_rule,', 'detection_types is waf_rule,', 'detection_types is waf_rule,', 'detection_types is waf_rule,', 'detection_types is waf_rule,', 'detection_types is waf_rule,', 'detection_types is waf_rule,', 'detection_types is waf_rule,', 'detection_types is waf_rule,']\n",
      "['detection_types is waf_rule,', 'detection_types is waf_rule,', 'detection_types is waf_rule,', 'detection_types is waf_rule,', 'detection_types is waf_rule,', 'detection_types is waf_rule,', 'detection_types is waf_rule,', 'detection_types is waf_rule,', 'detection_types is waf_rule,', 'detection_types is waf_rule,', 'detection_types is waf_rule,', 'detection_types is waf_rule,', 'detection_types is waf_rule,', 'detection_types is waf_rule,', 'detection_types is waf_rule,', 'detection_types is waf_rule,', 'detection_types is waf_rule,', 'detection_types is waf_rule,', 'detection_types is waf_rule,', 'detection_types is waf_rule,', 'detection_types is waf_rule,', 'detection_types is waf_rule,', 'detection_types is waf_rule,', 'detection_types is waf_rule,', 'detection_types is waf_rule,', 'detection_types is waf_rule,', 'detection_types is waf_rule,', 'detection_types is waf_rule,', 'detection_types is waf_rule,', 'detection_types is waf_rule,', 'detection_types is waf_rule,', 'detection_types is waf_rule,', 'detection_types is waf_rule,', 'detection_types is waf_rule,', 'detection_types is waf_rule,', 'detection_types is waf_rule,', 'detection_types is waf_rule,', 'detection_types is waf_rule,', 'detection_types is waf_rule,', 'detection_types is waf_rule,', 'detection_types is waf_rule,', 'detection_types is waf_rule,', 'detection_types is waf_rule,', 'detection_types is waf_rule,', 'detection_types is waf_rule,', 'detection_types is waf_rule,', 'detection_types is waf_rule,', 'detection_types is waf_rule,', 'detection_types is waf_rule,', 'detection_types is waf_rule,']\n"
     ]
    },
    {
     "name": "stderr",
     "output_type": "stream",
     "text": [
      " 12%|█▏        | 33/282 [01:01<10:12,  2.46s/it]"
     ]
    },
    {
     "name": "stdout",
     "output_type": "stream",
     "text": [
      "['detection_types is waf_rule,', 'detection_types is waf_rule,', 'detection_types is waf_rule,', 'detection_types is waf_rule,', 'detection_types is waf_rule,', 'detection_types is waf_rule,', 'detection_types is waf_rule,', 'detection_types is waf_rule,', 'detection_types is waf_rule,', 'detection_types is waf_rule,', 'detection_types is waf_rule,', 'detection_types is waf_rule,', 'detection_types is waf_rule,', 'detection_types is waf_rule,', 'detection_types is waf_rule,', 'detection_types is waf_rule,', 'detection_types is waf_rule,', 'detection_types is waf_rule,', 'detection_types is waf_rule,', 'detection_types is waf_rule,', 'detection_types is waf_rule,', 'detection_types is waf_rule,', 'detection_types is waf_rule,', 'detection_types is waf_rule,', 'detection_types is waf_rule,', 'detection_types is waf_rule,', 'detection_types is waf_rule,', 'detection_types is waf_rule,', 'detection_types is waf_rule,', 'detection_types is waf_rule,', 'detection_types is waf_rule,', 'detection_types is waf_rule,', 'detection_types is waf_rule,', 'detection_types is waf_rule,', 'detection_types is waf_rule,', 'detection_types is waf_rule,', 'detection_types is waf_rule,', 'detection_types is waf_rule,', 'detection_types is waf_rule,', 'detection_types is waf_rule,', 'detection_types is waf_rule,', 'detection_types is waf_rule,', 'detection_types is waf_rule,', 'detection_types is waf_rule,', 'detection_types is waf_rule,', 'detection_types is waf_rule,', 'detection_types is waf_rule,', 'detection_types is waf_rule,', 'detection_types is waf_rule,', 'detection_types is waf_rule,']\n"
     ]
    },
    {
     "name": "stderr",
     "output_type": "stream",
     "text": [
      " 12%|█▏        | 35/282 [01:04<08:50,  2.15s/it]"
     ]
    },
    {
     "name": "stdout",
     "output_type": "stream",
     "text": [
      "['detection_types is waf_rule,', 'detection_types is waf_rule,', 'detection_types is waf_rule,', 'detection_types is waf_rule,', 'detection_types is waf_rule,', 'detection_types is waf_rule,', 'detection_types is waf_rule,', 'detection_types is waf_rule,', 'detection_types is waf_rule,', 'detection_types is waf_rule,', 'detection_types is waf_rule,', 'detection_types is waf_rule,', 'detection_types is waf_rule,', 'detection_types is waf_rule,', 'detection_types is waf_rule,', 'detection_types is waf_rule,', 'detection_types is waf_rule,', 'detection_types is waf_rule,', 'detection_types is waf_rule,', 'detection_types is waf_rule,', 'detection_types is waf_rule,', 'detection_types is waf_rule,', 'detection_types is waf_rule,', 'detection_types is waf_rule,', 'detection_types is waf_rule,', 'detection_types is waf_rule,', 'detection_types is waf_rule,', 'detection_types is waf_rule,', 'detection_types is waf_rule,', 'detection_types is waf_rule,', 'detection_types is waf_rule,', 'detection_types is waf_rule,', 'detection_types is waf_rule,', 'detection_types is waf_rule,', 'detection_types is waf_rule,', 'detection_types is waf_rule,', 'detection_types is waf_rule,', 'detection_types is waf_rule,', 'detection_types is waf_rule,', 'detection_types is waf_rule,', 'detection_types is waf_rule,', 'detection_types is waf_rule,', 'detection_types is waf_rule,', 'detection_types is waf_rule,', 'detection_types is waf_rule,', 'detection_types is waf_rule,', 'detection_types is waf_rule,', 'detection_types is waf_rule,', 'detection_types is waf_rule,', 'detection_types is waf_rule,']\n"
     ]
    },
    {
     "name": "stderr",
     "output_type": "stream",
     "text": [
      " 13%|█▎        | 37/282 [01:07<07:53,  1.93s/it]"
     ]
    },
    {
     "name": "stdout",
     "output_type": "stream",
     "text": [
      "['detection_types is waf_rule,', 'detection_types is waf_rule,', 'detection_types is waf_rule,', 'detection_types is waf_rule,', 'detection_types is waf_rule,', 'detection_types is waf_rule,', 'detection_types is waf_rule,', 'detection_types is waf_rule,', 'detection_types is waf_rule,', 'detection_types is waf_rule,', 'detection_types is waf_rule,', 'detection_types is waf_rule,', 'detection_types is waf_rule,', 'detection_types is waf_rule,', 'detection_types is waf_rule,', 'detection_types is waf_rule,', 'detection_types is waf_rule,', 'detection_types is waf_rule,', 'detection_types is waf_rule,', 'detection_types is waf_rule,', 'detection_types is waf_rule,', 'detection_types is waf_rule,', 'detection_types is waf_rule,', 'detection_types is waf_rule,', 'detection_types is waf_rule,', 'detection_types is waf_rule,', 'detection_types is waf_rule,', 'detection_types is waf_rule,', 'detection_types is waf_rule,', 'detection_types is waf_rule,', 'detection_types is waf_rule,', 'detection_types is waf_rule,', 'detection_types is waf_rule,', 'detection_types is waf_rule,', 'detection_types is waf_rule,', 'detection_types is waf_rule,', 'detection_types is waf_rule,', 'detection_types is waf_rule,', 'detection_types is waf_rule,', 'detection_types is waf_rule,', 'detection_types is waf_rule,', 'detection_types is waf_rule,', 'detection_types is waf_rule,', 'detection_types is waf_rule,', 'detection_types is waf_rule,', 'detection_types is waf_rule,', 'detection_types is waf_rule,', 'detection_types is waf_rule,', 'detection_types is waf_rule,', 'detection_types is waf_rule,']\n"
     ]
    },
    {
     "name": "stderr",
     "output_type": "stream",
     "text": [
      " 13%|█▎        | 38/282 [01:10<08:46,  2.16s/it]"
     ]
    },
    {
     "name": "stdout",
     "output_type": "stream",
     "text": [
      "['detection_types is waf_rule,', 'detection_types is waf_rule,', 'detection_types is waf_rule,', 'detection_types is waf_rule,', 'detection_types is waf_rule,', 'detection_types is waf_rule,', 'detection_types is waf_rule,', 'detection_types is waf_rule,', 'detection_types is waf_rule,', 'detection_types is waf_rule,', 'detection_types is waf_rule,', 'detection_types is waf_rule,', 'detection_types is waf_rule,', 'detection_types is waf_rule,', 'detection_types is waf_rule,', 'detection_types is waf_rule,', 'detection_types is waf_rule,', 'detection_types is waf_rule,', 'detection_types is waf_rule,', 'detection_types is waf_rule,', 'detection_types is waf_rule,', 'detection_types is waf_rule,', 'detection_types is waf_rule,', 'detection_types is waf_rule,', 'detection_types is waf_rule,', 'detection_types is waf_rule,', 'detection_types is waf_rule,', 'detection_types is waf_rule,', 'detection_types is waf_rule,', 'detection_types is waf_rule,', 'detection_types is waf_rule,', 'detection_types is waf_rule,', 'detection_types is waf_rule,', 'detection_types is waf_rule,', 'detection_types is waf_rule,', 'detection_types is waf_rule,', 'detection_types is waf_rule,', 'detection_types is waf_rule,', 'detection_types is waf_rule,', 'detection_types is waf_rule,', 'detection_types is waf_rule,', 'detection_types is waf_rule,', 'detection_types is waf_rule,', 'detection_types is waf_rule,', 'detection_types is waf_rule,', 'detection_types is waf_rule,', 'detection_types is waf_rule,', 'detection_types is waf_rule,', 'detection_types is waf_rule,', 'detection_types is waf_rule,']\n"
     ]
    },
    {
     "name": "stderr",
     "output_type": "stream",
     "text": [
      " 14%|█▍        | 40/282 [01:13<07:43,  1.92s/it]"
     ]
    },
    {
     "name": "stdout",
     "output_type": "stream",
     "text": [
      "['detection_types is waf_rule,', 'detection_types is waf_rule,', 'detection_types is waf_rule,', 'detection_types is waf_rule,', 'detection_types is waf_rule,', 'detection_types is waf_rule,', 'detection_types is waf_rule,', 'detection_types is waf_rule,', 'detection_types is waf_rule,', 'detection_types is waf_rule,', 'detection_types is waf_rule,', 'detection_types is waf_rule,', 'detection_types is waf_rule,', 'detection_types is waf_rule,', 'detection_types is waf_rule,', 'detection_types is waf_rule,', 'detection_types is waf_rule,', 'detection_types is waf_rule,', 'detection_types is waf_rule,', 'detection_types is waf_rule,', 'detection_types is waf_rule,', 'detection_types is waf_rule,', 'detection_types is waf_rule,', 'detection_types is waf_rule,', 'detection_types is waf_rule,', 'detection_types is waf_rule,', 'detection_types is waf_rule,', 'detection_types is waf_rule,', 'detection_types is waf_rule,', 'detection_types is waf_rule,', 'detection_types is waf_rule,', 'detection_types is waf_rule,', 'detection_types is waf_rule,', 'detection_types is waf_rule,', 'detection_types is waf_rule,', 'detection_types is waf_rule,', 'detection_types is waf_rule,', 'detection_types is waf_rule,', 'detection_types is waf_rule,', 'detection_types is waf_rule,', 'detection_types is waf_rule,', 'detection_types is waf_rule,', 'detection_types is waf_rule,', 'detection_types is waf_rule,', 'detection_types is waf_rule,', 'detection_types is waf_rule,', 'detection_types is waf_rule,', 'detection_types is waf_rule,', 'detection_types is waf_rule,', 'detection_types is waf_rule,']\n"
     ]
    },
    {
     "name": "stderr",
     "output_type": "stream",
     "text": [
      " 15%|█▍        | 42/282 [01:16<07:02,  1.76s/it]"
     ]
    },
    {
     "name": "stdout",
     "output_type": "stream",
     "text": [
      "['detection_types is waf_rule,', 'detection_types is waf_rule,', 'detection_types is waf_rule,', 'detection_types is waf_rule,', 'detection_types is waf_rule,', 'detection_types is waf_rule,', 'detection_types is waf_rule,', 'detection_types is waf_rule,', 'detection_types is waf_rule,', 'detection_types is waf_rule,', 'detection_types is waf_rule,', 'detection_types is waf_rule,', 'detection_types is waf_rule,', 'detection_types is waf_rule,', 'detection_types is waf_rule,', 'detection_types is waf_rule,', 'detection_types is waf_rule,', 'detection_types is waf_rule,', 'detection_types is waf_rule,', 'detection_types is waf_rule,', 'detection_types is waf_rule,', 'detection_types is waf_rule,', 'detection_types is waf_rule,', 'detection_types is waf_rule,', 'detection_types is waf_rule,', 'detection_types is waf_rule,', 'detection_types is waf_rule,', 'detection_types is waf_rule,', 'detection_types is waf_rule,', 'detection_types is waf_rule,', 'detection_types is waf_rule,', 'detection_types is waf_rule,', 'detection_types is waf_rule,', 'detection_types is waf_rule,', 'detection_types is waf_rule,', 'detection_types is waf_rule,', 'detection_types is waf_rule,', 'detection_types is waf_rule,', 'detection_types is waf_rule,', 'detection_types is waf_rule,', 'detection_types is waf_rule,', 'detection_types is waf_rule,', 'detection_types is waf_rule,', 'detection_types is waf_rule,', 'detection_types is waf_rule,', 'detection_types is waf_rule,', 'detection_types is waf_rule,', 'detection_types is waf_rule,', 'detection_types is waf_rule,', 'detection_types is waf_rule,']\n"
     ]
    },
    {
     "name": "stderr",
     "output_type": "stream",
     "text": [
      " 15%|█▌        | 43/282 [01:19<07:53,  1.98s/it]"
     ]
    },
    {
     "name": "stdout",
     "output_type": "stream",
     "text": [
      "['detection_types is waf_rule,', 'detection_types is waf_rule,', 'detection_types is waf_rule,', 'detection_types is waf_rule,', 'detection_types is waf_rule,', 'detection_types is waf_rule,', 'detection_types is waf_rule,', 'detection_types is waf_rule,', 'detection_types is waf_rule,', 'detection_types is waf_rule,', 'detection_types is waf_rule,', 'detection_types is waf_rule,', 'detection_types is waf_rule,', 'detection_types is waf_rule,', 'detection_types is waf_rule,', 'detection_types is waf_rule,', 'detection_types is waf_rule,', 'detection_types is waf_rule,', 'detection_types is waf_rule,', 'detection_types is waf_rule,', 'detection_types is waf_rule,', 'detection_types is waf_rule,', 'detection_types is waf_rule,', 'detection_types is waf_rule,', 'detection_types is waf_rule,', 'detection_types is waf_rule,', 'detection_types is waf_rule,', 'detection_types is waf_rule,', 'detection_types is waf_rule,', 'detection_types is waf_rule,', 'detection_types is waf_rule,', 'detection_types is waf_rule,', 'detection_types is waf_rule,', 'detection_types is waf_rule,', 'detection_types is waf_rule,', 'detection_types is waf_rule,', 'detection_types is waf_rule,', 'detection_types is waf_rule,', 'detection_types is waf_rule,', 'detection_types is waf_rule,', 'detection_types is waf_rule,', 'detection_types is waf_rule,', 'detection_types is waf_rule,', 'detection_types is waf_rule,', 'detection_types is waf_rule,', 'detection_types is waf_rule,', 'detection_types is waf_rule,', 'detection_types is waf_rule,', 'detection_types is waf_rule,', 'detection_types is waf_rule,']\n"
     ]
    },
    {
     "name": "stderr",
     "output_type": "stream",
     "text": [
      " 16%|█▌        | 44/282 [01:21<08:34,  2.16s/it]"
     ]
    },
    {
     "name": "stdout",
     "output_type": "stream",
     "text": [
      "['detection_types is waf_rule,', 'detection_types is waf_rule,', 'detection_types is waf_rule,', 'detection_types is waf_rule,', 'detection_types is waf_rule,', 'detection_types is waf_rule,', 'detection_types is waf_rule,', 'detection_types is waf_rule,', 'detection_types is waf_rule,', 'detection_types is waf_rule,', 'detection_types is waf_rule,', 'detection_types is waf_rule,', 'detection_types is waf_rule,', 'detection_types is waf_rule,', 'detection_types is waf_rule,', 'detection_types is waf_rule,', 'detection_types is waf_rule,', 'detection_types is waf_rule,', 'detection_types is waf_rule,', 'detection_types is waf_rule,', 'detection_types is waf_rule,', 'detection_types is waf_rule,', 'detection_types is waf_rule,', 'detection_types is waf_rule,', 'detection_types is waf_rule,', 'detection_types is waf_rule,', 'detection_types is waf_rule,', 'detection_types is waf_rule,', 'detection_types is waf_rule,', 'detection_types is waf_rule,', 'detection_types is waf_rule,', 'detection_types is waf_rule,', 'detection_types is waf_rule,', 'detection_types is waf_rule,', 'detection_types is waf_rule,', 'detection_types is waf_rule,', 'detection_types is waf_rule,', 'detection_types is waf_rule,', 'detection_types is waf_rule,', 'detection_types is waf_rule,', 'detection_types is waf_rule,', 'detection_types is waf_rule,', 'detection_types is waf_rule,', 'detection_types is waf_rule,', 'detection_types is waf_rule,', 'detection_types is waf_rule,', 'detection_types is waf_rule,', 'detection_types is waf_rule,', 'detection_types is waf_rule,', 'detection_types is waf_rule,']\n",
      "['detection_types is waf_rule,', 'detection_types is waf_rule,', 'detection_types is waf_rule,', 'detection_types is waf_rule,', 'detection_types is waf_rule,', 'detection_types is waf_rule,', 'detection_types is waf_rule,', 'detection_types is waf_rule,', 'detection_types is waf_rule,', 'detection_types is waf_rule,', 'detection_types is waf_rule,', 'detection_types is waf_rule,', 'detection_types is waf_rule,', 'detection_types is waf_rule,', 'detection_types is waf_rule,', 'detection_types is waf_rule,', 'detection_types is waf_rule,', 'detection_types is waf_rule,', 'detection_types is waf_rule,', 'detection_types is waf_rule,', 'detection_types is waf_rule,', 'detection_types is waf_rule,', 'detection_types is waf_rule,', 'detection_types is waf_rule,', 'detection_types is waf_rule,', 'detection_types is waf_rule,', 'detection_types is waf_rule,', 'detection_types is waf_rule,', 'detection_types is waf_rule,', 'detection_types is waf_rule,', 'detection_types is waf_rule,', 'detection_types is waf_rule,', 'detection_types is waf_rule,', 'detection_types is waf_rule,', 'detection_types is waf_rule,', 'detection_types is waf_rule,', 'detection_types is waf_rule,', 'detection_types is waf_rule,', 'detection_types is waf_rule,', 'detection_types is waf_rule,', 'detection_types is waf_rule,', 'detection_types is waf_rule,', 'detection_types is waf_rule,', 'detection_types is waf_rule,', 'detection_types is waf_rule,', 'detection_types is waf_rule,', 'detection_types is waf_rule,', 'detection_types is waf_rule,', 'detection_types is waf_rule,', 'detection_types is waf_rule,']\n"
     ]
    },
    {
     "name": "stderr",
     "output_type": "stream",
     "text": [
      " 16%|█▌        | 45/282 [01:27<12:06,  3.06s/it]"
     ]
    },
    {
     "name": "stdout",
     "output_type": "stream",
     "text": [
      "['detection_types is waf_rule,', 'detection_types is waf_rule,', 'detection_types is waf_rule,', 'detection_types is waf_rule,', 'detection_types is waf_rule,', 'detection_types is waf_rule,', 'detection_types is waf_rule,', 'detection_types is waf_rule,', 'detection_types is waf_rule,', 'detection_types is waf_rule,', 'detection_types is waf_rule,', 'detection_types is waf_rule,', 'detection_types is waf_rule,', 'detection_types is waf_rule,', 'detection_types is waf_rule,', 'detection_types is waf_rule,', 'detection_types is waf_rule,', 'detection_types is waf_rule,', 'detection_types is waf_rule,', 'detection_types is waf_rule,', 'detection_types is waf_rule,', 'detection_types is waf_rule,', 'detection_types is waf_rule,', 'detection_types is waf_rule,', 'detection_types is waf_rule,', 'detection_types is waf_rule,', 'detection_types is waf_rule,', 'detection_types is waf_rule,', 'detection_types is waf_rule,', 'detection_types is waf_rule,', 'detection_types is waf_rule,', 'detection_types is waf_rule,', 'detection_types is waf_rule,', 'detection_types is waf_rule,', 'detection_types is waf_rule,', 'detection_types is waf_rule,', 'detection_types is waf_rule,', 'detection_types is waf_rule,', 'detection_types is waf_rule,', 'detection_types is waf_rule,', 'detection_types is waf_rule,', 'detection_types is waf_rule,', 'detection_types is waf_rule,', 'detection_types is waf_rule,', 'detection_types is waf_rule,', 'detection_types is waf_rule,', 'detection_types is waf_rule,', 'detection_types is waf_rule,', 'detection_types is waf_rule,', 'detection_types is waf_rule,']\n"
     ]
    },
    {
     "name": "stderr",
     "output_type": "stream",
     "text": [
      " 17%|█▋        | 47/282 [01:30<09:26,  2.41s/it]"
     ]
    },
    {
     "name": "stdout",
     "output_type": "stream",
     "text": [
      "['detection_types is waf_rule,', 'detection_types is waf_rule,', 'detection_types is waf_rule,', 'detection_types is waf_rule,', 'detection_types is waf_rule,', 'detection_types is waf_rule,', 'detection_types is waf_rule,', 'detection_types is waf_rule,', 'detection_types is waf_rule,', 'detection_types is waf_rule,', 'detection_types is waf_rule,', 'detection_types is waf_rule,', 'detection_types is waf_rule,', 'detection_types is waf_rule,', 'detection_types is waf_rule,', 'detection_types is waf_rule,', 'detection_types is waf_rule,', 'detection_types is waf_rule,', 'detection_types is waf_rule,', 'detection_types is waf_rule,', 'detection_types is waf_rule,', 'detection_types is waf_rule,', 'detection_types is waf_rule,', 'detection_types is waf_rule,', 'detection_types is waf_rule,', 'detection_types is waf_rule,', 'detection_types is waf_rule,', 'detection_types is waf_rule,', 'detection_types is waf_rule,', 'detection_types is waf_rule,', 'detection_types is waf_rule,', 'detection_types is waf_rule,', 'detection_types is waf_rule,', 'detection_types is waf_rule,', 'detection_types is waf_rule,', 'detection_types is waf_rule,', 'detection_types is waf_rule,', 'detection_types is waf_rule,', 'detection_types is waf_rule,', 'detection_types is waf_rule,', 'detection_types is waf_rule,', 'detection_types is waf_rule,', 'detection_types is waf_rule,', 'detection_types is waf_rule,', 'detection_types is waf_rule,', 'detection_types is waf_rule,', 'detection_types is waf_rule,', 'detection_types is waf_rule,', 'detection_types is waf_rule,', 'detection_types is waf_rule,']\n",
      "['detection_types is waf_rule,', 'detection_types is waf_rule,', 'detection_types is waf_rule,', 'detection_types is waf_rule,', 'detection_types is waf_rule,', 'detection_types is waf_rule,', 'detection_types is waf_rule,', 'detection_types is waf_rule,', 'detection_types is waf_rule,', 'detection_types is waf_rule,', 'detection_types is waf_rule,', 'detection_types is waf_rule,', 'detection_types is waf_rule,', 'detection_types is waf_rule,', 'detection_types is waf_rule,', 'detection_types is waf_rule,', 'detection_types is waf_rule,', 'detection_types is waf_rule,', 'detection_types is waf_rule,', 'detection_types is waf_rule,', 'detection_types is waf_rule,', 'detection_types is waf_rule,', 'detection_types is waf_rule,', 'detection_types is waf_rule,', 'detection_types is waf_rule,', 'detection_types is waf_rule,', 'detection_types is waf_rule,', 'detection_types is waf_rule,', 'detection_types is waf_rule,', 'detection_types is waf_rule,', 'detection_types is waf_rule,', 'detection_types is waf_rule,', 'detection_types is waf_rule,', 'detection_types is waf_rule,', 'detection_types is waf_rule,', 'detection_types is waf_rule,', 'detection_types is waf_rule,', 'detection_types is waf_rule,', 'detection_types is waf_rule,', 'detection_types is waf_rule,', 'detection_types is waf_rule,', 'detection_types is waf_rule,', 'detection_types is waf_rule,', 'detection_types is waf_rule,', 'detection_types is waf_rule,', 'detection_types is waf_rule,', 'detection_types is waf_rule,', 'detection_types is waf_rule,', 'detection_types is waf_rule,', 'detection_types is waf_rule,']\n"
     ]
    },
    {
     "name": "stderr",
     "output_type": "stream",
     "text": [
      " 17%|█▋        | 48/282 [01:36<12:28,  3.20s/it]"
     ]
    },
    {
     "name": "stdout",
     "output_type": "stream",
     "text": [
      "['detection_types is waf_rule,', 'detection_types is waf_rule,', 'detection_types is waf_rule,', 'detection_types is waf_rule,', 'detection_types is waf_rule,', 'detection_types is waf_rule,', 'detection_types is waf_rule,', 'detection_types is waf_rule,', 'detection_types is waf_rule,', 'detection_types is waf_rule,', 'detection_types is waf_rule,', 'detection_types is waf_rule,', 'detection_types is waf_rule,', 'detection_types is waf_rule,', 'detection_types is waf_rule,', 'detection_types is waf_rule,', 'detection_types is waf_rule,', 'detection_types is waf_rule,', 'detection_types is waf_rule,', 'detection_types is waf_rule,', 'detection_types is waf_rule,', 'detection_types is waf_rule,', 'detection_types is waf_rule,', 'detection_types is waf_rule,', 'detection_types is waf_rule,', 'detection_types is waf_rule,', 'detection_types is waf_rule,', 'detection_types is waf_rule,', 'detection_types is waf_rule,', 'detection_types is waf_rule,', 'detection_types is waf_rule,', 'detection_types is waf_rule,', 'detection_types is waf_rule,', 'detection_types is waf_rule,', 'detection_types is waf_rule,', 'detection_types is waf_rule,', 'detection_types is waf_rule,', 'detection_types is waf_rule,', 'detection_types is waf_rule,', 'detection_types is waf_rule,', 'detection_types is waf_rule,', 'detection_types is waf_rule,', 'detection_types is waf_rule,', 'detection_types is waf_rule,', 'detection_types is waf_rule,', 'detection_types is waf_rule,', 'detection_types is waf_rule,', 'detection_types is waf_rule,', 'detection_types is waf_rule,', 'detection_types is waf_rule,']\n"
     ]
    },
    {
     "name": "stderr",
     "output_type": "stream",
     "text": [
      " 18%|█▊        | 50/282 [01:39<09:46,  2.53s/it]"
     ]
    },
    {
     "name": "stdout",
     "output_type": "stream",
     "text": [
      "['detection_types is waf_rule,', 'detection_types is waf_rule,', 'detection_types is waf_rule,', 'detection_types is waf_rule,', 'detection_types is waf_rule,', 'detection_types is waf_rule,', 'detection_types is waf_rule,', 'detection_types is waf_rule,', 'detection_types is waf_rule,', 'detection_types is waf_rule,', 'detection_types is waf_rule,', 'detection_types is waf_rule,', 'detection_types is waf_rule,', 'detection_types is waf_rule,', 'detection_types is waf_rule,', 'detection_types is waf_rule,', 'detection_types is waf_rule,', 'detection_types is waf_rule,', 'detection_types is waf_rule,', 'detection_types is waf_rule,', 'detection_types is waf_rule,', 'detection_types is waf_rule,', 'detection_types is waf_rule,', 'detection_types is waf_rule,', 'detection_types is waf_rule,', 'detection_types is waf_rule,', 'detection_types is waf_rule,', 'detection_types is waf_rule,', 'detection_types is waf_rule,', 'detection_types is waf_rule,', 'detection_types is waf_rule,', 'detection_types is waf_rule,', 'detection_types is waf_rule,', 'detection_types is waf_rule,', 'detection_types is waf_rule,', 'detection_types is waf_rule,', 'detection_types is waf_rule,', 'detection_types is waf_rule,', 'detection_types is waf_rule,', 'detection_types is waf_rule,', 'detection_types is waf_rule,', 'detection_types is waf_rule,', 'detection_types is waf_rule,', 'detection_types is waf_rule,', 'detection_types is waf_rule,', 'detection_types is waf_rule,', 'detection_types is waf_rule,', 'detection_types is waf_rule,', 'detection_types is waf_rule,', 'detection_types is waf_rule,']\n",
      "['detection_types is waf_rule,', 'detection_types is waf_rule,', 'detection_types is waf_rule,', 'detection_types is waf_rule,', 'detection_types is waf_rule,', 'detection_types is waf_rule,', 'detection_types is waf_rule,', 'detection_types is waf_rule,', 'detection_types is waf_rule,', 'detection_types is waf_rule,', 'detection_types is waf_rule,', 'detection_types is waf_rule,', 'detection_types is waf_rule,', 'detection_types is waf_rule,', 'detection_types is waf_rule,', 'detection_types is waf_rule,', 'detection_types is waf_rule,', 'detection_types is waf_rule,', 'detection_types is waf_rule,', 'detection_types is waf_rule,', 'detection_types is waf_rule,', 'detection_types is waf_rule,', 'detection_types is waf_rule,', 'detection_types is waf_rule,', 'detection_types is waf_rule,', 'detection_types is waf_rule,', 'detection_types is waf_rule,', 'detection_types is waf_rule,', 'detection_types is waf_rule,', 'detection_types is waf_rule,', 'detection_types is waf_rule,', 'detection_types is waf_rule,', 'detection_types is waf_rule,', 'detection_types is waf_rule,', 'detection_types is waf_rule,', 'detection_types is waf_rule,', 'detection_types is waf_rule,', 'detection_types is waf_rule,', 'detection_types is waf_rule,', 'detection_types is waf_rule,', 'detection_types is waf_rule,', 'detection_types is waf_rule,', 'detection_types is waf_rule,', 'detection_types is waf_rule,', 'detection_types is waf_rule,', 'detection_types is waf_rule,', 'detection_types is waf_rule,', 'detection_types is waf_rule,', 'detection_types is waf_rule,', 'detection_types is waf_rule,']\n"
     ]
    },
    {
     "name": "stderr",
     "output_type": "stream",
     "text": [
      " 18%|█▊        | 52/282 [01:45<10:18,  2.69s/it]"
     ]
    },
    {
     "name": "stdout",
     "output_type": "stream",
     "text": [
      "['detection_types is waf_rule,', 'detection_types is waf_rule,', 'detection_types is waf_rule,', 'detection_types is waf_rule,', 'detection_types is waf_rule,', 'detection_types is waf_rule,', 'detection_types is waf_rule,', 'detection_types is waf_rule,', 'detection_types is waf_rule,', 'detection_types is waf_rule,', 'detection_types is waf_rule,', 'detection_types is waf_rule,', 'detection_types is waf_rule,', 'detection_types is waf_rule,', 'detection_types is waf_rule,', 'detection_types is waf_rule,', 'detection_types is waf_rule,', 'detection_types is waf_rule,', 'detection_types is waf_rule,', 'detection_types is waf_rule,', 'detection_types is waf_rule,', 'detection_types is waf_rule,', 'detection_types is waf_rule,', 'detection_types is waf_rule,', 'detection_types is waf_rule,', 'detection_types is waf_rule,', 'detection_types is waf_rule,', 'detection_types is waf_rule,', 'detection_types is waf_rule,', 'detection_types is waf_rule,', 'detection_types is waf_rule,', 'detection_types is waf_rule,', 'detection_types is waf_rule,', 'detection_types is waf_rule,', 'detection_types is waf_rule,', 'detection_types is waf_rule,', 'detection_types is waf_rule,', 'detection_types is waf_rule,', 'detection_types is waf_rule,', 'detection_types is waf_rule,', 'detection_types is waf_rule,', 'detection_types is waf_rule,', 'detection_types is waf_rule,', 'detection_types is waf_rule,', 'detection_types is waf_rule,', 'detection_types is waf_rule,', 'detection_types is waf_rule,', 'detection_types is waf_rule,', 'detection_types is waf_rule,', 'detection_types is waf_rule,']\n"
     ]
    },
    {
     "name": "stderr",
     "output_type": "stream",
     "text": [
      " 19%|█▉        | 53/282 [01:48<10:24,  2.73s/it]"
     ]
    },
    {
     "name": "stdout",
     "output_type": "stream",
     "text": [
      "['detection_types is waf_rule,', 'detection_types is waf_rule,', 'detection_types is waf_rule,', 'detection_types is waf_rule,', 'detection_types is waf_rule,', 'detection_types is waf_rule,', 'detection_types is waf_rule,', 'detection_types is waf_rule,', 'detection_types is waf_rule,', 'detection_types is waf_rule,', 'detection_types is waf_rule,', 'detection_types is waf_rule,', 'detection_types is waf_rule,', 'detection_types is waf_rule,', 'detection_types is waf_rule,', 'detection_types is waf_rule,', 'detection_types is waf_rule,', 'detection_types is waf_rule,', 'detection_types is waf_rule,', 'detection_types is waf_rule,', 'detection_types is waf_rule,', 'detection_types is waf_rule,', 'detection_types is waf_rule,', 'detection_types is waf_rule,', 'detection_types is waf_rule,', 'detection_types is waf_rule,', 'detection_types is waf_rule,', 'detection_types is waf_rule,', 'detection_types is waf_rule,', 'detection_types is waf_rule,', 'detection_types is waf_rule,', 'detection_types is waf_rule,', 'detection_types is waf_rule,', 'detection_types is waf_rule,', 'detection_types is waf_rule,', 'detection_types is waf_rule,', 'detection_types is waf_rule,', 'detection_types is waf_rule,', 'detection_types is waf_rule,', 'detection_types is waf_rule,', 'detection_types is waf_rule,', 'detection_types is waf_rule,', 'detection_types is waf_rule,', 'detection_types is waf_rule,', 'detection_types is waf_rule,', 'detection_types is waf_rule,', 'detection_types is waf_rule,', 'detection_types is waf_rule,', 'detection_types is waf_rule,', 'detection_types is waf_rule,']\n"
     ]
    },
    {
     "name": "stderr",
     "output_type": "stream",
     "text": [
      " 19%|█▉        | 54/282 [01:51<10:30,  2.77s/it]"
     ]
    },
    {
     "name": "stdout",
     "output_type": "stream",
     "text": [
      "['detection_types is waf_rule,', 'detection_types is waf_rule,', 'detection_types is waf_rule,', 'detection_types is waf_rule,', 'detection_types is waf_rule,', 'detection_types is waf_rule,', 'detection_types is waf_rule,', 'detection_types is waf_rule,', 'detection_types is waf_rule,', 'detection_types is waf_rule,', 'detection_types is waf_rule,', 'detection_types is waf_rule,', 'detection_types is waf_rule,', 'detection_types is waf_rule,', 'detection_types is waf_rule,', 'detection_types is waf_rule,', 'detection_types is waf_rule,', 'detection_types is waf_rule,', 'detection_types is waf_rule,', 'detection_types is waf_rule,', 'detection_types is waf_rule,', 'detection_types is waf_rule,', 'detection_types is waf_rule,', 'detection_types is waf_rule,', 'detection_types is waf_rule,', 'detection_types is waf_rule,', 'detection_types is waf_rule,', 'detection_types is waf_rule,', 'detection_types is waf_rule,', 'detection_types is waf_rule,', 'detection_types is waf_rule,', 'detection_types is waf_rule,', 'detection_types is waf_rule,', 'detection_types is waf_rule,', 'detection_types is waf_rule,', 'detection_types is waf_rule,', 'detection_types is waf_rule,', 'detection_types is waf_rule,', 'detection_types is waf_rule,', 'detection_types is waf_rule,', 'detection_types is waf_rule,', 'detection_types is waf_rule,', 'detection_types is waf_rule,', 'detection_types is waf_rule,', 'detection_types is waf_rule,', 'detection_types is waf_rule,', 'detection_types is waf_rule,', 'detection_types is waf_rule,', 'detection_types is waf_rule,', 'detection_types is waf_rule,']\n",
      "['detection_types is waf_rule,', 'detection_types is waf_rule,', 'detection_types is waf_rule,', 'detection_types is waf_rule,', 'detection_types is waf_rule,', 'detection_types is waf_rule,', 'detection_types is waf_rule,', 'detection_types is waf_rule,', 'detection_types is waf_rule,', 'detection_types is waf_rule,', 'detection_types is waf_rule,', 'detection_types is waf_rule,', 'detection_types is waf_rule,', 'detection_types is waf_rule,', 'detection_types is waf_rule,', 'detection_types is waf_rule,', 'detection_types is waf_rule,', 'detection_types is waf_rule,', 'detection_types is waf_rule,', 'detection_types is waf_rule,', 'detection_types is waf_rule,', 'detection_types is waf_rule,', 'detection_types is waf_rule,', 'detection_types is waf_rule,', 'detection_types is waf_rule,', 'detection_types is waf_rule,', 'detection_types is waf_rule,', 'detection_types is waf_rule,', 'detection_types is waf_rule,', 'detection_types is waf_rule,', 'detection_types is waf_rule,', 'detection_types is waf_rule,', 'detection_types is waf_rule,', 'detection_types is waf_rule,', 'detection_types is waf_rule,', 'detection_types is waf_rule,', 'detection_types is waf_rule,', 'detection_types is waf_rule,', 'detection_types is waf_rule,', 'detection_types is waf_rule,', 'detection_types is waf_rule,', 'detection_types is waf_rule,', 'detection_types is waf_rule,', 'detection_types is waf_rule,', 'detection_types is waf_rule,', 'detection_types is waf_rule,', 'detection_types is waf_rule,', 'detection_types is waf_rule,', 'detection_types is waf_rule,', 'detection_types is waf_rule,']\n"
     ]
    },
    {
     "name": "stderr",
     "output_type": "stream",
     "text": [
      " 20%|█▉        | 56/282 [01:57<10:40,  2.83s/it]"
     ]
    },
    {
     "name": "stdout",
     "output_type": "stream",
     "text": [
      "['detection_types is waf_rule,', 'detection_types is waf_rule,', 'detection_types is waf_rule,', 'detection_types is waf_rule,', 'detection_types is waf_rule,', 'detection_types is waf_rule,', 'detection_types is waf_rule,', 'detection_types is waf_rule,', 'detection_types is waf_rule,', 'detection_types is waf_rule,', 'detection_types is waf_rule,', 'detection_types is waf_rule,', 'detection_types is waf_rule,', 'detection_types is waf_rule,', 'detection_types is waf_rule,', 'detection_types is waf_rule,', 'detection_types is waf_rule,', 'detection_types is waf_rule,', 'detection_types is waf_rule,', 'detection_types is waf_rule,', 'detection_types is waf_rule,', 'detection_types is waf_rule,', 'detection_types is waf_rule,', 'detection_types is waf_rule,', 'detection_types is waf_rule,', 'detection_types is waf_rule,', 'detection_types is waf_rule,', 'detection_types is waf_rule,', 'detection_types is waf_rule,', 'detection_types is waf_rule,', 'detection_types is waf_rule,', 'detection_types is waf_rule,', 'detection_types is waf_rule,', 'detection_types is waf_rule,', 'detection_types is waf_rule,', 'detection_types is waf_rule,', 'detection_types is waf_rule,', 'detection_types is waf_rule,', 'detection_types is waf_rule,', 'detection_types is waf_rule,', 'detection_types is waf_rule,', 'detection_types is waf_rule,', 'detection_types is waf_rule,', 'detection_types is waf_rule,', 'detection_types is waf_rule,', 'detection_types is waf_rule,', 'detection_types is waf_rule,', 'detection_types is waf_rule,', 'detection_types is waf_rule,', 'detection_types is waf_rule,']\n",
      "['detection_types is waf_rule,', 'detection_types is waf_rule,', 'detection_types is waf_rule,', 'detection_types is waf_rule,', 'detection_types is waf_rule,', 'detection_types is waf_rule,', 'detection_types is waf_rule,', 'detection_types is waf_rule,', 'detection_types is waf_rule,', 'detection_types is waf_rule,', 'detection_types is waf_rule,', 'detection_types is waf_rule,', 'detection_types is waf_rule,', 'detection_types is waf_rule,', 'detection_types is waf_rule,', 'detection_types is waf_rule,', 'detection_types is waf_rule,', 'detection_types is waf_rule,', 'detection_types is waf_rule,', 'detection_types is waf_rule,', 'detection_types is waf_rule,', 'detection_types is waf_rule,', 'detection_types is waf_rule,', 'detection_types is waf_rule,', 'detection_types is waf_rule,', 'detection_types is waf_rule,', 'detection_types is waf_rule,', 'detection_types is waf_rule,', 'detection_types is waf_rule,', 'detection_types is waf_rule,', 'detection_types is waf_rule,', 'detection_types is waf_rule,', 'detection_types is waf_rule,', 'detection_types is waf_rule,', 'detection_types is waf_rule,', 'detection_types is waf_rule,', 'detection_types is waf_rule,', 'detection_types is waf_rule,', 'detection_types is waf_rule,', 'detection_types is waf_rule,', 'detection_types is waf_rule,', 'detection_types is waf_rule,', 'detection_types is waf_rule,', 'detection_types is waf_rule,', 'detection_types is waf_rule,', 'detection_types is waf_rule,', 'detection_types is waf_rule,', 'detection_types is waf_rule,', 'detection_types is waf_rule,', 'detection_types is waf_rule,']\n"
     ]
    },
    {
     "name": "stderr",
     "output_type": "stream",
     "text": [
      " 21%|██        | 58/282 [02:03<10:44,  2.88s/it]"
     ]
    },
    {
     "name": "stdout",
     "output_type": "stream",
     "text": [
      "['detection_types is waf_rule,', 'detection_types is waf_rule,', 'detection_types is waf_rule,', 'detection_types is waf_rule,', 'detection_types is waf_rule,', 'detection_types is waf_rule,', 'detection_types is waf_rule,', 'detection_types is waf_rule,', 'detection_types is waf_rule,', 'detection_types is waf_rule,', 'detection_types is waf_rule,', 'detection_types is waf_rule,', 'detection_types is waf_rule,', 'detection_types is waf_rule,', 'detection_types is waf_rule,', 'detection_types is waf_rule,', 'detection_types is waf_rule,', 'detection_types is waf_rule,', 'detection_types is waf_rule,', 'detection_types is waf_rule,', 'detection_types is waf_rule,', 'detection_types is waf_rule,', 'detection_types is waf_rule,', 'detection_types is waf_rule,', 'detection_types is waf_rule,', 'detection_types is waf_rule,', 'detection_types is waf_rule,', 'detection_types is waf_rule,', 'detection_types is waf_rule,', 'detection_types is waf_rule,', 'detection_types is waf_rule,', 'detection_types is waf_rule,', 'detection_types is waf_rule,', 'detection_types is waf_rule,', 'detection_types is waf_rule,', 'detection_types is waf_rule,', 'detection_types is waf_rule,', 'detection_types is waf_rule,', 'detection_types is waf_rule,', 'detection_types is waf_rule,', 'detection_types is waf_rule,', 'detection_types is waf_rule,', 'detection_types is waf_rule,', 'detection_types is waf_rule,', 'detection_types is waf_rule,', 'detection_types is waf_rule,', 'detection_types is waf_rule,', 'detection_types is waf_rule,', 'detection_types is waf_rule,', 'detection_types is waf_rule,']\n"
     ]
    },
    {
     "name": "stderr",
     "output_type": "stream",
     "text": [
      " 21%|██        | 59/282 [02:06<10:44,  2.89s/it]"
     ]
    },
    {
     "name": "stdout",
     "output_type": "stream",
     "text": [
      "['detection_types is waf_rule,', 'detection_types is waf_rule,', 'detection_types is waf_rule,', 'detection_types is waf_rule,', 'detection_types is waf_rule,', 'detection_types is waf_rule,', 'detection_types is waf_rule,', 'detection_types is waf_rule,', 'detection_types is waf_rule,', 'detection_types is waf_rule,', 'detection_types is waf_rule,', 'detection_types is waf_rule,', 'detection_types is waf_rule,', 'detection_types is waf_rule,', 'detection_types is waf_rule,', 'detection_types is waf_rule,', 'detection_types is waf_rule,', 'detection_types is waf_rule,', 'detection_types is waf_rule,', 'detection_types is waf_rule,', 'detection_types is waf_rule,', 'detection_types is waf_rule,', 'detection_types is waf_rule,', 'detection_types is waf_rule,', 'detection_types is waf_rule,', 'detection_types is waf_rule,', 'detection_types is waf_rule,', 'detection_types is waf_rule,', 'detection_types is waf_rule,', 'detection_types is waf_rule,', 'detection_types is waf_rule,', 'detection_types is waf_rule,', 'detection_types is waf_rule,', 'detection_types is waf_rule,', 'detection_types is waf_rule,', 'detection_types is waf_rule,', 'detection_types is waf_rule,', 'detection_types is waf_rule,', 'detection_types is waf_rule,', 'detection_types is waf_rule,', 'detection_types is waf_rule,', 'detection_types is waf_rule,', 'detection_types is waf_rule,', 'detection_types is waf_rule,', 'detection_types is waf_rule,', 'detection_types is waf_rule,', 'detection_types is waf_rule,', 'detection_types is waf_rule,', 'detection_types is waf_rule,', 'detection_types is waf_rule,']\n"
     ]
    },
    {
     "name": "stderr",
     "output_type": "stream",
     "text": [
      " 22%|██▏       | 61/282 [02:09<08:49,  2.40s/it]"
     ]
    },
    {
     "name": "stdout",
     "output_type": "stream",
     "text": [
      "['detection_types is waf_rule,', 'detection_types is waf_rule,', 'detection_types is waf_rule,', 'detection_types is waf_rule,', 'detection_types is waf_rule,', 'detection_types is waf_rule,', 'detection_types is waf_rule,', 'detection_types is waf_rule,', 'detection_types is waf_rule,', 'detection_types is waf_rule,', 'detection_types is waf_rule,', 'detection_types is waf_rule,', 'detection_types is waf_rule,', 'detection_types is waf_rule,', 'detection_types is waf_rule,', 'detection_types is waf_rule,', 'detection_types is waf_rule,', 'detection_types is waf_rule,', 'detection_types is waf_rule,', 'detection_types is waf_rule,', 'detection_types is waf_rule,', 'detection_types is waf_rule,', 'detection_types is waf_rule,', 'detection_types is waf_rule,', 'detection_types is waf_rule,', 'detection_types is waf_rule,', 'detection_types is waf_rule,', 'detection_types is waf_rule,', 'detection_types is waf_rule,', 'detection_types is waf_rule,', 'detection_types is waf_rule,', 'detection_types is waf_rule,', 'detection_types is waf_rule,', 'detection_types is waf_rule,', 'detection_types is waf_rule,', 'detection_types is waf_rule,', 'detection_types is waf_rule,', 'detection_types is waf_rule,', 'detection_types is waf_rule,', 'detection_types is waf_rule,', 'detection_types is waf_rule,', 'detection_types is waf_rule,', 'detection_types is waf_rule,', 'detection_types is waf_rule,', 'detection_types is waf_rule,', 'detection_types is waf_rule,', 'detection_types is waf_rule,', 'detection_types is waf_rule,', 'detection_types is waf_rule,', 'detection_types is waf_rule,']\n"
     ]
    },
    {
     "name": "stderr",
     "output_type": "stream",
     "text": [
      " 22%|██▏       | 62/282 [02:12<09:18,  2.54s/it]"
     ]
    },
    {
     "name": "stdout",
     "output_type": "stream",
     "text": [
      "['detection_types is waf_rule,', 'detection_types is waf_rule,', 'detection_types is waf_rule,', 'detection_types is waf_rule,', 'detection_types is waf_rule,', 'detection_types is waf_rule,', 'detection_types is waf_rule,', 'detection_types is waf_rule,', 'detection_types is waf_rule,', 'detection_types is waf_rule,', 'detection_types is waf_rule,', 'detection_types is waf_rule,', 'detection_types is waf_rule,', 'detection_types is waf_rule,', 'detection_types is waf_rule,', 'detection_types is waf_rule,', 'detection_types is waf_rule,', 'detection_types is waf_rule,', 'detection_types is waf_rule,', 'detection_types is waf_rule,', 'detection_types is waf_rule,', 'detection_types is waf_rule,', 'detection_types is waf_rule,', 'detection_types is waf_rule,', 'detection_types is waf_rule,', 'detection_types is waf_rule,', 'detection_types is waf_rule,', 'detection_types is waf_rule,', 'detection_types is waf_rule,', 'detection_types is waf_rule,', 'detection_types is waf_rule,', 'detection_types is waf_rule,', 'detection_types is waf_rule,', 'detection_types is waf_rule,', 'detection_types is waf_rule,', 'detection_types is waf_rule,', 'detection_types is waf_rule,', 'detection_types is waf_rule,', 'detection_types is waf_rule,', 'detection_types is waf_rule,', 'detection_types is waf_rule,', 'detection_types is waf_rule,', 'detection_types is waf_rule,', 'detection_types is waf_rule,', 'detection_types is waf_rule,', 'detection_types is waf_rule,', 'detection_types is waf_rule,', 'detection_types is waf_rule,', 'detection_types is waf_rule,', 'detection_types is waf_rule,']\n"
     ]
    },
    {
     "name": "stderr",
     "output_type": "stream",
     "text": [
      " 22%|██▏       | 63/282 [02:15<09:38,  2.64s/it]"
     ]
    },
    {
     "name": "stdout",
     "output_type": "stream",
     "text": [
      "['detection_types is waf_rule,', 'detection_types is waf_rule,', 'detection_types is waf_rule,', 'detection_types is waf_rule,', 'detection_types is waf_rule,', 'detection_types is waf_rule,', 'detection_types is waf_rule,', 'detection_types is waf_rule,', 'detection_types is waf_rule,', 'detection_types is waf_rule,', 'detection_types is waf_rule,', 'detection_types is waf_rule,', 'detection_types is waf_rule,', 'detection_types is waf_rule,', 'detection_types is waf_rule,', 'detection_types is waf_rule,', 'detection_types is waf_rule,', 'detection_types is waf_rule,', 'detection_types is waf_rule,', 'detection_types is waf_rule,', 'detection_types is waf_rule,', 'detection_types is waf_rule,', 'detection_types is waf_rule,', 'detection_types is waf_rule,', 'detection_types is waf_rule,', 'detection_types is waf_rule,', 'detection_types is waf_rule,', 'detection_types is waf_rule,', 'detection_types is waf_rule,', 'detection_types is waf_rule,', 'detection_types is waf_rule,', 'detection_types is waf_rule,', 'detection_types is waf_rule,', 'detection_types is waf_rule,', 'detection_types is waf_rule,', 'detection_types is waf_rule,', 'detection_types is waf_rule,', 'detection_types is waf_rule,', 'detection_types is waf_rule,', 'detection_types is waf_rule,', 'detection_types is waf_rule,', 'detection_types is waf_rule,', 'detection_types is waf_rule,', 'detection_types is waf_rule,', 'detection_types is waf_rule,', 'detection_types is waf_rule,', 'detection_types is waf_rule,', 'detection_types is waf_rule,', 'detection_types is waf_rule,', 'detection_types is waf_rule,']\n",
      "['detection_types is waf_rule,', 'detection_types is waf_rule,', 'detection_types is waf_rule,', 'detection_types is waf_rule,', 'detection_types is waf_rule,', 'detection_types is waf_rule,', 'detection_types is waf_rule,', 'detection_types is waf_rule,', 'detection_types is waf_rule,', 'detection_types is waf_rule,', 'detection_types is waf_rule,', 'detection_types is waf_rule,', 'detection_types is waf_rule,', 'detection_types is waf_rule,', 'detection_types is waf_rule,', 'detection_types is waf_rule,', 'detection_types is waf_rule,', 'detection_types is waf_rule,', 'detection_types is waf_rule,', 'detection_types is waf_rule,', 'detection_types is waf_rule,', 'detection_types is waf_rule,', 'detection_types is waf_rule,', 'detection_types is waf_rule,', 'detection_types is waf_rule,', 'detection_types is waf_rule,', 'detection_types is waf_rule,', 'detection_types is waf_rule,', 'detection_types is waf_rule,', 'detection_types is waf_rule,', 'detection_types is waf_rule,', 'detection_types is waf_rule,', 'detection_types is waf_rule,', 'detection_types is waf_rule,', 'detection_types is waf_rule,', 'detection_types is waf_rule,', 'detection_types is waf_rule,', 'detection_types is waf_rule,', 'detection_types is waf_rule,', 'detection_types is waf_rule,', 'detection_types is waf_rule,', 'detection_types is waf_rule,', 'detection_types is waf_rule,', 'detection_types is waf_rule,', 'detection_types is waf_rule,', 'detection_types is waf_rule,', 'detection_types is waf_rule,', 'detection_types is waf_rule,', 'detection_types is waf_rule,', 'detection_types is waf_rule,']\n",
      "['detection_types is waf_rule,', 'detection_types is waf_rule,', 'detection_types is waf_rule,', 'detection_types is waf_rule,', 'detection_types is waf_rule,', 'detection_types is waf_rule,', 'detection_types is waf_rule,', 'detection_types is waf_rule,', 'detection_types is waf_rule,', 'detection_types is waf_rule,', 'detection_types is waf_rule,', 'detection_types is waf_rule,', 'detection_types is waf_rule,', 'detection_types is waf_rule,', 'detection_types is waf_rule,', 'detection_types is waf_rule,', 'detection_types is waf_rule,', 'detection_types is waf_rule,', 'detection_types is waf_rule,', 'detection_types is waf_rule,', 'detection_types is waf_rule,', 'detection_types is waf_rule,', 'detection_types is waf_rule,', 'detection_types is waf_rule,', 'detection_types is waf_rule,', 'detection_types is waf_rule,', 'detection_types is waf_rule,', 'detection_types is waf_rule,', 'detection_types is waf_rule,', 'detection_types is waf_rule,', 'detection_types is waf_rule,', 'detection_types is waf_rule,', 'detection_types is waf_rule,', 'detection_types is waf_rule,', 'detection_types is waf_rule,', 'detection_types is waf_rule,', 'detection_types is waf_rule,', 'detection_types is waf_rule,', 'detection_types is waf_rule,', 'detection_types is waf_rule,', 'detection_types is waf_rule,', 'detection_types is waf_rule,', 'detection_types is waf_rule,', 'detection_types is waf_rule,', 'detection_types is waf_rule,', 'detection_types is waf_rule,', 'detection_types is waf_rule,', 'detection_types is waf_rule,', 'detection_types is waf_rule,', 'detection_types is waf_rule,']\n"
     ]
    },
    {
     "name": "stderr",
     "output_type": "stream",
     "text": [
      " 23%|██▎       | 64/282 [02:24<15:08,  4.17s/it]"
     ]
    },
    {
     "name": "stdout",
     "output_type": "stream",
     "text": [
      "['detection_types is waf_rule,', 'detection_types is waf_rule,', 'detection_types is waf_rule,', 'detection_types is waf_rule,', 'detection_types is waf_rule,', 'detection_types is waf_rule,', 'detection_types is waf_rule,', 'detection_types is waf_rule,', 'detection_types is waf_rule,', 'detection_types is waf_rule,', 'detection_types is waf_rule,', 'detection_types is waf_rule,', 'detection_types is waf_rule,', 'detection_types is waf_rule,', 'detection_types is waf_rule,', 'detection_types is waf_rule,', 'detection_types is waf_rule,', 'detection_types is waf_rule,', 'detection_types is waf_rule,', 'detection_types is waf_rule,', 'detection_types is waf_rule,', 'detection_types is waf_rule,', 'detection_types is waf_rule,', 'detection_types is waf_rule,', 'detection_types is waf_rule,', 'detection_types is waf_rule,', 'detection_types is waf_rule,', 'detection_types is waf_rule,', 'detection_types is waf_rule,', 'detection_types is waf_rule,', 'detection_types is waf_rule,', 'detection_types is waf_rule,', 'detection_types is waf_rule,', 'detection_types is waf_rule,', 'detection_types is waf_rule,', 'detection_types is waf_rule,', 'detection_types is waf_rule,', 'detection_types is waf_rule,', 'detection_types is waf_rule,', 'detection_types is waf_rule,', 'detection_types is waf_rule,', 'detection_types is waf_rule,', 'detection_types is waf_rule,', 'detection_types is waf_rule,', 'detection_types is waf_rule,', 'detection_types is waf_rule,', 'detection_types is waf_rule,', 'detection_types is waf_rule,', 'detection_types is waf_rule,', 'detection_types is waf_rule,']\n",
      "['detection_types is waf_rule,', 'detection_types is waf_rule,', 'detection_types is waf_rule,', 'detection_types is waf_rule,', 'detection_types is waf_rule,', 'detection_types is waf_rule,', 'detection_types is waf_rule,', 'detection_types is waf_rule,', 'detection_types is waf_rule,', 'detection_types is waf_rule,', 'detection_types is waf_rule,', 'detection_types is waf_rule,', 'detection_types is waf_rule,', 'detection_types is waf_rule,', 'detection_types is waf_rule,', 'detection_types is waf_rule,', 'detection_types is waf_rule,', 'detection_types is waf_rule,', 'detection_types is waf_rule,', 'detection_types is waf_rule,', 'detection_types is waf_rule,', 'detection_types is waf_rule,', 'detection_types is waf_rule,', 'detection_types is waf_rule,', 'detection_types is waf_rule,', 'detection_types is waf_rule,', 'detection_types is waf_rule,', 'detection_types is waf_rule,', 'detection_types is waf_rule,', 'detection_types is waf_rule,', 'detection_types is waf_rule,', 'detection_types is waf_rule,', 'detection_types is waf_rule,', 'detection_types is waf_rule,', 'detection_types is waf_rule,', 'detection_types is waf_rule,', 'detection_types is waf_rule,', 'detection_types is waf_rule,', 'detection_types is waf_rule,', 'detection_types is waf_rule,', 'detection_types is waf_rule,', 'detection_types is waf_rule,', 'detection_types is waf_rule,', 'detection_types is waf_rule,', 'detection_types is waf_rule,', 'detection_types is waf_rule,', 'detection_types is waf_rule,', 'detection_types is waf_rule,', 'detection_types is waf_rule,', 'detection_types is waf_rule,']\n"
     ]
    },
    {
     "name": "stderr",
     "output_type": "stream",
     "text": [
      " 23%|██▎       | 65/282 [02:29<16:33,  4.58s/it]"
     ]
    },
    {
     "name": "stdout",
     "output_type": "stream",
     "text": [
      "['detection_types is waf_rule,', 'detection_types is waf_rule,', 'detection_types is waf_rule,', 'detection_types is waf_rule,', 'detection_types is waf_rule,', 'detection_types is waf_rule,', 'detection_types is waf_rule,', 'detection_types is waf_rule,', 'detection_types is waf_rule,', 'detection_types is waf_rule,', 'detection_types is waf_rule,', 'detection_types is waf_rule,', 'detection_types is waf_rule,', 'detection_types is waf_rule,', 'detection_types is waf_rule,', 'detection_types is waf_rule,', 'detection_types is waf_rule,', 'detection_types is waf_rule,', 'detection_types is waf_rule,', 'detection_types is waf_rule,', 'detection_types is waf_rule,', 'detection_types is waf_rule,', 'detection_types is waf_rule,', 'detection_types is waf_rule,', 'detection_types is waf_rule,', 'detection_types is waf_rule,', 'detection_types is waf_rule,', 'detection_types is waf_rule,', 'detection_types is waf_rule,', 'detection_types is waf_rule,', 'detection_types is waf_rule,', 'detection_types is waf_rule,', 'detection_types is waf_rule,', 'detection_types is waf_rule,', 'detection_types is waf_rule,', 'detection_types is waf_rule,', 'detection_types is waf_rule,', 'detection_types is waf_rule,', 'detection_types is waf_rule,', 'detection_types is waf_rule,', 'detection_types is waf_rule,', 'detection_types is waf_rule,', 'detection_types is waf_rule,', 'detection_types is waf_rule,', 'detection_types is waf_rule,', 'detection_types is waf_rule,', 'detection_types is waf_rule,', 'detection_types is waf_rule,', 'detection_types is waf_rule,', 'detection_types is waf_rule,']\n"
     ]
    },
    {
     "name": "stderr",
     "output_type": "stream",
     "text": [
      " 23%|██▎       | 66/282 [02:32<14:49,  4.12s/it]"
     ]
    },
    {
     "name": "stdout",
     "output_type": "stream",
     "text": [
      "['detection_types is waf_rule,', 'detection_types is waf_rule,', 'detection_types is waf_rule,', 'detection_types is waf_rule,', 'detection_types is waf_rule,', 'detection_types is waf_rule,', 'detection_types is waf_rule,', 'detection_types is waf_rule,', 'detection_types is waf_rule,', 'detection_types is waf_rule,', 'detection_types is waf_rule,', 'detection_types is waf_rule,', 'detection_types is waf_rule,', 'detection_types is waf_rule,', 'detection_types is waf_rule,', 'detection_types is waf_rule,', 'detection_types is waf_rule,', 'detection_types is waf_rule,', 'detection_types is waf_rule,', 'detection_types is waf_rule,', 'detection_types is waf_rule,', 'detection_types is waf_rule,', 'detection_types is waf_rule,', 'detection_types is waf_rule,', 'detection_types is waf_rule,', 'detection_types is waf_rule,', 'detection_types is waf_rule,', 'detection_types is waf_rule,', 'detection_types is waf_rule,', 'detection_types is waf_rule,', 'detection_types is waf_rule,', 'detection_types is waf_rule,', 'detection_types is waf_rule,', 'detection_types is waf_rule,', 'detection_types is waf_rule,', 'detection_types is waf_rule,', 'detection_types is waf_rule,', 'detection_types is waf_rule,', 'detection_types is waf_rule,', 'detection_types is waf_rule,', 'detection_types is waf_rule,', 'detection_types is waf_rule,', 'detection_types is waf_rule,', 'detection_types is waf_rule,', 'detection_types is waf_rule,', 'detection_types is waf_rule,', 'detection_types is waf_rule,', 'detection_types is waf_rule,', 'detection_types is waf_rule,', 'detection_types is waf_rule,']\n"
     ]
    },
    {
     "name": "stderr",
     "output_type": "stream",
     "text": [
      " 24%|██▍       | 67/282 [02:35<13:34,  3.79s/it]"
     ]
    },
    {
     "name": "stdout",
     "output_type": "stream",
     "text": [
      "['detection_types is waf_rule,', 'detection_types is waf_rule,', 'detection_types is waf_rule,', 'detection_types is waf_rule,', 'detection_types is waf_rule,', 'detection_types is waf_rule,', 'detection_types is waf_rule,', 'detection_types is waf_rule,', 'detection_types is waf_rule,', 'detection_types is waf_rule,', 'detection_types is waf_rule,', 'detection_types is waf_rule,', 'detection_types is waf_rule,', 'detection_types is waf_rule,', 'detection_types is waf_rule,', 'detection_types is waf_rule,', 'detection_types is waf_rule,', 'detection_types is waf_rule,', 'detection_types is waf_rule,', 'detection_types is waf_rule,', 'detection_types is waf_rule,', 'detection_types is waf_rule,', 'detection_types is waf_rule,', 'detection_types is waf_rule,', 'detection_types is waf_rule,', 'detection_types is waf_rule,', 'detection_types is waf_rule,', 'detection_types is waf_rule,', 'detection_types is waf_rule,', 'detection_types is waf_rule,', 'detection_types is waf_rule,', 'detection_types is waf_rule,', 'detection_types is waf_rule,', 'detection_types is waf_rule,', 'detection_types is waf_rule,', 'detection_types is waf_rule,', 'detection_types is waf_rule,', 'detection_types is waf_rule,', 'detection_types is waf_rule,', 'detection_types is waf_rule,', 'detection_types is waf_rule,', 'detection_types is waf_rule,', 'detection_types is waf_rule,', 'detection_types is waf_rule,', 'detection_types is waf_rule,', 'detection_types is waf_rule,', 'detection_types is waf_rule,', 'detection_types is waf_rule,', 'detection_types is waf_rule,', 'detection_types is waf_rule,']\n"
     ]
    },
    {
     "name": "stderr",
     "output_type": "stream",
     "text": [
      " 24%|██▍       | 69/282 [02:38<09:57,  2.81s/it]"
     ]
    },
    {
     "name": "stdout",
     "output_type": "stream",
     "text": [
      "['detection_types is waf_rule,', 'detection_types is waf_rule,', 'detection_types is waf_rule,', 'detection_types is waf_rule,', 'detection_types is waf_rule,', 'detection_types is waf_rule,', 'detection_types is waf_rule,', 'detection_types is waf_rule,', 'detection_types is waf_rule,', 'detection_types is waf_rule,', 'detection_types is waf_rule,', 'detection_types is waf_rule,', 'detection_types is waf_rule,', 'detection_types is waf_rule,', 'detection_types is waf_rule,', 'detection_types is waf_rule,', 'detection_types is waf_rule,', 'detection_types is waf_rule,', 'detection_types is waf_rule,', 'detection_types is waf_rule,', 'detection_types is waf_rule,', 'detection_types is waf_rule,', 'detection_types is waf_rule,', 'detection_types is waf_rule,', 'detection_types is waf_rule,', 'detection_types is waf_rule,', 'detection_types is waf_rule,', 'detection_types is waf_rule,', 'detection_types is waf_rule,', 'detection_types is waf_rule,', 'detection_types is waf_rule,', 'detection_types is waf_rule,', 'detection_types is waf_rule,', 'detection_types is waf_rule,', 'detection_types is waf_rule,', 'detection_types is waf_rule,', 'detection_types is waf_rule,', 'detection_types is waf_rule,', 'detection_types is waf_rule,', 'detection_types is waf_rule,', 'detection_types is waf_rule,', 'detection_types is waf_rule,', 'detection_types is waf_rule,', 'detection_types is waf_rule,', 'detection_types is waf_rule,', 'detection_types is waf_rule,', 'detection_types is waf_rule,', 'detection_types is waf_rule,', 'detection_types is waf_rule,', 'detection_types is waf_rule,']\n",
      "['detection_types is waf_rule,', 'detection_types is waf_rule,', 'detection_types is waf_rule,', 'detection_types is waf_rule,', 'detection_types is waf_rule,', 'detection_types is waf_rule,', 'detection_types is waf_rule,', 'detection_types is waf_rule,', 'detection_types is waf_rule,', 'detection_types is waf_rule,', 'detection_types is waf_rule,', 'detection_types is waf_rule,', 'detection_types is waf_rule,', 'detection_types is waf_rule,', 'detection_types is waf_rule,', 'detection_types is waf_rule,', 'detection_types is waf_rule,', 'detection_types is waf_rule,', 'detection_types is waf_rule,', 'detection_types is waf_rule,', 'detection_types is waf_rule,', 'detection_types is waf_rule,', 'detection_types is waf_rule,', 'detection_types is waf_rule,', 'detection_types is waf_rule,', 'detection_types is waf_rule,', 'detection_types is waf_rule,', 'detection_types is waf_rule,', 'detection_types is waf_rule,', 'detection_types is waf_rule,', 'detection_types is waf_rule,', 'detection_types is waf_rule,', 'detection_types is waf_rule,', 'detection_types is waf_rule,', 'detection_types is waf_rule,', 'detection_types is waf_rule,', 'detection_types is waf_rule,', 'detection_types is waf_rule,', 'detection_types is waf_rule,', 'detection_types is waf_rule,', 'detection_types is waf_rule,', 'detection_types is waf_rule,', 'detection_types is waf_rule,', 'detection_types is waf_rule,', 'detection_types is waf_rule,', 'detection_types is waf_rule,', 'detection_types is waf_rule,', 'detection_types is waf_rule,', 'detection_types is waf_rule,', 'detection_types is waf_rule,']\n"
     ]
    },
    {
     "name": "stderr",
     "output_type": "stream",
     "text": [
      " 25%|██▍       | 70/282 [02:46<13:41,  3.87s/it]"
     ]
    },
    {
     "name": "stdout",
     "output_type": "stream",
     "text": [
      "['detection_types is waf_rule,', 'detection_types is waf_rule,', 'detection_types is waf_rule,', 'detection_types is waf_rule,', 'detection_types is waf_rule,', 'detection_types is waf_rule,', 'detection_types is waf_rule,', 'detection_types is waf_rule,', 'detection_types is waf_rule,', 'detection_types is waf_rule,', 'detection_types is waf_rule,', 'detection_types is waf_rule,', 'detection_types is waf_rule,', 'detection_types is waf_rule,', 'detection_types is waf_rule,', 'detection_types is waf_rule,', 'detection_types is waf_rule,', 'detection_types is waf_rule,', 'detection_types is waf_rule,', 'detection_types is waf_rule,', 'detection_types is waf_rule,', 'detection_types is waf_rule,', 'detection_types is waf_rule,', 'detection_types is waf_rule,', 'detection_types is waf_rule,', 'detection_types is waf_rule,', 'detection_types is waf_rule,', 'detection_types is waf_rule,', 'detection_types is waf_rule,', 'detection_types is waf_rule,', 'detection_types is waf_rule,', 'detection_types is waf_rule,', 'detection_types is waf_rule,', 'detection_types is waf_rule,', 'detection_types is waf_rule,', 'detection_types is waf_rule,', 'detection_types is waf_rule,', 'detection_types is waf_rule,', 'detection_types is waf_rule,', 'detection_types is waf_rule,', 'detection_types is waf_rule,', 'detection_types is waf_rule,', 'detection_types is waf_rule,', 'detection_types is waf_rule,', 'detection_types is waf_rule,', 'detection_types is waf_rule,', 'detection_types is waf_rule,', 'detection_types is waf_rule,', 'detection_types is waf_rule,', 'detection_types is waf_rule,']\n"
     ]
    },
    {
     "name": "stderr",
     "output_type": "stream",
     "text": [
      " 25%|██▌       | 71/282 [02:50<14:14,  4.05s/it]"
     ]
    },
    {
     "name": "stdout",
     "output_type": "stream",
     "text": [
      "['detection_types is waf_rule,', 'detection_types is waf_rule,', 'detection_types is waf_rule,', 'detection_types is waf_rule,', 'detection_types is waf_rule,', 'detection_types is waf_rule,', 'detection_types is waf_rule,', 'detection_types is waf_rule,', 'detection_types is waf_rule,', 'detection_types is waf_rule,', 'detection_types is waf_rule,', 'detection_types is waf_rule,', 'detection_types is waf_rule,', 'detection_types is waf_rule,', 'detection_types is waf_rule,', 'detection_types is waf_rule,', 'detection_types is waf_rule,', 'detection_types is waf_rule,', 'detection_types is waf_rule,', 'detection_types is waf_rule,', 'detection_types is waf_rule,', 'detection_types is waf_rule,', 'detection_types is waf_rule,', 'detection_types is waf_rule,', 'detection_types is waf_rule,', 'detection_types is waf_rule,', 'detection_types is waf_rule,', 'detection_types is waf_rule,', 'detection_types is waf_rule,', 'detection_types is waf_rule,', 'detection_types is waf_rule,', 'detection_types is waf_rule,', 'detection_types is waf_rule,', 'detection_types is waf_rule,', 'detection_types is waf_rule,', 'detection_types is waf_rule,', 'detection_types is waf_rule,', 'detection_types is waf_rule,', 'detection_types is waf_rule,', 'detection_types is waf_rule,', 'detection_types is waf_rule,', 'detection_types is waf_rule,', 'detection_types is waf_rule,', 'detection_types is waf_rule,', 'detection_types is waf_rule,', 'detection_types is waf_rule,', 'detection_types is waf_rule,', 'detection_types is waf_rule,', 'detection_types is waf_rule,', 'detection_types is waf_rule,']\n",
      "['detection_types is waf_rule,', 'detection_types is waf_rule,', 'detection_types is waf_rule,', 'detection_types is waf_rule,', 'detection_types is waf_rule,', 'detection_types is waf_rule,', 'detection_types is waf_rule,', 'detection_types is waf_rule,', 'detection_types is waf_rule,', 'detection_types is waf_rule,', 'detection_types is waf_rule,', 'detection_types is waf_rule,', 'detection_types is waf_rule,', 'detection_types is waf_rule,', 'detection_types is waf_rule,', 'detection_types is waf_rule,', 'detection_types is waf_rule,', 'detection_types is waf_rule,', 'detection_types is waf_rule,', 'detection_types is waf_rule,', 'detection_types is waf_rule,', 'detection_types is waf_rule,', 'detection_types is waf_rule,', 'detection_types is waf_rule,', 'detection_types is waf_rule,', 'detection_types is waf_rule,', 'detection_types is waf_rule,', 'detection_types is waf_rule,', 'detection_types is waf_rule,', 'detection_types is waf_rule,', 'detection_types is waf_rule,', 'detection_types is waf_rule,', 'detection_types is waf_rule,', 'detection_types is waf_rule,', 'detection_types is waf_rule,', 'detection_types is waf_rule,', 'detection_types is waf_rule,', 'detection_types is waf_rule,', 'detection_types is waf_rule,', 'detection_types is waf_rule,', 'detection_types is waf_rule,', 'detection_types is waf_rule,', 'detection_types is waf_rule,', 'detection_types is waf_rule,', 'detection_types is waf_rule,', 'detection_types is waf_rule,', 'detection_types is waf_rule,', 'detection_types is waf_rule,', 'detection_types is waf_rule,', 'detection_types is waf_rule,']\n"
     ]
    },
    {
     "name": "stderr",
     "output_type": "stream",
     "text": [
      " 26%|██▌       | 73/282 [02:59<14:49,  4.25s/it]"
     ]
    },
    {
     "name": "stdout",
     "output_type": "stream",
     "text": [
      "['detection_types is waf_rule,', 'detection_types is waf_rule,', 'detection_types is waf_rule,', 'detection_types is waf_rule,', 'detection_types is waf_rule,', 'detection_types is waf_rule,', 'detection_types is waf_rule,', 'detection_types is waf_rule,', 'detection_types is waf_rule,', 'detection_types is waf_rule,', 'detection_types is waf_rule,', 'detection_types is waf_rule,', 'detection_types is waf_rule,', 'detection_types is waf_rule,', 'detection_types is waf_rule,', 'detection_types is waf_rule,', 'detection_types is waf_rule,', 'detection_types is waf_rule,', 'detection_types is waf_rule,', 'detection_types is waf_rule,', 'detection_types is waf_rule,', 'detection_types is waf_rule,', 'detection_types is waf_rule,', 'detection_types is waf_rule,', 'detection_types is waf_rule,', 'detection_types is waf_rule,', 'detection_types is waf_rule,', 'detection_types is waf_rule,', 'detection_types is waf_rule,', 'detection_types is waf_rule,', 'detection_types is waf_rule,', 'detection_types is waf_rule,', 'detection_types is waf_rule,', 'detection_types is waf_rule,', 'detection_types is waf_rule,', 'detection_types is waf_rule,', 'detection_types is waf_rule,', 'detection_types is waf_rule,', 'detection_types is waf_rule,', 'detection_types is waf_rule,', 'detection_types is waf_rule,', 'detection_types is waf_rule,', 'detection_types is waf_rule,', 'detection_types is waf_rule,', 'detection_types is waf_rule,', 'detection_types is waf_rule,', 'detection_types is waf_rule,', 'detection_types is waf_rule,', 'detection_types is waf_rule,', 'detection_types is waf_rule,']\n"
     ]
    },
    {
     "name": "stderr",
     "output_type": "stream",
     "text": [
      " 27%|██▋       | 76/282 [03:04<10:20,  3.01s/it]"
     ]
    },
    {
     "name": "stdout",
     "output_type": "stream",
     "text": [
      "['detection_types is waf_rule,', 'detection_types is waf_rule,', 'detection_types is waf_rule,', 'detection_types is waf_rule,', 'detection_types is waf_rule,', 'detection_types is waf_rule,', 'detection_types is waf_rule,', 'detection_types is waf_rule,', 'detection_types is waf_rule,', 'detection_types is waf_rule,', 'detection_types is waf_rule,', 'detection_types is waf_rule,', 'detection_types is waf_rule,', 'detection_types is waf_rule,', 'detection_types is waf_rule,', 'detection_types is waf_rule,', 'detection_types is waf_rule,', 'detection_types is waf_rule,', 'detection_types is waf_rule,', 'detection_types is waf_rule,', 'detection_types is waf_rule,', 'detection_types is waf_rule,', 'detection_types is waf_rule,', 'detection_types is waf_rule,', 'detection_types is waf_rule,', 'detection_types is waf_rule,', 'detection_types is waf_rule,', 'detection_types is waf_rule,', 'detection_types is waf_rule,', 'detection_types is waf_rule,', 'detection_types is waf_rule,', 'detection_types is waf_rule,', 'detection_types is waf_rule,', 'detection_types is waf_rule,', 'detection_types is waf_rule,', 'detection_types is waf_rule,', 'detection_types is waf_rule,', 'detection_types is waf_rule,', 'detection_types is waf_rule,', 'detection_types is waf_rule,', 'detection_types is waf_rule,', 'detection_types is waf_rule,', 'detection_types is waf_rule,', 'detection_types is waf_rule,', 'detection_types is waf_rule,', 'detection_types is waf_rule,', 'detection_types is waf_rule,', 'detection_types is waf_rule,', 'detection_types is waf_rule,', 'detection_types is waf_rule,']\n",
      "['detection_types is waf_rule,', 'detection_types is waf_rule,', 'detection_types is waf_rule,', 'detection_types is waf_rule,', 'detection_types is waf_rule,', 'detection_types is waf_rule,', 'detection_types is waf_rule,', 'detection_types is waf_rule,', 'detection_types is waf_rule,', 'detection_types is waf_rule,', 'detection_types is waf_rule,', 'detection_types is waf_rule,', 'detection_types is waf_rule,', 'detection_types is waf_rule,', 'detection_types is waf_rule,', 'detection_types is waf_rule,', 'detection_types is waf_rule,', 'detection_types is waf_rule,', 'detection_types is waf_rule,', 'detection_types is waf_rule,', 'detection_types is waf_rule,', 'detection_types is waf_rule,', 'detection_types is waf_rule,', 'detection_types is waf_rule,', 'detection_types is waf_rule,', 'detection_types is waf_rule,', 'detection_types is waf_rule,', 'detection_types is waf_rule,', 'detection_types is waf_rule,', 'detection_types is waf_rule,', 'detection_types is waf_rule,', 'detection_types is waf_rule,', 'detection_types is waf_rule,', 'detection_types is waf_rule,', 'detection_types is waf_rule,', 'detection_types is waf_rule,', 'detection_types is waf_rule,', 'detection_types is waf_rule,', 'detection_types is waf_rule,', 'detection_types is waf_rule,', 'detection_types is waf_rule,', 'detection_types is waf_rule,', 'detection_types is waf_rule,', 'detection_types is waf_rule,', 'detection_types is waf_rule,', 'detection_types is waf_rule,', 'detection_types is waf_rule,', 'detection_types is waf_rule,', 'detection_types is waf_rule,', 'detection_types is waf_rule,']\n"
     ]
    },
    {
     "name": "stderr",
     "output_type": "stream",
     "text": [
      " 28%|██▊       | 78/282 [03:13<11:55,  3.51s/it]"
     ]
    },
    {
     "name": "stdout",
     "output_type": "stream",
     "text": [
      "['detection_types is waf_rule,', 'detection_types is waf_rule,', 'detection_types is waf_rule,', 'detection_types is waf_rule,', 'detection_types is waf_rule,', 'detection_types is waf_rule,', 'detection_types is waf_rule,', 'detection_types is waf_rule,', 'detection_types is waf_rule,', 'detection_types is waf_rule,', 'detection_types is waf_rule,', 'detection_types is waf_rule,', 'detection_types is waf_rule,', 'detection_types is waf_rule,', 'detection_types is waf_rule,', 'detection_types is waf_rule,', 'detection_types is waf_rule,', 'detection_types is waf_rule,', 'detection_types is waf_rule,', 'detection_types is waf_rule,', 'detection_types is waf_rule,', 'detection_types is waf_rule,', 'detection_types is waf_rule,', 'detection_types is waf_rule,', 'detection_types is waf_rule,', 'detection_types is waf_rule,', 'detection_types is waf_rule,', 'detection_types is waf_rule,', 'detection_types is waf_rule,', 'detection_types is waf_rule,', 'detection_types is waf_rule,', 'detection_types is waf_rule,', 'detection_types is waf_rule,', 'detection_types is waf_rule,', 'detection_types is waf_rule,', 'detection_types is waf_rule,', 'detection_types is waf_rule,', 'detection_types is waf_rule,', 'detection_types is waf_rule,', 'detection_types is waf_rule,', 'detection_types is waf_rule,', 'detection_types is waf_rule,', 'detection_types is waf_rule,', 'detection_types is waf_rule,', 'detection_types is waf_rule,', 'detection_types is waf_rule,', 'detection_types is waf_rule,', 'detection_types is waf_rule,', 'detection_types is waf_rule,', 'detection_types is waf_rule,']\n"
     ]
    },
    {
     "name": "stderr",
     "output_type": "stream",
     "text": [
      " 28%|██▊       | 79/282 [03:18<12:29,  3.69s/it]"
     ]
    },
    {
     "name": "stdout",
     "output_type": "stream",
     "text": [
      "['detection_types is waf_rule,', 'detection_types is waf_rule,', 'detection_types is waf_rule,', 'detection_types is waf_rule,', 'detection_types is waf_rule,', 'detection_types is waf_rule,', 'detection_types is waf_rule,', 'detection_types is waf_rule,', 'detection_types is waf_rule,', 'detection_types is waf_rule,', 'detection_types is waf_rule,', 'detection_types is waf_rule,', 'detection_types is waf_rule,', 'detection_types is waf_rule,', 'detection_types is waf_rule,', 'detection_types is waf_rule,', 'detection_types is waf_rule,', 'detection_types is waf_rule,', 'detection_types is waf_rule,', 'detection_types is waf_rule,', 'detection_types is waf_rule,', 'detection_types is waf_rule,', 'detection_types is waf_rule,', 'detection_types is waf_rule,', 'detection_types is waf_rule,', 'detection_types is waf_rule,', 'detection_types is waf_rule,', 'detection_types is waf_rule,', 'detection_types is waf_rule,', 'detection_types is waf_rule,', 'detection_types is waf_rule,', 'detection_types is waf_rule,', 'detection_types is waf_rule,', 'detection_types is waf_rule,', 'detection_types is waf_rule,', 'detection_types is waf_rule,', 'detection_types is waf_rule,', 'detection_types is waf_rule,', 'detection_types is waf_rule,', 'detection_types is waf_rule,', 'detection_types is waf_rule,', 'detection_types is waf_rule,', 'detection_types is waf_rule,', 'detection_types is waf_rule,', 'detection_types is waf_rule,', 'detection_types is waf_rule,', 'detection_types is waf_rule,', 'detection_types is waf_rule,', 'detection_types is waf_rule,', 'detection_types is waf_rule,']\n"
     ]
    },
    {
     "name": "stderr",
     "output_type": "stream",
     "text": [
      " 28%|██▊       | 80/282 [03:22<13:04,  3.88s/it]"
     ]
    },
    {
     "name": "stdout",
     "output_type": "stream",
     "text": [
      "['detection_types is waf_rule,', 'detection_types is waf_rule,', 'detection_types is waf_rule,', 'detection_types is waf_rule,', 'detection_types is waf_rule,', 'detection_types is waf_rule,', 'detection_types is waf_rule,', 'detection_types is waf_rule,', 'detection_types is waf_rule,', 'detection_types is waf_rule,', 'detection_types is waf_rule,', 'detection_types is waf_rule,', 'detection_types is waf_rule,', 'detection_types is waf_rule,', 'detection_types is waf_rule,', 'detection_types is waf_rule,', 'detection_types is waf_rule,', 'detection_types is waf_rule,', 'detection_types is waf_rule,', 'detection_types is waf_rule,', 'detection_types is waf_rule,', 'detection_types is waf_rule,', 'detection_types is waf_rule,', 'detection_types is waf_rule,', 'detection_types is waf_rule,', 'detection_types is waf_rule,', 'detection_types is waf_rule,', 'detection_types is waf_rule,', 'detection_types is waf_rule,', 'detection_types is waf_rule,', 'detection_types is waf_rule,', 'detection_types is waf_rule,', 'detection_types is waf_rule,', 'detection_types is waf_rule,', 'detection_types is waf_rule,', 'detection_types is waf_rule,', 'detection_types is waf_rule,', 'detection_types is waf_rule,', 'detection_types is waf_rule,', 'detection_types is waf_rule,', 'detection_types is waf_rule,', 'detection_types is waf_rule,', 'detection_types is waf_rule,', 'detection_types is waf_rule,', 'detection_types is waf_rule,', 'detection_types is waf_rule,', 'detection_types is waf_rule,', 'detection_types is waf_rule,', 'detection_types is waf_rule,', 'detection_types is waf_rule,']\n"
     ]
    },
    {
     "name": "stderr",
     "output_type": "stream",
     "text": [
      " 30%|██▉       | 84/282 [03:27<07:59,  2.42s/it]"
     ]
    },
    {
     "name": "stdout",
     "output_type": "stream",
     "text": [
      "['detection_types is waf_rule,', 'detection_types is waf_rule,', 'detection_types is waf_rule,', 'detection_types is waf_rule,', 'detection_types is waf_rule,', 'detection_types is waf_rule,', 'detection_types is waf_rule,', 'detection_types is waf_rule,', 'detection_types is waf_rule,', 'detection_types is waf_rule,', 'detection_types is waf_rule,', 'detection_types is waf_rule,', 'detection_types is waf_rule,', 'detection_types is waf_rule,', 'detection_types is waf_rule,', 'detection_types is waf_rule,', 'detection_types is waf_rule,', 'detection_types is waf_rule,', 'detection_types is waf_rule,', 'detection_types is waf_rule,', 'detection_types is waf_rule,', 'detection_types is waf_rule,', 'detection_types is waf_rule,', 'detection_types is waf_rule,', 'detection_types is waf_rule,', 'detection_types is waf_rule,', 'detection_types is waf_rule,', 'detection_types is waf_rule,', 'detection_types is waf_rule,', 'detection_types is waf_rule,', 'detection_types is waf_rule,', 'detection_types is waf_rule,', 'detection_types is waf_rule,', 'detection_types is waf_rule,', 'detection_types is waf_rule,', 'detection_types is waf_rule,', 'detection_types is waf_rule,', 'detection_types is waf_rule,', 'detection_types is waf_rule,', 'detection_types is waf_rule,', 'detection_types is waf_rule,', 'detection_types is waf_rule,', 'detection_types is waf_rule,', 'detection_types is waf_rule,', 'detection_types is waf_rule,', 'detection_types is waf_rule,', 'detection_types is waf_rule,', 'detection_types is waf_rule,', 'detection_types is waf_rule,', 'detection_types is waf_rule,']\n",
      "['detection_types is waf_rule,', 'detection_types is waf_rule,', 'detection_types is waf_rule,', 'detection_types is waf_rule,', 'detection_types is waf_rule,', 'detection_types is waf_rule,', 'detection_types is waf_rule,', 'detection_types is waf_rule,', 'detection_types is waf_rule,', 'detection_types is waf_rule,', 'detection_types is waf_rule,', 'detection_types is waf_rule,', 'detection_types is waf_rule,', 'detection_types is waf_rule,', 'detection_types is waf_rule,', 'detection_types is waf_rule,', 'detection_types is waf_rule,', 'detection_types is waf_rule,', 'detection_types is waf_rule,', 'detection_types is waf_rule,', 'detection_types is waf_rule,', 'detection_types is waf_rule,', 'detection_types is waf_rule,', 'detection_types is waf_rule,', 'detection_types is waf_rule,', 'detection_types is waf_rule,', 'detection_types is waf_rule,', 'detection_types is waf_rule,', 'detection_types is waf_rule,', 'detection_types is waf_rule,', 'detection_types is waf_rule,', 'detection_types is waf_rule,', 'detection_types is waf_rule,', 'detection_types is waf_rule,', 'detection_types is waf_rule,', 'detection_types is waf_rule,', 'detection_types is waf_rule,', 'detection_types is waf_rule,', 'detection_types is waf_rule,', 'detection_types is waf_rule,', 'detection_types is waf_rule,', 'detection_types is waf_rule,', 'detection_types is waf_rule,', 'detection_types is waf_rule,', 'detection_types is waf_rule,', 'detection_types is waf_rule,', 'detection_types is waf_rule,', 'detection_types is waf_rule,', 'detection_types is waf_rule,', 'detection_types is waf_rule,']\n"
     ]
    },
    {
     "name": "stderr",
     "output_type": "stream",
     "text": [
      " 30%|███       | 86/282 [03:36<09:52,  3.02s/it]"
     ]
    },
    {
     "name": "stdout",
     "output_type": "stream",
     "text": [
      "['detection_types is waf_rule,', 'detection_types is waf_rule,', 'detection_types is waf_rule,', 'detection_types is waf_rule,', 'detection_types is waf_rule,', 'detection_types is waf_rule,', 'detection_types is waf_rule,', 'detection_types is waf_rule,', 'detection_types is waf_rule,', 'detection_types is waf_rule,', 'detection_types is waf_rule,', 'detection_types is waf_rule,', 'detection_types is waf_rule,', 'detection_types is waf_rule,', 'detection_types is waf_rule,', 'detection_types is waf_rule,', 'detection_types is waf_rule,', 'detection_types is waf_rule,', 'detection_types is waf_rule,', 'detection_types is waf_rule,', 'detection_types is waf_rule,', 'detection_types is waf_rule,', 'detection_types is waf_rule,', 'detection_types is waf_rule,', 'detection_types is waf_rule,', 'detection_types is waf_rule,', 'detection_types is waf_rule,', 'detection_types is waf_rule,', 'detection_types is waf_rule,', 'detection_types is waf_rule,', 'detection_types is waf_rule,', 'detection_types is waf_rule,', 'detection_types is waf_rule,', 'detection_types is waf_rule,', 'detection_types is waf_rule,', 'detection_types is waf_rule,', 'detection_types is waf_rule,', 'detection_types is waf_rule,', 'detection_types is waf_rule,', 'detection_types is waf_rule,', 'detection_types is waf_rule,', 'detection_types is waf_rule,', 'detection_types is waf_rule,', 'detection_types is waf_rule,', 'detection_types is waf_rule,', 'detection_types is waf_rule,', 'detection_types is waf_rule,', 'detection_types is waf_rule,', 'detection_types is waf_rule,', 'detection_types is waf_rule,']\n",
      "['detection_types is waf_rule,', 'detection_types is waf_rule,', 'detection_types is waf_rule,', 'detection_types is waf_rule,', 'detection_types is waf_rule,', 'detection_types is waf_rule,', 'detection_types is waf_rule,', 'detection_types is waf_rule,', 'detection_types is waf_rule,', 'detection_types is waf_rule,', 'detection_types is waf_rule,', 'detection_types is waf_rule,', 'detection_types is waf_rule,', 'detection_types is waf_rule,', 'detection_types is waf_rule,', 'detection_types is waf_rule,', 'detection_types is waf_rule,', 'detection_types is waf_rule,', 'detection_types is waf_rule,', 'detection_types is waf_rule,', 'detection_types is waf_rule,', 'detection_types is waf_rule,', 'detection_types is waf_rule,', 'detection_types is waf_rule,', 'detection_types is waf_rule,', 'detection_types is waf_rule,', 'detection_types is waf_rule,', 'detection_types is waf_rule,', 'detection_types is waf_rule,', 'detection_types is waf_rule,', 'detection_types is waf_rule,', 'detection_types is waf_rule,', 'detection_types is waf_rule,', 'detection_types is waf_rule,', 'detection_types is waf_rule,', 'detection_types is waf_rule,', 'detection_types is waf_rule,', 'detection_types is waf_rule,', 'detection_types is waf_rule,', 'detection_types is waf_rule,', 'detection_types is waf_rule,', 'detection_types is waf_rule,', 'detection_types is waf_rule,', 'detection_types is waf_rule,', 'detection_types is waf_rule,', 'detection_types is waf_rule,', 'detection_types is waf_rule,', 'detection_types is waf_rule,', 'detection_types is waf_rule,', 'detection_types is waf_rule,']\n",
      "['detection_types is waf_rule,', 'detection_types is waf_rule,', 'detection_types is waf_rule,', 'detection_types is waf_rule,', 'detection_types is waf_rule,', 'detection_types is waf_rule,', 'detection_types is waf_rule,', 'detection_types is waf_rule,', 'detection_types is waf_rule,', 'detection_types is waf_rule,', 'detection_types is waf_rule,', 'detection_types is waf_rule,', 'detection_types is waf_rule,', 'detection_types is waf_rule,', 'detection_types is waf_rule,', 'detection_types is waf_rule,', 'detection_types is waf_rule,', 'detection_types is waf_rule,', 'detection_types is waf_rule,', 'detection_types is waf_rule,', 'detection_types is waf_rule,', 'detection_types is waf_rule,', 'detection_types is waf_rule,', 'detection_types is waf_rule,', 'detection_types is waf_rule,', 'detection_types is waf_rule,', 'detection_types is waf_rule,', 'detection_types is waf_rule,', 'detection_types is waf_rule,', 'detection_types is waf_rule,', 'detection_types is waf_rule,', 'detection_types is waf_rule,', 'detection_types is waf_rule,', 'detection_types is waf_rule,', 'detection_types is waf_rule,', 'detection_types is waf_rule,', 'detection_types is waf_rule,', 'detection_types is waf_rule,', 'detection_types is waf_rule,', 'detection_types is waf_rule,', 'detection_types is waf_rule,', 'detection_types is waf_rule,', 'detection_types is waf_rule,', 'detection_types is waf_rule,', 'detection_types is waf_rule,', 'detection_types is waf_rule,', 'detection_types is waf_rule,', 'detection_types is waf_rule,', 'detection_types is waf_rule,', 'detection_types is waf_rule,']\n"
     ]
    },
    {
     "name": "stderr",
     "output_type": "stream",
     "text": [
      " 32%|███▏      | 89/282 [03:50<11:37,  3.61s/it]"
     ]
    },
    {
     "name": "stdout",
     "output_type": "stream",
     "text": [
      "['detection_types is waf_rule,', 'detection_types is waf_rule,', 'detection_types is waf_rule,', 'detection_types is waf_rule,', 'detection_types is waf_rule,', 'detection_types is waf_rule,', 'detection_types is waf_rule,', 'detection_types is waf_rule,', 'detection_types is waf_rule,', 'detection_types is waf_rule,', 'detection_types is waf_rule,', 'detection_types is waf_rule,', 'detection_types is waf_rule,', 'detection_types is waf_rule,', 'detection_types is waf_rule,', 'detection_types is waf_rule,', 'detection_types is waf_rule,', 'detection_types is waf_rule,', 'detection_types is waf_rule,', 'detection_types is waf_rule,', 'detection_types is waf_rule,', 'detection_types is waf_rule,', 'detection_types is waf_rule,', 'detection_types is waf_rule,', 'detection_types is waf_rule,', 'detection_types is waf_rule,', 'detection_types is waf_rule,', 'detection_types is waf_rule,', 'detection_types is waf_rule,', 'detection_types is waf_rule,', 'detection_types is waf_rule,', 'detection_types is waf_rule,', 'detection_types is waf_rule,', 'detection_types is waf_rule,', 'detection_types is waf_rule,', 'detection_types is waf_rule,', 'detection_types is waf_rule,', 'detection_types is waf_rule,', 'detection_types is waf_rule,', 'detection_types is waf_rule,', 'detection_types is waf_rule,', 'detection_types is waf_rule,', 'detection_types is waf_rule,', 'detection_types is waf_rule,', 'detection_types is waf_rule,', 'detection_types is waf_rule,', 'detection_types is waf_rule,', 'detection_types is waf_rule,', 'detection_types is waf_rule,', 'detection_types is waf_rule,']\n"
     ]
    },
    {
     "name": "stderr",
     "output_type": "stream",
     "text": [
      " 32%|███▏      | 90/282 [03:55<11:59,  3.75s/it]"
     ]
    },
    {
     "name": "stdout",
     "output_type": "stream",
     "text": [
      "['detection_types is waf_rule,', 'detection_types is waf_rule,', 'detection_types is waf_rule,', 'detection_types is waf_rule,', 'detection_types is waf_rule,', 'detection_types is waf_rule,', 'detection_types is waf_rule,', 'detection_types is waf_rule,', 'detection_types is waf_rule,', 'detection_types is waf_rule,', 'detection_types is waf_rule,', 'detection_types is waf_rule,', 'detection_types is waf_rule,', 'detection_types is waf_rule,', 'detection_types is waf_rule,', 'detection_types is waf_rule,', 'detection_types is waf_rule,', 'detection_types is waf_rule,', 'detection_types is waf_rule,', 'detection_types is waf_rule,', 'detection_types is waf_rule,', 'detection_types is waf_rule,', 'detection_types is waf_rule,', 'detection_types is waf_rule,', 'detection_types is waf_rule,', 'detection_types is waf_rule,', 'detection_types is waf_rule,', 'detection_types is waf_rule,', 'detection_types is waf_rule,', 'detection_types is waf_rule,', 'detection_types is waf_rule,', 'detection_types is waf_rule,', 'detection_types is waf_rule,', 'detection_types is waf_rule,', 'detection_types is waf_rule,', 'detection_types is waf_rule,', 'detection_types is waf_rule,', 'detection_types is waf_rule,', 'detection_types is waf_rule,', 'detection_types is waf_rule,', 'detection_types is waf_rule,', 'detection_types is waf_rule,', 'detection_types is waf_rule,', 'detection_types is waf_rule,', 'detection_types is waf_rule,', 'detection_types is waf_rule,', 'detection_types is waf_rule,', 'detection_types is waf_rule,', 'detection_types is waf_rule,', 'detection_types is waf_rule,']\n",
      "['detection_types is waf_rule,', 'detection_types is waf_rule,', 'detection_types is waf_rule,', 'detection_types is waf_rule,', 'detection_types is waf_rule,', 'detection_types is waf_rule,', 'detection_types is waf_rule,', 'detection_types is waf_rule,', 'detection_types is waf_rule,', 'detection_types is waf_rule,', 'detection_types is waf_rule,', 'detection_types is waf_rule,', 'detection_types is waf_rule,', 'detection_types is waf_rule,', 'detection_types is waf_rule,', 'detection_types is waf_rule,', 'detection_types is waf_rule,', 'detection_types is waf_rule,', 'detection_types is waf_rule,', 'detection_types is waf_rule,', 'detection_types is waf_rule,', 'detection_types is waf_rule,', 'detection_types is waf_rule,', 'detection_types is waf_rule,', 'detection_types is waf_rule,', 'detection_types is waf_rule,', 'detection_types is waf_rule,', 'detection_types is waf_rule,', 'detection_types is waf_rule,', 'detection_types is waf_rule,', 'detection_types is waf_rule,', 'detection_types is waf_rule,', 'detection_types is waf_rule,', 'detection_types is waf_rule,', 'detection_types is waf_rule,', 'detection_types is waf_rule,', 'detection_types is waf_rule,', 'detection_types is waf_rule,', 'detection_types is waf_rule,', 'detection_types is waf_rule,', 'detection_types is waf_rule,', 'detection_types is waf_rule,', 'detection_types is waf_rule,', 'detection_types is waf_rule,', 'detection_types is waf_rule,', 'detection_types is waf_rule,', 'detection_types is waf_rule,', 'detection_types is waf_rule,', 'detection_types is waf_rule,', 'detection_types is waf_rule,']\n"
     ]
    },
    {
     "name": "stderr",
     "output_type": "stream",
     "text": [
      " 32%|███▏      | 91/282 [04:04<15:02,  4.72s/it]"
     ]
    },
    {
     "name": "stdout",
     "output_type": "stream",
     "text": [
      "['detection_types is waf_rule,', 'detection_types is waf_rule,', 'detection_types is waf_rule,', 'detection_types is waf_rule,', 'detection_types is waf_rule,', 'detection_types is waf_rule,', 'detection_types is waf_rule,', 'detection_types is waf_rule,', 'detection_types is waf_rule,', 'detection_types is waf_rule,', 'detection_types is waf_rule,', 'detection_types is waf_rule,', 'detection_types is waf_rule,', 'detection_types is waf_rule,', 'detection_types is waf_rule,', 'detection_types is waf_rule,', 'detection_types is waf_rule,', 'detection_types is waf_rule,', 'detection_types is waf_rule,', 'detection_types is waf_rule,', 'detection_types is waf_rule,', 'detection_types is waf_rule,', 'detection_types is waf_rule,', 'detection_types is waf_rule,', 'detection_types is waf_rule,', 'detection_types is waf_rule,', 'detection_types is waf_rule,', 'detection_types is waf_rule,', 'detection_types is waf_rule,', 'detection_types is waf_rule,', 'detection_types is waf_rule,', 'detection_types is waf_rule,', 'detection_types is waf_rule,', 'detection_types is waf_rule,', 'detection_types is waf_rule,', 'detection_types is waf_rule,', 'detection_types is waf_rule,', 'detection_types is waf_rule,', 'detection_types is waf_rule,', 'detection_types is waf_rule,', 'detection_types is waf_rule,', 'detection_types is waf_rule,', 'detection_types is waf_rule,', 'detection_types is waf_rule,', 'detection_types is waf_rule,', 'detection_types is waf_rule,', 'detection_types is waf_rule,', 'detection_types is waf_rule,', 'detection_types is waf_rule,', 'detection_types is waf_rule,']\n"
     ]
    },
    {
     "name": "stderr",
     "output_type": "stream",
     "text": [
      " 33%|███▎      | 93/282 [04:09<12:20,  3.92s/it]"
     ]
    },
    {
     "name": "stdout",
     "output_type": "stream",
     "text": [
      "['detection_types is waf_rule,', 'detection_types is waf_rule,', 'detection_types is waf_rule,', 'detection_types is waf_rule,', 'detection_types is waf_rule,', 'detection_types is waf_rule,', 'detection_types is waf_rule,', 'detection_types is waf_rule,', 'detection_types is waf_rule,', 'detection_types is waf_rule,', 'detection_types is waf_rule,', 'detection_types is waf_rule,', 'detection_types is waf_rule,', 'detection_types is waf_rule,', 'detection_types is waf_rule,', 'detection_types is waf_rule,', 'detection_types is waf_rule,', 'detection_types is waf_rule,', 'detection_types is waf_rule,', 'detection_types is waf_rule,', 'detection_types is waf_rule,', 'detection_types is waf_rule,', 'detection_types is waf_rule,', 'detection_types is waf_rule,', 'detection_types is waf_rule,', 'detection_types is waf_rule,', 'detection_types is waf_rule,', 'detection_types is waf_rule,', 'detection_types is waf_rule,', 'detection_types is waf_rule,', 'detection_types is waf_rule,', 'detection_types is waf_rule,', 'detection_types is waf_rule,', 'detection_types is waf_rule,', 'detection_types is waf_rule,', 'detection_types is waf_rule,', 'detection_types is waf_rule,', 'detection_types is waf_rule,', 'detection_types is waf_rule,', 'detection_types is waf_rule,', 'detection_types is waf_rule,', 'detection_types is waf_rule,', 'detection_types is waf_rule,', 'detection_types is waf_rule,', 'detection_types is waf_rule,', 'detection_types is waf_rule,', 'detection_types is waf_rule,', 'detection_types is waf_rule,', 'detection_types is waf_rule,', 'detection_types is waf_rule,']\n"
     ]
    },
    {
     "name": "stderr",
     "output_type": "stream",
     "text": [
      " 33%|███▎      | 94/282 [04:13<12:41,  4.05s/it]"
     ]
    },
    {
     "name": "stdout",
     "output_type": "stream",
     "text": [
      "['detection_types is waf_rule,', 'detection_types is waf_rule,', 'detection_types is waf_rule,', 'detection_types is waf_rule,', 'detection_types is waf_rule,', 'detection_types is waf_rule,', 'detection_types is waf_rule,', 'detection_types is waf_rule,', 'detection_types is waf_rule,', 'detection_types is waf_rule,', 'detection_types is waf_rule,', 'detection_types is waf_rule,', 'detection_types is waf_rule,', 'detection_types is waf_rule,', 'detection_types is waf_rule,', 'detection_types is waf_rule,', 'detection_types is waf_rule,', 'detection_types is waf_rule,', 'detection_types is waf_rule,', 'detection_types is waf_rule,', 'detection_types is waf_rule,', 'detection_types is waf_rule,', 'detection_types is waf_rule,', 'detection_types is waf_rule,', 'detection_types is waf_rule,', 'detection_types is waf_rule,', 'detection_types is waf_rule,', 'detection_types is waf_rule,', 'detection_types is waf_rule,', 'detection_types is waf_rule,', 'detection_types is waf_rule,', 'detection_types is waf_rule,', 'detection_types is waf_rule,', 'detection_types is waf_rule,', 'detection_types is waf_rule,', 'detection_types is waf_rule,', 'detection_types is waf_rule,', 'detection_types is waf_rule,', 'detection_types is waf_rule,', 'detection_types is waf_rule,', 'detection_types is waf_rule,', 'detection_types is waf_rule,', 'detection_types is waf_rule,', 'detection_types is waf_rule,', 'detection_types is waf_rule,', 'detection_types is waf_rule,', 'detection_types is waf_rule,', 'detection_types is waf_rule,', 'detection_types is waf_rule,', 'detection_types is waf_rule,']\n",
      "['detection_types is waf_rule,', 'detection_types is waf_rule,', 'detection_types is waf_rule,', 'detection_types is waf_rule,', 'detection_types is waf_rule,', 'detection_types is waf_rule,', 'detection_types is waf_rule,', 'detection_types is waf_rule,', 'detection_types is waf_rule,', 'detection_types is waf_rule,', 'detection_types is waf_rule,', 'detection_types is waf_rule,', 'detection_types is waf_rule,', 'detection_types is waf_rule,', 'detection_types is waf_rule,', 'detection_types is waf_rule,', 'detection_types is waf_rule,', 'detection_types is waf_rule,', 'detection_types is waf_rule,', 'detection_types is waf_rule,', 'detection_types is waf_rule,', 'detection_types is waf_rule,', 'detection_types is waf_rule,', 'detection_types is waf_rule,', 'detection_types is waf_rule,', 'detection_types is waf_rule,', 'detection_types is waf_rule,', 'detection_types is waf_rule,', 'detection_types is waf_rule,', 'detection_types is waf_rule,', 'detection_types is waf_rule,', 'detection_types is waf_rule,', 'detection_types is waf_rule,', 'detection_types is waf_rule,', 'detection_types is waf_rule,', 'detection_types is waf_rule,', 'detection_types is waf_rule,', 'detection_types is waf_rule,', 'detection_types is waf_rule,', 'detection_types is waf_rule,', 'detection_types is waf_rule,', 'detection_types is waf_rule,', 'detection_types is waf_rule,', 'detection_types is waf_rule,', 'detection_types is waf_rule,', 'detection_types is waf_rule,', 'detection_types is waf_rule,', 'detection_types is waf_rule,', 'detection_types is waf_rule,', 'detection_types is waf_rule,']\n"
     ]
    },
    {
     "name": "stderr",
     "output_type": "stream",
     "text": [
      " 34%|███▎      | 95/282 [04:22<16:01,  5.14s/it]"
     ]
    },
    {
     "name": "stdout",
     "output_type": "stream",
     "text": [
      "['detection_types is waf_rule,', 'detection_types is waf_rule,', 'detection_types is waf_rule,', 'detection_types is waf_rule,', 'detection_types is waf_rule,', 'detection_types is waf_rule,', 'detection_types is waf_rule,', 'detection_types is waf_rule,', 'detection_types is waf_rule,', 'detection_types is waf_rule,', 'detection_types is waf_rule,', 'detection_types is waf_rule,', 'detection_types is waf_rule,', 'detection_types is waf_rule,', 'detection_types is waf_rule,', 'detection_types is waf_rule,', 'detection_types is waf_rule,', 'detection_types is waf_rule,', 'detection_types is waf_rule,', 'detection_types is waf_rule,', 'detection_types is waf_rule,', 'detection_types is waf_rule,', 'detection_types is waf_rule,', 'detection_types is waf_rule,', 'detection_types is waf_rule,', 'detection_types is waf_rule,', 'detection_types is waf_rule,', 'detection_types is waf_rule,', 'detection_types is waf_rule,', 'detection_types is waf_rule,', 'detection_types is waf_rule,', 'detection_types is waf_rule,', 'detection_types is waf_rule,', 'detection_types is waf_rule,', 'detection_types is waf_rule,', 'detection_types is waf_rule,', 'detection_types is waf_rule,', 'detection_types is waf_rule,', 'detection_types is waf_rule,', 'detection_types is waf_rule,', 'detection_types is waf_rule,', 'detection_types is waf_rule,', 'detection_types is waf_rule,', 'detection_types is waf_rule,', 'detection_types is waf_rule,', 'detection_types is waf_rule,', 'detection_types is waf_rule,', 'detection_types is waf_rule,', 'detection_types is waf_rule,', 'detection_types is waf_rule,']\n",
      "['detection_types is waf_rule,', 'detection_types is waf_rule,', 'detection_types is waf_rule,', 'detection_types is waf_rule,', 'detection_types is waf_rule,', 'detection_types is waf_rule,', 'detection_types is waf_rule,', 'detection_types is waf_rule,', 'detection_types is waf_rule,', 'detection_types is waf_rule,', 'detection_types is waf_rule,', 'detection_types is waf_rule,', 'detection_types is waf_rule,', 'detection_types is waf_rule,', 'detection_types is waf_rule,', 'detection_types is waf_rule,', 'detection_types is waf_rule,', 'detection_types is waf_rule,', 'detection_types is waf_rule,', 'detection_types is waf_rule,', 'detection_types is waf_rule,', 'detection_types is waf_rule,', 'detection_types is waf_rule,', 'detection_types is waf_rule,', 'detection_types is waf_rule,', 'detection_types is waf_rule,', 'detection_types is waf_rule,', 'detection_types is waf_rule,', 'detection_types is waf_rule,', 'detection_types is waf_rule,', 'detection_types is waf_rule,', 'detection_types is waf_rule,', 'detection_types is waf_rule,', 'detection_types is waf_rule,', 'detection_types is waf_rule,', 'detection_types is waf_rule,', 'detection_types is waf_rule,', 'detection_types is waf_rule,', 'detection_types is waf_rule,', 'detection_types is waf_rule,', 'detection_types is waf_rule,', 'detection_types is waf_rule,', 'detection_types is waf_rule,', 'detection_types is waf_rule,', 'detection_types is waf_rule,', 'detection_types is waf_rule,', 'detection_types is waf_rule,', 'detection_types is waf_rule,', 'detection_types is waf_rule,', 'detection_types is waf_rule,']\n"
     ]
    },
    {
     "name": "stderr",
     "output_type": "stream",
     "text": [
      " 34%|███▍      | 97/282 [04:31<14:57,  4.85s/it]"
     ]
    },
    {
     "name": "stdout",
     "output_type": "stream",
     "text": [
      "['detection_types is waf_rule,', 'detection_types is waf_rule,', 'detection_types is waf_rule,', 'detection_types is waf_rule,', 'detection_types is waf_rule,', 'detection_types is waf_rule,', 'detection_types is waf_rule,', 'detection_types is waf_rule,', 'detection_types is waf_rule,', 'detection_types is waf_rule,', 'detection_types is waf_rule,', 'detection_types is waf_rule,', 'detection_types is waf_rule,', 'detection_types is waf_rule,', 'detection_types is waf_rule,', 'detection_types is waf_rule,', 'detection_types is waf_rule,', 'detection_types is waf_rule,', 'detection_types is waf_rule,', 'detection_types is waf_rule,', 'detection_types is waf_rule,', 'detection_types is waf_rule,', 'detection_types is waf_rule,', 'detection_types is waf_rule,', 'detection_types is waf_rule,', 'detection_types is waf_rule,', 'detection_types is waf_rule,', 'detection_types is waf_rule,', 'detection_types is waf_rule,', 'detection_types is waf_rule,', 'detection_types is waf_rule,', 'detection_types is waf_rule,', 'detection_types is waf_rule,', 'detection_types is waf_rule,', 'detection_types is waf_rule,', 'detection_types is waf_rule,', 'detection_types is waf_rule,', 'detection_types is waf_rule,', 'detection_types is waf_rule,', 'detection_types is waf_rule,', 'detection_types is waf_rule,', 'detection_types is waf_rule,', 'detection_types is waf_rule,', 'detection_types is waf_rule,', 'detection_types is waf_rule,', 'detection_types is waf_rule,', 'detection_types is waf_rule,', 'detection_types is waf_rule,', 'detection_types is waf_rule,', 'detection_types is waf_rule,']\n",
      "['detection_types is waf_rule,', 'detection_types is waf_rule,', 'detection_types is waf_rule,', 'detection_types is waf_rule,', 'detection_types is waf_rule,', 'detection_types is waf_rule,', 'detection_types is waf_rule,', 'detection_types is waf_rule,', 'detection_types is waf_rule,', 'detection_types is waf_rule,', 'detection_types is waf_rule,', 'detection_types is waf_rule,', 'detection_types is waf_rule,', 'detection_types is waf_rule,', 'detection_types is waf_rule,', 'detection_types is waf_rule,', 'detection_types is waf_rule,', 'detection_types is waf_rule,', 'detection_types is waf_rule,', 'detection_types is waf_rule,', 'detection_types is waf_rule,', 'detection_types is waf_rule,', 'detection_types is waf_rule,', 'detection_types is waf_rule,', 'detection_types is waf_rule,', 'detection_types is waf_rule,', 'detection_types is waf_rule,', 'detection_types is waf_rule,', 'detection_types is waf_rule,', 'detection_types is waf_rule,', 'detection_types is waf_rule,', 'detection_types is waf_rule,', 'detection_types is waf_rule,', 'detection_types is waf_rule,', 'detection_types is waf_rule,', 'detection_types is waf_rule,', 'detection_types is waf_rule,', 'detection_types is waf_rule,', 'detection_types is waf_rule,', 'detection_types is waf_rule,', 'detection_types is waf_rule,', 'detection_types is waf_rule,', 'detection_types is waf_rule,', 'detection_types is waf_rule,', 'detection_types is waf_rule,', 'detection_types is waf_rule,', 'detection_types is waf_rule,', 'detection_types is waf_rule,', 'detection_types is waf_rule,', 'detection_types is waf_rule,']\n",
      "['detection_types is waf_rule,', 'detection_types is waf_rule,', 'detection_types is waf_rule,', 'detection_types is waf_rule,', 'detection_types is waf_rule,', 'detection_types is waf_rule,', 'detection_types is waf_rule,', 'detection_types is waf_rule,', 'detection_types is waf_rule,', 'detection_types is waf_rule,', 'detection_types is waf_rule,', 'detection_types is waf_rule,', 'detection_types is waf_rule,', 'detection_types is waf_rule,', 'detection_types is waf_rule,', 'detection_types is waf_rule,', 'detection_types is waf_rule,', 'detection_types is waf_rule,', 'detection_types is waf_rule,', 'detection_types is waf_rule,', 'detection_types is waf_rule,', 'detection_types is waf_rule,', 'detection_types is waf_rule,', 'detection_types is waf_rule,', 'detection_types is waf_rule,', 'detection_types is waf_rule,', 'detection_types is waf_rule,', 'detection_types is waf_rule,', 'detection_types is waf_rule,', 'detection_types is waf_rule,', 'detection_types is waf_rule,', 'detection_types is waf_rule,', 'detection_types is waf_rule,', 'detection_types is waf_rule,', 'detection_types is waf_rule,', 'detection_types is waf_rule,', 'detection_types is waf_rule,', 'detection_types is waf_rule,', 'detection_types is waf_rule,', 'detection_types is waf_rule,', 'detection_types is waf_rule,', 'detection_types is waf_rule,', 'detection_types is waf_rule,', 'detection_types is waf_rule,', 'detection_types is waf_rule,', 'detection_types is waf_rule,', 'detection_types is waf_rule,', 'detection_types is waf_rule,', 'detection_types is waf_rule,', 'detection_types is waf_rule,']\n",
      "['detection_types is waf_rule,', 'detection_types is waf_rule,', 'detection_types is waf_rule,', 'detection_types is waf_rule,', 'detection_types is waf_rule,', 'detection_types is waf_rule,', 'detection_types is waf_rule,', 'detection_types is waf_rule,', 'detection_types is waf_rule,', 'detection_types is waf_rule,', 'detection_types is waf_rule,', 'detection_types is waf_rule,', 'detection_types is waf_rule,', 'detection_types is waf_rule,', 'detection_types is waf_rule,', 'detection_types is waf_rule,', 'detection_types is waf_rule,', 'detection_types is waf_rule,', 'detection_types is waf_rule,', 'detection_types is waf_rule,', 'detection_types is waf_rule,', 'detection_types is waf_rule,', 'detection_types is waf_rule,', 'detection_types is waf_rule,', 'detection_types is waf_rule,', 'detection_types is waf_rule,', 'detection_types is waf_rule,', 'detection_types is waf_rule,', 'detection_types is waf_rule,', 'detection_types is waf_rule,', 'detection_types is waf_rule,', 'detection_types is waf_rule,', 'detection_types is waf_rule,', 'detection_types is waf_rule,', 'detection_types is waf_rule,', 'detection_types is waf_rule,', 'detection_types is waf_rule,', 'detection_types is waf_rule,', 'detection_types is waf_rule,', 'detection_types is waf_rule,', 'detection_types is waf_rule,', 'detection_types is waf_rule,', 'detection_types is waf_rule,', 'detection_types is waf_rule,', 'detection_types is waf_rule,', 'detection_types is waf_rule,', 'detection_types is waf_rule,', 'detection_types is waf_rule,', 'detection_types is waf_rule,', 'detection_types is waf_rule,']\n"
     ]
    },
    {
     "name": "stderr",
     "output_type": "stream",
     "text": [
      " 35%|███▍      | 98/282 [04:49<23:33,  7.68s/it]"
     ]
    },
    {
     "name": "stdout",
     "output_type": "stream",
     "text": [
      "['detection_types is waf_rule,', 'detection_types is waf_rule,', 'detection_types is waf_rule,', 'detection_types is waf_rule,', 'detection_types is waf_rule,', 'detection_types is waf_rule,', 'detection_types is waf_rule,', 'detection_types is waf_rule,', 'detection_types is waf_rule,', 'detection_types is waf_rule,', 'detection_types is waf_rule,', 'detection_types is waf_rule,', 'detection_types is waf_rule,', 'detection_types is waf_rule,', 'detection_types is waf_rule,', 'detection_types is waf_rule,', 'detection_types is waf_rule,', 'detection_types is waf_rule,', 'detection_types is waf_rule,', 'detection_types is waf_rule,', 'detection_types is waf_rule,', 'detection_types is waf_rule,', 'detection_types is waf_rule,', 'detection_types is waf_rule,', 'detection_types is waf_rule,', 'detection_types is waf_rule,', 'detection_types is waf_rule,', 'detection_types is waf_rule,', 'detection_types is waf_rule,', 'detection_types is waf_rule,', 'detection_types is waf_rule,', 'detection_types is waf_rule,', 'detection_types is waf_rule,', 'detection_types is waf_rule,', 'detection_types is waf_rule,', 'detection_types is waf_rule,', 'detection_types is waf_rule,', 'detection_types is waf_rule,', 'detection_types is waf_rule,', 'detection_types is waf_rule,', 'detection_types is waf_rule,', 'detection_types is waf_rule,', 'detection_types is waf_rule,', 'detection_types is waf_rule,', 'detection_types is waf_rule,', 'detection_types is waf_rule,', 'detection_types is waf_rule,', 'detection_types is waf_rule,', 'detection_types is waf_rule,', 'detection_types is waf_rule,']\n"
     ]
    },
    {
     "name": "stderr",
     "output_type": "stream",
     "text": [
      " 35%|███▌      | 99/282 [04:53<21:08,  6.93s/it]"
     ]
    },
    {
     "name": "stdout",
     "output_type": "stream",
     "text": [
      "['detection_types is waf_rule,', 'detection_types is waf_rule,', 'detection_types is waf_rule,', 'detection_types is waf_rule,', 'detection_types is waf_rule,', 'detection_types is waf_rule,', 'detection_types is waf_rule,', 'detection_types is waf_rule,', 'detection_types is waf_rule,', 'detection_types is waf_rule,', 'detection_types is waf_rule,', 'detection_types is waf_rule,', 'detection_types is waf_rule,', 'detection_types is waf_rule,', 'detection_types is waf_rule,', 'detection_types is waf_rule,', 'detection_types is waf_rule,', 'detection_types is waf_rule,', 'detection_types is waf_rule,', 'detection_types is waf_rule,', 'detection_types is waf_rule,', 'detection_types is waf_rule,', 'detection_types is waf_rule,', 'detection_types is waf_rule,', 'detection_types is waf_rule,', 'detection_types is waf_rule,', 'detection_types is waf_rule,', 'detection_types is waf_rule,', 'detection_types is waf_rule,', 'detection_types is waf_rule,', 'detection_types is waf_rule,', 'detection_types is waf_rule,', 'detection_types is waf_rule,', 'detection_types is waf_rule,', 'detection_types is waf_rule,', 'detection_types is waf_rule,', 'detection_types is waf_rule,', 'detection_types is waf_rule,', 'detection_types is waf_rule,', 'detection_types is waf_rule,', 'detection_types is waf_rule,', 'detection_types is waf_rule,', 'detection_types is waf_rule,', 'detection_types is waf_rule,', 'detection_types is waf_rule,', 'detection_types is waf_rule,', 'detection_types is waf_rule,', 'detection_types is waf_rule,', 'detection_types is waf_rule,', 'detection_types is waf_rule,']\n",
      "['detection_types is waf_rule,', 'detection_types is waf_rule,', 'detection_types is waf_rule,', 'detection_types is waf_rule,', 'detection_types is waf_rule,', 'detection_types is waf_rule,', 'detection_types is waf_rule,', 'detection_types is waf_rule,', 'detection_types is waf_rule,', 'detection_types is waf_rule,', 'detection_types is waf_rule,', 'detection_types is waf_rule,', 'detection_types is waf_rule,', 'detection_types is waf_rule,', 'detection_types is waf_rule,', 'detection_types is waf_rule,', 'detection_types is waf_rule,', 'detection_types is waf_rule,', 'detection_types is waf_rule,', 'detection_types is waf_rule,', 'detection_types is waf_rule,', 'detection_types is waf_rule,', 'detection_types is waf_rule,', 'detection_types is waf_rule,', 'detection_types is waf_rule,', 'detection_types is waf_rule,', 'detection_types is waf_rule,', 'detection_types is waf_rule,', 'detection_types is waf_rule,', 'detection_types is waf_rule,', 'detection_types is waf_rule,', 'detection_types is waf_rule,', 'detection_types is waf_rule,', 'detection_types is waf_rule,', 'detection_types is waf_rule,', 'detection_types is waf_rule,', 'detection_types is waf_rule,', 'detection_types is waf_rule,', 'detection_types is waf_rule,', 'detection_types is waf_rule,', 'detection_types is waf_rule,', 'detection_types is waf_rule,', 'detection_types is waf_rule,', 'detection_types is waf_rule,', 'detection_types is waf_rule,', 'detection_types is waf_rule,', 'detection_types is waf_rule,', 'detection_types is waf_rule,', 'detection_types is waf_rule,', 'detection_types is waf_rule,']\n",
      "['detection_types is waf_rule,', 'detection_types is waf_rule,', 'detection_types is waf_rule,', 'detection_types is waf_rule,', 'detection_types is waf_rule,', 'detection_types is waf_rule,', 'detection_types is waf_rule,', 'detection_types is waf_rule,', 'detection_types is waf_rule,', 'detection_types is waf_rule,', 'detection_types is waf_rule,', 'detection_types is waf_rule,', 'detection_types is waf_rule,', 'detection_types is waf_rule,', 'detection_types is waf_rule,', 'detection_types is waf_rule,', 'detection_types is waf_rule,', 'detection_types is waf_rule,', 'detection_types is waf_rule,', 'detection_types is waf_rule,', 'detection_types is waf_rule,', 'detection_types is waf_rule,', 'detection_types is waf_rule,', 'detection_types is waf_rule,', 'detection_types is waf_rule,', 'detection_types is waf_rule,', 'detection_types is waf_rule,', 'detection_types is waf_rule,', 'detection_types is waf_rule,', 'detection_types is waf_rule,', 'detection_types is waf_rule,', 'detection_types is waf_rule,', 'detection_types is waf_rule,', 'detection_types is waf_rule,', 'detection_types is waf_rule,', 'detection_types is waf_rule,', 'detection_types is waf_rule,', 'detection_types is waf_rule,', 'detection_types is waf_rule,', 'detection_types is waf_rule,', 'detection_types is waf_rule,', 'detection_types is waf_rule,', 'detection_types is waf_rule,', 'detection_types is waf_rule,', 'detection_types is waf_rule,', 'detection_types is waf_rule,', 'detection_types is waf_rule,', 'detection_types is waf_rule,', 'detection_types is waf_rule,', 'detection_types is waf_rule,']\n"
     ]
    },
    {
     "name": "stderr",
     "output_type": "stream",
     "text": [
      " 35%|███▌      | 100/282 [05:07<26:13,  8.65s/it]"
     ]
    },
    {
     "name": "stdout",
     "output_type": "stream",
     "text": [
      "['detection_types is waf_rule,', 'detection_types is waf_rule,', 'detection_types is waf_rule,', 'detection_types is waf_rule,', 'detection_types is waf_rule,', 'detection_types is waf_rule,', 'detection_types is waf_rule,', 'detection_types is waf_rule,', 'detection_types is waf_rule,', 'detection_types is waf_rule,', 'detection_types is waf_rule,', 'detection_types is waf_rule,', 'detection_types is waf_rule,', 'detection_types is waf_rule,', 'detection_types is waf_rule,', 'detection_types is waf_rule,', 'detection_types is waf_rule,', 'detection_types is waf_rule,', 'detection_types is waf_rule,', 'detection_types is waf_rule,', 'detection_types is waf_rule,', 'detection_types is waf_rule,', 'detection_types is waf_rule,', 'detection_types is waf_rule,', 'detection_types is waf_rule,', 'detection_types is waf_rule,', 'detection_types is waf_rule,', 'detection_types is waf_rule,', 'detection_types is waf_rule,', 'detection_types is waf_rule,', 'detection_types is waf_rule,', 'detection_types is waf_rule,', 'detection_types is waf_rule,', 'detection_types is waf_rule,', 'detection_types is waf_rule,', 'detection_types is waf_rule,', 'detection_types is waf_rule,', 'detection_types is waf_rule,', 'detection_types is waf_rule,', 'detection_types is waf_rule,', 'detection_types is waf_rule,', 'detection_types is waf_rule,', 'detection_types is waf_rule,', 'detection_types is waf_rule,', 'detection_types is waf_rule,', 'detection_types is waf_rule,', 'detection_types is waf_rule,', 'detection_types is waf_rule,', 'detection_types is waf_rule,', 'detection_types is waf_rule,']\n"
     ]
    },
    {
     "name": "stderr",
     "output_type": "stream",
     "text": [
      " 36%|███▌      | 101/282 [05:12<22:49,  7.56s/it]"
     ]
    },
    {
     "name": "stdout",
     "output_type": "stream",
     "text": [
      "['detection_types is waf_rule,', 'detection_types is waf_rule,', 'detection_types is waf_rule,', 'detection_types is waf_rule,', 'detection_types is waf_rule,', 'detection_types is waf_rule,', 'detection_types is waf_rule,', 'detection_types is waf_rule,', 'detection_types is waf_rule,', 'detection_types is waf_rule,', 'detection_types is waf_rule,', 'detection_types is waf_rule,', 'detection_types is waf_rule,', 'detection_types is waf_rule,', 'detection_types is waf_rule,', 'detection_types is waf_rule,', 'detection_types is waf_rule,', 'detection_types is waf_rule,', 'detection_types is waf_rule,', 'detection_types is waf_rule,', 'detection_types is waf_rule,', 'detection_types is waf_rule,', 'detection_types is waf_rule,', 'detection_types is waf_rule,', 'detection_types is waf_rule,', 'detection_types is waf_rule,', 'detection_types is waf_rule,', 'detection_types is waf_rule,', 'detection_types is waf_rule,', 'detection_types is waf_rule,', 'detection_types is waf_rule,', 'detection_types is waf_rule,', 'detection_types is waf_rule,', 'detection_types is waf_rule,', 'detection_types is waf_rule,', 'detection_types is waf_rule,', 'detection_types is waf_rule,', 'detection_types is waf_rule,', 'detection_types is waf_rule,', 'detection_types is waf_rule,', 'detection_types is waf_rule,', 'detection_types is waf_rule,', 'detection_types is waf_rule,', 'detection_types is waf_rule,', 'detection_types is waf_rule,', 'detection_types is waf_rule,', 'detection_types is waf_rule,', 'detection_types is waf_rule,', 'detection_types is waf_rule,', 'detection_types is waf_rule,']\n"
     ]
    },
    {
     "name": "stderr",
     "output_type": "stream",
     "text": [
      " 36%|███▌      | 102/282 [05:16<20:13,  6.74s/it]"
     ]
    },
    {
     "name": "stdout",
     "output_type": "stream",
     "text": [
      "['detection_types is waf_rule,', 'detection_types is waf_rule,', 'detection_types is waf_rule,', 'detection_types is waf_rule,', 'detection_types is waf_rule,', 'detection_types is waf_rule,', 'detection_types is waf_rule,', 'detection_types is waf_rule,', 'detection_types is waf_rule,', 'detection_types is waf_rule,', 'detection_types is waf_rule,', 'detection_types is waf_rule,', 'detection_types is waf_rule,', 'detection_types is waf_rule,', 'detection_types is waf_rule,', 'detection_types is waf_rule,', 'detection_types is waf_rule,', 'detection_types is waf_rule,', 'detection_types is waf_rule,', 'detection_types is waf_rule,', 'detection_types is waf_rule,', 'detection_types is waf_rule,', 'detection_types is waf_rule,', 'detection_types is waf_rule,', 'detection_types is waf_rule,', 'detection_types is waf_rule,', 'detection_types is waf_rule,', 'detection_types is waf_rule,', 'detection_types is waf_rule,', 'detection_types is waf_rule,', 'detection_types is waf_rule,', 'detection_types is waf_rule,', 'detection_types is waf_rule,', 'detection_types is waf_rule,', 'detection_types is waf_rule,', 'detection_types is waf_rule,', 'detection_types is waf_rule,', 'detection_types is waf_rule,', 'detection_types is waf_rule,', 'detection_types is waf_rule,', 'detection_types is waf_rule,', 'detection_types is waf_rule,', 'detection_types is waf_rule,', 'detection_types is waf_rule,', 'detection_types is waf_rule,', 'detection_types is waf_rule,', 'detection_types is waf_rule,', 'detection_types is waf_rule,', 'detection_types is waf_rule,', 'detection_types is waf_rule,']\n"
     ]
    },
    {
     "name": "stderr",
     "output_type": "stream",
     "text": [
      " 37%|███▋      | 104/282 [05:21<14:07,  4.76s/it]"
     ]
    },
    {
     "name": "stdout",
     "output_type": "stream",
     "text": [
      "['detection_types is waf_rule,', 'detection_types is waf_rule,', 'detection_types is waf_rule,', 'detection_types is waf_rule,', 'detection_types is waf_rule,', 'detection_types is waf_rule,', 'detection_types is waf_rule,', 'detection_types is waf_rule,', 'detection_types is waf_rule,', 'detection_types is waf_rule,', 'detection_types is waf_rule,', 'detection_types is waf_rule,', 'detection_types is waf_rule,', 'detection_types is waf_rule,', 'detection_types is waf_rule,', 'detection_types is waf_rule,', 'detection_types is waf_rule,', 'detection_types is waf_rule,', 'detection_types is waf_rule,', 'detection_types is waf_rule,', 'detection_types is waf_rule,', 'detection_types is waf_rule,', 'detection_types is waf_rule,', 'detection_types is waf_rule,', 'detection_types is waf_rule,', 'detection_types is waf_rule,', 'detection_types is waf_rule,', 'detection_types is waf_rule,', 'detection_types is waf_rule,', 'detection_types is waf_rule,', 'detection_types is waf_rule,', 'detection_types is waf_rule,', 'detection_types is waf_rule,', 'detection_types is waf_rule,', 'detection_types is waf_rule,', 'detection_types is waf_rule,', 'detection_types is waf_rule,', 'detection_types is waf_rule,', 'detection_types is waf_rule,', 'detection_types is waf_rule,', 'detection_types is waf_rule,', 'detection_types is waf_rule,', 'detection_types is waf_rule,', 'detection_types is waf_rule,', 'detection_types is waf_rule,', 'detection_types is waf_rule,', 'detection_types is waf_rule,', 'detection_types is waf_rule,', 'detection_types is waf_rule,', 'detection_types is waf_rule,']\n"
     ]
    },
    {
     "name": "stderr",
     "output_type": "stream",
     "text": [
      " 38%|███▊      | 107/282 [05:25<09:21,  3.21s/it]"
     ]
    },
    {
     "name": "stdout",
     "output_type": "stream",
     "text": [
      "['detection_types is waf_rule,', 'detection_types is waf_rule,', 'detection_types is waf_rule,', 'detection_types is waf_rule,', 'detection_types is waf_rule,', 'detection_types is waf_rule,', 'detection_types is waf_rule,', 'detection_types is waf_rule,', 'detection_types is waf_rule,', 'detection_types is waf_rule,', 'detection_types is waf_rule,', 'detection_types is waf_rule,', 'detection_types is waf_rule,', 'detection_types is waf_rule,', 'detection_types is waf_rule,', 'detection_types is waf_rule,', 'detection_types is waf_rule,', 'detection_types is waf_rule,', 'detection_types is waf_rule,', 'detection_types is waf_rule,', 'detection_types is waf_rule,', 'detection_types is waf_rule,', 'detection_types is waf_rule,', 'detection_types is waf_rule,', 'detection_types is waf_rule,', 'detection_types is waf_rule,', 'detection_types is waf_rule,', 'detection_types is waf_rule,', 'detection_types is waf_rule,', 'detection_types is waf_rule,', 'detection_types is waf_rule,', 'detection_types is waf_rule,', 'detection_types is waf_rule,', 'detection_types is waf_rule,', 'detection_types is waf_rule,', 'detection_types is waf_rule,', 'detection_types is waf_rule,', 'detection_types is waf_rule,', 'detection_types is waf_rule,', 'detection_types is waf_rule,', 'detection_types is waf_rule,', 'detection_types is waf_rule,', 'detection_types is waf_rule,', 'detection_types is waf_rule,', 'detection_types is waf_rule,', 'detection_types is waf_rule,', 'detection_types is waf_rule,', 'detection_types is waf_rule,', 'detection_types is waf_rule,', 'detection_types is waf_rule,']\n"
     ]
    },
    {
     "name": "stderr",
     "output_type": "stream",
     "text": [
      " 39%|███▊      | 109/282 [05:30<08:16,  2.87s/it]"
     ]
    },
    {
     "name": "stdout",
     "output_type": "stream",
     "text": [
      "['detection_types is waf_rule,', 'detection_types is waf_rule,', 'detection_types is waf_rule,', 'detection_types is waf_rule,', 'detection_types is waf_rule,', 'detection_types is waf_rule,', 'detection_types is waf_rule,', 'detection_types is waf_rule,', 'detection_types is waf_rule,', 'detection_types is waf_rule,', 'detection_types is waf_rule,', 'detection_types is waf_rule,', 'detection_types is waf_rule,', 'detection_types is waf_rule,', 'detection_types is waf_rule,', 'detection_types is waf_rule,', 'detection_types is waf_rule,', 'detection_types is waf_rule,', 'detection_types is waf_rule,', 'detection_types is waf_rule,', 'detection_types is waf_rule,', 'detection_types is waf_rule,', 'detection_types is waf_rule,', 'detection_types is waf_rule,', 'detection_types is waf_rule,', 'detection_types is waf_rule,', 'detection_types is waf_rule,', 'detection_types is waf_rule,', 'detection_types is waf_rule,', 'detection_types is waf_rule,', 'detection_types is waf_rule,', 'detection_types is waf_rule,', 'detection_types is waf_rule,', 'detection_types is waf_rule,', 'detection_types is waf_rule,', 'detection_types is waf_rule,', 'detection_types is waf_rule,', 'detection_types is waf_rule,', 'detection_types is waf_rule,', 'detection_types is waf_rule,', 'detection_types is waf_rule,', 'detection_types is waf_rule,', 'detection_types is waf_rule,', 'detection_types is waf_rule,', 'detection_types is waf_rule,', 'detection_types is waf_rule,', 'detection_types is waf_rule,', 'detection_types is waf_rule,', 'detection_types is waf_rule,', 'detection_types is waf_rule,']\n"
     ]
    },
    {
     "name": "stderr",
     "output_type": "stream",
     "text": [
      " 39%|███▉      | 110/282 [05:33<08:39,  3.02s/it]"
     ]
    },
    {
     "name": "stdout",
     "output_type": "stream",
     "text": [
      "['detection_types is waf_rule,', 'detection_types is waf_rule,', 'detection_types is waf_rule,', 'detection_types is waf_rule,', 'detection_types is waf_rule,', 'detection_types is waf_rule,', 'detection_types is waf_rule,', 'detection_types is waf_rule,', 'detection_types is waf_rule,', 'detection_types is waf_rule,', 'detection_types is waf_rule,', 'detection_types is waf_rule,', 'detection_types is waf_rule,', 'detection_types is waf_rule,', 'detection_types is waf_rule,', 'detection_types is waf_rule,', 'detection_types is waf_rule,', 'detection_types is waf_rule,', 'detection_types is waf_rule,', 'detection_types is waf_rule,', 'detection_types is waf_rule,', 'detection_types is waf_rule,', 'detection_types is waf_rule,', 'detection_types is waf_rule,', 'detection_types is waf_rule,', 'detection_types is waf_rule,', 'detection_types is waf_rule,', 'detection_types is waf_rule,', 'detection_types is waf_rule,', 'detection_types is waf_rule,', 'detection_types is waf_rule,', 'detection_types is waf_rule,', 'detection_types is waf_rule,', 'detection_types is waf_rule,', 'detection_types is waf_rule,', 'detection_types is waf_rule,', 'detection_types is waf_rule,', 'detection_types is waf_rule,', 'detection_types is waf_rule,', 'detection_types is waf_rule,', 'detection_types is waf_rule,', 'detection_types is waf_rule,', 'detection_types is waf_rule,', 'detection_types is waf_rule,', 'detection_types is waf_rule,', 'detection_types is waf_rule,', 'detection_types is waf_rule,', 'detection_types is waf_rule,', 'detection_types is waf_rule,', 'detection_types is waf_rule,']\n",
      "['detection_types is waf_rule,', 'detection_types is waf_rule,', 'detection_types is waf_rule,', 'detection_types is waf_rule,', 'detection_types is waf_rule,', 'detection_types is waf_rule,', 'detection_types is waf_rule,', 'detection_types is waf_rule,', 'detection_types is waf_rule,', 'detection_types is waf_rule,', 'detection_types is waf_rule,', 'detection_types is waf_rule,', 'detection_types is waf_rule,', 'detection_types is waf_rule,', 'detection_types is waf_rule,', 'detection_types is waf_rule,', 'detection_types is waf_rule,', 'detection_types is waf_rule,', 'detection_types is waf_rule,', 'detection_types is waf_rule,', 'detection_types is waf_rule,', 'detection_types is waf_rule,', 'detection_types is waf_rule,', 'detection_types is waf_rule,', 'detection_types is waf_rule,', 'detection_types is waf_rule,', 'detection_types is waf_rule,', 'detection_types is waf_rule,', 'detection_types is waf_rule,', 'detection_types is waf_rule,', 'detection_types is waf_rule,', 'detection_types is waf_rule,', 'detection_types is waf_rule,', 'detection_types is waf_rule,', 'detection_types is waf_rule,', 'detection_types is waf_rule,', 'detection_types is waf_rule,', 'detection_types is waf_rule,', 'detection_types is waf_rule,', 'detection_types is waf_rule,', 'detection_types is waf_rule,', 'detection_types is waf_rule,', 'detection_types is waf_rule,', 'detection_types is waf_rule,', 'detection_types is waf_rule,', 'detection_types is waf_rule,', 'detection_types is waf_rule,', 'detection_types is waf_rule,', 'detection_types is waf_rule,', 'detection_types is waf_rule,']\n"
     ]
    },
    {
     "name": "stderr",
     "output_type": "stream",
     "text": [
      " 39%|███▉      | 111/282 [05:41<11:18,  3.97s/it]"
     ]
    },
    {
     "name": "stdout",
     "output_type": "stream",
     "text": [
      "['detection_types is waf_rule,', 'detection_types is waf_rule,', 'detection_types is waf_rule,', 'detection_types is waf_rule,', 'detection_types is waf_rule,', 'detection_types is waf_rule,', 'detection_types is waf_rule,', 'detection_types is waf_rule,', 'detection_types is waf_rule,', 'detection_types is waf_rule,', 'detection_types is waf_rule,', 'detection_types is waf_rule,', 'detection_types is waf_rule,', 'detection_types is waf_rule,', 'detection_types is waf_rule,', 'detection_types is waf_rule,', 'detection_types is waf_rule,', 'detection_types is waf_rule,', 'detection_types is waf_rule,', 'detection_types is waf_rule,', 'detection_types is waf_rule,', 'detection_types is waf_rule,', 'detection_types is waf_rule,', 'detection_types is waf_rule,', 'detection_types is waf_rule,', 'detection_types is waf_rule,', 'detection_types is waf_rule,', 'detection_types is waf_rule,', 'detection_types is waf_rule,', 'detection_types is waf_rule,', 'detection_types is waf_rule,', 'detection_types is waf_rule,', 'detection_types is waf_rule,', 'detection_types is waf_rule,', 'detection_types is waf_rule,', 'detection_types is waf_rule,', 'detection_types is waf_rule,', 'detection_types is waf_rule,', 'detection_types is waf_rule,', 'detection_types is waf_rule,', 'detection_types is waf_rule,', 'detection_types is waf_rule,', 'detection_types is waf_rule,', 'detection_types is waf_rule,', 'detection_types is waf_rule,', 'detection_types is waf_rule,', 'detection_types is waf_rule,', 'detection_types is waf_rule,', 'detection_types is waf_rule,', 'detection_types is waf_rule,']\n",
      "['detection_types is waf_rule,', 'detection_types is waf_rule,', 'detection_types is waf_rule,', 'detection_types is waf_rule,', 'detection_types is waf_rule,', 'detection_types is waf_rule,', 'detection_types is waf_rule,', 'detection_types is waf_rule,', 'detection_types is waf_rule,', 'detection_types is waf_rule,', 'detection_types is waf_rule,', 'detection_types is waf_rule,', 'detection_types is waf_rule,', 'detection_types is waf_rule,', 'detection_types is waf_rule,', 'detection_types is waf_rule,', 'detection_types is waf_rule,', 'detection_types is waf_rule,', 'detection_types is waf_rule,', 'detection_types is waf_rule,', 'detection_types is waf_rule,', 'detection_types is waf_rule,', 'detection_types is waf_rule,', 'detection_types is waf_rule,', 'detection_types is waf_rule,', 'detection_types is waf_rule,', 'detection_types is waf_rule,', 'detection_types is waf_rule,', 'detection_types is waf_rule,', 'detection_types is waf_rule,', 'detection_types is waf_rule,', 'detection_types is waf_rule,', 'detection_types is waf_rule,', 'detection_types is waf_rule,', 'detection_types is waf_rule,', 'detection_types is waf_rule,', 'detection_types is waf_rule,', 'detection_types is waf_rule,', 'detection_types is waf_rule,', 'detection_types is waf_rule,', 'detection_types is waf_rule,', 'detection_types is waf_rule,', 'detection_types is waf_rule,', 'detection_types is waf_rule,', 'detection_types is waf_rule,', 'detection_types is waf_rule,', 'detection_types is waf_rule,', 'detection_types is waf_rule,', 'detection_types is waf_rule,', 'detection_types is waf_rule,']\n"
     ]
    },
    {
     "name": "stderr",
     "output_type": "stream",
     "text": [
      " 40%|███▉      | 112/282 [05:49<13:35,  4.79s/it]"
     ]
    },
    {
     "name": "stdout",
     "output_type": "stream",
     "text": [
      "['detection_types is waf_rule,', 'detection_types is waf_rule,', 'detection_types is waf_rule,', 'detection_types is waf_rule,', 'detection_types is waf_rule,', 'detection_types is waf_rule,', 'detection_types is waf_rule,', 'detection_types is waf_rule,', 'detection_types is waf_rule,', 'detection_types is waf_rule,', 'detection_types is waf_rule,', 'detection_types is waf_rule,', 'detection_types is waf_rule,', 'detection_types is waf_rule,', 'detection_types is waf_rule,', 'detection_types is waf_rule,', 'detection_types is waf_rule,', 'detection_types is waf_rule,', 'detection_types is waf_rule,', 'detection_types is waf_rule,', 'detection_types is waf_rule,', 'detection_types is waf_rule,', 'detection_types is waf_rule,', 'detection_types is waf_rule,', 'detection_types is waf_rule,', 'detection_types is waf_rule,', 'detection_types is waf_rule,', 'detection_types is waf_rule,', 'detection_types is waf_rule,', 'detection_types is waf_rule,', 'detection_types is waf_rule,', 'detection_types is waf_rule,', 'detection_types is waf_rule,', 'detection_types is waf_rule,', 'detection_types is waf_rule,', 'detection_types is waf_rule,', 'detection_types is waf_rule,', 'detection_types is waf_rule,', 'detection_types is waf_rule,', 'detection_types is waf_rule,', 'detection_types is waf_rule,', 'detection_types is waf_rule,', 'detection_types is waf_rule,', 'detection_types is waf_rule,', 'detection_types is waf_rule,', 'detection_types is waf_rule,', 'detection_types is waf_rule,', 'detection_types is waf_rule,', 'detection_types is waf_rule,', 'detection_types is waf_rule,']\n",
      "['detection_types is waf_rule,', 'detection_types is waf_rule,', 'detection_types is waf_rule,', 'detection_types is waf_rule,', 'detection_types is waf_rule,', 'detection_types is waf_rule,', 'detection_types is waf_rule,', 'detection_types is waf_rule,', 'detection_types is waf_rule,', 'detection_types is waf_rule,', 'detection_types is waf_rule,', 'detection_types is waf_rule,', 'detection_types is waf_rule,', 'detection_types is waf_rule,', 'detection_types is waf_rule,', 'detection_types is waf_rule,', 'detection_types is waf_rule,', 'detection_types is waf_rule,', 'detection_types is waf_rule,', 'detection_types is waf_rule,', 'detection_types is waf_rule,', 'detection_types is waf_rule,', 'detection_types is waf_rule,', 'detection_types is waf_rule,', 'detection_types is waf_rule,', 'detection_types is waf_rule,', 'detection_types is waf_rule,', 'detection_types is waf_rule,', 'detection_types is waf_rule,', 'detection_types is waf_rule,', 'detection_types is waf_rule,', 'detection_types is waf_rule,', 'detection_types is waf_rule,', 'detection_types is waf_rule,', 'detection_types is waf_rule,', 'detection_types is waf_rule,', 'detection_types is waf_rule,', 'detection_types is waf_rule,', 'detection_types is waf_rule,', 'detection_types is waf_rule,', 'detection_types is waf_rule,', 'detection_types is waf_rule,', 'detection_types is waf_rule,', 'detection_types is waf_rule,', 'detection_types is waf_rule,', 'detection_types is waf_rule,', 'detection_types is waf_rule,', 'detection_types is waf_rule,', 'detection_types is waf_rule,', 'detection_types is waf_rule,']\n"
     ]
    },
    {
     "name": "stderr",
     "output_type": "stream",
     "text": [
      " 40%|████      | 113/282 [05:56<15:28,  5.49s/it]"
     ]
    },
    {
     "name": "stdout",
     "output_type": "stream",
     "text": [
      "['detection_types is waf_rule,', 'detection_types is waf_rule,', 'detection_types is waf_rule,', 'detection_types is waf_rule,', 'detection_types is waf_rule,', 'detection_types is waf_rule,', 'detection_types is waf_rule,', 'detection_types is waf_rule,', 'detection_types is waf_rule,', 'detection_types is waf_rule,', 'detection_types is waf_rule,', 'detection_types is waf_rule,', 'detection_types is waf_rule,', 'detection_types is waf_rule,', 'detection_types is waf_rule,', 'detection_types is waf_rule,', 'detection_types is waf_rule,', 'detection_types is waf_rule,', 'detection_types is waf_rule,', 'detection_types is waf_rule,', 'detection_types is waf_rule,', 'detection_types is waf_rule,', 'detection_types is waf_rule,', 'detection_types is waf_rule,', 'detection_types is waf_rule,', 'detection_types is waf_rule,', 'detection_types is waf_rule,', 'detection_types is waf_rule,', 'detection_types is waf_rule,', 'detection_types is waf_rule,', 'detection_types is waf_rule,', 'detection_types is waf_rule,', 'detection_types is waf_rule,', 'detection_types is waf_rule,', 'detection_types is waf_rule,', 'detection_types is waf_rule,', 'detection_types is waf_rule,', 'detection_types is waf_rule,', 'detection_types is waf_rule,', 'detection_types is waf_rule,', 'detection_types is waf_rule,', 'detection_types is waf_rule,', 'detection_types is waf_rule,', 'detection_types is waf_rule,', 'detection_types is waf_rule,', 'detection_types is waf_rule,', 'detection_types is waf_rule,', 'detection_types is waf_rule,', 'detection_types is waf_rule,', 'detection_types is waf_rule,']\n"
     ]
    },
    {
     "name": "stderr",
     "output_type": "stream",
     "text": [
      " 40%|████      | 114/282 [06:00<14:06,  5.04s/it]"
     ]
    },
    {
     "name": "stdout",
     "output_type": "stream",
     "text": [
      "['detection_types is waf_rule,', 'detection_types is waf_rule,', 'detection_types is waf_rule,', 'detection_types is waf_rule,', 'detection_types is waf_rule,', 'detection_types is waf_rule,', 'detection_types is waf_rule,', 'detection_types is waf_rule,', 'detection_types is waf_rule,', 'detection_types is waf_rule,', 'detection_types is waf_rule,', 'detection_types is waf_rule,', 'detection_types is waf_rule,', 'detection_types is waf_rule,', 'detection_types is waf_rule,', 'detection_types is waf_rule,', 'detection_types is waf_rule,', 'detection_types is waf_rule,', 'detection_types is waf_rule,', 'detection_types is waf_rule,', 'detection_types is waf_rule,', 'detection_types is waf_rule,', 'detection_types is waf_rule,', 'detection_types is waf_rule,', 'detection_types is waf_rule,', 'detection_types is waf_rule,', 'detection_types is waf_rule,', 'detection_types is waf_rule,', 'detection_types is waf_rule,', 'detection_types is waf_rule,', 'detection_types is waf_rule,', 'detection_types is waf_rule,', 'detection_types is waf_rule,', 'detection_types is waf_rule,', 'detection_types is waf_rule,', 'detection_types is waf_rule,', 'detection_types is waf_rule,', 'detection_types is waf_rule,', 'detection_types is waf_rule,', 'detection_types is waf_rule,', 'detection_types is waf_rule,', 'detection_types is waf_rule,', 'detection_types is waf_rule,', 'detection_types is waf_rule,', 'detection_types is waf_rule,', 'detection_types is waf_rule,', 'detection_types is waf_rule,', 'detection_types is waf_rule,', 'detection_types is waf_rule,', 'detection_types is waf_rule,']\n"
     ]
    },
    {
     "name": "stderr",
     "output_type": "stream",
     "text": [
      " 41%|████      | 115/282 [06:04<13:06,  4.71s/it]"
     ]
    },
    {
     "name": "stdout",
     "output_type": "stream",
     "text": [
      "['detection_types is waf_rule,', 'detection_types is waf_rule,', 'detection_types is waf_rule,', 'detection_types is waf_rule,', 'detection_types is waf_rule,', 'detection_types is waf_rule,', 'detection_types is waf_rule,', 'detection_types is waf_rule,', 'detection_types is waf_rule,', 'detection_types is waf_rule,', 'detection_types is waf_rule,', 'detection_types is waf_rule,', 'detection_types is waf_rule,', 'detection_types is waf_rule,', 'detection_types is waf_rule,', 'detection_types is waf_rule,', 'detection_types is waf_rule,', 'detection_types is waf_rule,', 'detection_types is waf_rule,', 'detection_types is waf_rule,', 'detection_types is waf_rule,', 'detection_types is waf_rule,', 'detection_types is waf_rule,', 'detection_types is waf_rule,', 'detection_types is waf_rule,', 'detection_types is waf_rule,', 'detection_types is waf_rule,', 'detection_types is waf_rule,', 'detection_types is waf_rule,', 'detection_types is waf_rule,', 'detection_types is waf_rule,', 'detection_types is waf_rule,', 'detection_types is waf_rule,', 'detection_types is waf_rule,', 'detection_types is waf_rule,', 'detection_types is waf_rule,', 'detection_types is waf_rule,', 'detection_types is waf_rule,', 'detection_types is waf_rule,', 'detection_types is waf_rule,', 'detection_types is waf_rule,', 'detection_types is waf_rule,', 'detection_types is waf_rule,', 'detection_types is waf_rule,', 'detection_types is waf_rule,', 'detection_types is waf_rule,', 'detection_types is waf_rule,', 'detection_types is waf_rule,', 'detection_types is waf_rule,', 'detection_types is waf_rule,']\n"
     ]
    },
    {
     "name": "stderr",
     "output_type": "stream",
     "text": [
      " 42%|████▏     | 118/282 [06:08<07:48,  2.86s/it]"
     ]
    },
    {
     "name": "stdout",
     "output_type": "stream",
     "text": [
      "['detection_types is waf_rule,', 'detection_types is waf_rule,', 'detection_types is waf_rule,', 'detection_types is waf_rule,', 'detection_types is waf_rule,', 'detection_types is waf_rule,', 'detection_types is waf_rule,', 'detection_types is waf_rule,', 'detection_types is waf_rule,', 'detection_types is waf_rule,', 'detection_types is waf_rule,', 'detection_types is waf_rule,', 'detection_types is waf_rule,', 'detection_types is waf_rule,', 'detection_types is waf_rule,', 'detection_types is waf_rule,', 'detection_types is waf_rule,', 'detection_types is waf_rule,', 'detection_types is waf_rule,', 'detection_types is waf_rule,', 'detection_types is waf_rule,', 'detection_types is waf_rule,', 'detection_types is waf_rule,', 'detection_types is waf_rule,', 'detection_types is waf_rule,', 'detection_types is waf_rule,', 'detection_types is waf_rule,', 'detection_types is waf_rule,', 'detection_types is waf_rule,', 'detection_types is waf_rule,', 'detection_types is waf_rule,', 'detection_types is waf_rule,', 'detection_types is waf_rule,', 'detection_types is waf_rule,', 'detection_types is waf_rule,', 'detection_types is waf_rule,', 'detection_types is waf_rule,', 'detection_types is waf_rule,', 'detection_types is waf_rule,', 'detection_types is waf_rule,', 'detection_types is waf_rule,', 'detection_types is waf_rule,', 'detection_types is waf_rule,', 'detection_types is waf_rule,', 'detection_types is waf_rule,', 'detection_types is waf_rule,', 'detection_types is waf_rule,', 'detection_types is waf_rule,', 'detection_types is waf_rule,', 'detection_types is waf_rule,']\n",
      "['detection_types is waf_rule,', 'detection_types is waf_rule,', 'detection_types is waf_rule,', 'detection_types is waf_rule,', 'detection_types is waf_rule,', 'detection_types is waf_rule,', 'detection_types is waf_rule,', 'detection_types is waf_rule,', 'detection_types is waf_rule,', 'detection_types is waf_rule,', 'detection_types is waf_rule,', 'detection_types is waf_rule,', 'detection_types is waf_rule,', 'detection_types is waf_rule,', 'detection_types is waf_rule,', 'detection_types is waf_rule,', 'detection_types is waf_rule,', 'detection_types is waf_rule,', 'detection_types is waf_rule,', 'detection_types is waf_rule,', 'detection_types is waf_rule,', 'detection_types is waf_rule,', 'detection_types is waf_rule,', 'detection_types is waf_rule,', 'detection_types is waf_rule,', 'detection_types is waf_rule,', 'detection_types is waf_rule,', 'detection_types is waf_rule,', 'detection_types is waf_rule,', 'detection_types is waf_rule,', 'detection_types is waf_rule,', 'detection_types is waf_rule,', 'detection_types is waf_rule,', 'detection_types is waf_rule,', 'detection_types is waf_rule,', 'detection_types is waf_rule,', 'detection_types is waf_rule,', 'detection_types is waf_rule,', 'detection_types is waf_rule,', 'detection_types is waf_rule,', 'detection_types is waf_rule,', 'detection_types is waf_rule,', 'detection_types is waf_rule,', 'detection_types is waf_rule,', 'detection_types is waf_rule,', 'detection_types is waf_rule,', 'detection_types is waf_rule,', 'detection_types is waf_rule,', 'detection_types is waf_rule,', 'detection_types is waf_rule,']\n"
     ]
    },
    {
     "name": "stderr",
     "output_type": "stream",
     "text": [
      " 43%|████▎     | 121/282 [06:15<07:18,  2.72s/it]"
     ]
    },
    {
     "name": "stdout",
     "output_type": "stream",
     "text": [
      "['detection_types is waf_rule,', 'detection_types is waf_rule,', 'detection_types is waf_rule,', 'detection_types is waf_rule,', 'detection_types is waf_rule,', 'detection_types is waf_rule,', 'detection_types is waf_rule,', 'detection_types is waf_rule,', 'detection_types is waf_rule,', 'detection_types is waf_rule,', 'detection_types is waf_rule,', 'detection_types is waf_rule,', 'detection_types is waf_rule,', 'detection_types is waf_rule,', 'detection_types is waf_rule,', 'detection_types is waf_rule,', 'detection_types is waf_rule,', 'detection_types is waf_rule,', 'detection_types is waf_rule,', 'detection_types is waf_rule,', 'detection_types is waf_rule,', 'detection_types is waf_rule,', 'detection_types is waf_rule,', 'detection_types is waf_rule,', 'detection_types is waf_rule,', 'detection_types is waf_rule,', 'detection_types is waf_rule,', 'detection_types is waf_rule,', 'detection_types is waf_rule,', 'detection_types is waf_rule,', 'detection_types is waf_rule,', 'detection_types is waf_rule,', 'detection_types is waf_rule,', 'detection_types is waf_rule,', 'detection_types is waf_rule,', 'detection_types is waf_rule,', 'detection_types is waf_rule,', 'detection_types is waf_rule,', 'detection_types is waf_rule,', 'detection_types is waf_rule,', 'detection_types is waf_rule,', 'detection_types is waf_rule,', 'detection_types is waf_rule,', 'detection_types is waf_rule,', 'detection_types is waf_rule,', 'detection_types is waf_rule,', 'detection_types is waf_rule,', 'detection_types is waf_rule,', 'detection_types is waf_rule,', 'detection_types is waf_rule,']\n"
     ]
    },
    {
     "name": "stderr",
     "output_type": "stream",
     "text": [
      " 43%|████▎     | 122/282 [06:19<07:44,  2.90s/it]"
     ]
    },
    {
     "name": "stdout",
     "output_type": "stream",
     "text": [
      "['detection_types is waf_rule,', 'detection_types is waf_rule,', 'detection_types is waf_rule,', 'detection_types is waf_rule,', 'detection_types is waf_rule,', 'detection_types is waf_rule,', 'detection_types is waf_rule,', 'detection_types is waf_rule,', 'detection_types is waf_rule,', 'detection_types is waf_rule,', 'detection_types is waf_rule,', 'detection_types is waf_rule,', 'detection_types is waf_rule,', 'detection_types is waf_rule,', 'detection_types is waf_rule,', 'detection_types is waf_rule,', 'detection_types is waf_rule,', 'detection_types is waf_rule,', 'detection_types is waf_rule,', 'detection_types is waf_rule,', 'detection_types is waf_rule,', 'detection_types is waf_rule,', 'detection_types is waf_rule,', 'detection_types is waf_rule,', 'detection_types is waf_rule,', 'detection_types is waf_rule,', 'detection_types is waf_rule,', 'detection_types is waf_rule,', 'detection_types is waf_rule,', 'detection_types is waf_rule,', 'detection_types is waf_rule,', 'detection_types is waf_rule,', 'detection_types is waf_rule,', 'detection_types is waf_rule,', 'detection_types is waf_rule,', 'detection_types is waf_rule,', 'detection_types is waf_rule,', 'detection_types is waf_rule,', 'detection_types is waf_rule,', 'detection_types is waf_rule,', 'detection_types is waf_rule,', 'detection_types is waf_rule,', 'detection_types is waf_rule,', 'detection_types is waf_rule,', 'detection_types is waf_rule,', 'detection_types is waf_rule,', 'detection_types is waf_rule,', 'detection_types is waf_rule,', 'detection_types is waf_rule,', 'detection_types is waf_rule,']\n"
     ]
    },
    {
     "name": "stderr",
     "output_type": "stream",
     "text": [
      " 44%|████▎     | 123/282 [06:22<07:41,  2.90s/it]"
     ]
    },
    {
     "name": "stdout",
     "output_type": "stream",
     "text": [
      "['detection_types is waf_rule,', 'detection_types is waf_rule,', 'detection_types is waf_rule,', 'detection_types is waf_rule,', 'detection_types is waf_rule,', 'detection_types is waf_rule,', 'detection_types is waf_rule,', 'detection_types is waf_rule,', 'detection_types is waf_rule,', 'detection_types is waf_rule,', 'detection_types is waf_rule,', 'detection_types is waf_rule,', 'detection_types is waf_rule,', 'detection_types is waf_rule,', 'detection_types is waf_rule,', 'detection_types is waf_rule,', 'detection_types is waf_rule,', 'detection_types is waf_rule,', 'detection_types is waf_rule,', 'detection_types is waf_rule,', 'detection_types is waf_rule,', 'detection_types is waf_rule,', 'detection_types is waf_rule,', 'detection_types is waf_rule,', 'detection_types is waf_rule,', 'detection_types is waf_rule,', 'detection_types is waf_rule,', 'detection_types is waf_rule,', 'detection_types is waf_rule,', 'detection_types is waf_rule,', 'detection_types is waf_rule,', 'detection_types is waf_rule,', 'detection_types is waf_rule,', 'detection_types is waf_rule,', 'detection_types is waf_rule,', 'detection_types is waf_rule,', 'detection_types is waf_rule,', 'detection_types is waf_rule,', 'detection_types is waf_rule,', 'detection_types is waf_rule,', 'detection_types is waf_rule,', 'detection_types is waf_rule,', 'detection_types is waf_rule,', 'detection_types is waf_rule,', 'detection_types is waf_rule,', 'detection_types is waf_rule,', 'detection_types is waf_rule,', 'detection_types is waf_rule,', 'detection_types is waf_rule,', 'detection_types is waf_rule,']\n"
     ]
    },
    {
     "name": "stderr",
     "output_type": "stream",
     "text": [
      " 45%|████▌     | 127/282 [06:25<04:29,  1.74s/it]"
     ]
    },
    {
     "name": "stdout",
     "output_type": "stream",
     "text": [
      "['detection_types is waf_rule,', 'detection_types is waf_rule,', 'detection_types is waf_rule,', 'detection_types is waf_rule,', 'detection_types is waf_rule,', 'detection_types is waf_rule,', 'detection_types is waf_rule,', 'detection_types is waf_rule,', 'detection_types is waf_rule,', 'detection_types is waf_rule,', 'detection_types is waf_rule,', 'detection_types is waf_rule,', 'detection_types is waf_rule,', 'detection_types is waf_rule,', 'detection_types is waf_rule,', 'detection_types is waf_rule,', 'detection_types is waf_rule,', 'detection_types is waf_rule,', 'detection_types is waf_rule,', 'detection_types is waf_rule,', 'detection_types is waf_rule,', 'detection_types is waf_rule,', 'detection_types is waf_rule,', 'detection_types is waf_rule,', 'detection_types is waf_rule,', 'detection_types is waf_rule,', 'detection_types is waf_rule,', 'detection_types is waf_rule,', 'detection_types is waf_rule,', 'detection_types is waf_rule,', 'detection_types is waf_rule,', 'detection_types is waf_rule,', 'detection_types is waf_rule,', 'detection_types is waf_rule,', 'detection_types is waf_rule,', 'detection_types is waf_rule,', 'detection_types is waf_rule,', 'detection_types is waf_rule,', 'detection_types is waf_rule,', 'detection_types is waf_rule,', 'detection_types is waf_rule,', 'detection_types is waf_rule,', 'detection_types is waf_rule,', 'detection_types is waf_rule,', 'detection_types is waf_rule,', 'detection_types is waf_rule,', 'detection_types is waf_rule,', 'detection_types is waf_rule,', 'detection_types is waf_rule,', 'detection_types is waf_rule,']\n"
     ]
    },
    {
     "name": "stderr",
     "output_type": "stream",
     "text": [
      " 46%|████▌     | 129/282 [06:28<04:15,  1.67s/it]"
     ]
    },
    {
     "name": "stdout",
     "output_type": "stream",
     "text": [
      "['detection_types is waf_rule,', 'detection_types is waf_rule,', 'detection_types is waf_rule,', 'detection_types is waf_rule,', 'detection_types is waf_rule,', 'detection_types is waf_rule,', 'detection_types is waf_rule,', 'detection_types is waf_rule,', 'detection_types is waf_rule,', 'detection_types is waf_rule,', 'detection_types is waf_rule,', 'detection_types is waf_rule,', 'detection_types is waf_rule,', 'detection_types is waf_rule,', 'detection_types is waf_rule,', 'detection_types is waf_rule,', 'detection_types is waf_rule,', 'detection_types is waf_rule,', 'detection_types is waf_rule,', 'detection_types is waf_rule,', 'detection_types is waf_rule,', 'detection_types is waf_rule,', 'detection_types is waf_rule,', 'detection_types is waf_rule,', 'detection_types is waf_rule,', 'detection_types is waf_rule,', 'detection_types is waf_rule,', 'detection_types is waf_rule,', 'detection_types is waf_rule,', 'detection_types is waf_rule,', 'detection_types is waf_rule,', 'detection_types is waf_rule,', 'detection_types is waf_rule,', 'detection_types is waf_rule,', 'detection_types is waf_rule,', 'detection_types is waf_rule,', 'detection_types is waf_rule,', 'detection_types is waf_rule,', 'detection_types is waf_rule,', 'detection_types is waf_rule,', 'detection_types is waf_rule,', 'detection_types is waf_rule,', 'detection_types is waf_rule,', 'detection_types is waf_rule,', 'detection_types is waf_rule,', 'detection_types is waf_rule,', 'detection_types is waf_rule,', 'detection_types is waf_rule,', 'detection_types is waf_rule,', 'detection_types is waf_rule,']\n"
     ]
    },
    {
     "name": "stderr",
     "output_type": "stream",
     "text": [
      " 46%|████▌     | 130/282 [06:31<04:45,  1.88s/it]"
     ]
    },
    {
     "name": "stdout",
     "output_type": "stream",
     "text": [
      "['detection_types is waf_rule,', 'detection_types is waf_rule,', 'detection_types is waf_rule,', 'detection_types is waf_rule,', 'detection_types is waf_rule,', 'detection_types is waf_rule,', 'detection_types is waf_rule,', 'detection_types is waf_rule,', 'detection_types is waf_rule,', 'detection_types is waf_rule,', 'detection_types is waf_rule,', 'detection_types is waf_rule,', 'detection_types is waf_rule,', 'detection_types is waf_rule,', 'detection_types is waf_rule,', 'detection_types is waf_rule,', 'detection_types is waf_rule,', 'detection_types is waf_rule,', 'detection_types is waf_rule,', 'detection_types is waf_rule,', 'detection_types is waf_rule,', 'detection_types is waf_rule,', 'detection_types is waf_rule,', 'detection_types is waf_rule,', 'detection_types is waf_rule,', 'detection_types is waf_rule,', 'detection_types is waf_rule,', 'detection_types is waf_rule,', 'detection_types is waf_rule,', 'detection_types is waf_rule,', 'detection_types is waf_rule,', 'detection_types is waf_rule,', 'detection_types is waf_rule,', 'detection_types is waf_rule,', 'detection_types is waf_rule,', 'detection_types is waf_rule,', 'detection_types is waf_rule,', 'detection_types is waf_rule,', 'detection_types is waf_rule,', 'detection_types is waf_rule,', 'detection_types is waf_rule,', 'detection_types is waf_rule,', 'detection_types is waf_rule,', 'detection_types is waf_rule,', 'detection_types is waf_rule,', 'detection_types is waf_rule,', 'detection_types is waf_rule,', 'detection_types is waf_rule,', 'detection_types is waf_rule,', 'detection_types is waf_rule,']\n"
     ]
    },
    {
     "name": "stderr",
     "output_type": "stream",
     "text": [
      " 47%|████▋     | 132/282 [06:34<04:22,  1.75s/it]"
     ]
    },
    {
     "name": "stdout",
     "output_type": "stream",
     "text": [
      "['detection_types is waf_rule,', 'detection_types is waf_rule,', 'detection_types is waf_rule,', 'detection_types is waf_rule,', 'detection_types is waf_rule,', 'detection_types is waf_rule,', 'detection_types is waf_rule,', 'detection_types is waf_rule,', 'detection_types is waf_rule,', 'detection_types is waf_rule,', 'detection_types is waf_rule,', 'detection_types is waf_rule,', 'detection_types is waf_rule,', 'detection_types is waf_rule,', 'detection_types is waf_rule,', 'detection_types is waf_rule,', 'detection_types is waf_rule,', 'detection_types is waf_rule,', 'detection_types is waf_rule,', 'detection_types is waf_rule,', 'detection_types is waf_rule,', 'detection_types is waf_rule,', 'detection_types is waf_rule,', 'detection_types is waf_rule,', 'detection_types is waf_rule,', 'detection_types is waf_rule,', 'detection_types is waf_rule,', 'detection_types is waf_rule,', 'detection_types is waf_rule,', 'detection_types is waf_rule,', 'detection_types is waf_rule,', 'detection_types is waf_rule,', 'detection_types is waf_rule,', 'detection_types is waf_rule,', 'detection_types is waf_rule,', 'detection_types is waf_rule,', 'detection_types is waf_rule,', 'detection_types is waf_rule,', 'detection_types is waf_rule,', 'detection_types is waf_rule,', 'detection_types is waf_rule,', 'detection_types is waf_rule,', 'detection_types is waf_rule,', 'detection_types is waf_rule,', 'detection_types is waf_rule,', 'detection_types is waf_rule,', 'detection_types is waf_rule,', 'detection_types is waf_rule,', 'detection_types is waf_rule,', 'detection_types is waf_rule,']\n",
      "['detection_types is waf_rule,', 'detection_types is waf_rule,', 'detection_types is waf_rule,', 'detection_types is waf_rule,', 'detection_types is waf_rule,', 'detection_types is waf_rule,', 'detection_types is waf_rule,', 'detection_types is waf_rule,', 'detection_types is waf_rule,', 'detection_types is waf_rule,', 'detection_types is waf_rule,', 'detection_types is waf_rule,', 'detection_types is waf_rule,', 'detection_types is waf_rule,', 'detection_types is waf_rule,', 'detection_types is waf_rule,', 'detection_types is waf_rule,', 'detection_types is waf_rule,', 'detection_types is waf_rule,', 'detection_types is waf_rule,', 'detection_types is waf_rule,', 'detection_types is waf_rule,', 'detection_types is waf_rule,', 'detection_types is waf_rule,', 'detection_types is waf_rule,', 'detection_types is waf_rule,', 'detection_types is waf_rule,', 'detection_types is waf_rule,', 'detection_types is waf_rule,', 'detection_types is waf_rule,', 'detection_types is waf_rule,', 'detection_types is waf_rule,', 'detection_types is waf_rule,', 'detection_types is waf_rule,', 'detection_types is waf_rule,', 'detection_types is waf_rule,', 'detection_types is waf_rule,', 'detection_types is waf_rule,', 'detection_types is waf_rule,', 'detection_types is waf_rule,', 'detection_types is waf_rule,', 'detection_types is waf_rule,', 'detection_types is waf_rule,', 'detection_types is waf_rule,', 'detection_types is waf_rule,', 'detection_types is waf_rule,', 'detection_types is waf_rule,', 'detection_types is waf_rule,', 'detection_types is waf_rule,', 'detection_types is waf_rule,']\n"
     ]
    },
    {
     "name": "stderr",
     "output_type": "stream",
     "text": [
      " 48%|████▊     | 134/282 [06:39<05:12,  2.11s/it]"
     ]
    },
    {
     "name": "stdout",
     "output_type": "stream",
     "text": [
      "['detection_types is waf_rule,', 'detection_types is waf_rule,', 'detection_types is waf_rule,', 'detection_types is waf_rule,', 'detection_types is waf_rule,', 'detection_types is waf_rule,', 'detection_types is waf_rule,', 'detection_types is waf_rule,', 'detection_types is waf_rule,', 'detection_types is waf_rule,', 'detection_types is waf_rule,', 'detection_types is waf_rule,', 'detection_types is waf_rule,', 'detection_types is waf_rule,', 'detection_types is waf_rule,', 'detection_types is waf_rule,', 'detection_types is waf_rule,', 'detection_types is waf_rule,', 'detection_types is waf_rule,', 'detection_types is waf_rule,', 'detection_types is waf_rule,', 'detection_types is waf_rule,', 'detection_types is waf_rule,', 'detection_types is waf_rule,', 'detection_types is waf_rule,', 'detection_types is waf_rule,', 'detection_types is waf_rule,', 'detection_types is waf_rule,', 'detection_types is waf_rule,', 'detection_types is waf_rule,', 'detection_types is waf_rule,', 'detection_types is waf_rule,', 'detection_types is waf_rule,', 'detection_types is waf_rule,', 'detection_types is waf_rule,', 'detection_types is waf_rule,', 'detection_types is waf_rule,', 'detection_types is waf_rule,', 'detection_types is waf_rule,', 'detection_types is waf_rule,', 'detection_types is waf_rule,', 'detection_types is waf_rule,', 'detection_types is waf_rule,', 'detection_types is waf_rule,', 'detection_types is waf_rule,', 'detection_types is waf_rule,', 'detection_types is waf_rule,', 'detection_types is waf_rule,', 'detection_types is waf_rule,', 'detection_types is waf_rule,']\n"
     ]
    },
    {
     "name": "stderr",
     "output_type": "stream",
     "text": [
      " 48%|████▊     | 135/282 [06:42<05:29,  2.24s/it]"
     ]
    },
    {
     "name": "stdout",
     "output_type": "stream",
     "text": [
      "['detection_types is waf_rule,', 'detection_types is waf_rule,', 'detection_types is waf_rule,', 'detection_types is waf_rule,', 'detection_types is waf_rule,', 'detection_types is waf_rule,', 'detection_types is waf_rule,', 'detection_types is waf_rule,', 'detection_types is waf_rule,', 'detection_types is waf_rule,', 'detection_types is waf_rule,', 'detection_types is waf_rule,', 'detection_types is waf_rule,', 'detection_types is waf_rule,', 'detection_types is waf_rule,', 'detection_types is waf_rule,', 'detection_types is waf_rule,', 'detection_types is waf_rule,', 'detection_types is waf_rule,', 'detection_types is waf_rule,', 'detection_types is waf_rule,', 'detection_types is waf_rule,', 'detection_types is waf_rule,', 'detection_types is waf_rule,', 'detection_types is waf_rule,', 'detection_types is waf_rule,', 'detection_types is waf_rule,', 'detection_types is waf_rule,', 'detection_types is waf_rule,', 'detection_types is waf_rule,', 'detection_types is waf_rule,', 'detection_types is waf_rule,', 'detection_types is waf_rule,', 'detection_types is waf_rule,', 'detection_types is waf_rule,', 'detection_types is waf_rule,', 'detection_types is waf_rule,', 'detection_types is waf_rule,', 'detection_types is waf_rule,', 'detection_types is waf_rule,', 'detection_types is waf_rule,', 'detection_types is waf_rule,', 'detection_types is waf_rule,', 'detection_types is waf_rule,', 'detection_types is waf_rule,', 'detection_types is waf_rule,', 'detection_types is waf_rule,', 'detection_types is waf_rule,', 'detection_types is waf_rule,', 'detection_types is waf_rule,']\n"
     ]
    },
    {
     "name": "stderr",
     "output_type": "stream",
     "text": [
      " 49%|████▉     | 138/282 [06:45<04:04,  1.70s/it]"
     ]
    },
    {
     "name": "stdout",
     "output_type": "stream",
     "text": [
      "['detection_types is waf_rule,', 'detection_types is waf_rule,', 'detection_types is waf_rule,', 'detection_types is waf_rule,', 'detection_types is waf_rule,', 'detection_types is waf_rule,', 'detection_types is waf_rule,', 'detection_types is waf_rule,', 'detection_types is waf_rule,', 'detection_types is waf_rule,', 'detection_types is waf_rule,', 'detection_types is waf_rule,', 'detection_types is waf_rule,', 'detection_types is waf_rule,', 'detection_types is waf_rule,', 'detection_types is waf_rule,', 'detection_types is waf_rule,', 'detection_types is waf_rule,', 'detection_types is waf_rule,', 'detection_types is waf_rule,', 'detection_types is waf_rule,', 'detection_types is waf_rule,', 'detection_types is waf_rule,', 'detection_types is waf_rule,', 'detection_types is waf_rule,', 'detection_types is waf_rule,', 'detection_types is waf_rule,', 'detection_types is waf_rule,', 'detection_types is waf_rule,', 'detection_types is waf_rule,', 'detection_types is waf_rule,', 'detection_types is waf_rule,', 'detection_types is waf_rule,', 'detection_types is waf_rule,', 'detection_types is waf_rule,', 'detection_types is waf_rule,', 'detection_types is waf_rule,', 'detection_types is waf_rule,', 'detection_types is waf_rule,', 'detection_types is waf_rule,', 'detection_types is waf_rule,', 'detection_types is waf_rule,', 'detection_types is waf_rule,', 'detection_types is waf_rule,', 'detection_types is waf_rule,', 'detection_types is waf_rule,', 'detection_types is waf_rule,', 'detection_types is waf_rule,', 'detection_types is waf_rule,', 'detection_types is waf_rule,']\n"
     ]
    },
    {
     "name": "stderr",
     "output_type": "stream",
     "text": [
      " 49%|████▉     | 139/282 [06:48<04:33,  1.91s/it]"
     ]
    },
    {
     "name": "stdout",
     "output_type": "stream",
     "text": [
      "['detection_types is waf_rule,', 'detection_types is waf_rule,', 'detection_types is waf_rule,', 'detection_types is waf_rule,', 'detection_types is waf_rule,', 'detection_types is waf_rule,', 'detection_types is waf_rule,', 'detection_types is waf_rule,', 'detection_types is waf_rule,', 'detection_types is waf_rule,', 'detection_types is waf_rule,', 'detection_types is waf_rule,', 'detection_types is waf_rule,', 'detection_types is waf_rule,', 'detection_types is waf_rule,', 'detection_types is waf_rule,', 'detection_types is waf_rule,', 'detection_types is waf_rule,', 'detection_types is waf_rule,', 'detection_types is waf_rule,', 'detection_types is waf_rule,', 'detection_types is waf_rule,', 'detection_types is waf_rule,', 'detection_types is waf_rule,', 'detection_types is waf_rule,', 'detection_types is waf_rule,', 'detection_types is waf_rule,', 'detection_types is waf_rule,', 'detection_types is waf_rule,', 'detection_types is waf_rule,', 'detection_types is waf_rule,', 'detection_types is waf_rule,', 'detection_types is waf_rule,', 'detection_types is waf_rule,', 'detection_types is waf_rule,', 'detection_types is waf_rule,', 'detection_types is waf_rule,', 'detection_types is waf_rule,', 'detection_types is waf_rule,', 'detection_types is waf_rule,', 'detection_types is waf_rule,', 'detection_types is waf_rule,', 'detection_types is waf_rule,', 'detection_types is waf_rule,', 'detection_types is waf_rule,', 'detection_types is waf_rule,', 'detection_types is waf_rule,', 'detection_types is waf_rule,', 'detection_types is waf_rule,', 'detection_types is waf_rule,']\n"
     ]
    },
    {
     "name": "stderr",
     "output_type": "stream",
     "text": [
      " 50%|████▉     | 140/282 [06:51<04:57,  2.10s/it]"
     ]
    },
    {
     "name": "stdout",
     "output_type": "stream",
     "text": [
      "['detection_types is waf_rule,', 'detection_types is waf_rule,', 'detection_types is waf_rule,', 'detection_types is waf_rule,', 'detection_types is waf_rule,', 'detection_types is waf_rule,', 'detection_types is waf_rule,', 'detection_types is waf_rule,', 'detection_types is waf_rule,', 'detection_types is waf_rule,', 'detection_types is waf_rule,', 'detection_types is waf_rule,', 'detection_types is waf_rule,', 'detection_types is waf_rule,', 'detection_types is waf_rule,', 'detection_types is waf_rule,', 'detection_types is waf_rule,', 'detection_types is waf_rule,', 'detection_types is waf_rule,', 'detection_types is waf_rule,', 'detection_types is waf_rule,', 'detection_types is waf_rule,', 'detection_types is waf_rule,', 'detection_types is waf_rule,', 'detection_types is waf_rule,', 'detection_types is waf_rule,', 'detection_types is waf_rule,', 'detection_types is waf_rule,', 'detection_types is waf_rule,', 'detection_types is waf_rule,', 'detection_types is waf_rule,', 'detection_types is waf_rule,', 'detection_types is waf_rule,', 'detection_types is waf_rule,', 'detection_types is waf_rule,', 'detection_types is waf_rule,', 'detection_types is waf_rule,', 'detection_types is waf_rule,', 'detection_types is waf_rule,', 'detection_types is waf_rule,', 'detection_types is waf_rule,', 'detection_types is waf_rule,', 'detection_types is waf_rule,', 'detection_types is waf_rule,', 'detection_types is waf_rule,', 'detection_types is waf_rule,', 'detection_types is waf_rule,', 'detection_types is waf_rule,', 'detection_types is waf_rule,', 'detection_types is waf_rule,']\n"
     ]
    },
    {
     "name": "stderr",
     "output_type": "stream",
     "text": [
      " 50%|█████     | 141/282 [06:54<05:19,  2.27s/it]"
     ]
    },
    {
     "name": "stdout",
     "output_type": "stream",
     "text": [
      "['detection_types is waf_rule,', 'detection_types is waf_rule,', 'detection_types is waf_rule,', 'detection_types is waf_rule,', 'detection_types is waf_rule,', 'detection_types is waf_rule,', 'detection_types is waf_rule,', 'detection_types is waf_rule,', 'detection_types is waf_rule,', 'detection_types is waf_rule,', 'detection_types is waf_rule,', 'detection_types is waf_rule,', 'detection_types is waf_rule,', 'detection_types is waf_rule,', 'detection_types is waf_rule,', 'detection_types is waf_rule,', 'detection_types is waf_rule,', 'detection_types is waf_rule,', 'detection_types is waf_rule,', 'detection_types is waf_rule,', 'detection_types is waf_rule,', 'detection_types is waf_rule,', 'detection_types is waf_rule,', 'detection_types is waf_rule,', 'detection_types is waf_rule,', 'detection_types is waf_rule,', 'detection_types is waf_rule,', 'detection_types is waf_rule,', 'detection_types is waf_rule,', 'detection_types is waf_rule,', 'detection_types is waf_rule,', 'detection_types is waf_rule,', 'detection_types is waf_rule,', 'detection_types is waf_rule,', 'detection_types is waf_rule,', 'detection_types is waf_rule,', 'detection_types is waf_rule,', 'detection_types is waf_rule,', 'detection_types is waf_rule,', 'detection_types is waf_rule,', 'detection_types is waf_rule,', 'detection_types is waf_rule,', 'detection_types is waf_rule,', 'detection_types is waf_rule,', 'detection_types is waf_rule,', 'detection_types is waf_rule,', 'detection_types is waf_rule,', 'detection_types is waf_rule,', 'detection_types is waf_rule,', 'detection_types is waf_rule,']\n",
      "['detection_types is waf_rule,', 'detection_types is waf_rule,', 'detection_types is waf_rule,', 'detection_types is waf_rule,', 'detection_types is waf_rule,', 'detection_types is waf_rule,', 'detection_types is waf_rule,', 'detection_types is waf_rule,', 'detection_types is waf_rule,', 'detection_types is waf_rule,', 'detection_types is waf_rule,', 'detection_types is waf_rule,', 'detection_types is waf_rule,', 'detection_types is waf_rule,', 'detection_types is waf_rule,', 'detection_types is waf_rule,', 'detection_types is waf_rule,', 'detection_types is waf_rule,', 'detection_types is waf_rule,', 'detection_types is waf_rule,', 'detection_types is waf_rule,', 'detection_types is waf_rule,', 'detection_types is waf_rule,', 'detection_types is waf_rule,', 'detection_types is waf_rule,', 'detection_types is waf_rule,', 'detection_types is waf_rule,', 'detection_types is waf_rule,', 'detection_types is waf_rule,', 'detection_types is waf_rule,', 'detection_types is waf_rule,', 'detection_types is waf_rule,', 'detection_types is waf_rule,', 'detection_types is waf_rule,', 'detection_types is waf_rule,', 'detection_types is waf_rule,', 'detection_types is waf_rule,', 'detection_types is waf_rule,', 'detection_types is waf_rule,', 'detection_types is waf_rule,', 'detection_types is waf_rule,', 'detection_types is waf_rule,', 'detection_types is waf_rule,', 'detection_types is waf_rule,', 'detection_types is waf_rule,', 'detection_types is waf_rule,', 'detection_types is waf_rule,', 'detection_types is waf_rule,', 'detection_types is waf_rule,', 'detection_types is waf_rule,']\n",
      "['detection_types is waf_rule,', 'detection_types is waf_rule,', 'detection_types is waf_rule,', 'detection_types is waf_rule,', 'detection_types is waf_rule,', 'detection_types is waf_rule,', 'detection_types is waf_rule,', 'detection_types is waf_rule,', 'detection_types is waf_rule,', 'detection_types is waf_rule,', 'detection_types is waf_rule,', 'detection_types is waf_rule,', 'detection_types is waf_rule,', 'detection_types is waf_rule,', 'detection_types is waf_rule,', 'detection_types is waf_rule,', 'detection_types is waf_rule,', 'detection_types is waf_rule,', 'detection_types is waf_rule,', 'detection_types is waf_rule,', 'detection_types is waf_rule,', 'detection_types is waf_rule,', 'detection_types is waf_rule,', 'detection_types is waf_rule,', 'detection_types is waf_rule,', 'detection_types is waf_rule,', 'detection_types is waf_rule,', 'detection_types is waf_rule,', 'detection_types is waf_rule,', 'detection_types is waf_rule,', 'detection_types is waf_rule,', 'detection_types is waf_rule,', 'detection_types is waf_rule,', 'detection_types is waf_rule,', 'detection_types is waf_rule,', 'detection_types is waf_rule,', 'detection_types is waf_rule,', 'detection_types is waf_rule,', 'detection_types is waf_rule,', 'detection_types is waf_rule,', 'detection_types is waf_rule,', 'detection_types is waf_rule,', 'detection_types is waf_rule,', 'detection_types is waf_rule,', 'detection_types is waf_rule,', 'detection_types is waf_rule,', 'detection_types is waf_rule,', 'detection_types is waf_rule,', 'detection_types is waf_rule,', 'detection_types is waf_rule,']\n",
      "['detection_types is waf_rule,', 'detection_types is waf_rule,', 'detection_types is waf_rule,', 'detection_types is waf_rule,', 'detection_types is waf_rule,', 'detection_types is waf_rule,', 'detection_types is waf_rule,', 'detection_types is waf_rule,', 'detection_types is waf_rule,', 'detection_types is waf_rule,', 'detection_types is waf_rule,', 'detection_types is waf_rule,', 'detection_types is waf_rule,', 'detection_types is waf_rule,', 'detection_types is waf_rule,', 'detection_types is waf_rule,', 'detection_types is waf_rule,', 'detection_types is waf_rule,', 'detection_types is waf_rule,', 'detection_types is waf_rule,', 'detection_types is waf_rule,', 'detection_types is waf_rule,', 'detection_types is waf_rule,', 'detection_types is waf_rule,', 'detection_types is waf_rule,', 'detection_types is waf_rule,', 'detection_types is waf_rule,', 'detection_types is waf_rule,', 'detection_types is waf_rule,', 'detection_types is waf_rule,', 'detection_types is waf_rule,', 'detection_types is waf_rule,', 'detection_types is waf_rule,', 'detection_types is waf_rule,', 'detection_types is waf_rule,', 'detection_types is waf_rule,', 'detection_types is waf_rule,', 'detection_types is waf_rule,', 'detection_types is waf_rule,', 'detection_types is waf_rule,', 'detection_types is waf_rule,', 'detection_types is waf_rule,', 'detection_types is waf_rule,', 'detection_types is waf_rule,', 'detection_types is waf_rule,', 'detection_types is waf_rule,', 'detection_types is waf_rule,', 'detection_types is waf_rule,', 'detection_types is waf_rule,', 'detection_types is waf_rule,']\n",
      "['detection_types is waf_rule,', 'detection_types is waf_rule,', 'detection_types is waf_rule,', 'detection_types is waf_rule,', 'detection_types is waf_rule,', 'detection_types is waf_rule,', 'detection_types is waf_rule,', 'detection_types is waf_rule,', 'detection_types is waf_rule,', 'detection_types is waf_rule,', 'detection_types is waf_rule,', 'detection_types is waf_rule,', 'detection_types is waf_rule,', 'detection_types is waf_rule,', 'detection_types is waf_rule,', 'detection_types is waf_rule,', 'detection_types is waf_rule,', 'detection_types is waf_rule,', 'detection_types is waf_rule,', 'detection_types is waf_rule,', 'detection_types is waf_rule,', 'detection_types is waf_rule,', 'detection_types is waf_rule,', 'detection_types is waf_rule,', 'detection_types is waf_rule,', 'detection_types is waf_rule,', 'detection_types is waf_rule,', 'detection_types is waf_rule,', 'detection_types is waf_rule,', 'detection_types is waf_rule,', 'detection_types is waf_rule,', 'detection_types is waf_rule,', 'detection_types is waf_rule,', 'detection_types is waf_rule,', 'detection_types is waf_rule,', 'detection_types is waf_rule,', 'detection_types is waf_rule,', 'detection_types is waf_rule,', 'detection_types is waf_rule,', 'detection_types is waf_rule,', 'detection_types is waf_rule,', 'detection_types is waf_rule,', 'detection_types is waf_rule,', 'detection_types is waf_rule,', 'detection_types is waf_rule,', 'detection_types is waf_rule,', 'detection_types is waf_rule,', 'detection_types is waf_rule,', 'detection_types is waf_rule,', 'detection_types is waf_rule,']\n"
     ]
    },
    {
     "name": "stderr",
     "output_type": "stream",
     "text": [
      " 50%|█████     | 142/282 [07:09<12:17,  5.27s/it]"
     ]
    },
    {
     "name": "stdout",
     "output_type": "stream",
     "text": [
      "['detection_types is waf_rule,', 'detection_types is waf_rule,', 'detection_types is waf_rule,', 'detection_types is waf_rule,', 'detection_types is waf_rule,', 'detection_types is waf_rule,', 'detection_types is waf_rule,', 'detection_types is waf_rule,', 'detection_types is waf_rule,', 'detection_types is waf_rule,', 'detection_types is waf_rule,', 'detection_types is waf_rule,', 'detection_types is waf_rule,', 'detection_types is waf_rule,', 'detection_types is waf_rule,', 'detection_types is waf_rule,', 'detection_types is waf_rule,', 'detection_types is waf_rule,', 'detection_types is waf_rule,', 'detection_types is waf_rule,', 'detection_types is waf_rule,', 'detection_types is waf_rule,', 'detection_types is waf_rule,', 'detection_types is waf_rule,', 'detection_types is waf_rule,', 'detection_types is waf_rule,', 'detection_types is waf_rule,', 'detection_types is waf_rule,', 'detection_types is waf_rule,', 'detection_types is waf_rule,', 'detection_types is waf_rule,', 'detection_types is waf_rule,', 'detection_types is waf_rule,', 'detection_types is waf_rule,', 'detection_types is waf_rule,', 'detection_types is waf_rule,', 'detection_types is waf_rule,', 'detection_types is waf_rule,', 'detection_types is waf_rule,', 'detection_types is waf_rule,', 'detection_types is waf_rule,', 'detection_types is waf_rule,', 'detection_types is waf_rule,', 'detection_types is waf_rule,', 'detection_types is waf_rule,', 'detection_types is waf_rule,', 'detection_types is waf_rule,', 'detection_types is waf_rule,', 'detection_types is waf_rule,', 'detection_types is waf_rule,']\n",
      "['detection_types is waf_rule,', 'detection_types is waf_rule,', 'detection_types is waf_rule,', 'detection_types is waf_rule,', 'detection_types is waf_rule,', 'detection_types is waf_rule,', 'detection_types is waf_rule,', 'detection_types is waf_rule,', 'detection_types is waf_rule,', 'detection_types is waf_rule,', 'detection_types is waf_rule,', 'detection_types is waf_rule,', 'detection_types is waf_rule,', 'detection_types is waf_rule,', 'detection_types is waf_rule,', 'detection_types is waf_rule,', 'detection_types is waf_rule,', 'detection_types is waf_rule,', 'detection_types is waf_rule,', 'detection_types is waf_rule,', 'detection_types is waf_rule,', 'detection_types is waf_rule,', 'detection_types is waf_rule,', 'detection_types is waf_rule,', 'detection_types is waf_rule,', 'detection_types is waf_rule,', 'detection_types is waf_rule,', 'detection_types is waf_rule,', 'detection_types is waf_rule,', 'detection_types is waf_rule,', 'detection_types is waf_rule,', 'detection_types is waf_rule,', 'detection_types is waf_rule,', 'detection_types is waf_rule,', 'detection_types is waf_rule,', 'detection_types is waf_rule,', 'detection_types is waf_rule,', 'detection_types is waf_rule,', 'detection_types is waf_rule,', 'detection_types is waf_rule,', 'detection_types is waf_rule,', 'detection_types is waf_rule,', 'detection_types is waf_rule,', 'detection_types is waf_rule,', 'detection_types is waf_rule,', 'detection_types is waf_rule,', 'detection_types is waf_rule,', 'detection_types is waf_rule,', 'detection_types is waf_rule,', 'detection_types is waf_rule,']\n"
     ]
    },
    {
     "name": "stderr",
     "output_type": "stream",
     "text": [
      " 51%|█████     | 144/282 [07:14<09:49,  4.27s/it]"
     ]
    },
    {
     "name": "stdout",
     "output_type": "stream",
     "text": [
      "['detection_types is waf_rule,', 'detection_types is waf_rule,', 'detection_types is waf_rule,', 'detection_types is waf_rule,', 'detection_types is waf_rule,', 'detection_types is waf_rule,', 'detection_types is waf_rule,', 'detection_types is waf_rule,', 'detection_types is waf_rule,', 'detection_types is waf_rule,', 'detection_types is waf_rule,', 'detection_types is waf_rule,', 'detection_types is waf_rule,', 'detection_types is waf_rule,', 'detection_types is waf_rule,', 'detection_types is waf_rule,', 'detection_types is waf_rule,', 'detection_types is waf_rule,', 'detection_types is waf_rule,', 'detection_types is waf_rule,', 'detection_types is waf_rule,', 'detection_types is waf_rule,', 'detection_types is waf_rule,', 'detection_types is waf_rule,', 'detection_types is waf_rule,', 'detection_types is waf_rule,', 'detection_types is waf_rule,', 'detection_types is waf_rule,', 'detection_types is waf_rule,', 'detection_types is waf_rule,', 'detection_types is waf_rule,', 'detection_types is waf_rule,', 'detection_types is waf_rule,', 'detection_types is waf_rule,', 'detection_types is waf_rule,', 'detection_types is waf_rule,', 'detection_types is waf_rule,', 'detection_types is waf_rule,', 'detection_types is waf_rule,', 'detection_types is waf_rule,', 'detection_types is waf_rule,', 'detection_types is waf_rule,', 'detection_types is waf_rule,', 'detection_types is waf_rule,', 'detection_types is waf_rule,', 'detection_types is waf_rule,', 'detection_types is waf_rule,', 'detection_types is waf_rule,', 'detection_types is waf_rule,', 'detection_types is waf_rule,']\n"
     ]
    },
    {
     "name": "stderr",
     "output_type": "stream",
     "text": [
      " 51%|█████▏    | 145/282 [07:17<09:04,  3.98s/it]"
     ]
    },
    {
     "name": "stdout",
     "output_type": "stream",
     "text": [
      "['detection_types is waf_rule,', 'detection_types is waf_rule,', 'detection_types is waf_rule,', 'detection_types is waf_rule,', 'detection_types is waf_rule,', 'detection_types is waf_rule,', 'detection_types is waf_rule,', 'detection_types is waf_rule,', 'detection_types is waf_rule,', 'detection_types is waf_rule,', 'detection_types is waf_rule,', 'detection_types is waf_rule,', 'detection_types is waf_rule,', 'detection_types is waf_rule,', 'detection_types is waf_rule,', 'detection_types is waf_rule,', 'detection_types is waf_rule,', 'detection_types is waf_rule,', 'detection_types is waf_rule,', 'detection_types is waf_rule,', 'detection_types is waf_rule,', 'detection_types is waf_rule,', 'detection_types is waf_rule,', 'detection_types is waf_rule,', 'detection_types is waf_rule,', 'detection_types is waf_rule,', 'detection_types is waf_rule,', 'detection_types is waf_rule,', 'detection_types is waf_rule,', 'detection_types is waf_rule,', 'detection_types is waf_rule,', 'detection_types is waf_rule,', 'detection_types is waf_rule,', 'detection_types is waf_rule,', 'detection_types is waf_rule,', 'detection_types is waf_rule,', 'detection_types is waf_rule,', 'detection_types is waf_rule,', 'detection_types is waf_rule,', 'detection_types is waf_rule,', 'detection_types is waf_rule,', 'detection_types is waf_rule,', 'detection_types is waf_rule,', 'detection_types is waf_rule,', 'detection_types is waf_rule,', 'detection_types is waf_rule,', 'detection_types is waf_rule,', 'detection_types is waf_rule,', 'detection_types is waf_rule,', 'detection_types is waf_rule,']\n",
      "['detection_types is waf_rule,', 'detection_types is waf_rule,', 'detection_types is waf_rule,', 'detection_types is waf_rule,', 'detection_types is waf_rule,', 'detection_types is waf_rule,', 'detection_types is waf_rule,', 'detection_types is waf_rule,', 'detection_types is waf_rule,', 'detection_types is waf_rule,', 'detection_types is waf_rule,', 'detection_types is waf_rule,', 'detection_types is waf_rule,', 'detection_types is waf_rule,', 'detection_types is waf_rule,', 'detection_types is waf_rule,', 'detection_types is waf_rule,', 'detection_types is waf_rule,', 'detection_types is waf_rule,', 'detection_types is waf_rule,', 'detection_types is waf_rule,', 'detection_types is waf_rule,', 'detection_types is waf_rule,', 'detection_types is waf_rule,', 'detection_types is waf_rule,', 'detection_types is waf_rule,', 'detection_types is waf_rule,', 'detection_types is waf_rule,', 'detection_types is waf_rule,', 'detection_types is waf_rule,', 'detection_types is waf_rule,', 'detection_types is waf_rule,', 'detection_types is waf_rule,', 'detection_types is waf_rule,', 'detection_types is waf_rule,', 'detection_types is waf_rule,', 'detection_types is waf_rule,', 'detection_types is waf_rule,', 'detection_types is waf_rule,', 'detection_types is waf_rule,', 'detection_types is waf_rule,', 'detection_types is waf_rule,', 'detection_types is waf_rule,', 'detection_types is waf_rule,', 'detection_types is waf_rule,', 'detection_types is waf_rule,', 'detection_types is waf_rule,', 'detection_types is waf_rule,', 'detection_types is waf_rule,', 'detection_types is waf_rule,']\n"
     ]
    },
    {
     "name": "stderr",
     "output_type": "stream",
     "text": [
      " 52%|█████▏    | 147/282 [07:23<07:58,  3.55s/it]"
     ]
    },
    {
     "name": "stdout",
     "output_type": "stream",
     "text": [
      "['detection_types is waf_rule,', 'detection_types is waf_rule,', 'detection_types is waf_rule,', 'detection_types is waf_rule,', 'detection_types is waf_rule,', 'detection_types is waf_rule,', 'detection_types is waf_rule,', 'detection_types is waf_rule,', 'detection_types is waf_rule,', 'detection_types is waf_rule,', 'detection_types is waf_rule,', 'detection_types is waf_rule,', 'detection_types is waf_rule,', 'detection_types is waf_rule,', 'detection_types is waf_rule,', 'detection_types is waf_rule,', 'detection_types is waf_rule,', 'detection_types is waf_rule,', 'detection_types is waf_rule,', 'detection_types is waf_rule,', 'detection_types is waf_rule,', 'detection_types is waf_rule,', 'detection_types is waf_rule,', 'detection_types is waf_rule,', 'detection_types is waf_rule,', 'detection_types is waf_rule,', 'detection_types is waf_rule,', 'detection_types is waf_rule,', 'detection_types is waf_rule,', 'detection_types is waf_rule,', 'detection_types is waf_rule,', 'detection_types is waf_rule,', 'detection_types is waf_rule,', 'detection_types is waf_rule,', 'detection_types is waf_rule,', 'detection_types is waf_rule,', 'detection_types is waf_rule,', 'detection_types is waf_rule,', 'detection_types is waf_rule,', 'detection_types is waf_rule,', 'detection_types is waf_rule,', 'detection_types is waf_rule,', 'detection_types is waf_rule,', 'detection_types is waf_rule,', 'detection_types is waf_rule,', 'detection_types is waf_rule,', 'detection_types is waf_rule,', 'detection_types is waf_rule,', 'detection_types is waf_rule,', 'detection_types is waf_rule,']\n"
     ]
    },
    {
     "name": "stderr",
     "output_type": "stream",
     "text": [
      " 53%|█████▎    | 149/282 [07:26<06:11,  2.79s/it]"
     ]
    },
    {
     "name": "stdout",
     "output_type": "stream",
     "text": [
      "['detection_types is waf_rule,', 'detection_types is waf_rule,', 'detection_types is waf_rule,', 'detection_types is waf_rule,', 'detection_types is waf_rule,', 'detection_types is waf_rule,', 'detection_types is waf_rule,', 'detection_types is waf_rule,', 'detection_types is waf_rule,', 'detection_types is waf_rule,', 'detection_types is waf_rule,', 'detection_types is waf_rule,', 'detection_types is waf_rule,', 'detection_types is waf_rule,', 'detection_types is waf_rule,', 'detection_types is waf_rule,', 'detection_types is waf_rule,', 'detection_types is waf_rule,', 'detection_types is waf_rule,', 'detection_types is waf_rule,', 'detection_types is waf_rule,', 'detection_types is waf_rule,', 'detection_types is waf_rule,', 'detection_types is waf_rule,', 'detection_types is waf_rule,', 'detection_types is waf_rule,', 'detection_types is waf_rule,', 'detection_types is waf_rule,', 'detection_types is waf_rule,', 'detection_types is waf_rule,', 'detection_types is waf_rule,', 'detection_types is waf_rule,', 'detection_types is waf_rule,', 'detection_types is waf_rule,', 'detection_types is waf_rule,', 'detection_types is waf_rule,', 'detection_types is waf_rule,', 'detection_types is waf_rule,', 'detection_types is waf_rule,', 'detection_types is waf_rule,', 'detection_types is waf_rule,', 'detection_types is waf_rule,', 'detection_types is waf_rule,', 'detection_types is waf_rule,', 'detection_types is waf_rule,', 'detection_types is waf_rule,', 'detection_types is waf_rule,', 'detection_types is waf_rule,', 'detection_types is waf_rule,', 'detection_types is waf_rule,']\n",
      "['detection_types is waf_rule,', 'detection_types is waf_rule,', 'detection_types is waf_rule,', 'detection_types is waf_rule,', 'detection_types is waf_rule,', 'detection_types is waf_rule,', 'detection_types is waf_rule,', 'detection_types is waf_rule,', 'detection_types is waf_rule,', 'detection_types is waf_rule,', 'detection_types is waf_rule,', 'detection_types is waf_rule,', 'detection_types is waf_rule,', 'detection_types is waf_rule,', 'detection_types is waf_rule,', 'detection_types is waf_rule,', 'detection_types is waf_rule,', 'detection_types is waf_rule,', 'detection_types is waf_rule,', 'detection_types is waf_rule,', 'detection_types is waf_rule,', 'detection_types is waf_rule,', 'detection_types is waf_rule,', 'detection_types is waf_rule,', 'detection_types is waf_rule,', 'detection_types is waf_rule,', 'detection_types is waf_rule,', 'detection_types is waf_rule,', 'detection_types is waf_rule,', 'detection_types is waf_rule,', 'detection_types is waf_rule,', 'detection_types is waf_rule,', 'detection_types is waf_rule,', 'detection_types is waf_rule,', 'detection_types is waf_rule,', 'detection_types is waf_rule,', 'detection_types is waf_rule,', 'detection_types is waf_rule,', 'detection_types is waf_rule,', 'detection_types is waf_rule,', 'detection_types is waf_rule,', 'detection_types is waf_rule,', 'detection_types is waf_rule,', 'detection_types is waf_rule,', 'detection_types is waf_rule,', 'detection_types is waf_rule,', 'detection_types is waf_rule,', 'detection_types is waf_rule,', 'detection_types is waf_rule,', 'detection_types is waf_rule,']\n"
     ]
    },
    {
     "name": "stderr",
     "output_type": "stream",
     "text": [
      " 53%|█████▎    | 150/282 [07:32<07:35,  3.45s/it]"
     ]
    },
    {
     "name": "stdout",
     "output_type": "stream",
     "text": [
      "['detection_types is waf_rule,', 'detection_types is waf_rule,', 'detection_types is waf_rule,', 'detection_types is waf_rule,', 'detection_types is waf_rule,', 'detection_types is waf_rule,', 'detection_types is waf_rule,', 'detection_types is waf_rule,', 'detection_types is waf_rule,', 'detection_types is waf_rule,', 'detection_types is waf_rule,', 'detection_types is waf_rule,', 'detection_types is waf_rule,', 'detection_types is waf_rule,', 'detection_types is waf_rule,', 'detection_types is waf_rule,', 'detection_types is waf_rule,', 'detection_types is waf_rule,', 'detection_types is waf_rule,', 'detection_types is waf_rule,', 'detection_types is waf_rule,', 'detection_types is waf_rule,', 'detection_types is waf_rule,', 'detection_types is waf_rule,', 'detection_types is waf_rule,', 'detection_types is waf_rule,', 'detection_types is waf_rule,', 'detection_types is waf_rule,', 'detection_types is waf_rule,', 'detection_types is waf_rule,', 'detection_types is waf_rule,', 'detection_types is waf_rule,', 'detection_types is waf_rule,', 'detection_types is waf_rule,', 'detection_types is waf_rule,', 'detection_types is waf_rule,', 'detection_types is waf_rule,', 'detection_types is waf_rule,', 'detection_types is waf_rule,', 'detection_types is waf_rule,', 'detection_types is waf_rule,', 'detection_types is waf_rule,', 'detection_types is waf_rule,', 'detection_types is waf_rule,', 'detection_types is waf_rule,', 'detection_types is waf_rule,', 'detection_types is waf_rule,', 'detection_types is waf_rule,', 'detection_types is waf_rule,', 'detection_types is waf_rule,']\n"
     ]
    },
    {
     "name": "stderr",
     "output_type": "stream",
     "text": [
      " 54%|█████▍    | 152/282 [07:35<05:52,  2.71s/it]"
     ]
    },
    {
     "name": "stdout",
     "output_type": "stream",
     "text": [
      "['detection_types is waf_rule,', 'detection_types is waf_rule,', 'detection_types is waf_rule,', 'detection_types is waf_rule,', 'detection_types is waf_rule,', 'detection_types is waf_rule,', 'detection_types is waf_rule,', 'detection_types is waf_rule,', 'detection_types is waf_rule,', 'detection_types is waf_rule,', 'detection_types is waf_rule,', 'detection_types is waf_rule,', 'detection_types is waf_rule,', 'detection_types is waf_rule,', 'detection_types is waf_rule,', 'detection_types is waf_rule,', 'detection_types is waf_rule,', 'detection_types is waf_rule,', 'detection_types is waf_rule,', 'detection_types is waf_rule,', 'detection_types is waf_rule,', 'detection_types is waf_rule,', 'detection_types is waf_rule,', 'detection_types is waf_rule,', 'detection_types is waf_rule,', 'detection_types is waf_rule,', 'detection_types is waf_rule,', 'detection_types is waf_rule,', 'detection_types is waf_rule,', 'detection_types is waf_rule,', 'detection_types is waf_rule,', 'detection_types is waf_rule,', 'detection_types is waf_rule,', 'detection_types is waf_rule,', 'detection_types is waf_rule,', 'detection_types is waf_rule,', 'detection_types is waf_rule,', 'detection_types is waf_rule,', 'detection_types is waf_rule,', 'detection_types is waf_rule,', 'detection_types is waf_rule,', 'detection_types is waf_rule,', 'detection_types is waf_rule,', 'detection_types is waf_rule,', 'detection_types is waf_rule,', 'detection_types is waf_rule,', 'detection_types is waf_rule,', 'detection_types is waf_rule,', 'detection_types is waf_rule,', 'detection_types is waf_rule,']\n"
     ]
    },
    {
     "name": "stderr",
     "output_type": "stream",
     "text": [
      " 55%|█████▍    | 154/282 [07:38<04:51,  2.28s/it]"
     ]
    },
    {
     "name": "stdout",
     "output_type": "stream",
     "text": [
      "['detection_types is waf_rule,', 'detection_types is waf_rule,', 'detection_types is waf_rule,', 'detection_types is waf_rule,', 'detection_types is waf_rule,', 'detection_types is waf_rule,', 'detection_types is waf_rule,', 'detection_types is waf_rule,', 'detection_types is waf_rule,', 'detection_types is waf_rule,', 'detection_types is waf_rule,', 'detection_types is waf_rule,', 'detection_types is waf_rule,', 'detection_types is waf_rule,', 'detection_types is waf_rule,', 'detection_types is waf_rule,', 'detection_types is waf_rule,', 'detection_types is waf_rule,', 'detection_types is waf_rule,', 'detection_types is waf_rule,', 'detection_types is waf_rule,', 'detection_types is waf_rule,', 'detection_types is waf_rule,', 'detection_types is waf_rule,', 'detection_types is waf_rule,', 'detection_types is waf_rule,', 'detection_types is waf_rule,', 'detection_types is waf_rule,', 'detection_types is waf_rule,', 'detection_types is waf_rule,', 'detection_types is waf_rule,', 'detection_types is waf_rule,', 'detection_types is waf_rule,', 'detection_types is waf_rule,', 'detection_types is waf_rule,', 'detection_types is waf_rule,', 'detection_types is waf_rule,', 'detection_types is waf_rule,', 'detection_types is waf_rule,', 'detection_types is waf_rule,', 'detection_types is waf_rule,', 'detection_types is waf_rule,', 'detection_types is waf_rule,', 'detection_types is waf_rule,', 'detection_types is waf_rule,', 'detection_types is waf_rule,', 'detection_types is waf_rule,', 'detection_types is waf_rule,', 'detection_types is waf_rule,', 'detection_types is waf_rule,']\n",
      "['detection_types is waf_rule,', 'detection_types is waf_rule,', 'detection_types is waf_rule,', 'detection_types is waf_rule,', 'detection_types is waf_rule,', 'detection_types is waf_rule,', 'detection_types is waf_rule,', 'detection_types is waf_rule,', 'detection_types is waf_rule,', 'detection_types is waf_rule,', 'detection_types is waf_rule,', 'detection_types is waf_rule,', 'detection_types is waf_rule,', 'detection_types is waf_rule,', 'detection_types is waf_rule,', 'detection_types is waf_rule,', 'detection_types is waf_rule,', 'detection_types is waf_rule,', 'detection_types is waf_rule,', 'detection_types is waf_rule,', 'detection_types is waf_rule,', 'detection_types is waf_rule,', 'detection_types is waf_rule,', 'detection_types is waf_rule,', 'detection_types is waf_rule,', 'detection_types is waf_rule,', 'detection_types is waf_rule,', 'detection_types is waf_rule,', 'detection_types is waf_rule,', 'detection_types is waf_rule,', 'detection_types is waf_rule,', 'detection_types is waf_rule,', 'detection_types is waf_rule,', 'detection_types is waf_rule,', 'detection_types is waf_rule,', 'detection_types is waf_rule,', 'detection_types is waf_rule,', 'detection_types is waf_rule,', 'detection_types is waf_rule,', 'detection_types is waf_rule,', 'detection_types is waf_rule,', 'detection_types is waf_rule,', 'detection_types is waf_rule,', 'detection_types is waf_rule,', 'detection_types is waf_rule,', 'detection_types is waf_rule,', 'detection_types is waf_rule,', 'detection_types is waf_rule,', 'detection_types is waf_rule,', 'detection_types is waf_rule,']\n",
      "['detection_types is waf_rule,', 'detection_types is waf_rule,', 'detection_types is waf_rule,', 'detection_types is waf_rule,', 'detection_types is waf_rule,', 'detection_types is waf_rule,', 'detection_types is waf_rule,', 'detection_types is waf_rule,', 'detection_types is waf_rule,', 'detection_types is waf_rule,', 'detection_types is waf_rule,', 'detection_types is waf_rule,', 'detection_types is waf_rule,', 'detection_types is waf_rule,', 'detection_types is waf_rule,', 'detection_types is waf_rule,', 'detection_types is waf_rule,', 'detection_types is waf_rule,', 'detection_types is waf_rule,', 'detection_types is waf_rule,', 'detection_types is waf_rule,', 'detection_types is waf_rule,', 'detection_types is waf_rule,', 'detection_types is waf_rule,', 'detection_types is waf_rule,', 'detection_types is waf_rule,', 'detection_types is waf_rule,', 'detection_types is waf_rule,', 'detection_types is waf_rule,', 'detection_types is waf_rule,', 'detection_types is waf_rule,', 'detection_types is waf_rule,', 'detection_types is waf_rule,', 'detection_types is waf_rule,', 'detection_types is waf_rule,', 'detection_types is waf_rule,', 'detection_types is waf_rule,', 'detection_types is waf_rule,', 'detection_types is waf_rule,', 'detection_types is waf_rule,', 'detection_types is waf_rule,', 'detection_types is waf_rule,', 'detection_types is waf_rule,', 'detection_types is waf_rule,', 'detection_types is waf_rule,', 'detection_types is waf_rule,', 'detection_types is waf_rule,', 'detection_types is waf_rule,', 'detection_types is waf_rule,', 'detection_types is waf_rule,']\n"
     ]
    },
    {
     "name": "stderr",
     "output_type": "stream",
     "text": [
      " 55%|█████▍    | 155/282 [07:47<07:36,  3.60s/it]"
     ]
    },
    {
     "name": "stdout",
     "output_type": "stream",
     "text": [
      "['detection_types is waf_rule,', 'detection_types is waf_rule,', 'detection_types is waf_rule,', 'detection_types is waf_rule,', 'detection_types is waf_rule,', 'detection_types is waf_rule,', 'detection_types is waf_rule,', 'detection_types is waf_rule,', 'detection_types is waf_rule,', 'detection_types is waf_rule,', 'detection_types is waf_rule,', 'detection_types is waf_rule,', 'detection_types is waf_rule,', 'detection_types is waf_rule,', 'detection_types is waf_rule,', 'detection_types is waf_rule,', 'detection_types is waf_rule,', 'detection_types is waf_rule,', 'detection_types is waf_rule,', 'detection_types is waf_rule,', 'detection_types is waf_rule,', 'detection_types is waf_rule,', 'detection_types is waf_rule,', 'detection_types is waf_rule,', 'detection_types is waf_rule,', 'detection_types is waf_rule,', 'detection_types is waf_rule,', 'detection_types is waf_rule,', 'detection_types is waf_rule,', 'detection_types is waf_rule,', 'detection_types is waf_rule,', 'detection_types is waf_rule,', 'detection_types is waf_rule,', 'detection_types is waf_rule,', 'detection_types is waf_rule,', 'detection_types is waf_rule,', 'detection_types is waf_rule,', 'detection_types is waf_rule,', 'detection_types is waf_rule,', 'detection_types is waf_rule,', 'detection_types is waf_rule,', 'detection_types is waf_rule,', 'detection_types is waf_rule,', 'detection_types is waf_rule,', 'detection_types is waf_rule,', 'detection_types is waf_rule,', 'detection_types is waf_rule,', 'detection_types is waf_rule,', 'detection_types is waf_rule,', 'detection_types is waf_rule,']\n"
     ]
    },
    {
     "name": "stderr",
     "output_type": "stream",
     "text": [
      " 55%|█████▌    | 156/282 [07:50<07:14,  3.45s/it]"
     ]
    },
    {
     "name": "stdout",
     "output_type": "stream",
     "text": [
      "['detection_types is waf_rule,', 'detection_types is waf_rule,', 'detection_types is waf_rule,', 'detection_types is waf_rule,', 'detection_types is waf_rule,', 'detection_types is waf_rule,', 'detection_types is waf_rule,', 'detection_types is waf_rule,', 'detection_types is waf_rule,', 'detection_types is waf_rule,', 'detection_types is waf_rule,', 'detection_types is waf_rule,', 'detection_types is waf_rule,', 'detection_types is waf_rule,', 'detection_types is waf_rule,', 'detection_types is waf_rule,', 'detection_types is waf_rule,', 'detection_types is waf_rule,', 'detection_types is waf_rule,', 'detection_types is waf_rule,', 'detection_types is waf_rule,', 'detection_types is waf_rule,', 'detection_types is waf_rule,', 'detection_types is waf_rule,', 'detection_types is waf_rule,', 'detection_types is waf_rule,', 'detection_types is waf_rule,', 'detection_types is waf_rule,', 'detection_types is waf_rule,', 'detection_types is waf_rule,', 'detection_types is waf_rule,', 'detection_types is waf_rule,', 'detection_types is waf_rule,', 'detection_types is waf_rule,', 'detection_types is waf_rule,', 'detection_types is waf_rule,', 'detection_types is waf_rule,', 'detection_types is waf_rule,', 'detection_types is waf_rule,', 'detection_types is waf_rule,', 'detection_types is waf_rule,', 'detection_types is waf_rule,', 'detection_types is waf_rule,', 'detection_types is waf_rule,', 'detection_types is waf_rule,', 'detection_types is waf_rule,', 'detection_types is waf_rule,', 'detection_types is waf_rule,', 'detection_types is waf_rule,', 'detection_types is waf_rule,']\n",
      "['detection_types is waf_rule,', 'detection_types is waf_rule,', 'detection_types is waf_rule,', 'detection_types is waf_rule,', 'detection_types is waf_rule,', 'detection_types is waf_rule,', 'detection_types is waf_rule,', 'detection_types is waf_rule,', 'detection_types is waf_rule,', 'detection_types is waf_rule,', 'detection_types is waf_rule,', 'detection_types is waf_rule,', 'detection_types is waf_rule,', 'detection_types is waf_rule,', 'detection_types is waf_rule,', 'detection_types is waf_rule,', 'detection_types is waf_rule,', 'detection_types is waf_rule,', 'detection_types is waf_rule,', 'detection_types is waf_rule,', 'detection_types is waf_rule,', 'detection_types is waf_rule,', 'detection_types is waf_rule,', 'detection_types is waf_rule,', 'detection_types is waf_rule,', 'detection_types is waf_rule,', 'detection_types is waf_rule,', 'detection_types is waf_rule,', 'detection_types is waf_rule,', 'detection_types is waf_rule,', 'detection_types is waf_rule,', 'detection_types is waf_rule,', 'detection_types is waf_rule,', 'detection_types is waf_rule,', 'detection_types is waf_rule,', 'detection_types is waf_rule,', 'detection_types is waf_rule,', 'detection_types is waf_rule,', 'detection_types is waf_rule,', 'detection_types is waf_rule,', 'detection_types is waf_rule,', 'detection_types is waf_rule,', 'detection_types is waf_rule,', 'detection_types is waf_rule,', 'detection_types is waf_rule,', 'detection_types is waf_rule,', 'detection_types is waf_rule,', 'detection_types is waf_rule,', 'detection_types is waf_rule,', 'detection_types is waf_rule,']\n"
     ]
    },
    {
     "name": "stderr",
     "output_type": "stream",
     "text": [
      " 56%|█████▌    | 158/282 [07:55<06:41,  3.23s/it]"
     ]
    },
    {
     "name": "stdout",
     "output_type": "stream",
     "text": [
      "['detection_types is waf_rule,', 'detection_types is waf_rule,', 'detection_types is waf_rule,', 'detection_types is waf_rule,', 'detection_types is waf_rule,', 'detection_types is waf_rule,', 'detection_types is waf_rule,', 'detection_types is waf_rule,', 'detection_types is waf_rule,', 'detection_types is waf_rule,', 'detection_types is waf_rule,', 'detection_types is waf_rule,', 'detection_types is waf_rule,', 'detection_types is waf_rule,', 'detection_types is waf_rule,', 'detection_types is waf_rule,', 'detection_types is waf_rule,', 'detection_types is waf_rule,', 'detection_types is waf_rule,', 'detection_types is waf_rule,', 'detection_types is waf_rule,', 'detection_types is waf_rule,', 'detection_types is waf_rule,', 'detection_types is waf_rule,', 'detection_types is waf_rule,', 'detection_types is waf_rule,', 'detection_types is waf_rule,', 'detection_types is waf_rule,', 'detection_types is waf_rule,', 'detection_types is waf_rule,', 'detection_types is waf_rule,', 'detection_types is waf_rule,', 'detection_types is waf_rule,', 'detection_types is waf_rule,', 'detection_types is waf_rule,', 'detection_types is waf_rule,', 'detection_types is waf_rule,', 'detection_types is waf_rule,', 'detection_types is waf_rule,', 'detection_types is waf_rule,', 'detection_types is waf_rule,', 'detection_types is waf_rule,', 'detection_types is waf_rule,', 'detection_types is waf_rule,', 'detection_types is waf_rule,', 'detection_types is waf_rule,', 'detection_types is waf_rule,', 'detection_types is waf_rule,', 'detection_types is waf_rule,', 'detection_types is waf_rule,']\n",
      "['detection_types is waf_rule,', 'detection_types is waf_rule,', 'detection_types is waf_rule,', 'detection_types is waf_rule,', 'detection_types is waf_rule,', 'detection_types is waf_rule,', 'detection_types is waf_rule,', 'detection_types is waf_rule,', 'detection_types is waf_rule,', 'detection_types is waf_rule,', 'detection_types is waf_rule,', 'detection_types is waf_rule,', 'detection_types is waf_rule,', 'detection_types is waf_rule,', 'detection_types is waf_rule,', 'detection_types is waf_rule,', 'detection_types is waf_rule,', 'detection_types is waf_rule,', 'detection_types is waf_rule,', 'detection_types is waf_rule,', 'detection_types is waf_rule,', 'detection_types is waf_rule,', 'detection_types is waf_rule,', 'detection_types is waf_rule,', 'detection_types is waf_rule,', 'detection_types is waf_rule,', 'detection_types is waf_rule,', 'detection_types is waf_rule,', 'detection_types is waf_rule,', 'detection_types is waf_rule,', 'detection_types is waf_rule,', 'detection_types is waf_rule,', 'detection_types is waf_rule,', 'detection_types is waf_rule,', 'detection_types is waf_rule,', 'detection_types is waf_rule,', 'detection_types is waf_rule,', 'detection_types is waf_rule,', 'detection_types is waf_rule,', 'detection_types is waf_rule,', 'detection_types is waf_rule,', 'detection_types is waf_rule,', 'detection_types is waf_rule,', 'detection_types is waf_rule,', 'detection_types is waf_rule,', 'detection_types is waf_rule,', 'detection_types is waf_rule,', 'detection_types is waf_rule,', 'detection_types is waf_rule,', 'detection_types is waf_rule,']\n"
     ]
    },
    {
     "name": "stderr",
     "output_type": "stream",
     "text": [
      " 57%|█████▋    | 160/282 [08:00<05:54,  2.91s/it]"
     ]
    },
    {
     "name": "stdout",
     "output_type": "stream",
     "text": [
      "['detection_types is waf_rule,', 'detection_types is waf_rule,', 'detection_types is waf_rule,', 'detection_types is waf_rule,', 'detection_types is waf_rule,', 'detection_types is waf_rule,', 'detection_types is waf_rule,', 'detection_types is waf_rule,', 'detection_types is waf_rule,', 'detection_types is waf_rule,', 'detection_types is waf_rule,', 'detection_types is waf_rule,', 'detection_types is waf_rule,', 'detection_types is waf_rule,', 'detection_types is waf_rule,', 'detection_types is waf_rule,', 'detection_types is waf_rule,', 'detection_types is waf_rule,', 'detection_types is waf_rule,', 'detection_types is waf_rule,', 'detection_types is waf_rule,', 'detection_types is waf_rule,', 'detection_types is waf_rule,', 'detection_types is waf_rule,', 'detection_types is waf_rule,', 'detection_types is waf_rule,', 'detection_types is waf_rule,', 'detection_types is waf_rule,', 'detection_types is waf_rule,', 'detection_types is waf_rule,', 'detection_types is waf_rule,', 'detection_types is waf_rule,', 'detection_types is waf_rule,', 'detection_types is waf_rule,', 'detection_types is waf_rule,', 'detection_types is waf_rule,', 'detection_types is waf_rule,', 'detection_types is waf_rule,', 'detection_types is waf_rule,', 'detection_types is waf_rule,', 'detection_types is waf_rule,', 'detection_types is waf_rule,', 'detection_types is waf_rule,', 'detection_types is waf_rule,', 'detection_types is waf_rule,', 'detection_types is waf_rule,', 'detection_types is waf_rule,', 'detection_types is waf_rule,', 'detection_types is waf_rule,', 'detection_types is waf_rule,']\n"
     ]
    },
    {
     "name": "stderr",
     "output_type": "stream",
     "text": [
      " 57%|█████▋    | 161/282 [08:02<05:20,  2.65s/it]"
     ]
    },
    {
     "name": "stdout",
     "output_type": "stream",
     "text": [
      "['detection_types is waf_rule,', 'detection_types is waf_rule,', 'detection_types is waf_rule,', 'detection_types is waf_rule,', 'detection_types is waf_rule,', 'detection_types is waf_rule,', 'detection_types is waf_rule,', 'detection_types is waf_rule,', 'detection_types is waf_rule,', 'detection_types is waf_rule,', 'detection_types is waf_rule,', 'detection_types is waf_rule,', 'detection_types is waf_rule,', 'detection_types is waf_rule,', 'detection_types is waf_rule,', 'detection_types is waf_rule,', 'detection_types is waf_rule,', 'detection_types is waf_rule,', 'detection_types is waf_rule,', 'detection_types is waf_rule,', 'detection_types is waf_rule,', 'detection_types is waf_rule,', 'detection_types is waf_rule,', 'detection_types is waf_rule,', 'detection_types is waf_rule,', 'detection_types is waf_rule,', 'detection_types is waf_rule,', 'detection_types is waf_rule,', 'detection_types is waf_rule,', 'detection_types is waf_rule,', 'detection_types is waf_rule,', 'detection_types is waf_rule,', 'detection_types is waf_rule,', 'detection_types is waf_rule,', 'detection_types is waf_rule,', 'detection_types is waf_rule,', 'detection_types is waf_rule,', 'detection_types is waf_rule,', 'detection_types is waf_rule,', 'detection_types is waf_rule,', 'detection_types is waf_rule,', 'detection_types is waf_rule,', 'detection_types is waf_rule,', 'detection_types is waf_rule,', 'detection_types is waf_rule,', 'detection_types is waf_rule,', 'detection_types is waf_rule,', 'detection_types is waf_rule,', 'detection_types is waf_rule,', 'detection_types is waf_rule,']\n",
      "['detection_types is waf_rule,', 'detection_types is waf_rule,', 'detection_types is waf_rule,', 'detection_types is waf_rule,', 'detection_types is waf_rule,', 'detection_types is waf_rule,', 'detection_types is waf_rule,', 'detection_types is waf_rule,', 'detection_types is waf_rule,', 'detection_types is waf_rule,', 'detection_types is waf_rule,', 'detection_types is waf_rule,', 'detection_types is waf_rule,', 'detection_types is waf_rule,', 'detection_types is waf_rule,', 'detection_types is waf_rule,', 'detection_types is waf_rule,', 'detection_types is waf_rule,', 'detection_types is waf_rule,', 'detection_types is waf_rule,', 'detection_types is waf_rule,', 'detection_types is waf_rule,', 'detection_types is waf_rule,', 'detection_types is waf_rule,', 'detection_types is waf_rule,', 'detection_types is waf_rule,', 'detection_types is waf_rule,', 'detection_types is waf_rule,', 'detection_types is waf_rule,', 'detection_types is waf_rule,', 'detection_types is waf_rule,', 'detection_types is waf_rule,', 'detection_types is waf_rule,', 'detection_types is waf_rule,', 'detection_types is waf_rule,', 'detection_types is waf_rule,', 'detection_types is waf_rule,', 'detection_types is waf_rule,', 'detection_types is waf_rule,', 'detection_types is waf_rule,', 'detection_types is waf_rule,', 'detection_types is waf_rule,', 'detection_types is waf_rule,', 'detection_types is waf_rule,', 'detection_types is waf_rule,', 'detection_types is waf_rule,', 'detection_types is waf_rule,', 'detection_types is waf_rule,', 'detection_types is waf_rule,', 'detection_types is waf_rule,']\n",
      "['detection_types is waf_rule,', 'detection_types is waf_rule,', 'detection_types is waf_rule,', 'detection_types is waf_rule,', 'detection_types is waf_rule,', 'detection_types is waf_rule,', 'detection_types is waf_rule,', 'detection_types is waf_rule,', 'detection_types is waf_rule,', 'detection_types is waf_rule,', 'detection_types is waf_rule,', 'detection_types is waf_rule,', 'detection_types is waf_rule,', 'detection_types is waf_rule,', 'detection_types is waf_rule,', 'detection_types is waf_rule,', 'detection_types is waf_rule,', 'detection_types is waf_rule,', 'detection_types is waf_rule,', 'detection_types is waf_rule,', 'detection_types is waf_rule,', 'detection_types is waf_rule,', 'detection_types is waf_rule,', 'detection_types is waf_rule,', 'detection_types is waf_rule,', 'detection_types is waf_rule,', 'detection_types is waf_rule,', 'detection_types is waf_rule,', 'detection_types is waf_rule,', 'detection_types is waf_rule,', 'detection_types is waf_rule,', 'detection_types is waf_rule,', 'detection_types is waf_rule,', 'detection_types is waf_rule,', 'detection_types is waf_rule,', 'detection_types is waf_rule,', 'detection_types is waf_rule,', 'detection_types is waf_rule,', 'detection_types is waf_rule,', 'detection_types is waf_rule,', 'detection_types is waf_rule,', 'detection_types is waf_rule,', 'detection_types is waf_rule,', 'detection_types is waf_rule,', 'detection_types is waf_rule,', 'detection_types is waf_rule,', 'detection_types is waf_rule,', 'detection_types is waf_rule,', 'detection_types is waf_rule,', 'detection_types is waf_rule,']\n",
      "['detection_types is waf_rule,', 'detection_types is waf_rule,', 'detection_types is waf_rule,', 'detection_types is waf_rule,', 'detection_types is waf_rule,', 'detection_types is waf_rule,', 'detection_types is waf_rule,', 'detection_types is waf_rule,', 'detection_types is waf_rule,', 'detection_types is waf_rule,', 'detection_types is waf_rule,', 'detection_types is waf_rule,', 'detection_types is waf_rule,', 'detection_types is waf_rule,', 'detection_types is waf_rule,', 'detection_types is waf_rule,', 'detection_types is waf_rule,', 'detection_types is waf_rule,', 'detection_types is waf_rule,', 'detection_types is waf_rule,', 'detection_types is waf_rule,', 'detection_types is waf_rule,', 'detection_types is waf_rule,', 'detection_types is waf_rule,', 'detection_types is waf_rule,', 'detection_types is waf_rule,', 'detection_types is waf_rule,', 'detection_types is waf_rule,', 'detection_types is waf_rule,', 'detection_types is waf_rule,', 'detection_types is waf_rule,', 'detection_types is waf_rule,', 'detection_types is waf_rule,', 'detection_types is waf_rule,', 'detection_types is waf_rule,', 'detection_types is waf_rule,', 'detection_types is waf_rule,', 'detection_types is waf_rule,', 'detection_types is waf_rule,', 'detection_types is waf_rule,', 'detection_types is waf_rule,', 'detection_types is waf_rule,', 'detection_types is waf_rule,', 'detection_types is waf_rule,', 'detection_types is waf_rule,', 'detection_types is waf_rule,', 'detection_types is waf_rule,', 'detection_types is waf_rule,', 'detection_types is waf_rule,', 'detection_types is waf_rule,']\n"
     ]
    },
    {
     "name": "stderr",
     "output_type": "stream",
     "text": [
      " 57%|█████▋    | 162/282 [08:08<06:58,  3.49s/it]"
     ]
    },
    {
     "name": "stdout",
     "output_type": "stream",
     "text": [
      "['detection_types is waf_rule,', 'detection_types is waf_rule,', 'detection_types is waf_rule,', 'detection_types is waf_rule,', 'detection_types is waf_rule,', 'detection_types is waf_rule,', 'detection_types is waf_rule,', 'detection_types is waf_rule,', 'detection_types is waf_rule,', 'detection_types is waf_rule,', 'detection_types is waf_rule,', 'detection_types is waf_rule,', 'detection_types is waf_rule,', 'detection_types is waf_rule,', 'detection_types is waf_rule,', 'detection_types is waf_rule,', 'detection_types is waf_rule,', 'detection_types is waf_rule,', 'detection_types is waf_rule,', 'detection_types is waf_rule,', 'detection_types is waf_rule,', 'detection_types is waf_rule,', 'detection_types is waf_rule,', 'detection_types is waf_rule,', 'detection_types is waf_rule,', 'detection_types is waf_rule,', 'detection_types is waf_rule,', 'detection_types is waf_rule,', 'detection_types is waf_rule,', 'detection_types is waf_rule,', 'detection_types is waf_rule,', 'detection_types is waf_rule,', 'detection_types is waf_rule,', 'detection_types is waf_rule,', 'detection_types is waf_rule,', 'detection_types is waf_rule,', 'detection_types is waf_rule,', 'detection_types is waf_rule,', 'detection_types is waf_rule,', 'detection_types is waf_rule,', 'detection_types is waf_rule,', 'detection_types is waf_rule,', 'detection_types is waf_rule,', 'detection_types is waf_rule,', 'detection_types is waf_rule,', 'detection_types is waf_rule,', 'detection_types is waf_rule,', 'detection_types is waf_rule,', 'detection_types is waf_rule,', 'detection_types is waf_rule,']\n",
      "['detection_types is waf_rule,', 'detection_types is waf_rule,', 'detection_types is waf_rule,', 'detection_types is waf_rule,', 'detection_types is waf_rule,', 'detection_types is waf_rule,', 'detection_types is waf_rule,', 'detection_types is waf_rule,', 'detection_types is waf_rule,', 'detection_types is waf_rule,', 'detection_types is waf_rule,', 'detection_types is waf_rule,', 'detection_types is waf_rule,', 'detection_types is waf_rule,', 'detection_types is waf_rule,', 'detection_types is waf_rule,', 'detection_types is waf_rule,', 'detection_types is waf_rule,', 'detection_types is waf_rule,', 'detection_types is waf_rule,', 'detection_types is waf_rule,', 'detection_types is waf_rule,', 'detection_types is waf_rule,', 'detection_types is waf_rule,', 'detection_types is waf_rule,', 'detection_types is waf_rule,', 'detection_types is waf_rule,', 'detection_types is waf_rule,', 'detection_types is waf_rule,', 'detection_types is waf_rule,', 'detection_types is waf_rule,', 'detection_types is waf_rule,', 'detection_types is waf_rule,', 'detection_types is waf_rule,', 'detection_types is waf_rule,', 'detection_types is waf_rule,', 'detection_types is waf_rule,', 'detection_types is waf_rule,', 'detection_types is waf_rule,', 'detection_types is waf_rule,', 'detection_types is waf_rule,', 'detection_types is waf_rule,', 'detection_types is waf_rule,', 'detection_types is waf_rule,', 'detection_types is waf_rule,', 'detection_types is waf_rule,', 'detection_types is waf_rule,', 'detection_types is waf_rule,', 'detection_types is waf_rule,', 'detection_types is waf_rule,']\n",
      "['detection_types is waf_rule,', 'detection_types is waf_rule,', 'detection_types is waf_rule,', 'detection_types is waf_rule,', 'detection_types is waf_rule,', 'detection_types is waf_rule,', 'detection_types is waf_rule,', 'detection_types is waf_rule,', 'detection_types is waf_rule,', 'detection_types is waf_rule,', 'detection_types is waf_rule,', 'detection_types is waf_rule,', 'detection_types is waf_rule,', 'detection_types is waf_rule,', 'detection_types is waf_rule,', 'detection_types is waf_rule,', 'detection_types is waf_rule,', 'detection_types is waf_rule,', 'detection_types is waf_rule,', 'detection_types is waf_rule,', 'detection_types is waf_rule,', 'detection_types is waf_rule,', 'detection_types is waf_rule,', 'detection_types is waf_rule,', 'detection_types is waf_rule,', 'detection_types is waf_rule,', 'detection_types is waf_rule,', 'detection_types is waf_rule,', 'detection_types is waf_rule,', 'detection_types is waf_rule,', 'detection_types is waf_rule,', 'detection_types is waf_rule,', 'detection_types is waf_rule,', 'detection_types is waf_rule,', 'detection_types is waf_rule,', 'detection_types is waf_rule,', 'detection_types is waf_rule,', 'detection_types is waf_rule,', 'detection_types is waf_rule,', 'detection_types is waf_rule,', 'detection_types is waf_rule,', 'detection_types is waf_rule,', 'detection_types is waf_rule,', 'detection_types is waf_rule,', 'detection_types is waf_rule,', 'detection_types is waf_rule,', 'detection_types is waf_rule,', 'detection_types is waf_rule,', 'detection_types is waf_rule,', 'detection_types is waf_rule,']\n"
     ]
    },
    {
     "name": "stderr",
     "output_type": "stream",
     "text": [
      " 58%|█████▊    | 163/282 [08:13<07:31,  3.79s/it]"
     ]
    },
    {
     "name": "stdout",
     "output_type": "stream",
     "text": [
      "['detection_types is waf_rule,', 'detection_types is waf_rule,', 'detection_types is waf_rule,', 'detection_types is waf_rule,', 'detection_types is waf_rule,', 'detection_types is waf_rule,', 'detection_types is waf_rule,', 'detection_types is waf_rule,', 'detection_types is waf_rule,', 'detection_types is waf_rule,', 'detection_types is waf_rule,', 'detection_types is waf_rule,', 'detection_types is waf_rule,', 'detection_types is waf_rule,', 'detection_types is waf_rule,', 'detection_types is waf_rule,', 'detection_types is waf_rule,', 'detection_types is waf_rule,', 'detection_types is waf_rule,', 'detection_types is waf_rule,', 'detection_types is waf_rule,', 'detection_types is waf_rule,', 'detection_types is waf_rule,', 'detection_types is waf_rule,', 'detection_types is waf_rule,', 'detection_types is waf_rule,', 'detection_types is waf_rule,', 'detection_types is waf_rule,', 'detection_types is waf_rule,', 'detection_types is waf_rule,', 'detection_types is waf_rule,', 'detection_types is waf_rule,', 'detection_types is waf_rule,', 'detection_types is waf_rule,', 'detection_types is waf_rule,', 'detection_types is waf_rule,', 'detection_types is waf_rule,', 'detection_types is waf_rule,', 'detection_types is waf_rule,', 'detection_types is waf_rule,', 'detection_types is waf_rule,', 'detection_types is waf_rule,', 'detection_types is waf_rule,', 'detection_types is waf_rule,', 'detection_types is waf_rule,', 'detection_types is waf_rule,', 'detection_types is waf_rule,', 'detection_types is waf_rule,', 'detection_types is waf_rule,', 'detection_types is waf_rule,']\n"
     ]
    },
    {
     "name": "stderr",
     "output_type": "stream",
     "text": [
      " 58%|█████▊    | 164/282 [08:14<06:18,  3.21s/it]"
     ]
    },
    {
     "name": "stdout",
     "output_type": "stream",
     "text": [
      "['detection_types is waf_rule,', 'detection_types is waf_rule,', 'detection_types is waf_rule,', 'detection_types is waf_rule,', 'detection_types is waf_rule,', 'detection_types is waf_rule,', 'detection_types is waf_rule,', 'detection_types is waf_rule,', 'detection_types is waf_rule,', 'detection_types is waf_rule,', 'detection_types is waf_rule,', 'detection_types is waf_rule,', 'detection_types is waf_rule,', 'detection_types is waf_rule,', 'detection_types is waf_rule,', 'detection_types is waf_rule,', 'detection_types is waf_rule,', 'detection_types is waf_rule,', 'detection_types is waf_rule,', 'detection_types is waf_rule,', 'detection_types is waf_rule,', 'detection_types is waf_rule,', 'detection_types is waf_rule,', 'detection_types is waf_rule,', 'detection_types is waf_rule,', 'detection_types is waf_rule,', 'detection_types is waf_rule,', 'detection_types is waf_rule,', 'detection_types is waf_rule,', 'detection_types is waf_rule,', 'detection_types is waf_rule,', 'detection_types is waf_rule,', 'detection_types is waf_rule,', 'detection_types is waf_rule,', 'detection_types is waf_rule,', 'detection_types is waf_rule,', 'detection_types is waf_rule,', 'detection_types is waf_rule,', 'detection_types is waf_rule,', 'detection_types is waf_rule,', 'detection_types is waf_rule,', 'detection_types is waf_rule,', 'detection_types is waf_rule,', 'detection_types is waf_rule,', 'detection_types is waf_rule,', 'detection_types is waf_rule,', 'detection_types is waf_rule,', 'detection_types is waf_rule,', 'detection_types is waf_rule,', 'detection_types is waf_rule,']\n"
     ]
    },
    {
     "name": "stderr",
     "output_type": "stream",
     "text": [
      " 59%|█████▉    | 167/282 [08:16<03:26,  1.79s/it]"
     ]
    },
    {
     "name": "stdout",
     "output_type": "stream",
     "text": [
      "['detection_types is waf_rule,', 'detection_types is waf_rule,', 'detection_types is waf_rule,', 'detection_types is waf_rule,', 'detection_types is waf_rule,', 'detection_types is waf_rule,', 'detection_types is waf_rule,', 'detection_types is waf_rule,', 'detection_types is waf_rule,', 'detection_types is waf_rule,', 'detection_types is waf_rule,', 'detection_types is waf_rule,', 'detection_types is waf_rule,', 'detection_types is waf_rule,', 'detection_types is waf_rule,', 'detection_types is waf_rule,', 'detection_types is waf_rule,', 'detection_types is waf_rule,', 'detection_types is waf_rule,', 'detection_types is waf_rule,', 'detection_types is waf_rule,', 'detection_types is waf_rule,', 'detection_types is waf_rule,', 'detection_types is waf_rule,', 'detection_types is waf_rule,', 'detection_types is waf_rule,', 'detection_types is waf_rule,', 'detection_types is waf_rule,', 'detection_types is waf_rule,', 'detection_types is waf_rule,', 'detection_types is waf_rule,', 'detection_types is waf_rule,', 'detection_types is waf_rule,', 'detection_types is waf_rule,', 'detection_types is waf_rule,', 'detection_types is waf_rule,', 'detection_types is waf_rule,', 'detection_types is waf_rule,', 'detection_types is waf_rule,', 'detection_types is waf_rule,', 'detection_types is waf_rule,', 'detection_types is waf_rule,', 'detection_types is waf_rule,', 'detection_types is waf_rule,', 'detection_types is waf_rule,', 'detection_types is waf_rule,', 'detection_types is waf_rule,', 'detection_types is waf_rule,', 'detection_types is waf_rule,', 'detection_types is waf_rule,']\n"
     ]
    },
    {
     "name": "stderr",
     "output_type": "stream",
     "text": [
      " 60%|█████▉    | 168/282 [08:17<03:18,  1.74s/it]"
     ]
    },
    {
     "name": "stdout",
     "output_type": "stream",
     "text": [
      "['detection_types is waf_rule,', 'detection_types is waf_rule,', 'detection_types is waf_rule,', 'detection_types is waf_rule,', 'detection_types is waf_rule,', 'detection_types is waf_rule,', 'detection_types is waf_rule,', 'detection_types is waf_rule,', 'detection_types is waf_rule,', 'detection_types is waf_rule,', 'detection_types is waf_rule,', 'detection_types is waf_rule,', 'detection_types is waf_rule,', 'detection_types is waf_rule,', 'detection_types is waf_rule,', 'detection_types is waf_rule,', 'detection_types is waf_rule,', 'detection_types is waf_rule,', 'detection_types is waf_rule,', 'detection_types is waf_rule,', 'detection_types is waf_rule,', 'detection_types is waf_rule,', 'detection_types is waf_rule,', 'detection_types is waf_rule,', 'detection_types is waf_rule,', 'detection_types is waf_rule,', 'detection_types is waf_rule,', 'detection_types is waf_rule,', 'detection_types is waf_rule,', 'detection_types is waf_rule,', 'detection_types is waf_rule,', 'detection_types is waf_rule,', 'detection_types is waf_rule,', 'detection_types is waf_rule,', 'detection_types is waf_rule,', 'detection_types is waf_rule,', 'detection_types is waf_rule,', 'detection_types is waf_rule,', 'detection_types is waf_rule,', 'detection_types is waf_rule,', 'detection_types is waf_rule,', 'detection_types is waf_rule,', 'detection_types is waf_rule,', 'detection_types is waf_rule,', 'detection_types is waf_rule,', 'detection_types is waf_rule,', 'detection_types is waf_rule,', 'detection_types is waf_rule,', 'detection_types is waf_rule,', 'detection_types is waf_rule,']\n",
      "['detection_types is waf_rule,', 'detection_types is waf_rule,', 'detection_types is waf_rule,', 'detection_types is waf_rule,', 'detection_types is waf_rule,', 'detection_types is waf_rule,', 'detection_types is waf_rule,', 'detection_types is waf_rule,', 'detection_types is waf_rule,', 'detection_types is waf_rule,', 'detection_types is waf_rule,', 'detection_types is waf_rule,', 'detection_types is waf_rule,', 'detection_types is waf_rule,', 'detection_types is waf_rule,', 'detection_types is waf_rule,', 'detection_types is waf_rule,', 'detection_types is waf_rule,', 'detection_types is waf_rule,', 'detection_types is waf_rule,', 'detection_types is waf_rule,', 'detection_types is waf_rule,', 'detection_types is waf_rule,', 'detection_types is waf_rule,', 'detection_types is waf_rule,', 'detection_types is waf_rule,', 'detection_types is waf_rule,', 'detection_types is waf_rule,', 'detection_types is waf_rule,', 'detection_types is waf_rule,', 'detection_types is waf_rule,', 'detection_types is waf_rule,', 'detection_types is waf_rule,', 'detection_types is waf_rule,', 'detection_types is waf_rule,', 'detection_types is waf_rule,', 'detection_types is waf_rule,', 'detection_types is waf_rule,', 'detection_types is waf_rule,', 'detection_types is waf_rule,', 'detection_types is waf_rule,', 'detection_types is waf_rule,', 'detection_types is waf_rule,', 'detection_types is waf_rule,', 'detection_types is waf_rule,', 'detection_types is waf_rule,', 'detection_types is waf_rule,', 'detection_types is waf_rule,', 'detection_types is waf_rule,', 'detection_types is waf_rule,']\n"
     ]
    },
    {
     "name": "stderr",
     "output_type": "stream",
     "text": [
      " 60%|██████    | 170/282 [08:20<03:06,  1.67s/it]"
     ]
    },
    {
     "name": "stdout",
     "output_type": "stream",
     "text": [
      "['detection_types is waf_rule,', 'detection_types is waf_rule,', 'detection_types is waf_rule,', 'detection_types is waf_rule,', 'detection_types is waf_rule,', 'detection_types is waf_rule,', 'detection_types is waf_rule,', 'detection_types is waf_rule,', 'detection_types is waf_rule,', 'detection_types is waf_rule,', 'detection_types is waf_rule,', 'detection_types is waf_rule,', 'detection_types is waf_rule,', 'detection_types is waf_rule,', 'detection_types is waf_rule,', 'detection_types is waf_rule,', 'detection_types is waf_rule,', 'detection_types is waf_rule,', 'detection_types is waf_rule,', 'detection_types is waf_rule,', 'detection_types is waf_rule,', 'detection_types is waf_rule,', 'detection_types is waf_rule,', 'detection_types is waf_rule,', 'detection_types is waf_rule,', 'detection_types is waf_rule,', 'detection_types is waf_rule,', 'detection_types is waf_rule,', 'detection_types is waf_rule,', 'detection_types is waf_rule,', 'detection_types is waf_rule,', 'detection_types is waf_rule,', 'detection_types is waf_rule,', 'detection_types is waf_rule,', 'detection_types is waf_rule,', 'detection_types is waf_rule,', 'detection_types is waf_rule,', 'detection_types is waf_rule,', 'detection_types is waf_rule,', 'detection_types is waf_rule,', 'detection_types is waf_rule,', 'detection_types is waf_rule,', 'detection_types is waf_rule,', 'detection_types is waf_rule,', 'detection_types is waf_rule,', 'detection_types is waf_rule,', 'detection_types is waf_rule,', 'detection_types is waf_rule,', 'detection_types is waf_rule,', 'detection_types is waf_rule,']\n",
      "['detection_types is waf_rule,', 'detection_types is waf_rule,', 'detection_types is waf_rule,', 'detection_types is waf_rule,', 'detection_types is waf_rule,', 'detection_types is waf_rule,', 'detection_types is waf_rule,', 'detection_types is waf_rule,', 'detection_types is waf_rule,', 'detection_types is waf_rule,', 'detection_types is waf_rule,', 'detection_types is waf_rule,', 'detection_types is waf_rule,', 'detection_types is waf_rule,', 'detection_types is waf_rule,', 'detection_types is waf_rule,', 'detection_types is waf_rule,', 'detection_types is waf_rule,', 'detection_types is waf_rule,', 'detection_types is waf_rule,', 'detection_types is waf_rule,', 'detection_types is waf_rule,', 'detection_types is waf_rule,', 'detection_types is waf_rule,', 'detection_types is waf_rule,', 'detection_types is waf_rule,', 'detection_types is waf_rule,', 'detection_types is waf_rule,', 'detection_types is waf_rule,', 'detection_types is waf_rule,', 'detection_types is waf_rule,', 'detection_types is waf_rule,', 'detection_types is waf_rule,', 'detection_types is waf_rule,', 'detection_types is waf_rule,', 'detection_types is waf_rule,', 'detection_types is waf_rule,', 'detection_types is waf_rule,', 'detection_types is waf_rule,', 'detection_types is waf_rule,', 'detection_types is waf_rule,', 'detection_types is waf_rule,', 'detection_types is waf_rule,', 'detection_types is waf_rule,', 'detection_types is waf_rule,', 'detection_types is waf_rule,', 'detection_types is waf_rule,', 'detection_types is waf_rule,', 'detection_types is waf_rule,', 'detection_types is waf_rule,']\n",
      "['detection_types is waf_rule,', 'detection_types is waf_rule,', 'detection_types is waf_rule,', 'detection_types is waf_rule,', 'detection_types is waf_rule,', 'detection_types is waf_rule,', 'detection_types is waf_rule,', 'detection_types is waf_rule,', 'detection_types is waf_rule,', 'detection_types is waf_rule,', 'detection_types is waf_rule,', 'detection_types is waf_rule,', 'detection_types is waf_rule,', 'detection_types is waf_rule,', 'detection_types is waf_rule,', 'detection_types is waf_rule,', 'detection_types is waf_rule,', 'detection_types is waf_rule,', 'detection_types is waf_rule,', 'detection_types is waf_rule,', 'detection_types is waf_rule,', 'detection_types is waf_rule,', 'detection_types is waf_rule,', 'detection_types is waf_rule,', 'detection_types is waf_rule,', 'detection_types is waf_rule,', 'detection_types is waf_rule,', 'detection_types is waf_rule,', 'detection_types is waf_rule,', 'detection_types is waf_rule,', 'detection_types is waf_rule,', 'detection_types is waf_rule,', 'detection_types is waf_rule,', 'detection_types is waf_rule,', 'detection_types is waf_rule,', 'detection_types is waf_rule,', 'detection_types is waf_rule,', 'detection_types is waf_rule,', 'detection_types is waf_rule,', 'detection_types is waf_rule,', 'detection_types is waf_rule,', 'detection_types is waf_rule,', 'detection_types is waf_rule,', 'detection_types is waf_rule,', 'detection_types is waf_rule,', 'detection_types is waf_rule,', 'detection_types is waf_rule,', 'detection_types is waf_rule,', 'detection_types is waf_rule,', 'detection_types is waf_rule,']\n"
     ]
    },
    {
     "name": "stderr",
     "output_type": "stream",
     "text": [
      " 61%|██████    | 172/282 [08:25<03:29,  1.90s/it]"
     ]
    },
    {
     "name": "stdout",
     "output_type": "stream",
     "text": [
      "['detection_types is waf_rule,', 'detection_types is waf_rule,', 'detection_types is waf_rule,', 'detection_types is waf_rule,', 'detection_types is waf_rule,', 'detection_types is waf_rule,', 'detection_types is waf_rule,', 'detection_types is waf_rule,', 'detection_types is waf_rule,', 'detection_types is waf_rule,', 'detection_types is waf_rule,', 'detection_types is waf_rule,', 'detection_types is waf_rule,', 'detection_types is waf_rule,', 'detection_types is waf_rule,', 'detection_types is waf_rule,', 'detection_types is waf_rule,', 'detection_types is waf_rule,', 'detection_types is waf_rule,', 'detection_types is waf_rule,', 'detection_types is waf_rule,', 'detection_types is waf_rule,', 'detection_types is waf_rule,', 'detection_types is waf_rule,', 'detection_types is waf_rule,', 'detection_types is waf_rule,', 'detection_types is waf_rule,', 'detection_types is waf_rule,', 'detection_types is waf_rule,', 'detection_types is waf_rule,', 'detection_types is waf_rule,', 'detection_types is waf_rule,', 'detection_types is waf_rule,', 'detection_types is waf_rule,', 'detection_types is waf_rule,', 'detection_types is waf_rule,', 'detection_types is waf_rule,', 'detection_types is waf_rule,', 'detection_types is waf_rule,', 'detection_types is waf_rule,', 'detection_types is waf_rule,', 'detection_types is waf_rule,', 'detection_types is waf_rule,', 'detection_types is waf_rule,', 'detection_types is waf_rule,', 'detection_types is waf_rule,', 'detection_types is waf_rule,', 'detection_types is waf_rule,', 'detection_types is waf_rule,', 'detection_types is waf_rule,']\n",
      "['detection_types is waf_rule,', 'detection_types is waf_rule,', 'detection_types is waf_rule,', 'detection_types is waf_rule,', 'detection_types is waf_rule,', 'detection_types is waf_rule,', 'detection_types is waf_rule,', 'detection_types is waf_rule,', 'detection_types is waf_rule,', 'detection_types is waf_rule,', 'detection_types is waf_rule,', 'detection_types is waf_rule,', 'detection_types is waf_rule,', 'detection_types is waf_rule,', 'detection_types is waf_rule,', 'detection_types is waf_rule,', 'detection_types is waf_rule,', 'detection_types is waf_rule,', 'detection_types is waf_rule,', 'detection_types is waf_rule,', 'detection_types is waf_rule,', 'detection_types is waf_rule,', 'detection_types is waf_rule,', 'detection_types is waf_rule,', 'detection_types is waf_rule,', 'detection_types is waf_rule,', 'detection_types is waf_rule,', 'detection_types is waf_rule,', 'detection_types is waf_rule,', 'detection_types is waf_rule,', 'detection_types is waf_rule,', 'detection_types is waf_rule,', 'detection_types is waf_rule,', 'detection_types is waf_rule,', 'detection_types is waf_rule,', 'detection_types is waf_rule,', 'detection_types is waf_rule,', 'detection_types is waf_rule,', 'detection_types is waf_rule,', 'detection_types is waf_rule,', 'detection_types is waf_rule,', 'detection_types is waf_rule,', 'detection_types is waf_rule,', 'detection_types is waf_rule,', 'detection_types is waf_rule,', 'detection_types is waf_rule,', 'detection_types is waf_rule,', 'detection_types is waf_rule,', 'detection_types is waf_rule,', 'detection_types is waf_rule,']\n",
      "['detection_types is waf_rule,', 'detection_types is waf_rule,', 'detection_types is waf_rule,', 'detection_types is waf_rule,', 'detection_types is waf_rule,', 'detection_types is waf_rule,', 'detection_types is waf_rule,', 'detection_types is waf_rule,', 'detection_types is waf_rule,', 'detection_types is waf_rule,', 'detection_types is waf_rule,', 'detection_types is waf_rule,', 'detection_types is waf_rule,', 'detection_types is waf_rule,', 'detection_types is waf_rule,', 'detection_types is waf_rule,', 'detection_types is waf_rule,', 'detection_types is waf_rule,', 'detection_types is waf_rule,', 'detection_types is waf_rule,', 'detection_types is waf_rule,', 'detection_types is waf_rule,', 'detection_types is waf_rule,', 'detection_types is waf_rule,', 'detection_types is waf_rule,', 'detection_types is waf_rule,', 'detection_types is waf_rule,', 'detection_types is waf_rule,', 'detection_types is waf_rule,', 'detection_types is waf_rule,', 'detection_types is waf_rule,', 'detection_types is waf_rule,', 'detection_types is waf_rule,', 'detection_types is waf_rule,', 'detection_types is waf_rule,', 'detection_types is waf_rule,', 'detection_types is waf_rule,', 'detection_types is waf_rule,', 'detection_types is waf_rule,', 'detection_types is waf_rule,', 'detection_types is waf_rule,', 'detection_types is waf_rule,', 'detection_types is waf_rule,', 'detection_types is waf_rule,', 'detection_types is waf_rule,', 'detection_types is waf_rule,', 'detection_types is waf_rule,', 'detection_types is waf_rule,', 'detection_types is waf_rule,', 'detection_types is waf_rule,']\n",
      "['detection_types is waf_rule,', 'detection_types is waf_rule,', 'detection_types is waf_rule,', 'detection_types is waf_rule,', 'detection_types is waf_rule,', 'detection_types is waf_rule,', 'detection_types is waf_rule,', 'detection_types is waf_rule,', 'detection_types is waf_rule,', 'detection_types is waf_rule,', 'detection_types is waf_rule,', 'detection_types is waf_rule,', 'detection_types is waf_rule,', 'detection_types is waf_rule,', 'detection_types is waf_rule,', 'detection_types is waf_rule,', 'detection_types is waf_rule,', 'detection_types is waf_rule,', 'detection_types is waf_rule,', 'detection_types is waf_rule,', 'detection_types is waf_rule,', 'detection_types is waf_rule,', 'detection_types is waf_rule,', 'detection_types is waf_rule,', 'detection_types is waf_rule,', 'detection_types is waf_rule,', 'detection_types is waf_rule,', 'detection_types is waf_rule,', 'detection_types is waf_rule,', 'detection_types is waf_rule,', 'detection_types is waf_rule,', 'detection_types is waf_rule,', 'detection_types is waf_rule,', 'detection_types is waf_rule,', 'detection_types is waf_rule,', 'detection_types is waf_rule,', 'detection_types is waf_rule,', 'detection_types is waf_rule,', 'detection_types is waf_rule,', 'detection_types is waf_rule,', 'detection_types is waf_rule,', 'detection_types is waf_rule,', 'detection_types is waf_rule,', 'detection_types is waf_rule,', 'detection_types is waf_rule,', 'detection_types is waf_rule,', 'detection_types is waf_rule,', 'detection_types is waf_rule,', 'detection_types is waf_rule,', 'detection_types is waf_rule,']\n"
     ]
    },
    {
     "name": "stderr",
     "output_type": "stream",
     "text": [
      " 62%|██████▏   | 174/282 [08:31<04:10,  2.32s/it]"
     ]
    },
    {
     "name": "stdout",
     "output_type": "stream",
     "text": [
      "['detection_types is waf_rule,', 'detection_types is waf_rule,', 'detection_types is waf_rule,', 'detection_types is waf_rule,', 'detection_types is waf_rule,', 'detection_types is waf_rule,', 'detection_types is waf_rule,', 'detection_types is waf_rule,', 'detection_types is waf_rule,', 'detection_types is waf_rule,', 'detection_types is waf_rule,', 'detection_types is waf_rule,', 'detection_types is waf_rule,', 'detection_types is waf_rule,', 'detection_types is waf_rule,', 'detection_types is waf_rule,', 'detection_types is waf_rule,', 'detection_types is waf_rule,', 'detection_types is waf_rule,', 'detection_types is waf_rule,', 'detection_types is waf_rule,', 'detection_types is waf_rule,', 'detection_types is waf_rule,', 'detection_types is waf_rule,', 'detection_types is waf_rule,', 'detection_types is waf_rule,', 'detection_types is waf_rule,', 'detection_types is waf_rule,', 'detection_types is waf_rule,', 'detection_types is waf_rule,', 'detection_types is waf_rule,', 'detection_types is waf_rule,', 'detection_types is waf_rule,', 'detection_types is waf_rule,', 'detection_types is waf_rule,', 'detection_types is waf_rule,', 'detection_types is waf_rule,', 'detection_types is waf_rule,', 'detection_types is waf_rule,', 'detection_types is waf_rule,', 'detection_types is waf_rule,', 'detection_types is waf_rule,', 'detection_types is waf_rule,', 'detection_types is waf_rule,', 'detection_types is waf_rule,', 'detection_types is waf_rule,', 'detection_types is waf_rule,', 'detection_types is waf_rule,', 'detection_types is waf_rule,', 'detection_types is waf_rule,']\n",
      "['detection_types is waf_rule,', 'detection_types is waf_rule,', 'detection_types is waf_rule,', 'detection_types is waf_rule,', 'detection_types is waf_rule,', 'detection_types is waf_rule,', 'detection_types is waf_rule,', 'detection_types is waf_rule,', 'detection_types is waf_rule,', 'detection_types is waf_rule,', 'detection_types is waf_rule,', 'detection_types is waf_rule,', 'detection_types is waf_rule,', 'detection_types is waf_rule,', 'detection_types is waf_rule,', 'detection_types is waf_rule,', 'detection_types is waf_rule,', 'detection_types is waf_rule,', 'detection_types is waf_rule,', 'detection_types is waf_rule,', 'detection_types is waf_rule,', 'detection_types is waf_rule,', 'detection_types is waf_rule,', 'detection_types is waf_rule,', 'detection_types is waf_rule,', 'detection_types is waf_rule,', 'detection_types is waf_rule,', 'detection_types is waf_rule,', 'detection_types is waf_rule,', 'detection_types is waf_rule,', 'detection_types is waf_rule,', 'detection_types is waf_rule,', 'detection_types is waf_rule,', 'detection_types is waf_rule,', 'detection_types is waf_rule,', 'detection_types is waf_rule,', 'detection_types is waf_rule,', 'detection_types is waf_rule,', 'detection_types is waf_rule,', 'detection_types is waf_rule,', 'detection_types is waf_rule,', 'detection_types is waf_rule,', 'detection_types is waf_rule,', 'detection_types is waf_rule,', 'detection_types is waf_rule,', 'detection_types is waf_rule,', 'detection_types is waf_rule,', 'detection_types is waf_rule,', 'detection_types is waf_rule,', 'detection_types is waf_rule,']\n"
     ]
    },
    {
     "name": "stderr",
     "output_type": "stream",
     "text": [
      " 62%|██████▏   | 175/282 [08:35<04:24,  2.47s/it]"
     ]
    },
    {
     "name": "stdout",
     "output_type": "stream",
     "text": [
      "['detection_types is waf_rule,', 'detection_types is waf_rule,', 'detection_types is waf_rule,', 'detection_types is waf_rule,', 'detection_types is waf_rule,', 'detection_types is waf_rule,', 'detection_types is waf_rule,', 'detection_types is waf_rule,', 'detection_types is waf_rule,', 'detection_types is waf_rule,', 'detection_types is waf_rule,', 'detection_types is waf_rule,', 'detection_types is waf_rule,', 'detection_types is waf_rule,', 'detection_types is waf_rule,', 'detection_types is waf_rule,', 'detection_types is waf_rule,', 'detection_types is waf_rule,', 'detection_types is waf_rule,', 'detection_types is waf_rule,', 'detection_types is waf_rule,', 'detection_types is waf_rule,', 'detection_types is waf_rule,', 'detection_types is waf_rule,', 'detection_types is waf_rule,', 'detection_types is waf_rule,', 'detection_types is waf_rule,', 'detection_types is waf_rule,', 'detection_types is waf_rule,', 'detection_types is waf_rule,', 'detection_types is waf_rule,', 'detection_types is waf_rule,', 'detection_types is waf_rule,', 'detection_types is waf_rule,', 'detection_types is waf_rule,', 'detection_types is waf_rule,', 'detection_types is waf_rule,', 'detection_types is waf_rule,', 'detection_types is waf_rule,', 'detection_types is waf_rule,', 'detection_types is waf_rule,', 'detection_types is waf_rule,', 'detection_types is waf_rule,', 'detection_types is waf_rule,', 'detection_types is waf_rule,', 'detection_types is waf_rule,', 'detection_types is waf_rule,', 'detection_types is waf_rule,', 'detection_types is waf_rule,', 'detection_types is waf_rule,']\n",
      "['detection_types is waf_rule,', 'detection_types is waf_rule,', 'detection_types is waf_rule,', 'detection_types is waf_rule,', 'detection_types is waf_rule,', 'detection_types is waf_rule,', 'detection_types is waf_rule,', 'detection_types is waf_rule,', 'detection_types is waf_rule,', 'detection_types is waf_rule,', 'detection_types is waf_rule,', 'detection_types is waf_rule,', 'detection_types is waf_rule,', 'detection_types is waf_rule,', 'detection_types is waf_rule,', 'detection_types is waf_rule,', 'detection_types is waf_rule,', 'detection_types is waf_rule,', 'detection_types is waf_rule,', 'detection_types is waf_rule,', 'detection_types is waf_rule,', 'detection_types is waf_rule,', 'detection_types is waf_rule,', 'detection_types is waf_rule,', 'detection_types is waf_rule,', 'detection_types is waf_rule,', 'detection_types is waf_rule,', 'detection_types is waf_rule,', 'detection_types is waf_rule,', 'detection_types is waf_rule,', 'detection_types is waf_rule,', 'detection_types is waf_rule,', 'detection_types is waf_rule,', 'detection_types is waf_rule,', 'detection_types is waf_rule,', 'detection_types is waf_rule,', 'detection_types is waf_rule,', 'detection_types is waf_rule,', 'detection_types is waf_rule,', 'detection_types is waf_rule,', 'detection_types is waf_rule,', 'detection_types is waf_rule,', 'detection_types is waf_rule,', 'detection_types is waf_rule,', 'detection_types is waf_rule,', 'detection_types is waf_rule,', 'detection_types is waf_rule,', 'detection_types is waf_rule,', 'detection_types is waf_rule,', 'detection_types is waf_rule,']\n",
      "['detection_types is waf_rule,', 'detection_types is waf_rule,', 'detection_types is waf_rule,', 'detection_types is waf_rule,', 'detection_types is waf_rule,', 'detection_types is waf_rule,', 'detection_types is waf_rule,', 'detection_types is waf_rule,', 'detection_types is waf_rule,', 'detection_types is waf_rule,', 'detection_types is waf_rule,', 'detection_types is waf_rule,', 'detection_types is waf_rule,', 'detection_types is waf_rule,', 'detection_types is waf_rule,', 'detection_types is waf_rule,', 'detection_types is waf_rule,', 'detection_types is waf_rule,', 'detection_types is waf_rule,', 'detection_types is waf_rule,', 'detection_types is waf_rule,', 'detection_types is waf_rule,', 'detection_types is waf_rule,', 'detection_types is waf_rule,', 'detection_types is waf_rule,', 'detection_types is waf_rule,', 'detection_types is waf_rule,', 'detection_types is waf_rule,', 'detection_types is waf_rule,', 'detection_types is waf_rule,', 'detection_types is waf_rule,', 'detection_types is waf_rule,', 'detection_types is waf_rule,', 'detection_types is waf_rule,', 'detection_types is waf_rule,', 'detection_types is waf_rule,', 'detection_types is waf_rule,', 'detection_types is waf_rule,', 'detection_types is waf_rule,', 'detection_types is waf_rule,', 'detection_types is waf_rule,', 'detection_types is waf_rule,', 'detection_types is waf_rule,', 'detection_types is waf_rule,', 'detection_types is waf_rule,', 'detection_types is waf_rule,', 'detection_types is waf_rule,', 'detection_types is waf_rule,', 'detection_types is waf_rule,', 'detection_types is waf_rule,']\n",
      "['detection_types is waf_rule,', 'detection_types is waf_rule,', 'detection_types is waf_rule,', 'detection_types is waf_rule,', 'detection_types is waf_rule,', 'detection_types is waf_rule,', 'detection_types is waf_rule,', 'detection_types is waf_rule,', 'detection_types is waf_rule,', 'detection_types is waf_rule,', 'detection_types is waf_rule,', 'detection_types is waf_rule,', 'detection_types is waf_rule,', 'detection_types is waf_rule,', 'detection_types is waf_rule,', 'detection_types is waf_rule,', 'detection_types is waf_rule,', 'detection_types is waf_rule,', 'detection_types is waf_rule,', 'detection_types is waf_rule,', 'detection_types is waf_rule,', 'detection_types is waf_rule,', 'detection_types is waf_rule,', 'detection_types is waf_rule,', 'detection_types is waf_rule,', 'detection_types is waf_rule,', 'detection_types is waf_rule,', 'detection_types is waf_rule,', 'detection_types is waf_rule,', 'detection_types is waf_rule,', 'detection_types is waf_rule,', 'detection_types is waf_rule,', 'detection_types is waf_rule,', 'detection_types is waf_rule,', 'detection_types is waf_rule,', 'detection_types is waf_rule,', 'detection_types is waf_rule,', 'detection_types is waf_rule,', 'detection_types is waf_rule,', 'detection_types is waf_rule,', 'detection_types is waf_rule,', 'detection_types is waf_rule,', 'detection_types is waf_rule,', 'detection_types is waf_rule,', 'detection_types is waf_rule,', 'detection_types is waf_rule,', 'detection_types is waf_rule,', 'detection_types is waf_rule,', 'detection_types is waf_rule,', 'detection_types is waf_rule,']\n",
      "['detection_types is waf_rule,', 'detection_types is waf_rule,', 'detection_types is waf_rule,', 'detection_types is waf_rule,', 'detection_types is waf_rule,', 'detection_types is waf_rule,', 'detection_types is waf_rule,', 'detection_types is waf_rule,', 'detection_types is waf_rule,', 'detection_types is waf_rule,', 'detection_types is waf_rule,', 'detection_types is waf_rule,', 'detection_types is waf_rule,', 'detection_types is waf_rule,', 'detection_types is waf_rule,', 'detection_types is waf_rule,', 'detection_types is waf_rule,', 'detection_types is waf_rule,', 'detection_types is waf_rule,', 'detection_types is waf_rule,', 'detection_types is waf_rule,', 'detection_types is waf_rule,', 'detection_types is waf_rule,', 'detection_types is waf_rule,', 'detection_types is waf_rule,', 'detection_types is waf_rule,', 'detection_types is waf_rule,', 'detection_types is waf_rule,', 'detection_types is waf_rule,', 'detection_types is waf_rule,', 'detection_types is waf_rule,', 'detection_types is waf_rule,', 'detection_types is waf_rule,', 'detection_types is waf_rule,', 'detection_types is waf_rule,', 'detection_types is waf_rule,', 'detection_types is waf_rule,', 'detection_types is waf_rule,', 'detection_types is waf_rule,', 'detection_types is waf_rule,', 'detection_types is waf_rule,', 'detection_types is waf_rule,', 'detection_types is waf_rule,', 'detection_types is waf_rule,', 'detection_types is waf_rule,', 'detection_types is waf_rule,', 'detection_types is waf_rule,', 'detection_types is waf_rule,', 'detection_types is waf_rule,', 'detection_types is waf_rule,']\n"
     ]
    },
    {
     "name": "stderr",
     "output_type": "stream",
     "text": [
      " 63%|██████▎   | 177/282 [08:42<05:13,  2.99s/it]"
     ]
    },
    {
     "name": "stdout",
     "output_type": "stream",
     "text": [
      "['detection_types is waf_rule,', 'detection_types is waf_rule,', 'detection_types is waf_rule,', 'detection_types is waf_rule,', 'detection_types is waf_rule,', 'detection_types is waf_rule,', 'detection_types is waf_rule,', 'detection_types is waf_rule,', 'detection_types is waf_rule,', 'detection_types is waf_rule,', 'detection_types is waf_rule,', 'detection_types is waf_rule,', 'detection_types is waf_rule,', 'detection_types is waf_rule,', 'detection_types is waf_rule,', 'detection_types is waf_rule,', 'detection_types is waf_rule,', 'detection_types is waf_rule,', 'detection_types is waf_rule,', 'detection_types is waf_rule,', 'detection_types is waf_rule,', 'detection_types is waf_rule,', 'detection_types is waf_rule,', 'detection_types is waf_rule,', 'detection_types is waf_rule,', 'detection_types is waf_rule,', 'detection_types is waf_rule,', 'detection_types is waf_rule,', 'detection_types is waf_rule,', 'detection_types is waf_rule,', 'detection_types is waf_rule,', 'detection_types is waf_rule,', 'detection_types is waf_rule,', 'detection_types is waf_rule,', 'detection_types is waf_rule,', 'detection_types is waf_rule,', 'detection_types is waf_rule,', 'detection_types is waf_rule,', 'detection_types is waf_rule,', 'detection_types is waf_rule,', 'detection_types is waf_rule,', 'detection_types is waf_rule,', 'detection_types is waf_rule,', 'detection_types is waf_rule,', 'detection_types is waf_rule,', 'detection_types is waf_rule,', 'detection_types is waf_rule,', 'detection_types is waf_rule,', 'detection_types is waf_rule,', 'detection_types is waf_rule,']\n",
      "['detection_types is waf_rule,', 'detection_types is waf_rule,', 'detection_types is waf_rule,', 'detection_types is waf_rule,', 'detection_types is waf_rule,', 'detection_types is waf_rule,', 'detection_types is waf_rule,', 'detection_types is waf_rule,', 'detection_types is waf_rule,', 'detection_types is waf_rule,', 'detection_types is waf_rule,', 'detection_types is waf_rule,', 'detection_types is waf_rule,', 'detection_types is waf_rule,', 'detection_types is waf_rule,', 'detection_types is waf_rule,', 'detection_types is waf_rule,', 'detection_types is waf_rule,', 'detection_types is waf_rule,', 'detection_types is waf_rule,', 'detection_types is waf_rule,', 'detection_types is waf_rule,', 'detection_types is waf_rule,', 'detection_types is waf_rule,', 'detection_types is waf_rule,', 'detection_types is waf_rule,', 'detection_types is waf_rule,', 'detection_types is waf_rule,', 'detection_types is waf_rule,', 'detection_types is waf_rule,', 'detection_types is waf_rule,', 'detection_types is waf_rule,', 'detection_types is waf_rule,', 'detection_types is waf_rule,', 'detection_types is waf_rule,', 'detection_types is waf_rule,', 'detection_types is waf_rule,', 'detection_types is waf_rule,', 'detection_types is waf_rule,', 'detection_types is waf_rule,', 'detection_types is waf_rule,', 'detection_types is waf_rule,', 'detection_types is waf_rule,', 'detection_types is waf_rule,', 'detection_types is waf_rule,', 'detection_types is waf_rule,', 'detection_types is waf_rule,', 'detection_types is waf_rule,', 'detection_types is waf_rule,', 'detection_types is waf_rule,']\n",
      "['detection_types is waf_rule,', 'detection_types is waf_rule,', 'detection_types is waf_rule,', 'detection_types is waf_rule,', 'detection_types is waf_rule,', 'detection_types is waf_rule,', 'detection_types is waf_rule,', 'detection_types is waf_rule,', 'detection_types is waf_rule,', 'detection_types is waf_rule,', 'detection_types is waf_rule,', 'detection_types is waf_rule,', 'detection_types is waf_rule,', 'detection_types is waf_rule,', 'detection_types is waf_rule,', 'detection_types is waf_rule,', 'detection_types is waf_rule,', 'detection_types is waf_rule,', 'detection_types is waf_rule,', 'detection_types is waf_rule,', 'detection_types is waf_rule,', 'detection_types is waf_rule,', 'detection_types is waf_rule,', 'detection_types is waf_rule,', 'detection_types is waf_rule,', 'detection_types is waf_rule,', 'detection_types is waf_rule,', 'detection_types is waf_rule,', 'detection_types is waf_rule,', 'detection_types is waf_rule,', 'detection_types is waf_rule,', 'detection_types is waf_rule,', 'detection_types is waf_rule,', 'detection_types is waf_rule,', 'detection_types is waf_rule,', 'detection_types is waf_rule,', 'detection_types is waf_rule,', 'detection_types is waf_rule,', 'detection_types is waf_rule,', 'detection_types is waf_rule,', 'detection_types is waf_rule,', 'detection_types is waf_rule,', 'detection_types is waf_rule,', 'detection_types is waf_rule,', 'detection_types is waf_rule,', 'detection_types is waf_rule,', 'detection_types is waf_rule,', 'detection_types is waf_rule,', 'detection_types is waf_rule,', 'detection_types is waf_rule,']\n",
      "['detection_types is waf_rule,', 'detection_types is waf_rule,', 'detection_types is waf_rule,', 'detection_types is waf_rule,', 'detection_types is waf_rule,', 'detection_types is waf_rule,', 'detection_types is waf_rule,', 'detection_types is waf_rule,', 'detection_types is waf_rule,', 'detection_types is waf_rule,', 'detection_types is waf_rule,', 'detection_types is waf_rule,', 'detection_types is waf_rule,', 'detection_types is waf_rule,', 'detection_types is waf_rule,', 'detection_types is waf_rule,', 'detection_types is waf_rule,', 'detection_types is waf_rule,', 'detection_types is waf_rule,', 'detection_types is waf_rule,', 'detection_types is waf_rule,', 'detection_types is waf_rule,', 'detection_types is waf_rule,', 'detection_types is waf_rule,', 'detection_types is waf_rule,', 'detection_types is waf_rule,', 'detection_types is waf_rule,', 'detection_types is waf_rule,', 'detection_types is waf_rule,', 'detection_types is waf_rule,', 'detection_types is waf_rule,', 'detection_types is waf_rule,', 'detection_types is waf_rule,', 'detection_types is waf_rule,', 'detection_types is waf_rule,', 'detection_types is waf_rule,', 'detection_types is waf_rule,', 'detection_types is waf_rule,', 'detection_types is waf_rule,', 'detection_types is waf_rule,', 'detection_types is waf_rule,', 'detection_types is waf_rule,', 'detection_types is waf_rule,', 'detection_types is waf_rule,', 'detection_types is waf_rule,', 'detection_types is waf_rule,', 'detection_types is waf_rule,', 'detection_types is waf_rule,', 'detection_types is waf_rule,', 'detection_types is waf_rule,']\n"
     ]
    },
    {
     "name": "stderr",
     "output_type": "stream",
     "text": [
      " 63%|██████▎   | 178/282 [08:49<06:20,  3.66s/it]"
     ]
    },
    {
     "name": "stdout",
     "output_type": "stream",
     "text": [
      "['detection_types is waf_rule,', 'detection_types is waf_rule,', 'detection_types is waf_rule,', 'detection_types is waf_rule,', 'detection_types is waf_rule,', 'detection_types is waf_rule,', 'detection_types is waf_rule,', 'detection_types is waf_rule,', 'detection_types is waf_rule,', 'detection_types is waf_rule,', 'detection_types is waf_rule,', 'detection_types is waf_rule,', 'detection_types is waf_rule,', 'detection_types is waf_rule,', 'detection_types is waf_rule,', 'detection_types is waf_rule,', 'detection_types is waf_rule,', 'detection_types is waf_rule,', 'detection_types is waf_rule,', 'detection_types is waf_rule,', 'detection_types is waf_rule,', 'detection_types is waf_rule,', 'detection_types is waf_rule,', 'detection_types is waf_rule,', 'detection_types is waf_rule,', 'detection_types is waf_rule,', 'detection_types is waf_rule,', 'detection_types is waf_rule,', 'detection_types is waf_rule,', 'detection_types is waf_rule,', 'detection_types is waf_rule,', 'detection_types is waf_rule,', 'detection_types is waf_rule,', 'detection_types is waf_rule,', 'detection_types is waf_rule,', 'detection_types is waf_rule,', 'detection_types is waf_rule,', 'detection_types is waf_rule,', 'detection_types is waf_rule,', 'detection_types is waf_rule,', 'detection_types is waf_rule,', 'detection_types is waf_rule,', 'detection_types is waf_rule,', 'detection_types is waf_rule,', 'detection_types is waf_rule,', 'detection_types is waf_rule,', 'detection_types is waf_rule,', 'detection_types is waf_rule,', 'detection_types is waf_rule,', 'detection_types is waf_rule,']\n"
     ]
    },
    {
     "name": "stderr",
     "output_type": "stream",
     "text": [
      " 64%|██████▍   | 180/282 [08:50<04:25,  2.60s/it]"
     ]
    },
    {
     "name": "stdout",
     "output_type": "stream",
     "text": [
      "['detection_types is waf_rule,', 'detection_types is waf_rule,', 'detection_types is waf_rule,', 'detection_types is waf_rule,', 'detection_types is waf_rule,', 'detection_types is waf_rule,', 'detection_types is waf_rule,', 'detection_types is waf_rule,', 'detection_types is waf_rule,', 'detection_types is waf_rule,', 'detection_types is waf_rule,', 'detection_types is waf_rule,', 'detection_types is waf_rule,', 'detection_types is waf_rule,', 'detection_types is waf_rule,', 'detection_types is waf_rule,', 'detection_types is waf_rule,', 'detection_types is waf_rule,', 'detection_types is waf_rule,', 'detection_types is waf_rule,', 'detection_types is waf_rule,', 'detection_types is waf_rule,', 'detection_types is waf_rule,', 'detection_types is waf_rule,', 'detection_types is waf_rule,', 'detection_types is waf_rule,', 'detection_types is waf_rule,', 'detection_types is waf_rule,', 'detection_types is waf_rule,', 'detection_types is waf_rule,', 'detection_types is waf_rule,', 'detection_types is waf_rule,', 'detection_types is waf_rule,', 'detection_types is waf_rule,', 'detection_types is waf_rule,', 'detection_types is waf_rule,', 'detection_types is waf_rule,', 'detection_types is waf_rule,', 'detection_types is waf_rule,', 'detection_types is waf_rule,', 'detection_types is waf_rule,', 'detection_types is waf_rule,', 'detection_types is waf_rule,', 'detection_types is waf_rule,', 'detection_types is waf_rule,', 'detection_types is waf_rule,', 'detection_types is waf_rule,', 'detection_types is waf_rule,', 'detection_types is waf_rule,', 'detection_types is waf_rule,']\n"
     ]
    },
    {
     "name": "stderr",
     "output_type": "stream",
     "text": [
      " 65%|██████▍   | 182/282 [08:52<03:18,  1.99s/it]"
     ]
    },
    {
     "name": "stdout",
     "output_type": "stream",
     "text": [
      "['detection_types is waf_rule,', 'detection_types is waf_rule,', 'detection_types is waf_rule,', 'detection_types is waf_rule,', 'detection_types is waf_rule,', 'detection_types is waf_rule,', 'detection_types is waf_rule,', 'detection_types is waf_rule,', 'detection_types is waf_rule,', 'detection_types is waf_rule,', 'detection_types is waf_rule,', 'detection_types is waf_rule,', 'detection_types is waf_rule,', 'detection_types is waf_rule,', 'detection_types is waf_rule,', 'detection_types is waf_rule,', 'detection_types is waf_rule,', 'detection_types is waf_rule,', 'detection_types is waf_rule,', 'detection_types is waf_rule,', 'detection_types is waf_rule,', 'detection_types is waf_rule,', 'detection_types is waf_rule,', 'detection_types is waf_rule,', 'detection_types is waf_rule,', 'detection_types is waf_rule,', 'detection_types is waf_rule,', 'detection_types is waf_rule,', 'detection_types is waf_rule,', 'detection_types is waf_rule,', 'detection_types is waf_rule,', 'detection_types is waf_rule,', 'detection_types is waf_rule,', 'detection_types is waf_rule,', 'detection_types is waf_rule,', 'detection_types is waf_rule,', 'detection_types is waf_rule,', 'detection_types is waf_rule,', 'detection_types is waf_rule,', 'detection_types is waf_rule,', 'detection_types is waf_rule,', 'detection_types is waf_rule,', 'detection_types is waf_rule,', 'detection_types is waf_rule,', 'detection_types is waf_rule,', 'detection_types is waf_rule,', 'detection_types is waf_rule,', 'detection_types is waf_rule,', 'detection_types is waf_rule,', 'detection_types is waf_rule,']\n"
     ]
    },
    {
     "name": "stderr",
     "output_type": "stream",
     "text": [
      " 66%|██████▌   | 185/282 [08:54<02:12,  1.37s/it]"
     ]
    },
    {
     "name": "stdout",
     "output_type": "stream",
     "text": [
      "['detection_types is waf_rule,', 'detection_types is waf_rule,', 'detection_types is waf_rule,', 'detection_types is waf_rule,', 'detection_types is waf_rule,', 'detection_types is waf_rule,', 'detection_types is waf_rule,', 'detection_types is waf_rule,', 'detection_types is waf_rule,', 'detection_types is waf_rule,', 'detection_types is waf_rule,', 'detection_types is waf_rule,', 'detection_types is waf_rule,', 'detection_types is waf_rule,', 'detection_types is waf_rule,', 'detection_types is waf_rule,', 'detection_types is waf_rule,', 'detection_types is waf_rule,', 'detection_types is waf_rule,', 'detection_types is waf_rule,', 'detection_types is waf_rule,', 'detection_types is waf_rule,', 'detection_types is waf_rule,', 'detection_types is waf_rule,', 'detection_types is waf_rule,', 'detection_types is waf_rule,', 'detection_types is waf_rule,', 'detection_types is waf_rule,', 'detection_types is waf_rule,', 'detection_types is waf_rule,', 'detection_types is waf_rule,', 'detection_types is waf_rule,', 'detection_types is waf_rule,', 'detection_types is waf_rule,', 'detection_types is waf_rule,', 'detection_types is waf_rule,', 'detection_types is waf_rule,', 'detection_types is waf_rule,', 'detection_types is waf_rule,', 'detection_types is waf_rule,', 'detection_types is waf_rule,', 'detection_types is waf_rule,', 'detection_types is waf_rule,', 'detection_types is waf_rule,', 'detection_types is waf_rule,', 'detection_types is waf_rule,', 'detection_types is waf_rule,', 'detection_types is waf_rule,', 'detection_types is waf_rule,', 'detection_types is waf_rule,']\n",
      "['detection_types is waf_rule,', 'detection_types is waf_rule,', 'detection_types is waf_rule,', 'detection_types is waf_rule,', 'detection_types is waf_rule,', 'detection_types is waf_rule,', 'detection_types is waf_rule,', 'detection_types is waf_rule,', 'detection_types is waf_rule,', 'detection_types is waf_rule,', 'detection_types is waf_rule,', 'detection_types is waf_rule,', 'detection_types is waf_rule,', 'detection_types is waf_rule,', 'detection_types is waf_rule,', 'detection_types is waf_rule,', 'detection_types is waf_rule,', 'detection_types is waf_rule,', 'detection_types is waf_rule,', 'detection_types is waf_rule,', 'detection_types is waf_rule,', 'detection_types is waf_rule,', 'detection_types is waf_rule,', 'detection_types is waf_rule,', 'detection_types is waf_rule,', 'detection_types is waf_rule,', 'detection_types is waf_rule,', 'detection_types is waf_rule,', 'detection_types is waf_rule,', 'detection_types is waf_rule,', 'detection_types is waf_rule,', 'detection_types is waf_rule,', 'detection_types is waf_rule,', 'detection_types is waf_rule,', 'detection_types is waf_rule,', 'detection_types is waf_rule,', 'detection_types is waf_rule,', 'detection_types is waf_rule,', 'detection_types is waf_rule,', 'detection_types is waf_rule,', 'detection_types is waf_rule,', 'detection_types is waf_rule,', 'detection_types is waf_rule,', 'detection_types is waf_rule,', 'detection_types is waf_rule,', 'detection_types is waf_rule,', 'detection_types is waf_rule,', 'detection_types is waf_rule,', 'detection_types is waf_rule,', 'detection_types is waf_rule,']\n"
     ]
    },
    {
     "name": "stderr",
     "output_type": "stream",
     "text": [
      " 67%|██████▋   | 188/282 [08:57<01:57,  1.25s/it]"
     ]
    },
    {
     "name": "stdout",
     "output_type": "stream",
     "text": [
      "['detection_types is waf_rule,', 'detection_types is waf_rule,', 'detection_types is waf_rule,', 'detection_types is waf_rule,', 'detection_types is waf_rule,', 'detection_types is waf_rule,', 'detection_types is waf_rule,', 'detection_types is waf_rule,', 'detection_types is waf_rule,', 'detection_types is waf_rule,', 'detection_types is waf_rule,', 'detection_types is waf_rule,', 'detection_types is waf_rule,', 'detection_types is waf_rule,', 'detection_types is waf_rule,', 'detection_types is waf_rule,', 'detection_types is waf_rule,', 'detection_types is waf_rule,', 'detection_types is waf_rule,', 'detection_types is waf_rule,', 'detection_types is waf_rule,', 'detection_types is waf_rule,', 'detection_types is waf_rule,', 'detection_types is waf_rule,', 'detection_types is waf_rule,', 'detection_types is waf_rule,', 'detection_types is waf_rule,', 'detection_types is waf_rule,', 'detection_types is waf_rule,', 'detection_types is waf_rule,', 'detection_types is waf_rule,', 'detection_types is waf_rule,', 'detection_types is waf_rule,', 'detection_types is waf_rule,', 'detection_types is waf_rule,', 'detection_types is waf_rule,', 'detection_types is waf_rule,', 'detection_types is waf_rule,', 'detection_types is waf_rule,', 'detection_types is waf_rule,', 'detection_types is waf_rule,', 'detection_types is waf_rule,', 'detection_types is waf_rule,', 'detection_types is waf_rule,', 'detection_types is waf_rule,', 'detection_types is waf_rule,', 'detection_types is waf_rule,', 'detection_types is waf_rule,', 'detection_types is waf_rule,', 'detection_types is waf_rule,']\n"
     ]
    },
    {
     "name": "stderr",
     "output_type": "stream",
     "text": [
      " 67%|██████▋   | 189/282 [08:58<01:59,  1.29s/it]"
     ]
    },
    {
     "name": "stdout",
     "output_type": "stream",
     "text": [
      "['detection_types is waf_rule,', 'detection_types is waf_rule,', 'detection_types is waf_rule,', 'detection_types is waf_rule,', 'detection_types is waf_rule,', 'detection_types is waf_rule,', 'detection_types is waf_rule,', 'detection_types is waf_rule,', 'detection_types is waf_rule,', 'detection_types is waf_rule,', 'detection_types is waf_rule,', 'detection_types is waf_rule,', 'detection_types is waf_rule,', 'detection_types is waf_rule,', 'detection_types is waf_rule,', 'detection_types is waf_rule,', 'detection_types is waf_rule,', 'detection_types is waf_rule,', 'detection_types is waf_rule,', 'detection_types is waf_rule,', 'detection_types is waf_rule,', 'detection_types is waf_rule,', 'detection_types is waf_rule,', 'detection_types is waf_rule,', 'detection_types is waf_rule,', 'detection_types is waf_rule,', 'detection_types is waf_rule,', 'detection_types is waf_rule,', 'detection_types is waf_rule,', 'detection_types is waf_rule,', 'detection_types is waf_rule,', 'detection_types is waf_rule,', 'detection_types is waf_rule,', 'detection_types is waf_rule,', 'detection_types is waf_rule,', 'detection_types is waf_rule,', 'detection_types is waf_rule,', 'detection_types is waf_rule,', 'detection_types is waf_rule,', 'detection_types is waf_rule,', 'detection_types is waf_rule,', 'detection_types is waf_rule,', 'detection_types is waf_rule,', 'detection_types is waf_rule,', 'detection_types is waf_rule,', 'detection_types is waf_rule,', 'detection_types is waf_rule,', 'detection_types is waf_rule,', 'detection_types is waf_rule,', 'detection_types is waf_rule,']\n"
     ]
    },
    {
     "name": "stderr",
     "output_type": "stream",
     "text": [
      " 68%|██████▊   | 192/282 [09:00<01:28,  1.02it/s]"
     ]
    },
    {
     "name": "stdout",
     "output_type": "stream",
     "text": [
      "['detection_types is waf_rule,', 'detection_types is waf_rule,', 'detection_types is waf_rule,', 'detection_types is waf_rule,', 'detection_types is waf_rule,', 'detection_types is waf_rule,', 'detection_types is waf_rule,', 'detection_types is waf_rule,', 'detection_types is waf_rule,', 'detection_types is waf_rule,', 'detection_types is waf_rule,', 'detection_types is waf_rule,', 'detection_types is waf_rule,', 'detection_types is waf_rule,', 'detection_types is waf_rule,', 'detection_types is waf_rule,', 'detection_types is waf_rule,', 'detection_types is waf_rule,', 'detection_types is waf_rule,', 'detection_types is waf_rule,', 'detection_types is waf_rule,', 'detection_types is waf_rule,', 'detection_types is waf_rule,', 'detection_types is waf_rule,', 'detection_types is waf_rule,', 'detection_types is waf_rule,', 'detection_types is waf_rule,', 'detection_types is waf_rule,', 'detection_types is waf_rule,', 'detection_types is waf_rule,', 'detection_types is waf_rule,', 'detection_types is waf_rule,', 'detection_types is waf_rule,', 'detection_types is waf_rule,', 'detection_types is waf_rule,', 'detection_types is waf_rule,', 'detection_types is waf_rule,', 'detection_types is waf_rule,', 'detection_types is waf_rule,', 'detection_types is waf_rule,', 'detection_types is waf_rule,', 'detection_types is waf_rule,', 'detection_types is waf_rule,', 'detection_types is waf_rule,', 'detection_types is waf_rule,', 'detection_types is waf_rule,', 'detection_types is waf_rule,', 'detection_types is waf_rule,', 'detection_types is waf_rule,', 'detection_types is waf_rule,']\n",
      "['detection_types is waf_rule,', 'detection_types is waf_rule,', 'detection_types is waf_rule,', 'detection_types is waf_rule,', 'detection_types is waf_rule,', 'detection_types is waf_rule,', 'detection_types is waf_rule,', 'detection_types is waf_rule,', 'detection_types is waf_rule,', 'detection_types is waf_rule,', 'detection_types is waf_rule,', 'detection_types is waf_rule,', 'detection_types is waf_rule,', 'detection_types is waf_rule,', 'detection_types is waf_rule,', 'detection_types is waf_rule,', 'detection_types is waf_rule,', 'detection_types is waf_rule,', 'detection_types is waf_rule,', 'detection_types is waf_rule,', 'detection_types is waf_rule,', 'detection_types is waf_rule,', 'detection_types is waf_rule,', 'detection_types is waf_rule,', 'detection_types is waf_rule,', 'detection_types is waf_rule,', 'detection_types is waf_rule,', 'detection_types is waf_rule,', 'detection_types is waf_rule,', 'detection_types is waf_rule,', 'detection_types is waf_rule,', 'detection_types is waf_rule,', 'detection_types is waf_rule,', 'detection_types is waf_rule,', 'detection_types is waf_rule,', 'detection_types is waf_rule,', 'detection_types is waf_rule,', 'detection_types is waf_rule,', 'detection_types is waf_rule,', 'detection_types is waf_rule,', 'detection_types is waf_rule,', 'detection_types is waf_rule,', 'detection_types is waf_rule,', 'detection_types is waf_rule,', 'detection_types is waf_rule,', 'detection_types is waf_rule,', 'detection_types is waf_rule,', 'detection_types is waf_rule,', 'detection_types is waf_rule,', 'detection_types is waf_rule,']\n"
     ]
    },
    {
     "name": "stderr",
     "output_type": "stream",
     "text": [
      " 68%|██████▊   | 193/282 [09:03<01:58,  1.34s/it]"
     ]
    },
    {
     "name": "stdout",
     "output_type": "stream",
     "text": [
      "['detection_types is waf_rule,', 'detection_types is waf_rule,', 'detection_types is waf_rule,', 'detection_types is waf_rule,', 'detection_types is waf_rule,', 'detection_types is waf_rule,', 'detection_types is waf_rule,', 'detection_types is waf_rule,', 'detection_types is waf_rule,', 'detection_types is waf_rule,', 'detection_types is waf_rule,', 'detection_types is waf_rule,', 'detection_types is waf_rule,', 'detection_types is waf_rule,', 'detection_types is waf_rule,', 'detection_types is waf_rule,', 'detection_types is waf_rule,', 'detection_types is waf_rule,', 'detection_types is waf_rule,', 'detection_types is waf_rule,', 'detection_types is waf_rule,', 'detection_types is waf_rule,', 'detection_types is waf_rule,', 'detection_types is waf_rule,', 'detection_types is waf_rule,', 'detection_types is waf_rule,', 'detection_types is waf_rule,', 'detection_types is waf_rule,', 'detection_types is waf_rule,', 'detection_types is waf_rule,', 'detection_types is waf_rule,', 'detection_types is waf_rule,', 'detection_types is waf_rule,', 'detection_types is waf_rule,', 'detection_types is waf_rule,', 'detection_types is waf_rule,', 'detection_types is waf_rule,', 'detection_types is waf_rule,', 'detection_types is waf_rule,', 'detection_types is waf_rule,', 'detection_types is waf_rule,', 'detection_types is waf_rule,', 'detection_types is waf_rule,', 'detection_types is waf_rule,', 'detection_types is waf_rule,', 'detection_types is waf_rule,', 'detection_types is waf_rule,', 'detection_types is waf_rule,', 'detection_types is waf_rule,', 'detection_types is waf_rule,']\n"
     ]
    },
    {
     "name": "stderr",
     "output_type": "stream",
     "text": [
      " 69%|██████▉   | 195/282 [09:04<01:40,  1.16s/it]"
     ]
    },
    {
     "name": "stdout",
     "output_type": "stream",
     "text": [
      "['detection_types is waf_rule,', 'detection_types is waf_rule,', 'detection_types is waf_rule,', 'detection_types is waf_rule,', 'detection_types is waf_rule,', 'detection_types is waf_rule,', 'detection_types is waf_rule,', 'detection_types is waf_rule,', 'detection_types is waf_rule,', 'detection_types is waf_rule,', 'detection_types is waf_rule,', 'detection_types is waf_rule,', 'detection_types is waf_rule,', 'detection_types is waf_rule,', 'detection_types is waf_rule,', 'detection_types is waf_rule,', 'detection_types is waf_rule,', 'detection_types is waf_rule,', 'detection_types is waf_rule,', 'detection_types is waf_rule,', 'detection_types is waf_rule,', 'detection_types is waf_rule,', 'detection_types is waf_rule,', 'detection_types is waf_rule,', 'detection_types is waf_rule,', 'detection_types is waf_rule,', 'detection_types is waf_rule,', 'detection_types is waf_rule,', 'detection_types is waf_rule,', 'detection_types is waf_rule,', 'detection_types is waf_rule,', 'detection_types is waf_rule,', 'detection_types is waf_rule,', 'detection_types is waf_rule,', 'detection_types is waf_rule,', 'detection_types is waf_rule,', 'detection_types is waf_rule,', 'detection_types is waf_rule,', 'detection_types is waf_rule,', 'detection_types is waf_rule,', 'detection_types is waf_rule,', 'detection_types is waf_rule,', 'detection_types is waf_rule,', 'detection_types is waf_rule,', 'detection_types is waf_rule,', 'detection_types is waf_rule,', 'detection_types is waf_rule,', 'detection_types is waf_rule,', 'detection_types is waf_rule,', 'detection_types is waf_rule,']\n"
     ]
    },
    {
     "name": "stderr",
     "output_type": "stream",
     "text": [
      " 70%|██████▉   | 197/282 [09:06<01:28,  1.04s/it]"
     ]
    },
    {
     "name": "stdout",
     "output_type": "stream",
     "text": [
      "['detection_types is waf_rule,', 'detection_types is waf_rule,', 'detection_types is waf_rule,', 'detection_types is waf_rule,', 'detection_types is waf_rule,', 'detection_types is waf_rule,', 'detection_types is waf_rule,', 'detection_types is waf_rule,', 'detection_types is waf_rule,', 'detection_types is waf_rule,', 'detection_types is waf_rule,', 'detection_types is waf_rule,', 'detection_types is waf_rule,', 'detection_types is waf_rule,', 'detection_types is waf_rule,', 'detection_types is waf_rule,', 'detection_types is waf_rule,', 'detection_types is waf_rule,', 'detection_types is waf_rule,', 'detection_types is waf_rule,', 'detection_types is waf_rule,', 'detection_types is waf_rule,', 'detection_types is waf_rule,', 'detection_types is waf_rule,', 'detection_types is waf_rule,', 'detection_types is waf_rule,', 'detection_types is waf_rule,', 'detection_types is waf_rule,', 'detection_types is waf_rule,', 'detection_types is waf_rule,', 'detection_types is waf_rule,', 'detection_types is waf_rule,', 'detection_types is waf_rule,', 'detection_types is waf_rule,', 'detection_types is waf_rule,', 'detection_types is waf_rule,', 'detection_types is waf_rule,', 'detection_types is waf_rule,', 'detection_types is waf_rule,', 'detection_types is waf_rule,', 'detection_types is waf_rule,', 'detection_types is waf_rule,', 'detection_types is waf_rule,', 'detection_types is waf_rule,', 'detection_types is waf_rule,', 'detection_types is waf_rule,', 'detection_types is waf_rule,', 'detection_types is waf_rule,', 'detection_types is waf_rule,', 'detection_types is waf_rule,']\n",
      "['detection_types is waf_rule,', 'detection_types is waf_rule,', 'detection_types is waf_rule,', 'detection_types is waf_rule,', 'detection_types is waf_rule,', 'detection_types is waf_rule,', 'detection_types is waf_rule,', 'detection_types is waf_rule,', 'detection_types is waf_rule,', 'detection_types is waf_rule,', 'detection_types is waf_rule,', 'detection_types is waf_rule,', 'detection_types is waf_rule,', 'detection_types is waf_rule,', 'detection_types is waf_rule,', 'detection_types is waf_rule,', 'detection_types is waf_rule,', 'detection_types is waf_rule,', 'detection_types is waf_rule,', 'detection_types is waf_rule,', 'detection_types is waf_rule,', 'detection_types is waf_rule,', 'detection_types is waf_rule,', 'detection_types is waf_rule,', 'detection_types is waf_rule,', 'detection_types is waf_rule,', 'detection_types is waf_rule,', 'detection_types is waf_rule,', 'detection_types is waf_rule,', 'detection_types is waf_rule,', 'detection_types is waf_rule,', 'detection_types is waf_rule,', 'detection_types is waf_rule,', 'detection_types is waf_rule,', 'detection_types is waf_rule,', 'detection_types is waf_rule,', 'detection_types is waf_rule,', 'detection_types is waf_rule,', 'detection_types is waf_rule,', 'detection_types is waf_rule,', 'detection_types is waf_rule,', 'detection_types is waf_rule,', 'detection_types is waf_rule,', 'detection_types is waf_rule,', 'detection_types is waf_rule,', 'detection_types is waf_rule,', 'detection_types is waf_rule,', 'detection_types is waf_rule,', 'detection_types is waf_rule,', 'detection_types is waf_rule,']\n"
     ]
    },
    {
     "name": "stderr",
     "output_type": "stream",
     "text": [
      " 70%|███████   | 198/282 [09:09<02:00,  1.43s/it]"
     ]
    },
    {
     "name": "stdout",
     "output_type": "stream",
     "text": [
      "['detection_types is waf_rule,', 'detection_types is waf_rule,', 'detection_types is waf_rule,', 'detection_types is waf_rule,', 'detection_types is waf_rule,', 'detection_types is waf_rule,', 'detection_types is waf_rule,', 'detection_types is waf_rule,', 'detection_types is waf_rule,', 'detection_types is waf_rule,', 'detection_types is waf_rule,', 'detection_types is waf_rule,', 'detection_types is waf_rule,', 'detection_types is waf_rule,', 'detection_types is waf_rule,', 'detection_types is waf_rule,', 'detection_types is waf_rule,', 'detection_types is waf_rule,', 'detection_types is waf_rule,', 'detection_types is waf_rule,', 'detection_types is waf_rule,', 'detection_types is waf_rule,', 'detection_types is waf_rule,', 'detection_types is waf_rule,', 'detection_types is waf_rule,', 'detection_types is waf_rule,', 'detection_types is waf_rule,', 'detection_types is waf_rule,', 'detection_types is waf_rule,', 'detection_types is waf_rule,', 'detection_types is waf_rule,', 'detection_types is waf_rule,', 'detection_types is waf_rule,', 'detection_types is waf_rule,', 'detection_types is waf_rule,', 'detection_types is waf_rule,', 'detection_types is waf_rule,', 'detection_types is waf_rule,', 'detection_types is waf_rule,', 'detection_types is waf_rule,', 'detection_types is waf_rule,', 'detection_types is waf_rule,', 'detection_types is waf_rule,', 'detection_types is waf_rule,', 'detection_types is waf_rule,', 'detection_types is waf_rule,', 'detection_types is waf_rule,', 'detection_types is waf_rule,', 'detection_types is waf_rule,', 'detection_types is waf_rule,']\n"
     ]
    },
    {
     "name": "stderr",
     "output_type": "stream",
     "text": [
      " 71%|███████   | 199/282 [09:11<02:00,  1.45s/it]"
     ]
    },
    {
     "name": "stdout",
     "output_type": "stream",
     "text": [
      "['detection_types is waf_rule,', 'detection_types is waf_rule,', 'detection_types is waf_rule,', 'detection_types is waf_rule,', 'detection_types is waf_rule,', 'detection_types is waf_rule,', 'detection_types is waf_rule,', 'detection_types is waf_rule,', 'detection_types is waf_rule,', 'detection_types is waf_rule,', 'detection_types is waf_rule,', 'detection_types is waf_rule,', 'detection_types is waf_rule,', 'detection_types is waf_rule,', 'detection_types is waf_rule,', 'detection_types is waf_rule,', 'detection_types is waf_rule,', 'detection_types is waf_rule,', 'detection_types is waf_rule,', 'detection_types is waf_rule,', 'detection_types is waf_rule,', 'detection_types is waf_rule,', 'detection_types is waf_rule,', 'detection_types is waf_rule,', 'detection_types is waf_rule,', 'detection_types is waf_rule,', 'detection_types is waf_rule,', 'detection_types is waf_rule,', 'detection_types is waf_rule,', 'detection_types is waf_rule,', 'detection_types is waf_rule,', 'detection_types is waf_rule,', 'detection_types is waf_rule,', 'detection_types is waf_rule,', 'detection_types is waf_rule,', 'detection_types is waf_rule,', 'detection_types is waf_rule,', 'detection_types is waf_rule,', 'detection_types is waf_rule,', 'detection_types is waf_rule,', 'detection_types is waf_rule,', 'detection_types is waf_rule,', 'detection_types is waf_rule,', 'detection_types is waf_rule,', 'detection_types is waf_rule,', 'detection_types is waf_rule,', 'detection_types is waf_rule,', 'detection_types is waf_rule,', 'detection_types is waf_rule,', 'detection_types is waf_rule,']\n"
     ]
    },
    {
     "name": "stderr",
     "output_type": "stream",
     "text": [
      " 71%|███████   | 200/282 [09:12<02:02,  1.49s/it]"
     ]
    },
    {
     "name": "stdout",
     "output_type": "stream",
     "text": [
      "['detection_types is waf_rule,', 'detection_types is waf_rule,', 'detection_types is waf_rule,', 'detection_types is waf_rule,', 'detection_types is waf_rule,', 'detection_types is waf_rule,', 'detection_types is waf_rule,', 'detection_types is waf_rule,', 'detection_types is waf_rule,', 'detection_types is waf_rule,', 'detection_types is waf_rule,', 'detection_types is waf_rule,', 'detection_types is waf_rule,', 'detection_types is waf_rule,', 'detection_types is waf_rule,', 'detection_types is waf_rule,', 'detection_types is waf_rule,', 'detection_types is waf_rule,', 'detection_types is waf_rule,', 'detection_types is waf_rule,', 'detection_types is waf_rule,', 'detection_types is waf_rule,', 'detection_types is waf_rule,', 'detection_types is waf_rule,', 'detection_types is waf_rule,', 'detection_types is waf_rule,', 'detection_types is waf_rule,', 'detection_types is waf_rule,', 'detection_types is waf_rule,', 'detection_types is waf_rule,', 'detection_types is waf_rule,', 'detection_types is waf_rule,', 'detection_types is waf_rule,', 'detection_types is waf_rule,', 'detection_types is waf_rule,', 'detection_types is waf_rule,', 'detection_types is waf_rule,', 'detection_types is waf_rule,', 'detection_types is waf_rule,', 'detection_types is waf_rule,', 'detection_types is waf_rule,', 'detection_types is waf_rule,', 'detection_types is waf_rule,', 'detection_types is waf_rule,', 'detection_types is waf_rule,', 'detection_types is waf_rule,', 'detection_types is waf_rule,', 'detection_types is waf_rule,', 'detection_types is waf_rule,', 'detection_types is waf_rule,']\n"
     ]
    },
    {
     "name": "stderr",
     "output_type": "stream",
     "text": [
      " 71%|███████▏  | 201/282 [09:14<02:02,  1.51s/it]"
     ]
    },
    {
     "name": "stdout",
     "output_type": "stream",
     "text": [
      "['detection_types is waf_rule,', 'detection_types is waf_rule,', 'detection_types is waf_rule,', 'detection_types is waf_rule,', 'detection_types is waf_rule,', 'detection_types is waf_rule,', 'detection_types is waf_rule,', 'detection_types is waf_rule,', 'detection_types is waf_rule,', 'detection_types is waf_rule,', 'detection_types is waf_rule,', 'detection_types is waf_rule,', 'detection_types is waf_rule,', 'detection_types is waf_rule,', 'detection_types is waf_rule,', 'detection_types is waf_rule,', 'detection_types is waf_rule,', 'detection_types is waf_rule,', 'detection_types is waf_rule,', 'detection_types is waf_rule,', 'detection_types is waf_rule,', 'detection_types is waf_rule,', 'detection_types is waf_rule,', 'detection_types is waf_rule,', 'detection_types is waf_rule,', 'detection_types is waf_rule,', 'detection_types is waf_rule,', 'detection_types is waf_rule,', 'detection_types is waf_rule,', 'detection_types is waf_rule,', 'detection_types is waf_rule,', 'detection_types is waf_rule,', 'detection_types is waf_rule,', 'detection_types is waf_rule,', 'detection_types is waf_rule,', 'detection_types is waf_rule,', 'detection_types is waf_rule,', 'detection_types is waf_rule,', 'detection_types is waf_rule,', 'detection_types is waf_rule,', 'detection_types is waf_rule,', 'detection_types is waf_rule,', 'detection_types is waf_rule,', 'detection_types is waf_rule,', 'detection_types is waf_rule,', 'detection_types is waf_rule,', 'detection_types is waf_rule,', 'detection_types is waf_rule,', 'detection_types is waf_rule,', 'detection_types is waf_rule,']\n",
      "['detection_types is waf_rule,', 'detection_types is waf_rule,', 'detection_types is waf_rule,', 'detection_types is waf_rule,', 'detection_types is waf_rule,', 'detection_types is waf_rule,', 'detection_types is waf_rule,', 'detection_types is waf_rule,', 'detection_types is waf_rule,', 'detection_types is waf_rule,', 'detection_types is waf_rule,', 'detection_types is waf_rule,', 'detection_types is waf_rule,', 'detection_types is waf_rule,', 'detection_types is waf_rule,', 'detection_types is waf_rule,', 'detection_types is waf_rule,', 'detection_types is waf_rule,', 'detection_types is waf_rule,', 'detection_types is waf_rule,', 'detection_types is waf_rule,', 'detection_types is waf_rule,', 'detection_types is waf_rule,', 'detection_types is waf_rule,', 'detection_types is waf_rule,', 'detection_types is waf_rule,', 'detection_types is waf_rule,', 'detection_types is waf_rule,', 'detection_types is waf_rule,', 'detection_types is waf_rule,', 'detection_types is waf_rule,', 'detection_types is waf_rule,', 'detection_types is waf_rule,', 'detection_types is waf_rule,', 'detection_types is waf_rule,', 'detection_types is waf_rule,', 'detection_types is waf_rule,', 'detection_types is waf_rule,', 'detection_types is waf_rule,', 'detection_types is waf_rule,', 'detection_types is waf_rule,', 'detection_types is waf_rule,', 'detection_types is waf_rule,', 'detection_types is waf_rule,', 'detection_types is waf_rule,', 'detection_types is waf_rule,', 'detection_types is waf_rule,', 'detection_types is waf_rule,', 'detection_types is waf_rule,', 'detection_types is waf_rule,']\n"
     ]
    },
    {
     "name": "stderr",
     "output_type": "stream",
     "text": [
      " 72%|███████▏  | 203/282 [09:17<02:02,  1.55s/it]"
     ]
    },
    {
     "name": "stdout",
     "output_type": "stream",
     "text": [
      "['detection_types is waf_rule,', 'detection_types is waf_rule,', 'detection_types is waf_rule,', 'detection_types is waf_rule,', 'detection_types is waf_rule,', 'detection_types is waf_rule,', 'detection_types is waf_rule,', 'detection_types is waf_rule,', 'detection_types is waf_rule,', 'detection_types is waf_rule,', 'detection_types is waf_rule,', 'detection_types is waf_rule,', 'detection_types is waf_rule,', 'detection_types is waf_rule,', 'detection_types is waf_rule,', 'detection_types is waf_rule,', 'detection_types is waf_rule,', 'detection_types is waf_rule,', 'detection_types is waf_rule,', 'detection_types is waf_rule,', 'detection_types is waf_rule,', 'detection_types is waf_rule,', 'detection_types is waf_rule,', 'detection_types is waf_rule,', 'detection_types is waf_rule,', 'detection_types is waf_rule,', 'detection_types is waf_rule,', 'detection_types is waf_rule,', 'detection_types is waf_rule,', 'detection_types is waf_rule,', 'detection_types is waf_rule,', 'detection_types is waf_rule,', 'detection_types is waf_rule,', 'detection_types is waf_rule,', 'detection_types is waf_rule,', 'detection_types is waf_rule,', 'detection_types is waf_rule,', 'detection_types is waf_rule,', 'detection_types is waf_rule,', 'detection_types is waf_rule,', 'detection_types is waf_rule,', 'detection_types is waf_rule,', 'detection_types is waf_rule,', 'detection_types is waf_rule,', 'detection_types is waf_rule,', 'detection_types is waf_rule,', 'detection_types is waf_rule,', 'detection_types is waf_rule,', 'detection_types is waf_rule,', 'detection_types is waf_rule,']\n"
     ]
    },
    {
     "name": "stderr",
     "output_type": "stream",
     "text": [
      " 72%|███████▏  | 204/282 [09:19<02:00,  1.54s/it]"
     ]
    },
    {
     "name": "stdout",
     "output_type": "stream",
     "text": [
      "['detection_types is waf_rule,', 'detection_types is waf_rule,', 'detection_types is waf_rule,', 'detection_types is waf_rule,', 'detection_types is waf_rule,', 'detection_types is waf_rule,', 'detection_types is waf_rule,', 'detection_types is waf_rule,', 'detection_types is waf_rule,', 'detection_types is waf_rule,', 'detection_types is waf_rule,', 'detection_types is waf_rule,', 'detection_types is waf_rule,', 'detection_types is waf_rule,', 'detection_types is waf_rule,', 'detection_types is waf_rule,', 'detection_types is waf_rule,', 'detection_types is waf_rule,', 'detection_types is waf_rule,', 'detection_types is waf_rule,', 'detection_types is waf_rule,', 'detection_types is waf_rule,', 'detection_types is waf_rule,', 'detection_types is waf_rule,', 'detection_types is waf_rule,', 'detection_types is waf_rule,', 'detection_types is waf_rule,', 'detection_types is waf_rule,', 'detection_types is waf_rule,', 'detection_types is waf_rule,', 'detection_types is waf_rule,', 'detection_types is waf_rule,', 'detection_types is waf_rule,', 'detection_types is waf_rule,', 'detection_types is waf_rule,', 'detection_types is waf_rule,', 'detection_types is waf_rule,', 'detection_types is waf_rule,', 'detection_types is waf_rule,', 'detection_types is waf_rule,', 'detection_types is waf_rule,', 'detection_types is waf_rule,', 'detection_types is waf_rule,', 'detection_types is waf_rule,', 'detection_types is waf_rule,', 'detection_types is waf_rule,', 'detection_types is waf_rule,', 'detection_types is waf_rule,', 'detection_types is waf_rule,', 'detection_types is waf_rule,']\n"
     ]
    },
    {
     "name": "stderr",
     "output_type": "stream",
     "text": [
      " 73%|███████▎  | 206/282 [09:20<01:34,  1.25s/it]"
     ]
    },
    {
     "name": "stdout",
     "output_type": "stream",
     "text": [
      "['detection_types is waf_rule,', 'detection_types is waf_rule,', 'detection_types is waf_rule,', 'detection_types is waf_rule,', 'detection_types is waf_rule,', 'detection_types is waf_rule,', 'detection_types is waf_rule,', 'detection_types is waf_rule,', 'detection_types is waf_rule,', 'detection_types is waf_rule,', 'detection_types is waf_rule,', 'detection_types is waf_rule,', 'detection_types is waf_rule,', 'detection_types is waf_rule,', 'detection_types is waf_rule,', 'detection_types is waf_rule,', 'detection_types is waf_rule,', 'detection_types is waf_rule,', 'detection_types is waf_rule,', 'detection_types is waf_rule,', 'detection_types is waf_rule,', 'detection_types is waf_rule,', 'detection_types is waf_rule,', 'detection_types is waf_rule,', 'detection_types is waf_rule,', 'detection_types is waf_rule,', 'detection_types is waf_rule,', 'detection_types is waf_rule,', 'detection_types is waf_rule,', 'detection_types is waf_rule,', 'detection_types is waf_rule,', 'detection_types is waf_rule,', 'detection_types is waf_rule,', 'detection_types is waf_rule,', 'detection_types is waf_rule,', 'detection_types is waf_rule,', 'detection_types is waf_rule,', 'detection_types is waf_rule,', 'detection_types is waf_rule,', 'detection_types is waf_rule,', 'detection_types is waf_rule,', 'detection_types is waf_rule,', 'detection_types is waf_rule,', 'detection_types is waf_rule,', 'detection_types is waf_rule,', 'detection_types is waf_rule,', 'detection_types is waf_rule,', 'detection_types is waf_rule,', 'detection_types is waf_rule,', 'detection_types is waf_rule,']\n"
     ]
    },
    {
     "name": "stderr",
     "output_type": "stream",
     "text": [
      " 74%|███████▍  | 208/282 [09:22<01:19,  1.08s/it]"
     ]
    },
    {
     "name": "stdout",
     "output_type": "stream",
     "text": [
      "['detection_types is waf_rule,', 'detection_types is waf_rule,', 'detection_types is waf_rule,', 'detection_types is waf_rule,', 'detection_types is waf_rule,', 'detection_types is waf_rule,', 'detection_types is waf_rule,', 'detection_types is waf_rule,', 'detection_types is waf_rule,', 'detection_types is waf_rule,', 'detection_types is waf_rule,', 'detection_types is waf_rule,', 'detection_types is waf_rule,', 'detection_types is waf_rule,', 'detection_types is waf_rule,', 'detection_types is waf_rule,', 'detection_types is waf_rule,', 'detection_types is waf_rule,', 'detection_types is waf_rule,', 'detection_types is waf_rule,', 'detection_types is waf_rule,', 'detection_types is waf_rule,', 'detection_types is waf_rule,', 'detection_types is waf_rule,', 'detection_types is waf_rule,', 'detection_types is waf_rule,', 'detection_types is waf_rule,', 'detection_types is waf_rule,', 'detection_types is waf_rule,', 'detection_types is waf_rule,', 'detection_types is waf_rule,', 'detection_types is waf_rule,', 'detection_types is waf_rule,', 'detection_types is waf_rule,', 'detection_types is waf_rule,', 'detection_types is waf_rule,', 'detection_types is waf_rule,', 'detection_types is waf_rule,', 'detection_types is waf_rule,', 'detection_types is waf_rule,', 'detection_types is waf_rule,', 'detection_types is waf_rule,', 'detection_types is waf_rule,', 'detection_types is waf_rule,', 'detection_types is waf_rule,', 'detection_types is waf_rule,', 'detection_types is waf_rule,', 'detection_types is waf_rule,', 'detection_types is waf_rule,', 'detection_types is waf_rule,']\n",
      "['detection_types is waf_rule,', 'detection_types is waf_rule,', 'detection_types is waf_rule,', 'detection_types is waf_rule,', 'detection_types is waf_rule,', 'detection_types is waf_rule,', 'detection_types is waf_rule,', 'detection_types is waf_rule,', 'detection_types is waf_rule,', 'detection_types is waf_rule,', 'detection_types is waf_rule,', 'detection_types is waf_rule,', 'detection_types is waf_rule,', 'detection_types is waf_rule,', 'detection_types is waf_rule,', 'detection_types is waf_rule,', 'detection_types is waf_rule,', 'detection_types is waf_rule,', 'detection_types is waf_rule,', 'detection_types is waf_rule,', 'detection_types is waf_rule,', 'detection_types is waf_rule,', 'detection_types is waf_rule,', 'detection_types is waf_rule,', 'detection_types is waf_rule,', 'detection_types is waf_rule,', 'detection_types is waf_rule,', 'detection_types is waf_rule,', 'detection_types is waf_rule,', 'detection_types is waf_rule,', 'detection_types is waf_rule,', 'detection_types is waf_rule,', 'detection_types is waf_rule,', 'detection_types is waf_rule,', 'detection_types is waf_rule,', 'detection_types is waf_rule,', 'detection_types is waf_rule,', 'detection_types is waf_rule,', 'detection_types is waf_rule,', 'detection_types is waf_rule,', 'detection_types is waf_rule,', 'detection_types is waf_rule,', 'detection_types is waf_rule,', 'detection_types is waf_rule,', 'detection_types is waf_rule,', 'detection_types is waf_rule,', 'detection_types is waf_rule,', 'detection_types is waf_rule,', 'detection_types is waf_rule,', 'detection_types is waf_rule,']\n"
     ]
    },
    {
     "name": "stderr",
     "output_type": "stream",
     "text": [
      " 74%|███████▍  | 210/282 [09:25<01:30,  1.26s/it]"
     ]
    },
    {
     "name": "stdout",
     "output_type": "stream",
     "text": [
      "['detection_types is waf_rule,', 'detection_types is waf_rule,', 'detection_types is waf_rule,', 'detection_types is waf_rule,', 'detection_types is waf_rule,', 'detection_types is waf_rule,', 'detection_types is waf_rule,', 'detection_types is waf_rule,', 'detection_types is waf_rule,', 'detection_types is waf_rule,', 'detection_types is waf_rule,', 'detection_types is waf_rule,', 'detection_types is waf_rule,', 'detection_types is waf_rule,', 'detection_types is waf_rule,', 'detection_types is waf_rule,', 'detection_types is waf_rule,', 'detection_types is waf_rule,', 'detection_types is waf_rule,', 'detection_types is waf_rule,', 'detection_types is waf_rule,', 'detection_types is waf_rule,', 'detection_types is waf_rule,', 'detection_types is waf_rule,', 'detection_types is waf_rule,', 'detection_types is waf_rule,', 'detection_types is waf_rule,', 'detection_types is waf_rule,', 'detection_types is waf_rule,', 'detection_types is waf_rule,', 'detection_types is waf_rule,', 'detection_types is waf_rule,', 'detection_types is waf_rule,', 'detection_types is waf_rule,', 'detection_types is waf_rule,', 'detection_types is waf_rule,', 'detection_types is waf_rule,', 'detection_types is waf_rule,', 'detection_types is waf_rule,', 'detection_types is waf_rule,', 'detection_types is waf_rule,', 'detection_types is waf_rule,', 'detection_types is waf_rule,', 'detection_types is waf_rule,', 'detection_types is waf_rule,', 'detection_types is waf_rule,', 'detection_types is waf_rule,', 'detection_types is waf_rule,', 'detection_types is waf_rule,', 'detection_types is waf_rule,']\n"
     ]
    },
    {
     "name": "stderr",
     "output_type": "stream",
     "text": [
      " 75%|███████▍  | 211/282 [09:27<01:33,  1.31s/it]"
     ]
    },
    {
     "name": "stdout",
     "output_type": "stream",
     "text": [
      "['detection_types is waf_rule,', 'detection_types is waf_rule,', 'detection_types is waf_rule,', 'detection_types is waf_rule,', 'detection_types is waf_rule,', 'detection_types is waf_rule,', 'detection_types is waf_rule,', 'detection_types is waf_rule,', 'detection_types is waf_rule,', 'detection_types is waf_rule,', 'detection_types is waf_rule,', 'detection_types is waf_rule,', 'detection_types is waf_rule,', 'detection_types is waf_rule,', 'detection_types is waf_rule,', 'detection_types is waf_rule,', 'detection_types is waf_rule,', 'detection_types is waf_rule,', 'detection_types is waf_rule,', 'detection_types is waf_rule,', 'detection_types is waf_rule,', 'detection_types is waf_rule,', 'detection_types is waf_rule,', 'detection_types is waf_rule,', 'detection_types is waf_rule,', 'detection_types is waf_rule,', 'detection_types is waf_rule,', 'detection_types is waf_rule,', 'detection_types is waf_rule,', 'detection_types is waf_rule,', 'detection_types is waf_rule,', 'detection_types is waf_rule,', 'detection_types is waf_rule,', 'detection_types is waf_rule,', 'detection_types is waf_rule,', 'detection_types is waf_rule,', 'detection_types is waf_rule,', 'detection_types is waf_rule,', 'detection_types is waf_rule,', 'detection_types is waf_rule,', 'detection_types is waf_rule,', 'detection_types is waf_rule,', 'detection_types is waf_rule,', 'detection_types is waf_rule,', 'detection_types is waf_rule,', 'detection_types is waf_rule,', 'detection_types is waf_rule,', 'detection_types is waf_rule,', 'detection_types is waf_rule,', 'detection_types is waf_rule,']\n"
     ]
    },
    {
     "name": "stderr",
     "output_type": "stream",
     "text": [
      " 76%|███████▌  | 213/282 [09:28<01:17,  1.13s/it]"
     ]
    },
    {
     "name": "stdout",
     "output_type": "stream",
     "text": [
      "['detection_types is waf_rule,', 'detection_types is waf_rule,', 'detection_types is waf_rule,', 'detection_types is waf_rule,', 'detection_types is waf_rule,', 'detection_types is waf_rule,', 'detection_types is waf_rule,', 'detection_types is waf_rule,', 'detection_types is waf_rule,', 'detection_types is waf_rule,', 'detection_types is waf_rule,', 'detection_types is waf_rule,', 'detection_types is waf_rule,', 'detection_types is waf_rule,', 'detection_types is waf_rule,', 'detection_types is waf_rule,', 'detection_types is waf_rule,', 'detection_types is waf_rule,', 'detection_types is waf_rule,', 'detection_types is waf_rule,', 'detection_types is waf_rule,', 'detection_types is waf_rule,', 'detection_types is waf_rule,', 'detection_types is waf_rule,', 'detection_types is waf_rule,', 'detection_types is waf_rule,', 'detection_types is waf_rule,', 'detection_types is waf_rule,', 'detection_types is waf_rule,', 'detection_types is waf_rule,', 'detection_types is waf_rule,', 'detection_types is waf_rule,', 'detection_types is waf_rule,', 'detection_types is waf_rule,', 'detection_types is waf_rule,', 'detection_types is waf_rule,', 'detection_types is waf_rule,', 'detection_types is waf_rule,', 'detection_types is waf_rule,', 'detection_types is waf_rule,', 'detection_types is waf_rule,', 'detection_types is waf_rule,', 'detection_types is waf_rule,', 'detection_types is waf_rule,', 'detection_types is waf_rule,', 'detection_types is waf_rule,', 'detection_types is waf_rule,', 'detection_types is waf_rule,', 'detection_types is waf_rule,', 'detection_types is waf_rule,']\n",
      "['detection_types is waf_rule,', 'detection_types is waf_rule,', 'detection_types is waf_rule,', 'detection_types is waf_rule,', 'detection_types is waf_rule,', 'detection_types is waf_rule,', 'detection_types is waf_rule,', 'detection_types is waf_rule,', 'detection_types is waf_rule,', 'detection_types is waf_rule,', 'detection_types is waf_rule,', 'detection_types is waf_rule,', 'detection_types is waf_rule,', 'detection_types is waf_rule,', 'detection_types is waf_rule,', 'detection_types is waf_rule,', 'detection_types is waf_rule,', 'detection_types is waf_rule,', 'detection_types is waf_rule,', 'detection_types is waf_rule,', 'detection_types is waf_rule,', 'detection_types is waf_rule,', 'detection_types is waf_rule,', 'detection_types is waf_rule,', 'detection_types is waf_rule,', 'detection_types is waf_rule,', 'detection_types is waf_rule,', 'detection_types is waf_rule,', 'detection_types is waf_rule,', 'detection_types is waf_rule,', 'detection_types is waf_rule,', 'detection_types is waf_rule,', 'detection_types is waf_rule,', 'detection_types is waf_rule,', 'detection_types is waf_rule,', 'detection_types is waf_rule,', 'detection_types is waf_rule,', 'detection_types is waf_rule,', 'detection_types is waf_rule,', 'detection_types is waf_rule,', 'detection_types is waf_rule,', 'detection_types is waf_rule,', 'detection_types is waf_rule,', 'detection_types is waf_rule,', 'detection_types is waf_rule,', 'detection_types is waf_rule,', 'detection_types is waf_rule,', 'detection_types is waf_rule,', 'detection_types is waf_rule,', 'detection_types is waf_rule,']\n"
     ]
    },
    {
     "name": "stderr",
     "output_type": "stream",
     "text": [
      " 76%|███████▌  | 214/282 [09:31<01:43,  1.52s/it]"
     ]
    },
    {
     "name": "stdout",
     "output_type": "stream",
     "text": [
      "['detection_types is waf_rule,', 'detection_types is waf_rule,', 'detection_types is waf_rule,', 'detection_types is waf_rule,', 'detection_types is waf_rule,', 'detection_types is waf_rule,', 'detection_types is waf_rule,', 'detection_types is waf_rule,', 'detection_types is waf_rule,', 'detection_types is waf_rule,', 'detection_types is waf_rule,', 'detection_types is waf_rule,', 'detection_types is waf_rule,', 'detection_types is waf_rule,', 'detection_types is waf_rule,', 'detection_types is waf_rule,', 'detection_types is waf_rule,', 'detection_types is waf_rule,', 'detection_types is waf_rule,', 'detection_types is waf_rule,', 'detection_types is waf_rule,', 'detection_types is waf_rule,', 'detection_types is waf_rule,', 'detection_types is waf_rule,', 'detection_types is waf_rule,', 'detection_types is waf_rule,', 'detection_types is waf_rule,', 'detection_types is waf_rule,', 'detection_types is waf_rule,', 'detection_types is waf_rule,', 'detection_types is waf_rule,', 'detection_types is waf_rule,', 'detection_types is waf_rule,', 'detection_types is waf_rule,', 'detection_types is waf_rule,', 'detection_types is waf_rule,', 'detection_types is waf_rule,', 'detection_types is waf_rule,', 'detection_types is waf_rule,', 'detection_types is waf_rule,', 'detection_types is waf_rule,', 'detection_types is waf_rule,', 'detection_types is waf_rule,', 'detection_types is waf_rule,', 'detection_types is waf_rule,', 'detection_types is waf_rule,', 'detection_types is waf_rule,', 'detection_types is waf_rule,', 'detection_types is waf_rule,', 'detection_types is waf_rule,']\n",
      "['detection_types is waf_rule,', 'detection_types is waf_rule,', 'detection_types is waf_rule,', 'detection_types is waf_rule,', 'detection_types is waf_rule,', 'detection_types is waf_rule,', 'detection_types is waf_rule,', 'detection_types is waf_rule,', 'detection_types is waf_rule,', 'detection_types is waf_rule,', 'detection_types is waf_rule,', 'detection_types is waf_rule,', 'detection_types is waf_rule,', 'detection_types is waf_rule,', 'detection_types is waf_rule,', 'detection_types is waf_rule,', 'detection_types is waf_rule,', 'detection_types is waf_rule,', 'detection_types is waf_rule,', 'detection_types is waf_rule,', 'detection_types is waf_rule,', 'detection_types is waf_rule,', 'detection_types is waf_rule,', 'detection_types is waf_rule,', 'detection_types is waf_rule,', 'detection_types is waf_rule,', 'detection_types is waf_rule,', 'detection_types is waf_rule,', 'detection_types is waf_rule,', 'detection_types is waf_rule,', 'detection_types is waf_rule,', 'detection_types is waf_rule,', 'detection_types is waf_rule,', 'detection_types is waf_rule,', 'detection_types is waf_rule,', 'detection_types is waf_rule,', 'detection_types is waf_rule,', 'detection_types is waf_rule,', 'detection_types is waf_rule,', 'detection_types is waf_rule,', 'detection_types is waf_rule,', 'detection_types is waf_rule,', 'detection_types is waf_rule,', 'detection_types is waf_rule,', 'detection_types is waf_rule,', 'detection_types is waf_rule,', 'detection_types is waf_rule,', 'detection_types is waf_rule,', 'detection_types is waf_rule,', 'detection_types is waf_rule,']\n"
     ]
    },
    {
     "name": "stderr",
     "output_type": "stream",
     "text": [
      " 77%|███████▋  | 217/282 [09:34<01:23,  1.29s/it]"
     ]
    },
    {
     "name": "stdout",
     "output_type": "stream",
     "text": [
      "['detection_types is waf_rule,', 'detection_types is waf_rule,', 'detection_types is waf_rule,', 'detection_types is waf_rule,', 'detection_types is waf_rule,', 'detection_types is waf_rule,', 'detection_types is waf_rule,', 'detection_types is waf_rule,', 'detection_types is waf_rule,', 'detection_types is waf_rule,', 'detection_types is waf_rule,', 'detection_types is waf_rule,', 'detection_types is waf_rule,', 'detection_types is waf_rule,', 'detection_types is waf_rule,', 'detection_types is waf_rule,', 'detection_types is waf_rule,', 'detection_types is waf_rule,', 'detection_types is waf_rule,', 'detection_types is waf_rule,', 'detection_types is waf_rule,', 'detection_types is waf_rule,', 'detection_types is waf_rule,', 'detection_types is waf_rule,', 'detection_types is waf_rule,', 'detection_types is waf_rule,', 'detection_types is waf_rule,', 'detection_types is waf_rule,', 'detection_types is waf_rule,', 'detection_types is waf_rule,', 'detection_types is waf_rule,', 'detection_types is waf_rule,', 'detection_types is waf_rule,', 'detection_types is waf_rule,', 'detection_types is waf_rule,', 'detection_types is waf_rule,', 'detection_types is waf_rule,', 'detection_types is waf_rule,', 'detection_types is waf_rule,', 'detection_types is waf_rule,', 'detection_types is waf_rule,', 'detection_types is waf_rule,', 'detection_types is waf_rule,', 'detection_types is waf_rule,', 'detection_types is waf_rule,', 'detection_types is waf_rule,', 'detection_types is waf_rule,', 'detection_types is waf_rule,', 'detection_types is waf_rule,', 'detection_types is waf_rule,']\n",
      "['detection_types is waf_rule,', 'detection_types is waf_rule,', 'detection_types is waf_rule,', 'detection_types is waf_rule,', 'detection_types is waf_rule,', 'detection_types is waf_rule,', 'detection_types is waf_rule,', 'detection_types is waf_rule,', 'detection_types is waf_rule,', 'detection_types is waf_rule,', 'detection_types is waf_rule,', 'detection_types is waf_rule,', 'detection_types is waf_rule,', 'detection_types is waf_rule,', 'detection_types is waf_rule,', 'detection_types is waf_rule,', 'detection_types is waf_rule,', 'detection_types is waf_rule,', 'detection_types is waf_rule,', 'detection_types is waf_rule,', 'detection_types is waf_rule,', 'detection_types is waf_rule,', 'detection_types is waf_rule,', 'detection_types is waf_rule,', 'detection_types is waf_rule,', 'detection_types is waf_rule,', 'detection_types is waf_rule,', 'detection_types is waf_rule,', 'detection_types is waf_rule,', 'detection_types is waf_rule,', 'detection_types is waf_rule,', 'detection_types is waf_rule,', 'detection_types is waf_rule,', 'detection_types is waf_rule,', 'detection_types is waf_rule,', 'detection_types is waf_rule,', 'detection_types is waf_rule,', 'detection_types is waf_rule,', 'detection_types is waf_rule,', 'detection_types is waf_rule,', 'detection_types is waf_rule,', 'detection_types is waf_rule,', 'detection_types is waf_rule,', 'detection_types is waf_rule,', 'detection_types is waf_rule,', 'detection_types is waf_rule,', 'detection_types is waf_rule,', 'detection_types is waf_rule,', 'detection_types is waf_rule,', 'detection_types is waf_rule,']\n",
      "['detection_types is waf_rule,', 'detection_types is waf_rule,', 'detection_types is waf_rule,', 'detection_types is waf_rule,', 'detection_types is waf_rule,', 'detection_types is waf_rule,', 'detection_types is waf_rule,', 'detection_types is waf_rule,', 'detection_types is waf_rule,', 'detection_types is waf_rule,', 'detection_types is waf_rule,', 'detection_types is waf_rule,', 'detection_types is waf_rule,', 'detection_types is waf_rule,', 'detection_types is waf_rule,', 'detection_types is waf_rule,', 'detection_types is waf_rule,', 'detection_types is waf_rule,', 'detection_types is waf_rule,', 'detection_types is waf_rule,', 'detection_types is waf_rule,', 'detection_types is waf_rule,', 'detection_types is waf_rule,', 'detection_types is waf_rule,', 'detection_types is waf_rule,', 'detection_types is waf_rule,', 'detection_types is waf_rule,', 'detection_types is waf_rule,', 'detection_types is waf_rule,', 'detection_types is waf_rule,', 'detection_types is waf_rule,', 'detection_types is waf_rule,', 'detection_types is waf_rule,', 'detection_types is waf_rule,', 'detection_types is waf_rule,', 'detection_types is waf_rule,', 'detection_types is waf_rule,', 'detection_types is waf_rule,', 'detection_types is waf_rule,', 'detection_types is waf_rule,', 'detection_types is waf_rule,', 'detection_types is waf_rule,', 'detection_types is waf_rule,', 'detection_types is waf_rule,', 'detection_types is waf_rule,', 'detection_types is waf_rule,', 'detection_types is waf_rule,', 'detection_types is waf_rule,', 'detection_types is waf_rule,', 'detection_types is waf_rule,']\n"
     ]
    },
    {
     "name": "stderr",
     "output_type": "stream",
     "text": [
      " 78%|███████▊  | 219/282 [09:39<01:41,  1.61s/it]"
     ]
    },
    {
     "name": "stdout",
     "output_type": "stream",
     "text": [
      "['detection_types is waf_rule,', 'detection_types is waf_rule,', 'detection_types is waf_rule,', 'detection_types is waf_rule,', 'detection_types is waf_rule,', 'detection_types is waf_rule,', 'detection_types is waf_rule,', 'detection_types is waf_rule,', 'detection_types is waf_rule,', 'detection_types is waf_rule,', 'detection_types is waf_rule,', 'detection_types is waf_rule,', 'detection_types is waf_rule,', 'detection_types is waf_rule,', 'detection_types is waf_rule,', 'detection_types is waf_rule,', 'detection_types is waf_rule,', 'detection_types is waf_rule,', 'detection_types is waf_rule,', 'detection_types is waf_rule,', 'detection_types is waf_rule,', 'detection_types is waf_rule,', 'detection_types is waf_rule,', 'detection_types is waf_rule,', 'detection_types is waf_rule,', 'detection_types is waf_rule,', 'detection_types is waf_rule,', 'detection_types is waf_rule,', 'detection_types is waf_rule,', 'detection_types is waf_rule,', 'detection_types is waf_rule,', 'detection_types is waf_rule,', 'detection_types is waf_rule,', 'detection_types is waf_rule,', 'detection_types is waf_rule,', 'detection_types is waf_rule,', 'detection_types is waf_rule,', 'detection_types is waf_rule,', 'detection_types is waf_rule,', 'detection_types is waf_rule,', 'detection_types is waf_rule,', 'detection_types is waf_rule,', 'detection_types is waf_rule,', 'detection_types is waf_rule,', 'detection_types is waf_rule,', 'detection_types is waf_rule,', 'detection_types is waf_rule,', 'detection_types is waf_rule,', 'detection_types is waf_rule,', 'detection_types is waf_rule,']\n"
     ]
    },
    {
     "name": "stderr",
     "output_type": "stream",
     "text": [
      " 78%|███████▊  | 220/282 [09:41<01:39,  1.60s/it]"
     ]
    },
    {
     "name": "stdout",
     "output_type": "stream",
     "text": [
      "['detection_types is waf_rule,', 'detection_types is waf_rule,', 'detection_types is waf_rule,', 'detection_types is waf_rule,', 'detection_types is waf_rule,', 'detection_types is waf_rule,', 'detection_types is waf_rule,', 'detection_types is waf_rule,', 'detection_types is waf_rule,', 'detection_types is waf_rule,', 'detection_types is waf_rule,', 'detection_types is waf_rule,', 'detection_types is waf_rule,', 'detection_types is waf_rule,', 'detection_types is waf_rule,', 'detection_types is waf_rule,', 'detection_types is waf_rule,', 'detection_types is waf_rule,', 'detection_types is waf_rule,', 'detection_types is waf_rule,', 'detection_types is waf_rule,', 'detection_types is waf_rule,', 'detection_types is waf_rule,', 'detection_types is waf_rule,', 'detection_types is waf_rule,', 'detection_types is waf_rule,', 'detection_types is waf_rule,', 'detection_types is waf_rule,', 'detection_types is waf_rule,', 'detection_types is waf_rule,', 'detection_types is waf_rule,', 'detection_types is waf_rule,', 'detection_types is waf_rule,', 'detection_types is waf_rule,', 'detection_types is waf_rule,', 'detection_types is waf_rule,', 'detection_types is waf_rule,', 'detection_types is waf_rule,', 'detection_types is waf_rule,', 'detection_types is waf_rule,', 'detection_types is waf_rule,', 'detection_types is waf_rule,', 'detection_types is waf_rule,', 'detection_types is waf_rule,', 'detection_types is waf_rule,', 'detection_types is waf_rule,', 'detection_types is waf_rule,', 'detection_types is waf_rule,', 'detection_types is waf_rule,', 'detection_types is waf_rule,']\n"
     ]
    },
    {
     "name": "stderr",
     "output_type": "stream",
     "text": [
      " 78%|███████▊  | 221/282 [09:42<01:37,  1.59s/it]"
     ]
    },
    {
     "name": "stdout",
     "output_type": "stream",
     "text": [
      "['detection_types is waf_rule,', 'detection_types is waf_rule,', 'detection_types is waf_rule,', 'detection_types is waf_rule,', 'detection_types is waf_rule,', 'detection_types is waf_rule,', 'detection_types is waf_rule,', 'detection_types is waf_rule,', 'detection_types is waf_rule,', 'detection_types is waf_rule,', 'detection_types is waf_rule,', 'detection_types is waf_rule,', 'detection_types is waf_rule,', 'detection_types is waf_rule,', 'detection_types is waf_rule,', 'detection_types is waf_rule,', 'detection_types is waf_rule,', 'detection_types is waf_rule,', 'detection_types is waf_rule,', 'detection_types is waf_rule,', 'detection_types is waf_rule,', 'detection_types is waf_rule,', 'detection_types is waf_rule,', 'detection_types is waf_rule,', 'detection_types is waf_rule,', 'detection_types is waf_rule,', 'detection_types is waf_rule,', 'detection_types is waf_rule,', 'detection_types is waf_rule,', 'detection_types is waf_rule,', 'detection_types is waf_rule,', 'detection_types is waf_rule,', 'detection_types is waf_rule,', 'detection_types is waf_rule,', 'detection_types is waf_rule,', 'detection_types is waf_rule,', 'detection_types is waf_rule,', 'detection_types is waf_rule,', 'detection_types is waf_rule,', 'detection_types is waf_rule,', 'detection_types is waf_rule,', 'detection_types is waf_rule,', 'detection_types is waf_rule,', 'detection_types is waf_rule,', 'detection_types is waf_rule,', 'detection_types is waf_rule,', 'detection_types is waf_rule,', 'detection_types is waf_rule,', 'detection_types is waf_rule,', 'detection_types is waf_rule,']\n",
      "['detection_types is waf_rule,', 'detection_types is waf_rule,', 'detection_types is waf_rule,', 'detection_types is waf_rule,', 'detection_types is waf_rule,', 'detection_types is waf_rule,', 'detection_types is waf_rule,', 'detection_types is waf_rule,', 'detection_types is waf_rule,', 'detection_types is waf_rule,', 'detection_types is waf_rule,', 'detection_types is waf_rule,', 'detection_types is waf_rule,', 'detection_types is waf_rule,', 'detection_types is waf_rule,', 'detection_types is waf_rule,', 'detection_types is waf_rule,', 'detection_types is waf_rule,', 'detection_types is waf_rule,', 'detection_types is waf_rule,', 'detection_types is waf_rule,', 'detection_types is waf_rule,', 'detection_types is waf_rule,', 'detection_types is waf_rule,', 'detection_types is waf_rule,', 'detection_types is waf_rule,', 'detection_types is waf_rule,', 'detection_types is waf_rule,', 'detection_types is waf_rule,', 'detection_types is waf_rule,', 'detection_types is waf_rule,', 'detection_types is waf_rule,', 'detection_types is waf_rule,', 'detection_types is waf_rule,', 'detection_types is waf_rule,', 'detection_types is waf_rule,', 'detection_types is waf_rule,', 'detection_types is waf_rule,', 'detection_types is waf_rule,', 'detection_types is waf_rule,', 'detection_types is waf_rule,', 'detection_types is waf_rule,', 'detection_types is waf_rule,', 'detection_types is waf_rule,', 'detection_types is waf_rule,', 'detection_types is waf_rule,', 'detection_types is waf_rule,', 'detection_types is waf_rule,', 'detection_types is waf_rule,', 'detection_types is waf_rule,']\n"
     ]
    },
    {
     "name": "stderr",
     "output_type": "stream",
     "text": [
      " 80%|███████▉  | 225/282 [09:45<01:05,  1.15s/it]"
     ]
    },
    {
     "name": "stdout",
     "output_type": "stream",
     "text": [
      "['detection_types is waf_rule,', 'detection_types is waf_rule,', 'detection_types is waf_rule,', 'detection_types is waf_rule,', 'detection_types is waf_rule,', 'detection_types is waf_rule,', 'detection_types is waf_rule,', 'detection_types is waf_rule,', 'detection_types is waf_rule,', 'detection_types is waf_rule,', 'detection_types is waf_rule,', 'detection_types is waf_rule,', 'detection_types is waf_rule,', 'detection_types is waf_rule,', 'detection_types is waf_rule,', 'detection_types is waf_rule,', 'detection_types is waf_rule,', 'detection_types is waf_rule,', 'detection_types is waf_rule,', 'detection_types is waf_rule,', 'detection_types is waf_rule,', 'detection_types is waf_rule,', 'detection_types is waf_rule,', 'detection_types is waf_rule,', 'detection_types is waf_rule,', 'detection_types is waf_rule,', 'detection_types is waf_rule,', 'detection_types is waf_rule,', 'detection_types is waf_rule,', 'detection_types is waf_rule,', 'detection_types is waf_rule,', 'detection_types is waf_rule,', 'detection_types is waf_rule,', 'detection_types is waf_rule,', 'detection_types is waf_rule,', 'detection_types is waf_rule,', 'detection_types is waf_rule,', 'detection_types is waf_rule,', 'detection_types is waf_rule,', 'detection_types is waf_rule,', 'detection_types is waf_rule,', 'detection_types is waf_rule,', 'detection_types is waf_rule,', 'detection_types is waf_rule,', 'detection_types is waf_rule,', 'detection_types is waf_rule,', 'detection_types is waf_rule,', 'detection_types is waf_rule,', 'detection_types is waf_rule,', 'detection_types is waf_rule,']\n"
     ]
    },
    {
     "name": "stderr",
     "output_type": "stream",
     "text": [
      " 80%|████████  | 226/282 [09:47<01:08,  1.22s/it]"
     ]
    },
    {
     "name": "stdout",
     "output_type": "stream",
     "text": [
      "['detection_types is waf_rule,', 'detection_types is waf_rule,', 'detection_types is waf_rule,', 'detection_types is waf_rule,', 'detection_types is waf_rule,', 'detection_types is waf_rule,', 'detection_types is waf_rule,', 'detection_types is waf_rule,', 'detection_types is waf_rule,', 'detection_types is waf_rule,', 'detection_types is waf_rule,', 'detection_types is waf_rule,', 'detection_types is waf_rule,', 'detection_types is waf_rule,', 'detection_types is waf_rule,', 'detection_types is waf_rule,', 'detection_types is waf_rule,', 'detection_types is waf_rule,', 'detection_types is waf_rule,', 'detection_types is waf_rule,', 'detection_types is waf_rule,', 'detection_types is waf_rule,', 'detection_types is waf_rule,', 'detection_types is waf_rule,', 'detection_types is waf_rule,', 'detection_types is waf_rule,', 'detection_types is waf_rule,', 'detection_types is waf_rule,', 'detection_types is waf_rule,', 'detection_types is waf_rule,', 'detection_types is waf_rule,', 'detection_types is waf_rule,', 'detection_types is waf_rule,', 'detection_types is waf_rule,', 'detection_types is waf_rule,', 'detection_types is waf_rule,', 'detection_types is waf_rule,', 'detection_types is waf_rule,', 'detection_types is waf_rule,', 'detection_types is waf_rule,', 'detection_types is waf_rule,', 'detection_types is waf_rule,', 'detection_types is waf_rule,', 'detection_types is waf_rule,', 'detection_types is waf_rule,', 'detection_types is waf_rule,', 'detection_types is waf_rule,', 'detection_types is waf_rule,', 'detection_types is waf_rule,', 'detection_types is waf_rule,']\n"
     ]
    },
    {
     "name": "stderr",
     "output_type": "stream",
     "text": [
      " 80%|████████  | 227/282 [09:48<01:10,  1.28s/it]"
     ]
    },
    {
     "name": "stdout",
     "output_type": "stream",
     "text": [
      "['detection_types is waf_rule,', 'detection_types is waf_rule,', 'detection_types is waf_rule,', 'detection_types is waf_rule,', 'detection_types is waf_rule,', 'detection_types is waf_rule,', 'detection_types is waf_rule,', 'detection_types is waf_rule,', 'detection_types is waf_rule,', 'detection_types is waf_rule,', 'detection_types is waf_rule,', 'detection_types is waf_rule,', 'detection_types is waf_rule,', 'detection_types is waf_rule,', 'detection_types is waf_rule,', 'detection_types is waf_rule,', 'detection_types is waf_rule,', 'detection_types is waf_rule,', 'detection_types is waf_rule,', 'detection_types is waf_rule,', 'detection_types is waf_rule,', 'detection_types is waf_rule,', 'detection_types is waf_rule,', 'detection_types is waf_rule,', 'detection_types is waf_rule,', 'detection_types is waf_rule,', 'detection_types is waf_rule,', 'detection_types is waf_rule,', 'detection_types is waf_rule,', 'detection_types is waf_rule,', 'detection_types is waf_rule,', 'detection_types is waf_rule,', 'detection_types is waf_rule,', 'detection_types is waf_rule,', 'detection_types is waf_rule,', 'detection_types is waf_rule,', 'detection_types is waf_rule,', 'detection_types is waf_rule,', 'detection_types is waf_rule,', 'detection_types is waf_rule,', 'detection_types is waf_rule,', 'detection_types is waf_rule,', 'detection_types is waf_rule,', 'detection_types is waf_rule,', 'detection_types is waf_rule,', 'detection_types is waf_rule,', 'detection_types is waf_rule,', 'detection_types is waf_rule,', 'detection_types is waf_rule,', 'detection_types is waf_rule,']\n"
     ]
    },
    {
     "name": "stderr",
     "output_type": "stream",
     "text": [
      " 81%|████████  | 229/282 [09:50<00:58,  1.10s/it]"
     ]
    },
    {
     "name": "stdout",
     "output_type": "stream",
     "text": [
      "['detection_types is waf_rule,', 'detection_types is waf_rule,', 'detection_types is waf_rule,', 'detection_types is waf_rule,', 'detection_types is waf_rule,', 'detection_types is waf_rule,', 'detection_types is waf_rule,', 'detection_types is waf_rule,', 'detection_types is waf_rule,', 'detection_types is waf_rule,', 'detection_types is waf_rule,', 'detection_types is waf_rule,', 'detection_types is waf_rule,', 'detection_types is waf_rule,', 'detection_types is waf_rule,', 'detection_types is waf_rule,', 'detection_types is waf_rule,', 'detection_types is waf_rule,', 'detection_types is waf_rule,', 'detection_types is waf_rule,', 'detection_types is waf_rule,', 'detection_types is waf_rule,', 'detection_types is waf_rule,', 'detection_types is waf_rule,', 'detection_types is waf_rule,', 'detection_types is waf_rule,', 'detection_types is waf_rule,', 'detection_types is waf_rule,', 'detection_types is waf_rule,', 'detection_types is waf_rule,', 'detection_types is waf_rule,', 'detection_types is waf_rule,', 'detection_types is waf_rule,', 'detection_types is waf_rule,', 'detection_types is waf_rule,', 'detection_types is waf_rule,', 'detection_types is waf_rule,', 'detection_types is waf_rule,', 'detection_types is waf_rule,', 'detection_types is waf_rule,', 'detection_types is waf_rule,', 'detection_types is waf_rule,', 'detection_types is waf_rule,', 'detection_types is waf_rule,', 'detection_types is waf_rule,', 'detection_types is waf_rule,', 'detection_types is waf_rule,', 'detection_types is waf_rule,', 'detection_types is waf_rule,', 'detection_types is waf_rule,']\n"
     ]
    },
    {
     "name": "stderr",
     "output_type": "stream",
     "text": [
      " 82%|████████▏ | 230/282 [09:51<01:02,  1.19s/it]"
     ]
    },
    {
     "name": "stdout",
     "output_type": "stream",
     "text": [
      "['detection_types is waf_rule,', 'detection_types is waf_rule,', 'detection_types is waf_rule,', 'detection_types is waf_rule,', 'detection_types is waf_rule,', 'detection_types is waf_rule,', 'detection_types is waf_rule,', 'detection_types is waf_rule,', 'detection_types is waf_rule,', 'detection_types is waf_rule,', 'detection_types is waf_rule,', 'detection_types is waf_rule,', 'detection_types is waf_rule,', 'detection_types is waf_rule,', 'detection_types is waf_rule,', 'detection_types is waf_rule,', 'detection_types is waf_rule,', 'detection_types is waf_rule,', 'detection_types is waf_rule,', 'detection_types is waf_rule,', 'detection_types is waf_rule,', 'detection_types is waf_rule,', 'detection_types is waf_rule,', 'detection_types is waf_rule,', 'detection_types is waf_rule,', 'detection_types is waf_rule,', 'detection_types is waf_rule,', 'detection_types is waf_rule,', 'detection_types is waf_rule,', 'detection_types is waf_rule,', 'detection_types is waf_rule,', 'detection_types is waf_rule,', 'detection_types is waf_rule,', 'detection_types is waf_rule,', 'detection_types is waf_rule,', 'detection_types is waf_rule,', 'detection_types is waf_rule,', 'detection_types is waf_rule,', 'detection_types is waf_rule,', 'detection_types is waf_rule,', 'detection_types is waf_rule,', 'detection_types is waf_rule,', 'detection_types is waf_rule,', 'detection_types is waf_rule,', 'detection_types is waf_rule,', 'detection_types is waf_rule,', 'detection_types is waf_rule,', 'detection_types is waf_rule,', 'detection_types is waf_rule,', 'detection_types is waf_rule,']\n"
     ]
    },
    {
     "name": "stderr",
     "output_type": "stream",
     "text": [
      " 82%|████████▏ | 232/282 [09:53<00:51,  1.04s/it]"
     ]
    },
    {
     "name": "stdout",
     "output_type": "stream",
     "text": [
      "['detection_types is waf_rule,', 'detection_types is waf_rule,', 'detection_types is waf_rule,', 'detection_types is waf_rule,', 'detection_types is waf_rule,', 'detection_types is waf_rule,', 'detection_types is waf_rule,', 'detection_types is waf_rule,', 'detection_types is waf_rule,', 'detection_types is waf_rule,', 'detection_types is waf_rule,', 'detection_types is waf_rule,', 'detection_types is waf_rule,', 'detection_types is waf_rule,', 'detection_types is waf_rule,', 'detection_types is waf_rule,', 'detection_types is waf_rule,', 'detection_types is waf_rule,', 'detection_types is waf_rule,', 'detection_types is waf_rule,', 'detection_types is waf_rule,', 'detection_types is waf_rule,', 'detection_types is waf_rule,', 'detection_types is waf_rule,', 'detection_types is waf_rule,', 'detection_types is waf_rule,', 'detection_types is waf_rule,', 'detection_types is waf_rule,', 'detection_types is waf_rule,', 'detection_types is waf_rule,', 'detection_types is waf_rule,', 'detection_types is waf_rule,', 'detection_types is waf_rule,', 'detection_types is waf_rule,', 'detection_types is waf_rule,', 'detection_types is waf_rule,', 'detection_types is waf_rule,', 'detection_types is waf_rule,', 'detection_types is waf_rule,', 'detection_types is waf_rule,', 'detection_types is waf_rule,', 'detection_types is waf_rule,', 'detection_types is waf_rule,', 'detection_types is waf_rule,', 'detection_types is waf_rule,', 'detection_types is waf_rule,', 'detection_types is waf_rule,', 'detection_types is waf_rule,', 'detection_types is waf_rule,', 'detection_types is waf_rule,']\n"
     ]
    },
    {
     "name": "stderr",
     "output_type": "stream",
     "text": [
      " 83%|████████▎ | 233/282 [09:54<00:56,  1.14s/it]"
     ]
    },
    {
     "name": "stdout",
     "output_type": "stream",
     "text": [
      "['detection_types is waf_rule,', 'detection_types is waf_rule,', 'detection_types is waf_rule,', 'detection_types is waf_rule,', 'detection_types is waf_rule,', 'detection_types is waf_rule,', 'detection_types is waf_rule,', 'detection_types is waf_rule,', 'detection_types is waf_rule,', 'detection_types is waf_rule,', 'detection_types is waf_rule,', 'detection_types is waf_rule,', 'detection_types is waf_rule,', 'detection_types is waf_rule,', 'detection_types is waf_rule,', 'detection_types is waf_rule,', 'detection_types is waf_rule,', 'detection_types is waf_rule,', 'detection_types is waf_rule,', 'detection_types is waf_rule,', 'detection_types is waf_rule,', 'detection_types is waf_rule,', 'detection_types is waf_rule,', 'detection_types is waf_rule,', 'detection_types is waf_rule,', 'detection_types is waf_rule,', 'detection_types is waf_rule,', 'detection_types is waf_rule,', 'detection_types is waf_rule,', 'detection_types is waf_rule,', 'detection_types is waf_rule,', 'detection_types is waf_rule,', 'detection_types is waf_rule,', 'detection_types is waf_rule,', 'detection_types is waf_rule,', 'detection_types is waf_rule,', 'detection_types is waf_rule,', 'detection_types is waf_rule,', 'detection_types is waf_rule,', 'detection_types is waf_rule,', 'detection_types is waf_rule,', 'detection_types is waf_rule,', 'detection_types is waf_rule,', 'detection_types is waf_rule,', 'detection_types is waf_rule,', 'detection_types is waf_rule,', 'detection_types is waf_rule,', 'detection_types is waf_rule,', 'detection_types is waf_rule,', 'detection_types is waf_rule,']\n"
     ]
    },
    {
     "name": "stderr",
     "output_type": "stream",
     "text": [
      " 83%|████████▎ | 235/282 [09:56<00:47,  1.01s/it]"
     ]
    },
    {
     "name": "stdout",
     "output_type": "stream",
     "text": [
      "['detection_types is waf_rule,', 'detection_types is waf_rule,', 'detection_types is waf_rule,', 'detection_types is waf_rule,', 'detection_types is waf_rule,', 'detection_types is waf_rule,', 'detection_types is waf_rule,', 'detection_types is waf_rule,', 'detection_types is waf_rule,', 'detection_types is waf_rule,', 'detection_types is waf_rule,', 'detection_types is waf_rule,', 'detection_types is waf_rule,', 'detection_types is waf_rule,', 'detection_types is waf_rule,', 'detection_types is waf_rule,', 'detection_types is waf_rule,', 'detection_types is waf_rule,', 'detection_types is waf_rule,', 'detection_types is waf_rule,', 'detection_types is waf_rule,', 'detection_types is waf_rule,', 'detection_types is waf_rule,', 'detection_types is waf_rule,', 'detection_types is waf_rule,', 'detection_types is waf_rule,', 'detection_types is waf_rule,', 'detection_types is waf_rule,', 'detection_types is waf_rule,', 'detection_types is waf_rule,', 'detection_types is waf_rule,', 'detection_types is waf_rule,', 'detection_types is waf_rule,', 'detection_types is waf_rule,', 'detection_types is waf_rule,', 'detection_types is waf_rule,', 'detection_types is waf_rule,', 'detection_types is waf_rule,', 'detection_types is waf_rule,', 'detection_types is waf_rule,', 'detection_types is waf_rule,', 'detection_types is waf_rule,', 'detection_types is waf_rule,', 'detection_types is waf_rule,', 'detection_types is waf_rule,', 'detection_types is waf_rule,', 'detection_types is waf_rule,', 'detection_types is waf_rule,', 'detection_types is waf_rule,', 'detection_types is waf_rule,']\n"
     ]
    },
    {
     "name": "stderr",
     "output_type": "stream",
     "text": [
      " 84%|████████▍ | 237/282 [09:58<00:41,  1.08it/s]"
     ]
    },
    {
     "name": "stdout",
     "output_type": "stream",
     "text": [
      "['detection_types is waf_rule,', 'detection_types is waf_rule,', 'detection_types is waf_rule,', 'detection_types is waf_rule,', 'detection_types is waf_rule,', 'detection_types is waf_rule,', 'detection_types is waf_rule,', 'detection_types is waf_rule,', 'detection_types is waf_rule,', 'detection_types is waf_rule,', 'detection_types is waf_rule,', 'detection_types is waf_rule,', 'detection_types is waf_rule,', 'detection_types is waf_rule,', 'detection_types is waf_rule,', 'detection_types is waf_rule,', 'detection_types is waf_rule,', 'detection_types is waf_rule,', 'detection_types is waf_rule,', 'detection_types is waf_rule,', 'detection_types is waf_rule,', 'detection_types is waf_rule,', 'detection_types is waf_rule,', 'detection_types is waf_rule,', 'detection_types is waf_rule,', 'detection_types is waf_rule,', 'detection_types is waf_rule,', 'detection_types is waf_rule,', 'detection_types is waf_rule,', 'detection_types is waf_rule,', 'detection_types is waf_rule,', 'detection_types is waf_rule,', 'detection_types is waf_rule,', 'detection_types is waf_rule,', 'detection_types is waf_rule,', 'detection_types is waf_rule,', 'detection_types is waf_rule,', 'detection_types is waf_rule,', 'detection_types is waf_rule,', 'detection_types is waf_rule,', 'detection_types is waf_rule,', 'detection_types is waf_rule,', 'detection_types is waf_rule,', 'detection_types is waf_rule,', 'detection_types is waf_rule,', 'detection_types is waf_rule,', 'detection_types is waf_rule,', 'detection_types is waf_rule,', 'detection_types is waf_rule,', 'detection_types is waf_rule,']\n",
      "['detection_types is waf_rule,', 'detection_types is waf_rule,', 'detection_types is waf_rule,', 'detection_types is waf_rule,', 'detection_types is waf_rule,', 'detection_types is waf_rule,', 'detection_types is waf_rule,', 'detection_types is waf_rule,', 'detection_types is waf_rule,', 'detection_types is waf_rule,', 'detection_types is waf_rule,', 'detection_types is waf_rule,', 'detection_types is waf_rule,', 'detection_types is waf_rule,', 'detection_types is waf_rule,', 'detection_types is waf_rule,', 'detection_types is waf_rule,', 'detection_types is waf_rule,', 'detection_types is waf_rule,', 'detection_types is waf_rule,', 'detection_types is waf_rule,', 'detection_types is waf_rule,', 'detection_types is waf_rule,', 'detection_types is waf_rule,', 'detection_types is waf_rule,', 'detection_types is waf_rule,', 'detection_types is waf_rule,', 'detection_types is waf_rule,', 'detection_types is waf_rule,', 'detection_types is waf_rule,', 'detection_types is waf_rule,', 'detection_types is waf_rule,', 'detection_types is waf_rule,', 'detection_types is waf_rule,', 'detection_types is waf_rule,', 'detection_types is waf_rule,', 'detection_types is waf_rule,', 'detection_types is waf_rule,', 'detection_types is waf_rule,', 'detection_types is waf_rule,', 'detection_types is waf_rule,', 'detection_types is waf_rule,', 'detection_types is waf_rule,', 'detection_types is waf_rule,', 'detection_types is waf_rule,', 'detection_types is waf_rule,', 'detection_types is waf_rule,', 'detection_types is waf_rule,', 'detection_types is waf_rule,', 'detection_types is waf_rule,']\n"
     ]
    },
    {
     "name": "stderr",
     "output_type": "stream",
     "text": [
      " 84%|████████▍ | 238/282 [10:01<01:00,  1.37s/it]"
     ]
    },
    {
     "name": "stdout",
     "output_type": "stream",
     "text": [
      "['detection_types is waf_rule,', 'detection_types is waf_rule,', 'detection_types is waf_rule,', 'detection_types is waf_rule,', 'detection_types is waf_rule,', 'detection_types is waf_rule,', 'detection_types is waf_rule,', 'detection_types is waf_rule,', 'detection_types is waf_rule,', 'detection_types is waf_rule,', 'detection_types is waf_rule,', 'detection_types is waf_rule,', 'detection_types is waf_rule,', 'detection_types is waf_rule,', 'detection_types is waf_rule,', 'detection_types is waf_rule,', 'detection_types is waf_rule,', 'detection_types is waf_rule,', 'detection_types is waf_rule,', 'detection_types is waf_rule,', 'detection_types is waf_rule,', 'detection_types is waf_rule,', 'detection_types is waf_rule,', 'detection_types is waf_rule,', 'detection_types is waf_rule,', 'detection_types is waf_rule,', 'detection_types is waf_rule,', 'detection_types is waf_rule,', 'detection_types is waf_rule,', 'detection_types is waf_rule,', 'detection_types is waf_rule,', 'detection_types is waf_rule,', 'detection_types is waf_rule,', 'detection_types is waf_rule,', 'detection_types is waf_rule,', 'detection_types is waf_rule,', 'detection_types is waf_rule,', 'detection_types is waf_rule,', 'detection_types is waf_rule,', 'detection_types is waf_rule,', 'detection_types is waf_rule,', 'detection_types is waf_rule,', 'detection_types is waf_rule,', 'detection_types is waf_rule,', 'detection_types is waf_rule,', 'detection_types is waf_rule,', 'detection_types is waf_rule,', 'detection_types is waf_rule,', 'detection_types is waf_rule,', 'detection_types is waf_rule,']\n"
     ]
    },
    {
     "name": "stderr",
     "output_type": "stream",
     "text": [
      " 85%|████████▍ | 239/282 [10:02<01:00,  1.42s/it]"
     ]
    },
    {
     "name": "stdout",
     "output_type": "stream",
     "text": [
      "['detection_types is waf_rule,', 'detection_types is waf_rule,', 'detection_types is waf_rule,', 'detection_types is waf_rule,', 'detection_types is waf_rule,', 'detection_types is waf_rule,', 'detection_types is waf_rule,', 'detection_types is waf_rule,', 'detection_types is waf_rule,', 'detection_types is waf_rule,', 'detection_types is waf_rule,', 'detection_types is waf_rule,', 'detection_types is waf_rule,', 'detection_types is waf_rule,', 'detection_types is waf_rule,', 'detection_types is waf_rule,', 'detection_types is waf_rule,', 'detection_types is waf_rule,', 'detection_types is waf_rule,', 'detection_types is waf_rule,', 'detection_types is waf_rule,', 'detection_types is waf_rule,', 'detection_types is waf_rule,', 'detection_types is waf_rule,', 'detection_types is waf_rule,', 'detection_types is waf_rule,', 'detection_types is waf_rule,', 'detection_types is waf_rule,', 'detection_types is waf_rule,', 'detection_types is waf_rule,', 'detection_types is waf_rule,', 'detection_types is waf_rule,', 'detection_types is waf_rule,', 'detection_types is waf_rule,', 'detection_types is waf_rule,', 'detection_types is waf_rule,', 'detection_types is waf_rule,', 'detection_types is waf_rule,', 'detection_types is waf_rule,', 'detection_types is waf_rule,', 'detection_types is waf_rule,', 'detection_types is waf_rule,', 'detection_types is waf_rule,', 'detection_types is waf_rule,', 'detection_types is waf_rule,', 'detection_types is waf_rule,', 'detection_types is waf_rule,', 'detection_types is waf_rule,', 'detection_types is waf_rule,', 'detection_types is waf_rule,']\n"
     ]
    },
    {
     "name": "stderr",
     "output_type": "stream",
     "text": [
      " 85%|████████▌ | 240/282 [10:04<01:00,  1.45s/it]"
     ]
    },
    {
     "name": "stdout",
     "output_type": "stream",
     "text": [
      "['detection_types is waf_rule,', 'detection_types is waf_rule,', 'detection_types is waf_rule,', 'detection_types is waf_rule,', 'detection_types is waf_rule,', 'detection_types is waf_rule,', 'detection_types is waf_rule,', 'detection_types is waf_rule,', 'detection_types is waf_rule,', 'detection_types is waf_rule,', 'detection_types is waf_rule,', 'detection_types is waf_rule,', 'detection_types is waf_rule,', 'detection_types is waf_rule,', 'detection_types is waf_rule,', 'detection_types is waf_rule,', 'detection_types is waf_rule,', 'detection_types is waf_rule,', 'detection_types is waf_rule,', 'detection_types is waf_rule,', 'detection_types is waf_rule,', 'detection_types is waf_rule,', 'detection_types is waf_rule,', 'detection_types is waf_rule,', 'detection_types is waf_rule,', 'detection_types is waf_rule,', 'detection_types is waf_rule,', 'detection_types is waf_rule,', 'detection_types is waf_rule,', 'detection_types is waf_rule,', 'detection_types is waf_rule,', 'detection_types is waf_rule,', 'detection_types is waf_rule,', 'detection_types is waf_rule,', 'detection_types is waf_rule,', 'detection_types is waf_rule,', 'detection_types is waf_rule,', 'detection_types is waf_rule,', 'detection_types is waf_rule,', 'detection_types is waf_rule,', 'detection_types is waf_rule,', 'detection_types is waf_rule,', 'detection_types is waf_rule,', 'detection_types is waf_rule,', 'detection_types is waf_rule,', 'detection_types is waf_rule,', 'detection_types is waf_rule,', 'detection_types is waf_rule,', 'detection_types is waf_rule,', 'detection_types is waf_rule,']\n"
     ]
    },
    {
     "name": "stderr",
     "output_type": "stream",
     "text": [
      " 85%|████████▌ | 241/282 [10:05<01:00,  1.48s/it]"
     ]
    },
    {
     "name": "stdout",
     "output_type": "stream",
     "text": [
      "['detection_types is waf_rule,', 'detection_types is waf_rule,', 'detection_types is waf_rule,', 'detection_types is waf_rule,', 'detection_types is waf_rule,', 'detection_types is waf_rule,', 'detection_types is waf_rule,', 'detection_types is waf_rule,', 'detection_types is waf_rule,', 'detection_types is waf_rule,', 'detection_types is waf_rule,', 'detection_types is waf_rule,', 'detection_types is waf_rule,', 'detection_types is waf_rule,', 'detection_types is waf_rule,', 'detection_types is waf_rule,', 'detection_types is waf_rule,', 'detection_types is waf_rule,', 'detection_types is waf_rule,', 'detection_types is waf_rule,', 'detection_types is waf_rule,', 'detection_types is waf_rule,', 'detection_types is waf_rule,', 'detection_types is waf_rule,', 'detection_types is waf_rule,', 'detection_types is waf_rule,', 'detection_types is waf_rule,', 'detection_types is waf_rule,', 'detection_types is waf_rule,', 'detection_types is waf_rule,', 'detection_types is waf_rule,', 'detection_types is waf_rule,', 'detection_types is waf_rule,', 'detection_types is waf_rule,', 'detection_types is waf_rule,', 'detection_types is waf_rule,', 'detection_types is waf_rule,', 'detection_types is waf_rule,', 'detection_types is waf_rule,', 'detection_types is waf_rule,', 'detection_types is waf_rule,', 'detection_types is waf_rule,', 'detection_types is waf_rule,', 'detection_types is waf_rule,', 'detection_types is waf_rule,', 'detection_types is waf_rule,', 'detection_types is waf_rule,', 'detection_types is waf_rule,', 'detection_types is waf_rule,', 'detection_types is waf_rule,']\n"
     ]
    },
    {
     "name": "stderr",
     "output_type": "stream",
     "text": [
      " 86%|████████▌ | 242/282 [10:07<00:59,  1.49s/it]"
     ]
    },
    {
     "name": "stdout",
     "output_type": "stream",
     "text": [
      "['detection_types is waf_rule,', 'detection_types is waf_rule,', 'detection_types is waf_rule,', 'detection_types is waf_rule,', 'detection_types is waf_rule,', 'detection_types is waf_rule,', 'detection_types is waf_rule,', 'detection_types is waf_rule,', 'detection_types is waf_rule,', 'detection_types is waf_rule,', 'detection_types is waf_rule,', 'detection_types is waf_rule,', 'detection_types is waf_rule,', 'detection_types is waf_rule,', 'detection_types is waf_rule,', 'detection_types is waf_rule,', 'detection_types is waf_rule,', 'detection_types is waf_rule,', 'detection_types is waf_rule,', 'detection_types is waf_rule,', 'detection_types is waf_rule,', 'detection_types is waf_rule,', 'detection_types is waf_rule,', 'detection_types is waf_rule,', 'detection_types is waf_rule,', 'detection_types is waf_rule,', 'detection_types is waf_rule,', 'detection_types is waf_rule,', 'detection_types is waf_rule,', 'detection_types is waf_rule,', 'detection_types is waf_rule,', 'detection_types is waf_rule,', 'detection_types is waf_rule,', 'detection_types is waf_rule,', 'detection_types is waf_rule,', 'detection_types is waf_rule,', 'detection_types is waf_rule,', 'detection_types is waf_rule,', 'detection_types is waf_rule,', 'detection_types is waf_rule,', 'detection_types is waf_rule,', 'detection_types is waf_rule,', 'detection_types is waf_rule,', 'detection_types is waf_rule,', 'detection_types is waf_rule,', 'detection_types is waf_rule,', 'detection_types is waf_rule,', 'detection_types is waf_rule,', 'detection_types is waf_rule,', 'detection_types is waf_rule,']\n"
     ]
    },
    {
     "name": "stderr",
     "output_type": "stream",
     "text": [
      " 87%|████████▋ | 244/282 [10:09<00:45,  1.19s/it]"
     ]
    },
    {
     "name": "stdout",
     "output_type": "stream",
     "text": [
      "['detection_types is waf_rule,', 'detection_types is waf_rule,', 'detection_types is waf_rule,', 'detection_types is waf_rule,', 'detection_types is waf_rule,', 'detection_types is waf_rule,', 'detection_types is waf_rule,', 'detection_types is waf_rule,', 'detection_types is waf_rule,', 'detection_types is waf_rule,', 'detection_types is waf_rule,', 'detection_types is waf_rule,', 'detection_types is waf_rule,', 'detection_types is waf_rule,', 'detection_types is waf_rule,', 'detection_types is waf_rule,', 'detection_types is waf_rule,', 'detection_types is waf_rule,', 'detection_types is waf_rule,', 'detection_types is waf_rule,', 'detection_types is waf_rule,', 'detection_types is waf_rule,', 'detection_types is waf_rule,', 'detection_types is waf_rule,', 'detection_types is waf_rule,', 'detection_types is waf_rule,', 'detection_types is waf_rule,', 'detection_types is waf_rule,', 'detection_types is waf_rule,', 'detection_types is waf_rule,', 'detection_types is waf_rule,', 'detection_types is waf_rule,', 'detection_types is waf_rule,', 'detection_types is waf_rule,', 'detection_types is waf_rule,', 'detection_types is waf_rule,', 'detection_types is waf_rule,', 'detection_types is waf_rule,', 'detection_types is waf_rule,', 'detection_types is waf_rule,', 'detection_types is waf_rule,', 'detection_types is waf_rule,', 'detection_types is waf_rule,', 'detection_types is waf_rule,', 'detection_types is waf_rule,', 'detection_types is waf_rule,', 'detection_types is waf_rule,', 'detection_types is waf_rule,', 'detection_types is waf_rule,', 'detection_types is waf_rule,']\n"
     ]
    },
    {
     "name": "stderr",
     "output_type": "stream",
     "text": [
      " 87%|████████▋ | 246/282 [10:10<00:37,  1.03s/it]"
     ]
    },
    {
     "name": "stdout",
     "output_type": "stream",
     "text": [
      "['detection_types is waf_rule,', 'detection_types is waf_rule,', 'detection_types is waf_rule,', 'detection_types is waf_rule,', 'detection_types is waf_rule,', 'detection_types is waf_rule,', 'detection_types is waf_rule,', 'detection_types is waf_rule,', 'detection_types is waf_rule,', 'detection_types is waf_rule,', 'detection_types is waf_rule,', 'detection_types is waf_rule,', 'detection_types is waf_rule,', 'detection_types is waf_rule,', 'detection_types is waf_rule,', 'detection_types is waf_rule,', 'detection_types is waf_rule,', 'detection_types is waf_rule,', 'detection_types is waf_rule,', 'detection_types is waf_rule,', 'detection_types is waf_rule,', 'detection_types is waf_rule,', 'detection_types is waf_rule,', 'detection_types is waf_rule,', 'detection_types is waf_rule,', 'detection_types is waf_rule,', 'detection_types is waf_rule,', 'detection_types is waf_rule,', 'detection_types is waf_rule,', 'detection_types is waf_rule,', 'detection_types is waf_rule,', 'detection_types is waf_rule,', 'detection_types is waf_rule,', 'detection_types is waf_rule,', 'detection_types is waf_rule,', 'detection_types is waf_rule,', 'detection_types is waf_rule,', 'detection_types is waf_rule,', 'detection_types is waf_rule,', 'detection_types is waf_rule,', 'detection_types is waf_rule,', 'detection_types is waf_rule,', 'detection_types is waf_rule,', 'detection_types is waf_rule,', 'detection_types is waf_rule,', 'detection_types is waf_rule,', 'detection_types is waf_rule,', 'detection_types is waf_rule,', 'detection_types is waf_rule,', 'detection_types is waf_rule,']\n"
     ]
    },
    {
     "name": "stderr",
     "output_type": "stream",
     "text": [
      " 88%|████████▊ | 249/282 [10:12<00:26,  1.23it/s]"
     ]
    },
    {
     "name": "stdout",
     "output_type": "stream",
     "text": [
      "['detection_types is waf_rule,', 'detection_types is waf_rule,', 'detection_types is waf_rule,', 'detection_types is waf_rule,', 'detection_types is waf_rule,', 'detection_types is waf_rule,', 'detection_types is waf_rule,', 'detection_types is waf_rule,', 'detection_types is waf_rule,', 'detection_types is waf_rule,', 'detection_types is waf_rule,', 'detection_types is waf_rule,', 'detection_types is waf_rule,', 'detection_types is waf_rule,', 'detection_types is waf_rule,', 'detection_types is waf_rule,', 'detection_types is waf_rule,', 'detection_types is waf_rule,', 'detection_types is waf_rule,', 'detection_types is waf_rule,', 'detection_types is waf_rule,', 'detection_types is waf_rule,', 'detection_types is waf_rule,', 'detection_types is waf_rule,', 'detection_types is waf_rule,', 'detection_types is waf_rule,', 'detection_types is waf_rule,', 'detection_types is waf_rule,', 'detection_types is waf_rule,', 'detection_types is waf_rule,', 'detection_types is waf_rule,', 'detection_types is waf_rule,', 'detection_types is waf_rule,', 'detection_types is waf_rule,', 'detection_types is waf_rule,', 'detection_types is waf_rule,', 'detection_types is waf_rule,', 'detection_types is waf_rule,', 'detection_types is waf_rule,', 'detection_types is waf_rule,', 'detection_types is waf_rule,', 'detection_types is waf_rule,', 'detection_types is waf_rule,', 'detection_types is waf_rule,', 'detection_types is waf_rule,', 'detection_types is waf_rule,', 'detection_types is waf_rule,', 'detection_types is waf_rule,', 'detection_types is waf_rule,', 'detection_types is waf_rule,']\n"
     ]
    },
    {
     "name": "stderr",
     "output_type": "stream",
     "text": [
      " 89%|████████▊ | 250/282 [10:13<00:30,  1.06it/s]"
     ]
    },
    {
     "name": "stdout",
     "output_type": "stream",
     "text": [
      "['detection_types is waf_rule,', 'detection_types is waf_rule,', 'detection_types is waf_rule,', 'detection_types is waf_rule,', 'detection_types is waf_rule,', 'detection_types is waf_rule,', 'detection_types is waf_rule,', 'detection_types is waf_rule,', 'detection_types is waf_rule,', 'detection_types is waf_rule,', 'detection_types is waf_rule,', 'detection_types is waf_rule,', 'detection_types is waf_rule,', 'detection_types is waf_rule,', 'detection_types is waf_rule,', 'detection_types is waf_rule,', 'detection_types is waf_rule,', 'detection_types is waf_rule,', 'detection_types is waf_rule,', 'detection_types is waf_rule,', 'detection_types is waf_rule,', 'detection_types is waf_rule,', 'detection_types is waf_rule,', 'detection_types is waf_rule,', 'detection_types is waf_rule,', 'detection_types is waf_rule,', 'detection_types is waf_rule,', 'detection_types is waf_rule,', 'detection_types is waf_rule,', 'detection_types is waf_rule,', 'detection_types is waf_rule,', 'detection_types is waf_rule,', 'detection_types is waf_rule,', 'detection_types is waf_rule,', 'detection_types is waf_rule,', 'detection_types is waf_rule,', 'detection_types is waf_rule,', 'detection_types is waf_rule,', 'detection_types is waf_rule,', 'detection_types is waf_rule,', 'detection_types is waf_rule,', 'detection_types is waf_rule,', 'detection_types is waf_rule,', 'detection_types is waf_rule,', 'detection_types is waf_rule,', 'detection_types is waf_rule,', 'detection_types is waf_rule,', 'detection_types is waf_rule,', 'detection_types is waf_rule,', 'detection_types is waf_rule,']\n"
     ]
    },
    {
     "name": "stderr",
     "output_type": "stream",
     "text": [
      " 89%|████████▉ | 252/282 [10:15<00:26,  1.13it/s]"
     ]
    },
    {
     "name": "stdout",
     "output_type": "stream",
     "text": [
      "['detection_types is waf_rule,', 'detection_types is waf_rule,', 'detection_types is waf_rule,', 'detection_types is waf_rule,', 'detection_types is waf_rule,', 'detection_types is waf_rule,', 'detection_types is waf_rule,', 'detection_types is waf_rule,', 'detection_types is waf_rule,', 'detection_types is waf_rule,', 'detection_types is waf_rule,', 'detection_types is waf_rule,', 'detection_types is waf_rule,', 'detection_types is waf_rule,', 'detection_types is waf_rule,', 'detection_types is waf_rule,', 'detection_types is waf_rule,', 'detection_types is waf_rule,', 'detection_types is waf_rule,', 'detection_types is waf_rule,', 'detection_types is waf_rule,', 'detection_types is waf_rule,', 'detection_types is waf_rule,', 'detection_types is waf_rule,', 'detection_types is waf_rule,', 'detection_types is waf_rule,', 'detection_types is waf_rule,', 'detection_types is waf_rule,', 'detection_types is waf_rule,', 'detection_types is waf_rule,', 'detection_types is waf_rule,', 'detection_types is waf_rule,', 'detection_types is waf_rule,', 'detection_types is waf_rule,', 'detection_types is waf_rule,', 'detection_types is waf_rule,', 'detection_types is waf_rule,', 'detection_types is waf_rule,', 'detection_types is waf_rule,', 'detection_types is waf_rule,', 'detection_types is waf_rule,', 'detection_types is waf_rule,', 'detection_types is waf_rule,', 'detection_types is waf_rule,', 'detection_types is waf_rule,', 'detection_types is waf_rule,', 'detection_types is waf_rule,', 'detection_types is waf_rule,', 'detection_types is waf_rule,', 'detection_types is waf_rule,']\n"
     ]
    },
    {
     "name": "stderr",
     "output_type": "stream",
     "text": [
      " 90%|████████▉ | 253/282 [10:16<00:29,  1.02s/it]"
     ]
    },
    {
     "name": "stdout",
     "output_type": "stream",
     "text": [
      "['detection_types is waf_rule,', 'detection_types is waf_rule,', 'detection_types is waf_rule,', 'detection_types is waf_rule,', 'detection_types is waf_rule,', 'detection_types is waf_rule,', 'detection_types is waf_rule,', 'detection_types is waf_rule,', 'detection_types is waf_rule,', 'detection_types is waf_rule,', 'detection_types is waf_rule,', 'detection_types is waf_rule,', 'detection_types is waf_rule,', 'detection_types is waf_rule,', 'detection_types is waf_rule,', 'detection_types is waf_rule,', 'detection_types is waf_rule,', 'detection_types is waf_rule,', 'detection_types is waf_rule,', 'detection_types is waf_rule,', 'detection_types is waf_rule,', 'detection_types is waf_rule,', 'detection_types is waf_rule,', 'detection_types is waf_rule,', 'detection_types is waf_rule,', 'detection_types is waf_rule,', 'detection_types is waf_rule,', 'detection_types is waf_rule,', 'detection_types is waf_rule,', 'detection_types is waf_rule,', 'detection_types is waf_rule,', 'detection_types is waf_rule,', 'detection_types is waf_rule,', 'detection_types is waf_rule,', 'detection_types is waf_rule,', 'detection_types is waf_rule,', 'detection_types is waf_rule,', 'detection_types is waf_rule,', 'detection_types is waf_rule,', 'detection_types is waf_rule,', 'detection_types is waf_rule,', 'detection_types is waf_rule,', 'detection_types is waf_rule,', 'detection_types is waf_rule,', 'detection_types is waf_rule,', 'detection_types is waf_rule,', 'detection_types is waf_rule,', 'detection_types is waf_rule,', 'detection_types is waf_rule,', 'detection_types is waf_rule,']\n"
     ]
    },
    {
     "name": "stderr",
     "output_type": "stream",
     "text": [
      " 90%|█████████ | 255/282 [10:18<00:25,  1.06it/s]"
     ]
    },
    {
     "name": "stdout",
     "output_type": "stream",
     "text": [
      "['detection_types is waf_rule,', 'detection_types is waf_rule,', 'detection_types is waf_rule,', 'detection_types is waf_rule,', 'detection_types is waf_rule,', 'detection_types is waf_rule,', 'detection_types is waf_rule,', 'detection_types is waf_rule,', 'detection_types is waf_rule,', 'detection_types is waf_rule,', 'detection_types is waf_rule,', 'detection_types is waf_rule,', 'detection_types is waf_rule,', 'detection_types is waf_rule,', 'detection_types is waf_rule,', 'detection_types is waf_rule,', 'detection_types is waf_rule,', 'detection_types is waf_rule,', 'detection_types is waf_rule,', 'detection_types is waf_rule,', 'detection_types is waf_rule,', 'detection_types is waf_rule,', 'detection_types is waf_rule,', 'detection_types is waf_rule,', 'detection_types is waf_rule,', 'detection_types is waf_rule,', 'detection_types is waf_rule,', 'detection_types is waf_rule,', 'detection_types is waf_rule,', 'detection_types is waf_rule,', 'detection_types is waf_rule,', 'detection_types is waf_rule,', 'detection_types is waf_rule,', 'detection_types is waf_rule,', 'detection_types is waf_rule,', 'detection_types is waf_rule,', 'detection_types is waf_rule,', 'detection_types is waf_rule,', 'detection_types is waf_rule,', 'detection_types is waf_rule,', 'detection_types is waf_rule,', 'detection_types is waf_rule,', 'detection_types is waf_rule,', 'detection_types is waf_rule,', 'detection_types is waf_rule,', 'detection_types is waf_rule,', 'detection_types is waf_rule,', 'detection_types is waf_rule,', 'detection_types is waf_rule,', 'detection_types is waf_rule,']\n"
     ]
    },
    {
     "name": "stderr",
     "output_type": "stream",
     "text": [
      " 91%|█████████ | 256/282 [10:20<00:28,  1.08s/it]"
     ]
    },
    {
     "name": "stdout",
     "output_type": "stream",
     "text": [
      "['detection_types is waf_rule,', 'detection_types is waf_rule,', 'detection_types is waf_rule,', 'detection_types is waf_rule,', 'detection_types is waf_rule,', 'detection_types is waf_rule,', 'detection_types is waf_rule,', 'detection_types is waf_rule,', 'detection_types is waf_rule,', 'detection_types is waf_rule,', 'detection_types is waf_rule,', 'detection_types is waf_rule,', 'detection_types is waf_rule,', 'detection_types is waf_rule,', 'detection_types is waf_rule,', 'detection_types is waf_rule,', 'detection_types is waf_rule,', 'detection_types is waf_rule,', 'detection_types is waf_rule,', 'detection_types is waf_rule,', 'detection_types is waf_rule,', 'detection_types is waf_rule,', 'detection_types is waf_rule,', 'detection_types is waf_rule,', 'detection_types is waf_rule,', 'detection_types is waf_rule,', 'detection_types is waf_rule,', 'detection_types is waf_rule,', 'detection_types is waf_rule,', 'detection_types is waf_rule,', 'detection_types is waf_rule,', 'detection_types is waf_rule,', 'detection_types is waf_rule,', 'detection_types is waf_rule,', 'detection_types is waf_rule,', 'detection_types is waf_rule,', 'detection_types is waf_rule,', 'detection_types is waf_rule,', 'detection_types is waf_rule,', 'detection_types is waf_rule,', 'detection_types is waf_rule,', 'detection_types is waf_rule,', 'detection_types is waf_rule,', 'detection_types is waf_rule,', 'detection_types is waf_rule,', 'detection_types is waf_rule,', 'detection_types is waf_rule,', 'detection_types is waf_rule,', 'detection_types is waf_rule,', 'detection_types is waf_rule,']\n"
     ]
    },
    {
     "name": "stderr",
     "output_type": "stream",
     "text": [
      " 91%|█████████ | 257/282 [10:21<00:29,  1.19s/it]"
     ]
    },
    {
     "name": "stdout",
     "output_type": "stream",
     "text": [
      "['detection_types is waf_rule,', 'detection_types is waf_rule,', 'detection_types is waf_rule,', 'detection_types is waf_rule,', 'detection_types is waf_rule,', 'detection_types is waf_rule,', 'detection_types is waf_rule,', 'detection_types is waf_rule,', 'detection_types is waf_rule,', 'detection_types is waf_rule,', 'detection_types is waf_rule,', 'detection_types is waf_rule,', 'detection_types is waf_rule,', 'detection_types is waf_rule,', 'detection_types is waf_rule,', 'detection_types is waf_rule,', 'detection_types is waf_rule,', 'detection_types is waf_rule,', 'detection_types is waf_rule,', 'detection_types is waf_rule,', 'detection_types is waf_rule,', 'detection_types is waf_rule,', 'detection_types is waf_rule,', 'detection_types is waf_rule,', 'detection_types is waf_rule,', 'detection_types is waf_rule,', 'detection_types is waf_rule,', 'detection_types is waf_rule,', 'detection_types is waf_rule,', 'detection_types is waf_rule,', 'detection_types is waf_rule,', 'detection_types is waf_rule,', 'detection_types is waf_rule,', 'detection_types is waf_rule,', 'detection_types is waf_rule,', 'detection_types is waf_rule,', 'detection_types is waf_rule,', 'detection_types is waf_rule,', 'detection_types is waf_rule,', 'detection_types is waf_rule,', 'detection_types is waf_rule,', 'detection_types is waf_rule,', 'detection_types is waf_rule,', 'detection_types is waf_rule,', 'detection_types is waf_rule,', 'detection_types is waf_rule,', 'detection_types is waf_rule,', 'detection_types is waf_rule,', 'detection_types is waf_rule,', 'detection_types is waf_rule,']\n"
     ]
    },
    {
     "name": "stderr",
     "output_type": "stream",
     "text": [
      " 93%|█████████▎| 262/282 [10:23<00:13,  1.52it/s]"
     ]
    },
    {
     "name": "stdout",
     "output_type": "stream",
     "text": [
      "['detection_types is waf_rule,', 'detection_types is waf_rule,', 'detection_types is waf_rule,', 'detection_types is waf_rule,', 'detection_types is waf_rule,', 'detection_types is waf_rule,', 'detection_types is waf_rule,', 'detection_types is waf_rule,', 'detection_types is waf_rule,', 'detection_types is waf_rule,', 'detection_types is waf_rule,', 'detection_types is waf_rule,', 'detection_types is waf_rule,', 'detection_types is waf_rule,', 'detection_types is waf_rule,', 'detection_types is waf_rule,', 'detection_types is waf_rule,', 'detection_types is waf_rule,', 'detection_types is waf_rule,', 'detection_types is waf_rule,', 'detection_types is waf_rule,', 'detection_types is waf_rule,', 'detection_types is waf_rule,', 'detection_types is waf_rule,', 'detection_types is waf_rule,', 'detection_types is waf_rule,', 'detection_types is waf_rule,', 'detection_types is waf_rule,', 'detection_types is waf_rule,', 'detection_types is waf_rule,', 'detection_types is waf_rule,', 'detection_types is waf_rule,', 'detection_types is waf_rule,', 'detection_types is waf_rule,', 'detection_types is waf_rule,', 'detection_types is waf_rule,', 'detection_types is waf_rule,', 'detection_types is waf_rule,', 'detection_types is waf_rule,', 'detection_types is waf_rule,', 'detection_types is waf_rule,', 'detection_types is waf_rule,', 'detection_types is waf_rule,', 'detection_types is waf_rule,', 'detection_types is waf_rule,', 'detection_types is waf_rule,', 'detection_types is waf_rule,', 'detection_types is waf_rule,', 'detection_types is waf_rule,', 'detection_types is waf_rule,']\n"
     ]
    },
    {
     "name": "stderr",
     "output_type": "stream",
     "text": [
      " 93%|█████████▎| 263/282 [10:24<00:15,  1.26it/s]"
     ]
    },
    {
     "name": "stdout",
     "output_type": "stream",
     "text": [
      "['detection_types is waf_rule,', 'detection_types is waf_rule,', 'detection_types is waf_rule,', 'detection_types is waf_rule,', 'detection_types is waf_rule,', 'detection_types is waf_rule,', 'detection_types is waf_rule,', 'detection_types is waf_rule,', 'detection_types is waf_rule,', 'detection_types is waf_rule,', 'detection_types is waf_rule,', 'detection_types is waf_rule,', 'detection_types is waf_rule,', 'detection_types is waf_rule,', 'detection_types is waf_rule,', 'detection_types is waf_rule,', 'detection_types is waf_rule,', 'detection_types is waf_rule,', 'detection_types is waf_rule,', 'detection_types is waf_rule,', 'detection_types is waf_rule,', 'detection_types is waf_rule,', 'detection_types is waf_rule,', 'detection_types is waf_rule,', 'detection_types is waf_rule,', 'detection_types is waf_rule,', 'detection_types is waf_rule,', 'detection_types is waf_rule,', 'detection_types is waf_rule,', 'detection_types is waf_rule,', 'detection_types is waf_rule,', 'detection_types is waf_rule,', 'detection_types is waf_rule,', 'detection_types is waf_rule,', 'detection_types is waf_rule,', 'detection_types is waf_rule,', 'detection_types is waf_rule,', 'detection_types is waf_rule,', 'detection_types is waf_rule,', 'detection_types is waf_rule,', 'detection_types is waf_rule,', 'detection_types is waf_rule,', 'detection_types is waf_rule,', 'detection_types is waf_rule,', 'detection_types is waf_rule,', 'detection_types is waf_rule,', 'detection_types is waf_rule,', 'detection_types is waf_rule,', 'detection_types is waf_rule,', 'detection_types is waf_rule,']\n"
     ]
    },
    {
     "name": "stderr",
     "output_type": "stream",
     "text": [
      " 94%|█████████▍| 265/282 [10:26<00:13,  1.25it/s]"
     ]
    },
    {
     "name": "stdout",
     "output_type": "stream",
     "text": [
      "['detection_types is waf_rule,', 'detection_types is waf_rule,', 'detection_types is waf_rule,', 'detection_types is waf_rule,', 'detection_types is waf_rule,', 'detection_types is waf_rule,', 'detection_types is waf_rule,', 'detection_types is waf_rule,', 'detection_types is waf_rule,', 'detection_types is waf_rule,', 'detection_types is waf_rule,', 'detection_types is waf_rule,', 'detection_types is waf_rule,', 'detection_types is waf_rule,', 'detection_types is waf_rule,', 'detection_types is waf_rule,', 'detection_types is waf_rule,', 'detection_types is waf_rule,', 'detection_types is waf_rule,', 'detection_types is waf_rule,', 'detection_types is waf_rule,', 'detection_types is waf_rule,', 'detection_types is waf_rule,', 'detection_types is waf_rule,', 'detection_types is waf_rule,', 'detection_types is waf_rule,', 'detection_types is waf_rule,', 'detection_types is waf_rule,', 'detection_types is waf_rule,', 'detection_types is waf_rule,', 'detection_types is waf_rule,', 'detection_types is waf_rule,', 'detection_types is waf_rule,', 'detection_types is waf_rule,', 'detection_types is waf_rule,', 'detection_types is waf_rule,', 'detection_types is waf_rule,', 'detection_types is waf_rule,', 'detection_types is waf_rule,', 'detection_types is waf_rule,', 'detection_types is waf_rule,', 'detection_types is waf_rule,', 'detection_types is waf_rule,', 'detection_types is waf_rule,', 'detection_types is waf_rule,', 'detection_types is waf_rule,', 'detection_types is waf_rule,', 'detection_types is waf_rule,', 'detection_types is waf_rule,', 'detection_types is waf_rule,']\n"
     ]
    },
    {
     "name": "stderr",
     "output_type": "stream",
     "text": [
      " 94%|█████████▍| 266/282 [10:28<00:14,  1.08it/s]"
     ]
    },
    {
     "name": "stdout",
     "output_type": "stream",
     "text": [
      "['detection_types is waf_rule,', 'detection_types is waf_rule,', 'detection_types is waf_rule,', 'detection_types is waf_rule,', 'detection_types is waf_rule,', 'detection_types is waf_rule,', 'detection_types is waf_rule,', 'detection_types is waf_rule,', 'detection_types is waf_rule,', 'detection_types is waf_rule,', 'detection_types is waf_rule,', 'detection_types is waf_rule,', 'detection_types is waf_rule,', 'detection_types is waf_rule,', 'detection_types is waf_rule,', 'detection_types is waf_rule,', 'detection_types is waf_rule,', 'detection_types is waf_rule,', 'detection_types is waf_rule,', 'detection_types is waf_rule,', 'detection_types is waf_rule,', 'detection_types is waf_rule,', 'detection_types is waf_rule,', 'detection_types is waf_rule,', 'detection_types is waf_rule,', 'detection_types is waf_rule,', 'detection_types is waf_rule,', 'detection_types is waf_rule,', 'detection_types is waf_rule,', 'detection_types is waf_rule,', 'detection_types is waf_rule,', 'detection_types is waf_rule,', 'detection_types is waf_rule,', 'detection_types is waf_rule,', 'detection_types is waf_rule,', 'detection_types is waf_rule,', 'detection_types is waf_rule,', 'detection_types is waf_rule,', 'detection_types is waf_rule,', 'detection_types is waf_rule,', 'detection_types is waf_rule,', 'detection_types is waf_rule,', 'detection_types is waf_rule,', 'detection_types is waf_rule,', 'detection_types is waf_rule,', 'detection_types is waf_rule,', 'detection_types is waf_rule,', 'detection_types is waf_rule,', 'detection_types is waf_rule,', 'detection_types is waf_rule,']\n",
      "['detection_types is waf_rule,', 'detection_types is waf_rule,', 'detection_types is waf_rule,', 'detection_types is waf_rule,', 'detection_types is waf_rule,', 'detection_types is waf_rule,', 'detection_types is waf_rule,', 'detection_types is waf_rule,', 'detection_types is waf_rule,', 'detection_types is waf_rule,', 'detection_types is waf_rule,', 'detection_types is waf_rule,', 'detection_types is waf_rule,', 'detection_types is waf_rule,', 'detection_types is waf_rule,', 'detection_types is waf_rule,', 'detection_types is waf_rule,', 'detection_types is waf_rule,', 'detection_types is waf_rule,', 'detection_types is waf_rule,', 'detection_types is waf_rule,', 'detection_types is waf_rule,', 'detection_types is waf_rule,', 'detection_types is waf_rule,', 'detection_types is waf_rule,', 'detection_types is waf_rule,', 'detection_types is waf_rule,', 'detection_types is waf_rule,', 'detection_types is waf_rule,', 'detection_types is waf_rule,', 'detection_types is waf_rule,', 'detection_types is waf_rule,', 'detection_types is waf_rule,', 'detection_types is waf_rule,', 'detection_types is waf_rule,', 'detection_types is waf_rule,', 'detection_types is waf_rule,', 'detection_types is waf_rule,', 'detection_types is waf_rule,', 'detection_types is waf_rule,', 'detection_types is waf_rule,', 'detection_types is waf_rule,', 'detection_types is waf_rule,', 'detection_types is waf_rule,', 'detection_types is waf_rule,', 'detection_types is waf_rule,', 'detection_types is waf_rule,', 'detection_types is waf_rule,', 'detection_types is waf_rule,', 'detection_types is waf_rule,']\n"
     ]
    },
    {
     "name": "stderr",
     "output_type": "stream",
     "text": [
      " 95%|█████████▌| 268/282 [10:31<00:16,  1.15s/it]"
     ]
    },
    {
     "name": "stdout",
     "output_type": "stream",
     "text": [
      "['detection_types is waf_rule,', 'detection_types is waf_rule,', 'detection_types is waf_rule,', 'detection_types is waf_rule,', 'detection_types is waf_rule,', 'detection_types is waf_rule,', 'detection_types is waf_rule,', 'detection_types is waf_rule,', 'detection_types is waf_rule,', 'detection_types is waf_rule,', 'detection_types is waf_rule,', 'detection_types is waf_rule,', 'detection_types is waf_rule,', 'detection_types is waf_rule,', 'detection_types is waf_rule,', 'detection_types is waf_rule,', 'detection_types is waf_rule,', 'detection_types is waf_rule,', 'detection_types is waf_rule,', 'detection_types is waf_rule,', 'detection_types is waf_rule,', 'detection_types is waf_rule,', 'detection_types is waf_rule,', 'detection_types is waf_rule,', 'detection_types is waf_rule,', 'detection_types is waf_rule,', 'detection_types is waf_rule,', 'detection_types is waf_rule,', 'detection_types is waf_rule,', 'detection_types is waf_rule,', 'detection_types is waf_rule,', 'detection_types is waf_rule,', 'detection_types is waf_rule,', 'detection_types is waf_rule,', 'detection_types is waf_rule,', 'detection_types is waf_rule,', 'detection_types is waf_rule,', 'detection_types is waf_rule,', 'detection_types is waf_rule,', 'detection_types is waf_rule,', 'detection_types is waf_rule,', 'detection_types is waf_rule,', 'detection_types is waf_rule,', 'detection_types is waf_rule,', 'detection_types is waf_rule,', 'detection_types is waf_rule,', 'detection_types is waf_rule,', 'detection_types is waf_rule,', 'detection_types is waf_rule,', 'detection_types is waf_rule,']\n",
      "['detection_types is waf_rule,', 'detection_types is waf_rule,', 'detection_types is waf_rule,', 'detection_types is waf_rule,', 'detection_types is waf_rule,', 'detection_types is waf_rule,', 'detection_types is waf_rule,', 'detection_types is waf_rule,', 'detection_types is waf_rule,', 'detection_types is waf_rule,', 'detection_types is waf_rule,', 'detection_types is waf_rule,', 'detection_types is waf_rule,', 'detection_types is waf_rule,', 'detection_types is waf_rule,', 'detection_types is waf_rule,', 'detection_types is waf_rule,', 'detection_types is waf_rule,', 'detection_types is waf_rule,', 'detection_types is waf_rule,', 'detection_types is waf_rule,', 'detection_types is waf_rule,', 'detection_types is waf_rule,', 'detection_types is waf_rule,', 'detection_types is waf_rule,', 'detection_types is waf_rule,', 'detection_types is waf_rule,', 'detection_types is waf_rule,', 'detection_types is waf_rule,', 'detection_types is waf_rule,', 'detection_types is waf_rule,', 'detection_types is waf_rule,', 'detection_types is waf_rule,', 'detection_types is waf_rule,', 'detection_types is waf_rule,', 'detection_types is waf_rule,', 'detection_types is waf_rule,', 'detection_types is waf_rule,', 'detection_types is waf_rule,', 'detection_types is waf_rule,', 'detection_types is waf_rule,', 'detection_types is waf_rule,', 'detection_types is waf_rule,', 'detection_types is waf_rule,', 'detection_types is waf_rule,', 'detection_types is waf_rule,', 'detection_types is waf_rule,', 'detection_types is waf_rule,', 'detection_types is waf_rule,', 'detection_types is waf_rule,']\n"
     ]
    },
    {
     "name": "stderr",
     "output_type": "stream",
     "text": [
      " 96%|█████████▌| 270/282 [10:34<00:15,  1.32s/it]"
     ]
    },
    {
     "name": "stdout",
     "output_type": "stream",
     "text": [
      "['detection_types is waf_rule,', 'detection_types is waf_rule,', 'detection_types is waf_rule,', 'detection_types is waf_rule,', 'detection_types is waf_rule,', 'detection_types is waf_rule,', 'detection_types is waf_rule,', 'detection_types is waf_rule,', 'detection_types is waf_rule,', 'detection_types is waf_rule,', 'detection_types is waf_rule,', 'detection_types is waf_rule,', 'detection_types is waf_rule,', 'detection_types is waf_rule,', 'detection_types is waf_rule,', 'detection_types is waf_rule,', 'detection_types is waf_rule,', 'detection_types is waf_rule,', 'detection_types is waf_rule,', 'detection_types is waf_rule,', 'detection_types is waf_rule,', 'detection_types is waf_rule,', 'detection_types is waf_rule,', 'detection_types is waf_rule,', 'detection_types is waf_rule,', 'detection_types is waf_rule,', 'detection_types is waf_rule,', 'detection_types is waf_rule,', 'detection_types is waf_rule,', 'detection_types is waf_rule,', 'detection_types is waf_rule,', 'detection_types is waf_rule,', 'detection_types is waf_rule,', 'detection_types is waf_rule,', 'detection_types is waf_rule,', 'detection_types is waf_rule,', 'detection_types is waf_rule,', 'detection_types is waf_rule,', 'detection_types is waf_rule,', 'detection_types is waf_rule,', 'detection_types is waf_rule,', 'detection_types is waf_rule,', 'detection_types is waf_rule,', 'detection_types is waf_rule,', 'detection_types is waf_rule,', 'detection_types is waf_rule,', 'detection_types is waf_rule,', 'detection_types is waf_rule,', 'detection_types is waf_rule,', 'detection_types is waf_rule,']\n"
     ]
    },
    {
     "name": "stderr",
     "output_type": "stream",
     "text": [
      " 96%|█████████▋| 272/282 [10:36<00:11,  1.16s/it]"
     ]
    },
    {
     "name": "stdout",
     "output_type": "stream",
     "text": [
      "['detection_types is waf_rule,', 'detection_types is waf_rule,', 'detection_types is waf_rule,', 'detection_types is waf_rule,', 'detection_types is waf_rule,', 'detection_types is waf_rule,', 'detection_types is waf_rule,', 'detection_types is waf_rule,', 'detection_types is waf_rule,', 'detection_types is waf_rule,', 'detection_types is waf_rule,', 'detection_types is waf_rule,', 'detection_types is waf_rule,', 'detection_types is waf_rule,', 'detection_types is waf_rule,', 'detection_types is waf_rule,', 'detection_types is waf_rule,', 'detection_types is waf_rule,', 'detection_types is waf_rule,', 'detection_types is waf_rule,', 'detection_types is waf_rule,', 'detection_types is waf_rule,', 'detection_types is waf_rule,', 'detection_types is waf_rule,', 'detection_types is waf_rule,', 'detection_types is waf_rule,', 'detection_types is waf_rule,', 'detection_types is waf_rule,', 'detection_types is waf_rule,', 'detection_types is waf_rule,', 'detection_types is waf_rule,', 'detection_types is waf_rule,', 'detection_types is waf_rule,', 'detection_types is waf_rule,', 'detection_types is waf_rule,', 'detection_types is waf_rule,', 'detection_types is waf_rule,', 'detection_types is waf_rule,', 'detection_types is waf_rule,', 'detection_types is waf_rule,', 'detection_types is waf_rule,', 'detection_types is waf_rule,', 'detection_types is waf_rule,', 'detection_types is waf_rule,', 'detection_types is waf_rule,', 'detection_types is waf_rule,', 'detection_types is waf_rule,', 'detection_types is waf_rule,', 'detection_types is waf_rule,', 'detection_types is waf_rule,']\n"
     ]
    },
    {
     "name": "stderr",
     "output_type": "stream",
     "text": [
      " 97%|█████████▋| 273/282 [10:37<00:11,  1.23s/it]"
     ]
    },
    {
     "name": "stdout",
     "output_type": "stream",
     "text": [
      "['detection_types is waf_rule,', 'detection_types is waf_rule,', 'detection_types is waf_rule,', 'detection_types is waf_rule,', 'detection_types is waf_rule,', 'detection_types is waf_rule,', 'detection_types is waf_rule,', 'detection_types is waf_rule,', 'detection_types is waf_rule,', 'detection_types is waf_rule,', 'detection_types is waf_rule,', 'detection_types is waf_rule,', 'detection_types is waf_rule,', 'detection_types is waf_rule,', 'detection_types is waf_rule,', 'detection_types is waf_rule,', 'detection_types is waf_rule,', 'detection_types is waf_rule,', 'detection_types is waf_rule,', 'detection_types is waf_rule,', 'detection_types is waf_rule,', 'detection_types is waf_rule,', 'detection_types is waf_rule,', 'detection_types is waf_rule,', 'detection_types is waf_rule,', 'detection_types is waf_rule,', 'detection_types is waf_rule,', 'detection_types is waf_rule,', 'detection_types is waf_rule,', 'detection_types is waf_rule,', 'detection_types is waf_rule,', 'detection_types is waf_rule,', 'detection_types is waf_rule,', 'detection_types is waf_rule,', 'detection_types is waf_rule,', 'detection_types is waf_rule,', 'detection_types is waf_rule,', 'detection_types is waf_rule,', 'detection_types is waf_rule,', 'detection_types is waf_rule,', 'detection_types is waf_rule,', 'detection_types is waf_rule,', 'detection_types is waf_rule,', 'detection_types is waf_rule,', 'detection_types is waf_rule,', 'detection_types is waf_rule,', 'detection_types is waf_rule,', 'detection_types is waf_rule,', 'detection_types is waf_rule,', 'detection_types is waf_rule,']\n"
     ]
    },
    {
     "name": "stderr",
     "output_type": "stream",
     "text": [
      " 97%|█████████▋| 274/282 [10:39<00:10,  1.30s/it]"
     ]
    },
    {
     "name": "stdout",
     "output_type": "stream",
     "text": [
      "['detection_types is waf_rule,', 'detection_types is waf_rule,', 'detection_types is waf_rule,', 'detection_types is waf_rule,', 'detection_types is waf_rule,', 'detection_types is waf_rule,', 'detection_types is waf_rule,', 'detection_types is waf_rule,', 'detection_types is waf_rule,', 'detection_types is waf_rule,', 'detection_types is waf_rule,', 'detection_types is waf_rule,', 'detection_types is waf_rule,', 'detection_types is waf_rule,', 'detection_types is waf_rule,', 'detection_types is waf_rule,', 'detection_types is waf_rule,', 'detection_types is waf_rule,', 'detection_types is waf_rule,', 'detection_types is waf_rule,', 'detection_types is waf_rule,', 'detection_types is waf_rule,', 'detection_types is waf_rule,', 'detection_types is waf_rule,', 'detection_types is waf_rule,', 'detection_types is waf_rule,', 'detection_types is waf_rule,', 'detection_types is waf_rule,', 'detection_types is waf_rule,', 'detection_types is waf_rule,', 'detection_types is waf_rule,', 'detection_types is waf_rule,', 'detection_types is waf_rule,', 'detection_types is waf_rule,', 'detection_types is waf_rule,', 'detection_types is waf_rule,', 'detection_types is waf_rule,', 'detection_types is waf_rule,', 'detection_types is waf_rule,', 'detection_types is waf_rule,', 'detection_types is waf_rule,', 'detection_types is waf_rule,', 'detection_types is waf_rule,', 'detection_types is waf_rule,', 'detection_types is waf_rule,', 'detection_types is waf_rule,', 'detection_types is waf_rule,', 'detection_types is waf_rule,', 'detection_types is waf_rule,', 'detection_types is waf_rule,']\n"
     ]
    },
    {
     "name": "stderr",
     "output_type": "stream",
     "text": [
      " 98%|█████████▊| 276/282 [10:40<00:06,  1.10s/it]"
     ]
    },
    {
     "name": "stdout",
     "output_type": "stream",
     "text": [
      "['detection_types is waf_rule,', 'detection_types is waf_rule,', 'detection_types is waf_rule,', 'detection_types is waf_rule,', 'detection_types is waf_rule,', 'detection_types is waf_rule,', 'detection_types is waf_rule,', 'detection_types is waf_rule,', 'detection_types is waf_rule,', 'detection_types is waf_rule,', 'detection_types is waf_rule,', 'detection_types is waf_rule,', 'detection_types is waf_rule,', 'detection_types is waf_rule,', 'detection_types is waf_rule,', 'detection_types is waf_rule,', 'detection_types is waf_rule,', 'detection_types is waf_rule,', 'detection_types is waf_rule,', 'detection_types is waf_rule,', 'detection_types is waf_rule,', 'detection_types is waf_rule,', 'detection_types is waf_rule,', 'detection_types is waf_rule,', 'detection_types is waf_rule,', 'detection_types is waf_rule,', 'detection_types is waf_rule,', 'detection_types is waf_rule,', 'detection_types is waf_rule,', 'detection_types is waf_rule,', 'detection_types is waf_rule,', 'detection_types is waf_rule,', 'detection_types is waf_rule,', 'detection_types is waf_rule,', 'detection_types is waf_rule,', 'detection_types is waf_rule,', 'detection_types is waf_rule,', 'detection_types is waf_rule,', 'detection_types is waf_rule,', 'detection_types is waf_rule,', 'detection_types is waf_rule,', 'detection_types is waf_rule,', 'detection_types is waf_rule,', 'detection_types is waf_rule,', 'detection_types is waf_rule,', 'detection_types is waf_rule,', 'detection_types is waf_rule,', 'detection_types is waf_rule,', 'detection_types is waf_rule,', 'detection_types is waf_rule,']\n"
     ]
    },
    {
     "name": "stderr",
     "output_type": "stream",
     "text": [
      " 99%|█████████▉| 280/282 [10:42<00:01,  1.36it/s]"
     ]
    },
    {
     "name": "stdout",
     "output_type": "stream",
     "text": [
      "['detection_types is waf_rule,', 'detection_types is waf_rule,', 'detection_types is waf_rule,', 'detection_types is waf_rule,', 'detection_types is waf_rule,', 'detection_types is waf_rule,', 'detection_types is waf_rule,', 'detection_types is waf_rule,', 'detection_types is waf_rule,', 'detection_types is waf_rule,', 'detection_types is waf_rule,', 'detection_types is waf_rule,', 'detection_types is waf_rule,', 'detection_types is waf_rule,', 'detection_types is waf_rule,', 'detection_types is waf_rule,', 'detection_types is waf_rule,', 'detection_types is waf_rule,', 'detection_types is waf_rule,', 'detection_types is waf_rule,', 'detection_types is waf_rule,', 'detection_types is waf_rule,', 'detection_types is waf_rule,', 'detection_types is waf_rule,', 'detection_types is waf_rule,', 'detection_types is waf_rule,', 'detection_types is waf_rule,', 'detection_types is waf_rule,', 'detection_types is waf_rule,', 'detection_types is waf_rule,', 'detection_types is waf_rule,', 'detection_types is waf_rule,', 'detection_types is waf_rule,', 'detection_types is waf_rule,', 'detection_types is waf_rule,', 'detection_types is waf_rule,', 'detection_types is waf_rule,', 'detection_types is waf_rule,', 'detection_types is waf_rule,', 'detection_types is waf_rule,', 'detection_types is waf_rule,', 'detection_types is waf_rule,', 'detection_types is waf_rule,', 'detection_types is waf_rule,', 'detection_types is waf_rule,', 'detection_types is waf_rule,', 'detection_types is waf_rule,', 'detection_types is waf_rule,', 'detection_types is waf_rule,', 'detection_types is waf_rule,']\n"
     ]
    },
    {
     "name": "stderr",
     "output_type": "stream",
     "text": [
      "284it [10:44,  2.27s/it]                         \n"
     ]
    }
   ],
   "source": [
    "samples = great.sample(n_samples, k=50, max_length=200)"
   ]
  },
  {
   "cell_type": "code",
   "execution_count": 13,
   "id": "105aa225",
   "metadata": {},
   "outputs": [
    {
     "data": {
      "text/html": [
       "<div>\n",
       "<style scoped>\n",
       "    .dataframe tbody tr th:only-of-type {\n",
       "        vertical-align: middle;\n",
       "    }\n",
       "\n",
       "    .dataframe tbody tr th {\n",
       "        vertical-align: top;\n",
       "    }\n",
       "\n",
       "    .dataframe thead th {\n",
       "        text-align: right;\n",
       "    }\n",
       "</style>\n",
       "<table border=\"1\" class=\"dataframe\">\n",
       "  <thead>\n",
       "    <tr style=\"text-align: right;\">\n",
       "      <th></th>\n",
       "      <th>bytes_in</th>\n",
       "      <th>bytes_out</th>\n",
       "      <th>creation_time</th>\n",
       "      <th>end_time</th>\n",
       "      <th>src_ip</th>\n",
       "      <th>src_ip_country_code</th>\n",
       "      <th>protocol</th>\n",
       "      <th>response.code</th>\n",
       "      <th>dst_port</th>\n",
       "      <th>dst_ip</th>\n",
       "      <th>rule_names</th>\n",
       "      <th>observation_name</th>\n",
       "      <th>source.meta</th>\n",
       "      <th>source.name</th>\n",
       "      <th>time</th>\n",
       "      <th>detection_types</th>\n",
       "    </tr>\n",
       "  </thead>\n",
       "  <tbody>\n",
       "    <tr>\n",
       "      <th>0</th>\n",
       "      <td>11248.0</td>\n",
       "      <td>4488.0</td>\n",
       "      <td>2024-04-26T09:40:00Z</td>\n",
       "      <td>2024-04-26T10:00:00Z</td>\n",
       "      <td>136.226.67.101</td>\n",
       "      <td>CA</td>\n",
       "      <td>HTTPS</td>\n",
       "      <td>200.0</td>\n",
       "      <td>443.0</td>\n",
       "      <td>10.138.69.97</td>\n",
       "      <td>Suspicious Web Traffic</td>\n",
       "      <td>Adversary Infrastructure Interaction</td>\n",
       "      <td>AWS_VPC_Flow</td>\n",
       "      <td>prod_webserver</td>\n",
       "      <td>2024-04-26T09:50:00Z</td>\n",
       "      <td>waf_rule</td>\n",
       "    </tr>\n",
       "    <tr>\n",
       "      <th>1</th>\n",
       "      <td>28362.0</td>\n",
       "      <td>11444.0</td>\n",
       "      <td>2024-04-26T01:30:00Z</td>\n",
       "      <td>2024-04-26T01:30:00Z</td>\n",
       "      <td>136.226.67.101</td>\n",
       "      <td>AT</td>\n",
       "      <td>HTTPS</td>\n",
       "      <td>200.0</td>\n",
       "      <td>443.0</td>\n",
       "      <td>10.138.69.97</td>\n",
       "      <td>Suspicious Web Traffic</td>\n",
       "      <td>Adversary Infrastructure Interaction</td>\n",
       "      <td>AWS_VPC_Flow</td>\n",
       "      <td>prod_webserver</td>\n",
       "      <td>2024-04-26T01:40:00Z</td>\n",
       "      <td>waf_rule</td>\n",
       "    </tr>\n",
       "    <tr>\n",
       "      <th>2</th>\n",
       "      <td>3114.0</td>\n",
       "      <td>3240.0</td>\n",
       "      <td>2024-04-26T00:40:00Z</td>\n",
       "      <td>2024-04-26T00:40:00Z</td>\n",
       "      <td>165.225.209.4</td>\n",
       "      <td>DE</td>\n",
       "      <td>HTTPS</td>\n",
       "      <td>200.0</td>\n",
       "      <td>443.0</td>\n",
       "      <td>10.138.69.97</td>\n",
       "      <td>Suspicious Web Traffic</td>\n",
       "      <td>Adversary Infrastructure Interaction</td>\n",
       "      <td>AWS_VPC_Flow</td>\n",
       "      <td>prod_webserver</td>\n",
       "      <td>2024-04-26T00:40:00Z</td>\n",
       "      <td>waf_rule</td>\n",
       "    </tr>\n",
       "    <tr>\n",
       "      <th>3</th>\n",
       "      <td>18482.0</td>\n",
       "      <td>29690.0</td>\n",
       "      <td>2024-04-26T09:10:00Z</td>\n",
       "      <td>2024-04-26T09:20:00Z</td>\n",
       "      <td>136.226.67.101</td>\n",
       "      <td>US</td>\n",
       "      <td>HTTPS</td>\n",
       "      <td>200.0</td>\n",
       "      <td>443.0</td>\n",
       "      <td>10.138.69.97</td>\n",
       "      <td>Suspicious Web Traffic</td>\n",
       "      <td>Adversary Infrastructure Interaction</td>\n",
       "      <td>AWS_VPC_Flow</td>\n",
       "      <td>prod_webserver</td>\n",
       "      <td>2024-04-26T09:20:00Z</td>\n",
       "      <td>waf_rule</td>\n",
       "    </tr>\n",
       "    <tr>\n",
       "      <th>4</th>\n",
       "      <td>15570.0</td>\n",
       "      <td>11404.0</td>\n",
       "      <td>2024-04-26T09:50:00Z</td>\n",
       "      <td>2024-04-26T09:30:00Z</td>\n",
       "      <td>136.226.67.101</td>\n",
       "      <td>IL</td>\n",
       "      <td>HTTPS</td>\n",
       "      <td>200.0</td>\n",
       "      <td>443.0</td>\n",
       "      <td>10.138.69.97</td>\n",
       "      <td>Suspicious Web Traffic</td>\n",
       "      <td>Adversary Infrastructure Interaction</td>\n",
       "      <td>AWS_VPC_Flow</td>\n",
       "      <td>prod_webserver</td>\n",
       "      <td>2024-04-26T09:50:00Z</td>\n",
       "      <td>waf_rule</td>\n",
       "    </tr>\n",
       "  </tbody>\n",
       "</table>\n",
       "</div>"
      ],
      "text/plain": [
       "   bytes_in  bytes_out         creation_time              end_time  \\\n",
       "0   11248.0     4488.0  2024-04-26T09:40:00Z  2024-04-26T10:00:00Z   \n",
       "1   28362.0    11444.0  2024-04-26T01:30:00Z  2024-04-26T01:30:00Z   \n",
       "2    3114.0     3240.0  2024-04-26T00:40:00Z  2024-04-26T00:40:00Z   \n",
       "3   18482.0    29690.0  2024-04-26T09:10:00Z  2024-04-26T09:20:00Z   \n",
       "4   15570.0    11404.0  2024-04-26T09:50:00Z  2024-04-26T09:30:00Z   \n",
       "\n",
       "           src_ip src_ip_country_code protocol  response.code  dst_port  \\\n",
       "0  136.226.67.101                  CA    HTTPS          200.0     443.0   \n",
       "1  136.226.67.101                  AT    HTTPS          200.0     443.0   \n",
       "2   165.225.209.4                  DE    HTTPS          200.0     443.0   \n",
       "3  136.226.67.101                  US    HTTPS          200.0     443.0   \n",
       "4  136.226.67.101                  IL    HTTPS          200.0     443.0   \n",
       "\n",
       "         dst_ip              rule_names                      observation_name  \\\n",
       "0  10.138.69.97  Suspicious Web Traffic  Adversary Infrastructure Interaction   \n",
       "1  10.138.69.97  Suspicious Web Traffic  Adversary Infrastructure Interaction   \n",
       "2  10.138.69.97  Suspicious Web Traffic  Adversary Infrastructure Interaction   \n",
       "3  10.138.69.97  Suspicious Web Traffic  Adversary Infrastructure Interaction   \n",
       "4  10.138.69.97  Suspicious Web Traffic  Adversary Infrastructure Interaction   \n",
       "\n",
       "    source.meta     source.name                  time detection_types  \n",
       "0  AWS_VPC_Flow  prod_webserver  2024-04-26T09:50:00Z        waf_rule  \n",
       "1  AWS_VPC_Flow  prod_webserver  2024-04-26T01:40:00Z        waf_rule  \n",
       "2  AWS_VPC_Flow  prod_webserver  2024-04-26T00:40:00Z        waf_rule  \n",
       "3  AWS_VPC_Flow  prod_webserver  2024-04-26T09:20:00Z        waf_rule  \n",
       "4  AWS_VPC_Flow  prod_webserver  2024-04-26T09:50:00Z        waf_rule  "
      ]
     },
     "execution_count": 13,
     "metadata": {},
     "output_type": "execute_result"
    }
   ],
   "source": [
    "samples.head()"
   ]
  },
  {
   "cell_type": "code",
   "execution_count": 14,
   "id": "c6f534d4",
   "metadata": {},
   "outputs": [],
   "source": [
    "samples.to_csv(\"C:/Users/Windows 11/Desktop/Dissertation/Codes/sample_data/Computer Science/cloudwatch_samples.csv\",index=False)"
   ]
  },
  {
   "cell_type": "markdown",
   "id": "70545fac",
   "metadata": {},
   "source": [
    "## Plot Data"
   ]
  },
  {
   "cell_type": "code",
   "execution_count": 25,
   "id": "ec9e0767",
   "metadata": {},
   "outputs": [
    {
     "data": {
      "text/html": [
       "<div>\n",
       "<style scoped>\n",
       "    .dataframe tbody tr th:only-of-type {\n",
       "        vertical-align: middle;\n",
       "    }\n",
       "\n",
       "    .dataframe tbody tr th {\n",
       "        vertical-align: top;\n",
       "    }\n",
       "\n",
       "    .dataframe thead th {\n",
       "        text-align: right;\n",
       "    }\n",
       "</style>\n",
       "<table border=\"1\" class=\"dataframe\">\n",
       "  <thead>\n",
       "    <tr style=\"text-align: right;\">\n",
       "      <th></th>\n",
       "      <th>Age</th>\n",
       "      <th>FrequentFlyer</th>\n",
       "      <th>AnnualIncomeClass</th>\n",
       "      <th>ServicesOpted</th>\n",
       "      <th>AccountSyncedToSocialMedia</th>\n",
       "      <th>BookedHotelOrNot</th>\n",
       "      <th>Target</th>\n",
       "    </tr>\n",
       "  </thead>\n",
       "  <tbody>\n",
       "    <tr>\n",
       "      <th>670</th>\n",
       "      <td>30</td>\n",
       "      <td>No</td>\n",
       "      <td>Low Income</td>\n",
       "      <td>1</td>\n",
       "      <td>No</td>\n",
       "      <td>Yes</td>\n",
       "      <td>0</td>\n",
       "    </tr>\n",
       "    <tr>\n",
       "      <th>211</th>\n",
       "      <td>29</td>\n",
       "      <td>No</td>\n",
       "      <td>Low Income</td>\n",
       "      <td>2</td>\n",
       "      <td>No</td>\n",
       "      <td>No</td>\n",
       "      <td>0</td>\n",
       "    </tr>\n",
       "    <tr>\n",
       "      <th>821</th>\n",
       "      <td>37</td>\n",
       "      <td>Yes</td>\n",
       "      <td>High Income</td>\n",
       "      <td>1</td>\n",
       "      <td>No</td>\n",
       "      <td>No</td>\n",
       "      <td>0</td>\n",
       "    </tr>\n",
       "    <tr>\n",
       "      <th>410</th>\n",
       "      <td>30</td>\n",
       "      <td>No</td>\n",
       "      <td>Middle Income</td>\n",
       "      <td>3</td>\n",
       "      <td>No</td>\n",
       "      <td>Yes</td>\n",
       "      <td>0</td>\n",
       "    </tr>\n",
       "    <tr>\n",
       "      <th>255</th>\n",
       "      <td>37</td>\n",
       "      <td>No</td>\n",
       "      <td>Middle Income</td>\n",
       "      <td>6</td>\n",
       "      <td>No</td>\n",
       "      <td>Yes</td>\n",
       "      <td>0</td>\n",
       "    </tr>\n",
       "  </tbody>\n",
       "</table>\n",
       "</div>"
      ],
      "text/plain": [
       "     Age FrequentFlyer AnnualIncomeClass  ServicesOpted  \\\n",
       "670   30            No        Low Income              1   \n",
       "211   29            No        Low Income              2   \n",
       "821   37           Yes       High Income              1   \n",
       "410   30            No     Middle Income              3   \n",
       "255   37            No     Middle Income              6   \n",
       "\n",
       "    AccountSyncedToSocialMedia BookedHotelOrNot  Target  \n",
       "670                         No              Yes       0  \n",
       "211                         No               No       0  \n",
       "821                         No               No       0  \n",
       "410                         No              Yes       0  \n",
       "255                         No              Yes       0  "
      ]
     },
     "execution_count": 25,
     "metadata": {},
     "output_type": "execute_result"
    },
    {
     "data": {
      "image/png": "[encoded data removed]",
      "text/plain": [
       "<Figure size 1200x400 with 2 Axes>"
      ]
     },
     "metadata": {},
     "output_type": "display_data"
    }
   ],
   "source": [
    "fig, ax = plt.subplots(1, 2, figsize=(12, 4))\n",
    "true_samples = data.sample(n = 100)\n",
    "true_samples.head()"
   ]
  },
  {
   "cell_type": "markdown",
   "id": "e3e051cc",
   "metadata": {},
   "source": [
    "Original Data"
   ]
  },
  {
   "cell_type": "code",
   "execution_count": 27,
   "id": "e70c4dfd",
   "metadata": {},
   "outputs": [
    {
     "data": {
      "text/plain": [
       "<matplotlib.collections.PathCollection at 0x7f4176431b50>"
      ]
     },
     "execution_count": 27,
     "metadata": {},
     "output_type": "execute_result"
    },
    {
     "data": {
      "image/png": "[encoded data removed]",
      "text/plain": [
       "<Figure size 1200x400 with 2 Axes>"
      ]
     },
     "metadata": {},
     "output_type": "display_data"
    }
   ],
   "source": [
    "fig, ax = plt.subplots(1, 2, figsize=(12, 4))\n",
    "true_samples = data.sample(n = 200)\n",
    "ax[0].scatter(true_samples[\"Age\"], true_samples[\"FrequentFlyer\"], c=true_samples[\"Target\"])\n",
    "ax[1].scatter(true_samples[\"AnnualIncomeClass\"], true_samples[\"ServicesOpted\"], c=true_samples[\"Target\"])"
   ]
  },
  {
   "cell_type": "markdown",
   "id": "f56b0e03",
   "metadata": {},
   "source": [
    "Generated samples"
   ]
  },
  {
   "cell_type": "code",
   "execution_count": 28,
   "id": "66d7efcc",
   "metadata": {},
   "outputs": [],
   "source": [
    "samples = pd.read_csv(\"C:/Users/Windows 11/Desktop/Dissertation/Codes/sample_data/travel_samples.csv\")"
   ]
  },
  {
   "cell_type": "code",
   "execution_count": 29,
   "id": "96d782e2",
   "metadata": {},
   "outputs": [
    {
     "data": {
      "text/plain": [
       "<matplotlib.collections.PathCollection at 0x7f4176371af0>"
      ]
     },
     "execution_count": 29,
     "metadata": {},
     "output_type": "execute_result"
    },
    {
     "data": {
      "image/png": "[encoded data removed]",
      "text/plain": [
       "<Figure size 1200x400 with 2 Axes>"
      ]
     },
     "metadata": {},
     "output_type": "display_data"
    }
   ],
   "source": [
    "fig, ax = plt.subplots(1, 2, figsize=(12, 4))\n",
    "\n",
    "ax[0].scatter(samples[\"Age\"], samples[\"FrequentFlyer\"], c=samples[\"Target\"])\n",
    "ax[0].set_ylim(1.8, 4.5)\n",
    "ax[1].scatter(samples[\"AnnualIncomeClass\"], samples[\"ServicesOpted\"], c=samples[\"Target\"].astype(\"int\"))\n"
   ]
  },
  {
   "cell_type": "code",
   "execution_count": null,
   "id": "69639c1e",
   "metadata": {},
   "outputs": [],
   "source": []
  },
  {
   "cell_type": "code",
   "execution_count": null,
   "id": "20708e2c",
   "metadata": {},
   "outputs": [],
   "source": []
  }
 ],
 "metadata": {
  "kernelspec": {
   "display_name": "Python 3 (ipykernel)",
   "language": "python",
   "name": "python3"
  },
  "language_info": {
   "codemirror_mode": {
    "name": "ipython",
    "version": 3
   },
   "file_extension": ".py",
   "mimetype": "text/x-python",
   "name": "python",
   "nbconvert_exporter": "python",
   "pygments_lexer": "ipython3",
   "version": "3.11.7"
  }
 },
 "nbformat": 4,
 "nbformat_minor": 5
}
