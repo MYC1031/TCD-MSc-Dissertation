{
 "cells": [
  {
   "cell_type": "markdown",
   "metadata": {},
   "source": [
    "travel数据集"
   ]
  },
  {
   "cell_type": "code",
   "execution_count": 2,
   "metadata": {},
   "outputs": [
    {
     "name": "stdout",
     "output_type": "stream",
     "text": [
      "判别器准确率: 57.80%\n"
     ]
    }
   ],
   "source": [
    "import pandas as pd\n",
    "from sklearn.ensemble import RandomForestClassifier\n",
    "from sklearn.model_selection import train_test_split\n",
    "from sklearn.metrics import accuracy_score\n",
    "from sklearn.preprocessing import LabelEncoder\n",
    "# 读取CSV文件\n",
    "real_data = pd.read_csv('C:/Users/Windows 11/Desktop/Dissertation/Codes/data/Customertravel.csv')\n",
    "fake_data = pd.read_csv('C:/Users/Windows 11/Desktop/Dissertation/Codes/sample_data/travel_samples.csv')\n",
    "\n",
    "# 为真实数据和合成数据添加标签\n",
    "real_data['label'] = 1  # 真实数据标签为1\n",
    "fake_data['label'] = 0  # 合成数据标签为0\n",
    "\n",
    "# 合并数据集\n",
    "combined_data = pd.concat([real_data, fake_data])\n",
    "\n",
    "# 分离特征和标签\n",
    "X = combined_data.drop(columns=['label'])\n",
    "y = combined_data['label']\n",
    "label_encoders = {}\n",
    "for column in X.columns:\n",
    "    if X[column].dtype == 'object':\n",
    "        le = LabelEncoder()\n",
    "        X[column] = le.fit_transform(X[column])\n",
    "        label_encoders[column] = le\n",
    "\n",
    "# Encode target column if it is categorical\n",
    "if y.dtype == 'object':\n",
    "    target_le = LabelEncoder()\n",
    "    y = target_le.fit_transform(y)\n",
    "# 拆分训练集和测试集\n",
    "X_train, X_test, y_train, y_test = train_test_split(X, y, test_size=0.2, random_state=42)\n",
    "\n",
    "# 训练随机森林分类器\n",
    "clf = RandomForestClassifier(n_estimators=100, random_state=42)\n",
    "clf.fit(X_train, y_train)\n",
    "\n",
    "# 预测测试集\n",
    "y_pred = clf.predict(X_test)\n",
    "\n",
    "# 计算准确率\n",
    "accuracy = accuracy_score(y_test, y_pred) * 100\n",
    "\n",
    "print(f\"判别器准确率: {accuracy:.2f}%\")\n"
   ]
  },
  {
   "cell_type": "markdown",
   "metadata": {},
   "source": [
    "sick数据集"
   ]
  },
  {
   "cell_type": "code",
   "execution_count": 1,
   "metadata": {},
   "outputs": [
    {
     "name": "stdout",
     "output_type": "stream",
     "text": [
      "判别器准确率: 89.07%\n"
     ]
    }
   ],
   "source": [
    "import pandas as pd\n",
    "from sklearn.ensemble import RandomForestClassifier\n",
    "from sklearn.model_selection import train_test_split\n",
    "from sklearn.metrics import accuracy_score\n",
    "from sklearn.preprocessing import LabelEncoder\n",
    "# 读取CSV文件\n",
    "real_data = pd.read_csv('/data/guoquanjiang/be_great/data/sick.csv')\n",
    "fake_data = pd.read_csv('/data/guoquanjiang/be_great/sample_data/sick_samples.csv')\n",
    "\n",
    "# 为真实数据和合成数据添加标签\n",
    "real_data['label'] = 1  # 真实数据标签为1\n",
    "fake_data['label'] = 0  # 合成数据标签为0\n",
    "\n",
    "# 合并数据集\n",
    "combined_data = pd.concat([real_data, fake_data])\n",
    "\n",
    "# 分离特征和标签\n",
    "X = combined_data.drop(columns=['label'])\n",
    "y = combined_data['label']\n",
    "label_encoders = {}\n",
    "for column in X.columns:\n",
    "    if X[column].dtype == 'object':\n",
    "        le = LabelEncoder()\n",
    "        X[column] = le.fit_transform(X[column])\n",
    "        label_encoders[column] = le\n",
    "\n",
    "# Encode target column if it is categorical\n",
    "if y.dtype == 'object':\n",
    "    target_le = LabelEncoder()\n",
    "    y = target_le.fit_transform(y)\n",
    "# 拆分训练集和测试集\n",
    "X_train, X_test, y_train, y_test = train_test_split(X, y, test_size=0.2, random_state=42)\n",
    "\n",
    "# 训练随机森林分类器\n",
    "clf = RandomForestClassifier(n_estimators=100, random_state=42)\n",
    "clf.fit(X_train, y_train)\n",
    "\n",
    "# 预测测试集\n",
    "y_pred = clf.predict(X_test)\n",
    "\n",
    "# 计算准确率\n",
    "accuracy = accuracy_score(y_test, y_pred) * 100\n",
    "\n",
    "print(f\"判别器准确率: {accuracy:.2f}%\")"
   ]
  },
  {
   "cell_type": "markdown",
   "metadata": {},
   "source": [
    "heloc数据集"
   ]
  },
  {
   "cell_type": "code",
   "execution_count": 4,
   "metadata": {},
   "outputs": [
    {
     "name": "stdout",
     "output_type": "stream",
     "text": [
      "判别器准确率: 78.41%\n"
     ]
    }
   ],
   "source": [
    "import pandas as pd\n",
    "from sklearn.ensemble import RandomForestClassifier\n",
    "from sklearn.model_selection import train_test_split\n",
    "from sklearn.metrics import accuracy_score\n",
    "from sklearn.preprocessing import LabelEncoder\n",
    "# 读取CSV文件\n",
    "real_data = pd.read_csv('/data/guoquanjiang/be_great/data/heloc.csv')\n",
    "fake_data = pd.read_csv('/data/guoquanjiang/be_great/sample_data/heloc_samples.csv')\n",
    "\n",
    "# 为真实数据和合成数据添加标签\n",
    "real_data['label'] = 1  # 真实数据标签为1\n",
    "fake_data['label'] = 0  # 合成数据标签为0\n",
    "\n",
    "# 合并数据集\n",
    "combined_data = pd.concat([real_data, fake_data])\n",
    "\n",
    "# 分离特征和标签\n",
    "X = combined_data.drop(columns=['label'])\n",
    "y = combined_data['label']\n",
    "label_encoders = {}\n",
    "for column in X.columns:\n",
    "    if X[column].dtype == 'object':\n",
    "        le = LabelEncoder()\n",
    "        X[column] = le.fit_transform(X[column])\n",
    "        label_encoders[column] = le\n",
    "\n",
    "# Encode target column if it is categorical\n",
    "if y.dtype == 'object':\n",
    "    target_le = LabelEncoder()\n",
    "    y = target_le.fit_transform(y)\n",
    "# 拆分训练集和测试集\n",
    "X_train, X_test, y_train, y_test = train_test_split(X, y, test_size=0.2, random_state=42)\n",
    "\n",
    "# 训练随机森林分类器\n",
    "clf = RandomForestClassifier(n_estimators=100, random_state=42)\n",
    "clf.fit(X_train, y_train)\n",
    "\n",
    "# 预测测试集\n",
    "y_pred = clf.predict(X_test)\n",
    "\n",
    "# 计算准确率\n",
    "accuracy = accuracy_score(y_test, y_pred) * 100\n",
    "\n",
    "print(f\"判别器准确率: {accuracy:.2f}%\")"
   ]
  },
  {
   "cell_type": "markdown",
   "metadata": {},
   "source": [
    "adult income数据集"
   ]
  },
  {
   "cell_type": "code",
   "execution_count": 3,
   "metadata": {},
   "outputs": [
    {
     "name": "stdout",
     "output_type": "stream",
     "text": [
      "判别器准确率: 70.31%\n"
     ]
    }
   ],
   "source": [
    "import pandas as pd\n",
    "from sklearn.ensemble import RandomForestClassifier\n",
    "from sklearn.model_selection import train_test_split\n",
    "from sklearn.metrics import accuracy_score\n",
    "from sklearn.preprocessing import LabelEncoder\n",
    "from ucimlrepo import fetch_ucirepo \n",
    "  \n",
    "\n",
    "# 读取CSV文件\n",
    "real_data = fetch_ucirepo(id=2).data.original\n",
    "fake_data = pd.read_csv('/data/guoquanjiang/be_great/sample_data/adult_income_samples.csv')\n",
    "\n",
    "# 为真实数据和合成数据添加标签\n",
    "real_data['label'] = 1  # 真实数据标签为1\n",
    "fake_data['label'] = 0  # 合成数据标签为0\n",
    "\n",
    "# 合并数据集\n",
    "combined_data = pd.concat([real_data, fake_data])\n",
    "\n",
    "# 分离特征和标签\n",
    "X = combined_data.drop(columns=['label'])\n",
    "y = combined_data['label']\n",
    "label_encoders = {}\n",
    "for column in X.columns:\n",
    "    if X[column].dtype == 'object':\n",
    "        le = LabelEncoder()\n",
    "        X[column] = le.fit_transform(X[column])\n",
    "        label_encoders[column] = le\n",
    "\n",
    "# Encode target column if it is categorical\n",
    "if y.dtype == 'object':\n",
    "    target_le = LabelEncoder()\n",
    "    y = target_le.fit_transform(y)\n",
    "# 拆分训练集和测试集\n",
    "X_train, X_test, y_train, y_test = train_test_split(X, y, test_size=0.2, random_state=42)\n",
    "\n",
    "# 训练随机森林分类器\n",
    "clf = RandomForestClassifier(n_estimators=100, random_state=42)\n",
    "clf.fit(X_train, y_train)\n",
    "\n",
    "# 预测测试集\n",
    "y_pred = clf.predict(X_test)\n",
    "\n",
    "# 计算准确率\n",
    "accuracy = accuracy_score(y_test, y_pred) * 100\n",
    "\n",
    "print(f\"判别器准确率: {accuracy:.2f}%\")"
   ]
  },
  {
   "cell_type": "markdown",
   "metadata": {},
   "source": [
    "diabetes数据集"
   ]
  },
  {
   "cell_type": "code",
   "execution_count": null,
   "metadata": {},
   "outputs": [],
   "source": [
    "import pandas as pd\n",
    "from sklearn.ensemble import RandomForestClassifier\n",
    "from sklearn.model_selection import train_test_split\n",
    "from sklearn.metrics import accuracy_score\n",
    "from sklearn.preprocessing import LabelEncoder\n",
    "# 读取CSV文件\n",
    "real_data = pd.read_csv('/data/guoquanjiang/be_great/data/Customertravel.csv')\n",
    "fake_data = pd.read_csv('/data/guoquanjiang/be_great/sample_data/travel_samples.csv')\n",
    "\n",
    "# 为真实数据和合成数据添加标签\n",
    "real_data['label'] = 1  # 真实数据标签为1\n",
    "fake_data['label'] = 0  # 合成数据标签为0\n",
    "\n",
    "# 合并数据集\n",
    "combined_data = pd.concat([real_data, fake_data])\n",
    "\n",
    "# 分离特征和标签\n",
    "X = combined_data.drop(columns=['label'])\n",
    "y = combined_data['label']\n",
    "label_encoders = {}\n",
    "for column in X.columns:\n",
    "    if X[column].dtype == 'object':\n",
    "        le = LabelEncoder()\n",
    "        X[column] = le.fit_transform(X[column])\n",
    "        label_encoders[column] = le\n",
    "\n",
    "# Encode target column if it is categorical\n",
    "if y.dtype == 'object':\n",
    "    target_le = LabelEncoder()\n",
    "    y = target_le.fit_transform(y)\n",
    "# 拆分训练集和测试集\n",
    "X_train, X_test, y_train, y_test = train_test_split(X, y, test_size=0.2, random_state=42)\n",
    "\n",
    "# 训练随机森林分类器\n",
    "clf = RandomForestClassifier(n_estimators=100, random_state=42)\n",
    "clf.fit(X_train, y_train)\n",
    "\n",
    "# 预测测试集\n",
    "y_pred = clf.predict(X_test)\n",
    "\n",
    "# 计算准确率\n",
    "accuracy = accuracy_score(y_test, y_pred) * 100\n",
    "\n",
    "print(f\"判别器准确率: {accuracy:.2f}%\")"
   ]
  },
  {
   "cell_type": "markdown",
   "metadata": {},
   "source": [
    "california housing数据集"
   ]
  },
  {
   "cell_type": "code",
   "execution_count": 2,
   "metadata": {},
   "outputs": [
    {
     "name": "stdout",
     "output_type": "stream",
     "text": [
      "判别器准确率: 69.94%\n"
     ]
    }
   ],
   "source": [
    "import pandas as pd\n",
    "from sklearn.ensemble import RandomForestClassifier\n",
    "from sklearn.model_selection import train_test_split\n",
    "from sklearn.metrics import accuracy_score\n",
    "from sklearn.preprocessing import LabelEncoder\n",
    "# 读取CSV文件\n",
    "from sklearn import datasets\n",
    "real_data = datasets.fetch_california_housing(as_frame=True).frame\n",
    "fake_data = pd.read_csv('/data/guoquanjiang/be_great/sample_data/california_samples.csv')\n",
    "\n",
    "# 为真实数据和合成数据添加标签\n",
    "real_data['label'] = 1  # 真实数据标签为1\n",
    "fake_data['label'] = 0  # 合成数据标签为0\n",
    "\n",
    "# 合并数据集\n",
    "combined_data = pd.concat([real_data, fake_data])\n",
    "\n",
    "# 分离特征和标签\n",
    "X = combined_data.drop(columns=['label'])\n",
    "y = combined_data['label']\n",
    "label_encoders = {}\n",
    "for column in X.columns:\n",
    "    if X[column].dtype == 'object':\n",
    "        le = LabelEncoder()\n",
    "        X[column] = le.fit_transform(X[column])\n",
    "        label_encoders[column] = le\n",
    "\n",
    "# Encode target column if it is categorical\n",
    "if y.dtype == 'object':\n",
    "    target_le = LabelEncoder()\n",
    "    y = target_le.fit_transform(y)\n",
    "# 拆分训练集和测试集\n",
    "X_train, X_test, y_train, y_test = train_test_split(X, y, test_size=0.2, random_state=42)\n",
    "\n",
    "# 训练随机森林分类器\n",
    "clf = RandomForestClassifier(n_estimators=100, random_state=42)\n",
    "clf.fit(X_train, y_train)\n",
    "\n",
    "# 预测测试集\n",
    "y_pred = clf.predict(X_test)\n",
    "\n",
    "# 计算准确率\n",
    "accuracy = accuracy_score(y_test, y_pred) * 100\n",
    "\n",
    "print(f\"判别器准确率: {accuracy:.2f}%\")"
   ]
  }
 ],
 "metadata": {
  "kernelspec": {
   "display_name": "Python 3 (ipykernel)",
   "language": "python",
   "name": "python3"
  },
  "language_info": {
   "codemirror_mode": {
    "name": "ipython",
    "version": 3
   },
   "file_extension": ".py",
   "mimetype": "text/x-python",
   "name": "python",
   "nbconvert_exporter": "python",
   "pygments_lexer": "ipython3",
   "version": "3.11.7"
  }
 },
 "nbformat": 4,
 "nbformat_minor": 4
}
